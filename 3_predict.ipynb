{
 "cells": [
  {
   "cell_type": "markdown",
   "metadata": {},
   "source": [
    "# MVC project: Get the Data\n",
    "- [GitHub](https://github.com/romainmartinez/mvc)"
   ]
  },
  {
   "cell_type": "markdown",
   "metadata": {},
   "source": [
    "## Todo:\n",
    "- test other metrics\n",
    "- test set for each muscle (% for each muscle & mean + sd for all muscles)\n",
    "- article:\n",
    "    - w/ 5 tests and this method: 93%\n",
    "    - w/ 5 tests and old method: 85%\n",
    "    - to get same metrics without prediction, need 12 tests"
   ]
  },
  {
   "cell_type": "markdown",
   "metadata": {},
   "source": [
    "## 0. Setup"
   ]
  },
  {
   "cell_type": "code",
   "execution_count": 1,
   "metadata": {},
   "outputs": [],
   "source": [
    "# Common imports\n",
    "import pandas as pd\n",
    "import numpy as np\n",
    "import os\n",
    "import time\n",
    "\n",
    "# the 'mvc' directory contains functions used but not necessary to understand the story\n",
    "import mvc\n",
    "\n",
    "# Figures\n",
    "import matplotlib.pyplot as plt\n",
    "import seaborn as sns\n",
    "plt.rcParams['axes.labelsize'] = 14\n",
    "plt.rcParams['xtick.labelsize'] = 12\n",
    "plt.rcParams['ytick.labelsize'] = 12\n",
    "sns.set_context(\"paper\")\n",
    "\n",
    "# to make this notebook's output stable across runs\n",
    "RANDOM_SEED = 42\n",
    "np.random.seed(RANDOM_SEED)"
   ]
  },
  {
   "cell_type": "markdown",
   "metadata": {},
   "source": [
    "## 1. Load data"
   ]
  },
  {
   "cell_type": "code",
   "execution_count": 2,
   "metadata": {},
   "outputs": [
    {
     "data": {
      "text/html": [
       "<div>\n",
       "<style scoped>\n",
       "    .dataframe tbody tr th:only-of-type {\n",
       "        vertical-align: middle;\n",
       "    }\n",
       "\n",
       "    .dataframe tbody tr th {\n",
       "        vertical-align: top;\n",
       "    }\n",
       "\n",
       "    .dataframe thead th {\n",
       "        text-align: right;\n",
       "    }\n",
       "</style>\n",
       "<table border=\"1\" class=\"dataframe\">\n",
       "  <thead>\n",
       "    <tr style=\"text-align: right;\">\n",
       "      <th></th>\n",
       "      <th>upper trapezius</th>\n",
       "      <th>middle trapezius</th>\n",
       "      <th>lower trapezius</th>\n",
       "      <th>anterior deltoid</th>\n",
       "      <th>middle deltoid</th>\n",
       "      <th>posterior deltoid</th>\n",
       "      <th>pectoralis major</th>\n",
       "      <th>serratus anterior</th>\n",
       "      <th>latissimus dorsi</th>\n",
       "      <th>supraspinatus</th>\n",
       "      <th>...</th>\n",
       "      <th>8</th>\n",
       "      <th>9</th>\n",
       "      <th>10</th>\n",
       "      <th>11</th>\n",
       "      <th>12</th>\n",
       "      <th>13</th>\n",
       "      <th>14</th>\n",
       "      <th>15</th>\n",
       "      <th>max</th>\n",
       "      <th>best_test</th>\n",
       "    </tr>\n",
       "  </thead>\n",
       "  <tbody>\n",
       "    <tr>\n",
       "      <th>0</th>\n",
       "      <td>1</td>\n",
       "      <td>0</td>\n",
       "      <td>0</td>\n",
       "      <td>0</td>\n",
       "      <td>0</td>\n",
       "      <td>0</td>\n",
       "      <td>0</td>\n",
       "      <td>0</td>\n",
       "      <td>0</td>\n",
       "      <td>0</td>\n",
       "      <td>...</td>\n",
       "      <td>0.0</td>\n",
       "      <td>0.0</td>\n",
       "      <td>0.0</td>\n",
       "      <td>0.0</td>\n",
       "      <td>0.0</td>\n",
       "      <td>0.0</td>\n",
       "      <td>0.0</td>\n",
       "      <td>0.0</td>\n",
       "      <td>0.104184</td>\n",
       "      <td>4</td>\n",
       "    </tr>\n",
       "    <tr>\n",
       "      <th>1</th>\n",
       "      <td>0</td>\n",
       "      <td>1</td>\n",
       "      <td>0</td>\n",
       "      <td>0</td>\n",
       "      <td>0</td>\n",
       "      <td>0</td>\n",
       "      <td>0</td>\n",
       "      <td>0</td>\n",
       "      <td>0</td>\n",
       "      <td>0</td>\n",
       "      <td>...</td>\n",
       "      <td>0.0</td>\n",
       "      <td>0.0</td>\n",
       "      <td>0.0</td>\n",
       "      <td>0.0</td>\n",
       "      <td>0.0</td>\n",
       "      <td>0.0</td>\n",
       "      <td>0.0</td>\n",
       "      <td>0.0</td>\n",
       "      <td>0.135626</td>\n",
       "      <td>1</td>\n",
       "    </tr>\n",
       "    <tr>\n",
       "      <th>2</th>\n",
       "      <td>0</td>\n",
       "      <td>0</td>\n",
       "      <td>1</td>\n",
       "      <td>0</td>\n",
       "      <td>0</td>\n",
       "      <td>0</td>\n",
       "      <td>0</td>\n",
       "      <td>0</td>\n",
       "      <td>0</td>\n",
       "      <td>0</td>\n",
       "      <td>...</td>\n",
       "      <td>0.0</td>\n",
       "      <td>0.0</td>\n",
       "      <td>0.0</td>\n",
       "      <td>0.0</td>\n",
       "      <td>0.0</td>\n",
       "      <td>0.0</td>\n",
       "      <td>0.0</td>\n",
       "      <td>0.0</td>\n",
       "      <td>0.300761</td>\n",
       "      <td>2</td>\n",
       "    </tr>\n",
       "    <tr>\n",
       "      <th>3</th>\n",
       "      <td>0</td>\n",
       "      <td>0</td>\n",
       "      <td>0</td>\n",
       "      <td>1</td>\n",
       "      <td>0</td>\n",
       "      <td>0</td>\n",
       "      <td>0</td>\n",
       "      <td>0</td>\n",
       "      <td>0</td>\n",
       "      <td>0</td>\n",
       "      <td>...</td>\n",
       "      <td>0.0</td>\n",
       "      <td>0.0</td>\n",
       "      <td>0.0</td>\n",
       "      <td>0.0</td>\n",
       "      <td>0.0</td>\n",
       "      <td>0.0</td>\n",
       "      <td>0.0</td>\n",
       "      <td>0.0</td>\n",
       "      <td>0.262121</td>\n",
       "      <td>3</td>\n",
       "    </tr>\n",
       "    <tr>\n",
       "      <th>4</th>\n",
       "      <td>0</td>\n",
       "      <td>0</td>\n",
       "      <td>0</td>\n",
       "      <td>0</td>\n",
       "      <td>1</td>\n",
       "      <td>0</td>\n",
       "      <td>0</td>\n",
       "      <td>0</td>\n",
       "      <td>0</td>\n",
       "      <td>0</td>\n",
       "      <td>...</td>\n",
       "      <td>0.0</td>\n",
       "      <td>0.0</td>\n",
       "      <td>0.0</td>\n",
       "      <td>0.0</td>\n",
       "      <td>0.0</td>\n",
       "      <td>0.0</td>\n",
       "      <td>0.0</td>\n",
       "      <td>0.0</td>\n",
       "      <td>0.170468</td>\n",
       "      <td>2</td>\n",
       "    </tr>\n",
       "  </tbody>\n",
       "</table>\n",
       "<p>5 rows × 31 columns</p>\n",
       "</div>"
      ],
      "text/plain": [
       "   upper trapezius  middle trapezius  lower trapezius  anterior deltoid  \\\n",
       "0                1                 0                0                 0   \n",
       "1                0                 1                0                 0   \n",
       "2                0                 0                1                 0   \n",
       "3                0                 0                0                 1   \n",
       "4                0                 0                0                 0   \n",
       "\n",
       "   middle deltoid  posterior deltoid  pectoralis major  serratus anterior  \\\n",
       "0               0                  0                 0                  0   \n",
       "1               0                  0                 0                  0   \n",
       "2               0                  0                 0                  0   \n",
       "3               0                  0                 0                  0   \n",
       "4               1                  0                 0                  0   \n",
       "\n",
       "   latissimus dorsi  supraspinatus    ...        8    9   10   11   12   13  \\\n",
       "0                 0              0    ...      0.0  0.0  0.0  0.0  0.0  0.0   \n",
       "1                 0              0    ...      0.0  0.0  0.0  0.0  0.0  0.0   \n",
       "2                 0              0    ...      0.0  0.0  0.0  0.0  0.0  0.0   \n",
       "3                 0              0    ...      0.0  0.0  0.0  0.0  0.0  0.0   \n",
       "4                 0              0    ...      0.0  0.0  0.0  0.0  0.0  0.0   \n",
       "\n",
       "    14   15       max  best_test  \n",
       "0  0.0  0.0  0.104184          4  \n",
       "1  0.0  0.0  0.135626          1  \n",
       "2  0.0  0.0  0.300761          2  \n",
       "3  0.0  0.0  0.262121          3  \n",
       "4  0.0  0.0  0.170468          2  \n",
       "\n",
       "[5 rows x 31 columns]"
      ]
     },
     "execution_count": 2,
     "metadata": {},
     "output_type": "execute_result"
    }
   ],
   "source": [
    "df = pd.read_hdf('mvc.h5')\n",
    "df.head()"
   ]
  },
  {
   "cell_type": "markdown",
   "metadata": {},
   "source": [
    "### Drop tests\n",
    "*see '`2_select_test.ipynb`' notebook*"
   ]
  },
  {
   "cell_type": "code",
   "execution_count": 3,
   "metadata": {},
   "outputs": [],
   "source": [
    "# tests to drop according to previous analysis (2_select_test.ipynb)\n",
    "to_keep = np.array(['4', '3', '2', '0', '5']).astype(int)\n",
    "#to_keep = np.array(['4', '3', '2']).astype(int)\n",
    "to_drop = np.delete(np.arange(16), to_keep)\n",
    "df.drop(to_drop, axis=1, inplace=True)"
   ]
  },
  {
   "cell_type": "markdown",
   "metadata": {},
   "source": [
    "## 2. Split the data"
   ]
  },
  {
   "cell_type": "markdown",
   "metadata": {},
   "source": [
    "### Cross-Validation"
   ]
  },
  {
   "cell_type": "code",
   "execution_count": 4,
   "metadata": {},
   "outputs": [],
   "source": [
    "from sklearn.model_selection import cross_val_score"
   ]
  },
  {
   "cell_type": "code",
   "execution_count": 5,
   "metadata": {},
   "outputs": [],
   "source": [
    "def display_scores(scores):\n",
    "    # we rectify the scores because cross_val_score expect a utility function (greater is better)\n",
    "    # rather than a cost function (lower is better)\n",
    "    scores_rectified = np.sqrt(-scores)\n",
    "    print(f'Scores: {scores_rectified}')\n",
    "    print(f'Mean: {scores_rectified.mean()}')\n",
    "    print(f'STD: {scores_rectified.std()}')"
   ]
  },
  {
   "cell_type": "markdown",
   "metadata": {},
   "source": [
    "### Stratified Train Test Split"
   ]
  },
  {
   "cell_type": "code",
   "execution_count": 6,
   "metadata": {},
   "outputs": [],
   "source": [
    "from sklearn.model_selection import train_test_split"
   ]
  },
  {
   "cell_type": "code",
   "execution_count": 7,
   "metadata": {},
   "outputs": [],
   "source": [
    "X_labels = list(df.drop(['max', 'muscle', 'best_test'], axis=1).columns)\n",
    "y_labels = ['max']"
   ]
  },
  {
   "cell_type": "code",
   "execution_count": 8,
   "metadata": {},
   "outputs": [],
   "source": [
    "X_train, X_test, y_train, y_test = train_test_split(df[X_labels], df[y_labels], test_size=0.2, random_state=RANDOM_SEED,\n",
    "                                       stratify=df['muscle'])"
   ]
  },
  {
   "cell_type": "markdown",
   "metadata": {},
   "source": [
    "## 3. Select and Train Models"
   ]
  },
  {
   "cell_type": "code",
   "execution_count": 9,
   "metadata": {},
   "outputs": [],
   "source": [
    "# linear models\n",
    "from sklearn.linear_model import LinearRegression\n",
    "from sklearn.linear_model import SGDRegressor\n",
    "from sklearn.linear_model import Lasso\n",
    "from sklearn.linear_model import ElasticNet\n",
    "from sklearn.linear_model import Ridge\n",
    "# trees\n",
    "from sklearn.tree import DecisionTreeRegressor\n",
    "# ensemble\n",
    "from sklearn.ensemble import AdaBoostRegressor\n",
    "from sklearn.ensemble import BaggingRegressor\n",
    "from sklearn.ensemble import RandomForestRegressor\n",
    "from sklearn.ensemble import ExtraTreesRegressor\n",
    "from sklearn.ensemble import GradientBoostingRegressor\n",
    "# support vector\n",
    "from sklearn.svm import SVR\n",
    "# neighbors\n",
    "from sklearn.neighbors import KNeighborsRegressor"
   ]
  },
  {
   "cell_type": "code",
   "execution_count": 10,
   "metadata": {},
   "outputs": [],
   "source": [
    "models = {\n",
    "    # linear models\n",
    "    'lin_reg': LinearRegression(),\n",
    "    'sgd': SGDRegressor(random_state=RANDOM_SEED, max_iter=1000),\n",
    "    'lasso': Lasso(random_state=RANDOM_SEED),\n",
    "    'elasticnet': ElasticNet(random_state=RANDOM_SEED),\n",
    "    'ridge': Ridge(random_state=RANDOM_SEED),\n",
    "    # trees\n",
    "    'dtr': DecisionTreeRegressor(random_state=RANDOM_SEED),\n",
    "    # ensemble\n",
    "    'adaboost': AdaBoostRegressor(random_state=RANDOM_SEED),\n",
    "    'bagging': BaggingRegressor(random_state=RANDOM_SEED),\n",
    "    'randforest': RandomForestRegressor(random_state=RANDOM_SEED),\n",
    "    'extratree': ExtraTreesRegressor(random_state=RANDOM_SEED),\n",
    "    'gradientboosting': GradientBoostingRegressor(),\n",
    "    # support vector\n",
    "    'svr': SVR(kernel='linear'),\n",
    "    'Kneighbors': KNeighborsRegressor()\n",
    "}"
   ]
  },
  {
   "cell_type": "code",
   "execution_count": 11,
   "metadata": {},
   "outputs": [
    {
     "name": "stdout",
     "output_type": "stream",
     "text": [
      "LIN_REG\n",
      "execution time: 0.062 sec\n",
      "----------\n",
      "SGD\n",
      "execution time: 1.298 sec\n",
      "----------\n",
      "LASSO\n",
      "execution time: 0.017 sec\n",
      "----------\n",
      "ELASTICNET\n",
      "execution time: 0.017 sec\n",
      "----------\n",
      "RIDGE\n",
      "execution time: 0.021 sec\n",
      "----------\n",
      "DTR\n",
      "execution time: 0.062 sec\n",
      "----------\n",
      "ADABOOST\n",
      "execution time: 0.791 sec\n",
      "----------\n",
      "BAGGING\n",
      "execution time: 0.371 sec\n",
      "----------\n",
      "RANDFOREST\n",
      "execution time: 0.369 sec\n",
      "----------\n",
      "EXTRATREE\n",
      "execution time: 0.259 sec\n",
      "----------\n",
      "GRADIENTBOOSTING\n",
      "execution time: 0.742 sec\n",
      "----------\n",
      "SVR\n",
      "execution time: 0.313 sec\n",
      "----------\n",
      "KNEIGHBORS\n",
      "execution time: 0.034 sec\n",
      "----------\n"
     ]
    }
   ],
   "source": [
    "# compare models\n",
    "names, means, stds, times = [[] for i in range(4)]\n",
    "\n",
    "for name, model in models.items():\n",
    "    start = time.time()\n",
    "    scores = cross_val_score(model, X_train, np.ravel(y_train),\n",
    "                        scoring='neg_mean_squared_error', cv=10, n_jobs=-1)\n",
    "    end = time.time()\n",
    "    execution_time = end - start\n",
    "    \n",
    "    # we rectify the scores because cross_val_score expect a utility function (greater is better)\n",
    "    # rather than a cost function (lower is better)\n",
    "    scores_rectified = np.sqrt(-scores) \n",
    "    \n",
    "    names.append(name)\n",
    "    print(name.upper())\n",
    "    \n",
    "    means.append(scores_rectified.mean())\n",
    "    stds.append(scores_rectified.std())\n",
    "    \n",
    "    times.append(execution_time)\n",
    "    print(f'execution time: {execution_time:.3f} sec')\n",
    "    \n",
    "    print('-' * 10)"
   ]
  },
  {
   "cell_type": "code",
   "execution_count": 12,
   "metadata": {},
   "outputs": [],
   "source": [
    "metrics = pd.DataFrame({'mean': means,\n",
    "                        'std': stds,\n",
    "                        'time': times},\n",
    "                      index=names)\n",
    "metrics.sort_values(by='mean', inplace=True)"
   ]
  },
  {
   "cell_type": "code",
   "execution_count": 13,
   "metadata": {},
   "outputs": [
    {
     "data": {
      "image/png": "[encoded data removed]",
      "text/plain": [
       "<matplotlib.figure.Figure at 0x7f444733c5f8>"
      ]
     },
     "metadata": {},
     "output_type": "display_data"
    }
   ],
   "source": [
    "fig, (ax1, ax2) = plt.subplots(ncols=2, figsize=(15, 8))\n",
    "metrics['mean'].plot(kind='barh', ax=ax1, yerr=metrics['std'])\n",
    "ax1.set_xlabel('RMSE')\n",
    "metrics['time'].plot(kind='barh', ax=ax2)\n",
    "ax2.set_xlabel('sec')\n",
    "\n",
    "sns.despine(offset=10, trim=True)\n",
    "fig.tight_layout()\n",
    "plt.show()"
   ]
  },
  {
   "cell_type": "markdown",
   "metadata": {},
   "source": [
    "#### Outcomes\n",
    "- Ensemble methods looks very promising\n",
    "- top 3: _Extra Tree Regressor_, _Gradient Boosting_ and _Random Forest_\n",
    "- Stochastic Gradient Descent is the slowest, because the features are not scaled"
   ]
  },
  {
   "cell_type": "markdown",
   "metadata": {},
   "source": [
    "## 4. Fine-tune the model (_Extra Tree Regressor_, _Gradient Boosting_ and _Random Forest_)"
   ]
  },
  {
   "cell_type": "markdown",
   "metadata": {},
   "source": [
    "### Randomized Grid Search"
   ]
  },
  {
   "cell_type": "code",
   "execution_count": 14,
   "metadata": {},
   "outputs": [],
   "source": [
    "from sklearn.model_selection import RandomizedSearchCV\n",
    "from scipy.stats import randint, uniform"
   ]
  },
  {
   "cell_type": "code",
   "execution_count": 15,
   "metadata": {},
   "outputs": [],
   "source": [
    "param_distrib = {}\n",
    "\n",
    "# extra tree\n",
    "param_distrib['extratree'] = {\n",
    "    'n_estimators': randint(low=1, high=200),\n",
    "    'criterion': ['mse', 'mae'],\n",
    "    'max_features': randint(low=5, high=15),\n",
    "    'bootstrap': [True, False]\n",
    "}\n",
    "\n",
    "# gradient boosting\n",
    "param_distrib['gradientboosting'] = {\n",
    "    'loss': ['ls', 'lad', 'huber', 'quantile'],\n",
    "    'learning_rate': uniform(0.03, 0.4),\n",
    "    'n_estimators': randint(low=50, high=300)\n",
    "}\n",
    "\n",
    "# random forest\n",
    "param_distrib['randforest'] = {\n",
    "    'n_estimators': randint(low=50, high=300),\n",
    "    'criterion': ['mse', 'mae'],\n",
    "    'max_features': randint(low=5, high=15),\n",
    "    'bootstrap': [True, False]\n",
    "}"
   ]
  },
  {
   "cell_type": "code",
   "execution_count": 16,
   "metadata": {},
   "outputs": [
    {
     "name": "stdout",
     "output_type": "stream",
     "text": [
      "optimize EXTRATREE hyperparameters...\n",
      "best params: {'bootstrap': False, 'criterion': 'mse', 'max_features': 7, 'n_estimators': 49}\n",
      "execution time: 964.439 sec [1000 iterations]\n",
      "----------\n",
      "optimize GRADIENTBOOSTING hyperparameters...\n",
      "best params: {'learning_rate': 0.23404223152809012, 'loss': 'huber', 'n_estimators': 155}\n",
      "execution time: 166.222 sec [1000 iterations]\n",
      "----------\n",
      "optimize RANDFOREST hyperparameters...\n",
      "best params: {'bootstrap': False, 'criterion': 'mse', 'max_features': 7, 'n_estimators': 196}\n",
      "execution time: 1012.504 sec [1000 iterations]\n",
      "----------\n"
     ]
    }
   ],
   "source": [
    "n_iter = 1000\n",
    "\n",
    "random_search_model = {\n",
    "    'extratree': ExtraTreesRegressor(random_state=RANDOM_SEED),\n",
    "    'gradientboosting': GradientBoostingRegressor(),\n",
    "    'randforest': RandomForestRegressor(random_state=RANDOM_SEED) \n",
    "}\n",
    "\n",
    "random_search = {}\n",
    "\n",
    "for key, params in param_distrib.items():\n",
    "    print(f'optimize {key.upper()} hyperparameters...')\n",
    "    start = time.time()\n",
    "    random_search[key] = RandomizedSearchCV(random_search_model[key], param_distributions=params,\n",
    "                                   n_iter=n_iter, cv=5, random_state=RANDOM_SEED,\n",
    "                                   scoring='neg_mean_squared_error', n_jobs=-1)\n",
    "    \n",
    "    random_search[key].fit(X_train, np.ravel(y_train))\n",
    "    \n",
    "    end = time.time()\n",
    "    \n",
    "    print(f'best params: {random_search[key].best_params_}')\n",
    "    print(f'execution time: {end - start:.3f} sec [{n_iter} iterations]')\n",
    "    \n",
    "    print('-' * 10)"
   ]
  },
  {
   "cell_type": "markdown",
   "metadata": {},
   "source": [
    "## 5. Final predictions"
   ]
  },
  {
   "cell_type": "code",
   "execution_count": 23,
   "metadata": {},
   "outputs": [],
   "source": [
    "from sklearn.metrics import mean_squared_error\n",
    "from sklearn.metrics import explained_variance_score\n",
    "from sklearn.metrics import r2_score"
   ]
  },
  {
   "cell_type": "code",
   "execution_count": 98,
   "metadata": {},
   "outputs": [
    {
     "name": "stdout",
     "output_type": "stream",
     "text": [
      "evaluating EXTRATREE...\n",
      "final RMSE: 0.04929988685624174\n",
      "final explained variance: 0.9315686965696365\n",
      "final R2: 0.9314259335650785\n",
      "----------\n",
      "evaluating GRADIENTBOOSTING...\n",
      "final RMSE: 0.04929988685624174\n",
      "final explained variance: 0.9315686965696365\n",
      "final R2: 0.9314259335650785\n",
      "----------\n",
      "evaluating RANDFOREST...\n",
      "final RMSE: 0.04929988685624174\n",
      "final explained variance: 0.9315686965696365\n",
      "final R2: 0.9314259335650785\n",
      "----------\n"
     ]
    }
   ],
   "source": [
    "models, predictions = [[] for i in range(2)]\n",
    "\n",
    "for model in random_search.keys():\n",
    "    print(f'evaluating {model.upper()}...')\n",
    "    \n",
    "    final_model = random_search[model].best_estimator_.predict(X_test)\n",
    "    \n",
    "    final_rmse = np.sqrt(mean_squared_error(y_test, final_predictions))\n",
    "    print(f'final RMSE: {final_rmse}')\n",
    "    \n",
    "    final_variance = explained_variance_score(y_test, final_predictions)\n",
    "    print(f'final explained variance: {final_variance}')\n",
    "    \n",
    "    final_r2 = r2_score(y_test, final_predictions)\n",
    "    print(f'final R2: {final_r2}')\n",
    "    \n",
    "    models.extend([model] * X_test.shape[0])\n",
    "    predictions.extend(final_predictions)\n",
    "    \n",
    "    print('-' * 10)"
   ]
  },
  {
   "cell_type": "code",
   "execution_count": 192,
   "metadata": {},
   "outputs": [],
   "source": [
    "n_models = len(random_search.keys())\n",
    "\n",
    "# one-hot encoding to plain\n",
    "MUSCLES_COLUMNS = list(X_test.columns[:11])\n",
    "muscles = X_test[MUSCLES_COLUMNS].idxmax(1)\n",
    "\n",
    "final = pd.DataFrame({\n",
    "    'models': models,\n",
    "    'predictions': predictions,\n",
    "    'labels': np.tile(y_test.iloc[:, 0], 3),\n",
    "    'muscles': np.tile(muscles, 3)\n",
    "})"
   ]
  },
  {
   "cell_type": "code",
   "execution_count": 236,
   "metadata": {},
   "outputs": [
    {
     "data": {
      "text/plain": [
       "<matplotlib.figure.Figure at 0x7f4437585978>"
      ]
     },
     "metadata": {},
     "output_type": "display_data"
    },
    {
     "data": {
      "image/png": "[encoded data removed]",
      "text/plain": [
       "<matplotlib.figure.Figure at 0x7f444491be10>"
      ]
     },
     "metadata": {},
     "output_type": "display_data"
    }
   ],
   "source": [
    "params = dict(s=50, linewidth=.5, edgecolor=\"w\", alpha=.8)\n",
    "\n",
    "plt.figure(figsize=(45, 10))\n",
    "g = sns.FacetGrid(final, col='models', hue='muscles')\n",
    "g = (g.map(plt.scatter, 'labels', 'predictions', **params)).add_legend()\n",
    "plt.show()"
   ]
  },
  {
   "cell_type": "code",
   "execution_count": 220,
   "metadata": {},
   "outputs": [
    {
     "data": {
      "image/png": "[encoded data removed]",
      "text/plain": [
       "<matplotlib.figure.Figure at 0x7f4435155e80>"
      ]
     },
     "metadata": {},
     "output_type": "display_data"
    }
   ],
   "source": [
    "kws = dict(s=50, linewidth=.5, edgecolor=\"w\", alpha=.8)\n",
    "\n",
    "g = sns.FacetGrid(final, col='models', hue='muscles', palette=\"Set1\")\n",
    "g = (g.map(plt.scatter, 'labels', 'predictions', **kws).add_legend())\n",
    "plt.show()"
   ]
  },
  {
   "cell_type": "code",
   "execution_count": 202,
   "metadata": {},
   "outputs": [
    {
     "data": {
      "image/png": "[encoded data removed]",
      "text/plain": [
       "<matplotlib.figure.Figure at 0x7f4445c83668>"
      ]
     },
     "metadata": {},
     "output_type": "display_data"
    }
   ],
   "source": [
    "ti = MUSCLES_COLUMNS[6]\n",
    "\n",
    "baseline = (0, 1)\n",
    "plt.plot(baseline, 'r--', label='perfect prediction')\n",
    "\n",
    "xi = final[final['muscles'] == 'supraspinatus']\n",
    "\n",
    "plt.scatter(x=xi['labels'], y=xi['predictions'])\n",
    "\n",
    "plt.title(MUSCLES_COLUMNS[0])\n",
    "\n",
    "plt.legend()\n",
    "plt.tight_layout()\n",
    "plt.show()"
   ]
  }
 ],
 "metadata": {
  "kernelspec": {
   "display_name": "Python [conda env:mvc]",
   "language": "python",
   "name": "conda-env-mvc-py"
  },
  "language_info": {
   "codemirror_mode": {
    "name": "ipython",
    "version": 3
   },
   "file_extension": ".py",
   "mimetype": "text/x-python",
   "name": "python",
   "nbconvert_exporter": "python",
   "pygments_lexer": "ipython3",
   "version": "3.6.3"
  }
 },
 "nbformat": 4,
 "nbformat_minor": 2
}
