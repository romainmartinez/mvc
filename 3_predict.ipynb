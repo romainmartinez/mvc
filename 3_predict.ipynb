{
 "cells": [
  {
   "cell_type": "markdown",
   "metadata": {},
   "source": [
    "# MVC project: Get the Data\n",
    "- [GitHub](https://github.com/romainmartinez/mvc)"
   ]
  },
  {
   "cell_type": "markdown",
   "metadata": {},
   "source": [
    "## Todo:\n",
    "- plot model mean + sd\n",
    "- test other metrics\n",
    "- test set for each muscle (% for each muscle & mean + sd for all muscles)\n",
    "- article:\n",
    "    - w/ 5 tests and this method: 93%\n",
    "    - w/ 5 tests and old method: 85%\n",
    "    - to get same metrics without prediction, need 12 tests"
   ]
  },
  {
   "cell_type": "markdown",
   "metadata": {},
   "source": [
    "## 0. Setup"
   ]
  },
  {
   "cell_type": "code",
   "execution_count": 1,
   "metadata": {},
   "outputs": [],
   "source": [
    "# Common imports\n",
    "import pandas as pd\n",
    "import numpy as np\n",
    "import os\n",
    "import time\n",
    "\n",
    "# the 'mvc' directory contains functions used but not necessary to understand the story\n",
    "import mvc\n",
    "\n",
    "# Figures\n",
    "import matplotlib.pyplot as plt\n",
    "import seaborn as sns\n",
    "plt.rcParams['axes.labelsize'] = 14\n",
    "plt.rcParams['xtick.labelsize'] = 12\n",
    "plt.rcParams['ytick.labelsize'] = 12\n",
    "sns.set_context(\"paper\")\n",
    "\n",
    "# to make this notebook's output stable across runs\n",
    "RANDOM_SEED = 42\n",
    "np.random.seed(RANDOM_SEED)"
   ]
  },
  {
   "cell_type": "markdown",
   "metadata": {},
   "source": [
    "## 1. Load data"
   ]
  },
  {
   "cell_type": "code",
   "execution_count": 2,
   "metadata": {},
   "outputs": [
    {
     "data": {
      "text/html": [
       "<div>\n",
       "<style scoped>\n",
       "    .dataframe tbody tr th:only-of-type {\n",
       "        vertical-align: middle;\n",
       "    }\n",
       "\n",
       "    .dataframe tbody tr th {\n",
       "        vertical-align: top;\n",
       "    }\n",
       "\n",
       "    .dataframe thead th {\n",
       "        text-align: right;\n",
       "    }\n",
       "</style>\n",
       "<table border=\"1\" class=\"dataframe\">\n",
       "  <thead>\n",
       "    <tr style=\"text-align: right;\">\n",
       "      <th></th>\n",
       "      <th>upper trapezius</th>\n",
       "      <th>middle trapezius</th>\n",
       "      <th>lower trapezius</th>\n",
       "      <th>anterior deltoid</th>\n",
       "      <th>middle deltoid</th>\n",
       "      <th>posterior deltoid</th>\n",
       "      <th>pectoralis major</th>\n",
       "      <th>serratus anterior</th>\n",
       "      <th>latissimus dorsi</th>\n",
       "      <th>supraspinatus</th>\n",
       "      <th>...</th>\n",
       "      <th>8</th>\n",
       "      <th>9</th>\n",
       "      <th>10</th>\n",
       "      <th>11</th>\n",
       "      <th>12</th>\n",
       "      <th>13</th>\n",
       "      <th>14</th>\n",
       "      <th>15</th>\n",
       "      <th>max</th>\n",
       "      <th>best_test</th>\n",
       "    </tr>\n",
       "  </thead>\n",
       "  <tbody>\n",
       "    <tr>\n",
       "      <th>0</th>\n",
       "      <td>1</td>\n",
       "      <td>0</td>\n",
       "      <td>0</td>\n",
       "      <td>0</td>\n",
       "      <td>0</td>\n",
       "      <td>0</td>\n",
       "      <td>0</td>\n",
       "      <td>0</td>\n",
       "      <td>0</td>\n",
       "      <td>0</td>\n",
       "      <td>...</td>\n",
       "      <td>0.0</td>\n",
       "      <td>0.0</td>\n",
       "      <td>0.0</td>\n",
       "      <td>0.0</td>\n",
       "      <td>0.0</td>\n",
       "      <td>0.0</td>\n",
       "      <td>0.0</td>\n",
       "      <td>0.0</td>\n",
       "      <td>0.104184</td>\n",
       "      <td>4</td>\n",
       "    </tr>\n",
       "    <tr>\n",
       "      <th>1</th>\n",
       "      <td>0</td>\n",
       "      <td>1</td>\n",
       "      <td>0</td>\n",
       "      <td>0</td>\n",
       "      <td>0</td>\n",
       "      <td>0</td>\n",
       "      <td>0</td>\n",
       "      <td>0</td>\n",
       "      <td>0</td>\n",
       "      <td>0</td>\n",
       "      <td>...</td>\n",
       "      <td>0.0</td>\n",
       "      <td>0.0</td>\n",
       "      <td>0.0</td>\n",
       "      <td>0.0</td>\n",
       "      <td>0.0</td>\n",
       "      <td>0.0</td>\n",
       "      <td>0.0</td>\n",
       "      <td>0.0</td>\n",
       "      <td>0.135626</td>\n",
       "      <td>1</td>\n",
       "    </tr>\n",
       "    <tr>\n",
       "      <th>2</th>\n",
       "      <td>0</td>\n",
       "      <td>0</td>\n",
       "      <td>1</td>\n",
       "      <td>0</td>\n",
       "      <td>0</td>\n",
       "      <td>0</td>\n",
       "      <td>0</td>\n",
       "      <td>0</td>\n",
       "      <td>0</td>\n",
       "      <td>0</td>\n",
       "      <td>...</td>\n",
       "      <td>0.0</td>\n",
       "      <td>0.0</td>\n",
       "      <td>0.0</td>\n",
       "      <td>0.0</td>\n",
       "      <td>0.0</td>\n",
       "      <td>0.0</td>\n",
       "      <td>0.0</td>\n",
       "      <td>0.0</td>\n",
       "      <td>0.300761</td>\n",
       "      <td>2</td>\n",
       "    </tr>\n",
       "    <tr>\n",
       "      <th>3</th>\n",
       "      <td>0</td>\n",
       "      <td>0</td>\n",
       "      <td>0</td>\n",
       "      <td>1</td>\n",
       "      <td>0</td>\n",
       "      <td>0</td>\n",
       "      <td>0</td>\n",
       "      <td>0</td>\n",
       "      <td>0</td>\n",
       "      <td>0</td>\n",
       "      <td>...</td>\n",
       "      <td>0.0</td>\n",
       "      <td>0.0</td>\n",
       "      <td>0.0</td>\n",
       "      <td>0.0</td>\n",
       "      <td>0.0</td>\n",
       "      <td>0.0</td>\n",
       "      <td>0.0</td>\n",
       "      <td>0.0</td>\n",
       "      <td>0.262121</td>\n",
       "      <td>3</td>\n",
       "    </tr>\n",
       "    <tr>\n",
       "      <th>4</th>\n",
       "      <td>0</td>\n",
       "      <td>0</td>\n",
       "      <td>0</td>\n",
       "      <td>0</td>\n",
       "      <td>1</td>\n",
       "      <td>0</td>\n",
       "      <td>0</td>\n",
       "      <td>0</td>\n",
       "      <td>0</td>\n",
       "      <td>0</td>\n",
       "      <td>...</td>\n",
       "      <td>0.0</td>\n",
       "      <td>0.0</td>\n",
       "      <td>0.0</td>\n",
       "      <td>0.0</td>\n",
       "      <td>0.0</td>\n",
       "      <td>0.0</td>\n",
       "      <td>0.0</td>\n",
       "      <td>0.0</td>\n",
       "      <td>0.170468</td>\n",
       "      <td>2</td>\n",
       "    </tr>\n",
       "  </tbody>\n",
       "</table>\n",
       "<p>5 rows × 31 columns</p>\n",
       "</div>"
      ],
      "text/plain": [
       "   upper trapezius  middle trapezius  lower trapezius  anterior deltoid  \\\n",
       "0                1                 0                0                 0   \n",
       "1                0                 1                0                 0   \n",
       "2                0                 0                1                 0   \n",
       "3                0                 0                0                 1   \n",
       "4                0                 0                0                 0   \n",
       "\n",
       "   middle deltoid  posterior deltoid  pectoralis major  serratus anterior  \\\n",
       "0               0                  0                 0                  0   \n",
       "1               0                  0                 0                  0   \n",
       "2               0                  0                 0                  0   \n",
       "3               0                  0                 0                  0   \n",
       "4               1                  0                 0                  0   \n",
       "\n",
       "   latissimus dorsi  supraspinatus    ...        8    9   10   11   12   13  \\\n",
       "0                 0              0    ...      0.0  0.0  0.0  0.0  0.0  0.0   \n",
       "1                 0              0    ...      0.0  0.0  0.0  0.0  0.0  0.0   \n",
       "2                 0              0    ...      0.0  0.0  0.0  0.0  0.0  0.0   \n",
       "3                 0              0    ...      0.0  0.0  0.0  0.0  0.0  0.0   \n",
       "4                 0              0    ...      0.0  0.0  0.0  0.0  0.0  0.0   \n",
       "\n",
       "    14   15       max  best_test  \n",
       "0  0.0  0.0  0.104184          4  \n",
       "1  0.0  0.0  0.135626          1  \n",
       "2  0.0  0.0  0.300761          2  \n",
       "3  0.0  0.0  0.262121          3  \n",
       "4  0.0  0.0  0.170468          2  \n",
       "\n",
       "[5 rows x 31 columns]"
      ]
     },
     "execution_count": 2,
     "metadata": {},
     "output_type": "execute_result"
    }
   ],
   "source": [
    "df = pd.read_hdf('mvc.h5')\n",
    "df.head()"
   ]
  },
  {
   "cell_type": "markdown",
   "metadata": {},
   "source": [
    "### Drop tests\n",
    "*see '`2_select_test.ipynb`' notebook*"
   ]
  },
  {
   "cell_type": "code",
   "execution_count": 3,
   "metadata": {},
   "outputs": [],
   "source": [
    "# tests to drop according to previous analysis (2_select_test.ipynb)\n",
    "to_keep = np.array(['4', '3', '2', '0', '5']).astype(int)\n",
    "to_drop = np.delete(np.arange(16), to_keep)\n",
    "df.drop(to_drop, axis=1, inplace=True)"
   ]
  },
  {
   "cell_type": "markdown",
   "metadata": {},
   "source": [
    "## 2. Split the data"
   ]
  },
  {
   "cell_type": "markdown",
   "metadata": {},
   "source": [
    "### Cross-Validation"
   ]
  },
  {
   "cell_type": "code",
   "execution_count": 4,
   "metadata": {},
   "outputs": [],
   "source": [
    "from sklearn.model_selection import cross_val_score"
   ]
  },
  {
   "cell_type": "code",
   "execution_count": 5,
   "metadata": {},
   "outputs": [],
   "source": [
    "def display_scores(scores):\n",
    "    # we rectify the scores because cross_val_score expect a utility function (greater is better)\n",
    "    # rather than a cost function (lower is better)\n",
    "    scores_rectified = np.sqrt(-scores)\n",
    "    print(f'Scores: {scores_rectified}')\n",
    "    print(f'Mean: {scores_rectified.mean()}')\n",
    "    print(f'STD: {scores_rectified.std()}')"
   ]
  },
  {
   "cell_type": "markdown",
   "metadata": {},
   "source": [
    "### Stratified Train Test Split"
   ]
  },
  {
   "cell_type": "code",
   "execution_count": 6,
   "metadata": {},
   "outputs": [],
   "source": [
    "from sklearn.model_selection import train_test_split"
   ]
  },
  {
   "cell_type": "code",
   "execution_count": 7,
   "metadata": {},
   "outputs": [],
   "source": [
    "X_labels = list(df.drop(['max', 'muscle', 'best_test'], axis=1).columns)\n",
    "y_labels = ['max']"
   ]
  },
  {
   "cell_type": "code",
   "execution_count": 8,
   "metadata": {},
   "outputs": [],
   "source": [
    "X_train, X_test, y_train, y_test = train_test_split(df[X_labels], df[y_labels], test_size=0.2, random_state=RANDOM_SEED,\n",
    "                                       stratify=df['muscle'])"
   ]
  },
  {
   "cell_type": "markdown",
   "metadata": {},
   "source": [
    "## 3. Select and Train Models"
   ]
  },
  {
   "cell_type": "code",
   "execution_count": 9,
   "metadata": {},
   "outputs": [],
   "source": [
    "# linear models\n",
    "from sklearn.linear_model import LinearRegression\n",
    "from sklearn.linear_model import SGDRegressor\n",
    "from sklearn.linear_model import Lasso\n",
    "from sklearn.linear_model import ElasticNet\n",
    "from sklearn.linear_model import Ridge\n",
    "# trees\n",
    "from sklearn.tree import DecisionTreeRegressor\n",
    "# ensemble\n",
    "from sklearn.ensemble import AdaBoostRegressor\n",
    "from sklearn.ensemble import BaggingRegressor\n",
    "from sklearn.ensemble import RandomForestRegressor\n",
    "from sklearn.ensemble import ExtraTreesRegressor\n",
    "from sklearn.ensemble import GradientBoostingRegressor\n",
    "# support vector\n",
    "from sklearn.svm import SVR"
   ]
  },
  {
   "cell_type": "code",
   "execution_count": 10,
   "metadata": {},
   "outputs": [],
   "source": [
    "models = {\n",
    "    # linear models\n",
    "    'lin_reg': LinearRegression(),\n",
    "    'sgd': SGDRegressor(random_state=RANDOM_SEED, max_iter=1000),\n",
    "    'lasso': Lasso(random_state=RANDOM_SEED),\n",
    "    'elasticnet': ElasticNet(random_state=RANDOM_SEED),\n",
    "    'ridge': Ridge(random_state=RANDOM_SEED),\n",
    "    # trees\n",
    "    'dtr': DecisionTreeRegressor(random_state=RANDOM_SEED),\n",
    "    # ensemble\n",
    "    'adaboost': AdaBoostRegressor(random_state=RANDOM_SEED),\n",
    "    'bagging': BaggingRegressor(random_state=RANDOM_SEED),\n",
    "    'randforest': RandomForestRegressor(random_state=RANDOM_SEED),\n",
    "    'extratree': ExtraTreesRegressor(random_state=RANDOM_SEED),\n",
    "    'gradientboosting': GradientBoostingRegressor(),\n",
    "    # support vector\n",
    "    'svr': SVR(kernel='linear')\n",
    "}"
   ]
  },
  {
   "cell_type": "code",
   "execution_count": 30,
   "metadata": {},
   "outputs": [
    {
     "name": "stdout",
     "output_type": "stream",
     "text": [
      "LIN_REG\n",
      "execution time: 0.072 sec\n",
      "----------\n",
      "SGD\n",
      "execution time: 1.268 sec\n",
      "----------\n",
      "LASSO\n",
      "execution time: 0.017 sec\n",
      "----------\n",
      "ELASTICNET\n",
      "execution time: 0.017 sec\n",
      "----------\n",
      "RIDGE\n",
      "execution time: 0.019 sec\n",
      "----------\n",
      "DTR\n",
      "execution time: 0.062 sec\n",
      "----------\n",
      "ADABOOST\n",
      "execution time: 0.805 sec\n",
      "----------\n",
      "BAGGING\n",
      "execution time: 0.377 sec\n",
      "----------\n",
      "RANDFOREST\n",
      "execution time: 0.375 sec\n",
      "----------\n",
      "EXTRATREE\n",
      "execution time: 0.261 sec\n",
      "----------\n",
      "GRADIENTBOOSTING\n",
      "execution time: 0.791 sec\n",
      "----------\n",
      "SVR\n",
      "execution time: 0.318 sec\n",
      "----------\n"
     ]
    }
   ],
   "source": [
    "# compare models\n",
    "names, means, stds, times = [[] for i in range(4)]\n",
    "\n",
    "for name, model in models.items():\n",
    "    start = time.time()\n",
    "    scores = cross_val_score(model, X_train, np.ravel(y_train),\n",
    "                        scoring='neg_mean_squared_error', cv=10)\n",
    "    end = time.time()\n",
    "    execution_time = end - start\n",
    "    \n",
    "    # we rectify the scores because cross_val_score expect a utility function (greater is better)\n",
    "    # rather than a cost function (lower is better)\n",
    "    scores_rectified = np.sqrt(-scores) \n",
    "    \n",
    "    names.append(name)\n",
    "    print(name.upper())\n",
    "    \n",
    "    means.append(scores_rectified.mean())\n",
    "    stds.append(scores_rectified.std())\n",
    "    \n",
    "    times.append(execution_time)\n",
    "    print(f'execution time: {execution_time:.3f} sec')\n",
    "    \n",
    "    print('-' * 10)"
   ]
  },
  {
   "cell_type": "code",
   "execution_count": 31,
   "metadata": {},
   "outputs": [],
   "source": [
    "metrics = pd.DataFrame({'mean': means,\n",
    "                        'std': stds,\n",
    "                        'time': times},\n",
    "                      index=names)\n",
    "metrics.sort_values(by='mean', inplace=True)"
   ]
  },
  {
   "cell_type": "code",
   "execution_count": 32,
   "metadata": {},
   "outputs": [
    {
     "data": {
      "image/png": "[encoded data removed]",
      "text/plain": [
       "<matplotlib.figure.Figure at 0x7f3920617e80>"
      ]
     },
     "metadata": {},
     "output_type": "display_data"
    }
   ],
   "source": [
    "fig, (ax1, ax2) = plt.subplots(ncols=2, figsize=(15, 8))\n",
    "metrics['mean'].plot(kind='barh', ax=ax1)\n",
    "metrics['time'].plot(kind='barh', ax=ax2)\n",
    "\n",
    "sns.despine(offset=10, trim=True)\n",
    "fig.tight_layout()\n",
    "plt.show()"
   ]
  },
  {
   "cell_type": "markdown",
   "metadata": {},
   "source": [
    "## 4. Fine-tune the model"
   ]
  },
  {
   "cell_type": "markdown",
   "metadata": {},
   "source": [
    "### Grid search"
   ]
  },
  {
   "cell_type": "code",
   "execution_count": 24,
   "metadata": {},
   "outputs": [],
   "source": [
    "from sklearn.model_selection import GridSearchCV"
   ]
  },
  {
   "cell_type": "code",
   "execution_count": 25,
   "metadata": {},
   "outputs": [],
   "source": [
    "param_grid = [\n",
    "    # try 12 (3×4) combinations of hyperparameters\n",
    "    {'n_estimators': [3, 10, 30], 'max_features': [2, 4, 6, 8]},\n",
    "    # then try 6 (2×3) combinations with bootstrap set as False\n",
    "    {'bootstrap': [False], 'n_estimators': [3, 10], 'max_features': [2, 3, 4]},\n",
    "  ]"
   ]
  },
  {
   "cell_type": "code",
   "execution_count": 26,
   "metadata": {},
   "outputs": [],
   "source": [
    "forest_reg = RandomForestRegressor(random_state=RANDOM_SEED)"
   ]
  },
  {
   "cell_type": "code",
   "execution_count": 27,
   "metadata": {},
   "outputs": [],
   "source": [
    "grid_search = GridSearchCV(forest_reg, param_grid, cv=5,\n",
    "                          scoring='neg_mean_squared_error')"
   ]
  },
  {
   "cell_type": "code",
   "execution_count": 28,
   "metadata": {},
   "outputs": [
    {
     "data": {
      "text/plain": [
       "GridSearchCV(cv=5, error_score='raise',\n",
       "       estimator=RandomForestRegressor(bootstrap=True, criterion='mse', max_depth=None,\n",
       "           max_features='auto', max_leaf_nodes=None,\n",
       "           min_impurity_decrease=0.0, min_impurity_split=None,\n",
       "           min_samples_leaf=1, min_samples_split=2,\n",
       "           min_weight_fraction_leaf=0.0, n_estimators=10, n_jobs=1,\n",
       "           oob_score=False, random_state=42, verbose=0, warm_start=False),\n",
       "       fit_params=None, iid=True, n_jobs=1,\n",
       "       param_grid=[{'n_estimators': [3, 10, 30], 'max_features': [2, 4, 6, 8]}, {'bootstrap': [False], 'n_estimators': [3, 10], 'max_features': [2, 3, 4]}],\n",
       "       pre_dispatch='2*n_jobs', refit=True, return_train_score='warn',\n",
       "       scoring='neg_mean_squared_error', verbose=0)"
      ]
     },
     "execution_count": 28,
     "metadata": {},
     "output_type": "execute_result"
    }
   ],
   "source": [
    "grid_search.fit(X_train, np.ravel(y_train))"
   ]
  },
  {
   "cell_type": "code",
   "execution_count": 29,
   "metadata": {},
   "outputs": [
    {
     "data": {
      "text/plain": [
       "{'max_features': 6, 'n_estimators': 30}"
      ]
     },
     "execution_count": 29,
     "metadata": {},
     "output_type": "execute_result"
    }
   ],
   "source": [
    "grid_search.best_params_"
   ]
  },
  {
   "cell_type": "markdown",
   "metadata": {},
   "source": [
    "### Randomized Grid Search"
   ]
  },
  {
   "cell_type": "code",
   "execution_count": 30,
   "metadata": {},
   "outputs": [],
   "source": [
    "from sklearn.model_selection import RandomizedSearchCV\n",
    "from scipy.stats import randint"
   ]
  },
  {
   "cell_type": "code",
   "execution_count": 31,
   "metadata": {},
   "outputs": [],
   "source": [
    "param_distribs = {\n",
    "        'n_estimators': randint(low=1, high=200),\n",
    "        'max_features': randint(low=1, high=8),\n",
    "    }"
   ]
  },
  {
   "cell_type": "code",
   "execution_count": 32,
   "metadata": {},
   "outputs": [],
   "source": [
    "forest_reg = RandomForestRegressor(random_state=RANDOM_SEED)"
   ]
  },
  {
   "cell_type": "code",
   "execution_count": 33,
   "metadata": {},
   "outputs": [],
   "source": [
    "n_iter_search = 100\n",
    "random_search = RandomizedSearchCV(forest_reg, param_distributions=param_distribs,\n",
    "                                   n_iter=n_iter_search, cv=5, random_state=RANDOM_SEED,\n",
    "                                   scoring='neg_mean_squared_error')"
   ]
  },
  {
   "cell_type": "code",
   "execution_count": 34,
   "metadata": {},
   "outputs": [
    {
     "data": {
      "text/plain": [
       "RandomizedSearchCV(cv=5, error_score='raise',\n",
       "          estimator=RandomForestRegressor(bootstrap=True, criterion='mse', max_depth=None,\n",
       "           max_features='auto', max_leaf_nodes=None,\n",
       "           min_impurity_decrease=0.0, min_impurity_split=None,\n",
       "           min_samples_leaf=1, min_samples_split=2,\n",
       "           min_weight_fraction_leaf=0.0, n_estimators=10, n_jobs=1,\n",
       "           oob_score=False, random_state=42, verbose=0, warm_start=False),\n",
       "          fit_params=None, iid=True, n_iter=100, n_jobs=1,\n",
       "          param_distributions={'n_estimators': <scipy.stats._distn_infrastructure.rv_frozen object at 0x7fb629fb0128>, 'max_features': <scipy.stats._distn_infrastructure.rv_frozen object at 0x7fb629b09358>},\n",
       "          pre_dispatch='2*n_jobs', random_state=42, refit=True,\n",
       "          return_train_score='warn', scoring='neg_mean_squared_error',\n",
       "          verbose=0)"
      ]
     },
     "execution_count": 34,
     "metadata": {},
     "output_type": "execute_result"
    }
   ],
   "source": [
    "random_search.fit(X_train, np.ravel(y_train))"
   ]
  },
  {
   "cell_type": "code",
   "execution_count": 35,
   "metadata": {},
   "outputs": [
    {
     "data": {
      "text/plain": [
       "{'max_features': 7, 'n_estimators': 122}"
      ]
     },
     "execution_count": 35,
     "metadata": {},
     "output_type": "execute_result"
    }
   ],
   "source": [
    "random_search.best_params_"
   ]
  },
  {
   "cell_type": "code",
   "execution_count": 36,
   "metadata": {},
   "outputs": [
    {
     "name": "stdout",
     "output_type": "stream",
     "text": [
      "features importances:\n"
     ]
    },
    {
     "data": {
      "text/plain": [
       "[(0.32067511302534896, 4),\n",
       " (0.23153615955548479, 2),\n",
       " (0.1761616038487521, 3),\n",
       " (0.13100677311652298, 5),\n",
       " (0.11566527762236964, 0),\n",
       " (0.0049495887993664346, 'pectoralis major'),\n",
       " (0.0045823480752113042, 'posterior deltoid'),\n",
       " (0.0030864183334295115, 'upper trapezius'),\n",
       " (0.0028663927690543043, 'latissimus dorsi'),\n",
       " (0.0023957873041145221, 'subscapularis'),\n",
       " (0.0017586317018280417, 'infraspinatus'),\n",
       " (0.0016912597952494096, 'middle trapezius'),\n",
       " (0.0010474860350924253, 'serratus anterior'),\n",
       " (0.00095183741101077443, 'lower trapezius'),\n",
       " (0.00066010029122864596, 'middle deltoid'),\n",
       " (0.0005324016099468613, 'anterior deltoid'),\n",
       " (0.00043282070598939812, 'supraspinatus')]"
      ]
     },
     "execution_count": 36,
     "metadata": {},
     "output_type": "execute_result"
    }
   ],
   "source": [
    "features_importances = random_search.best_estimator_.feature_importances_\n",
    "print('features importances:')\n",
    "sorted(zip(features_importances, X_train.columns), reverse=True)"
   ]
  },
  {
   "cell_type": "code",
   "execution_count": 37,
   "metadata": {},
   "outputs": [],
   "source": [
    "from sklearn.metrics import mean_squared_error\n",
    "from sklearn.metrics import explained_variance_score\n",
    "from sklearn.metrics import r2_score"
   ]
  },
  {
   "cell_type": "code",
   "execution_count": 38,
   "metadata": {},
   "outputs": [
    {
     "name": "stdout",
     "output_type": "stream",
     "text": [
      "final rmse: 0.04848342331643601\n",
      "explained variance: 0.9338460409775506\n",
      "r2: 0.9336784584066791\n"
     ]
    }
   ],
   "source": [
    "final_model = random_search.best_estimator_\n",
    "\n",
    "final_predictions = final_model.predict(X_test)\n",
    "final_mse = mean_squared_error(y_test, final_predictions)\n",
    "final_rmse = np.sqrt(final_mse)\n",
    "print(f'final rmse: {final_rmse}')\n",
    "\n",
    "final_variance = explained_variance_score(y_test, final_predictions)\n",
    "print(f'explained variance: {final_variance}')\n",
    "\n",
    "final_r2 = r2_score(y_test, final_predictions)\n",
    "print(f'r2: {final_r2}')"
   ]
  }
 ],
 "metadata": {
  "kernelspec": {
   "display_name": "Python [conda env:mvc]",
   "language": "python",
   "name": "conda-env-mvc-py"
  },
  "language_info": {
   "codemirror_mode": {
    "name": "ipython",
    "version": 3
   },
   "file_extension": ".py",
   "mimetype": "text/x-python",
   "name": "python",
   "nbconvert_exporter": "python",
   "pygments_lexer": "ipython3",
   "version": "3.6.3"
  }
 },
 "nbformat": 4,
 "nbformat_minor": 2
}
