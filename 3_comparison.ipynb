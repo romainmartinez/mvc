{
 "cells": [
  {
   "cell_type": "markdown",
   "metadata": {
    "toc": true
   },
   "source": [
    "<h1>Table of Contents<span class=\"tocSkip\"></span></h1>\n",
    "<div class=\"toc\"><ul class=\"toc-item\"><li><span><a href=\"#1.-MVC-project-description\" data-toc-modified-id=\"1.-MVC-project-description-1\">1. MVC project description</a></span></li><li><span><a href=\"#2.-Setup\" data-toc-modified-id=\"2.-Setup-2\">2. Setup</a></span></li><li><span><a href=\"#3.-Load-the-data\" data-toc-modified-id=\"3.-Load-the-data-3\">3. Load the data</a></span></li><li><span><a href=\"#4.-The-Four-Normalization-Tests\" data-toc-modified-id=\"4.-The-Four-Normalization-Tests-4\">4. The Four Normalization Tests</a></span></li><li><span><a href=\"#5.-Dal-Maso-et-al.\" data-toc-modified-id=\"5.-Dal-Maso-et-al.-5\">5. Dal Maso et al.</a></span><ul class=\"toc-item\"><li><span><a href=\"#5.1.-As-published\" data-toc-modified-id=\"5.1.-As-published-5.1\">5.1. As published</a></span></li><li><span><a href=\"#5.2.-Implement-Dal-Maso-on-our-data\" data-toc-modified-id=\"5.2.-Implement-Dal-Maso-on-our-data-5.2\">5.2. Implement Dal Maso on our data</a></span></li></ul></li><li><span><a href=\"#6.-Our-model\" data-toc-modified-id=\"6.-Our-model-6\">6. Our model</a></span><ul class=\"toc-item\"><li><span><a href=\"#6.1.-Load-fitted-model\" data-toc-modified-id=\"6.1.-Load-fitted-model-6.1\">6.1. Load fitted model</a></span></li><li><span><a href=\"#6.2.-Normalize-data\" data-toc-modified-id=\"6.2.-Normalize-data-6.2\">6.2. Normalize data</a></span></li><li><span><a href=\"#6.3.-Get-predictions\" data-toc-modified-id=\"6.3.-Get-predictions-6.3\">6.3. Get predictions</a></span></li><li><span><a href=\"#6.4.-Denormalize-data\" data-toc-modified-id=\"6.4.-Denormalize-data-6.4\">6.4. Denormalize data</a></span></li></ul></li><li><span><a href=\"#7.-Statistics\" data-toc-modified-id=\"7.-Statistics-7\">7. Statistics</a></span><ul class=\"toc-item\"><li><span><a href=\"#7.1.-Compute-mape-for-each-method\" data-toc-modified-id=\"7.1.-Compute-mape-for-each-method-7.1\">7.1. Compute mape for each method</a></span></li><li><span><a href=\"#7.2.-Prepare-the-data-for-statistics\" data-toc-modified-id=\"7.2.-Prepare-the-data-for-statistics-7.2\">7.2. Prepare the data for statistics</a></span></li><li><span><a href=\"#7.3.-Non-parametric-T-test\" data-toc-modified-id=\"7.3.-Non-parametric-T-test-7.3\">7.3. Non-parametric T-test</a></span></li><li><span><a href=\"#8.-Figures\" data-toc-modified-id=\"8.-Figures-7.4\">8. Figures</a></span></li><li><span><a href=\"#8.1.-Mean-relative-error\" data-toc-modified-id=\"8.1.-Mean-relative-error-7.5\">8.1. Mean relative error</a></span></li><li><span><a href=\"#8.2.-Relative-error-for-each-muscle\" data-toc-modified-id=\"8.2.-Relative-error-for-each-muscle-7.6\">8.2. Relative error for each muscle</a></span><ul class=\"toc-item\"><li><span><a href=\"#8.2.1.-Without-NT4\" data-toc-modified-id=\"8.2.1.-Without-NT4-7.6.1\">8.2.1. Without NT4</a></span></li></ul></li></ul></li></ul></div>"
   ]
  },
  {
   "cell_type": "markdown",
   "metadata": {},
   "source": [
    "# 1. MVC project description\n",
    "\n",
    "**Links**\n",
    "- [github repo](https://github.com/romainmartinez/mvc)\n",
    "- [plotly figures](https://plot.ly/organize/romainmartinez:114)\n",
    "\n",
    "**Author**: _Romain Martinez._"
   ]
  },
  {
   "cell_type": "markdown",
   "metadata": {},
   "source": [
    "# 2. Setup"
   ]
  },
  {
   "cell_type": "code",
   "execution_count": 1,
   "metadata": {},
   "outputs": [
    {
     "data": {
      "text/html": [
       "<script>requirejs.config({paths: { 'plotly': ['https://cdn.plot.ly/plotly-latest.min']},});if(!window.Plotly) {{require(['plotly'],function(plotly) {window.Plotly=plotly;});}}</script>"
      ],
      "text/vnd.plotly.v1+html": [
       "<script>requirejs.config({paths: { 'plotly': ['https://cdn.plot.ly/plotly-latest.min']},});if(!window.Plotly) {{require(['plotly'],function(plotly) {window.Plotly=plotly;});}}</script>"
      ]
     },
     "metadata": {},
     "output_type": "display_data"
    }
   ],
   "source": [
    "# Common imports\n",
    "import pandas as pd\n",
    "import numpy as np\n",
    "\n",
    "# custom functions\n",
    "import mvc\n",
    "%load_ext autoreload\n",
    "%autoreload 2\n",
    "\n",
    "# Path\n",
    "from pathlib import Path\n",
    "PROJECT_PATH = Path('./')\n",
    "DATA_PATH = PROJECT_PATH / 'data'\n",
    "MODEL_PATH = PROJECT_PATH / 'model'\n",
    "RECOMMANDATIONS_PATH = MODEL_PATH / 'recommandations.pkl'\n",
    "\n",
    "# to make this notebook's output stable across runs\n",
    "RANDOM_SEED = 42\n",
    "np.random.seed(RANDOM_SEED)\n",
    "\n",
    "# Figures\n",
    "OFFLINE = True\n",
    "if OFFLINE:\n",
    "    import plotly.offline as py\n",
    "    py.init_notebook_mode(connected=True)\n",
    "else:\n",
    "    import plotly.plotly as py\n",
    "    \n",
    "import dill as pickle"
   ]
  },
  {
   "cell_type": "markdown",
   "metadata": {},
   "source": [
    "# 3. Load the data"
   ]
  },
  {
   "cell_type": "code",
   "execution_count": 2,
   "metadata": {},
   "outputs": [],
   "source": [
    "# load data\n",
    "df_wide = pd.read_feather(DATA_PATH / 'df_wide')\n",
    "# load conf\n",
    "with open(MODEL_PATH / 'conf.pkl', 'rb') as h:\n",
    "    conf = pickle.load(h)\n",
    "if RECOMMANDATIONS_PATH.is_file():\n",
    "    recommandations = joblib.load(RECOMMANDATIONS_PATH)\n",
    "else:\n",
    "    recommandations = {}"
   ]
  },
  {
   "cell_type": "code",
   "execution_count": 3,
   "metadata": {},
   "outputs": [],
   "source": [
    "comp_train = df_wide.drop(conf['NAN_IDX'], axis=0).iloc[conf['INDICES_TRAIN']]\n",
    "comp_test = df_wide.drop(conf['NAN_IDX'], axis=0).iloc[conf['INDICES_TEST']]"
   ]
  },
  {
   "cell_type": "markdown",
   "metadata": {},
   "source": [
    "# 4. The Four Normalization Tests\n",
    "- [Boettcher et al., 2008](http://onlinelibrary.wiley.com/doi/10.1002/jor.20675/abstract;jsessionid=D80ADF9D1CA41561A5AD7359D61416DA.f01t01) identified a unique combination of **4 MVIC tests** to normalize the EMG of 12 shoulder muscles"
   ]
  },
  {
   "cell_type": "code",
   "execution_count": 4,
   "metadata": {},
   "outputs": [],
   "source": [
    "if not RECOMMANDATIONS_PATH.is_file():\n",
    "    recommandations['nt4'] = {\n",
    "        0: ['11', '12', '13', '14'],\n",
    "        1: ['11', '12', '13', '14'],\n",
    "        2: ['11', '12', '13', '14'],\n",
    "        3: ['11', '12', '13', '14'],\n",
    "        4: ['11', '12', '13', '14'],\n",
    "        5: ['11', '12', '13', '14'],\n",
    "        6: ['11', '12', '13', '14'],\n",
    "        7: ['11', '12', '13', '14'],\n",
    "        8: ['11', '12', '13', '14'],\n",
    "        9: ['11', '12', '13', '14'],\n",
    "        10: ['11', '12', '13', '14'],\n",
    "        11: ['11', '12', '13', '14'],\n",
    "    }"
   ]
  },
  {
   "cell_type": "markdown",
   "metadata": {},
   "source": [
    "# 5. Dal Maso et al."
   ]
  },
  {
   "cell_type": "markdown",
   "metadata": {},
   "source": [
    "## 5.1. As published"
   ]
  },
  {
   "cell_type": "code",
   "execution_count": 5,
   "metadata": {},
   "outputs": [],
   "source": [
    "if not RECOMMANDATIONS_PATH.is_file():\n",
    "    recommandations['dalmaso'] = {\n",
    "        0: ['0', '2', '4', '11'],\n",
    "        1: ['1', '2', '7', '9', '11', '14'],\n",
    "        2: ['1', '2', '4', '10', '14'],\n",
    "        3: ['3', '4', '8', '11'],\n",
    "        4: ['2', '8', '11', '14'],\n",
    "        5: ['1', '5'],\n",
    "        6: ['7', '13'],\n",
    "        7: ['2', '4', '6', '13', '14'],\n",
    "        8: ['5', '6', '7', '10'],\n",
    "        9: ['0', '2', '4', '11'],\n",
    "        10: ['1', '2', '3', '14'],\n",
    "        11: ['1', '2', '5', '9', '10', '14']\n",
    "    }"
   ]
  },
  {
   "cell_type": "markdown",
   "metadata": {},
   "source": [
    "## 5.2. Implement Dal Maso on our data"
   ]
  },
  {
   "cell_type": "code",
   "execution_count": 6,
   "metadata": {},
   "outputs": [
    {
     "name": "stdout",
     "output_type": "stream",
     "text": [
      "UPPER TRAPEZIUS (140 points)\n",
      "\tno. of tests: 4\n",
      "\tbest set: ['0' '2' '3' '4']\n",
      "\tproportion: 95.00\n",
      "----------\n",
      "MIDDLE TRAPEZIUS (70 points)\n",
      "\tno. of tests: 6\n",
      "\tbest set: ['1' '2' '4' '8' '9' '14']\n",
      "\tproportion: 92.86\n",
      "----------\n",
      "LOWER TRAPEZIUS (122 points)\n",
      "\tno. of tests: 4\n",
      "\tbest set: ['1' '2' '4' '5']\n",
      "\tproportion: 90.16\n",
      "----------\n",
      "ANTERIOR DELTOID (122 points)\n",
      "\tno. of tests: 6\n",
      "\tbest set: ['0' '2' '3' '4' '14' '15']\n",
      "\tproportion: 93.44\n",
      "----------\n",
      "MIDDLE DELTOID (148 points)\n",
      "\tno. of tests: 5\n",
      "\tbest set: ['0' '2' '4' '8' '14']\n",
      "\tproportion: 91.22\n",
      "----------\n",
      "POSTERIOR DELTOID (148 points)\n",
      "\tno. of tests: 3\n",
      "\tbest set: ['1' '2' '5']\n",
      "\tproportion: 90.54\n",
      "----------\n",
      "PECTORALIS MAJOR (117 points)\n",
      "\tno. of tests: 2\n",
      "\tbest set: ['7' '13']\n",
      "\tproportion: 91.45\n",
      "----------\n",
      "SERRATUS ANTERIOR (100 points)\n",
      "\tno. of tests: 5\n",
      "\tbest set: ['0' '2' '3' '4' '14']\n",
      "\tproportion: 91.00\n",
      "----------\n",
      "LATISSIMUS DORSI (92 points)\n",
      "\tno. of tests: 3\n",
      "\tbest set: ['5' '6' '10']\n",
      "\tproportion: 94.57\n",
      "----------\n",
      "SUPRASPINATUS (105 points)\n",
      "\tno. of tests: 5\n",
      "\tbest set: ['0' '2' '3' '4' '5']\n",
      "\tproportion: 94.29\n",
      "----------\n",
      "INFRASPINATUS (105 points)\n",
      "\tno. of tests: 7\n",
      "\tbest set: ['2' '3' '5' '9' '10' '14' '15']\n",
      "\tproportion: 92.38\n",
      "----------\n",
      "SUBSCAPULARIS (105 points)\n",
      "\tno. of tests: 7\n",
      "\tbest set: ['2' '3' '4' '5' '9' '10' '14']\n",
      "\tproportion: 92.38\n",
      "----------\n"
     ]
    },
    {
     "ename": "TypeError",
     "evalue": "dump() missing 1 required positional argument: 'file'",
     "output_type": "error",
     "traceback": [
      "\u001b[0;31m---------------------------------------------------------------------------\u001b[0m",
      "\u001b[0;31mTypeError\u001b[0m                                 Traceback (most recent call last)",
      "\u001b[0;32m<ipython-input-6-860d50f57646>\u001b[0m in \u001b[0;36m<module>\u001b[0;34m()\u001b[0m\n\u001b[1;32m     37\u001b[0m                 \u001b[0;32mbreak\u001b[0m\u001b[0;34m\u001b[0m\u001b[0m\n\u001b[1;32m     38\u001b[0m     \u001b[0;32mwith\u001b[0m \u001b[0mopen\u001b[0m\u001b[0;34m(\u001b[0m\u001b[0mRECOMMANDATIONS_PATH\u001b[0m\u001b[0;34m,\u001b[0m \u001b[0;34m'wb'\u001b[0m\u001b[0;34m)\u001b[0m \u001b[0;32mas\u001b[0m \u001b[0mh\u001b[0m\u001b[0;34m:\u001b[0m\u001b[0;34m\u001b[0m\u001b[0m\n\u001b[0;32m---> 39\u001b[0;31m         \u001b[0mpickle\u001b[0m\u001b[0;34m.\u001b[0m\u001b[0mdump\u001b[0m\u001b[0;34m(\u001b[0m\u001b[0mh\u001b[0m\u001b[0;34m)\u001b[0m\u001b[0;34m\u001b[0m\u001b[0m\n\u001b[0m",
      "\u001b[0;31mTypeError\u001b[0m: dump() missing 1 required positional argument: 'file'"
     ]
    }
   ],
   "source": [
    "from itertools import combinations\n",
    "\n",
    "THRESHOLD = 90\n",
    "PERCENTILE = 90\n",
    "\n",
    "\n",
    "def compute_criterion(d, sets, thr):\n",
    "    proportion = np.ones((sets.shape[0]))\n",
    "    for i, iset in enumerate(sets):\n",
    "        maximal_above_thr = d[iset].max(axis=1) > d.max(axis=1) * (thr / 100)\n",
    "        proportion[i] = maximal_above_thr.sum() / d.shape[0] * 100\n",
    "\n",
    "    sorted_idx = np.argsort(proportion)\n",
    "    best_set = sets[sorted_idx][-1]\n",
    "    best_proportion = proportion[sorted_idx][-1]\n",
    "    return best_set, best_proportion\n",
    "\n",
    "\n",
    "if RECOMMANDATIONS_PATH.is_file():\n",
    "    print(recommandations['dalmaso_updated'])\n",
    "else:\n",
    "    recommandations['dalmaso_updated'] = {}\n",
    "    for imuscle in range(len(conf['MUSCLES'])):\n",
    "        current = comp_train[comp_train['muscle'] == imuscle].drop(\n",
    "            'muscle', axis=1)\n",
    "        print(f\"{conf['MUSCLES'][imuscle].upper()} ({current.shape[0]} points)\")\n",
    "        for ntests in range(1, len(conf['TESTS'])):\n",
    "            sets = np.array(list(combinations(conf['TESTS'], ntests))).astype(str)\n",
    "            best_set, best_proportion = compute_criterion(\n",
    "                current, sets, thr=THRESHOLD)\n",
    "            if best_proportion > PERCENTILE:\n",
    "                print(f'\\tno. of tests: {ntests}')\n",
    "                print(f'\\tbest set: {best_set}')\n",
    "                print(f'\\tproportion: {best_proportion:.2f}')\n",
    "                print('-' * 10)\n",
    "                recommandations['dalmaso_updated'][imuscle] = best_set\n",
    "                break\n",
    "    with open(RECOMMANDATIONS_PATH, 'wb') as h:\n",
    "        pickle.dump(h)"
   ]
  },
  {
   "cell_type": "markdown",
   "metadata": {},
   "source": [
    "# 6. Our model"
   ]
  },
  {
   "cell_type": "markdown",
   "metadata": {},
   "source": [
    "## 6.1. Load fitted model"
   ]
  },
  {
   "cell_type": "code",
   "execution_count": null,
   "metadata": {},
   "outputs": [],
   "source": [
    "from sklearn.externals import joblib\n",
    "# load our model\n",
    "model = joblib.load(MODEL_PATH / 'model.pkl')"
   ]
  },
  {
   "cell_type": "markdown",
   "metadata": {},
   "source": [
    "## 6.2. Normalize data"
   ]
  },
  {
   "cell_type": "code",
   "execution_count": null,
   "metadata": {},
   "outputs": [],
   "source": [
    "X_test, y_test, _, _ = mvc.ml.get_X_and_y(\n",
    "    comp_test,\n",
    "    test_col_str=conf['TEST_COLS'],\n",
    "    other_col_to_keep=conf['CATEGORICAL_COLS'],\n",
    "    remove_nans=True)\n",
    "\n",
    "to_normalize = np.in1d(conf['COL_NAMES'], conf['TEST_COLS'])\n",
    "ref = np.in1d(conf['COL_NAMES'], conf['TEST_REF'])\n",
    "\n",
    "normalizer = mvc.ml.Normalize(to_normalize, ref)\n",
    "X_test, y_test = normalizer.transform(X_test, y_test)"
   ]
  },
  {
   "cell_type": "markdown",
   "metadata": {},
   "source": [
    "## 6.3. Get predictions"
   ]
  },
  {
   "cell_type": "code",
   "execution_count": null,
   "metadata": {},
   "outputs": [],
   "source": [
    "y_pred = model.predict(X_test)"
   ]
  },
  {
   "cell_type": "markdown",
   "metadata": {},
   "source": [
    "## 6.4. Denormalize data"
   ]
  },
  {
   "cell_type": "code",
   "execution_count": null,
   "metadata": {},
   "outputs": [],
   "source": [
    "_, y_pred = normalizer.inverse_transform(y=y_pred)\n",
    "_, y_test = normalizer.inverse_transform(y=y_test)"
   ]
  },
  {
   "cell_type": "markdown",
   "metadata": {},
   "source": [
    "# 7. Statistics"
   ]
  },
  {
   "cell_type": "markdown",
   "metadata": {},
   "source": [
    "## 7.1. Compute mape for each method"
   ]
  },
  {
   "cell_type": "code",
   "execution_count": null,
   "metadata": {},
   "outputs": [],
   "source": [
    "methods = ['nt4', 'dalmaso', 'dalmaso_updated']\n",
    "error = {i: {} for i in methods}\n",
    "error['ml3'] = {}\n",
    "\n",
    "mape_lambda = lambda y_test, y_pred: (np.abs((y_test - y_pred) / y_test)) * 100\n",
    "\n",
    "for imuscle in set(comp_test['muscle'].astype(int)):\n",
    "    idx = np.argwhere(comp_test['muscle'] == imuscle).ravel()\n",
    "    current = comp_test.iloc[idx].drop('muscle', axis=1)\n",
    "    error['ml3'][conf['MUSCLES'][imuscle]] = mape_lambda(\n",
    "        y_test[idx], y_pred[idx])\n",
    "    for imethod in methods:\n",
    "        error[imethod][conf['MUSCLES'][imuscle]] = mape_lambda(\n",
    "            current.max(axis=1),\n",
    "            current[recommandations[imethod][imuscle]].max(axis=1)).values\n",
    "\n",
    "for imethod in error.keys():\n",
    "    if imethod == 'ml3':\n",
    "        error[imethod]['all'] = mape_lambda(y_test, y_pred)\n",
    "    else:\n",
    "        error[imethod]['all'] = mape_lambda(\n",
    "            comp_test.drop('muscle', axis=1).max(axis=1),\n",
    "            comp_test.drop(\n",
    "                'muscle',\n",
    "                axis=1)[recommandations[imethod][imuscle]].max(axis=1)).values"
   ]
  },
  {
   "cell_type": "markdown",
   "metadata": {},
   "source": [
    "## 7.2. Prepare the data for statistics"
   ]
  },
  {
   "cell_type": "code",
   "execution_count": null,
   "metadata": {},
   "outputs": [],
   "source": [
    "from sklearn.preprocessing import Imputer\n",
    "\n",
    "stats = {i: [] for i in ['method', 'muscle', 'obs', 'y']}\n",
    "descriptions = {i: [] for i in ['method', 'muscle']}\n",
    "\n",
    "for imethod, method in enumerate(error.keys()):\n",
    "    descriptions['method'].append(method)\n",
    "    for imuscle, muscle in enumerate(error[method].keys()):\n",
    "        if not muscle in descriptions['muscle']:\n",
    "            descriptions['muscle'].append(muscle)\n",
    "        error[method][muscle] = Imputer(\n",
    "            strategy='median',\n",
    "            axis=0).fit_transform(error[method][muscle].reshape(-1, 1))\n",
    "        for iobs, obs in enumerate(error[method][muscle]):\n",
    "            stats['method'].append(imethod)\n",
    "            stats['muscle'].append(imuscle)\n",
    "            stats['obs'].append(iobs)\n",
    "            stats['y'].append(obs)\n",
    "stats = {key: np.array(value).ravel() for key, value in stats.items()}"
   ]
  },
  {
   "cell_type": "markdown",
   "metadata": {},
   "source": [
    "## 7.3. Non-parametric T-test"
   ]
  },
  {
   "cell_type": "code",
   "execution_count": null,
   "metadata": {},
   "outputs": [],
   "source": [
    "import spm1d\n",
    "\n",
    "alpha = 0.05\n",
    "iterations = 10000\n",
    "\n",
    "ttest = {}\n",
    "\n",
    "for icombination in combinations(set(stats['method']), 2):\n",
    "    print(\n",
    "        f\"{descriptions['method'][icombination[0]].upper()} vs. {descriptions['method'][icombination[1]].upper()}\"\n",
    "    )\n",
    "    ttest[icombination] = {}\n",
    "    for imuscle in set(stats['muscle']):\n",
    "        a = stats['y'][np.logical_and(stats['method'] == icombination[0],\n",
    "                                      stats['muscle'] == imuscle)]\n",
    "        b = stats['y'][np.logical_and(stats['method'] == icombination[1],\n",
    "                                      stats['muscle'] == imuscle)]\n",
    "\n",
    "        t = spm1d.stats.nonparam.ttest_paired(a, b)\n",
    "        ti = t.inference(alpha=alpha, iterations=iterations)\n",
    "        if ti.h0reject:\n",
    "            ttest[icombination][imuscle] = ti"
   ]
  },
  {
   "cell_type": "code",
   "execution_count": null,
   "metadata": {},
   "outputs": [],
   "source": [
    "df_ttest = {}\n",
    "for icomb in ttest.keys():\n",
    "    df_ttest[f'{descriptions[\"method\"][icomb[0]]}-{descriptions[\"method\"][icomb[1]]}'] = {}\n",
    "    for imuscle, imuscle_name in enumerate(descriptions['muscle']):\n",
    "        if imuscle not in ttest[icomb]:\n",
    "            v = np.nan\n",
    "        else:\n",
    "            v = ttest[icomb][imuscle].p\n",
    "        df_ttest[f'{descriptions[\"method\"][icomb[0]]}-{descriptions[\"method\"][icomb[1]]}'][imuscle_name] = v\n",
    "df_ttest = pd.DataFrame(df_ttest)"
   ]
  },
  {
   "cell_type": "code",
   "execution_count": null,
   "metadata": {},
   "outputs": [],
   "source": [
    "pd.cut(\n",
    "    df_ttest.stack(),\n",
    "    bins=[-np.inf, 0.0001, 0.001, 0.01, 0.05, np.inf],\n",
    "    labels=['****', '***', '**', '*', 'ns']\n",
    ").unstack()"
   ]
  },
  {
   "cell_type": "code",
   "execution_count": null,
   "metadata": {},
   "outputs": [],
   "source": [
    "ttest_report = mvc.plot.regression_report(df_ttest)\n",
    "py.iplot(ttest_report, filename='mvc/ttest_report')"
   ]
  },
  {
   "cell_type": "markdown",
   "metadata": {},
   "source": [
    "## 8. Figures"
   ]
  },
  {
   "cell_type": "markdown",
   "metadata": {},
   "source": [
    "## 8.1. Mean relative error"
   ]
  },
  {
   "cell_type": "code",
   "execution_count": null,
   "metadata": {},
   "outputs": [],
   "source": [
    "error_box_all = mvc.plot.compare_methods(\n",
    "    stats,\n",
    "    descriptions,\n",
    "    included_muscle=12,\n",
    "    title='Mean relative error',\n",
    "    ytitle='MAPE (%)')\n",
    "py.iplot(error_box_all, filename='mvc/error_box_all')"
   ]
  },
  {
   "cell_type": "markdown",
   "metadata": {},
   "source": [
    "## 8.2. Relative error for each muscle"
   ]
  },
  {
   "cell_type": "code",
   "execution_count": null,
   "metadata": {},
   "outputs": [],
   "source": [
    "error_box = mvc.plot.compare_methods(\n",
    "    stats,\n",
    "    descriptions,\n",
    "    included_muscle=np.arange(12),\n",
    "    title='Relative error for each muscle',\n",
    "    ytitle='MAPE (%)')\n",
    "py.iplot(error_box, filename='mvc/error_box')"
   ]
  },
  {
   "cell_type": "markdown",
   "metadata": {},
   "source": [
    "### 8.2.1. Without NT4"
   ]
  },
  {
   "cell_type": "code",
   "execution_count": null,
   "metadata": {},
   "outputs": [],
   "source": [
    "error_box_without_nt4 = mvc.plot.compare_methods(\n",
    "    stats,\n",
    "    descriptions,\n",
    "    included_muscle=np.arange(12),\n",
    "    included_methods=[1, 2, 3],\n",
    "    title='Relative error for each muscle (without NT4)',\n",
    "    ytitle='MAPE (%)')\n",
    "py.iplot(error_box_without_nt4, filename='mvc/error_box_without_nt4')"
   ]
  }
 ],
 "metadata": {
  "kernelspec": {
   "display_name": "mvc",
   "language": "python",
   "name": "mvc"
  },
  "language_info": {
   "codemirror_mode": {
    "name": "ipython",
    "version": 3
   },
   "file_extension": ".py",
   "mimetype": "text/x-python",
   "name": "python",
   "nbconvert_exporter": "python",
   "pygments_lexer": "ipython3",
   "version": "3.6.4"
  },
  "toc": {
   "nav_menu": {},
   "number_sections": false,
   "sideBar": true,
   "skip_h1_title": false,
   "title_cell": "Table of Contents",
   "title_sidebar": "Contents",
   "toc_cell": true,
   "toc_position": {
    "height": "calc(100% - 180px)",
    "left": "10px",
    "top": "150px",
    "width": "253px"
   },
   "toc_section_display": true,
   "toc_window_display": true
  }
 },
 "nbformat": 4,
 "nbformat_minor": 2
}
