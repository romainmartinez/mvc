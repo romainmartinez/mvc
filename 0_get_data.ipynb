{
 "cells": [
  {
   "cell_type": "markdown",
   "metadata": {
    "toc": true
   },
   "source": [
    "<h1>Table of Contents<span class=\"tocSkip\"></span></h1>\n",
    "<div class=\"toc\"><ul class=\"toc-item\"><li><span><a href=\"#1.-MVC-project-description\" data-toc-modified-id=\"1.-MVC-project-description-1\">1. MVC project description</a></span></li><li><span><a href=\"#2.-Setup\" data-toc-modified-id=\"2.-Setup-2\">2. Setup</a></span></li><li><span><a href=\"#3.-Get-the-data\" data-toc-modified-id=\"3.-Get-the-data-3\">3. Get the data</a></span><ul class=\"toc-item\"><li><span><a href=\"#3.1.-From-matlab-to-dict\" data-toc-modified-id=\"3.1.-From-matlab-to-dict-3.1\">3.1. From matlab to dict</a></span></li><li><span><a href=\"#3.2.-From-dict-to-pandas\" data-toc-modified-id=\"3.2.-From-dict-to-pandas-3.2\">3.2. From dict to pandas</a></span></li></ul></li><li><span><a href=\"#4.-Save-the-data\" data-toc-modified-id=\"4.-Save-the-data-4\">4. Save the data</a></span></li></ul></div>"
   ]
  },
  {
   "cell_type": "markdown",
   "metadata": {},
   "source": [
    "# 1. MVC project description\n",
    "\n",
    "**Links**\n",
    "- [github repo](https://github.com/romainmartinez/mvc)\n",
    "- [plotly figures](https://plot.ly/organize/romainmartinez:114)\n",
    "\n",
    "**Author**: _Romain Martinez._"
   ]
  },
  {
   "cell_type": "markdown",
   "metadata": {},
   "source": [
    "# 2. Setup"
   ]
  },
  {
   "cell_type": "code",
   "execution_count": 1,
   "metadata": {},
   "outputs": [],
   "source": [
    "# Common imports\n",
    "import scipy.io as sio\n",
    "import pandas as pd\n",
    "import numpy as np\n",
    "import json\n",
    "\n",
    "# Path\n",
    "from pathlib import Path\n",
    "PROJECT_PATH = Path('./')\n",
    "DATA_PATH = PROJECT_PATH / 'data'"
   ]
  },
  {
   "cell_type": "markdown",
   "metadata": {},
   "source": [
    "# 3. Get the data"
   ]
  },
  {
   "cell_type": "markdown",
   "metadata": {},
   "source": [
    "## 3.1. From matlab to dict"
   ]
  },
  {
   "cell_type": "code",
   "execution_count": 2,
   "metadata": {},
   "outputs": [],
   "source": [
    "def load_data(data_path, data_format, normalize=False, verbose=False):\n",
    "    mat = {}\n",
    "    data = {key: [] for key in ('datasets', 'participants', 'muscles', 'tests', 'mvc')}\n",
    "    count = -1\n",
    "    dataset_names = []\n",
    "    \n",
    "    for idataset, ifile in enumerate(data_path.iterdir()):\n",
    "        if ifile.parts[-1].endswith(f'{data_format}.mat'):\n",
    "            dataset = ifile.parts[-1].replace('_only_max.mat', '').replace('MVE_Data_', '')\n",
    "            \n",
    "            if dataset not in dataset_names:\n",
    "                dataset_names.append(dataset)\n",
    "            \n",
    "            mat[dataset] = sio.loadmat(ifile)['MVE']\n",
    "            n_participants = mat[dataset].shape[0]\n",
    "            if verbose: print(f\"project '{dataset}' ({n_participants} participants)\")\n",
    "            \n",
    "            for iparticipant in range(mat[dataset].shape[0]):\n",
    "                count += 1\n",
    "                for imuscle in range(mat[dataset].shape[1]):\n",
    "                    max_mvc = np.nanmax(mat[dataset][iparticipant, imuscle, :])\n",
    "                    for itest in range(mat[dataset].shape[2]):\n",
    "                        data['participants'].append(count)\n",
    "                        data['datasets'].append(idataset)\n",
    "                        data['muscles'].append(imuscle)\n",
    "                        data['tests'].append(itest)\n",
    "                        if normalize:\n",
    "                            data['mvc'].append(mat[dataset][iparticipant, imuscle, itest] * 100 / max_mvc)\n",
    "                        else:\n",
    "                            data['mvc'].append(mat[dataset][iparticipant, imuscle, itest])\n",
    "                            \n",
    "    if verbose: print(f'\\n\\ttotal participants: {count}')\n",
    "    return data, dataset_names"
   ]
  },
  {
   "cell_type": "code",
   "execution_count": 3,
   "metadata": {},
   "outputs": [
    {
     "name": "stdout",
     "output_type": "stream",
     "text": [
      "project 'Landry2016' (15 participants)\n",
      "project 'Landry2015_2' (11 participants)\n",
      "project 'Landry2015_1' (14 participants)\n",
      "project 'Violon' (10 participants)\n",
      "project 'Yoann_2015' (22 participants)\n",
      "project 'Landry2013' (21 participants)\n",
      "project 'Landry2012' (18 participants)\n",
      "project 'Romain2017' (32 participants)\n",
      "project 'Tennis' (16 participants)\n",
      "project 'Patrick_2013' (16 participants)\n",
      "project 'Sylvain_2015' (10 participants)\n",
      "\n",
      "\ttotal participants: 184\n"
     ]
    },
    {
     "name": "stderr",
     "output_type": "stream",
     "text": [
      "/home/romain/.local/share/virtualenvs/mvc-kMH3Oq29/lib/python3.6/site-packages/ipykernel_launcher.py:21: RuntimeWarning: All-NaN slice encountered\n"
     ]
    }
   ],
   "source": [
    "DATA_FORMAT = 'only_max'\n",
    "data, DATASET_NAMES = load_data(\n",
    "    data_path=DATA_PATH,\n",
    "    data_format=DATA_FORMAT,\n",
    "    normalize=False,\n",
    "    verbose=True)\n",
    "normalized, _ = load_data(\n",
    "    data_path=DATA_PATH, data_format=DATA_FORMAT, normalize=True)"
   ]
  },
  {
   "cell_type": "markdown",
   "metadata": {},
   "source": [
    "## 3.2. From dict to pandas"
   ]
  },
  {
   "cell_type": "code",
   "execution_count": 4,
   "metadata": {},
   "outputs": [
    {
     "name": "stdout",
     "output_type": "stream",
     "text": [
      "dataset shape = (18465, 5)\n"
     ]
    },
    {
     "data": {
      "text/html": [
       "<div>\n",
       "<style scoped>\n",
       "    .dataframe tbody tr th:only-of-type {\n",
       "        vertical-align: middle;\n",
       "    }\n",
       "\n",
       "    .dataframe tbody tr th {\n",
       "        vertical-align: top;\n",
       "    }\n",
       "\n",
       "    .dataframe thead th {\n",
       "        text-align: right;\n",
       "    }\n",
       "</style>\n",
       "<table border=\"1\" class=\"dataframe\">\n",
       "  <thead>\n",
       "    <tr style=\"text-align: right;\">\n",
       "      <th></th>\n",
       "      <th>dataset</th>\n",
       "      <th>muscle</th>\n",
       "      <th>mvc</th>\n",
       "      <th>participant</th>\n",
       "      <th>test</th>\n",
       "    </tr>\n",
       "  </thead>\n",
       "  <tbody>\n",
       "    <tr>\n",
       "      <th>2</th>\n",
       "      <td>0</td>\n",
       "      <td>0</td>\n",
       "      <td>0.127825</td>\n",
       "      <td>0</td>\n",
       "      <td>2</td>\n",
       "    </tr>\n",
       "    <tr>\n",
       "      <th>3</th>\n",
       "      <td>0</td>\n",
       "      <td>0</td>\n",
       "      <td>0.124255</td>\n",
       "      <td>0</td>\n",
       "      <td>3</td>\n",
       "    </tr>\n",
       "    <tr>\n",
       "      <th>4</th>\n",
       "      <td>0</td>\n",
       "      <td>0</td>\n",
       "      <td>0.146927</td>\n",
       "      <td>0</td>\n",
       "      <td>4</td>\n",
       "    </tr>\n",
       "    <tr>\n",
       "      <th>5</th>\n",
       "      <td>0</td>\n",
       "      <td>0</td>\n",
       "      <td>0.041583</td>\n",
       "      <td>0</td>\n",
       "      <td>5</td>\n",
       "    </tr>\n",
       "    <tr>\n",
       "      <th>8</th>\n",
       "      <td>0</td>\n",
       "      <td>0</td>\n",
       "      <td>0.162206</td>\n",
       "      <td>0</td>\n",
       "      <td>8</td>\n",
       "    </tr>\n",
       "  </tbody>\n",
       "</table>\n",
       "</div>"
      ],
      "text/plain": [
       "   dataset  muscle       mvc  participant  test\n",
       "2        0       0  0.127825            0     2\n",
       "3        0       0  0.124255            0     3\n",
       "4        0       0  0.146927            0     4\n",
       "5        0       0  0.041583            0     5\n",
       "8        0       0  0.162206            0     8"
      ]
     },
     "execution_count": 4,
     "metadata": {},
     "output_type": "execute_result"
    }
   ],
   "source": [
    "df_tidy = pd.DataFrame({\n",
    "    'participant': data['participants'],\n",
    "    'dataset': data['datasets'],\n",
    "    'muscle': data['muscles'],\n",
    "    'test': data['tests'],\n",
    "    'mvc': data['mvc']\n",
    "}).dropna()\n",
    "\n",
    "print(f'dataset shape = {df_tidy.shape}')\n",
    "df_tidy.head()"
   ]
  },
  {
   "cell_type": "code",
   "execution_count": 5,
   "metadata": {},
   "outputs": [
    {
     "name": "stdout",
     "output_type": "stream",
     "text": [
      "dataset shape = (18465, 5)\n"
     ]
    },
    {
     "data": {
      "text/html": [
       "<div>\n",
       "<style scoped>\n",
       "    .dataframe tbody tr th:only-of-type {\n",
       "        vertical-align: middle;\n",
       "    }\n",
       "\n",
       "    .dataframe tbody tr th {\n",
       "        vertical-align: top;\n",
       "    }\n",
       "\n",
       "    .dataframe thead th {\n",
       "        text-align: right;\n",
       "    }\n",
       "</style>\n",
       "<table border=\"1\" class=\"dataframe\">\n",
       "  <thead>\n",
       "    <tr style=\"text-align: right;\">\n",
       "      <th></th>\n",
       "      <th>dataset</th>\n",
       "      <th>muscle</th>\n",
       "      <th>mvc</th>\n",
       "      <th>participant</th>\n",
       "      <th>test</th>\n",
       "    </tr>\n",
       "  </thead>\n",
       "  <tbody>\n",
       "    <tr>\n",
       "      <th>2</th>\n",
       "      <td>0</td>\n",
       "      <td>0</td>\n",
       "      <td>78.803940</td>\n",
       "      <td>0</td>\n",
       "      <td>2</td>\n",
       "    </tr>\n",
       "    <tr>\n",
       "      <th>3</th>\n",
       "      <td>0</td>\n",
       "      <td>0</td>\n",
       "      <td>76.603025</td>\n",
       "      <td>0</td>\n",
       "      <td>3</td>\n",
       "    </tr>\n",
       "    <tr>\n",
       "      <th>4</th>\n",
       "      <td>0</td>\n",
       "      <td>0</td>\n",
       "      <td>90.580569</td>\n",
       "      <td>0</td>\n",
       "      <td>4</td>\n",
       "    </tr>\n",
       "    <tr>\n",
       "      <th>5</th>\n",
       "      <td>0</td>\n",
       "      <td>0</td>\n",
       "      <td>25.635654</td>\n",
       "      <td>0</td>\n",
       "      <td>5</td>\n",
       "    </tr>\n",
       "    <tr>\n",
       "      <th>8</th>\n",
       "      <td>0</td>\n",
       "      <td>0</td>\n",
       "      <td>100.000000</td>\n",
       "      <td>0</td>\n",
       "      <td>8</td>\n",
       "    </tr>\n",
       "  </tbody>\n",
       "</table>\n",
       "</div>"
      ],
      "text/plain": [
       "   dataset  muscle         mvc  participant  test\n",
       "2        0       0   78.803940            0     2\n",
       "3        0       0   76.603025            0     3\n",
       "4        0       0   90.580569            0     4\n",
       "5        0       0   25.635654            0     5\n",
       "8        0       0  100.000000            0     8"
      ]
     },
     "execution_count": 5,
     "metadata": {},
     "output_type": "execute_result"
    }
   ],
   "source": [
    "df_tidy_normalized = pd.DataFrame({\n",
    "    'participant': normalized['participants'],\n",
    "    'dataset': normalized['datasets'],\n",
    "    'muscle': normalized['muscles'],\n",
    "    'test': normalized['tests'],\n",
    "    'mvc': normalized['mvc']\n",
    "}).dropna()\n",
    "\n",
    "print(f'dataset shape = {df_tidy.shape}')\n",
    "df_tidy_normalized.head()"
   ]
  },
  {
   "cell_type": "code",
   "execution_count": 6,
   "metadata": {},
   "outputs": [
    {
     "name": "stdout",
     "output_type": "stream",
     "text": [
      "dataset shape = (1721, 17)\n"
     ]
    },
    {
     "data": {
      "text/html": [
       "<div>\n",
       "<style scoped>\n",
       "    .dataframe tbody tr th:only-of-type {\n",
       "        vertical-align: middle;\n",
       "    }\n",
       "\n",
       "    .dataframe tbody tr th {\n",
       "        vertical-align: top;\n",
       "    }\n",
       "\n",
       "    .dataframe thead th {\n",
       "        text-align: right;\n",
       "    }\n",
       "</style>\n",
       "<table border=\"1\" class=\"dataframe\">\n",
       "  <thead>\n",
       "    <tr style=\"text-align: right;\">\n",
       "      <th>test</th>\n",
       "      <th>muscle</th>\n",
       "      <th>0</th>\n",
       "      <th>1</th>\n",
       "      <th>2</th>\n",
       "      <th>3</th>\n",
       "      <th>4</th>\n",
       "      <th>5</th>\n",
       "      <th>6</th>\n",
       "      <th>7</th>\n",
       "      <th>8</th>\n",
       "      <th>9</th>\n",
       "      <th>10</th>\n",
       "      <th>11</th>\n",
       "      <th>12</th>\n",
       "      <th>13</th>\n",
       "      <th>14</th>\n",
       "      <th>15</th>\n",
       "    </tr>\n",
       "  </thead>\n",
       "  <tbody>\n",
       "    <tr>\n",
       "      <th>0</th>\n",
       "      <td>0</td>\n",
       "      <td>NaN</td>\n",
       "      <td>NaN</td>\n",
       "      <td>0.127825</td>\n",
       "      <td>0.124255</td>\n",
       "      <td>0.146927</td>\n",
       "      <td>0.041583</td>\n",
       "      <td>NaN</td>\n",
       "      <td>NaN</td>\n",
       "      <td>0.162206</td>\n",
       "      <td>0.017711</td>\n",
       "      <td>0.014369</td>\n",
       "      <td>NaN</td>\n",
       "      <td>NaN</td>\n",
       "      <td>NaN</td>\n",
       "      <td>NaN</td>\n",
       "      <td>0.036916</td>\n",
       "    </tr>\n",
       "    <tr>\n",
       "      <th>1</th>\n",
       "      <td>2</td>\n",
       "      <td>NaN</td>\n",
       "      <td>NaN</td>\n",
       "      <td>0.179864</td>\n",
       "      <td>0.294909</td>\n",
       "      <td>0.295846</td>\n",
       "      <td>0.107769</td>\n",
       "      <td>NaN</td>\n",
       "      <td>NaN</td>\n",
       "      <td>0.199097</td>\n",
       "      <td>0.202150</td>\n",
       "      <td>0.022668</td>\n",
       "      <td>NaN</td>\n",
       "      <td>NaN</td>\n",
       "      <td>NaN</td>\n",
       "      <td>NaN</td>\n",
       "      <td>0.071460</td>\n",
       "    </tr>\n",
       "    <tr>\n",
       "      <th>2</th>\n",
       "      <td>3</td>\n",
       "      <td>NaN</td>\n",
       "      <td>NaN</td>\n",
       "      <td>0.078753</td>\n",
       "      <td>0.244578</td>\n",
       "      <td>0.272709</td>\n",
       "      <td>0.010146</td>\n",
       "      <td>NaN</td>\n",
       "      <td>NaN</td>\n",
       "      <td>0.106490</td>\n",
       "      <td>0.010600</td>\n",
       "      <td>0.007517</td>\n",
       "      <td>NaN</td>\n",
       "      <td>NaN</td>\n",
       "      <td>NaN</td>\n",
       "      <td>NaN</td>\n",
       "      <td>0.238814</td>\n",
       "    </tr>\n",
       "    <tr>\n",
       "      <th>3</th>\n",
       "      <td>4</td>\n",
       "      <td>NaN</td>\n",
       "      <td>NaN</td>\n",
       "      <td>0.150353</td>\n",
       "      <td>0.104654</td>\n",
       "      <td>0.115272</td>\n",
       "      <td>0.057845</td>\n",
       "      <td>NaN</td>\n",
       "      <td>NaN</td>\n",
       "      <td>0.065429</td>\n",
       "      <td>0.052930</td>\n",
       "      <td>0.009894</td>\n",
       "      <td>NaN</td>\n",
       "      <td>NaN</td>\n",
       "      <td>NaN</td>\n",
       "      <td>NaN</td>\n",
       "      <td>0.079885</td>\n",
       "    </tr>\n",
       "    <tr>\n",
       "      <th>4</th>\n",
       "      <td>5</td>\n",
       "      <td>NaN</td>\n",
       "      <td>NaN</td>\n",
       "      <td>0.172669</td>\n",
       "      <td>0.124655</td>\n",
       "      <td>0.133114</td>\n",
       "      <td>0.196436</td>\n",
       "      <td>NaN</td>\n",
       "      <td>NaN</td>\n",
       "      <td>0.101393</td>\n",
       "      <td>0.187997</td>\n",
       "      <td>0.051396</td>\n",
       "      <td>NaN</td>\n",
       "      <td>NaN</td>\n",
       "      <td>NaN</td>\n",
       "      <td>NaN</td>\n",
       "      <td>0.050041</td>\n",
       "    </tr>\n",
       "  </tbody>\n",
       "</table>\n",
       "</div>"
      ],
      "text/plain": [
       "test  muscle   0   1         2         3         4         5   6   7  \\\n",
       "0          0 NaN NaN  0.127825  0.124255  0.146927  0.041583 NaN NaN   \n",
       "1          2 NaN NaN  0.179864  0.294909  0.295846  0.107769 NaN NaN   \n",
       "2          3 NaN NaN  0.078753  0.244578  0.272709  0.010146 NaN NaN   \n",
       "3          4 NaN NaN  0.150353  0.104654  0.115272  0.057845 NaN NaN   \n",
       "4          5 NaN NaN  0.172669  0.124655  0.133114  0.196436 NaN NaN   \n",
       "\n",
       "test         8         9        10  11  12  13  14        15  \n",
       "0     0.162206  0.017711  0.014369 NaN NaN NaN NaN  0.036916  \n",
       "1     0.199097  0.202150  0.022668 NaN NaN NaN NaN  0.071460  \n",
       "2     0.106490  0.010600  0.007517 NaN NaN NaN NaN  0.238814  \n",
       "3     0.065429  0.052930  0.009894 NaN NaN NaN NaN  0.079885  \n",
       "4     0.101393  0.187997  0.051396 NaN NaN NaN NaN  0.050041  "
      ]
     },
     "execution_count": 6,
     "metadata": {},
     "output_type": "execute_result"
    }
   ],
   "source": [
    "df_wide = df_tidy.pivot_table(\n",
    "    index=['dataset', 'participant', 'muscle'],\n",
    "    columns='test',\n",
    "    values='mvc',\n",
    "    fill_value=np.nan).reset_index()\n",
    "\n",
    "df_wide = df_wide.drop(['dataset', 'participant'], axis=1)\n",
    "df_wide.columns = df_wide.columns.astype(str)\n",
    "\n",
    "print(f'dataset shape = {df_wide.shape}')\n",
    "df_wide.head()"
   ]
  },
  {
   "cell_type": "markdown",
   "metadata": {},
   "source": [
    "# 4. Save the data"
   ]
  },
  {
   "cell_type": "code",
   "execution_count": 7,
   "metadata": {},
   "outputs": [],
   "source": [
    "df_tidy.reset_index(drop=True).to_feather(DATA_PATH / 'df_tidy')\n",
    "df_tidy_normalized.reset_index(drop=True).to_feather(DATA_PATH / 'df_tidy_normalized')\n",
    "df_wide.reset_index(drop=True).to_feather(DATA_PATH / 'df_wide')"
   ]
  },
  {
   "cell_type": "code",
   "execution_count": 8,
   "metadata": {},
   "outputs": [],
   "source": [
    "conf = {\n",
    "    'DATASETS': DATASET_NAMES,\n",
    "    'MUSCLES': [\n",
    "        'upper trapezius', 'middle trapezius', 'lower trapezius',\n",
    "        'anterior deltoid', 'middle deltoid', 'posterior deltoid',\n",
    "        'pectoralis major', 'serratus anterior', 'latissimus dorsi',\n",
    "        'supraspinatus', 'infraspinatus', 'subscapularis'\n",
    "    ],\n",
    "    'TESTS': np.arange(16).tolist()\n",
    "}\n",
    "\n",
    "with open(DATA_PATH / 'conf.json', 'w') as w:\n",
    "    json.dump(conf, w, indent=4)"
   ]
  }
 ],
 "metadata": {
  "kernelspec": {
   "display_name": "mvc",
   "language": "python",
   "name": "mvc"
  },
  "language_info": {
   "codemirror_mode": {
    "name": "ipython",
    "version": 3
   },
   "file_extension": ".py",
   "mimetype": "text/x-python",
   "name": "python",
   "nbconvert_exporter": "python",
   "pygments_lexer": "ipython3",
   "version": "3.6.4"
  },
  "toc": {
   "nav_menu": {},
   "number_sections": false,
   "sideBar": true,
   "skip_h1_title": false,
   "title_cell": "Table of Contents",
   "title_sidebar": "Contents",
   "toc_cell": true,
   "toc_position": {
    "height": "calc(100% - 180px)",
    "left": "10px",
    "top": "150px",
    "width": "264px"
   },
   "toc_section_display": true,
   "toc_window_display": true
  }
 },
 "nbformat": 4,
 "nbformat_minor": 2
}
