{
 "cells": [
  {
   "cell_type": "markdown",
   "metadata": {},
   "source": [
    "# A predictive approach to estimate the maximum voluntary activation of the shoulder muscles\n",
    "\n",
    "Romain Martinez<sup>*a</sup>, Jonathan Tremblay<sup>a</sup>, Mickael Begon<sup>a</sup>, Fabien Dal Maso<sup>a</sup>\n",
    "\n",
    "<sup>a</sup>School of Kinesiology and Exercise Science, Faculty of Medicine, University of Montreal\n",
    "\n",
    "[GitHub repo](https://github.com/romainmartinez/mvc)"
   ]
  },
  {
   "cell_type": "markdown",
   "metadata": {},
   "source": [
    "# Appendix: demographic data"
   ]
  },
  {
   "cell_type": "code",
   "execution_count": 1,
   "metadata": {},
   "outputs": [],
   "source": [
    "from pathlib import Path\n",
    "\n",
    "import pandas as pd\n",
    "import altair as alt"
   ]
  },
  {
   "cell_type": "raw",
   "metadata": {},
   "source": [
    "- hvsf (79): ref OK\n",
    "- evsn (32): ref OK\n",
    "- sylvain (10): ref OK\n",
    "- patrick (16): ref\n",
    "- yoann (22): ref\n",
    "- violon (10): ref OK\n",
    "- tennis (16): ref OK"
   ]
  },
  {
   "cell_type": "code",
   "execution_count": 2,
   "metadata": {},
   "outputs": [
    {
     "data": {
      "text/html": [
       "<div>\n",
       "<style scoped>\n",
       "    .dataframe tbody tr th:only-of-type {\n",
       "        vertical-align: middle;\n",
       "    }\n",
       "\n",
       "    .dataframe tbody tr th {\n",
       "        vertical-align: top;\n",
       "    }\n",
       "\n",
       "    .dataframe thead th {\n",
       "        text-align: right;\n",
       "    }\n",
       "</style>\n",
       "<table border=\"1\" class=\"dataframe\">\n",
       "  <thead>\n",
       "    <tr style=\"text-align: right;\">\n",
       "      <th></th>\n",
       "      <th>participant</th>\n",
       "      <th>study</th>\n",
       "      <th>sex</th>\n",
       "      <th>mass</th>\n",
       "      <th>height</th>\n",
       "      <th>age</th>\n",
       "    </tr>\n",
       "  </thead>\n",
       "  <tbody>\n",
       "    <tr>\n",
       "      <th>0</th>\n",
       "      <td>sarc</td>\n",
       "      <td>hvsf</td>\n",
       "      <td>w</td>\n",
       "      <td>55.5</td>\n",
       "      <td>170.0</td>\n",
       "      <td>21.0</td>\n",
       "    </tr>\n",
       "    <tr>\n",
       "      <th>1</th>\n",
       "      <td>inea</td>\n",
       "      <td>hvsf</td>\n",
       "      <td>w</td>\n",
       "      <td>55.8</td>\n",
       "      <td>167.0</td>\n",
       "      <td>20.0</td>\n",
       "    </tr>\n",
       "    <tr>\n",
       "      <th>2</th>\n",
       "      <td>dapo</td>\n",
       "      <td>hvsf</td>\n",
       "      <td>w</td>\n",
       "      <td>61.4</td>\n",
       "      <td>176.0</td>\n",
       "      <td>22.0</td>\n",
       "    </tr>\n",
       "    <tr>\n",
       "      <th>3</th>\n",
       "      <td>laug</td>\n",
       "      <td>hvsf</td>\n",
       "      <td>w</td>\n",
       "      <td>66.0</td>\n",
       "      <td>180.0</td>\n",
       "      <td>21.0</td>\n",
       "    </tr>\n",
       "    <tr>\n",
       "      <th>4</th>\n",
       "      <td>mara</td>\n",
       "      <td>hvsf</td>\n",
       "      <td>w</td>\n",
       "      <td>56.7</td>\n",
       "      <td>163.0</td>\n",
       "      <td>21.0</td>\n",
       "    </tr>\n",
       "  </tbody>\n",
       "</table>\n",
       "</div>"
      ],
      "text/plain": [
       "  participant study sex  mass  height   age\n",
       "0        sarc  hvsf   w  55.5   170.0  21.0\n",
       "1        inea  hvsf   w  55.8   167.0  20.0\n",
       "2        dapo  hvsf   w  61.4   176.0  22.0\n",
       "3        laug  hvsf   w  66.0   180.0  21.0\n",
       "4        mara  hvsf   w  56.7   163.0  21.0"
      ]
     },
     "execution_count": 2,
     "metadata": {},
     "output_type": "execute_result"
    }
   ],
   "source": [
    "data_path = Path(\"./data/demo.csv\")\n",
    "\n",
    "demo_p3 = pd.read_csv(data_path)\n",
    "demo_p3.head()"
   ]
  },
  {
   "cell_type": "code",
   "execution_count": 19,
   "metadata": {},
   "outputs": [],
   "source": [
    "shwartz = {\n",
    "    \"n\": 13,\n",
    "    \"male\": 13,\n",
    "    \"female\": 0,\n",
    "    \"age_mean\": 25.3,\n",
    "    \"age_std\": 3.7,\n",
    "    \"mass_mean\": 76.2,\n",
    "    \"mass_std\": 11.5,\n",
    "    \"height_mean\": 180,\n",
    "    \"height_std\": 5,\n",
    "}\n",
    "\n",
    "mcdonald = {\n",
    "    \"n\": 10,\n",
    "    \"male\": 10,\n",
    "    \"female\": 0,\n",
    "    \"age_mean\": 23.6,\n",
    "    \"age_std\": 3.4,\n",
    "    \"mass_mean\": 79.4,\n",
    "    \"mass_std\": 12.6,\n",
    "    \"height_mean\": 179,\n",
    "    \"height_std\": 4.8,\n",
    "}\n",
    "\n",
    "boettcher = {\n",
    "    \"n\": 15,\n",
    "    \"male\": 9,\n",
    "    \"female\": 6,\n",
    "    \"age_mean\": 28.4,\n",
    "    \"age_std\": None,\n",
    "    \"mass_mean\": None,\n",
    "    \"mass_std\": None,\n",
    "    \"height_mean\": None,\n",
    "    \"height_std\": None,\n",
    "}\n",
    "\n",
    "dalmaso = {\n",
    "    \"n\": 38,\n",
    "    \"male\": 24,\n",
    "    \"female\": 14,\n",
    "    \"age_mean\": 23.50,\n",
    "    \"age_std\": 2.50,\n",
    "    \"mass_mean\": 72.25,\n",
    "    \"mass_std\": 11.65,\n",
    "    \"height_mean\": 180.50,\n",
    "    \"height_std\": 10,\n",
    "}\n",
    "\n",
    "us = {\n",
    "    \"n\": demo_p3.shape[0] + 38,\n",
    "    \"male\": demo_p3.query('sex == \"m\"').shape[0] + 24,\n",
    "    \"female\": demo_p3.query('sex == \"w\"').shape[0] + 14,\n",
    "    \"age_mean\": demo_p3[\"age\"].mean(),\n",
    "    \"age_std\": demo_p3[\"age\"].std(),\n",
    "    \"mass_mean\": demo_p3[\"mass\"].mean(),\n",
    "    \"mass_std\": demo_p3[\"mass\"].std(),\n",
    "    \"height_mean\": demo_p3[\"height\"].mean(),\n",
    "    \"height_std\": demo_p3[\"height\"].std(),\n",
    "}"
   ]
  },
  {
   "cell_type": "code",
   "execution_count": 20,
   "metadata": {},
   "outputs": [
    {
     "data": {
      "text/html": [
       "<div>\n",
       "<style scoped>\n",
       "    .dataframe tbody tr th:only-of-type {\n",
       "        vertical-align: middle;\n",
       "    }\n",
       "\n",
       "    .dataframe tbody tr th {\n",
       "        vertical-align: top;\n",
       "    }\n",
       "\n",
       "    .dataframe thead th {\n",
       "        text-align: right;\n",
       "    }\n",
       "</style>\n",
       "<table border=\"1\" class=\"dataframe\">\n",
       "  <thead>\n",
       "    <tr style=\"text-align: right;\">\n",
       "      <th></th>\n",
       "      <th>index</th>\n",
       "      <th>age_mean</th>\n",
       "      <th>age_std</th>\n",
       "      <th>female</th>\n",
       "      <th>height_mean</th>\n",
       "      <th>height_std</th>\n",
       "      <th>male</th>\n",
       "      <th>mass_mean</th>\n",
       "      <th>mass_std</th>\n",
       "      <th>n</th>\n",
       "    </tr>\n",
       "  </thead>\n",
       "  <tbody>\n",
       "    <tr>\n",
       "      <th>0</th>\n",
       "      <td>P-3</td>\n",
       "      <td>25.669725</td>\n",
       "      <td>6.728952</td>\n",
       "      <td>59.0</td>\n",
       "      <td>174.307087</td>\n",
       "      <td>9.406543</td>\n",
       "      <td>106.0</td>\n",
       "      <td>71.280394</td>\n",
       "      <td>12.548017</td>\n",
       "      <td>165.0</td>\n",
       "    </tr>\n",
       "    <tr>\n",
       "      <th>1</th>\n",
       "      <td>DM-14</td>\n",
       "      <td>23.500000</td>\n",
       "      <td>2.500000</td>\n",
       "      <td>14.0</td>\n",
       "      <td>180.500000</td>\n",
       "      <td>10.000000</td>\n",
       "      <td>24.0</td>\n",
       "      <td>72.250000</td>\n",
       "      <td>11.650000</td>\n",
       "      <td>38.0</td>\n",
       "    </tr>\n",
       "    <tr>\n",
       "      <th>2</th>\n",
       "      <td>Mcdonald</td>\n",
       "      <td>23.600000</td>\n",
       "      <td>3.400000</td>\n",
       "      <td>0.0</td>\n",
       "      <td>179.000000</td>\n",
       "      <td>4.800000</td>\n",
       "      <td>10.0</td>\n",
       "      <td>79.400000</td>\n",
       "      <td>12.600000</td>\n",
       "      <td>10.0</td>\n",
       "    </tr>\n",
       "    <tr>\n",
       "      <th>3</th>\n",
       "      <td>Shwartz</td>\n",
       "      <td>25.300000</td>\n",
       "      <td>3.700000</td>\n",
       "      <td>0.0</td>\n",
       "      <td>180.000000</td>\n",
       "      <td>5.000000</td>\n",
       "      <td>13.0</td>\n",
       "      <td>76.200000</td>\n",
       "      <td>11.500000</td>\n",
       "      <td>13.0</td>\n",
       "    </tr>\n",
       "    <tr>\n",
       "      <th>4</th>\n",
       "      <td>Boettcher</td>\n",
       "      <td>28.400000</td>\n",
       "      <td>NaN</td>\n",
       "      <td>6.0</td>\n",
       "      <td>NaN</td>\n",
       "      <td>NaN</td>\n",
       "      <td>9.0</td>\n",
       "      <td>NaN</td>\n",
       "      <td>NaN</td>\n",
       "      <td>15.0</td>\n",
       "    </tr>\n",
       "  </tbody>\n",
       "</table>\n",
       "</div>"
      ],
      "text/plain": [
       "       index   age_mean   age_std  female  height_mean  height_std   male  \\\n",
       "0        P-3  25.669725  6.728952    59.0   174.307087    9.406543  106.0   \n",
       "1      DM-14  23.500000  2.500000    14.0   180.500000   10.000000   24.0   \n",
       "2   Mcdonald  23.600000  3.400000     0.0   179.000000    4.800000   10.0   \n",
       "3    Shwartz  25.300000  3.700000     0.0   180.000000    5.000000   13.0   \n",
       "4  Boettcher  28.400000       NaN     6.0          NaN         NaN    9.0   \n",
       "\n",
       "   mass_mean   mass_std      n  \n",
       "0  71.280394  12.548017  165.0  \n",
       "1  72.250000  11.650000   38.0  \n",
       "2  79.400000  12.600000   10.0  \n",
       "3  76.200000  11.500000   13.0  \n",
       "4        NaN        NaN   15.0  "
      ]
     },
     "execution_count": 20,
     "metadata": {},
     "output_type": "execute_result"
    }
   ],
   "source": [
    "d = pd.DataFrame({'P-3': us, 'DM-14': dalmaso, 'Mcdonald': mcdonald, 'Shwartz':shwartz, 'Boettcher': boettcher}).T.reset_index()\n",
    "d"
   ]
  },
  {
   "cell_type": "code",
   "execution_count": 21,
   "metadata": {},
   "outputs": [],
   "source": [
    "p = alt.Chart().mark_circle(size=100).encode(alt.Y(\"index\", title=None))\n",
    "s = (\n",
    "    alt.Chart()\n",
    "    .mark_rule(size=2)\n",
    "    .encode(alt.X(\"x:Q\", scale=alt.Scale(zero=False)), alt.X2(\"x2:Q\"), alt.Y(\"index\"))\n",
    ")"
   ]
  },
  {
   "cell_type": "code",
   "execution_count": 22,
   "metadata": {},
   "outputs": [
    {
     "data": {
      "application/vnd.vegalite.v2+json": {
       "$schema": "https://vega.github.io/schema/vega-lite/v2.6.0.json",
       "config": {
        "view": {
         "height": 300,
         "width": 400
        }
       },
       "data": {
        "name": "data-b7a2ede0781e9cc99e03d91c8773bde9"
       },
       "datasets": {
        "data-b7a2ede0781e9cc99e03d91c8773bde9": [
         {
          "age_mean": 25.6697247706422,
          "age_std": 6.728952158082983,
          "female": 59,
          "height_mean": 174.30708661417322,
          "height_std": 9.40654264963608,
          "index": "P-3",
          "male": 106,
          "mass_mean": 71.2803937007874,
          "mass_std": 12.548017069778476,
          "n": 165
         },
         {
          "age_mean": 23.5,
          "age_std": 2.5,
          "female": 14,
          "height_mean": 180.5,
          "height_std": 10,
          "index": "DM-14",
          "male": 24,
          "mass_mean": 72.25,
          "mass_std": 11.65,
          "n": 38
         },
         {
          "age_mean": 23.6,
          "age_std": 3.4,
          "female": 0,
          "height_mean": 179,
          "height_std": 4.8,
          "index": "Mcdonald",
          "male": 10,
          "mass_mean": 79.4,
          "mass_std": 12.6,
          "n": 10
         },
         {
          "age_mean": 25.3,
          "age_std": 3.7,
          "female": 0,
          "height_mean": 180,
          "height_std": 5,
          "index": "Shwartz",
          "male": 13,
          "mass_mean": 76.2,
          "mass_std": 11.5,
          "n": 13
         },
         {
          "age_mean": 28.4,
          "age_std": null,
          "female": 6,
          "height_mean": null,
          "height_std": null,
          "index": "Boettcher",
          "male": 9,
          "mass_mean": null,
          "mass_std": null,
          "n": 15
         }
        ]
       },
       "facet": {},
       "spec": {
        "layer": [
         {
          "encoding": {
           "x": {
            "field": "age_mean",
            "title": "Age (year)",
            "type": "quantitative"
           },
           "y": {
            "field": "index",
            "title": null,
            "type": "nominal"
           }
          },
          "mark": {
           "size": 100,
           "type": "circle"
          }
         },
         {
          "encoding": {
           "x": {
            "field": "x",
            "scale": {
             "zero": false
            },
            "type": "quantitative"
           },
           "x2": {
            "field": "x2",
            "type": "quantitative"
           },
           "y": {
            "field": "index",
            "type": "nominal"
           }
          },
          "mark": {
           "size": 2,
           "type": "rule"
          },
          "transform": [
           {
            "as": "x",
            "calculate": "datum.age_mean - datum.age_std"
           },
           {
            "as": "x2",
            "calculate": "datum.age_mean + datum.age_std"
           }
          ]
         }
        ]
       }
      },
      "image/png": "[encoded data removed]",
      "text/plain": [
       "<VegaLite 2 object>\n",
       "\n",
       "If you see this message, it means the renderer has not been properly enabled\n",
       "for the frontend that you are using. For more information, see\n",
       "https://altair-viz.github.io/user_guide/troubleshooting.html\n"
      ]
     },
     "execution_count": 22,
     "metadata": {},
     "output_type": "execute_result"
    }
   ],
   "source": [
    "age_p = p.encode(alt.X(\"age_mean\", title=\"Age (year)\"))\n",
    "age_s = s.transform_calculate(\n",
    "    x=\"datum.age_mean - datum.age_std\", x2=\"datum.age_mean + datum.age_std\"\n",
    ")\n",
    "\n",
    "age = (age_p + age_s).facet(data=d)\n",
    "age"
   ]
  },
  {
   "cell_type": "code",
   "execution_count": 23,
   "metadata": {},
   "outputs": [
    {
     "data": {
      "application/vnd.vegalite.v2+json": {
       "$schema": "https://vega.github.io/schema/vega-lite/v2.6.0.json",
       "config": {
        "view": {
         "height": 300,
         "width": 400
        }
       },
       "data": {
        "name": "data-b7a2ede0781e9cc99e03d91c8773bde9"
       },
       "datasets": {
        "data-b7a2ede0781e9cc99e03d91c8773bde9": [
         {
          "age_mean": 25.6697247706422,
          "age_std": 6.728952158082983,
          "female": 59,
          "height_mean": 174.30708661417322,
          "height_std": 9.40654264963608,
          "index": "P-3",
          "male": 106,
          "mass_mean": 71.2803937007874,
          "mass_std": 12.548017069778476,
          "n": 165
         },
         {
          "age_mean": 23.5,
          "age_std": 2.5,
          "female": 14,
          "height_mean": 180.5,
          "height_std": 10,
          "index": "DM-14",
          "male": 24,
          "mass_mean": 72.25,
          "mass_std": 11.65,
          "n": 38
         },
         {
          "age_mean": 23.6,
          "age_std": 3.4,
          "female": 0,
          "height_mean": 179,
          "height_std": 4.8,
          "index": "Mcdonald",
          "male": 10,
          "mass_mean": 79.4,
          "mass_std": 12.6,
          "n": 10
         },
         {
          "age_mean": 25.3,
          "age_std": 3.7,
          "female": 0,
          "height_mean": 180,
          "height_std": 5,
          "index": "Shwartz",
          "male": 13,
          "mass_mean": 76.2,
          "mass_std": 11.5,
          "n": 13
         },
         {
          "age_mean": 28.4,
          "age_std": null,
          "female": 6,
          "height_mean": null,
          "height_std": null,
          "index": "Boettcher",
          "male": 9,
          "mass_mean": null,
          "mass_std": null,
          "n": 15
         }
        ]
       },
       "facet": {},
       "spec": {
        "layer": [
         {
          "encoding": {
           "x": {
            "field": "height_mean",
            "title": "Height (cm)",
            "type": "quantitative"
           },
           "y": {
            "field": "index",
            "title": null,
            "type": "nominal"
           }
          },
          "mark": {
           "size": 100,
           "type": "circle"
          }
         },
         {
          "encoding": {
           "x": {
            "field": "x",
            "scale": {
             "zero": false
            },
            "type": "quantitative"
           },
           "x2": {
            "field": "x2",
            "type": "quantitative"
           },
           "y": {
            "field": "index",
            "type": "nominal"
           }
          },
          "mark": {
           "size": 2,
           "type": "rule"
          },
          "transform": [
           {
            "as": "x",
            "calculate": "datum.height_mean - datum.height_std"
           },
           {
            "as": "x2",
            "calculate": "datum.height_mean + datum.height_std"
           }
          ]
         }
        ]
       }
      },
      "image/png": "[encoded data removed]",
      "text/plain": [
       "<VegaLite 2 object>\n",
       "\n",
       "If you see this message, it means the renderer has not been properly enabled\n",
       "for the frontend that you are using. For more information, see\n",
       "https://altair-viz.github.io/user_guide/troubleshooting.html\n"
      ]
     },
     "execution_count": 23,
     "metadata": {},
     "output_type": "execute_result"
    }
   ],
   "source": [
    "height_p = p.encode(alt.X(\"height_mean\", title=\"Height (cm)\"))\n",
    "height_s = s.transform_calculate(\n",
    "    x=\"datum.height_mean - datum.height_std\", x2=\"datum.height_mean + datum.height_std\"\n",
    ")\n",
    "\n",
    "height = (height_p + height_s).facet(data=d)\n",
    "height"
   ]
  },
  {
   "cell_type": "code",
   "execution_count": 24,
   "metadata": {},
   "outputs": [
    {
     "data": {
      "application/vnd.vegalite.v2+json": {
       "$schema": "https://vega.github.io/schema/vega-lite/v2.6.0.json",
       "config": {
        "view": {
         "height": 300,
         "width": 400
        }
       },
       "data": {
        "name": "data-b7a2ede0781e9cc99e03d91c8773bde9"
       },
       "datasets": {
        "data-b7a2ede0781e9cc99e03d91c8773bde9": [
         {
          "age_mean": 25.6697247706422,
          "age_std": 6.728952158082983,
          "female": 59,
          "height_mean": 174.30708661417322,
          "height_std": 9.40654264963608,
          "index": "P-3",
          "male": 106,
          "mass_mean": 71.2803937007874,
          "mass_std": 12.548017069778476,
          "n": 165
         },
         {
          "age_mean": 23.5,
          "age_std": 2.5,
          "female": 14,
          "height_mean": 180.5,
          "height_std": 10,
          "index": "DM-14",
          "male": 24,
          "mass_mean": 72.25,
          "mass_std": 11.65,
          "n": 38
         },
         {
          "age_mean": 23.6,
          "age_std": 3.4,
          "female": 0,
          "height_mean": 179,
          "height_std": 4.8,
          "index": "Mcdonald",
          "male": 10,
          "mass_mean": 79.4,
          "mass_std": 12.6,
          "n": 10
         },
         {
          "age_mean": 25.3,
          "age_std": 3.7,
          "female": 0,
          "height_mean": 180,
          "height_std": 5,
          "index": "Shwartz",
          "male": 13,
          "mass_mean": 76.2,
          "mass_std": 11.5,
          "n": 13
         },
         {
          "age_mean": 28.4,
          "age_std": null,
          "female": 6,
          "height_mean": null,
          "height_std": null,
          "index": "Boettcher",
          "male": 9,
          "mass_mean": null,
          "mass_std": null,
          "n": 15
         }
        ]
       },
       "facet": {},
       "spec": {
        "layer": [
         {
          "encoding": {
           "x": {
            "field": "mass_mean",
            "scale": {
             "zero": false
            },
            "title": "Mass (kg)",
            "type": "quantitative"
           },
           "y": {
            "field": "index",
            "title": null,
            "type": "nominal"
           }
          },
          "mark": {
           "size": 100,
           "type": "circle"
          }
         },
         {
          "encoding": {
           "x": {
            "field": "x",
            "scale": {
             "zero": false
            },
            "type": "quantitative"
           },
           "x2": {
            "field": "x2",
            "type": "quantitative"
           },
           "y": {
            "field": "index",
            "type": "nominal"
           }
          },
          "mark": {
           "size": 2,
           "type": "rule"
          },
          "transform": [
           {
            "as": "x",
            "calculate": "datum.mass_mean - datum.mass_std"
           },
           {
            "as": "x2",
            "calculate": "datum.mass_mean + datum.mass_std"
           }
          ]
         }
        ]
       }
      },
      "image/png": "[encoded data removed]",
      "text/plain": [
       "<VegaLite 2 object>\n",
       "\n",
       "If you see this message, it means the renderer has not been properly enabled\n",
       "for the frontend that you are using. For more information, see\n",
       "https://altair-viz.github.io/user_guide/troubleshooting.html\n"
      ]
     },
     "execution_count": 24,
     "metadata": {},
     "output_type": "execute_result"
    }
   ],
   "source": [
    "mass_p = p.encode(\n",
    "    alt.X(\"mass_mean\", title=\"Mass (kg)\", scale=alt.Scale(zero=False))\n",
    ")\n",
    "mass_s = s.transform_calculate(\n",
    "    x=\"datum.mass_mean - datum.mass_std\", x2=\"datum.mass_mean + datum.mass_std\"\n",
    ")\n",
    "\n",
    "mass = (mass_p + mass_s).facet(data=d)\n",
    "mass"
   ]
  },
  {
   "cell_type": "code",
   "execution_count": 25,
   "metadata": {},
   "outputs": [
    {
     "data": {
      "text/html": [
       "<div>\n",
       "<style scoped>\n",
       "    .dataframe tbody tr th:only-of-type {\n",
       "        vertical-align: middle;\n",
       "    }\n",
       "\n",
       "    .dataframe tbody tr th {\n",
       "        vertical-align: top;\n",
       "    }\n",
       "\n",
       "    .dataframe thead th {\n",
       "        text-align: right;\n",
       "    }\n",
       "</style>\n",
       "<table border=\"1\" class=\"dataframe\">\n",
       "  <thead>\n",
       "    <tr style=\"text-align: right;\">\n",
       "      <th></th>\n",
       "      <th>index</th>\n",
       "      <th>variable</th>\n",
       "      <th>value</th>\n",
       "    </tr>\n",
       "  </thead>\n",
       "  <tbody>\n",
       "    <tr>\n",
       "      <th>0</th>\n",
       "      <td>P-3</td>\n",
       "      <td>female</td>\n",
       "      <td>59.0</td>\n",
       "    </tr>\n",
       "    <tr>\n",
       "      <th>1</th>\n",
       "      <td>DM-14</td>\n",
       "      <td>female</td>\n",
       "      <td>14.0</td>\n",
       "    </tr>\n",
       "    <tr>\n",
       "      <th>2</th>\n",
       "      <td>Mcdonald</td>\n",
       "      <td>female</td>\n",
       "      <td>0.0</td>\n",
       "    </tr>\n",
       "    <tr>\n",
       "      <th>3</th>\n",
       "      <td>Shwartz</td>\n",
       "      <td>female</td>\n",
       "      <td>0.0</td>\n",
       "    </tr>\n",
       "    <tr>\n",
       "      <th>4</th>\n",
       "      <td>Boettcher</td>\n",
       "      <td>female</td>\n",
       "      <td>6.0</td>\n",
       "    </tr>\n",
       "    <tr>\n",
       "      <th>5</th>\n",
       "      <td>P-3</td>\n",
       "      <td>male</td>\n",
       "      <td>106.0</td>\n",
       "    </tr>\n",
       "    <tr>\n",
       "      <th>6</th>\n",
       "      <td>DM-14</td>\n",
       "      <td>male</td>\n",
       "      <td>24.0</td>\n",
       "    </tr>\n",
       "    <tr>\n",
       "      <th>7</th>\n",
       "      <td>Mcdonald</td>\n",
       "      <td>male</td>\n",
       "      <td>10.0</td>\n",
       "    </tr>\n",
       "    <tr>\n",
       "      <th>8</th>\n",
       "      <td>Shwartz</td>\n",
       "      <td>male</td>\n",
       "      <td>13.0</td>\n",
       "    </tr>\n",
       "    <tr>\n",
       "      <th>9</th>\n",
       "      <td>Boettcher</td>\n",
       "      <td>male</td>\n",
       "      <td>9.0</td>\n",
       "    </tr>\n",
       "  </tbody>\n",
       "</table>\n",
       "</div>"
      ],
      "text/plain": [
       "       index variable  value\n",
       "0        P-3   female   59.0\n",
       "1      DM-14   female   14.0\n",
       "2   Mcdonald   female    0.0\n",
       "3    Shwartz   female    0.0\n",
       "4  Boettcher   female    6.0\n",
       "5        P-3     male  106.0\n",
       "6      DM-14     male   24.0\n",
       "7   Mcdonald     male   10.0\n",
       "8    Shwartz     male   13.0\n",
       "9  Boettcher     male    9.0"
      ]
     },
     "execution_count": 25,
     "metadata": {},
     "output_type": "execute_result"
    }
   ],
   "source": [
    "sex = d.melt(id_vars='index', value_vars=['female', 'male'])\n",
    "\n",
    "sex"
   ]
  },
  {
   "cell_type": "code",
   "execution_count": 27,
   "metadata": {},
   "outputs": [
    {
     "data": {
      "application/vnd.vegalite.v2+json": {
       "$schema": "https://vega.github.io/schema/vega-lite/v2.6.0.json",
       "config": {
        "view": {
         "height": 300,
         "width": 400
        }
       },
       "data": {
        "name": "data-cfafce5795134a635cab5674aa1fa3e4"
       },
       "datasets": {
        "data-cfafce5795134a635cab5674aa1fa3e4": [
         {
          "index": "P-3",
          "value": 59,
          "variable": "female"
         },
         {
          "index": "DM-14",
          "value": 14,
          "variable": "female"
         },
         {
          "index": "Mcdonald",
          "value": 0,
          "variable": "female"
         },
         {
          "index": "Shwartz",
          "value": 0,
          "variable": "female"
         },
         {
          "index": "Boettcher",
          "value": 6,
          "variable": "female"
         },
         {
          "index": "P-3",
          "value": 106,
          "variable": "male"
         },
         {
          "index": "DM-14",
          "value": 24,
          "variable": "male"
         },
         {
          "index": "Mcdonald",
          "value": 10,
          "variable": "male"
         },
         {
          "index": "Shwartz",
          "value": 13,
          "variable": "male"
         },
         {
          "index": "Boettcher",
          "value": 9,
          "variable": "male"
         }
        ]
       },
       "encoding": {
        "color": {
         "field": "variable",
         "scale": {
          "domain": [
           "female",
           "male"
          ],
          "range": [
           "#e45756",
           "#4c78a8"
          ]
         },
         "type": "nominal"
        },
        "x": {
         "field": "value",
         "title": "n",
         "type": "quantitative"
        },
        "y": {
         "field": "index",
         "title": null,
         "type": "nominal"
        }
       },
       "mark": "bar"
      },
      "image/png": "[encoded data removed]",
      "text/plain": [
       "<VegaLite 2 object>\n",
       "\n",
       "If you see this message, it means the renderer has not been properly enabled\n",
       "for the frontend that you are using. For more information, see\n",
       "https://altair-viz.github.io/user_guide/troubleshooting.html\n"
      ]
     },
     "execution_count": 27,
     "metadata": {},
     "output_type": "execute_result"
    }
   ],
   "source": [
    "n = d.melt(id_vars=\"index\", value_vars=[\"female\", \"male\"])\n",
    "\n",
    "participant = (\n",
    "    alt.Chart(n)\n",
    "    .mark_bar()\n",
    "    .encode(\n",
    "        alt.Y(\"index\", title=None),\n",
    "        alt.X(\"value\", title=\"n\"),\n",
    "        alt.Color(\n",
    "            \"variable\",\n",
    "            scale=alt.Scale(domain=[\"female\", \"male\"], range=[\"#e45756\", \"#4c78a8\"]),\n",
    "        ),\n",
    "    )\n",
    ")\n",
    "\n",
    "participant"
   ]
  },
  {
   "cell_type": "code",
   "execution_count": 32,
   "metadata": {},
   "outputs": [
    {
     "data": {
      "application/vnd.vegalite.v2+json": {
       "$schema": "https://vega.github.io/schema/vega-lite/v2.6.0.json",
       "config": {
        "view": {
         "height": 300,
         "width": 400
        }
       },
       "datasets": {
        "data-b7a2ede0781e9cc99e03d91c8773bde9": [
         {
          "age_mean": 25.6697247706422,
          "age_std": 6.728952158082983,
          "female": 59,
          "height_mean": 174.30708661417322,
          "height_std": 9.40654264963608,
          "index": "P-3",
          "male": 106,
          "mass_mean": 71.2803937007874,
          "mass_std": 12.548017069778476,
          "n": 165
         },
         {
          "age_mean": 23.5,
          "age_std": 2.5,
          "female": 14,
          "height_mean": 180.5,
          "height_std": 10,
          "index": "DM-14",
          "male": 24,
          "mass_mean": 72.25,
          "mass_std": 11.65,
          "n": 38
         },
         {
          "age_mean": 23.6,
          "age_std": 3.4,
          "female": 0,
          "height_mean": 179,
          "height_std": 4.8,
          "index": "Mcdonald",
          "male": 10,
          "mass_mean": 79.4,
          "mass_std": 12.6,
          "n": 10
         },
         {
          "age_mean": 25.3,
          "age_std": 3.7,
          "female": 0,
          "height_mean": 180,
          "height_std": 5,
          "index": "Shwartz",
          "male": 13,
          "mass_mean": 76.2,
          "mass_std": 11.5,
          "n": 13
         },
         {
          "age_mean": 28.4,
          "age_std": null,
          "female": 6,
          "height_mean": null,
          "height_std": null,
          "index": "Boettcher",
          "male": 9,
          "mass_mean": null,
          "mass_std": null,
          "n": 15
         }
        ],
        "data-cfafce5795134a635cab5674aa1fa3e4": [
         {
          "index": "P-3",
          "value": 59,
          "variable": "female"
         },
         {
          "index": "DM-14",
          "value": 14,
          "variable": "female"
         },
         {
          "index": "Mcdonald",
          "value": 0,
          "variable": "female"
         },
         {
          "index": "Shwartz",
          "value": 0,
          "variable": "female"
         },
         {
          "index": "Boettcher",
          "value": 6,
          "variable": "female"
         },
         {
          "index": "P-3",
          "value": 106,
          "variable": "male"
         },
         {
          "index": "DM-14",
          "value": 24,
          "variable": "male"
         },
         {
          "index": "Mcdonald",
          "value": 10,
          "variable": "male"
         },
         {
          "index": "Shwartz",
          "value": 13,
          "variable": "male"
         },
         {
          "index": "Boettcher",
          "value": 9,
          "variable": "male"
         }
        ]
       },
       "vconcat": [
        {
         "hconcat": [
          {
           "data": {
            "name": "data-b7a2ede0781e9cc99e03d91c8773bde9"
           },
           "facet": {},
           "spec": {
            "layer": [
             {
              "encoding": {
               "x": {
                "field": "age_mean",
                "title": "Age (year)",
                "type": "quantitative"
               },
               "y": {
                "field": "index",
                "title": null,
                "type": "nominal"
               }
              },
              "mark": {
               "size": 100,
               "type": "circle"
              }
             },
             {
              "encoding": {
               "x": {
                "field": "x",
                "scale": {
                 "zero": false
                },
                "type": "quantitative"
               },
               "x2": {
                "field": "x2",
                "type": "quantitative"
               },
               "y": {
                "field": "index",
                "type": "nominal"
               }
              },
              "mark": {
               "size": 2,
               "type": "rule"
              },
              "transform": [
               {
                "as": "x",
                "calculate": "datum.age_mean - datum.age_std"
               },
               {
                "as": "x2",
                "calculate": "datum.age_mean + datum.age_std"
               }
              ]
             }
            ]
           }
          },
          {
           "data": {
            "name": "data-cfafce5795134a635cab5674aa1fa3e4"
           },
           "encoding": {
            "color": {
             "field": "variable",
             "scale": {
              "domain": [
               "female",
               "male"
              ],
              "range": [
               "#e45756",
               "#4c78a8"
              ]
             },
             "type": "nominal"
            },
            "x": {
             "field": "value",
             "title": "n",
             "type": "quantitative"
            },
            "y": {
             "field": "index",
             "title": null,
             "type": "nominal"
            }
           },
           "mark": "bar"
          }
         ]
        },
        {
         "hconcat": [
          {
           "data": {
            "name": "data-b7a2ede0781e9cc99e03d91c8773bde9"
           },
           "facet": {},
           "spec": {
            "layer": [
             {
              "encoding": {
               "x": {
                "field": "mass_mean",
                "scale": {
                 "zero": false
                },
                "title": "Mass (kg)",
                "type": "quantitative"
               },
               "y": {
                "field": "index",
                "title": null,
                "type": "nominal"
               }
              },
              "mark": {
               "size": 100,
               "type": "circle"
              }
             },
             {
              "encoding": {
               "x": {
                "field": "x",
                "scale": {
                 "zero": false
                },
                "type": "quantitative"
               },
               "x2": {
                "field": "x2",
                "type": "quantitative"
               },
               "y": {
                "field": "index",
                "type": "nominal"
               }
              },
              "mark": {
               "size": 2,
               "type": "rule"
              },
              "transform": [
               {
                "as": "x",
                "calculate": "datum.mass_mean - datum.mass_std"
               },
               {
                "as": "x2",
                "calculate": "datum.mass_mean + datum.mass_std"
               }
              ]
             }
            ]
           }
          },
          {
           "data": {
            "name": "data-b7a2ede0781e9cc99e03d91c8773bde9"
           },
           "facet": {},
           "spec": {
            "layer": [
             {
              "encoding": {
               "x": {
                "field": "height_mean",
                "title": "Height (cm)",
                "type": "quantitative"
               },
               "y": {
                "field": "index",
                "title": null,
                "type": "nominal"
               }
              },
              "mark": {
               "size": 100,
               "type": "circle"
              }
             },
             {
              "encoding": {
               "x": {
                "field": "x",
                "scale": {
                 "zero": false
                },
                "type": "quantitative"
               },
               "x2": {
                "field": "x2",
                "type": "quantitative"
               },
               "y": {
                "field": "index",
                "type": "nominal"
               }
              },
              "mark": {
               "size": 2,
               "type": "rule"
              },
              "transform": [
               {
                "as": "x",
                "calculate": "datum.height_mean - datum.height_std"
               },
               {
                "as": "x2",
                "calculate": "datum.height_mean + datum.height_std"
               }
              ]
             }
            ]
           }
          }
         ]
        }
       ]
      },
      "image/png": "[encoded data removed]",
      "text/plain": [
       "<VegaLite 2 object>\n",
       "\n",
       "If you see this message, it means the renderer has not been properly enabled\n",
       "for the frontend that you are using. For more information, see\n",
       "https://altair-viz.github.io/user_guide/troubleshooting.html\n"
      ]
     },
     "execution_count": 32,
     "metadata": {},
     "output_type": "execute_result"
    }
   ],
   "source": [
    "(age | participant) & (mass | height)"
   ]
  }
 ],
 "metadata": {
  "kernelspec": {
   "display_name": "Python [conda env:mvc]",
   "language": "python",
   "name": "conda-env-mvc-py"
  },
  "language_info": {
   "codemirror_mode": {
    "name": "ipython",
    "version": 3
   },
   "file_extension": ".py",
   "mimetype": "text/x-python",
   "name": "python",
   "nbconvert_exporter": "python",
   "pygments_lexer": "ipython3",
   "version": "3.7.2"
  }
 },
 "nbformat": 4,
 "nbformat_minor": 2
}
