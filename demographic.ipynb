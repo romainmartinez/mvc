{
 "cells": [
  {
   "cell_type": "markdown",
   "metadata": {},
   "source": [
    "# A predictive approach to estimate the maximum voluntary activation of the shoulder muscles\n",
    "\n",
    "Romain Martinez<sup>*a</sup>, Jonathan Tremblay<sup>a</sup>, Mickael Begon<sup>a</sup>, Fabien Dal Maso<sup>a</sup>\n",
    "\n",
    "<sup>a</sup>School of Kinesiology and Exercise Science, Faculty of Medicine, University of Montreal\n",
    "\n",
    "[GitHub repo](https://github.com/romainmartinez/mvc)"
   ]
  },
  {
   "cell_type": "markdown",
   "metadata": {},
   "source": [
    "# Appendix: demographic data"
   ]
  },
  {
   "cell_type": "code",
   "execution_count": 1,
   "metadata": {},
   "outputs": [],
   "source": [
    "from pathlib import Path\n",
    "\n",
    "import pandas as pd\n",
    "import altair as alt"
   ]
  },
  {
   "cell_type": "raw",
   "metadata": {},
   "source": [
    "- hvsf (79): ref OK\n",
    "- evsn (32): ref OK\n",
    "- sylvain (10): ref OK\n",
    "- patrick (16): ref\n",
    "- yoann (22): ref\n",
    "- violon (10): ref OK\n",
    "- tennis (16): ref OK"
   ]
  },
  {
   "cell_type": "code",
   "execution_count": 2,
   "metadata": {},
   "outputs": [
    {
     "data": {
      "text/html": [
       "<div>\n",
       "<style scoped>\n",
       "    .dataframe tbody tr th:only-of-type {\n",
       "        vertical-align: middle;\n",
       "    }\n",
       "\n",
       "    .dataframe tbody tr th {\n",
       "        vertical-align: top;\n",
       "    }\n",
       "\n",
       "    .dataframe thead th {\n",
       "        text-align: right;\n",
       "    }\n",
       "</style>\n",
       "<table border=\"1\" class=\"dataframe\">\n",
       "  <thead>\n",
       "    <tr style=\"text-align: right;\">\n",
       "      <th></th>\n",
       "      <th>participant</th>\n",
       "      <th>study</th>\n",
       "      <th>sex</th>\n",
       "      <th>mass</th>\n",
       "      <th>height</th>\n",
       "      <th>age</th>\n",
       "    </tr>\n",
       "  </thead>\n",
       "  <tbody>\n",
       "    <tr>\n",
       "      <th>0</th>\n",
       "      <td>sarc</td>\n",
       "      <td>hvsf</td>\n",
       "      <td>w</td>\n",
       "      <td>55.5</td>\n",
       "      <td>170.0</td>\n",
       "      <td>21.0</td>\n",
       "    </tr>\n",
       "    <tr>\n",
       "      <th>1</th>\n",
       "      <td>inea</td>\n",
       "      <td>hvsf</td>\n",
       "      <td>w</td>\n",
       "      <td>55.8</td>\n",
       "      <td>167.0</td>\n",
       "      <td>20.0</td>\n",
       "    </tr>\n",
       "    <tr>\n",
       "      <th>2</th>\n",
       "      <td>dapo</td>\n",
       "      <td>hvsf</td>\n",
       "      <td>w</td>\n",
       "      <td>61.4</td>\n",
       "      <td>176.0</td>\n",
       "      <td>22.0</td>\n",
       "    </tr>\n",
       "    <tr>\n",
       "      <th>3</th>\n",
       "      <td>laug</td>\n",
       "      <td>hvsf</td>\n",
       "      <td>w</td>\n",
       "      <td>66.0</td>\n",
       "      <td>180.0</td>\n",
       "      <td>21.0</td>\n",
       "    </tr>\n",
       "    <tr>\n",
       "      <th>4</th>\n",
       "      <td>mara</td>\n",
       "      <td>hvsf</td>\n",
       "      <td>w</td>\n",
       "      <td>56.7</td>\n",
       "      <td>163.0</td>\n",
       "      <td>21.0</td>\n",
       "    </tr>\n",
       "  </tbody>\n",
       "</table>\n",
       "</div>"
      ],
      "text/plain": [
       "  participant study sex  mass  height   age\n",
       "0        sarc  hvsf   w  55.5   170.0  21.0\n",
       "1        inea  hvsf   w  55.8   167.0  20.0\n",
       "2        dapo  hvsf   w  61.4   176.0  22.0\n",
       "3        laug  hvsf   w  66.0   180.0  21.0\n",
       "4        mara  hvsf   w  56.7   163.0  21.0"
      ]
     },
     "execution_count": 2,
     "metadata": {},
     "output_type": "execute_result"
    }
   ],
   "source": [
    "data_path = Path(\"./data/demo.csv\")\n",
    "\n",
    "demo_p3 = pd.read_csv(data_path)\n",
    "demo_p3.head()"
   ]
  },
  {
   "cell_type": "code",
   "execution_count": 3,
   "metadata": {},
   "outputs": [],
   "source": [
    "shwartz = {\n",
    "    'n': 13,\n",
    "    'n_male': 13,\n",
    "    'n_female': 0,\n",
    "    'age_mean': 25.3,\n",
    "    'age_std': 3.7,\n",
    "    'mass_mean': 76.2,\n",
    "    'mass_std': 11.5,\n",
    "    'height_mean': 180,\n",
    "    'height_std': 5\n",
    "}\n",
    "\n",
    "mcdonald = {\n",
    "    'n': 10,\n",
    "    'n_male': 10,\n",
    "    'n_female': 0,\n",
    "    'age_mean': 23.6,\n",
    "    'age_std': 3.4,\n",
    "    'mass_mean': 79.4,\n",
    "    'mass_std': 12.6,\n",
    "    'height_mean': 179,\n",
    "    'height_std': 4.8\n",
    "}\n",
    "\n",
    "boettcher = {\n",
    "    'n': 15,\n",
    "    'n_male': 9,\n",
    "    'n_female': 6,\n",
    "    'age_mean': 28.4,\n",
    "    'age_std': None,\n",
    "    'mass_mean': None,\n",
    "    'mass_std': None,\n",
    "    'height_mean': None,\n",
    "    'height_std': None\n",
    "}\n",
    "\n",
    "dalmaso = {\n",
    "#     'n': 15,\n",
    "#     'n_male': 9,\n",
    "#     'n_female': 6,\n",
    "#     'age_mean': 28.4,\n",
    "#     'age_std': None,\n",
    "#     'mass_mean': None,\n",
    "#     'mass_std': None,\n",
    "#     'height_mean': None,\n",
    "#     'height_std': None\n",
    "}\n",
    "\n",
    "us = {\n",
    "    'n': demo_p3.shape[0],\n",
    "    'n_male': demo_p3.query('sex == \"m\"').shape[0],\n",
    "    'n_female': demo_p3.query('sex == \"w\"').shape[0],\n",
    "    'age_mean': demo_p3['age'].mean(),\n",
    "    'age_std': demo_p3['age'].std(),\n",
    "    'mass_mean': demo_p3['mass'].mean(),\n",
    "    'mass_std': demo_p3['mass'].std(),\n",
    "    'height_mean': demo_p3['height'].mean(),\n",
    "    'height_std': demo_p3['height'].std()\n",
    "}"
   ]
  },
  {
   "cell_type": "code",
   "execution_count": 21,
   "metadata": {},
   "outputs": [
    {
     "data": {
      "text/html": [
       "<div>\n",
       "<style scoped>\n",
       "    .dataframe tbody tr th:only-of-type {\n",
       "        vertical-align: middle;\n",
       "    }\n",
       "\n",
       "    .dataframe tbody tr th {\n",
       "        vertical-align: top;\n",
       "    }\n",
       "\n",
       "    .dataframe thead th {\n",
       "        text-align: right;\n",
       "    }\n",
       "</style>\n",
       "<table border=\"1\" class=\"dataframe\">\n",
       "  <thead>\n",
       "    <tr style=\"text-align: right;\">\n",
       "      <th></th>\n",
       "      <th>index</th>\n",
       "      <th>age_mean</th>\n",
       "      <th>age_std</th>\n",
       "      <th>height_mean</th>\n",
       "      <th>height_std</th>\n",
       "      <th>mass_mean</th>\n",
       "      <th>mass_std</th>\n",
       "      <th>n</th>\n",
       "      <th>n_female</th>\n",
       "      <th>n_male</th>\n",
       "    </tr>\n",
       "  </thead>\n",
       "  <tbody>\n",
       "    <tr>\n",
       "      <th>0</th>\n",
       "      <td>P-3</td>\n",
       "      <td>25.669725</td>\n",
       "      <td>6.728952</td>\n",
       "      <td>174.307087</td>\n",
       "      <td>9.406543</td>\n",
       "      <td>71.280394</td>\n",
       "      <td>12.548017</td>\n",
       "      <td>127.0</td>\n",
       "      <td>45.0</td>\n",
       "      <td>82.0</td>\n",
       "    </tr>\n",
       "    <tr>\n",
       "      <th>1</th>\n",
       "      <td>DM-14</td>\n",
       "      <td>NaN</td>\n",
       "      <td>NaN</td>\n",
       "      <td>NaN</td>\n",
       "      <td>NaN</td>\n",
       "      <td>NaN</td>\n",
       "      <td>NaN</td>\n",
       "      <td>NaN</td>\n",
       "      <td>NaN</td>\n",
       "      <td>NaN</td>\n",
       "    </tr>\n",
       "    <tr>\n",
       "      <th>2</th>\n",
       "      <td>Mcdonald</td>\n",
       "      <td>23.600000</td>\n",
       "      <td>3.400000</td>\n",
       "      <td>179.000000</td>\n",
       "      <td>4.800000</td>\n",
       "      <td>79.400000</td>\n",
       "      <td>12.600000</td>\n",
       "      <td>10.0</td>\n",
       "      <td>0.0</td>\n",
       "      <td>10.0</td>\n",
       "    </tr>\n",
       "    <tr>\n",
       "      <th>3</th>\n",
       "      <td>Shwartz</td>\n",
       "      <td>25.300000</td>\n",
       "      <td>3.700000</td>\n",
       "      <td>180.000000</td>\n",
       "      <td>5.000000</td>\n",
       "      <td>76.200000</td>\n",
       "      <td>11.500000</td>\n",
       "      <td>13.0</td>\n",
       "      <td>0.0</td>\n",
       "      <td>13.0</td>\n",
       "    </tr>\n",
       "    <tr>\n",
       "      <th>4</th>\n",
       "      <td>Boettcher</td>\n",
       "      <td>28.400000</td>\n",
       "      <td>NaN</td>\n",
       "      <td>NaN</td>\n",
       "      <td>NaN</td>\n",
       "      <td>NaN</td>\n",
       "      <td>NaN</td>\n",
       "      <td>15.0</td>\n",
       "      <td>6.0</td>\n",
       "      <td>9.0</td>\n",
       "    </tr>\n",
       "  </tbody>\n",
       "</table>\n",
       "</div>"
      ],
      "text/plain": [
       "       index   age_mean   age_std  height_mean  height_std  mass_mean  \\\n",
       "0        P-3  25.669725  6.728952   174.307087    9.406543  71.280394   \n",
       "1      DM-14        NaN       NaN          NaN         NaN        NaN   \n",
       "2   Mcdonald  23.600000  3.400000   179.000000    4.800000  79.400000   \n",
       "3    Shwartz  25.300000  3.700000   180.000000    5.000000  76.200000   \n",
       "4  Boettcher  28.400000       NaN          NaN         NaN        NaN   \n",
       "\n",
       "    mass_std      n  n_female  n_male  \n",
       "0  12.548017  127.0      45.0    82.0  \n",
       "1        NaN    NaN       NaN     NaN  \n",
       "2  12.600000   10.0       0.0    10.0  \n",
       "3  11.500000   13.0       0.0    13.0  \n",
       "4        NaN   15.0       6.0     9.0  "
      ]
     },
     "execution_count": 21,
     "metadata": {},
     "output_type": "execute_result"
    }
   ],
   "source": [
    "d = pd.DataFrame({'P-3': us, 'DM-14': dalmaso, 'Mcdonald': mcdonald, 'Shwartz':shwartz, 'Boettcher': boettcher}).T.reset_index()\n",
    "d"
   ]
  },
  {
   "cell_type": "code",
   "execution_count": 35,
   "metadata": {},
   "outputs": [],
   "source": [
    "p = alt.Chart().mark_circle(size=100).encode(alt.Y('index', title=None))\n",
    "s = alt.Chart().mark_rule(size=2).encode(alt.X('x:Q', scale=alt.Scale(zero=False)), alt.X2('x2:Q'), alt.Y('index'))"
   ]
  },
  {
   "cell_type": "code",
   "execution_count": 38,
   "metadata": {},
   "outputs": [
    {
     "data": {
      "application/vnd.vegalite.v2+json": {
       "$schema": "https://vega.github.io/schema/vega-lite/v2.6.0.json",
       "config": {
        "view": {
         "height": 300,
         "width": 400
        }
       },
       "data": {
        "name": "data-6bdfa96822fa2b6c0ef8de77f4216738"
       },
       "datasets": {
        "data-6bdfa96822fa2b6c0ef8de77f4216738": [
         {
          "age_mean": 25.6697247706422,
          "age_std": 6.728952158082983,
          "height_mean": 174.30708661417322,
          "height_std": 9.40654264963608,
          "index": "P-3",
          "mass_mean": 71.2803937007874,
          "mass_std": 12.548017069778476,
          "n": 127,
          "n_female": 45,
          "n_male": 82
         },
         {
          "age_mean": null,
          "age_std": null,
          "height_mean": null,
          "height_std": null,
          "index": "DM-14",
          "mass_mean": null,
          "mass_std": null,
          "n": null,
          "n_female": null,
          "n_male": null
         },
         {
          "age_mean": 23.6,
          "age_std": 3.4,
          "height_mean": 179,
          "height_std": 4.8,
          "index": "Mcdonald",
          "mass_mean": 79.4,
          "mass_std": 12.6,
          "n": 10,
          "n_female": 0,
          "n_male": 10
         },
         {
          "age_mean": 25.3,
          "age_std": 3.7,
          "height_mean": 180,
          "height_std": 5,
          "index": "Shwartz",
          "mass_mean": 76.2,
          "mass_std": 11.5,
          "n": 13,
          "n_female": 0,
          "n_male": 13
         },
         {
          "age_mean": 28.4,
          "age_std": null,
          "height_mean": null,
          "height_std": null,
          "index": "Boettcher",
          "mass_mean": null,
          "mass_std": null,
          "n": 15,
          "n_female": 6,
          "n_male": 9
         }
        ]
       },
       "facet": {},
       "spec": {
        "layer": [
         {
          "encoding": {
           "x": {
            "field": "age_mean",
            "scale": {
             "zero": false
            },
            "title": "Age (year)",
            "type": "quantitative"
           },
           "y": {
            "field": "index",
            "title": null,
            "type": "nominal"
           }
          },
          "mark": {
           "size": 100,
           "type": "circle"
          }
         },
         {
          "encoding": {
           "x": {
            "field": "x",
            "scale": {
             "zero": false
            },
            "type": "quantitative"
           },
           "x2": {
            "field": "x2",
            "type": "quantitative"
           },
           "y": {
            "field": "index",
            "type": "nominal"
           }
          },
          "mark": {
           "size": 2,
           "type": "rule"
          },
          "transform": [
           {
            "as": "x",
            "calculate": "datum.age_mean - datum.age_std"
           },
           {
            "as": "x2",
            "calculate": "datum.age_mean + datum.age_std"
           }
          ]
         }
        ]
       }
      },
      "image/png": "[encoded data removed]",
      "text/plain": [
       "<VegaLite 2 object>\n",
       "\n",
       "If you see this message, it means the renderer has not been properly enabled\n",
       "for the frontend that you are using. For more information, see\n",
       "https://altair-viz.github.io/user_guide/troubleshooting.html\n"
      ]
     },
     "execution_count": 38,
     "metadata": {},
     "output_type": "execute_result"
    }
   ],
   "source": [
    "age_p = p.encode(alt.X('age_mean', title='Age (year)',scale=alt.Scale(zero=False)))\n",
    "age_s = s.transform_calculate(\n",
    "        x=\"datum.age_mean - datum.age_std\", x2=\"datum.age_mean + datum.age_std\"\n",
    "    )\n",
    "\n",
    "age = (age_p + age_s).facet(data=d)\n",
    "age"
   ]
  },
  {
   "cell_type": "code",
   "execution_count": 37,
   "metadata": {},
   "outputs": [
    {
     "data": {
      "application/vnd.vegalite.v2+json": {
       "$schema": "https://vega.github.io/schema/vega-lite/v2.6.0.json",
       "config": {
        "view": {
         "height": 300,
         "width": 400
        }
       },
       "data": {
        "name": "data-6bdfa96822fa2b6c0ef8de77f4216738"
       },
       "datasets": {
        "data-6bdfa96822fa2b6c0ef8de77f4216738": [
         {
          "age_mean": 25.6697247706422,
          "age_std": 6.728952158082983,
          "height_mean": 174.30708661417322,
          "height_std": 9.40654264963608,
          "index": "P-3",
          "mass_mean": 71.2803937007874,
          "mass_std": 12.548017069778476,
          "n": 127,
          "n_female": 45,
          "n_male": 82
         },
         {
          "age_mean": null,
          "age_std": null,
          "height_mean": null,
          "height_std": null,
          "index": "DM-14",
          "mass_mean": null,
          "mass_std": null,
          "n": null,
          "n_female": null,
          "n_male": null
         },
         {
          "age_mean": 23.6,
          "age_std": 3.4,
          "height_mean": 179,
          "height_std": 4.8,
          "index": "Mcdonald",
          "mass_mean": 79.4,
          "mass_std": 12.6,
          "n": 10,
          "n_female": 0,
          "n_male": 10
         },
         {
          "age_mean": 25.3,
          "age_std": 3.7,
          "height_mean": 180,
          "height_std": 5,
          "index": "Shwartz",
          "mass_mean": 76.2,
          "mass_std": 11.5,
          "n": 13,
          "n_female": 0,
          "n_male": 13
         },
         {
          "age_mean": 28.4,
          "age_std": null,
          "height_mean": null,
          "height_std": null,
          "index": "Boettcher",
          "mass_mean": null,
          "mass_std": null,
          "n": 15,
          "n_female": 6,
          "n_male": 9
         }
        ]
       },
       "facet": {},
       "spec": {
        "layer": [
         {
          "encoding": {
           "x": {
            "field": "height_mean",
            "title": "Height (cm)",
            "type": "quantitative"
           },
           "y": {
            "field": "index",
            "title": null,
            "type": "nominal"
           }
          },
          "mark": {
           "size": 100,
           "type": "circle"
          }
         },
         {
          "encoding": {
           "x": {
            "field": "x",
            "scale": {
             "zero": false
            },
            "type": "quantitative"
           },
           "x2": {
            "field": "x2",
            "type": "quantitative"
           },
           "y": {
            "field": "index",
            "type": "nominal"
           }
          },
          "mark": {
           "size": 2,
           "type": "rule"
          },
          "transform": [
           {
            "as": "x",
            "calculate": "datum.height_mean - datum.height_std"
           },
           {
            "as": "x2",
            "calculate": "datum.height_mean + datum.height_std"
           }
          ]
         }
        ]
       }
      },
      "image/png": "[encoded data removed]",
      "text/plain": [
       "<VegaLite 2 object>\n",
       "\n",
       "If you see this message, it means the renderer has not been properly enabled\n",
       "for the frontend that you are using. For more information, see\n",
       "https://altair-viz.github.io/user_guide/troubleshooting.html\n"
      ]
     },
     "execution_count": 37,
     "metadata": {},
     "output_type": "execute_result"
    }
   ],
   "source": [
    "height_p = p.encode(alt.X('height_mean', title='Height (cm)'))\n",
    "height_s = s.transform_calculate(\n",
    "        x=\"datum.height_mean - datum.height_std\", x2=\"datum.height_mean + datum.height_std\"\n",
    "    )\n",
    "\n",
    "height = (height_p + height_s).facet(data=d)\n",
    "height"
   ]
  },
  {
   "cell_type": "code",
   "execution_count": 29,
   "metadata": {},
   "outputs": [
    {
     "data": {
      "application/vnd.vegalite.v2+json": {
       "$schema": "https://vega.github.io/schema/vega-lite/v2.6.0.json",
       "config": {
        "view": {
         "height": 300,
         "width": 400
        }
       },
       "data": {
        "name": "data-4725cdce2aea8b321a6eca6497fb8fe4"
       },
       "datasets": {
        "data-4725cdce2aea8b321a6eca6497fb8fe4": [
         {
          "participant": "sarc",
          "sex": "w",
          "study": "hvsf",
          "value": 55.5,
          "variable": "mass"
         },
         {
          "participant": "inea",
          "sex": "w",
          "study": "hvsf",
          "value": 55.8,
          "variable": "mass"
         },
         {
          "participant": "dapo",
          "sex": "w",
          "study": "hvsf",
          "value": 61.4,
          "variable": "mass"
         },
         {
          "participant": "laug",
          "sex": "w",
          "study": "hvsf",
          "value": 66,
          "variable": "mass"
         },
         {
          "participant": "mara",
          "sex": "w",
          "study": "hvsf",
          "value": 56.7,
          "variable": "mass"
         },
         {
          "participant": "mars",
          "sex": "w",
          "study": "hvsf",
          "value": 54,
          "variable": "mass"
         },
         {
          "participant": "yosc",
          "sex": "w",
          "study": "hvsf",
          "value": 63,
          "variable": "mass"
         },
         {
          "participant": "marc",
          "sex": "w",
          "study": "hvsf",
          "value": 70,
          "variable": "mass"
         },
         {
          "participant": "benl",
          "sex": "m",
          "study": "hvsf",
          "value": 67,
          "variable": "mass"
         },
         {
          "participant": "davo",
          "sex": "m",
          "study": "hvsf",
          "value": 86,
          "variable": "mass"
         },
         {
          "participant": "marb",
          "sex": "m",
          "study": "hvsf",
          "value": 68,
          "variable": "mass"
         },
         {
          "participant": "gatb",
          "sex": "m",
          "study": "hvsf",
          "value": 94,
          "variable": "mass"
         },
         {
          "participant": "yoap",
          "sex": "m",
          "study": "hvsf",
          "value": 79,
          "variable": "mass"
         },
         {
          "participant": "romm",
          "sex": "m",
          "study": "hvsf",
          "value": 91,
          "variable": "mass"
         },
         {
          "participant": "camb",
          "sex": "w",
          "study": "hvsf",
          "value": 65.9,
          "variable": "mass"
         },
         {
          "participant": "eved",
          "sex": "w",
          "study": "hvsf",
          "value": 65,
          "variable": "mass"
         },
         {
          "participant": "naus",
          "sex": "w",
          "study": "hvsf",
          "value": 87.5,
          "variable": "mass"
         },
         {
          "participant": "emid",
          "sex": "w",
          "study": "hvsf",
          "value": 51,
          "variable": "mass"
         },
         {
          "participant": "verc",
          "sex": "w",
          "study": "hvsf",
          "value": 68,
          "variable": "mass"
         },
         {
          "participant": "marh",
          "sex": "w",
          "study": "hvsf",
          "value": 61,
          "variable": "mass"
         },
         {
          "participant": "samn",
          "sex": "w",
          "study": "hvsf",
          "value": 51.5,
          "variable": "mass"
         },
         {
          "participant": "alef",
          "sex": "w",
          "study": "hvsf",
          "value": 52.3,
          "variable": "mass"
         },
         {
          "participant": "danf",
          "sex": "w",
          "study": "hvsf",
          "value": 60,
          "variable": "mass"
         },
         {
          "participant": "aimq",
          "sex": "w",
          "study": "hvsf",
          "value": 54,
          "variable": "mass"
         },
         {
          "participant": "ameg",
          "sex": "w",
          "study": "hvsf",
          "value": 72,
          "variable": "mass"
         },
         {
          "participant": "noel",
          "sex": "w",
          "study": "hvsf",
          "value": 63.5,
          "variable": "mass"
         },
         {
          "participant": "karm",
          "sex": "m",
          "study": "hvsf",
          "value": 65,
          "variable": "mass"
         },
         {
          "participant": "patm",
          "sex": "m",
          "study": "hvsf",
          "value": 85,
          "variable": "mass"
         },
         {
          "participant": "vicj",
          "sex": "m",
          "study": "hvsf",
          "value": 69,
          "variable": "mass"
         },
         {
          "participant": "luia",
          "sex": "m",
          "study": "hvsf",
          "value": 72,
          "variable": "mass"
         },
         {
          "participant": "gabf",
          "sex": "m",
          "study": "hvsf",
          "value": 76,
          "variable": "mass"
         },
         {
          "participant": "aleb",
          "sex": "m",
          "study": "hvsf",
          "value": 47,
          "variable": "mass"
         },
         {
          "participant": "humm",
          "sex": "m",
          "study": "hvsf",
          "value": 70,
          "variable": "mass"
         },
         {
          "participant": "emmb",
          "sex": "m",
          "study": "hvsf",
          "value": 69.1,
          "variable": "mass"
         },
         {
          "participant": "fabg",
          "sex": "m",
          "study": "hvsf",
          "value": 74,
          "variable": "mass"
         },
         {
          "participant": "nicl",
          "sex": "m",
          "study": "hvsf",
          "value": 78,
          "variable": "mass"
         },
         {
          "participant": "sylg",
          "sex": "m",
          "study": "hvsf",
          "value": 79,
          "variable": "mass"
         },
         {
          "participant": "daml",
          "sex": "m",
          "study": "hvsf",
          "value": 73,
          "variable": "mass"
         },
         {
          "participant": "land",
          "sex": "m",
          "study": "hvsf",
          "value": 73,
          "variable": "mass"
         },
         {
          "participant": "emyc",
          "sex": "w",
          "study": "hvsf",
          "value": 61.5,
          "variable": "mass"
         },
         {
          "participant": "amia",
          "sex": "w",
          "study": "hvsf",
          "value": 50,
          "variable": "mass"
         },
         {
          "participant": "romr",
          "sex": "w",
          "study": "hvsf",
          "value": 63,
          "variable": "mass"
         },
         {
          "participant": "carb",
          "sex": "w",
          "study": "hvsf",
          "value": 60,
          "variable": "mass"
         },
         {
          "participant": "anns",
          "sex": "w",
          "study": "hvsf",
          "value": 62,
          "variable": "mass"
         },
         {
          "participant": "steb",
          "sex": "w",
          "study": "hvsf",
          "value": 57,
          "variable": "mass"
         },
         {
          "participant": "chac",
          "sex": "w",
          "study": "hvsf",
          "value": 58,
          "variable": "mass"
         },
         {
          "participant": "roxd",
          "sex": "w",
          "study": "hvsf",
          "value": 56,
          "variable": "mass"
         },
         {
          "participant": "vivs",
          "sex": "w",
          "study": "hvsf",
          "value": 70,
          "variable": "mass"
         },
         {
          "participant": "adrc",
          "sex": "m",
          "study": "hvsf",
          "value": 72,
          "variable": "mass"
         },
         {
          "participant": "geoa",
          "sex": "m",
          "study": "hvsf",
          "value": 64,
          "variable": "mass"
         },
         {
          "participant": "yoab",
          "sex": "m",
          "study": "hvsf",
          "value": 70,
          "variable": "mass"
         },
         {
          "participant": "nemk",
          "sex": "m",
          "study": "hvsf",
          "value": 75,
          "variable": "mass"
         },
         {
          "participant": "matr",
          "sex": "m",
          "study": "hvsf",
          "value": 68,
          "variable": "mass"
         },
         {
          "participant": "doca",
          "sex": "m",
          "study": "hvsf",
          "value": 65,
          "variable": "mass"
         },
         {
          "participant": "jawr",
          "sex": "m",
          "study": "hvsf",
          "value": 83,
          "variable": "mass"
         },
         {
          "participant": "fabd",
          "sex": "m",
          "study": "hvsf",
          "value": 73,
          "variable": "mass"
         },
         {
          "participant": "damg",
          "sex": "m",
          "study": "hvsf",
          "value": 100,
          "variable": "mass"
         },
         {
          "participant": "arst",
          "sex": "m",
          "study": "hvsf",
          "value": 75,
          "variable": "mass"
         },
         {
          "participant": "phil",
          "sex": "m",
          "study": "hvsf",
          "value": 65,
          "variable": "mass"
         },
         {
          "participant": "marm",
          "sex": "m",
          "study": "hvsf",
          "value": 70,
          "variable": "mass"
         },
         {
          "participant": "beng",
          "sex": "m",
          "study": "evsn",
          "value": 68,
          "variable": "mass"
         },
         {
          "participant": "jasb",
          "sex": "m",
          "study": "evsn",
          "value": 73.05,
          "variable": "mass"
         },
         {
          "participant": "olid",
          "sex": "m",
          "study": "evsn",
          "value": 84.6,
          "variable": "mass"
         },
         {
          "participant": "sylg",
          "sex": "m",
          "study": "evsn",
          "value": 80,
          "variable": "mass"
         },
         {
          "participant": "gaud",
          "sex": "m",
          "study": "evsn",
          "value": 71.95,
          "variable": "mass"
         },
         {
          "participant": "romm",
          "sex": "m",
          "study": "evsn",
          "value": 91,
          "variable": "mass"
         },
         {
          "participant": "rama",
          "sex": "m",
          "study": "evsn",
          "value": 81.6,
          "variable": "mass"
         },
         {
          "participant": "chra",
          "sex": "m",
          "study": "evsn",
          "value": 78.35,
          "variable": "mass"
         },
         {
          "participant": "jeaa",
          "sex": "m",
          "study": "evsn",
          "value": 73.2,
          "variable": "mass"
         },
         {
          "participant": "antc",
          "sex": "m",
          "study": "evsn",
          "value": 84.05,
          "variable": "mass"
         },
         {
          "participant": "didl",
          "sex": "m",
          "study": "evsn",
          "value": 86.45,
          "variable": "mass"
         },
         {
          "participant": "yoap",
          "sex": "m",
          "study": "evsn",
          "value": 82.65,
          "variable": "mass"
         },
         {
          "participant": "char",
          "sex": "m",
          "study": "evsn",
          "value": 52.2,
          "variable": "mass"
         },
         {
          "participant": "samc",
          "sex": "m",
          "study": "evsn",
          "value": 73.21,
          "variable": "mass"
         },
         {
          "participant": "aled",
          "sex": "m",
          "study": "evsn",
          "value": 86.1,
          "variable": "mass"
         },
         {
          "participant": "jull",
          "sex": "m",
          "study": "evsn",
          "value": 75.85,
          "variable": "mass"
         },
         {
          "participant": "fras",
          "sex": "m",
          "study": "evsn",
          "value": 65.6,
          "variable": "mass"
         },
         {
          "participant": "norl",
          "sex": "m",
          "study": "evsn",
          "value": 93.85,
          "variable": "mass"
         },
         {
          "participant": "maxp",
          "sex": "m",
          "study": "evsn",
          "value": 100,
          "variable": "mass"
         },
         {
          "participant": "pasd",
          "sex": "m",
          "study": "evsn",
          "value": 78.6,
          "variable": "mass"
         },
         {
          "participant": "stec",
          "sex": "m",
          "study": "evsn",
          "value": 79.2,
          "variable": "mass"
         },
         {
          "participant": "jono",
          "sex": "m",
          "study": "evsn",
          "value": 100,
          "variable": "mass"
         },
         {
          "participant": "marc",
          "sex": "m",
          "study": "evsn",
          "value": 100,
          "variable": "mass"
         },
         {
          "participant": "maxf",
          "sex": "m",
          "study": "evsn",
          "value": 68.4,
          "variable": "mass"
         },
         {
          "participant": "eric",
          "sex": "m",
          "study": "evsn",
          "value": 91.35,
          "variable": "mass"
         },
         {
          "participant": "jead",
          "sex": "m",
          "study": "evsn",
          "value": 93.95,
          "variable": "mass"
         },
         {
          "participant": "nicl",
          "sex": "m",
          "study": "evsn",
          "value": 88.3,
          "variable": "mass"
         },
         {
          "participant": "chrb",
          "sex": "m",
          "study": "evsn",
          "value": 84.8,
          "variable": "mass"
         },
         {
          "participant": "blam",
          "sex": "m",
          "study": "evsn",
          "value": 100,
          "variable": "mass"
         },
         {
          "participant": "davm",
          "sex": "m",
          "study": "evsn",
          "value": 69.5,
          "variable": "mass"
         },
         {
          "participant": "jeam",
          "sex": "m",
          "study": "evsn",
          "value": 58.85,
          "variable": "mass"
         },
         {
          "participant": "erib",
          "sex": "m",
          "study": "evsn",
          "value": 70.8,
          "variable": "mass"
         },
         {
          "participant": "Lalancette",
          "sex": "w",
          "study": "sylvain",
          "value": 56.7,
          "variable": "mass"
         },
         {
          "participant": "Jardin",
          "sex": "w",
          "study": "sylvain",
          "value": 65,
          "variable": "mass"
         },
         {
          "participant": "Desjarlais",
          "sex": "m",
          "study": "sylvain",
          "value": 79,
          "variable": "mass"
         },
         {
          "participant": "Danyluk",
          "sex": "w",
          "study": "sylvain",
          "value": 60,
          "variable": "mass"
         },
         {
          "participant": "McGregor",
          "sex": "w",
          "study": "sylvain",
          "value": 59,
          "variable": "mass"
         },
         {
          "participant": "Singh",
          "sex": "m",
          "study": "sylvain",
          "value": 75,
          "variable": "mass"
         },
         {
          "participant": "Dove-McFalls",
          "sex": "w",
          "study": "sylvain",
          "value": 68,
          "variable": "mass"
         },
         {
          "participant": "Bisaillon",
          "sex": "w",
          "study": "sylvain",
          "value": 71,
          "variable": "mass"
         },
         {
          "participant": "Gingras",
          "sex": "w",
          "study": "sylvain",
          "value": 56.5,
          "variable": "mass"
         },
         {
          "participant": "Laperle",
          "sex": "m",
          "study": "sylvain",
          "value": 65,
          "variable": "mass"
         },
         {
          "participant": "Humbert",
          "sex": "m",
          "study": "tennis",
          "value": 70,
          "variable": "mass"
         },
         {
          "participant": "Boyer",
          "sex": "m",
          "study": "tennis",
          "value": 68,
          "variable": "mass"
         },
         {
          "participant": "Pilote",
          "sex": "m",
          "study": "tennis",
          "value": 81.6,
          "variable": "mass"
         },
         {
          "participant": "Collette",
          "sex": "m",
          "study": "tennis",
          "value": 84,
          "variable": "mass"
         },
         {
          "participant": "Jeannin",
          "sex": "m",
          "study": "tennis",
          "value": 82,
          "variable": "mass"
         },
         {
          "participant": "Rihani",
          "sex": "m",
          "study": "tennis",
          "value": 88,
          "variable": "mass"
         },
         {
          "participant": "Trudeau",
          "sex": "m",
          "study": "tennis",
          "value": 80,
          "variable": "mass"
         },
         {
          "participant": "Trudel",
          "sex": "m",
          "study": "tennis",
          "value": 70,
          "variable": "mass"
         },
         {
          "participant": "Goulet",
          "sex": "m",
          "study": "tennis",
          "value": 65.7,
          "variable": "mass"
         },
         {
          "participant": "Aquino",
          "sex": "m",
          "study": "tennis",
          "value": 90.7,
          "variable": "mass"
         },
         {
          "participant": "De la Brosse",
          "sex": "m",
          "study": "tennis",
          "value": 62,
          "variable": "mass"
         },
         {
          "participant": "Léonard",
          "sex": "m",
          "study": "tennis",
          "value": 75,
          "variable": "mass"
         },
         {
          "participant": "Gicquel",
          "sex": "m",
          "study": "tennis",
          "value": 86,
          "variable": "mass"
         },
         {
          "participant": "Chan Hon Tong",
          "sex": "m",
          "study": "tennis",
          "value": 74,
          "variable": "mass"
         },
         {
          "participant": "Campeau",
          "sex": "m",
          "study": "tennis",
          "value": 72,
          "variable": "mass"
         },
         {
          "participant": "Amanda_Gibeau",
          "sex": "w",
          "study": "violon",
          "value": 66.95,
          "variable": "mass"
         },
         {
          "participant": "Martine_Gagné",
          "sex": "w",
          "study": "violon",
          "value": 63.65,
          "variable": "mass"
         },
         {
          "participant": "Sandrine_Vachon",
          "sex": "w",
          "study": "violon",
          "value": 56.95,
          "variable": "mass"
         },
         {
          "participant": "Andreanne_Beaudoin_Poulin",
          "sex": "w",
          "study": "violon",
          "value": 48.2,
          "variable": "mass"
         },
         {
          "participant": "Benjamin_Michaud",
          "sex": "m",
          "study": "violon",
          "value": 75.4,
          "variable": "mass"
         },
         {
          "participant": "Genevieve_Morasse",
          "sex": "w",
          "study": "violon",
          "value": 65.6,
          "variable": "mass"
         },
         {
          "participant": "Camille_Brousseau",
          "sex": "w",
          "study": "violon",
          "value": 58,
          "variable": "mass"
         },
         {
          "participant": "Laurence_Harrison",
          "sex": "w",
          "study": "violon",
          "value": 53.7,
          "variable": "mass"
         },
         {
          "participant": "Nuné_Melik",
          "sex": "w",
          "study": "violon",
          "value": 56,
          "variable": "mass"
         },
         {
          "participant": "Marie_Claude_Massé",
          "sex": "w",
          "study": "violon",
          "value": 51.8,
          "variable": "mass"
         },
         {
          "participant": "sarc",
          "sex": "w",
          "study": "hvsf",
          "value": 170,
          "variable": "height"
         },
         {
          "participant": "inea",
          "sex": "w",
          "study": "hvsf",
          "value": 167,
          "variable": "height"
         },
         {
          "participant": "dapo",
          "sex": "w",
          "study": "hvsf",
          "value": 176,
          "variable": "height"
         },
         {
          "participant": "laug",
          "sex": "w",
          "study": "hvsf",
          "value": 180,
          "variable": "height"
         },
         {
          "participant": "mara",
          "sex": "w",
          "study": "hvsf",
          "value": 163,
          "variable": "height"
         },
         {
          "participant": "mars",
          "sex": "w",
          "study": "hvsf",
          "value": 163,
          "variable": "height"
         },
         {
          "participant": "yosc",
          "sex": "w",
          "study": "hvsf",
          "value": 161,
          "variable": "height"
         },
         {
          "participant": "marc",
          "sex": "w",
          "study": "hvsf",
          "value": 157,
          "variable": "height"
         },
         {
          "participant": "benl",
          "sex": "m",
          "study": "hvsf",
          "value": 175,
          "variable": "height"
         },
         {
          "participant": "davo",
          "sex": "m",
          "study": "hvsf",
          "value": 185,
          "variable": "height"
         },
         {
          "participant": "marb",
          "sex": "m",
          "study": "hvsf",
          "value": 178,
          "variable": "height"
         },
         {
          "participant": "gatb",
          "sex": "m",
          "study": "hvsf",
          "value": 173,
          "variable": "height"
         },
         {
          "participant": "yoap",
          "sex": "m",
          "study": "hvsf",
          "value": 181,
          "variable": "height"
         },
         {
          "participant": "romm",
          "sex": "m",
          "study": "hvsf",
          "value": 193,
          "variable": "height"
         },
         {
          "participant": "camb",
          "sex": "w",
          "study": "hvsf",
          "value": 171,
          "variable": "height"
         },
         {
          "participant": "eved",
          "sex": "w",
          "study": "hvsf",
          "value": 165,
          "variable": "height"
         },
         {
          "participant": "naus",
          "sex": "w",
          "study": "hvsf",
          "value": 174,
          "variable": "height"
         },
         {
          "participant": "emid",
          "sex": "w",
          "study": "hvsf",
          "value": 165,
          "variable": "height"
         },
         {
          "participant": "verc",
          "sex": "w",
          "study": "hvsf",
          "value": 164,
          "variable": "height"
         },
         {
          "participant": "marh",
          "sex": "w",
          "study": "hvsf",
          "value": 176,
          "variable": "height"
         },
         {
          "participant": "samn",
          "sex": "w",
          "study": "hvsf",
          "value": 167,
          "variable": "height"
         },
         {
          "participant": "alef",
          "sex": "w",
          "study": "hvsf",
          "value": 152.4,
          "variable": "height"
         },
         {
          "participant": "danf",
          "sex": "w",
          "study": "hvsf",
          "value": 170,
          "variable": "height"
         },
         {
          "participant": "aimq",
          "sex": "w",
          "study": "hvsf",
          "value": 165,
          "variable": "height"
         },
         {
          "participant": "ameg",
          "sex": "w",
          "study": "hvsf",
          "value": 167,
          "variable": "height"
         },
         {
          "participant": "noel",
          "sex": "w",
          "study": "hvsf",
          "value": 159,
          "variable": "height"
         },
         {
          "participant": "karm",
          "sex": "m",
          "study": "hvsf",
          "value": 180,
          "variable": "height"
         },
         {
          "participant": "patm",
          "sex": "m",
          "study": "hvsf",
          "value": 186,
          "variable": "height"
         },
         {
          "participant": "vicj",
          "sex": "m",
          "study": "hvsf",
          "value": 170,
          "variable": "height"
         },
         {
          "participant": "luia",
          "sex": "m",
          "study": "hvsf",
          "value": 175,
          "variable": "height"
         },
         {
          "participant": "gabf",
          "sex": "m",
          "study": "hvsf",
          "value": 183,
          "variable": "height"
         },
         {
          "participant": "aleb",
          "sex": "m",
          "study": "hvsf",
          "value": 165,
          "variable": "height"
         },
         {
          "participant": "humm",
          "sex": "m",
          "study": "hvsf",
          "value": 173,
          "variable": "height"
         },
         {
          "participant": "emmb",
          "sex": "m",
          "study": "hvsf",
          "value": 185,
          "variable": "height"
         },
         {
          "participant": "fabg",
          "sex": "m",
          "study": "hvsf",
          "value": 175,
          "variable": "height"
         },
         {
          "participant": "nicl",
          "sex": "m",
          "study": "hvsf",
          "value": 173,
          "variable": "height"
         },
         {
          "participant": "sylg",
          "sex": "m",
          "study": "hvsf",
          "value": 183,
          "variable": "height"
         },
         {
          "participant": "daml",
          "sex": "m",
          "study": "hvsf",
          "value": 176,
          "variable": "height"
         },
         {
          "participant": "land",
          "sex": "m",
          "study": "hvsf",
          "value": 189,
          "variable": "height"
         },
         {
          "participant": "emyc",
          "sex": "w",
          "study": "hvsf",
          "value": 167,
          "variable": "height"
         },
         {
          "participant": "amia",
          "sex": "w",
          "study": "hvsf",
          "value": 157,
          "variable": "height"
         },
         {
          "participant": "romr",
          "sex": "w",
          "study": "hvsf",
          "value": 172,
          "variable": "height"
         },
         {
          "participant": "carb",
          "sex": "w",
          "study": "hvsf",
          "value": 170,
          "variable": "height"
         },
         {
          "participant": "anns",
          "sex": "w",
          "study": "hvsf",
          "value": 172,
          "variable": "height"
         },
         {
          "participant": "steb",
          "sex": "w",
          "study": "hvsf",
          "value": 175,
          "variable": "height"
         },
         {
          "participant": "chac",
          "sex": "w",
          "study": "hvsf",
          "value": 169,
          "variable": "height"
         },
         {
          "participant": "roxd",
          "sex": "w",
          "study": "hvsf",
          "value": 165,
          "variable": "height"
         },
         {
          "participant": "vivs",
          "sex": "w",
          "study": "hvsf",
          "value": 177,
          "variable": "height"
         },
         {
          "participant": "adrc",
          "sex": "m",
          "study": "hvsf",
          "value": 174,
          "variable": "height"
         },
         {
          "participant": "geoa",
          "sex": "m",
          "study": "hvsf",
          "value": 169,
          "variable": "height"
         },
         {
          "participant": "yoab",
          "sex": "m",
          "study": "hvsf",
          "value": 180,
          "variable": "height"
         },
         {
          "participant": "nemk",
          "sex": "m",
          "study": "hvsf",
          "value": 175,
          "variable": "height"
         },
         {
          "participant": "matr",
          "sex": "m",
          "study": "hvsf",
          "value": 177,
          "variable": "height"
         },
         {
          "participant": "doca",
          "sex": "m",
          "study": "hvsf",
          "value": 168,
          "variable": "height"
         },
         {
          "participant": "jawr",
          "sex": "m",
          "study": "hvsf",
          "value": 190,
          "variable": "height"
         },
         {
          "participant": "fabd",
          "sex": "m",
          "study": "hvsf",
          "value": 179,
          "variable": "height"
         },
         {
          "participant": "damg",
          "sex": "m",
          "study": "hvsf",
          "value": 194,
          "variable": "height"
         },
         {
          "participant": "arst",
          "sex": "m",
          "study": "hvsf",
          "value": 181,
          "variable": "height"
         },
         {
          "participant": "phil",
          "sex": "m",
          "study": "hvsf",
          "value": 169,
          "variable": "height"
         },
         {
          "participant": "marm",
          "sex": "m",
          "study": "hvsf",
          "value": 180,
          "variable": "height"
         },
         {
          "participant": "beng",
          "sex": "m",
          "study": "evsn",
          "value": 173.9,
          "variable": "height"
         },
         {
          "participant": "jasb",
          "sex": "m",
          "study": "evsn",
          "value": 170,
          "variable": "height"
         },
         {
          "participant": "olid",
          "sex": "m",
          "study": "evsn",
          "value": 183.5,
          "variable": "height"
         },
         {
          "participant": "sylg",
          "sex": "m",
          "study": "evsn",
          "value": 182.5,
          "variable": "height"
         },
         {
          "participant": "gaud",
          "sex": "m",
          "study": "evsn",
          "value": 179.5,
          "variable": "height"
         },
         {
          "participant": "romm",
          "sex": "m",
          "study": "evsn",
          "value": 193.5,
          "variable": "height"
         },
         {
          "participant": "rama",
          "sex": "m",
          "study": "evsn",
          "value": 173,
          "variable": "height"
         },
         {
          "participant": "chra",
          "sex": "m",
          "study": "evsn",
          "value": 180.3,
          "variable": "height"
         },
         {
          "participant": "jeaa",
          "sex": "m",
          "study": "evsn",
          "value": 178,
          "variable": "height"
         },
         {
          "participant": "antc",
          "sex": "m",
          "study": "evsn",
          "value": 180.2,
          "variable": "height"
         },
         {
          "participant": "didl",
          "sex": "m",
          "study": "evsn",
          "value": 189.2,
          "variable": "height"
         },
         {
          "participant": "yoap",
          "sex": "m",
          "study": "evsn",
          "value": 179.4,
          "variable": "height"
         },
         {
          "participant": "char",
          "sex": "m",
          "study": "evsn",
          "value": 157.9,
          "variable": "height"
         },
         {
          "participant": "samc",
          "sex": "m",
          "study": "evsn",
          "value": 169.7,
          "variable": "height"
         },
         {
          "participant": "aled",
          "sex": "m",
          "study": "evsn",
          "value": 184.2,
          "variable": "height"
         },
         {
          "participant": "jull",
          "sex": "m",
          "study": "evsn",
          "value": 177.6,
          "variable": "height"
         },
         {
          "participant": "fras",
          "sex": "m",
          "study": "evsn",
          "value": 165,
          "variable": "height"
         },
         {
          "participant": "norl",
          "sex": "m",
          "study": "evsn",
          "value": 173.7,
          "variable": "height"
         },
         {
          "participant": "maxp",
          "sex": "m",
          "study": "evsn",
          "value": 176.8,
          "variable": "height"
         },
         {
          "participant": "pasd",
          "sex": "m",
          "study": "evsn",
          "value": 174.7,
          "variable": "height"
         },
         {
          "participant": "stec",
          "sex": "m",
          "study": "evsn",
          "value": 170.5,
          "variable": "height"
         },
         {
          "participant": "jono",
          "sex": "m",
          "study": "evsn",
          "value": 187.7,
          "variable": "height"
         },
         {
          "participant": "marc",
          "sex": "m",
          "study": "evsn",
          "value": 180.9,
          "variable": "height"
         },
         {
          "participant": "maxf",
          "sex": "m",
          "study": "evsn",
          "value": 171.5,
          "variable": "height"
         },
         {
          "participant": "eric",
          "sex": "m",
          "study": "evsn",
          "value": 184,
          "variable": "height"
         },
         {
          "participant": "jead",
          "sex": "m",
          "study": "evsn",
          "value": 184.4,
          "variable": "height"
         },
         {
          "participant": "nicl",
          "sex": "m",
          "study": "evsn",
          "value": 178.1,
          "variable": "height"
         },
         {
          "participant": "chrb",
          "sex": "m",
          "study": "evsn",
          "value": 172.9,
          "variable": "height"
         },
         {
          "participant": "blam",
          "sex": "m",
          "study": "evsn",
          "value": 180.4,
          "variable": "height"
         },
         {
          "participant": "davm",
          "sex": "m",
          "study": "evsn",
          "value": 179.1,
          "variable": "height"
         },
         {
          "participant": "jeam",
          "sex": "m",
          "study": "evsn",
          "value": 164.2,
          "variable": "height"
         },
         {
          "participant": "erib",
          "sex": "m",
          "study": "evsn",
          "value": 173.6,
          "variable": "height"
         },
         {
          "participant": "Lalancette",
          "sex": "w",
          "study": "sylvain",
          "value": 165.1,
          "variable": "height"
         },
         {
          "participant": "Jardin",
          "sex": "w",
          "study": "sylvain",
          "value": 168,
          "variable": "height"
         },
         {
          "participant": "Desjarlais",
          "sex": "m",
          "study": "sylvain",
          "value": 181,
          "variable": "height"
         },
         {
          "participant": "Danyluk",
          "sex": "w",
          "study": "sylvain",
          "value": 175,
          "variable": "height"
         },
         {
          "participant": "McGregor",
          "sex": "w",
          "study": "sylvain",
          "value": 165,
          "variable": "height"
         },
         {
          "participant": "Singh",
          "sex": "m",
          "study": "sylvain",
          "value": 184,
          "variable": "height"
         },
         {
          "participant": "Dove-McFalls",
          "sex": "w",
          "study": "sylvain",
          "value": 178.5,
          "variable": "height"
         },
         {
          "participant": "Bisaillon",
          "sex": "w",
          "study": "sylvain",
          "value": 167.5,
          "variable": "height"
         },
         {
          "participant": "Gingras",
          "sex": "w",
          "study": "sylvain",
          "value": 167.5,
          "variable": "height"
         },
         {
          "participant": "Laperle",
          "sex": "m",
          "study": "sylvain",
          "value": 180,
          "variable": "height"
         },
         {
          "participant": "Humbert",
          "sex": "m",
          "study": "tennis",
          "value": 185,
          "variable": "height"
         },
         {
          "participant": "Boyer",
          "sex": "m",
          "study": "tennis",
          "value": 180,
          "variable": "height"
         },
         {
          "participant": "Pilote",
          "sex": "m",
          "study": "tennis",
          "value": 190.5,
          "variable": "height"
         },
         {
          "participant": "Collette",
          "sex": "m",
          "study": "tennis",
          "value": 183,
          "variable": "height"
         },
         {
          "participant": "Jeannin",
          "sex": "m",
          "study": "tennis",
          "value": 184,
          "variable": "height"
         },
         {
          "participant": "Rihani",
          "sex": "m",
          "study": "tennis",
          "value": 189,
          "variable": "height"
         },
         {
          "participant": "Trudeau",
          "sex": "m",
          "study": "tennis",
          "value": 188,
          "variable": "height"
         },
         {
          "participant": "Trudel",
          "sex": "m",
          "study": "tennis",
          "value": 172,
          "variable": "height"
         },
         {
          "participant": "Goulet",
          "sex": "m",
          "study": "tennis",
          "value": 175,
          "variable": "height"
         },
         {
          "participant": "Aquino",
          "sex": "m",
          "study": "tennis",
          "value": 192,
          "variable": "height"
         },
         {
          "participant": "De la Brosse",
          "sex": "m",
          "study": "tennis",
          "value": 173,
          "variable": "height"
         },
         {
          "participant": "Léonard",
          "sex": "m",
          "study": "tennis",
          "value": 186,
          "variable": "height"
         },
         {
          "participant": "Gicquel",
          "sex": "m",
          "study": "tennis",
          "value": 190,
          "variable": "height"
         },
         {
          "participant": "Chan Hon Tong",
          "sex": "m",
          "study": "tennis",
          "value": 179,
          "variable": "height"
         },
         {
          "participant": "Campeau",
          "sex": "m",
          "study": "tennis",
          "value": 175,
          "variable": "height"
         },
         {
          "participant": "Amanda_Gibeau",
          "sex": "w",
          "study": "violon",
          "value": 155.3,
          "variable": "height"
         },
         {
          "participant": "Martine_Gagné",
          "sex": "w",
          "study": "violon",
          "value": 164.4,
          "variable": "height"
         },
         {
          "participant": "Sandrine_Vachon",
          "sex": "w",
          "study": "violon",
          "value": 159.5,
          "variable": "height"
         },
         {
          "participant": "Andreanne_Beaudoin_Poulin",
          "sex": "w",
          "study": "violon",
          "value": 151,
          "variable": "height"
         },
         {
          "participant": "Benjamin_Michaud",
          "sex": "m",
          "study": "violon",
          "value": 167,
          "variable": "height"
         },
         {
          "participant": "Genevieve_Morasse",
          "sex": "w",
          "study": "violon",
          "value": 156,
          "variable": "height"
         },
         {
          "participant": "Camille_Brousseau",
          "sex": "w",
          "study": "violon",
          "value": 164.5,
          "variable": "height"
         },
         {
          "participant": "Laurence_Harrison",
          "sex": "w",
          "study": "violon",
          "value": 157.5,
          "variable": "height"
         },
         {
          "participant": "Nuné_Melik",
          "sex": "w",
          "study": "violon",
          "value": 160.9,
          "variable": "height"
         },
         {
          "participant": "Marie_Claude_Massé",
          "sex": "w",
          "study": "violon",
          "value": 167.5,
          "variable": "height"
         },
         {
          "participant": "sarc",
          "sex": "w",
          "study": "hvsf",
          "value": "21",
          "variable": "age"
         },
         {
          "participant": "inea",
          "sex": "w",
          "study": "hvsf",
          "value": "20",
          "variable": "age"
         },
         {
          "participant": "dapo",
          "sex": "w",
          "study": "hvsf",
          "value": "22",
          "variable": "age"
         },
         {
          "participant": "laug",
          "sex": "w",
          "study": "hvsf",
          "value": "21",
          "variable": "age"
         },
         {
          "participant": "mara",
          "sex": "w",
          "study": "hvsf",
          "value": "21",
          "variable": "age"
         },
         {
          "participant": "mars",
          "sex": "w",
          "study": "hvsf",
          "value": "25",
          "variable": "age"
         },
         {
          "participant": "yosc",
          "sex": "w",
          "study": "hvsf",
          "value": "25",
          "variable": "age"
         },
         {
          "participant": "marc",
          "sex": "w",
          "study": "hvsf",
          "value": "23",
          "variable": "age"
         },
         {
          "participant": "benl",
          "sex": "m",
          "study": "hvsf",
          "value": "27",
          "variable": "age"
         },
         {
          "participant": "davo",
          "sex": "m",
          "study": "hvsf",
          "value": "24",
          "variable": "age"
         },
         {
          "participant": "marb",
          "sex": "m",
          "study": "hvsf",
          "value": "26",
          "variable": "age"
         },
         {
          "participant": "gatb",
          "sex": "m",
          "study": "hvsf",
          "value": "23",
          "variable": "age"
         },
         {
          "participant": "yoap",
          "sex": "m",
          "study": "hvsf",
          "value": "27",
          "variable": "age"
         },
         {
          "participant": "romm",
          "sex": "m",
          "study": "hvsf",
          "value": "23",
          "variable": "age"
         },
         {
          "participant": "camb",
          "sex": "w",
          "study": "hvsf",
          "value": "23",
          "variable": "age"
         },
         {
          "participant": "eved",
          "sex": "w",
          "study": "hvsf",
          "value": "22",
          "variable": "age"
         },
         {
          "participant": "naus",
          "sex": "w",
          "study": "hvsf",
          "value": "23",
          "variable": "age"
         },
         {
          "participant": "emid",
          "sex": "w",
          "study": "hvsf",
          "value": "27",
          "variable": "age"
         },
         {
          "participant": "verc",
          "sex": "w",
          "study": "hvsf",
          "value": "21",
          "variable": "age"
         },
         {
          "participant": "marh",
          "sex": "w",
          "study": "hvsf",
          "value": "23",
          "variable": "age"
         },
         {
          "participant": "samn",
          "sex": "w",
          "study": "hvsf",
          "value": "20",
          "variable": "age"
         },
         {
          "participant": "alef",
          "sex": "w",
          "study": "hvsf",
          "value": "18",
          "variable": "age"
         },
         {
          "participant": "danf",
          "sex": "w",
          "study": "hvsf",
          "value": "20",
          "variable": "age"
         },
         {
          "participant": "aimq",
          "sex": "w",
          "study": "hvsf",
          "value": "22",
          "variable": "age"
         },
         {
          "participant": "ameg",
          "sex": "w",
          "study": "hvsf",
          "value": "18",
          "variable": "age"
         },
         {
          "participant": "noel",
          "sex": "w",
          "study": "hvsf",
          "value": "22",
          "variable": "age"
         },
         {
          "participant": "karm",
          "sex": "m",
          "study": "hvsf",
          "value": "21",
          "variable": "age"
         },
         {
          "participant": "patm",
          "sex": "m",
          "study": "hvsf",
          "value": "28",
          "variable": "age"
         },
         {
          "participant": "vicj",
          "sex": "m",
          "study": "hvsf",
          "value": "21",
          "variable": "age"
         },
         {
          "participant": "luia",
          "sex": "m",
          "study": "hvsf",
          "value": "20",
          "variable": "age"
         },
         {
          "participant": "gabf",
          "sex": "m",
          "study": "hvsf",
          "value": "22",
          "variable": "age"
         },
         {
          "participant": "aleb",
          "sex": "m",
          "study": "hvsf",
          "value": "24",
          "variable": "age"
         },
         {
          "participant": "humm",
          "sex": "m",
          "study": "hvsf",
          "value": "26",
          "variable": "age"
         },
         {
          "participant": "emmb",
          "sex": "m",
          "study": "hvsf",
          "value": "40",
          "variable": "age"
         },
         {
          "participant": "fabg",
          "sex": "m",
          "study": "hvsf",
          "value": "27",
          "variable": "age"
         },
         {
          "participant": "nicl",
          "sex": "m",
          "study": "hvsf",
          "value": "22",
          "variable": "age"
         },
         {
          "participant": "sylg",
          "sex": "m",
          "study": "hvsf",
          "value": "26",
          "variable": "age"
         },
         {
          "participant": "daml",
          "sex": "m",
          "study": "hvsf",
          "value": "38",
          "variable": "age"
         },
         {
          "participant": "land",
          "sex": "m",
          "study": "hvsf",
          "value": "26",
          "variable": "age"
         },
         {
          "participant": "emyc",
          "sex": "w",
          "study": "hvsf",
          "value": null,
          "variable": "age"
         },
         {
          "participant": "amia",
          "sex": "w",
          "study": "hvsf",
          "value": null,
          "variable": "age"
         },
         {
          "participant": "romr",
          "sex": "w",
          "study": "hvsf",
          "value": null,
          "variable": "age"
         },
         {
          "participant": "carb",
          "sex": "w",
          "study": "hvsf",
          "value": null,
          "variable": "age"
         },
         {
          "participant": "anns",
          "sex": "w",
          "study": "hvsf",
          "value": null,
          "variable": "age"
         },
         {
          "participant": "steb",
          "sex": "w",
          "study": "hvsf",
          "value": "NsN",
          "variable": "age"
         },
         {
          "participant": "chac",
          "sex": "w",
          "study": "hvsf",
          "value": null,
          "variable": "age"
         },
         {
          "participant": "roxd",
          "sex": "w",
          "study": "hvsf",
          "value": null,
          "variable": "age"
         },
         {
          "participant": "vivs",
          "sex": "w",
          "study": "hvsf",
          "value": null,
          "variable": "age"
         },
         {
          "participant": "adrc",
          "sex": "m",
          "study": "hvsf",
          "value": null,
          "variable": "age"
         },
         {
          "participant": "geoa",
          "sex": "m",
          "study": "hvsf",
          "value": null,
          "variable": "age"
         },
         {
          "participant": "yoab",
          "sex": "m",
          "study": "hvsf",
          "value": null,
          "variable": "age"
         },
         {
          "participant": "nemk",
          "sex": "m",
          "study": "hvsf",
          "value": null,
          "variable": "age"
         },
         {
          "participant": "matr",
          "sex": "m",
          "study": "hvsf",
          "value": null,
          "variable": "age"
         },
         {
          "participant": "doca",
          "sex": "m",
          "study": "hvsf",
          "value": null,
          "variable": "age"
         },
         {
          "participant": "jawr",
          "sex": "m",
          "study": "hvsf",
          "value": null,
          "variable": "age"
         },
         {
          "participant": "fabd",
          "sex": "m",
          "study": "hvsf",
          "value": "31",
          "variable": "age"
         },
         {
          "participant": "damg",
          "sex": "m",
          "study": "hvsf",
          "value": null,
          "variable": "age"
         },
         {
          "participant": "arst",
          "sex": "m",
          "study": "hvsf",
          "value": "18",
          "variable": "age"
         },
         {
          "participant": "phil",
          "sex": "m",
          "study": "hvsf",
          "value": null,
          "variable": "age"
         },
         {
          "participant": "marm",
          "sex": "m",
          "study": "hvsf",
          "value": "20",
          "variable": "age"
         },
         {
          "participant": "beng",
          "sex": "m",
          "study": "evsn",
          "value": "28",
          "variable": "age"
         },
         {
          "participant": "jasb",
          "sex": "m",
          "study": "evsn",
          "value": "29",
          "variable": "age"
         },
         {
          "participant": "olid",
          "sex": "m",
          "study": "evsn",
          "value": "22",
          "variable": "age"
         },
         {
          "participant": "sylg",
          "sex": "m",
          "study": "evsn",
          "value": "28",
          "variable": "age"
         },
         {
          "participant": "gaud",
          "sex": "m",
          "study": "evsn",
          "value": "24",
          "variable": "age"
         },
         {
          "participant": "romm",
          "sex": "m",
          "study": "evsn",
          "value": "24",
          "variable": "age"
         },
         {
          "participant": "rama",
          "sex": "m",
          "study": "evsn",
          "value": "23",
          "variable": "age"
         },
         {
          "participant": "chra",
          "sex": "m",
          "study": "evsn",
          "value": "26",
          "variable": "age"
         },
         {
          "participant": "jeaa",
          "sex": "m",
          "study": "evsn",
          "value": "26",
          "variable": "age"
         },
         {
          "participant": "antc",
          "sex": "m",
          "study": "evsn",
          "value": "23",
          "variable": "age"
         },
         {
          "participant": "didl",
          "sex": "m",
          "study": "evsn",
          "value": "27",
          "variable": "age"
         },
         {
          "participant": "yoap",
          "sex": "m",
          "study": "evsn",
          "value": "28",
          "variable": "age"
         },
         {
          "participant": "char",
          "sex": "m",
          "study": "evsn",
          "value": "22",
          "variable": "age"
         },
         {
          "participant": "samc",
          "sex": "m",
          "study": "evsn",
          "value": "27",
          "variable": "age"
         },
         {
          "participant": "aled",
          "sex": "m",
          "study": "evsn",
          "value": "30",
          "variable": "age"
         },
         {
          "participant": "jull",
          "sex": "m",
          "study": "evsn",
          "value": "23",
          "variable": "age"
         },
         {
          "participant": "fras",
          "sex": "m",
          "study": "evsn",
          "value": "41",
          "variable": "age"
         },
         {
          "participant": "norl",
          "sex": "m",
          "study": "evsn",
          "value": "42",
          "variable": "age"
         },
         {
          "participant": "maxp",
          "sex": "m",
          "study": "evsn",
          "value": "29",
          "variable": "age"
         },
         {
          "participant": "pasd",
          "sex": "m",
          "study": "evsn",
          "value": "28",
          "variable": "age"
         },
         {
          "participant": "stec",
          "sex": "m",
          "study": "evsn",
          "value": "34",
          "variable": "age"
         },
         {
          "participant": "jono",
          "sex": "m",
          "study": "evsn",
          "value": "26",
          "variable": "age"
         },
         {
          "participant": "marc",
          "sex": "m",
          "study": "evsn",
          "value": "32",
          "variable": "age"
         },
         {
          "participant": "maxf",
          "sex": "m",
          "study": "evsn",
          "value": "34",
          "variable": "age"
         },
         {
          "participant": "eric",
          "sex": "m",
          "study": "evsn",
          "value": "34",
          "variable": "age"
         },
         {
          "participant": "jead",
          "sex": "m",
          "study": "evsn",
          "value": "45",
          "variable": "age"
         },
         {
          "participant": "nicl",
          "sex": "m",
          "study": "evsn",
          "value": "35",
          "variable": "age"
         },
         {
          "participant": "chrb",
          "sex": "m",
          "study": "evsn",
          "value": "40",
          "variable": "age"
         },
         {
          "participant": "blam",
          "sex": "m",
          "study": "evsn",
          "value": "36",
          "variable": "age"
         },
         {
          "participant": "davm",
          "sex": "m",
          "study": "evsn",
          "value": "27",
          "variable": "age"
         },
         {
          "participant": "jeam",
          "sex": "m",
          "study": "evsn",
          "value": "41",
          "variable": "age"
         },
         {
          "participant": "erib",
          "sex": "m",
          "study": "evsn",
          "value": "48",
          "variable": "age"
         },
         {
          "participant": "Lalancette",
          "sex": "w",
          "study": "sylvain",
          "value": "23",
          "variable": "age"
         },
         {
          "participant": "Jardin",
          "sex": "w",
          "study": "sylvain",
          "value": "23",
          "variable": "age"
         },
         {
          "participant": "Desjarlais",
          "sex": "m",
          "study": "sylvain",
          "value": "19",
          "variable": "age"
         },
         {
          "participant": "Danyluk",
          "sex": "w",
          "study": "sylvain",
          "value": "16",
          "variable": "age"
         },
         {
          "participant": "McGregor",
          "sex": "w",
          "study": "sylvain",
          "value": "22",
          "variable": "age"
         },
         {
          "participant": "Singh",
          "sex": "m",
          "study": "sylvain",
          "value": "15",
          "variable": "age"
         },
         {
          "participant": "Dove-McFalls",
          "sex": "w",
          "study": "sylvain",
          "value": "15",
          "variable": "age"
         },
         {
          "participant": "Bisaillon",
          "sex": "w",
          "study": "sylvain",
          "value": "17",
          "variable": "age"
         },
         {
          "participant": "Gingras",
          "sex": "w",
          "study": "sylvain",
          "value": "16",
          "variable": "age"
         },
         {
          "participant": "Laperle",
          "sex": "m",
          "study": "sylvain",
          "value": "17",
          "variable": "age"
         },
         {
          "participant": "Humbert",
          "sex": "m",
          "study": "tennis",
          "value": "25",
          "variable": "age"
         },
         {
          "participant": "Boyer",
          "sex": "m",
          "study": "tennis",
          "value": "32",
          "variable": "age"
         },
         {
          "participant": "Pilote",
          "sex": "m",
          "study": "tennis",
          "value": "22",
          "variable": "age"
         },
         {
          "participant": "Collette",
          "sex": "m",
          "study": "tennis",
          "value": "27",
          "variable": "age"
         },
         {
          "participant": "Jeannin",
          "sex": "m",
          "study": "tennis",
          "value": "30",
          "variable": "age"
         },
         {
          "participant": "Rihani",
          "sex": "m",
          "study": "tennis",
          "value": "21",
          "variable": "age"
         },
         {
          "participant": "Trudeau",
          "sex": "m",
          "study": "tennis",
          "value": "25",
          "variable": "age"
         },
         {
          "participant": "Trudel",
          "sex": "m",
          "study": "tennis",
          "value": "30",
          "variable": "age"
         },
         {
          "participant": "Goulet",
          "sex": "m",
          "study": "tennis",
          "value": "20",
          "variable": "age"
         },
         {
          "participant": "Aquino",
          "sex": "m",
          "study": "tennis",
          "value": "22",
          "variable": "age"
         },
         {
          "participant": "De la Brosse",
          "sex": "m",
          "study": "tennis",
          "value": "18",
          "variable": "age"
         },
         {
          "participant": "Léonard",
          "sex": "m",
          "study": "tennis",
          "value": "20",
          "variable": "age"
         },
         {
          "participant": "Gicquel",
          "sex": "m",
          "study": "tennis",
          "value": "18",
          "variable": "age"
         },
         {
          "participant": "Chan Hon Tong",
          "sex": "m",
          "study": "tennis",
          "value": "23",
          "variable": "age"
         },
         {
          "participant": "Campeau",
          "sex": "m",
          "study": "tennis",
          "value": "24",
          "variable": "age"
         },
         {
          "participant": "Amanda_Gibeau",
          "sex": "w",
          "study": "violon",
          "value": "24",
          "variable": "age"
         },
         {
          "participant": "Martine_Gagné",
          "sex": "w",
          "study": "violon",
          "value": "39",
          "variable": "age"
         },
         {
          "participant": "Sandrine_Vachon",
          "sex": "w",
          "study": "violon",
          "value": "23",
          "variable": "age"
         },
         {
          "participant": "Andreanne_Beaudoin_Poulin",
          "sex": "w",
          "study": "violon",
          "value": "27",
          "variable": "age"
         },
         {
          "participant": "Benjamin_Michaud",
          "sex": "m",
          "study": "violon",
          "value": "30",
          "variable": "age"
         },
         {
          "participant": "Genevieve_Morasse",
          "sex": "w",
          "study": "violon",
          "value": "24",
          "variable": "age"
         },
         {
          "participant": "Camille_Brousseau",
          "sex": "w",
          "study": "violon",
          "value": "21",
          "variable": "age"
         },
         {
          "participant": "Laurence_Harrison",
          "sex": "w",
          "study": "violon",
          "value": "21",
          "variable": "age"
         },
         {
          "participant": "Nuné_Melik",
          "sex": "w",
          "study": "violon",
          "value": "27",
          "variable": "age"
         },
         {
          "participant": "Marie_Claude_Massé",
          "sex": "w",
          "study": "violon",
          "value": "43",
          "variable": "age"
         }
        ]
       },
       "facet": {
        "column": {
         "field": "variable",
         "type": "nominal"
        }
       },
       "resolve": {
        "scale": {
         "x": "shared",
         "y": "independent"
        }
       },
       "spec": {
        "encoding": {
         "x": {
          "aggregate": "mean",
          "field": "value",
          "type": "quantitative"
         },
         "y": {
          "field": "study",
          "type": "nominal"
         }
        },
        "mark": "bar"
       }
      },
      "image/png": "[encoded data removed]",
      "text/plain": [
       "<VegaLite 2 object>\n",
       "\n",
       "If you see this message, it means the renderer has not been properly enabled\n",
       "for the frontend that you are using. For more information, see\n",
       "https://altair-viz.github.io/user_guide/troubleshooting.html\n"
      ]
     },
     "execution_count": 29,
     "metadata": {},
     "output_type": "execute_result"
    }
   ],
   "source": [
    "c = (alt.Chart().mark_bar().encode(\n",
    "    alt.Y('study'), alt.X('mean(value):Q')\n",
    ").facet(data=demo_melted, column=alt.Column('variable')).resolve_scale(y='independent'))\n",
    "\n",
    "c"
   ]
  },
  {
   "cell_type": "code",
   "execution_count": null,
   "metadata": {},
   "outputs": [],
   "source": []
  }
 ],
 "metadata": {
  "kernelspec": {
   "display_name": "Python [conda env:mvc]",
   "language": "python",
   "name": "conda-env-mvc-py"
  },
  "language_info": {
   "codemirror_mode": {
    "name": "ipython",
    "version": 3
   },
   "file_extension": ".py",
   "mimetype": "text/x-python",
   "name": "python",
   "nbconvert_exporter": "python",
   "pygments_lexer": "ipython3",
   "version": "3.7.2"
  }
 },
 "nbformat": 4,
 "nbformat_minor": 2
}
