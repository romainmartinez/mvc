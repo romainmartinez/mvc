{
 "cells": [
  {
   "cell_type": "markdown",
   "metadata": {
    "toc": true
   },
   "source": [
    "<h1>Table of Contents<span class=\"tocSkip\"></span></h1>\n",
    "<div class=\"toc\"><ul class=\"toc-item\"><li><span><a href=\"#1.-MVC-project-description\" data-toc-modified-id=\"1.-MVC-project-description-1\">1. MVC project description</a></span></li><li><span><a href=\"#2.-Setup\" data-toc-modified-id=\"2.-Setup-2\">2. Setup</a></span></li><li><span><a href=\"#3.-Get-the-data\" data-toc-modified-id=\"3.-Get-the-data-3\">3. Get the data</a></span><ul class=\"toc-item\"><li><span><a href=\"#3.1.-From-matlab-to-dict\" data-toc-modified-id=\"3.1.-From-matlab-to-dict-3.1\">3.1. From matlab to dict</a></span></li><li><span><a href=\"#3.2.-From-dict-to-pandas-dataframe\" data-toc-modified-id=\"3.2.-From-dict-to-pandas-dataframe-3.2\">3.2. From dict to pandas dataframe</a></span></li></ul></li><li><span><a href=\"#4.-Data-analysis\" data-toc-modified-id=\"4.-Data-analysis-4\">4. Data analysis</a></span><ul class=\"toc-item\"><li><span><a href=\"#4.1.-Muscles-by-dataset\" data-toc-modified-id=\"4.1.-Muscles-by-dataset-4.1\">4.1. Muscles by dataset</a></span></li><li><span><a href=\"#4.2.-Tests-by-dataset\" data-toc-modified-id=\"4.2.-Tests-by-dataset-4.2\">4.2. Tests by dataset</a></span></li><li><span><a href=\"#4.3.-Muscles-and-tests-count\" data-toc-modified-id=\"4.3.-Muscles-and-tests-count-4.3\">4.3. Muscles and tests count</a></span></li><li><span><a href=\"#4.4.-Max-for-each-test-(normalized-by-participant-number)\" data-toc-modified-id=\"4.4.-Max-for-each-test-(normalized-by-participant-number)-4.4\">4.4. Max for each test (normalized by participant number)</a></span></li><li><span><a href=\"#4.5.-Distribution\" data-toc-modified-id=\"4.5.-Distribution-4.5\">4.5. Distribution</a></span></li><li><span><a href=\"#4.6.-Summary\" data-toc-modified-id=\"4.6.-Summary-4.6\">4.6. Summary</a></span></li></ul></li><li><span><a href=\"#5.-Tests-selection\" data-toc-modified-id=\"5.-Tests-selection-5\">5. Tests selection</a></span><ul class=\"toc-item\"><li><span><a href=\"#5.1-Outcome\" data-toc-modified-id=\"5.1-Outcome-5.1\">5.1 Outcome</a></span></li></ul></li><li><span><a href=\"#6.-Machine-learning-pipeline\" data-toc-modified-id=\"6.-Machine-learning-pipeline-6\">6. Machine learning pipeline</a></span><ul class=\"toc-item\"><li><span><a href=\"#5.1.-Shuffle-&amp;-split-data\" data-toc-modified-id=\"5.1.-Shuffle-&amp;-split-data-6.1\">5.1. Shuffle &amp; split data</a></span></li></ul></li></ul></div>"
   ]
  },
  {
   "cell_type": "markdown",
   "metadata": {},
   "source": [
    "# 1. MVC project description\n",
    "\n",
    "**Links**\n",
    "- [github repo](https://github.com/romainmartinez/mvc)\n",
    "- [plotly figures](https://plot.ly/organize/romainmartinez:114)\n",
    "\n",
    "**Todos**\n",
    "- update readme, description\n",
    "- add data analysis summary\n",
    "- one model by muscle\n",
    "\n",
    "**Author**: _Romain Martinez._"
   ]
  },
  {
   "cell_type": "markdown",
   "metadata": {},
   "source": [
    "# 2. Setup"
   ]
  },
  {
   "cell_type": "code",
   "execution_count": 79,
   "metadata": {
    "run_control": {
     "marked": false
    }
   },
   "outputs": [
    {
     "data": {
      "text/html": [
       "<script>requirejs.config({paths: { 'plotly': ['https://cdn.plot.ly/plotly-latest.min']},});if(!window.Plotly) {{require(['plotly'],function(plotly) {window.Plotly=plotly;});}}</script>"
      ],
      "text/vnd.plotly.v1+html": [
       "<script>requirejs.config({paths: { 'plotly': ['https://cdn.plot.ly/plotly-latest.min']},});if(!window.Plotly) {{require(['plotly'],function(plotly) {window.Plotly=plotly;});}}</script>"
      ]
     },
     "metadata": {},
     "output_type": "display_data"
    }
   ],
   "source": [
    "# Common imports\n",
    "import scipy.io as sio\n",
    "import pandas as pd\n",
    "import numpy as np\n",
    "\n",
    "# Path\n",
    "from pathlib import Path, PurePath\n",
    "PROJECT_PATH = Path('./')\n",
    "DATA_PATH = PROJECT_PATH.joinpath('data')\n",
    "\n",
    "# to make this notebook's output stable across runs\n",
    "RANDOM_SEED = 42\n",
    "np.random.seed(RANDOM_SEED)\n",
    "\n",
    "# Figures\n",
    "OFFLINE = True\n",
    "if OFFLINE:\n",
    "    import plotly.offline as py\n",
    "    py.init_notebook_mode(connected=True)\n",
    "else:\n",
    "    import plotly.plotly as py\n",
    "import plotly.graph_objs as go\n",
    "import plotly.figure_factory as ff\n",
    "from plotly import tools\n",
    "BASE_LAYOUT = go.Layout(hovermode='closest', font=dict(size=14))\n",
    "MARKER_LAYOUT = dict(\n",
    "    color='rgba(50, 171, 96, 0.6)',\n",
    "    line=dict(\n",
    "        color='rgba(50, 171, 96, 1.0)',\n",
    "        width=2,\n",
    "    ))"
   ]
  },
  {
   "cell_type": "markdown",
   "metadata": {},
   "source": [
    "# 3. Get the data"
   ]
  },
  {
   "cell_type": "markdown",
   "metadata": {},
   "source": [
    "## 3.1. From matlab to dict"
   ]
  },
  {
   "cell_type": "code",
   "execution_count": 2,
   "metadata": {
    "run_control": {
     "marked": false
    }
   },
   "outputs": [],
   "source": [
    "def load_data(data_path, data_format, normalize=False):\n",
    "    if not data_path.is_dir():\n",
    "        raise ValueError('please provide a valid data path')\n",
    "        \n",
    "    mat = {}\n",
    "    data = {key: [] for key in ('datasets', 'participants', 'muscles', 'tests', 'mvc')}\n",
    "    count = -1\n",
    "    dataset_names = []\n",
    "    \n",
    "    for idataset, ifile in enumerate(data_path.iterdir()):\n",
    "        if ifile.parts[-1].endswith(f'{data_format}.mat'):\n",
    "            dataset = ifile.parts[-1].replace('_only_max.mat', '').replace('MVE_Data_', '')\n",
    "            \n",
    "            if dataset not in dataset_names:\n",
    "                dataset_names.append(dataset)\n",
    "            \n",
    "            mat[dataset] = sio.loadmat(ifile)['MVE']\n",
    "            n_participants = mat[dataset].shape[0]\n",
    "            print(f\"project '{dataset}' ({n_participants} participants)\")\n",
    "            \n",
    "            for iparticipant in range(mat[dataset].shape[0]):\n",
    "                count += 1\n",
    "                for imuscle in range(mat[dataset].shape[1]):\n",
    "                    max_mvc = np.nanmax(mat[dataset][iparticipant, imuscle, :])\n",
    "                    for itest in range(mat[dataset].shape[2]):\n",
    "                        data['participants'].append(count)\n",
    "                        data['datasets'].append(idataset)\n",
    "                        data['muscles'].append(imuscle)\n",
    "                        data['tests'].append(itest)\n",
    "                        if normalize:\n",
    "                            data['mvc'].append(mat[dataset][iparticipant, imuscle, itest] * 100 / max_mvc)\n",
    "                        else:\n",
    "                            data['mvc'].append(mat[dataset][iparticipant, imuscle, itest])\n",
    "                            \n",
    "    print(f'\\n\\ttotal participants: {count}')\n",
    "    return data, dataset_names"
   ]
  },
  {
   "cell_type": "code",
   "execution_count": 3,
   "metadata": {
    "run_control": {
     "marked": false
    }
   },
   "outputs": [
    {
     "name": "stdout",
     "output_type": "stream",
     "text": [
      "project 'Landry2016' (15 participants)\n",
      "project 'Landry2015_2' (11 participants)\n",
      "project 'Landry2015_1' (14 participants)\n",
      "project 'Violon' (10 participants)\n",
      "project 'Yoann_2015' (22 participants)\n",
      "project 'Landry2013' (21 participants)\n",
      "project 'Landry2012' (18 participants)\n",
      "project 'Tennis' (16 participants)\n",
      "project 'Patrick_2013' (16 participants)\n",
      "project 'Sylvain_2015' (10 participants)\n",
      "\n",
      "\ttotal participants: 152\n"
     ]
    },
    {
     "name": "stderr",
     "output_type": "stream",
     "text": [
      "/home/romain/.local/share/virtualenvs/mvc-kMH3Oq29/lib/python3.6/site-packages/ipykernel_launcher.py:24: RuntimeWarning:\n",
      "\n",
      "All-NaN slice encountered\n",
      "\n"
     ]
    }
   ],
   "source": [
    "DATA_FORMAT = 'only_max'\n",
    "data, DATASET_NAMES = load_data(data_path=DATA_PATH, data_format=DATA_FORMAT, normalize=False)\n",
    "\n",
    "MUSCLES_NAMES = [\n",
    "    'upper trapezius', 'middle trapezius', 'lower trapezius',\n",
    "    'anterior deltoid', 'middle deltoid', 'posterior deltoid',\n",
    "    'pectoralis major', 'serratus anterior', 'latissimus dorsi',\n",
    "    'supraspinatus', 'infraspinatus', 'subscapularis'\n",
    "]\n",
    "TEST_NAMES = np.arange(16)"
   ]
  },
  {
   "cell_type": "markdown",
   "metadata": {},
   "source": [
    "## 3.2. From dict to pandas dataframe"
   ]
  },
  {
   "cell_type": "code",
   "execution_count": 4,
   "metadata": {
    "run_control": {
     "marked": false
    }
   },
   "outputs": [
    {
     "name": "stdout",
     "output_type": "stream",
     "text": [
      "dataset shape = (16456, 5)\n"
     ]
    },
    {
     "data": {
      "text/html": [
       "<div>\n",
       "<style scoped>\n",
       "    .dataframe tbody tr th:only-of-type {\n",
       "        vertical-align: middle;\n",
       "    }\n",
       "\n",
       "    .dataframe tbody tr th {\n",
       "        vertical-align: top;\n",
       "    }\n",
       "\n",
       "    .dataframe thead th {\n",
       "        text-align: right;\n",
       "    }\n",
       "</style>\n",
       "<table border=\"1\" class=\"dataframe\">\n",
       "  <thead>\n",
       "    <tr style=\"text-align: right;\">\n",
       "      <th></th>\n",
       "      <th>dataset</th>\n",
       "      <th>muscle</th>\n",
       "      <th>mvc</th>\n",
       "      <th>participant</th>\n",
       "      <th>test</th>\n",
       "    </tr>\n",
       "  </thead>\n",
       "  <tbody>\n",
       "    <tr>\n",
       "      <th>2</th>\n",
       "      <td>0</td>\n",
       "      <td>0</td>\n",
       "      <td>0.127825</td>\n",
       "      <td>0</td>\n",
       "      <td>2</td>\n",
       "    </tr>\n",
       "    <tr>\n",
       "      <th>3</th>\n",
       "      <td>0</td>\n",
       "      <td>0</td>\n",
       "      <td>0.124255</td>\n",
       "      <td>0</td>\n",
       "      <td>3</td>\n",
       "    </tr>\n",
       "    <tr>\n",
       "      <th>4</th>\n",
       "      <td>0</td>\n",
       "      <td>0</td>\n",
       "      <td>0.146927</td>\n",
       "      <td>0</td>\n",
       "      <td>4</td>\n",
       "    </tr>\n",
       "    <tr>\n",
       "      <th>5</th>\n",
       "      <td>0</td>\n",
       "      <td>0</td>\n",
       "      <td>0.041583</td>\n",
       "      <td>0</td>\n",
       "      <td>5</td>\n",
       "    </tr>\n",
       "    <tr>\n",
       "      <th>8</th>\n",
       "      <td>0</td>\n",
       "      <td>0</td>\n",
       "      <td>0.162206</td>\n",
       "      <td>0</td>\n",
       "      <td>8</td>\n",
       "    </tr>\n",
       "  </tbody>\n",
       "</table>\n",
       "</div>"
      ],
      "text/plain": [
       "   dataset  muscle       mvc  participant  test\n",
       "2        0       0  0.127825            0     2\n",
       "3        0       0  0.124255            0     3\n",
       "4        0       0  0.146927            0     4\n",
       "5        0       0  0.041583            0     5\n",
       "8        0       0  0.162206            0     8"
      ]
     },
     "execution_count": 4,
     "metadata": {},
     "output_type": "execute_result"
    }
   ],
   "source": [
    "df_tidy = pd.DataFrame({\n",
    "    'participant': data['participants'],\n",
    "    'dataset': data['datasets'],\n",
    "    'muscle': data['muscles'],\n",
    "    'test': data['tests'],\n",
    "    'mvc': data['mvc']\n",
    "}).dropna()\n",
    "\n",
    "print(f'dataset shape = {df_tidy.shape}')\n",
    "df_tidy.head()"
   ]
  },
  {
   "cell_type": "code",
   "execution_count": 5,
   "metadata": {
    "run_control": {
     "marked": false
    }
   },
   "outputs": [
    {
     "name": "stdout",
     "output_type": "stream",
     "text": [
      "dataset shape = (1468, 17)\n"
     ]
    },
    {
     "data": {
      "text/html": [
       "<div>\n",
       "<style scoped>\n",
       "    .dataframe tbody tr th:only-of-type {\n",
       "        vertical-align: middle;\n",
       "    }\n",
       "\n",
       "    .dataframe tbody tr th {\n",
       "        vertical-align: top;\n",
       "    }\n",
       "\n",
       "    .dataframe thead th {\n",
       "        text-align: right;\n",
       "    }\n",
       "</style>\n",
       "<table border=\"1\" class=\"dataframe\">\n",
       "  <thead>\n",
       "    <tr style=\"text-align: right;\">\n",
       "      <th>test</th>\n",
       "      <th>muscle</th>\n",
       "      <th>0</th>\n",
       "      <th>1</th>\n",
       "      <th>2</th>\n",
       "      <th>3</th>\n",
       "      <th>4</th>\n",
       "      <th>5</th>\n",
       "      <th>6</th>\n",
       "      <th>7</th>\n",
       "      <th>8</th>\n",
       "      <th>9</th>\n",
       "      <th>10</th>\n",
       "      <th>11</th>\n",
       "      <th>12</th>\n",
       "      <th>13</th>\n",
       "      <th>14</th>\n",
       "      <th>15</th>\n",
       "    </tr>\n",
       "  </thead>\n",
       "  <tbody>\n",
       "    <tr>\n",
       "      <th>0</th>\n",
       "      <td>0</td>\n",
       "      <td>NaN</td>\n",
       "      <td>NaN</td>\n",
       "      <td>0.127825</td>\n",
       "      <td>0.124255</td>\n",
       "      <td>0.146927</td>\n",
       "      <td>0.041583</td>\n",
       "      <td>NaN</td>\n",
       "      <td>NaN</td>\n",
       "      <td>0.162206</td>\n",
       "      <td>0.017711</td>\n",
       "      <td>0.014369</td>\n",
       "      <td>NaN</td>\n",
       "      <td>NaN</td>\n",
       "      <td>NaN</td>\n",
       "      <td>NaN</td>\n",
       "      <td>0.036916</td>\n",
       "    </tr>\n",
       "    <tr>\n",
       "      <th>1</th>\n",
       "      <td>2</td>\n",
       "      <td>NaN</td>\n",
       "      <td>NaN</td>\n",
       "      <td>0.179864</td>\n",
       "      <td>0.294909</td>\n",
       "      <td>0.295846</td>\n",
       "      <td>0.107769</td>\n",
       "      <td>NaN</td>\n",
       "      <td>NaN</td>\n",
       "      <td>0.199097</td>\n",
       "      <td>0.202150</td>\n",
       "      <td>0.022668</td>\n",
       "      <td>NaN</td>\n",
       "      <td>NaN</td>\n",
       "      <td>NaN</td>\n",
       "      <td>NaN</td>\n",
       "      <td>0.071460</td>\n",
       "    </tr>\n",
       "    <tr>\n",
       "      <th>2</th>\n",
       "      <td>3</td>\n",
       "      <td>NaN</td>\n",
       "      <td>NaN</td>\n",
       "      <td>0.078753</td>\n",
       "      <td>0.244578</td>\n",
       "      <td>0.272709</td>\n",
       "      <td>0.010146</td>\n",
       "      <td>NaN</td>\n",
       "      <td>NaN</td>\n",
       "      <td>0.106490</td>\n",
       "      <td>0.010600</td>\n",
       "      <td>0.007517</td>\n",
       "      <td>NaN</td>\n",
       "      <td>NaN</td>\n",
       "      <td>NaN</td>\n",
       "      <td>NaN</td>\n",
       "      <td>0.238814</td>\n",
       "    </tr>\n",
       "    <tr>\n",
       "      <th>3</th>\n",
       "      <td>4</td>\n",
       "      <td>NaN</td>\n",
       "      <td>NaN</td>\n",
       "      <td>0.150353</td>\n",
       "      <td>0.104654</td>\n",
       "      <td>0.115272</td>\n",
       "      <td>0.057845</td>\n",
       "      <td>NaN</td>\n",
       "      <td>NaN</td>\n",
       "      <td>0.065429</td>\n",
       "      <td>0.052930</td>\n",
       "      <td>0.009894</td>\n",
       "      <td>NaN</td>\n",
       "      <td>NaN</td>\n",
       "      <td>NaN</td>\n",
       "      <td>NaN</td>\n",
       "      <td>0.079885</td>\n",
       "    </tr>\n",
       "    <tr>\n",
       "      <th>4</th>\n",
       "      <td>5</td>\n",
       "      <td>NaN</td>\n",
       "      <td>NaN</td>\n",
       "      <td>0.172669</td>\n",
       "      <td>0.124655</td>\n",
       "      <td>0.133114</td>\n",
       "      <td>0.196436</td>\n",
       "      <td>NaN</td>\n",
       "      <td>NaN</td>\n",
       "      <td>0.101393</td>\n",
       "      <td>0.187997</td>\n",
       "      <td>0.051396</td>\n",
       "      <td>NaN</td>\n",
       "      <td>NaN</td>\n",
       "      <td>NaN</td>\n",
       "      <td>NaN</td>\n",
       "      <td>0.050041</td>\n",
       "    </tr>\n",
       "  </tbody>\n",
       "</table>\n",
       "</div>"
      ],
      "text/plain": [
       "test  muscle   0   1         2         3         4         5   6   7  \\\n",
       "0          0 NaN NaN  0.127825  0.124255  0.146927  0.041583 NaN NaN   \n",
       "1          2 NaN NaN  0.179864  0.294909  0.295846  0.107769 NaN NaN   \n",
       "2          3 NaN NaN  0.078753  0.244578  0.272709  0.010146 NaN NaN   \n",
       "3          4 NaN NaN  0.150353  0.104654  0.115272  0.057845 NaN NaN   \n",
       "4          5 NaN NaN  0.172669  0.124655  0.133114  0.196436 NaN NaN   \n",
       "\n",
       "test         8         9        10  11  12  13  14        15  \n",
       "0     0.162206  0.017711  0.014369 NaN NaN NaN NaN  0.036916  \n",
       "1     0.199097  0.202150  0.022668 NaN NaN NaN NaN  0.071460  \n",
       "2     0.106490  0.010600  0.007517 NaN NaN NaN NaN  0.238814  \n",
       "3     0.065429  0.052930  0.009894 NaN NaN NaN NaN  0.079885  \n",
       "4     0.101393  0.187997  0.051396 NaN NaN NaN NaN  0.050041  "
      ]
     },
     "execution_count": 5,
     "metadata": {},
     "output_type": "execute_result"
    }
   ],
   "source": [
    "df_wide = df_tidy.pivot_table(\n",
    "    index=['dataset', 'participant', 'muscle'],\n",
    "    columns='test',\n",
    "    values='mvc',\n",
    "    fill_value=np.nan).reset_index()\n",
    "\n",
    "df_wide = df_wide.drop(['dataset', 'participant'], axis=1)\n",
    "\n",
    "print(f'dataset shape = {df_wide.shape}')\n",
    "df_wide.head()"
   ]
  },
  {
   "cell_type": "markdown",
   "metadata": {},
   "source": [
    "# 4. Data analysis"
   ]
  },
  {
   "cell_type": "markdown",
   "metadata": {},
   "source": [
    "## 4.1. Muscles by dataset"
   ]
  },
  {
   "cell_type": "code",
   "execution_count": 6,
   "metadata": {
    "run_control": {
     "marked": false
    }
   },
   "outputs": [],
   "source": [
    "def plot_count_by_dataset(d, values, index, columns, **kwargs):\n",
    "    table = d.pivot_table(\n",
    "        values,\n",
    "        index,\n",
    "        columns,\n",
    "        aggfunc=lambda x: len(x) / x.nunique(),\n",
    "        fill_value=0).astype(int)\n",
    "\n",
    "    fig = ff.create_annotated_heatmap(\n",
    "        z=np.array(table),\n",
    "        x=kwargs.get('xlabel'),\n",
    "        y=kwargs.get('ylabel'),\n",
    "        showscale=True,\n",
    "        colorscale='YlGnBu',\n",
    "        colorbar=dict(title='Count', titleside='right'))\n",
    "\n",
    "    fig['layout'].update(BASE_LAYOUT)\n",
    "    fig['layout'].update(\n",
    "        dict(\n",
    "            title=kwargs.get('title'),\n",
    "            xaxis=dict(title=kwargs.get('xtitle'), side='bottom'),\n",
    "            yaxis=dict(title=kwargs.get('ytitle'), autorange='reversed'),\n",
    "            margin=go.Margin(t=80, b=80, l=150, r=80, pad=0)))\n",
    "    return fig"
   ]
  },
  {
   "cell_type": "code",
   "execution_count": 7,
   "metadata": {
    "run_control": {
     "marked": false
    }
   },
   "outputs": [
    {
     "data": {
      "application/vnd.plotly.v1+json": {
       "data": [
        {
         "colorbar": {
          "title": "Count",
          "titleside": "right"
         },
         "colorscale": "YlGnBu",
         "showscale": true,
         "type": "heatmap",
         "x": [
          "upper trapezius",
          "middle trapezius",
          "lower trapezius",
          "anterior deltoid",
          "middle deltoid",
          "posterior deltoid",
          "pectoralis major",
          "serratus anterior",
          "latissimus dorsi",
          "supraspinatus",
          "infraspinatus",
          "subscapularis"
         ],
         "y": [
          "Landry2016",
          "Landry2015_2",
          "Landry2015_1",
          "Violon",
          "Yoann_2015",
          "Landry2013",
          "Landry2012",
          "Tennis",
          "Patrick_2013",
          "Sylvain_2015"
         ],
         "z": [
          [
           14,
           0,
           14,
           14,
           14,
           14,
           11,
           14,
           11,
           13,
           13,
           12
          ],
          [
           11,
           0,
           11,
           11,
           11,
           11,
           0,
           11,
           0,
           0,
           0,
           0
          ],
          [
           14,
           0,
           14,
           14,
           14,
           14,
           0,
           14,
           0,
           14,
           14,
           14
          ],
          [
           0,
           0,
           9,
           9,
           9,
           9,
           0,
           0,
           0,
           8,
           8,
           8
          ],
          [
           22,
           22,
           22,
           0,
           22,
           22,
           22,
           22,
           22,
           22,
           22,
           22
          ],
          [
           21,
           21,
           21,
           21,
           21,
           21,
           21,
           21,
           21,
           0,
           0,
           0
          ],
          [
           18,
           18,
           18,
           18,
           18,
           18,
           18,
           0,
           18,
           0,
           0,
           0
          ],
          [
           15,
           0,
           15,
           15,
           15,
           15,
           15,
           15,
           15,
           15,
           15,
           15
          ],
          [
           16,
           16,
           16,
           16,
           16,
           16,
           16,
           16,
           16,
           16,
           16,
           16
          ],
          [
           10,
           10,
           10,
           0,
           10,
           10,
           10,
           10,
           10,
           10,
           10,
           10
          ]
         ]
        }
       ],
       "layout": {
        "annotations": [
         {
          "font": {
           "color": "#000000"
          },
          "showarrow": false,
          "text": "14",
          "x": "upper trapezius",
          "xref": "x1",
          "y": "Landry2016",
          "yref": "y1"
         },
         {
          "font": {
           "color": "#000000"
          },
          "showarrow": false,
          "text": "0",
          "x": "middle trapezius",
          "xref": "x1",
          "y": "Landry2016",
          "yref": "y1"
         },
         {
          "font": {
           "color": "#000000"
          },
          "showarrow": false,
          "text": "14",
          "x": "lower trapezius",
          "xref": "x1",
          "y": "Landry2016",
          "yref": "y1"
         },
         {
          "font": {
           "color": "#000000"
          },
          "showarrow": false,
          "text": "14",
          "x": "anterior deltoid",
          "xref": "x1",
          "y": "Landry2016",
          "yref": "y1"
         },
         {
          "font": {
           "color": "#000000"
          },
          "showarrow": false,
          "text": "14",
          "x": "middle deltoid",
          "xref": "x1",
          "y": "Landry2016",
          "yref": "y1"
         },
         {
          "font": {
           "color": "#000000"
          },
          "showarrow": false,
          "text": "14",
          "x": "posterior deltoid",
          "xref": "x1",
          "y": "Landry2016",
          "yref": "y1"
         },
         {
          "font": {
           "color": "#000000"
          },
          "showarrow": false,
          "text": "11",
          "x": "pectoralis major",
          "xref": "x1",
          "y": "Landry2016",
          "yref": "y1"
         },
         {
          "font": {
           "color": "#000000"
          },
          "showarrow": false,
          "text": "14",
          "x": "serratus anterior",
          "xref": "x1",
          "y": "Landry2016",
          "yref": "y1"
         },
         {
          "font": {
           "color": "#000000"
          },
          "showarrow": false,
          "text": "11",
          "x": "latissimus dorsi",
          "xref": "x1",
          "y": "Landry2016",
          "yref": "y1"
         },
         {
          "font": {
           "color": "#000000"
          },
          "showarrow": false,
          "text": "13",
          "x": "supraspinatus",
          "xref": "x1",
          "y": "Landry2016",
          "yref": "y1"
         },
         {
          "font": {
           "color": "#000000"
          },
          "showarrow": false,
          "text": "13",
          "x": "infraspinatus",
          "xref": "x1",
          "y": "Landry2016",
          "yref": "y1"
         },
         {
          "font": {
           "color": "#000000"
          },
          "showarrow": false,
          "text": "12",
          "x": "subscapularis",
          "xref": "x1",
          "y": "Landry2016",
          "yref": "y1"
         },
         {
          "font": {
           "color": "#000000"
          },
          "showarrow": false,
          "text": "11",
          "x": "upper trapezius",
          "xref": "x1",
          "y": "Landry2015_2",
          "yref": "y1"
         },
         {
          "font": {
           "color": "#000000"
          },
          "showarrow": false,
          "text": "0",
          "x": "middle trapezius",
          "xref": "x1",
          "y": "Landry2015_2",
          "yref": "y1"
         },
         {
          "font": {
           "color": "#000000"
          },
          "showarrow": false,
          "text": "11",
          "x": "lower trapezius",
          "xref": "x1",
          "y": "Landry2015_2",
          "yref": "y1"
         },
         {
          "font": {
           "color": "#000000"
          },
          "showarrow": false,
          "text": "11",
          "x": "anterior deltoid",
          "xref": "x1",
          "y": "Landry2015_2",
          "yref": "y1"
         },
         {
          "font": {
           "color": "#000000"
          },
          "showarrow": false,
          "text": "11",
          "x": "middle deltoid",
          "xref": "x1",
          "y": "Landry2015_2",
          "yref": "y1"
         },
         {
          "font": {
           "color": "#000000"
          },
          "showarrow": false,
          "text": "11",
          "x": "posterior deltoid",
          "xref": "x1",
          "y": "Landry2015_2",
          "yref": "y1"
         },
         {
          "font": {
           "color": "#000000"
          },
          "showarrow": false,
          "text": "0",
          "x": "pectoralis major",
          "xref": "x1",
          "y": "Landry2015_2",
          "yref": "y1"
         },
         {
          "font": {
           "color": "#000000"
          },
          "showarrow": false,
          "text": "11",
          "x": "serratus anterior",
          "xref": "x1",
          "y": "Landry2015_2",
          "yref": "y1"
         },
         {
          "font": {
           "color": "#000000"
          },
          "showarrow": false,
          "text": "0",
          "x": "latissimus dorsi",
          "xref": "x1",
          "y": "Landry2015_2",
          "yref": "y1"
         },
         {
          "font": {
           "color": "#000000"
          },
          "showarrow": false,
          "text": "0",
          "x": "supraspinatus",
          "xref": "x1",
          "y": "Landry2015_2",
          "yref": "y1"
         },
         {
          "font": {
           "color": "#000000"
          },
          "showarrow": false,
          "text": "0",
          "x": "infraspinatus",
          "xref": "x1",
          "y": "Landry2015_2",
          "yref": "y1"
         },
         {
          "font": {
           "color": "#000000"
          },
          "showarrow": false,
          "text": "0",
          "x": "subscapularis",
          "xref": "x1",
          "y": "Landry2015_2",
          "yref": "y1"
         },
         {
          "font": {
           "color": "#000000"
          },
          "showarrow": false,
          "text": "14",
          "x": "upper trapezius",
          "xref": "x1",
          "y": "Landry2015_1",
          "yref": "y1"
         },
         {
          "font": {
           "color": "#000000"
          },
          "showarrow": false,
          "text": "0",
          "x": "middle trapezius",
          "xref": "x1",
          "y": "Landry2015_1",
          "yref": "y1"
         },
         {
          "font": {
           "color": "#000000"
          },
          "showarrow": false,
          "text": "14",
          "x": "lower trapezius",
          "xref": "x1",
          "y": "Landry2015_1",
          "yref": "y1"
         },
         {
          "font": {
           "color": "#000000"
          },
          "showarrow": false,
          "text": "14",
          "x": "anterior deltoid",
          "xref": "x1",
          "y": "Landry2015_1",
          "yref": "y1"
         },
         {
          "font": {
           "color": "#000000"
          },
          "showarrow": false,
          "text": "14",
          "x": "middle deltoid",
          "xref": "x1",
          "y": "Landry2015_1",
          "yref": "y1"
         },
         {
          "font": {
           "color": "#000000"
          },
          "showarrow": false,
          "text": "14",
          "x": "posterior deltoid",
          "xref": "x1",
          "y": "Landry2015_1",
          "yref": "y1"
         },
         {
          "font": {
           "color": "#000000"
          },
          "showarrow": false,
          "text": "0",
          "x": "pectoralis major",
          "xref": "x1",
          "y": "Landry2015_1",
          "yref": "y1"
         },
         {
          "font": {
           "color": "#000000"
          },
          "showarrow": false,
          "text": "14",
          "x": "serratus anterior",
          "xref": "x1",
          "y": "Landry2015_1",
          "yref": "y1"
         },
         {
          "font": {
           "color": "#000000"
          },
          "showarrow": false,
          "text": "0",
          "x": "latissimus dorsi",
          "xref": "x1",
          "y": "Landry2015_1",
          "yref": "y1"
         },
         {
          "font": {
           "color": "#000000"
          },
          "showarrow": false,
          "text": "14",
          "x": "supraspinatus",
          "xref": "x1",
          "y": "Landry2015_1",
          "yref": "y1"
         },
         {
          "font": {
           "color": "#000000"
          },
          "showarrow": false,
          "text": "14",
          "x": "infraspinatus",
          "xref": "x1",
          "y": "Landry2015_1",
          "yref": "y1"
         },
         {
          "font": {
           "color": "#000000"
          },
          "showarrow": false,
          "text": "14",
          "x": "subscapularis",
          "xref": "x1",
          "y": "Landry2015_1",
          "yref": "y1"
         },
         {
          "font": {
           "color": "#000000"
          },
          "showarrow": false,
          "text": "0",
          "x": "upper trapezius",
          "xref": "x1",
          "y": "Violon",
          "yref": "y1"
         },
         {
          "font": {
           "color": "#000000"
          },
          "showarrow": false,
          "text": "0",
          "x": "middle trapezius",
          "xref": "x1",
          "y": "Violon",
          "yref": "y1"
         },
         {
          "font": {
           "color": "#000000"
          },
          "showarrow": false,
          "text": "9",
          "x": "lower trapezius",
          "xref": "x1",
          "y": "Violon",
          "yref": "y1"
         },
         {
          "font": {
           "color": "#000000"
          },
          "showarrow": false,
          "text": "9",
          "x": "anterior deltoid",
          "xref": "x1",
          "y": "Violon",
          "yref": "y1"
         },
         {
          "font": {
           "color": "#000000"
          },
          "showarrow": false,
          "text": "9",
          "x": "middle deltoid",
          "xref": "x1",
          "y": "Violon",
          "yref": "y1"
         },
         {
          "font": {
           "color": "#000000"
          },
          "showarrow": false,
          "text": "9",
          "x": "posterior deltoid",
          "xref": "x1",
          "y": "Violon",
          "yref": "y1"
         },
         {
          "font": {
           "color": "#000000"
          },
          "showarrow": false,
          "text": "0",
          "x": "pectoralis major",
          "xref": "x1",
          "y": "Violon",
          "yref": "y1"
         },
         {
          "font": {
           "color": "#000000"
          },
          "showarrow": false,
          "text": "0",
          "x": "serratus anterior",
          "xref": "x1",
          "y": "Violon",
          "yref": "y1"
         },
         {
          "font": {
           "color": "#000000"
          },
          "showarrow": false,
          "text": "0",
          "x": "latissimus dorsi",
          "xref": "x1",
          "y": "Violon",
          "yref": "y1"
         },
         {
          "font": {
           "color": "#000000"
          },
          "showarrow": false,
          "text": "8",
          "x": "supraspinatus",
          "xref": "x1",
          "y": "Violon",
          "yref": "y1"
         },
         {
          "font": {
           "color": "#000000"
          },
          "showarrow": false,
          "text": "8",
          "x": "infraspinatus",
          "xref": "x1",
          "y": "Violon",
          "yref": "y1"
         },
         {
          "font": {
           "color": "#000000"
          },
          "showarrow": false,
          "text": "8",
          "x": "subscapularis",
          "xref": "x1",
          "y": "Violon",
          "yref": "y1"
         },
         {
          "font": {
           "color": "#000000"
          },
          "showarrow": false,
          "text": "22",
          "x": "upper trapezius",
          "xref": "x1",
          "y": "Yoann_2015",
          "yref": "y1"
         },
         {
          "font": {
           "color": "#000000"
          },
          "showarrow": false,
          "text": "22",
          "x": "middle trapezius",
          "xref": "x1",
          "y": "Yoann_2015",
          "yref": "y1"
         },
         {
          "font": {
           "color": "#000000"
          },
          "showarrow": false,
          "text": "22",
          "x": "lower trapezius",
          "xref": "x1",
          "y": "Yoann_2015",
          "yref": "y1"
         },
         {
          "font": {
           "color": "#000000"
          },
          "showarrow": false,
          "text": "0",
          "x": "anterior deltoid",
          "xref": "x1",
          "y": "Yoann_2015",
          "yref": "y1"
         },
         {
          "font": {
           "color": "#000000"
          },
          "showarrow": false,
          "text": "22",
          "x": "middle deltoid",
          "xref": "x1",
          "y": "Yoann_2015",
          "yref": "y1"
         },
         {
          "font": {
           "color": "#000000"
          },
          "showarrow": false,
          "text": "22",
          "x": "posterior deltoid",
          "xref": "x1",
          "y": "Yoann_2015",
          "yref": "y1"
         },
         {
          "font": {
           "color": "#000000"
          },
          "showarrow": false,
          "text": "22",
          "x": "pectoralis major",
          "xref": "x1",
          "y": "Yoann_2015",
          "yref": "y1"
         },
         {
          "font": {
           "color": "#000000"
          },
          "showarrow": false,
          "text": "22",
          "x": "serratus anterior",
          "xref": "x1",
          "y": "Yoann_2015",
          "yref": "y1"
         },
         {
          "font": {
           "color": "#000000"
          },
          "showarrow": false,
          "text": "22",
          "x": "latissimus dorsi",
          "xref": "x1",
          "y": "Yoann_2015",
          "yref": "y1"
         },
         {
          "font": {
           "color": "#000000"
          },
          "showarrow": false,
          "text": "22",
          "x": "supraspinatus",
          "xref": "x1",
          "y": "Yoann_2015",
          "yref": "y1"
         },
         {
          "font": {
           "color": "#000000"
          },
          "showarrow": false,
          "text": "22",
          "x": "infraspinatus",
          "xref": "x1",
          "y": "Yoann_2015",
          "yref": "y1"
         },
         {
          "font": {
           "color": "#000000"
          },
          "showarrow": false,
          "text": "22",
          "x": "subscapularis",
          "xref": "x1",
          "y": "Yoann_2015",
          "yref": "y1"
         },
         {
          "font": {
           "color": "#000000"
          },
          "showarrow": false,
          "text": "21",
          "x": "upper trapezius",
          "xref": "x1",
          "y": "Landry2013",
          "yref": "y1"
         },
         {
          "font": {
           "color": "#000000"
          },
          "showarrow": false,
          "text": "21",
          "x": "middle trapezius",
          "xref": "x1",
          "y": "Landry2013",
          "yref": "y1"
         },
         {
          "font": {
           "color": "#000000"
          },
          "showarrow": false,
          "text": "21",
          "x": "lower trapezius",
          "xref": "x1",
          "y": "Landry2013",
          "yref": "y1"
         },
         {
          "font": {
           "color": "#000000"
          },
          "showarrow": false,
          "text": "21",
          "x": "anterior deltoid",
          "xref": "x1",
          "y": "Landry2013",
          "yref": "y1"
         },
         {
          "font": {
           "color": "#000000"
          },
          "showarrow": false,
          "text": "21",
          "x": "middle deltoid",
          "xref": "x1",
          "y": "Landry2013",
          "yref": "y1"
         },
         {
          "font": {
           "color": "#000000"
          },
          "showarrow": false,
          "text": "21",
          "x": "posterior deltoid",
          "xref": "x1",
          "y": "Landry2013",
          "yref": "y1"
         },
         {
          "font": {
           "color": "#000000"
          },
          "showarrow": false,
          "text": "21",
          "x": "pectoralis major",
          "xref": "x1",
          "y": "Landry2013",
          "yref": "y1"
         },
         {
          "font": {
           "color": "#000000"
          },
          "showarrow": false,
          "text": "21",
          "x": "serratus anterior",
          "xref": "x1",
          "y": "Landry2013",
          "yref": "y1"
         },
         {
          "font": {
           "color": "#000000"
          },
          "showarrow": false,
          "text": "21",
          "x": "latissimus dorsi",
          "xref": "x1",
          "y": "Landry2013",
          "yref": "y1"
         },
         {
          "font": {
           "color": "#000000"
          },
          "showarrow": false,
          "text": "0",
          "x": "supraspinatus",
          "xref": "x1",
          "y": "Landry2013",
          "yref": "y1"
         },
         {
          "font": {
           "color": "#000000"
          },
          "showarrow": false,
          "text": "0",
          "x": "infraspinatus",
          "xref": "x1",
          "y": "Landry2013",
          "yref": "y1"
         },
         {
          "font": {
           "color": "#000000"
          },
          "showarrow": false,
          "text": "0",
          "x": "subscapularis",
          "xref": "x1",
          "y": "Landry2013",
          "yref": "y1"
         },
         {
          "font": {
           "color": "#000000"
          },
          "showarrow": false,
          "text": "18",
          "x": "upper trapezius",
          "xref": "x1",
          "y": "Landry2012",
          "yref": "y1"
         },
         {
          "font": {
           "color": "#000000"
          },
          "showarrow": false,
          "text": "18",
          "x": "middle trapezius",
          "xref": "x1",
          "y": "Landry2012",
          "yref": "y1"
         },
         {
          "font": {
           "color": "#000000"
          },
          "showarrow": false,
          "text": "18",
          "x": "lower trapezius",
          "xref": "x1",
          "y": "Landry2012",
          "yref": "y1"
         },
         {
          "font": {
           "color": "#000000"
          },
          "showarrow": false,
          "text": "18",
          "x": "anterior deltoid",
          "xref": "x1",
          "y": "Landry2012",
          "yref": "y1"
         },
         {
          "font": {
           "color": "#000000"
          },
          "showarrow": false,
          "text": "18",
          "x": "middle deltoid",
          "xref": "x1",
          "y": "Landry2012",
          "yref": "y1"
         },
         {
          "font": {
           "color": "#000000"
          },
          "showarrow": false,
          "text": "18",
          "x": "posterior deltoid",
          "xref": "x1",
          "y": "Landry2012",
          "yref": "y1"
         },
         {
          "font": {
           "color": "#000000"
          },
          "showarrow": false,
          "text": "18",
          "x": "pectoralis major",
          "xref": "x1",
          "y": "Landry2012",
          "yref": "y1"
         },
         {
          "font": {
           "color": "#000000"
          },
          "showarrow": false,
          "text": "0",
          "x": "serratus anterior",
          "xref": "x1",
          "y": "Landry2012",
          "yref": "y1"
         },
         {
          "font": {
           "color": "#000000"
          },
          "showarrow": false,
          "text": "18",
          "x": "latissimus dorsi",
          "xref": "x1",
          "y": "Landry2012",
          "yref": "y1"
         },
         {
          "font": {
           "color": "#000000"
          },
          "showarrow": false,
          "text": "0",
          "x": "supraspinatus",
          "xref": "x1",
          "y": "Landry2012",
          "yref": "y1"
         },
         {
          "font": {
           "color": "#000000"
          },
          "showarrow": false,
          "text": "0",
          "x": "infraspinatus",
          "xref": "x1",
          "y": "Landry2012",
          "yref": "y1"
         },
         {
          "font": {
           "color": "#000000"
          },
          "showarrow": false,
          "text": "0",
          "x": "subscapularis",
          "xref": "x1",
          "y": "Landry2012",
          "yref": "y1"
         },
         {
          "font": {
           "color": "#000000"
          },
          "showarrow": false,
          "text": "15",
          "x": "upper trapezius",
          "xref": "x1",
          "y": "Tennis",
          "yref": "y1"
         },
         {
          "font": {
           "color": "#000000"
          },
          "showarrow": false,
          "text": "0",
          "x": "middle trapezius",
          "xref": "x1",
          "y": "Tennis",
          "yref": "y1"
         },
         {
          "font": {
           "color": "#000000"
          },
          "showarrow": false,
          "text": "15",
          "x": "lower trapezius",
          "xref": "x1",
          "y": "Tennis",
          "yref": "y1"
         },
         {
          "font": {
           "color": "#000000"
          },
          "showarrow": false,
          "text": "15",
          "x": "anterior deltoid",
          "xref": "x1",
          "y": "Tennis",
          "yref": "y1"
         },
         {
          "font": {
           "color": "#000000"
          },
          "showarrow": false,
          "text": "15",
          "x": "middle deltoid",
          "xref": "x1",
          "y": "Tennis",
          "yref": "y1"
         },
         {
          "font": {
           "color": "#000000"
          },
          "showarrow": false,
          "text": "15",
          "x": "posterior deltoid",
          "xref": "x1",
          "y": "Tennis",
          "yref": "y1"
         },
         {
          "font": {
           "color": "#000000"
          },
          "showarrow": false,
          "text": "15",
          "x": "pectoralis major",
          "xref": "x1",
          "y": "Tennis",
          "yref": "y1"
         },
         {
          "font": {
           "color": "#000000"
          },
          "showarrow": false,
          "text": "15",
          "x": "serratus anterior",
          "xref": "x1",
          "y": "Tennis",
          "yref": "y1"
         },
         {
          "font": {
           "color": "#000000"
          },
          "showarrow": false,
          "text": "15",
          "x": "latissimus dorsi",
          "xref": "x1",
          "y": "Tennis",
          "yref": "y1"
         },
         {
          "font": {
           "color": "#000000"
          },
          "showarrow": false,
          "text": "15",
          "x": "supraspinatus",
          "xref": "x1",
          "y": "Tennis",
          "yref": "y1"
         },
         {
          "font": {
           "color": "#000000"
          },
          "showarrow": false,
          "text": "15",
          "x": "infraspinatus",
          "xref": "x1",
          "y": "Tennis",
          "yref": "y1"
         },
         {
          "font": {
           "color": "#000000"
          },
          "showarrow": false,
          "text": "15",
          "x": "subscapularis",
          "xref": "x1",
          "y": "Tennis",
          "yref": "y1"
         },
         {
          "font": {
           "color": "#000000"
          },
          "showarrow": false,
          "text": "16",
          "x": "upper trapezius",
          "xref": "x1",
          "y": "Patrick_2013",
          "yref": "y1"
         },
         {
          "font": {
           "color": "#000000"
          },
          "showarrow": false,
          "text": "16",
          "x": "middle trapezius",
          "xref": "x1",
          "y": "Patrick_2013",
          "yref": "y1"
         },
         {
          "font": {
           "color": "#000000"
          },
          "showarrow": false,
          "text": "16",
          "x": "lower trapezius",
          "xref": "x1",
          "y": "Patrick_2013",
          "yref": "y1"
         },
         {
          "font": {
           "color": "#000000"
          },
          "showarrow": false,
          "text": "16",
          "x": "anterior deltoid",
          "xref": "x1",
          "y": "Patrick_2013",
          "yref": "y1"
         },
         {
          "font": {
           "color": "#000000"
          },
          "showarrow": false,
          "text": "16",
          "x": "middle deltoid",
          "xref": "x1",
          "y": "Patrick_2013",
          "yref": "y1"
         },
         {
          "font": {
           "color": "#000000"
          },
          "showarrow": false,
          "text": "16",
          "x": "posterior deltoid",
          "xref": "x1",
          "y": "Patrick_2013",
          "yref": "y1"
         },
         {
          "font": {
           "color": "#000000"
          },
          "showarrow": false,
          "text": "16",
          "x": "pectoralis major",
          "xref": "x1",
          "y": "Patrick_2013",
          "yref": "y1"
         },
         {
          "font": {
           "color": "#000000"
          },
          "showarrow": false,
          "text": "16",
          "x": "serratus anterior",
          "xref": "x1",
          "y": "Patrick_2013",
          "yref": "y1"
         },
         {
          "font": {
           "color": "#000000"
          },
          "showarrow": false,
          "text": "16",
          "x": "latissimus dorsi",
          "xref": "x1",
          "y": "Patrick_2013",
          "yref": "y1"
         },
         {
          "font": {
           "color": "#000000"
          },
          "showarrow": false,
          "text": "16",
          "x": "supraspinatus",
          "xref": "x1",
          "y": "Patrick_2013",
          "yref": "y1"
         },
         {
          "font": {
           "color": "#000000"
          },
          "showarrow": false,
          "text": "16",
          "x": "infraspinatus",
          "xref": "x1",
          "y": "Patrick_2013",
          "yref": "y1"
         },
         {
          "font": {
           "color": "#000000"
          },
          "showarrow": false,
          "text": "16",
          "x": "subscapularis",
          "xref": "x1",
          "y": "Patrick_2013",
          "yref": "y1"
         },
         {
          "font": {
           "color": "#000000"
          },
          "showarrow": false,
          "text": "10",
          "x": "upper trapezius",
          "xref": "x1",
          "y": "Sylvain_2015",
          "yref": "y1"
         },
         {
          "font": {
           "color": "#000000"
          },
          "showarrow": false,
          "text": "10",
          "x": "middle trapezius",
          "xref": "x1",
          "y": "Sylvain_2015",
          "yref": "y1"
         },
         {
          "font": {
           "color": "#000000"
          },
          "showarrow": false,
          "text": "10",
          "x": "lower trapezius",
          "xref": "x1",
          "y": "Sylvain_2015",
          "yref": "y1"
         },
         {
          "font": {
           "color": "#000000"
          },
          "showarrow": false,
          "text": "0",
          "x": "anterior deltoid",
          "xref": "x1",
          "y": "Sylvain_2015",
          "yref": "y1"
         },
         {
          "font": {
           "color": "#000000"
          },
          "showarrow": false,
          "text": "10",
          "x": "middle deltoid",
          "xref": "x1",
          "y": "Sylvain_2015",
          "yref": "y1"
         },
         {
          "font": {
           "color": "#000000"
          },
          "showarrow": false,
          "text": "10",
          "x": "posterior deltoid",
          "xref": "x1",
          "y": "Sylvain_2015",
          "yref": "y1"
         },
         {
          "font": {
           "color": "#000000"
          },
          "showarrow": false,
          "text": "10",
          "x": "pectoralis major",
          "xref": "x1",
          "y": "Sylvain_2015",
          "yref": "y1"
         },
         {
          "font": {
           "color": "#000000"
          },
          "showarrow": false,
          "text": "10",
          "x": "serratus anterior",
          "xref": "x1",
          "y": "Sylvain_2015",
          "yref": "y1"
         },
         {
          "font": {
           "color": "#000000"
          },
          "showarrow": false,
          "text": "10",
          "x": "latissimus dorsi",
          "xref": "x1",
          "y": "Sylvain_2015",
          "yref": "y1"
         },
         {
          "font": {
           "color": "#000000"
          },
          "showarrow": false,
          "text": "10",
          "x": "supraspinatus",
          "xref": "x1",
          "y": "Sylvain_2015",
          "yref": "y1"
         },
         {
          "font": {
           "color": "#000000"
          },
          "showarrow": false,
          "text": "10",
          "x": "infraspinatus",
          "xref": "x1",
          "y": "Sylvain_2015",
          "yref": "y1"
         },
         {
          "font": {
           "color": "#000000"
          },
          "showarrow": false,
          "text": "10",
          "x": "subscapularis",
          "xref": "x1",
          "y": "Sylvain_2015",
          "yref": "y1"
         }
        ],
        "font": {
         "size": 14
        },
        "hovermode": "closest",
        "margin": {
         "b": 80,
         "l": 150,
         "pad": 0,
         "r": 80,
         "t": 80
        },
        "title": "Muscles by dataset",
        "xaxis": {
         "dtick": 1,
         "gridcolor": "rgb(0, 0, 0)",
         "side": "bottom",
         "ticks": "",
         "title": null
        },
        "yaxis": {
         "autorange": "reversed",
         "dtick": 1,
         "ticks": "",
         "ticksuffix": "  ",
         "title": null
        }
       }
      },
      "text/html": [
       "<div id=\"19a21a9d-3886-4b4c-922e-e37f2eede730\" style=\"height: 525px; width: 100%;\" class=\"plotly-graph-div\"></div><script type=\"text/javascript\">require([\"plotly\"], function(Plotly) { window.PLOTLYENV=window.PLOTLYENV || {};window.PLOTLYENV.BASE_URL=\"https://plot.ly\";Plotly.newPlot(\"19a21a9d-3886-4b4c-922e-e37f2eede730\", [{\"type\": \"heatmap\", \"z\": [[14, 0, 14, 14, 14, 14, 11, 14, 11, 13, 13, 12], [11, 0, 11, 11, 11, 11, 0, 11, 0, 0, 0, 0], [14, 0, 14, 14, 14, 14, 0, 14, 0, 14, 14, 14], [0, 0, 9, 9, 9, 9, 0, 0, 0, 8, 8, 8], [22, 22, 22, 0, 22, 22, 22, 22, 22, 22, 22, 22], [21, 21, 21, 21, 21, 21, 21, 21, 21, 0, 0, 0], [18, 18, 18, 18, 18, 18, 18, 0, 18, 0, 0, 0], [15, 0, 15, 15, 15, 15, 15, 15, 15, 15, 15, 15], [16, 16, 16, 16, 16, 16, 16, 16, 16, 16, 16, 16], [10, 10, 10, 0, 10, 10, 10, 10, 10, 10, 10, 10]], \"x\": [\"upper trapezius\", \"middle trapezius\", \"lower trapezius\", \"anterior deltoid\", \"middle deltoid\", \"posterior deltoid\", \"pectoralis major\", \"serratus anterior\", \"latissimus dorsi\", \"supraspinatus\", \"infraspinatus\", \"subscapularis\"], \"y\": [\"Landry2016\", \"Landry2015_2\", \"Landry2015_1\", \"Violon\", \"Yoann_2015\", \"Landry2013\", \"Landry2012\", \"Tennis\", \"Patrick_2013\", \"Sylvain_2015\"], \"colorscale\": \"YlGnBu\", \"showscale\": true, \"colorbar\": {\"title\": \"Count\", \"titleside\": \"right\"}}], {\"annotations\": [{\"text\": \"14\", \"x\": \"upper trapezius\", \"y\": \"Landry2016\", \"xref\": \"x1\", \"yref\": \"y1\", \"font\": {\"color\": \"#000000\"}, \"showarrow\": false}, {\"text\": \"0\", \"x\": \"middle trapezius\", \"y\": \"Landry2016\", \"xref\": \"x1\", \"yref\": \"y1\", \"font\": {\"color\": \"#000000\"}, \"showarrow\": false}, {\"text\": \"14\", \"x\": \"lower trapezius\", \"y\": \"Landry2016\", \"xref\": \"x1\", \"yref\": \"y1\", \"font\": {\"color\": \"#000000\"}, \"showarrow\": false}, {\"text\": \"14\", \"x\": \"anterior deltoid\", \"y\": \"Landry2016\", \"xref\": \"x1\", \"yref\": \"y1\", \"font\": {\"color\": \"#000000\"}, \"showarrow\": false}, {\"text\": \"14\", \"x\": \"middle deltoid\", \"y\": \"Landry2016\", \"xref\": \"x1\", \"yref\": \"y1\", \"font\": {\"color\": \"#000000\"}, \"showarrow\": false}, {\"text\": \"14\", \"x\": \"posterior deltoid\", \"y\": \"Landry2016\", \"xref\": \"x1\", \"yref\": \"y1\", \"font\": {\"color\": \"#000000\"}, \"showarrow\": false}, {\"text\": \"11\", \"x\": \"pectoralis major\", \"y\": \"Landry2016\", \"xref\": \"x1\", \"yref\": \"y1\", \"font\": {\"color\": \"#000000\"}, \"showarrow\": false}, {\"text\": \"14\", \"x\": \"serratus anterior\", \"y\": \"Landry2016\", \"xref\": \"x1\", \"yref\": \"y1\", \"font\": {\"color\": \"#000000\"}, \"showarrow\": false}, {\"text\": \"11\", \"x\": \"latissimus dorsi\", \"y\": \"Landry2016\", \"xref\": \"x1\", \"yref\": \"y1\", \"font\": {\"color\": \"#000000\"}, \"showarrow\": false}, {\"text\": \"13\", \"x\": \"supraspinatus\", \"y\": \"Landry2016\", \"xref\": \"x1\", \"yref\": \"y1\", \"font\": {\"color\": \"#000000\"}, \"showarrow\": false}, {\"text\": \"13\", \"x\": \"infraspinatus\", \"y\": \"Landry2016\", \"xref\": \"x1\", \"yref\": \"y1\", \"font\": {\"color\": \"#000000\"}, \"showarrow\": false}, {\"text\": \"12\", \"x\": \"subscapularis\", \"y\": \"Landry2016\", \"xref\": \"x1\", \"yref\": \"y1\", \"font\": {\"color\": \"#000000\"}, \"showarrow\": false}, {\"text\": \"11\", \"x\": \"upper trapezius\", \"y\": \"Landry2015_2\", \"xref\": \"x1\", \"yref\": \"y1\", \"font\": {\"color\": \"#000000\"}, \"showarrow\": false}, {\"text\": \"0\", \"x\": \"middle trapezius\", \"y\": \"Landry2015_2\", \"xref\": \"x1\", \"yref\": \"y1\", \"font\": {\"color\": \"#000000\"}, \"showarrow\": false}, {\"text\": \"11\", \"x\": \"lower trapezius\", \"y\": \"Landry2015_2\", \"xref\": \"x1\", \"yref\": \"y1\", \"font\": {\"color\": \"#000000\"}, \"showarrow\": false}, {\"text\": \"11\", \"x\": \"anterior deltoid\", \"y\": \"Landry2015_2\", \"xref\": \"x1\", \"yref\": \"y1\", \"font\": {\"color\": \"#000000\"}, \"showarrow\": false}, {\"text\": \"11\", \"x\": \"middle deltoid\", \"y\": \"Landry2015_2\", \"xref\": \"x1\", \"yref\": \"y1\", \"font\": {\"color\": \"#000000\"}, \"showarrow\": false}, {\"text\": \"11\", \"x\": \"posterior deltoid\", \"y\": \"Landry2015_2\", \"xref\": \"x1\", \"yref\": \"y1\", \"font\": {\"color\": \"#000000\"}, \"showarrow\": false}, {\"text\": \"0\", \"x\": \"pectoralis major\", \"y\": \"Landry2015_2\", \"xref\": \"x1\", \"yref\": \"y1\", \"font\": {\"color\": \"#000000\"}, \"showarrow\": false}, {\"text\": \"11\", \"x\": \"serratus anterior\", \"y\": \"Landry2015_2\", \"xref\": \"x1\", \"yref\": \"y1\", \"font\": {\"color\": \"#000000\"}, \"showarrow\": false}, {\"text\": \"0\", \"x\": \"latissimus dorsi\", \"y\": \"Landry2015_2\", \"xref\": \"x1\", \"yref\": \"y1\", \"font\": {\"color\": \"#000000\"}, \"showarrow\": false}, {\"text\": \"0\", \"x\": \"supraspinatus\", \"y\": \"Landry2015_2\", \"xref\": \"x1\", \"yref\": \"y1\", \"font\": {\"color\": \"#000000\"}, \"showarrow\": false}, {\"text\": \"0\", \"x\": \"infraspinatus\", \"y\": \"Landry2015_2\", \"xref\": \"x1\", \"yref\": \"y1\", \"font\": {\"color\": \"#000000\"}, \"showarrow\": false}, {\"text\": \"0\", \"x\": \"subscapularis\", \"y\": \"Landry2015_2\", \"xref\": \"x1\", \"yref\": \"y1\", \"font\": {\"color\": \"#000000\"}, \"showarrow\": false}, {\"text\": \"14\", \"x\": \"upper trapezius\", \"y\": \"Landry2015_1\", \"xref\": \"x1\", \"yref\": \"y1\", \"font\": {\"color\": \"#000000\"}, \"showarrow\": false}, {\"text\": \"0\", \"x\": \"middle trapezius\", \"y\": \"Landry2015_1\", \"xref\": \"x1\", \"yref\": \"y1\", \"font\": {\"color\": \"#000000\"}, \"showarrow\": false}, {\"text\": \"14\", \"x\": \"lower trapezius\", \"y\": \"Landry2015_1\", \"xref\": \"x1\", \"yref\": \"y1\", \"font\": {\"color\": \"#000000\"}, \"showarrow\": false}, {\"text\": \"14\", \"x\": \"anterior deltoid\", \"y\": \"Landry2015_1\", \"xref\": \"x1\", \"yref\": \"y1\", \"font\": {\"color\": \"#000000\"}, \"showarrow\": false}, {\"text\": \"14\", \"x\": \"middle deltoid\", \"y\": \"Landry2015_1\", \"xref\": \"x1\", \"yref\": \"y1\", \"font\": {\"color\": \"#000000\"}, \"showarrow\": false}, {\"text\": \"14\", \"x\": \"posterior deltoid\", \"y\": \"Landry2015_1\", \"xref\": \"x1\", \"yref\": \"y1\", \"font\": {\"color\": \"#000000\"}, \"showarrow\": false}, {\"text\": \"0\", \"x\": \"pectoralis major\", \"y\": \"Landry2015_1\", \"xref\": \"x1\", \"yref\": \"y1\", \"font\": {\"color\": \"#000000\"}, \"showarrow\": false}, {\"text\": \"14\", \"x\": \"serratus anterior\", \"y\": \"Landry2015_1\", \"xref\": \"x1\", \"yref\": \"y1\", \"font\": {\"color\": \"#000000\"}, \"showarrow\": false}, {\"text\": \"0\", \"x\": \"latissimus dorsi\", \"y\": \"Landry2015_1\", \"xref\": \"x1\", \"yref\": \"y1\", \"font\": {\"color\": \"#000000\"}, \"showarrow\": false}, {\"text\": \"14\", \"x\": \"supraspinatus\", \"y\": \"Landry2015_1\", \"xref\": \"x1\", \"yref\": \"y1\", \"font\": {\"color\": \"#000000\"}, \"showarrow\": false}, {\"text\": \"14\", \"x\": \"infraspinatus\", \"y\": \"Landry2015_1\", \"xref\": \"x1\", \"yref\": \"y1\", \"font\": {\"color\": \"#000000\"}, \"showarrow\": false}, {\"text\": \"14\", \"x\": \"subscapularis\", \"y\": \"Landry2015_1\", \"xref\": \"x1\", \"yref\": \"y1\", \"font\": {\"color\": \"#000000\"}, \"showarrow\": false}, {\"text\": \"0\", \"x\": \"upper trapezius\", \"y\": \"Violon\", \"xref\": \"x1\", \"yref\": \"y1\", \"font\": {\"color\": \"#000000\"}, \"showarrow\": false}, {\"text\": \"0\", \"x\": \"middle trapezius\", \"y\": \"Violon\", \"xref\": \"x1\", \"yref\": \"y1\", \"font\": {\"color\": \"#000000\"}, \"showarrow\": false}, {\"text\": \"9\", \"x\": \"lower trapezius\", \"y\": \"Violon\", \"xref\": \"x1\", \"yref\": \"y1\", \"font\": {\"color\": \"#000000\"}, \"showarrow\": false}, {\"text\": \"9\", \"x\": \"anterior deltoid\", \"y\": \"Violon\", \"xref\": \"x1\", \"yref\": \"y1\", \"font\": {\"color\": \"#000000\"}, \"showarrow\": false}, {\"text\": \"9\", \"x\": \"middle deltoid\", \"y\": \"Violon\", \"xref\": \"x1\", \"yref\": \"y1\", \"font\": {\"color\": \"#000000\"}, \"showarrow\": false}, {\"text\": \"9\", \"x\": \"posterior deltoid\", \"y\": \"Violon\", \"xref\": \"x1\", \"yref\": \"y1\", \"font\": {\"color\": \"#000000\"}, \"showarrow\": false}, {\"text\": \"0\", \"x\": \"pectoralis major\", \"y\": \"Violon\", \"xref\": \"x1\", \"yref\": \"y1\", \"font\": {\"color\": \"#000000\"}, \"showarrow\": false}, {\"text\": \"0\", \"x\": \"serratus anterior\", \"y\": \"Violon\", \"xref\": \"x1\", \"yref\": \"y1\", \"font\": {\"color\": \"#000000\"}, \"showarrow\": false}, {\"text\": \"0\", \"x\": \"latissimus dorsi\", \"y\": \"Violon\", \"xref\": \"x1\", \"yref\": \"y1\", \"font\": {\"color\": \"#000000\"}, \"showarrow\": false}, {\"text\": \"8\", \"x\": \"supraspinatus\", \"y\": \"Violon\", \"xref\": \"x1\", \"yref\": \"y1\", \"font\": {\"color\": \"#000000\"}, \"showarrow\": false}, {\"text\": \"8\", \"x\": \"infraspinatus\", \"y\": \"Violon\", \"xref\": \"x1\", \"yref\": \"y1\", \"font\": {\"color\": \"#000000\"}, \"showarrow\": false}, {\"text\": \"8\", \"x\": \"subscapularis\", \"y\": \"Violon\", \"xref\": \"x1\", \"yref\": \"y1\", \"font\": {\"color\": \"#000000\"}, \"showarrow\": false}, {\"text\": \"22\", \"x\": \"upper trapezius\", \"y\": \"Yoann_2015\", \"xref\": \"x1\", \"yref\": \"y1\", \"font\": {\"color\": \"#000000\"}, \"showarrow\": false}, {\"text\": \"22\", \"x\": \"middle trapezius\", \"y\": \"Yoann_2015\", \"xref\": \"x1\", \"yref\": \"y1\", \"font\": {\"color\": \"#000000\"}, \"showarrow\": false}, {\"text\": \"22\", \"x\": \"lower trapezius\", \"y\": \"Yoann_2015\", \"xref\": \"x1\", \"yref\": \"y1\", \"font\": {\"color\": \"#000000\"}, \"showarrow\": false}, {\"text\": \"0\", \"x\": \"anterior deltoid\", \"y\": \"Yoann_2015\", \"xref\": \"x1\", \"yref\": \"y1\", \"font\": {\"color\": \"#000000\"}, \"showarrow\": false}, {\"text\": \"22\", \"x\": \"middle deltoid\", \"y\": \"Yoann_2015\", \"xref\": \"x1\", \"yref\": \"y1\", \"font\": {\"color\": \"#000000\"}, \"showarrow\": false}, {\"text\": \"22\", \"x\": \"posterior deltoid\", \"y\": \"Yoann_2015\", \"xref\": \"x1\", \"yref\": \"y1\", \"font\": {\"color\": \"#000000\"}, \"showarrow\": false}, {\"text\": \"22\", \"x\": \"pectoralis major\", \"y\": \"Yoann_2015\", \"xref\": \"x1\", \"yref\": \"y1\", \"font\": {\"color\": \"#000000\"}, \"showarrow\": false}, {\"text\": \"22\", \"x\": \"serratus anterior\", \"y\": \"Yoann_2015\", \"xref\": \"x1\", \"yref\": \"y1\", \"font\": {\"color\": \"#000000\"}, \"showarrow\": false}, {\"text\": \"22\", \"x\": \"latissimus dorsi\", \"y\": \"Yoann_2015\", \"xref\": \"x1\", \"yref\": \"y1\", \"font\": {\"color\": \"#000000\"}, \"showarrow\": false}, {\"text\": \"22\", \"x\": \"supraspinatus\", \"y\": \"Yoann_2015\", \"xref\": \"x1\", \"yref\": \"y1\", \"font\": {\"color\": \"#000000\"}, \"showarrow\": false}, {\"text\": \"22\", \"x\": \"infraspinatus\", \"y\": \"Yoann_2015\", \"xref\": \"x1\", \"yref\": \"y1\", \"font\": {\"color\": \"#000000\"}, \"showarrow\": false}, {\"text\": \"22\", \"x\": \"subscapularis\", \"y\": \"Yoann_2015\", \"xref\": \"x1\", \"yref\": \"y1\", \"font\": {\"color\": \"#000000\"}, \"showarrow\": false}, {\"text\": \"21\", \"x\": \"upper trapezius\", \"y\": \"Landry2013\", \"xref\": \"x1\", \"yref\": \"y1\", \"font\": {\"color\": \"#000000\"}, \"showarrow\": false}, {\"text\": \"21\", \"x\": \"middle trapezius\", \"y\": \"Landry2013\", \"xref\": \"x1\", \"yref\": \"y1\", \"font\": {\"color\": \"#000000\"}, \"showarrow\": false}, {\"text\": \"21\", \"x\": \"lower trapezius\", \"y\": \"Landry2013\", \"xref\": \"x1\", \"yref\": \"y1\", \"font\": {\"color\": \"#000000\"}, \"showarrow\": false}, {\"text\": \"21\", \"x\": \"anterior deltoid\", \"y\": \"Landry2013\", \"xref\": \"x1\", \"yref\": \"y1\", \"font\": {\"color\": \"#000000\"}, \"showarrow\": false}, {\"text\": \"21\", \"x\": \"middle deltoid\", \"y\": \"Landry2013\", \"xref\": \"x1\", \"yref\": \"y1\", \"font\": {\"color\": \"#000000\"}, \"showarrow\": false}, {\"text\": \"21\", \"x\": \"posterior deltoid\", \"y\": \"Landry2013\", \"xref\": \"x1\", \"yref\": \"y1\", \"font\": {\"color\": \"#000000\"}, \"showarrow\": false}, {\"text\": \"21\", \"x\": \"pectoralis major\", \"y\": \"Landry2013\", \"xref\": \"x1\", \"yref\": \"y1\", \"font\": {\"color\": \"#000000\"}, \"showarrow\": false}, {\"text\": \"21\", \"x\": \"serratus anterior\", \"y\": \"Landry2013\", \"xref\": \"x1\", \"yref\": \"y1\", \"font\": {\"color\": \"#000000\"}, \"showarrow\": false}, {\"text\": \"21\", \"x\": \"latissimus dorsi\", \"y\": \"Landry2013\", \"xref\": \"x1\", \"yref\": \"y1\", \"font\": {\"color\": \"#000000\"}, \"showarrow\": false}, {\"text\": \"0\", \"x\": \"supraspinatus\", \"y\": \"Landry2013\", \"xref\": \"x1\", \"yref\": \"y1\", \"font\": {\"color\": \"#000000\"}, \"showarrow\": false}, {\"text\": \"0\", \"x\": \"infraspinatus\", \"y\": \"Landry2013\", \"xref\": \"x1\", \"yref\": \"y1\", \"font\": {\"color\": \"#000000\"}, \"showarrow\": false}, {\"text\": \"0\", \"x\": \"subscapularis\", \"y\": \"Landry2013\", \"xref\": \"x1\", \"yref\": \"y1\", \"font\": {\"color\": \"#000000\"}, \"showarrow\": false}, {\"text\": \"18\", \"x\": \"upper trapezius\", \"y\": \"Landry2012\", \"xref\": \"x1\", \"yref\": \"y1\", \"font\": {\"color\": \"#000000\"}, \"showarrow\": false}, {\"text\": \"18\", \"x\": \"middle trapezius\", \"y\": \"Landry2012\", \"xref\": \"x1\", \"yref\": \"y1\", \"font\": {\"color\": \"#000000\"}, \"showarrow\": false}, {\"text\": \"18\", \"x\": \"lower trapezius\", \"y\": \"Landry2012\", \"xref\": \"x1\", \"yref\": \"y1\", \"font\": {\"color\": \"#000000\"}, \"showarrow\": false}, {\"text\": \"18\", \"x\": \"anterior deltoid\", \"y\": \"Landry2012\", \"xref\": \"x1\", \"yref\": \"y1\", \"font\": {\"color\": \"#000000\"}, \"showarrow\": false}, {\"text\": \"18\", \"x\": \"middle deltoid\", \"y\": \"Landry2012\", \"xref\": \"x1\", \"yref\": \"y1\", \"font\": {\"color\": \"#000000\"}, \"showarrow\": false}, {\"text\": \"18\", \"x\": \"posterior deltoid\", \"y\": \"Landry2012\", \"xref\": \"x1\", \"yref\": \"y1\", \"font\": {\"color\": \"#000000\"}, \"showarrow\": false}, {\"text\": \"18\", \"x\": \"pectoralis major\", \"y\": \"Landry2012\", \"xref\": \"x1\", \"yref\": \"y1\", \"font\": {\"color\": \"#000000\"}, \"showarrow\": false}, {\"text\": \"0\", \"x\": \"serratus anterior\", \"y\": \"Landry2012\", \"xref\": \"x1\", \"yref\": \"y1\", \"font\": {\"color\": \"#000000\"}, \"showarrow\": false}, {\"text\": \"18\", \"x\": \"latissimus dorsi\", \"y\": \"Landry2012\", \"xref\": \"x1\", \"yref\": \"y1\", \"font\": {\"color\": \"#000000\"}, \"showarrow\": false}, {\"text\": \"0\", \"x\": \"supraspinatus\", \"y\": \"Landry2012\", \"xref\": \"x1\", \"yref\": \"y1\", \"font\": {\"color\": \"#000000\"}, \"showarrow\": false}, {\"text\": \"0\", \"x\": \"infraspinatus\", \"y\": \"Landry2012\", \"xref\": \"x1\", \"yref\": \"y1\", \"font\": {\"color\": \"#000000\"}, \"showarrow\": false}, {\"text\": \"0\", \"x\": \"subscapularis\", \"y\": \"Landry2012\", \"xref\": \"x1\", \"yref\": \"y1\", \"font\": {\"color\": \"#000000\"}, \"showarrow\": false}, {\"text\": \"15\", \"x\": \"upper trapezius\", \"y\": \"Tennis\", \"xref\": \"x1\", \"yref\": \"y1\", \"font\": {\"color\": \"#000000\"}, \"showarrow\": false}, {\"text\": \"0\", \"x\": \"middle trapezius\", \"y\": \"Tennis\", \"xref\": \"x1\", \"yref\": \"y1\", \"font\": {\"color\": \"#000000\"}, \"showarrow\": false}, {\"text\": \"15\", \"x\": \"lower trapezius\", \"y\": \"Tennis\", \"xref\": \"x1\", \"yref\": \"y1\", \"font\": {\"color\": \"#000000\"}, \"showarrow\": false}, {\"text\": \"15\", \"x\": \"anterior deltoid\", \"y\": \"Tennis\", \"xref\": \"x1\", \"yref\": \"y1\", \"font\": {\"color\": \"#000000\"}, \"showarrow\": false}, {\"text\": \"15\", \"x\": \"middle deltoid\", \"y\": \"Tennis\", \"xref\": \"x1\", \"yref\": \"y1\", \"font\": {\"color\": \"#000000\"}, \"showarrow\": false}, {\"text\": \"15\", \"x\": \"posterior deltoid\", \"y\": \"Tennis\", \"xref\": \"x1\", \"yref\": \"y1\", \"font\": {\"color\": \"#000000\"}, \"showarrow\": false}, {\"text\": \"15\", \"x\": \"pectoralis major\", \"y\": \"Tennis\", \"xref\": \"x1\", \"yref\": \"y1\", \"font\": {\"color\": \"#000000\"}, \"showarrow\": false}, {\"text\": \"15\", \"x\": \"serratus anterior\", \"y\": \"Tennis\", \"xref\": \"x1\", \"yref\": \"y1\", \"font\": {\"color\": \"#000000\"}, \"showarrow\": false}, {\"text\": \"15\", \"x\": \"latissimus dorsi\", \"y\": \"Tennis\", \"xref\": \"x1\", \"yref\": \"y1\", \"font\": {\"color\": \"#000000\"}, \"showarrow\": false}, {\"text\": \"15\", \"x\": \"supraspinatus\", \"y\": \"Tennis\", \"xref\": \"x1\", \"yref\": \"y1\", \"font\": {\"color\": \"#000000\"}, \"showarrow\": false}, {\"text\": \"15\", \"x\": \"infraspinatus\", \"y\": \"Tennis\", \"xref\": \"x1\", \"yref\": \"y1\", \"font\": {\"color\": \"#000000\"}, \"showarrow\": false}, {\"text\": \"15\", \"x\": \"subscapularis\", \"y\": \"Tennis\", \"xref\": \"x1\", \"yref\": \"y1\", \"font\": {\"color\": \"#000000\"}, \"showarrow\": false}, {\"text\": \"16\", \"x\": \"upper trapezius\", \"y\": \"Patrick_2013\", \"xref\": \"x1\", \"yref\": \"y1\", \"font\": {\"color\": \"#000000\"}, \"showarrow\": false}, {\"text\": \"16\", \"x\": \"middle trapezius\", \"y\": \"Patrick_2013\", \"xref\": \"x1\", \"yref\": \"y1\", \"font\": {\"color\": \"#000000\"}, \"showarrow\": false}, {\"text\": \"16\", \"x\": \"lower trapezius\", \"y\": \"Patrick_2013\", \"xref\": \"x1\", \"yref\": \"y1\", \"font\": {\"color\": \"#000000\"}, \"showarrow\": false}, {\"text\": \"16\", \"x\": \"anterior deltoid\", \"y\": \"Patrick_2013\", \"xref\": \"x1\", \"yref\": \"y1\", \"font\": {\"color\": \"#000000\"}, \"showarrow\": false}, {\"text\": \"16\", \"x\": \"middle deltoid\", \"y\": \"Patrick_2013\", \"xref\": \"x1\", \"yref\": \"y1\", \"font\": {\"color\": \"#000000\"}, \"showarrow\": false}, {\"text\": \"16\", \"x\": \"posterior deltoid\", \"y\": \"Patrick_2013\", \"xref\": \"x1\", \"yref\": \"y1\", \"font\": {\"color\": \"#000000\"}, \"showarrow\": false}, {\"text\": \"16\", \"x\": \"pectoralis major\", \"y\": \"Patrick_2013\", \"xref\": \"x1\", \"yref\": \"y1\", \"font\": {\"color\": \"#000000\"}, \"showarrow\": false}, {\"text\": \"16\", \"x\": \"serratus anterior\", \"y\": \"Patrick_2013\", \"xref\": \"x1\", \"yref\": \"y1\", \"font\": {\"color\": \"#000000\"}, \"showarrow\": false}, {\"text\": \"16\", \"x\": \"latissimus dorsi\", \"y\": \"Patrick_2013\", \"xref\": \"x1\", \"yref\": \"y1\", \"font\": {\"color\": \"#000000\"}, \"showarrow\": false}, {\"text\": \"16\", \"x\": \"supraspinatus\", \"y\": \"Patrick_2013\", \"xref\": \"x1\", \"yref\": \"y1\", \"font\": {\"color\": \"#000000\"}, \"showarrow\": false}, {\"text\": \"16\", \"x\": \"infraspinatus\", \"y\": \"Patrick_2013\", \"xref\": \"x1\", \"yref\": \"y1\", \"font\": {\"color\": \"#000000\"}, \"showarrow\": false}, {\"text\": \"16\", \"x\": \"subscapularis\", \"y\": \"Patrick_2013\", \"xref\": \"x1\", \"yref\": \"y1\", \"font\": {\"color\": \"#000000\"}, \"showarrow\": false}, {\"text\": \"10\", \"x\": \"upper trapezius\", \"y\": \"Sylvain_2015\", \"xref\": \"x1\", \"yref\": \"y1\", \"font\": {\"color\": \"#000000\"}, \"showarrow\": false}, {\"text\": \"10\", \"x\": \"middle trapezius\", \"y\": \"Sylvain_2015\", \"xref\": \"x1\", \"yref\": \"y1\", \"font\": {\"color\": \"#000000\"}, \"showarrow\": false}, {\"text\": \"10\", \"x\": \"lower trapezius\", \"y\": \"Sylvain_2015\", \"xref\": \"x1\", \"yref\": \"y1\", \"font\": {\"color\": \"#000000\"}, \"showarrow\": false}, {\"text\": \"0\", \"x\": \"anterior deltoid\", \"y\": \"Sylvain_2015\", \"xref\": \"x1\", \"yref\": \"y1\", \"font\": {\"color\": \"#000000\"}, \"showarrow\": false}, {\"text\": \"10\", \"x\": \"middle deltoid\", \"y\": \"Sylvain_2015\", \"xref\": \"x1\", \"yref\": \"y1\", \"font\": {\"color\": \"#000000\"}, \"showarrow\": false}, {\"text\": \"10\", \"x\": \"posterior deltoid\", \"y\": \"Sylvain_2015\", \"xref\": \"x1\", \"yref\": \"y1\", \"font\": {\"color\": \"#000000\"}, \"showarrow\": false}, {\"text\": \"10\", \"x\": \"pectoralis major\", \"y\": \"Sylvain_2015\", \"xref\": \"x1\", \"yref\": \"y1\", \"font\": {\"color\": \"#000000\"}, \"showarrow\": false}, {\"text\": \"10\", \"x\": \"serratus anterior\", \"y\": \"Sylvain_2015\", \"xref\": \"x1\", \"yref\": \"y1\", \"font\": {\"color\": \"#000000\"}, \"showarrow\": false}, {\"text\": \"10\", \"x\": \"latissimus dorsi\", \"y\": \"Sylvain_2015\", \"xref\": \"x1\", \"yref\": \"y1\", \"font\": {\"color\": \"#000000\"}, \"showarrow\": false}, {\"text\": \"10\", \"x\": \"supraspinatus\", \"y\": \"Sylvain_2015\", \"xref\": \"x1\", \"yref\": \"y1\", \"font\": {\"color\": \"#000000\"}, \"showarrow\": false}, {\"text\": \"10\", \"x\": \"infraspinatus\", \"y\": \"Sylvain_2015\", \"xref\": \"x1\", \"yref\": \"y1\", \"font\": {\"color\": \"#000000\"}, \"showarrow\": false}, {\"text\": \"10\", \"x\": \"subscapularis\", \"y\": \"Sylvain_2015\", \"xref\": \"x1\", \"yref\": \"y1\", \"font\": {\"color\": \"#000000\"}, \"showarrow\": false}], \"xaxis\": {\"ticks\": \"\", \"dtick\": 1, \"side\": \"bottom\", \"gridcolor\": \"rgb(0, 0, 0)\", \"title\": null}, \"yaxis\": {\"ticks\": \"\", \"dtick\": 1, \"ticksuffix\": \"  \", \"title\": null, \"autorange\": \"reversed\"}, \"hovermode\": \"closest\", \"font\": {\"size\": 14}, \"title\": \"Muscles by dataset\", \"margin\": {\"t\": 80, \"b\": 80, \"l\": 150, \"r\": 80, \"pad\": 0}}, {\"showLink\": true, \"linkText\": \"Export to plot.ly\"})});</script>"
      ],
      "text/vnd.plotly.v1+html": [
       "<div id=\"19a21a9d-3886-4b4c-922e-e37f2eede730\" style=\"height: 525px; width: 100%;\" class=\"plotly-graph-div\"></div><script type=\"text/javascript\">require([\"plotly\"], function(Plotly) { window.PLOTLYENV=window.PLOTLYENV || {};window.PLOTLYENV.BASE_URL=\"https://plot.ly\";Plotly.newPlot(\"19a21a9d-3886-4b4c-922e-e37f2eede730\", [{\"type\": \"heatmap\", \"z\": [[14, 0, 14, 14, 14, 14, 11, 14, 11, 13, 13, 12], [11, 0, 11, 11, 11, 11, 0, 11, 0, 0, 0, 0], [14, 0, 14, 14, 14, 14, 0, 14, 0, 14, 14, 14], [0, 0, 9, 9, 9, 9, 0, 0, 0, 8, 8, 8], [22, 22, 22, 0, 22, 22, 22, 22, 22, 22, 22, 22], [21, 21, 21, 21, 21, 21, 21, 21, 21, 0, 0, 0], [18, 18, 18, 18, 18, 18, 18, 0, 18, 0, 0, 0], [15, 0, 15, 15, 15, 15, 15, 15, 15, 15, 15, 15], [16, 16, 16, 16, 16, 16, 16, 16, 16, 16, 16, 16], [10, 10, 10, 0, 10, 10, 10, 10, 10, 10, 10, 10]], \"x\": [\"upper trapezius\", \"middle trapezius\", \"lower trapezius\", \"anterior deltoid\", \"middle deltoid\", \"posterior deltoid\", \"pectoralis major\", \"serratus anterior\", \"latissimus dorsi\", \"supraspinatus\", \"infraspinatus\", \"subscapularis\"], \"y\": [\"Landry2016\", \"Landry2015_2\", \"Landry2015_1\", \"Violon\", \"Yoann_2015\", \"Landry2013\", \"Landry2012\", \"Tennis\", \"Patrick_2013\", \"Sylvain_2015\"], \"colorscale\": \"YlGnBu\", \"showscale\": true, \"colorbar\": {\"title\": \"Count\", \"titleside\": \"right\"}}], {\"annotations\": [{\"text\": \"14\", \"x\": \"upper trapezius\", \"y\": \"Landry2016\", \"xref\": \"x1\", \"yref\": \"y1\", \"font\": {\"color\": \"#000000\"}, \"showarrow\": false}, {\"text\": \"0\", \"x\": \"middle trapezius\", \"y\": \"Landry2016\", \"xref\": \"x1\", \"yref\": \"y1\", \"font\": {\"color\": \"#000000\"}, \"showarrow\": false}, {\"text\": \"14\", \"x\": \"lower trapezius\", \"y\": \"Landry2016\", \"xref\": \"x1\", \"yref\": \"y1\", \"font\": {\"color\": \"#000000\"}, \"showarrow\": false}, {\"text\": \"14\", \"x\": \"anterior deltoid\", \"y\": \"Landry2016\", \"xref\": \"x1\", \"yref\": \"y1\", \"font\": {\"color\": \"#000000\"}, \"showarrow\": false}, {\"text\": \"14\", \"x\": \"middle deltoid\", \"y\": \"Landry2016\", \"xref\": \"x1\", \"yref\": \"y1\", \"font\": {\"color\": \"#000000\"}, \"showarrow\": false}, {\"text\": \"14\", \"x\": \"posterior deltoid\", \"y\": \"Landry2016\", \"xref\": \"x1\", \"yref\": \"y1\", \"font\": {\"color\": \"#000000\"}, \"showarrow\": false}, {\"text\": \"11\", \"x\": \"pectoralis major\", \"y\": \"Landry2016\", \"xref\": \"x1\", \"yref\": \"y1\", \"font\": {\"color\": \"#000000\"}, \"showarrow\": false}, {\"text\": \"14\", \"x\": \"serratus anterior\", \"y\": \"Landry2016\", \"xref\": \"x1\", \"yref\": \"y1\", \"font\": {\"color\": \"#000000\"}, \"showarrow\": false}, {\"text\": \"11\", \"x\": \"latissimus dorsi\", \"y\": \"Landry2016\", \"xref\": \"x1\", \"yref\": \"y1\", \"font\": {\"color\": \"#000000\"}, \"showarrow\": false}, {\"text\": \"13\", \"x\": \"supraspinatus\", \"y\": \"Landry2016\", \"xref\": \"x1\", \"yref\": \"y1\", \"font\": {\"color\": \"#000000\"}, \"showarrow\": false}, {\"text\": \"13\", \"x\": \"infraspinatus\", \"y\": \"Landry2016\", \"xref\": \"x1\", \"yref\": \"y1\", \"font\": {\"color\": \"#000000\"}, \"showarrow\": false}, {\"text\": \"12\", \"x\": \"subscapularis\", \"y\": \"Landry2016\", \"xref\": \"x1\", \"yref\": \"y1\", \"font\": {\"color\": \"#000000\"}, \"showarrow\": false}, {\"text\": \"11\", \"x\": \"upper trapezius\", \"y\": \"Landry2015_2\", \"xref\": \"x1\", \"yref\": \"y1\", \"font\": {\"color\": \"#000000\"}, \"showarrow\": false}, {\"text\": \"0\", \"x\": \"middle trapezius\", \"y\": \"Landry2015_2\", \"xref\": \"x1\", \"yref\": \"y1\", \"font\": {\"color\": \"#000000\"}, \"showarrow\": false}, {\"text\": \"11\", \"x\": \"lower trapezius\", \"y\": \"Landry2015_2\", \"xref\": \"x1\", \"yref\": \"y1\", \"font\": {\"color\": \"#000000\"}, \"showarrow\": false}, {\"text\": \"11\", \"x\": \"anterior deltoid\", \"y\": \"Landry2015_2\", \"xref\": \"x1\", \"yref\": \"y1\", \"font\": {\"color\": \"#000000\"}, \"showarrow\": false}, {\"text\": \"11\", \"x\": \"middle deltoid\", \"y\": \"Landry2015_2\", \"xref\": \"x1\", \"yref\": \"y1\", \"font\": {\"color\": \"#000000\"}, \"showarrow\": false}, {\"text\": \"11\", \"x\": \"posterior deltoid\", \"y\": \"Landry2015_2\", \"xref\": \"x1\", \"yref\": \"y1\", \"font\": {\"color\": \"#000000\"}, \"showarrow\": false}, {\"text\": \"0\", \"x\": \"pectoralis major\", \"y\": \"Landry2015_2\", \"xref\": \"x1\", \"yref\": \"y1\", \"font\": {\"color\": \"#000000\"}, \"showarrow\": false}, {\"text\": \"11\", \"x\": \"serratus anterior\", \"y\": \"Landry2015_2\", \"xref\": \"x1\", \"yref\": \"y1\", \"font\": {\"color\": \"#000000\"}, \"showarrow\": false}, {\"text\": \"0\", \"x\": \"latissimus dorsi\", \"y\": \"Landry2015_2\", \"xref\": \"x1\", \"yref\": \"y1\", \"font\": {\"color\": \"#000000\"}, \"showarrow\": false}, {\"text\": \"0\", \"x\": \"supraspinatus\", \"y\": \"Landry2015_2\", \"xref\": \"x1\", \"yref\": \"y1\", \"font\": {\"color\": \"#000000\"}, \"showarrow\": false}, {\"text\": \"0\", \"x\": \"infraspinatus\", \"y\": \"Landry2015_2\", \"xref\": \"x1\", \"yref\": \"y1\", \"font\": {\"color\": \"#000000\"}, \"showarrow\": false}, {\"text\": \"0\", \"x\": \"subscapularis\", \"y\": \"Landry2015_2\", \"xref\": \"x1\", \"yref\": \"y1\", \"font\": {\"color\": \"#000000\"}, \"showarrow\": false}, {\"text\": \"14\", \"x\": \"upper trapezius\", \"y\": \"Landry2015_1\", \"xref\": \"x1\", \"yref\": \"y1\", \"font\": {\"color\": \"#000000\"}, \"showarrow\": false}, {\"text\": \"0\", \"x\": \"middle trapezius\", \"y\": \"Landry2015_1\", \"xref\": \"x1\", \"yref\": \"y1\", \"font\": {\"color\": \"#000000\"}, \"showarrow\": false}, {\"text\": \"14\", \"x\": \"lower trapezius\", \"y\": \"Landry2015_1\", \"xref\": \"x1\", \"yref\": \"y1\", \"font\": {\"color\": \"#000000\"}, \"showarrow\": false}, {\"text\": \"14\", \"x\": \"anterior deltoid\", \"y\": \"Landry2015_1\", \"xref\": \"x1\", \"yref\": \"y1\", \"font\": {\"color\": \"#000000\"}, \"showarrow\": false}, {\"text\": \"14\", \"x\": \"middle deltoid\", \"y\": \"Landry2015_1\", \"xref\": \"x1\", \"yref\": \"y1\", \"font\": {\"color\": \"#000000\"}, \"showarrow\": false}, {\"text\": \"14\", \"x\": \"posterior deltoid\", \"y\": \"Landry2015_1\", \"xref\": \"x1\", \"yref\": \"y1\", \"font\": {\"color\": \"#000000\"}, \"showarrow\": false}, {\"text\": \"0\", \"x\": \"pectoralis major\", \"y\": \"Landry2015_1\", \"xref\": \"x1\", \"yref\": \"y1\", \"font\": {\"color\": \"#000000\"}, \"showarrow\": false}, {\"text\": \"14\", \"x\": \"serratus anterior\", \"y\": \"Landry2015_1\", \"xref\": \"x1\", \"yref\": \"y1\", \"font\": {\"color\": \"#000000\"}, \"showarrow\": false}, {\"text\": \"0\", \"x\": \"latissimus dorsi\", \"y\": \"Landry2015_1\", \"xref\": \"x1\", \"yref\": \"y1\", \"font\": {\"color\": \"#000000\"}, \"showarrow\": false}, {\"text\": \"14\", \"x\": \"supraspinatus\", \"y\": \"Landry2015_1\", \"xref\": \"x1\", \"yref\": \"y1\", \"font\": {\"color\": \"#000000\"}, \"showarrow\": false}, {\"text\": \"14\", \"x\": \"infraspinatus\", \"y\": \"Landry2015_1\", \"xref\": \"x1\", \"yref\": \"y1\", \"font\": {\"color\": \"#000000\"}, \"showarrow\": false}, {\"text\": \"14\", \"x\": \"subscapularis\", \"y\": \"Landry2015_1\", \"xref\": \"x1\", \"yref\": \"y1\", \"font\": {\"color\": \"#000000\"}, \"showarrow\": false}, {\"text\": \"0\", \"x\": \"upper trapezius\", \"y\": \"Violon\", \"xref\": \"x1\", \"yref\": \"y1\", \"font\": {\"color\": \"#000000\"}, \"showarrow\": false}, {\"text\": \"0\", \"x\": \"middle trapezius\", \"y\": \"Violon\", \"xref\": \"x1\", \"yref\": \"y1\", \"font\": {\"color\": \"#000000\"}, \"showarrow\": false}, {\"text\": \"9\", \"x\": \"lower trapezius\", \"y\": \"Violon\", \"xref\": \"x1\", \"yref\": \"y1\", \"font\": {\"color\": \"#000000\"}, \"showarrow\": false}, {\"text\": \"9\", \"x\": \"anterior deltoid\", \"y\": \"Violon\", \"xref\": \"x1\", \"yref\": \"y1\", \"font\": {\"color\": \"#000000\"}, \"showarrow\": false}, {\"text\": \"9\", \"x\": \"middle deltoid\", \"y\": \"Violon\", \"xref\": \"x1\", \"yref\": \"y1\", \"font\": {\"color\": \"#000000\"}, \"showarrow\": false}, {\"text\": \"9\", \"x\": \"posterior deltoid\", \"y\": \"Violon\", \"xref\": \"x1\", \"yref\": \"y1\", \"font\": {\"color\": \"#000000\"}, \"showarrow\": false}, {\"text\": \"0\", \"x\": \"pectoralis major\", \"y\": \"Violon\", \"xref\": \"x1\", \"yref\": \"y1\", \"font\": {\"color\": \"#000000\"}, \"showarrow\": false}, {\"text\": \"0\", \"x\": \"serratus anterior\", \"y\": \"Violon\", \"xref\": \"x1\", \"yref\": \"y1\", \"font\": {\"color\": \"#000000\"}, \"showarrow\": false}, {\"text\": \"0\", \"x\": \"latissimus dorsi\", \"y\": \"Violon\", \"xref\": \"x1\", \"yref\": \"y1\", \"font\": {\"color\": \"#000000\"}, \"showarrow\": false}, {\"text\": \"8\", \"x\": \"supraspinatus\", \"y\": \"Violon\", \"xref\": \"x1\", \"yref\": \"y1\", \"font\": {\"color\": \"#000000\"}, \"showarrow\": false}, {\"text\": \"8\", \"x\": \"infraspinatus\", \"y\": \"Violon\", \"xref\": \"x1\", \"yref\": \"y1\", \"font\": {\"color\": \"#000000\"}, \"showarrow\": false}, {\"text\": \"8\", \"x\": \"subscapularis\", \"y\": \"Violon\", \"xref\": \"x1\", \"yref\": \"y1\", \"font\": {\"color\": \"#000000\"}, \"showarrow\": false}, {\"text\": \"22\", \"x\": \"upper trapezius\", \"y\": \"Yoann_2015\", \"xref\": \"x1\", \"yref\": \"y1\", \"font\": {\"color\": \"#000000\"}, \"showarrow\": false}, {\"text\": \"22\", \"x\": \"middle trapezius\", \"y\": \"Yoann_2015\", \"xref\": \"x1\", \"yref\": \"y1\", \"font\": {\"color\": \"#000000\"}, \"showarrow\": false}, {\"text\": \"22\", \"x\": \"lower trapezius\", \"y\": \"Yoann_2015\", \"xref\": \"x1\", \"yref\": \"y1\", \"font\": {\"color\": \"#000000\"}, \"showarrow\": false}, {\"text\": \"0\", \"x\": \"anterior deltoid\", \"y\": \"Yoann_2015\", \"xref\": \"x1\", \"yref\": \"y1\", \"font\": {\"color\": \"#000000\"}, \"showarrow\": false}, {\"text\": \"22\", \"x\": \"middle deltoid\", \"y\": \"Yoann_2015\", \"xref\": \"x1\", \"yref\": \"y1\", \"font\": {\"color\": \"#000000\"}, \"showarrow\": false}, {\"text\": \"22\", \"x\": \"posterior deltoid\", \"y\": \"Yoann_2015\", \"xref\": \"x1\", \"yref\": \"y1\", \"font\": {\"color\": \"#000000\"}, \"showarrow\": false}, {\"text\": \"22\", \"x\": \"pectoralis major\", \"y\": \"Yoann_2015\", \"xref\": \"x1\", \"yref\": \"y1\", \"font\": {\"color\": \"#000000\"}, \"showarrow\": false}, {\"text\": \"22\", \"x\": \"serratus anterior\", \"y\": \"Yoann_2015\", \"xref\": \"x1\", \"yref\": \"y1\", \"font\": {\"color\": \"#000000\"}, \"showarrow\": false}, {\"text\": \"22\", \"x\": \"latissimus dorsi\", \"y\": \"Yoann_2015\", \"xref\": \"x1\", \"yref\": \"y1\", \"font\": {\"color\": \"#000000\"}, \"showarrow\": false}, {\"text\": \"22\", \"x\": \"supraspinatus\", \"y\": \"Yoann_2015\", \"xref\": \"x1\", \"yref\": \"y1\", \"font\": {\"color\": \"#000000\"}, \"showarrow\": false}, {\"text\": \"22\", \"x\": \"infraspinatus\", \"y\": \"Yoann_2015\", \"xref\": \"x1\", \"yref\": \"y1\", \"font\": {\"color\": \"#000000\"}, \"showarrow\": false}, {\"text\": \"22\", \"x\": \"subscapularis\", \"y\": \"Yoann_2015\", \"xref\": \"x1\", \"yref\": \"y1\", \"font\": {\"color\": \"#000000\"}, \"showarrow\": false}, {\"text\": \"21\", \"x\": \"upper trapezius\", \"y\": \"Landry2013\", \"xref\": \"x1\", \"yref\": \"y1\", \"font\": {\"color\": \"#000000\"}, \"showarrow\": false}, {\"text\": \"21\", \"x\": \"middle trapezius\", \"y\": \"Landry2013\", \"xref\": \"x1\", \"yref\": \"y1\", \"font\": {\"color\": \"#000000\"}, \"showarrow\": false}, {\"text\": \"21\", \"x\": \"lower trapezius\", \"y\": \"Landry2013\", \"xref\": \"x1\", \"yref\": \"y1\", \"font\": {\"color\": \"#000000\"}, \"showarrow\": false}, {\"text\": \"21\", \"x\": \"anterior deltoid\", \"y\": \"Landry2013\", \"xref\": \"x1\", \"yref\": \"y1\", \"font\": {\"color\": \"#000000\"}, \"showarrow\": false}, {\"text\": \"21\", \"x\": \"middle deltoid\", \"y\": \"Landry2013\", \"xref\": \"x1\", \"yref\": \"y1\", \"font\": {\"color\": \"#000000\"}, \"showarrow\": false}, {\"text\": \"21\", \"x\": \"posterior deltoid\", \"y\": \"Landry2013\", \"xref\": \"x1\", \"yref\": \"y1\", \"font\": {\"color\": \"#000000\"}, \"showarrow\": false}, {\"text\": \"21\", \"x\": \"pectoralis major\", \"y\": \"Landry2013\", \"xref\": \"x1\", \"yref\": \"y1\", \"font\": {\"color\": \"#000000\"}, \"showarrow\": false}, {\"text\": \"21\", \"x\": \"serratus anterior\", \"y\": \"Landry2013\", \"xref\": \"x1\", \"yref\": \"y1\", \"font\": {\"color\": \"#000000\"}, \"showarrow\": false}, {\"text\": \"21\", \"x\": \"latissimus dorsi\", \"y\": \"Landry2013\", \"xref\": \"x1\", \"yref\": \"y1\", \"font\": {\"color\": \"#000000\"}, \"showarrow\": false}, {\"text\": \"0\", \"x\": \"supraspinatus\", \"y\": \"Landry2013\", \"xref\": \"x1\", \"yref\": \"y1\", \"font\": {\"color\": \"#000000\"}, \"showarrow\": false}, {\"text\": \"0\", \"x\": \"infraspinatus\", \"y\": \"Landry2013\", \"xref\": \"x1\", \"yref\": \"y1\", \"font\": {\"color\": \"#000000\"}, \"showarrow\": false}, {\"text\": \"0\", \"x\": \"subscapularis\", \"y\": \"Landry2013\", \"xref\": \"x1\", \"yref\": \"y1\", \"font\": {\"color\": \"#000000\"}, \"showarrow\": false}, {\"text\": \"18\", \"x\": \"upper trapezius\", \"y\": \"Landry2012\", \"xref\": \"x1\", \"yref\": \"y1\", \"font\": {\"color\": \"#000000\"}, \"showarrow\": false}, {\"text\": \"18\", \"x\": \"middle trapezius\", \"y\": \"Landry2012\", \"xref\": \"x1\", \"yref\": \"y1\", \"font\": {\"color\": \"#000000\"}, \"showarrow\": false}, {\"text\": \"18\", \"x\": \"lower trapezius\", \"y\": \"Landry2012\", \"xref\": \"x1\", \"yref\": \"y1\", \"font\": {\"color\": \"#000000\"}, \"showarrow\": false}, {\"text\": \"18\", \"x\": \"anterior deltoid\", \"y\": \"Landry2012\", \"xref\": \"x1\", \"yref\": \"y1\", \"font\": {\"color\": \"#000000\"}, \"showarrow\": false}, {\"text\": \"18\", \"x\": \"middle deltoid\", \"y\": \"Landry2012\", \"xref\": \"x1\", \"yref\": \"y1\", \"font\": {\"color\": \"#000000\"}, \"showarrow\": false}, {\"text\": \"18\", \"x\": \"posterior deltoid\", \"y\": \"Landry2012\", \"xref\": \"x1\", \"yref\": \"y1\", \"font\": {\"color\": \"#000000\"}, \"showarrow\": false}, {\"text\": \"18\", \"x\": \"pectoralis major\", \"y\": \"Landry2012\", \"xref\": \"x1\", \"yref\": \"y1\", \"font\": {\"color\": \"#000000\"}, \"showarrow\": false}, {\"text\": \"0\", \"x\": \"serratus anterior\", \"y\": \"Landry2012\", \"xref\": \"x1\", \"yref\": \"y1\", \"font\": {\"color\": \"#000000\"}, \"showarrow\": false}, {\"text\": \"18\", \"x\": \"latissimus dorsi\", \"y\": \"Landry2012\", \"xref\": \"x1\", \"yref\": \"y1\", \"font\": {\"color\": \"#000000\"}, \"showarrow\": false}, {\"text\": \"0\", \"x\": \"supraspinatus\", \"y\": \"Landry2012\", \"xref\": \"x1\", \"yref\": \"y1\", \"font\": {\"color\": \"#000000\"}, \"showarrow\": false}, {\"text\": \"0\", \"x\": \"infraspinatus\", \"y\": \"Landry2012\", \"xref\": \"x1\", \"yref\": \"y1\", \"font\": {\"color\": \"#000000\"}, \"showarrow\": false}, {\"text\": \"0\", \"x\": \"subscapularis\", \"y\": \"Landry2012\", \"xref\": \"x1\", \"yref\": \"y1\", \"font\": {\"color\": \"#000000\"}, \"showarrow\": false}, {\"text\": \"15\", \"x\": \"upper trapezius\", \"y\": \"Tennis\", \"xref\": \"x1\", \"yref\": \"y1\", \"font\": {\"color\": \"#000000\"}, \"showarrow\": false}, {\"text\": \"0\", \"x\": \"middle trapezius\", \"y\": \"Tennis\", \"xref\": \"x1\", \"yref\": \"y1\", \"font\": {\"color\": \"#000000\"}, \"showarrow\": false}, {\"text\": \"15\", \"x\": \"lower trapezius\", \"y\": \"Tennis\", \"xref\": \"x1\", \"yref\": \"y1\", \"font\": {\"color\": \"#000000\"}, \"showarrow\": false}, {\"text\": \"15\", \"x\": \"anterior deltoid\", \"y\": \"Tennis\", \"xref\": \"x1\", \"yref\": \"y1\", \"font\": {\"color\": \"#000000\"}, \"showarrow\": false}, {\"text\": \"15\", \"x\": \"middle deltoid\", \"y\": \"Tennis\", \"xref\": \"x1\", \"yref\": \"y1\", \"font\": {\"color\": \"#000000\"}, \"showarrow\": false}, {\"text\": \"15\", \"x\": \"posterior deltoid\", \"y\": \"Tennis\", \"xref\": \"x1\", \"yref\": \"y1\", \"font\": {\"color\": \"#000000\"}, \"showarrow\": false}, {\"text\": \"15\", \"x\": \"pectoralis major\", \"y\": \"Tennis\", \"xref\": \"x1\", \"yref\": \"y1\", \"font\": {\"color\": \"#000000\"}, \"showarrow\": false}, {\"text\": \"15\", \"x\": \"serratus anterior\", \"y\": \"Tennis\", \"xref\": \"x1\", \"yref\": \"y1\", \"font\": {\"color\": \"#000000\"}, \"showarrow\": false}, {\"text\": \"15\", \"x\": \"latissimus dorsi\", \"y\": \"Tennis\", \"xref\": \"x1\", \"yref\": \"y1\", \"font\": {\"color\": \"#000000\"}, \"showarrow\": false}, {\"text\": \"15\", \"x\": \"supraspinatus\", \"y\": \"Tennis\", \"xref\": \"x1\", \"yref\": \"y1\", \"font\": {\"color\": \"#000000\"}, \"showarrow\": false}, {\"text\": \"15\", \"x\": \"infraspinatus\", \"y\": \"Tennis\", \"xref\": \"x1\", \"yref\": \"y1\", \"font\": {\"color\": \"#000000\"}, \"showarrow\": false}, {\"text\": \"15\", \"x\": \"subscapularis\", \"y\": \"Tennis\", \"xref\": \"x1\", \"yref\": \"y1\", \"font\": {\"color\": \"#000000\"}, \"showarrow\": false}, {\"text\": \"16\", \"x\": \"upper trapezius\", \"y\": \"Patrick_2013\", \"xref\": \"x1\", \"yref\": \"y1\", \"font\": {\"color\": \"#000000\"}, \"showarrow\": false}, {\"text\": \"16\", \"x\": \"middle trapezius\", \"y\": \"Patrick_2013\", \"xref\": \"x1\", \"yref\": \"y1\", \"font\": {\"color\": \"#000000\"}, \"showarrow\": false}, {\"text\": \"16\", \"x\": \"lower trapezius\", \"y\": \"Patrick_2013\", \"xref\": \"x1\", \"yref\": \"y1\", \"font\": {\"color\": \"#000000\"}, \"showarrow\": false}, {\"text\": \"16\", \"x\": \"anterior deltoid\", \"y\": \"Patrick_2013\", \"xref\": \"x1\", \"yref\": \"y1\", \"font\": {\"color\": \"#000000\"}, \"showarrow\": false}, {\"text\": \"16\", \"x\": \"middle deltoid\", \"y\": \"Patrick_2013\", \"xref\": \"x1\", \"yref\": \"y1\", \"font\": {\"color\": \"#000000\"}, \"showarrow\": false}, {\"text\": \"16\", \"x\": \"posterior deltoid\", \"y\": \"Patrick_2013\", \"xref\": \"x1\", \"yref\": \"y1\", \"font\": {\"color\": \"#000000\"}, \"showarrow\": false}, {\"text\": \"16\", \"x\": \"pectoralis major\", \"y\": \"Patrick_2013\", \"xref\": \"x1\", \"yref\": \"y1\", \"font\": {\"color\": \"#000000\"}, \"showarrow\": false}, {\"text\": \"16\", \"x\": \"serratus anterior\", \"y\": \"Patrick_2013\", \"xref\": \"x1\", \"yref\": \"y1\", \"font\": {\"color\": \"#000000\"}, \"showarrow\": false}, {\"text\": \"16\", \"x\": \"latissimus dorsi\", \"y\": \"Patrick_2013\", \"xref\": \"x1\", \"yref\": \"y1\", \"font\": {\"color\": \"#000000\"}, \"showarrow\": false}, {\"text\": \"16\", \"x\": \"supraspinatus\", \"y\": \"Patrick_2013\", \"xref\": \"x1\", \"yref\": \"y1\", \"font\": {\"color\": \"#000000\"}, \"showarrow\": false}, {\"text\": \"16\", \"x\": \"infraspinatus\", \"y\": \"Patrick_2013\", \"xref\": \"x1\", \"yref\": \"y1\", \"font\": {\"color\": \"#000000\"}, \"showarrow\": false}, {\"text\": \"16\", \"x\": \"subscapularis\", \"y\": \"Patrick_2013\", \"xref\": \"x1\", \"yref\": \"y1\", \"font\": {\"color\": \"#000000\"}, \"showarrow\": false}, {\"text\": \"10\", \"x\": \"upper trapezius\", \"y\": \"Sylvain_2015\", \"xref\": \"x1\", \"yref\": \"y1\", \"font\": {\"color\": \"#000000\"}, \"showarrow\": false}, {\"text\": \"10\", \"x\": \"middle trapezius\", \"y\": \"Sylvain_2015\", \"xref\": \"x1\", \"yref\": \"y1\", \"font\": {\"color\": \"#000000\"}, \"showarrow\": false}, {\"text\": \"10\", \"x\": \"lower trapezius\", \"y\": \"Sylvain_2015\", \"xref\": \"x1\", \"yref\": \"y1\", \"font\": {\"color\": \"#000000\"}, \"showarrow\": false}, {\"text\": \"0\", \"x\": \"anterior deltoid\", \"y\": \"Sylvain_2015\", \"xref\": \"x1\", \"yref\": \"y1\", \"font\": {\"color\": \"#000000\"}, \"showarrow\": false}, {\"text\": \"10\", \"x\": \"middle deltoid\", \"y\": \"Sylvain_2015\", \"xref\": \"x1\", \"yref\": \"y1\", \"font\": {\"color\": \"#000000\"}, \"showarrow\": false}, {\"text\": \"10\", \"x\": \"posterior deltoid\", \"y\": \"Sylvain_2015\", \"xref\": \"x1\", \"yref\": \"y1\", \"font\": {\"color\": \"#000000\"}, \"showarrow\": false}, {\"text\": \"10\", \"x\": \"pectoralis major\", \"y\": \"Sylvain_2015\", \"xref\": \"x1\", \"yref\": \"y1\", \"font\": {\"color\": \"#000000\"}, \"showarrow\": false}, {\"text\": \"10\", \"x\": \"serratus anterior\", \"y\": \"Sylvain_2015\", \"xref\": \"x1\", \"yref\": \"y1\", \"font\": {\"color\": \"#000000\"}, \"showarrow\": false}, {\"text\": \"10\", \"x\": \"latissimus dorsi\", \"y\": \"Sylvain_2015\", \"xref\": \"x1\", \"yref\": \"y1\", \"font\": {\"color\": \"#000000\"}, \"showarrow\": false}, {\"text\": \"10\", \"x\": \"supraspinatus\", \"y\": \"Sylvain_2015\", \"xref\": \"x1\", \"yref\": \"y1\", \"font\": {\"color\": \"#000000\"}, \"showarrow\": false}, {\"text\": \"10\", \"x\": \"infraspinatus\", \"y\": \"Sylvain_2015\", \"xref\": \"x1\", \"yref\": \"y1\", \"font\": {\"color\": \"#000000\"}, \"showarrow\": false}, {\"text\": \"10\", \"x\": \"subscapularis\", \"y\": \"Sylvain_2015\", \"xref\": \"x1\", \"yref\": \"y1\", \"font\": {\"color\": \"#000000\"}, \"showarrow\": false}], \"xaxis\": {\"ticks\": \"\", \"dtick\": 1, \"side\": \"bottom\", \"gridcolor\": \"rgb(0, 0, 0)\", \"title\": null}, \"yaxis\": {\"ticks\": \"\", \"dtick\": 1, \"ticksuffix\": \"  \", \"title\": null, \"autorange\": \"reversed\"}, \"hovermode\": \"closest\", \"font\": {\"size\": 14}, \"title\": \"Muscles by dataset\", \"margin\": {\"t\": 80, \"b\": 80, \"l\": 150, \"r\": 80, \"pad\": 0}}, {\"showLink\": true, \"linkText\": \"Export to plot.ly\"})});</script>"
      ]
     },
     "metadata": {},
     "output_type": "display_data"
    }
   ],
   "source": [
    "muscle_by_dataset = plot_count_by_dataset(\n",
    "    df_tidy,\n",
    "    values='test',\n",
    "    index='dataset',\n",
    "    columns='muscle',\n",
    "    ylabel=DATASET_NAMES,\n",
    "    xlabel=MUSCLES_NAMES,\n",
    "    title='Muscles by dataset')\n",
    "py.iplot(muscle_by_dataset, filename='mvc/muscles_by_dataset')"
   ]
  },
  {
   "cell_type": "markdown",
   "metadata": {},
   "source": [
    "## 4.2. Tests by dataset"
   ]
  },
  {
   "cell_type": "code",
   "execution_count": 8,
   "metadata": {
    "run_control": {
     "marked": false
    }
   },
   "outputs": [
    {
     "data": {
      "application/vnd.plotly.v1+json": {
       "data": [
        {
         "colorbar": {
          "title": "Count",
          "titleside": "right"
         },
         "colorscale": "YlGnBu",
         "showscale": true,
         "type": "heatmap",
         "x": null,
         "y": [
          "Landry2016",
          "Landry2015_2",
          "Landry2015_1",
          "Violon",
          "Yoann_2015",
          "Landry2013",
          "Landry2012",
          "Tennis",
          "Patrick_2013",
          "Sylvain_2015"
         ],
         "z": [
          [
           13,
           0,
           14,
           14,
           14,
           14,
           0,
           11,
           13,
           13,
           12,
           0,
           0,
           11,
           0,
           14
          ],
          [
           11,
           0,
           11,
           11,
           11,
           11,
           0,
           0,
           0,
           0,
           0,
           0,
           0,
           0,
           11,
           0
          ],
          [
           14,
           0,
           14,
           14,
           14,
           14,
           0,
           0,
           14,
           14,
           14,
           0,
           0,
           0,
           14,
           0
          ],
          [
           0,
           0,
           9,
           9,
           9,
           9,
           0,
           0,
           8,
           8,
           8,
           0,
           0,
           0,
           0,
           0
          ],
          [
           22,
           22,
           22,
           22,
           22,
           22,
           22,
           22,
           22,
           22,
           22,
           22,
           22,
           22,
           22,
           0
          ],
          [
           21,
           21,
           21,
           21,
           21,
           21,
           21,
           21,
           0,
           0,
           0,
           0,
           0,
           0,
           21,
           0
          ],
          [
           18,
           18,
           18,
           18,
           18,
           18,
           18,
           18,
           0,
           0,
           0,
           0,
           0,
           0,
           0,
           0
          ],
          [
           16,
           0,
           16,
           16,
           16,
           16,
           16,
           0,
           14,
           14,
           14,
           0,
           0,
           16,
           0,
           16
          ],
          [
           16,
           16,
           16,
           16,
           16,
           16,
           16,
           16,
           16,
           16,
           16,
           16,
           16,
           16,
           16,
           0
          ],
          [
           10,
           10,
           10,
           10,
           10,
           10,
           10,
           10,
           10,
           10,
           10,
           10,
           10,
           10,
           10,
           0
          ]
         ]
        }
       ],
       "layout": {
        "annotations": [
         {
          "font": {
           "color": "#000000"
          },
          "showarrow": false,
          "text": "13",
          "x": 0,
          "xref": "x1",
          "y": "Landry2016",
          "yref": "y1"
         },
         {
          "font": {
           "color": "#000000"
          },
          "showarrow": false,
          "text": "0",
          "x": 1,
          "xref": "x1",
          "y": "Landry2016",
          "yref": "y1"
         },
         {
          "font": {
           "color": "#000000"
          },
          "showarrow": false,
          "text": "14",
          "x": 2,
          "xref": "x1",
          "y": "Landry2016",
          "yref": "y1"
         },
         {
          "font": {
           "color": "#000000"
          },
          "showarrow": false,
          "text": "14",
          "x": 3,
          "xref": "x1",
          "y": "Landry2016",
          "yref": "y1"
         },
         {
          "font": {
           "color": "#000000"
          },
          "showarrow": false,
          "text": "14",
          "x": 4,
          "xref": "x1",
          "y": "Landry2016",
          "yref": "y1"
         },
         {
          "font": {
           "color": "#000000"
          },
          "showarrow": false,
          "text": "14",
          "x": 5,
          "xref": "x1",
          "y": "Landry2016",
          "yref": "y1"
         },
         {
          "font": {
           "color": "#000000"
          },
          "showarrow": false,
          "text": "0",
          "x": 6,
          "xref": "x1",
          "y": "Landry2016",
          "yref": "y1"
         },
         {
          "font": {
           "color": "#000000"
          },
          "showarrow": false,
          "text": "11",
          "x": 7,
          "xref": "x1",
          "y": "Landry2016",
          "yref": "y1"
         },
         {
          "font": {
           "color": "#000000"
          },
          "showarrow": false,
          "text": "13",
          "x": 8,
          "xref": "x1",
          "y": "Landry2016",
          "yref": "y1"
         },
         {
          "font": {
           "color": "#000000"
          },
          "showarrow": false,
          "text": "13",
          "x": 9,
          "xref": "x1",
          "y": "Landry2016",
          "yref": "y1"
         },
         {
          "font": {
           "color": "#000000"
          },
          "showarrow": false,
          "text": "12",
          "x": 10,
          "xref": "x1",
          "y": "Landry2016",
          "yref": "y1"
         },
         {
          "font": {
           "color": "#000000"
          },
          "showarrow": false,
          "text": "0",
          "x": 11,
          "xref": "x1",
          "y": "Landry2016",
          "yref": "y1"
         },
         {
          "font": {
           "color": "#000000"
          },
          "showarrow": false,
          "text": "0",
          "x": 12,
          "xref": "x1",
          "y": "Landry2016",
          "yref": "y1"
         },
         {
          "font": {
           "color": "#000000"
          },
          "showarrow": false,
          "text": "11",
          "x": 13,
          "xref": "x1",
          "y": "Landry2016",
          "yref": "y1"
         },
         {
          "font": {
           "color": "#000000"
          },
          "showarrow": false,
          "text": "0",
          "x": 14,
          "xref": "x1",
          "y": "Landry2016",
          "yref": "y1"
         },
         {
          "font": {
           "color": "#000000"
          },
          "showarrow": false,
          "text": "14",
          "x": 15,
          "xref": "x1",
          "y": "Landry2016",
          "yref": "y1"
         },
         {
          "font": {
           "color": "#000000"
          },
          "showarrow": false,
          "text": "11",
          "x": 0,
          "xref": "x1",
          "y": "Landry2015_2",
          "yref": "y1"
         },
         {
          "font": {
           "color": "#000000"
          },
          "showarrow": false,
          "text": "0",
          "x": 1,
          "xref": "x1",
          "y": "Landry2015_2",
          "yref": "y1"
         },
         {
          "font": {
           "color": "#000000"
          },
          "showarrow": false,
          "text": "11",
          "x": 2,
          "xref": "x1",
          "y": "Landry2015_2",
          "yref": "y1"
         },
         {
          "font": {
           "color": "#000000"
          },
          "showarrow": false,
          "text": "11",
          "x": 3,
          "xref": "x1",
          "y": "Landry2015_2",
          "yref": "y1"
         },
         {
          "font": {
           "color": "#000000"
          },
          "showarrow": false,
          "text": "11",
          "x": 4,
          "xref": "x1",
          "y": "Landry2015_2",
          "yref": "y1"
         },
         {
          "font": {
           "color": "#000000"
          },
          "showarrow": false,
          "text": "11",
          "x": 5,
          "xref": "x1",
          "y": "Landry2015_2",
          "yref": "y1"
         },
         {
          "font": {
           "color": "#000000"
          },
          "showarrow": false,
          "text": "0",
          "x": 6,
          "xref": "x1",
          "y": "Landry2015_2",
          "yref": "y1"
         },
         {
          "font": {
           "color": "#000000"
          },
          "showarrow": false,
          "text": "0",
          "x": 7,
          "xref": "x1",
          "y": "Landry2015_2",
          "yref": "y1"
         },
         {
          "font": {
           "color": "#000000"
          },
          "showarrow": false,
          "text": "0",
          "x": 8,
          "xref": "x1",
          "y": "Landry2015_2",
          "yref": "y1"
         },
         {
          "font": {
           "color": "#000000"
          },
          "showarrow": false,
          "text": "0",
          "x": 9,
          "xref": "x1",
          "y": "Landry2015_2",
          "yref": "y1"
         },
         {
          "font": {
           "color": "#000000"
          },
          "showarrow": false,
          "text": "0",
          "x": 10,
          "xref": "x1",
          "y": "Landry2015_2",
          "yref": "y1"
         },
         {
          "font": {
           "color": "#000000"
          },
          "showarrow": false,
          "text": "0",
          "x": 11,
          "xref": "x1",
          "y": "Landry2015_2",
          "yref": "y1"
         },
         {
          "font": {
           "color": "#000000"
          },
          "showarrow": false,
          "text": "0",
          "x": 12,
          "xref": "x1",
          "y": "Landry2015_2",
          "yref": "y1"
         },
         {
          "font": {
           "color": "#000000"
          },
          "showarrow": false,
          "text": "0",
          "x": 13,
          "xref": "x1",
          "y": "Landry2015_2",
          "yref": "y1"
         },
         {
          "font": {
           "color": "#000000"
          },
          "showarrow": false,
          "text": "11",
          "x": 14,
          "xref": "x1",
          "y": "Landry2015_2",
          "yref": "y1"
         },
         {
          "font": {
           "color": "#000000"
          },
          "showarrow": false,
          "text": "0",
          "x": 15,
          "xref": "x1",
          "y": "Landry2015_2",
          "yref": "y1"
         },
         {
          "font": {
           "color": "#000000"
          },
          "showarrow": false,
          "text": "14",
          "x": 0,
          "xref": "x1",
          "y": "Landry2015_1",
          "yref": "y1"
         },
         {
          "font": {
           "color": "#000000"
          },
          "showarrow": false,
          "text": "0",
          "x": 1,
          "xref": "x1",
          "y": "Landry2015_1",
          "yref": "y1"
         },
         {
          "font": {
           "color": "#000000"
          },
          "showarrow": false,
          "text": "14",
          "x": 2,
          "xref": "x1",
          "y": "Landry2015_1",
          "yref": "y1"
         },
         {
          "font": {
           "color": "#000000"
          },
          "showarrow": false,
          "text": "14",
          "x": 3,
          "xref": "x1",
          "y": "Landry2015_1",
          "yref": "y1"
         },
         {
          "font": {
           "color": "#000000"
          },
          "showarrow": false,
          "text": "14",
          "x": 4,
          "xref": "x1",
          "y": "Landry2015_1",
          "yref": "y1"
         },
         {
          "font": {
           "color": "#000000"
          },
          "showarrow": false,
          "text": "14",
          "x": 5,
          "xref": "x1",
          "y": "Landry2015_1",
          "yref": "y1"
         },
         {
          "font": {
           "color": "#000000"
          },
          "showarrow": false,
          "text": "0",
          "x": 6,
          "xref": "x1",
          "y": "Landry2015_1",
          "yref": "y1"
         },
         {
          "font": {
           "color": "#000000"
          },
          "showarrow": false,
          "text": "0",
          "x": 7,
          "xref": "x1",
          "y": "Landry2015_1",
          "yref": "y1"
         },
         {
          "font": {
           "color": "#000000"
          },
          "showarrow": false,
          "text": "14",
          "x": 8,
          "xref": "x1",
          "y": "Landry2015_1",
          "yref": "y1"
         },
         {
          "font": {
           "color": "#000000"
          },
          "showarrow": false,
          "text": "14",
          "x": 9,
          "xref": "x1",
          "y": "Landry2015_1",
          "yref": "y1"
         },
         {
          "font": {
           "color": "#000000"
          },
          "showarrow": false,
          "text": "14",
          "x": 10,
          "xref": "x1",
          "y": "Landry2015_1",
          "yref": "y1"
         },
         {
          "font": {
           "color": "#000000"
          },
          "showarrow": false,
          "text": "0",
          "x": 11,
          "xref": "x1",
          "y": "Landry2015_1",
          "yref": "y1"
         },
         {
          "font": {
           "color": "#000000"
          },
          "showarrow": false,
          "text": "0",
          "x": 12,
          "xref": "x1",
          "y": "Landry2015_1",
          "yref": "y1"
         },
         {
          "font": {
           "color": "#000000"
          },
          "showarrow": false,
          "text": "0",
          "x": 13,
          "xref": "x1",
          "y": "Landry2015_1",
          "yref": "y1"
         },
         {
          "font": {
           "color": "#000000"
          },
          "showarrow": false,
          "text": "14",
          "x": 14,
          "xref": "x1",
          "y": "Landry2015_1",
          "yref": "y1"
         },
         {
          "font": {
           "color": "#000000"
          },
          "showarrow": false,
          "text": "0",
          "x": 15,
          "xref": "x1",
          "y": "Landry2015_1",
          "yref": "y1"
         },
         {
          "font": {
           "color": "#000000"
          },
          "showarrow": false,
          "text": "0",
          "x": 0,
          "xref": "x1",
          "y": "Violon",
          "yref": "y1"
         },
         {
          "font": {
           "color": "#000000"
          },
          "showarrow": false,
          "text": "0",
          "x": 1,
          "xref": "x1",
          "y": "Violon",
          "yref": "y1"
         },
         {
          "font": {
           "color": "#000000"
          },
          "showarrow": false,
          "text": "9",
          "x": 2,
          "xref": "x1",
          "y": "Violon",
          "yref": "y1"
         },
         {
          "font": {
           "color": "#000000"
          },
          "showarrow": false,
          "text": "9",
          "x": 3,
          "xref": "x1",
          "y": "Violon",
          "yref": "y1"
         },
         {
          "font": {
           "color": "#000000"
          },
          "showarrow": false,
          "text": "9",
          "x": 4,
          "xref": "x1",
          "y": "Violon",
          "yref": "y1"
         },
         {
          "font": {
           "color": "#000000"
          },
          "showarrow": false,
          "text": "9",
          "x": 5,
          "xref": "x1",
          "y": "Violon",
          "yref": "y1"
         },
         {
          "font": {
           "color": "#000000"
          },
          "showarrow": false,
          "text": "0",
          "x": 6,
          "xref": "x1",
          "y": "Violon",
          "yref": "y1"
         },
         {
          "font": {
           "color": "#000000"
          },
          "showarrow": false,
          "text": "0",
          "x": 7,
          "xref": "x1",
          "y": "Violon",
          "yref": "y1"
         },
         {
          "font": {
           "color": "#000000"
          },
          "showarrow": false,
          "text": "8",
          "x": 8,
          "xref": "x1",
          "y": "Violon",
          "yref": "y1"
         },
         {
          "font": {
           "color": "#000000"
          },
          "showarrow": false,
          "text": "8",
          "x": 9,
          "xref": "x1",
          "y": "Violon",
          "yref": "y1"
         },
         {
          "font": {
           "color": "#000000"
          },
          "showarrow": false,
          "text": "8",
          "x": 10,
          "xref": "x1",
          "y": "Violon",
          "yref": "y1"
         },
         {
          "font": {
           "color": "#000000"
          },
          "showarrow": false,
          "text": "0",
          "x": 11,
          "xref": "x1",
          "y": "Violon",
          "yref": "y1"
         },
         {
          "font": {
           "color": "#000000"
          },
          "showarrow": false,
          "text": "0",
          "x": 12,
          "xref": "x1",
          "y": "Violon",
          "yref": "y1"
         },
         {
          "font": {
           "color": "#000000"
          },
          "showarrow": false,
          "text": "0",
          "x": 13,
          "xref": "x1",
          "y": "Violon",
          "yref": "y1"
         },
         {
          "font": {
           "color": "#000000"
          },
          "showarrow": false,
          "text": "0",
          "x": 14,
          "xref": "x1",
          "y": "Violon",
          "yref": "y1"
         },
         {
          "font": {
           "color": "#000000"
          },
          "showarrow": false,
          "text": "0",
          "x": 15,
          "xref": "x1",
          "y": "Violon",
          "yref": "y1"
         },
         {
          "font": {
           "color": "#000000"
          },
          "showarrow": false,
          "text": "22",
          "x": 0,
          "xref": "x1",
          "y": "Yoann_2015",
          "yref": "y1"
         },
         {
          "font": {
           "color": "#000000"
          },
          "showarrow": false,
          "text": "22",
          "x": 1,
          "xref": "x1",
          "y": "Yoann_2015",
          "yref": "y1"
         },
         {
          "font": {
           "color": "#000000"
          },
          "showarrow": false,
          "text": "22",
          "x": 2,
          "xref": "x1",
          "y": "Yoann_2015",
          "yref": "y1"
         },
         {
          "font": {
           "color": "#000000"
          },
          "showarrow": false,
          "text": "22",
          "x": 3,
          "xref": "x1",
          "y": "Yoann_2015",
          "yref": "y1"
         },
         {
          "font": {
           "color": "#000000"
          },
          "showarrow": false,
          "text": "22",
          "x": 4,
          "xref": "x1",
          "y": "Yoann_2015",
          "yref": "y1"
         },
         {
          "font": {
           "color": "#000000"
          },
          "showarrow": false,
          "text": "22",
          "x": 5,
          "xref": "x1",
          "y": "Yoann_2015",
          "yref": "y1"
         },
         {
          "font": {
           "color": "#000000"
          },
          "showarrow": false,
          "text": "22",
          "x": 6,
          "xref": "x1",
          "y": "Yoann_2015",
          "yref": "y1"
         },
         {
          "font": {
           "color": "#000000"
          },
          "showarrow": false,
          "text": "22",
          "x": 7,
          "xref": "x1",
          "y": "Yoann_2015",
          "yref": "y1"
         },
         {
          "font": {
           "color": "#000000"
          },
          "showarrow": false,
          "text": "22",
          "x": 8,
          "xref": "x1",
          "y": "Yoann_2015",
          "yref": "y1"
         },
         {
          "font": {
           "color": "#000000"
          },
          "showarrow": false,
          "text": "22",
          "x": 9,
          "xref": "x1",
          "y": "Yoann_2015",
          "yref": "y1"
         },
         {
          "font": {
           "color": "#000000"
          },
          "showarrow": false,
          "text": "22",
          "x": 10,
          "xref": "x1",
          "y": "Yoann_2015",
          "yref": "y1"
         },
         {
          "font": {
           "color": "#000000"
          },
          "showarrow": false,
          "text": "22",
          "x": 11,
          "xref": "x1",
          "y": "Yoann_2015",
          "yref": "y1"
         },
         {
          "font": {
           "color": "#000000"
          },
          "showarrow": false,
          "text": "22",
          "x": 12,
          "xref": "x1",
          "y": "Yoann_2015",
          "yref": "y1"
         },
         {
          "font": {
           "color": "#000000"
          },
          "showarrow": false,
          "text": "22",
          "x": 13,
          "xref": "x1",
          "y": "Yoann_2015",
          "yref": "y1"
         },
         {
          "font": {
           "color": "#000000"
          },
          "showarrow": false,
          "text": "22",
          "x": 14,
          "xref": "x1",
          "y": "Yoann_2015",
          "yref": "y1"
         },
         {
          "font": {
           "color": "#000000"
          },
          "showarrow": false,
          "text": "0",
          "x": 15,
          "xref": "x1",
          "y": "Yoann_2015",
          "yref": "y1"
         },
         {
          "font": {
           "color": "#000000"
          },
          "showarrow": false,
          "text": "21",
          "x": 0,
          "xref": "x1",
          "y": "Landry2013",
          "yref": "y1"
         },
         {
          "font": {
           "color": "#000000"
          },
          "showarrow": false,
          "text": "21",
          "x": 1,
          "xref": "x1",
          "y": "Landry2013",
          "yref": "y1"
         },
         {
          "font": {
           "color": "#000000"
          },
          "showarrow": false,
          "text": "21",
          "x": 2,
          "xref": "x1",
          "y": "Landry2013",
          "yref": "y1"
         },
         {
          "font": {
           "color": "#000000"
          },
          "showarrow": false,
          "text": "21",
          "x": 3,
          "xref": "x1",
          "y": "Landry2013",
          "yref": "y1"
         },
         {
          "font": {
           "color": "#000000"
          },
          "showarrow": false,
          "text": "21",
          "x": 4,
          "xref": "x1",
          "y": "Landry2013",
          "yref": "y1"
         },
         {
          "font": {
           "color": "#000000"
          },
          "showarrow": false,
          "text": "21",
          "x": 5,
          "xref": "x1",
          "y": "Landry2013",
          "yref": "y1"
         },
         {
          "font": {
           "color": "#000000"
          },
          "showarrow": false,
          "text": "21",
          "x": 6,
          "xref": "x1",
          "y": "Landry2013",
          "yref": "y1"
         },
         {
          "font": {
           "color": "#000000"
          },
          "showarrow": false,
          "text": "21",
          "x": 7,
          "xref": "x1",
          "y": "Landry2013",
          "yref": "y1"
         },
         {
          "font": {
           "color": "#000000"
          },
          "showarrow": false,
          "text": "0",
          "x": 8,
          "xref": "x1",
          "y": "Landry2013",
          "yref": "y1"
         },
         {
          "font": {
           "color": "#000000"
          },
          "showarrow": false,
          "text": "0",
          "x": 9,
          "xref": "x1",
          "y": "Landry2013",
          "yref": "y1"
         },
         {
          "font": {
           "color": "#000000"
          },
          "showarrow": false,
          "text": "0",
          "x": 10,
          "xref": "x1",
          "y": "Landry2013",
          "yref": "y1"
         },
         {
          "font": {
           "color": "#000000"
          },
          "showarrow": false,
          "text": "0",
          "x": 11,
          "xref": "x1",
          "y": "Landry2013",
          "yref": "y1"
         },
         {
          "font": {
           "color": "#000000"
          },
          "showarrow": false,
          "text": "0",
          "x": 12,
          "xref": "x1",
          "y": "Landry2013",
          "yref": "y1"
         },
         {
          "font": {
           "color": "#000000"
          },
          "showarrow": false,
          "text": "0",
          "x": 13,
          "xref": "x1",
          "y": "Landry2013",
          "yref": "y1"
         },
         {
          "font": {
           "color": "#000000"
          },
          "showarrow": false,
          "text": "21",
          "x": 14,
          "xref": "x1",
          "y": "Landry2013",
          "yref": "y1"
         },
         {
          "font": {
           "color": "#000000"
          },
          "showarrow": false,
          "text": "0",
          "x": 15,
          "xref": "x1",
          "y": "Landry2013",
          "yref": "y1"
         },
         {
          "font": {
           "color": "#000000"
          },
          "showarrow": false,
          "text": "18",
          "x": 0,
          "xref": "x1",
          "y": "Landry2012",
          "yref": "y1"
         },
         {
          "font": {
           "color": "#000000"
          },
          "showarrow": false,
          "text": "18",
          "x": 1,
          "xref": "x1",
          "y": "Landry2012",
          "yref": "y1"
         },
         {
          "font": {
           "color": "#000000"
          },
          "showarrow": false,
          "text": "18",
          "x": 2,
          "xref": "x1",
          "y": "Landry2012",
          "yref": "y1"
         },
         {
          "font": {
           "color": "#000000"
          },
          "showarrow": false,
          "text": "18",
          "x": 3,
          "xref": "x1",
          "y": "Landry2012",
          "yref": "y1"
         },
         {
          "font": {
           "color": "#000000"
          },
          "showarrow": false,
          "text": "18",
          "x": 4,
          "xref": "x1",
          "y": "Landry2012",
          "yref": "y1"
         },
         {
          "font": {
           "color": "#000000"
          },
          "showarrow": false,
          "text": "18",
          "x": 5,
          "xref": "x1",
          "y": "Landry2012",
          "yref": "y1"
         },
         {
          "font": {
           "color": "#000000"
          },
          "showarrow": false,
          "text": "18",
          "x": 6,
          "xref": "x1",
          "y": "Landry2012",
          "yref": "y1"
         },
         {
          "font": {
           "color": "#000000"
          },
          "showarrow": false,
          "text": "18",
          "x": 7,
          "xref": "x1",
          "y": "Landry2012",
          "yref": "y1"
         },
         {
          "font": {
           "color": "#000000"
          },
          "showarrow": false,
          "text": "0",
          "x": 8,
          "xref": "x1",
          "y": "Landry2012",
          "yref": "y1"
         },
         {
          "font": {
           "color": "#000000"
          },
          "showarrow": false,
          "text": "0",
          "x": 9,
          "xref": "x1",
          "y": "Landry2012",
          "yref": "y1"
         },
         {
          "font": {
           "color": "#000000"
          },
          "showarrow": false,
          "text": "0",
          "x": 10,
          "xref": "x1",
          "y": "Landry2012",
          "yref": "y1"
         },
         {
          "font": {
           "color": "#000000"
          },
          "showarrow": false,
          "text": "0",
          "x": 11,
          "xref": "x1",
          "y": "Landry2012",
          "yref": "y1"
         },
         {
          "font": {
           "color": "#000000"
          },
          "showarrow": false,
          "text": "0",
          "x": 12,
          "xref": "x1",
          "y": "Landry2012",
          "yref": "y1"
         },
         {
          "font": {
           "color": "#000000"
          },
          "showarrow": false,
          "text": "0",
          "x": 13,
          "xref": "x1",
          "y": "Landry2012",
          "yref": "y1"
         },
         {
          "font": {
           "color": "#000000"
          },
          "showarrow": false,
          "text": "0",
          "x": 14,
          "xref": "x1",
          "y": "Landry2012",
          "yref": "y1"
         },
         {
          "font": {
           "color": "#000000"
          },
          "showarrow": false,
          "text": "0",
          "x": 15,
          "xref": "x1",
          "y": "Landry2012",
          "yref": "y1"
         },
         {
          "font": {
           "color": "#000000"
          },
          "showarrow": false,
          "text": "16",
          "x": 0,
          "xref": "x1",
          "y": "Tennis",
          "yref": "y1"
         },
         {
          "font": {
           "color": "#000000"
          },
          "showarrow": false,
          "text": "0",
          "x": 1,
          "xref": "x1",
          "y": "Tennis",
          "yref": "y1"
         },
         {
          "font": {
           "color": "#000000"
          },
          "showarrow": false,
          "text": "16",
          "x": 2,
          "xref": "x1",
          "y": "Tennis",
          "yref": "y1"
         },
         {
          "font": {
           "color": "#000000"
          },
          "showarrow": false,
          "text": "16",
          "x": 3,
          "xref": "x1",
          "y": "Tennis",
          "yref": "y1"
         },
         {
          "font": {
           "color": "#000000"
          },
          "showarrow": false,
          "text": "16",
          "x": 4,
          "xref": "x1",
          "y": "Tennis",
          "yref": "y1"
         },
         {
          "font": {
           "color": "#000000"
          },
          "showarrow": false,
          "text": "16",
          "x": 5,
          "xref": "x1",
          "y": "Tennis",
          "yref": "y1"
         },
         {
          "font": {
           "color": "#000000"
          },
          "showarrow": false,
          "text": "16",
          "x": 6,
          "xref": "x1",
          "y": "Tennis",
          "yref": "y1"
         },
         {
          "font": {
           "color": "#000000"
          },
          "showarrow": false,
          "text": "0",
          "x": 7,
          "xref": "x1",
          "y": "Tennis",
          "yref": "y1"
         },
         {
          "font": {
           "color": "#000000"
          },
          "showarrow": false,
          "text": "14",
          "x": 8,
          "xref": "x1",
          "y": "Tennis",
          "yref": "y1"
         },
         {
          "font": {
           "color": "#000000"
          },
          "showarrow": false,
          "text": "14",
          "x": 9,
          "xref": "x1",
          "y": "Tennis",
          "yref": "y1"
         },
         {
          "font": {
           "color": "#000000"
          },
          "showarrow": false,
          "text": "14",
          "x": 10,
          "xref": "x1",
          "y": "Tennis",
          "yref": "y1"
         },
         {
          "font": {
           "color": "#000000"
          },
          "showarrow": false,
          "text": "0",
          "x": 11,
          "xref": "x1",
          "y": "Tennis",
          "yref": "y1"
         },
         {
          "font": {
           "color": "#000000"
          },
          "showarrow": false,
          "text": "0",
          "x": 12,
          "xref": "x1",
          "y": "Tennis",
          "yref": "y1"
         },
         {
          "font": {
           "color": "#000000"
          },
          "showarrow": false,
          "text": "16",
          "x": 13,
          "xref": "x1",
          "y": "Tennis",
          "yref": "y1"
         },
         {
          "font": {
           "color": "#000000"
          },
          "showarrow": false,
          "text": "0",
          "x": 14,
          "xref": "x1",
          "y": "Tennis",
          "yref": "y1"
         },
         {
          "font": {
           "color": "#000000"
          },
          "showarrow": false,
          "text": "16",
          "x": 15,
          "xref": "x1",
          "y": "Tennis",
          "yref": "y1"
         },
         {
          "font": {
           "color": "#000000"
          },
          "showarrow": false,
          "text": "16",
          "x": 0,
          "xref": "x1",
          "y": "Patrick_2013",
          "yref": "y1"
         },
         {
          "font": {
           "color": "#000000"
          },
          "showarrow": false,
          "text": "16",
          "x": 1,
          "xref": "x1",
          "y": "Patrick_2013",
          "yref": "y1"
         },
         {
          "font": {
           "color": "#000000"
          },
          "showarrow": false,
          "text": "16",
          "x": 2,
          "xref": "x1",
          "y": "Patrick_2013",
          "yref": "y1"
         },
         {
          "font": {
           "color": "#000000"
          },
          "showarrow": false,
          "text": "16",
          "x": 3,
          "xref": "x1",
          "y": "Patrick_2013",
          "yref": "y1"
         },
         {
          "font": {
           "color": "#000000"
          },
          "showarrow": false,
          "text": "16",
          "x": 4,
          "xref": "x1",
          "y": "Patrick_2013",
          "yref": "y1"
         },
         {
          "font": {
           "color": "#000000"
          },
          "showarrow": false,
          "text": "16",
          "x": 5,
          "xref": "x1",
          "y": "Patrick_2013",
          "yref": "y1"
         },
         {
          "font": {
           "color": "#000000"
          },
          "showarrow": false,
          "text": "16",
          "x": 6,
          "xref": "x1",
          "y": "Patrick_2013",
          "yref": "y1"
         },
         {
          "font": {
           "color": "#000000"
          },
          "showarrow": false,
          "text": "16",
          "x": 7,
          "xref": "x1",
          "y": "Patrick_2013",
          "yref": "y1"
         },
         {
          "font": {
           "color": "#000000"
          },
          "showarrow": false,
          "text": "16",
          "x": 8,
          "xref": "x1",
          "y": "Patrick_2013",
          "yref": "y1"
         },
         {
          "font": {
           "color": "#000000"
          },
          "showarrow": false,
          "text": "16",
          "x": 9,
          "xref": "x1",
          "y": "Patrick_2013",
          "yref": "y1"
         },
         {
          "font": {
           "color": "#000000"
          },
          "showarrow": false,
          "text": "16",
          "x": 10,
          "xref": "x1",
          "y": "Patrick_2013",
          "yref": "y1"
         },
         {
          "font": {
           "color": "#000000"
          },
          "showarrow": false,
          "text": "16",
          "x": 11,
          "xref": "x1",
          "y": "Patrick_2013",
          "yref": "y1"
         },
         {
          "font": {
           "color": "#000000"
          },
          "showarrow": false,
          "text": "16",
          "x": 12,
          "xref": "x1",
          "y": "Patrick_2013",
          "yref": "y1"
         },
         {
          "font": {
           "color": "#000000"
          },
          "showarrow": false,
          "text": "16",
          "x": 13,
          "xref": "x1",
          "y": "Patrick_2013",
          "yref": "y1"
         },
         {
          "font": {
           "color": "#000000"
          },
          "showarrow": false,
          "text": "16",
          "x": 14,
          "xref": "x1",
          "y": "Patrick_2013",
          "yref": "y1"
         },
         {
          "font": {
           "color": "#000000"
          },
          "showarrow": false,
          "text": "0",
          "x": 15,
          "xref": "x1",
          "y": "Patrick_2013",
          "yref": "y1"
         },
         {
          "font": {
           "color": "#000000"
          },
          "showarrow": false,
          "text": "10",
          "x": 0,
          "xref": "x1",
          "y": "Sylvain_2015",
          "yref": "y1"
         },
         {
          "font": {
           "color": "#000000"
          },
          "showarrow": false,
          "text": "10",
          "x": 1,
          "xref": "x1",
          "y": "Sylvain_2015",
          "yref": "y1"
         },
         {
          "font": {
           "color": "#000000"
          },
          "showarrow": false,
          "text": "10",
          "x": 2,
          "xref": "x1",
          "y": "Sylvain_2015",
          "yref": "y1"
         },
         {
          "font": {
           "color": "#000000"
          },
          "showarrow": false,
          "text": "10",
          "x": 3,
          "xref": "x1",
          "y": "Sylvain_2015",
          "yref": "y1"
         },
         {
          "font": {
           "color": "#000000"
          },
          "showarrow": false,
          "text": "10",
          "x": 4,
          "xref": "x1",
          "y": "Sylvain_2015",
          "yref": "y1"
         },
         {
          "font": {
           "color": "#000000"
          },
          "showarrow": false,
          "text": "10",
          "x": 5,
          "xref": "x1",
          "y": "Sylvain_2015",
          "yref": "y1"
         },
         {
          "font": {
           "color": "#000000"
          },
          "showarrow": false,
          "text": "10",
          "x": 6,
          "xref": "x1",
          "y": "Sylvain_2015",
          "yref": "y1"
         },
         {
          "font": {
           "color": "#000000"
          },
          "showarrow": false,
          "text": "10",
          "x": 7,
          "xref": "x1",
          "y": "Sylvain_2015",
          "yref": "y1"
         },
         {
          "font": {
           "color": "#000000"
          },
          "showarrow": false,
          "text": "10",
          "x": 8,
          "xref": "x1",
          "y": "Sylvain_2015",
          "yref": "y1"
         },
         {
          "font": {
           "color": "#000000"
          },
          "showarrow": false,
          "text": "10",
          "x": 9,
          "xref": "x1",
          "y": "Sylvain_2015",
          "yref": "y1"
         },
         {
          "font": {
           "color": "#000000"
          },
          "showarrow": false,
          "text": "10",
          "x": 10,
          "xref": "x1",
          "y": "Sylvain_2015",
          "yref": "y1"
         },
         {
          "font": {
           "color": "#000000"
          },
          "showarrow": false,
          "text": "10",
          "x": 11,
          "xref": "x1",
          "y": "Sylvain_2015",
          "yref": "y1"
         },
         {
          "font": {
           "color": "#000000"
          },
          "showarrow": false,
          "text": "10",
          "x": 12,
          "xref": "x1",
          "y": "Sylvain_2015",
          "yref": "y1"
         },
         {
          "font": {
           "color": "#000000"
          },
          "showarrow": false,
          "text": "10",
          "x": 13,
          "xref": "x1",
          "y": "Sylvain_2015",
          "yref": "y1"
         },
         {
          "font": {
           "color": "#000000"
          },
          "showarrow": false,
          "text": "10",
          "x": 14,
          "xref": "x1",
          "y": "Sylvain_2015",
          "yref": "y1"
         },
         {
          "font": {
           "color": "#000000"
          },
          "showarrow": false,
          "text": "0",
          "x": 15,
          "xref": "x1",
          "y": "Sylvain_2015",
          "yref": "y1"
         }
        ],
        "font": {
         "size": 14
        },
        "hovermode": "closest",
        "margin": {
         "b": 80,
         "l": 150,
         "pad": 0,
         "r": 80,
         "t": 80
        },
        "title": "Tests by dataset",
        "xaxis": {
         "dtick": 1,
         "gridcolor": "rgb(0, 0, 0)",
         "side": "bottom",
         "ticks": "",
         "title": "Tests"
        },
        "yaxis": {
         "autorange": "reversed",
         "dtick": 1,
         "ticks": "",
         "ticksuffix": "  ",
         "title": null
        }
       }
      },
      "text/html": [
       "<div id=\"bb89f8a9-292b-4f0e-b138-f650918fdf04\" style=\"height: 525px; width: 100%;\" class=\"plotly-graph-div\"></div><script type=\"text/javascript\">require([\"plotly\"], function(Plotly) { window.PLOTLYENV=window.PLOTLYENV || {};window.PLOTLYENV.BASE_URL=\"https://plot.ly\";Plotly.newPlot(\"bb89f8a9-292b-4f0e-b138-f650918fdf04\", [{\"type\": \"heatmap\", \"z\": [[13, 0, 14, 14, 14, 14, 0, 11, 13, 13, 12, 0, 0, 11, 0, 14], [11, 0, 11, 11, 11, 11, 0, 0, 0, 0, 0, 0, 0, 0, 11, 0], [14, 0, 14, 14, 14, 14, 0, 0, 14, 14, 14, 0, 0, 0, 14, 0], [0, 0, 9, 9, 9, 9, 0, 0, 8, 8, 8, 0, 0, 0, 0, 0], [22, 22, 22, 22, 22, 22, 22, 22, 22, 22, 22, 22, 22, 22, 22, 0], [21, 21, 21, 21, 21, 21, 21, 21, 0, 0, 0, 0, 0, 0, 21, 0], [18, 18, 18, 18, 18, 18, 18, 18, 0, 0, 0, 0, 0, 0, 0, 0], [16, 0, 16, 16, 16, 16, 16, 0, 14, 14, 14, 0, 0, 16, 0, 16], [16, 16, 16, 16, 16, 16, 16, 16, 16, 16, 16, 16, 16, 16, 16, 0], [10, 10, 10, 10, 10, 10, 10, 10, 10, 10, 10, 10, 10, 10, 10, 0]], \"x\": null, \"y\": [\"Landry2016\", \"Landry2015_2\", \"Landry2015_1\", \"Violon\", \"Yoann_2015\", \"Landry2013\", \"Landry2012\", \"Tennis\", \"Patrick_2013\", \"Sylvain_2015\"], \"colorscale\": \"YlGnBu\", \"showscale\": true, \"colorbar\": {\"title\": \"Count\", \"titleside\": \"right\"}}], {\"annotations\": [{\"text\": \"13\", \"x\": 0, \"y\": \"Landry2016\", \"xref\": \"x1\", \"yref\": \"y1\", \"font\": {\"color\": \"#000000\"}, \"showarrow\": false}, {\"text\": \"0\", \"x\": 1, \"y\": \"Landry2016\", \"xref\": \"x1\", \"yref\": \"y1\", \"font\": {\"color\": \"#000000\"}, \"showarrow\": false}, {\"text\": \"14\", \"x\": 2, \"y\": \"Landry2016\", \"xref\": \"x1\", \"yref\": \"y1\", \"font\": {\"color\": \"#000000\"}, \"showarrow\": false}, {\"text\": \"14\", \"x\": 3, \"y\": \"Landry2016\", \"xref\": \"x1\", \"yref\": \"y1\", \"font\": {\"color\": \"#000000\"}, \"showarrow\": false}, {\"text\": \"14\", \"x\": 4, \"y\": \"Landry2016\", \"xref\": \"x1\", \"yref\": \"y1\", \"font\": {\"color\": \"#000000\"}, \"showarrow\": false}, {\"text\": \"14\", \"x\": 5, \"y\": \"Landry2016\", \"xref\": \"x1\", \"yref\": \"y1\", \"font\": {\"color\": \"#000000\"}, \"showarrow\": false}, {\"text\": \"0\", \"x\": 6, \"y\": \"Landry2016\", \"xref\": \"x1\", \"yref\": \"y1\", \"font\": {\"color\": \"#000000\"}, \"showarrow\": false}, {\"text\": \"11\", \"x\": 7, \"y\": \"Landry2016\", \"xref\": \"x1\", \"yref\": \"y1\", \"font\": {\"color\": \"#000000\"}, \"showarrow\": false}, {\"text\": \"13\", \"x\": 8, \"y\": \"Landry2016\", \"xref\": \"x1\", \"yref\": \"y1\", \"font\": {\"color\": \"#000000\"}, \"showarrow\": false}, {\"text\": \"13\", \"x\": 9, \"y\": \"Landry2016\", \"xref\": \"x1\", \"yref\": \"y1\", \"font\": {\"color\": \"#000000\"}, \"showarrow\": false}, {\"text\": \"12\", \"x\": 10, \"y\": \"Landry2016\", \"xref\": \"x1\", \"yref\": \"y1\", \"font\": {\"color\": \"#000000\"}, \"showarrow\": false}, {\"text\": \"0\", \"x\": 11, \"y\": \"Landry2016\", \"xref\": \"x1\", \"yref\": \"y1\", \"font\": {\"color\": \"#000000\"}, \"showarrow\": false}, {\"text\": \"0\", \"x\": 12, \"y\": \"Landry2016\", \"xref\": \"x1\", \"yref\": \"y1\", \"font\": {\"color\": \"#000000\"}, \"showarrow\": false}, {\"text\": \"11\", \"x\": 13, \"y\": \"Landry2016\", \"xref\": \"x1\", \"yref\": \"y1\", \"font\": {\"color\": \"#000000\"}, \"showarrow\": false}, {\"text\": \"0\", \"x\": 14, \"y\": \"Landry2016\", \"xref\": \"x1\", \"yref\": \"y1\", \"font\": {\"color\": \"#000000\"}, \"showarrow\": false}, {\"text\": \"14\", \"x\": 15, \"y\": \"Landry2016\", \"xref\": \"x1\", \"yref\": \"y1\", \"font\": {\"color\": \"#000000\"}, \"showarrow\": false}, {\"text\": \"11\", \"x\": 0, \"y\": \"Landry2015_2\", \"xref\": \"x1\", \"yref\": \"y1\", \"font\": {\"color\": \"#000000\"}, \"showarrow\": false}, {\"text\": \"0\", \"x\": 1, \"y\": \"Landry2015_2\", \"xref\": \"x1\", \"yref\": \"y1\", \"font\": {\"color\": \"#000000\"}, \"showarrow\": false}, {\"text\": \"11\", \"x\": 2, \"y\": \"Landry2015_2\", \"xref\": \"x1\", \"yref\": \"y1\", \"font\": {\"color\": \"#000000\"}, \"showarrow\": false}, {\"text\": \"11\", \"x\": 3, \"y\": \"Landry2015_2\", \"xref\": \"x1\", \"yref\": \"y1\", \"font\": {\"color\": \"#000000\"}, \"showarrow\": false}, {\"text\": \"11\", \"x\": 4, \"y\": \"Landry2015_2\", \"xref\": \"x1\", \"yref\": \"y1\", \"font\": {\"color\": \"#000000\"}, \"showarrow\": false}, {\"text\": \"11\", \"x\": 5, \"y\": \"Landry2015_2\", \"xref\": \"x1\", \"yref\": \"y1\", \"font\": {\"color\": \"#000000\"}, \"showarrow\": false}, {\"text\": \"0\", \"x\": 6, \"y\": \"Landry2015_2\", \"xref\": \"x1\", \"yref\": \"y1\", \"font\": {\"color\": \"#000000\"}, \"showarrow\": false}, {\"text\": \"0\", \"x\": 7, \"y\": \"Landry2015_2\", \"xref\": \"x1\", \"yref\": \"y1\", \"font\": {\"color\": \"#000000\"}, \"showarrow\": false}, {\"text\": \"0\", \"x\": 8, \"y\": \"Landry2015_2\", \"xref\": \"x1\", \"yref\": \"y1\", \"font\": {\"color\": \"#000000\"}, \"showarrow\": false}, {\"text\": \"0\", \"x\": 9, \"y\": \"Landry2015_2\", \"xref\": \"x1\", \"yref\": \"y1\", \"font\": {\"color\": \"#000000\"}, \"showarrow\": false}, {\"text\": \"0\", \"x\": 10, \"y\": \"Landry2015_2\", \"xref\": \"x1\", \"yref\": \"y1\", \"font\": {\"color\": \"#000000\"}, \"showarrow\": false}, {\"text\": \"0\", \"x\": 11, \"y\": \"Landry2015_2\", \"xref\": \"x1\", \"yref\": \"y1\", \"font\": {\"color\": \"#000000\"}, \"showarrow\": false}, {\"text\": \"0\", \"x\": 12, \"y\": \"Landry2015_2\", \"xref\": \"x1\", \"yref\": \"y1\", \"font\": {\"color\": \"#000000\"}, \"showarrow\": false}, {\"text\": \"0\", \"x\": 13, \"y\": \"Landry2015_2\", \"xref\": \"x1\", \"yref\": \"y1\", \"font\": {\"color\": \"#000000\"}, \"showarrow\": false}, {\"text\": \"11\", \"x\": 14, \"y\": \"Landry2015_2\", \"xref\": \"x1\", \"yref\": \"y1\", \"font\": {\"color\": \"#000000\"}, \"showarrow\": false}, {\"text\": \"0\", \"x\": 15, \"y\": \"Landry2015_2\", \"xref\": \"x1\", \"yref\": \"y1\", \"font\": {\"color\": \"#000000\"}, \"showarrow\": false}, {\"text\": \"14\", \"x\": 0, \"y\": \"Landry2015_1\", \"xref\": \"x1\", \"yref\": \"y1\", \"font\": {\"color\": \"#000000\"}, \"showarrow\": false}, {\"text\": \"0\", \"x\": 1, \"y\": \"Landry2015_1\", \"xref\": \"x1\", \"yref\": \"y1\", \"font\": {\"color\": \"#000000\"}, \"showarrow\": false}, {\"text\": \"14\", \"x\": 2, \"y\": \"Landry2015_1\", \"xref\": \"x1\", \"yref\": \"y1\", \"font\": {\"color\": \"#000000\"}, \"showarrow\": false}, {\"text\": \"14\", \"x\": 3, \"y\": \"Landry2015_1\", \"xref\": \"x1\", \"yref\": \"y1\", \"font\": {\"color\": \"#000000\"}, \"showarrow\": false}, {\"text\": \"14\", \"x\": 4, \"y\": \"Landry2015_1\", \"xref\": \"x1\", \"yref\": \"y1\", \"font\": {\"color\": \"#000000\"}, \"showarrow\": false}, {\"text\": \"14\", \"x\": 5, \"y\": \"Landry2015_1\", \"xref\": \"x1\", \"yref\": \"y1\", \"font\": {\"color\": \"#000000\"}, \"showarrow\": false}, {\"text\": \"0\", \"x\": 6, \"y\": \"Landry2015_1\", \"xref\": \"x1\", \"yref\": \"y1\", \"font\": {\"color\": \"#000000\"}, \"showarrow\": false}, {\"text\": \"0\", \"x\": 7, \"y\": \"Landry2015_1\", \"xref\": \"x1\", \"yref\": \"y1\", \"font\": {\"color\": \"#000000\"}, \"showarrow\": false}, {\"text\": \"14\", \"x\": 8, \"y\": \"Landry2015_1\", \"xref\": \"x1\", \"yref\": \"y1\", \"font\": {\"color\": \"#000000\"}, \"showarrow\": false}, {\"text\": \"14\", \"x\": 9, \"y\": \"Landry2015_1\", \"xref\": \"x1\", \"yref\": \"y1\", \"font\": {\"color\": \"#000000\"}, \"showarrow\": false}, {\"text\": \"14\", \"x\": 10, \"y\": \"Landry2015_1\", \"xref\": \"x1\", \"yref\": \"y1\", \"font\": {\"color\": \"#000000\"}, \"showarrow\": false}, {\"text\": \"0\", \"x\": 11, \"y\": \"Landry2015_1\", \"xref\": \"x1\", \"yref\": \"y1\", \"font\": {\"color\": \"#000000\"}, \"showarrow\": false}, {\"text\": \"0\", \"x\": 12, \"y\": \"Landry2015_1\", \"xref\": \"x1\", \"yref\": \"y1\", \"font\": {\"color\": \"#000000\"}, \"showarrow\": false}, {\"text\": \"0\", \"x\": 13, \"y\": \"Landry2015_1\", \"xref\": \"x1\", \"yref\": \"y1\", \"font\": {\"color\": \"#000000\"}, \"showarrow\": false}, {\"text\": \"14\", \"x\": 14, \"y\": \"Landry2015_1\", \"xref\": \"x1\", \"yref\": \"y1\", \"font\": {\"color\": \"#000000\"}, \"showarrow\": false}, {\"text\": \"0\", \"x\": 15, \"y\": \"Landry2015_1\", \"xref\": \"x1\", \"yref\": \"y1\", \"font\": {\"color\": \"#000000\"}, \"showarrow\": false}, {\"text\": \"0\", \"x\": 0, \"y\": \"Violon\", \"xref\": \"x1\", \"yref\": \"y1\", \"font\": {\"color\": \"#000000\"}, \"showarrow\": false}, {\"text\": \"0\", \"x\": 1, \"y\": \"Violon\", \"xref\": \"x1\", \"yref\": \"y1\", \"font\": {\"color\": \"#000000\"}, \"showarrow\": false}, {\"text\": \"9\", \"x\": 2, \"y\": \"Violon\", \"xref\": \"x1\", \"yref\": \"y1\", \"font\": {\"color\": \"#000000\"}, \"showarrow\": false}, {\"text\": \"9\", \"x\": 3, \"y\": \"Violon\", \"xref\": \"x1\", \"yref\": \"y1\", \"font\": {\"color\": \"#000000\"}, \"showarrow\": false}, {\"text\": \"9\", \"x\": 4, \"y\": \"Violon\", \"xref\": \"x1\", \"yref\": \"y1\", \"font\": {\"color\": \"#000000\"}, \"showarrow\": false}, {\"text\": \"9\", \"x\": 5, \"y\": \"Violon\", \"xref\": \"x1\", \"yref\": \"y1\", \"font\": {\"color\": \"#000000\"}, \"showarrow\": false}, {\"text\": \"0\", \"x\": 6, \"y\": \"Violon\", \"xref\": \"x1\", \"yref\": \"y1\", \"font\": {\"color\": \"#000000\"}, \"showarrow\": false}, {\"text\": \"0\", \"x\": 7, \"y\": \"Violon\", \"xref\": \"x1\", \"yref\": \"y1\", \"font\": {\"color\": \"#000000\"}, \"showarrow\": false}, {\"text\": \"8\", \"x\": 8, \"y\": \"Violon\", \"xref\": \"x1\", \"yref\": \"y1\", \"font\": {\"color\": \"#000000\"}, \"showarrow\": false}, {\"text\": \"8\", \"x\": 9, \"y\": \"Violon\", \"xref\": \"x1\", \"yref\": \"y1\", \"font\": {\"color\": \"#000000\"}, \"showarrow\": false}, {\"text\": \"8\", \"x\": 10, \"y\": \"Violon\", \"xref\": \"x1\", \"yref\": \"y1\", \"font\": {\"color\": \"#000000\"}, \"showarrow\": false}, {\"text\": \"0\", \"x\": 11, \"y\": \"Violon\", \"xref\": \"x1\", \"yref\": \"y1\", \"font\": {\"color\": \"#000000\"}, \"showarrow\": false}, {\"text\": \"0\", \"x\": 12, \"y\": \"Violon\", \"xref\": \"x1\", \"yref\": \"y1\", \"font\": {\"color\": \"#000000\"}, \"showarrow\": false}, {\"text\": \"0\", \"x\": 13, \"y\": \"Violon\", \"xref\": \"x1\", \"yref\": \"y1\", \"font\": {\"color\": \"#000000\"}, \"showarrow\": false}, {\"text\": \"0\", \"x\": 14, \"y\": \"Violon\", \"xref\": \"x1\", \"yref\": \"y1\", \"font\": {\"color\": \"#000000\"}, \"showarrow\": false}, {\"text\": \"0\", \"x\": 15, \"y\": \"Violon\", \"xref\": \"x1\", \"yref\": \"y1\", \"font\": {\"color\": \"#000000\"}, \"showarrow\": false}, {\"text\": \"22\", \"x\": 0, \"y\": \"Yoann_2015\", \"xref\": \"x1\", \"yref\": \"y1\", \"font\": {\"color\": \"#000000\"}, \"showarrow\": false}, {\"text\": \"22\", \"x\": 1, \"y\": \"Yoann_2015\", \"xref\": \"x1\", \"yref\": \"y1\", \"font\": {\"color\": \"#000000\"}, \"showarrow\": false}, {\"text\": \"22\", \"x\": 2, \"y\": \"Yoann_2015\", \"xref\": \"x1\", \"yref\": \"y1\", \"font\": {\"color\": \"#000000\"}, \"showarrow\": false}, {\"text\": \"22\", \"x\": 3, \"y\": \"Yoann_2015\", \"xref\": \"x1\", \"yref\": \"y1\", \"font\": {\"color\": \"#000000\"}, \"showarrow\": false}, {\"text\": \"22\", \"x\": 4, \"y\": \"Yoann_2015\", \"xref\": \"x1\", \"yref\": \"y1\", \"font\": {\"color\": \"#000000\"}, \"showarrow\": false}, {\"text\": \"22\", \"x\": 5, \"y\": \"Yoann_2015\", \"xref\": \"x1\", \"yref\": \"y1\", \"font\": {\"color\": \"#000000\"}, \"showarrow\": false}, {\"text\": \"22\", \"x\": 6, \"y\": \"Yoann_2015\", \"xref\": \"x1\", \"yref\": \"y1\", \"font\": {\"color\": \"#000000\"}, \"showarrow\": false}, {\"text\": \"22\", \"x\": 7, \"y\": \"Yoann_2015\", \"xref\": \"x1\", \"yref\": \"y1\", \"font\": {\"color\": \"#000000\"}, \"showarrow\": false}, {\"text\": \"22\", \"x\": 8, \"y\": \"Yoann_2015\", \"xref\": \"x1\", \"yref\": \"y1\", \"font\": {\"color\": \"#000000\"}, \"showarrow\": false}, {\"text\": \"22\", \"x\": 9, \"y\": \"Yoann_2015\", \"xref\": \"x1\", \"yref\": \"y1\", \"font\": {\"color\": \"#000000\"}, \"showarrow\": false}, {\"text\": \"22\", \"x\": 10, \"y\": \"Yoann_2015\", \"xref\": \"x1\", \"yref\": \"y1\", \"font\": {\"color\": \"#000000\"}, \"showarrow\": false}, {\"text\": \"22\", \"x\": 11, \"y\": \"Yoann_2015\", \"xref\": \"x1\", \"yref\": \"y1\", \"font\": {\"color\": \"#000000\"}, \"showarrow\": false}, {\"text\": \"22\", \"x\": 12, \"y\": \"Yoann_2015\", \"xref\": \"x1\", \"yref\": \"y1\", \"font\": {\"color\": \"#000000\"}, \"showarrow\": false}, {\"text\": \"22\", \"x\": 13, \"y\": \"Yoann_2015\", \"xref\": \"x1\", \"yref\": \"y1\", \"font\": {\"color\": \"#000000\"}, \"showarrow\": false}, {\"text\": \"22\", \"x\": 14, \"y\": \"Yoann_2015\", \"xref\": \"x1\", \"yref\": \"y1\", \"font\": {\"color\": \"#000000\"}, \"showarrow\": false}, {\"text\": \"0\", \"x\": 15, \"y\": \"Yoann_2015\", \"xref\": \"x1\", \"yref\": \"y1\", \"font\": {\"color\": \"#000000\"}, \"showarrow\": false}, {\"text\": \"21\", \"x\": 0, \"y\": \"Landry2013\", \"xref\": \"x1\", \"yref\": \"y1\", \"font\": {\"color\": \"#000000\"}, \"showarrow\": false}, {\"text\": \"21\", \"x\": 1, \"y\": \"Landry2013\", \"xref\": \"x1\", \"yref\": \"y1\", \"font\": {\"color\": \"#000000\"}, \"showarrow\": false}, {\"text\": \"21\", \"x\": 2, \"y\": \"Landry2013\", \"xref\": \"x1\", \"yref\": \"y1\", \"font\": {\"color\": \"#000000\"}, \"showarrow\": false}, {\"text\": \"21\", \"x\": 3, \"y\": \"Landry2013\", \"xref\": \"x1\", \"yref\": \"y1\", \"font\": {\"color\": \"#000000\"}, \"showarrow\": false}, {\"text\": \"21\", \"x\": 4, \"y\": \"Landry2013\", \"xref\": \"x1\", \"yref\": \"y1\", \"font\": {\"color\": \"#000000\"}, \"showarrow\": false}, {\"text\": \"21\", \"x\": 5, \"y\": \"Landry2013\", \"xref\": \"x1\", \"yref\": \"y1\", \"font\": {\"color\": \"#000000\"}, \"showarrow\": false}, {\"text\": \"21\", \"x\": 6, \"y\": \"Landry2013\", \"xref\": \"x1\", \"yref\": \"y1\", \"font\": {\"color\": \"#000000\"}, \"showarrow\": false}, {\"text\": \"21\", \"x\": 7, \"y\": \"Landry2013\", \"xref\": \"x1\", \"yref\": \"y1\", \"font\": {\"color\": \"#000000\"}, \"showarrow\": false}, {\"text\": \"0\", \"x\": 8, \"y\": \"Landry2013\", \"xref\": \"x1\", \"yref\": \"y1\", \"font\": {\"color\": \"#000000\"}, \"showarrow\": false}, {\"text\": \"0\", \"x\": 9, \"y\": \"Landry2013\", \"xref\": \"x1\", \"yref\": \"y1\", \"font\": {\"color\": \"#000000\"}, \"showarrow\": false}, {\"text\": \"0\", \"x\": 10, \"y\": \"Landry2013\", \"xref\": \"x1\", \"yref\": \"y1\", \"font\": {\"color\": \"#000000\"}, \"showarrow\": false}, {\"text\": \"0\", \"x\": 11, \"y\": \"Landry2013\", \"xref\": \"x1\", \"yref\": \"y1\", \"font\": {\"color\": \"#000000\"}, \"showarrow\": false}, {\"text\": \"0\", \"x\": 12, \"y\": \"Landry2013\", \"xref\": \"x1\", \"yref\": \"y1\", \"font\": {\"color\": \"#000000\"}, \"showarrow\": false}, {\"text\": \"0\", \"x\": 13, \"y\": \"Landry2013\", \"xref\": \"x1\", \"yref\": \"y1\", \"font\": {\"color\": \"#000000\"}, \"showarrow\": false}, {\"text\": \"21\", \"x\": 14, \"y\": \"Landry2013\", \"xref\": \"x1\", \"yref\": \"y1\", \"font\": {\"color\": \"#000000\"}, \"showarrow\": false}, {\"text\": \"0\", \"x\": 15, \"y\": \"Landry2013\", \"xref\": \"x1\", \"yref\": \"y1\", \"font\": {\"color\": \"#000000\"}, \"showarrow\": false}, {\"text\": \"18\", \"x\": 0, \"y\": \"Landry2012\", \"xref\": \"x1\", \"yref\": \"y1\", \"font\": {\"color\": \"#000000\"}, \"showarrow\": false}, {\"text\": \"18\", \"x\": 1, \"y\": \"Landry2012\", \"xref\": \"x1\", \"yref\": \"y1\", \"font\": {\"color\": \"#000000\"}, \"showarrow\": false}, {\"text\": \"18\", \"x\": 2, \"y\": \"Landry2012\", \"xref\": \"x1\", \"yref\": \"y1\", \"font\": {\"color\": \"#000000\"}, \"showarrow\": false}, {\"text\": \"18\", \"x\": 3, \"y\": \"Landry2012\", \"xref\": \"x1\", \"yref\": \"y1\", \"font\": {\"color\": \"#000000\"}, \"showarrow\": false}, {\"text\": \"18\", \"x\": 4, \"y\": \"Landry2012\", \"xref\": \"x1\", \"yref\": \"y1\", \"font\": {\"color\": \"#000000\"}, \"showarrow\": false}, {\"text\": \"18\", \"x\": 5, \"y\": \"Landry2012\", \"xref\": \"x1\", \"yref\": \"y1\", \"font\": {\"color\": \"#000000\"}, \"showarrow\": false}, {\"text\": \"18\", \"x\": 6, \"y\": \"Landry2012\", \"xref\": \"x1\", \"yref\": \"y1\", \"font\": {\"color\": \"#000000\"}, \"showarrow\": false}, {\"text\": \"18\", \"x\": 7, \"y\": \"Landry2012\", \"xref\": \"x1\", \"yref\": \"y1\", \"font\": {\"color\": \"#000000\"}, \"showarrow\": false}, {\"text\": \"0\", \"x\": 8, \"y\": \"Landry2012\", \"xref\": \"x1\", \"yref\": \"y1\", \"font\": {\"color\": \"#000000\"}, \"showarrow\": false}, {\"text\": \"0\", \"x\": 9, \"y\": \"Landry2012\", \"xref\": \"x1\", \"yref\": \"y1\", \"font\": {\"color\": \"#000000\"}, \"showarrow\": false}, {\"text\": \"0\", \"x\": 10, \"y\": \"Landry2012\", \"xref\": \"x1\", \"yref\": \"y1\", \"font\": {\"color\": \"#000000\"}, \"showarrow\": false}, {\"text\": \"0\", \"x\": 11, \"y\": \"Landry2012\", \"xref\": \"x1\", \"yref\": \"y1\", \"font\": {\"color\": \"#000000\"}, \"showarrow\": false}, {\"text\": \"0\", \"x\": 12, \"y\": \"Landry2012\", \"xref\": \"x1\", \"yref\": \"y1\", \"font\": {\"color\": \"#000000\"}, \"showarrow\": false}, {\"text\": \"0\", \"x\": 13, \"y\": \"Landry2012\", \"xref\": \"x1\", \"yref\": \"y1\", \"font\": {\"color\": \"#000000\"}, \"showarrow\": false}, {\"text\": \"0\", \"x\": 14, \"y\": \"Landry2012\", \"xref\": \"x1\", \"yref\": \"y1\", \"font\": {\"color\": \"#000000\"}, \"showarrow\": false}, {\"text\": \"0\", \"x\": 15, \"y\": \"Landry2012\", \"xref\": \"x1\", \"yref\": \"y1\", \"font\": {\"color\": \"#000000\"}, \"showarrow\": false}, {\"text\": \"16\", \"x\": 0, \"y\": \"Tennis\", \"xref\": \"x1\", \"yref\": \"y1\", \"font\": {\"color\": \"#000000\"}, \"showarrow\": false}, {\"text\": \"0\", \"x\": 1, \"y\": \"Tennis\", \"xref\": \"x1\", \"yref\": \"y1\", \"font\": {\"color\": \"#000000\"}, \"showarrow\": false}, {\"text\": \"16\", \"x\": 2, \"y\": \"Tennis\", \"xref\": \"x1\", \"yref\": \"y1\", \"font\": {\"color\": \"#000000\"}, \"showarrow\": false}, {\"text\": \"16\", \"x\": 3, \"y\": \"Tennis\", \"xref\": \"x1\", \"yref\": \"y1\", \"font\": {\"color\": \"#000000\"}, \"showarrow\": false}, {\"text\": \"16\", \"x\": 4, \"y\": \"Tennis\", \"xref\": \"x1\", \"yref\": \"y1\", \"font\": {\"color\": \"#000000\"}, \"showarrow\": false}, {\"text\": \"16\", \"x\": 5, \"y\": \"Tennis\", \"xref\": \"x1\", \"yref\": \"y1\", \"font\": {\"color\": \"#000000\"}, \"showarrow\": false}, {\"text\": \"16\", \"x\": 6, \"y\": \"Tennis\", \"xref\": \"x1\", \"yref\": \"y1\", \"font\": {\"color\": \"#000000\"}, \"showarrow\": false}, {\"text\": \"0\", \"x\": 7, \"y\": \"Tennis\", \"xref\": \"x1\", \"yref\": \"y1\", \"font\": {\"color\": \"#000000\"}, \"showarrow\": false}, {\"text\": \"14\", \"x\": 8, \"y\": \"Tennis\", \"xref\": \"x1\", \"yref\": \"y1\", \"font\": {\"color\": \"#000000\"}, \"showarrow\": false}, {\"text\": \"14\", \"x\": 9, \"y\": \"Tennis\", \"xref\": \"x1\", \"yref\": \"y1\", \"font\": {\"color\": \"#000000\"}, \"showarrow\": false}, {\"text\": \"14\", \"x\": 10, \"y\": \"Tennis\", \"xref\": \"x1\", \"yref\": \"y1\", \"font\": {\"color\": \"#000000\"}, \"showarrow\": false}, {\"text\": \"0\", \"x\": 11, \"y\": \"Tennis\", \"xref\": \"x1\", \"yref\": \"y1\", \"font\": {\"color\": \"#000000\"}, \"showarrow\": false}, {\"text\": \"0\", \"x\": 12, \"y\": \"Tennis\", \"xref\": \"x1\", \"yref\": \"y1\", \"font\": {\"color\": \"#000000\"}, \"showarrow\": false}, {\"text\": \"16\", \"x\": 13, \"y\": \"Tennis\", \"xref\": \"x1\", \"yref\": \"y1\", \"font\": {\"color\": \"#000000\"}, \"showarrow\": false}, {\"text\": \"0\", \"x\": 14, \"y\": \"Tennis\", \"xref\": \"x1\", \"yref\": \"y1\", \"font\": {\"color\": \"#000000\"}, \"showarrow\": false}, {\"text\": \"16\", \"x\": 15, \"y\": \"Tennis\", \"xref\": \"x1\", \"yref\": \"y1\", \"font\": {\"color\": \"#000000\"}, \"showarrow\": false}, {\"text\": \"16\", \"x\": 0, \"y\": \"Patrick_2013\", \"xref\": \"x1\", \"yref\": \"y1\", \"font\": {\"color\": \"#000000\"}, \"showarrow\": false}, {\"text\": \"16\", \"x\": 1, \"y\": \"Patrick_2013\", \"xref\": \"x1\", \"yref\": \"y1\", \"font\": {\"color\": \"#000000\"}, \"showarrow\": false}, {\"text\": \"16\", \"x\": 2, \"y\": \"Patrick_2013\", \"xref\": \"x1\", \"yref\": \"y1\", \"font\": {\"color\": \"#000000\"}, \"showarrow\": false}, {\"text\": \"16\", \"x\": 3, \"y\": \"Patrick_2013\", \"xref\": \"x1\", \"yref\": \"y1\", \"font\": {\"color\": \"#000000\"}, \"showarrow\": false}, {\"text\": \"16\", \"x\": 4, \"y\": \"Patrick_2013\", \"xref\": \"x1\", \"yref\": \"y1\", \"font\": {\"color\": \"#000000\"}, \"showarrow\": false}, {\"text\": \"16\", \"x\": 5, \"y\": \"Patrick_2013\", \"xref\": \"x1\", \"yref\": \"y1\", \"font\": {\"color\": \"#000000\"}, \"showarrow\": false}, {\"text\": \"16\", \"x\": 6, \"y\": \"Patrick_2013\", \"xref\": \"x1\", \"yref\": \"y1\", \"font\": {\"color\": \"#000000\"}, \"showarrow\": false}, {\"text\": \"16\", \"x\": 7, \"y\": \"Patrick_2013\", \"xref\": \"x1\", \"yref\": \"y1\", \"font\": {\"color\": \"#000000\"}, \"showarrow\": false}, {\"text\": \"16\", \"x\": 8, \"y\": \"Patrick_2013\", \"xref\": \"x1\", \"yref\": \"y1\", \"font\": {\"color\": \"#000000\"}, \"showarrow\": false}, {\"text\": \"16\", \"x\": 9, \"y\": \"Patrick_2013\", \"xref\": \"x1\", \"yref\": \"y1\", \"font\": {\"color\": \"#000000\"}, \"showarrow\": false}, {\"text\": \"16\", \"x\": 10, \"y\": \"Patrick_2013\", \"xref\": \"x1\", \"yref\": \"y1\", \"font\": {\"color\": \"#000000\"}, \"showarrow\": false}, {\"text\": \"16\", \"x\": 11, \"y\": \"Patrick_2013\", \"xref\": \"x1\", \"yref\": \"y1\", \"font\": {\"color\": \"#000000\"}, \"showarrow\": false}, {\"text\": \"16\", \"x\": 12, \"y\": \"Patrick_2013\", \"xref\": \"x1\", \"yref\": \"y1\", \"font\": {\"color\": \"#000000\"}, \"showarrow\": false}, {\"text\": \"16\", \"x\": 13, \"y\": \"Patrick_2013\", \"xref\": \"x1\", \"yref\": \"y1\", \"font\": {\"color\": \"#000000\"}, \"showarrow\": false}, {\"text\": \"16\", \"x\": 14, \"y\": \"Patrick_2013\", \"xref\": \"x1\", \"yref\": \"y1\", \"font\": {\"color\": \"#000000\"}, \"showarrow\": false}, {\"text\": \"0\", \"x\": 15, \"y\": \"Patrick_2013\", \"xref\": \"x1\", \"yref\": \"y1\", \"font\": {\"color\": \"#000000\"}, \"showarrow\": false}, {\"text\": \"10\", \"x\": 0, \"y\": \"Sylvain_2015\", \"xref\": \"x1\", \"yref\": \"y1\", \"font\": {\"color\": \"#000000\"}, \"showarrow\": false}, {\"text\": \"10\", \"x\": 1, \"y\": \"Sylvain_2015\", \"xref\": \"x1\", \"yref\": \"y1\", \"font\": {\"color\": \"#000000\"}, \"showarrow\": false}, {\"text\": \"10\", \"x\": 2, \"y\": \"Sylvain_2015\", \"xref\": \"x1\", \"yref\": \"y1\", \"font\": {\"color\": \"#000000\"}, \"showarrow\": false}, {\"text\": \"10\", \"x\": 3, \"y\": \"Sylvain_2015\", \"xref\": \"x1\", \"yref\": \"y1\", \"font\": {\"color\": \"#000000\"}, \"showarrow\": false}, {\"text\": \"10\", \"x\": 4, \"y\": \"Sylvain_2015\", \"xref\": \"x1\", \"yref\": \"y1\", \"font\": {\"color\": \"#000000\"}, \"showarrow\": false}, {\"text\": \"10\", \"x\": 5, \"y\": \"Sylvain_2015\", \"xref\": \"x1\", \"yref\": \"y1\", \"font\": {\"color\": \"#000000\"}, \"showarrow\": false}, {\"text\": \"10\", \"x\": 6, \"y\": \"Sylvain_2015\", \"xref\": \"x1\", \"yref\": \"y1\", \"font\": {\"color\": \"#000000\"}, \"showarrow\": false}, {\"text\": \"10\", \"x\": 7, \"y\": \"Sylvain_2015\", \"xref\": \"x1\", \"yref\": \"y1\", \"font\": {\"color\": \"#000000\"}, \"showarrow\": false}, {\"text\": \"10\", \"x\": 8, \"y\": \"Sylvain_2015\", \"xref\": \"x1\", \"yref\": \"y1\", \"font\": {\"color\": \"#000000\"}, \"showarrow\": false}, {\"text\": \"10\", \"x\": 9, \"y\": \"Sylvain_2015\", \"xref\": \"x1\", \"yref\": \"y1\", \"font\": {\"color\": \"#000000\"}, \"showarrow\": false}, {\"text\": \"10\", \"x\": 10, \"y\": \"Sylvain_2015\", \"xref\": \"x1\", \"yref\": \"y1\", \"font\": {\"color\": \"#000000\"}, \"showarrow\": false}, {\"text\": \"10\", \"x\": 11, \"y\": \"Sylvain_2015\", \"xref\": \"x1\", \"yref\": \"y1\", \"font\": {\"color\": \"#000000\"}, \"showarrow\": false}, {\"text\": \"10\", \"x\": 12, \"y\": \"Sylvain_2015\", \"xref\": \"x1\", \"yref\": \"y1\", \"font\": {\"color\": \"#000000\"}, \"showarrow\": false}, {\"text\": \"10\", \"x\": 13, \"y\": \"Sylvain_2015\", \"xref\": \"x1\", \"yref\": \"y1\", \"font\": {\"color\": \"#000000\"}, \"showarrow\": false}, {\"text\": \"10\", \"x\": 14, \"y\": \"Sylvain_2015\", \"xref\": \"x1\", \"yref\": \"y1\", \"font\": {\"color\": \"#000000\"}, \"showarrow\": false}, {\"text\": \"0\", \"x\": 15, \"y\": \"Sylvain_2015\", \"xref\": \"x1\", \"yref\": \"y1\", \"font\": {\"color\": \"#000000\"}, \"showarrow\": false}], \"xaxis\": {\"ticks\": \"\", \"dtick\": 1, \"side\": \"bottom\", \"gridcolor\": \"rgb(0, 0, 0)\", \"title\": \"Tests\"}, \"yaxis\": {\"ticks\": \"\", \"dtick\": 1, \"ticksuffix\": \"  \", \"title\": null, \"autorange\": \"reversed\"}, \"hovermode\": \"closest\", \"font\": {\"size\": 14}, \"title\": \"Tests by dataset\", \"margin\": {\"t\": 80, \"b\": 80, \"l\": 150, \"r\": 80, \"pad\": 0}}, {\"showLink\": true, \"linkText\": \"Export to plot.ly\"})});</script>"
      ],
      "text/vnd.plotly.v1+html": [
       "<div id=\"bb89f8a9-292b-4f0e-b138-f650918fdf04\" style=\"height: 525px; width: 100%;\" class=\"plotly-graph-div\"></div><script type=\"text/javascript\">require([\"plotly\"], function(Plotly) { window.PLOTLYENV=window.PLOTLYENV || {};window.PLOTLYENV.BASE_URL=\"https://plot.ly\";Plotly.newPlot(\"bb89f8a9-292b-4f0e-b138-f650918fdf04\", [{\"type\": \"heatmap\", \"z\": [[13, 0, 14, 14, 14, 14, 0, 11, 13, 13, 12, 0, 0, 11, 0, 14], [11, 0, 11, 11, 11, 11, 0, 0, 0, 0, 0, 0, 0, 0, 11, 0], [14, 0, 14, 14, 14, 14, 0, 0, 14, 14, 14, 0, 0, 0, 14, 0], [0, 0, 9, 9, 9, 9, 0, 0, 8, 8, 8, 0, 0, 0, 0, 0], [22, 22, 22, 22, 22, 22, 22, 22, 22, 22, 22, 22, 22, 22, 22, 0], [21, 21, 21, 21, 21, 21, 21, 21, 0, 0, 0, 0, 0, 0, 21, 0], [18, 18, 18, 18, 18, 18, 18, 18, 0, 0, 0, 0, 0, 0, 0, 0], [16, 0, 16, 16, 16, 16, 16, 0, 14, 14, 14, 0, 0, 16, 0, 16], [16, 16, 16, 16, 16, 16, 16, 16, 16, 16, 16, 16, 16, 16, 16, 0], [10, 10, 10, 10, 10, 10, 10, 10, 10, 10, 10, 10, 10, 10, 10, 0]], \"x\": null, \"y\": [\"Landry2016\", \"Landry2015_2\", \"Landry2015_1\", \"Violon\", \"Yoann_2015\", \"Landry2013\", \"Landry2012\", \"Tennis\", \"Patrick_2013\", \"Sylvain_2015\"], \"colorscale\": \"YlGnBu\", \"showscale\": true, \"colorbar\": {\"title\": \"Count\", \"titleside\": \"right\"}}], {\"annotations\": [{\"text\": \"13\", \"x\": 0, \"y\": \"Landry2016\", \"xref\": \"x1\", \"yref\": \"y1\", \"font\": {\"color\": \"#000000\"}, \"showarrow\": false}, {\"text\": \"0\", \"x\": 1, \"y\": \"Landry2016\", \"xref\": \"x1\", \"yref\": \"y1\", \"font\": {\"color\": \"#000000\"}, \"showarrow\": false}, {\"text\": \"14\", \"x\": 2, \"y\": \"Landry2016\", \"xref\": \"x1\", \"yref\": \"y1\", \"font\": {\"color\": \"#000000\"}, \"showarrow\": false}, {\"text\": \"14\", \"x\": 3, \"y\": \"Landry2016\", \"xref\": \"x1\", \"yref\": \"y1\", \"font\": {\"color\": \"#000000\"}, \"showarrow\": false}, {\"text\": \"14\", \"x\": 4, \"y\": \"Landry2016\", \"xref\": \"x1\", \"yref\": \"y1\", \"font\": {\"color\": \"#000000\"}, \"showarrow\": false}, {\"text\": \"14\", \"x\": 5, \"y\": \"Landry2016\", \"xref\": \"x1\", \"yref\": \"y1\", \"font\": {\"color\": \"#000000\"}, \"showarrow\": false}, {\"text\": \"0\", \"x\": 6, \"y\": \"Landry2016\", \"xref\": \"x1\", \"yref\": \"y1\", \"font\": {\"color\": \"#000000\"}, \"showarrow\": false}, {\"text\": \"11\", \"x\": 7, \"y\": \"Landry2016\", \"xref\": \"x1\", \"yref\": \"y1\", \"font\": {\"color\": \"#000000\"}, \"showarrow\": false}, {\"text\": \"13\", \"x\": 8, \"y\": \"Landry2016\", \"xref\": \"x1\", \"yref\": \"y1\", \"font\": {\"color\": \"#000000\"}, \"showarrow\": false}, {\"text\": \"13\", \"x\": 9, \"y\": \"Landry2016\", \"xref\": \"x1\", \"yref\": \"y1\", \"font\": {\"color\": \"#000000\"}, \"showarrow\": false}, {\"text\": \"12\", \"x\": 10, \"y\": \"Landry2016\", \"xref\": \"x1\", \"yref\": \"y1\", \"font\": {\"color\": \"#000000\"}, \"showarrow\": false}, {\"text\": \"0\", \"x\": 11, \"y\": \"Landry2016\", \"xref\": \"x1\", \"yref\": \"y1\", \"font\": {\"color\": \"#000000\"}, \"showarrow\": false}, {\"text\": \"0\", \"x\": 12, \"y\": \"Landry2016\", \"xref\": \"x1\", \"yref\": \"y1\", \"font\": {\"color\": \"#000000\"}, \"showarrow\": false}, {\"text\": \"11\", \"x\": 13, \"y\": \"Landry2016\", \"xref\": \"x1\", \"yref\": \"y1\", \"font\": {\"color\": \"#000000\"}, \"showarrow\": false}, {\"text\": \"0\", \"x\": 14, \"y\": \"Landry2016\", \"xref\": \"x1\", \"yref\": \"y1\", \"font\": {\"color\": \"#000000\"}, \"showarrow\": false}, {\"text\": \"14\", \"x\": 15, \"y\": \"Landry2016\", \"xref\": \"x1\", \"yref\": \"y1\", \"font\": {\"color\": \"#000000\"}, \"showarrow\": false}, {\"text\": \"11\", \"x\": 0, \"y\": \"Landry2015_2\", \"xref\": \"x1\", \"yref\": \"y1\", \"font\": {\"color\": \"#000000\"}, \"showarrow\": false}, {\"text\": \"0\", \"x\": 1, \"y\": \"Landry2015_2\", \"xref\": \"x1\", \"yref\": \"y1\", \"font\": {\"color\": \"#000000\"}, \"showarrow\": false}, {\"text\": \"11\", \"x\": 2, \"y\": \"Landry2015_2\", \"xref\": \"x1\", \"yref\": \"y1\", \"font\": {\"color\": \"#000000\"}, \"showarrow\": false}, {\"text\": \"11\", \"x\": 3, \"y\": \"Landry2015_2\", \"xref\": \"x1\", \"yref\": \"y1\", \"font\": {\"color\": \"#000000\"}, \"showarrow\": false}, {\"text\": \"11\", \"x\": 4, \"y\": \"Landry2015_2\", \"xref\": \"x1\", \"yref\": \"y1\", \"font\": {\"color\": \"#000000\"}, \"showarrow\": false}, {\"text\": \"11\", \"x\": 5, \"y\": \"Landry2015_2\", \"xref\": \"x1\", \"yref\": \"y1\", \"font\": {\"color\": \"#000000\"}, \"showarrow\": false}, {\"text\": \"0\", \"x\": 6, \"y\": \"Landry2015_2\", \"xref\": \"x1\", \"yref\": \"y1\", \"font\": {\"color\": \"#000000\"}, \"showarrow\": false}, {\"text\": \"0\", \"x\": 7, \"y\": \"Landry2015_2\", \"xref\": \"x1\", \"yref\": \"y1\", \"font\": {\"color\": \"#000000\"}, \"showarrow\": false}, {\"text\": \"0\", \"x\": 8, \"y\": \"Landry2015_2\", \"xref\": \"x1\", \"yref\": \"y1\", \"font\": {\"color\": \"#000000\"}, \"showarrow\": false}, {\"text\": \"0\", \"x\": 9, \"y\": \"Landry2015_2\", \"xref\": \"x1\", \"yref\": \"y1\", \"font\": {\"color\": \"#000000\"}, \"showarrow\": false}, {\"text\": \"0\", \"x\": 10, \"y\": \"Landry2015_2\", \"xref\": \"x1\", \"yref\": \"y1\", \"font\": {\"color\": \"#000000\"}, \"showarrow\": false}, {\"text\": \"0\", \"x\": 11, \"y\": \"Landry2015_2\", \"xref\": \"x1\", \"yref\": \"y1\", \"font\": {\"color\": \"#000000\"}, \"showarrow\": false}, {\"text\": \"0\", \"x\": 12, \"y\": \"Landry2015_2\", \"xref\": \"x1\", \"yref\": \"y1\", \"font\": {\"color\": \"#000000\"}, \"showarrow\": false}, {\"text\": \"0\", \"x\": 13, \"y\": \"Landry2015_2\", \"xref\": \"x1\", \"yref\": \"y1\", \"font\": {\"color\": \"#000000\"}, \"showarrow\": false}, {\"text\": \"11\", \"x\": 14, \"y\": \"Landry2015_2\", \"xref\": \"x1\", \"yref\": \"y1\", \"font\": {\"color\": \"#000000\"}, \"showarrow\": false}, {\"text\": \"0\", \"x\": 15, \"y\": \"Landry2015_2\", \"xref\": \"x1\", \"yref\": \"y1\", \"font\": {\"color\": \"#000000\"}, \"showarrow\": false}, {\"text\": \"14\", \"x\": 0, \"y\": \"Landry2015_1\", \"xref\": \"x1\", \"yref\": \"y1\", \"font\": {\"color\": \"#000000\"}, \"showarrow\": false}, {\"text\": \"0\", \"x\": 1, \"y\": \"Landry2015_1\", \"xref\": \"x1\", \"yref\": \"y1\", \"font\": {\"color\": \"#000000\"}, \"showarrow\": false}, {\"text\": \"14\", \"x\": 2, \"y\": \"Landry2015_1\", \"xref\": \"x1\", \"yref\": \"y1\", \"font\": {\"color\": \"#000000\"}, \"showarrow\": false}, {\"text\": \"14\", \"x\": 3, \"y\": \"Landry2015_1\", \"xref\": \"x1\", \"yref\": \"y1\", \"font\": {\"color\": \"#000000\"}, \"showarrow\": false}, {\"text\": \"14\", \"x\": 4, \"y\": \"Landry2015_1\", \"xref\": \"x1\", \"yref\": \"y1\", \"font\": {\"color\": \"#000000\"}, \"showarrow\": false}, {\"text\": \"14\", \"x\": 5, \"y\": \"Landry2015_1\", \"xref\": \"x1\", \"yref\": \"y1\", \"font\": {\"color\": \"#000000\"}, \"showarrow\": false}, {\"text\": \"0\", \"x\": 6, \"y\": \"Landry2015_1\", \"xref\": \"x1\", \"yref\": \"y1\", \"font\": {\"color\": \"#000000\"}, \"showarrow\": false}, {\"text\": \"0\", \"x\": 7, \"y\": \"Landry2015_1\", \"xref\": \"x1\", \"yref\": \"y1\", \"font\": {\"color\": \"#000000\"}, \"showarrow\": false}, {\"text\": \"14\", \"x\": 8, \"y\": \"Landry2015_1\", \"xref\": \"x1\", \"yref\": \"y1\", \"font\": {\"color\": \"#000000\"}, \"showarrow\": false}, {\"text\": \"14\", \"x\": 9, \"y\": \"Landry2015_1\", \"xref\": \"x1\", \"yref\": \"y1\", \"font\": {\"color\": \"#000000\"}, \"showarrow\": false}, {\"text\": \"14\", \"x\": 10, \"y\": \"Landry2015_1\", \"xref\": \"x1\", \"yref\": \"y1\", \"font\": {\"color\": \"#000000\"}, \"showarrow\": false}, {\"text\": \"0\", \"x\": 11, \"y\": \"Landry2015_1\", \"xref\": \"x1\", \"yref\": \"y1\", \"font\": {\"color\": \"#000000\"}, \"showarrow\": false}, {\"text\": \"0\", \"x\": 12, \"y\": \"Landry2015_1\", \"xref\": \"x1\", \"yref\": \"y1\", \"font\": {\"color\": \"#000000\"}, \"showarrow\": false}, {\"text\": \"0\", \"x\": 13, \"y\": \"Landry2015_1\", \"xref\": \"x1\", \"yref\": \"y1\", \"font\": {\"color\": \"#000000\"}, \"showarrow\": false}, {\"text\": \"14\", \"x\": 14, \"y\": \"Landry2015_1\", \"xref\": \"x1\", \"yref\": \"y1\", \"font\": {\"color\": \"#000000\"}, \"showarrow\": false}, {\"text\": \"0\", \"x\": 15, \"y\": \"Landry2015_1\", \"xref\": \"x1\", \"yref\": \"y1\", \"font\": {\"color\": \"#000000\"}, \"showarrow\": false}, {\"text\": \"0\", \"x\": 0, \"y\": \"Violon\", \"xref\": \"x1\", \"yref\": \"y1\", \"font\": {\"color\": \"#000000\"}, \"showarrow\": false}, {\"text\": \"0\", \"x\": 1, \"y\": \"Violon\", \"xref\": \"x1\", \"yref\": \"y1\", \"font\": {\"color\": \"#000000\"}, \"showarrow\": false}, {\"text\": \"9\", \"x\": 2, \"y\": \"Violon\", \"xref\": \"x1\", \"yref\": \"y1\", \"font\": {\"color\": \"#000000\"}, \"showarrow\": false}, {\"text\": \"9\", \"x\": 3, \"y\": \"Violon\", \"xref\": \"x1\", \"yref\": \"y1\", \"font\": {\"color\": \"#000000\"}, \"showarrow\": false}, {\"text\": \"9\", \"x\": 4, \"y\": \"Violon\", \"xref\": \"x1\", \"yref\": \"y1\", \"font\": {\"color\": \"#000000\"}, \"showarrow\": false}, {\"text\": \"9\", \"x\": 5, \"y\": \"Violon\", \"xref\": \"x1\", \"yref\": \"y1\", \"font\": {\"color\": \"#000000\"}, \"showarrow\": false}, {\"text\": \"0\", \"x\": 6, \"y\": \"Violon\", \"xref\": \"x1\", \"yref\": \"y1\", \"font\": {\"color\": \"#000000\"}, \"showarrow\": false}, {\"text\": \"0\", \"x\": 7, \"y\": \"Violon\", \"xref\": \"x1\", \"yref\": \"y1\", \"font\": {\"color\": \"#000000\"}, \"showarrow\": false}, {\"text\": \"8\", \"x\": 8, \"y\": \"Violon\", \"xref\": \"x1\", \"yref\": \"y1\", \"font\": {\"color\": \"#000000\"}, \"showarrow\": false}, {\"text\": \"8\", \"x\": 9, \"y\": \"Violon\", \"xref\": \"x1\", \"yref\": \"y1\", \"font\": {\"color\": \"#000000\"}, \"showarrow\": false}, {\"text\": \"8\", \"x\": 10, \"y\": \"Violon\", \"xref\": \"x1\", \"yref\": \"y1\", \"font\": {\"color\": \"#000000\"}, \"showarrow\": false}, {\"text\": \"0\", \"x\": 11, \"y\": \"Violon\", \"xref\": \"x1\", \"yref\": \"y1\", \"font\": {\"color\": \"#000000\"}, \"showarrow\": false}, {\"text\": \"0\", \"x\": 12, \"y\": \"Violon\", \"xref\": \"x1\", \"yref\": \"y1\", \"font\": {\"color\": \"#000000\"}, \"showarrow\": false}, {\"text\": \"0\", \"x\": 13, \"y\": \"Violon\", \"xref\": \"x1\", \"yref\": \"y1\", \"font\": {\"color\": \"#000000\"}, \"showarrow\": false}, {\"text\": \"0\", \"x\": 14, \"y\": \"Violon\", \"xref\": \"x1\", \"yref\": \"y1\", \"font\": {\"color\": \"#000000\"}, \"showarrow\": false}, {\"text\": \"0\", \"x\": 15, \"y\": \"Violon\", \"xref\": \"x1\", \"yref\": \"y1\", \"font\": {\"color\": \"#000000\"}, \"showarrow\": false}, {\"text\": \"22\", \"x\": 0, \"y\": \"Yoann_2015\", \"xref\": \"x1\", \"yref\": \"y1\", \"font\": {\"color\": \"#000000\"}, \"showarrow\": false}, {\"text\": \"22\", \"x\": 1, \"y\": \"Yoann_2015\", \"xref\": \"x1\", \"yref\": \"y1\", \"font\": {\"color\": \"#000000\"}, \"showarrow\": false}, {\"text\": \"22\", \"x\": 2, \"y\": \"Yoann_2015\", \"xref\": \"x1\", \"yref\": \"y1\", \"font\": {\"color\": \"#000000\"}, \"showarrow\": false}, {\"text\": \"22\", \"x\": 3, \"y\": \"Yoann_2015\", \"xref\": \"x1\", \"yref\": \"y1\", \"font\": {\"color\": \"#000000\"}, \"showarrow\": false}, {\"text\": \"22\", \"x\": 4, \"y\": \"Yoann_2015\", \"xref\": \"x1\", \"yref\": \"y1\", \"font\": {\"color\": \"#000000\"}, \"showarrow\": false}, {\"text\": \"22\", \"x\": 5, \"y\": \"Yoann_2015\", \"xref\": \"x1\", \"yref\": \"y1\", \"font\": {\"color\": \"#000000\"}, \"showarrow\": false}, {\"text\": \"22\", \"x\": 6, \"y\": \"Yoann_2015\", \"xref\": \"x1\", \"yref\": \"y1\", \"font\": {\"color\": \"#000000\"}, \"showarrow\": false}, {\"text\": \"22\", \"x\": 7, \"y\": \"Yoann_2015\", \"xref\": \"x1\", \"yref\": \"y1\", \"font\": {\"color\": \"#000000\"}, \"showarrow\": false}, {\"text\": \"22\", \"x\": 8, \"y\": \"Yoann_2015\", \"xref\": \"x1\", \"yref\": \"y1\", \"font\": {\"color\": \"#000000\"}, \"showarrow\": false}, {\"text\": \"22\", \"x\": 9, \"y\": \"Yoann_2015\", \"xref\": \"x1\", \"yref\": \"y1\", \"font\": {\"color\": \"#000000\"}, \"showarrow\": false}, {\"text\": \"22\", \"x\": 10, \"y\": \"Yoann_2015\", \"xref\": \"x1\", \"yref\": \"y1\", \"font\": {\"color\": \"#000000\"}, \"showarrow\": false}, {\"text\": \"22\", \"x\": 11, \"y\": \"Yoann_2015\", \"xref\": \"x1\", \"yref\": \"y1\", \"font\": {\"color\": \"#000000\"}, \"showarrow\": false}, {\"text\": \"22\", \"x\": 12, \"y\": \"Yoann_2015\", \"xref\": \"x1\", \"yref\": \"y1\", \"font\": {\"color\": \"#000000\"}, \"showarrow\": false}, {\"text\": \"22\", \"x\": 13, \"y\": \"Yoann_2015\", \"xref\": \"x1\", \"yref\": \"y1\", \"font\": {\"color\": \"#000000\"}, \"showarrow\": false}, {\"text\": \"22\", \"x\": 14, \"y\": \"Yoann_2015\", \"xref\": \"x1\", \"yref\": \"y1\", \"font\": {\"color\": \"#000000\"}, \"showarrow\": false}, {\"text\": \"0\", \"x\": 15, \"y\": \"Yoann_2015\", \"xref\": \"x1\", \"yref\": \"y1\", \"font\": {\"color\": \"#000000\"}, \"showarrow\": false}, {\"text\": \"21\", \"x\": 0, \"y\": \"Landry2013\", \"xref\": \"x1\", \"yref\": \"y1\", \"font\": {\"color\": \"#000000\"}, \"showarrow\": false}, {\"text\": \"21\", \"x\": 1, \"y\": \"Landry2013\", \"xref\": \"x1\", \"yref\": \"y1\", \"font\": {\"color\": \"#000000\"}, \"showarrow\": false}, {\"text\": \"21\", \"x\": 2, \"y\": \"Landry2013\", \"xref\": \"x1\", \"yref\": \"y1\", \"font\": {\"color\": \"#000000\"}, \"showarrow\": false}, {\"text\": \"21\", \"x\": 3, \"y\": \"Landry2013\", \"xref\": \"x1\", \"yref\": \"y1\", \"font\": {\"color\": \"#000000\"}, \"showarrow\": false}, {\"text\": \"21\", \"x\": 4, \"y\": \"Landry2013\", \"xref\": \"x1\", \"yref\": \"y1\", \"font\": {\"color\": \"#000000\"}, \"showarrow\": false}, {\"text\": \"21\", \"x\": 5, \"y\": \"Landry2013\", \"xref\": \"x1\", \"yref\": \"y1\", \"font\": {\"color\": \"#000000\"}, \"showarrow\": false}, {\"text\": \"21\", \"x\": 6, \"y\": \"Landry2013\", \"xref\": \"x1\", \"yref\": \"y1\", \"font\": {\"color\": \"#000000\"}, \"showarrow\": false}, {\"text\": \"21\", \"x\": 7, \"y\": \"Landry2013\", \"xref\": \"x1\", \"yref\": \"y1\", \"font\": {\"color\": \"#000000\"}, \"showarrow\": false}, {\"text\": \"0\", \"x\": 8, \"y\": \"Landry2013\", \"xref\": \"x1\", \"yref\": \"y1\", \"font\": {\"color\": \"#000000\"}, \"showarrow\": false}, {\"text\": \"0\", \"x\": 9, \"y\": \"Landry2013\", \"xref\": \"x1\", \"yref\": \"y1\", \"font\": {\"color\": \"#000000\"}, \"showarrow\": false}, {\"text\": \"0\", \"x\": 10, \"y\": \"Landry2013\", \"xref\": \"x1\", \"yref\": \"y1\", \"font\": {\"color\": \"#000000\"}, \"showarrow\": false}, {\"text\": \"0\", \"x\": 11, \"y\": \"Landry2013\", \"xref\": \"x1\", \"yref\": \"y1\", \"font\": {\"color\": \"#000000\"}, \"showarrow\": false}, {\"text\": \"0\", \"x\": 12, \"y\": \"Landry2013\", \"xref\": \"x1\", \"yref\": \"y1\", \"font\": {\"color\": \"#000000\"}, \"showarrow\": false}, {\"text\": \"0\", \"x\": 13, \"y\": \"Landry2013\", \"xref\": \"x1\", \"yref\": \"y1\", \"font\": {\"color\": \"#000000\"}, \"showarrow\": false}, {\"text\": \"21\", \"x\": 14, \"y\": \"Landry2013\", \"xref\": \"x1\", \"yref\": \"y1\", \"font\": {\"color\": \"#000000\"}, \"showarrow\": false}, {\"text\": \"0\", \"x\": 15, \"y\": \"Landry2013\", \"xref\": \"x1\", \"yref\": \"y1\", \"font\": {\"color\": \"#000000\"}, \"showarrow\": false}, {\"text\": \"18\", \"x\": 0, \"y\": \"Landry2012\", \"xref\": \"x1\", \"yref\": \"y1\", \"font\": {\"color\": \"#000000\"}, \"showarrow\": false}, {\"text\": \"18\", \"x\": 1, \"y\": \"Landry2012\", \"xref\": \"x1\", \"yref\": \"y1\", \"font\": {\"color\": \"#000000\"}, \"showarrow\": false}, {\"text\": \"18\", \"x\": 2, \"y\": \"Landry2012\", \"xref\": \"x1\", \"yref\": \"y1\", \"font\": {\"color\": \"#000000\"}, \"showarrow\": false}, {\"text\": \"18\", \"x\": 3, \"y\": \"Landry2012\", \"xref\": \"x1\", \"yref\": \"y1\", \"font\": {\"color\": \"#000000\"}, \"showarrow\": false}, {\"text\": \"18\", \"x\": 4, \"y\": \"Landry2012\", \"xref\": \"x1\", \"yref\": \"y1\", \"font\": {\"color\": \"#000000\"}, \"showarrow\": false}, {\"text\": \"18\", \"x\": 5, \"y\": \"Landry2012\", \"xref\": \"x1\", \"yref\": \"y1\", \"font\": {\"color\": \"#000000\"}, \"showarrow\": false}, {\"text\": \"18\", \"x\": 6, \"y\": \"Landry2012\", \"xref\": \"x1\", \"yref\": \"y1\", \"font\": {\"color\": \"#000000\"}, \"showarrow\": false}, {\"text\": \"18\", \"x\": 7, \"y\": \"Landry2012\", \"xref\": \"x1\", \"yref\": \"y1\", \"font\": {\"color\": \"#000000\"}, \"showarrow\": false}, {\"text\": \"0\", \"x\": 8, \"y\": \"Landry2012\", \"xref\": \"x1\", \"yref\": \"y1\", \"font\": {\"color\": \"#000000\"}, \"showarrow\": false}, {\"text\": \"0\", \"x\": 9, \"y\": \"Landry2012\", \"xref\": \"x1\", \"yref\": \"y1\", \"font\": {\"color\": \"#000000\"}, \"showarrow\": false}, {\"text\": \"0\", \"x\": 10, \"y\": \"Landry2012\", \"xref\": \"x1\", \"yref\": \"y1\", \"font\": {\"color\": \"#000000\"}, \"showarrow\": false}, {\"text\": \"0\", \"x\": 11, \"y\": \"Landry2012\", \"xref\": \"x1\", \"yref\": \"y1\", \"font\": {\"color\": \"#000000\"}, \"showarrow\": false}, {\"text\": \"0\", \"x\": 12, \"y\": \"Landry2012\", \"xref\": \"x1\", \"yref\": \"y1\", \"font\": {\"color\": \"#000000\"}, \"showarrow\": false}, {\"text\": \"0\", \"x\": 13, \"y\": \"Landry2012\", \"xref\": \"x1\", \"yref\": \"y1\", \"font\": {\"color\": \"#000000\"}, \"showarrow\": false}, {\"text\": \"0\", \"x\": 14, \"y\": \"Landry2012\", \"xref\": \"x1\", \"yref\": \"y1\", \"font\": {\"color\": \"#000000\"}, \"showarrow\": false}, {\"text\": \"0\", \"x\": 15, \"y\": \"Landry2012\", \"xref\": \"x1\", \"yref\": \"y1\", \"font\": {\"color\": \"#000000\"}, \"showarrow\": false}, {\"text\": \"16\", \"x\": 0, \"y\": \"Tennis\", \"xref\": \"x1\", \"yref\": \"y1\", \"font\": {\"color\": \"#000000\"}, \"showarrow\": false}, {\"text\": \"0\", \"x\": 1, \"y\": \"Tennis\", \"xref\": \"x1\", \"yref\": \"y1\", \"font\": {\"color\": \"#000000\"}, \"showarrow\": false}, {\"text\": \"16\", \"x\": 2, \"y\": \"Tennis\", \"xref\": \"x1\", \"yref\": \"y1\", \"font\": {\"color\": \"#000000\"}, \"showarrow\": false}, {\"text\": \"16\", \"x\": 3, \"y\": \"Tennis\", \"xref\": \"x1\", \"yref\": \"y1\", \"font\": {\"color\": \"#000000\"}, \"showarrow\": false}, {\"text\": \"16\", \"x\": 4, \"y\": \"Tennis\", \"xref\": \"x1\", \"yref\": \"y1\", \"font\": {\"color\": \"#000000\"}, \"showarrow\": false}, {\"text\": \"16\", \"x\": 5, \"y\": \"Tennis\", \"xref\": \"x1\", \"yref\": \"y1\", \"font\": {\"color\": \"#000000\"}, \"showarrow\": false}, {\"text\": \"16\", \"x\": 6, \"y\": \"Tennis\", \"xref\": \"x1\", \"yref\": \"y1\", \"font\": {\"color\": \"#000000\"}, \"showarrow\": false}, {\"text\": \"0\", \"x\": 7, \"y\": \"Tennis\", \"xref\": \"x1\", \"yref\": \"y1\", \"font\": {\"color\": \"#000000\"}, \"showarrow\": false}, {\"text\": \"14\", \"x\": 8, \"y\": \"Tennis\", \"xref\": \"x1\", \"yref\": \"y1\", \"font\": {\"color\": \"#000000\"}, \"showarrow\": false}, {\"text\": \"14\", \"x\": 9, \"y\": \"Tennis\", \"xref\": \"x1\", \"yref\": \"y1\", \"font\": {\"color\": \"#000000\"}, \"showarrow\": false}, {\"text\": \"14\", \"x\": 10, \"y\": \"Tennis\", \"xref\": \"x1\", \"yref\": \"y1\", \"font\": {\"color\": \"#000000\"}, \"showarrow\": false}, {\"text\": \"0\", \"x\": 11, \"y\": \"Tennis\", \"xref\": \"x1\", \"yref\": \"y1\", \"font\": {\"color\": \"#000000\"}, \"showarrow\": false}, {\"text\": \"0\", \"x\": 12, \"y\": \"Tennis\", \"xref\": \"x1\", \"yref\": \"y1\", \"font\": {\"color\": \"#000000\"}, \"showarrow\": false}, {\"text\": \"16\", \"x\": 13, \"y\": \"Tennis\", \"xref\": \"x1\", \"yref\": \"y1\", \"font\": {\"color\": \"#000000\"}, \"showarrow\": false}, {\"text\": \"0\", \"x\": 14, \"y\": \"Tennis\", \"xref\": \"x1\", \"yref\": \"y1\", \"font\": {\"color\": \"#000000\"}, \"showarrow\": false}, {\"text\": \"16\", \"x\": 15, \"y\": \"Tennis\", \"xref\": \"x1\", \"yref\": \"y1\", \"font\": {\"color\": \"#000000\"}, \"showarrow\": false}, {\"text\": \"16\", \"x\": 0, \"y\": \"Patrick_2013\", \"xref\": \"x1\", \"yref\": \"y1\", \"font\": {\"color\": \"#000000\"}, \"showarrow\": false}, {\"text\": \"16\", \"x\": 1, \"y\": \"Patrick_2013\", \"xref\": \"x1\", \"yref\": \"y1\", \"font\": {\"color\": \"#000000\"}, \"showarrow\": false}, {\"text\": \"16\", \"x\": 2, \"y\": \"Patrick_2013\", \"xref\": \"x1\", \"yref\": \"y1\", \"font\": {\"color\": \"#000000\"}, \"showarrow\": false}, {\"text\": \"16\", \"x\": 3, \"y\": \"Patrick_2013\", \"xref\": \"x1\", \"yref\": \"y1\", \"font\": {\"color\": \"#000000\"}, \"showarrow\": false}, {\"text\": \"16\", \"x\": 4, \"y\": \"Patrick_2013\", \"xref\": \"x1\", \"yref\": \"y1\", \"font\": {\"color\": \"#000000\"}, \"showarrow\": false}, {\"text\": \"16\", \"x\": 5, \"y\": \"Patrick_2013\", \"xref\": \"x1\", \"yref\": \"y1\", \"font\": {\"color\": \"#000000\"}, \"showarrow\": false}, {\"text\": \"16\", \"x\": 6, \"y\": \"Patrick_2013\", \"xref\": \"x1\", \"yref\": \"y1\", \"font\": {\"color\": \"#000000\"}, \"showarrow\": false}, {\"text\": \"16\", \"x\": 7, \"y\": \"Patrick_2013\", \"xref\": \"x1\", \"yref\": \"y1\", \"font\": {\"color\": \"#000000\"}, \"showarrow\": false}, {\"text\": \"16\", \"x\": 8, \"y\": \"Patrick_2013\", \"xref\": \"x1\", \"yref\": \"y1\", \"font\": {\"color\": \"#000000\"}, \"showarrow\": false}, {\"text\": \"16\", \"x\": 9, \"y\": \"Patrick_2013\", \"xref\": \"x1\", \"yref\": \"y1\", \"font\": {\"color\": \"#000000\"}, \"showarrow\": false}, {\"text\": \"16\", \"x\": 10, \"y\": \"Patrick_2013\", \"xref\": \"x1\", \"yref\": \"y1\", \"font\": {\"color\": \"#000000\"}, \"showarrow\": false}, {\"text\": \"16\", \"x\": 11, \"y\": \"Patrick_2013\", \"xref\": \"x1\", \"yref\": \"y1\", \"font\": {\"color\": \"#000000\"}, \"showarrow\": false}, {\"text\": \"16\", \"x\": 12, \"y\": \"Patrick_2013\", \"xref\": \"x1\", \"yref\": \"y1\", \"font\": {\"color\": \"#000000\"}, \"showarrow\": false}, {\"text\": \"16\", \"x\": 13, \"y\": \"Patrick_2013\", \"xref\": \"x1\", \"yref\": \"y1\", \"font\": {\"color\": \"#000000\"}, \"showarrow\": false}, {\"text\": \"16\", \"x\": 14, \"y\": \"Patrick_2013\", \"xref\": \"x1\", \"yref\": \"y1\", \"font\": {\"color\": \"#000000\"}, \"showarrow\": false}, {\"text\": \"0\", \"x\": 15, \"y\": \"Patrick_2013\", \"xref\": \"x1\", \"yref\": \"y1\", \"font\": {\"color\": \"#000000\"}, \"showarrow\": false}, {\"text\": \"10\", \"x\": 0, \"y\": \"Sylvain_2015\", \"xref\": \"x1\", \"yref\": \"y1\", \"font\": {\"color\": \"#000000\"}, \"showarrow\": false}, {\"text\": \"10\", \"x\": 1, \"y\": \"Sylvain_2015\", \"xref\": \"x1\", \"yref\": \"y1\", \"font\": {\"color\": \"#000000\"}, \"showarrow\": false}, {\"text\": \"10\", \"x\": 2, \"y\": \"Sylvain_2015\", \"xref\": \"x1\", \"yref\": \"y1\", \"font\": {\"color\": \"#000000\"}, \"showarrow\": false}, {\"text\": \"10\", \"x\": 3, \"y\": \"Sylvain_2015\", \"xref\": \"x1\", \"yref\": \"y1\", \"font\": {\"color\": \"#000000\"}, \"showarrow\": false}, {\"text\": \"10\", \"x\": 4, \"y\": \"Sylvain_2015\", \"xref\": \"x1\", \"yref\": \"y1\", \"font\": {\"color\": \"#000000\"}, \"showarrow\": false}, {\"text\": \"10\", \"x\": 5, \"y\": \"Sylvain_2015\", \"xref\": \"x1\", \"yref\": \"y1\", \"font\": {\"color\": \"#000000\"}, \"showarrow\": false}, {\"text\": \"10\", \"x\": 6, \"y\": \"Sylvain_2015\", \"xref\": \"x1\", \"yref\": \"y1\", \"font\": {\"color\": \"#000000\"}, \"showarrow\": false}, {\"text\": \"10\", \"x\": 7, \"y\": \"Sylvain_2015\", \"xref\": \"x1\", \"yref\": \"y1\", \"font\": {\"color\": \"#000000\"}, \"showarrow\": false}, {\"text\": \"10\", \"x\": 8, \"y\": \"Sylvain_2015\", \"xref\": \"x1\", \"yref\": \"y1\", \"font\": {\"color\": \"#000000\"}, \"showarrow\": false}, {\"text\": \"10\", \"x\": 9, \"y\": \"Sylvain_2015\", \"xref\": \"x1\", \"yref\": \"y1\", \"font\": {\"color\": \"#000000\"}, \"showarrow\": false}, {\"text\": \"10\", \"x\": 10, \"y\": \"Sylvain_2015\", \"xref\": \"x1\", \"yref\": \"y1\", \"font\": {\"color\": \"#000000\"}, \"showarrow\": false}, {\"text\": \"10\", \"x\": 11, \"y\": \"Sylvain_2015\", \"xref\": \"x1\", \"yref\": \"y1\", \"font\": {\"color\": \"#000000\"}, \"showarrow\": false}, {\"text\": \"10\", \"x\": 12, \"y\": \"Sylvain_2015\", \"xref\": \"x1\", \"yref\": \"y1\", \"font\": {\"color\": \"#000000\"}, \"showarrow\": false}, {\"text\": \"10\", \"x\": 13, \"y\": \"Sylvain_2015\", \"xref\": \"x1\", \"yref\": \"y1\", \"font\": {\"color\": \"#000000\"}, \"showarrow\": false}, {\"text\": \"10\", \"x\": 14, \"y\": \"Sylvain_2015\", \"xref\": \"x1\", \"yref\": \"y1\", \"font\": {\"color\": \"#000000\"}, \"showarrow\": false}, {\"text\": \"0\", \"x\": 15, \"y\": \"Sylvain_2015\", \"xref\": \"x1\", \"yref\": \"y1\", \"font\": {\"color\": \"#000000\"}, \"showarrow\": false}], \"xaxis\": {\"ticks\": \"\", \"dtick\": 1, \"side\": \"bottom\", \"gridcolor\": \"rgb(0, 0, 0)\", \"title\": \"Tests\"}, \"yaxis\": {\"ticks\": \"\", \"dtick\": 1, \"ticksuffix\": \"  \", \"title\": null, \"autorange\": \"reversed\"}, \"hovermode\": \"closest\", \"font\": {\"size\": 14}, \"title\": \"Tests by dataset\", \"margin\": {\"t\": 80, \"b\": 80, \"l\": 150, \"r\": 80, \"pad\": 0}}, {\"showLink\": true, \"linkText\": \"Export to plot.ly\"})});</script>"
      ]
     },
     "metadata": {},
     "output_type": "display_data"
    }
   ],
   "source": [
    "muscle_by_dataset = plot_count_by_dataset(\n",
    "    df_tidy,\n",
    "    values='muscle',\n",
    "    index='dataset',\n",
    "    columns='test',\n",
    "    ylabel=DATASET_NAMES,\n",
    "    xtitle='Tests',\n",
    "    title='Tests by dataset')\n",
    "py.iplot(muscle_by_dataset, filename='mvc/tests_by_dataset')"
   ]
  },
  {
   "cell_type": "markdown",
   "metadata": {},
   "source": [
    "## 4.3. Muscles and tests count"
   ]
  },
  {
   "cell_type": "code",
   "execution_count": 80,
   "metadata": {
    "run_control": {
     "marked": false
    }
   },
   "outputs": [],
   "source": [
    "def plot_count_bar(d, column, **kwargs):\n",
    "    count = np.array(d[column].value_counts(sort=False))\n",
    "    trace = go.Bar(\n",
    "        x=count,\n",
    "        y=kwargs.get('ylabel'),\n",
    "        marker=MARKER_LAYOUT,\n",
    "        orientation='h')\n",
    "\n",
    "    layout = BASE_LAYOUT.copy()\n",
    "    layout.update(\n",
    "        dict(\n",
    "            title=kwargs.get('title'),\n",
    "            xaxis=dict(\n",
    "                title=kwargs.get('xtitle'), showline=True, linewidth=1.5),\n",
    "            yaxis=dict(\n",
    "                title=kwargs.get('ytitle'), showline=True, linewidth=1.5)))\n",
    "\n",
    "    # adjust y axis\n",
    "    layout['yaxis'].update(nticks=count.shape[0])\n",
    "    layout.update(margin=go.Margin(t=80, b=80, l=150, r=80, pad=0))\n",
    "    return dict(data=[trace], layout=layout)"
   ]
  },
  {
   "cell_type": "code",
   "execution_count": 81,
   "metadata": {
    "run_control": {
     "marked": false
    }
   },
   "outputs": [
    {
     "data": {
      "application/vnd.plotly.v1+json": {
       "data": [
        {
         "marker": {
          "color": "rgba(50, 171, 96, 0.6)",
          "line": {
           "color": "rgba(50, 171, 96, 1.0)",
           "width": 2
          }
         },
         "orientation": "h",
         "type": "bar",
         "x": [
          1392,
          877,
          1464,
          1465,
          1465,
          1465,
          1053,
          1006,
          1027,
          1030,
          1019,
          544,
          544,
          849,
          925,
          331
         ],
         "y": null
        }
       ],
       "layout": {
        "font": {
         "size": 14
        },
        "hovermode": "closest",
        "margin": {
         "b": 80,
         "l": 150,
         "pad": 0,
         "r": 80,
         "t": 80
        },
        "title": "Tests count",
        "xaxis": {
         "linewidth": 1.5,
         "showline": true,
         "title": "n"
        },
        "yaxis": {
         "linewidth": 1.5,
         "nticks": 16,
         "showline": true,
         "title": "Tests"
        }
       }
      },
      "text/html": [
       "<div id=\"6dc78dd3-9294-42df-8f77-5eed897b1478\" style=\"height: 525px; width: 100%;\" class=\"plotly-graph-div\"></div><script type=\"text/javascript\">require([\"plotly\"], function(Plotly) { window.PLOTLYENV=window.PLOTLYENV || {};window.PLOTLYENV.BASE_URL=\"https://plot.ly\";Plotly.newPlot(\"6dc78dd3-9294-42df-8f77-5eed897b1478\", [{\"type\": \"bar\", \"x\": [1392, 877, 1464, 1465, 1465, 1465, 1053, 1006, 1027, 1030, 1019, 544, 544, 849, 925, 331], \"y\": null, \"marker\": {\"color\": \"rgba(50, 171, 96, 0.6)\", \"line\": {\"color\": \"rgba(50, 171, 96, 1.0)\", \"width\": 2}}, \"orientation\": \"h\"}], {\"hovermode\": \"closest\", \"font\": {\"size\": 14}, \"title\": \"Tests count\", \"xaxis\": {\"title\": \"n\", \"showline\": true, \"linewidth\": 1.5}, \"yaxis\": {\"title\": \"Tests\", \"showline\": true, \"linewidth\": 1.5, \"nticks\": 16}, \"margin\": {\"t\": 80, \"b\": 80, \"l\": 150, \"r\": 80, \"pad\": 0}}, {\"showLink\": true, \"linkText\": \"Export to plot.ly\"})});</script>"
      ],
      "text/vnd.plotly.v1+html": [
       "<div id=\"6dc78dd3-9294-42df-8f77-5eed897b1478\" style=\"height: 525px; width: 100%;\" class=\"plotly-graph-div\"></div><script type=\"text/javascript\">require([\"plotly\"], function(Plotly) { window.PLOTLYENV=window.PLOTLYENV || {};window.PLOTLYENV.BASE_URL=\"https://plot.ly\";Plotly.newPlot(\"6dc78dd3-9294-42df-8f77-5eed897b1478\", [{\"type\": \"bar\", \"x\": [1392, 877, 1464, 1465, 1465, 1465, 1053, 1006, 1027, 1030, 1019, 544, 544, 849, 925, 331], \"y\": null, \"marker\": {\"color\": \"rgba(50, 171, 96, 0.6)\", \"line\": {\"color\": \"rgba(50, 171, 96, 1.0)\", \"width\": 2}}, \"orientation\": \"h\"}], {\"hovermode\": \"closest\", \"font\": {\"size\": 14}, \"title\": \"Tests count\", \"xaxis\": {\"title\": \"n\", \"showline\": true, \"linewidth\": 1.5}, \"yaxis\": {\"title\": \"Tests\", \"showline\": true, \"linewidth\": 1.5, \"nticks\": 16}, \"margin\": {\"t\": 80, \"b\": 80, \"l\": 150, \"r\": 80, \"pad\": 0}}, {\"showLink\": true, \"linkText\": \"Export to plot.ly\"})});</script>"
      ]
     },
     "metadata": {},
     "output_type": "display_data"
    }
   ],
   "source": [
    "test_count_bar = plot_count_bar(\n",
    "    df_tidy, 'test', title='Tests count', xtitle='n', ytitle='Tests')\n",
    "py.iplot(test_count_bar, filename='mvc/test_count_bar')"
   ]
  },
  {
   "cell_type": "code",
   "execution_count": 82,
   "metadata": {
    "run_control": {
     "marked": false
    }
   },
   "outputs": [
    {
     "data": {
      "application/vnd.plotly.v1+json": {
       "data": [
        {
         "marker": {
          "color": "rgba(50, 171, 96, 0.6)",
          "line": {
           "color": "rgba(50, 171, 96, 1.0)",
           "width": 2
          }
         },
         "orientation": "h",
         "type": "bar",
         "x": [
          1569,
          1053,
          1633,
          1153,
          1633,
          1633,
          1352,
          1425,
          1352,
          1219,
          1219,
          1215
         ],
         "y": [
          "upper trapezius",
          "middle trapezius",
          "lower trapezius",
          "anterior deltoid",
          "middle deltoid",
          "posterior deltoid",
          "pectoralis major",
          "serratus anterior",
          "latissimus dorsi",
          "supraspinatus",
          "infraspinatus",
          "subscapularis"
         ]
        }
       ],
       "layout": {
        "font": {
         "size": 14
        },
        "hovermode": "closest",
        "margin": {
         "b": 80,
         "l": 150,
         "pad": 0,
         "r": 80,
         "t": 80
        },
        "title": "Muscles count",
        "xaxis": {
         "linewidth": 1.5,
         "showline": true,
         "title": "n"
        },
        "yaxis": {
         "linewidth": 1.5,
         "nticks": 12,
         "showline": true,
         "title": null
        }
       }
      },
      "text/html": [
       "<div id=\"c6d03f63-ad69-4b8b-8c5c-b3e470d02970\" style=\"height: 525px; width: 100%;\" class=\"plotly-graph-div\"></div><script type=\"text/javascript\">require([\"plotly\"], function(Plotly) { window.PLOTLYENV=window.PLOTLYENV || {};window.PLOTLYENV.BASE_URL=\"https://plot.ly\";Plotly.newPlot(\"c6d03f63-ad69-4b8b-8c5c-b3e470d02970\", [{\"type\": \"bar\", \"x\": [1569, 1053, 1633, 1153, 1633, 1633, 1352, 1425, 1352, 1219, 1219, 1215], \"y\": [\"upper trapezius\", \"middle trapezius\", \"lower trapezius\", \"anterior deltoid\", \"middle deltoid\", \"posterior deltoid\", \"pectoralis major\", \"serratus anterior\", \"latissimus dorsi\", \"supraspinatus\", \"infraspinatus\", \"subscapularis\"], \"marker\": {\"color\": \"rgba(50, 171, 96, 0.6)\", \"line\": {\"color\": \"rgba(50, 171, 96, 1.0)\", \"width\": 2}}, \"orientation\": \"h\"}], {\"hovermode\": \"closest\", \"font\": {\"size\": 14}, \"title\": \"Muscles count\", \"xaxis\": {\"title\": \"n\", \"showline\": true, \"linewidth\": 1.5}, \"yaxis\": {\"title\": null, \"showline\": true, \"linewidth\": 1.5, \"nticks\": 12}, \"margin\": {\"t\": 80, \"b\": 80, \"l\": 150, \"r\": 80, \"pad\": 0}}, {\"showLink\": true, \"linkText\": \"Export to plot.ly\"})});</script>"
      ],
      "text/vnd.plotly.v1+html": [
       "<div id=\"c6d03f63-ad69-4b8b-8c5c-b3e470d02970\" style=\"height: 525px; width: 100%;\" class=\"plotly-graph-div\"></div><script type=\"text/javascript\">require([\"plotly\"], function(Plotly) { window.PLOTLYENV=window.PLOTLYENV || {};window.PLOTLYENV.BASE_URL=\"https://plot.ly\";Plotly.newPlot(\"c6d03f63-ad69-4b8b-8c5c-b3e470d02970\", [{\"type\": \"bar\", \"x\": [1569, 1053, 1633, 1153, 1633, 1633, 1352, 1425, 1352, 1219, 1219, 1215], \"y\": [\"upper trapezius\", \"middle trapezius\", \"lower trapezius\", \"anterior deltoid\", \"middle deltoid\", \"posterior deltoid\", \"pectoralis major\", \"serratus anterior\", \"latissimus dorsi\", \"supraspinatus\", \"infraspinatus\", \"subscapularis\"], \"marker\": {\"color\": \"rgba(50, 171, 96, 0.6)\", \"line\": {\"color\": \"rgba(50, 171, 96, 1.0)\", \"width\": 2}}, \"orientation\": \"h\"}], {\"hovermode\": \"closest\", \"font\": {\"size\": 14}, \"title\": \"Muscles count\", \"xaxis\": {\"title\": \"n\", \"showline\": true, \"linewidth\": 1.5}, \"yaxis\": {\"title\": null, \"showline\": true, \"linewidth\": 1.5, \"nticks\": 12}, \"margin\": {\"t\": 80, \"b\": 80, \"l\": 150, \"r\": 80, \"pad\": 0}}, {\"showLink\": true, \"linkText\": \"Export to plot.ly\"})});</script>"
      ]
     },
     "metadata": {},
     "output_type": "display_data"
    }
   ],
   "source": [
    "muscle_count_bar = plot_count_bar(\n",
    "    df_tidy, 'muscle', ylabel=MUSCLES_NAMES, title='Muscles count', xtitle='n')\n",
    "py.iplot(muscle_count_bar, filename='mvc/muscle_count_bar')"
   ]
  },
  {
   "cell_type": "markdown",
   "metadata": {},
   "source": [
    "## 4.4. Max for each test (normalized by participant number)"
   ]
  },
  {
   "cell_type": "code",
   "execution_count": 12,
   "metadata": {
    "run_control": {
     "marked": false
    }
   },
   "outputs": [
    {
     "name": "stdout",
     "output_type": "stream",
     "text": [
      "project 'Landry2016' (15 participants)\n",
      "project 'Landry2015_2' (11 participants)\n",
      "project 'Landry2015_1' (14 participants)\n",
      "project 'Violon' (10 participants)\n",
      "project 'Yoann_2015' (22 participants)\n",
      "project 'Landry2013' (21 participants)\n",
      "project 'Landry2012' (18 participants)\n",
      "project 'Tennis' (16 participants)\n",
      "project 'Patrick_2013' (16 participants)\n",
      "project 'Sylvain_2015' (10 participants)\n",
      "\n",
      "\ttotal participants: 152\n"
     ]
    },
    {
     "name": "stderr",
     "output_type": "stream",
     "text": [
      "/home/romain/.local/share/virtualenvs/mvc-kMH3Oq29/lib/python3.6/site-packages/ipykernel_launcher.py:24: RuntimeWarning:\n",
      "\n",
      "All-NaN slice encountered\n",
      "\n"
     ]
    }
   ],
   "source": [
    "normalized, _ = load_data(\n",
    "    data_path=DATA_PATH, data_format=DATA_FORMAT, normalize=True)\n",
    "\n",
    "df_normalized = pd.DataFrame({\n",
    "    'participant': normalized['participants'],\n",
    "    'dataset': normalized['datasets'],\n",
    "    'muscle': normalized['muscles'],\n",
    "    'test': normalized['tests'],\n",
    "    'mvc': normalized['mvc']\n",
    "}).dropna()"
   ]
  },
  {
   "cell_type": "code",
   "execution_count": 13,
   "metadata": {
    "run_control": {
     "marked": false
    }
   },
   "outputs": [],
   "source": [
    "def plot_max_by_test(d, **kwargs):\n",
    "    maximum = d[d['mvc'] == 100].pivot_table(\n",
    "        values='muscle',\n",
    "        index='dataset',\n",
    "        columns='test',\n",
    "        aggfunc='count',\n",
    "        fill_value=0)\n",
    "    maximum = (maximum.div(maximum.sum(axis=1), axis=0) * 100).astype(int)\n",
    "\n",
    "    fig = ff.create_annotated_heatmap(\n",
    "        z=np.array(maximum),\n",
    "        x=kwargs.get('xlabel'),\n",
    "        y=kwargs.get('ylabel'),\n",
    "        showscale=True,\n",
    "        colorscale='YlGnBu',\n",
    "        colorbar=dict(title='Percentage', titleside='right'))\n",
    "\n",
    "    fig['layout'].update(BASE_LAYOUT)\n",
    "    fig['layout'].update(\n",
    "        dict(\n",
    "            title=kwargs.get('title'),\n",
    "            xaxis=dict(title=kwargs.get('xtitle'), side='bottom'),\n",
    "            yaxis=dict(title=kwargs.get('ytitle'), autorange='reversed'),\n",
    "            margin=go.Margin(t=80, b=80, l=150, r=80, pad=0)))\n",
    "    return fig"
   ]
  },
  {
   "cell_type": "code",
   "execution_count": 14,
   "metadata": {
    "run_control": {
     "marked": false
    }
   },
   "outputs": [
    {
     "data": {
      "application/vnd.plotly.v1+json": {
       "data": [
        {
         "colorbar": {
          "title": "Percentage",
          "titleside": "right"
         },
         "colorscale": "YlGnBu",
         "showscale": true,
         "type": "heatmap",
         "x": null,
         "y": [
          "Landry2016",
          "Landry2015_2",
          "Landry2015_1",
          "Violon",
          "Yoann_2015",
          "Landry2013",
          "Landry2012",
          "Tennis",
          "Patrick_2013",
          "Sylvain_2015"
         ],
         "z": [
          [
           11,
           0,
           23,
           6,
           14,
           11,
           0,
           5,
           4,
           2,
           5,
           0,
           0,
           5,
           0,
           9
          ],
          [
           17,
           0,
           19,
           11,
           22,
           17,
           0,
           0,
           0,
           0,
           0,
           0,
           0,
           0,
           12,
           0
          ],
          [
           20,
           0,
           24,
           12,
           9,
           13,
           0,
           0,
           3,
           5,
           6,
           0,
           0,
           0,
           3,
           0
          ],
          [
           0,
           0,
           28,
           6,
           8,
           28,
           0,
           0,
           5,
           8,
           13,
           0,
           0,
           0,
           0,
           0
          ],
          [
           4,
           13,
           23,
           1,
           6,
           10,
           0,
           4,
           1,
           2,
           3,
           6,
           0,
           5,
           14,
           0
          ],
          [
           4,
           12,
           21,
           8,
           7,
           9,
           6,
           9,
           0,
           0,
           0,
           0,
           0,
           0,
           19,
           0
          ],
          [
           6,
           16,
           12,
           16,
           8,
           21,
           4,
           12,
           0,
           0,
           0,
           0,
           0,
           0,
           0,
           0
          ],
          [
           8,
           0,
           17,
           18,
           5,
           10,
           6,
           0,
           3,
           3,
           8,
           0,
           0,
           10,
           0,
           8
          ],
          [
           7,
           10,
           18,
           5,
           9,
           6,
           5,
           6,
           2,
           1,
           5,
           4,
           1,
           5,
           9,
           0
          ],
          [
           12,
           10,
           14,
           6,
           1,
           12,
           2,
           6,
           3,
           3,
           8,
           9,
           2,
           2,
           6,
           0
          ]
         ]
        }
       ],
       "layout": {
        "annotations": [
         {
          "font": {
           "color": "#000000"
          },
          "showarrow": false,
          "text": "11",
          "x": 0,
          "xref": "x1",
          "y": "Landry2016",
          "yref": "y1"
         },
         {
          "font": {
           "color": "#000000"
          },
          "showarrow": false,
          "text": "0",
          "x": 1,
          "xref": "x1",
          "y": "Landry2016",
          "yref": "y1"
         },
         {
          "font": {
           "color": "#000000"
          },
          "showarrow": false,
          "text": "23",
          "x": 2,
          "xref": "x1",
          "y": "Landry2016",
          "yref": "y1"
         },
         {
          "font": {
           "color": "#000000"
          },
          "showarrow": false,
          "text": "6",
          "x": 3,
          "xref": "x1",
          "y": "Landry2016",
          "yref": "y1"
         },
         {
          "font": {
           "color": "#000000"
          },
          "showarrow": false,
          "text": "14",
          "x": 4,
          "xref": "x1",
          "y": "Landry2016",
          "yref": "y1"
         },
         {
          "font": {
           "color": "#000000"
          },
          "showarrow": false,
          "text": "11",
          "x": 5,
          "xref": "x1",
          "y": "Landry2016",
          "yref": "y1"
         },
         {
          "font": {
           "color": "#000000"
          },
          "showarrow": false,
          "text": "0",
          "x": 6,
          "xref": "x1",
          "y": "Landry2016",
          "yref": "y1"
         },
         {
          "font": {
           "color": "#000000"
          },
          "showarrow": false,
          "text": "5",
          "x": 7,
          "xref": "x1",
          "y": "Landry2016",
          "yref": "y1"
         },
         {
          "font": {
           "color": "#000000"
          },
          "showarrow": false,
          "text": "4",
          "x": 8,
          "xref": "x1",
          "y": "Landry2016",
          "yref": "y1"
         },
         {
          "font": {
           "color": "#000000"
          },
          "showarrow": false,
          "text": "2",
          "x": 9,
          "xref": "x1",
          "y": "Landry2016",
          "yref": "y1"
         },
         {
          "font": {
           "color": "#000000"
          },
          "showarrow": false,
          "text": "5",
          "x": 10,
          "xref": "x1",
          "y": "Landry2016",
          "yref": "y1"
         },
         {
          "font": {
           "color": "#000000"
          },
          "showarrow": false,
          "text": "0",
          "x": 11,
          "xref": "x1",
          "y": "Landry2016",
          "yref": "y1"
         },
         {
          "font": {
           "color": "#000000"
          },
          "showarrow": false,
          "text": "0",
          "x": 12,
          "xref": "x1",
          "y": "Landry2016",
          "yref": "y1"
         },
         {
          "font": {
           "color": "#000000"
          },
          "showarrow": false,
          "text": "5",
          "x": 13,
          "xref": "x1",
          "y": "Landry2016",
          "yref": "y1"
         },
         {
          "font": {
           "color": "#000000"
          },
          "showarrow": false,
          "text": "0",
          "x": 14,
          "xref": "x1",
          "y": "Landry2016",
          "yref": "y1"
         },
         {
          "font": {
           "color": "#000000"
          },
          "showarrow": false,
          "text": "9",
          "x": 15,
          "xref": "x1",
          "y": "Landry2016",
          "yref": "y1"
         },
         {
          "font": {
           "color": "#000000"
          },
          "showarrow": false,
          "text": "17",
          "x": 0,
          "xref": "x1",
          "y": "Landry2015_2",
          "yref": "y1"
         },
         {
          "font": {
           "color": "#000000"
          },
          "showarrow": false,
          "text": "0",
          "x": 1,
          "xref": "x1",
          "y": "Landry2015_2",
          "yref": "y1"
         },
         {
          "font": {
           "color": "#000000"
          },
          "showarrow": false,
          "text": "19",
          "x": 2,
          "xref": "x1",
          "y": "Landry2015_2",
          "yref": "y1"
         },
         {
          "font": {
           "color": "#000000"
          },
          "showarrow": false,
          "text": "11",
          "x": 3,
          "xref": "x1",
          "y": "Landry2015_2",
          "yref": "y1"
         },
         {
          "font": {
           "color": "#000000"
          },
          "showarrow": false,
          "text": "22",
          "x": 4,
          "xref": "x1",
          "y": "Landry2015_2",
          "yref": "y1"
         },
         {
          "font": {
           "color": "#000000"
          },
          "showarrow": false,
          "text": "17",
          "x": 5,
          "xref": "x1",
          "y": "Landry2015_2",
          "yref": "y1"
         },
         {
          "font": {
           "color": "#000000"
          },
          "showarrow": false,
          "text": "0",
          "x": 6,
          "xref": "x1",
          "y": "Landry2015_2",
          "yref": "y1"
         },
         {
          "font": {
           "color": "#000000"
          },
          "showarrow": false,
          "text": "0",
          "x": 7,
          "xref": "x1",
          "y": "Landry2015_2",
          "yref": "y1"
         },
         {
          "font": {
           "color": "#000000"
          },
          "showarrow": false,
          "text": "0",
          "x": 8,
          "xref": "x1",
          "y": "Landry2015_2",
          "yref": "y1"
         },
         {
          "font": {
           "color": "#000000"
          },
          "showarrow": false,
          "text": "0",
          "x": 9,
          "xref": "x1",
          "y": "Landry2015_2",
          "yref": "y1"
         },
         {
          "font": {
           "color": "#000000"
          },
          "showarrow": false,
          "text": "0",
          "x": 10,
          "xref": "x1",
          "y": "Landry2015_2",
          "yref": "y1"
         },
         {
          "font": {
           "color": "#000000"
          },
          "showarrow": false,
          "text": "0",
          "x": 11,
          "xref": "x1",
          "y": "Landry2015_2",
          "yref": "y1"
         },
         {
          "font": {
           "color": "#000000"
          },
          "showarrow": false,
          "text": "0",
          "x": 12,
          "xref": "x1",
          "y": "Landry2015_2",
          "yref": "y1"
         },
         {
          "font": {
           "color": "#000000"
          },
          "showarrow": false,
          "text": "0",
          "x": 13,
          "xref": "x1",
          "y": "Landry2015_2",
          "yref": "y1"
         },
         {
          "font": {
           "color": "#000000"
          },
          "showarrow": false,
          "text": "12",
          "x": 14,
          "xref": "x1",
          "y": "Landry2015_2",
          "yref": "y1"
         },
         {
          "font": {
           "color": "#000000"
          },
          "showarrow": false,
          "text": "0",
          "x": 15,
          "xref": "x1",
          "y": "Landry2015_2",
          "yref": "y1"
         },
         {
          "font": {
           "color": "#000000"
          },
          "showarrow": false,
          "text": "20",
          "x": 0,
          "xref": "x1",
          "y": "Landry2015_1",
          "yref": "y1"
         },
         {
          "font": {
           "color": "#000000"
          },
          "showarrow": false,
          "text": "0",
          "x": 1,
          "xref": "x1",
          "y": "Landry2015_1",
          "yref": "y1"
         },
         {
          "font": {
           "color": "#000000"
          },
          "showarrow": false,
          "text": "24",
          "x": 2,
          "xref": "x1",
          "y": "Landry2015_1",
          "yref": "y1"
         },
         {
          "font": {
           "color": "#000000"
          },
          "showarrow": false,
          "text": "12",
          "x": 3,
          "xref": "x1",
          "y": "Landry2015_1",
          "yref": "y1"
         },
         {
          "font": {
           "color": "#000000"
          },
          "showarrow": false,
          "text": "9",
          "x": 4,
          "xref": "x1",
          "y": "Landry2015_1",
          "yref": "y1"
         },
         {
          "font": {
           "color": "#000000"
          },
          "showarrow": false,
          "text": "13",
          "x": 5,
          "xref": "x1",
          "y": "Landry2015_1",
          "yref": "y1"
         },
         {
          "font": {
           "color": "#000000"
          },
          "showarrow": false,
          "text": "0",
          "x": 6,
          "xref": "x1",
          "y": "Landry2015_1",
          "yref": "y1"
         },
         {
          "font": {
           "color": "#000000"
          },
          "showarrow": false,
          "text": "0",
          "x": 7,
          "xref": "x1",
          "y": "Landry2015_1",
          "yref": "y1"
         },
         {
          "font": {
           "color": "#000000"
          },
          "showarrow": false,
          "text": "3",
          "x": 8,
          "xref": "x1",
          "y": "Landry2015_1",
          "yref": "y1"
         },
         {
          "font": {
           "color": "#000000"
          },
          "showarrow": false,
          "text": "5",
          "x": 9,
          "xref": "x1",
          "y": "Landry2015_1",
          "yref": "y1"
         },
         {
          "font": {
           "color": "#000000"
          },
          "showarrow": false,
          "text": "6",
          "x": 10,
          "xref": "x1",
          "y": "Landry2015_1",
          "yref": "y1"
         },
         {
          "font": {
           "color": "#000000"
          },
          "showarrow": false,
          "text": "0",
          "x": 11,
          "xref": "x1",
          "y": "Landry2015_1",
          "yref": "y1"
         },
         {
          "font": {
           "color": "#000000"
          },
          "showarrow": false,
          "text": "0",
          "x": 12,
          "xref": "x1",
          "y": "Landry2015_1",
          "yref": "y1"
         },
         {
          "font": {
           "color": "#000000"
          },
          "showarrow": false,
          "text": "0",
          "x": 13,
          "xref": "x1",
          "y": "Landry2015_1",
          "yref": "y1"
         },
         {
          "font": {
           "color": "#000000"
          },
          "showarrow": false,
          "text": "3",
          "x": 14,
          "xref": "x1",
          "y": "Landry2015_1",
          "yref": "y1"
         },
         {
          "font": {
           "color": "#000000"
          },
          "showarrow": false,
          "text": "0",
          "x": 15,
          "xref": "x1",
          "y": "Landry2015_1",
          "yref": "y1"
         },
         {
          "font": {
           "color": "#000000"
          },
          "showarrow": false,
          "text": "0",
          "x": 0,
          "xref": "x1",
          "y": "Violon",
          "yref": "y1"
         },
         {
          "font": {
           "color": "#000000"
          },
          "showarrow": false,
          "text": "0",
          "x": 1,
          "xref": "x1",
          "y": "Violon",
          "yref": "y1"
         },
         {
          "font": {
           "color": "#000000"
          },
          "showarrow": false,
          "text": "28",
          "x": 2,
          "xref": "x1",
          "y": "Violon",
          "yref": "y1"
         },
         {
          "font": {
           "color": "#000000"
          },
          "showarrow": false,
          "text": "6",
          "x": 3,
          "xref": "x1",
          "y": "Violon",
          "yref": "y1"
         },
         {
          "font": {
           "color": "#000000"
          },
          "showarrow": false,
          "text": "8",
          "x": 4,
          "xref": "x1",
          "y": "Violon",
          "yref": "y1"
         },
         {
          "font": {
           "color": "#000000"
          },
          "showarrow": false,
          "text": "28",
          "x": 5,
          "xref": "x1",
          "y": "Violon",
          "yref": "y1"
         },
         {
          "font": {
           "color": "#000000"
          },
          "showarrow": false,
          "text": "0",
          "x": 6,
          "xref": "x1",
          "y": "Violon",
          "yref": "y1"
         },
         {
          "font": {
           "color": "#000000"
          },
          "showarrow": false,
          "text": "0",
          "x": 7,
          "xref": "x1",
          "y": "Violon",
          "yref": "y1"
         },
         {
          "font": {
           "color": "#000000"
          },
          "showarrow": false,
          "text": "5",
          "x": 8,
          "xref": "x1",
          "y": "Violon",
          "yref": "y1"
         },
         {
          "font": {
           "color": "#000000"
          },
          "showarrow": false,
          "text": "8",
          "x": 9,
          "xref": "x1",
          "y": "Violon",
          "yref": "y1"
         },
         {
          "font": {
           "color": "#000000"
          },
          "showarrow": false,
          "text": "13",
          "x": 10,
          "xref": "x1",
          "y": "Violon",
          "yref": "y1"
         },
         {
          "font": {
           "color": "#000000"
          },
          "showarrow": false,
          "text": "0",
          "x": 11,
          "xref": "x1",
          "y": "Violon",
          "yref": "y1"
         },
         {
          "font": {
           "color": "#000000"
          },
          "showarrow": false,
          "text": "0",
          "x": 12,
          "xref": "x1",
          "y": "Violon",
          "yref": "y1"
         },
         {
          "font": {
           "color": "#000000"
          },
          "showarrow": false,
          "text": "0",
          "x": 13,
          "xref": "x1",
          "y": "Violon",
          "yref": "y1"
         },
         {
          "font": {
           "color": "#000000"
          },
          "showarrow": false,
          "text": "0",
          "x": 14,
          "xref": "x1",
          "y": "Violon",
          "yref": "y1"
         },
         {
          "font": {
           "color": "#000000"
          },
          "showarrow": false,
          "text": "0",
          "x": 15,
          "xref": "x1",
          "y": "Violon",
          "yref": "y1"
         },
         {
          "font": {
           "color": "#000000"
          },
          "showarrow": false,
          "text": "4",
          "x": 0,
          "xref": "x1",
          "y": "Yoann_2015",
          "yref": "y1"
         },
         {
          "font": {
           "color": "#000000"
          },
          "showarrow": false,
          "text": "13",
          "x": 1,
          "xref": "x1",
          "y": "Yoann_2015",
          "yref": "y1"
         },
         {
          "font": {
           "color": "#000000"
          },
          "showarrow": false,
          "text": "23",
          "x": 2,
          "xref": "x1",
          "y": "Yoann_2015",
          "yref": "y1"
         },
         {
          "font": {
           "color": "#000000"
          },
          "showarrow": false,
          "text": "1",
          "x": 3,
          "xref": "x1",
          "y": "Yoann_2015",
          "yref": "y1"
         },
         {
          "font": {
           "color": "#000000"
          },
          "showarrow": false,
          "text": "6",
          "x": 4,
          "xref": "x1",
          "y": "Yoann_2015",
          "yref": "y1"
         },
         {
          "font": {
           "color": "#000000"
          },
          "showarrow": false,
          "text": "10",
          "x": 5,
          "xref": "x1",
          "y": "Yoann_2015",
          "yref": "y1"
         },
         {
          "font": {
           "color": "#000000"
          },
          "showarrow": false,
          "text": "0",
          "x": 6,
          "xref": "x1",
          "y": "Yoann_2015",
          "yref": "y1"
         },
         {
          "font": {
           "color": "#000000"
          },
          "showarrow": false,
          "text": "4",
          "x": 7,
          "xref": "x1",
          "y": "Yoann_2015",
          "yref": "y1"
         },
         {
          "font": {
           "color": "#000000"
          },
          "showarrow": false,
          "text": "1",
          "x": 8,
          "xref": "x1",
          "y": "Yoann_2015",
          "yref": "y1"
         },
         {
          "font": {
           "color": "#000000"
          },
          "showarrow": false,
          "text": "2",
          "x": 9,
          "xref": "x1",
          "y": "Yoann_2015",
          "yref": "y1"
         },
         {
          "font": {
           "color": "#000000"
          },
          "showarrow": false,
          "text": "3",
          "x": 10,
          "xref": "x1",
          "y": "Yoann_2015",
          "yref": "y1"
         },
         {
          "font": {
           "color": "#000000"
          },
          "showarrow": false,
          "text": "6",
          "x": 11,
          "xref": "x1",
          "y": "Yoann_2015",
          "yref": "y1"
         },
         {
          "font": {
           "color": "#000000"
          },
          "showarrow": false,
          "text": "0",
          "x": 12,
          "xref": "x1",
          "y": "Yoann_2015",
          "yref": "y1"
         },
         {
          "font": {
           "color": "#000000"
          },
          "showarrow": false,
          "text": "5",
          "x": 13,
          "xref": "x1",
          "y": "Yoann_2015",
          "yref": "y1"
         },
         {
          "font": {
           "color": "#000000"
          },
          "showarrow": false,
          "text": "14",
          "x": 14,
          "xref": "x1",
          "y": "Yoann_2015",
          "yref": "y1"
         },
         {
          "font": {
           "color": "#000000"
          },
          "showarrow": false,
          "text": "0",
          "x": 15,
          "xref": "x1",
          "y": "Yoann_2015",
          "yref": "y1"
         },
         {
          "font": {
           "color": "#000000"
          },
          "showarrow": false,
          "text": "4",
          "x": 0,
          "xref": "x1",
          "y": "Landry2013",
          "yref": "y1"
         },
         {
          "font": {
           "color": "#000000"
          },
          "showarrow": false,
          "text": "12",
          "x": 1,
          "xref": "x1",
          "y": "Landry2013",
          "yref": "y1"
         },
         {
          "font": {
           "color": "#000000"
          },
          "showarrow": false,
          "text": "21",
          "x": 2,
          "xref": "x1",
          "y": "Landry2013",
          "yref": "y1"
         },
         {
          "font": {
           "color": "#000000"
          },
          "showarrow": false,
          "text": "8",
          "x": 3,
          "xref": "x1",
          "y": "Landry2013",
          "yref": "y1"
         },
         {
          "font": {
           "color": "#000000"
          },
          "showarrow": false,
          "text": "7",
          "x": 4,
          "xref": "x1",
          "y": "Landry2013",
          "yref": "y1"
         },
         {
          "font": {
           "color": "#000000"
          },
          "showarrow": false,
          "text": "9",
          "x": 5,
          "xref": "x1",
          "y": "Landry2013",
          "yref": "y1"
         },
         {
          "font": {
           "color": "#000000"
          },
          "showarrow": false,
          "text": "6",
          "x": 6,
          "xref": "x1",
          "y": "Landry2013",
          "yref": "y1"
         },
         {
          "font": {
           "color": "#000000"
          },
          "showarrow": false,
          "text": "9",
          "x": 7,
          "xref": "x1",
          "y": "Landry2013",
          "yref": "y1"
         },
         {
          "font": {
           "color": "#000000"
          },
          "showarrow": false,
          "text": "0",
          "x": 8,
          "xref": "x1",
          "y": "Landry2013",
          "yref": "y1"
         },
         {
          "font": {
           "color": "#000000"
          },
          "showarrow": false,
          "text": "0",
          "x": 9,
          "xref": "x1",
          "y": "Landry2013",
          "yref": "y1"
         },
         {
          "font": {
           "color": "#000000"
          },
          "showarrow": false,
          "text": "0",
          "x": 10,
          "xref": "x1",
          "y": "Landry2013",
          "yref": "y1"
         },
         {
          "font": {
           "color": "#000000"
          },
          "showarrow": false,
          "text": "0",
          "x": 11,
          "xref": "x1",
          "y": "Landry2013",
          "yref": "y1"
         },
         {
          "font": {
           "color": "#000000"
          },
          "showarrow": false,
          "text": "0",
          "x": 12,
          "xref": "x1",
          "y": "Landry2013",
          "yref": "y1"
         },
         {
          "font": {
           "color": "#000000"
          },
          "showarrow": false,
          "text": "0",
          "x": 13,
          "xref": "x1",
          "y": "Landry2013",
          "yref": "y1"
         },
         {
          "font": {
           "color": "#000000"
          },
          "showarrow": false,
          "text": "19",
          "x": 14,
          "xref": "x1",
          "y": "Landry2013",
          "yref": "y1"
         },
         {
          "font": {
           "color": "#000000"
          },
          "showarrow": false,
          "text": "0",
          "x": 15,
          "xref": "x1",
          "y": "Landry2013",
          "yref": "y1"
         },
         {
          "font": {
           "color": "#000000"
          },
          "showarrow": false,
          "text": "6",
          "x": 0,
          "xref": "x1",
          "y": "Landry2012",
          "yref": "y1"
         },
         {
          "font": {
           "color": "#000000"
          },
          "showarrow": false,
          "text": "16",
          "x": 1,
          "xref": "x1",
          "y": "Landry2012",
          "yref": "y1"
         },
         {
          "font": {
           "color": "#000000"
          },
          "showarrow": false,
          "text": "12",
          "x": 2,
          "xref": "x1",
          "y": "Landry2012",
          "yref": "y1"
         },
         {
          "font": {
           "color": "#000000"
          },
          "showarrow": false,
          "text": "16",
          "x": 3,
          "xref": "x1",
          "y": "Landry2012",
          "yref": "y1"
         },
         {
          "font": {
           "color": "#000000"
          },
          "showarrow": false,
          "text": "8",
          "x": 4,
          "xref": "x1",
          "y": "Landry2012",
          "yref": "y1"
         },
         {
          "font": {
           "color": "#000000"
          },
          "showarrow": false,
          "text": "21",
          "x": 5,
          "xref": "x1",
          "y": "Landry2012",
          "yref": "y1"
         },
         {
          "font": {
           "color": "#000000"
          },
          "showarrow": false,
          "text": "4",
          "x": 6,
          "xref": "x1",
          "y": "Landry2012",
          "yref": "y1"
         },
         {
          "font": {
           "color": "#000000"
          },
          "showarrow": false,
          "text": "12",
          "x": 7,
          "xref": "x1",
          "y": "Landry2012",
          "yref": "y1"
         },
         {
          "font": {
           "color": "#000000"
          },
          "showarrow": false,
          "text": "0",
          "x": 8,
          "xref": "x1",
          "y": "Landry2012",
          "yref": "y1"
         },
         {
          "font": {
           "color": "#000000"
          },
          "showarrow": false,
          "text": "0",
          "x": 9,
          "xref": "x1",
          "y": "Landry2012",
          "yref": "y1"
         },
         {
          "font": {
           "color": "#000000"
          },
          "showarrow": false,
          "text": "0",
          "x": 10,
          "xref": "x1",
          "y": "Landry2012",
          "yref": "y1"
         },
         {
          "font": {
           "color": "#000000"
          },
          "showarrow": false,
          "text": "0",
          "x": 11,
          "xref": "x1",
          "y": "Landry2012",
          "yref": "y1"
         },
         {
          "font": {
           "color": "#000000"
          },
          "showarrow": false,
          "text": "0",
          "x": 12,
          "xref": "x1",
          "y": "Landry2012",
          "yref": "y1"
         },
         {
          "font": {
           "color": "#000000"
          },
          "showarrow": false,
          "text": "0",
          "x": 13,
          "xref": "x1",
          "y": "Landry2012",
          "yref": "y1"
         },
         {
          "font": {
           "color": "#000000"
          },
          "showarrow": false,
          "text": "0",
          "x": 14,
          "xref": "x1",
          "y": "Landry2012",
          "yref": "y1"
         },
         {
          "font": {
           "color": "#000000"
          },
          "showarrow": false,
          "text": "0",
          "x": 15,
          "xref": "x1",
          "y": "Landry2012",
          "yref": "y1"
         },
         {
          "font": {
           "color": "#000000"
          },
          "showarrow": false,
          "text": "8",
          "x": 0,
          "xref": "x1",
          "y": "Tennis",
          "yref": "y1"
         },
         {
          "font": {
           "color": "#000000"
          },
          "showarrow": false,
          "text": "0",
          "x": 1,
          "xref": "x1",
          "y": "Tennis",
          "yref": "y1"
         },
         {
          "font": {
           "color": "#000000"
          },
          "showarrow": false,
          "text": "17",
          "x": 2,
          "xref": "x1",
          "y": "Tennis",
          "yref": "y1"
         },
         {
          "font": {
           "color": "#000000"
          },
          "showarrow": false,
          "text": "18",
          "x": 3,
          "xref": "x1",
          "y": "Tennis",
          "yref": "y1"
         },
         {
          "font": {
           "color": "#000000"
          },
          "showarrow": false,
          "text": "5",
          "x": 4,
          "xref": "x1",
          "y": "Tennis",
          "yref": "y1"
         },
         {
          "font": {
           "color": "#000000"
          },
          "showarrow": false,
          "text": "10",
          "x": 5,
          "xref": "x1",
          "y": "Tennis",
          "yref": "y1"
         },
         {
          "font": {
           "color": "#000000"
          },
          "showarrow": false,
          "text": "6",
          "x": 6,
          "xref": "x1",
          "y": "Tennis",
          "yref": "y1"
         },
         {
          "font": {
           "color": "#000000"
          },
          "showarrow": false,
          "text": "0",
          "x": 7,
          "xref": "x1",
          "y": "Tennis",
          "yref": "y1"
         },
         {
          "font": {
           "color": "#000000"
          },
          "showarrow": false,
          "text": "3",
          "x": 8,
          "xref": "x1",
          "y": "Tennis",
          "yref": "y1"
         },
         {
          "font": {
           "color": "#000000"
          },
          "showarrow": false,
          "text": "3",
          "x": 9,
          "xref": "x1",
          "y": "Tennis",
          "yref": "y1"
         },
         {
          "font": {
           "color": "#000000"
          },
          "showarrow": false,
          "text": "8",
          "x": 10,
          "xref": "x1",
          "y": "Tennis",
          "yref": "y1"
         },
         {
          "font": {
           "color": "#000000"
          },
          "showarrow": false,
          "text": "0",
          "x": 11,
          "xref": "x1",
          "y": "Tennis",
          "yref": "y1"
         },
         {
          "font": {
           "color": "#000000"
          },
          "showarrow": false,
          "text": "0",
          "x": 12,
          "xref": "x1",
          "y": "Tennis",
          "yref": "y1"
         },
         {
          "font": {
           "color": "#000000"
          },
          "showarrow": false,
          "text": "10",
          "x": 13,
          "xref": "x1",
          "y": "Tennis",
          "yref": "y1"
         },
         {
          "font": {
           "color": "#000000"
          },
          "showarrow": false,
          "text": "0",
          "x": 14,
          "xref": "x1",
          "y": "Tennis",
          "yref": "y1"
         },
         {
          "font": {
           "color": "#000000"
          },
          "showarrow": false,
          "text": "8",
          "x": 15,
          "xref": "x1",
          "y": "Tennis",
          "yref": "y1"
         },
         {
          "font": {
           "color": "#000000"
          },
          "showarrow": false,
          "text": "7",
          "x": 0,
          "xref": "x1",
          "y": "Patrick_2013",
          "yref": "y1"
         },
         {
          "font": {
           "color": "#000000"
          },
          "showarrow": false,
          "text": "10",
          "x": 1,
          "xref": "x1",
          "y": "Patrick_2013",
          "yref": "y1"
         },
         {
          "font": {
           "color": "#000000"
          },
          "showarrow": false,
          "text": "18",
          "x": 2,
          "xref": "x1",
          "y": "Patrick_2013",
          "yref": "y1"
         },
         {
          "font": {
           "color": "#000000"
          },
          "showarrow": false,
          "text": "5",
          "x": 3,
          "xref": "x1",
          "y": "Patrick_2013",
          "yref": "y1"
         },
         {
          "font": {
           "color": "#000000"
          },
          "showarrow": false,
          "text": "9",
          "x": 4,
          "xref": "x1",
          "y": "Patrick_2013",
          "yref": "y1"
         },
         {
          "font": {
           "color": "#000000"
          },
          "showarrow": false,
          "text": "6",
          "x": 5,
          "xref": "x1",
          "y": "Patrick_2013",
          "yref": "y1"
         },
         {
          "font": {
           "color": "#000000"
          },
          "showarrow": false,
          "text": "5",
          "x": 6,
          "xref": "x1",
          "y": "Patrick_2013",
          "yref": "y1"
         },
         {
          "font": {
           "color": "#000000"
          },
          "showarrow": false,
          "text": "6",
          "x": 7,
          "xref": "x1",
          "y": "Patrick_2013",
          "yref": "y1"
         },
         {
          "font": {
           "color": "#000000"
          },
          "showarrow": false,
          "text": "2",
          "x": 8,
          "xref": "x1",
          "y": "Patrick_2013",
          "yref": "y1"
         },
         {
          "font": {
           "color": "#000000"
          },
          "showarrow": false,
          "text": "1",
          "x": 9,
          "xref": "x1",
          "y": "Patrick_2013",
          "yref": "y1"
         },
         {
          "font": {
           "color": "#000000"
          },
          "showarrow": false,
          "text": "5",
          "x": 10,
          "xref": "x1",
          "y": "Patrick_2013",
          "yref": "y1"
         },
         {
          "font": {
           "color": "#000000"
          },
          "showarrow": false,
          "text": "4",
          "x": 11,
          "xref": "x1",
          "y": "Patrick_2013",
          "yref": "y1"
         },
         {
          "font": {
           "color": "#000000"
          },
          "showarrow": false,
          "text": "1",
          "x": 12,
          "xref": "x1",
          "y": "Patrick_2013",
          "yref": "y1"
         },
         {
          "font": {
           "color": "#000000"
          },
          "showarrow": false,
          "text": "5",
          "x": 13,
          "xref": "x1",
          "y": "Patrick_2013",
          "yref": "y1"
         },
         {
          "font": {
           "color": "#000000"
          },
          "showarrow": false,
          "text": "9",
          "x": 14,
          "xref": "x1",
          "y": "Patrick_2013",
          "yref": "y1"
         },
         {
          "font": {
           "color": "#000000"
          },
          "showarrow": false,
          "text": "0",
          "x": 15,
          "xref": "x1",
          "y": "Patrick_2013",
          "yref": "y1"
         },
         {
          "font": {
           "color": "#000000"
          },
          "showarrow": false,
          "text": "12",
          "x": 0,
          "xref": "x1",
          "y": "Sylvain_2015",
          "yref": "y1"
         },
         {
          "font": {
           "color": "#000000"
          },
          "showarrow": false,
          "text": "10",
          "x": 1,
          "xref": "x1",
          "y": "Sylvain_2015",
          "yref": "y1"
         },
         {
          "font": {
           "color": "#000000"
          },
          "showarrow": false,
          "text": "14",
          "x": 2,
          "xref": "x1",
          "y": "Sylvain_2015",
          "yref": "y1"
         },
         {
          "font": {
           "color": "#000000"
          },
          "showarrow": false,
          "text": "6",
          "x": 3,
          "xref": "x1",
          "y": "Sylvain_2015",
          "yref": "y1"
         },
         {
          "font": {
           "color": "#000000"
          },
          "showarrow": false,
          "text": "1",
          "x": 4,
          "xref": "x1",
          "y": "Sylvain_2015",
          "yref": "y1"
         },
         {
          "font": {
           "color": "#000000"
          },
          "showarrow": false,
          "text": "12",
          "x": 5,
          "xref": "x1",
          "y": "Sylvain_2015",
          "yref": "y1"
         },
         {
          "font": {
           "color": "#000000"
          },
          "showarrow": false,
          "text": "2",
          "x": 6,
          "xref": "x1",
          "y": "Sylvain_2015",
          "yref": "y1"
         },
         {
          "font": {
           "color": "#000000"
          },
          "showarrow": false,
          "text": "6",
          "x": 7,
          "xref": "x1",
          "y": "Sylvain_2015",
          "yref": "y1"
         },
         {
          "font": {
           "color": "#000000"
          },
          "showarrow": false,
          "text": "3",
          "x": 8,
          "xref": "x1",
          "y": "Sylvain_2015",
          "yref": "y1"
         },
         {
          "font": {
           "color": "#000000"
          },
          "showarrow": false,
          "text": "3",
          "x": 9,
          "xref": "x1",
          "y": "Sylvain_2015",
          "yref": "y1"
         },
         {
          "font": {
           "color": "#000000"
          },
          "showarrow": false,
          "text": "8",
          "x": 10,
          "xref": "x1",
          "y": "Sylvain_2015",
          "yref": "y1"
         },
         {
          "font": {
           "color": "#000000"
          },
          "showarrow": false,
          "text": "9",
          "x": 11,
          "xref": "x1",
          "y": "Sylvain_2015",
          "yref": "y1"
         },
         {
          "font": {
           "color": "#000000"
          },
          "showarrow": false,
          "text": "2",
          "x": 12,
          "xref": "x1",
          "y": "Sylvain_2015",
          "yref": "y1"
         },
         {
          "font": {
           "color": "#000000"
          },
          "showarrow": false,
          "text": "2",
          "x": 13,
          "xref": "x1",
          "y": "Sylvain_2015",
          "yref": "y1"
         },
         {
          "font": {
           "color": "#000000"
          },
          "showarrow": false,
          "text": "6",
          "x": 14,
          "xref": "x1",
          "y": "Sylvain_2015",
          "yref": "y1"
         },
         {
          "font": {
           "color": "#000000"
          },
          "showarrow": false,
          "text": "0",
          "x": 15,
          "xref": "x1",
          "y": "Sylvain_2015",
          "yref": "y1"
         }
        ],
        "font": {
         "size": 14
        },
        "hovermode": "closest",
        "margin": {
         "b": 80,
         "l": 150,
         "pad": 0,
         "r": 80,
         "t": 80
        },
        "title": "Max for each test (normalized by participant number)",
        "xaxis": {
         "dtick": 1,
         "gridcolor": "rgb(0, 0, 0)",
         "side": "bottom",
         "ticks": "",
         "title": "Tests"
        },
        "yaxis": {
         "autorange": "reversed",
         "dtick": 1,
         "ticks": "",
         "ticksuffix": "  ",
         "title": null
        }
       }
      },
      "text/html": [
       "<div id=\"7cfc4696-4476-4524-ab60-88a23ba8a83f\" style=\"height: 525px; width: 100%;\" class=\"plotly-graph-div\"></div><script type=\"text/javascript\">require([\"plotly\"], function(Plotly) { window.PLOTLYENV=window.PLOTLYENV || {};window.PLOTLYENV.BASE_URL=\"https://plot.ly\";Plotly.newPlot(\"7cfc4696-4476-4524-ab60-88a23ba8a83f\", [{\"type\": \"heatmap\", \"z\": [[11, 0, 23, 6, 14, 11, 0, 5, 4, 2, 5, 0, 0, 5, 0, 9], [17, 0, 19, 11, 22, 17, 0, 0, 0, 0, 0, 0, 0, 0, 12, 0], [20, 0, 24, 12, 9, 13, 0, 0, 3, 5, 6, 0, 0, 0, 3, 0], [0, 0, 28, 6, 8, 28, 0, 0, 5, 8, 13, 0, 0, 0, 0, 0], [4, 13, 23, 1, 6, 10, 0, 4, 1, 2, 3, 6, 0, 5, 14, 0], [4, 12, 21, 8, 7, 9, 6, 9, 0, 0, 0, 0, 0, 0, 19, 0], [6, 16, 12, 16, 8, 21, 4, 12, 0, 0, 0, 0, 0, 0, 0, 0], [8, 0, 17, 18, 5, 10, 6, 0, 3, 3, 8, 0, 0, 10, 0, 8], [7, 10, 18, 5, 9, 6, 5, 6, 2, 1, 5, 4, 1, 5, 9, 0], [12, 10, 14, 6, 1, 12, 2, 6, 3, 3, 8, 9, 2, 2, 6, 0]], \"x\": null, \"y\": [\"Landry2016\", \"Landry2015_2\", \"Landry2015_1\", \"Violon\", \"Yoann_2015\", \"Landry2013\", \"Landry2012\", \"Tennis\", \"Patrick_2013\", \"Sylvain_2015\"], \"colorscale\": \"YlGnBu\", \"showscale\": true, \"colorbar\": {\"title\": \"Percentage\", \"titleside\": \"right\"}}], {\"annotations\": [{\"text\": \"11\", \"x\": 0, \"y\": \"Landry2016\", \"xref\": \"x1\", \"yref\": \"y1\", \"font\": {\"color\": \"#000000\"}, \"showarrow\": false}, {\"text\": \"0\", \"x\": 1, \"y\": \"Landry2016\", \"xref\": \"x1\", \"yref\": \"y1\", \"font\": {\"color\": \"#000000\"}, \"showarrow\": false}, {\"text\": \"23\", \"x\": 2, \"y\": \"Landry2016\", \"xref\": \"x1\", \"yref\": \"y1\", \"font\": {\"color\": \"#000000\"}, \"showarrow\": false}, {\"text\": \"6\", \"x\": 3, \"y\": \"Landry2016\", \"xref\": \"x1\", \"yref\": \"y1\", \"font\": {\"color\": \"#000000\"}, \"showarrow\": false}, {\"text\": \"14\", \"x\": 4, \"y\": \"Landry2016\", \"xref\": \"x1\", \"yref\": \"y1\", \"font\": {\"color\": \"#000000\"}, \"showarrow\": false}, {\"text\": \"11\", \"x\": 5, \"y\": \"Landry2016\", \"xref\": \"x1\", \"yref\": \"y1\", \"font\": {\"color\": \"#000000\"}, \"showarrow\": false}, {\"text\": \"0\", \"x\": 6, \"y\": \"Landry2016\", \"xref\": \"x1\", \"yref\": \"y1\", \"font\": {\"color\": \"#000000\"}, \"showarrow\": false}, {\"text\": \"5\", \"x\": 7, \"y\": \"Landry2016\", \"xref\": \"x1\", \"yref\": \"y1\", \"font\": {\"color\": \"#000000\"}, \"showarrow\": false}, {\"text\": \"4\", \"x\": 8, \"y\": \"Landry2016\", \"xref\": \"x1\", \"yref\": \"y1\", \"font\": {\"color\": \"#000000\"}, \"showarrow\": false}, {\"text\": \"2\", \"x\": 9, \"y\": \"Landry2016\", \"xref\": \"x1\", \"yref\": \"y1\", \"font\": {\"color\": \"#000000\"}, \"showarrow\": false}, {\"text\": \"5\", \"x\": 10, \"y\": \"Landry2016\", \"xref\": \"x1\", \"yref\": \"y1\", \"font\": {\"color\": \"#000000\"}, \"showarrow\": false}, {\"text\": \"0\", \"x\": 11, \"y\": \"Landry2016\", \"xref\": \"x1\", \"yref\": \"y1\", \"font\": {\"color\": \"#000000\"}, \"showarrow\": false}, {\"text\": \"0\", \"x\": 12, \"y\": \"Landry2016\", \"xref\": \"x1\", \"yref\": \"y1\", \"font\": {\"color\": \"#000000\"}, \"showarrow\": false}, {\"text\": \"5\", \"x\": 13, \"y\": \"Landry2016\", \"xref\": \"x1\", \"yref\": \"y1\", \"font\": {\"color\": \"#000000\"}, \"showarrow\": false}, {\"text\": \"0\", \"x\": 14, \"y\": \"Landry2016\", \"xref\": \"x1\", \"yref\": \"y1\", \"font\": {\"color\": \"#000000\"}, \"showarrow\": false}, {\"text\": \"9\", \"x\": 15, \"y\": \"Landry2016\", \"xref\": \"x1\", \"yref\": \"y1\", \"font\": {\"color\": \"#000000\"}, \"showarrow\": false}, {\"text\": \"17\", \"x\": 0, \"y\": \"Landry2015_2\", \"xref\": \"x1\", \"yref\": \"y1\", \"font\": {\"color\": \"#000000\"}, \"showarrow\": false}, {\"text\": \"0\", \"x\": 1, \"y\": \"Landry2015_2\", \"xref\": \"x1\", \"yref\": \"y1\", \"font\": {\"color\": \"#000000\"}, \"showarrow\": false}, {\"text\": \"19\", \"x\": 2, \"y\": \"Landry2015_2\", \"xref\": \"x1\", \"yref\": \"y1\", \"font\": {\"color\": \"#000000\"}, \"showarrow\": false}, {\"text\": \"11\", \"x\": 3, \"y\": \"Landry2015_2\", \"xref\": \"x1\", \"yref\": \"y1\", \"font\": {\"color\": \"#000000\"}, \"showarrow\": false}, {\"text\": \"22\", \"x\": 4, \"y\": \"Landry2015_2\", \"xref\": \"x1\", \"yref\": \"y1\", \"font\": {\"color\": \"#000000\"}, \"showarrow\": false}, {\"text\": \"17\", \"x\": 5, \"y\": \"Landry2015_2\", \"xref\": \"x1\", \"yref\": \"y1\", \"font\": {\"color\": \"#000000\"}, \"showarrow\": false}, {\"text\": \"0\", \"x\": 6, \"y\": \"Landry2015_2\", \"xref\": \"x1\", \"yref\": \"y1\", \"font\": {\"color\": \"#000000\"}, \"showarrow\": false}, {\"text\": \"0\", \"x\": 7, \"y\": \"Landry2015_2\", \"xref\": \"x1\", \"yref\": \"y1\", \"font\": {\"color\": \"#000000\"}, \"showarrow\": false}, {\"text\": \"0\", \"x\": 8, \"y\": \"Landry2015_2\", \"xref\": \"x1\", \"yref\": \"y1\", \"font\": {\"color\": \"#000000\"}, \"showarrow\": false}, {\"text\": \"0\", \"x\": 9, \"y\": \"Landry2015_2\", \"xref\": \"x1\", \"yref\": \"y1\", \"font\": {\"color\": \"#000000\"}, \"showarrow\": false}, {\"text\": \"0\", \"x\": 10, \"y\": \"Landry2015_2\", \"xref\": \"x1\", \"yref\": \"y1\", \"font\": {\"color\": \"#000000\"}, \"showarrow\": false}, {\"text\": \"0\", \"x\": 11, \"y\": \"Landry2015_2\", \"xref\": \"x1\", \"yref\": \"y1\", \"font\": {\"color\": \"#000000\"}, \"showarrow\": false}, {\"text\": \"0\", \"x\": 12, \"y\": \"Landry2015_2\", \"xref\": \"x1\", \"yref\": \"y1\", \"font\": {\"color\": \"#000000\"}, \"showarrow\": false}, {\"text\": \"0\", \"x\": 13, \"y\": \"Landry2015_2\", \"xref\": \"x1\", \"yref\": \"y1\", \"font\": {\"color\": \"#000000\"}, \"showarrow\": false}, {\"text\": \"12\", \"x\": 14, \"y\": \"Landry2015_2\", \"xref\": \"x1\", \"yref\": \"y1\", \"font\": {\"color\": \"#000000\"}, \"showarrow\": false}, {\"text\": \"0\", \"x\": 15, \"y\": \"Landry2015_2\", \"xref\": \"x1\", \"yref\": \"y1\", \"font\": {\"color\": \"#000000\"}, \"showarrow\": false}, {\"text\": \"20\", \"x\": 0, \"y\": \"Landry2015_1\", \"xref\": \"x1\", \"yref\": \"y1\", \"font\": {\"color\": \"#000000\"}, \"showarrow\": false}, {\"text\": \"0\", \"x\": 1, \"y\": \"Landry2015_1\", \"xref\": \"x1\", \"yref\": \"y1\", \"font\": {\"color\": \"#000000\"}, \"showarrow\": false}, {\"text\": \"24\", \"x\": 2, \"y\": \"Landry2015_1\", \"xref\": \"x1\", \"yref\": \"y1\", \"font\": {\"color\": \"#000000\"}, \"showarrow\": false}, {\"text\": \"12\", \"x\": 3, \"y\": \"Landry2015_1\", \"xref\": \"x1\", \"yref\": \"y1\", \"font\": {\"color\": \"#000000\"}, \"showarrow\": false}, {\"text\": \"9\", \"x\": 4, \"y\": \"Landry2015_1\", \"xref\": \"x1\", \"yref\": \"y1\", \"font\": {\"color\": \"#000000\"}, \"showarrow\": false}, {\"text\": \"13\", \"x\": 5, \"y\": \"Landry2015_1\", \"xref\": \"x1\", \"yref\": \"y1\", \"font\": {\"color\": \"#000000\"}, \"showarrow\": false}, {\"text\": \"0\", \"x\": 6, \"y\": \"Landry2015_1\", \"xref\": \"x1\", \"yref\": \"y1\", \"font\": {\"color\": \"#000000\"}, \"showarrow\": false}, {\"text\": \"0\", \"x\": 7, \"y\": \"Landry2015_1\", \"xref\": \"x1\", \"yref\": \"y1\", \"font\": {\"color\": \"#000000\"}, \"showarrow\": false}, {\"text\": \"3\", \"x\": 8, \"y\": \"Landry2015_1\", \"xref\": \"x1\", \"yref\": \"y1\", \"font\": {\"color\": \"#000000\"}, \"showarrow\": false}, {\"text\": \"5\", \"x\": 9, \"y\": \"Landry2015_1\", \"xref\": \"x1\", \"yref\": \"y1\", \"font\": {\"color\": \"#000000\"}, \"showarrow\": false}, {\"text\": \"6\", \"x\": 10, \"y\": \"Landry2015_1\", \"xref\": \"x1\", \"yref\": \"y1\", \"font\": {\"color\": \"#000000\"}, \"showarrow\": false}, {\"text\": \"0\", \"x\": 11, \"y\": \"Landry2015_1\", \"xref\": \"x1\", \"yref\": \"y1\", \"font\": {\"color\": \"#000000\"}, \"showarrow\": false}, {\"text\": \"0\", \"x\": 12, \"y\": \"Landry2015_1\", \"xref\": \"x1\", \"yref\": \"y1\", \"font\": {\"color\": \"#000000\"}, \"showarrow\": false}, {\"text\": \"0\", \"x\": 13, \"y\": \"Landry2015_1\", \"xref\": \"x1\", \"yref\": \"y1\", \"font\": {\"color\": \"#000000\"}, \"showarrow\": false}, {\"text\": \"3\", \"x\": 14, \"y\": \"Landry2015_1\", \"xref\": \"x1\", \"yref\": \"y1\", \"font\": {\"color\": \"#000000\"}, \"showarrow\": false}, {\"text\": \"0\", \"x\": 15, \"y\": \"Landry2015_1\", \"xref\": \"x1\", \"yref\": \"y1\", \"font\": {\"color\": \"#000000\"}, \"showarrow\": false}, {\"text\": \"0\", \"x\": 0, \"y\": \"Violon\", \"xref\": \"x1\", \"yref\": \"y1\", \"font\": {\"color\": \"#000000\"}, \"showarrow\": false}, {\"text\": \"0\", \"x\": 1, \"y\": \"Violon\", \"xref\": \"x1\", \"yref\": \"y1\", \"font\": {\"color\": \"#000000\"}, \"showarrow\": false}, {\"text\": \"28\", \"x\": 2, \"y\": \"Violon\", \"xref\": \"x1\", \"yref\": \"y1\", \"font\": {\"color\": \"#000000\"}, \"showarrow\": false}, {\"text\": \"6\", \"x\": 3, \"y\": \"Violon\", \"xref\": \"x1\", \"yref\": \"y1\", \"font\": {\"color\": \"#000000\"}, \"showarrow\": false}, {\"text\": \"8\", \"x\": 4, \"y\": \"Violon\", \"xref\": \"x1\", \"yref\": \"y1\", \"font\": {\"color\": \"#000000\"}, \"showarrow\": false}, {\"text\": \"28\", \"x\": 5, \"y\": \"Violon\", \"xref\": \"x1\", \"yref\": \"y1\", \"font\": {\"color\": \"#000000\"}, \"showarrow\": false}, {\"text\": \"0\", \"x\": 6, \"y\": \"Violon\", \"xref\": \"x1\", \"yref\": \"y1\", \"font\": {\"color\": \"#000000\"}, \"showarrow\": false}, {\"text\": \"0\", \"x\": 7, \"y\": \"Violon\", \"xref\": \"x1\", \"yref\": \"y1\", \"font\": {\"color\": \"#000000\"}, \"showarrow\": false}, {\"text\": \"5\", \"x\": 8, \"y\": \"Violon\", \"xref\": \"x1\", \"yref\": \"y1\", \"font\": {\"color\": \"#000000\"}, \"showarrow\": false}, {\"text\": \"8\", \"x\": 9, \"y\": \"Violon\", \"xref\": \"x1\", \"yref\": \"y1\", \"font\": {\"color\": \"#000000\"}, \"showarrow\": false}, {\"text\": \"13\", \"x\": 10, \"y\": \"Violon\", \"xref\": \"x1\", \"yref\": \"y1\", \"font\": {\"color\": \"#000000\"}, \"showarrow\": false}, {\"text\": \"0\", \"x\": 11, \"y\": \"Violon\", \"xref\": \"x1\", \"yref\": \"y1\", \"font\": {\"color\": \"#000000\"}, \"showarrow\": false}, {\"text\": \"0\", \"x\": 12, \"y\": \"Violon\", \"xref\": \"x1\", \"yref\": \"y1\", \"font\": {\"color\": \"#000000\"}, \"showarrow\": false}, {\"text\": \"0\", \"x\": 13, \"y\": \"Violon\", \"xref\": \"x1\", \"yref\": \"y1\", \"font\": {\"color\": \"#000000\"}, \"showarrow\": false}, {\"text\": \"0\", \"x\": 14, \"y\": \"Violon\", \"xref\": \"x1\", \"yref\": \"y1\", \"font\": {\"color\": \"#000000\"}, \"showarrow\": false}, {\"text\": \"0\", \"x\": 15, \"y\": \"Violon\", \"xref\": \"x1\", \"yref\": \"y1\", \"font\": {\"color\": \"#000000\"}, \"showarrow\": false}, {\"text\": \"4\", \"x\": 0, \"y\": \"Yoann_2015\", \"xref\": \"x1\", \"yref\": \"y1\", \"font\": {\"color\": \"#000000\"}, \"showarrow\": false}, {\"text\": \"13\", \"x\": 1, \"y\": \"Yoann_2015\", \"xref\": \"x1\", \"yref\": \"y1\", \"font\": {\"color\": \"#000000\"}, \"showarrow\": false}, {\"text\": \"23\", \"x\": 2, \"y\": \"Yoann_2015\", \"xref\": \"x1\", \"yref\": \"y1\", \"font\": {\"color\": \"#000000\"}, \"showarrow\": false}, {\"text\": \"1\", \"x\": 3, \"y\": \"Yoann_2015\", \"xref\": \"x1\", \"yref\": \"y1\", \"font\": {\"color\": \"#000000\"}, \"showarrow\": false}, {\"text\": \"6\", \"x\": 4, \"y\": \"Yoann_2015\", \"xref\": \"x1\", \"yref\": \"y1\", \"font\": {\"color\": \"#000000\"}, \"showarrow\": false}, {\"text\": \"10\", \"x\": 5, \"y\": \"Yoann_2015\", \"xref\": \"x1\", \"yref\": \"y1\", \"font\": {\"color\": \"#000000\"}, \"showarrow\": false}, {\"text\": \"0\", \"x\": 6, \"y\": \"Yoann_2015\", \"xref\": \"x1\", \"yref\": \"y1\", \"font\": {\"color\": \"#000000\"}, \"showarrow\": false}, {\"text\": \"4\", \"x\": 7, \"y\": \"Yoann_2015\", \"xref\": \"x1\", \"yref\": \"y1\", \"font\": {\"color\": \"#000000\"}, \"showarrow\": false}, {\"text\": \"1\", \"x\": 8, \"y\": \"Yoann_2015\", \"xref\": \"x1\", \"yref\": \"y1\", \"font\": {\"color\": \"#000000\"}, \"showarrow\": false}, {\"text\": \"2\", \"x\": 9, \"y\": \"Yoann_2015\", \"xref\": \"x1\", \"yref\": \"y1\", \"font\": {\"color\": \"#000000\"}, \"showarrow\": false}, {\"text\": \"3\", \"x\": 10, \"y\": \"Yoann_2015\", \"xref\": \"x1\", \"yref\": \"y1\", \"font\": {\"color\": \"#000000\"}, \"showarrow\": false}, {\"text\": \"6\", \"x\": 11, \"y\": \"Yoann_2015\", \"xref\": \"x1\", \"yref\": \"y1\", \"font\": {\"color\": \"#000000\"}, \"showarrow\": false}, {\"text\": \"0\", \"x\": 12, \"y\": \"Yoann_2015\", \"xref\": \"x1\", \"yref\": \"y1\", \"font\": {\"color\": \"#000000\"}, \"showarrow\": false}, {\"text\": \"5\", \"x\": 13, \"y\": \"Yoann_2015\", \"xref\": \"x1\", \"yref\": \"y1\", \"font\": {\"color\": \"#000000\"}, \"showarrow\": false}, {\"text\": \"14\", \"x\": 14, \"y\": \"Yoann_2015\", \"xref\": \"x1\", \"yref\": \"y1\", \"font\": {\"color\": \"#000000\"}, \"showarrow\": false}, {\"text\": \"0\", \"x\": 15, \"y\": \"Yoann_2015\", \"xref\": \"x1\", \"yref\": \"y1\", \"font\": {\"color\": \"#000000\"}, \"showarrow\": false}, {\"text\": \"4\", \"x\": 0, \"y\": \"Landry2013\", \"xref\": \"x1\", \"yref\": \"y1\", \"font\": {\"color\": \"#000000\"}, \"showarrow\": false}, {\"text\": \"12\", \"x\": 1, \"y\": \"Landry2013\", \"xref\": \"x1\", \"yref\": \"y1\", \"font\": {\"color\": \"#000000\"}, \"showarrow\": false}, {\"text\": \"21\", \"x\": 2, \"y\": \"Landry2013\", \"xref\": \"x1\", \"yref\": \"y1\", \"font\": {\"color\": \"#000000\"}, \"showarrow\": false}, {\"text\": \"8\", \"x\": 3, \"y\": \"Landry2013\", \"xref\": \"x1\", \"yref\": \"y1\", \"font\": {\"color\": \"#000000\"}, \"showarrow\": false}, {\"text\": \"7\", \"x\": 4, \"y\": \"Landry2013\", \"xref\": \"x1\", \"yref\": \"y1\", \"font\": {\"color\": \"#000000\"}, \"showarrow\": false}, {\"text\": \"9\", \"x\": 5, \"y\": \"Landry2013\", \"xref\": \"x1\", \"yref\": \"y1\", \"font\": {\"color\": \"#000000\"}, \"showarrow\": false}, {\"text\": \"6\", \"x\": 6, \"y\": \"Landry2013\", \"xref\": \"x1\", \"yref\": \"y1\", \"font\": {\"color\": \"#000000\"}, \"showarrow\": false}, {\"text\": \"9\", \"x\": 7, \"y\": \"Landry2013\", \"xref\": \"x1\", \"yref\": \"y1\", \"font\": {\"color\": \"#000000\"}, \"showarrow\": false}, {\"text\": \"0\", \"x\": 8, \"y\": \"Landry2013\", \"xref\": \"x1\", \"yref\": \"y1\", \"font\": {\"color\": \"#000000\"}, \"showarrow\": false}, {\"text\": \"0\", \"x\": 9, \"y\": \"Landry2013\", \"xref\": \"x1\", \"yref\": \"y1\", \"font\": {\"color\": \"#000000\"}, \"showarrow\": false}, {\"text\": \"0\", \"x\": 10, \"y\": \"Landry2013\", \"xref\": \"x1\", \"yref\": \"y1\", \"font\": {\"color\": \"#000000\"}, \"showarrow\": false}, {\"text\": \"0\", \"x\": 11, \"y\": \"Landry2013\", \"xref\": \"x1\", \"yref\": \"y1\", \"font\": {\"color\": \"#000000\"}, \"showarrow\": false}, {\"text\": \"0\", \"x\": 12, \"y\": \"Landry2013\", \"xref\": \"x1\", \"yref\": \"y1\", \"font\": {\"color\": \"#000000\"}, \"showarrow\": false}, {\"text\": \"0\", \"x\": 13, \"y\": \"Landry2013\", \"xref\": \"x1\", \"yref\": \"y1\", \"font\": {\"color\": \"#000000\"}, \"showarrow\": false}, {\"text\": \"19\", \"x\": 14, \"y\": \"Landry2013\", \"xref\": \"x1\", \"yref\": \"y1\", \"font\": {\"color\": \"#000000\"}, \"showarrow\": false}, {\"text\": \"0\", \"x\": 15, \"y\": \"Landry2013\", \"xref\": \"x1\", \"yref\": \"y1\", \"font\": {\"color\": \"#000000\"}, \"showarrow\": false}, {\"text\": \"6\", \"x\": 0, \"y\": \"Landry2012\", \"xref\": \"x1\", \"yref\": \"y1\", \"font\": {\"color\": \"#000000\"}, \"showarrow\": false}, {\"text\": \"16\", \"x\": 1, \"y\": \"Landry2012\", \"xref\": \"x1\", \"yref\": \"y1\", \"font\": {\"color\": \"#000000\"}, \"showarrow\": false}, {\"text\": \"12\", \"x\": 2, \"y\": \"Landry2012\", \"xref\": \"x1\", \"yref\": \"y1\", \"font\": {\"color\": \"#000000\"}, \"showarrow\": false}, {\"text\": \"16\", \"x\": 3, \"y\": \"Landry2012\", \"xref\": \"x1\", \"yref\": \"y1\", \"font\": {\"color\": \"#000000\"}, \"showarrow\": false}, {\"text\": \"8\", \"x\": 4, \"y\": \"Landry2012\", \"xref\": \"x1\", \"yref\": \"y1\", \"font\": {\"color\": \"#000000\"}, \"showarrow\": false}, {\"text\": \"21\", \"x\": 5, \"y\": \"Landry2012\", \"xref\": \"x1\", \"yref\": \"y1\", \"font\": {\"color\": \"#000000\"}, \"showarrow\": false}, {\"text\": \"4\", \"x\": 6, \"y\": \"Landry2012\", \"xref\": \"x1\", \"yref\": \"y1\", \"font\": {\"color\": \"#000000\"}, \"showarrow\": false}, {\"text\": \"12\", \"x\": 7, \"y\": \"Landry2012\", \"xref\": \"x1\", \"yref\": \"y1\", \"font\": {\"color\": \"#000000\"}, \"showarrow\": false}, {\"text\": \"0\", \"x\": 8, \"y\": \"Landry2012\", \"xref\": \"x1\", \"yref\": \"y1\", \"font\": {\"color\": \"#000000\"}, \"showarrow\": false}, {\"text\": \"0\", \"x\": 9, \"y\": \"Landry2012\", \"xref\": \"x1\", \"yref\": \"y1\", \"font\": {\"color\": \"#000000\"}, \"showarrow\": false}, {\"text\": \"0\", \"x\": 10, \"y\": \"Landry2012\", \"xref\": \"x1\", \"yref\": \"y1\", \"font\": {\"color\": \"#000000\"}, \"showarrow\": false}, {\"text\": \"0\", \"x\": 11, \"y\": \"Landry2012\", \"xref\": \"x1\", \"yref\": \"y1\", \"font\": {\"color\": \"#000000\"}, \"showarrow\": false}, {\"text\": \"0\", \"x\": 12, \"y\": \"Landry2012\", \"xref\": \"x1\", \"yref\": \"y1\", \"font\": {\"color\": \"#000000\"}, \"showarrow\": false}, {\"text\": \"0\", \"x\": 13, \"y\": \"Landry2012\", \"xref\": \"x1\", \"yref\": \"y1\", \"font\": {\"color\": \"#000000\"}, \"showarrow\": false}, {\"text\": \"0\", \"x\": 14, \"y\": \"Landry2012\", \"xref\": \"x1\", \"yref\": \"y1\", \"font\": {\"color\": \"#000000\"}, \"showarrow\": false}, {\"text\": \"0\", \"x\": 15, \"y\": \"Landry2012\", \"xref\": \"x1\", \"yref\": \"y1\", \"font\": {\"color\": \"#000000\"}, \"showarrow\": false}, {\"text\": \"8\", \"x\": 0, \"y\": \"Tennis\", \"xref\": \"x1\", \"yref\": \"y1\", \"font\": {\"color\": \"#000000\"}, \"showarrow\": false}, {\"text\": \"0\", \"x\": 1, \"y\": \"Tennis\", \"xref\": \"x1\", \"yref\": \"y1\", \"font\": {\"color\": \"#000000\"}, \"showarrow\": false}, {\"text\": \"17\", \"x\": 2, \"y\": \"Tennis\", \"xref\": \"x1\", \"yref\": \"y1\", \"font\": {\"color\": \"#000000\"}, \"showarrow\": false}, {\"text\": \"18\", \"x\": 3, \"y\": \"Tennis\", \"xref\": \"x1\", \"yref\": \"y1\", \"font\": {\"color\": \"#000000\"}, \"showarrow\": false}, {\"text\": \"5\", \"x\": 4, \"y\": \"Tennis\", \"xref\": \"x1\", \"yref\": \"y1\", \"font\": {\"color\": \"#000000\"}, \"showarrow\": false}, {\"text\": \"10\", \"x\": 5, \"y\": \"Tennis\", \"xref\": \"x1\", \"yref\": \"y1\", \"font\": {\"color\": \"#000000\"}, \"showarrow\": false}, {\"text\": \"6\", \"x\": 6, \"y\": \"Tennis\", \"xref\": \"x1\", \"yref\": \"y1\", \"font\": {\"color\": \"#000000\"}, \"showarrow\": false}, {\"text\": \"0\", \"x\": 7, \"y\": \"Tennis\", \"xref\": \"x1\", \"yref\": \"y1\", \"font\": {\"color\": \"#000000\"}, \"showarrow\": false}, {\"text\": \"3\", \"x\": 8, \"y\": \"Tennis\", \"xref\": \"x1\", \"yref\": \"y1\", \"font\": {\"color\": \"#000000\"}, \"showarrow\": false}, {\"text\": \"3\", \"x\": 9, \"y\": \"Tennis\", \"xref\": \"x1\", \"yref\": \"y1\", \"font\": {\"color\": \"#000000\"}, \"showarrow\": false}, {\"text\": \"8\", \"x\": 10, \"y\": \"Tennis\", \"xref\": \"x1\", \"yref\": \"y1\", \"font\": {\"color\": \"#000000\"}, \"showarrow\": false}, {\"text\": \"0\", \"x\": 11, \"y\": \"Tennis\", \"xref\": \"x1\", \"yref\": \"y1\", \"font\": {\"color\": \"#000000\"}, \"showarrow\": false}, {\"text\": \"0\", \"x\": 12, \"y\": \"Tennis\", \"xref\": \"x1\", \"yref\": \"y1\", \"font\": {\"color\": \"#000000\"}, \"showarrow\": false}, {\"text\": \"10\", \"x\": 13, \"y\": \"Tennis\", \"xref\": \"x1\", \"yref\": \"y1\", \"font\": {\"color\": \"#000000\"}, \"showarrow\": false}, {\"text\": \"0\", \"x\": 14, \"y\": \"Tennis\", \"xref\": \"x1\", \"yref\": \"y1\", \"font\": {\"color\": \"#000000\"}, \"showarrow\": false}, {\"text\": \"8\", \"x\": 15, \"y\": \"Tennis\", \"xref\": \"x1\", \"yref\": \"y1\", \"font\": {\"color\": \"#000000\"}, \"showarrow\": false}, {\"text\": \"7\", \"x\": 0, \"y\": \"Patrick_2013\", \"xref\": \"x1\", \"yref\": \"y1\", \"font\": {\"color\": \"#000000\"}, \"showarrow\": false}, {\"text\": \"10\", \"x\": 1, \"y\": \"Patrick_2013\", \"xref\": \"x1\", \"yref\": \"y1\", \"font\": {\"color\": \"#000000\"}, \"showarrow\": false}, {\"text\": \"18\", \"x\": 2, \"y\": \"Patrick_2013\", \"xref\": \"x1\", \"yref\": \"y1\", \"font\": {\"color\": \"#000000\"}, \"showarrow\": false}, {\"text\": \"5\", \"x\": 3, \"y\": \"Patrick_2013\", \"xref\": \"x1\", \"yref\": \"y1\", \"font\": {\"color\": \"#000000\"}, \"showarrow\": false}, {\"text\": \"9\", \"x\": 4, \"y\": \"Patrick_2013\", \"xref\": \"x1\", \"yref\": \"y1\", \"font\": {\"color\": \"#000000\"}, \"showarrow\": false}, {\"text\": \"6\", \"x\": 5, \"y\": \"Patrick_2013\", \"xref\": \"x1\", \"yref\": \"y1\", \"font\": {\"color\": \"#000000\"}, \"showarrow\": false}, {\"text\": \"5\", \"x\": 6, \"y\": \"Patrick_2013\", \"xref\": \"x1\", \"yref\": \"y1\", \"font\": {\"color\": \"#000000\"}, \"showarrow\": false}, {\"text\": \"6\", \"x\": 7, \"y\": \"Patrick_2013\", \"xref\": \"x1\", \"yref\": \"y1\", \"font\": {\"color\": \"#000000\"}, \"showarrow\": false}, {\"text\": \"2\", \"x\": 8, \"y\": \"Patrick_2013\", \"xref\": \"x1\", \"yref\": \"y1\", \"font\": {\"color\": \"#000000\"}, \"showarrow\": false}, {\"text\": \"1\", \"x\": 9, \"y\": \"Patrick_2013\", \"xref\": \"x1\", \"yref\": \"y1\", \"font\": {\"color\": \"#000000\"}, \"showarrow\": false}, {\"text\": \"5\", \"x\": 10, \"y\": \"Patrick_2013\", \"xref\": \"x1\", \"yref\": \"y1\", \"font\": {\"color\": \"#000000\"}, \"showarrow\": false}, {\"text\": \"4\", \"x\": 11, \"y\": \"Patrick_2013\", \"xref\": \"x1\", \"yref\": \"y1\", \"font\": {\"color\": \"#000000\"}, \"showarrow\": false}, {\"text\": \"1\", \"x\": 12, \"y\": \"Patrick_2013\", \"xref\": \"x1\", \"yref\": \"y1\", \"font\": {\"color\": \"#000000\"}, \"showarrow\": false}, {\"text\": \"5\", \"x\": 13, \"y\": \"Patrick_2013\", \"xref\": \"x1\", \"yref\": \"y1\", \"font\": {\"color\": \"#000000\"}, \"showarrow\": false}, {\"text\": \"9\", \"x\": 14, \"y\": \"Patrick_2013\", \"xref\": \"x1\", \"yref\": \"y1\", \"font\": {\"color\": \"#000000\"}, \"showarrow\": false}, {\"text\": \"0\", \"x\": 15, \"y\": \"Patrick_2013\", \"xref\": \"x1\", \"yref\": \"y1\", \"font\": {\"color\": \"#000000\"}, \"showarrow\": false}, {\"text\": \"12\", \"x\": 0, \"y\": \"Sylvain_2015\", \"xref\": \"x1\", \"yref\": \"y1\", \"font\": {\"color\": \"#000000\"}, \"showarrow\": false}, {\"text\": \"10\", \"x\": 1, \"y\": \"Sylvain_2015\", \"xref\": \"x1\", \"yref\": \"y1\", \"font\": {\"color\": \"#000000\"}, \"showarrow\": false}, {\"text\": \"14\", \"x\": 2, \"y\": \"Sylvain_2015\", \"xref\": \"x1\", \"yref\": \"y1\", \"font\": {\"color\": \"#000000\"}, \"showarrow\": false}, {\"text\": \"6\", \"x\": 3, \"y\": \"Sylvain_2015\", \"xref\": \"x1\", \"yref\": \"y1\", \"font\": {\"color\": \"#000000\"}, \"showarrow\": false}, {\"text\": \"1\", \"x\": 4, \"y\": \"Sylvain_2015\", \"xref\": \"x1\", \"yref\": \"y1\", \"font\": {\"color\": \"#000000\"}, \"showarrow\": false}, {\"text\": \"12\", \"x\": 5, \"y\": \"Sylvain_2015\", \"xref\": \"x1\", \"yref\": \"y1\", \"font\": {\"color\": \"#000000\"}, \"showarrow\": false}, {\"text\": \"2\", \"x\": 6, \"y\": \"Sylvain_2015\", \"xref\": \"x1\", \"yref\": \"y1\", \"font\": {\"color\": \"#000000\"}, \"showarrow\": false}, {\"text\": \"6\", \"x\": 7, \"y\": \"Sylvain_2015\", \"xref\": \"x1\", \"yref\": \"y1\", \"font\": {\"color\": \"#000000\"}, \"showarrow\": false}, {\"text\": \"3\", \"x\": 8, \"y\": \"Sylvain_2015\", \"xref\": \"x1\", \"yref\": \"y1\", \"font\": {\"color\": \"#000000\"}, \"showarrow\": false}, {\"text\": \"3\", \"x\": 9, \"y\": \"Sylvain_2015\", \"xref\": \"x1\", \"yref\": \"y1\", \"font\": {\"color\": \"#000000\"}, \"showarrow\": false}, {\"text\": \"8\", \"x\": 10, \"y\": \"Sylvain_2015\", \"xref\": \"x1\", \"yref\": \"y1\", \"font\": {\"color\": \"#000000\"}, \"showarrow\": false}, {\"text\": \"9\", \"x\": 11, \"y\": \"Sylvain_2015\", \"xref\": \"x1\", \"yref\": \"y1\", \"font\": {\"color\": \"#000000\"}, \"showarrow\": false}, {\"text\": \"2\", \"x\": 12, \"y\": \"Sylvain_2015\", \"xref\": \"x1\", \"yref\": \"y1\", \"font\": {\"color\": \"#000000\"}, \"showarrow\": false}, {\"text\": \"2\", \"x\": 13, \"y\": \"Sylvain_2015\", \"xref\": \"x1\", \"yref\": \"y1\", \"font\": {\"color\": \"#000000\"}, \"showarrow\": false}, {\"text\": \"6\", \"x\": 14, \"y\": \"Sylvain_2015\", \"xref\": \"x1\", \"yref\": \"y1\", \"font\": {\"color\": \"#000000\"}, \"showarrow\": false}, {\"text\": \"0\", \"x\": 15, \"y\": \"Sylvain_2015\", \"xref\": \"x1\", \"yref\": \"y1\", \"font\": {\"color\": \"#000000\"}, \"showarrow\": false}], \"xaxis\": {\"ticks\": \"\", \"dtick\": 1, \"side\": \"bottom\", \"gridcolor\": \"rgb(0, 0, 0)\", \"title\": \"Tests\"}, \"yaxis\": {\"ticks\": \"\", \"dtick\": 1, \"ticksuffix\": \"  \", \"title\": null, \"autorange\": \"reversed\"}, \"hovermode\": \"closest\", \"font\": {\"size\": 14}, \"title\": \"Max for each test (normalized by participant number)\", \"margin\": {\"t\": 80, \"b\": 80, \"l\": 150, \"r\": 80, \"pad\": 0}}, {\"showLink\": true, \"linkText\": \"Export to plot.ly\"})});</script>"
      ],
      "text/vnd.plotly.v1+html": [
       "<div id=\"7cfc4696-4476-4524-ab60-88a23ba8a83f\" style=\"height: 525px; width: 100%;\" class=\"plotly-graph-div\"></div><script type=\"text/javascript\">require([\"plotly\"], function(Plotly) { window.PLOTLYENV=window.PLOTLYENV || {};window.PLOTLYENV.BASE_URL=\"https://plot.ly\";Plotly.newPlot(\"7cfc4696-4476-4524-ab60-88a23ba8a83f\", [{\"type\": \"heatmap\", \"z\": [[11, 0, 23, 6, 14, 11, 0, 5, 4, 2, 5, 0, 0, 5, 0, 9], [17, 0, 19, 11, 22, 17, 0, 0, 0, 0, 0, 0, 0, 0, 12, 0], [20, 0, 24, 12, 9, 13, 0, 0, 3, 5, 6, 0, 0, 0, 3, 0], [0, 0, 28, 6, 8, 28, 0, 0, 5, 8, 13, 0, 0, 0, 0, 0], [4, 13, 23, 1, 6, 10, 0, 4, 1, 2, 3, 6, 0, 5, 14, 0], [4, 12, 21, 8, 7, 9, 6, 9, 0, 0, 0, 0, 0, 0, 19, 0], [6, 16, 12, 16, 8, 21, 4, 12, 0, 0, 0, 0, 0, 0, 0, 0], [8, 0, 17, 18, 5, 10, 6, 0, 3, 3, 8, 0, 0, 10, 0, 8], [7, 10, 18, 5, 9, 6, 5, 6, 2, 1, 5, 4, 1, 5, 9, 0], [12, 10, 14, 6, 1, 12, 2, 6, 3, 3, 8, 9, 2, 2, 6, 0]], \"x\": null, \"y\": [\"Landry2016\", \"Landry2015_2\", \"Landry2015_1\", \"Violon\", \"Yoann_2015\", \"Landry2013\", \"Landry2012\", \"Tennis\", \"Patrick_2013\", \"Sylvain_2015\"], \"colorscale\": \"YlGnBu\", \"showscale\": true, \"colorbar\": {\"title\": \"Percentage\", \"titleside\": \"right\"}}], {\"annotations\": [{\"text\": \"11\", \"x\": 0, \"y\": \"Landry2016\", \"xref\": \"x1\", \"yref\": \"y1\", \"font\": {\"color\": \"#000000\"}, \"showarrow\": false}, {\"text\": \"0\", \"x\": 1, \"y\": \"Landry2016\", \"xref\": \"x1\", \"yref\": \"y1\", \"font\": {\"color\": \"#000000\"}, \"showarrow\": false}, {\"text\": \"23\", \"x\": 2, \"y\": \"Landry2016\", \"xref\": \"x1\", \"yref\": \"y1\", \"font\": {\"color\": \"#000000\"}, \"showarrow\": false}, {\"text\": \"6\", \"x\": 3, \"y\": \"Landry2016\", \"xref\": \"x1\", \"yref\": \"y1\", \"font\": {\"color\": \"#000000\"}, \"showarrow\": false}, {\"text\": \"14\", \"x\": 4, \"y\": \"Landry2016\", \"xref\": \"x1\", \"yref\": \"y1\", \"font\": {\"color\": \"#000000\"}, \"showarrow\": false}, {\"text\": \"11\", \"x\": 5, \"y\": \"Landry2016\", \"xref\": \"x1\", \"yref\": \"y1\", \"font\": {\"color\": \"#000000\"}, \"showarrow\": false}, {\"text\": \"0\", \"x\": 6, \"y\": \"Landry2016\", \"xref\": \"x1\", \"yref\": \"y1\", \"font\": {\"color\": \"#000000\"}, \"showarrow\": false}, {\"text\": \"5\", \"x\": 7, \"y\": \"Landry2016\", \"xref\": \"x1\", \"yref\": \"y1\", \"font\": {\"color\": \"#000000\"}, \"showarrow\": false}, {\"text\": \"4\", \"x\": 8, \"y\": \"Landry2016\", \"xref\": \"x1\", \"yref\": \"y1\", \"font\": {\"color\": \"#000000\"}, \"showarrow\": false}, {\"text\": \"2\", \"x\": 9, \"y\": \"Landry2016\", \"xref\": \"x1\", \"yref\": \"y1\", \"font\": {\"color\": \"#000000\"}, \"showarrow\": false}, {\"text\": \"5\", \"x\": 10, \"y\": \"Landry2016\", \"xref\": \"x1\", \"yref\": \"y1\", \"font\": {\"color\": \"#000000\"}, \"showarrow\": false}, {\"text\": \"0\", \"x\": 11, \"y\": \"Landry2016\", \"xref\": \"x1\", \"yref\": \"y1\", \"font\": {\"color\": \"#000000\"}, \"showarrow\": false}, {\"text\": \"0\", \"x\": 12, \"y\": \"Landry2016\", \"xref\": \"x1\", \"yref\": \"y1\", \"font\": {\"color\": \"#000000\"}, \"showarrow\": false}, {\"text\": \"5\", \"x\": 13, \"y\": \"Landry2016\", \"xref\": \"x1\", \"yref\": \"y1\", \"font\": {\"color\": \"#000000\"}, \"showarrow\": false}, {\"text\": \"0\", \"x\": 14, \"y\": \"Landry2016\", \"xref\": \"x1\", \"yref\": \"y1\", \"font\": {\"color\": \"#000000\"}, \"showarrow\": false}, {\"text\": \"9\", \"x\": 15, \"y\": \"Landry2016\", \"xref\": \"x1\", \"yref\": \"y1\", \"font\": {\"color\": \"#000000\"}, \"showarrow\": false}, {\"text\": \"17\", \"x\": 0, \"y\": \"Landry2015_2\", \"xref\": \"x1\", \"yref\": \"y1\", \"font\": {\"color\": \"#000000\"}, \"showarrow\": false}, {\"text\": \"0\", \"x\": 1, \"y\": \"Landry2015_2\", \"xref\": \"x1\", \"yref\": \"y1\", \"font\": {\"color\": \"#000000\"}, \"showarrow\": false}, {\"text\": \"19\", \"x\": 2, \"y\": \"Landry2015_2\", \"xref\": \"x1\", \"yref\": \"y1\", \"font\": {\"color\": \"#000000\"}, \"showarrow\": false}, {\"text\": \"11\", \"x\": 3, \"y\": \"Landry2015_2\", \"xref\": \"x1\", \"yref\": \"y1\", \"font\": {\"color\": \"#000000\"}, \"showarrow\": false}, {\"text\": \"22\", \"x\": 4, \"y\": \"Landry2015_2\", \"xref\": \"x1\", \"yref\": \"y1\", \"font\": {\"color\": \"#000000\"}, \"showarrow\": false}, {\"text\": \"17\", \"x\": 5, \"y\": \"Landry2015_2\", \"xref\": \"x1\", \"yref\": \"y1\", \"font\": {\"color\": \"#000000\"}, \"showarrow\": false}, {\"text\": \"0\", \"x\": 6, \"y\": \"Landry2015_2\", \"xref\": \"x1\", \"yref\": \"y1\", \"font\": {\"color\": \"#000000\"}, \"showarrow\": false}, {\"text\": \"0\", \"x\": 7, \"y\": \"Landry2015_2\", \"xref\": \"x1\", \"yref\": \"y1\", \"font\": {\"color\": \"#000000\"}, \"showarrow\": false}, {\"text\": \"0\", \"x\": 8, \"y\": \"Landry2015_2\", \"xref\": \"x1\", \"yref\": \"y1\", \"font\": {\"color\": \"#000000\"}, \"showarrow\": false}, {\"text\": \"0\", \"x\": 9, \"y\": \"Landry2015_2\", \"xref\": \"x1\", \"yref\": \"y1\", \"font\": {\"color\": \"#000000\"}, \"showarrow\": false}, {\"text\": \"0\", \"x\": 10, \"y\": \"Landry2015_2\", \"xref\": \"x1\", \"yref\": \"y1\", \"font\": {\"color\": \"#000000\"}, \"showarrow\": false}, {\"text\": \"0\", \"x\": 11, \"y\": \"Landry2015_2\", \"xref\": \"x1\", \"yref\": \"y1\", \"font\": {\"color\": \"#000000\"}, \"showarrow\": false}, {\"text\": \"0\", \"x\": 12, \"y\": \"Landry2015_2\", \"xref\": \"x1\", \"yref\": \"y1\", \"font\": {\"color\": \"#000000\"}, \"showarrow\": false}, {\"text\": \"0\", \"x\": 13, \"y\": \"Landry2015_2\", \"xref\": \"x1\", \"yref\": \"y1\", \"font\": {\"color\": \"#000000\"}, \"showarrow\": false}, {\"text\": \"12\", \"x\": 14, \"y\": \"Landry2015_2\", \"xref\": \"x1\", \"yref\": \"y1\", \"font\": {\"color\": \"#000000\"}, \"showarrow\": false}, {\"text\": \"0\", \"x\": 15, \"y\": \"Landry2015_2\", \"xref\": \"x1\", \"yref\": \"y1\", \"font\": {\"color\": \"#000000\"}, \"showarrow\": false}, {\"text\": \"20\", \"x\": 0, \"y\": \"Landry2015_1\", \"xref\": \"x1\", \"yref\": \"y1\", \"font\": {\"color\": \"#000000\"}, \"showarrow\": false}, {\"text\": \"0\", \"x\": 1, \"y\": \"Landry2015_1\", \"xref\": \"x1\", \"yref\": \"y1\", \"font\": {\"color\": \"#000000\"}, \"showarrow\": false}, {\"text\": \"24\", \"x\": 2, \"y\": \"Landry2015_1\", \"xref\": \"x1\", \"yref\": \"y1\", \"font\": {\"color\": \"#000000\"}, \"showarrow\": false}, {\"text\": \"12\", \"x\": 3, \"y\": \"Landry2015_1\", \"xref\": \"x1\", \"yref\": \"y1\", \"font\": {\"color\": \"#000000\"}, \"showarrow\": false}, {\"text\": \"9\", \"x\": 4, \"y\": \"Landry2015_1\", \"xref\": \"x1\", \"yref\": \"y1\", \"font\": {\"color\": \"#000000\"}, \"showarrow\": false}, {\"text\": \"13\", \"x\": 5, \"y\": \"Landry2015_1\", \"xref\": \"x1\", \"yref\": \"y1\", \"font\": {\"color\": \"#000000\"}, \"showarrow\": false}, {\"text\": \"0\", \"x\": 6, \"y\": \"Landry2015_1\", \"xref\": \"x1\", \"yref\": \"y1\", \"font\": {\"color\": \"#000000\"}, \"showarrow\": false}, {\"text\": \"0\", \"x\": 7, \"y\": \"Landry2015_1\", \"xref\": \"x1\", \"yref\": \"y1\", \"font\": {\"color\": \"#000000\"}, \"showarrow\": false}, {\"text\": \"3\", \"x\": 8, \"y\": \"Landry2015_1\", \"xref\": \"x1\", \"yref\": \"y1\", \"font\": {\"color\": \"#000000\"}, \"showarrow\": false}, {\"text\": \"5\", \"x\": 9, \"y\": \"Landry2015_1\", \"xref\": \"x1\", \"yref\": \"y1\", \"font\": {\"color\": \"#000000\"}, \"showarrow\": false}, {\"text\": \"6\", \"x\": 10, \"y\": \"Landry2015_1\", \"xref\": \"x1\", \"yref\": \"y1\", \"font\": {\"color\": \"#000000\"}, \"showarrow\": false}, {\"text\": \"0\", \"x\": 11, \"y\": \"Landry2015_1\", \"xref\": \"x1\", \"yref\": \"y1\", \"font\": {\"color\": \"#000000\"}, \"showarrow\": false}, {\"text\": \"0\", \"x\": 12, \"y\": \"Landry2015_1\", \"xref\": \"x1\", \"yref\": \"y1\", \"font\": {\"color\": \"#000000\"}, \"showarrow\": false}, {\"text\": \"0\", \"x\": 13, \"y\": \"Landry2015_1\", \"xref\": \"x1\", \"yref\": \"y1\", \"font\": {\"color\": \"#000000\"}, \"showarrow\": false}, {\"text\": \"3\", \"x\": 14, \"y\": \"Landry2015_1\", \"xref\": \"x1\", \"yref\": \"y1\", \"font\": {\"color\": \"#000000\"}, \"showarrow\": false}, {\"text\": \"0\", \"x\": 15, \"y\": \"Landry2015_1\", \"xref\": \"x1\", \"yref\": \"y1\", \"font\": {\"color\": \"#000000\"}, \"showarrow\": false}, {\"text\": \"0\", \"x\": 0, \"y\": \"Violon\", \"xref\": \"x1\", \"yref\": \"y1\", \"font\": {\"color\": \"#000000\"}, \"showarrow\": false}, {\"text\": \"0\", \"x\": 1, \"y\": \"Violon\", \"xref\": \"x1\", \"yref\": \"y1\", \"font\": {\"color\": \"#000000\"}, \"showarrow\": false}, {\"text\": \"28\", \"x\": 2, \"y\": \"Violon\", \"xref\": \"x1\", \"yref\": \"y1\", \"font\": {\"color\": \"#000000\"}, \"showarrow\": false}, {\"text\": \"6\", \"x\": 3, \"y\": \"Violon\", \"xref\": \"x1\", \"yref\": \"y1\", \"font\": {\"color\": \"#000000\"}, \"showarrow\": false}, {\"text\": \"8\", \"x\": 4, \"y\": \"Violon\", \"xref\": \"x1\", \"yref\": \"y1\", \"font\": {\"color\": \"#000000\"}, \"showarrow\": false}, {\"text\": \"28\", \"x\": 5, \"y\": \"Violon\", \"xref\": \"x1\", \"yref\": \"y1\", \"font\": {\"color\": \"#000000\"}, \"showarrow\": false}, {\"text\": \"0\", \"x\": 6, \"y\": \"Violon\", \"xref\": \"x1\", \"yref\": \"y1\", \"font\": {\"color\": \"#000000\"}, \"showarrow\": false}, {\"text\": \"0\", \"x\": 7, \"y\": \"Violon\", \"xref\": \"x1\", \"yref\": \"y1\", \"font\": {\"color\": \"#000000\"}, \"showarrow\": false}, {\"text\": \"5\", \"x\": 8, \"y\": \"Violon\", \"xref\": \"x1\", \"yref\": \"y1\", \"font\": {\"color\": \"#000000\"}, \"showarrow\": false}, {\"text\": \"8\", \"x\": 9, \"y\": \"Violon\", \"xref\": \"x1\", \"yref\": \"y1\", \"font\": {\"color\": \"#000000\"}, \"showarrow\": false}, {\"text\": \"13\", \"x\": 10, \"y\": \"Violon\", \"xref\": \"x1\", \"yref\": \"y1\", \"font\": {\"color\": \"#000000\"}, \"showarrow\": false}, {\"text\": \"0\", \"x\": 11, \"y\": \"Violon\", \"xref\": \"x1\", \"yref\": \"y1\", \"font\": {\"color\": \"#000000\"}, \"showarrow\": false}, {\"text\": \"0\", \"x\": 12, \"y\": \"Violon\", \"xref\": \"x1\", \"yref\": \"y1\", \"font\": {\"color\": \"#000000\"}, \"showarrow\": false}, {\"text\": \"0\", \"x\": 13, \"y\": \"Violon\", \"xref\": \"x1\", \"yref\": \"y1\", \"font\": {\"color\": \"#000000\"}, \"showarrow\": false}, {\"text\": \"0\", \"x\": 14, \"y\": \"Violon\", \"xref\": \"x1\", \"yref\": \"y1\", \"font\": {\"color\": \"#000000\"}, \"showarrow\": false}, {\"text\": \"0\", \"x\": 15, \"y\": \"Violon\", \"xref\": \"x1\", \"yref\": \"y1\", \"font\": {\"color\": \"#000000\"}, \"showarrow\": false}, {\"text\": \"4\", \"x\": 0, \"y\": \"Yoann_2015\", \"xref\": \"x1\", \"yref\": \"y1\", \"font\": {\"color\": \"#000000\"}, \"showarrow\": false}, {\"text\": \"13\", \"x\": 1, \"y\": \"Yoann_2015\", \"xref\": \"x1\", \"yref\": \"y1\", \"font\": {\"color\": \"#000000\"}, \"showarrow\": false}, {\"text\": \"23\", \"x\": 2, \"y\": \"Yoann_2015\", \"xref\": \"x1\", \"yref\": \"y1\", \"font\": {\"color\": \"#000000\"}, \"showarrow\": false}, {\"text\": \"1\", \"x\": 3, \"y\": \"Yoann_2015\", \"xref\": \"x1\", \"yref\": \"y1\", \"font\": {\"color\": \"#000000\"}, \"showarrow\": false}, {\"text\": \"6\", \"x\": 4, \"y\": \"Yoann_2015\", \"xref\": \"x1\", \"yref\": \"y1\", \"font\": {\"color\": \"#000000\"}, \"showarrow\": false}, {\"text\": \"10\", \"x\": 5, \"y\": \"Yoann_2015\", \"xref\": \"x1\", \"yref\": \"y1\", \"font\": {\"color\": \"#000000\"}, \"showarrow\": false}, {\"text\": \"0\", \"x\": 6, \"y\": \"Yoann_2015\", \"xref\": \"x1\", \"yref\": \"y1\", \"font\": {\"color\": \"#000000\"}, \"showarrow\": false}, {\"text\": \"4\", \"x\": 7, \"y\": \"Yoann_2015\", \"xref\": \"x1\", \"yref\": \"y1\", \"font\": {\"color\": \"#000000\"}, \"showarrow\": false}, {\"text\": \"1\", \"x\": 8, \"y\": \"Yoann_2015\", \"xref\": \"x1\", \"yref\": \"y1\", \"font\": {\"color\": \"#000000\"}, \"showarrow\": false}, {\"text\": \"2\", \"x\": 9, \"y\": \"Yoann_2015\", \"xref\": \"x1\", \"yref\": \"y1\", \"font\": {\"color\": \"#000000\"}, \"showarrow\": false}, {\"text\": \"3\", \"x\": 10, \"y\": \"Yoann_2015\", \"xref\": \"x1\", \"yref\": \"y1\", \"font\": {\"color\": \"#000000\"}, \"showarrow\": false}, {\"text\": \"6\", \"x\": 11, \"y\": \"Yoann_2015\", \"xref\": \"x1\", \"yref\": \"y1\", \"font\": {\"color\": \"#000000\"}, \"showarrow\": false}, {\"text\": \"0\", \"x\": 12, \"y\": \"Yoann_2015\", \"xref\": \"x1\", \"yref\": \"y1\", \"font\": {\"color\": \"#000000\"}, \"showarrow\": false}, {\"text\": \"5\", \"x\": 13, \"y\": \"Yoann_2015\", \"xref\": \"x1\", \"yref\": \"y1\", \"font\": {\"color\": \"#000000\"}, \"showarrow\": false}, {\"text\": \"14\", \"x\": 14, \"y\": \"Yoann_2015\", \"xref\": \"x1\", \"yref\": \"y1\", \"font\": {\"color\": \"#000000\"}, \"showarrow\": false}, {\"text\": \"0\", \"x\": 15, \"y\": \"Yoann_2015\", \"xref\": \"x1\", \"yref\": \"y1\", \"font\": {\"color\": \"#000000\"}, \"showarrow\": false}, {\"text\": \"4\", \"x\": 0, \"y\": \"Landry2013\", \"xref\": \"x1\", \"yref\": \"y1\", \"font\": {\"color\": \"#000000\"}, \"showarrow\": false}, {\"text\": \"12\", \"x\": 1, \"y\": \"Landry2013\", \"xref\": \"x1\", \"yref\": \"y1\", \"font\": {\"color\": \"#000000\"}, \"showarrow\": false}, {\"text\": \"21\", \"x\": 2, \"y\": \"Landry2013\", \"xref\": \"x1\", \"yref\": \"y1\", \"font\": {\"color\": \"#000000\"}, \"showarrow\": false}, {\"text\": \"8\", \"x\": 3, \"y\": \"Landry2013\", \"xref\": \"x1\", \"yref\": \"y1\", \"font\": {\"color\": \"#000000\"}, \"showarrow\": false}, {\"text\": \"7\", \"x\": 4, \"y\": \"Landry2013\", \"xref\": \"x1\", \"yref\": \"y1\", \"font\": {\"color\": \"#000000\"}, \"showarrow\": false}, {\"text\": \"9\", \"x\": 5, \"y\": \"Landry2013\", \"xref\": \"x1\", \"yref\": \"y1\", \"font\": {\"color\": \"#000000\"}, \"showarrow\": false}, {\"text\": \"6\", \"x\": 6, \"y\": \"Landry2013\", \"xref\": \"x1\", \"yref\": \"y1\", \"font\": {\"color\": \"#000000\"}, \"showarrow\": false}, {\"text\": \"9\", \"x\": 7, \"y\": \"Landry2013\", \"xref\": \"x1\", \"yref\": \"y1\", \"font\": {\"color\": \"#000000\"}, \"showarrow\": false}, {\"text\": \"0\", \"x\": 8, \"y\": \"Landry2013\", \"xref\": \"x1\", \"yref\": \"y1\", \"font\": {\"color\": \"#000000\"}, \"showarrow\": false}, {\"text\": \"0\", \"x\": 9, \"y\": \"Landry2013\", \"xref\": \"x1\", \"yref\": \"y1\", \"font\": {\"color\": \"#000000\"}, \"showarrow\": false}, {\"text\": \"0\", \"x\": 10, \"y\": \"Landry2013\", \"xref\": \"x1\", \"yref\": \"y1\", \"font\": {\"color\": \"#000000\"}, \"showarrow\": false}, {\"text\": \"0\", \"x\": 11, \"y\": \"Landry2013\", \"xref\": \"x1\", \"yref\": \"y1\", \"font\": {\"color\": \"#000000\"}, \"showarrow\": false}, {\"text\": \"0\", \"x\": 12, \"y\": \"Landry2013\", \"xref\": \"x1\", \"yref\": \"y1\", \"font\": {\"color\": \"#000000\"}, \"showarrow\": false}, {\"text\": \"0\", \"x\": 13, \"y\": \"Landry2013\", \"xref\": \"x1\", \"yref\": \"y1\", \"font\": {\"color\": \"#000000\"}, \"showarrow\": false}, {\"text\": \"19\", \"x\": 14, \"y\": \"Landry2013\", \"xref\": \"x1\", \"yref\": \"y1\", \"font\": {\"color\": \"#000000\"}, \"showarrow\": false}, {\"text\": \"0\", \"x\": 15, \"y\": \"Landry2013\", \"xref\": \"x1\", \"yref\": \"y1\", \"font\": {\"color\": \"#000000\"}, \"showarrow\": false}, {\"text\": \"6\", \"x\": 0, \"y\": \"Landry2012\", \"xref\": \"x1\", \"yref\": \"y1\", \"font\": {\"color\": \"#000000\"}, \"showarrow\": false}, {\"text\": \"16\", \"x\": 1, \"y\": \"Landry2012\", \"xref\": \"x1\", \"yref\": \"y1\", \"font\": {\"color\": \"#000000\"}, \"showarrow\": false}, {\"text\": \"12\", \"x\": 2, \"y\": \"Landry2012\", \"xref\": \"x1\", \"yref\": \"y1\", \"font\": {\"color\": \"#000000\"}, \"showarrow\": false}, {\"text\": \"16\", \"x\": 3, \"y\": \"Landry2012\", \"xref\": \"x1\", \"yref\": \"y1\", \"font\": {\"color\": \"#000000\"}, \"showarrow\": false}, {\"text\": \"8\", \"x\": 4, \"y\": \"Landry2012\", \"xref\": \"x1\", \"yref\": \"y1\", \"font\": {\"color\": \"#000000\"}, \"showarrow\": false}, {\"text\": \"21\", \"x\": 5, \"y\": \"Landry2012\", \"xref\": \"x1\", \"yref\": \"y1\", \"font\": {\"color\": \"#000000\"}, \"showarrow\": false}, {\"text\": \"4\", \"x\": 6, \"y\": \"Landry2012\", \"xref\": \"x1\", \"yref\": \"y1\", \"font\": {\"color\": \"#000000\"}, \"showarrow\": false}, {\"text\": \"12\", \"x\": 7, \"y\": \"Landry2012\", \"xref\": \"x1\", \"yref\": \"y1\", \"font\": {\"color\": \"#000000\"}, \"showarrow\": false}, {\"text\": \"0\", \"x\": 8, \"y\": \"Landry2012\", \"xref\": \"x1\", \"yref\": \"y1\", \"font\": {\"color\": \"#000000\"}, \"showarrow\": false}, {\"text\": \"0\", \"x\": 9, \"y\": \"Landry2012\", \"xref\": \"x1\", \"yref\": \"y1\", \"font\": {\"color\": \"#000000\"}, \"showarrow\": false}, {\"text\": \"0\", \"x\": 10, \"y\": \"Landry2012\", \"xref\": \"x1\", \"yref\": \"y1\", \"font\": {\"color\": \"#000000\"}, \"showarrow\": false}, {\"text\": \"0\", \"x\": 11, \"y\": \"Landry2012\", \"xref\": \"x1\", \"yref\": \"y1\", \"font\": {\"color\": \"#000000\"}, \"showarrow\": false}, {\"text\": \"0\", \"x\": 12, \"y\": \"Landry2012\", \"xref\": \"x1\", \"yref\": \"y1\", \"font\": {\"color\": \"#000000\"}, \"showarrow\": false}, {\"text\": \"0\", \"x\": 13, \"y\": \"Landry2012\", \"xref\": \"x1\", \"yref\": \"y1\", \"font\": {\"color\": \"#000000\"}, \"showarrow\": false}, {\"text\": \"0\", \"x\": 14, \"y\": \"Landry2012\", \"xref\": \"x1\", \"yref\": \"y1\", \"font\": {\"color\": \"#000000\"}, \"showarrow\": false}, {\"text\": \"0\", \"x\": 15, \"y\": \"Landry2012\", \"xref\": \"x1\", \"yref\": \"y1\", \"font\": {\"color\": \"#000000\"}, \"showarrow\": false}, {\"text\": \"8\", \"x\": 0, \"y\": \"Tennis\", \"xref\": \"x1\", \"yref\": \"y1\", \"font\": {\"color\": \"#000000\"}, \"showarrow\": false}, {\"text\": \"0\", \"x\": 1, \"y\": \"Tennis\", \"xref\": \"x1\", \"yref\": \"y1\", \"font\": {\"color\": \"#000000\"}, \"showarrow\": false}, {\"text\": \"17\", \"x\": 2, \"y\": \"Tennis\", \"xref\": \"x1\", \"yref\": \"y1\", \"font\": {\"color\": \"#000000\"}, \"showarrow\": false}, {\"text\": \"18\", \"x\": 3, \"y\": \"Tennis\", \"xref\": \"x1\", \"yref\": \"y1\", \"font\": {\"color\": \"#000000\"}, \"showarrow\": false}, {\"text\": \"5\", \"x\": 4, \"y\": \"Tennis\", \"xref\": \"x1\", \"yref\": \"y1\", \"font\": {\"color\": \"#000000\"}, \"showarrow\": false}, {\"text\": \"10\", \"x\": 5, \"y\": \"Tennis\", \"xref\": \"x1\", \"yref\": \"y1\", \"font\": {\"color\": \"#000000\"}, \"showarrow\": false}, {\"text\": \"6\", \"x\": 6, \"y\": \"Tennis\", \"xref\": \"x1\", \"yref\": \"y1\", \"font\": {\"color\": \"#000000\"}, \"showarrow\": false}, {\"text\": \"0\", \"x\": 7, \"y\": \"Tennis\", \"xref\": \"x1\", \"yref\": \"y1\", \"font\": {\"color\": \"#000000\"}, \"showarrow\": false}, {\"text\": \"3\", \"x\": 8, \"y\": \"Tennis\", \"xref\": \"x1\", \"yref\": \"y1\", \"font\": {\"color\": \"#000000\"}, \"showarrow\": false}, {\"text\": \"3\", \"x\": 9, \"y\": \"Tennis\", \"xref\": \"x1\", \"yref\": \"y1\", \"font\": {\"color\": \"#000000\"}, \"showarrow\": false}, {\"text\": \"8\", \"x\": 10, \"y\": \"Tennis\", \"xref\": \"x1\", \"yref\": \"y1\", \"font\": {\"color\": \"#000000\"}, \"showarrow\": false}, {\"text\": \"0\", \"x\": 11, \"y\": \"Tennis\", \"xref\": \"x1\", \"yref\": \"y1\", \"font\": {\"color\": \"#000000\"}, \"showarrow\": false}, {\"text\": \"0\", \"x\": 12, \"y\": \"Tennis\", \"xref\": \"x1\", \"yref\": \"y1\", \"font\": {\"color\": \"#000000\"}, \"showarrow\": false}, {\"text\": \"10\", \"x\": 13, \"y\": \"Tennis\", \"xref\": \"x1\", \"yref\": \"y1\", \"font\": {\"color\": \"#000000\"}, \"showarrow\": false}, {\"text\": \"0\", \"x\": 14, \"y\": \"Tennis\", \"xref\": \"x1\", \"yref\": \"y1\", \"font\": {\"color\": \"#000000\"}, \"showarrow\": false}, {\"text\": \"8\", \"x\": 15, \"y\": \"Tennis\", \"xref\": \"x1\", \"yref\": \"y1\", \"font\": {\"color\": \"#000000\"}, \"showarrow\": false}, {\"text\": \"7\", \"x\": 0, \"y\": \"Patrick_2013\", \"xref\": \"x1\", \"yref\": \"y1\", \"font\": {\"color\": \"#000000\"}, \"showarrow\": false}, {\"text\": \"10\", \"x\": 1, \"y\": \"Patrick_2013\", \"xref\": \"x1\", \"yref\": \"y1\", \"font\": {\"color\": \"#000000\"}, \"showarrow\": false}, {\"text\": \"18\", \"x\": 2, \"y\": \"Patrick_2013\", \"xref\": \"x1\", \"yref\": \"y1\", \"font\": {\"color\": \"#000000\"}, \"showarrow\": false}, {\"text\": \"5\", \"x\": 3, \"y\": \"Patrick_2013\", \"xref\": \"x1\", \"yref\": \"y1\", \"font\": {\"color\": \"#000000\"}, \"showarrow\": false}, {\"text\": \"9\", \"x\": 4, \"y\": \"Patrick_2013\", \"xref\": \"x1\", \"yref\": \"y1\", \"font\": {\"color\": \"#000000\"}, \"showarrow\": false}, {\"text\": \"6\", \"x\": 5, \"y\": \"Patrick_2013\", \"xref\": \"x1\", \"yref\": \"y1\", \"font\": {\"color\": \"#000000\"}, \"showarrow\": false}, {\"text\": \"5\", \"x\": 6, \"y\": \"Patrick_2013\", \"xref\": \"x1\", \"yref\": \"y1\", \"font\": {\"color\": \"#000000\"}, \"showarrow\": false}, {\"text\": \"6\", \"x\": 7, \"y\": \"Patrick_2013\", \"xref\": \"x1\", \"yref\": \"y1\", \"font\": {\"color\": \"#000000\"}, \"showarrow\": false}, {\"text\": \"2\", \"x\": 8, \"y\": \"Patrick_2013\", \"xref\": \"x1\", \"yref\": \"y1\", \"font\": {\"color\": \"#000000\"}, \"showarrow\": false}, {\"text\": \"1\", \"x\": 9, \"y\": \"Patrick_2013\", \"xref\": \"x1\", \"yref\": \"y1\", \"font\": {\"color\": \"#000000\"}, \"showarrow\": false}, {\"text\": \"5\", \"x\": 10, \"y\": \"Patrick_2013\", \"xref\": \"x1\", \"yref\": \"y1\", \"font\": {\"color\": \"#000000\"}, \"showarrow\": false}, {\"text\": \"4\", \"x\": 11, \"y\": \"Patrick_2013\", \"xref\": \"x1\", \"yref\": \"y1\", \"font\": {\"color\": \"#000000\"}, \"showarrow\": false}, {\"text\": \"1\", \"x\": 12, \"y\": \"Patrick_2013\", \"xref\": \"x1\", \"yref\": \"y1\", \"font\": {\"color\": \"#000000\"}, \"showarrow\": false}, {\"text\": \"5\", \"x\": 13, \"y\": \"Patrick_2013\", \"xref\": \"x1\", \"yref\": \"y1\", \"font\": {\"color\": \"#000000\"}, \"showarrow\": false}, {\"text\": \"9\", \"x\": 14, \"y\": \"Patrick_2013\", \"xref\": \"x1\", \"yref\": \"y1\", \"font\": {\"color\": \"#000000\"}, \"showarrow\": false}, {\"text\": \"0\", \"x\": 15, \"y\": \"Patrick_2013\", \"xref\": \"x1\", \"yref\": \"y1\", \"font\": {\"color\": \"#000000\"}, \"showarrow\": false}, {\"text\": \"12\", \"x\": 0, \"y\": \"Sylvain_2015\", \"xref\": \"x1\", \"yref\": \"y1\", \"font\": {\"color\": \"#000000\"}, \"showarrow\": false}, {\"text\": \"10\", \"x\": 1, \"y\": \"Sylvain_2015\", \"xref\": \"x1\", \"yref\": \"y1\", \"font\": {\"color\": \"#000000\"}, \"showarrow\": false}, {\"text\": \"14\", \"x\": 2, \"y\": \"Sylvain_2015\", \"xref\": \"x1\", \"yref\": \"y1\", \"font\": {\"color\": \"#000000\"}, \"showarrow\": false}, {\"text\": \"6\", \"x\": 3, \"y\": \"Sylvain_2015\", \"xref\": \"x1\", \"yref\": \"y1\", \"font\": {\"color\": \"#000000\"}, \"showarrow\": false}, {\"text\": \"1\", \"x\": 4, \"y\": \"Sylvain_2015\", \"xref\": \"x1\", \"yref\": \"y1\", \"font\": {\"color\": \"#000000\"}, \"showarrow\": false}, {\"text\": \"12\", \"x\": 5, \"y\": \"Sylvain_2015\", \"xref\": \"x1\", \"yref\": \"y1\", \"font\": {\"color\": \"#000000\"}, \"showarrow\": false}, {\"text\": \"2\", \"x\": 6, \"y\": \"Sylvain_2015\", \"xref\": \"x1\", \"yref\": \"y1\", \"font\": {\"color\": \"#000000\"}, \"showarrow\": false}, {\"text\": \"6\", \"x\": 7, \"y\": \"Sylvain_2015\", \"xref\": \"x1\", \"yref\": \"y1\", \"font\": {\"color\": \"#000000\"}, \"showarrow\": false}, {\"text\": \"3\", \"x\": 8, \"y\": \"Sylvain_2015\", \"xref\": \"x1\", \"yref\": \"y1\", \"font\": {\"color\": \"#000000\"}, \"showarrow\": false}, {\"text\": \"3\", \"x\": 9, \"y\": \"Sylvain_2015\", \"xref\": \"x1\", \"yref\": \"y1\", \"font\": {\"color\": \"#000000\"}, \"showarrow\": false}, {\"text\": \"8\", \"x\": 10, \"y\": \"Sylvain_2015\", \"xref\": \"x1\", \"yref\": \"y1\", \"font\": {\"color\": \"#000000\"}, \"showarrow\": false}, {\"text\": \"9\", \"x\": 11, \"y\": \"Sylvain_2015\", \"xref\": \"x1\", \"yref\": \"y1\", \"font\": {\"color\": \"#000000\"}, \"showarrow\": false}, {\"text\": \"2\", \"x\": 12, \"y\": \"Sylvain_2015\", \"xref\": \"x1\", \"yref\": \"y1\", \"font\": {\"color\": \"#000000\"}, \"showarrow\": false}, {\"text\": \"2\", \"x\": 13, \"y\": \"Sylvain_2015\", \"xref\": \"x1\", \"yref\": \"y1\", \"font\": {\"color\": \"#000000\"}, \"showarrow\": false}, {\"text\": \"6\", \"x\": 14, \"y\": \"Sylvain_2015\", \"xref\": \"x1\", \"yref\": \"y1\", \"font\": {\"color\": \"#000000\"}, \"showarrow\": false}, {\"text\": \"0\", \"x\": 15, \"y\": \"Sylvain_2015\", \"xref\": \"x1\", \"yref\": \"y1\", \"font\": {\"color\": \"#000000\"}, \"showarrow\": false}], \"xaxis\": {\"ticks\": \"\", \"dtick\": 1, \"side\": \"bottom\", \"gridcolor\": \"rgb(0, 0, 0)\", \"title\": \"Tests\"}, \"yaxis\": {\"ticks\": \"\", \"dtick\": 1, \"ticksuffix\": \"  \", \"title\": null, \"autorange\": \"reversed\"}, \"hovermode\": \"closest\", \"font\": {\"size\": 14}, \"title\": \"Max for each test (normalized by participant number)\", \"margin\": {\"t\": 80, \"b\": 80, \"l\": 150, \"r\": 80, \"pad\": 0}}, {\"showLink\": true, \"linkText\": \"Export to plot.ly\"})});</script>"
      ]
     },
     "metadata": {},
     "output_type": "display_data"
    }
   ],
   "source": [
    "max_by_test = plot_max_by_test(\n",
    "    df_normalized,\n",
    "    ylabel=DATASET_NAMES,\n",
    "    xtitle='Tests',\n",
    "    title='Max for each test (normalized by participant number)')\n",
    "\n",
    "py.iplot(max_by_test, filename='mvc/max_by_test')"
   ]
  },
  {
   "cell_type": "markdown",
   "metadata": {},
   "source": [
    "## 4.5. Distribution"
   ]
  },
  {
   "cell_type": "code",
   "execution_count": 15,
   "metadata": {
    "run_control": {
     "marked": false
    }
   },
   "outputs": [],
   "source": [
    "def plot_mvc_boxplot(d, xlabel, by='muscle', **kwargs):\n",
    "    if 'subset' in kwargs:\n",
    "        subset = kwargs.get('subset')\n",
    "        if by == 'muscle':\n",
    "            d = d[d['test'] == subset]\n",
    "            print(f'test {subset} selected')\n",
    "        else:\n",
    "            d = d[d['muscle'] == subset]\n",
    "            print(f'muscle {subset} selected')\n",
    "\n",
    "    traces = []\n",
    "    for ilabel in range(len(xlabel)):\n",
    "        traces.append(\n",
    "            go.Box(\n",
    "                y=np.array(d[d[by] == ilabel]['mvc']),\n",
    "                name=xlabel[ilabel],\n",
    "                boxpoints='all',\n",
    "                jitter=0.5,\n",
    "                whiskerwidth=0.2,\n",
    "                marker=dict(size=2),\n",
    "                line=dict(width=1)))\n",
    "\n",
    "    layout = BASE_LAYOUT.copy()\n",
    "    layout.update(\n",
    "        dict(\n",
    "            title=kwargs.get('title'),\n",
    "            xaxis=dict(\n",
    "                title=kwargs.get('xtitle'), showline=True, linewidth=1.5),\n",
    "            yaxis=dict(\n",
    "                title=kwargs.get('ytitle'),\n",
    "                showline=True,\n",
    "                linewidth=1.5,\n",
    "                zeroline=False)))\n",
    "\n",
    "    return dict(data=traces, layout=layout)"
   ]
  },
  {
   "cell_type": "code",
   "execution_count": 36,
   "metadata": {
    "run_control": {
     "marked": false
    }
   },
   "outputs": [
    {
     "name": "stdout",
     "output_type": "stream",
     "text": [
      "muscle 4 selected\n"
     ]
    },
    {
     "data": {
      "application/vnd.plotly.v1+json": {
       "data": [
        {
         "boxpoints": "all",
         "jitter": 0.5,
         "line": {
          "width": 1
         },
         "marker": {
          "size": 2
         },
         "name": 0,
         "type": "box",
         "whiskerwidth": 0.2,
         "y": [
          100,
          100,
          100,
          84.9524621245033,
          100,
          52.93932353275215,
          80.22318727873296,
          94.19571114535026,
          98.20598030872088,
          78.9123146708393,
          98.89482515312245,
          100,
          90.18642639117023,
          86.86316893851055,
          74.87719106044833,
          93.45888204840979,
          35.663482700926494,
          100,
          87.97636935162254,
          31.245185702836686,
          94.85787774821654,
          100,
          100,
          84.79549503160095,
          95.464811139062,
          68.47792865989939,
          100,
          77.60414598355638,
          100,
          57.88245887820737,
          100,
          100,
          90.12920007990276,
          100.00000000000001,
          100,
          77.47092527290603,
          99.03262771735119,
          94.60511205330583,
          100.00000000000001,
          100,
          77.83393768712921,
          79.1533630422523,
          87.77915543163432,
          68.16603155772009,
          60.60821117552669,
          94.69996980185155,
          95.72680626724953,
          86.67879420608818,
          67.48072130915718,
          70.4265921206282,
          81.11430502249458,
          65.86599865437438,
          79.56310489486378,
          51.435072086155444,
          71.75416947125053,
          87.53477988209976,
          70.22167143811816,
          75.19140751314049,
          56.07934694317738,
          81.88068491505706,
          83.66911728912251,
          92.80528667652057,
          86.66888162612928,
          42.355670911088026,
          76.9777942559212,
          76.79850106298834,
          52.887931508937356,
          84.06690451472444,
          65.52812293847921,
          88.18421621992506,
          33.98521700447237,
          79.6118887634524,
          60.84690395869382,
          79.82608656396809,
          82.89180178456208,
          54.508314512793305,
          83.69385179606172,
          64.81208576535188,
          63.847587442114225,
          73.82850945393281,
          70.2080050852076,
          39.99437015262081,
          16.85391743306639,
          64.6235576813444,
          63.15324972883425,
          66.70230206632709,
          86.51160003887941,
          80.27850563673874,
          70.06403459778508,
          74.71738271356203,
          77.99809202600235,
          84.37570130466432,
          70.36754156716208,
          95.50120532401186,
          93.1464611927156,
          76.06725412359818,
          73.63739640444462,
          95.44500259246541,
          62.568458644670976,
          70.89660360357338,
          86.41483185914592,
          84.13394536747504,
          100,
          91.85728320589244,
          88.94291520452403,
          75.9942786720437,
          89.05316338426968,
          100,
          100,
          94.29452021404782,
          89.04132315746047,
          97.8794230874391,
          99.51533626731585,
          85.49472565026484,
          100,
          88.03452025895629,
          35.01679453438286,
          89.60092023988176,
          98.76047340907559,
          43.50955896746129,
          72.17045899615303,
          81.06801104688346,
          87.44834748336159,
          83.03654015476985,
          95.74947018397071,
          100,
          93.64398308462138,
          37.81911925148842,
          82.77924148481661,
          74.60887138321934,
          96.976022207386,
          100,
          85.349395632486,
          100,
          57.777538250770434,
          61.67653680938459,
          72.47539277248826,
          43.259850746854774,
          93.93148414156332,
          85.23763969973515,
          97.79063486179537,
          92.10868836045529
         ]
        },
        {
         "boxpoints": "all",
         "jitter": 0.5,
         "line": {
          "width": 1
         },
         "marker": {
          "size": 2
         },
         "name": 1,
         "type": "box",
         "whiskerwidth": 0.2,
         "y": [
          74.95990299587804,
          58.66625230372623,
          64.84357926096295,
          66.4074640610035,
          63.8482472777043,
          65.18839396569886,
          89.88965467587181,
          59.64316321905773,
          60.95550039112131,
          53.05001499028458,
          77.23178827296923,
          59.366957793100504,
          55.31474464598534,
          78.13113611733375,
          41.788843815649,
          48.147853996475575,
          84.9437518547321,
          79.48473300298716,
          84.26718320361925,
          38.70886302829003,
          83.93541920590445,
          65.10911376262852,
          74.79569810216528,
          56.888150442966406,
          52.78769120188308,
          39.944043826987176,
          75.5397835181046,
          68.97213649684095,
          46.05820555569442,
          100,
          54.659243878404254,
          53.32253430770212,
          73.25498924040342,
          56.75902700378819,
          79.04961444179743,
          100,
          100,
          58.73968103117333,
          89.14321221694837,
          93.02068466677318,
          78.79008608765386,
          100,
          64.13463971735463,
          85.16182954415265,
          63.05547948823803,
          100,
          78.37450670545351,
          100,
          100,
          100.00000000000001,
          100,
          82.5579157447731,
          72.27364000723857,
          69.63206425565942,
          77.76972962734038,
          89.77273302539166,
          67.31233487022587,
          57.53164713545514,
          71.85014530134181,
          98.42476012146342,
          92.9678596804081,
          52.782673663960914,
          100,
          38.96451523717395,
          84.76308683405328,
          55.670561187789126,
          82.8783844578004,
          87.79639091323307,
          58.306544341897045,
          60.812437561048434,
          58.44227351866507,
          60.25682277651105,
          73.27325170394839,
          83.10924696871066,
          78.40673035213857,
          45.24885164288772,
          52.674301123102985,
          84.11364593766967,
          70.84086814751457,
          27.653944308528015,
          46.801386405600205,
          65.8326738744641,
          35.79581297373217,
          75.8911782345161,
          70.20307517459338,
          68.25537840541162,
          76.69579195939997
         ]
        },
        {
         "boxpoints": "all",
         "jitter": 0.5,
         "line": {
          "width": 1
         },
         "marker": {
          "size": 2
         },
         "name": 2,
         "type": "box",
         "whiskerwidth": 0.2,
         "y": [
          100,
          80.74524133051142,
          75.96444325437425,
          91.98909786456994,
          63.94213014499078,
          92.93885477532307,
          100,
          54.19570550106946,
          96.22990880946897,
          82.52090378129378,
          100,
          83.89035468185617,
          99.6090368366891,
          100,
          85.60036939571476,
          91.99268157222387,
          20.137079902120004,
          100,
          49.52211948552381,
          76.11361281890619,
          85.44369948826474,
          80.30375337276557,
          45.42498168849361,
          16.027141393129664,
          98.2030152189083,
          61.4502877469219,
          62.661607734694456,
          33.264791298605665,
          63.634532642538865,
          60.67594817042132,
          100,
          44.183511622414585,
          90.10187525965276,
          94.15040675393745,
          10.155917031142957,
          65.44538140098538,
          57.13840300292653,
          66.40253514142447,
          84.4346740826904,
          72.76985517264644,
          63.84943022778975,
          80.68721684077715,
          100,
          99.99999999999999,
          93.68705042218544,
          74.21380163450964,
          99.29229167668919,
          62.25933639306819,
          100,
          100,
          96.94170161687985,
          100,
          93.08901752469777,
          98.26597210920431,
          92.58934046245051,
          100,
          100,
          100,
          100,
          95.85955016999931,
          69.41137238956975,
          90.1664720250146,
          83.09950808193734,
          75.41446208879732,
          100,
          100,
          100,
          74.1254103866881,
          100,
          100,
          83.6483050860393,
          100,
          100,
          81.76079648517754,
          66.5319622398499,
          84.91359042310172,
          76.78536035751893,
          86.66217811494242,
          100,
          86.28773831269199,
          91.52014317264975,
          84.56282553547491,
          88.40376580388057,
          74.12408484004948,
          98.63273958870238,
          99.57882102749319,
          83.64777083781121,
          76.8391190714559,
          100,
          83.66320085535345,
          96.87182928901788,
          83.60736940450451,
          56.67617587918283,
          100,
          77.53987816177283,
          97.14296053722819,
          75.22190766974984,
          91.384934435302,
          98.22670364906948,
          94.15839140027852,
          88.04401861257281,
          83.73821547676724,
          96.38168922603327,
          74.96011315542518,
          99.99999999999999,
          69.62060577195827,
          99.99999999999999,
          72.74752917776203,
          76.54406399053433,
          100,
          100,
          71.7276631464829,
          100,
          67.75916421884095,
          89.70713076713857,
          89.40808418531918,
          67.49434903039064,
          100,
          92.13277598028289,
          84.13845531168955,
          73.85320980387344,
          90.17759444958826,
          100,
          100,
          100,
          91.66203595230255,
          100,
          100,
          98.3659975723129,
          68.71142432187199,
          41.33728561739055,
          100,
          100,
          97.55334420675344,
          53.08639094703745,
          93.18951380803452,
          70.62494312552596,
          100.00000000000001,
          57.63115541569644,
          72.38571440920958,
          79.66089806954622,
          100.00000000000001,
          68.66903383870455,
          100,
          88.20309403585898,
          53.60207102250971,
          50.61116117456391,
          100,
          100,
          89.74448456113845,
          71.29700022096038,
          98.5220347392297,
          90.82332005624393
         ]
        },
        {
         "boxpoints": "all",
         "jitter": 0.5,
         "line": {
          "width": 1
         },
         "marker": {
          "size": 2
         },
         "name": 3,
         "type": "box",
         "whiskerwidth": 0.2,
         "y": [
          69.60527635298526,
          69.02338521170871,
          64.6589724131378,
          70.13600929842777,
          70.00253437753666,
          86.54788463023318,
          40.669056592511915,
          69.57657244313799,
          69.51940760051993,
          83.24318381002662,
          55.56132918521631,
          68.83013462257475,
          65.56725989843025,
          71.32612884810587,
          76.06104588056746,
          66.39593149163983,
          84.47120718574375,
          71.31520895051706,
          70.31191598046208,
          100,
          25.229842110340893,
          85.08572356300934,
          50.511654402974635,
          72.29852664648647,
          86.08380646650559,
          66.79070317568099,
          85.52415670268626,
          85.47867441610015,
          83.81943056971564,
          63.92472949204661,
          40.89729166282782,
          29.559933715452026,
          66.38297424594725,
          89.95236513627448,
          49.89566881142197,
          58.2195382122736,
          70.12990335245547,
          91.93089089564418,
          92.15329903265987,
          68.085061682139,
          54.915350848945714,
          76.71760916467922,
          70.1128922541472,
          94.22722680511282,
          69.20260582527285,
          100,
          79.91779734735644,
          57.321538020373026,
          51.71471584250879,
          86.0232226582252,
          89.56298079496405,
          73.18642907831914,
          66.31780084170929,
          81.59073433461559,
          55.905857517844716,
          58.397662231757494,
          61.950935584333266,
          67.12904283642071,
          56.02872665901999,
          64.7114395272523,
          64.13826529787612,
          76.48962828875358,
          63.63045675925521,
          75.32828047616286,
          59.18000057501343,
          43.15596843024353,
          81.8938261840418,
          71.95871193364887,
          60.69387610184322,
          47.73740254393086,
          65.7978180614978,
          67.79966565811922,
          94.22420844986134,
          100,
          43.26074278255759,
          69.57758680984968,
          63.01348343686061,
          88.0587343072427,
          53.215033995520415,
          64.95856693851451,
          88.2332985846226,
          100,
          100,
          99.99999999999999,
          61.670302715336724,
          71.20000367108786,
          56.50881819623647,
          93.34533114695984,
          80.29857295990342,
          97.81650503911298,
          62.306729281632585,
          64.81240105371728,
          66.4046127149692,
          50.36792632307023,
          44.99794027436482,
          43.701383443773736,
          80.98953995482582,
          53.70092315814522,
          67.67859835615431,
          88.00132574418224,
          83.60071866619228,
          100,
          100,
          100,
          97.9668877169931,
          90.91777447773482,
          73.7044882384424,
          65.08996696422503,
          100,
          83.28232462003821,
          70.63815033164047,
          53.24679318742586,
          65.75919063449118,
          72.95014476733488,
          100,
          100,
          74.8417899822477,
          76.06336609163586,
          84.49968994111607,
          81.80277480454961,
          57.68043472571267,
          100,
          67.96772400332364,
          78.60539610300678,
          85.96519384395066,
          69.68772939015321,
          63.01983848469349,
          44.47154517832504,
          39.20751127575727,
          64.2497787553598,
          41.228628791437366,
          52.702120982159876,
          48.67526235132889,
          76.5792899365041,
          74.48992746001507,
          73.64600523361683,
          66.97899020168947,
          67.281675697634,
          47.5064792082067,
          81.78399098885093,
          80.21738674378766,
          49.16640642917771,
          65.49955379227423,
          83.4900307576064,
          64.40255585985423,
          53.003200558775106,
          72.73301379032499,
          64.16010210603211,
          21.729132315450947,
          76.25306015186214,
          89.67699658772948,
          79.59077081720991,
          83.55189091010337
         ]
        },
        {
         "boxpoints": "all",
         "jitter": 0.5,
         "line": {
          "width": 1
         },
         "marker": {
          "size": 2
         },
         "name": 4,
         "type": "box",
         "whiskerwidth": 0.2,
         "y": [
          76.66787780995477,
          94.39132886729982,
          86.69951698663472,
          99.68317727102536,
          72.19760109392162,
          98.47885945313757,
          61.83226570558729,
          75.30063544681752,
          100.00000000000001,
          100,
          67.34605302969923,
          100,
          71.48341113375204,
          90.41679699995515,
          100,
          89.11891756078097,
          100,
          88.70702059783015,
          97.8565676374622,
          98.80295920790641,
          100,
          100,
          79.45614330064318,
          96.61844248646986,
          100,
          100,
          100.00000000000001,
          95.80717240415316,
          78.7518002881743,
          75.57781067988202,
          79.67989863080875,
          72.51540019796377,
          87.07494614540029,
          99.99999999999999,
          95.10310161873463,
          70.15018392402331,
          82.98826823014826,
          100,
          100,
          87.03971872045462,
          82.34609336989216,
          98.66262093857017,
          93.91617188583105,
          91.1849794134808,
          78.82701018379088,
          97.1040934479586,
          97.17548449771067,
          100,
          74.17513579557325,
          86.44842765923285,
          93.59176872661654,
          81.76969613528735,
          84.97103857373409,
          97.2558986863746,
          86.09623611841899,
          66.7958608057212,
          93.6665513602528,
          96.90303193087675,
          72.7054966294589,
          73.71334392361268,
          72.07426930679078,
          81.10640657371579,
          87.22465770236175,
          84.90911561505337,
          61.6995561519279,
          54.04711763313133,
          98.1260313652762,
          88.75299637924114,
          79.22702877466763,
          58.47153314003643,
          78.69391291742373,
          84.26898085662002,
          92.51637282032594,
          80.60952328297327,
          65.54223607055009,
          85.50419744782468,
          100,
          76.9446126324916,
          72.77022274762258,
          66.30129478961199,
          100,
          91.12602488205576,
          92.53377239733088,
          79.72809040077544,
          95.20274920572584,
          81.86035466078705,
          73.88177380116767,
          86.2497499362132,
          90.99327758981558,
          97.39288196282345,
          100,
          88.93544741627274,
          72.0812522930674,
          71.08693848758918,
          84.00848142495765,
          73.29751195162551,
          99.99999999999999,
          66.4099549866058,
          91.95085811426384,
          67.29741236171375,
          96.19375441142259,
          77.7875409536473,
          75.2396942716946,
          93.7125088188436,
          82.8214026458039,
          100,
          77.06774954473687,
          100,
          97.89467215361992,
          73.69940869191691,
          70.14196669355724,
          100,
          90.11728270283362,
          70.81884201707769,
          87.14696751601524,
          91.62032387263613,
          81.4848901732316,
          91.84209423636685,
          86.69732546225154,
          92.27793175309831,
          100,
          92.6243178907673,
          80.42973618184952,
          79.16140818781894,
          91.37026336544274,
          91.27619544992739,
          76.06326660959665,
          42.18359771410171,
          85.0032874309122,
          77.04679286613634,
          45.10493028070153,
          70.42425819474018,
          72.72447512605231,
          87.32905012898111,
          58.06560300232629,
          100,
          83.95619747935349,
          74.10882138354543,
          55.79363538480559,
          100,
          79.65886514429278,
          74.63816033425124,
          95.39008723401633,
          81.5771540713314,
          93.24594709723414,
          60.98684086817638,
          72.54462912711111,
          87.99727362573083,
          24.041728948278763,
          94.4884351198323,
          94.02921310536215,
          75.49430710775006,
          97.17705212444399
         ]
        },
        {
         "boxpoints": "all",
         "jitter": 0.5,
         "line": {
          "width": 1
         },
         "marker": {
          "size": 2
         },
         "name": 5,
         "type": "box",
         "whiskerwidth": 0.2,
         "y": [
          38.47297416630699,
          56.644608870069035,
          18.465813695271343,
          63.07663951220281,
          47.33902870394315,
          47.078327626045294,
          56.190356591179714,
          52.39311200631744,
          58.679988863147585,
          47.4119857228073,
          67.16904856029868,
          99.2713346106688,
          37.50063397235483,
          97.60605419001455,
          39.35035775543662,
          100,
          66.58203013423812,
          59.15400160965309,
          84.33296626101688,
          47.817462908858765,
          25.246364216819295,
          94.30365741922375,
          26.937992034004438,
          95.18687940247045,
          37.204128686727074,
          76.98273141269863,
          33.06653076516135,
          77.92750625703125,
          100,
          48.343561389689846,
          45.38672000241626,
          58.140024851277055,
          78.05933670371563,
          82.38435866731325,
          52.19299407774637,
          85.30504648855883,
          100,
          93.33126548544429,
          68.2556071626761,
          64.76715234155137,
          46.68263630523055,
          100,
          88.18666537964201,
          65.83551285144061,
          100,
          83.06126055528613,
          100,
          77.12921956949855,
          62.899298103083694,
          87.5407656759196,
          65.24063312777274,
          41.147287901998496,
          20.948290226411874,
          61.86811413825272,
          38.24553046017157,
          29.18354702001251,
          87.4635635397125,
          69.9447298198983,
          57.80246875894494,
          43.558135984977,
          47.581045477246114,
          63.14461132867706,
          37.864012872966995,
          51.064488779600175,
          35.124250225916256,
          29.858353473073368,
          36.572772286311036,
          71.29160810830771,
          69.2547401359281,
          28.436865230526156,
          80.09525329516012,
          65.79531497203604,
          69.81235519609038,
          17.07184688649274,
          35.013430483175945,
          31.238207530668525,
          48.529022747362625,
          59.341934794745555,
          20.687853421070095,
          70.71271606127229,
          67.76481454301214,
          48.851603234523594,
          37.96737701884693,
          61.21395075228019,
          38.20797185499614,
          68.07035595214748,
          69.24828123430225,
          29.278239913264454,
          84.63777156493957,
          38.263582834897704,
          9.75614778247996,
          39.674797781874204,
          71.61764575995086,
          20.973939380056404,
          100,
          45.99063554777107,
          56.00000325122184,
          71.42623658235425,
          59.82208652925155,
          74.05212647433876,
          52.521031228331324,
          40.220520835422,
          77.81211780897215,
          95.18455436606519,
          69.46913380425761,
          61.42865479032127,
          37.27128546031538,
          65.4526508435136,
          60.244410338167114,
          21.03086573835547,
          35.659614272918574,
          3.5246119857013336,
          72.87000222129144,
          49.16765259667094,
          88.74349576703115,
          78.26073900597179,
          42.85241794411523,
          66.73753914114509,
          45.004572286124315,
          11.382610087071573,
          53.909459859629344,
          78.83616582844856,
          54.94186250509237,
          49.495130331955885,
          66.268819282269,
          57.85015626788753,
          78.66720492010552,
          50.223356434581255,
          92.59620163416602,
          28.579301959598755,
          100,
          62.684119601868474,
          57.33650432709321,
          28.65796729002097,
          59.10110020102054,
          60.865361575638126,
          64.70924356473141,
          80.79848138112294,
          84.61120118532715,
          73.41955786050073,
          73.49605623361758,
          49.97128245719514,
          59.090293317170286,
          50.34450451839127,
          44.27169867748016,
          18.01509342800172,
          28.423249039465897,
          58.462663055960086,
          35.99248118007553,
          57.90667248822641,
          31.43516978188848,
          28.99233070424881,
          89.77682549508182
         ]
        },
        {
         "boxpoints": "all",
         "jitter": 0.5,
         "line": {
          "width": 1
         },
         "marker": {
          "size": 2
         },
         "name": 6,
         "type": "box",
         "whiskerwidth": 0.2,
         "y": [
          11.974911007010373,
          8.541785125184692,
          9.019741854195784,
          6.493097961383399,
          3.6404116925562975,
          3.6902992475481247,
          4.96509043757828,
          6.499436815205434,
          4.026628775086372,
          3.9140773389249692,
          3.344178111389369,
          3.299647284984218,
          5.577949019912837,
          8.466043991137251,
          8.743352499151744,
          2.4999355694911403,
          16.02804419093163,
          4.805022072526986,
          8.070641848955747,
          4.617900328163678,
          4.603893010770368,
          2.4283398669867666,
          11.320609190316814,
          25.725406934622182,
          9.601482477112533,
          24.450921242876777,
          7.8472366685456105,
          31.757242143646973,
          7.695301275934751,
          16.72585245807133,
          15.251293059484105,
          12.047437210151708,
          12.065338829384403,
          30.66364349428555,
          30.777007325123314,
          31.909312897658953,
          12.817348331795234,
          22.097472753880364,
          47.21830261163174,
          30.62774909137093,
          2.38574275639212,
          24.11373143775168,
          48.17684728368844,
          5.791126081420682,
          5.715648105671402,
          25.38875410596657,
          39.16483384973383,
          55.20389779602464,
          13.594541434153959,
          40.62299195371435,
          8.228734009871939,
          6.251917751107546,
          28.712573635525523,
          57.94756087636716,
          4.549437457699151,
          28.691862857753197,
          12.275839174210086,
          57.0035022851218,
          15.592614534430822,
          8.242018831451174,
          8.75402225430553,
          1.4102131757776628,
          5.966286348028151,
          3.0327858919773543,
          8.816410778805652,
          5.0318345762878725,
          4.849537357338003,
          5.811977355398898,
          2.0771983330313684,
          2.154899821848029,
          3.082773101079168,
          5.209236980473137,
          2.31928827413729,
          5.11221344836012,
          6.560751636756547,
          3.4785459782472494,
          4.335900853613706,
          4.737865288953365,
          8.200441418813675,
          6.458381272956475,
          30.011524780482908,
          2.6314730882142174,
          8.244639522062931,
          16.092678578279834,
          4.167968017945172,
          7.137527264636857,
          9.590421628013752,
          7.049388225490202,
          8.107689068542559,
          38.05072935183808,
          12.071993620660301,
          5.9631958965070355,
          5.696547617919052,
          11.690143858169256,
          15.479836483534903,
          2.806898920050419,
          12.079029213370545,
          3.48938205025156,
          40.24824467669883,
          8.878284762879572,
          21.75736614956821,
          10.872078654307243,
          3.7361252443223476
         ]
        },
        {
         "boxpoints": "all",
         "jitter": 0.5,
         "line": {
          "width": 1
         },
         "marker": {
          "size": 2
         },
         "name": 7,
         "type": "box",
         "whiskerwidth": 0.2,
         "y": [
          5.847092369655621,
          2.62164449797113,
          2.750579484970902,
          20.37903488521196,
          3.5830131358347166,
          3.4319787176614724,
          5.553282966071691,
          10.613423795965572,
          4.988903337741667,
          6.480141319095851,
          3.4622624445021533,
          3.668488382961911,
          13.669621839765357,
          10.927168432435192,
          11.325449127749023,
          8.462799425326775,
          4.807459501993128,
          2.9528870853760547,
          5.182734419739993,
          22.015430988971094,
          4.939089350252942,
          10.768087265961274,
          3.0674088798103605,
          2.8536588704782666,
          4.419827448664643,
          6.686432543065719,
          11.30386139450144,
          2.1012630472973517,
          22.67855643600712,
          4.899627003204977,
          6.736139486347768,
          6.988505306373166,
          4.535520259983185,
          2.26579601687272,
          15.49028279352668,
          21.768546407630033,
          13.405289507216596,
          47.09610138885495,
          11.207577376238444,
          37.61839964720881,
          12.327863960147472,
          4.97524739500026,
          18.420870503252075,
          41.855153935928115,
          63.648060037092506,
          37.106610925131804,
          43.53040552186089,
          11.86692735976514,
          34.2766702051767,
          50.83208981275364,
          41.22469619634711,
          26.72278494048666,
          35.782977812116435,
          38.127357859938996,
          18.412831746619638,
          6.685060491395767,
          7.199692100686394,
          16.77747796057262,
          20.96660943530965,
          12.608910930406084,
          18.838949894043914,
          39.85640671584563,
          9.646267014441124,
          39.363629103688325,
          53.70609758424188,
          91.62994480895773,
          18.16743707557617,
          13.719644327144469,
          8.366176092371868,
          4.971812785387165,
          45.04404231866808,
          13.218813691181207,
          7.674295058191368,
          5.2806385458415335,
          11.027761021902041,
          6.101544444408373,
          14.389791493680296,
          3.9425609129421555,
          9.130636798240323,
          10.58717085497941,
          6.045868241297494,
          9.353843529566419,
          14.47832737680109,
          6.786508466840926,
          9.307668460930273,
          8.531940306620585,
          21.96175573361338,
          7.297241616200991,
          10.34938003407984,
          22.633654553542122,
          16.6290428310618,
          3.2639417308450684,
          24.24576831066171,
          3.9196220624082336,
          27.355342885304097,
          10.38681238984417,
          16.782491292190535,
          22.07164773901776,
          4.13507525735597
         ]
        },
        {
         "boxpoints": "all",
         "jitter": 0.5,
         "line": {
          "width": 1
         },
         "marker": {
          "size": 2
         },
         "name": 8,
         "type": "box",
         "whiskerwidth": 0.2,
         "y": [
          43.51696181311996,
          53.516903910422315,
          72.18292617003355,
          56.54117360456871,
          36.17103785656202,
          83.91688905940144,
          100,
          91.25572687777381,
          65.7530253344513,
          47.11672474741494,
          91.09476092249156,
          58.71935062574928,
          72.39420840300932,
          44.08124160642437,
          83.65205072605403,
          96.49711110353141,
          47.142403938198306,
          48.751658802958985,
          58.421352314101746,
          93.56827980600778,
          74.93600903412538,
          91.77730176200627,
          55.85588200082947,
          51.393633471418035,
          50.881713583559765,
          46.277146168278634,
          84.26486998048524,
          57.77139914743639,
          100,
          61.34817670173959,
          73.11425539982167,
          84.73896881624202,
          80.04743610536629,
          80.7590594231218,
          44.921683798018435,
          86.85507598278238,
          77.90524447327466,
          69.0406546986437,
          53.28453001378669,
          84.69627227041565,
          54.94761574990829,
          55.71487288159694,
          67.67950659448177,
          55.69677073614035,
          48.00701647210108,
          48.773742291373125,
          100,
          75.76636070184091,
          69.13300398530671,
          65.40236985726136,
          43.80956111964194,
          41.72358279102439,
          76.63705267177883,
          88.39776242165834,
          73.44659437716051,
          37.65405965957776,
          53.323435011266824,
          71.0795290278678,
          85.69356403888472,
          56.2261644434128,
          72.50149669339532,
          81.3393362495669,
          100,
          50.81755108034608,
          95.59614015629452,
          54.92860664277011,
          83.87619894701501,
          82.49981796042329,
          57.80676739396686,
          62.004037401829436,
          54.892935821386814,
          52.011518542187375,
          24.50534418971053,
          50.83615506108101,
          67.41730445656633,
          39.01630565876871,
          46.150136372766376,
          75.06788418543553,
          49.501487673138826,
          100.00000000000001,
          75.48115595193279,
          74.41632239482435,
          55.07864899268185,
          62.02341797740987,
          80.47866039611489,
          100,
          36.67196926042256,
          70.21175646899891,
          77.03128250368889,
          48.68595387745498,
          33.542782865410175,
          100,
          49.01264940129592,
          50.794156726899665,
          88.36140249563607,
          64.92908766022495,
          52.618006178265546,
          61.41928107196632
         ]
        },
        {
         "boxpoints": "all",
         "jitter": 0.5,
         "line": {
          "width": 1
         },
         "marker": {
          "size": 2
         },
         "name": 9,
         "type": "box",
         "whiskerwidth": 0.2,
         "y": [
          35.20393857815765,
          34.45953284029062,
          2.1205975012681777,
          41.95729689987821,
          28.179467243577335,
          64.11285805332878,
          57.39411800652732,
          66.08423427499201,
          78.20568397486986,
          41.80665916830811,
          47.70491417836461,
          39.46949955729198,
          72.7618006598595,
          41.88864420336042,
          52.692636788381364,
          63.962342440697924,
          40.986157059299785,
          67.5770145161854,
          37.16420761049092,
          56.18941583541208,
          54.84061517882943,
          29.664111182998678,
          12.60333404431542,
          44.77394717472703,
          41.43363900866535,
          36.49959869960891,
          32.67277476013213,
          48.09692804907743,
          45.10337503340614,
          30.117106336309313,
          29.88318750940467,
          37.24712094753641,
          74.42321396836,
          67.16629029724936,
          10.087330220259526,
          39.521017073183216,
          44.140623345392086,
          55.70539695783478,
          48.41484087431857,
          54.25116856715174,
          50.52485304222624,
          36.755002175059275,
          60.29238204014967,
          42.94906725525592,
          36.14976982037955,
          55.84049672495579,
          84.27600931350715,
          57.8285646147577,
          67.98596434423605,
          33.6433210779172,
          27.562512133511884,
          39.209153337959265,
          54.28395311655955,
          59.280066627488694,
          67.49207346222983,
          21.598045721159156,
          39.45462672291056,
          61.60745286547575,
          62.44385278187669,
          4.424628218403353,
          64.01754089692264,
          41.94322967407392,
          34.89568862896459,
          24.089103580047965,
          56.11659527198198,
          67.99399197988093,
          51.82305404718175,
          42.63571283517834,
          56.44249974519485,
          35.73853524249017,
          36.334349436218304,
          14.678348706267997,
          37.54204288986279,
          62.066120442706854,
          29.594484946582945,
          57.876592702702204,
          27.31150443669843,
          54.18920212672327,
          43.59063131655207,
          72.59884205077887,
          64.98218402507452,
          44.51250260156458,
          62.41597810720099,
          79.95625002446135,
          73.17755973013318,
          70.32076533513725,
          27.965215177282154,
          78.62521715625357,
          67.7069671232629,
          28.47668539804931,
          28.410320341385827,
          55.477909744237756,
          42.47415740706758,
          34.00428792374374,
          63.32377246730113,
          40.45433330993456,
          36.35622538941058,
          45.11044649845758
         ]
        },
        {
         "boxpoints": "all",
         "jitter": 0.5,
         "line": {
          "width": 1
         },
         "marker": {
          "size": 2
         },
         "name": 10,
         "type": "box",
         "whiskerwidth": 0.2,
         "y": [
          6.580191839680427,
          9.12424042768398,
          7.692804785243357,
          3.0856688026244625,
          8.772691529942689,
          36.63423309505279,
          21.39848947033754,
          35.91433923066902,
          43.06404595108646,
          5.961744002358797,
          45.63778576406549,
          34.78581589159439,
          11.022521358859926,
          20.38767306437116,
          16.172485580055035,
          9.277604318605439,
          20.638214620816566,
          20.071099835050447,
          4.641397323761982,
          11.764504603560498,
          79.52999304745344,
          3.0505542522961897,
          9.284717734481845,
          4.357485588811175,
          5.265574028522879,
          27.408721621089686,
          3.699615219010532,
          30.464295618513393,
          44.422883010753516,
          26.05535334033039,
          36.35744091219543,
          39.623267112861775,
          38.2199881218787,
          4.87380385701202,
          10.752729535694515,
          55.406046657364996,
          45.05347247414832,
          33.57278095728708,
          14.141915114296896,
          27.21575516080433,
          55.96378857492111,
          14.762145607186135,
          28.678133161645107,
          28.23574373814808,
          60.77291734682673,
          66.69424341693254,
          11.279036631962063,
          43.9506216039814,
          43.2766679237064,
          35.23831072228311,
          14.068688276734646,
          43.89884554009255,
          4.437257905762381,
          10.323626282123715,
          23.191386130533893,
          7.847971452084565,
          5.490527962096571,
          12.654850529342689,
          3.6839521544335696,
          44.68297668614567,
          17.677679803329465,
          15.74342996310185,
          14.014611779525485,
          2.1955865378489663,
          5.0969112108001475,
          3.3778767161579526,
          19.725664113000985,
          40.87993424236874,
          7.370946671640177,
          5.034734947103789,
          45.28137986130134,
          31.075841130951165,
          15.34433680113747,
          5.2595479462527175,
          88.05900873037965,
          3.1850541581401948,
          16.72616700758675,
          13.26174173401847,
          15.715198141290475,
          7.074912094988104,
          30.14812086005852,
          6.910158860928415,
          66.81699225248752,
          19.126074272829033,
          18.21326702542306,
          3.1572774308368707,
          20.723027759409486,
          77.62609611049696,
          23.85597645583309,
          12.266739058817793,
          17.83250879749179,
          28.487671891649786,
          15.952826892771238,
          18.32712040521422,
          18.199139527121407,
          41.92702524699571,
          14.492994481900704
         ]
        },
        {
         "boxpoints": "all",
         "jitter": 0.5,
         "line": {
          "width": 1
         },
         "marker": {
          "size": 2
         },
         "name": 11,
         "type": "box",
         "whiskerwidth": 0.2,
         "y": [
          83.33982779088919,
          84.68986515383806,
          81.25181912617423,
          100,
          84.73095939067285,
          67.51569909866231,
          80.14233558462699,
          79.22607488679593,
          54.12929859238654,
          99.99999999999999,
          89.20937923004023,
          100,
          100,
          86.50035309268455,
          61.590752005077256,
          63.42668307464824,
          97.36099342481072,
          100,
          94.59859039122215,
          72.07420633623012,
          78.66717143065138,
          82.37200912573451,
          46.07347321064349,
          64.99903088555176,
          100,
          87.42775403758357,
          71.67894354100272,
          58.24636075649617,
          78.58245213909986,
          81.83285992003441,
          90.23234704867815,
          96.14537829178698,
          88.78423701718569,
          100,
          80.37306448501991,
          77.73515981234341,
          59.717508245126034,
          93.92718488646553,
          73.40106972191747,
          90.9713634255038,
          78.56114836643269,
          76.46338560005934,
          88.63248242644696,
          18.48753777258718,
          93.47185699467678,
          100,
          100,
          100
         ]
        },
        {
         "boxpoints": "all",
         "jitter": 0.5,
         "line": {
          "width": 1
         },
         "marker": {
          "size": 2
         },
         "name": 12,
         "type": "box",
         "whiskerwidth": 0.2,
         "y": [
          10.407598382636195,
          4.716184726327398,
          8.786683346225441,
          5.872518466106193,
          14.30306157322036,
          6.821883397940296,
          50.70235291607682,
          4.919640679746048,
          8.093833886902551,
          16.637538124181845,
          5.910677789898493,
          1.7979440819403676,
          3.817531290342262,
          7.058921135363826,
          14.886995492261642,
          4.885022431902612,
          11.735076993600028,
          11.373344751978966,
          24.488802690897618,
          4.230742453561552,
          7.827499408095281,
          28.70701474922787,
          9.027333835793163,
          54.458276436102835,
          30.225740948606877,
          44.7127226971212,
          48.051553264306605,
          12.0293110645224,
          13.251090489276342,
          20.65939063158755,
          35.43791467548776,
          23.277682229105928,
          34.13719021980476,
          27.42499468997234,
          13.385248129188776,
          43.40893846714179,
          22.889292689855687,
          36.993175451063586,
          12.378925238705154,
          48.710557335202196,
          11.815021799656659,
          6.729724184320031,
          18.454800884933803,
          12.617738383197402,
          12.23200331116721,
          30.534344448370636,
          7.993000749639578,
          46.68194362415417
         ]
        },
        {
         "boxpoints": "all",
         "jitter": 0.5,
         "line": {
          "width": 1
         },
         "marker": {
          "size": 2
         },
         "name": 13,
         "type": "box",
         "whiskerwidth": 0.2,
         "y": [
          11.653890515094638,
          15.434849459298196,
          12.519952855591574,
          39.064657553346684,
          64.36631436238491,
          4.223504678755229,
          20.597371816228367,
          9.521541827276131,
          7.146582850404455,
          21.78087348228718,
          44.72105703424748,
          7.9928459733075305,
          26.597941864690238,
          34.288065756694344,
          40.09914214379549,
          25.87683335395051,
          10.680346413864017,
          13.286314796353695,
          4.839568496603912,
          8.96613666282438,
          4.909686514020472,
          15.24824578810908,
          4.167300959505231,
          2.023843539968284,
          11.119786457466816,
          11.999530038907077,
          19.734553657274848,
          3.7430648244154465,
          28.68288277004382,
          18.635270251976028,
          19.55264286000064,
          5.632416536257868,
          13.092708650504761,
          5.640439717710689,
          2.080077886514241,
          7.974632942429224,
          6.757041665032441,
          12.665726724185276,
          39.488562317608974,
          21.117958054355473,
          5.7944550818142915,
          2.233773011707276,
          3.137379651641855,
          31.985189941799806,
          39.57313221897344,
          2.3553297284693184,
          27.35289368355442,
          9.81363604833653,
          22.096074113252072,
          17.930613424026063,
          5.155902906897719,
          16.22178897258121,
          11.107742339475069,
          20.5479472459251,
          24.857505823801283,
          8.711325252900032,
          18.749165148983465,
          8.442142109241757,
          10.654153439857167,
          31.839018604575514,
          45.993092983460194,
          20.962067602195006,
          6.519058998773405,
          22.970976160626776,
          26.000164090050717,
          22.95133786937411,
          16.983366582058885,
          35.76091459324658,
          5.027866837697197,
          8.2794039255856,
          4.320939311681223,
          6.259747871667147,
          26.44485331847203,
          19.059711776646594,
          29.306077293956335,
          5.355430087960548
         ]
        },
        {
         "boxpoints": "all",
         "jitter": 0.5,
         "line": {
          "width": 1
         },
         "marker": {
          "size": 2
         },
         "name": 14,
         "type": "box",
         "whiskerwidth": 0.2,
         "y": [
          87.19381117738703,
          72.6726174846386,
          87.21798795025359,
          66.51904388199603,
          94.77408258495528,
          29.956572163406907,
          58.50497788764476,
          18.242381421506032,
          44.44839106461843,
          64.86741199808361,
          65.51460216880247,
          58.59210068747969,
          82.9994888224231,
          74.48372884127487,
          30.654292436637093,
          31.582330723086066,
          26.71358869328061,
          64.54465773242758,
          48.58893141849489,
          54.95228076892988,
          79.21353240030241,
          49.326734858398936,
          60.42087461572993,
          68.35550582359161,
          42.20284253997364,
          83.93950460602635,
          95.56003603405537,
          100,
          89.886254579945,
          100.00000000000001,
          89.23333073864687,
          79.37503063353583,
          95.06225241444326,
          76.73014831846551,
          90.17134065171254,
          82.78408207112733,
          94.03807922821498,
          77.65239341928994,
          100,
          87.44405668394013,
          85.92678962406347,
          89.79014477668797,
          67.78324027940623,
          82.24761176924116,
          88.99311382653887,
          100,
          79.02979788371158,
          85.95165459569269,
          76.76988939662965,
          100,
          100,
          72.99962623059226,
          100,
          60.01492795734499,
          71.62886134774611,
          66.86891142953834,
          69.36928513691554,
          98.28018976443734,
          72.51816956083525,
          100,
          75.99235180319243,
          60.63025942537263,
          100,
          63.51481694779764,
          100,
          48.47990334789001,
          94.20925198008598,
          100,
          66.80446884371865,
          85.98072859839478,
          78.92098291856966,
          39.34522231966425,
          78.02467206884786,
          78.96353241274919,
          100,
          50.63686365575231,
          83.08407035418269,
          60.76386375117846,
          75.92125109798008,
          47.4500499759099,
          66.84767191190538,
          74.0827091867449,
          66.2094344482465,
          91.29331590163328,
          85.69719831362397,
          87.4389934408378,
          100,
          66.10639972307222,
          99.0617488916616,
          37.84364120681724,
          100,
          91.18052659316514,
          71.64678517147776,
          80.66531194818602
         ]
        },
        {
         "boxpoints": "all",
         "jitter": 0.5,
         "line": {
          "width": 1
         },
         "marker": {
          "size": 2
         },
         "name": 15,
         "type": "box",
         "whiskerwidth": 0.2,
         "y": [
          53.13166270507628,
          67.50667980814767,
          48.14760526939338,
          54.95833580817573,
          99.99999999999999,
          50.48831132256252,
          49.121363813702686,
          46.06620595570074,
          53.184597385482185,
          49.756618260569034,
          41.88569764754311,
          82.10130169815953,
          37.941183340648465,
          55.51336032607091,
          38.54438363879814,
          61.771918476782375,
          58.25168432259526,
          45.22282932929352,
          72.07321532699065,
          78.6530770098913,
          50.67466384150581,
          44.79404236508272,
          70.32433557326927,
          58.41363412818721,
          20.071919576364735,
          80.02093631020719,
          72.74141246691946,
          33.86313083696031,
          66.5473269640511,
          60.4595179797262,
          60.38906859262668
         ]
        }
       ],
       "layout": {
        "font": {
         "size": 14
        },
        "hovermode": "closest",
        "title": null,
        "xaxis": {
         "linewidth": 1.5,
         "showline": true,
         "title": null
        },
        "yaxis": {
         "linewidth": 1.5,
         "showline": true,
         "title": null,
         "zeroline": false
        }
       }
      },
      "text/html": [
       "<div id=\"ec892b8a-1ad4-4f43-ac8c-7c24303e4b33\" style=\"height: 525px; width: 100%;\" class=\"plotly-graph-div\"></div><script type=\"text/javascript\">require([\"plotly\"], function(Plotly) { window.PLOTLYENV=window.PLOTLYENV || {};window.PLOTLYENV.BASE_URL=\"https://plot.ly\";Plotly.newPlot(\"ec892b8a-1ad4-4f43-ac8c-7c24303e4b33\", [{\"type\": \"box\", \"y\": [100.0, 100.0, 100.0, 84.9524621245033, 100.0, 52.93932353275215, 80.22318727873296, 94.19571114535026, 98.20598030872088, 78.9123146708393, 98.89482515312245, 100.0, 90.18642639117023, 86.86316893851055, 74.87719106044833, 93.45888204840979, 35.663482700926494, 100.0, 87.97636935162254, 31.245185702836686, 94.85787774821654, 100.0, 100.0, 84.79549503160095, 95.464811139062, 68.47792865989939, 100.0, 77.60414598355638, 100.0, 57.88245887820737, 100.0, 100.0, 90.12920007990276, 100.00000000000001, 100.0, 77.47092527290603, 99.03262771735119, 94.60511205330583, 100.00000000000001, 100.0, 77.83393768712921, 79.1533630422523, 87.77915543163432, 68.16603155772009, 60.60821117552669, 94.69996980185155, 95.72680626724953, 86.67879420608818, 67.48072130915718, 70.4265921206282, 81.11430502249458, 65.86599865437438, 79.56310489486378, 51.435072086155444, 71.75416947125053, 87.53477988209976, 70.22167143811816, 75.19140751314049, 56.07934694317738, 81.88068491505706, 83.66911728912251, 92.80528667652057, 86.66888162612928, 42.355670911088026, 76.9777942559212, 76.79850106298834, 52.887931508937356, 84.06690451472444, 65.52812293847921, 88.18421621992506, 33.98521700447237, 79.6118887634524, 60.84690395869382, 79.82608656396809, 82.89180178456208, 54.508314512793305, 83.69385179606172, 64.81208576535188, 63.847587442114225, 73.82850945393281, 70.2080050852076, 39.99437015262081, 16.85391743306639, 64.6235576813444, 63.15324972883425, 66.70230206632709, 86.51160003887941, 80.27850563673874, 70.06403459778508, 74.71738271356203, 77.99809202600235, 84.37570130466432, 70.36754156716208, 95.50120532401186, 93.1464611927156, 76.06725412359818, 73.63739640444462, 95.44500259246541, 62.568458644670976, 70.89660360357338, 86.41483185914592, 84.13394536747504, 100.0, 91.85728320589244, 88.94291520452403, 75.9942786720437, 89.05316338426968, 100.0, 100.0, 94.29452021404782, 89.04132315746047, 97.8794230874391, 99.51533626731585, 85.49472565026484, 100.0, 88.03452025895629, 35.01679453438286, 89.60092023988176, 98.76047340907559, 43.50955896746129, 72.17045899615303, 81.06801104688346, 87.44834748336159, 83.03654015476985, 95.74947018397071, 100.0, 93.64398308462138, 37.81911925148842, 82.77924148481661, 74.60887138321934, 96.976022207386, 100.0, 85.349395632486, 100.0, 57.777538250770434, 61.67653680938459, 72.47539277248826, 43.259850746854774, 93.93148414156332, 85.23763969973515, 97.79063486179537, 92.10868836045529], \"name\": 0, \"boxpoints\": \"all\", \"jitter\": 0.5, \"whiskerwidth\": 0.2, \"marker\": {\"size\": 2}, \"line\": {\"width\": 1}}, {\"type\": \"box\", \"y\": [74.95990299587804, 58.66625230372623, 64.84357926096295, 66.4074640610035, 63.8482472777043, 65.18839396569886, 89.88965467587181, 59.64316321905773, 60.95550039112131, 53.05001499028458, 77.23178827296923, 59.366957793100504, 55.31474464598534, 78.13113611733375, 41.788843815649, 48.147853996475575, 84.9437518547321, 79.48473300298716, 84.26718320361925, 38.70886302829003, 83.93541920590445, 65.10911376262852, 74.79569810216528, 56.888150442966406, 52.78769120188308, 39.944043826987176, 75.5397835181046, 68.97213649684095, 46.05820555569442, 100.0, 54.659243878404254, 53.32253430770212, 73.25498924040342, 56.75902700378819, 79.04961444179743, 100.0, 100.0, 58.73968103117333, 89.14321221694837, 93.02068466677318, 78.79008608765386, 100.0, 64.13463971735463, 85.16182954415265, 63.05547948823803, 100.0, 78.37450670545351, 100.0, 100.0, 100.00000000000001, 100.0, 82.5579157447731, 72.27364000723857, 69.63206425565942, 77.76972962734038, 89.77273302539166, 67.31233487022587, 57.53164713545514, 71.85014530134181, 98.42476012146342, 92.9678596804081, 52.782673663960914, 100.0, 38.96451523717395, 84.76308683405328, 55.670561187789126, 82.8783844578004, 87.79639091323307, 58.306544341897045, 60.812437561048434, 58.44227351866507, 60.25682277651105, 73.27325170394839, 83.10924696871066, 78.40673035213857, 45.24885164288772, 52.674301123102985, 84.11364593766967, 70.84086814751457, 27.653944308528015, 46.801386405600205, 65.8326738744641, 35.79581297373217, 75.8911782345161, 70.20307517459338, 68.25537840541162, 76.69579195939997], \"name\": 1, \"boxpoints\": \"all\", \"jitter\": 0.5, \"whiskerwidth\": 0.2, \"marker\": {\"size\": 2}, \"line\": {\"width\": 1}}, {\"type\": \"box\", \"y\": [100.0, 80.74524133051142, 75.96444325437425, 91.98909786456994, 63.94213014499078, 92.93885477532307, 100.0, 54.19570550106946, 96.22990880946897, 82.52090378129378, 100.0, 83.89035468185617, 99.6090368366891, 100.0, 85.60036939571476, 91.99268157222387, 20.137079902120004, 100.0, 49.52211948552381, 76.11361281890619, 85.44369948826474, 80.30375337276557, 45.42498168849361, 16.027141393129664, 98.2030152189083, 61.4502877469219, 62.661607734694456, 33.264791298605665, 63.634532642538865, 60.67594817042132, 100.0, 44.183511622414585, 90.10187525965276, 94.15040675393745, 10.155917031142957, 65.44538140098538, 57.13840300292653, 66.40253514142447, 84.4346740826904, 72.76985517264644, 63.84943022778975, 80.68721684077715, 100.0, 99.99999999999999, 93.68705042218544, 74.21380163450964, 99.29229167668919, 62.25933639306819, 100.0, 100.0, 96.94170161687985, 100.0, 93.08901752469777, 98.26597210920431, 92.58934046245051, 100.0, 100.0, 100.0, 100.0, 95.85955016999931, 69.41137238956975, 90.1664720250146, 83.09950808193734, 75.41446208879732, 100.0, 100.0, 100.0, 74.1254103866881, 100.0, 100.0, 83.6483050860393, 100.0, 100.0, 81.76079648517754, 66.5319622398499, 84.91359042310172, 76.78536035751893, 86.66217811494242, 100.0, 86.28773831269199, 91.52014317264975, 84.56282553547491, 88.40376580388057, 74.12408484004948, 98.63273958870238, 99.57882102749319, 83.64777083781121, 76.8391190714559, 100.0, 83.66320085535345, 96.87182928901788, 83.60736940450451, 56.67617587918283, 100.0, 77.53987816177283, 97.14296053722819, 75.22190766974984, 91.384934435302, 98.22670364906948, 94.15839140027852, 88.04401861257281, 83.73821547676724, 96.38168922603327, 74.96011315542518, 99.99999999999999, 69.62060577195827, 99.99999999999999, 72.74752917776203, 76.54406399053433, 100.0, 100.0, 71.7276631464829, 100.0, 67.75916421884095, 89.70713076713857, 89.40808418531918, 67.49434903039064, 100.0, 92.13277598028289, 84.13845531168955, 73.85320980387344, 90.17759444958826, 100.0, 100.0, 100.0, 91.66203595230255, 100.0, 100.0, 98.3659975723129, 68.71142432187199, 41.33728561739055, 100.0, 100.0, 97.55334420675344, 53.08639094703745, 93.18951380803452, 70.62494312552596, 100.00000000000001, 57.63115541569644, 72.38571440920958, 79.66089806954622, 100.00000000000001, 68.66903383870455, 100.0, 88.20309403585898, 53.60207102250971, 50.61116117456391, 100.0, 100.0, 89.74448456113845, 71.29700022096038, 98.5220347392297, 90.82332005624393], \"name\": 2, \"boxpoints\": \"all\", \"jitter\": 0.5, \"whiskerwidth\": 0.2, \"marker\": {\"size\": 2}, \"line\": {\"width\": 1}}, {\"type\": \"box\", \"y\": [69.60527635298526, 69.02338521170871, 64.6589724131378, 70.13600929842777, 70.00253437753666, 86.54788463023318, 40.669056592511915, 69.57657244313799, 69.51940760051993, 83.24318381002662, 55.56132918521631, 68.83013462257475, 65.56725989843025, 71.32612884810587, 76.06104588056746, 66.39593149163983, 84.47120718574375, 71.31520895051706, 70.31191598046208, 100.0, 25.229842110340893, 85.08572356300934, 50.511654402974635, 72.29852664648647, 86.08380646650559, 66.79070317568099, 85.52415670268626, 85.47867441610015, 83.81943056971564, 63.92472949204661, 40.89729166282782, 29.559933715452026, 66.38297424594725, 89.95236513627448, 49.89566881142197, 58.2195382122736, 70.12990335245547, 91.93089089564418, 92.15329903265987, 68.085061682139, 54.915350848945714, 76.71760916467922, 70.1128922541472, 94.22722680511282, 69.20260582527285, 100.0, 79.91779734735644, 57.321538020373026, 51.71471584250879, 86.0232226582252, 89.56298079496405, 73.18642907831914, 66.31780084170929, 81.59073433461559, 55.905857517844716, 58.397662231757494, 61.950935584333266, 67.12904283642071, 56.02872665901999, 64.7114395272523, 64.13826529787612, 76.48962828875358, 63.63045675925521, 75.32828047616286, 59.18000057501343, 43.15596843024353, 81.8938261840418, 71.95871193364887, 60.69387610184322, 47.73740254393086, 65.7978180614978, 67.79966565811922, 94.22420844986134, 100.0, 43.26074278255759, 69.57758680984968, 63.01348343686061, 88.0587343072427, 53.215033995520415, 64.95856693851451, 88.2332985846226, 100.0, 100.0, 99.99999999999999, 61.670302715336724, 71.20000367108786, 56.50881819623647, 93.34533114695984, 80.29857295990342, 97.81650503911298, 62.306729281632585, 64.81240105371728, 66.4046127149692, 50.36792632307023, 44.99794027436482, 43.701383443773736, 80.98953995482582, 53.70092315814522, 67.67859835615431, 88.00132574418224, 83.60071866619228, 100.0, 100.0, 100.0, 97.9668877169931, 90.91777447773482, 73.7044882384424, 65.08996696422503, 100.0, 83.28232462003821, 70.63815033164047, 53.24679318742586, 65.75919063449118, 72.95014476733488, 100.0, 100.0, 74.8417899822477, 76.06336609163586, 84.49968994111607, 81.80277480454961, 57.68043472571267, 100.0, 67.96772400332364, 78.60539610300678, 85.96519384395066, 69.68772939015321, 63.01983848469349, 44.47154517832504, 39.20751127575727, 64.2497787553598, 41.228628791437366, 52.702120982159876, 48.67526235132889, 76.5792899365041, 74.48992746001507, 73.64600523361683, 66.97899020168947, 67.281675697634, 47.5064792082067, 81.78399098885093, 80.21738674378766, 49.16640642917771, 65.49955379227423, 83.4900307576064, 64.40255585985423, 53.003200558775106, 72.73301379032499, 64.16010210603211, 21.729132315450947, 76.25306015186214, 89.67699658772948, 79.59077081720991, 83.55189091010337], \"name\": 3, \"boxpoints\": \"all\", \"jitter\": 0.5, \"whiskerwidth\": 0.2, \"marker\": {\"size\": 2}, \"line\": {\"width\": 1}}, {\"type\": \"box\", \"y\": [76.66787780995477, 94.39132886729982, 86.69951698663472, 99.68317727102536, 72.19760109392162, 98.47885945313757, 61.83226570558729, 75.30063544681752, 100.00000000000001, 100.0, 67.34605302969923, 100.0, 71.48341113375204, 90.41679699995515, 100.0, 89.11891756078097, 100.0, 88.70702059783015, 97.8565676374622, 98.80295920790641, 100.0, 100.0, 79.45614330064318, 96.61844248646986, 100.0, 100.0, 100.00000000000001, 95.80717240415316, 78.7518002881743, 75.57781067988202, 79.67989863080875, 72.51540019796377, 87.07494614540029, 99.99999999999999, 95.10310161873463, 70.15018392402331, 82.98826823014826, 100.0, 100.0, 87.03971872045462, 82.34609336989216, 98.66262093857017, 93.91617188583105, 91.1849794134808, 78.82701018379088, 97.1040934479586, 97.17548449771067, 100.0, 74.17513579557325, 86.44842765923285, 93.59176872661654, 81.76969613528735, 84.97103857373409, 97.2558986863746, 86.09623611841899, 66.7958608057212, 93.6665513602528, 96.90303193087675, 72.7054966294589, 73.71334392361268, 72.07426930679078, 81.10640657371579, 87.22465770236175, 84.90911561505337, 61.6995561519279, 54.04711763313133, 98.1260313652762, 88.75299637924114, 79.22702877466763, 58.47153314003643, 78.69391291742373, 84.26898085662002, 92.51637282032594, 80.60952328297327, 65.54223607055009, 85.50419744782468, 100.0, 76.9446126324916, 72.77022274762258, 66.30129478961199, 100.0, 91.12602488205576, 92.53377239733088, 79.72809040077544, 95.20274920572584, 81.86035466078705, 73.88177380116767, 86.2497499362132, 90.99327758981558, 97.39288196282345, 100.0, 88.93544741627274, 72.0812522930674, 71.08693848758918, 84.00848142495765, 73.29751195162551, 99.99999999999999, 66.4099549866058, 91.95085811426384, 67.29741236171375, 96.19375441142259, 77.7875409536473, 75.2396942716946, 93.7125088188436, 82.8214026458039, 100.0, 77.06774954473687, 100.0, 97.89467215361992, 73.69940869191691, 70.14196669355724, 100.0, 90.11728270283362, 70.81884201707769, 87.14696751601524, 91.62032387263613, 81.4848901732316, 91.84209423636685, 86.69732546225154, 92.27793175309831, 100.0, 92.6243178907673, 80.42973618184952, 79.16140818781894, 91.37026336544274, 91.27619544992739, 76.06326660959665, 42.18359771410171, 85.0032874309122, 77.04679286613634, 45.10493028070153, 70.42425819474018, 72.72447512605231, 87.32905012898111, 58.06560300232629, 100.0, 83.95619747935349, 74.10882138354543, 55.79363538480559, 100.0, 79.65886514429278, 74.63816033425124, 95.39008723401633, 81.5771540713314, 93.24594709723414, 60.98684086817638, 72.54462912711111, 87.99727362573083, 24.041728948278763, 94.4884351198323, 94.02921310536215, 75.49430710775006, 97.17705212444399], \"name\": 4, \"boxpoints\": \"all\", \"jitter\": 0.5, \"whiskerwidth\": 0.2, \"marker\": {\"size\": 2}, \"line\": {\"width\": 1}}, {\"type\": \"box\", \"y\": [38.47297416630699, 56.644608870069035, 18.465813695271343, 63.07663951220281, 47.33902870394315, 47.078327626045294, 56.190356591179714, 52.39311200631744, 58.679988863147585, 47.4119857228073, 67.16904856029868, 99.2713346106688, 37.50063397235483, 97.60605419001455, 39.35035775543662, 100.0, 66.58203013423812, 59.15400160965309, 84.33296626101688, 47.817462908858765, 25.246364216819295, 94.30365741922375, 26.937992034004438, 95.18687940247045, 37.204128686727074, 76.98273141269863, 33.06653076516135, 77.92750625703125, 100.0, 48.343561389689846, 45.38672000241626, 58.140024851277055, 78.05933670371563, 82.38435866731325, 52.19299407774637, 85.30504648855883, 100.0, 93.33126548544429, 68.2556071626761, 64.76715234155137, 46.68263630523055, 100.0, 88.18666537964201, 65.83551285144061, 100.0, 83.06126055528613, 100.0, 77.12921956949855, 62.899298103083694, 87.5407656759196, 65.24063312777274, 41.147287901998496, 20.948290226411874, 61.86811413825272, 38.24553046017157, 29.18354702001251, 87.4635635397125, 69.9447298198983, 57.80246875894494, 43.558135984977, 47.581045477246114, 63.14461132867706, 37.864012872966995, 51.064488779600175, 35.124250225916256, 29.858353473073368, 36.572772286311036, 71.29160810830771, 69.2547401359281, 28.436865230526156, 80.09525329516012, 65.79531497203604, 69.81235519609038, 17.07184688649274, 35.013430483175945, 31.238207530668525, 48.529022747362625, 59.341934794745555, 20.687853421070095, 70.71271606127229, 67.76481454301214, 48.851603234523594, 37.96737701884693, 61.21395075228019, 38.20797185499614, 68.07035595214748, 69.24828123430225, 29.278239913264454, 84.63777156493957, 38.263582834897704, 9.75614778247996, 39.674797781874204, 71.61764575995086, 20.973939380056404, 100.0, 45.99063554777107, 56.00000325122184, 71.42623658235425, 59.82208652925155, 74.05212647433876, 52.521031228331324, 40.220520835422, 77.81211780897215, 95.18455436606519, 69.46913380425761, 61.42865479032127, 37.27128546031538, 65.4526508435136, 60.244410338167114, 21.03086573835547, 35.659614272918574, 3.5246119857013336, 72.87000222129144, 49.16765259667094, 88.74349576703115, 78.26073900597179, 42.85241794411523, 66.73753914114509, 45.004572286124315, 11.382610087071573, 53.909459859629344, 78.83616582844856, 54.94186250509237, 49.495130331955885, 66.268819282269, 57.85015626788753, 78.66720492010552, 50.223356434581255, 92.59620163416602, 28.579301959598755, 100.0, 62.684119601868474, 57.33650432709321, 28.65796729002097, 59.10110020102054, 60.865361575638126, 64.70924356473141, 80.79848138112294, 84.61120118532715, 73.41955786050073, 73.49605623361758, 49.97128245719514, 59.090293317170286, 50.34450451839127, 44.27169867748016, 18.01509342800172, 28.423249039465897, 58.462663055960086, 35.99248118007553, 57.90667248822641, 31.43516978188848, 28.99233070424881, 89.77682549508182], \"name\": 5, \"boxpoints\": \"all\", \"jitter\": 0.5, \"whiskerwidth\": 0.2, \"marker\": {\"size\": 2}, \"line\": {\"width\": 1}}, {\"type\": \"box\", \"y\": [11.974911007010373, 8.541785125184692, 9.019741854195784, 6.493097961383399, 3.6404116925562975, 3.6902992475481247, 4.96509043757828, 6.499436815205434, 4.026628775086372, 3.9140773389249692, 3.344178111389369, 3.299647284984218, 5.577949019912837, 8.466043991137251, 8.743352499151744, 2.4999355694911403, 16.02804419093163, 4.805022072526986, 8.070641848955747, 4.617900328163678, 4.603893010770368, 2.4283398669867666, 11.320609190316814, 25.725406934622182, 9.601482477112533, 24.450921242876777, 7.8472366685456105, 31.757242143646973, 7.695301275934751, 16.72585245807133, 15.251293059484105, 12.047437210151708, 12.065338829384403, 30.66364349428555, 30.777007325123314, 31.909312897658953, 12.817348331795234, 22.097472753880364, 47.21830261163174, 30.62774909137093, 2.38574275639212, 24.11373143775168, 48.17684728368844, 5.791126081420682, 5.715648105671402, 25.38875410596657, 39.16483384973383, 55.20389779602464, 13.594541434153959, 40.62299195371435, 8.228734009871939, 6.251917751107546, 28.712573635525523, 57.94756087636716, 4.549437457699151, 28.691862857753197, 12.275839174210086, 57.0035022851218, 15.592614534430822, 8.242018831451174, 8.75402225430553, 1.4102131757776628, 5.966286348028151, 3.0327858919773543, 8.816410778805652, 5.0318345762878725, 4.849537357338003, 5.811977355398898, 2.0771983330313684, 2.154899821848029, 3.082773101079168, 5.209236980473137, 2.31928827413729, 5.11221344836012, 6.560751636756547, 3.4785459782472494, 4.335900853613706, 4.737865288953365, 8.200441418813675, 6.458381272956475, 30.011524780482908, 2.6314730882142174, 8.244639522062931, 16.092678578279834, 4.167968017945172, 7.137527264636857, 9.590421628013752, 7.049388225490202, 8.107689068542559, 38.05072935183808, 12.071993620660301, 5.9631958965070355, 5.696547617919052, 11.690143858169256, 15.479836483534903, 2.806898920050419, 12.079029213370545, 3.48938205025156, 40.24824467669883, 8.878284762879572, 21.75736614956821, 10.872078654307243, 3.7361252443223476], \"name\": 6, \"boxpoints\": \"all\", \"jitter\": 0.5, \"whiskerwidth\": 0.2, \"marker\": {\"size\": 2}, \"line\": {\"width\": 1}}, {\"type\": \"box\", \"y\": [5.847092369655621, 2.62164449797113, 2.750579484970902, 20.37903488521196, 3.5830131358347166, 3.4319787176614724, 5.553282966071691, 10.613423795965572, 4.988903337741667, 6.480141319095851, 3.4622624445021533, 3.668488382961911, 13.669621839765357, 10.927168432435192, 11.325449127749023, 8.462799425326775, 4.807459501993128, 2.9528870853760547, 5.182734419739993, 22.015430988971094, 4.939089350252942, 10.768087265961274, 3.0674088798103605, 2.8536588704782666, 4.419827448664643, 6.686432543065719, 11.30386139450144, 2.1012630472973517, 22.67855643600712, 4.899627003204977, 6.736139486347768, 6.988505306373166, 4.535520259983185, 2.26579601687272, 15.49028279352668, 21.768546407630033, 13.405289507216596, 47.09610138885495, 11.207577376238444, 37.61839964720881, 12.327863960147472, 4.97524739500026, 18.420870503252075, 41.855153935928115, 63.648060037092506, 37.106610925131804, 43.53040552186089, 11.86692735976514, 34.2766702051767, 50.83208981275364, 41.22469619634711, 26.72278494048666, 35.782977812116435, 38.127357859938996, 18.412831746619638, 6.685060491395767, 7.199692100686394, 16.77747796057262, 20.96660943530965, 12.608910930406084, 18.838949894043914, 39.85640671584563, 9.646267014441124, 39.363629103688325, 53.70609758424188, 91.62994480895773, 18.16743707557617, 13.719644327144469, 8.366176092371868, 4.971812785387165, 45.04404231866808, 13.218813691181207, 7.674295058191368, 5.2806385458415335, 11.027761021902041, 6.101544444408373, 14.389791493680296, 3.9425609129421555, 9.130636798240323, 10.58717085497941, 6.045868241297494, 9.353843529566419, 14.47832737680109, 6.786508466840926, 9.307668460930273, 8.531940306620585, 21.96175573361338, 7.297241616200991, 10.34938003407984, 22.633654553542122, 16.6290428310618, 3.2639417308450684, 24.24576831066171, 3.9196220624082336, 27.355342885304097, 10.38681238984417, 16.782491292190535, 22.07164773901776, 4.13507525735597], \"name\": 7, \"boxpoints\": \"all\", \"jitter\": 0.5, \"whiskerwidth\": 0.2, \"marker\": {\"size\": 2}, \"line\": {\"width\": 1}}, {\"type\": \"box\", \"y\": [43.51696181311996, 53.516903910422315, 72.18292617003355, 56.54117360456871, 36.17103785656202, 83.91688905940144, 100.0, 91.25572687777381, 65.7530253344513, 47.11672474741494, 91.09476092249156, 58.71935062574928, 72.39420840300932, 44.08124160642437, 83.65205072605403, 96.49711110353141, 47.142403938198306, 48.751658802958985, 58.421352314101746, 93.56827980600778, 74.93600903412538, 91.77730176200627, 55.85588200082947, 51.393633471418035, 50.881713583559765, 46.277146168278634, 84.26486998048524, 57.77139914743639, 100.0, 61.34817670173959, 73.11425539982167, 84.73896881624202, 80.04743610536629, 80.7590594231218, 44.921683798018435, 86.85507598278238, 77.90524447327466, 69.0406546986437, 53.28453001378669, 84.69627227041565, 54.94761574990829, 55.71487288159694, 67.67950659448177, 55.69677073614035, 48.00701647210108, 48.773742291373125, 100.0, 75.76636070184091, 69.13300398530671, 65.40236985726136, 43.80956111964194, 41.72358279102439, 76.63705267177883, 88.39776242165834, 73.44659437716051, 37.65405965957776, 53.323435011266824, 71.0795290278678, 85.69356403888472, 56.2261644434128, 72.50149669339532, 81.3393362495669, 100.0, 50.81755108034608, 95.59614015629452, 54.92860664277011, 83.87619894701501, 82.49981796042329, 57.80676739396686, 62.004037401829436, 54.892935821386814, 52.011518542187375, 24.50534418971053, 50.83615506108101, 67.41730445656633, 39.01630565876871, 46.150136372766376, 75.06788418543553, 49.501487673138826, 100.00000000000001, 75.48115595193279, 74.41632239482435, 55.07864899268185, 62.02341797740987, 80.47866039611489, 100.0, 36.67196926042256, 70.21175646899891, 77.03128250368889, 48.68595387745498, 33.542782865410175, 100.0, 49.01264940129592, 50.794156726899665, 88.36140249563607, 64.92908766022495, 52.618006178265546, 61.41928107196632], \"name\": 8, \"boxpoints\": \"all\", \"jitter\": 0.5, \"whiskerwidth\": 0.2, \"marker\": {\"size\": 2}, \"line\": {\"width\": 1}}, {\"type\": \"box\", \"y\": [35.20393857815765, 34.45953284029062, 2.1205975012681777, 41.95729689987821, 28.179467243577335, 64.11285805332878, 57.39411800652732, 66.08423427499201, 78.20568397486986, 41.80665916830811, 47.70491417836461, 39.46949955729198, 72.7618006598595, 41.88864420336042, 52.692636788381364, 63.962342440697924, 40.986157059299785, 67.5770145161854, 37.16420761049092, 56.18941583541208, 54.84061517882943, 29.664111182998678, 12.60333404431542, 44.77394717472703, 41.43363900866535, 36.49959869960891, 32.67277476013213, 48.09692804907743, 45.10337503340614, 30.117106336309313, 29.88318750940467, 37.24712094753641, 74.42321396836, 67.16629029724936, 10.087330220259526, 39.521017073183216, 44.140623345392086, 55.70539695783478, 48.41484087431857, 54.25116856715174, 50.52485304222624, 36.755002175059275, 60.29238204014967, 42.94906725525592, 36.14976982037955, 55.84049672495579, 84.27600931350715, 57.8285646147577, 67.98596434423605, 33.6433210779172, 27.562512133511884, 39.209153337959265, 54.28395311655955, 59.280066627488694, 67.49207346222983, 21.598045721159156, 39.45462672291056, 61.60745286547575, 62.44385278187669, 4.424628218403353, 64.01754089692264, 41.94322967407392, 34.89568862896459, 24.089103580047965, 56.11659527198198, 67.99399197988093, 51.82305404718175, 42.63571283517834, 56.44249974519485, 35.73853524249017, 36.334349436218304, 14.678348706267997, 37.54204288986279, 62.066120442706854, 29.594484946582945, 57.876592702702204, 27.31150443669843, 54.18920212672327, 43.59063131655207, 72.59884205077887, 64.98218402507452, 44.51250260156458, 62.41597810720099, 79.95625002446135, 73.17755973013318, 70.32076533513725, 27.965215177282154, 78.62521715625357, 67.7069671232629, 28.47668539804931, 28.410320341385827, 55.477909744237756, 42.47415740706758, 34.00428792374374, 63.32377246730113, 40.45433330993456, 36.35622538941058, 45.11044649845758], \"name\": 9, \"boxpoints\": \"all\", \"jitter\": 0.5, \"whiskerwidth\": 0.2, \"marker\": {\"size\": 2}, \"line\": {\"width\": 1}}, {\"type\": \"box\", \"y\": [6.580191839680427, 9.12424042768398, 7.692804785243357, 3.0856688026244625, 8.772691529942689, 36.63423309505279, 21.39848947033754, 35.91433923066902, 43.06404595108646, 5.961744002358797, 45.63778576406549, 34.78581589159439, 11.022521358859926, 20.38767306437116, 16.172485580055035, 9.277604318605439, 20.638214620816566, 20.071099835050447, 4.641397323761982, 11.764504603560498, 79.52999304745344, 3.0505542522961897, 9.284717734481845, 4.357485588811175, 5.265574028522879, 27.408721621089686, 3.699615219010532, 30.464295618513393, 44.422883010753516, 26.05535334033039, 36.35744091219543, 39.623267112861775, 38.2199881218787, 4.87380385701202, 10.752729535694515, 55.406046657364996, 45.05347247414832, 33.57278095728708, 14.141915114296896, 27.21575516080433, 55.96378857492111, 14.762145607186135, 28.678133161645107, 28.23574373814808, 60.77291734682673, 66.69424341693254, 11.279036631962063, 43.9506216039814, 43.2766679237064, 35.23831072228311, 14.068688276734646, 43.89884554009255, 4.437257905762381, 10.323626282123715, 23.191386130533893, 7.847971452084565, 5.490527962096571, 12.654850529342689, 3.6839521544335696, 44.68297668614567, 17.677679803329465, 15.74342996310185, 14.014611779525485, 2.1955865378489663, 5.0969112108001475, 3.3778767161579526, 19.725664113000985, 40.87993424236874, 7.370946671640177, 5.034734947103789, 45.28137986130134, 31.075841130951165, 15.34433680113747, 5.2595479462527175, 88.05900873037965, 3.1850541581401948, 16.72616700758675, 13.26174173401847, 15.715198141290475, 7.074912094988104, 30.14812086005852, 6.910158860928415, 66.81699225248752, 19.126074272829033, 18.21326702542306, 3.1572774308368707, 20.723027759409486, 77.62609611049696, 23.85597645583309, 12.266739058817793, 17.83250879749179, 28.487671891649786, 15.952826892771238, 18.32712040521422, 18.199139527121407, 41.92702524699571, 14.492994481900704], \"name\": 10, \"boxpoints\": \"all\", \"jitter\": 0.5, \"whiskerwidth\": 0.2, \"marker\": {\"size\": 2}, \"line\": {\"width\": 1}}, {\"type\": \"box\", \"y\": [83.33982779088919, 84.68986515383806, 81.25181912617423, 100.0, 84.73095939067285, 67.51569909866231, 80.14233558462699, 79.22607488679593, 54.12929859238654, 99.99999999999999, 89.20937923004023, 100.0, 100.0, 86.50035309268455, 61.590752005077256, 63.42668307464824, 97.36099342481072, 100.0, 94.59859039122215, 72.07420633623012, 78.66717143065138, 82.37200912573451, 46.07347321064349, 64.99903088555176, 100.0, 87.42775403758357, 71.67894354100272, 58.24636075649617, 78.58245213909986, 81.83285992003441, 90.23234704867815, 96.14537829178698, 88.78423701718569, 100.0, 80.37306448501991, 77.73515981234341, 59.717508245126034, 93.92718488646553, 73.40106972191747, 90.9713634255038, 78.56114836643269, 76.46338560005934, 88.63248242644696, 18.48753777258718, 93.47185699467678, 100.0, 100.0, 100.0], \"name\": 11, \"boxpoints\": \"all\", \"jitter\": 0.5, \"whiskerwidth\": 0.2, \"marker\": {\"size\": 2}, \"line\": {\"width\": 1}}, {\"type\": \"box\", \"y\": [10.407598382636195, 4.716184726327398, 8.786683346225441, 5.872518466106193, 14.30306157322036, 6.821883397940296, 50.70235291607682, 4.919640679746048, 8.093833886902551, 16.637538124181845, 5.910677789898493, 1.7979440819403676, 3.817531290342262, 7.058921135363826, 14.886995492261642, 4.885022431902612, 11.735076993600028, 11.373344751978966, 24.488802690897618, 4.230742453561552, 7.827499408095281, 28.70701474922787, 9.027333835793163, 54.458276436102835, 30.225740948606877, 44.7127226971212, 48.051553264306605, 12.0293110645224, 13.251090489276342, 20.65939063158755, 35.43791467548776, 23.277682229105928, 34.13719021980476, 27.42499468997234, 13.385248129188776, 43.40893846714179, 22.889292689855687, 36.993175451063586, 12.378925238705154, 48.710557335202196, 11.815021799656659, 6.729724184320031, 18.454800884933803, 12.617738383197402, 12.23200331116721, 30.534344448370636, 7.993000749639578, 46.68194362415417], \"name\": 12, \"boxpoints\": \"all\", \"jitter\": 0.5, \"whiskerwidth\": 0.2, \"marker\": {\"size\": 2}, \"line\": {\"width\": 1}}, {\"type\": \"box\", \"y\": [11.653890515094638, 15.434849459298196, 12.519952855591574, 39.064657553346684, 64.36631436238491, 4.223504678755229, 20.597371816228367, 9.521541827276131, 7.146582850404455, 21.78087348228718, 44.72105703424748, 7.9928459733075305, 26.597941864690238, 34.288065756694344, 40.09914214379549, 25.87683335395051, 10.680346413864017, 13.286314796353695, 4.839568496603912, 8.96613666282438, 4.909686514020472, 15.24824578810908, 4.167300959505231, 2.023843539968284, 11.119786457466816, 11.999530038907077, 19.734553657274848, 3.7430648244154465, 28.68288277004382, 18.635270251976028, 19.55264286000064, 5.632416536257868, 13.092708650504761, 5.640439717710689, 2.080077886514241, 7.974632942429224, 6.757041665032441, 12.665726724185276, 39.488562317608974, 21.117958054355473, 5.7944550818142915, 2.233773011707276, 3.137379651641855, 31.985189941799806, 39.57313221897344, 2.3553297284693184, 27.35289368355442, 9.81363604833653, 22.096074113252072, 17.930613424026063, 5.155902906897719, 16.22178897258121, 11.107742339475069, 20.5479472459251, 24.857505823801283, 8.711325252900032, 18.749165148983465, 8.442142109241757, 10.654153439857167, 31.839018604575514, 45.993092983460194, 20.962067602195006, 6.519058998773405, 22.970976160626776, 26.000164090050717, 22.95133786937411, 16.983366582058885, 35.76091459324658, 5.027866837697197, 8.2794039255856, 4.320939311681223, 6.259747871667147, 26.44485331847203, 19.059711776646594, 29.306077293956335, 5.355430087960548], \"name\": 13, \"boxpoints\": \"all\", \"jitter\": 0.5, \"whiskerwidth\": 0.2, \"marker\": {\"size\": 2}, \"line\": {\"width\": 1}}, {\"type\": \"box\", \"y\": [87.19381117738703, 72.6726174846386, 87.21798795025359, 66.51904388199603, 94.77408258495528, 29.956572163406907, 58.50497788764476, 18.242381421506032, 44.44839106461843, 64.86741199808361, 65.51460216880247, 58.59210068747969, 82.9994888224231, 74.48372884127487, 30.654292436637093, 31.582330723086066, 26.71358869328061, 64.54465773242758, 48.58893141849489, 54.95228076892988, 79.21353240030241, 49.326734858398936, 60.42087461572993, 68.35550582359161, 42.20284253997364, 83.93950460602635, 95.56003603405537, 100.0, 89.886254579945, 100.00000000000001, 89.23333073864687, 79.37503063353583, 95.06225241444326, 76.73014831846551, 90.17134065171254, 82.78408207112733, 94.03807922821498, 77.65239341928994, 100.0, 87.44405668394013, 85.92678962406347, 89.79014477668797, 67.78324027940623, 82.24761176924116, 88.99311382653887, 100.0, 79.02979788371158, 85.95165459569269, 76.76988939662965, 100.0, 100.0, 72.99962623059226, 100.0, 60.01492795734499, 71.62886134774611, 66.86891142953834, 69.36928513691554, 98.28018976443734, 72.51816956083525, 100.0, 75.99235180319243, 60.63025942537263, 100.0, 63.51481694779764, 100.0, 48.47990334789001, 94.20925198008598, 100.0, 66.80446884371865, 85.98072859839478, 78.92098291856966, 39.34522231966425, 78.02467206884786, 78.96353241274919, 100.0, 50.63686365575231, 83.08407035418269, 60.76386375117846, 75.92125109798008, 47.4500499759099, 66.84767191190538, 74.0827091867449, 66.2094344482465, 91.29331590163328, 85.69719831362397, 87.4389934408378, 100.0, 66.10639972307222, 99.0617488916616, 37.84364120681724, 100.0, 91.18052659316514, 71.64678517147776, 80.66531194818602], \"name\": 14, \"boxpoints\": \"all\", \"jitter\": 0.5, \"whiskerwidth\": 0.2, \"marker\": {\"size\": 2}, \"line\": {\"width\": 1}}, {\"type\": \"box\", \"y\": [53.13166270507628, 67.50667980814767, 48.14760526939338, 54.95833580817573, 99.99999999999999, 50.48831132256252, 49.121363813702686, 46.06620595570074, 53.184597385482185, 49.756618260569034, 41.88569764754311, 82.10130169815953, 37.941183340648465, 55.51336032607091, 38.54438363879814, 61.771918476782375, 58.25168432259526, 45.22282932929352, 72.07321532699065, 78.6530770098913, 50.67466384150581, 44.79404236508272, 70.32433557326927, 58.41363412818721, 20.071919576364735, 80.02093631020719, 72.74141246691946, 33.86313083696031, 66.5473269640511, 60.4595179797262, 60.38906859262668], \"name\": 15, \"boxpoints\": \"all\", \"jitter\": 0.5, \"whiskerwidth\": 0.2, \"marker\": {\"size\": 2}, \"line\": {\"width\": 1}}], {\"hovermode\": \"closest\", \"font\": {\"size\": 14}, \"title\": null, \"xaxis\": {\"title\": null, \"showline\": true, \"linewidth\": 1.5}, \"yaxis\": {\"title\": null, \"showline\": true, \"linewidth\": 1.5, \"zeroline\": false}}, {\"showLink\": true, \"linkText\": \"Export to plot.ly\"})});</script>"
      ],
      "text/vnd.plotly.v1+html": [
       "<div id=\"ec892b8a-1ad4-4f43-ac8c-7c24303e4b33\" style=\"height: 525px; width: 100%;\" class=\"plotly-graph-div\"></div><script type=\"text/javascript\">require([\"plotly\"], function(Plotly) { window.PLOTLYENV=window.PLOTLYENV || {};window.PLOTLYENV.BASE_URL=\"https://plot.ly\";Plotly.newPlot(\"ec892b8a-1ad4-4f43-ac8c-7c24303e4b33\", [{\"type\": \"box\", \"y\": [100.0, 100.0, 100.0, 84.9524621245033, 100.0, 52.93932353275215, 80.22318727873296, 94.19571114535026, 98.20598030872088, 78.9123146708393, 98.89482515312245, 100.0, 90.18642639117023, 86.86316893851055, 74.87719106044833, 93.45888204840979, 35.663482700926494, 100.0, 87.97636935162254, 31.245185702836686, 94.85787774821654, 100.0, 100.0, 84.79549503160095, 95.464811139062, 68.47792865989939, 100.0, 77.60414598355638, 100.0, 57.88245887820737, 100.0, 100.0, 90.12920007990276, 100.00000000000001, 100.0, 77.47092527290603, 99.03262771735119, 94.60511205330583, 100.00000000000001, 100.0, 77.83393768712921, 79.1533630422523, 87.77915543163432, 68.16603155772009, 60.60821117552669, 94.69996980185155, 95.72680626724953, 86.67879420608818, 67.48072130915718, 70.4265921206282, 81.11430502249458, 65.86599865437438, 79.56310489486378, 51.435072086155444, 71.75416947125053, 87.53477988209976, 70.22167143811816, 75.19140751314049, 56.07934694317738, 81.88068491505706, 83.66911728912251, 92.80528667652057, 86.66888162612928, 42.355670911088026, 76.9777942559212, 76.79850106298834, 52.887931508937356, 84.06690451472444, 65.52812293847921, 88.18421621992506, 33.98521700447237, 79.6118887634524, 60.84690395869382, 79.82608656396809, 82.89180178456208, 54.508314512793305, 83.69385179606172, 64.81208576535188, 63.847587442114225, 73.82850945393281, 70.2080050852076, 39.99437015262081, 16.85391743306639, 64.6235576813444, 63.15324972883425, 66.70230206632709, 86.51160003887941, 80.27850563673874, 70.06403459778508, 74.71738271356203, 77.99809202600235, 84.37570130466432, 70.36754156716208, 95.50120532401186, 93.1464611927156, 76.06725412359818, 73.63739640444462, 95.44500259246541, 62.568458644670976, 70.89660360357338, 86.41483185914592, 84.13394536747504, 100.0, 91.85728320589244, 88.94291520452403, 75.9942786720437, 89.05316338426968, 100.0, 100.0, 94.29452021404782, 89.04132315746047, 97.8794230874391, 99.51533626731585, 85.49472565026484, 100.0, 88.03452025895629, 35.01679453438286, 89.60092023988176, 98.76047340907559, 43.50955896746129, 72.17045899615303, 81.06801104688346, 87.44834748336159, 83.03654015476985, 95.74947018397071, 100.0, 93.64398308462138, 37.81911925148842, 82.77924148481661, 74.60887138321934, 96.976022207386, 100.0, 85.349395632486, 100.0, 57.777538250770434, 61.67653680938459, 72.47539277248826, 43.259850746854774, 93.93148414156332, 85.23763969973515, 97.79063486179537, 92.10868836045529], \"name\": 0, \"boxpoints\": \"all\", \"jitter\": 0.5, \"whiskerwidth\": 0.2, \"marker\": {\"size\": 2}, \"line\": {\"width\": 1}}, {\"type\": \"box\", \"y\": [74.95990299587804, 58.66625230372623, 64.84357926096295, 66.4074640610035, 63.8482472777043, 65.18839396569886, 89.88965467587181, 59.64316321905773, 60.95550039112131, 53.05001499028458, 77.23178827296923, 59.366957793100504, 55.31474464598534, 78.13113611733375, 41.788843815649, 48.147853996475575, 84.9437518547321, 79.48473300298716, 84.26718320361925, 38.70886302829003, 83.93541920590445, 65.10911376262852, 74.79569810216528, 56.888150442966406, 52.78769120188308, 39.944043826987176, 75.5397835181046, 68.97213649684095, 46.05820555569442, 100.0, 54.659243878404254, 53.32253430770212, 73.25498924040342, 56.75902700378819, 79.04961444179743, 100.0, 100.0, 58.73968103117333, 89.14321221694837, 93.02068466677318, 78.79008608765386, 100.0, 64.13463971735463, 85.16182954415265, 63.05547948823803, 100.0, 78.37450670545351, 100.0, 100.0, 100.00000000000001, 100.0, 82.5579157447731, 72.27364000723857, 69.63206425565942, 77.76972962734038, 89.77273302539166, 67.31233487022587, 57.53164713545514, 71.85014530134181, 98.42476012146342, 92.9678596804081, 52.782673663960914, 100.0, 38.96451523717395, 84.76308683405328, 55.670561187789126, 82.8783844578004, 87.79639091323307, 58.306544341897045, 60.812437561048434, 58.44227351866507, 60.25682277651105, 73.27325170394839, 83.10924696871066, 78.40673035213857, 45.24885164288772, 52.674301123102985, 84.11364593766967, 70.84086814751457, 27.653944308528015, 46.801386405600205, 65.8326738744641, 35.79581297373217, 75.8911782345161, 70.20307517459338, 68.25537840541162, 76.69579195939997], \"name\": 1, \"boxpoints\": \"all\", \"jitter\": 0.5, \"whiskerwidth\": 0.2, \"marker\": {\"size\": 2}, \"line\": {\"width\": 1}}, {\"type\": \"box\", \"y\": [100.0, 80.74524133051142, 75.96444325437425, 91.98909786456994, 63.94213014499078, 92.93885477532307, 100.0, 54.19570550106946, 96.22990880946897, 82.52090378129378, 100.0, 83.89035468185617, 99.6090368366891, 100.0, 85.60036939571476, 91.99268157222387, 20.137079902120004, 100.0, 49.52211948552381, 76.11361281890619, 85.44369948826474, 80.30375337276557, 45.42498168849361, 16.027141393129664, 98.2030152189083, 61.4502877469219, 62.661607734694456, 33.264791298605665, 63.634532642538865, 60.67594817042132, 100.0, 44.183511622414585, 90.10187525965276, 94.15040675393745, 10.155917031142957, 65.44538140098538, 57.13840300292653, 66.40253514142447, 84.4346740826904, 72.76985517264644, 63.84943022778975, 80.68721684077715, 100.0, 99.99999999999999, 93.68705042218544, 74.21380163450964, 99.29229167668919, 62.25933639306819, 100.0, 100.0, 96.94170161687985, 100.0, 93.08901752469777, 98.26597210920431, 92.58934046245051, 100.0, 100.0, 100.0, 100.0, 95.85955016999931, 69.41137238956975, 90.1664720250146, 83.09950808193734, 75.41446208879732, 100.0, 100.0, 100.0, 74.1254103866881, 100.0, 100.0, 83.6483050860393, 100.0, 100.0, 81.76079648517754, 66.5319622398499, 84.91359042310172, 76.78536035751893, 86.66217811494242, 100.0, 86.28773831269199, 91.52014317264975, 84.56282553547491, 88.40376580388057, 74.12408484004948, 98.63273958870238, 99.57882102749319, 83.64777083781121, 76.8391190714559, 100.0, 83.66320085535345, 96.87182928901788, 83.60736940450451, 56.67617587918283, 100.0, 77.53987816177283, 97.14296053722819, 75.22190766974984, 91.384934435302, 98.22670364906948, 94.15839140027852, 88.04401861257281, 83.73821547676724, 96.38168922603327, 74.96011315542518, 99.99999999999999, 69.62060577195827, 99.99999999999999, 72.74752917776203, 76.54406399053433, 100.0, 100.0, 71.7276631464829, 100.0, 67.75916421884095, 89.70713076713857, 89.40808418531918, 67.49434903039064, 100.0, 92.13277598028289, 84.13845531168955, 73.85320980387344, 90.17759444958826, 100.0, 100.0, 100.0, 91.66203595230255, 100.0, 100.0, 98.3659975723129, 68.71142432187199, 41.33728561739055, 100.0, 100.0, 97.55334420675344, 53.08639094703745, 93.18951380803452, 70.62494312552596, 100.00000000000001, 57.63115541569644, 72.38571440920958, 79.66089806954622, 100.00000000000001, 68.66903383870455, 100.0, 88.20309403585898, 53.60207102250971, 50.61116117456391, 100.0, 100.0, 89.74448456113845, 71.29700022096038, 98.5220347392297, 90.82332005624393], \"name\": 2, \"boxpoints\": \"all\", \"jitter\": 0.5, \"whiskerwidth\": 0.2, \"marker\": {\"size\": 2}, \"line\": {\"width\": 1}}, {\"type\": \"box\", \"y\": [69.60527635298526, 69.02338521170871, 64.6589724131378, 70.13600929842777, 70.00253437753666, 86.54788463023318, 40.669056592511915, 69.57657244313799, 69.51940760051993, 83.24318381002662, 55.56132918521631, 68.83013462257475, 65.56725989843025, 71.32612884810587, 76.06104588056746, 66.39593149163983, 84.47120718574375, 71.31520895051706, 70.31191598046208, 100.0, 25.229842110340893, 85.08572356300934, 50.511654402974635, 72.29852664648647, 86.08380646650559, 66.79070317568099, 85.52415670268626, 85.47867441610015, 83.81943056971564, 63.92472949204661, 40.89729166282782, 29.559933715452026, 66.38297424594725, 89.95236513627448, 49.89566881142197, 58.2195382122736, 70.12990335245547, 91.93089089564418, 92.15329903265987, 68.085061682139, 54.915350848945714, 76.71760916467922, 70.1128922541472, 94.22722680511282, 69.20260582527285, 100.0, 79.91779734735644, 57.321538020373026, 51.71471584250879, 86.0232226582252, 89.56298079496405, 73.18642907831914, 66.31780084170929, 81.59073433461559, 55.905857517844716, 58.397662231757494, 61.950935584333266, 67.12904283642071, 56.02872665901999, 64.7114395272523, 64.13826529787612, 76.48962828875358, 63.63045675925521, 75.32828047616286, 59.18000057501343, 43.15596843024353, 81.8938261840418, 71.95871193364887, 60.69387610184322, 47.73740254393086, 65.7978180614978, 67.79966565811922, 94.22420844986134, 100.0, 43.26074278255759, 69.57758680984968, 63.01348343686061, 88.0587343072427, 53.215033995520415, 64.95856693851451, 88.2332985846226, 100.0, 100.0, 99.99999999999999, 61.670302715336724, 71.20000367108786, 56.50881819623647, 93.34533114695984, 80.29857295990342, 97.81650503911298, 62.306729281632585, 64.81240105371728, 66.4046127149692, 50.36792632307023, 44.99794027436482, 43.701383443773736, 80.98953995482582, 53.70092315814522, 67.67859835615431, 88.00132574418224, 83.60071866619228, 100.0, 100.0, 100.0, 97.9668877169931, 90.91777447773482, 73.7044882384424, 65.08996696422503, 100.0, 83.28232462003821, 70.63815033164047, 53.24679318742586, 65.75919063449118, 72.95014476733488, 100.0, 100.0, 74.8417899822477, 76.06336609163586, 84.49968994111607, 81.80277480454961, 57.68043472571267, 100.0, 67.96772400332364, 78.60539610300678, 85.96519384395066, 69.68772939015321, 63.01983848469349, 44.47154517832504, 39.20751127575727, 64.2497787553598, 41.228628791437366, 52.702120982159876, 48.67526235132889, 76.5792899365041, 74.48992746001507, 73.64600523361683, 66.97899020168947, 67.281675697634, 47.5064792082067, 81.78399098885093, 80.21738674378766, 49.16640642917771, 65.49955379227423, 83.4900307576064, 64.40255585985423, 53.003200558775106, 72.73301379032499, 64.16010210603211, 21.729132315450947, 76.25306015186214, 89.67699658772948, 79.59077081720991, 83.55189091010337], \"name\": 3, \"boxpoints\": \"all\", \"jitter\": 0.5, \"whiskerwidth\": 0.2, \"marker\": {\"size\": 2}, \"line\": {\"width\": 1}}, {\"type\": \"box\", \"y\": [76.66787780995477, 94.39132886729982, 86.69951698663472, 99.68317727102536, 72.19760109392162, 98.47885945313757, 61.83226570558729, 75.30063544681752, 100.00000000000001, 100.0, 67.34605302969923, 100.0, 71.48341113375204, 90.41679699995515, 100.0, 89.11891756078097, 100.0, 88.70702059783015, 97.8565676374622, 98.80295920790641, 100.0, 100.0, 79.45614330064318, 96.61844248646986, 100.0, 100.0, 100.00000000000001, 95.80717240415316, 78.7518002881743, 75.57781067988202, 79.67989863080875, 72.51540019796377, 87.07494614540029, 99.99999999999999, 95.10310161873463, 70.15018392402331, 82.98826823014826, 100.0, 100.0, 87.03971872045462, 82.34609336989216, 98.66262093857017, 93.91617188583105, 91.1849794134808, 78.82701018379088, 97.1040934479586, 97.17548449771067, 100.0, 74.17513579557325, 86.44842765923285, 93.59176872661654, 81.76969613528735, 84.97103857373409, 97.2558986863746, 86.09623611841899, 66.7958608057212, 93.6665513602528, 96.90303193087675, 72.7054966294589, 73.71334392361268, 72.07426930679078, 81.10640657371579, 87.22465770236175, 84.90911561505337, 61.6995561519279, 54.04711763313133, 98.1260313652762, 88.75299637924114, 79.22702877466763, 58.47153314003643, 78.69391291742373, 84.26898085662002, 92.51637282032594, 80.60952328297327, 65.54223607055009, 85.50419744782468, 100.0, 76.9446126324916, 72.77022274762258, 66.30129478961199, 100.0, 91.12602488205576, 92.53377239733088, 79.72809040077544, 95.20274920572584, 81.86035466078705, 73.88177380116767, 86.2497499362132, 90.99327758981558, 97.39288196282345, 100.0, 88.93544741627274, 72.0812522930674, 71.08693848758918, 84.00848142495765, 73.29751195162551, 99.99999999999999, 66.4099549866058, 91.95085811426384, 67.29741236171375, 96.19375441142259, 77.7875409536473, 75.2396942716946, 93.7125088188436, 82.8214026458039, 100.0, 77.06774954473687, 100.0, 97.89467215361992, 73.69940869191691, 70.14196669355724, 100.0, 90.11728270283362, 70.81884201707769, 87.14696751601524, 91.62032387263613, 81.4848901732316, 91.84209423636685, 86.69732546225154, 92.27793175309831, 100.0, 92.6243178907673, 80.42973618184952, 79.16140818781894, 91.37026336544274, 91.27619544992739, 76.06326660959665, 42.18359771410171, 85.0032874309122, 77.04679286613634, 45.10493028070153, 70.42425819474018, 72.72447512605231, 87.32905012898111, 58.06560300232629, 100.0, 83.95619747935349, 74.10882138354543, 55.79363538480559, 100.0, 79.65886514429278, 74.63816033425124, 95.39008723401633, 81.5771540713314, 93.24594709723414, 60.98684086817638, 72.54462912711111, 87.99727362573083, 24.041728948278763, 94.4884351198323, 94.02921310536215, 75.49430710775006, 97.17705212444399], \"name\": 4, \"boxpoints\": \"all\", \"jitter\": 0.5, \"whiskerwidth\": 0.2, \"marker\": {\"size\": 2}, \"line\": {\"width\": 1}}, {\"type\": \"box\", \"y\": [38.47297416630699, 56.644608870069035, 18.465813695271343, 63.07663951220281, 47.33902870394315, 47.078327626045294, 56.190356591179714, 52.39311200631744, 58.679988863147585, 47.4119857228073, 67.16904856029868, 99.2713346106688, 37.50063397235483, 97.60605419001455, 39.35035775543662, 100.0, 66.58203013423812, 59.15400160965309, 84.33296626101688, 47.817462908858765, 25.246364216819295, 94.30365741922375, 26.937992034004438, 95.18687940247045, 37.204128686727074, 76.98273141269863, 33.06653076516135, 77.92750625703125, 100.0, 48.343561389689846, 45.38672000241626, 58.140024851277055, 78.05933670371563, 82.38435866731325, 52.19299407774637, 85.30504648855883, 100.0, 93.33126548544429, 68.2556071626761, 64.76715234155137, 46.68263630523055, 100.0, 88.18666537964201, 65.83551285144061, 100.0, 83.06126055528613, 100.0, 77.12921956949855, 62.899298103083694, 87.5407656759196, 65.24063312777274, 41.147287901998496, 20.948290226411874, 61.86811413825272, 38.24553046017157, 29.18354702001251, 87.4635635397125, 69.9447298198983, 57.80246875894494, 43.558135984977, 47.581045477246114, 63.14461132867706, 37.864012872966995, 51.064488779600175, 35.124250225916256, 29.858353473073368, 36.572772286311036, 71.29160810830771, 69.2547401359281, 28.436865230526156, 80.09525329516012, 65.79531497203604, 69.81235519609038, 17.07184688649274, 35.013430483175945, 31.238207530668525, 48.529022747362625, 59.341934794745555, 20.687853421070095, 70.71271606127229, 67.76481454301214, 48.851603234523594, 37.96737701884693, 61.21395075228019, 38.20797185499614, 68.07035595214748, 69.24828123430225, 29.278239913264454, 84.63777156493957, 38.263582834897704, 9.75614778247996, 39.674797781874204, 71.61764575995086, 20.973939380056404, 100.0, 45.99063554777107, 56.00000325122184, 71.42623658235425, 59.82208652925155, 74.05212647433876, 52.521031228331324, 40.220520835422, 77.81211780897215, 95.18455436606519, 69.46913380425761, 61.42865479032127, 37.27128546031538, 65.4526508435136, 60.244410338167114, 21.03086573835547, 35.659614272918574, 3.5246119857013336, 72.87000222129144, 49.16765259667094, 88.74349576703115, 78.26073900597179, 42.85241794411523, 66.73753914114509, 45.004572286124315, 11.382610087071573, 53.909459859629344, 78.83616582844856, 54.94186250509237, 49.495130331955885, 66.268819282269, 57.85015626788753, 78.66720492010552, 50.223356434581255, 92.59620163416602, 28.579301959598755, 100.0, 62.684119601868474, 57.33650432709321, 28.65796729002097, 59.10110020102054, 60.865361575638126, 64.70924356473141, 80.79848138112294, 84.61120118532715, 73.41955786050073, 73.49605623361758, 49.97128245719514, 59.090293317170286, 50.34450451839127, 44.27169867748016, 18.01509342800172, 28.423249039465897, 58.462663055960086, 35.99248118007553, 57.90667248822641, 31.43516978188848, 28.99233070424881, 89.77682549508182], \"name\": 5, \"boxpoints\": \"all\", \"jitter\": 0.5, \"whiskerwidth\": 0.2, \"marker\": {\"size\": 2}, \"line\": {\"width\": 1}}, {\"type\": \"box\", \"y\": [11.974911007010373, 8.541785125184692, 9.019741854195784, 6.493097961383399, 3.6404116925562975, 3.6902992475481247, 4.96509043757828, 6.499436815205434, 4.026628775086372, 3.9140773389249692, 3.344178111389369, 3.299647284984218, 5.577949019912837, 8.466043991137251, 8.743352499151744, 2.4999355694911403, 16.02804419093163, 4.805022072526986, 8.070641848955747, 4.617900328163678, 4.603893010770368, 2.4283398669867666, 11.320609190316814, 25.725406934622182, 9.601482477112533, 24.450921242876777, 7.8472366685456105, 31.757242143646973, 7.695301275934751, 16.72585245807133, 15.251293059484105, 12.047437210151708, 12.065338829384403, 30.66364349428555, 30.777007325123314, 31.909312897658953, 12.817348331795234, 22.097472753880364, 47.21830261163174, 30.62774909137093, 2.38574275639212, 24.11373143775168, 48.17684728368844, 5.791126081420682, 5.715648105671402, 25.38875410596657, 39.16483384973383, 55.20389779602464, 13.594541434153959, 40.62299195371435, 8.228734009871939, 6.251917751107546, 28.712573635525523, 57.94756087636716, 4.549437457699151, 28.691862857753197, 12.275839174210086, 57.0035022851218, 15.592614534430822, 8.242018831451174, 8.75402225430553, 1.4102131757776628, 5.966286348028151, 3.0327858919773543, 8.816410778805652, 5.0318345762878725, 4.849537357338003, 5.811977355398898, 2.0771983330313684, 2.154899821848029, 3.082773101079168, 5.209236980473137, 2.31928827413729, 5.11221344836012, 6.560751636756547, 3.4785459782472494, 4.335900853613706, 4.737865288953365, 8.200441418813675, 6.458381272956475, 30.011524780482908, 2.6314730882142174, 8.244639522062931, 16.092678578279834, 4.167968017945172, 7.137527264636857, 9.590421628013752, 7.049388225490202, 8.107689068542559, 38.05072935183808, 12.071993620660301, 5.9631958965070355, 5.696547617919052, 11.690143858169256, 15.479836483534903, 2.806898920050419, 12.079029213370545, 3.48938205025156, 40.24824467669883, 8.878284762879572, 21.75736614956821, 10.872078654307243, 3.7361252443223476], \"name\": 6, \"boxpoints\": \"all\", \"jitter\": 0.5, \"whiskerwidth\": 0.2, \"marker\": {\"size\": 2}, \"line\": {\"width\": 1}}, {\"type\": \"box\", \"y\": [5.847092369655621, 2.62164449797113, 2.750579484970902, 20.37903488521196, 3.5830131358347166, 3.4319787176614724, 5.553282966071691, 10.613423795965572, 4.988903337741667, 6.480141319095851, 3.4622624445021533, 3.668488382961911, 13.669621839765357, 10.927168432435192, 11.325449127749023, 8.462799425326775, 4.807459501993128, 2.9528870853760547, 5.182734419739993, 22.015430988971094, 4.939089350252942, 10.768087265961274, 3.0674088798103605, 2.8536588704782666, 4.419827448664643, 6.686432543065719, 11.30386139450144, 2.1012630472973517, 22.67855643600712, 4.899627003204977, 6.736139486347768, 6.988505306373166, 4.535520259983185, 2.26579601687272, 15.49028279352668, 21.768546407630033, 13.405289507216596, 47.09610138885495, 11.207577376238444, 37.61839964720881, 12.327863960147472, 4.97524739500026, 18.420870503252075, 41.855153935928115, 63.648060037092506, 37.106610925131804, 43.53040552186089, 11.86692735976514, 34.2766702051767, 50.83208981275364, 41.22469619634711, 26.72278494048666, 35.782977812116435, 38.127357859938996, 18.412831746619638, 6.685060491395767, 7.199692100686394, 16.77747796057262, 20.96660943530965, 12.608910930406084, 18.838949894043914, 39.85640671584563, 9.646267014441124, 39.363629103688325, 53.70609758424188, 91.62994480895773, 18.16743707557617, 13.719644327144469, 8.366176092371868, 4.971812785387165, 45.04404231866808, 13.218813691181207, 7.674295058191368, 5.2806385458415335, 11.027761021902041, 6.101544444408373, 14.389791493680296, 3.9425609129421555, 9.130636798240323, 10.58717085497941, 6.045868241297494, 9.353843529566419, 14.47832737680109, 6.786508466840926, 9.307668460930273, 8.531940306620585, 21.96175573361338, 7.297241616200991, 10.34938003407984, 22.633654553542122, 16.6290428310618, 3.2639417308450684, 24.24576831066171, 3.9196220624082336, 27.355342885304097, 10.38681238984417, 16.782491292190535, 22.07164773901776, 4.13507525735597], \"name\": 7, \"boxpoints\": \"all\", \"jitter\": 0.5, \"whiskerwidth\": 0.2, \"marker\": {\"size\": 2}, \"line\": {\"width\": 1}}, {\"type\": \"box\", \"y\": [43.51696181311996, 53.516903910422315, 72.18292617003355, 56.54117360456871, 36.17103785656202, 83.91688905940144, 100.0, 91.25572687777381, 65.7530253344513, 47.11672474741494, 91.09476092249156, 58.71935062574928, 72.39420840300932, 44.08124160642437, 83.65205072605403, 96.49711110353141, 47.142403938198306, 48.751658802958985, 58.421352314101746, 93.56827980600778, 74.93600903412538, 91.77730176200627, 55.85588200082947, 51.393633471418035, 50.881713583559765, 46.277146168278634, 84.26486998048524, 57.77139914743639, 100.0, 61.34817670173959, 73.11425539982167, 84.73896881624202, 80.04743610536629, 80.7590594231218, 44.921683798018435, 86.85507598278238, 77.90524447327466, 69.0406546986437, 53.28453001378669, 84.69627227041565, 54.94761574990829, 55.71487288159694, 67.67950659448177, 55.69677073614035, 48.00701647210108, 48.773742291373125, 100.0, 75.76636070184091, 69.13300398530671, 65.40236985726136, 43.80956111964194, 41.72358279102439, 76.63705267177883, 88.39776242165834, 73.44659437716051, 37.65405965957776, 53.323435011266824, 71.0795290278678, 85.69356403888472, 56.2261644434128, 72.50149669339532, 81.3393362495669, 100.0, 50.81755108034608, 95.59614015629452, 54.92860664277011, 83.87619894701501, 82.49981796042329, 57.80676739396686, 62.004037401829436, 54.892935821386814, 52.011518542187375, 24.50534418971053, 50.83615506108101, 67.41730445656633, 39.01630565876871, 46.150136372766376, 75.06788418543553, 49.501487673138826, 100.00000000000001, 75.48115595193279, 74.41632239482435, 55.07864899268185, 62.02341797740987, 80.47866039611489, 100.0, 36.67196926042256, 70.21175646899891, 77.03128250368889, 48.68595387745498, 33.542782865410175, 100.0, 49.01264940129592, 50.794156726899665, 88.36140249563607, 64.92908766022495, 52.618006178265546, 61.41928107196632], \"name\": 8, \"boxpoints\": \"all\", \"jitter\": 0.5, \"whiskerwidth\": 0.2, \"marker\": {\"size\": 2}, \"line\": {\"width\": 1}}, {\"type\": \"box\", \"y\": [35.20393857815765, 34.45953284029062, 2.1205975012681777, 41.95729689987821, 28.179467243577335, 64.11285805332878, 57.39411800652732, 66.08423427499201, 78.20568397486986, 41.80665916830811, 47.70491417836461, 39.46949955729198, 72.7618006598595, 41.88864420336042, 52.692636788381364, 63.962342440697924, 40.986157059299785, 67.5770145161854, 37.16420761049092, 56.18941583541208, 54.84061517882943, 29.664111182998678, 12.60333404431542, 44.77394717472703, 41.43363900866535, 36.49959869960891, 32.67277476013213, 48.09692804907743, 45.10337503340614, 30.117106336309313, 29.88318750940467, 37.24712094753641, 74.42321396836, 67.16629029724936, 10.087330220259526, 39.521017073183216, 44.140623345392086, 55.70539695783478, 48.41484087431857, 54.25116856715174, 50.52485304222624, 36.755002175059275, 60.29238204014967, 42.94906725525592, 36.14976982037955, 55.84049672495579, 84.27600931350715, 57.8285646147577, 67.98596434423605, 33.6433210779172, 27.562512133511884, 39.209153337959265, 54.28395311655955, 59.280066627488694, 67.49207346222983, 21.598045721159156, 39.45462672291056, 61.60745286547575, 62.44385278187669, 4.424628218403353, 64.01754089692264, 41.94322967407392, 34.89568862896459, 24.089103580047965, 56.11659527198198, 67.99399197988093, 51.82305404718175, 42.63571283517834, 56.44249974519485, 35.73853524249017, 36.334349436218304, 14.678348706267997, 37.54204288986279, 62.066120442706854, 29.594484946582945, 57.876592702702204, 27.31150443669843, 54.18920212672327, 43.59063131655207, 72.59884205077887, 64.98218402507452, 44.51250260156458, 62.41597810720099, 79.95625002446135, 73.17755973013318, 70.32076533513725, 27.965215177282154, 78.62521715625357, 67.7069671232629, 28.47668539804931, 28.410320341385827, 55.477909744237756, 42.47415740706758, 34.00428792374374, 63.32377246730113, 40.45433330993456, 36.35622538941058, 45.11044649845758], \"name\": 9, \"boxpoints\": \"all\", \"jitter\": 0.5, \"whiskerwidth\": 0.2, \"marker\": {\"size\": 2}, \"line\": {\"width\": 1}}, {\"type\": \"box\", \"y\": [6.580191839680427, 9.12424042768398, 7.692804785243357, 3.0856688026244625, 8.772691529942689, 36.63423309505279, 21.39848947033754, 35.91433923066902, 43.06404595108646, 5.961744002358797, 45.63778576406549, 34.78581589159439, 11.022521358859926, 20.38767306437116, 16.172485580055035, 9.277604318605439, 20.638214620816566, 20.071099835050447, 4.641397323761982, 11.764504603560498, 79.52999304745344, 3.0505542522961897, 9.284717734481845, 4.357485588811175, 5.265574028522879, 27.408721621089686, 3.699615219010532, 30.464295618513393, 44.422883010753516, 26.05535334033039, 36.35744091219543, 39.623267112861775, 38.2199881218787, 4.87380385701202, 10.752729535694515, 55.406046657364996, 45.05347247414832, 33.57278095728708, 14.141915114296896, 27.21575516080433, 55.96378857492111, 14.762145607186135, 28.678133161645107, 28.23574373814808, 60.77291734682673, 66.69424341693254, 11.279036631962063, 43.9506216039814, 43.2766679237064, 35.23831072228311, 14.068688276734646, 43.89884554009255, 4.437257905762381, 10.323626282123715, 23.191386130533893, 7.847971452084565, 5.490527962096571, 12.654850529342689, 3.6839521544335696, 44.68297668614567, 17.677679803329465, 15.74342996310185, 14.014611779525485, 2.1955865378489663, 5.0969112108001475, 3.3778767161579526, 19.725664113000985, 40.87993424236874, 7.370946671640177, 5.034734947103789, 45.28137986130134, 31.075841130951165, 15.34433680113747, 5.2595479462527175, 88.05900873037965, 3.1850541581401948, 16.72616700758675, 13.26174173401847, 15.715198141290475, 7.074912094988104, 30.14812086005852, 6.910158860928415, 66.81699225248752, 19.126074272829033, 18.21326702542306, 3.1572774308368707, 20.723027759409486, 77.62609611049696, 23.85597645583309, 12.266739058817793, 17.83250879749179, 28.487671891649786, 15.952826892771238, 18.32712040521422, 18.199139527121407, 41.92702524699571, 14.492994481900704], \"name\": 10, \"boxpoints\": \"all\", \"jitter\": 0.5, \"whiskerwidth\": 0.2, \"marker\": {\"size\": 2}, \"line\": {\"width\": 1}}, {\"type\": \"box\", \"y\": [83.33982779088919, 84.68986515383806, 81.25181912617423, 100.0, 84.73095939067285, 67.51569909866231, 80.14233558462699, 79.22607488679593, 54.12929859238654, 99.99999999999999, 89.20937923004023, 100.0, 100.0, 86.50035309268455, 61.590752005077256, 63.42668307464824, 97.36099342481072, 100.0, 94.59859039122215, 72.07420633623012, 78.66717143065138, 82.37200912573451, 46.07347321064349, 64.99903088555176, 100.0, 87.42775403758357, 71.67894354100272, 58.24636075649617, 78.58245213909986, 81.83285992003441, 90.23234704867815, 96.14537829178698, 88.78423701718569, 100.0, 80.37306448501991, 77.73515981234341, 59.717508245126034, 93.92718488646553, 73.40106972191747, 90.9713634255038, 78.56114836643269, 76.46338560005934, 88.63248242644696, 18.48753777258718, 93.47185699467678, 100.0, 100.0, 100.0], \"name\": 11, \"boxpoints\": \"all\", \"jitter\": 0.5, \"whiskerwidth\": 0.2, \"marker\": {\"size\": 2}, \"line\": {\"width\": 1}}, {\"type\": \"box\", \"y\": [10.407598382636195, 4.716184726327398, 8.786683346225441, 5.872518466106193, 14.30306157322036, 6.821883397940296, 50.70235291607682, 4.919640679746048, 8.093833886902551, 16.637538124181845, 5.910677789898493, 1.7979440819403676, 3.817531290342262, 7.058921135363826, 14.886995492261642, 4.885022431902612, 11.735076993600028, 11.373344751978966, 24.488802690897618, 4.230742453561552, 7.827499408095281, 28.70701474922787, 9.027333835793163, 54.458276436102835, 30.225740948606877, 44.7127226971212, 48.051553264306605, 12.0293110645224, 13.251090489276342, 20.65939063158755, 35.43791467548776, 23.277682229105928, 34.13719021980476, 27.42499468997234, 13.385248129188776, 43.40893846714179, 22.889292689855687, 36.993175451063586, 12.378925238705154, 48.710557335202196, 11.815021799656659, 6.729724184320031, 18.454800884933803, 12.617738383197402, 12.23200331116721, 30.534344448370636, 7.993000749639578, 46.68194362415417], \"name\": 12, \"boxpoints\": \"all\", \"jitter\": 0.5, \"whiskerwidth\": 0.2, \"marker\": {\"size\": 2}, \"line\": {\"width\": 1}}, {\"type\": \"box\", \"y\": [11.653890515094638, 15.434849459298196, 12.519952855591574, 39.064657553346684, 64.36631436238491, 4.223504678755229, 20.597371816228367, 9.521541827276131, 7.146582850404455, 21.78087348228718, 44.72105703424748, 7.9928459733075305, 26.597941864690238, 34.288065756694344, 40.09914214379549, 25.87683335395051, 10.680346413864017, 13.286314796353695, 4.839568496603912, 8.96613666282438, 4.909686514020472, 15.24824578810908, 4.167300959505231, 2.023843539968284, 11.119786457466816, 11.999530038907077, 19.734553657274848, 3.7430648244154465, 28.68288277004382, 18.635270251976028, 19.55264286000064, 5.632416536257868, 13.092708650504761, 5.640439717710689, 2.080077886514241, 7.974632942429224, 6.757041665032441, 12.665726724185276, 39.488562317608974, 21.117958054355473, 5.7944550818142915, 2.233773011707276, 3.137379651641855, 31.985189941799806, 39.57313221897344, 2.3553297284693184, 27.35289368355442, 9.81363604833653, 22.096074113252072, 17.930613424026063, 5.155902906897719, 16.22178897258121, 11.107742339475069, 20.5479472459251, 24.857505823801283, 8.711325252900032, 18.749165148983465, 8.442142109241757, 10.654153439857167, 31.839018604575514, 45.993092983460194, 20.962067602195006, 6.519058998773405, 22.970976160626776, 26.000164090050717, 22.95133786937411, 16.983366582058885, 35.76091459324658, 5.027866837697197, 8.2794039255856, 4.320939311681223, 6.259747871667147, 26.44485331847203, 19.059711776646594, 29.306077293956335, 5.355430087960548], \"name\": 13, \"boxpoints\": \"all\", \"jitter\": 0.5, \"whiskerwidth\": 0.2, \"marker\": {\"size\": 2}, \"line\": {\"width\": 1}}, {\"type\": \"box\", \"y\": [87.19381117738703, 72.6726174846386, 87.21798795025359, 66.51904388199603, 94.77408258495528, 29.956572163406907, 58.50497788764476, 18.242381421506032, 44.44839106461843, 64.86741199808361, 65.51460216880247, 58.59210068747969, 82.9994888224231, 74.48372884127487, 30.654292436637093, 31.582330723086066, 26.71358869328061, 64.54465773242758, 48.58893141849489, 54.95228076892988, 79.21353240030241, 49.326734858398936, 60.42087461572993, 68.35550582359161, 42.20284253997364, 83.93950460602635, 95.56003603405537, 100.0, 89.886254579945, 100.00000000000001, 89.23333073864687, 79.37503063353583, 95.06225241444326, 76.73014831846551, 90.17134065171254, 82.78408207112733, 94.03807922821498, 77.65239341928994, 100.0, 87.44405668394013, 85.92678962406347, 89.79014477668797, 67.78324027940623, 82.24761176924116, 88.99311382653887, 100.0, 79.02979788371158, 85.95165459569269, 76.76988939662965, 100.0, 100.0, 72.99962623059226, 100.0, 60.01492795734499, 71.62886134774611, 66.86891142953834, 69.36928513691554, 98.28018976443734, 72.51816956083525, 100.0, 75.99235180319243, 60.63025942537263, 100.0, 63.51481694779764, 100.0, 48.47990334789001, 94.20925198008598, 100.0, 66.80446884371865, 85.98072859839478, 78.92098291856966, 39.34522231966425, 78.02467206884786, 78.96353241274919, 100.0, 50.63686365575231, 83.08407035418269, 60.76386375117846, 75.92125109798008, 47.4500499759099, 66.84767191190538, 74.0827091867449, 66.2094344482465, 91.29331590163328, 85.69719831362397, 87.4389934408378, 100.0, 66.10639972307222, 99.0617488916616, 37.84364120681724, 100.0, 91.18052659316514, 71.64678517147776, 80.66531194818602], \"name\": 14, \"boxpoints\": \"all\", \"jitter\": 0.5, \"whiskerwidth\": 0.2, \"marker\": {\"size\": 2}, \"line\": {\"width\": 1}}, {\"type\": \"box\", \"y\": [53.13166270507628, 67.50667980814767, 48.14760526939338, 54.95833580817573, 99.99999999999999, 50.48831132256252, 49.121363813702686, 46.06620595570074, 53.184597385482185, 49.756618260569034, 41.88569764754311, 82.10130169815953, 37.941183340648465, 55.51336032607091, 38.54438363879814, 61.771918476782375, 58.25168432259526, 45.22282932929352, 72.07321532699065, 78.6530770098913, 50.67466384150581, 44.79404236508272, 70.32433557326927, 58.41363412818721, 20.071919576364735, 80.02093631020719, 72.74141246691946, 33.86313083696031, 66.5473269640511, 60.4595179797262, 60.38906859262668], \"name\": 15, \"boxpoints\": \"all\", \"jitter\": 0.5, \"whiskerwidth\": 0.2, \"marker\": {\"size\": 2}, \"line\": {\"width\": 1}}], {\"hovermode\": \"closest\", \"font\": {\"size\": 14}, \"title\": null, \"xaxis\": {\"title\": null, \"showline\": true, \"linewidth\": 1.5}, \"yaxis\": {\"title\": null, \"showline\": true, \"linewidth\": 1.5, \"zeroline\": false}}, {\"showLink\": true, \"linkText\": \"Export to plot.ly\"})});</script>"
      ]
     },
     "metadata": {},
     "output_type": "display_data"
    }
   ],
   "source": [
    "mvc_box = plot_mvc_boxplot(\n",
    "    df_normalized, xlabel=TEST_NAMES, by='test', subset=4)\n",
    "\n",
    "py.iplot(mvc_box, filename='mvc/mvc_box')"
   ]
  },
  {
   "cell_type": "markdown",
   "metadata": {},
   "source": [
    "## 4.6. Summary"
   ]
  },
  {
   "cell_type": "markdown",
   "metadata": {},
   "source": [
    "# 5. Tests selection"
   ]
  },
  {
   "cell_type": "code",
   "execution_count": 105,
   "metadata": {},
   "outputs": [],
   "source": [
    "def plot_count_nan(d, **kwargs):\n",
    "    nan_count = d.isnull().sum()\n",
    "    nan_id = nan_count.index\n",
    "\n",
    "    trace = go.Bar(x=nan_id, y=nan_count, marker=MARKER_LAYOUT)\n",
    "\n",
    "    annotations = []\n",
    "    for count, idx in zip(nan_count, nan_id):\n",
    "        annotations.append(\n",
    "            dict(\n",
    "                y=count + 50,\n",
    "                x=idx,\n",
    "                text=count,\n",
    "                font=dict(size=14, color='rgb(50, 171, 96)'),\n",
    "                showarrow=False))\n",
    "\n",
    "    layout = BASE_LAYOUT.copy()\n",
    "    layout.update(\n",
    "        dict(\n",
    "            title=kwargs.get('title'),\n",
    "            xaxis=dict(\n",
    "                title=kwargs.get('xtitle'), showline=True, linewidth=1.5),\n",
    "            yaxis=dict(\n",
    "                title=kwargs.get('ytitle'), showline=True, linewidth=1.5)))\n",
    "\n",
    "    layout['annotations'] = annotations\n",
    "    return dict(data=[trace], layout=layout)"
   ]
  },
  {
   "cell_type": "code",
   "execution_count": 106,
   "metadata": {},
   "outputs": [
    {
     "data": {
      "application/vnd.plotly.v1+json": {
       "data": [
        {
         "marker": {
          "color": "rgba(50, 171, 96, 0.6)",
          "line": {
           "color": "rgba(50, 171, 96, 1.0)",
           "width": 2
          }
         },
         "type": "bar",
         "x": [
          0,
          1,
          2,
          3,
          4,
          5,
          6,
          7,
          8,
          9,
          10,
          11,
          12,
          13,
          14,
          15
         ],
         "y": [
          76,
          591,
          4,
          3,
          3,
          3,
          415,
          462,
          441,
          438,
          449,
          924,
          924,
          619,
          543,
          1137
         ]
        }
       ],
       "layout": {
        "annotations": [
         {
          "font": {
           "color": "rgb(50, 171, 96)",
           "size": 14
          },
          "showarrow": false,
          "text": 76,
          "x": 0,
          "y": 126
         },
         {
          "font": {
           "color": "rgb(50, 171, 96)",
           "size": 14
          },
          "showarrow": false,
          "text": 591,
          "x": 1,
          "y": 641
         },
         {
          "font": {
           "color": "rgb(50, 171, 96)",
           "size": 14
          },
          "showarrow": false,
          "text": 4,
          "x": 2,
          "y": 54
         },
         {
          "font": {
           "color": "rgb(50, 171, 96)",
           "size": 14
          },
          "showarrow": false,
          "text": 3,
          "x": 3,
          "y": 53
         },
         {
          "font": {
           "color": "rgb(50, 171, 96)",
           "size": 14
          },
          "showarrow": false,
          "text": 3,
          "x": 4,
          "y": 53
         },
         {
          "font": {
           "color": "rgb(50, 171, 96)",
           "size": 14
          },
          "showarrow": false,
          "text": 3,
          "x": 5,
          "y": 53
         },
         {
          "font": {
           "color": "rgb(50, 171, 96)",
           "size": 14
          },
          "showarrow": false,
          "text": 415,
          "x": 6,
          "y": 465
         },
         {
          "font": {
           "color": "rgb(50, 171, 96)",
           "size": 14
          },
          "showarrow": false,
          "text": 462,
          "x": 7,
          "y": 512
         },
         {
          "font": {
           "color": "rgb(50, 171, 96)",
           "size": 14
          },
          "showarrow": false,
          "text": 441,
          "x": 8,
          "y": 491
         },
         {
          "font": {
           "color": "rgb(50, 171, 96)",
           "size": 14
          },
          "showarrow": false,
          "text": 438,
          "x": 9,
          "y": 488
         },
         {
          "font": {
           "color": "rgb(50, 171, 96)",
           "size": 14
          },
          "showarrow": false,
          "text": 449,
          "x": 10,
          "y": 499
         },
         {
          "font": {
           "color": "rgb(50, 171, 96)",
           "size": 14
          },
          "showarrow": false,
          "text": 924,
          "x": 11,
          "y": 974
         },
         {
          "font": {
           "color": "rgb(50, 171, 96)",
           "size": 14
          },
          "showarrow": false,
          "text": 924,
          "x": 12,
          "y": 974
         },
         {
          "font": {
           "color": "rgb(50, 171, 96)",
           "size": 14
          },
          "showarrow": false,
          "text": 619,
          "x": 13,
          "y": 669
         },
         {
          "font": {
           "color": "rgb(50, 171, 96)",
           "size": 14
          },
          "showarrow": false,
          "text": 543,
          "x": 14,
          "y": 593
         },
         {
          "font": {
           "color": "rgb(50, 171, 96)",
           "size": 14
          },
          "showarrow": false,
          "text": 1137,
          "x": 15,
          "y": 1187
         }
        ],
        "font": {
         "size": 14
        },
        "hovermode": "closest",
        "title": null,
        "xaxis": {
         "linewidth": 1.5,
         "showline": true,
         "title": null
        },
        "yaxis": {
         "linewidth": 1.5,
         "showline": true,
         "title": null
        }
       }
      },
      "text/html": [
       "<div id=\"de9fe59b-fc2d-4776-b5f1-9eac40917aac\" style=\"height: 525px; width: 100%;\" class=\"plotly-graph-div\"></div><script type=\"text/javascript\">require([\"plotly\"], function(Plotly) { window.PLOTLYENV=window.PLOTLYENV || {};window.PLOTLYENV.BASE_URL=\"https://plot.ly\";Plotly.newPlot(\"de9fe59b-fc2d-4776-b5f1-9eac40917aac\", [{\"type\": \"bar\", \"x\": [0, 1, 2, 3, 4, 5, 6, 7, 8, 9, 10, 11, 12, 13, 14, 15], \"y\": [76, 591, 4, 3, 3, 3, 415, 462, 441, 438, 449, 924, 924, 619, 543, 1137], \"marker\": {\"color\": \"rgba(50, 171, 96, 0.6)\", \"line\": {\"color\": \"rgba(50, 171, 96, 1.0)\", \"width\": 2}}}], {\"hovermode\": \"closest\", \"font\": {\"size\": 14}, \"title\": null, \"xaxis\": {\"title\": null, \"showline\": true, \"linewidth\": 1.5}, \"yaxis\": {\"title\": null, \"showline\": true, \"linewidth\": 1.5}, \"annotations\": [{\"y\": 126, \"x\": 0, \"text\": 76, \"font\": {\"size\": 14, \"color\": \"rgb(50, 171, 96)\"}, \"showarrow\": false}, {\"y\": 641, \"x\": 1, \"text\": 591, \"font\": {\"size\": 14, \"color\": \"rgb(50, 171, 96)\"}, \"showarrow\": false}, {\"y\": 54, \"x\": 2, \"text\": 4, \"font\": {\"size\": 14, \"color\": \"rgb(50, 171, 96)\"}, \"showarrow\": false}, {\"y\": 53, \"x\": 3, \"text\": 3, \"font\": {\"size\": 14, \"color\": \"rgb(50, 171, 96)\"}, \"showarrow\": false}, {\"y\": 53, \"x\": 4, \"text\": 3, \"font\": {\"size\": 14, \"color\": \"rgb(50, 171, 96)\"}, \"showarrow\": false}, {\"y\": 53, \"x\": 5, \"text\": 3, \"font\": {\"size\": 14, \"color\": \"rgb(50, 171, 96)\"}, \"showarrow\": false}, {\"y\": 465, \"x\": 6, \"text\": 415, \"font\": {\"size\": 14, \"color\": \"rgb(50, 171, 96)\"}, \"showarrow\": false}, {\"y\": 512, \"x\": 7, \"text\": 462, \"font\": {\"size\": 14, \"color\": \"rgb(50, 171, 96)\"}, \"showarrow\": false}, {\"y\": 491, \"x\": 8, \"text\": 441, \"font\": {\"size\": 14, \"color\": \"rgb(50, 171, 96)\"}, \"showarrow\": false}, {\"y\": 488, \"x\": 9, \"text\": 438, \"font\": {\"size\": 14, \"color\": \"rgb(50, 171, 96)\"}, \"showarrow\": false}, {\"y\": 499, \"x\": 10, \"text\": 449, \"font\": {\"size\": 14, \"color\": \"rgb(50, 171, 96)\"}, \"showarrow\": false}, {\"y\": 974, \"x\": 11, \"text\": 924, \"font\": {\"size\": 14, \"color\": \"rgb(50, 171, 96)\"}, \"showarrow\": false}, {\"y\": 974, \"x\": 12, \"text\": 924, \"font\": {\"size\": 14, \"color\": \"rgb(50, 171, 96)\"}, \"showarrow\": false}, {\"y\": 669, \"x\": 13, \"text\": 619, \"font\": {\"size\": 14, \"color\": \"rgb(50, 171, 96)\"}, \"showarrow\": false}, {\"y\": 593, \"x\": 14, \"text\": 543, \"font\": {\"size\": 14, \"color\": \"rgb(50, 171, 96)\"}, \"showarrow\": false}, {\"y\": 1187, \"x\": 15, \"text\": 1137, \"font\": {\"size\": 14, \"color\": \"rgb(50, 171, 96)\"}, \"showarrow\": false}]}, {\"showLink\": true, \"linkText\": \"Export to plot.ly\"})});</script>"
      ],
      "text/vnd.plotly.v1+html": [
       "<div id=\"de9fe59b-fc2d-4776-b5f1-9eac40917aac\" style=\"height: 525px; width: 100%;\" class=\"plotly-graph-div\"></div><script type=\"text/javascript\">require([\"plotly\"], function(Plotly) { window.PLOTLYENV=window.PLOTLYENV || {};window.PLOTLYENV.BASE_URL=\"https://plot.ly\";Plotly.newPlot(\"de9fe59b-fc2d-4776-b5f1-9eac40917aac\", [{\"type\": \"bar\", \"x\": [0, 1, 2, 3, 4, 5, 6, 7, 8, 9, 10, 11, 12, 13, 14, 15], \"y\": [76, 591, 4, 3, 3, 3, 415, 462, 441, 438, 449, 924, 924, 619, 543, 1137], \"marker\": {\"color\": \"rgba(50, 171, 96, 0.6)\", \"line\": {\"color\": \"rgba(50, 171, 96, 1.0)\", \"width\": 2}}}], {\"hovermode\": \"closest\", \"font\": {\"size\": 14}, \"title\": null, \"xaxis\": {\"title\": null, \"showline\": true, \"linewidth\": 1.5}, \"yaxis\": {\"title\": null, \"showline\": true, \"linewidth\": 1.5}, \"annotations\": [{\"y\": 126, \"x\": 0, \"text\": 76, \"font\": {\"size\": 14, \"color\": \"rgb(50, 171, 96)\"}, \"showarrow\": false}, {\"y\": 641, \"x\": 1, \"text\": 591, \"font\": {\"size\": 14, \"color\": \"rgb(50, 171, 96)\"}, \"showarrow\": false}, {\"y\": 54, \"x\": 2, \"text\": 4, \"font\": {\"size\": 14, \"color\": \"rgb(50, 171, 96)\"}, \"showarrow\": false}, {\"y\": 53, \"x\": 3, \"text\": 3, \"font\": {\"size\": 14, \"color\": \"rgb(50, 171, 96)\"}, \"showarrow\": false}, {\"y\": 53, \"x\": 4, \"text\": 3, \"font\": {\"size\": 14, \"color\": \"rgb(50, 171, 96)\"}, \"showarrow\": false}, {\"y\": 53, \"x\": 5, \"text\": 3, \"font\": {\"size\": 14, \"color\": \"rgb(50, 171, 96)\"}, \"showarrow\": false}, {\"y\": 465, \"x\": 6, \"text\": 415, \"font\": {\"size\": 14, \"color\": \"rgb(50, 171, 96)\"}, \"showarrow\": false}, {\"y\": 512, \"x\": 7, \"text\": 462, \"font\": {\"size\": 14, \"color\": \"rgb(50, 171, 96)\"}, \"showarrow\": false}, {\"y\": 491, \"x\": 8, \"text\": 441, \"font\": {\"size\": 14, \"color\": \"rgb(50, 171, 96)\"}, \"showarrow\": false}, {\"y\": 488, \"x\": 9, \"text\": 438, \"font\": {\"size\": 14, \"color\": \"rgb(50, 171, 96)\"}, \"showarrow\": false}, {\"y\": 499, \"x\": 10, \"text\": 449, \"font\": {\"size\": 14, \"color\": \"rgb(50, 171, 96)\"}, \"showarrow\": false}, {\"y\": 974, \"x\": 11, \"text\": 924, \"font\": {\"size\": 14, \"color\": \"rgb(50, 171, 96)\"}, \"showarrow\": false}, {\"y\": 974, \"x\": 12, \"text\": 924, \"font\": {\"size\": 14, \"color\": \"rgb(50, 171, 96)\"}, \"showarrow\": false}, {\"y\": 669, \"x\": 13, \"text\": 619, \"font\": {\"size\": 14, \"color\": \"rgb(50, 171, 96)\"}, \"showarrow\": false}, {\"y\": 593, \"x\": 14, \"text\": 543, \"font\": {\"size\": 14, \"color\": \"rgb(50, 171, 96)\"}, \"showarrow\": false}, {\"y\": 1187, \"x\": 15, \"text\": 1137, \"font\": {\"size\": 14, \"color\": \"rgb(50, 171, 96)\"}, \"showarrow\": false}]}, {\"showLink\": true, \"linkText\": \"Export to plot.ly\"})});</script>"
      ]
     },
     "metadata": {},
     "output_type": "display_data"
    }
   ],
   "source": [
    "nan_count_bar = plot_count_nan(df_wide.iloc[:, df_wide.columns != 'muscle'])\n",
    "py.iplot(nan_count_bar, filename='mvc/nan_count_bar')"
   ]
  },
  {
   "cell_type": "markdown",
   "metadata": {},
   "source": [
    "## 5.1 Outcome\n",
    "- Based on the missing values plotted on the previous cell, **five tests seem to have very few missing values**\n",
    "- The learning algorithm will be feeded by the tests: $0, 2, 3, 4, 5$\n",
    "the algorithm will be powered by test values"
   ]
  },
  {
   "cell_type": "code",
   "execution_count": 55,
   "metadata": {},
   "outputs": [
    {
     "data": {
      "text/plain": [
       "test\n",
       "muscle       0\n",
       "3            3\n",
       "4            3\n",
       "5            3\n",
       "2            4\n",
       "0           76\n",
       "6          415\n",
       "9          438\n",
       "8          441\n",
       "10         449\n",
       "7          462\n",
       "14         543\n",
       "1          591\n",
       "13         619\n",
       "11         924\n",
       "12         924\n",
       "15        1137\n",
       "dtype: int64"
      ]
     },
     "execution_count": 55,
     "metadata": {},
     "output_type": "execute_result"
    }
   ],
   "source": [
    "nan_count = df_wide.isnull().sum().sort_values()\n",
    "nan_count"
   ]
  },
  {
   "cell_type": "code",
   "execution_count": 53,
   "metadata": {},
   "outputs": [
    {
     "data": {
      "text/plain": [
       "test\n",
       "muscle       0\n",
       "3            3\n",
       "4            3\n",
       "5            3\n",
       "2            4\n",
       "0           76\n",
       "6          415\n",
       "9          438\n",
       "8          441\n",
       "10         449\n",
       "7          462\n",
       "14         543\n",
       "1          591\n",
       "13         619\n",
       "11         924\n",
       "12         924\n",
       "15        1137\n",
       "dtype: int64"
      ]
     },
     "execution_count": 53,
     "metadata": {},
     "output_type": "execute_result"
    }
   ],
   "source": [
    "nan_count.sort_values()"
   ]
  },
  {
   "cell_type": "markdown",
   "metadata": {},
   "source": [
    "# 6. Machine learning pipeline\n",
    "**Steps** (_for each muscle_):\n",
    "1. test selector (n test ?)\n",
    "2. normalize (try to count for infinite)\n",
    "3. imputer (also work for infinite)\n",
    "4. polyfeatures"
   ]
  },
  {
   "cell_type": "code",
   "execution_count": 42,
   "metadata": {},
   "outputs": [
    {
     "data": {
      "text/html": [
       "<div>\n",
       "<style scoped>\n",
       "    .dataframe tbody tr th:only-of-type {\n",
       "        vertical-align: middle;\n",
       "    }\n",
       "\n",
       "    .dataframe tbody tr th {\n",
       "        vertical-align: top;\n",
       "    }\n",
       "\n",
       "    .dataframe thead th {\n",
       "        text-align: right;\n",
       "    }\n",
       "</style>\n",
       "<table border=\"1\" class=\"dataframe\">\n",
       "  <thead>\n",
       "    <tr style=\"text-align: right;\">\n",
       "      <th>test</th>\n",
       "      <th>muscle</th>\n",
       "      <th>0</th>\n",
       "      <th>1</th>\n",
       "      <th>2</th>\n",
       "      <th>3</th>\n",
       "      <th>4</th>\n",
       "      <th>5</th>\n",
       "      <th>6</th>\n",
       "      <th>7</th>\n",
       "      <th>8</th>\n",
       "      <th>9</th>\n",
       "      <th>10</th>\n",
       "      <th>11</th>\n",
       "      <th>12</th>\n",
       "      <th>13</th>\n",
       "      <th>14</th>\n",
       "      <th>15</th>\n",
       "    </tr>\n",
       "  </thead>\n",
       "  <tbody>\n",
       "    <tr>\n",
       "      <th>0</th>\n",
       "      <td>0</td>\n",
       "      <td>NaN</td>\n",
       "      <td>NaN</td>\n",
       "      <td>0.127825</td>\n",
       "      <td>0.124255</td>\n",
       "      <td>0.146927</td>\n",
       "      <td>0.041583</td>\n",
       "      <td>NaN</td>\n",
       "      <td>NaN</td>\n",
       "      <td>0.162206</td>\n",
       "      <td>0.017711</td>\n",
       "      <td>0.014369</td>\n",
       "      <td>NaN</td>\n",
       "      <td>NaN</td>\n",
       "      <td>NaN</td>\n",
       "      <td>NaN</td>\n",
       "      <td>0.036916</td>\n",
       "    </tr>\n",
       "    <tr>\n",
       "      <th>1</th>\n",
       "      <td>2</td>\n",
       "      <td>NaN</td>\n",
       "      <td>NaN</td>\n",
       "      <td>0.179864</td>\n",
       "      <td>0.294909</td>\n",
       "      <td>0.295846</td>\n",
       "      <td>0.107769</td>\n",
       "      <td>NaN</td>\n",
       "      <td>NaN</td>\n",
       "      <td>0.199097</td>\n",
       "      <td>0.202150</td>\n",
       "      <td>0.022668</td>\n",
       "      <td>NaN</td>\n",
       "      <td>NaN</td>\n",
       "      <td>NaN</td>\n",
       "      <td>NaN</td>\n",
       "      <td>0.071460</td>\n",
       "    </tr>\n",
       "    <tr>\n",
       "      <th>2</th>\n",
       "      <td>3</td>\n",
       "      <td>NaN</td>\n",
       "      <td>NaN</td>\n",
       "      <td>0.078753</td>\n",
       "      <td>0.244578</td>\n",
       "      <td>0.272709</td>\n",
       "      <td>0.010146</td>\n",
       "      <td>NaN</td>\n",
       "      <td>NaN</td>\n",
       "      <td>0.106490</td>\n",
       "      <td>0.010600</td>\n",
       "      <td>0.007517</td>\n",
       "      <td>NaN</td>\n",
       "      <td>NaN</td>\n",
       "      <td>NaN</td>\n",
       "      <td>NaN</td>\n",
       "      <td>0.238814</td>\n",
       "    </tr>\n",
       "    <tr>\n",
       "      <th>3</th>\n",
       "      <td>4</td>\n",
       "      <td>NaN</td>\n",
       "      <td>NaN</td>\n",
       "      <td>0.150353</td>\n",
       "      <td>0.104654</td>\n",
       "      <td>0.115272</td>\n",
       "      <td>0.057845</td>\n",
       "      <td>NaN</td>\n",
       "      <td>NaN</td>\n",
       "      <td>0.065429</td>\n",
       "      <td>0.052930</td>\n",
       "      <td>0.009894</td>\n",
       "      <td>NaN</td>\n",
       "      <td>NaN</td>\n",
       "      <td>NaN</td>\n",
       "      <td>NaN</td>\n",
       "      <td>0.079885</td>\n",
       "    </tr>\n",
       "    <tr>\n",
       "      <th>4</th>\n",
       "      <td>5</td>\n",
       "      <td>NaN</td>\n",
       "      <td>NaN</td>\n",
       "      <td>0.172669</td>\n",
       "      <td>0.124655</td>\n",
       "      <td>0.133114</td>\n",
       "      <td>0.196436</td>\n",
       "      <td>NaN</td>\n",
       "      <td>NaN</td>\n",
       "      <td>0.101393</td>\n",
       "      <td>0.187997</td>\n",
       "      <td>0.051396</td>\n",
       "      <td>NaN</td>\n",
       "      <td>NaN</td>\n",
       "      <td>NaN</td>\n",
       "      <td>NaN</td>\n",
       "      <td>0.050041</td>\n",
       "    </tr>\n",
       "    <tr>\n",
       "      <th>5</th>\n",
       "      <td>7</td>\n",
       "      <td>NaN</td>\n",
       "      <td>NaN</td>\n",
       "      <td>0.073350</td>\n",
       "      <td>0.127731</td>\n",
       "      <td>0.126761</td>\n",
       "      <td>0.032419</td>\n",
       "      <td>NaN</td>\n",
       "      <td>NaN</td>\n",
       "      <td>0.008587</td>\n",
       "      <td>0.045480</td>\n",
       "      <td>0.020818</td>\n",
       "      <td>NaN</td>\n",
       "      <td>NaN</td>\n",
       "      <td>NaN</td>\n",
       "      <td>NaN</td>\n",
       "      <td>0.166193</td>\n",
       "    </tr>\n",
       "    <tr>\n",
       "      <th>6</th>\n",
       "      <td>9</td>\n",
       "      <td>NaN</td>\n",
       "      <td>NaN</td>\n",
       "      <td>0.204902</td>\n",
       "      <td>0.250500</td>\n",
       "      <td>0.308364</td>\n",
       "      <td>0.186857</td>\n",
       "      <td>NaN</td>\n",
       "      <td>NaN</td>\n",
       "      <td>0.116249</td>\n",
       "      <td>0.055184</td>\n",
       "      <td>0.021912</td>\n",
       "      <td>NaN</td>\n",
       "      <td>NaN</td>\n",
       "      <td>NaN</td>\n",
       "      <td>NaN</td>\n",
       "      <td>0.063211</td>\n",
       "    </tr>\n",
       "    <tr>\n",
       "      <th>7</th>\n",
       "      <td>10</td>\n",
       "      <td>NaN</td>\n",
       "      <td>NaN</td>\n",
       "      <td>0.025012</td>\n",
       "      <td>0.016006</td>\n",
       "      <td>0.012417</td>\n",
       "      <td>0.002298</td>\n",
       "      <td>NaN</td>\n",
       "      <td>NaN</td>\n",
       "      <td>0.009578</td>\n",
       "      <td>0.357556</td>\n",
       "      <td>0.001553</td>\n",
       "      <td>NaN</td>\n",
       "      <td>NaN</td>\n",
       "      <td>NaN</td>\n",
       "      <td>NaN</td>\n",
       "      <td>0.030852</td>\n",
       "    </tr>\n",
       "    <tr>\n",
       "      <th>8</th>\n",
       "      <td>11</td>\n",
       "      <td>NaN</td>\n",
       "      <td>NaN</td>\n",
       "      <td>0.023162</td>\n",
       "      <td>0.027063</td>\n",
       "      <td>0.034356</td>\n",
       "      <td>0.019402</td>\n",
       "      <td>NaN</td>\n",
       "      <td>NaN</td>\n",
       "      <td>0.018158</td>\n",
       "      <td>0.018384</td>\n",
       "      <td>0.015013</td>\n",
       "      <td>NaN</td>\n",
       "      <td>NaN</td>\n",
       "      <td>NaN</td>\n",
       "      <td>NaN</td>\n",
       "      <td>0.020348</td>\n",
       "    </tr>\n",
       "    <tr>\n",
       "      <th>9</th>\n",
       "      <td>0</td>\n",
       "      <td>0.000208</td>\n",
       "      <td>NaN</td>\n",
       "      <td>0.000162</td>\n",
       "      <td>0.000248</td>\n",
       "      <td>0.000124</td>\n",
       "      <td>0.000040</td>\n",
       "      <td>NaN</td>\n",
       "      <td>0.000033</td>\n",
       "      <td>0.000092</td>\n",
       "      <td>0.000020</td>\n",
       "      <td>0.000019</td>\n",
       "      <td>NaN</td>\n",
       "      <td>NaN</td>\n",
       "      <td>0.000093</td>\n",
       "      <td>NaN</td>\n",
       "      <td>0.000034</td>\n",
       "    </tr>\n",
       "    <tr>\n",
       "      <th>10</th>\n",
       "      <td>2</td>\n",
       "      <td>0.000178</td>\n",
       "      <td>NaN</td>\n",
       "      <td>0.000154</td>\n",
       "      <td>0.000159</td>\n",
       "      <td>0.000129</td>\n",
       "      <td>0.000054</td>\n",
       "      <td>NaN</td>\n",
       "      <td>0.000041</td>\n",
       "      <td>0.000146</td>\n",
       "      <td>0.000166</td>\n",
       "      <td>0.000008</td>\n",
       "      <td>NaN</td>\n",
       "      <td>NaN</td>\n",
       "      <td>0.000083</td>\n",
       "      <td>NaN</td>\n",
       "      <td>0.000120</td>\n",
       "    </tr>\n",
       "    <tr>\n",
       "      <th>11</th>\n",
       "      <td>3</td>\n",
       "      <td>0.000278</td>\n",
       "      <td>NaN</td>\n",
       "      <td>0.000032</td>\n",
       "      <td>0.000188</td>\n",
       "      <td>0.000200</td>\n",
       "      <td>0.000014</td>\n",
       "      <td>NaN</td>\n",
       "      <td>0.000012</td>\n",
       "      <td>0.000155</td>\n",
       "      <td>0.000013</td>\n",
       "      <td>0.000005</td>\n",
       "      <td>NaN</td>\n",
       "      <td>NaN</td>\n",
       "      <td>0.000119</td>\n",
       "      <td>NaN</td>\n",
       "      <td>0.000119</td>\n",
       "    </tr>\n",
       "    <tr>\n",
       "      <th>12</th>\n",
       "      <td>4</td>\n",
       "      <td>0.000147</td>\n",
       "      <td>NaN</td>\n",
       "      <td>0.000119</td>\n",
       "      <td>0.000102</td>\n",
       "      <td>0.000139</td>\n",
       "      <td>0.000083</td>\n",
       "      <td>NaN</td>\n",
       "      <td>0.000009</td>\n",
       "      <td>0.000079</td>\n",
       "      <td>0.000051</td>\n",
       "      <td>0.000013</td>\n",
       "      <td>NaN</td>\n",
       "      <td>NaN</td>\n",
       "      <td>0.000017</td>\n",
       "      <td>NaN</td>\n",
       "      <td>0.000099</td>\n",
       "    </tr>\n",
       "    <tr>\n",
       "      <th>13</th>\n",
       "      <td>5</td>\n",
       "      <td>0.000049</td>\n",
       "      <td>NaN</td>\n",
       "      <td>0.000152</td>\n",
       "      <td>0.000049</td>\n",
       "      <td>0.000057</td>\n",
       "      <td>0.000176</td>\n",
       "      <td>NaN</td>\n",
       "      <td>0.000019</td>\n",
       "      <td>0.000026</td>\n",
       "      <td>0.000154</td>\n",
       "      <td>0.000023</td>\n",
       "      <td>NaN</td>\n",
       "      <td>NaN</td>\n",
       "      <td>0.000014</td>\n",
       "      <td>NaN</td>\n",
       "      <td>0.000041</td>\n",
       "    </tr>\n",
       "    <tr>\n",
       "      <th>14</th>\n",
       "      <td>6</td>\n",
       "      <td>0.000005</td>\n",
       "      <td>NaN</td>\n",
       "      <td>0.000003</td>\n",
       "      <td>0.000008</td>\n",
       "      <td>0.000005</td>\n",
       "      <td>0.000008</td>\n",
       "      <td>NaN</td>\n",
       "      <td>0.000108</td>\n",
       "      <td>0.000005</td>\n",
       "      <td>0.000008</td>\n",
       "      <td>0.000011</td>\n",
       "      <td>NaN</td>\n",
       "      <td>NaN</td>\n",
       "      <td>0.000090</td>\n",
       "      <td>NaN</td>\n",
       "      <td>0.000003</td>\n",
       "    </tr>\n",
       "    <tr>\n",
       "      <th>15</th>\n",
       "      <td>7</td>\n",
       "      <td>0.000164</td>\n",
       "      <td>NaN</td>\n",
       "      <td>0.000007</td>\n",
       "      <td>0.000188</td>\n",
       "      <td>0.000142</td>\n",
       "      <td>0.000008</td>\n",
       "      <td>NaN</td>\n",
       "      <td>0.000017</td>\n",
       "      <td>0.000039</td>\n",
       "      <td>0.000011</td>\n",
       "      <td>0.000019</td>\n",
       "      <td>NaN</td>\n",
       "      <td>NaN</td>\n",
       "      <td>0.000118</td>\n",
       "      <td>NaN</td>\n",
       "      <td>0.000101</td>\n",
       "    </tr>\n",
       "    <tr>\n",
       "      <th>16</th>\n",
       "      <td>8</td>\n",
       "      <td>0.000015</td>\n",
       "      <td>NaN</td>\n",
       "      <td>0.000058</td>\n",
       "      <td>0.000020</td>\n",
       "      <td>0.000012</td>\n",
       "      <td>0.000111</td>\n",
       "      <td>NaN</td>\n",
       "      <td>0.000118</td>\n",
       "      <td>0.000009</td>\n",
       "      <td>0.000074</td>\n",
       "      <td>0.000096</td>\n",
       "      <td>NaN</td>\n",
       "      <td>NaN</td>\n",
       "      <td>0.000010</td>\n",
       "      <td>NaN</td>\n",
       "      <td>0.000022</td>\n",
       "    </tr>\n",
       "    <tr>\n",
       "      <th>17</th>\n",
       "      <td>9</td>\n",
       "      <td>0.000166</td>\n",
       "      <td>NaN</td>\n",
       "      <td>0.000175</td>\n",
       "      <td>0.000192</td>\n",
       "      <td>0.000176</td>\n",
       "      <td>0.000181</td>\n",
       "      <td>NaN</td>\n",
       "      <td>0.000064</td>\n",
       "      <td>0.000098</td>\n",
       "      <td>0.000089</td>\n",
       "      <td>0.000036</td>\n",
       "      <td>NaN</td>\n",
       "      <td>NaN</td>\n",
       "      <td>0.000074</td>\n",
       "      <td>NaN</td>\n",
       "      <td>0.000123</td>\n",
       "    </tr>\n",
       "    <tr>\n",
       "      <th>18</th>\n",
       "      <td>10</td>\n",
       "      <td>0.000039</td>\n",
       "      <td>NaN</td>\n",
       "      <td>0.000005</td>\n",
       "      <td>0.000055</td>\n",
       "      <td>0.000024</td>\n",
       "      <td>0.000004</td>\n",
       "      <td>NaN</td>\n",
       "      <td>0.000003</td>\n",
       "      <td>0.000059</td>\n",
       "      <td>0.000074</td>\n",
       "      <td>0.000003</td>\n",
       "      <td>NaN</td>\n",
       "      <td>NaN</td>\n",
       "      <td>0.000027</td>\n",
       "      <td>NaN</td>\n",
       "      <td>0.000067</td>\n",
       "    </tr>\n",
       "    <tr>\n",
       "      <th>19</th>\n",
       "      <td>11</td>\n",
       "      <td>0.000024</td>\n",
       "      <td>NaN</td>\n",
       "      <td>0.000083</td>\n",
       "      <td>0.000034</td>\n",
       "      <td>0.000044</td>\n",
       "      <td>0.000307</td>\n",
       "      <td>NaN</td>\n",
       "      <td>0.000099</td>\n",
       "      <td>0.000062</td>\n",
       "      <td>0.000139</td>\n",
       "      <td>0.000105</td>\n",
       "      <td>NaN</td>\n",
       "      <td>NaN</td>\n",
       "      <td>0.000014</td>\n",
       "      <td>NaN</td>\n",
       "      <td>0.000036</td>\n",
       "    </tr>\n",
       "    <tr>\n",
       "      <th>20</th>\n",
       "      <td>0</td>\n",
       "      <td>0.000234</td>\n",
       "      <td>NaN</td>\n",
       "      <td>0.000212</td>\n",
       "      <td>0.000281</td>\n",
       "      <td>0.000267</td>\n",
       "      <td>0.000082</td>\n",
       "      <td>NaN</td>\n",
       "      <td>0.000010</td>\n",
       "      <td>0.000132</td>\n",
       "      <td>0.000018</td>\n",
       "      <td>0.000025</td>\n",
       "      <td>NaN</td>\n",
       "      <td>NaN</td>\n",
       "      <td>0.000067</td>\n",
       "      <td>NaN</td>\n",
       "      <td>0.000117</td>\n",
       "    </tr>\n",
       "    <tr>\n",
       "      <th>21</th>\n",
       "      <td>2</td>\n",
       "      <td>0.000220</td>\n",
       "      <td>NaN</td>\n",
       "      <td>0.000290</td>\n",
       "      <td>0.000231</td>\n",
       "      <td>0.000161</td>\n",
       "      <td>0.000127</td>\n",
       "      <td>NaN</td>\n",
       "      <td>0.000094</td>\n",
       "      <td>0.000113</td>\n",
       "      <td>0.000159</td>\n",
       "      <td>0.000032</td>\n",
       "      <td>NaN</td>\n",
       "      <td>NaN</td>\n",
       "      <td>0.000010</td>\n",
       "      <td>NaN</td>\n",
       "      <td>0.000127</td>\n",
       "    </tr>\n",
       "    <tr>\n",
       "      <th>22</th>\n",
       "      <td>3</td>\n",
       "      <td>0.000132</td>\n",
       "      <td>NaN</td>\n",
       "      <td>0.000174</td>\n",
       "      <td>0.000293</td>\n",
       "      <td>0.000217</td>\n",
       "      <td>0.000007</td>\n",
       "      <td>NaN</td>\n",
       "      <td>0.000049</td>\n",
       "      <td>0.000113</td>\n",
       "      <td>0.000006</td>\n",
       "      <td>0.000007</td>\n",
       "      <td>NaN</td>\n",
       "      <td>NaN</td>\n",
       "      <td>0.000240</td>\n",
       "      <td>NaN</td>\n",
       "      <td>0.000371</td>\n",
       "    </tr>\n",
       "    <tr>\n",
       "      <th>23</th>\n",
       "      <td>4</td>\n",
       "      <td>0.000444</td>\n",
       "      <td>NaN</td>\n",
       "      <td>0.000337</td>\n",
       "      <td>0.000287</td>\n",
       "      <td>0.000385</td>\n",
       "      <td>0.000082</td>\n",
       "      <td>NaN</td>\n",
       "      <td>0.000012</td>\n",
       "      <td>0.000321</td>\n",
       "      <td>0.000009</td>\n",
       "      <td>0.000034</td>\n",
       "      <td>NaN</td>\n",
       "      <td>NaN</td>\n",
       "      <td>0.000069</td>\n",
       "      <td>NaN</td>\n",
       "      <td>0.000214</td>\n",
       "    </tr>\n",
       "    <tr>\n",
       "      <th>24</th>\n",
       "      <td>5</td>\n",
       "      <td>0.000163</td>\n",
       "      <td>NaN</td>\n",
       "      <td>0.000155</td>\n",
       "      <td>0.000123</td>\n",
       "      <td>0.000130</td>\n",
       "      <td>0.000263</td>\n",
       "      <td>NaN</td>\n",
       "      <td>0.000029</td>\n",
       "      <td>0.000140</td>\n",
       "      <td>0.000087</td>\n",
       "      <td>0.000173</td>\n",
       "      <td>NaN</td>\n",
       "      <td>NaN</td>\n",
       "      <td>0.000011</td>\n",
       "      <td>NaN</td>\n",
       "      <td>0.000140</td>\n",
       "    </tr>\n",
       "    <tr>\n",
       "      <th>25</th>\n",
       "      <td>6</td>\n",
       "      <td>0.000005</td>\n",
       "      <td>NaN</td>\n",
       "      <td>0.000006</td>\n",
       "      <td>0.000021</td>\n",
       "      <td>0.000006</td>\n",
       "      <td>0.000004</td>\n",
       "      <td>NaN</td>\n",
       "      <td>0.000087</td>\n",
       "      <td>0.000004</td>\n",
       "      <td>0.000004</td>\n",
       "      <td>0.000007</td>\n",
       "      <td>NaN</td>\n",
       "      <td>NaN</td>\n",
       "      <td>0.000079</td>\n",
       "      <td>NaN</td>\n",
       "      <td>0.000065</td>\n",
       "    </tr>\n",
       "    <tr>\n",
       "      <th>26</th>\n",
       "      <td>7</td>\n",
       "      <td>0.000049</td>\n",
       "      <td>NaN</td>\n",
       "      <td>0.000059</td>\n",
       "      <td>0.000092</td>\n",
       "      <td>0.000054</td>\n",
       "      <td>0.000007</td>\n",
       "      <td>NaN</td>\n",
       "      <td>0.000015</td>\n",
       "      <td>0.000028</td>\n",
       "      <td>0.000007</td>\n",
       "      <td>0.000006</td>\n",
       "      <td>NaN</td>\n",
       "      <td>NaN</td>\n",
       "      <td>0.000079</td>\n",
       "      <td>NaN</td>\n",
       "      <td>0.000059</td>\n",
       "    </tr>\n",
       "    <tr>\n",
       "      <th>27</th>\n",
       "      <td>8</td>\n",
       "      <td>0.000024</td>\n",
       "      <td>NaN</td>\n",
       "      <td>0.000040</td>\n",
       "      <td>0.000038</td>\n",
       "      <td>0.000019</td>\n",
       "      <td>0.000054</td>\n",
       "      <td>NaN</td>\n",
       "      <td>0.000076</td>\n",
       "      <td>0.000007</td>\n",
       "      <td>0.000020</td>\n",
       "      <td>0.000075</td>\n",
       "      <td>NaN</td>\n",
       "      <td>NaN</td>\n",
       "      <td>0.000028</td>\n",
       "      <td>NaN</td>\n",
       "      <td>0.000040</td>\n",
       "    </tr>\n",
       "    <tr>\n",
       "      <th>28</th>\n",
       "      <td>9</td>\n",
       "      <td>0.000643</td>\n",
       "      <td>NaN</td>\n",
       "      <td>0.000826</td>\n",
       "      <td>0.000511</td>\n",
       "      <td>0.000429</td>\n",
       "      <td>0.000507</td>\n",
       "      <td>NaN</td>\n",
       "      <td>0.000056</td>\n",
       "      <td>0.000429</td>\n",
       "      <td>0.000243</td>\n",
       "      <td>0.000074</td>\n",
       "      <td>NaN</td>\n",
       "      <td>NaN</td>\n",
       "      <td>0.000170</td>\n",
       "      <td>NaN</td>\n",
       "      <td>0.000265</td>\n",
       "    </tr>\n",
       "    <tr>\n",
       "      <th>29</th>\n",
       "      <td>10</td>\n",
       "      <td>0.000032</td>\n",
       "      <td>NaN</td>\n",
       "      <td>0.000068</td>\n",
       "      <td>0.000063</td>\n",
       "      <td>0.000032</td>\n",
       "      <td>0.000009</td>\n",
       "      <td>NaN</td>\n",
       "      <td>0.000021</td>\n",
       "      <td>0.000036</td>\n",
       "      <td>0.000075</td>\n",
       "      <td>0.000010</td>\n",
       "      <td>NaN</td>\n",
       "      <td>NaN</td>\n",
       "      <td>0.000038</td>\n",
       "      <td>NaN</td>\n",
       "      <td>0.000062</td>\n",
       "    </tr>\n",
       "    <tr>\n",
       "      <th>...</th>\n",
       "      <td>...</td>\n",
       "      <td>...</td>\n",
       "      <td>...</td>\n",
       "      <td>...</td>\n",
       "      <td>...</td>\n",
       "      <td>...</td>\n",
       "      <td>...</td>\n",
       "      <td>...</td>\n",
       "      <td>...</td>\n",
       "      <td>...</td>\n",
       "      <td>...</td>\n",
       "      <td>...</td>\n",
       "      <td>...</td>\n",
       "      <td>...</td>\n",
       "      <td>...</td>\n",
       "      <td>...</td>\n",
       "      <td>...</td>\n",
       "    </tr>\n",
       "    <tr>\n",
       "      <th>1438</th>\n",
       "      <td>4</td>\n",
       "      <td>0.090656</td>\n",
       "      <td>0.074666</td>\n",
       "      <td>0.075829</td>\n",
       "      <td>0.095378</td>\n",
       "      <td>0.100007</td>\n",
       "      <td>0.033434</td>\n",
       "      <td>0.023140</td>\n",
       "      <td>0.017849</td>\n",
       "      <td>0.069057</td>\n",
       "      <td>0.043026</td>\n",
       "      <td>0.019356</td>\n",
       "      <td>0.106357</td>\n",
       "      <td>0.032475</td>\n",
       "      <td>0.020271</td>\n",
       "      <td>0.096977</td>\n",
       "      <td>NaN</td>\n",
       "    </tr>\n",
       "    <tr>\n",
       "      <th>1439</th>\n",
       "      <td>5</td>\n",
       "      <td>0.083826</td>\n",
       "      <td>0.154835</td>\n",
       "      <td>0.165404</td>\n",
       "      <td>0.087933</td>\n",
       "      <td>0.087178</td>\n",
       "      <td>0.111868</td>\n",
       "      <td>0.054259</td>\n",
       "      <td>0.017812</td>\n",
       "      <td>0.103678</td>\n",
       "      <td>0.058328</td>\n",
       "      <td>0.042544</td>\n",
       "      <td>0.168024</td>\n",
       "      <td>0.054549</td>\n",
       "      <td>0.018358</td>\n",
       "      <td>0.177680</td>\n",
       "      <td>NaN</td>\n",
       "    </tr>\n",
       "    <tr>\n",
       "      <th>1440</th>\n",
       "      <td>6</td>\n",
       "      <td>0.022399</td>\n",
       "      <td>0.015969</td>\n",
       "      <td>0.015383</td>\n",
       "      <td>0.040748</td>\n",
       "      <td>0.020278</td>\n",
       "      <td>0.016695</td>\n",
       "      <td>0.046781</td>\n",
       "      <td>0.072631</td>\n",
       "      <td>0.015278</td>\n",
       "      <td>0.014630</td>\n",
       "      <td>0.027715</td>\n",
       "      <td>0.017176</td>\n",
       "      <td>0.031203</td>\n",
       "      <td>0.083946</td>\n",
       "      <td>0.021367</td>\n",
       "      <td>NaN</td>\n",
       "    </tr>\n",
       "    <tr>\n",
       "      <th>1441</th>\n",
       "      <td>7</td>\n",
       "      <td>0.026706</td>\n",
       "      <td>0.017081</td>\n",
       "      <td>0.020682</td>\n",
       "      <td>0.060329</td>\n",
       "      <td>0.051300</td>\n",
       "      <td>0.022634</td>\n",
       "      <td>0.035998</td>\n",
       "      <td>0.024560</td>\n",
       "      <td>0.026070</td>\n",
       "      <td>0.026170</td>\n",
       "      <td>0.015883</td>\n",
       "      <td>0.024386</td>\n",
       "      <td>0.029430</td>\n",
       "      <td>0.037013</td>\n",
       "      <td>0.029631</td>\n",
       "      <td>NaN</td>\n",
       "    </tr>\n",
       "    <tr>\n",
       "      <th>1442</th>\n",
       "      <td>8</td>\n",
       "      <td>0.016095</td>\n",
       "      <td>0.027627</td>\n",
       "      <td>0.019365</td>\n",
       "      <td>0.016031</td>\n",
       "      <td>0.015906</td>\n",
       "      <td>0.036607</td>\n",
       "      <td>0.032801</td>\n",
       "      <td>0.018828</td>\n",
       "      <td>0.013717</td>\n",
       "      <td>0.014149</td>\n",
       "      <td>0.044941</td>\n",
       "      <td>0.014904</td>\n",
       "      <td>0.026279</td>\n",
       "      <td>0.014989</td>\n",
       "      <td>0.018861</td>\n",
       "      <td>NaN</td>\n",
       "    </tr>\n",
       "    <tr>\n",
       "      <th>1443</th>\n",
       "      <td>9</td>\n",
       "      <td>0.098701</td>\n",
       "      <td>0.075376</td>\n",
       "      <td>0.120222</td>\n",
       "      <td>0.148896</td>\n",
       "      <td>0.105374</td>\n",
       "      <td>0.048106</td>\n",
       "      <td>0.014435</td>\n",
       "      <td>0.014286</td>\n",
       "      <td>0.096953</td>\n",
       "      <td>0.090681</td>\n",
       "      <td>0.028925</td>\n",
       "      <td>0.148078</td>\n",
       "      <td>0.042773</td>\n",
       "      <td>0.020994</td>\n",
       "      <td>0.182100</td>\n",
       "      <td>NaN</td>\n",
       "    </tr>\n",
       "    <tr>\n",
       "      <th>1444</th>\n",
       "      <td>10</td>\n",
       "      <td>0.038680</td>\n",
       "      <td>0.032298</td>\n",
       "      <td>0.029617</td>\n",
       "      <td>0.042144</td>\n",
       "      <td>0.026620</td>\n",
       "      <td>0.020433</td>\n",
       "      <td>0.017721</td>\n",
       "      <td>0.014938</td>\n",
       "      <td>0.018273</td>\n",
       "      <td>0.060427</td>\n",
       "      <td>0.020586</td>\n",
       "      <td>0.017682</td>\n",
       "      <td>0.015581</td>\n",
       "      <td>0.015945</td>\n",
       "      <td>0.076149</td>\n",
       "      <td>NaN</td>\n",
       "    </tr>\n",
       "    <tr>\n",
       "      <th>1445</th>\n",
       "      <td>11</td>\n",
       "      <td>0.038838</td>\n",
       "      <td>0.028527</td>\n",
       "      <td>0.019090</td>\n",
       "      <td>0.025362</td>\n",
       "      <td>0.041234</td>\n",
       "      <td>0.023264</td>\n",
       "      <td>0.034811</td>\n",
       "      <td>0.029393</td>\n",
       "      <td>0.017766</td>\n",
       "      <td>0.022141</td>\n",
       "      <td>0.031728</td>\n",
       "      <td>0.031427</td>\n",
       "      <td>0.072301</td>\n",
       "      <td>0.040142</td>\n",
       "      <td>0.027772</td>\n",
       "      <td>NaN</td>\n",
       "    </tr>\n",
       "    <tr>\n",
       "      <th>1446</th>\n",
       "      <td>0</td>\n",
       "      <td>0.266189</td>\n",
       "      <td>0.114773</td>\n",
       "      <td>0.132448</td>\n",
       "      <td>0.324920</td>\n",
       "      <td>0.257937</td>\n",
       "      <td>0.044688</td>\n",
       "      <td>0.012796</td>\n",
       "      <td>0.045039</td>\n",
       "      <td>0.205511</td>\n",
       "      <td>0.114217</td>\n",
       "      <td>0.040233</td>\n",
       "      <td>0.334560</td>\n",
       "      <td>0.018611</td>\n",
       "      <td>0.107591</td>\n",
       "      <td>0.254821</td>\n",
       "      <td>NaN</td>\n",
       "    </tr>\n",
       "    <tr>\n",
       "      <th>1447</th>\n",
       "      <td>1</td>\n",
       "      <td>0.050503</td>\n",
       "      <td>0.113387</td>\n",
       "      <td>0.105859</td>\n",
       "      <td>0.066743</td>\n",
       "      <td>0.044659</td>\n",
       "      <td>0.093637</td>\n",
       "      <td>0.038312</td>\n",
       "      <td>0.010466</td>\n",
       "      <td>0.062837</td>\n",
       "      <td>0.074490</td>\n",
       "      <td>0.053185</td>\n",
       "      <td>0.100798</td>\n",
       "      <td>0.015292</td>\n",
       "      <td>0.008016</td>\n",
       "      <td>0.066598</td>\n",
       "      <td>NaN</td>\n",
       "    </tr>\n",
       "    <tr>\n",
       "      <th>1448</th>\n",
       "      <td>2</td>\n",
       "      <td>0.028304</td>\n",
       "      <td>0.043636</td>\n",
       "      <td>0.069606</td>\n",
       "      <td>0.037693</td>\n",
       "      <td>0.020533</td>\n",
       "      <td>0.075129</td>\n",
       "      <td>0.058007</td>\n",
       "      <td>0.012456</td>\n",
       "      <td>0.028105</td>\n",
       "      <td>0.073325</td>\n",
       "      <td>0.057175</td>\n",
       "      <td>0.058222</td>\n",
       "      <td>0.043407</td>\n",
       "      <td>0.011344</td>\n",
       "      <td>0.039469</td>\n",
       "      <td>NaN</td>\n",
       "    </tr>\n",
       "    <tr>\n",
       "      <th>1449</th>\n",
       "      <td>4</td>\n",
       "      <td>0.088895</td>\n",
       "      <td>0.062047</td>\n",
       "      <td>0.089560</td>\n",
       "      <td>0.072351</td>\n",
       "      <td>0.068627</td>\n",
       "      <td>0.026355</td>\n",
       "      <td>0.009883</td>\n",
       "      <td>0.020064</td>\n",
       "      <td>0.047832</td>\n",
       "      <td>0.033049</td>\n",
       "      <td>0.038113</td>\n",
       "      <td>0.090904</td>\n",
       "      <td>0.007266</td>\n",
       "      <td>0.026640</td>\n",
       "      <td>0.065130</td>\n",
       "      <td>NaN</td>\n",
       "    </tr>\n",
       "    <tr>\n",
       "      <th>1450</th>\n",
       "      <td>5</td>\n",
       "      <td>0.130503</td>\n",
       "      <td>0.235557</td>\n",
       "      <td>0.189371</td>\n",
       "      <td>0.142965</td>\n",
       "      <td>0.100956</td>\n",
       "      <td>0.200084</td>\n",
       "      <td>0.018646</td>\n",
       "      <td>0.011356</td>\n",
       "      <td>0.102266</td>\n",
       "      <td>0.052684</td>\n",
       "      <td>0.170483</td>\n",
       "      <td>0.208434</td>\n",
       "      <td>0.040125</td>\n",
       "      <td>0.012310</td>\n",
       "      <td>0.158496</td>\n",
       "      <td>NaN</td>\n",
       "    </tr>\n",
       "    <tr>\n",
       "      <th>1451</th>\n",
       "      <td>6</td>\n",
       "      <td>0.023637</td>\n",
       "      <td>0.004821</td>\n",
       "      <td>0.006202</td>\n",
       "      <td>0.035303</td>\n",
       "      <td>0.016454</td>\n",
       "      <td>0.009025</td>\n",
       "      <td>0.029196</td>\n",
       "      <td>0.102947</td>\n",
       "      <td>0.009025</td>\n",
       "      <td>0.005555</td>\n",
       "      <td>0.015188</td>\n",
       "      <td>0.012590</td>\n",
       "      <td>0.033450</td>\n",
       "      <td>0.051183</td>\n",
       "      <td>0.016048</td>\n",
       "      <td>NaN</td>\n",
       "    </tr>\n",
       "    <tr>\n",
       "      <th>1452</th>\n",
       "      <td>7</td>\n",
       "      <td>0.069275</td>\n",
       "      <td>0.020097</td>\n",
       "      <td>0.046695</td>\n",
       "      <td>0.049503</td>\n",
       "      <td>0.056805</td>\n",
       "      <td>0.027163</td>\n",
       "      <td>0.032125</td>\n",
       "      <td>0.028596</td>\n",
       "      <td>0.016332</td>\n",
       "      <td>0.009556</td>\n",
       "      <td>0.012317</td>\n",
       "      <td>0.073564</td>\n",
       "      <td>0.021903</td>\n",
       "      <td>0.040085</td>\n",
       "      <td>0.054781</td>\n",
       "      <td>NaN</td>\n",
       "    </tr>\n",
       "    <tr>\n",
       "      <th>1453</th>\n",
       "      <td>8</td>\n",
       "      <td>0.013114</td>\n",
       "      <td>0.011479</td>\n",
       "      <td>0.021840</td>\n",
       "      <td>0.015008</td>\n",
       "      <td>0.010473</td>\n",
       "      <td>0.044742</td>\n",
       "      <td>0.033068</td>\n",
       "      <td>0.010815</td>\n",
       "      <td>0.006278</td>\n",
       "      <td>0.008246</td>\n",
       "      <td>0.034356</td>\n",
       "      <td>0.013267</td>\n",
       "      <td>0.027761</td>\n",
       "      <td>0.006368</td>\n",
       "      <td>0.016059</td>\n",
       "      <td>NaN</td>\n",
       "    </tr>\n",
       "    <tr>\n",
       "      <th>1454</th>\n",
       "      <td>9</td>\n",
       "      <td>0.518828</td>\n",
       "      <td>0.236159</td>\n",
       "      <td>0.337766</td>\n",
       "      <td>0.555534</td>\n",
       "      <td>0.360821</td>\n",
       "      <td>0.209651</td>\n",
       "      <td>0.062861</td>\n",
       "      <td>0.152366</td>\n",
       "      <td>0.262985</td>\n",
       "      <td>0.199291</td>\n",
       "      <td>0.135435</td>\n",
       "      <td>0.587772</td>\n",
       "      <td>0.006530</td>\n",
       "      <td>0.179054</td>\n",
       "      <td>0.350082</td>\n",
       "      <td>NaN</td>\n",
       "    </tr>\n",
       "    <tr>\n",
       "      <th>1455</th>\n",
       "      <td>10</td>\n",
       "      <td>0.107886</td>\n",
       "      <td>0.084949</td>\n",
       "      <td>0.192697</td>\n",
       "      <td>0.106935</td>\n",
       "      <td>0.097757</td>\n",
       "      <td>0.034170</td>\n",
       "      <td>0.055052</td>\n",
       "      <td>0.033121</td>\n",
       "      <td>0.053999</td>\n",
       "      <td>0.097432</td>\n",
       "      <td>0.002130</td>\n",
       "      <td>0.099368</td>\n",
       "      <td>0.002800</td>\n",
       "      <td>0.028527</td>\n",
       "      <td>0.160716</td>\n",
       "      <td>NaN</td>\n",
       "    </tr>\n",
       "    <tr>\n",
       "      <th>1456</th>\n",
       "      <td>11</td>\n",
       "      <td>0.014080</td>\n",
       "      <td>0.020865</td>\n",
       "      <td>0.017533</td>\n",
       "      <td>0.015821</td>\n",
       "      <td>0.012940</td>\n",
       "      <td>0.036910</td>\n",
       "      <td>0.011595</td>\n",
       "      <td>0.008071</td>\n",
       "      <td>0.007120</td>\n",
       "      <td>0.019258</td>\n",
       "      <td>0.053159</td>\n",
       "      <td>0.016962</td>\n",
       "      <td>0.029279</td>\n",
       "      <td>0.007696</td>\n",
       "      <td>0.012365</td>\n",
       "      <td>NaN</td>\n",
       "    </tr>\n",
       "    <tr>\n",
       "      <th>1457</th>\n",
       "      <td>0</td>\n",
       "      <td>0.312001</td>\n",
       "      <td>0.226266</td>\n",
       "      <td>0.377575</td>\n",
       "      <td>0.242648</td>\n",
       "      <td>0.291292</td>\n",
       "      <td>0.339555</td>\n",
       "      <td>0.011561</td>\n",
       "      <td>0.044064</td>\n",
       "      <td>0.175981</td>\n",
       "      <td>0.056806</td>\n",
       "      <td>0.032882</td>\n",
       "      <td>0.284416</td>\n",
       "      <td>0.024044</td>\n",
       "      <td>0.013593</td>\n",
       "      <td>0.387687</td>\n",
       "      <td>NaN</td>\n",
       "    </tr>\n",
       "    <tr>\n",
       "      <th>1458</th>\n",
       "      <td>1</td>\n",
       "      <td>0.325857</td>\n",
       "      <td>0.386024</td>\n",
       "      <td>0.453161</td>\n",
       "      <td>0.353718</td>\n",
       "      <td>0.326361</td>\n",
       "      <td>0.475347</td>\n",
       "      <td>0.106296</td>\n",
       "      <td>0.122885</td>\n",
       "      <td>0.092801</td>\n",
       "      <td>0.325070</td>\n",
       "      <td>0.058302</td>\n",
       "      <td>0.470647</td>\n",
       "      <td>0.188763</td>\n",
       "      <td>0.015570</td>\n",
       "      <td>0.460707</td>\n",
       "      <td>NaN</td>\n",
       "    </tr>\n",
       "    <tr>\n",
       "      <th>1459</th>\n",
       "      <td>2</td>\n",
       "      <td>0.103261</td>\n",
       "      <td>0.128597</td>\n",
       "      <td>0.267349</td>\n",
       "      <td>0.121642</td>\n",
       "      <td>0.135570</td>\n",
       "      <td>0.143310</td>\n",
       "      <td>0.142358</td>\n",
       "      <td>0.126430</td>\n",
       "      <td>0.100854</td>\n",
       "      <td>0.139056</td>\n",
       "      <td>0.122400</td>\n",
       "      <td>0.115713</td>\n",
       "      <td>0.065575</td>\n",
       "      <td>0.060662</td>\n",
       "      <td>0.193493</td>\n",
       "      <td>NaN</td>\n",
       "    </tr>\n",
       "    <tr>\n",
       "      <th>1460</th>\n",
       "      <td>4</td>\n",
       "      <td>0.277915</td>\n",
       "      <td>0.231410</td>\n",
       "      <td>0.274037</td>\n",
       "      <td>0.252097</td>\n",
       "      <td>0.293207</td>\n",
       "      <td>0.270879</td>\n",
       "      <td>0.011273</td>\n",
       "      <td>0.012477</td>\n",
       "      <td>0.185317</td>\n",
       "      <td>0.136109</td>\n",
       "      <td>0.043729</td>\n",
       "      <td>0.301725</td>\n",
       "      <td>0.140851</td>\n",
       "      <td>0.016159</td>\n",
       "      <td>0.243387</td>\n",
       "      <td>NaN</td>\n",
       "    </tr>\n",
       "    <tr>\n",
       "      <th>1461</th>\n",
       "      <td>5</td>\n",
       "      <td>0.159459</td>\n",
       "      <td>0.354292</td>\n",
       "      <td>0.290988</td>\n",
       "      <td>0.164646</td>\n",
       "      <td>0.183056</td>\n",
       "      <td>0.399422</td>\n",
       "      <td>0.156211</td>\n",
       "      <td>0.015007</td>\n",
       "      <td>0.067692</td>\n",
       "      <td>0.110143</td>\n",
       "      <td>0.227198</td>\n",
       "      <td>0.328227</td>\n",
       "      <td>0.143281</td>\n",
       "      <td>0.008744</td>\n",
       "      <td>0.290423</td>\n",
       "      <td>NaN</td>\n",
       "    </tr>\n",
       "    <tr>\n",
       "      <th>1462</th>\n",
       "      <td>6</td>\n",
       "      <td>0.008448</td>\n",
       "      <td>0.007142</td>\n",
       "      <td>0.006152</td>\n",
       "      <td>0.048958</td>\n",
       "      <td>0.009525</td>\n",
       "      <td>0.007125</td>\n",
       "      <td>0.270185</td>\n",
       "      <td>0.364126</td>\n",
       "      <td>0.008914</td>\n",
       "      <td>0.006517</td>\n",
       "      <td>0.018512</td>\n",
       "      <td>0.010457</td>\n",
       "      <td>0.194542</td>\n",
       "      <td>0.325328</td>\n",
       "      <td>0.008932</td>\n",
       "      <td>NaN</td>\n",
       "    </tr>\n",
       "    <tr>\n",
       "      <th>1463</th>\n",
       "      <td>7</td>\n",
       "      <td>0.117489</td>\n",
       "      <td>0.111654</td>\n",
       "      <td>0.205561</td>\n",
       "      <td>0.124296</td>\n",
       "      <td>0.085857</td>\n",
       "      <td>0.040500</td>\n",
       "      <td>0.097987</td>\n",
       "      <td>0.099375</td>\n",
       "      <td>0.120438</td>\n",
       "      <td>0.063212</td>\n",
       "      <td>0.036307</td>\n",
       "      <td>0.093097</td>\n",
       "      <td>0.077434</td>\n",
       "      <td>0.081612</td>\n",
       "      <td>0.143711</td>\n",
       "      <td>NaN</td>\n",
       "    </tr>\n",
       "    <tr>\n",
       "      <th>1464</th>\n",
       "      <td>8</td>\n",
       "      <td>0.016686</td>\n",
       "      <td>0.246107</td>\n",
       "      <td>0.062335</td>\n",
       "      <td>0.014361</td>\n",
       "      <td>0.014097</td>\n",
       "      <td>0.249510</td>\n",
       "      <td>0.219242</td>\n",
       "      <td>0.033086</td>\n",
       "      <td>0.008371</td>\n",
       "      <td>0.021508</td>\n",
       "      <td>0.381959</td>\n",
       "      <td>0.015780</td>\n",
       "      <td>0.201200</td>\n",
       "      <td>0.016634</td>\n",
       "      <td>0.021113</td>\n",
       "      <td>NaN</td>\n",
       "    </tr>\n",
       "    <tr>\n",
       "      <th>1465</th>\n",
       "      <td>9</td>\n",
       "      <td>0.319560</td>\n",
       "      <td>0.279770</td>\n",
       "      <td>0.436317</td>\n",
       "      <td>0.235590</td>\n",
       "      <td>0.308808</td>\n",
       "      <td>0.355045</td>\n",
       "      <td>0.007240</td>\n",
       "      <td>0.013321</td>\n",
       "      <td>0.183797</td>\n",
       "      <td>0.128093</td>\n",
       "      <td>0.091292</td>\n",
       "      <td>0.316884</td>\n",
       "      <td>0.093642</td>\n",
       "      <td>0.011721</td>\n",
       "      <td>0.347664</td>\n",
       "      <td>NaN</td>\n",
       "    </tr>\n",
       "    <tr>\n",
       "      <th>1466</th>\n",
       "      <td>10</td>\n",
       "      <td>0.117827</td>\n",
       "      <td>0.058367</td>\n",
       "      <td>0.257047</td>\n",
       "      <td>0.202963</td>\n",
       "      <td>0.150425</td>\n",
       "      <td>0.172959</td>\n",
       "      <td>0.096212</td>\n",
       "      <td>0.059961</td>\n",
       "      <td>0.081830</td>\n",
       "      <td>0.181083</td>\n",
       "      <td>0.013961</td>\n",
       "      <td>0.162486</td>\n",
       "      <td>0.013336</td>\n",
       "      <td>0.041650</td>\n",
       "      <td>0.172385</td>\n",
       "      <td>NaN</td>\n",
       "    </tr>\n",
       "    <tr>\n",
       "      <th>1467</th>\n",
       "      <td>11</td>\n",
       "      <td>0.067691</td>\n",
       "      <td>0.088707</td>\n",
       "      <td>0.112741</td>\n",
       "      <td>0.078803</td>\n",
       "      <td>0.068687</td>\n",
       "      <td>0.149211</td>\n",
       "      <td>0.017089</td>\n",
       "      <td>0.025681</td>\n",
       "      <td>0.035465</td>\n",
       "      <td>0.056495</td>\n",
       "      <td>0.119648</td>\n",
       "      <td>0.080170</td>\n",
       "      <td>0.040220</td>\n",
       "      <td>0.038222</td>\n",
       "      <td>0.051789</td>\n",
       "      <td>NaN</td>\n",
       "    </tr>\n",
       "  </tbody>\n",
       "</table>\n",
       "<p>1468 rows × 17 columns</p>\n",
       "</div>"
      ],
      "text/plain": [
       "test  muscle         0         1         2         3         4         5  \\\n",
       "0          0       NaN       NaN  0.127825  0.124255  0.146927  0.041583   \n",
       "1          2       NaN       NaN  0.179864  0.294909  0.295846  0.107769   \n",
       "2          3       NaN       NaN  0.078753  0.244578  0.272709  0.010146   \n",
       "3          4       NaN       NaN  0.150353  0.104654  0.115272  0.057845   \n",
       "4          5       NaN       NaN  0.172669  0.124655  0.133114  0.196436   \n",
       "5          7       NaN       NaN  0.073350  0.127731  0.126761  0.032419   \n",
       "6          9       NaN       NaN  0.204902  0.250500  0.308364  0.186857   \n",
       "7         10       NaN       NaN  0.025012  0.016006  0.012417  0.002298   \n",
       "8         11       NaN       NaN  0.023162  0.027063  0.034356  0.019402   \n",
       "9          0  0.000208       NaN  0.000162  0.000248  0.000124  0.000040   \n",
       "10         2  0.000178       NaN  0.000154  0.000159  0.000129  0.000054   \n",
       "11         3  0.000278       NaN  0.000032  0.000188  0.000200  0.000014   \n",
       "12         4  0.000147       NaN  0.000119  0.000102  0.000139  0.000083   \n",
       "13         5  0.000049       NaN  0.000152  0.000049  0.000057  0.000176   \n",
       "14         6  0.000005       NaN  0.000003  0.000008  0.000005  0.000008   \n",
       "15         7  0.000164       NaN  0.000007  0.000188  0.000142  0.000008   \n",
       "16         8  0.000015       NaN  0.000058  0.000020  0.000012  0.000111   \n",
       "17         9  0.000166       NaN  0.000175  0.000192  0.000176  0.000181   \n",
       "18        10  0.000039       NaN  0.000005  0.000055  0.000024  0.000004   \n",
       "19        11  0.000024       NaN  0.000083  0.000034  0.000044  0.000307   \n",
       "20         0  0.000234       NaN  0.000212  0.000281  0.000267  0.000082   \n",
       "21         2  0.000220       NaN  0.000290  0.000231  0.000161  0.000127   \n",
       "22         3  0.000132       NaN  0.000174  0.000293  0.000217  0.000007   \n",
       "23         4  0.000444       NaN  0.000337  0.000287  0.000385  0.000082   \n",
       "24         5  0.000163       NaN  0.000155  0.000123  0.000130  0.000263   \n",
       "25         6  0.000005       NaN  0.000006  0.000021  0.000006  0.000004   \n",
       "26         7  0.000049       NaN  0.000059  0.000092  0.000054  0.000007   \n",
       "27         8  0.000024       NaN  0.000040  0.000038  0.000019  0.000054   \n",
       "28         9  0.000643       NaN  0.000826  0.000511  0.000429  0.000507   \n",
       "29        10  0.000032       NaN  0.000068  0.000063  0.000032  0.000009   \n",
       "...      ...       ...       ...       ...       ...       ...       ...   \n",
       "1438       4  0.090656  0.074666  0.075829  0.095378  0.100007  0.033434   \n",
       "1439       5  0.083826  0.154835  0.165404  0.087933  0.087178  0.111868   \n",
       "1440       6  0.022399  0.015969  0.015383  0.040748  0.020278  0.016695   \n",
       "1441       7  0.026706  0.017081  0.020682  0.060329  0.051300  0.022634   \n",
       "1442       8  0.016095  0.027627  0.019365  0.016031  0.015906  0.036607   \n",
       "1443       9  0.098701  0.075376  0.120222  0.148896  0.105374  0.048106   \n",
       "1444      10  0.038680  0.032298  0.029617  0.042144  0.026620  0.020433   \n",
       "1445      11  0.038838  0.028527  0.019090  0.025362  0.041234  0.023264   \n",
       "1446       0  0.266189  0.114773  0.132448  0.324920  0.257937  0.044688   \n",
       "1447       1  0.050503  0.113387  0.105859  0.066743  0.044659  0.093637   \n",
       "1448       2  0.028304  0.043636  0.069606  0.037693  0.020533  0.075129   \n",
       "1449       4  0.088895  0.062047  0.089560  0.072351  0.068627  0.026355   \n",
       "1450       5  0.130503  0.235557  0.189371  0.142965  0.100956  0.200084   \n",
       "1451       6  0.023637  0.004821  0.006202  0.035303  0.016454  0.009025   \n",
       "1452       7  0.069275  0.020097  0.046695  0.049503  0.056805  0.027163   \n",
       "1453       8  0.013114  0.011479  0.021840  0.015008  0.010473  0.044742   \n",
       "1454       9  0.518828  0.236159  0.337766  0.555534  0.360821  0.209651   \n",
       "1455      10  0.107886  0.084949  0.192697  0.106935  0.097757  0.034170   \n",
       "1456      11  0.014080  0.020865  0.017533  0.015821  0.012940  0.036910   \n",
       "1457       0  0.312001  0.226266  0.377575  0.242648  0.291292  0.339555   \n",
       "1458       1  0.325857  0.386024  0.453161  0.353718  0.326361  0.475347   \n",
       "1459       2  0.103261  0.128597  0.267349  0.121642  0.135570  0.143310   \n",
       "1460       4  0.277915  0.231410  0.274037  0.252097  0.293207  0.270879   \n",
       "1461       5  0.159459  0.354292  0.290988  0.164646  0.183056  0.399422   \n",
       "1462       6  0.008448  0.007142  0.006152  0.048958  0.009525  0.007125   \n",
       "1463       7  0.117489  0.111654  0.205561  0.124296  0.085857  0.040500   \n",
       "1464       8  0.016686  0.246107  0.062335  0.014361  0.014097  0.249510   \n",
       "1465       9  0.319560  0.279770  0.436317  0.235590  0.308808  0.355045   \n",
       "1466      10  0.117827  0.058367  0.257047  0.202963  0.150425  0.172959   \n",
       "1467      11  0.067691  0.088707  0.112741  0.078803  0.068687  0.149211   \n",
       "\n",
       "test         6         7         8         9        10        11        12  \\\n",
       "0          NaN       NaN  0.162206  0.017711  0.014369       NaN       NaN   \n",
       "1          NaN       NaN  0.199097  0.202150  0.022668       NaN       NaN   \n",
       "2          NaN       NaN  0.106490  0.010600  0.007517       NaN       NaN   \n",
       "3          NaN       NaN  0.065429  0.052930  0.009894       NaN       NaN   \n",
       "4          NaN       NaN  0.101393  0.187997  0.051396       NaN       NaN   \n",
       "5          NaN       NaN  0.008587  0.045480  0.020818       NaN       NaN   \n",
       "6          NaN       NaN  0.116249  0.055184  0.021912       NaN       NaN   \n",
       "7          NaN       NaN  0.009578  0.357556  0.001553       NaN       NaN   \n",
       "8          NaN       NaN  0.018158  0.018384  0.015013       NaN       NaN   \n",
       "9          NaN  0.000033  0.000092  0.000020  0.000019       NaN       NaN   \n",
       "10         NaN  0.000041  0.000146  0.000166  0.000008       NaN       NaN   \n",
       "11         NaN  0.000012  0.000155  0.000013  0.000005       NaN       NaN   \n",
       "12         NaN  0.000009  0.000079  0.000051  0.000013       NaN       NaN   \n",
       "13         NaN  0.000019  0.000026  0.000154  0.000023       NaN       NaN   \n",
       "14         NaN  0.000108  0.000005  0.000008  0.000011       NaN       NaN   \n",
       "15         NaN  0.000017  0.000039  0.000011  0.000019       NaN       NaN   \n",
       "16         NaN  0.000118  0.000009  0.000074  0.000096       NaN       NaN   \n",
       "17         NaN  0.000064  0.000098  0.000089  0.000036       NaN       NaN   \n",
       "18         NaN  0.000003  0.000059  0.000074  0.000003       NaN       NaN   \n",
       "19         NaN  0.000099  0.000062  0.000139  0.000105       NaN       NaN   \n",
       "20         NaN  0.000010  0.000132  0.000018  0.000025       NaN       NaN   \n",
       "21         NaN  0.000094  0.000113  0.000159  0.000032       NaN       NaN   \n",
       "22         NaN  0.000049  0.000113  0.000006  0.000007       NaN       NaN   \n",
       "23         NaN  0.000012  0.000321  0.000009  0.000034       NaN       NaN   \n",
       "24         NaN  0.000029  0.000140  0.000087  0.000173       NaN       NaN   \n",
       "25         NaN  0.000087  0.000004  0.000004  0.000007       NaN       NaN   \n",
       "26         NaN  0.000015  0.000028  0.000007  0.000006       NaN       NaN   \n",
       "27         NaN  0.000076  0.000007  0.000020  0.000075       NaN       NaN   \n",
       "28         NaN  0.000056  0.000429  0.000243  0.000074       NaN       NaN   \n",
       "29         NaN  0.000021  0.000036  0.000075  0.000010       NaN       NaN   \n",
       "...        ...       ...       ...       ...       ...       ...       ...   \n",
       "1438  0.023140  0.017849  0.069057  0.043026  0.019356  0.106357  0.032475   \n",
       "1439  0.054259  0.017812  0.103678  0.058328  0.042544  0.168024  0.054549   \n",
       "1440  0.046781  0.072631  0.015278  0.014630  0.027715  0.017176  0.031203   \n",
       "1441  0.035998  0.024560  0.026070  0.026170  0.015883  0.024386  0.029430   \n",
       "1442  0.032801  0.018828  0.013717  0.014149  0.044941  0.014904  0.026279   \n",
       "1443  0.014435  0.014286  0.096953  0.090681  0.028925  0.148078  0.042773   \n",
       "1444  0.017721  0.014938  0.018273  0.060427  0.020586  0.017682  0.015581   \n",
       "1445  0.034811  0.029393  0.017766  0.022141  0.031728  0.031427  0.072301   \n",
       "1446  0.012796  0.045039  0.205511  0.114217  0.040233  0.334560  0.018611   \n",
       "1447  0.038312  0.010466  0.062837  0.074490  0.053185  0.100798  0.015292   \n",
       "1448  0.058007  0.012456  0.028105  0.073325  0.057175  0.058222  0.043407   \n",
       "1449  0.009883  0.020064  0.047832  0.033049  0.038113  0.090904  0.007266   \n",
       "1450  0.018646  0.011356  0.102266  0.052684  0.170483  0.208434  0.040125   \n",
       "1451  0.029196  0.102947  0.009025  0.005555  0.015188  0.012590  0.033450   \n",
       "1452  0.032125  0.028596  0.016332  0.009556  0.012317  0.073564  0.021903   \n",
       "1453  0.033068  0.010815  0.006278  0.008246  0.034356  0.013267  0.027761   \n",
       "1454  0.062861  0.152366  0.262985  0.199291  0.135435  0.587772  0.006530   \n",
       "1455  0.055052  0.033121  0.053999  0.097432  0.002130  0.099368  0.002800   \n",
       "1456  0.011595  0.008071  0.007120  0.019258  0.053159  0.016962  0.029279   \n",
       "1457  0.011561  0.044064  0.175981  0.056806  0.032882  0.284416  0.024044   \n",
       "1458  0.106296  0.122885  0.092801  0.325070  0.058302  0.470647  0.188763   \n",
       "1459  0.142358  0.126430  0.100854  0.139056  0.122400  0.115713  0.065575   \n",
       "1460  0.011273  0.012477  0.185317  0.136109  0.043729  0.301725  0.140851   \n",
       "1461  0.156211  0.015007  0.067692  0.110143  0.227198  0.328227  0.143281   \n",
       "1462  0.270185  0.364126  0.008914  0.006517  0.018512  0.010457  0.194542   \n",
       "1463  0.097987  0.099375  0.120438  0.063212  0.036307  0.093097  0.077434   \n",
       "1464  0.219242  0.033086  0.008371  0.021508  0.381959  0.015780  0.201200   \n",
       "1465  0.007240  0.013321  0.183797  0.128093  0.091292  0.316884  0.093642   \n",
       "1466  0.096212  0.059961  0.081830  0.181083  0.013961  0.162486  0.013336   \n",
       "1467  0.017089  0.025681  0.035465  0.056495  0.119648  0.080170  0.040220   \n",
       "\n",
       "test        13        14        15  \n",
       "0          NaN       NaN  0.036916  \n",
       "1          NaN       NaN  0.071460  \n",
       "2          NaN       NaN  0.238814  \n",
       "3          NaN       NaN  0.079885  \n",
       "4          NaN       NaN  0.050041  \n",
       "5          NaN       NaN  0.166193  \n",
       "6          NaN       NaN  0.063211  \n",
       "7          NaN       NaN  0.030852  \n",
       "8          NaN       NaN  0.020348  \n",
       "9     0.000093       NaN  0.000034  \n",
       "10    0.000083       NaN  0.000120  \n",
       "11    0.000119       NaN  0.000119  \n",
       "12    0.000017       NaN  0.000099  \n",
       "13    0.000014       NaN  0.000041  \n",
       "14    0.000090       NaN  0.000003  \n",
       "15    0.000118       NaN  0.000101  \n",
       "16    0.000010       NaN  0.000022  \n",
       "17    0.000074       NaN  0.000123  \n",
       "18    0.000027       NaN  0.000067  \n",
       "19    0.000014       NaN  0.000036  \n",
       "20    0.000067       NaN  0.000117  \n",
       "21    0.000010       NaN  0.000127  \n",
       "22    0.000240       NaN  0.000371  \n",
       "23    0.000069       NaN  0.000214  \n",
       "24    0.000011       NaN  0.000140  \n",
       "25    0.000079       NaN  0.000065  \n",
       "26    0.000079       NaN  0.000059  \n",
       "27    0.000028       NaN  0.000040  \n",
       "28    0.000170       NaN  0.000265  \n",
       "29    0.000038       NaN  0.000062  \n",
       "...        ...       ...       ...  \n",
       "1438  0.020271  0.096977       NaN  \n",
       "1439  0.018358  0.177680       NaN  \n",
       "1440  0.083946  0.021367       NaN  \n",
       "1441  0.037013  0.029631       NaN  \n",
       "1442  0.014989  0.018861       NaN  \n",
       "1443  0.020994  0.182100       NaN  \n",
       "1444  0.015945  0.076149       NaN  \n",
       "1445  0.040142  0.027772       NaN  \n",
       "1446  0.107591  0.254821       NaN  \n",
       "1447  0.008016  0.066598       NaN  \n",
       "1448  0.011344  0.039469       NaN  \n",
       "1449  0.026640  0.065130       NaN  \n",
       "1450  0.012310  0.158496       NaN  \n",
       "1451  0.051183  0.016048       NaN  \n",
       "1452  0.040085  0.054781       NaN  \n",
       "1453  0.006368  0.016059       NaN  \n",
       "1454  0.179054  0.350082       NaN  \n",
       "1455  0.028527  0.160716       NaN  \n",
       "1456  0.007696  0.012365       NaN  \n",
       "1457  0.013593  0.387687       NaN  \n",
       "1458  0.015570  0.460707       NaN  \n",
       "1459  0.060662  0.193493       NaN  \n",
       "1460  0.016159  0.243387       NaN  \n",
       "1461  0.008744  0.290423       NaN  \n",
       "1462  0.325328  0.008932       NaN  \n",
       "1463  0.081612  0.143711       NaN  \n",
       "1464  0.016634  0.021113       NaN  \n",
       "1465  0.011721  0.347664       NaN  \n",
       "1466  0.041650  0.172385       NaN  \n",
       "1467  0.038222  0.051789       NaN  \n",
       "\n",
       "[1468 rows x 17 columns]"
      ]
     },
     "execution_count": 42,
     "metadata": {},
     "output_type": "execute_result"
    }
   ],
   "source": [
    "df_wide"
   ]
  },
  {
   "cell_type": "code",
   "execution_count": 31,
   "metadata": {
    "run_control": {
     "marked": true
    }
   },
   "outputs": [],
   "source": [
    "MUSCLE_SUBSET = 4\n",
    "X = np.array(df_wide[df_wide['muscle'] == MUSCLE_SUBSET].drop('muscle', axis=1))\n",
    "y = np.nanmax(X, axis=1)"
   ]
  },
  {
   "cell_type": "markdown",
   "metadata": {},
   "source": [
    "## 5.1. Shuffle & split data"
   ]
  },
  {
   "cell_type": "code",
   "execution_count": 34,
   "metadata": {
    "run_control": {
     "marked": true
    }
   },
   "outputs": [],
   "source": [
    "from sklearn.model_selection import train_test_split\n",
    "\n",
    "X_train, X_test, y_train, y_test = train_test_split(\n",
    "    X, y, test_size=0.2, random_state=RANDOM_SEED)"
   ]
  },
  {
   "cell_type": "code",
   "execution_count": 39,
   "metadata": {},
   "outputs": [
    {
     "data": {
      "text/plain": [
       "0     10\n",
       "1     51\n",
       "2      0\n",
       "3      0\n",
       "4      0\n",
       "5      0\n",
       "6     39\n",
       "7     40\n",
       "8     44\n",
       "9     44\n",
       "10    45\n",
       "11    82\n",
       "12    82\n",
       "13    59\n",
       "14    49\n",
       "15    97\n",
       "dtype: int64"
      ]
     },
     "execution_count": 39,
     "metadata": {},
     "output_type": "execute_result"
    }
   ],
   "source": [
    "xi = pd.DataFrame(X_train)\n",
    "\n",
    "len(xi) - xi.count()"
   ]
  }
 ],
 "metadata": {
  "kernelspec": {
   "display_name": "mvc",
   "language": "python",
   "name": "mvc"
  },
  "language_info": {
   "codemirror_mode": {
    "name": "ipython",
    "version": 3
   },
   "file_extension": ".py",
   "mimetype": "text/x-python",
   "name": "python",
   "nbconvert_exporter": "python",
   "pygments_lexer": "ipython3",
   "version": "3.6.4"
  },
  "toc": {
   "nav_menu": {},
   "number_sections": false,
   "sideBar": true,
   "skip_h1_title": false,
   "title_cell": "Table of Contents",
   "title_sidebar": "Contents",
   "toc_cell": true,
   "toc_position": {
    "height": "calc(100% - 180px)",
    "left": "10px",
    "top": "150px",
    "width": "384px"
   },
   "toc_section_display": true,
   "toc_window_display": true
  }
 },
 "nbformat": 4,
 "nbformat_minor": 2
}
