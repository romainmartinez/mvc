{
 "cells": [
  {
   "cell_type": "markdown",
   "metadata": {
    "toc": true
   },
   "source": [
    "<h1>Table of Contents<span class=\"tocSkip\"></span></h1>\n",
    "<div class=\"toc\"><ul class=\"toc-item\"><li><span><a href=\"#1.-MVC-project-description\" data-toc-modified-id=\"1.-MVC-project-description-1\">1. MVC project description</a></span></li><li><span><a href=\"#2.-Setup\" data-toc-modified-id=\"2.-Setup-2\">2. Setup</a></span></li><li><span><a href=\"#3.-Get-the-data\" data-toc-modified-id=\"3.-Get-the-data-3\">3. Get the data</a></span><ul class=\"toc-item\"><li><span><a href=\"#3.1.-From-matlab-to-dict\" data-toc-modified-id=\"3.1.-From-matlab-to-dict-3.1\">3.1. From matlab to dict</a></span></li><li><span><a href=\"#3.2.-From-dict-to-pandas-dataframe\" data-toc-modified-id=\"3.2.-From-dict-to-pandas-dataframe-3.2\">3.2. From dict to pandas dataframe</a></span></li></ul></li><li><span><a href=\"#4.-Data-analysis\" data-toc-modified-id=\"4.-Data-analysis-4\">4. Data analysis</a></span><ul class=\"toc-item\"><li><span><a href=\"#4.1.-Muscles-by-dataset\" data-toc-modified-id=\"4.1.-Muscles-by-dataset-4.1\">4.1. Muscles by dataset</a></span></li><li><span><a href=\"#4.2.-Tests-by-dataset\" data-toc-modified-id=\"4.2.-Tests-by-dataset-4.2\">4.2. Tests by dataset</a></span></li><li><span><a href=\"#4.3.-Muscles-and-tests-count\" data-toc-modified-id=\"4.3.-Muscles-and-tests-count-4.3\">4.3. Muscles and tests count</a></span></li><li><span><a href=\"#4.4.-Max-for-each-test-(normalized-by-participant-number)\" data-toc-modified-id=\"4.4.-Max-for-each-test-(normalized-by-participant-number)-4.4\">4.4. Max for each test (normalized by participant number)</a></span></li><li><span><a href=\"#4.5.-Distribution\" data-toc-modified-id=\"4.5.-Distribution-4.5\">4.5. Distribution</a></span></li><li><span><a href=\"#Summary\" data-toc-modified-id=\"Summary-4.6\">Summary</a></span></li></ul></li></ul></div>"
   ]
  },
  {
   "cell_type": "markdown",
   "metadata": {},
   "source": [
    "# 1. MVC project description\n",
    "\n",
    "**Links**\n",
    "- [github repo](https://github.com/romainmartinez/mvc)\n",
    "- [plotly figures]()\n",
    "\n",
    "**Todos**\n",
    "- update readme, description\n",
    "- data analysis\n",
    "- plotly link\n",
    "- one model by muscle\n",
    "\n",
    "**Author**: _Romain Martinez._"
   ]
  },
  {
   "cell_type": "markdown",
   "metadata": {},
   "source": [
    "# 2. Setup"
   ]
  },
  {
   "cell_type": "code",
   "execution_count": 1,
   "metadata": {},
   "outputs": [
    {
     "data": {
      "text/html": [
       "<script>requirejs.config({paths: { 'plotly': ['https://cdn.plot.ly/plotly-latest.min']},});if(!window.Plotly) {{require(['plotly'],function(plotly) {window.Plotly=plotly;});}}</script>"
      ],
      "text/vnd.plotly.v1+html": [
       "<script>requirejs.config({paths: { 'plotly': ['https://cdn.plot.ly/plotly-latest.min']},});if(!window.Plotly) {{require(['plotly'],function(plotly) {window.Plotly=plotly;});}}</script>"
      ]
     },
     "metadata": {},
     "output_type": "display_data"
    }
   ],
   "source": [
    "# Common imports\n",
    "import scipy.io as sio\n",
    "import pandas as pd\n",
    "import numpy as np\n",
    "\n",
    "# Path\n",
    "from pathlib import Path, PurePath\n",
    "PROJECT_PATH = Path('./')\n",
    "DATA_PATH = PROJECT_PATH.joinpath('data')\n",
    "\n",
    "# to make this notebook's output stable across runs\n",
    "RANDOM_SEED = 42\n",
    "np.random.seed(RANDOM_SEED)\n",
    "\n",
    "# Figures\n",
    "OFFLINE = True\n",
    "if OFFLINE:\n",
    "    import plotly.offline as py\n",
    "    py.init_notebook_mode(connected=True)\n",
    "else:\n",
    "    import plotly.plotly as py\n",
    "import plotly.graph_objs as go\n",
    "import plotly.figure_factory as ff\n",
    "from plotly import tools\n",
    "BASE_LAYOUT = go.Layout(hovermode='closest', font=dict(size=14))"
   ]
  },
  {
   "cell_type": "markdown",
   "metadata": {},
   "source": [
    "# 3. Get the data"
   ]
  },
  {
   "cell_type": "markdown",
   "metadata": {},
   "source": [
    "## 3.1. From matlab to dict"
   ]
  },
  {
   "cell_type": "code",
   "execution_count": 2,
   "metadata": {},
   "outputs": [],
   "source": [
    "def load_data(data_path, data_format, normalize=False):\n",
    "    if not data_path.is_dir():\n",
    "        raise ValueError('please provide a valid data path')\n",
    "        \n",
    "    mat = {}\n",
    "    data = {key: [] for key in ('datasets', 'participants', 'muscles', 'tests', 'mvc')}\n",
    "    count = -1\n",
    "    dataset_names = []\n",
    "    \n",
    "    for idataset, ifile in enumerate(data_path.iterdir()):\n",
    "        if ifile.parts[-1].endswith(f'{data_format}.mat'):\n",
    "            dataset = ifile.parts[-1].replace('_only_max.mat', '').replace('MVE_Data_', '')\n",
    "            \n",
    "            if dataset not in dataset_names:\n",
    "                dataset_names.append(dataset)\n",
    "            \n",
    "            mat[dataset] = sio.loadmat(ifile)['MVE']\n",
    "            n_participants = mat[dataset].shape[0]\n",
    "            print(f\"project '{dataset}' ({n_participants} participants)\")\n",
    "            \n",
    "            for iparticipant in range(mat[dataset].shape[0]):\n",
    "                count += 1\n",
    "                for imuscle in range(mat[dataset].shape[1]):\n",
    "                    max_mvc = np.nanmax(mat[dataset][iparticipant, imuscle, :])\n",
    "                    for itest in range(mat[dataset].shape[2]):\n",
    "                        data['participants'].append(count)\n",
    "                        data['datasets'].append(idataset)\n",
    "                        data['muscles'].append(imuscle)\n",
    "                        data['tests'].append(itest)\n",
    "                        if normalize:\n",
    "                            data['mvc'].append(mat[dataset][iparticipant, imuscle, itest] * 100 / max_mvc)\n",
    "                        else:\n",
    "                            data['mvc'].append(mat[dataset][iparticipant, imuscle, itest])\n",
    "                            \n",
    "    print(f'\\n\\ttotal participants: {count}')\n",
    "    return data, dataset_names"
   ]
  },
  {
   "cell_type": "code",
   "execution_count": 3,
   "metadata": {},
   "outputs": [
    {
     "name": "stdout",
     "output_type": "stream",
     "text": [
      "project 'Landry2016' (15 participants)\n",
      "project 'Landry2015_2' (11 participants)\n",
      "project 'Landry2015_1' (14 participants)\n",
      "project 'Violon' (10 participants)\n",
      "project 'Yoann_2015' (22 participants)\n",
      "project 'Landry2013' (21 participants)\n",
      "project 'Landry2012' (18 participants)\n",
      "project 'Tennis' (16 participants)\n",
      "project 'Patrick_2013' (16 participants)\n",
      "project 'Sylvain_2015' (10 participants)\n",
      "\n",
      "\ttotal participants: 152\n"
     ]
    },
    {
     "name": "stderr",
     "output_type": "stream",
     "text": [
      "/home/romain/.local/share/virtualenvs/mvc-kMH3Oq29/lib/python3.6/site-packages/ipykernel_launcher.py:24: RuntimeWarning:\n",
      "\n",
      "All-NaN slice encountered\n",
      "\n"
     ]
    }
   ],
   "source": [
    "DATA_FORMAT = 'only_max'\n",
    "data, DATASET_NAMES = load_data(data_path=DATA_PATH, data_format=DATA_FORMAT, normalize=False)\n",
    "\n",
    "MUSCLES_NAMES = [\n",
    "    'upper trapezius', 'middle trapezius', 'lower trapezius',\n",
    "    'anterior deltoid', 'middle deltoid', 'posterior deltoid',\n",
    "    'pectoralis major', 'serratus anterior', 'latissimus dorsi',\n",
    "    'supraspinatus', 'infraspinatus', 'subscapularis'\n",
    "]\n",
    "TEST_NAMES = np.arange(16)"
   ]
  },
  {
   "cell_type": "markdown",
   "metadata": {},
   "source": [
    "## 3.2. From dict to pandas dataframe"
   ]
  },
  {
   "cell_type": "code",
   "execution_count": 4,
   "metadata": {},
   "outputs": [
    {
     "name": "stdout",
     "output_type": "stream",
     "text": [
      "dataset shape = (16456, 5)\n"
     ]
    },
    {
     "data": {
      "text/html": [
       "<div>\n",
       "<style scoped>\n",
       "    .dataframe tbody tr th:only-of-type {\n",
       "        vertical-align: middle;\n",
       "    }\n",
       "\n",
       "    .dataframe tbody tr th {\n",
       "        vertical-align: top;\n",
       "    }\n",
       "\n",
       "    .dataframe thead th {\n",
       "        text-align: right;\n",
       "    }\n",
       "</style>\n",
       "<table border=\"1\" class=\"dataframe\">\n",
       "  <thead>\n",
       "    <tr style=\"text-align: right;\">\n",
       "      <th></th>\n",
       "      <th>dataset</th>\n",
       "      <th>muscle</th>\n",
       "      <th>mvc</th>\n",
       "      <th>participant</th>\n",
       "      <th>test</th>\n",
       "    </tr>\n",
       "  </thead>\n",
       "  <tbody>\n",
       "    <tr>\n",
       "      <th>2</th>\n",
       "      <td>0</td>\n",
       "      <td>0</td>\n",
       "      <td>0.127825</td>\n",
       "      <td>0</td>\n",
       "      <td>2</td>\n",
       "    </tr>\n",
       "    <tr>\n",
       "      <th>3</th>\n",
       "      <td>0</td>\n",
       "      <td>0</td>\n",
       "      <td>0.124255</td>\n",
       "      <td>0</td>\n",
       "      <td>3</td>\n",
       "    </tr>\n",
       "    <tr>\n",
       "      <th>4</th>\n",
       "      <td>0</td>\n",
       "      <td>0</td>\n",
       "      <td>0.146927</td>\n",
       "      <td>0</td>\n",
       "      <td>4</td>\n",
       "    </tr>\n",
       "    <tr>\n",
       "      <th>5</th>\n",
       "      <td>0</td>\n",
       "      <td>0</td>\n",
       "      <td>0.041583</td>\n",
       "      <td>0</td>\n",
       "      <td>5</td>\n",
       "    </tr>\n",
       "    <tr>\n",
       "      <th>8</th>\n",
       "      <td>0</td>\n",
       "      <td>0</td>\n",
       "      <td>0.162206</td>\n",
       "      <td>0</td>\n",
       "      <td>8</td>\n",
       "    </tr>\n",
       "  </tbody>\n",
       "</table>\n",
       "</div>"
      ],
      "text/plain": [
       "   dataset  muscle       mvc  participant  test\n",
       "2        0       0  0.127825            0     2\n",
       "3        0       0  0.124255            0     3\n",
       "4        0       0  0.146927            0     4\n",
       "5        0       0  0.041583            0     5\n",
       "8        0       0  0.162206            0     8"
      ]
     },
     "execution_count": 4,
     "metadata": {},
     "output_type": "execute_result"
    }
   ],
   "source": [
    "df_tidy = pd.DataFrame({\n",
    "    'participant': data['participants'],\n",
    "    'dataset': data['datasets'],\n",
    "    'muscle': data['muscles'],\n",
    "    'test': data['tests'],\n",
    "    'mvc': data['mvc']\n",
    "}).dropna()\n",
    "\n",
    "print(f'dataset shape = {df_tidy.shape}')\n",
    "df_tidy.head()"
   ]
  },
  {
   "cell_type": "code",
   "execution_count": 5,
   "metadata": {},
   "outputs": [
    {
     "name": "stdout",
     "output_type": "stream",
     "text": [
      "dataset shape = (1468, 17)\n"
     ]
    },
    {
     "data": {
      "text/html": [
       "<div>\n",
       "<style scoped>\n",
       "    .dataframe tbody tr th:only-of-type {\n",
       "        vertical-align: middle;\n",
       "    }\n",
       "\n",
       "    .dataframe tbody tr th {\n",
       "        vertical-align: top;\n",
       "    }\n",
       "\n",
       "    .dataframe thead th {\n",
       "        text-align: right;\n",
       "    }\n",
       "</style>\n",
       "<table border=\"1\" class=\"dataframe\">\n",
       "  <thead>\n",
       "    <tr style=\"text-align: right;\">\n",
       "      <th>test</th>\n",
       "      <th>muscle</th>\n",
       "      <th>0</th>\n",
       "      <th>1</th>\n",
       "      <th>2</th>\n",
       "      <th>3</th>\n",
       "      <th>4</th>\n",
       "      <th>5</th>\n",
       "      <th>6</th>\n",
       "      <th>7</th>\n",
       "      <th>8</th>\n",
       "      <th>9</th>\n",
       "      <th>10</th>\n",
       "      <th>11</th>\n",
       "      <th>12</th>\n",
       "      <th>13</th>\n",
       "      <th>14</th>\n",
       "      <th>15</th>\n",
       "    </tr>\n",
       "  </thead>\n",
       "  <tbody>\n",
       "    <tr>\n",
       "      <th>0</th>\n",
       "      <td>0</td>\n",
       "      <td>NaN</td>\n",
       "      <td>NaN</td>\n",
       "      <td>0.127825</td>\n",
       "      <td>0.124255</td>\n",
       "      <td>0.146927</td>\n",
       "      <td>0.041583</td>\n",
       "      <td>NaN</td>\n",
       "      <td>NaN</td>\n",
       "      <td>0.162206</td>\n",
       "      <td>0.017711</td>\n",
       "      <td>0.014369</td>\n",
       "      <td>NaN</td>\n",
       "      <td>NaN</td>\n",
       "      <td>NaN</td>\n",
       "      <td>NaN</td>\n",
       "      <td>0.036916</td>\n",
       "    </tr>\n",
       "    <tr>\n",
       "      <th>1</th>\n",
       "      <td>2</td>\n",
       "      <td>NaN</td>\n",
       "      <td>NaN</td>\n",
       "      <td>0.179864</td>\n",
       "      <td>0.294909</td>\n",
       "      <td>0.295846</td>\n",
       "      <td>0.107769</td>\n",
       "      <td>NaN</td>\n",
       "      <td>NaN</td>\n",
       "      <td>0.199097</td>\n",
       "      <td>0.202150</td>\n",
       "      <td>0.022668</td>\n",
       "      <td>NaN</td>\n",
       "      <td>NaN</td>\n",
       "      <td>NaN</td>\n",
       "      <td>NaN</td>\n",
       "      <td>0.071460</td>\n",
       "    </tr>\n",
       "    <tr>\n",
       "      <th>2</th>\n",
       "      <td>3</td>\n",
       "      <td>NaN</td>\n",
       "      <td>NaN</td>\n",
       "      <td>0.078753</td>\n",
       "      <td>0.244578</td>\n",
       "      <td>0.272709</td>\n",
       "      <td>0.010146</td>\n",
       "      <td>NaN</td>\n",
       "      <td>NaN</td>\n",
       "      <td>0.106490</td>\n",
       "      <td>0.010600</td>\n",
       "      <td>0.007517</td>\n",
       "      <td>NaN</td>\n",
       "      <td>NaN</td>\n",
       "      <td>NaN</td>\n",
       "      <td>NaN</td>\n",
       "      <td>0.238814</td>\n",
       "    </tr>\n",
       "    <tr>\n",
       "      <th>3</th>\n",
       "      <td>4</td>\n",
       "      <td>NaN</td>\n",
       "      <td>NaN</td>\n",
       "      <td>0.150353</td>\n",
       "      <td>0.104654</td>\n",
       "      <td>0.115272</td>\n",
       "      <td>0.057845</td>\n",
       "      <td>NaN</td>\n",
       "      <td>NaN</td>\n",
       "      <td>0.065429</td>\n",
       "      <td>0.052930</td>\n",
       "      <td>0.009894</td>\n",
       "      <td>NaN</td>\n",
       "      <td>NaN</td>\n",
       "      <td>NaN</td>\n",
       "      <td>NaN</td>\n",
       "      <td>0.079885</td>\n",
       "    </tr>\n",
       "    <tr>\n",
       "      <th>4</th>\n",
       "      <td>5</td>\n",
       "      <td>NaN</td>\n",
       "      <td>NaN</td>\n",
       "      <td>0.172669</td>\n",
       "      <td>0.124655</td>\n",
       "      <td>0.133114</td>\n",
       "      <td>0.196436</td>\n",
       "      <td>NaN</td>\n",
       "      <td>NaN</td>\n",
       "      <td>0.101393</td>\n",
       "      <td>0.187997</td>\n",
       "      <td>0.051396</td>\n",
       "      <td>NaN</td>\n",
       "      <td>NaN</td>\n",
       "      <td>NaN</td>\n",
       "      <td>NaN</td>\n",
       "      <td>0.050041</td>\n",
       "    </tr>\n",
       "  </tbody>\n",
       "</table>\n",
       "</div>"
      ],
      "text/plain": [
       "test  muscle   0   1         2         3         4         5   6   7  \\\n",
       "0          0 NaN NaN  0.127825  0.124255  0.146927  0.041583 NaN NaN   \n",
       "1          2 NaN NaN  0.179864  0.294909  0.295846  0.107769 NaN NaN   \n",
       "2          3 NaN NaN  0.078753  0.244578  0.272709  0.010146 NaN NaN   \n",
       "3          4 NaN NaN  0.150353  0.104654  0.115272  0.057845 NaN NaN   \n",
       "4          5 NaN NaN  0.172669  0.124655  0.133114  0.196436 NaN NaN   \n",
       "\n",
       "test         8         9        10  11  12  13  14        15  \n",
       "0     0.162206  0.017711  0.014369 NaN NaN NaN NaN  0.036916  \n",
       "1     0.199097  0.202150  0.022668 NaN NaN NaN NaN  0.071460  \n",
       "2     0.106490  0.010600  0.007517 NaN NaN NaN NaN  0.238814  \n",
       "3     0.065429  0.052930  0.009894 NaN NaN NaN NaN  0.079885  \n",
       "4     0.101393  0.187997  0.051396 NaN NaN NaN NaN  0.050041  "
      ]
     },
     "execution_count": 5,
     "metadata": {},
     "output_type": "execute_result"
    }
   ],
   "source": [
    "df_wide = df_tidy.pivot_table(\n",
    "    index=['dataset', 'participant', 'muscle'],\n",
    "    columns='test',\n",
    "    values='mvc',\n",
    "    fill_value=np.nan).reset_index()\n",
    "\n",
    "df_wide = df_wide.drop(['dataset', 'participant'], axis=1)\n",
    "\n",
    "print(f'dataset shape = {df_wide.shape}')\n",
    "df_wide.head()"
   ]
  },
  {
   "cell_type": "markdown",
   "metadata": {},
   "source": [
    "# 4. Data analysis"
   ]
  },
  {
   "cell_type": "markdown",
   "metadata": {},
   "source": [
    "## 4.1. Muscles by dataset"
   ]
  },
  {
   "cell_type": "code",
   "execution_count": 6,
   "metadata": {},
   "outputs": [],
   "source": [
    "def plot_count_by_dataset(d, values, index, columns, **kwargs):\n",
    "    table = d.pivot_table(\n",
    "        values,\n",
    "        index,\n",
    "        columns,\n",
    "        aggfunc=lambda x: len(x) / x.nunique(),\n",
    "        fill_value=0).astype(int)\n",
    "\n",
    "    fig = ff.create_annotated_heatmap(\n",
    "        z=np.array(table),\n",
    "        x=kwargs.get('xlabel'),\n",
    "        y=kwargs.get('ylabel'),\n",
    "        showscale=True,\n",
    "        colorscale='YlGnBu',\n",
    "        colorbar=dict(title='Count', titleside='right'))\n",
    "\n",
    "    fig['layout'].update(BASE_LAYOUT)\n",
    "    fig['layout'].update(\n",
    "        dict(\n",
    "            title=kwargs.get('title'),\n",
    "            xaxis=dict(title=kwargs.get('xtitle'), side='bottom'),\n",
    "            yaxis=dict(title=kwargs.get('ytitle'), autorange='reversed'),\n",
    "            margin=go.Margin(t=80, b=80, l=150, r=80, pad=0)))\n",
    "    return fig"
   ]
  },
  {
   "cell_type": "code",
   "execution_count": 7,
   "metadata": {},
   "outputs": [
    {
     "data": {
      "application/vnd.plotly.v1+json": {
       "data": [
        {
         "colorbar": {
          "title": "Count",
          "titleside": "right"
         },
         "colorscale": "YlGnBu",
         "showscale": true,
         "type": "heatmap",
         "x": [
          "upper trapezius",
          "middle trapezius",
          "lower trapezius",
          "anterior deltoid",
          "middle deltoid",
          "posterior deltoid",
          "pectoralis major",
          "serratus anterior",
          "latissimus dorsi",
          "supraspinatus",
          "infraspinatus",
          "subscapularis"
         ],
         "y": [
          "Landry2016",
          "Landry2015_2",
          "Landry2015_1",
          "Violon",
          "Yoann_2015",
          "Landry2013",
          "Landry2012",
          "Tennis",
          "Patrick_2013",
          "Sylvain_2015"
         ],
         "z": [
          [
           14,
           0,
           14,
           14,
           14,
           14,
           11,
           14,
           11,
           13,
           13,
           12
          ],
          [
           11,
           0,
           11,
           11,
           11,
           11,
           0,
           11,
           0,
           0,
           0,
           0
          ],
          [
           14,
           0,
           14,
           14,
           14,
           14,
           0,
           14,
           0,
           14,
           14,
           14
          ],
          [
           0,
           0,
           9,
           9,
           9,
           9,
           0,
           0,
           0,
           8,
           8,
           8
          ],
          [
           22,
           22,
           22,
           0,
           22,
           22,
           22,
           22,
           22,
           22,
           22,
           22
          ],
          [
           21,
           21,
           21,
           21,
           21,
           21,
           21,
           21,
           21,
           0,
           0,
           0
          ],
          [
           18,
           18,
           18,
           18,
           18,
           18,
           18,
           0,
           18,
           0,
           0,
           0
          ],
          [
           15,
           0,
           15,
           15,
           15,
           15,
           15,
           15,
           15,
           15,
           15,
           15
          ],
          [
           16,
           16,
           16,
           16,
           16,
           16,
           16,
           16,
           16,
           16,
           16,
           16
          ],
          [
           10,
           10,
           10,
           0,
           10,
           10,
           10,
           10,
           10,
           10,
           10,
           10
          ]
         ]
        }
       ],
       "layout": {
        "annotations": [
         {
          "font": {
           "color": "#000000"
          },
          "showarrow": false,
          "text": "14",
          "x": "upper trapezius",
          "xref": "x1",
          "y": "Landry2016",
          "yref": "y1"
         },
         {
          "font": {
           "color": "#000000"
          },
          "showarrow": false,
          "text": "0",
          "x": "middle trapezius",
          "xref": "x1",
          "y": "Landry2016",
          "yref": "y1"
         },
         {
          "font": {
           "color": "#000000"
          },
          "showarrow": false,
          "text": "14",
          "x": "lower trapezius",
          "xref": "x1",
          "y": "Landry2016",
          "yref": "y1"
         },
         {
          "font": {
           "color": "#000000"
          },
          "showarrow": false,
          "text": "14",
          "x": "anterior deltoid",
          "xref": "x1",
          "y": "Landry2016",
          "yref": "y1"
         },
         {
          "font": {
           "color": "#000000"
          },
          "showarrow": false,
          "text": "14",
          "x": "middle deltoid",
          "xref": "x1",
          "y": "Landry2016",
          "yref": "y1"
         },
         {
          "font": {
           "color": "#000000"
          },
          "showarrow": false,
          "text": "14",
          "x": "posterior deltoid",
          "xref": "x1",
          "y": "Landry2016",
          "yref": "y1"
         },
         {
          "font": {
           "color": "#000000"
          },
          "showarrow": false,
          "text": "11",
          "x": "pectoralis major",
          "xref": "x1",
          "y": "Landry2016",
          "yref": "y1"
         },
         {
          "font": {
           "color": "#000000"
          },
          "showarrow": false,
          "text": "14",
          "x": "serratus anterior",
          "xref": "x1",
          "y": "Landry2016",
          "yref": "y1"
         },
         {
          "font": {
           "color": "#000000"
          },
          "showarrow": false,
          "text": "11",
          "x": "latissimus dorsi",
          "xref": "x1",
          "y": "Landry2016",
          "yref": "y1"
         },
         {
          "font": {
           "color": "#000000"
          },
          "showarrow": false,
          "text": "13",
          "x": "supraspinatus",
          "xref": "x1",
          "y": "Landry2016",
          "yref": "y1"
         },
         {
          "font": {
           "color": "#000000"
          },
          "showarrow": false,
          "text": "13",
          "x": "infraspinatus",
          "xref": "x1",
          "y": "Landry2016",
          "yref": "y1"
         },
         {
          "font": {
           "color": "#000000"
          },
          "showarrow": false,
          "text": "12",
          "x": "subscapularis",
          "xref": "x1",
          "y": "Landry2016",
          "yref": "y1"
         },
         {
          "font": {
           "color": "#000000"
          },
          "showarrow": false,
          "text": "11",
          "x": "upper trapezius",
          "xref": "x1",
          "y": "Landry2015_2",
          "yref": "y1"
         },
         {
          "font": {
           "color": "#000000"
          },
          "showarrow": false,
          "text": "0",
          "x": "middle trapezius",
          "xref": "x1",
          "y": "Landry2015_2",
          "yref": "y1"
         },
         {
          "font": {
           "color": "#000000"
          },
          "showarrow": false,
          "text": "11",
          "x": "lower trapezius",
          "xref": "x1",
          "y": "Landry2015_2",
          "yref": "y1"
         },
         {
          "font": {
           "color": "#000000"
          },
          "showarrow": false,
          "text": "11",
          "x": "anterior deltoid",
          "xref": "x1",
          "y": "Landry2015_2",
          "yref": "y1"
         },
         {
          "font": {
           "color": "#000000"
          },
          "showarrow": false,
          "text": "11",
          "x": "middle deltoid",
          "xref": "x1",
          "y": "Landry2015_2",
          "yref": "y1"
         },
         {
          "font": {
           "color": "#000000"
          },
          "showarrow": false,
          "text": "11",
          "x": "posterior deltoid",
          "xref": "x1",
          "y": "Landry2015_2",
          "yref": "y1"
         },
         {
          "font": {
           "color": "#000000"
          },
          "showarrow": false,
          "text": "0",
          "x": "pectoralis major",
          "xref": "x1",
          "y": "Landry2015_2",
          "yref": "y1"
         },
         {
          "font": {
           "color": "#000000"
          },
          "showarrow": false,
          "text": "11",
          "x": "serratus anterior",
          "xref": "x1",
          "y": "Landry2015_2",
          "yref": "y1"
         },
         {
          "font": {
           "color": "#000000"
          },
          "showarrow": false,
          "text": "0",
          "x": "latissimus dorsi",
          "xref": "x1",
          "y": "Landry2015_2",
          "yref": "y1"
         },
         {
          "font": {
           "color": "#000000"
          },
          "showarrow": false,
          "text": "0",
          "x": "supraspinatus",
          "xref": "x1",
          "y": "Landry2015_2",
          "yref": "y1"
         },
         {
          "font": {
           "color": "#000000"
          },
          "showarrow": false,
          "text": "0",
          "x": "infraspinatus",
          "xref": "x1",
          "y": "Landry2015_2",
          "yref": "y1"
         },
         {
          "font": {
           "color": "#000000"
          },
          "showarrow": false,
          "text": "0",
          "x": "subscapularis",
          "xref": "x1",
          "y": "Landry2015_2",
          "yref": "y1"
         },
         {
          "font": {
           "color": "#000000"
          },
          "showarrow": false,
          "text": "14",
          "x": "upper trapezius",
          "xref": "x1",
          "y": "Landry2015_1",
          "yref": "y1"
         },
         {
          "font": {
           "color": "#000000"
          },
          "showarrow": false,
          "text": "0",
          "x": "middle trapezius",
          "xref": "x1",
          "y": "Landry2015_1",
          "yref": "y1"
         },
         {
          "font": {
           "color": "#000000"
          },
          "showarrow": false,
          "text": "14",
          "x": "lower trapezius",
          "xref": "x1",
          "y": "Landry2015_1",
          "yref": "y1"
         },
         {
          "font": {
           "color": "#000000"
          },
          "showarrow": false,
          "text": "14",
          "x": "anterior deltoid",
          "xref": "x1",
          "y": "Landry2015_1",
          "yref": "y1"
         },
         {
          "font": {
           "color": "#000000"
          },
          "showarrow": false,
          "text": "14",
          "x": "middle deltoid",
          "xref": "x1",
          "y": "Landry2015_1",
          "yref": "y1"
         },
         {
          "font": {
           "color": "#000000"
          },
          "showarrow": false,
          "text": "14",
          "x": "posterior deltoid",
          "xref": "x1",
          "y": "Landry2015_1",
          "yref": "y1"
         },
         {
          "font": {
           "color": "#000000"
          },
          "showarrow": false,
          "text": "0",
          "x": "pectoralis major",
          "xref": "x1",
          "y": "Landry2015_1",
          "yref": "y1"
         },
         {
          "font": {
           "color": "#000000"
          },
          "showarrow": false,
          "text": "14",
          "x": "serratus anterior",
          "xref": "x1",
          "y": "Landry2015_1",
          "yref": "y1"
         },
         {
          "font": {
           "color": "#000000"
          },
          "showarrow": false,
          "text": "0",
          "x": "latissimus dorsi",
          "xref": "x1",
          "y": "Landry2015_1",
          "yref": "y1"
         },
         {
          "font": {
           "color": "#000000"
          },
          "showarrow": false,
          "text": "14",
          "x": "supraspinatus",
          "xref": "x1",
          "y": "Landry2015_1",
          "yref": "y1"
         },
         {
          "font": {
           "color": "#000000"
          },
          "showarrow": false,
          "text": "14",
          "x": "infraspinatus",
          "xref": "x1",
          "y": "Landry2015_1",
          "yref": "y1"
         },
         {
          "font": {
           "color": "#000000"
          },
          "showarrow": false,
          "text": "14",
          "x": "subscapularis",
          "xref": "x1",
          "y": "Landry2015_1",
          "yref": "y1"
         },
         {
          "font": {
           "color": "#000000"
          },
          "showarrow": false,
          "text": "0",
          "x": "upper trapezius",
          "xref": "x1",
          "y": "Violon",
          "yref": "y1"
         },
         {
          "font": {
           "color": "#000000"
          },
          "showarrow": false,
          "text": "0",
          "x": "middle trapezius",
          "xref": "x1",
          "y": "Violon",
          "yref": "y1"
         },
         {
          "font": {
           "color": "#000000"
          },
          "showarrow": false,
          "text": "9",
          "x": "lower trapezius",
          "xref": "x1",
          "y": "Violon",
          "yref": "y1"
         },
         {
          "font": {
           "color": "#000000"
          },
          "showarrow": false,
          "text": "9",
          "x": "anterior deltoid",
          "xref": "x1",
          "y": "Violon",
          "yref": "y1"
         },
         {
          "font": {
           "color": "#000000"
          },
          "showarrow": false,
          "text": "9",
          "x": "middle deltoid",
          "xref": "x1",
          "y": "Violon",
          "yref": "y1"
         },
         {
          "font": {
           "color": "#000000"
          },
          "showarrow": false,
          "text": "9",
          "x": "posterior deltoid",
          "xref": "x1",
          "y": "Violon",
          "yref": "y1"
         },
         {
          "font": {
           "color": "#000000"
          },
          "showarrow": false,
          "text": "0",
          "x": "pectoralis major",
          "xref": "x1",
          "y": "Violon",
          "yref": "y1"
         },
         {
          "font": {
           "color": "#000000"
          },
          "showarrow": false,
          "text": "0",
          "x": "serratus anterior",
          "xref": "x1",
          "y": "Violon",
          "yref": "y1"
         },
         {
          "font": {
           "color": "#000000"
          },
          "showarrow": false,
          "text": "0",
          "x": "latissimus dorsi",
          "xref": "x1",
          "y": "Violon",
          "yref": "y1"
         },
         {
          "font": {
           "color": "#000000"
          },
          "showarrow": false,
          "text": "8",
          "x": "supraspinatus",
          "xref": "x1",
          "y": "Violon",
          "yref": "y1"
         },
         {
          "font": {
           "color": "#000000"
          },
          "showarrow": false,
          "text": "8",
          "x": "infraspinatus",
          "xref": "x1",
          "y": "Violon",
          "yref": "y1"
         },
         {
          "font": {
           "color": "#000000"
          },
          "showarrow": false,
          "text": "8",
          "x": "subscapularis",
          "xref": "x1",
          "y": "Violon",
          "yref": "y1"
         },
         {
          "font": {
           "color": "#000000"
          },
          "showarrow": false,
          "text": "22",
          "x": "upper trapezius",
          "xref": "x1",
          "y": "Yoann_2015",
          "yref": "y1"
         },
         {
          "font": {
           "color": "#000000"
          },
          "showarrow": false,
          "text": "22",
          "x": "middle trapezius",
          "xref": "x1",
          "y": "Yoann_2015",
          "yref": "y1"
         },
         {
          "font": {
           "color": "#000000"
          },
          "showarrow": false,
          "text": "22",
          "x": "lower trapezius",
          "xref": "x1",
          "y": "Yoann_2015",
          "yref": "y1"
         },
         {
          "font": {
           "color": "#000000"
          },
          "showarrow": false,
          "text": "0",
          "x": "anterior deltoid",
          "xref": "x1",
          "y": "Yoann_2015",
          "yref": "y1"
         },
         {
          "font": {
           "color": "#000000"
          },
          "showarrow": false,
          "text": "22",
          "x": "middle deltoid",
          "xref": "x1",
          "y": "Yoann_2015",
          "yref": "y1"
         },
         {
          "font": {
           "color": "#000000"
          },
          "showarrow": false,
          "text": "22",
          "x": "posterior deltoid",
          "xref": "x1",
          "y": "Yoann_2015",
          "yref": "y1"
         },
         {
          "font": {
           "color": "#000000"
          },
          "showarrow": false,
          "text": "22",
          "x": "pectoralis major",
          "xref": "x1",
          "y": "Yoann_2015",
          "yref": "y1"
         },
         {
          "font": {
           "color": "#000000"
          },
          "showarrow": false,
          "text": "22",
          "x": "serratus anterior",
          "xref": "x1",
          "y": "Yoann_2015",
          "yref": "y1"
         },
         {
          "font": {
           "color": "#000000"
          },
          "showarrow": false,
          "text": "22",
          "x": "latissimus dorsi",
          "xref": "x1",
          "y": "Yoann_2015",
          "yref": "y1"
         },
         {
          "font": {
           "color": "#000000"
          },
          "showarrow": false,
          "text": "22",
          "x": "supraspinatus",
          "xref": "x1",
          "y": "Yoann_2015",
          "yref": "y1"
         },
         {
          "font": {
           "color": "#000000"
          },
          "showarrow": false,
          "text": "22",
          "x": "infraspinatus",
          "xref": "x1",
          "y": "Yoann_2015",
          "yref": "y1"
         },
         {
          "font": {
           "color": "#000000"
          },
          "showarrow": false,
          "text": "22",
          "x": "subscapularis",
          "xref": "x1",
          "y": "Yoann_2015",
          "yref": "y1"
         },
         {
          "font": {
           "color": "#000000"
          },
          "showarrow": false,
          "text": "21",
          "x": "upper trapezius",
          "xref": "x1",
          "y": "Landry2013",
          "yref": "y1"
         },
         {
          "font": {
           "color": "#000000"
          },
          "showarrow": false,
          "text": "21",
          "x": "middle trapezius",
          "xref": "x1",
          "y": "Landry2013",
          "yref": "y1"
         },
         {
          "font": {
           "color": "#000000"
          },
          "showarrow": false,
          "text": "21",
          "x": "lower trapezius",
          "xref": "x1",
          "y": "Landry2013",
          "yref": "y1"
         },
         {
          "font": {
           "color": "#000000"
          },
          "showarrow": false,
          "text": "21",
          "x": "anterior deltoid",
          "xref": "x1",
          "y": "Landry2013",
          "yref": "y1"
         },
         {
          "font": {
           "color": "#000000"
          },
          "showarrow": false,
          "text": "21",
          "x": "middle deltoid",
          "xref": "x1",
          "y": "Landry2013",
          "yref": "y1"
         },
         {
          "font": {
           "color": "#000000"
          },
          "showarrow": false,
          "text": "21",
          "x": "posterior deltoid",
          "xref": "x1",
          "y": "Landry2013",
          "yref": "y1"
         },
         {
          "font": {
           "color": "#000000"
          },
          "showarrow": false,
          "text": "21",
          "x": "pectoralis major",
          "xref": "x1",
          "y": "Landry2013",
          "yref": "y1"
         },
         {
          "font": {
           "color": "#000000"
          },
          "showarrow": false,
          "text": "21",
          "x": "serratus anterior",
          "xref": "x1",
          "y": "Landry2013",
          "yref": "y1"
         },
         {
          "font": {
           "color": "#000000"
          },
          "showarrow": false,
          "text": "21",
          "x": "latissimus dorsi",
          "xref": "x1",
          "y": "Landry2013",
          "yref": "y1"
         },
         {
          "font": {
           "color": "#000000"
          },
          "showarrow": false,
          "text": "0",
          "x": "supraspinatus",
          "xref": "x1",
          "y": "Landry2013",
          "yref": "y1"
         },
         {
          "font": {
           "color": "#000000"
          },
          "showarrow": false,
          "text": "0",
          "x": "infraspinatus",
          "xref": "x1",
          "y": "Landry2013",
          "yref": "y1"
         },
         {
          "font": {
           "color": "#000000"
          },
          "showarrow": false,
          "text": "0",
          "x": "subscapularis",
          "xref": "x1",
          "y": "Landry2013",
          "yref": "y1"
         },
         {
          "font": {
           "color": "#000000"
          },
          "showarrow": false,
          "text": "18",
          "x": "upper trapezius",
          "xref": "x1",
          "y": "Landry2012",
          "yref": "y1"
         },
         {
          "font": {
           "color": "#000000"
          },
          "showarrow": false,
          "text": "18",
          "x": "middle trapezius",
          "xref": "x1",
          "y": "Landry2012",
          "yref": "y1"
         },
         {
          "font": {
           "color": "#000000"
          },
          "showarrow": false,
          "text": "18",
          "x": "lower trapezius",
          "xref": "x1",
          "y": "Landry2012",
          "yref": "y1"
         },
         {
          "font": {
           "color": "#000000"
          },
          "showarrow": false,
          "text": "18",
          "x": "anterior deltoid",
          "xref": "x1",
          "y": "Landry2012",
          "yref": "y1"
         },
         {
          "font": {
           "color": "#000000"
          },
          "showarrow": false,
          "text": "18",
          "x": "middle deltoid",
          "xref": "x1",
          "y": "Landry2012",
          "yref": "y1"
         },
         {
          "font": {
           "color": "#000000"
          },
          "showarrow": false,
          "text": "18",
          "x": "posterior deltoid",
          "xref": "x1",
          "y": "Landry2012",
          "yref": "y1"
         },
         {
          "font": {
           "color": "#000000"
          },
          "showarrow": false,
          "text": "18",
          "x": "pectoralis major",
          "xref": "x1",
          "y": "Landry2012",
          "yref": "y1"
         },
         {
          "font": {
           "color": "#000000"
          },
          "showarrow": false,
          "text": "0",
          "x": "serratus anterior",
          "xref": "x1",
          "y": "Landry2012",
          "yref": "y1"
         },
         {
          "font": {
           "color": "#000000"
          },
          "showarrow": false,
          "text": "18",
          "x": "latissimus dorsi",
          "xref": "x1",
          "y": "Landry2012",
          "yref": "y1"
         },
         {
          "font": {
           "color": "#000000"
          },
          "showarrow": false,
          "text": "0",
          "x": "supraspinatus",
          "xref": "x1",
          "y": "Landry2012",
          "yref": "y1"
         },
         {
          "font": {
           "color": "#000000"
          },
          "showarrow": false,
          "text": "0",
          "x": "infraspinatus",
          "xref": "x1",
          "y": "Landry2012",
          "yref": "y1"
         },
         {
          "font": {
           "color": "#000000"
          },
          "showarrow": false,
          "text": "0",
          "x": "subscapularis",
          "xref": "x1",
          "y": "Landry2012",
          "yref": "y1"
         },
         {
          "font": {
           "color": "#000000"
          },
          "showarrow": false,
          "text": "15",
          "x": "upper trapezius",
          "xref": "x1",
          "y": "Tennis",
          "yref": "y1"
         },
         {
          "font": {
           "color": "#000000"
          },
          "showarrow": false,
          "text": "0",
          "x": "middle trapezius",
          "xref": "x1",
          "y": "Tennis",
          "yref": "y1"
         },
         {
          "font": {
           "color": "#000000"
          },
          "showarrow": false,
          "text": "15",
          "x": "lower trapezius",
          "xref": "x1",
          "y": "Tennis",
          "yref": "y1"
         },
         {
          "font": {
           "color": "#000000"
          },
          "showarrow": false,
          "text": "15",
          "x": "anterior deltoid",
          "xref": "x1",
          "y": "Tennis",
          "yref": "y1"
         },
         {
          "font": {
           "color": "#000000"
          },
          "showarrow": false,
          "text": "15",
          "x": "middle deltoid",
          "xref": "x1",
          "y": "Tennis",
          "yref": "y1"
         },
         {
          "font": {
           "color": "#000000"
          },
          "showarrow": false,
          "text": "15",
          "x": "posterior deltoid",
          "xref": "x1",
          "y": "Tennis",
          "yref": "y1"
         },
         {
          "font": {
           "color": "#000000"
          },
          "showarrow": false,
          "text": "15",
          "x": "pectoralis major",
          "xref": "x1",
          "y": "Tennis",
          "yref": "y1"
         },
         {
          "font": {
           "color": "#000000"
          },
          "showarrow": false,
          "text": "15",
          "x": "serratus anterior",
          "xref": "x1",
          "y": "Tennis",
          "yref": "y1"
         },
         {
          "font": {
           "color": "#000000"
          },
          "showarrow": false,
          "text": "15",
          "x": "latissimus dorsi",
          "xref": "x1",
          "y": "Tennis",
          "yref": "y1"
         },
         {
          "font": {
           "color": "#000000"
          },
          "showarrow": false,
          "text": "15",
          "x": "supraspinatus",
          "xref": "x1",
          "y": "Tennis",
          "yref": "y1"
         },
         {
          "font": {
           "color": "#000000"
          },
          "showarrow": false,
          "text": "15",
          "x": "infraspinatus",
          "xref": "x1",
          "y": "Tennis",
          "yref": "y1"
         },
         {
          "font": {
           "color": "#000000"
          },
          "showarrow": false,
          "text": "15",
          "x": "subscapularis",
          "xref": "x1",
          "y": "Tennis",
          "yref": "y1"
         },
         {
          "font": {
           "color": "#000000"
          },
          "showarrow": false,
          "text": "16",
          "x": "upper trapezius",
          "xref": "x1",
          "y": "Patrick_2013",
          "yref": "y1"
         },
         {
          "font": {
           "color": "#000000"
          },
          "showarrow": false,
          "text": "16",
          "x": "middle trapezius",
          "xref": "x1",
          "y": "Patrick_2013",
          "yref": "y1"
         },
         {
          "font": {
           "color": "#000000"
          },
          "showarrow": false,
          "text": "16",
          "x": "lower trapezius",
          "xref": "x1",
          "y": "Patrick_2013",
          "yref": "y1"
         },
         {
          "font": {
           "color": "#000000"
          },
          "showarrow": false,
          "text": "16",
          "x": "anterior deltoid",
          "xref": "x1",
          "y": "Patrick_2013",
          "yref": "y1"
         },
         {
          "font": {
           "color": "#000000"
          },
          "showarrow": false,
          "text": "16",
          "x": "middle deltoid",
          "xref": "x1",
          "y": "Patrick_2013",
          "yref": "y1"
         },
         {
          "font": {
           "color": "#000000"
          },
          "showarrow": false,
          "text": "16",
          "x": "posterior deltoid",
          "xref": "x1",
          "y": "Patrick_2013",
          "yref": "y1"
         },
         {
          "font": {
           "color": "#000000"
          },
          "showarrow": false,
          "text": "16",
          "x": "pectoralis major",
          "xref": "x1",
          "y": "Patrick_2013",
          "yref": "y1"
         },
         {
          "font": {
           "color": "#000000"
          },
          "showarrow": false,
          "text": "16",
          "x": "serratus anterior",
          "xref": "x1",
          "y": "Patrick_2013",
          "yref": "y1"
         },
         {
          "font": {
           "color": "#000000"
          },
          "showarrow": false,
          "text": "16",
          "x": "latissimus dorsi",
          "xref": "x1",
          "y": "Patrick_2013",
          "yref": "y1"
         },
         {
          "font": {
           "color": "#000000"
          },
          "showarrow": false,
          "text": "16",
          "x": "supraspinatus",
          "xref": "x1",
          "y": "Patrick_2013",
          "yref": "y1"
         },
         {
          "font": {
           "color": "#000000"
          },
          "showarrow": false,
          "text": "16",
          "x": "infraspinatus",
          "xref": "x1",
          "y": "Patrick_2013",
          "yref": "y1"
         },
         {
          "font": {
           "color": "#000000"
          },
          "showarrow": false,
          "text": "16",
          "x": "subscapularis",
          "xref": "x1",
          "y": "Patrick_2013",
          "yref": "y1"
         },
         {
          "font": {
           "color": "#000000"
          },
          "showarrow": false,
          "text": "10",
          "x": "upper trapezius",
          "xref": "x1",
          "y": "Sylvain_2015",
          "yref": "y1"
         },
         {
          "font": {
           "color": "#000000"
          },
          "showarrow": false,
          "text": "10",
          "x": "middle trapezius",
          "xref": "x1",
          "y": "Sylvain_2015",
          "yref": "y1"
         },
         {
          "font": {
           "color": "#000000"
          },
          "showarrow": false,
          "text": "10",
          "x": "lower trapezius",
          "xref": "x1",
          "y": "Sylvain_2015",
          "yref": "y1"
         },
         {
          "font": {
           "color": "#000000"
          },
          "showarrow": false,
          "text": "0",
          "x": "anterior deltoid",
          "xref": "x1",
          "y": "Sylvain_2015",
          "yref": "y1"
         },
         {
          "font": {
           "color": "#000000"
          },
          "showarrow": false,
          "text": "10",
          "x": "middle deltoid",
          "xref": "x1",
          "y": "Sylvain_2015",
          "yref": "y1"
         },
         {
          "font": {
           "color": "#000000"
          },
          "showarrow": false,
          "text": "10",
          "x": "posterior deltoid",
          "xref": "x1",
          "y": "Sylvain_2015",
          "yref": "y1"
         },
         {
          "font": {
           "color": "#000000"
          },
          "showarrow": false,
          "text": "10",
          "x": "pectoralis major",
          "xref": "x1",
          "y": "Sylvain_2015",
          "yref": "y1"
         },
         {
          "font": {
           "color": "#000000"
          },
          "showarrow": false,
          "text": "10",
          "x": "serratus anterior",
          "xref": "x1",
          "y": "Sylvain_2015",
          "yref": "y1"
         },
         {
          "font": {
           "color": "#000000"
          },
          "showarrow": false,
          "text": "10",
          "x": "latissimus dorsi",
          "xref": "x1",
          "y": "Sylvain_2015",
          "yref": "y1"
         },
         {
          "font": {
           "color": "#000000"
          },
          "showarrow": false,
          "text": "10",
          "x": "supraspinatus",
          "xref": "x1",
          "y": "Sylvain_2015",
          "yref": "y1"
         },
         {
          "font": {
           "color": "#000000"
          },
          "showarrow": false,
          "text": "10",
          "x": "infraspinatus",
          "xref": "x1",
          "y": "Sylvain_2015",
          "yref": "y1"
         },
         {
          "font": {
           "color": "#000000"
          },
          "showarrow": false,
          "text": "10",
          "x": "subscapularis",
          "xref": "x1",
          "y": "Sylvain_2015",
          "yref": "y1"
         }
        ],
        "font": {
         "size": 14
        },
        "hovermode": "closest",
        "margin": {
         "b": 80,
         "l": 150,
         "pad": 0,
         "r": 80,
         "t": 80
        },
        "title": "Muscles by dataset",
        "xaxis": {
         "dtick": 1,
         "gridcolor": "rgb(0, 0, 0)",
         "side": "bottom",
         "ticks": "",
         "title": null
        },
        "yaxis": {
         "autorange": "reversed",
         "dtick": 1,
         "ticks": "",
         "ticksuffix": "  ",
         "title": null
        }
       }
      },
      "text/html": [
       "<div id=\"17614d6f-d3c4-47d6-a9ad-583f520163e9\" style=\"height: 525px; width: 100%;\" class=\"plotly-graph-div\"></div><script type=\"text/javascript\">require([\"plotly\"], function(Plotly) { window.PLOTLYENV=window.PLOTLYENV || {};window.PLOTLYENV.BASE_URL=\"https://plot.ly\";Plotly.newPlot(\"17614d6f-d3c4-47d6-a9ad-583f520163e9\", [{\"type\": \"heatmap\", \"z\": [[14, 0, 14, 14, 14, 14, 11, 14, 11, 13, 13, 12], [11, 0, 11, 11, 11, 11, 0, 11, 0, 0, 0, 0], [14, 0, 14, 14, 14, 14, 0, 14, 0, 14, 14, 14], [0, 0, 9, 9, 9, 9, 0, 0, 0, 8, 8, 8], [22, 22, 22, 0, 22, 22, 22, 22, 22, 22, 22, 22], [21, 21, 21, 21, 21, 21, 21, 21, 21, 0, 0, 0], [18, 18, 18, 18, 18, 18, 18, 0, 18, 0, 0, 0], [15, 0, 15, 15, 15, 15, 15, 15, 15, 15, 15, 15], [16, 16, 16, 16, 16, 16, 16, 16, 16, 16, 16, 16], [10, 10, 10, 0, 10, 10, 10, 10, 10, 10, 10, 10]], \"x\": [\"upper trapezius\", \"middle trapezius\", \"lower trapezius\", \"anterior deltoid\", \"middle deltoid\", \"posterior deltoid\", \"pectoralis major\", \"serratus anterior\", \"latissimus dorsi\", \"supraspinatus\", \"infraspinatus\", \"subscapularis\"], \"y\": [\"Landry2016\", \"Landry2015_2\", \"Landry2015_1\", \"Violon\", \"Yoann_2015\", \"Landry2013\", \"Landry2012\", \"Tennis\", \"Patrick_2013\", \"Sylvain_2015\"], \"colorscale\": \"YlGnBu\", \"showscale\": true, \"colorbar\": {\"title\": \"Count\", \"titleside\": \"right\"}}], {\"annotations\": [{\"text\": \"14\", \"x\": \"upper trapezius\", \"y\": \"Landry2016\", \"xref\": \"x1\", \"yref\": \"y1\", \"font\": {\"color\": \"#000000\"}, \"showarrow\": false}, {\"text\": \"0\", \"x\": \"middle trapezius\", \"y\": \"Landry2016\", \"xref\": \"x1\", \"yref\": \"y1\", \"font\": {\"color\": \"#000000\"}, \"showarrow\": false}, {\"text\": \"14\", \"x\": \"lower trapezius\", \"y\": \"Landry2016\", \"xref\": \"x1\", \"yref\": \"y1\", \"font\": {\"color\": \"#000000\"}, \"showarrow\": false}, {\"text\": \"14\", \"x\": \"anterior deltoid\", \"y\": \"Landry2016\", \"xref\": \"x1\", \"yref\": \"y1\", \"font\": {\"color\": \"#000000\"}, \"showarrow\": false}, {\"text\": \"14\", \"x\": \"middle deltoid\", \"y\": \"Landry2016\", \"xref\": \"x1\", \"yref\": \"y1\", \"font\": {\"color\": \"#000000\"}, \"showarrow\": false}, {\"text\": \"14\", \"x\": \"posterior deltoid\", \"y\": \"Landry2016\", \"xref\": \"x1\", \"yref\": \"y1\", \"font\": {\"color\": \"#000000\"}, \"showarrow\": false}, {\"text\": \"11\", \"x\": \"pectoralis major\", \"y\": \"Landry2016\", \"xref\": \"x1\", \"yref\": \"y1\", \"font\": {\"color\": \"#000000\"}, \"showarrow\": false}, {\"text\": \"14\", \"x\": \"serratus anterior\", \"y\": \"Landry2016\", \"xref\": \"x1\", \"yref\": \"y1\", \"font\": {\"color\": \"#000000\"}, \"showarrow\": false}, {\"text\": \"11\", \"x\": \"latissimus dorsi\", \"y\": \"Landry2016\", \"xref\": \"x1\", \"yref\": \"y1\", \"font\": {\"color\": \"#000000\"}, \"showarrow\": false}, {\"text\": \"13\", \"x\": \"supraspinatus\", \"y\": \"Landry2016\", \"xref\": \"x1\", \"yref\": \"y1\", \"font\": {\"color\": \"#000000\"}, \"showarrow\": false}, {\"text\": \"13\", \"x\": \"infraspinatus\", \"y\": \"Landry2016\", \"xref\": \"x1\", \"yref\": \"y1\", \"font\": {\"color\": \"#000000\"}, \"showarrow\": false}, {\"text\": \"12\", \"x\": \"subscapularis\", \"y\": \"Landry2016\", \"xref\": \"x1\", \"yref\": \"y1\", \"font\": {\"color\": \"#000000\"}, \"showarrow\": false}, {\"text\": \"11\", \"x\": \"upper trapezius\", \"y\": \"Landry2015_2\", \"xref\": \"x1\", \"yref\": \"y1\", \"font\": {\"color\": \"#000000\"}, \"showarrow\": false}, {\"text\": \"0\", \"x\": \"middle trapezius\", \"y\": \"Landry2015_2\", \"xref\": \"x1\", \"yref\": \"y1\", \"font\": {\"color\": \"#000000\"}, \"showarrow\": false}, {\"text\": \"11\", \"x\": \"lower trapezius\", \"y\": \"Landry2015_2\", \"xref\": \"x1\", \"yref\": \"y1\", \"font\": {\"color\": \"#000000\"}, \"showarrow\": false}, {\"text\": \"11\", \"x\": \"anterior deltoid\", \"y\": \"Landry2015_2\", \"xref\": \"x1\", \"yref\": \"y1\", \"font\": {\"color\": \"#000000\"}, \"showarrow\": false}, {\"text\": \"11\", \"x\": \"middle deltoid\", \"y\": \"Landry2015_2\", \"xref\": \"x1\", \"yref\": \"y1\", \"font\": {\"color\": \"#000000\"}, \"showarrow\": false}, {\"text\": \"11\", \"x\": \"posterior deltoid\", \"y\": \"Landry2015_2\", \"xref\": \"x1\", \"yref\": \"y1\", \"font\": {\"color\": \"#000000\"}, \"showarrow\": false}, {\"text\": \"0\", \"x\": \"pectoralis major\", \"y\": \"Landry2015_2\", \"xref\": \"x1\", \"yref\": \"y1\", \"font\": {\"color\": \"#000000\"}, \"showarrow\": false}, {\"text\": \"11\", \"x\": \"serratus anterior\", \"y\": \"Landry2015_2\", \"xref\": \"x1\", \"yref\": \"y1\", \"font\": {\"color\": \"#000000\"}, \"showarrow\": false}, {\"text\": \"0\", \"x\": \"latissimus dorsi\", \"y\": \"Landry2015_2\", \"xref\": \"x1\", \"yref\": \"y1\", \"font\": {\"color\": \"#000000\"}, \"showarrow\": false}, {\"text\": \"0\", \"x\": \"supraspinatus\", \"y\": \"Landry2015_2\", \"xref\": \"x1\", \"yref\": \"y1\", \"font\": {\"color\": \"#000000\"}, \"showarrow\": false}, {\"text\": \"0\", \"x\": \"infraspinatus\", \"y\": \"Landry2015_2\", \"xref\": \"x1\", \"yref\": \"y1\", \"font\": {\"color\": \"#000000\"}, \"showarrow\": false}, {\"text\": \"0\", \"x\": \"subscapularis\", \"y\": \"Landry2015_2\", \"xref\": \"x1\", \"yref\": \"y1\", \"font\": {\"color\": \"#000000\"}, \"showarrow\": false}, {\"text\": \"14\", \"x\": \"upper trapezius\", \"y\": \"Landry2015_1\", \"xref\": \"x1\", \"yref\": \"y1\", \"font\": {\"color\": \"#000000\"}, \"showarrow\": false}, {\"text\": \"0\", \"x\": \"middle trapezius\", \"y\": \"Landry2015_1\", \"xref\": \"x1\", \"yref\": \"y1\", \"font\": {\"color\": \"#000000\"}, \"showarrow\": false}, {\"text\": \"14\", \"x\": \"lower trapezius\", \"y\": \"Landry2015_1\", \"xref\": \"x1\", \"yref\": \"y1\", \"font\": {\"color\": \"#000000\"}, \"showarrow\": false}, {\"text\": \"14\", \"x\": \"anterior deltoid\", \"y\": \"Landry2015_1\", \"xref\": \"x1\", \"yref\": \"y1\", \"font\": {\"color\": \"#000000\"}, \"showarrow\": false}, {\"text\": \"14\", \"x\": \"middle deltoid\", \"y\": \"Landry2015_1\", \"xref\": \"x1\", \"yref\": \"y1\", \"font\": {\"color\": \"#000000\"}, \"showarrow\": false}, {\"text\": \"14\", \"x\": \"posterior deltoid\", \"y\": \"Landry2015_1\", \"xref\": \"x1\", \"yref\": \"y1\", \"font\": {\"color\": \"#000000\"}, \"showarrow\": false}, {\"text\": \"0\", \"x\": \"pectoralis major\", \"y\": \"Landry2015_1\", \"xref\": \"x1\", \"yref\": \"y1\", \"font\": {\"color\": \"#000000\"}, \"showarrow\": false}, {\"text\": \"14\", \"x\": \"serratus anterior\", \"y\": \"Landry2015_1\", \"xref\": \"x1\", \"yref\": \"y1\", \"font\": {\"color\": \"#000000\"}, \"showarrow\": false}, {\"text\": \"0\", \"x\": \"latissimus dorsi\", \"y\": \"Landry2015_1\", \"xref\": \"x1\", \"yref\": \"y1\", \"font\": {\"color\": \"#000000\"}, \"showarrow\": false}, {\"text\": \"14\", \"x\": \"supraspinatus\", \"y\": \"Landry2015_1\", \"xref\": \"x1\", \"yref\": \"y1\", \"font\": {\"color\": \"#000000\"}, \"showarrow\": false}, {\"text\": \"14\", \"x\": \"infraspinatus\", \"y\": \"Landry2015_1\", \"xref\": \"x1\", \"yref\": \"y1\", \"font\": {\"color\": \"#000000\"}, \"showarrow\": false}, {\"text\": \"14\", \"x\": \"subscapularis\", \"y\": \"Landry2015_1\", \"xref\": \"x1\", \"yref\": \"y1\", \"font\": {\"color\": \"#000000\"}, \"showarrow\": false}, {\"text\": \"0\", \"x\": \"upper trapezius\", \"y\": \"Violon\", \"xref\": \"x1\", \"yref\": \"y1\", \"font\": {\"color\": \"#000000\"}, \"showarrow\": false}, {\"text\": \"0\", \"x\": \"middle trapezius\", \"y\": \"Violon\", \"xref\": \"x1\", \"yref\": \"y1\", \"font\": {\"color\": \"#000000\"}, \"showarrow\": false}, {\"text\": \"9\", \"x\": \"lower trapezius\", \"y\": \"Violon\", \"xref\": \"x1\", \"yref\": \"y1\", \"font\": {\"color\": \"#000000\"}, \"showarrow\": false}, {\"text\": \"9\", \"x\": \"anterior deltoid\", \"y\": \"Violon\", \"xref\": \"x1\", \"yref\": \"y1\", \"font\": {\"color\": \"#000000\"}, \"showarrow\": false}, {\"text\": \"9\", \"x\": \"middle deltoid\", \"y\": \"Violon\", \"xref\": \"x1\", \"yref\": \"y1\", \"font\": {\"color\": \"#000000\"}, \"showarrow\": false}, {\"text\": \"9\", \"x\": \"posterior deltoid\", \"y\": \"Violon\", \"xref\": \"x1\", \"yref\": \"y1\", \"font\": {\"color\": \"#000000\"}, \"showarrow\": false}, {\"text\": \"0\", \"x\": \"pectoralis major\", \"y\": \"Violon\", \"xref\": \"x1\", \"yref\": \"y1\", \"font\": {\"color\": \"#000000\"}, \"showarrow\": false}, {\"text\": \"0\", \"x\": \"serratus anterior\", \"y\": \"Violon\", \"xref\": \"x1\", \"yref\": \"y1\", \"font\": {\"color\": \"#000000\"}, \"showarrow\": false}, {\"text\": \"0\", \"x\": \"latissimus dorsi\", \"y\": \"Violon\", \"xref\": \"x1\", \"yref\": \"y1\", \"font\": {\"color\": \"#000000\"}, \"showarrow\": false}, {\"text\": \"8\", \"x\": \"supraspinatus\", \"y\": \"Violon\", \"xref\": \"x1\", \"yref\": \"y1\", \"font\": {\"color\": \"#000000\"}, \"showarrow\": false}, {\"text\": \"8\", \"x\": \"infraspinatus\", \"y\": \"Violon\", \"xref\": \"x1\", \"yref\": \"y1\", \"font\": {\"color\": \"#000000\"}, \"showarrow\": false}, {\"text\": \"8\", \"x\": \"subscapularis\", \"y\": \"Violon\", \"xref\": \"x1\", \"yref\": \"y1\", \"font\": {\"color\": \"#000000\"}, \"showarrow\": false}, {\"text\": \"22\", \"x\": \"upper trapezius\", \"y\": \"Yoann_2015\", \"xref\": \"x1\", \"yref\": \"y1\", \"font\": {\"color\": \"#000000\"}, \"showarrow\": false}, {\"text\": \"22\", \"x\": \"middle trapezius\", \"y\": \"Yoann_2015\", \"xref\": \"x1\", \"yref\": \"y1\", \"font\": {\"color\": \"#000000\"}, \"showarrow\": false}, {\"text\": \"22\", \"x\": \"lower trapezius\", \"y\": \"Yoann_2015\", \"xref\": \"x1\", \"yref\": \"y1\", \"font\": {\"color\": \"#000000\"}, \"showarrow\": false}, {\"text\": \"0\", \"x\": \"anterior deltoid\", \"y\": \"Yoann_2015\", \"xref\": \"x1\", \"yref\": \"y1\", \"font\": {\"color\": \"#000000\"}, \"showarrow\": false}, {\"text\": \"22\", \"x\": \"middle deltoid\", \"y\": \"Yoann_2015\", \"xref\": \"x1\", \"yref\": \"y1\", \"font\": {\"color\": \"#000000\"}, \"showarrow\": false}, {\"text\": \"22\", \"x\": \"posterior deltoid\", \"y\": \"Yoann_2015\", \"xref\": \"x1\", \"yref\": \"y1\", \"font\": {\"color\": \"#000000\"}, \"showarrow\": false}, {\"text\": \"22\", \"x\": \"pectoralis major\", \"y\": \"Yoann_2015\", \"xref\": \"x1\", \"yref\": \"y1\", \"font\": {\"color\": \"#000000\"}, \"showarrow\": false}, {\"text\": \"22\", \"x\": \"serratus anterior\", \"y\": \"Yoann_2015\", \"xref\": \"x1\", \"yref\": \"y1\", \"font\": {\"color\": \"#000000\"}, \"showarrow\": false}, {\"text\": \"22\", \"x\": \"latissimus dorsi\", \"y\": \"Yoann_2015\", \"xref\": \"x1\", \"yref\": \"y1\", \"font\": {\"color\": \"#000000\"}, \"showarrow\": false}, {\"text\": \"22\", \"x\": \"supraspinatus\", \"y\": \"Yoann_2015\", \"xref\": \"x1\", \"yref\": \"y1\", \"font\": {\"color\": \"#000000\"}, \"showarrow\": false}, {\"text\": \"22\", \"x\": \"infraspinatus\", \"y\": \"Yoann_2015\", \"xref\": \"x1\", \"yref\": \"y1\", \"font\": {\"color\": \"#000000\"}, \"showarrow\": false}, {\"text\": \"22\", \"x\": \"subscapularis\", \"y\": \"Yoann_2015\", \"xref\": \"x1\", \"yref\": \"y1\", \"font\": {\"color\": \"#000000\"}, \"showarrow\": false}, {\"text\": \"21\", \"x\": \"upper trapezius\", \"y\": \"Landry2013\", \"xref\": \"x1\", \"yref\": \"y1\", \"font\": {\"color\": \"#000000\"}, \"showarrow\": false}, {\"text\": \"21\", \"x\": \"middle trapezius\", \"y\": \"Landry2013\", \"xref\": \"x1\", \"yref\": \"y1\", \"font\": {\"color\": \"#000000\"}, \"showarrow\": false}, {\"text\": \"21\", \"x\": \"lower trapezius\", \"y\": \"Landry2013\", \"xref\": \"x1\", \"yref\": \"y1\", \"font\": {\"color\": \"#000000\"}, \"showarrow\": false}, {\"text\": \"21\", \"x\": \"anterior deltoid\", \"y\": \"Landry2013\", \"xref\": \"x1\", \"yref\": \"y1\", \"font\": {\"color\": \"#000000\"}, \"showarrow\": false}, {\"text\": \"21\", \"x\": \"middle deltoid\", \"y\": \"Landry2013\", \"xref\": \"x1\", \"yref\": \"y1\", \"font\": {\"color\": \"#000000\"}, \"showarrow\": false}, {\"text\": \"21\", \"x\": \"posterior deltoid\", \"y\": \"Landry2013\", \"xref\": \"x1\", \"yref\": \"y1\", \"font\": {\"color\": \"#000000\"}, \"showarrow\": false}, {\"text\": \"21\", \"x\": \"pectoralis major\", \"y\": \"Landry2013\", \"xref\": \"x1\", \"yref\": \"y1\", \"font\": {\"color\": \"#000000\"}, \"showarrow\": false}, {\"text\": \"21\", \"x\": \"serratus anterior\", \"y\": \"Landry2013\", \"xref\": \"x1\", \"yref\": \"y1\", \"font\": {\"color\": \"#000000\"}, \"showarrow\": false}, {\"text\": \"21\", \"x\": \"latissimus dorsi\", \"y\": \"Landry2013\", \"xref\": \"x1\", \"yref\": \"y1\", \"font\": {\"color\": \"#000000\"}, \"showarrow\": false}, {\"text\": \"0\", \"x\": \"supraspinatus\", \"y\": \"Landry2013\", \"xref\": \"x1\", \"yref\": \"y1\", \"font\": {\"color\": \"#000000\"}, \"showarrow\": false}, {\"text\": \"0\", \"x\": \"infraspinatus\", \"y\": \"Landry2013\", \"xref\": \"x1\", \"yref\": \"y1\", \"font\": {\"color\": \"#000000\"}, \"showarrow\": false}, {\"text\": \"0\", \"x\": \"subscapularis\", \"y\": \"Landry2013\", \"xref\": \"x1\", \"yref\": \"y1\", \"font\": {\"color\": \"#000000\"}, \"showarrow\": false}, {\"text\": \"18\", \"x\": \"upper trapezius\", \"y\": \"Landry2012\", \"xref\": \"x1\", \"yref\": \"y1\", \"font\": {\"color\": \"#000000\"}, \"showarrow\": false}, {\"text\": \"18\", \"x\": \"middle trapezius\", \"y\": \"Landry2012\", \"xref\": \"x1\", \"yref\": \"y1\", \"font\": {\"color\": \"#000000\"}, \"showarrow\": false}, {\"text\": \"18\", \"x\": \"lower trapezius\", \"y\": \"Landry2012\", \"xref\": \"x1\", \"yref\": \"y1\", \"font\": {\"color\": \"#000000\"}, \"showarrow\": false}, {\"text\": \"18\", \"x\": \"anterior deltoid\", \"y\": \"Landry2012\", \"xref\": \"x1\", \"yref\": \"y1\", \"font\": {\"color\": \"#000000\"}, \"showarrow\": false}, {\"text\": \"18\", \"x\": \"middle deltoid\", \"y\": \"Landry2012\", \"xref\": \"x1\", \"yref\": \"y1\", \"font\": {\"color\": \"#000000\"}, \"showarrow\": false}, {\"text\": \"18\", \"x\": \"posterior deltoid\", \"y\": \"Landry2012\", \"xref\": \"x1\", \"yref\": \"y1\", \"font\": {\"color\": \"#000000\"}, \"showarrow\": false}, {\"text\": \"18\", \"x\": \"pectoralis major\", \"y\": \"Landry2012\", \"xref\": \"x1\", \"yref\": \"y1\", \"font\": {\"color\": \"#000000\"}, \"showarrow\": false}, {\"text\": \"0\", \"x\": \"serratus anterior\", \"y\": \"Landry2012\", \"xref\": \"x1\", \"yref\": \"y1\", \"font\": {\"color\": \"#000000\"}, \"showarrow\": false}, {\"text\": \"18\", \"x\": \"latissimus dorsi\", \"y\": \"Landry2012\", \"xref\": \"x1\", \"yref\": \"y1\", \"font\": {\"color\": \"#000000\"}, \"showarrow\": false}, {\"text\": \"0\", \"x\": \"supraspinatus\", \"y\": \"Landry2012\", \"xref\": \"x1\", \"yref\": \"y1\", \"font\": {\"color\": \"#000000\"}, \"showarrow\": false}, {\"text\": \"0\", \"x\": \"infraspinatus\", \"y\": \"Landry2012\", \"xref\": \"x1\", \"yref\": \"y1\", \"font\": {\"color\": \"#000000\"}, \"showarrow\": false}, {\"text\": \"0\", \"x\": \"subscapularis\", \"y\": \"Landry2012\", \"xref\": \"x1\", \"yref\": \"y1\", \"font\": {\"color\": \"#000000\"}, \"showarrow\": false}, {\"text\": \"15\", \"x\": \"upper trapezius\", \"y\": \"Tennis\", \"xref\": \"x1\", \"yref\": \"y1\", \"font\": {\"color\": \"#000000\"}, \"showarrow\": false}, {\"text\": \"0\", \"x\": \"middle trapezius\", \"y\": \"Tennis\", \"xref\": \"x1\", \"yref\": \"y1\", \"font\": {\"color\": \"#000000\"}, \"showarrow\": false}, {\"text\": \"15\", \"x\": \"lower trapezius\", \"y\": \"Tennis\", \"xref\": \"x1\", \"yref\": \"y1\", \"font\": {\"color\": \"#000000\"}, \"showarrow\": false}, {\"text\": \"15\", \"x\": \"anterior deltoid\", \"y\": \"Tennis\", \"xref\": \"x1\", \"yref\": \"y1\", \"font\": {\"color\": \"#000000\"}, \"showarrow\": false}, {\"text\": \"15\", \"x\": \"middle deltoid\", \"y\": \"Tennis\", \"xref\": \"x1\", \"yref\": \"y1\", \"font\": {\"color\": \"#000000\"}, \"showarrow\": false}, {\"text\": \"15\", \"x\": \"posterior deltoid\", \"y\": \"Tennis\", \"xref\": \"x1\", \"yref\": \"y1\", \"font\": {\"color\": \"#000000\"}, \"showarrow\": false}, {\"text\": \"15\", \"x\": \"pectoralis major\", \"y\": \"Tennis\", \"xref\": \"x1\", \"yref\": \"y1\", \"font\": {\"color\": \"#000000\"}, \"showarrow\": false}, {\"text\": \"15\", \"x\": \"serratus anterior\", \"y\": \"Tennis\", \"xref\": \"x1\", \"yref\": \"y1\", \"font\": {\"color\": \"#000000\"}, \"showarrow\": false}, {\"text\": \"15\", \"x\": \"latissimus dorsi\", \"y\": \"Tennis\", \"xref\": \"x1\", \"yref\": \"y1\", \"font\": {\"color\": \"#000000\"}, \"showarrow\": false}, {\"text\": \"15\", \"x\": \"supraspinatus\", \"y\": \"Tennis\", \"xref\": \"x1\", \"yref\": \"y1\", \"font\": {\"color\": \"#000000\"}, \"showarrow\": false}, {\"text\": \"15\", \"x\": \"infraspinatus\", \"y\": \"Tennis\", \"xref\": \"x1\", \"yref\": \"y1\", \"font\": {\"color\": \"#000000\"}, \"showarrow\": false}, {\"text\": \"15\", \"x\": \"subscapularis\", \"y\": \"Tennis\", \"xref\": \"x1\", \"yref\": \"y1\", \"font\": {\"color\": \"#000000\"}, \"showarrow\": false}, {\"text\": \"16\", \"x\": \"upper trapezius\", \"y\": \"Patrick_2013\", \"xref\": \"x1\", \"yref\": \"y1\", \"font\": {\"color\": \"#000000\"}, \"showarrow\": false}, {\"text\": \"16\", \"x\": \"middle trapezius\", \"y\": \"Patrick_2013\", \"xref\": \"x1\", \"yref\": \"y1\", \"font\": {\"color\": \"#000000\"}, \"showarrow\": false}, {\"text\": \"16\", \"x\": \"lower trapezius\", \"y\": \"Patrick_2013\", \"xref\": \"x1\", \"yref\": \"y1\", \"font\": {\"color\": \"#000000\"}, \"showarrow\": false}, {\"text\": \"16\", \"x\": \"anterior deltoid\", \"y\": \"Patrick_2013\", \"xref\": \"x1\", \"yref\": \"y1\", \"font\": {\"color\": \"#000000\"}, \"showarrow\": false}, {\"text\": \"16\", \"x\": \"middle deltoid\", \"y\": \"Patrick_2013\", \"xref\": \"x1\", \"yref\": \"y1\", \"font\": {\"color\": \"#000000\"}, \"showarrow\": false}, {\"text\": \"16\", \"x\": \"posterior deltoid\", \"y\": \"Patrick_2013\", \"xref\": \"x1\", \"yref\": \"y1\", \"font\": {\"color\": \"#000000\"}, \"showarrow\": false}, {\"text\": \"16\", \"x\": \"pectoralis major\", \"y\": \"Patrick_2013\", \"xref\": \"x1\", \"yref\": \"y1\", \"font\": {\"color\": \"#000000\"}, \"showarrow\": false}, {\"text\": \"16\", \"x\": \"serratus anterior\", \"y\": \"Patrick_2013\", \"xref\": \"x1\", \"yref\": \"y1\", \"font\": {\"color\": \"#000000\"}, \"showarrow\": false}, {\"text\": \"16\", \"x\": \"latissimus dorsi\", \"y\": \"Patrick_2013\", \"xref\": \"x1\", \"yref\": \"y1\", \"font\": {\"color\": \"#000000\"}, \"showarrow\": false}, {\"text\": \"16\", \"x\": \"supraspinatus\", \"y\": \"Patrick_2013\", \"xref\": \"x1\", \"yref\": \"y1\", \"font\": {\"color\": \"#000000\"}, \"showarrow\": false}, {\"text\": \"16\", \"x\": \"infraspinatus\", \"y\": \"Patrick_2013\", \"xref\": \"x1\", \"yref\": \"y1\", \"font\": {\"color\": \"#000000\"}, \"showarrow\": false}, {\"text\": \"16\", \"x\": \"subscapularis\", \"y\": \"Patrick_2013\", \"xref\": \"x1\", \"yref\": \"y1\", \"font\": {\"color\": \"#000000\"}, \"showarrow\": false}, {\"text\": \"10\", \"x\": \"upper trapezius\", \"y\": \"Sylvain_2015\", \"xref\": \"x1\", \"yref\": \"y1\", \"font\": {\"color\": \"#000000\"}, \"showarrow\": false}, {\"text\": \"10\", \"x\": \"middle trapezius\", \"y\": \"Sylvain_2015\", \"xref\": \"x1\", \"yref\": \"y1\", \"font\": {\"color\": \"#000000\"}, \"showarrow\": false}, {\"text\": \"10\", \"x\": \"lower trapezius\", \"y\": \"Sylvain_2015\", \"xref\": \"x1\", \"yref\": \"y1\", \"font\": {\"color\": \"#000000\"}, \"showarrow\": false}, {\"text\": \"0\", \"x\": \"anterior deltoid\", \"y\": \"Sylvain_2015\", \"xref\": \"x1\", \"yref\": \"y1\", \"font\": {\"color\": \"#000000\"}, \"showarrow\": false}, {\"text\": \"10\", \"x\": \"middle deltoid\", \"y\": \"Sylvain_2015\", \"xref\": \"x1\", \"yref\": \"y1\", \"font\": {\"color\": \"#000000\"}, \"showarrow\": false}, {\"text\": \"10\", \"x\": \"posterior deltoid\", \"y\": \"Sylvain_2015\", \"xref\": \"x1\", \"yref\": \"y1\", \"font\": {\"color\": \"#000000\"}, \"showarrow\": false}, {\"text\": \"10\", \"x\": \"pectoralis major\", \"y\": \"Sylvain_2015\", \"xref\": \"x1\", \"yref\": \"y1\", \"font\": {\"color\": \"#000000\"}, \"showarrow\": false}, {\"text\": \"10\", \"x\": \"serratus anterior\", \"y\": \"Sylvain_2015\", \"xref\": \"x1\", \"yref\": \"y1\", \"font\": {\"color\": \"#000000\"}, \"showarrow\": false}, {\"text\": \"10\", \"x\": \"latissimus dorsi\", \"y\": \"Sylvain_2015\", \"xref\": \"x1\", \"yref\": \"y1\", \"font\": {\"color\": \"#000000\"}, \"showarrow\": false}, {\"text\": \"10\", \"x\": \"supraspinatus\", \"y\": \"Sylvain_2015\", \"xref\": \"x1\", \"yref\": \"y1\", \"font\": {\"color\": \"#000000\"}, \"showarrow\": false}, {\"text\": \"10\", \"x\": \"infraspinatus\", \"y\": \"Sylvain_2015\", \"xref\": \"x1\", \"yref\": \"y1\", \"font\": {\"color\": \"#000000\"}, \"showarrow\": false}, {\"text\": \"10\", \"x\": \"subscapularis\", \"y\": \"Sylvain_2015\", \"xref\": \"x1\", \"yref\": \"y1\", \"font\": {\"color\": \"#000000\"}, \"showarrow\": false}], \"xaxis\": {\"ticks\": \"\", \"dtick\": 1, \"side\": \"bottom\", \"gridcolor\": \"rgb(0, 0, 0)\", \"title\": null}, \"yaxis\": {\"ticks\": \"\", \"dtick\": 1, \"ticksuffix\": \"  \", \"title\": null, \"autorange\": \"reversed\"}, \"hovermode\": \"closest\", \"font\": {\"size\": 14}, \"title\": \"Muscles by dataset\", \"margin\": {\"t\": 80, \"b\": 80, \"l\": 150, \"r\": 80, \"pad\": 0}}, {\"showLink\": true, \"linkText\": \"Export to plot.ly\"})});</script>"
      ],
      "text/vnd.plotly.v1+html": [
       "<div id=\"17614d6f-d3c4-47d6-a9ad-583f520163e9\" style=\"height: 525px; width: 100%;\" class=\"plotly-graph-div\"></div><script type=\"text/javascript\">require([\"plotly\"], function(Plotly) { window.PLOTLYENV=window.PLOTLYENV || {};window.PLOTLYENV.BASE_URL=\"https://plot.ly\";Plotly.newPlot(\"17614d6f-d3c4-47d6-a9ad-583f520163e9\", [{\"type\": \"heatmap\", \"z\": [[14, 0, 14, 14, 14, 14, 11, 14, 11, 13, 13, 12], [11, 0, 11, 11, 11, 11, 0, 11, 0, 0, 0, 0], [14, 0, 14, 14, 14, 14, 0, 14, 0, 14, 14, 14], [0, 0, 9, 9, 9, 9, 0, 0, 0, 8, 8, 8], [22, 22, 22, 0, 22, 22, 22, 22, 22, 22, 22, 22], [21, 21, 21, 21, 21, 21, 21, 21, 21, 0, 0, 0], [18, 18, 18, 18, 18, 18, 18, 0, 18, 0, 0, 0], [15, 0, 15, 15, 15, 15, 15, 15, 15, 15, 15, 15], [16, 16, 16, 16, 16, 16, 16, 16, 16, 16, 16, 16], [10, 10, 10, 0, 10, 10, 10, 10, 10, 10, 10, 10]], \"x\": [\"upper trapezius\", \"middle trapezius\", \"lower trapezius\", \"anterior deltoid\", \"middle deltoid\", \"posterior deltoid\", \"pectoralis major\", \"serratus anterior\", \"latissimus dorsi\", \"supraspinatus\", \"infraspinatus\", \"subscapularis\"], \"y\": [\"Landry2016\", \"Landry2015_2\", \"Landry2015_1\", \"Violon\", \"Yoann_2015\", \"Landry2013\", \"Landry2012\", \"Tennis\", \"Patrick_2013\", \"Sylvain_2015\"], \"colorscale\": \"YlGnBu\", \"showscale\": true, \"colorbar\": {\"title\": \"Count\", \"titleside\": \"right\"}}], {\"annotations\": [{\"text\": \"14\", \"x\": \"upper trapezius\", \"y\": \"Landry2016\", \"xref\": \"x1\", \"yref\": \"y1\", \"font\": {\"color\": \"#000000\"}, \"showarrow\": false}, {\"text\": \"0\", \"x\": \"middle trapezius\", \"y\": \"Landry2016\", \"xref\": \"x1\", \"yref\": \"y1\", \"font\": {\"color\": \"#000000\"}, \"showarrow\": false}, {\"text\": \"14\", \"x\": \"lower trapezius\", \"y\": \"Landry2016\", \"xref\": \"x1\", \"yref\": \"y1\", \"font\": {\"color\": \"#000000\"}, \"showarrow\": false}, {\"text\": \"14\", \"x\": \"anterior deltoid\", \"y\": \"Landry2016\", \"xref\": \"x1\", \"yref\": \"y1\", \"font\": {\"color\": \"#000000\"}, \"showarrow\": false}, {\"text\": \"14\", \"x\": \"middle deltoid\", \"y\": \"Landry2016\", \"xref\": \"x1\", \"yref\": \"y1\", \"font\": {\"color\": \"#000000\"}, \"showarrow\": false}, {\"text\": \"14\", \"x\": \"posterior deltoid\", \"y\": \"Landry2016\", \"xref\": \"x1\", \"yref\": \"y1\", \"font\": {\"color\": \"#000000\"}, \"showarrow\": false}, {\"text\": \"11\", \"x\": \"pectoralis major\", \"y\": \"Landry2016\", \"xref\": \"x1\", \"yref\": \"y1\", \"font\": {\"color\": \"#000000\"}, \"showarrow\": false}, {\"text\": \"14\", \"x\": \"serratus anterior\", \"y\": \"Landry2016\", \"xref\": \"x1\", \"yref\": \"y1\", \"font\": {\"color\": \"#000000\"}, \"showarrow\": false}, {\"text\": \"11\", \"x\": \"latissimus dorsi\", \"y\": \"Landry2016\", \"xref\": \"x1\", \"yref\": \"y1\", \"font\": {\"color\": \"#000000\"}, \"showarrow\": false}, {\"text\": \"13\", \"x\": \"supraspinatus\", \"y\": \"Landry2016\", \"xref\": \"x1\", \"yref\": \"y1\", \"font\": {\"color\": \"#000000\"}, \"showarrow\": false}, {\"text\": \"13\", \"x\": \"infraspinatus\", \"y\": \"Landry2016\", \"xref\": \"x1\", \"yref\": \"y1\", \"font\": {\"color\": \"#000000\"}, \"showarrow\": false}, {\"text\": \"12\", \"x\": \"subscapularis\", \"y\": \"Landry2016\", \"xref\": \"x1\", \"yref\": \"y1\", \"font\": {\"color\": \"#000000\"}, \"showarrow\": false}, {\"text\": \"11\", \"x\": \"upper trapezius\", \"y\": \"Landry2015_2\", \"xref\": \"x1\", \"yref\": \"y1\", \"font\": {\"color\": \"#000000\"}, \"showarrow\": false}, {\"text\": \"0\", \"x\": \"middle trapezius\", \"y\": \"Landry2015_2\", \"xref\": \"x1\", \"yref\": \"y1\", \"font\": {\"color\": \"#000000\"}, \"showarrow\": false}, {\"text\": \"11\", \"x\": \"lower trapezius\", \"y\": \"Landry2015_2\", \"xref\": \"x1\", \"yref\": \"y1\", \"font\": {\"color\": \"#000000\"}, \"showarrow\": false}, {\"text\": \"11\", \"x\": \"anterior deltoid\", \"y\": \"Landry2015_2\", \"xref\": \"x1\", \"yref\": \"y1\", \"font\": {\"color\": \"#000000\"}, \"showarrow\": false}, {\"text\": \"11\", \"x\": \"middle deltoid\", \"y\": \"Landry2015_2\", \"xref\": \"x1\", \"yref\": \"y1\", \"font\": {\"color\": \"#000000\"}, \"showarrow\": false}, {\"text\": \"11\", \"x\": \"posterior deltoid\", \"y\": \"Landry2015_2\", \"xref\": \"x1\", \"yref\": \"y1\", \"font\": {\"color\": \"#000000\"}, \"showarrow\": false}, {\"text\": \"0\", \"x\": \"pectoralis major\", \"y\": \"Landry2015_2\", \"xref\": \"x1\", \"yref\": \"y1\", \"font\": {\"color\": \"#000000\"}, \"showarrow\": false}, {\"text\": \"11\", \"x\": \"serratus anterior\", \"y\": \"Landry2015_2\", \"xref\": \"x1\", \"yref\": \"y1\", \"font\": {\"color\": \"#000000\"}, \"showarrow\": false}, {\"text\": \"0\", \"x\": \"latissimus dorsi\", \"y\": \"Landry2015_2\", \"xref\": \"x1\", \"yref\": \"y1\", \"font\": {\"color\": \"#000000\"}, \"showarrow\": false}, {\"text\": \"0\", \"x\": \"supraspinatus\", \"y\": \"Landry2015_2\", \"xref\": \"x1\", \"yref\": \"y1\", \"font\": {\"color\": \"#000000\"}, \"showarrow\": false}, {\"text\": \"0\", \"x\": \"infraspinatus\", \"y\": \"Landry2015_2\", \"xref\": \"x1\", \"yref\": \"y1\", \"font\": {\"color\": \"#000000\"}, \"showarrow\": false}, {\"text\": \"0\", \"x\": \"subscapularis\", \"y\": \"Landry2015_2\", \"xref\": \"x1\", \"yref\": \"y1\", \"font\": {\"color\": \"#000000\"}, \"showarrow\": false}, {\"text\": \"14\", \"x\": \"upper trapezius\", \"y\": \"Landry2015_1\", \"xref\": \"x1\", \"yref\": \"y1\", \"font\": {\"color\": \"#000000\"}, \"showarrow\": false}, {\"text\": \"0\", \"x\": \"middle trapezius\", \"y\": \"Landry2015_1\", \"xref\": \"x1\", \"yref\": \"y1\", \"font\": {\"color\": \"#000000\"}, \"showarrow\": false}, {\"text\": \"14\", \"x\": \"lower trapezius\", \"y\": \"Landry2015_1\", \"xref\": \"x1\", \"yref\": \"y1\", \"font\": {\"color\": \"#000000\"}, \"showarrow\": false}, {\"text\": \"14\", \"x\": \"anterior deltoid\", \"y\": \"Landry2015_1\", \"xref\": \"x1\", \"yref\": \"y1\", \"font\": {\"color\": \"#000000\"}, \"showarrow\": false}, {\"text\": \"14\", \"x\": \"middle deltoid\", \"y\": \"Landry2015_1\", \"xref\": \"x1\", \"yref\": \"y1\", \"font\": {\"color\": \"#000000\"}, \"showarrow\": false}, {\"text\": \"14\", \"x\": \"posterior deltoid\", \"y\": \"Landry2015_1\", \"xref\": \"x1\", \"yref\": \"y1\", \"font\": {\"color\": \"#000000\"}, \"showarrow\": false}, {\"text\": \"0\", \"x\": \"pectoralis major\", \"y\": \"Landry2015_1\", \"xref\": \"x1\", \"yref\": \"y1\", \"font\": {\"color\": \"#000000\"}, \"showarrow\": false}, {\"text\": \"14\", \"x\": \"serratus anterior\", \"y\": \"Landry2015_1\", \"xref\": \"x1\", \"yref\": \"y1\", \"font\": {\"color\": \"#000000\"}, \"showarrow\": false}, {\"text\": \"0\", \"x\": \"latissimus dorsi\", \"y\": \"Landry2015_1\", \"xref\": \"x1\", \"yref\": \"y1\", \"font\": {\"color\": \"#000000\"}, \"showarrow\": false}, {\"text\": \"14\", \"x\": \"supraspinatus\", \"y\": \"Landry2015_1\", \"xref\": \"x1\", \"yref\": \"y1\", \"font\": {\"color\": \"#000000\"}, \"showarrow\": false}, {\"text\": \"14\", \"x\": \"infraspinatus\", \"y\": \"Landry2015_1\", \"xref\": \"x1\", \"yref\": \"y1\", \"font\": {\"color\": \"#000000\"}, \"showarrow\": false}, {\"text\": \"14\", \"x\": \"subscapularis\", \"y\": \"Landry2015_1\", \"xref\": \"x1\", \"yref\": \"y1\", \"font\": {\"color\": \"#000000\"}, \"showarrow\": false}, {\"text\": \"0\", \"x\": \"upper trapezius\", \"y\": \"Violon\", \"xref\": \"x1\", \"yref\": \"y1\", \"font\": {\"color\": \"#000000\"}, \"showarrow\": false}, {\"text\": \"0\", \"x\": \"middle trapezius\", \"y\": \"Violon\", \"xref\": \"x1\", \"yref\": \"y1\", \"font\": {\"color\": \"#000000\"}, \"showarrow\": false}, {\"text\": \"9\", \"x\": \"lower trapezius\", \"y\": \"Violon\", \"xref\": \"x1\", \"yref\": \"y1\", \"font\": {\"color\": \"#000000\"}, \"showarrow\": false}, {\"text\": \"9\", \"x\": \"anterior deltoid\", \"y\": \"Violon\", \"xref\": \"x1\", \"yref\": \"y1\", \"font\": {\"color\": \"#000000\"}, \"showarrow\": false}, {\"text\": \"9\", \"x\": \"middle deltoid\", \"y\": \"Violon\", \"xref\": \"x1\", \"yref\": \"y1\", \"font\": {\"color\": \"#000000\"}, \"showarrow\": false}, {\"text\": \"9\", \"x\": \"posterior deltoid\", \"y\": \"Violon\", \"xref\": \"x1\", \"yref\": \"y1\", \"font\": {\"color\": \"#000000\"}, \"showarrow\": false}, {\"text\": \"0\", \"x\": \"pectoralis major\", \"y\": \"Violon\", \"xref\": \"x1\", \"yref\": \"y1\", \"font\": {\"color\": \"#000000\"}, \"showarrow\": false}, {\"text\": \"0\", \"x\": \"serratus anterior\", \"y\": \"Violon\", \"xref\": \"x1\", \"yref\": \"y1\", \"font\": {\"color\": \"#000000\"}, \"showarrow\": false}, {\"text\": \"0\", \"x\": \"latissimus dorsi\", \"y\": \"Violon\", \"xref\": \"x1\", \"yref\": \"y1\", \"font\": {\"color\": \"#000000\"}, \"showarrow\": false}, {\"text\": \"8\", \"x\": \"supraspinatus\", \"y\": \"Violon\", \"xref\": \"x1\", \"yref\": \"y1\", \"font\": {\"color\": \"#000000\"}, \"showarrow\": false}, {\"text\": \"8\", \"x\": \"infraspinatus\", \"y\": \"Violon\", \"xref\": \"x1\", \"yref\": \"y1\", \"font\": {\"color\": \"#000000\"}, \"showarrow\": false}, {\"text\": \"8\", \"x\": \"subscapularis\", \"y\": \"Violon\", \"xref\": \"x1\", \"yref\": \"y1\", \"font\": {\"color\": \"#000000\"}, \"showarrow\": false}, {\"text\": \"22\", \"x\": \"upper trapezius\", \"y\": \"Yoann_2015\", \"xref\": \"x1\", \"yref\": \"y1\", \"font\": {\"color\": \"#000000\"}, \"showarrow\": false}, {\"text\": \"22\", \"x\": \"middle trapezius\", \"y\": \"Yoann_2015\", \"xref\": \"x1\", \"yref\": \"y1\", \"font\": {\"color\": \"#000000\"}, \"showarrow\": false}, {\"text\": \"22\", \"x\": \"lower trapezius\", \"y\": \"Yoann_2015\", \"xref\": \"x1\", \"yref\": \"y1\", \"font\": {\"color\": \"#000000\"}, \"showarrow\": false}, {\"text\": \"0\", \"x\": \"anterior deltoid\", \"y\": \"Yoann_2015\", \"xref\": \"x1\", \"yref\": \"y1\", \"font\": {\"color\": \"#000000\"}, \"showarrow\": false}, {\"text\": \"22\", \"x\": \"middle deltoid\", \"y\": \"Yoann_2015\", \"xref\": \"x1\", \"yref\": \"y1\", \"font\": {\"color\": \"#000000\"}, \"showarrow\": false}, {\"text\": \"22\", \"x\": \"posterior deltoid\", \"y\": \"Yoann_2015\", \"xref\": \"x1\", \"yref\": \"y1\", \"font\": {\"color\": \"#000000\"}, \"showarrow\": false}, {\"text\": \"22\", \"x\": \"pectoralis major\", \"y\": \"Yoann_2015\", \"xref\": \"x1\", \"yref\": \"y1\", \"font\": {\"color\": \"#000000\"}, \"showarrow\": false}, {\"text\": \"22\", \"x\": \"serratus anterior\", \"y\": \"Yoann_2015\", \"xref\": \"x1\", \"yref\": \"y1\", \"font\": {\"color\": \"#000000\"}, \"showarrow\": false}, {\"text\": \"22\", \"x\": \"latissimus dorsi\", \"y\": \"Yoann_2015\", \"xref\": \"x1\", \"yref\": \"y1\", \"font\": {\"color\": \"#000000\"}, \"showarrow\": false}, {\"text\": \"22\", \"x\": \"supraspinatus\", \"y\": \"Yoann_2015\", \"xref\": \"x1\", \"yref\": \"y1\", \"font\": {\"color\": \"#000000\"}, \"showarrow\": false}, {\"text\": \"22\", \"x\": \"infraspinatus\", \"y\": \"Yoann_2015\", \"xref\": \"x1\", \"yref\": \"y1\", \"font\": {\"color\": \"#000000\"}, \"showarrow\": false}, {\"text\": \"22\", \"x\": \"subscapularis\", \"y\": \"Yoann_2015\", \"xref\": \"x1\", \"yref\": \"y1\", \"font\": {\"color\": \"#000000\"}, \"showarrow\": false}, {\"text\": \"21\", \"x\": \"upper trapezius\", \"y\": \"Landry2013\", \"xref\": \"x1\", \"yref\": \"y1\", \"font\": {\"color\": \"#000000\"}, \"showarrow\": false}, {\"text\": \"21\", \"x\": \"middle trapezius\", \"y\": \"Landry2013\", \"xref\": \"x1\", \"yref\": \"y1\", \"font\": {\"color\": \"#000000\"}, \"showarrow\": false}, {\"text\": \"21\", \"x\": \"lower trapezius\", \"y\": \"Landry2013\", \"xref\": \"x1\", \"yref\": \"y1\", \"font\": {\"color\": \"#000000\"}, \"showarrow\": false}, {\"text\": \"21\", \"x\": \"anterior deltoid\", \"y\": \"Landry2013\", \"xref\": \"x1\", \"yref\": \"y1\", \"font\": {\"color\": \"#000000\"}, \"showarrow\": false}, {\"text\": \"21\", \"x\": \"middle deltoid\", \"y\": \"Landry2013\", \"xref\": \"x1\", \"yref\": \"y1\", \"font\": {\"color\": \"#000000\"}, \"showarrow\": false}, {\"text\": \"21\", \"x\": \"posterior deltoid\", \"y\": \"Landry2013\", \"xref\": \"x1\", \"yref\": \"y1\", \"font\": {\"color\": \"#000000\"}, \"showarrow\": false}, {\"text\": \"21\", \"x\": \"pectoralis major\", \"y\": \"Landry2013\", \"xref\": \"x1\", \"yref\": \"y1\", \"font\": {\"color\": \"#000000\"}, \"showarrow\": false}, {\"text\": \"21\", \"x\": \"serratus anterior\", \"y\": \"Landry2013\", \"xref\": \"x1\", \"yref\": \"y1\", \"font\": {\"color\": \"#000000\"}, \"showarrow\": false}, {\"text\": \"21\", \"x\": \"latissimus dorsi\", \"y\": \"Landry2013\", \"xref\": \"x1\", \"yref\": \"y1\", \"font\": {\"color\": \"#000000\"}, \"showarrow\": false}, {\"text\": \"0\", \"x\": \"supraspinatus\", \"y\": \"Landry2013\", \"xref\": \"x1\", \"yref\": \"y1\", \"font\": {\"color\": \"#000000\"}, \"showarrow\": false}, {\"text\": \"0\", \"x\": \"infraspinatus\", \"y\": \"Landry2013\", \"xref\": \"x1\", \"yref\": \"y1\", \"font\": {\"color\": \"#000000\"}, \"showarrow\": false}, {\"text\": \"0\", \"x\": \"subscapularis\", \"y\": \"Landry2013\", \"xref\": \"x1\", \"yref\": \"y1\", \"font\": {\"color\": \"#000000\"}, \"showarrow\": false}, {\"text\": \"18\", \"x\": \"upper trapezius\", \"y\": \"Landry2012\", \"xref\": \"x1\", \"yref\": \"y1\", \"font\": {\"color\": \"#000000\"}, \"showarrow\": false}, {\"text\": \"18\", \"x\": \"middle trapezius\", \"y\": \"Landry2012\", \"xref\": \"x1\", \"yref\": \"y1\", \"font\": {\"color\": \"#000000\"}, \"showarrow\": false}, {\"text\": \"18\", \"x\": \"lower trapezius\", \"y\": \"Landry2012\", \"xref\": \"x1\", \"yref\": \"y1\", \"font\": {\"color\": \"#000000\"}, \"showarrow\": false}, {\"text\": \"18\", \"x\": \"anterior deltoid\", \"y\": \"Landry2012\", \"xref\": \"x1\", \"yref\": \"y1\", \"font\": {\"color\": \"#000000\"}, \"showarrow\": false}, {\"text\": \"18\", \"x\": \"middle deltoid\", \"y\": \"Landry2012\", \"xref\": \"x1\", \"yref\": \"y1\", \"font\": {\"color\": \"#000000\"}, \"showarrow\": false}, {\"text\": \"18\", \"x\": \"posterior deltoid\", \"y\": \"Landry2012\", \"xref\": \"x1\", \"yref\": \"y1\", \"font\": {\"color\": \"#000000\"}, \"showarrow\": false}, {\"text\": \"18\", \"x\": \"pectoralis major\", \"y\": \"Landry2012\", \"xref\": \"x1\", \"yref\": \"y1\", \"font\": {\"color\": \"#000000\"}, \"showarrow\": false}, {\"text\": \"0\", \"x\": \"serratus anterior\", \"y\": \"Landry2012\", \"xref\": \"x1\", \"yref\": \"y1\", \"font\": {\"color\": \"#000000\"}, \"showarrow\": false}, {\"text\": \"18\", \"x\": \"latissimus dorsi\", \"y\": \"Landry2012\", \"xref\": \"x1\", \"yref\": \"y1\", \"font\": {\"color\": \"#000000\"}, \"showarrow\": false}, {\"text\": \"0\", \"x\": \"supraspinatus\", \"y\": \"Landry2012\", \"xref\": \"x1\", \"yref\": \"y1\", \"font\": {\"color\": \"#000000\"}, \"showarrow\": false}, {\"text\": \"0\", \"x\": \"infraspinatus\", \"y\": \"Landry2012\", \"xref\": \"x1\", \"yref\": \"y1\", \"font\": {\"color\": \"#000000\"}, \"showarrow\": false}, {\"text\": \"0\", \"x\": \"subscapularis\", \"y\": \"Landry2012\", \"xref\": \"x1\", \"yref\": \"y1\", \"font\": {\"color\": \"#000000\"}, \"showarrow\": false}, {\"text\": \"15\", \"x\": \"upper trapezius\", \"y\": \"Tennis\", \"xref\": \"x1\", \"yref\": \"y1\", \"font\": {\"color\": \"#000000\"}, \"showarrow\": false}, {\"text\": \"0\", \"x\": \"middle trapezius\", \"y\": \"Tennis\", \"xref\": \"x1\", \"yref\": \"y1\", \"font\": {\"color\": \"#000000\"}, \"showarrow\": false}, {\"text\": \"15\", \"x\": \"lower trapezius\", \"y\": \"Tennis\", \"xref\": \"x1\", \"yref\": \"y1\", \"font\": {\"color\": \"#000000\"}, \"showarrow\": false}, {\"text\": \"15\", \"x\": \"anterior deltoid\", \"y\": \"Tennis\", \"xref\": \"x1\", \"yref\": \"y1\", \"font\": {\"color\": \"#000000\"}, \"showarrow\": false}, {\"text\": \"15\", \"x\": \"middle deltoid\", \"y\": \"Tennis\", \"xref\": \"x1\", \"yref\": \"y1\", \"font\": {\"color\": \"#000000\"}, \"showarrow\": false}, {\"text\": \"15\", \"x\": \"posterior deltoid\", \"y\": \"Tennis\", \"xref\": \"x1\", \"yref\": \"y1\", \"font\": {\"color\": \"#000000\"}, \"showarrow\": false}, {\"text\": \"15\", \"x\": \"pectoralis major\", \"y\": \"Tennis\", \"xref\": \"x1\", \"yref\": \"y1\", \"font\": {\"color\": \"#000000\"}, \"showarrow\": false}, {\"text\": \"15\", \"x\": \"serratus anterior\", \"y\": \"Tennis\", \"xref\": \"x1\", \"yref\": \"y1\", \"font\": {\"color\": \"#000000\"}, \"showarrow\": false}, {\"text\": \"15\", \"x\": \"latissimus dorsi\", \"y\": \"Tennis\", \"xref\": \"x1\", \"yref\": \"y1\", \"font\": {\"color\": \"#000000\"}, \"showarrow\": false}, {\"text\": \"15\", \"x\": \"supraspinatus\", \"y\": \"Tennis\", \"xref\": \"x1\", \"yref\": \"y1\", \"font\": {\"color\": \"#000000\"}, \"showarrow\": false}, {\"text\": \"15\", \"x\": \"infraspinatus\", \"y\": \"Tennis\", \"xref\": \"x1\", \"yref\": \"y1\", \"font\": {\"color\": \"#000000\"}, \"showarrow\": false}, {\"text\": \"15\", \"x\": \"subscapularis\", \"y\": \"Tennis\", \"xref\": \"x1\", \"yref\": \"y1\", \"font\": {\"color\": \"#000000\"}, \"showarrow\": false}, {\"text\": \"16\", \"x\": \"upper trapezius\", \"y\": \"Patrick_2013\", \"xref\": \"x1\", \"yref\": \"y1\", \"font\": {\"color\": \"#000000\"}, \"showarrow\": false}, {\"text\": \"16\", \"x\": \"middle trapezius\", \"y\": \"Patrick_2013\", \"xref\": \"x1\", \"yref\": \"y1\", \"font\": {\"color\": \"#000000\"}, \"showarrow\": false}, {\"text\": \"16\", \"x\": \"lower trapezius\", \"y\": \"Patrick_2013\", \"xref\": \"x1\", \"yref\": \"y1\", \"font\": {\"color\": \"#000000\"}, \"showarrow\": false}, {\"text\": \"16\", \"x\": \"anterior deltoid\", \"y\": \"Patrick_2013\", \"xref\": \"x1\", \"yref\": \"y1\", \"font\": {\"color\": \"#000000\"}, \"showarrow\": false}, {\"text\": \"16\", \"x\": \"middle deltoid\", \"y\": \"Patrick_2013\", \"xref\": \"x1\", \"yref\": \"y1\", \"font\": {\"color\": \"#000000\"}, \"showarrow\": false}, {\"text\": \"16\", \"x\": \"posterior deltoid\", \"y\": \"Patrick_2013\", \"xref\": \"x1\", \"yref\": \"y1\", \"font\": {\"color\": \"#000000\"}, \"showarrow\": false}, {\"text\": \"16\", \"x\": \"pectoralis major\", \"y\": \"Patrick_2013\", \"xref\": \"x1\", \"yref\": \"y1\", \"font\": {\"color\": \"#000000\"}, \"showarrow\": false}, {\"text\": \"16\", \"x\": \"serratus anterior\", \"y\": \"Patrick_2013\", \"xref\": \"x1\", \"yref\": \"y1\", \"font\": {\"color\": \"#000000\"}, \"showarrow\": false}, {\"text\": \"16\", \"x\": \"latissimus dorsi\", \"y\": \"Patrick_2013\", \"xref\": \"x1\", \"yref\": \"y1\", \"font\": {\"color\": \"#000000\"}, \"showarrow\": false}, {\"text\": \"16\", \"x\": \"supraspinatus\", \"y\": \"Patrick_2013\", \"xref\": \"x1\", \"yref\": \"y1\", \"font\": {\"color\": \"#000000\"}, \"showarrow\": false}, {\"text\": \"16\", \"x\": \"infraspinatus\", \"y\": \"Patrick_2013\", \"xref\": \"x1\", \"yref\": \"y1\", \"font\": {\"color\": \"#000000\"}, \"showarrow\": false}, {\"text\": \"16\", \"x\": \"subscapularis\", \"y\": \"Patrick_2013\", \"xref\": \"x1\", \"yref\": \"y1\", \"font\": {\"color\": \"#000000\"}, \"showarrow\": false}, {\"text\": \"10\", \"x\": \"upper trapezius\", \"y\": \"Sylvain_2015\", \"xref\": \"x1\", \"yref\": \"y1\", \"font\": {\"color\": \"#000000\"}, \"showarrow\": false}, {\"text\": \"10\", \"x\": \"middle trapezius\", \"y\": \"Sylvain_2015\", \"xref\": \"x1\", \"yref\": \"y1\", \"font\": {\"color\": \"#000000\"}, \"showarrow\": false}, {\"text\": \"10\", \"x\": \"lower trapezius\", \"y\": \"Sylvain_2015\", \"xref\": \"x1\", \"yref\": \"y1\", \"font\": {\"color\": \"#000000\"}, \"showarrow\": false}, {\"text\": \"0\", \"x\": \"anterior deltoid\", \"y\": \"Sylvain_2015\", \"xref\": \"x1\", \"yref\": \"y1\", \"font\": {\"color\": \"#000000\"}, \"showarrow\": false}, {\"text\": \"10\", \"x\": \"middle deltoid\", \"y\": \"Sylvain_2015\", \"xref\": \"x1\", \"yref\": \"y1\", \"font\": {\"color\": \"#000000\"}, \"showarrow\": false}, {\"text\": \"10\", \"x\": \"posterior deltoid\", \"y\": \"Sylvain_2015\", \"xref\": \"x1\", \"yref\": \"y1\", \"font\": {\"color\": \"#000000\"}, \"showarrow\": false}, {\"text\": \"10\", \"x\": \"pectoralis major\", \"y\": \"Sylvain_2015\", \"xref\": \"x1\", \"yref\": \"y1\", \"font\": {\"color\": \"#000000\"}, \"showarrow\": false}, {\"text\": \"10\", \"x\": \"serratus anterior\", \"y\": \"Sylvain_2015\", \"xref\": \"x1\", \"yref\": \"y1\", \"font\": {\"color\": \"#000000\"}, \"showarrow\": false}, {\"text\": \"10\", \"x\": \"latissimus dorsi\", \"y\": \"Sylvain_2015\", \"xref\": \"x1\", \"yref\": \"y1\", \"font\": {\"color\": \"#000000\"}, \"showarrow\": false}, {\"text\": \"10\", \"x\": \"supraspinatus\", \"y\": \"Sylvain_2015\", \"xref\": \"x1\", \"yref\": \"y1\", \"font\": {\"color\": \"#000000\"}, \"showarrow\": false}, {\"text\": \"10\", \"x\": \"infraspinatus\", \"y\": \"Sylvain_2015\", \"xref\": \"x1\", \"yref\": \"y1\", \"font\": {\"color\": \"#000000\"}, \"showarrow\": false}, {\"text\": \"10\", \"x\": \"subscapularis\", \"y\": \"Sylvain_2015\", \"xref\": \"x1\", \"yref\": \"y1\", \"font\": {\"color\": \"#000000\"}, \"showarrow\": false}], \"xaxis\": {\"ticks\": \"\", \"dtick\": 1, \"side\": \"bottom\", \"gridcolor\": \"rgb(0, 0, 0)\", \"title\": null}, \"yaxis\": {\"ticks\": \"\", \"dtick\": 1, \"ticksuffix\": \"  \", \"title\": null, \"autorange\": \"reversed\"}, \"hovermode\": \"closest\", \"font\": {\"size\": 14}, \"title\": \"Muscles by dataset\", \"margin\": {\"t\": 80, \"b\": 80, \"l\": 150, \"r\": 80, \"pad\": 0}}, {\"showLink\": true, \"linkText\": \"Export to plot.ly\"})});</script>"
      ]
     },
     "metadata": {},
     "output_type": "display_data"
    }
   ],
   "source": [
    "muscle_by_dataset = plot_count_by_dataset(\n",
    "    df_tidy,\n",
    "    values='test',\n",
    "    index='dataset',\n",
    "    columns='muscle',\n",
    "    ylabel=DATASET_NAMES,\n",
    "    xlabel=MUSCLES_NAMES,\n",
    "    title='Muscles by dataset')\n",
    "py.iplot(muscle_by_dataset, filename='mvc/muscles_by_dataset')"
   ]
  },
  {
   "cell_type": "markdown",
   "metadata": {},
   "source": [
    "## 4.2. Tests by dataset"
   ]
  },
  {
   "cell_type": "code",
   "execution_count": 8,
   "metadata": {},
   "outputs": [
    {
     "data": {
      "application/vnd.plotly.v1+json": {
       "data": [
        {
         "colorbar": {
          "title": "Count",
          "titleside": "right"
         },
         "colorscale": "YlGnBu",
         "showscale": true,
         "type": "heatmap",
         "x": null,
         "y": [
          "Landry2016",
          "Landry2015_2",
          "Landry2015_1",
          "Violon",
          "Yoann_2015",
          "Landry2013",
          "Landry2012",
          "Tennis",
          "Patrick_2013",
          "Sylvain_2015"
         ],
         "z": [
          [
           13,
           0,
           14,
           14,
           14,
           14,
           0,
           11,
           13,
           13,
           12,
           0,
           0,
           11,
           0,
           14
          ],
          [
           11,
           0,
           11,
           11,
           11,
           11,
           0,
           0,
           0,
           0,
           0,
           0,
           0,
           0,
           11,
           0
          ],
          [
           14,
           0,
           14,
           14,
           14,
           14,
           0,
           0,
           14,
           14,
           14,
           0,
           0,
           0,
           14,
           0
          ],
          [
           0,
           0,
           9,
           9,
           9,
           9,
           0,
           0,
           8,
           8,
           8,
           0,
           0,
           0,
           0,
           0
          ],
          [
           22,
           22,
           22,
           22,
           22,
           22,
           22,
           22,
           22,
           22,
           22,
           22,
           22,
           22,
           22,
           0
          ],
          [
           21,
           21,
           21,
           21,
           21,
           21,
           21,
           21,
           0,
           0,
           0,
           0,
           0,
           0,
           21,
           0
          ],
          [
           18,
           18,
           18,
           18,
           18,
           18,
           18,
           18,
           0,
           0,
           0,
           0,
           0,
           0,
           0,
           0
          ],
          [
           16,
           0,
           16,
           16,
           16,
           16,
           16,
           0,
           14,
           14,
           14,
           0,
           0,
           16,
           0,
           16
          ],
          [
           16,
           16,
           16,
           16,
           16,
           16,
           16,
           16,
           16,
           16,
           16,
           16,
           16,
           16,
           16,
           0
          ],
          [
           10,
           10,
           10,
           10,
           10,
           10,
           10,
           10,
           10,
           10,
           10,
           10,
           10,
           10,
           10,
           0
          ]
         ]
        }
       ],
       "layout": {
        "annotations": [
         {
          "font": {
           "color": "#000000"
          },
          "showarrow": false,
          "text": "13",
          "x": 0,
          "xref": "x1",
          "y": "Landry2016",
          "yref": "y1"
         },
         {
          "font": {
           "color": "#000000"
          },
          "showarrow": false,
          "text": "0",
          "x": 1,
          "xref": "x1",
          "y": "Landry2016",
          "yref": "y1"
         },
         {
          "font": {
           "color": "#000000"
          },
          "showarrow": false,
          "text": "14",
          "x": 2,
          "xref": "x1",
          "y": "Landry2016",
          "yref": "y1"
         },
         {
          "font": {
           "color": "#000000"
          },
          "showarrow": false,
          "text": "14",
          "x": 3,
          "xref": "x1",
          "y": "Landry2016",
          "yref": "y1"
         },
         {
          "font": {
           "color": "#000000"
          },
          "showarrow": false,
          "text": "14",
          "x": 4,
          "xref": "x1",
          "y": "Landry2016",
          "yref": "y1"
         },
         {
          "font": {
           "color": "#000000"
          },
          "showarrow": false,
          "text": "14",
          "x": 5,
          "xref": "x1",
          "y": "Landry2016",
          "yref": "y1"
         },
         {
          "font": {
           "color": "#000000"
          },
          "showarrow": false,
          "text": "0",
          "x": 6,
          "xref": "x1",
          "y": "Landry2016",
          "yref": "y1"
         },
         {
          "font": {
           "color": "#000000"
          },
          "showarrow": false,
          "text": "11",
          "x": 7,
          "xref": "x1",
          "y": "Landry2016",
          "yref": "y1"
         },
         {
          "font": {
           "color": "#000000"
          },
          "showarrow": false,
          "text": "13",
          "x": 8,
          "xref": "x1",
          "y": "Landry2016",
          "yref": "y1"
         },
         {
          "font": {
           "color": "#000000"
          },
          "showarrow": false,
          "text": "13",
          "x": 9,
          "xref": "x1",
          "y": "Landry2016",
          "yref": "y1"
         },
         {
          "font": {
           "color": "#000000"
          },
          "showarrow": false,
          "text": "12",
          "x": 10,
          "xref": "x1",
          "y": "Landry2016",
          "yref": "y1"
         },
         {
          "font": {
           "color": "#000000"
          },
          "showarrow": false,
          "text": "0",
          "x": 11,
          "xref": "x1",
          "y": "Landry2016",
          "yref": "y1"
         },
         {
          "font": {
           "color": "#000000"
          },
          "showarrow": false,
          "text": "0",
          "x": 12,
          "xref": "x1",
          "y": "Landry2016",
          "yref": "y1"
         },
         {
          "font": {
           "color": "#000000"
          },
          "showarrow": false,
          "text": "11",
          "x": 13,
          "xref": "x1",
          "y": "Landry2016",
          "yref": "y1"
         },
         {
          "font": {
           "color": "#000000"
          },
          "showarrow": false,
          "text": "0",
          "x": 14,
          "xref": "x1",
          "y": "Landry2016",
          "yref": "y1"
         },
         {
          "font": {
           "color": "#000000"
          },
          "showarrow": false,
          "text": "14",
          "x": 15,
          "xref": "x1",
          "y": "Landry2016",
          "yref": "y1"
         },
         {
          "font": {
           "color": "#000000"
          },
          "showarrow": false,
          "text": "11",
          "x": 0,
          "xref": "x1",
          "y": "Landry2015_2",
          "yref": "y1"
         },
         {
          "font": {
           "color": "#000000"
          },
          "showarrow": false,
          "text": "0",
          "x": 1,
          "xref": "x1",
          "y": "Landry2015_2",
          "yref": "y1"
         },
         {
          "font": {
           "color": "#000000"
          },
          "showarrow": false,
          "text": "11",
          "x": 2,
          "xref": "x1",
          "y": "Landry2015_2",
          "yref": "y1"
         },
         {
          "font": {
           "color": "#000000"
          },
          "showarrow": false,
          "text": "11",
          "x": 3,
          "xref": "x1",
          "y": "Landry2015_2",
          "yref": "y1"
         },
         {
          "font": {
           "color": "#000000"
          },
          "showarrow": false,
          "text": "11",
          "x": 4,
          "xref": "x1",
          "y": "Landry2015_2",
          "yref": "y1"
         },
         {
          "font": {
           "color": "#000000"
          },
          "showarrow": false,
          "text": "11",
          "x": 5,
          "xref": "x1",
          "y": "Landry2015_2",
          "yref": "y1"
         },
         {
          "font": {
           "color": "#000000"
          },
          "showarrow": false,
          "text": "0",
          "x": 6,
          "xref": "x1",
          "y": "Landry2015_2",
          "yref": "y1"
         },
         {
          "font": {
           "color": "#000000"
          },
          "showarrow": false,
          "text": "0",
          "x": 7,
          "xref": "x1",
          "y": "Landry2015_2",
          "yref": "y1"
         },
         {
          "font": {
           "color": "#000000"
          },
          "showarrow": false,
          "text": "0",
          "x": 8,
          "xref": "x1",
          "y": "Landry2015_2",
          "yref": "y1"
         },
         {
          "font": {
           "color": "#000000"
          },
          "showarrow": false,
          "text": "0",
          "x": 9,
          "xref": "x1",
          "y": "Landry2015_2",
          "yref": "y1"
         },
         {
          "font": {
           "color": "#000000"
          },
          "showarrow": false,
          "text": "0",
          "x": 10,
          "xref": "x1",
          "y": "Landry2015_2",
          "yref": "y1"
         },
         {
          "font": {
           "color": "#000000"
          },
          "showarrow": false,
          "text": "0",
          "x": 11,
          "xref": "x1",
          "y": "Landry2015_2",
          "yref": "y1"
         },
         {
          "font": {
           "color": "#000000"
          },
          "showarrow": false,
          "text": "0",
          "x": 12,
          "xref": "x1",
          "y": "Landry2015_2",
          "yref": "y1"
         },
         {
          "font": {
           "color": "#000000"
          },
          "showarrow": false,
          "text": "0",
          "x": 13,
          "xref": "x1",
          "y": "Landry2015_2",
          "yref": "y1"
         },
         {
          "font": {
           "color": "#000000"
          },
          "showarrow": false,
          "text": "11",
          "x": 14,
          "xref": "x1",
          "y": "Landry2015_2",
          "yref": "y1"
         },
         {
          "font": {
           "color": "#000000"
          },
          "showarrow": false,
          "text": "0",
          "x": 15,
          "xref": "x1",
          "y": "Landry2015_2",
          "yref": "y1"
         },
         {
          "font": {
           "color": "#000000"
          },
          "showarrow": false,
          "text": "14",
          "x": 0,
          "xref": "x1",
          "y": "Landry2015_1",
          "yref": "y1"
         },
         {
          "font": {
           "color": "#000000"
          },
          "showarrow": false,
          "text": "0",
          "x": 1,
          "xref": "x1",
          "y": "Landry2015_1",
          "yref": "y1"
         },
         {
          "font": {
           "color": "#000000"
          },
          "showarrow": false,
          "text": "14",
          "x": 2,
          "xref": "x1",
          "y": "Landry2015_1",
          "yref": "y1"
         },
         {
          "font": {
           "color": "#000000"
          },
          "showarrow": false,
          "text": "14",
          "x": 3,
          "xref": "x1",
          "y": "Landry2015_1",
          "yref": "y1"
         },
         {
          "font": {
           "color": "#000000"
          },
          "showarrow": false,
          "text": "14",
          "x": 4,
          "xref": "x1",
          "y": "Landry2015_1",
          "yref": "y1"
         },
         {
          "font": {
           "color": "#000000"
          },
          "showarrow": false,
          "text": "14",
          "x": 5,
          "xref": "x1",
          "y": "Landry2015_1",
          "yref": "y1"
         },
         {
          "font": {
           "color": "#000000"
          },
          "showarrow": false,
          "text": "0",
          "x": 6,
          "xref": "x1",
          "y": "Landry2015_1",
          "yref": "y1"
         },
         {
          "font": {
           "color": "#000000"
          },
          "showarrow": false,
          "text": "0",
          "x": 7,
          "xref": "x1",
          "y": "Landry2015_1",
          "yref": "y1"
         },
         {
          "font": {
           "color": "#000000"
          },
          "showarrow": false,
          "text": "14",
          "x": 8,
          "xref": "x1",
          "y": "Landry2015_1",
          "yref": "y1"
         },
         {
          "font": {
           "color": "#000000"
          },
          "showarrow": false,
          "text": "14",
          "x": 9,
          "xref": "x1",
          "y": "Landry2015_1",
          "yref": "y1"
         },
         {
          "font": {
           "color": "#000000"
          },
          "showarrow": false,
          "text": "14",
          "x": 10,
          "xref": "x1",
          "y": "Landry2015_1",
          "yref": "y1"
         },
         {
          "font": {
           "color": "#000000"
          },
          "showarrow": false,
          "text": "0",
          "x": 11,
          "xref": "x1",
          "y": "Landry2015_1",
          "yref": "y1"
         },
         {
          "font": {
           "color": "#000000"
          },
          "showarrow": false,
          "text": "0",
          "x": 12,
          "xref": "x1",
          "y": "Landry2015_1",
          "yref": "y1"
         },
         {
          "font": {
           "color": "#000000"
          },
          "showarrow": false,
          "text": "0",
          "x": 13,
          "xref": "x1",
          "y": "Landry2015_1",
          "yref": "y1"
         },
         {
          "font": {
           "color": "#000000"
          },
          "showarrow": false,
          "text": "14",
          "x": 14,
          "xref": "x1",
          "y": "Landry2015_1",
          "yref": "y1"
         },
         {
          "font": {
           "color": "#000000"
          },
          "showarrow": false,
          "text": "0",
          "x": 15,
          "xref": "x1",
          "y": "Landry2015_1",
          "yref": "y1"
         },
         {
          "font": {
           "color": "#000000"
          },
          "showarrow": false,
          "text": "0",
          "x": 0,
          "xref": "x1",
          "y": "Violon",
          "yref": "y1"
         },
         {
          "font": {
           "color": "#000000"
          },
          "showarrow": false,
          "text": "0",
          "x": 1,
          "xref": "x1",
          "y": "Violon",
          "yref": "y1"
         },
         {
          "font": {
           "color": "#000000"
          },
          "showarrow": false,
          "text": "9",
          "x": 2,
          "xref": "x1",
          "y": "Violon",
          "yref": "y1"
         },
         {
          "font": {
           "color": "#000000"
          },
          "showarrow": false,
          "text": "9",
          "x": 3,
          "xref": "x1",
          "y": "Violon",
          "yref": "y1"
         },
         {
          "font": {
           "color": "#000000"
          },
          "showarrow": false,
          "text": "9",
          "x": 4,
          "xref": "x1",
          "y": "Violon",
          "yref": "y1"
         },
         {
          "font": {
           "color": "#000000"
          },
          "showarrow": false,
          "text": "9",
          "x": 5,
          "xref": "x1",
          "y": "Violon",
          "yref": "y1"
         },
         {
          "font": {
           "color": "#000000"
          },
          "showarrow": false,
          "text": "0",
          "x": 6,
          "xref": "x1",
          "y": "Violon",
          "yref": "y1"
         },
         {
          "font": {
           "color": "#000000"
          },
          "showarrow": false,
          "text": "0",
          "x": 7,
          "xref": "x1",
          "y": "Violon",
          "yref": "y1"
         },
         {
          "font": {
           "color": "#000000"
          },
          "showarrow": false,
          "text": "8",
          "x": 8,
          "xref": "x1",
          "y": "Violon",
          "yref": "y1"
         },
         {
          "font": {
           "color": "#000000"
          },
          "showarrow": false,
          "text": "8",
          "x": 9,
          "xref": "x1",
          "y": "Violon",
          "yref": "y1"
         },
         {
          "font": {
           "color": "#000000"
          },
          "showarrow": false,
          "text": "8",
          "x": 10,
          "xref": "x1",
          "y": "Violon",
          "yref": "y1"
         },
         {
          "font": {
           "color": "#000000"
          },
          "showarrow": false,
          "text": "0",
          "x": 11,
          "xref": "x1",
          "y": "Violon",
          "yref": "y1"
         },
         {
          "font": {
           "color": "#000000"
          },
          "showarrow": false,
          "text": "0",
          "x": 12,
          "xref": "x1",
          "y": "Violon",
          "yref": "y1"
         },
         {
          "font": {
           "color": "#000000"
          },
          "showarrow": false,
          "text": "0",
          "x": 13,
          "xref": "x1",
          "y": "Violon",
          "yref": "y1"
         },
         {
          "font": {
           "color": "#000000"
          },
          "showarrow": false,
          "text": "0",
          "x": 14,
          "xref": "x1",
          "y": "Violon",
          "yref": "y1"
         },
         {
          "font": {
           "color": "#000000"
          },
          "showarrow": false,
          "text": "0",
          "x": 15,
          "xref": "x1",
          "y": "Violon",
          "yref": "y1"
         },
         {
          "font": {
           "color": "#000000"
          },
          "showarrow": false,
          "text": "22",
          "x": 0,
          "xref": "x1",
          "y": "Yoann_2015",
          "yref": "y1"
         },
         {
          "font": {
           "color": "#000000"
          },
          "showarrow": false,
          "text": "22",
          "x": 1,
          "xref": "x1",
          "y": "Yoann_2015",
          "yref": "y1"
         },
         {
          "font": {
           "color": "#000000"
          },
          "showarrow": false,
          "text": "22",
          "x": 2,
          "xref": "x1",
          "y": "Yoann_2015",
          "yref": "y1"
         },
         {
          "font": {
           "color": "#000000"
          },
          "showarrow": false,
          "text": "22",
          "x": 3,
          "xref": "x1",
          "y": "Yoann_2015",
          "yref": "y1"
         },
         {
          "font": {
           "color": "#000000"
          },
          "showarrow": false,
          "text": "22",
          "x": 4,
          "xref": "x1",
          "y": "Yoann_2015",
          "yref": "y1"
         },
         {
          "font": {
           "color": "#000000"
          },
          "showarrow": false,
          "text": "22",
          "x": 5,
          "xref": "x1",
          "y": "Yoann_2015",
          "yref": "y1"
         },
         {
          "font": {
           "color": "#000000"
          },
          "showarrow": false,
          "text": "22",
          "x": 6,
          "xref": "x1",
          "y": "Yoann_2015",
          "yref": "y1"
         },
         {
          "font": {
           "color": "#000000"
          },
          "showarrow": false,
          "text": "22",
          "x": 7,
          "xref": "x1",
          "y": "Yoann_2015",
          "yref": "y1"
         },
         {
          "font": {
           "color": "#000000"
          },
          "showarrow": false,
          "text": "22",
          "x": 8,
          "xref": "x1",
          "y": "Yoann_2015",
          "yref": "y1"
         },
         {
          "font": {
           "color": "#000000"
          },
          "showarrow": false,
          "text": "22",
          "x": 9,
          "xref": "x1",
          "y": "Yoann_2015",
          "yref": "y1"
         },
         {
          "font": {
           "color": "#000000"
          },
          "showarrow": false,
          "text": "22",
          "x": 10,
          "xref": "x1",
          "y": "Yoann_2015",
          "yref": "y1"
         },
         {
          "font": {
           "color": "#000000"
          },
          "showarrow": false,
          "text": "22",
          "x": 11,
          "xref": "x1",
          "y": "Yoann_2015",
          "yref": "y1"
         },
         {
          "font": {
           "color": "#000000"
          },
          "showarrow": false,
          "text": "22",
          "x": 12,
          "xref": "x1",
          "y": "Yoann_2015",
          "yref": "y1"
         },
         {
          "font": {
           "color": "#000000"
          },
          "showarrow": false,
          "text": "22",
          "x": 13,
          "xref": "x1",
          "y": "Yoann_2015",
          "yref": "y1"
         },
         {
          "font": {
           "color": "#000000"
          },
          "showarrow": false,
          "text": "22",
          "x": 14,
          "xref": "x1",
          "y": "Yoann_2015",
          "yref": "y1"
         },
         {
          "font": {
           "color": "#000000"
          },
          "showarrow": false,
          "text": "0",
          "x": 15,
          "xref": "x1",
          "y": "Yoann_2015",
          "yref": "y1"
         },
         {
          "font": {
           "color": "#000000"
          },
          "showarrow": false,
          "text": "21",
          "x": 0,
          "xref": "x1",
          "y": "Landry2013",
          "yref": "y1"
         },
         {
          "font": {
           "color": "#000000"
          },
          "showarrow": false,
          "text": "21",
          "x": 1,
          "xref": "x1",
          "y": "Landry2013",
          "yref": "y1"
         },
         {
          "font": {
           "color": "#000000"
          },
          "showarrow": false,
          "text": "21",
          "x": 2,
          "xref": "x1",
          "y": "Landry2013",
          "yref": "y1"
         },
         {
          "font": {
           "color": "#000000"
          },
          "showarrow": false,
          "text": "21",
          "x": 3,
          "xref": "x1",
          "y": "Landry2013",
          "yref": "y1"
         },
         {
          "font": {
           "color": "#000000"
          },
          "showarrow": false,
          "text": "21",
          "x": 4,
          "xref": "x1",
          "y": "Landry2013",
          "yref": "y1"
         },
         {
          "font": {
           "color": "#000000"
          },
          "showarrow": false,
          "text": "21",
          "x": 5,
          "xref": "x1",
          "y": "Landry2013",
          "yref": "y1"
         },
         {
          "font": {
           "color": "#000000"
          },
          "showarrow": false,
          "text": "21",
          "x": 6,
          "xref": "x1",
          "y": "Landry2013",
          "yref": "y1"
         },
         {
          "font": {
           "color": "#000000"
          },
          "showarrow": false,
          "text": "21",
          "x": 7,
          "xref": "x1",
          "y": "Landry2013",
          "yref": "y1"
         },
         {
          "font": {
           "color": "#000000"
          },
          "showarrow": false,
          "text": "0",
          "x": 8,
          "xref": "x1",
          "y": "Landry2013",
          "yref": "y1"
         },
         {
          "font": {
           "color": "#000000"
          },
          "showarrow": false,
          "text": "0",
          "x": 9,
          "xref": "x1",
          "y": "Landry2013",
          "yref": "y1"
         },
         {
          "font": {
           "color": "#000000"
          },
          "showarrow": false,
          "text": "0",
          "x": 10,
          "xref": "x1",
          "y": "Landry2013",
          "yref": "y1"
         },
         {
          "font": {
           "color": "#000000"
          },
          "showarrow": false,
          "text": "0",
          "x": 11,
          "xref": "x1",
          "y": "Landry2013",
          "yref": "y1"
         },
         {
          "font": {
           "color": "#000000"
          },
          "showarrow": false,
          "text": "0",
          "x": 12,
          "xref": "x1",
          "y": "Landry2013",
          "yref": "y1"
         },
         {
          "font": {
           "color": "#000000"
          },
          "showarrow": false,
          "text": "0",
          "x": 13,
          "xref": "x1",
          "y": "Landry2013",
          "yref": "y1"
         },
         {
          "font": {
           "color": "#000000"
          },
          "showarrow": false,
          "text": "21",
          "x": 14,
          "xref": "x1",
          "y": "Landry2013",
          "yref": "y1"
         },
         {
          "font": {
           "color": "#000000"
          },
          "showarrow": false,
          "text": "0",
          "x": 15,
          "xref": "x1",
          "y": "Landry2013",
          "yref": "y1"
         },
         {
          "font": {
           "color": "#000000"
          },
          "showarrow": false,
          "text": "18",
          "x": 0,
          "xref": "x1",
          "y": "Landry2012",
          "yref": "y1"
         },
         {
          "font": {
           "color": "#000000"
          },
          "showarrow": false,
          "text": "18",
          "x": 1,
          "xref": "x1",
          "y": "Landry2012",
          "yref": "y1"
         },
         {
          "font": {
           "color": "#000000"
          },
          "showarrow": false,
          "text": "18",
          "x": 2,
          "xref": "x1",
          "y": "Landry2012",
          "yref": "y1"
         },
         {
          "font": {
           "color": "#000000"
          },
          "showarrow": false,
          "text": "18",
          "x": 3,
          "xref": "x1",
          "y": "Landry2012",
          "yref": "y1"
         },
         {
          "font": {
           "color": "#000000"
          },
          "showarrow": false,
          "text": "18",
          "x": 4,
          "xref": "x1",
          "y": "Landry2012",
          "yref": "y1"
         },
         {
          "font": {
           "color": "#000000"
          },
          "showarrow": false,
          "text": "18",
          "x": 5,
          "xref": "x1",
          "y": "Landry2012",
          "yref": "y1"
         },
         {
          "font": {
           "color": "#000000"
          },
          "showarrow": false,
          "text": "18",
          "x": 6,
          "xref": "x1",
          "y": "Landry2012",
          "yref": "y1"
         },
         {
          "font": {
           "color": "#000000"
          },
          "showarrow": false,
          "text": "18",
          "x": 7,
          "xref": "x1",
          "y": "Landry2012",
          "yref": "y1"
         },
         {
          "font": {
           "color": "#000000"
          },
          "showarrow": false,
          "text": "0",
          "x": 8,
          "xref": "x1",
          "y": "Landry2012",
          "yref": "y1"
         },
         {
          "font": {
           "color": "#000000"
          },
          "showarrow": false,
          "text": "0",
          "x": 9,
          "xref": "x1",
          "y": "Landry2012",
          "yref": "y1"
         },
         {
          "font": {
           "color": "#000000"
          },
          "showarrow": false,
          "text": "0",
          "x": 10,
          "xref": "x1",
          "y": "Landry2012",
          "yref": "y1"
         },
         {
          "font": {
           "color": "#000000"
          },
          "showarrow": false,
          "text": "0",
          "x": 11,
          "xref": "x1",
          "y": "Landry2012",
          "yref": "y1"
         },
         {
          "font": {
           "color": "#000000"
          },
          "showarrow": false,
          "text": "0",
          "x": 12,
          "xref": "x1",
          "y": "Landry2012",
          "yref": "y1"
         },
         {
          "font": {
           "color": "#000000"
          },
          "showarrow": false,
          "text": "0",
          "x": 13,
          "xref": "x1",
          "y": "Landry2012",
          "yref": "y1"
         },
         {
          "font": {
           "color": "#000000"
          },
          "showarrow": false,
          "text": "0",
          "x": 14,
          "xref": "x1",
          "y": "Landry2012",
          "yref": "y1"
         },
         {
          "font": {
           "color": "#000000"
          },
          "showarrow": false,
          "text": "0",
          "x": 15,
          "xref": "x1",
          "y": "Landry2012",
          "yref": "y1"
         },
         {
          "font": {
           "color": "#000000"
          },
          "showarrow": false,
          "text": "16",
          "x": 0,
          "xref": "x1",
          "y": "Tennis",
          "yref": "y1"
         },
         {
          "font": {
           "color": "#000000"
          },
          "showarrow": false,
          "text": "0",
          "x": 1,
          "xref": "x1",
          "y": "Tennis",
          "yref": "y1"
         },
         {
          "font": {
           "color": "#000000"
          },
          "showarrow": false,
          "text": "16",
          "x": 2,
          "xref": "x1",
          "y": "Tennis",
          "yref": "y1"
         },
         {
          "font": {
           "color": "#000000"
          },
          "showarrow": false,
          "text": "16",
          "x": 3,
          "xref": "x1",
          "y": "Tennis",
          "yref": "y1"
         },
         {
          "font": {
           "color": "#000000"
          },
          "showarrow": false,
          "text": "16",
          "x": 4,
          "xref": "x1",
          "y": "Tennis",
          "yref": "y1"
         },
         {
          "font": {
           "color": "#000000"
          },
          "showarrow": false,
          "text": "16",
          "x": 5,
          "xref": "x1",
          "y": "Tennis",
          "yref": "y1"
         },
         {
          "font": {
           "color": "#000000"
          },
          "showarrow": false,
          "text": "16",
          "x": 6,
          "xref": "x1",
          "y": "Tennis",
          "yref": "y1"
         },
         {
          "font": {
           "color": "#000000"
          },
          "showarrow": false,
          "text": "0",
          "x": 7,
          "xref": "x1",
          "y": "Tennis",
          "yref": "y1"
         },
         {
          "font": {
           "color": "#000000"
          },
          "showarrow": false,
          "text": "14",
          "x": 8,
          "xref": "x1",
          "y": "Tennis",
          "yref": "y1"
         },
         {
          "font": {
           "color": "#000000"
          },
          "showarrow": false,
          "text": "14",
          "x": 9,
          "xref": "x1",
          "y": "Tennis",
          "yref": "y1"
         },
         {
          "font": {
           "color": "#000000"
          },
          "showarrow": false,
          "text": "14",
          "x": 10,
          "xref": "x1",
          "y": "Tennis",
          "yref": "y1"
         },
         {
          "font": {
           "color": "#000000"
          },
          "showarrow": false,
          "text": "0",
          "x": 11,
          "xref": "x1",
          "y": "Tennis",
          "yref": "y1"
         },
         {
          "font": {
           "color": "#000000"
          },
          "showarrow": false,
          "text": "0",
          "x": 12,
          "xref": "x1",
          "y": "Tennis",
          "yref": "y1"
         },
         {
          "font": {
           "color": "#000000"
          },
          "showarrow": false,
          "text": "16",
          "x": 13,
          "xref": "x1",
          "y": "Tennis",
          "yref": "y1"
         },
         {
          "font": {
           "color": "#000000"
          },
          "showarrow": false,
          "text": "0",
          "x": 14,
          "xref": "x1",
          "y": "Tennis",
          "yref": "y1"
         },
         {
          "font": {
           "color": "#000000"
          },
          "showarrow": false,
          "text": "16",
          "x": 15,
          "xref": "x1",
          "y": "Tennis",
          "yref": "y1"
         },
         {
          "font": {
           "color": "#000000"
          },
          "showarrow": false,
          "text": "16",
          "x": 0,
          "xref": "x1",
          "y": "Patrick_2013",
          "yref": "y1"
         },
         {
          "font": {
           "color": "#000000"
          },
          "showarrow": false,
          "text": "16",
          "x": 1,
          "xref": "x1",
          "y": "Patrick_2013",
          "yref": "y1"
         },
         {
          "font": {
           "color": "#000000"
          },
          "showarrow": false,
          "text": "16",
          "x": 2,
          "xref": "x1",
          "y": "Patrick_2013",
          "yref": "y1"
         },
         {
          "font": {
           "color": "#000000"
          },
          "showarrow": false,
          "text": "16",
          "x": 3,
          "xref": "x1",
          "y": "Patrick_2013",
          "yref": "y1"
         },
         {
          "font": {
           "color": "#000000"
          },
          "showarrow": false,
          "text": "16",
          "x": 4,
          "xref": "x1",
          "y": "Patrick_2013",
          "yref": "y1"
         },
         {
          "font": {
           "color": "#000000"
          },
          "showarrow": false,
          "text": "16",
          "x": 5,
          "xref": "x1",
          "y": "Patrick_2013",
          "yref": "y1"
         },
         {
          "font": {
           "color": "#000000"
          },
          "showarrow": false,
          "text": "16",
          "x": 6,
          "xref": "x1",
          "y": "Patrick_2013",
          "yref": "y1"
         },
         {
          "font": {
           "color": "#000000"
          },
          "showarrow": false,
          "text": "16",
          "x": 7,
          "xref": "x1",
          "y": "Patrick_2013",
          "yref": "y1"
         },
         {
          "font": {
           "color": "#000000"
          },
          "showarrow": false,
          "text": "16",
          "x": 8,
          "xref": "x1",
          "y": "Patrick_2013",
          "yref": "y1"
         },
         {
          "font": {
           "color": "#000000"
          },
          "showarrow": false,
          "text": "16",
          "x": 9,
          "xref": "x1",
          "y": "Patrick_2013",
          "yref": "y1"
         },
         {
          "font": {
           "color": "#000000"
          },
          "showarrow": false,
          "text": "16",
          "x": 10,
          "xref": "x1",
          "y": "Patrick_2013",
          "yref": "y1"
         },
         {
          "font": {
           "color": "#000000"
          },
          "showarrow": false,
          "text": "16",
          "x": 11,
          "xref": "x1",
          "y": "Patrick_2013",
          "yref": "y1"
         },
         {
          "font": {
           "color": "#000000"
          },
          "showarrow": false,
          "text": "16",
          "x": 12,
          "xref": "x1",
          "y": "Patrick_2013",
          "yref": "y1"
         },
         {
          "font": {
           "color": "#000000"
          },
          "showarrow": false,
          "text": "16",
          "x": 13,
          "xref": "x1",
          "y": "Patrick_2013",
          "yref": "y1"
         },
         {
          "font": {
           "color": "#000000"
          },
          "showarrow": false,
          "text": "16",
          "x": 14,
          "xref": "x1",
          "y": "Patrick_2013",
          "yref": "y1"
         },
         {
          "font": {
           "color": "#000000"
          },
          "showarrow": false,
          "text": "0",
          "x": 15,
          "xref": "x1",
          "y": "Patrick_2013",
          "yref": "y1"
         },
         {
          "font": {
           "color": "#000000"
          },
          "showarrow": false,
          "text": "10",
          "x": 0,
          "xref": "x1",
          "y": "Sylvain_2015",
          "yref": "y1"
         },
         {
          "font": {
           "color": "#000000"
          },
          "showarrow": false,
          "text": "10",
          "x": 1,
          "xref": "x1",
          "y": "Sylvain_2015",
          "yref": "y1"
         },
         {
          "font": {
           "color": "#000000"
          },
          "showarrow": false,
          "text": "10",
          "x": 2,
          "xref": "x1",
          "y": "Sylvain_2015",
          "yref": "y1"
         },
         {
          "font": {
           "color": "#000000"
          },
          "showarrow": false,
          "text": "10",
          "x": 3,
          "xref": "x1",
          "y": "Sylvain_2015",
          "yref": "y1"
         },
         {
          "font": {
           "color": "#000000"
          },
          "showarrow": false,
          "text": "10",
          "x": 4,
          "xref": "x1",
          "y": "Sylvain_2015",
          "yref": "y1"
         },
         {
          "font": {
           "color": "#000000"
          },
          "showarrow": false,
          "text": "10",
          "x": 5,
          "xref": "x1",
          "y": "Sylvain_2015",
          "yref": "y1"
         },
         {
          "font": {
           "color": "#000000"
          },
          "showarrow": false,
          "text": "10",
          "x": 6,
          "xref": "x1",
          "y": "Sylvain_2015",
          "yref": "y1"
         },
         {
          "font": {
           "color": "#000000"
          },
          "showarrow": false,
          "text": "10",
          "x": 7,
          "xref": "x1",
          "y": "Sylvain_2015",
          "yref": "y1"
         },
         {
          "font": {
           "color": "#000000"
          },
          "showarrow": false,
          "text": "10",
          "x": 8,
          "xref": "x1",
          "y": "Sylvain_2015",
          "yref": "y1"
         },
         {
          "font": {
           "color": "#000000"
          },
          "showarrow": false,
          "text": "10",
          "x": 9,
          "xref": "x1",
          "y": "Sylvain_2015",
          "yref": "y1"
         },
         {
          "font": {
           "color": "#000000"
          },
          "showarrow": false,
          "text": "10",
          "x": 10,
          "xref": "x1",
          "y": "Sylvain_2015",
          "yref": "y1"
         },
         {
          "font": {
           "color": "#000000"
          },
          "showarrow": false,
          "text": "10",
          "x": 11,
          "xref": "x1",
          "y": "Sylvain_2015",
          "yref": "y1"
         },
         {
          "font": {
           "color": "#000000"
          },
          "showarrow": false,
          "text": "10",
          "x": 12,
          "xref": "x1",
          "y": "Sylvain_2015",
          "yref": "y1"
         },
         {
          "font": {
           "color": "#000000"
          },
          "showarrow": false,
          "text": "10",
          "x": 13,
          "xref": "x1",
          "y": "Sylvain_2015",
          "yref": "y1"
         },
         {
          "font": {
           "color": "#000000"
          },
          "showarrow": false,
          "text": "10",
          "x": 14,
          "xref": "x1",
          "y": "Sylvain_2015",
          "yref": "y1"
         },
         {
          "font": {
           "color": "#000000"
          },
          "showarrow": false,
          "text": "0",
          "x": 15,
          "xref": "x1",
          "y": "Sylvain_2015",
          "yref": "y1"
         }
        ],
        "font": {
         "size": 14
        },
        "hovermode": "closest",
        "margin": {
         "b": 80,
         "l": 150,
         "pad": 0,
         "r": 80,
         "t": 80
        },
        "title": "Tests by dataset",
        "xaxis": {
         "dtick": 1,
         "gridcolor": "rgb(0, 0, 0)",
         "side": "bottom",
         "ticks": "",
         "title": "Tests"
        },
        "yaxis": {
         "autorange": "reversed",
         "dtick": 1,
         "ticks": "",
         "ticksuffix": "  ",
         "title": null
        }
       }
      },
      "text/html": [
       "<div id=\"da72fc47-b656-4424-a667-4540277da2f4\" style=\"height: 525px; width: 100%;\" class=\"plotly-graph-div\"></div><script type=\"text/javascript\">require([\"plotly\"], function(Plotly) { window.PLOTLYENV=window.PLOTLYENV || {};window.PLOTLYENV.BASE_URL=\"https://plot.ly\";Plotly.newPlot(\"da72fc47-b656-4424-a667-4540277da2f4\", [{\"type\": \"heatmap\", \"z\": [[13, 0, 14, 14, 14, 14, 0, 11, 13, 13, 12, 0, 0, 11, 0, 14], [11, 0, 11, 11, 11, 11, 0, 0, 0, 0, 0, 0, 0, 0, 11, 0], [14, 0, 14, 14, 14, 14, 0, 0, 14, 14, 14, 0, 0, 0, 14, 0], [0, 0, 9, 9, 9, 9, 0, 0, 8, 8, 8, 0, 0, 0, 0, 0], [22, 22, 22, 22, 22, 22, 22, 22, 22, 22, 22, 22, 22, 22, 22, 0], [21, 21, 21, 21, 21, 21, 21, 21, 0, 0, 0, 0, 0, 0, 21, 0], [18, 18, 18, 18, 18, 18, 18, 18, 0, 0, 0, 0, 0, 0, 0, 0], [16, 0, 16, 16, 16, 16, 16, 0, 14, 14, 14, 0, 0, 16, 0, 16], [16, 16, 16, 16, 16, 16, 16, 16, 16, 16, 16, 16, 16, 16, 16, 0], [10, 10, 10, 10, 10, 10, 10, 10, 10, 10, 10, 10, 10, 10, 10, 0]], \"x\": null, \"y\": [\"Landry2016\", \"Landry2015_2\", \"Landry2015_1\", \"Violon\", \"Yoann_2015\", \"Landry2013\", \"Landry2012\", \"Tennis\", \"Patrick_2013\", \"Sylvain_2015\"], \"colorscale\": \"YlGnBu\", \"showscale\": true, \"colorbar\": {\"title\": \"Count\", \"titleside\": \"right\"}}], {\"annotations\": [{\"text\": \"13\", \"x\": 0, \"y\": \"Landry2016\", \"xref\": \"x1\", \"yref\": \"y1\", \"font\": {\"color\": \"#000000\"}, \"showarrow\": false}, {\"text\": \"0\", \"x\": 1, \"y\": \"Landry2016\", \"xref\": \"x1\", \"yref\": \"y1\", \"font\": {\"color\": \"#000000\"}, \"showarrow\": false}, {\"text\": \"14\", \"x\": 2, \"y\": \"Landry2016\", \"xref\": \"x1\", \"yref\": \"y1\", \"font\": {\"color\": \"#000000\"}, \"showarrow\": false}, {\"text\": \"14\", \"x\": 3, \"y\": \"Landry2016\", \"xref\": \"x1\", \"yref\": \"y1\", \"font\": {\"color\": \"#000000\"}, \"showarrow\": false}, {\"text\": \"14\", \"x\": 4, \"y\": \"Landry2016\", \"xref\": \"x1\", \"yref\": \"y1\", \"font\": {\"color\": \"#000000\"}, \"showarrow\": false}, {\"text\": \"14\", \"x\": 5, \"y\": \"Landry2016\", \"xref\": \"x1\", \"yref\": \"y1\", \"font\": {\"color\": \"#000000\"}, \"showarrow\": false}, {\"text\": \"0\", \"x\": 6, \"y\": \"Landry2016\", \"xref\": \"x1\", \"yref\": \"y1\", \"font\": {\"color\": \"#000000\"}, \"showarrow\": false}, {\"text\": \"11\", \"x\": 7, \"y\": \"Landry2016\", \"xref\": \"x1\", \"yref\": \"y1\", \"font\": {\"color\": \"#000000\"}, \"showarrow\": false}, {\"text\": \"13\", \"x\": 8, \"y\": \"Landry2016\", \"xref\": \"x1\", \"yref\": \"y1\", \"font\": {\"color\": \"#000000\"}, \"showarrow\": false}, {\"text\": \"13\", \"x\": 9, \"y\": \"Landry2016\", \"xref\": \"x1\", \"yref\": \"y1\", \"font\": {\"color\": \"#000000\"}, \"showarrow\": false}, {\"text\": \"12\", \"x\": 10, \"y\": \"Landry2016\", \"xref\": \"x1\", \"yref\": \"y1\", \"font\": {\"color\": \"#000000\"}, \"showarrow\": false}, {\"text\": \"0\", \"x\": 11, \"y\": \"Landry2016\", \"xref\": \"x1\", \"yref\": \"y1\", \"font\": {\"color\": \"#000000\"}, \"showarrow\": false}, {\"text\": \"0\", \"x\": 12, \"y\": \"Landry2016\", \"xref\": \"x1\", \"yref\": \"y1\", \"font\": {\"color\": \"#000000\"}, \"showarrow\": false}, {\"text\": \"11\", \"x\": 13, \"y\": \"Landry2016\", \"xref\": \"x1\", \"yref\": \"y1\", \"font\": {\"color\": \"#000000\"}, \"showarrow\": false}, {\"text\": \"0\", \"x\": 14, \"y\": \"Landry2016\", \"xref\": \"x1\", \"yref\": \"y1\", \"font\": {\"color\": \"#000000\"}, \"showarrow\": false}, {\"text\": \"14\", \"x\": 15, \"y\": \"Landry2016\", \"xref\": \"x1\", \"yref\": \"y1\", \"font\": {\"color\": \"#000000\"}, \"showarrow\": false}, {\"text\": \"11\", \"x\": 0, \"y\": \"Landry2015_2\", \"xref\": \"x1\", \"yref\": \"y1\", \"font\": {\"color\": \"#000000\"}, \"showarrow\": false}, {\"text\": \"0\", \"x\": 1, \"y\": \"Landry2015_2\", \"xref\": \"x1\", \"yref\": \"y1\", \"font\": {\"color\": \"#000000\"}, \"showarrow\": false}, {\"text\": \"11\", \"x\": 2, \"y\": \"Landry2015_2\", \"xref\": \"x1\", \"yref\": \"y1\", \"font\": {\"color\": \"#000000\"}, \"showarrow\": false}, {\"text\": \"11\", \"x\": 3, \"y\": \"Landry2015_2\", \"xref\": \"x1\", \"yref\": \"y1\", \"font\": {\"color\": \"#000000\"}, \"showarrow\": false}, {\"text\": \"11\", \"x\": 4, \"y\": \"Landry2015_2\", \"xref\": \"x1\", \"yref\": \"y1\", \"font\": {\"color\": \"#000000\"}, \"showarrow\": false}, {\"text\": \"11\", \"x\": 5, \"y\": \"Landry2015_2\", \"xref\": \"x1\", \"yref\": \"y1\", \"font\": {\"color\": \"#000000\"}, \"showarrow\": false}, {\"text\": \"0\", \"x\": 6, \"y\": \"Landry2015_2\", \"xref\": \"x1\", \"yref\": \"y1\", \"font\": {\"color\": \"#000000\"}, \"showarrow\": false}, {\"text\": \"0\", \"x\": 7, \"y\": \"Landry2015_2\", \"xref\": \"x1\", \"yref\": \"y1\", \"font\": {\"color\": \"#000000\"}, \"showarrow\": false}, {\"text\": \"0\", \"x\": 8, \"y\": \"Landry2015_2\", \"xref\": \"x1\", \"yref\": \"y1\", \"font\": {\"color\": \"#000000\"}, \"showarrow\": false}, {\"text\": \"0\", \"x\": 9, \"y\": \"Landry2015_2\", \"xref\": \"x1\", \"yref\": \"y1\", \"font\": {\"color\": \"#000000\"}, \"showarrow\": false}, {\"text\": \"0\", \"x\": 10, \"y\": \"Landry2015_2\", \"xref\": \"x1\", \"yref\": \"y1\", \"font\": {\"color\": \"#000000\"}, \"showarrow\": false}, {\"text\": \"0\", \"x\": 11, \"y\": \"Landry2015_2\", \"xref\": \"x1\", \"yref\": \"y1\", \"font\": {\"color\": \"#000000\"}, \"showarrow\": false}, {\"text\": \"0\", \"x\": 12, \"y\": \"Landry2015_2\", \"xref\": \"x1\", \"yref\": \"y1\", \"font\": {\"color\": \"#000000\"}, \"showarrow\": false}, {\"text\": \"0\", \"x\": 13, \"y\": \"Landry2015_2\", \"xref\": \"x1\", \"yref\": \"y1\", \"font\": {\"color\": \"#000000\"}, \"showarrow\": false}, {\"text\": \"11\", \"x\": 14, \"y\": \"Landry2015_2\", \"xref\": \"x1\", \"yref\": \"y1\", \"font\": {\"color\": \"#000000\"}, \"showarrow\": false}, {\"text\": \"0\", \"x\": 15, \"y\": \"Landry2015_2\", \"xref\": \"x1\", \"yref\": \"y1\", \"font\": {\"color\": \"#000000\"}, \"showarrow\": false}, {\"text\": \"14\", \"x\": 0, \"y\": \"Landry2015_1\", \"xref\": \"x1\", \"yref\": \"y1\", \"font\": {\"color\": \"#000000\"}, \"showarrow\": false}, {\"text\": \"0\", \"x\": 1, \"y\": \"Landry2015_1\", \"xref\": \"x1\", \"yref\": \"y1\", \"font\": {\"color\": \"#000000\"}, \"showarrow\": false}, {\"text\": \"14\", \"x\": 2, \"y\": \"Landry2015_1\", \"xref\": \"x1\", \"yref\": \"y1\", \"font\": {\"color\": \"#000000\"}, \"showarrow\": false}, {\"text\": \"14\", \"x\": 3, \"y\": \"Landry2015_1\", \"xref\": \"x1\", \"yref\": \"y1\", \"font\": {\"color\": \"#000000\"}, \"showarrow\": false}, {\"text\": \"14\", \"x\": 4, \"y\": \"Landry2015_1\", \"xref\": \"x1\", \"yref\": \"y1\", \"font\": {\"color\": \"#000000\"}, \"showarrow\": false}, {\"text\": \"14\", \"x\": 5, \"y\": \"Landry2015_1\", \"xref\": \"x1\", \"yref\": \"y1\", \"font\": {\"color\": \"#000000\"}, \"showarrow\": false}, {\"text\": \"0\", \"x\": 6, \"y\": \"Landry2015_1\", \"xref\": \"x1\", \"yref\": \"y1\", \"font\": {\"color\": \"#000000\"}, \"showarrow\": false}, {\"text\": \"0\", \"x\": 7, \"y\": \"Landry2015_1\", \"xref\": \"x1\", \"yref\": \"y1\", \"font\": {\"color\": \"#000000\"}, \"showarrow\": false}, {\"text\": \"14\", \"x\": 8, \"y\": \"Landry2015_1\", \"xref\": \"x1\", \"yref\": \"y1\", \"font\": {\"color\": \"#000000\"}, \"showarrow\": false}, {\"text\": \"14\", \"x\": 9, \"y\": \"Landry2015_1\", \"xref\": \"x1\", \"yref\": \"y1\", \"font\": {\"color\": \"#000000\"}, \"showarrow\": false}, {\"text\": \"14\", \"x\": 10, \"y\": \"Landry2015_1\", \"xref\": \"x1\", \"yref\": \"y1\", \"font\": {\"color\": \"#000000\"}, \"showarrow\": false}, {\"text\": \"0\", \"x\": 11, \"y\": \"Landry2015_1\", \"xref\": \"x1\", \"yref\": \"y1\", \"font\": {\"color\": \"#000000\"}, \"showarrow\": false}, {\"text\": \"0\", \"x\": 12, \"y\": \"Landry2015_1\", \"xref\": \"x1\", \"yref\": \"y1\", \"font\": {\"color\": \"#000000\"}, \"showarrow\": false}, {\"text\": \"0\", \"x\": 13, \"y\": \"Landry2015_1\", \"xref\": \"x1\", \"yref\": \"y1\", \"font\": {\"color\": \"#000000\"}, \"showarrow\": false}, {\"text\": \"14\", \"x\": 14, \"y\": \"Landry2015_1\", \"xref\": \"x1\", \"yref\": \"y1\", \"font\": {\"color\": \"#000000\"}, \"showarrow\": false}, {\"text\": \"0\", \"x\": 15, \"y\": \"Landry2015_1\", \"xref\": \"x1\", \"yref\": \"y1\", \"font\": {\"color\": \"#000000\"}, \"showarrow\": false}, {\"text\": \"0\", \"x\": 0, \"y\": \"Violon\", \"xref\": \"x1\", \"yref\": \"y1\", \"font\": {\"color\": \"#000000\"}, \"showarrow\": false}, {\"text\": \"0\", \"x\": 1, \"y\": \"Violon\", \"xref\": \"x1\", \"yref\": \"y1\", \"font\": {\"color\": \"#000000\"}, \"showarrow\": false}, {\"text\": \"9\", \"x\": 2, \"y\": \"Violon\", \"xref\": \"x1\", \"yref\": \"y1\", \"font\": {\"color\": \"#000000\"}, \"showarrow\": false}, {\"text\": \"9\", \"x\": 3, \"y\": \"Violon\", \"xref\": \"x1\", \"yref\": \"y1\", \"font\": {\"color\": \"#000000\"}, \"showarrow\": false}, {\"text\": \"9\", \"x\": 4, \"y\": \"Violon\", \"xref\": \"x1\", \"yref\": \"y1\", \"font\": {\"color\": \"#000000\"}, \"showarrow\": false}, {\"text\": \"9\", \"x\": 5, \"y\": \"Violon\", \"xref\": \"x1\", \"yref\": \"y1\", \"font\": {\"color\": \"#000000\"}, \"showarrow\": false}, {\"text\": \"0\", \"x\": 6, \"y\": \"Violon\", \"xref\": \"x1\", \"yref\": \"y1\", \"font\": {\"color\": \"#000000\"}, \"showarrow\": false}, {\"text\": \"0\", \"x\": 7, \"y\": \"Violon\", \"xref\": \"x1\", \"yref\": \"y1\", \"font\": {\"color\": \"#000000\"}, \"showarrow\": false}, {\"text\": \"8\", \"x\": 8, \"y\": \"Violon\", \"xref\": \"x1\", \"yref\": \"y1\", \"font\": {\"color\": \"#000000\"}, \"showarrow\": false}, {\"text\": \"8\", \"x\": 9, \"y\": \"Violon\", \"xref\": \"x1\", \"yref\": \"y1\", \"font\": {\"color\": \"#000000\"}, \"showarrow\": false}, {\"text\": \"8\", \"x\": 10, \"y\": \"Violon\", \"xref\": \"x1\", \"yref\": \"y1\", \"font\": {\"color\": \"#000000\"}, \"showarrow\": false}, {\"text\": \"0\", \"x\": 11, \"y\": \"Violon\", \"xref\": \"x1\", \"yref\": \"y1\", \"font\": {\"color\": \"#000000\"}, \"showarrow\": false}, {\"text\": \"0\", \"x\": 12, \"y\": \"Violon\", \"xref\": \"x1\", \"yref\": \"y1\", \"font\": {\"color\": \"#000000\"}, \"showarrow\": false}, {\"text\": \"0\", \"x\": 13, \"y\": \"Violon\", \"xref\": \"x1\", \"yref\": \"y1\", \"font\": {\"color\": \"#000000\"}, \"showarrow\": false}, {\"text\": \"0\", \"x\": 14, \"y\": \"Violon\", \"xref\": \"x1\", \"yref\": \"y1\", \"font\": {\"color\": \"#000000\"}, \"showarrow\": false}, {\"text\": \"0\", \"x\": 15, \"y\": \"Violon\", \"xref\": \"x1\", \"yref\": \"y1\", \"font\": {\"color\": \"#000000\"}, \"showarrow\": false}, {\"text\": \"22\", \"x\": 0, \"y\": \"Yoann_2015\", \"xref\": \"x1\", \"yref\": \"y1\", \"font\": {\"color\": \"#000000\"}, \"showarrow\": false}, {\"text\": \"22\", \"x\": 1, \"y\": \"Yoann_2015\", \"xref\": \"x1\", \"yref\": \"y1\", \"font\": {\"color\": \"#000000\"}, \"showarrow\": false}, {\"text\": \"22\", \"x\": 2, \"y\": \"Yoann_2015\", \"xref\": \"x1\", \"yref\": \"y1\", \"font\": {\"color\": \"#000000\"}, \"showarrow\": false}, {\"text\": \"22\", \"x\": 3, \"y\": \"Yoann_2015\", \"xref\": \"x1\", \"yref\": \"y1\", \"font\": {\"color\": \"#000000\"}, \"showarrow\": false}, {\"text\": \"22\", \"x\": 4, \"y\": \"Yoann_2015\", \"xref\": \"x1\", \"yref\": \"y1\", \"font\": {\"color\": \"#000000\"}, \"showarrow\": false}, {\"text\": \"22\", \"x\": 5, \"y\": \"Yoann_2015\", \"xref\": \"x1\", \"yref\": \"y1\", \"font\": {\"color\": \"#000000\"}, \"showarrow\": false}, {\"text\": \"22\", \"x\": 6, \"y\": \"Yoann_2015\", \"xref\": \"x1\", \"yref\": \"y1\", \"font\": {\"color\": \"#000000\"}, \"showarrow\": false}, {\"text\": \"22\", \"x\": 7, \"y\": \"Yoann_2015\", \"xref\": \"x1\", \"yref\": \"y1\", \"font\": {\"color\": \"#000000\"}, \"showarrow\": false}, {\"text\": \"22\", \"x\": 8, \"y\": \"Yoann_2015\", \"xref\": \"x1\", \"yref\": \"y1\", \"font\": {\"color\": \"#000000\"}, \"showarrow\": false}, {\"text\": \"22\", \"x\": 9, \"y\": \"Yoann_2015\", \"xref\": \"x1\", \"yref\": \"y1\", \"font\": {\"color\": \"#000000\"}, \"showarrow\": false}, {\"text\": \"22\", \"x\": 10, \"y\": \"Yoann_2015\", \"xref\": \"x1\", \"yref\": \"y1\", \"font\": {\"color\": \"#000000\"}, \"showarrow\": false}, {\"text\": \"22\", \"x\": 11, \"y\": \"Yoann_2015\", \"xref\": \"x1\", \"yref\": \"y1\", \"font\": {\"color\": \"#000000\"}, \"showarrow\": false}, {\"text\": \"22\", \"x\": 12, \"y\": \"Yoann_2015\", \"xref\": \"x1\", \"yref\": \"y1\", \"font\": {\"color\": \"#000000\"}, \"showarrow\": false}, {\"text\": \"22\", \"x\": 13, \"y\": \"Yoann_2015\", \"xref\": \"x1\", \"yref\": \"y1\", \"font\": {\"color\": \"#000000\"}, \"showarrow\": false}, {\"text\": \"22\", \"x\": 14, \"y\": \"Yoann_2015\", \"xref\": \"x1\", \"yref\": \"y1\", \"font\": {\"color\": \"#000000\"}, \"showarrow\": false}, {\"text\": \"0\", \"x\": 15, \"y\": \"Yoann_2015\", \"xref\": \"x1\", \"yref\": \"y1\", \"font\": {\"color\": \"#000000\"}, \"showarrow\": false}, {\"text\": \"21\", \"x\": 0, \"y\": \"Landry2013\", \"xref\": \"x1\", \"yref\": \"y1\", \"font\": {\"color\": \"#000000\"}, \"showarrow\": false}, {\"text\": \"21\", \"x\": 1, \"y\": \"Landry2013\", \"xref\": \"x1\", \"yref\": \"y1\", \"font\": {\"color\": \"#000000\"}, \"showarrow\": false}, {\"text\": \"21\", \"x\": 2, \"y\": \"Landry2013\", \"xref\": \"x1\", \"yref\": \"y1\", \"font\": {\"color\": \"#000000\"}, \"showarrow\": false}, {\"text\": \"21\", \"x\": 3, \"y\": \"Landry2013\", \"xref\": \"x1\", \"yref\": \"y1\", \"font\": {\"color\": \"#000000\"}, \"showarrow\": false}, {\"text\": \"21\", \"x\": 4, \"y\": \"Landry2013\", \"xref\": \"x1\", \"yref\": \"y1\", \"font\": {\"color\": \"#000000\"}, \"showarrow\": false}, {\"text\": \"21\", \"x\": 5, \"y\": \"Landry2013\", \"xref\": \"x1\", \"yref\": \"y1\", \"font\": {\"color\": \"#000000\"}, \"showarrow\": false}, {\"text\": \"21\", \"x\": 6, \"y\": \"Landry2013\", \"xref\": \"x1\", \"yref\": \"y1\", \"font\": {\"color\": \"#000000\"}, \"showarrow\": false}, {\"text\": \"21\", \"x\": 7, \"y\": \"Landry2013\", \"xref\": \"x1\", \"yref\": \"y1\", \"font\": {\"color\": \"#000000\"}, \"showarrow\": false}, {\"text\": \"0\", \"x\": 8, \"y\": \"Landry2013\", \"xref\": \"x1\", \"yref\": \"y1\", \"font\": {\"color\": \"#000000\"}, \"showarrow\": false}, {\"text\": \"0\", \"x\": 9, \"y\": \"Landry2013\", \"xref\": \"x1\", \"yref\": \"y1\", \"font\": {\"color\": \"#000000\"}, \"showarrow\": false}, {\"text\": \"0\", \"x\": 10, \"y\": \"Landry2013\", \"xref\": \"x1\", \"yref\": \"y1\", \"font\": {\"color\": \"#000000\"}, \"showarrow\": false}, {\"text\": \"0\", \"x\": 11, \"y\": \"Landry2013\", \"xref\": \"x1\", \"yref\": \"y1\", \"font\": {\"color\": \"#000000\"}, \"showarrow\": false}, {\"text\": \"0\", \"x\": 12, \"y\": \"Landry2013\", \"xref\": \"x1\", \"yref\": \"y1\", \"font\": {\"color\": \"#000000\"}, \"showarrow\": false}, {\"text\": \"0\", \"x\": 13, \"y\": \"Landry2013\", \"xref\": \"x1\", \"yref\": \"y1\", \"font\": {\"color\": \"#000000\"}, \"showarrow\": false}, {\"text\": \"21\", \"x\": 14, \"y\": \"Landry2013\", \"xref\": \"x1\", \"yref\": \"y1\", \"font\": {\"color\": \"#000000\"}, \"showarrow\": false}, {\"text\": \"0\", \"x\": 15, \"y\": \"Landry2013\", \"xref\": \"x1\", \"yref\": \"y1\", \"font\": {\"color\": \"#000000\"}, \"showarrow\": false}, {\"text\": \"18\", \"x\": 0, \"y\": \"Landry2012\", \"xref\": \"x1\", \"yref\": \"y1\", \"font\": {\"color\": \"#000000\"}, \"showarrow\": false}, {\"text\": \"18\", \"x\": 1, \"y\": \"Landry2012\", \"xref\": \"x1\", \"yref\": \"y1\", \"font\": {\"color\": \"#000000\"}, \"showarrow\": false}, {\"text\": \"18\", \"x\": 2, \"y\": \"Landry2012\", \"xref\": \"x1\", \"yref\": \"y1\", \"font\": {\"color\": \"#000000\"}, \"showarrow\": false}, {\"text\": \"18\", \"x\": 3, \"y\": \"Landry2012\", \"xref\": \"x1\", \"yref\": \"y1\", \"font\": {\"color\": \"#000000\"}, \"showarrow\": false}, {\"text\": \"18\", \"x\": 4, \"y\": \"Landry2012\", \"xref\": \"x1\", \"yref\": \"y1\", \"font\": {\"color\": \"#000000\"}, \"showarrow\": false}, {\"text\": \"18\", \"x\": 5, \"y\": \"Landry2012\", \"xref\": \"x1\", \"yref\": \"y1\", \"font\": {\"color\": \"#000000\"}, \"showarrow\": false}, {\"text\": \"18\", \"x\": 6, \"y\": \"Landry2012\", \"xref\": \"x1\", \"yref\": \"y1\", \"font\": {\"color\": \"#000000\"}, \"showarrow\": false}, {\"text\": \"18\", \"x\": 7, \"y\": \"Landry2012\", \"xref\": \"x1\", \"yref\": \"y1\", \"font\": {\"color\": \"#000000\"}, \"showarrow\": false}, {\"text\": \"0\", \"x\": 8, \"y\": \"Landry2012\", \"xref\": \"x1\", \"yref\": \"y1\", \"font\": {\"color\": \"#000000\"}, \"showarrow\": false}, {\"text\": \"0\", \"x\": 9, \"y\": \"Landry2012\", \"xref\": \"x1\", \"yref\": \"y1\", \"font\": {\"color\": \"#000000\"}, \"showarrow\": false}, {\"text\": \"0\", \"x\": 10, \"y\": \"Landry2012\", \"xref\": \"x1\", \"yref\": \"y1\", \"font\": {\"color\": \"#000000\"}, \"showarrow\": false}, {\"text\": \"0\", \"x\": 11, \"y\": \"Landry2012\", \"xref\": \"x1\", \"yref\": \"y1\", \"font\": {\"color\": \"#000000\"}, \"showarrow\": false}, {\"text\": \"0\", \"x\": 12, \"y\": \"Landry2012\", \"xref\": \"x1\", \"yref\": \"y1\", \"font\": {\"color\": \"#000000\"}, \"showarrow\": false}, {\"text\": \"0\", \"x\": 13, \"y\": \"Landry2012\", \"xref\": \"x1\", \"yref\": \"y1\", \"font\": {\"color\": \"#000000\"}, \"showarrow\": false}, {\"text\": \"0\", \"x\": 14, \"y\": \"Landry2012\", \"xref\": \"x1\", \"yref\": \"y1\", \"font\": {\"color\": \"#000000\"}, \"showarrow\": false}, {\"text\": \"0\", \"x\": 15, \"y\": \"Landry2012\", \"xref\": \"x1\", \"yref\": \"y1\", \"font\": {\"color\": \"#000000\"}, \"showarrow\": false}, {\"text\": \"16\", \"x\": 0, \"y\": \"Tennis\", \"xref\": \"x1\", \"yref\": \"y1\", \"font\": {\"color\": \"#000000\"}, \"showarrow\": false}, {\"text\": \"0\", \"x\": 1, \"y\": \"Tennis\", \"xref\": \"x1\", \"yref\": \"y1\", \"font\": {\"color\": \"#000000\"}, \"showarrow\": false}, {\"text\": \"16\", \"x\": 2, \"y\": \"Tennis\", \"xref\": \"x1\", \"yref\": \"y1\", \"font\": {\"color\": \"#000000\"}, \"showarrow\": false}, {\"text\": \"16\", \"x\": 3, \"y\": \"Tennis\", \"xref\": \"x1\", \"yref\": \"y1\", \"font\": {\"color\": \"#000000\"}, \"showarrow\": false}, {\"text\": \"16\", \"x\": 4, \"y\": \"Tennis\", \"xref\": \"x1\", \"yref\": \"y1\", \"font\": {\"color\": \"#000000\"}, \"showarrow\": false}, {\"text\": \"16\", \"x\": 5, \"y\": \"Tennis\", \"xref\": \"x1\", \"yref\": \"y1\", \"font\": {\"color\": \"#000000\"}, \"showarrow\": false}, {\"text\": \"16\", \"x\": 6, \"y\": \"Tennis\", \"xref\": \"x1\", \"yref\": \"y1\", \"font\": {\"color\": \"#000000\"}, \"showarrow\": false}, {\"text\": \"0\", \"x\": 7, \"y\": \"Tennis\", \"xref\": \"x1\", \"yref\": \"y1\", \"font\": {\"color\": \"#000000\"}, \"showarrow\": false}, {\"text\": \"14\", \"x\": 8, \"y\": \"Tennis\", \"xref\": \"x1\", \"yref\": \"y1\", \"font\": {\"color\": \"#000000\"}, \"showarrow\": false}, {\"text\": \"14\", \"x\": 9, \"y\": \"Tennis\", \"xref\": \"x1\", \"yref\": \"y1\", \"font\": {\"color\": \"#000000\"}, \"showarrow\": false}, {\"text\": \"14\", \"x\": 10, \"y\": \"Tennis\", \"xref\": \"x1\", \"yref\": \"y1\", \"font\": {\"color\": \"#000000\"}, \"showarrow\": false}, {\"text\": \"0\", \"x\": 11, \"y\": \"Tennis\", \"xref\": \"x1\", \"yref\": \"y1\", \"font\": {\"color\": \"#000000\"}, \"showarrow\": false}, {\"text\": \"0\", \"x\": 12, \"y\": \"Tennis\", \"xref\": \"x1\", \"yref\": \"y1\", \"font\": {\"color\": \"#000000\"}, \"showarrow\": false}, {\"text\": \"16\", \"x\": 13, \"y\": \"Tennis\", \"xref\": \"x1\", \"yref\": \"y1\", \"font\": {\"color\": \"#000000\"}, \"showarrow\": false}, {\"text\": \"0\", \"x\": 14, \"y\": \"Tennis\", \"xref\": \"x1\", \"yref\": \"y1\", \"font\": {\"color\": \"#000000\"}, \"showarrow\": false}, {\"text\": \"16\", \"x\": 15, \"y\": \"Tennis\", \"xref\": \"x1\", \"yref\": \"y1\", \"font\": {\"color\": \"#000000\"}, \"showarrow\": false}, {\"text\": \"16\", \"x\": 0, \"y\": \"Patrick_2013\", \"xref\": \"x1\", \"yref\": \"y1\", \"font\": {\"color\": \"#000000\"}, \"showarrow\": false}, {\"text\": \"16\", \"x\": 1, \"y\": \"Patrick_2013\", \"xref\": \"x1\", \"yref\": \"y1\", \"font\": {\"color\": \"#000000\"}, \"showarrow\": false}, {\"text\": \"16\", \"x\": 2, \"y\": \"Patrick_2013\", \"xref\": \"x1\", \"yref\": \"y1\", \"font\": {\"color\": \"#000000\"}, \"showarrow\": false}, {\"text\": \"16\", \"x\": 3, \"y\": \"Patrick_2013\", \"xref\": \"x1\", \"yref\": \"y1\", \"font\": {\"color\": \"#000000\"}, \"showarrow\": false}, {\"text\": \"16\", \"x\": 4, \"y\": \"Patrick_2013\", \"xref\": \"x1\", \"yref\": \"y1\", \"font\": {\"color\": \"#000000\"}, \"showarrow\": false}, {\"text\": \"16\", \"x\": 5, \"y\": \"Patrick_2013\", \"xref\": \"x1\", \"yref\": \"y1\", \"font\": {\"color\": \"#000000\"}, \"showarrow\": false}, {\"text\": \"16\", \"x\": 6, \"y\": \"Patrick_2013\", \"xref\": \"x1\", \"yref\": \"y1\", \"font\": {\"color\": \"#000000\"}, \"showarrow\": false}, {\"text\": \"16\", \"x\": 7, \"y\": \"Patrick_2013\", \"xref\": \"x1\", \"yref\": \"y1\", \"font\": {\"color\": \"#000000\"}, \"showarrow\": false}, {\"text\": \"16\", \"x\": 8, \"y\": \"Patrick_2013\", \"xref\": \"x1\", \"yref\": \"y1\", \"font\": {\"color\": \"#000000\"}, \"showarrow\": false}, {\"text\": \"16\", \"x\": 9, \"y\": \"Patrick_2013\", \"xref\": \"x1\", \"yref\": \"y1\", \"font\": {\"color\": \"#000000\"}, \"showarrow\": false}, {\"text\": \"16\", \"x\": 10, \"y\": \"Patrick_2013\", \"xref\": \"x1\", \"yref\": \"y1\", \"font\": {\"color\": \"#000000\"}, \"showarrow\": false}, {\"text\": \"16\", \"x\": 11, \"y\": \"Patrick_2013\", \"xref\": \"x1\", \"yref\": \"y1\", \"font\": {\"color\": \"#000000\"}, \"showarrow\": false}, {\"text\": \"16\", \"x\": 12, \"y\": \"Patrick_2013\", \"xref\": \"x1\", \"yref\": \"y1\", \"font\": {\"color\": \"#000000\"}, \"showarrow\": false}, {\"text\": \"16\", \"x\": 13, \"y\": \"Patrick_2013\", \"xref\": \"x1\", \"yref\": \"y1\", \"font\": {\"color\": \"#000000\"}, \"showarrow\": false}, {\"text\": \"16\", \"x\": 14, \"y\": \"Patrick_2013\", \"xref\": \"x1\", \"yref\": \"y1\", \"font\": {\"color\": \"#000000\"}, \"showarrow\": false}, {\"text\": \"0\", \"x\": 15, \"y\": \"Patrick_2013\", \"xref\": \"x1\", \"yref\": \"y1\", \"font\": {\"color\": \"#000000\"}, \"showarrow\": false}, {\"text\": \"10\", \"x\": 0, \"y\": \"Sylvain_2015\", \"xref\": \"x1\", \"yref\": \"y1\", \"font\": {\"color\": \"#000000\"}, \"showarrow\": false}, {\"text\": \"10\", \"x\": 1, \"y\": \"Sylvain_2015\", \"xref\": \"x1\", \"yref\": \"y1\", \"font\": {\"color\": \"#000000\"}, \"showarrow\": false}, {\"text\": \"10\", \"x\": 2, \"y\": \"Sylvain_2015\", \"xref\": \"x1\", \"yref\": \"y1\", \"font\": {\"color\": \"#000000\"}, \"showarrow\": false}, {\"text\": \"10\", \"x\": 3, \"y\": \"Sylvain_2015\", \"xref\": \"x1\", \"yref\": \"y1\", \"font\": {\"color\": \"#000000\"}, \"showarrow\": false}, {\"text\": \"10\", \"x\": 4, \"y\": \"Sylvain_2015\", \"xref\": \"x1\", \"yref\": \"y1\", \"font\": {\"color\": \"#000000\"}, \"showarrow\": false}, {\"text\": \"10\", \"x\": 5, \"y\": \"Sylvain_2015\", \"xref\": \"x1\", \"yref\": \"y1\", \"font\": {\"color\": \"#000000\"}, \"showarrow\": false}, {\"text\": \"10\", \"x\": 6, \"y\": \"Sylvain_2015\", \"xref\": \"x1\", \"yref\": \"y1\", \"font\": {\"color\": \"#000000\"}, \"showarrow\": false}, {\"text\": \"10\", \"x\": 7, \"y\": \"Sylvain_2015\", \"xref\": \"x1\", \"yref\": \"y1\", \"font\": {\"color\": \"#000000\"}, \"showarrow\": false}, {\"text\": \"10\", \"x\": 8, \"y\": \"Sylvain_2015\", \"xref\": \"x1\", \"yref\": \"y1\", \"font\": {\"color\": \"#000000\"}, \"showarrow\": false}, {\"text\": \"10\", \"x\": 9, \"y\": \"Sylvain_2015\", \"xref\": \"x1\", \"yref\": \"y1\", \"font\": {\"color\": \"#000000\"}, \"showarrow\": false}, {\"text\": \"10\", \"x\": 10, \"y\": \"Sylvain_2015\", \"xref\": \"x1\", \"yref\": \"y1\", \"font\": {\"color\": \"#000000\"}, \"showarrow\": false}, {\"text\": \"10\", \"x\": 11, \"y\": \"Sylvain_2015\", \"xref\": \"x1\", \"yref\": \"y1\", \"font\": {\"color\": \"#000000\"}, \"showarrow\": false}, {\"text\": \"10\", \"x\": 12, \"y\": \"Sylvain_2015\", \"xref\": \"x1\", \"yref\": \"y1\", \"font\": {\"color\": \"#000000\"}, \"showarrow\": false}, {\"text\": \"10\", \"x\": 13, \"y\": \"Sylvain_2015\", \"xref\": \"x1\", \"yref\": \"y1\", \"font\": {\"color\": \"#000000\"}, \"showarrow\": false}, {\"text\": \"10\", \"x\": 14, \"y\": \"Sylvain_2015\", \"xref\": \"x1\", \"yref\": \"y1\", \"font\": {\"color\": \"#000000\"}, \"showarrow\": false}, {\"text\": \"0\", \"x\": 15, \"y\": \"Sylvain_2015\", \"xref\": \"x1\", \"yref\": \"y1\", \"font\": {\"color\": \"#000000\"}, \"showarrow\": false}], \"xaxis\": {\"ticks\": \"\", \"dtick\": 1, \"side\": \"bottom\", \"gridcolor\": \"rgb(0, 0, 0)\", \"title\": \"Tests\"}, \"yaxis\": {\"ticks\": \"\", \"dtick\": 1, \"ticksuffix\": \"  \", \"title\": null, \"autorange\": \"reversed\"}, \"hovermode\": \"closest\", \"font\": {\"size\": 14}, \"title\": \"Tests by dataset\", \"margin\": {\"t\": 80, \"b\": 80, \"l\": 150, \"r\": 80, \"pad\": 0}}, {\"showLink\": true, \"linkText\": \"Export to plot.ly\"})});</script>"
      ],
      "text/vnd.plotly.v1+html": [
       "<div id=\"da72fc47-b656-4424-a667-4540277da2f4\" style=\"height: 525px; width: 100%;\" class=\"plotly-graph-div\"></div><script type=\"text/javascript\">require([\"plotly\"], function(Plotly) { window.PLOTLYENV=window.PLOTLYENV || {};window.PLOTLYENV.BASE_URL=\"https://plot.ly\";Plotly.newPlot(\"da72fc47-b656-4424-a667-4540277da2f4\", [{\"type\": \"heatmap\", \"z\": [[13, 0, 14, 14, 14, 14, 0, 11, 13, 13, 12, 0, 0, 11, 0, 14], [11, 0, 11, 11, 11, 11, 0, 0, 0, 0, 0, 0, 0, 0, 11, 0], [14, 0, 14, 14, 14, 14, 0, 0, 14, 14, 14, 0, 0, 0, 14, 0], [0, 0, 9, 9, 9, 9, 0, 0, 8, 8, 8, 0, 0, 0, 0, 0], [22, 22, 22, 22, 22, 22, 22, 22, 22, 22, 22, 22, 22, 22, 22, 0], [21, 21, 21, 21, 21, 21, 21, 21, 0, 0, 0, 0, 0, 0, 21, 0], [18, 18, 18, 18, 18, 18, 18, 18, 0, 0, 0, 0, 0, 0, 0, 0], [16, 0, 16, 16, 16, 16, 16, 0, 14, 14, 14, 0, 0, 16, 0, 16], [16, 16, 16, 16, 16, 16, 16, 16, 16, 16, 16, 16, 16, 16, 16, 0], [10, 10, 10, 10, 10, 10, 10, 10, 10, 10, 10, 10, 10, 10, 10, 0]], \"x\": null, \"y\": [\"Landry2016\", \"Landry2015_2\", \"Landry2015_1\", \"Violon\", \"Yoann_2015\", \"Landry2013\", \"Landry2012\", \"Tennis\", \"Patrick_2013\", \"Sylvain_2015\"], \"colorscale\": \"YlGnBu\", \"showscale\": true, \"colorbar\": {\"title\": \"Count\", \"titleside\": \"right\"}}], {\"annotations\": [{\"text\": \"13\", \"x\": 0, \"y\": \"Landry2016\", \"xref\": \"x1\", \"yref\": \"y1\", \"font\": {\"color\": \"#000000\"}, \"showarrow\": false}, {\"text\": \"0\", \"x\": 1, \"y\": \"Landry2016\", \"xref\": \"x1\", \"yref\": \"y1\", \"font\": {\"color\": \"#000000\"}, \"showarrow\": false}, {\"text\": \"14\", \"x\": 2, \"y\": \"Landry2016\", \"xref\": \"x1\", \"yref\": \"y1\", \"font\": {\"color\": \"#000000\"}, \"showarrow\": false}, {\"text\": \"14\", \"x\": 3, \"y\": \"Landry2016\", \"xref\": \"x1\", \"yref\": \"y1\", \"font\": {\"color\": \"#000000\"}, \"showarrow\": false}, {\"text\": \"14\", \"x\": 4, \"y\": \"Landry2016\", \"xref\": \"x1\", \"yref\": \"y1\", \"font\": {\"color\": \"#000000\"}, \"showarrow\": false}, {\"text\": \"14\", \"x\": 5, \"y\": \"Landry2016\", \"xref\": \"x1\", \"yref\": \"y1\", \"font\": {\"color\": \"#000000\"}, \"showarrow\": false}, {\"text\": \"0\", \"x\": 6, \"y\": \"Landry2016\", \"xref\": \"x1\", \"yref\": \"y1\", \"font\": {\"color\": \"#000000\"}, \"showarrow\": false}, {\"text\": \"11\", \"x\": 7, \"y\": \"Landry2016\", \"xref\": \"x1\", \"yref\": \"y1\", \"font\": {\"color\": \"#000000\"}, \"showarrow\": false}, {\"text\": \"13\", \"x\": 8, \"y\": \"Landry2016\", \"xref\": \"x1\", \"yref\": \"y1\", \"font\": {\"color\": \"#000000\"}, \"showarrow\": false}, {\"text\": \"13\", \"x\": 9, \"y\": \"Landry2016\", \"xref\": \"x1\", \"yref\": \"y1\", \"font\": {\"color\": \"#000000\"}, \"showarrow\": false}, {\"text\": \"12\", \"x\": 10, \"y\": \"Landry2016\", \"xref\": \"x1\", \"yref\": \"y1\", \"font\": {\"color\": \"#000000\"}, \"showarrow\": false}, {\"text\": \"0\", \"x\": 11, \"y\": \"Landry2016\", \"xref\": \"x1\", \"yref\": \"y1\", \"font\": {\"color\": \"#000000\"}, \"showarrow\": false}, {\"text\": \"0\", \"x\": 12, \"y\": \"Landry2016\", \"xref\": \"x1\", \"yref\": \"y1\", \"font\": {\"color\": \"#000000\"}, \"showarrow\": false}, {\"text\": \"11\", \"x\": 13, \"y\": \"Landry2016\", \"xref\": \"x1\", \"yref\": \"y1\", \"font\": {\"color\": \"#000000\"}, \"showarrow\": false}, {\"text\": \"0\", \"x\": 14, \"y\": \"Landry2016\", \"xref\": \"x1\", \"yref\": \"y1\", \"font\": {\"color\": \"#000000\"}, \"showarrow\": false}, {\"text\": \"14\", \"x\": 15, \"y\": \"Landry2016\", \"xref\": \"x1\", \"yref\": \"y1\", \"font\": {\"color\": \"#000000\"}, \"showarrow\": false}, {\"text\": \"11\", \"x\": 0, \"y\": \"Landry2015_2\", \"xref\": \"x1\", \"yref\": \"y1\", \"font\": {\"color\": \"#000000\"}, \"showarrow\": false}, {\"text\": \"0\", \"x\": 1, \"y\": \"Landry2015_2\", \"xref\": \"x1\", \"yref\": \"y1\", \"font\": {\"color\": \"#000000\"}, \"showarrow\": false}, {\"text\": \"11\", \"x\": 2, \"y\": \"Landry2015_2\", \"xref\": \"x1\", \"yref\": \"y1\", \"font\": {\"color\": \"#000000\"}, \"showarrow\": false}, {\"text\": \"11\", \"x\": 3, \"y\": \"Landry2015_2\", \"xref\": \"x1\", \"yref\": \"y1\", \"font\": {\"color\": \"#000000\"}, \"showarrow\": false}, {\"text\": \"11\", \"x\": 4, \"y\": \"Landry2015_2\", \"xref\": \"x1\", \"yref\": \"y1\", \"font\": {\"color\": \"#000000\"}, \"showarrow\": false}, {\"text\": \"11\", \"x\": 5, \"y\": \"Landry2015_2\", \"xref\": \"x1\", \"yref\": \"y1\", \"font\": {\"color\": \"#000000\"}, \"showarrow\": false}, {\"text\": \"0\", \"x\": 6, \"y\": \"Landry2015_2\", \"xref\": \"x1\", \"yref\": \"y1\", \"font\": {\"color\": \"#000000\"}, \"showarrow\": false}, {\"text\": \"0\", \"x\": 7, \"y\": \"Landry2015_2\", \"xref\": \"x1\", \"yref\": \"y1\", \"font\": {\"color\": \"#000000\"}, \"showarrow\": false}, {\"text\": \"0\", \"x\": 8, \"y\": \"Landry2015_2\", \"xref\": \"x1\", \"yref\": \"y1\", \"font\": {\"color\": \"#000000\"}, \"showarrow\": false}, {\"text\": \"0\", \"x\": 9, \"y\": \"Landry2015_2\", \"xref\": \"x1\", \"yref\": \"y1\", \"font\": {\"color\": \"#000000\"}, \"showarrow\": false}, {\"text\": \"0\", \"x\": 10, \"y\": \"Landry2015_2\", \"xref\": \"x1\", \"yref\": \"y1\", \"font\": {\"color\": \"#000000\"}, \"showarrow\": false}, {\"text\": \"0\", \"x\": 11, \"y\": \"Landry2015_2\", \"xref\": \"x1\", \"yref\": \"y1\", \"font\": {\"color\": \"#000000\"}, \"showarrow\": false}, {\"text\": \"0\", \"x\": 12, \"y\": \"Landry2015_2\", \"xref\": \"x1\", \"yref\": \"y1\", \"font\": {\"color\": \"#000000\"}, \"showarrow\": false}, {\"text\": \"0\", \"x\": 13, \"y\": \"Landry2015_2\", \"xref\": \"x1\", \"yref\": \"y1\", \"font\": {\"color\": \"#000000\"}, \"showarrow\": false}, {\"text\": \"11\", \"x\": 14, \"y\": \"Landry2015_2\", \"xref\": \"x1\", \"yref\": \"y1\", \"font\": {\"color\": \"#000000\"}, \"showarrow\": false}, {\"text\": \"0\", \"x\": 15, \"y\": \"Landry2015_2\", \"xref\": \"x1\", \"yref\": \"y1\", \"font\": {\"color\": \"#000000\"}, \"showarrow\": false}, {\"text\": \"14\", \"x\": 0, \"y\": \"Landry2015_1\", \"xref\": \"x1\", \"yref\": \"y1\", \"font\": {\"color\": \"#000000\"}, \"showarrow\": false}, {\"text\": \"0\", \"x\": 1, \"y\": \"Landry2015_1\", \"xref\": \"x1\", \"yref\": \"y1\", \"font\": {\"color\": \"#000000\"}, \"showarrow\": false}, {\"text\": \"14\", \"x\": 2, \"y\": \"Landry2015_1\", \"xref\": \"x1\", \"yref\": \"y1\", \"font\": {\"color\": \"#000000\"}, \"showarrow\": false}, {\"text\": \"14\", \"x\": 3, \"y\": \"Landry2015_1\", \"xref\": \"x1\", \"yref\": \"y1\", \"font\": {\"color\": \"#000000\"}, \"showarrow\": false}, {\"text\": \"14\", \"x\": 4, \"y\": \"Landry2015_1\", \"xref\": \"x1\", \"yref\": \"y1\", \"font\": {\"color\": \"#000000\"}, \"showarrow\": false}, {\"text\": \"14\", \"x\": 5, \"y\": \"Landry2015_1\", \"xref\": \"x1\", \"yref\": \"y1\", \"font\": {\"color\": \"#000000\"}, \"showarrow\": false}, {\"text\": \"0\", \"x\": 6, \"y\": \"Landry2015_1\", \"xref\": \"x1\", \"yref\": \"y1\", \"font\": {\"color\": \"#000000\"}, \"showarrow\": false}, {\"text\": \"0\", \"x\": 7, \"y\": \"Landry2015_1\", \"xref\": \"x1\", \"yref\": \"y1\", \"font\": {\"color\": \"#000000\"}, \"showarrow\": false}, {\"text\": \"14\", \"x\": 8, \"y\": \"Landry2015_1\", \"xref\": \"x1\", \"yref\": \"y1\", \"font\": {\"color\": \"#000000\"}, \"showarrow\": false}, {\"text\": \"14\", \"x\": 9, \"y\": \"Landry2015_1\", \"xref\": \"x1\", \"yref\": \"y1\", \"font\": {\"color\": \"#000000\"}, \"showarrow\": false}, {\"text\": \"14\", \"x\": 10, \"y\": \"Landry2015_1\", \"xref\": \"x1\", \"yref\": \"y1\", \"font\": {\"color\": \"#000000\"}, \"showarrow\": false}, {\"text\": \"0\", \"x\": 11, \"y\": \"Landry2015_1\", \"xref\": \"x1\", \"yref\": \"y1\", \"font\": {\"color\": \"#000000\"}, \"showarrow\": false}, {\"text\": \"0\", \"x\": 12, \"y\": \"Landry2015_1\", \"xref\": \"x1\", \"yref\": \"y1\", \"font\": {\"color\": \"#000000\"}, \"showarrow\": false}, {\"text\": \"0\", \"x\": 13, \"y\": \"Landry2015_1\", \"xref\": \"x1\", \"yref\": \"y1\", \"font\": {\"color\": \"#000000\"}, \"showarrow\": false}, {\"text\": \"14\", \"x\": 14, \"y\": \"Landry2015_1\", \"xref\": \"x1\", \"yref\": \"y1\", \"font\": {\"color\": \"#000000\"}, \"showarrow\": false}, {\"text\": \"0\", \"x\": 15, \"y\": \"Landry2015_1\", \"xref\": \"x1\", \"yref\": \"y1\", \"font\": {\"color\": \"#000000\"}, \"showarrow\": false}, {\"text\": \"0\", \"x\": 0, \"y\": \"Violon\", \"xref\": \"x1\", \"yref\": \"y1\", \"font\": {\"color\": \"#000000\"}, \"showarrow\": false}, {\"text\": \"0\", \"x\": 1, \"y\": \"Violon\", \"xref\": \"x1\", \"yref\": \"y1\", \"font\": {\"color\": \"#000000\"}, \"showarrow\": false}, {\"text\": \"9\", \"x\": 2, \"y\": \"Violon\", \"xref\": \"x1\", \"yref\": \"y1\", \"font\": {\"color\": \"#000000\"}, \"showarrow\": false}, {\"text\": \"9\", \"x\": 3, \"y\": \"Violon\", \"xref\": \"x1\", \"yref\": \"y1\", \"font\": {\"color\": \"#000000\"}, \"showarrow\": false}, {\"text\": \"9\", \"x\": 4, \"y\": \"Violon\", \"xref\": \"x1\", \"yref\": \"y1\", \"font\": {\"color\": \"#000000\"}, \"showarrow\": false}, {\"text\": \"9\", \"x\": 5, \"y\": \"Violon\", \"xref\": \"x1\", \"yref\": \"y1\", \"font\": {\"color\": \"#000000\"}, \"showarrow\": false}, {\"text\": \"0\", \"x\": 6, \"y\": \"Violon\", \"xref\": \"x1\", \"yref\": \"y1\", \"font\": {\"color\": \"#000000\"}, \"showarrow\": false}, {\"text\": \"0\", \"x\": 7, \"y\": \"Violon\", \"xref\": \"x1\", \"yref\": \"y1\", \"font\": {\"color\": \"#000000\"}, \"showarrow\": false}, {\"text\": \"8\", \"x\": 8, \"y\": \"Violon\", \"xref\": \"x1\", \"yref\": \"y1\", \"font\": {\"color\": \"#000000\"}, \"showarrow\": false}, {\"text\": \"8\", \"x\": 9, \"y\": \"Violon\", \"xref\": \"x1\", \"yref\": \"y1\", \"font\": {\"color\": \"#000000\"}, \"showarrow\": false}, {\"text\": \"8\", \"x\": 10, \"y\": \"Violon\", \"xref\": \"x1\", \"yref\": \"y1\", \"font\": {\"color\": \"#000000\"}, \"showarrow\": false}, {\"text\": \"0\", \"x\": 11, \"y\": \"Violon\", \"xref\": \"x1\", \"yref\": \"y1\", \"font\": {\"color\": \"#000000\"}, \"showarrow\": false}, {\"text\": \"0\", \"x\": 12, \"y\": \"Violon\", \"xref\": \"x1\", \"yref\": \"y1\", \"font\": {\"color\": \"#000000\"}, \"showarrow\": false}, {\"text\": \"0\", \"x\": 13, \"y\": \"Violon\", \"xref\": \"x1\", \"yref\": \"y1\", \"font\": {\"color\": \"#000000\"}, \"showarrow\": false}, {\"text\": \"0\", \"x\": 14, \"y\": \"Violon\", \"xref\": \"x1\", \"yref\": \"y1\", \"font\": {\"color\": \"#000000\"}, \"showarrow\": false}, {\"text\": \"0\", \"x\": 15, \"y\": \"Violon\", \"xref\": \"x1\", \"yref\": \"y1\", \"font\": {\"color\": \"#000000\"}, \"showarrow\": false}, {\"text\": \"22\", \"x\": 0, \"y\": \"Yoann_2015\", \"xref\": \"x1\", \"yref\": \"y1\", \"font\": {\"color\": \"#000000\"}, \"showarrow\": false}, {\"text\": \"22\", \"x\": 1, \"y\": \"Yoann_2015\", \"xref\": \"x1\", \"yref\": \"y1\", \"font\": {\"color\": \"#000000\"}, \"showarrow\": false}, {\"text\": \"22\", \"x\": 2, \"y\": \"Yoann_2015\", \"xref\": \"x1\", \"yref\": \"y1\", \"font\": {\"color\": \"#000000\"}, \"showarrow\": false}, {\"text\": \"22\", \"x\": 3, \"y\": \"Yoann_2015\", \"xref\": \"x1\", \"yref\": \"y1\", \"font\": {\"color\": \"#000000\"}, \"showarrow\": false}, {\"text\": \"22\", \"x\": 4, \"y\": \"Yoann_2015\", \"xref\": \"x1\", \"yref\": \"y1\", \"font\": {\"color\": \"#000000\"}, \"showarrow\": false}, {\"text\": \"22\", \"x\": 5, \"y\": \"Yoann_2015\", \"xref\": \"x1\", \"yref\": \"y1\", \"font\": {\"color\": \"#000000\"}, \"showarrow\": false}, {\"text\": \"22\", \"x\": 6, \"y\": \"Yoann_2015\", \"xref\": \"x1\", \"yref\": \"y1\", \"font\": {\"color\": \"#000000\"}, \"showarrow\": false}, {\"text\": \"22\", \"x\": 7, \"y\": \"Yoann_2015\", \"xref\": \"x1\", \"yref\": \"y1\", \"font\": {\"color\": \"#000000\"}, \"showarrow\": false}, {\"text\": \"22\", \"x\": 8, \"y\": \"Yoann_2015\", \"xref\": \"x1\", \"yref\": \"y1\", \"font\": {\"color\": \"#000000\"}, \"showarrow\": false}, {\"text\": \"22\", \"x\": 9, \"y\": \"Yoann_2015\", \"xref\": \"x1\", \"yref\": \"y1\", \"font\": {\"color\": \"#000000\"}, \"showarrow\": false}, {\"text\": \"22\", \"x\": 10, \"y\": \"Yoann_2015\", \"xref\": \"x1\", \"yref\": \"y1\", \"font\": {\"color\": \"#000000\"}, \"showarrow\": false}, {\"text\": \"22\", \"x\": 11, \"y\": \"Yoann_2015\", \"xref\": \"x1\", \"yref\": \"y1\", \"font\": {\"color\": \"#000000\"}, \"showarrow\": false}, {\"text\": \"22\", \"x\": 12, \"y\": \"Yoann_2015\", \"xref\": \"x1\", \"yref\": \"y1\", \"font\": {\"color\": \"#000000\"}, \"showarrow\": false}, {\"text\": \"22\", \"x\": 13, \"y\": \"Yoann_2015\", \"xref\": \"x1\", \"yref\": \"y1\", \"font\": {\"color\": \"#000000\"}, \"showarrow\": false}, {\"text\": \"22\", \"x\": 14, \"y\": \"Yoann_2015\", \"xref\": \"x1\", \"yref\": \"y1\", \"font\": {\"color\": \"#000000\"}, \"showarrow\": false}, {\"text\": \"0\", \"x\": 15, \"y\": \"Yoann_2015\", \"xref\": \"x1\", \"yref\": \"y1\", \"font\": {\"color\": \"#000000\"}, \"showarrow\": false}, {\"text\": \"21\", \"x\": 0, \"y\": \"Landry2013\", \"xref\": \"x1\", \"yref\": \"y1\", \"font\": {\"color\": \"#000000\"}, \"showarrow\": false}, {\"text\": \"21\", \"x\": 1, \"y\": \"Landry2013\", \"xref\": \"x1\", \"yref\": \"y1\", \"font\": {\"color\": \"#000000\"}, \"showarrow\": false}, {\"text\": \"21\", \"x\": 2, \"y\": \"Landry2013\", \"xref\": \"x1\", \"yref\": \"y1\", \"font\": {\"color\": \"#000000\"}, \"showarrow\": false}, {\"text\": \"21\", \"x\": 3, \"y\": \"Landry2013\", \"xref\": \"x1\", \"yref\": \"y1\", \"font\": {\"color\": \"#000000\"}, \"showarrow\": false}, {\"text\": \"21\", \"x\": 4, \"y\": \"Landry2013\", \"xref\": \"x1\", \"yref\": \"y1\", \"font\": {\"color\": \"#000000\"}, \"showarrow\": false}, {\"text\": \"21\", \"x\": 5, \"y\": \"Landry2013\", \"xref\": \"x1\", \"yref\": \"y1\", \"font\": {\"color\": \"#000000\"}, \"showarrow\": false}, {\"text\": \"21\", \"x\": 6, \"y\": \"Landry2013\", \"xref\": \"x1\", \"yref\": \"y1\", \"font\": {\"color\": \"#000000\"}, \"showarrow\": false}, {\"text\": \"21\", \"x\": 7, \"y\": \"Landry2013\", \"xref\": \"x1\", \"yref\": \"y1\", \"font\": {\"color\": \"#000000\"}, \"showarrow\": false}, {\"text\": \"0\", \"x\": 8, \"y\": \"Landry2013\", \"xref\": \"x1\", \"yref\": \"y1\", \"font\": {\"color\": \"#000000\"}, \"showarrow\": false}, {\"text\": \"0\", \"x\": 9, \"y\": \"Landry2013\", \"xref\": \"x1\", \"yref\": \"y1\", \"font\": {\"color\": \"#000000\"}, \"showarrow\": false}, {\"text\": \"0\", \"x\": 10, \"y\": \"Landry2013\", \"xref\": \"x1\", \"yref\": \"y1\", \"font\": {\"color\": \"#000000\"}, \"showarrow\": false}, {\"text\": \"0\", \"x\": 11, \"y\": \"Landry2013\", \"xref\": \"x1\", \"yref\": \"y1\", \"font\": {\"color\": \"#000000\"}, \"showarrow\": false}, {\"text\": \"0\", \"x\": 12, \"y\": \"Landry2013\", \"xref\": \"x1\", \"yref\": \"y1\", \"font\": {\"color\": \"#000000\"}, \"showarrow\": false}, {\"text\": \"0\", \"x\": 13, \"y\": \"Landry2013\", \"xref\": \"x1\", \"yref\": \"y1\", \"font\": {\"color\": \"#000000\"}, \"showarrow\": false}, {\"text\": \"21\", \"x\": 14, \"y\": \"Landry2013\", \"xref\": \"x1\", \"yref\": \"y1\", \"font\": {\"color\": \"#000000\"}, \"showarrow\": false}, {\"text\": \"0\", \"x\": 15, \"y\": \"Landry2013\", \"xref\": \"x1\", \"yref\": \"y1\", \"font\": {\"color\": \"#000000\"}, \"showarrow\": false}, {\"text\": \"18\", \"x\": 0, \"y\": \"Landry2012\", \"xref\": \"x1\", \"yref\": \"y1\", \"font\": {\"color\": \"#000000\"}, \"showarrow\": false}, {\"text\": \"18\", \"x\": 1, \"y\": \"Landry2012\", \"xref\": \"x1\", \"yref\": \"y1\", \"font\": {\"color\": \"#000000\"}, \"showarrow\": false}, {\"text\": \"18\", \"x\": 2, \"y\": \"Landry2012\", \"xref\": \"x1\", \"yref\": \"y1\", \"font\": {\"color\": \"#000000\"}, \"showarrow\": false}, {\"text\": \"18\", \"x\": 3, \"y\": \"Landry2012\", \"xref\": \"x1\", \"yref\": \"y1\", \"font\": {\"color\": \"#000000\"}, \"showarrow\": false}, {\"text\": \"18\", \"x\": 4, \"y\": \"Landry2012\", \"xref\": \"x1\", \"yref\": \"y1\", \"font\": {\"color\": \"#000000\"}, \"showarrow\": false}, {\"text\": \"18\", \"x\": 5, \"y\": \"Landry2012\", \"xref\": \"x1\", \"yref\": \"y1\", \"font\": {\"color\": \"#000000\"}, \"showarrow\": false}, {\"text\": \"18\", \"x\": 6, \"y\": \"Landry2012\", \"xref\": \"x1\", \"yref\": \"y1\", \"font\": {\"color\": \"#000000\"}, \"showarrow\": false}, {\"text\": \"18\", \"x\": 7, \"y\": \"Landry2012\", \"xref\": \"x1\", \"yref\": \"y1\", \"font\": {\"color\": \"#000000\"}, \"showarrow\": false}, {\"text\": \"0\", \"x\": 8, \"y\": \"Landry2012\", \"xref\": \"x1\", \"yref\": \"y1\", \"font\": {\"color\": \"#000000\"}, \"showarrow\": false}, {\"text\": \"0\", \"x\": 9, \"y\": \"Landry2012\", \"xref\": \"x1\", \"yref\": \"y1\", \"font\": {\"color\": \"#000000\"}, \"showarrow\": false}, {\"text\": \"0\", \"x\": 10, \"y\": \"Landry2012\", \"xref\": \"x1\", \"yref\": \"y1\", \"font\": {\"color\": \"#000000\"}, \"showarrow\": false}, {\"text\": \"0\", \"x\": 11, \"y\": \"Landry2012\", \"xref\": \"x1\", \"yref\": \"y1\", \"font\": {\"color\": \"#000000\"}, \"showarrow\": false}, {\"text\": \"0\", \"x\": 12, \"y\": \"Landry2012\", \"xref\": \"x1\", \"yref\": \"y1\", \"font\": {\"color\": \"#000000\"}, \"showarrow\": false}, {\"text\": \"0\", \"x\": 13, \"y\": \"Landry2012\", \"xref\": \"x1\", \"yref\": \"y1\", \"font\": {\"color\": \"#000000\"}, \"showarrow\": false}, {\"text\": \"0\", \"x\": 14, \"y\": \"Landry2012\", \"xref\": \"x1\", \"yref\": \"y1\", \"font\": {\"color\": \"#000000\"}, \"showarrow\": false}, {\"text\": \"0\", \"x\": 15, \"y\": \"Landry2012\", \"xref\": \"x1\", \"yref\": \"y1\", \"font\": {\"color\": \"#000000\"}, \"showarrow\": false}, {\"text\": \"16\", \"x\": 0, \"y\": \"Tennis\", \"xref\": \"x1\", \"yref\": \"y1\", \"font\": {\"color\": \"#000000\"}, \"showarrow\": false}, {\"text\": \"0\", \"x\": 1, \"y\": \"Tennis\", \"xref\": \"x1\", \"yref\": \"y1\", \"font\": {\"color\": \"#000000\"}, \"showarrow\": false}, {\"text\": \"16\", \"x\": 2, \"y\": \"Tennis\", \"xref\": \"x1\", \"yref\": \"y1\", \"font\": {\"color\": \"#000000\"}, \"showarrow\": false}, {\"text\": \"16\", \"x\": 3, \"y\": \"Tennis\", \"xref\": \"x1\", \"yref\": \"y1\", \"font\": {\"color\": \"#000000\"}, \"showarrow\": false}, {\"text\": \"16\", \"x\": 4, \"y\": \"Tennis\", \"xref\": \"x1\", \"yref\": \"y1\", \"font\": {\"color\": \"#000000\"}, \"showarrow\": false}, {\"text\": \"16\", \"x\": 5, \"y\": \"Tennis\", \"xref\": \"x1\", \"yref\": \"y1\", \"font\": {\"color\": \"#000000\"}, \"showarrow\": false}, {\"text\": \"16\", \"x\": 6, \"y\": \"Tennis\", \"xref\": \"x1\", \"yref\": \"y1\", \"font\": {\"color\": \"#000000\"}, \"showarrow\": false}, {\"text\": \"0\", \"x\": 7, \"y\": \"Tennis\", \"xref\": \"x1\", \"yref\": \"y1\", \"font\": {\"color\": \"#000000\"}, \"showarrow\": false}, {\"text\": \"14\", \"x\": 8, \"y\": \"Tennis\", \"xref\": \"x1\", \"yref\": \"y1\", \"font\": {\"color\": \"#000000\"}, \"showarrow\": false}, {\"text\": \"14\", \"x\": 9, \"y\": \"Tennis\", \"xref\": \"x1\", \"yref\": \"y1\", \"font\": {\"color\": \"#000000\"}, \"showarrow\": false}, {\"text\": \"14\", \"x\": 10, \"y\": \"Tennis\", \"xref\": \"x1\", \"yref\": \"y1\", \"font\": {\"color\": \"#000000\"}, \"showarrow\": false}, {\"text\": \"0\", \"x\": 11, \"y\": \"Tennis\", \"xref\": \"x1\", \"yref\": \"y1\", \"font\": {\"color\": \"#000000\"}, \"showarrow\": false}, {\"text\": \"0\", \"x\": 12, \"y\": \"Tennis\", \"xref\": \"x1\", \"yref\": \"y1\", \"font\": {\"color\": \"#000000\"}, \"showarrow\": false}, {\"text\": \"16\", \"x\": 13, \"y\": \"Tennis\", \"xref\": \"x1\", \"yref\": \"y1\", \"font\": {\"color\": \"#000000\"}, \"showarrow\": false}, {\"text\": \"0\", \"x\": 14, \"y\": \"Tennis\", \"xref\": \"x1\", \"yref\": \"y1\", \"font\": {\"color\": \"#000000\"}, \"showarrow\": false}, {\"text\": \"16\", \"x\": 15, \"y\": \"Tennis\", \"xref\": \"x1\", \"yref\": \"y1\", \"font\": {\"color\": \"#000000\"}, \"showarrow\": false}, {\"text\": \"16\", \"x\": 0, \"y\": \"Patrick_2013\", \"xref\": \"x1\", \"yref\": \"y1\", \"font\": {\"color\": \"#000000\"}, \"showarrow\": false}, {\"text\": \"16\", \"x\": 1, \"y\": \"Patrick_2013\", \"xref\": \"x1\", \"yref\": \"y1\", \"font\": {\"color\": \"#000000\"}, \"showarrow\": false}, {\"text\": \"16\", \"x\": 2, \"y\": \"Patrick_2013\", \"xref\": \"x1\", \"yref\": \"y1\", \"font\": {\"color\": \"#000000\"}, \"showarrow\": false}, {\"text\": \"16\", \"x\": 3, \"y\": \"Patrick_2013\", \"xref\": \"x1\", \"yref\": \"y1\", \"font\": {\"color\": \"#000000\"}, \"showarrow\": false}, {\"text\": \"16\", \"x\": 4, \"y\": \"Patrick_2013\", \"xref\": \"x1\", \"yref\": \"y1\", \"font\": {\"color\": \"#000000\"}, \"showarrow\": false}, {\"text\": \"16\", \"x\": 5, \"y\": \"Patrick_2013\", \"xref\": \"x1\", \"yref\": \"y1\", \"font\": {\"color\": \"#000000\"}, \"showarrow\": false}, {\"text\": \"16\", \"x\": 6, \"y\": \"Patrick_2013\", \"xref\": \"x1\", \"yref\": \"y1\", \"font\": {\"color\": \"#000000\"}, \"showarrow\": false}, {\"text\": \"16\", \"x\": 7, \"y\": \"Patrick_2013\", \"xref\": \"x1\", \"yref\": \"y1\", \"font\": {\"color\": \"#000000\"}, \"showarrow\": false}, {\"text\": \"16\", \"x\": 8, \"y\": \"Patrick_2013\", \"xref\": \"x1\", \"yref\": \"y1\", \"font\": {\"color\": \"#000000\"}, \"showarrow\": false}, {\"text\": \"16\", \"x\": 9, \"y\": \"Patrick_2013\", \"xref\": \"x1\", \"yref\": \"y1\", \"font\": {\"color\": \"#000000\"}, \"showarrow\": false}, {\"text\": \"16\", \"x\": 10, \"y\": \"Patrick_2013\", \"xref\": \"x1\", \"yref\": \"y1\", \"font\": {\"color\": \"#000000\"}, \"showarrow\": false}, {\"text\": \"16\", \"x\": 11, \"y\": \"Patrick_2013\", \"xref\": \"x1\", \"yref\": \"y1\", \"font\": {\"color\": \"#000000\"}, \"showarrow\": false}, {\"text\": \"16\", \"x\": 12, \"y\": \"Patrick_2013\", \"xref\": \"x1\", \"yref\": \"y1\", \"font\": {\"color\": \"#000000\"}, \"showarrow\": false}, {\"text\": \"16\", \"x\": 13, \"y\": \"Patrick_2013\", \"xref\": \"x1\", \"yref\": \"y1\", \"font\": {\"color\": \"#000000\"}, \"showarrow\": false}, {\"text\": \"16\", \"x\": 14, \"y\": \"Patrick_2013\", \"xref\": \"x1\", \"yref\": \"y1\", \"font\": {\"color\": \"#000000\"}, \"showarrow\": false}, {\"text\": \"0\", \"x\": 15, \"y\": \"Patrick_2013\", \"xref\": \"x1\", \"yref\": \"y1\", \"font\": {\"color\": \"#000000\"}, \"showarrow\": false}, {\"text\": \"10\", \"x\": 0, \"y\": \"Sylvain_2015\", \"xref\": \"x1\", \"yref\": \"y1\", \"font\": {\"color\": \"#000000\"}, \"showarrow\": false}, {\"text\": \"10\", \"x\": 1, \"y\": \"Sylvain_2015\", \"xref\": \"x1\", \"yref\": \"y1\", \"font\": {\"color\": \"#000000\"}, \"showarrow\": false}, {\"text\": \"10\", \"x\": 2, \"y\": \"Sylvain_2015\", \"xref\": \"x1\", \"yref\": \"y1\", \"font\": {\"color\": \"#000000\"}, \"showarrow\": false}, {\"text\": \"10\", \"x\": 3, \"y\": \"Sylvain_2015\", \"xref\": \"x1\", \"yref\": \"y1\", \"font\": {\"color\": \"#000000\"}, \"showarrow\": false}, {\"text\": \"10\", \"x\": 4, \"y\": \"Sylvain_2015\", \"xref\": \"x1\", \"yref\": \"y1\", \"font\": {\"color\": \"#000000\"}, \"showarrow\": false}, {\"text\": \"10\", \"x\": 5, \"y\": \"Sylvain_2015\", \"xref\": \"x1\", \"yref\": \"y1\", \"font\": {\"color\": \"#000000\"}, \"showarrow\": false}, {\"text\": \"10\", \"x\": 6, \"y\": \"Sylvain_2015\", \"xref\": \"x1\", \"yref\": \"y1\", \"font\": {\"color\": \"#000000\"}, \"showarrow\": false}, {\"text\": \"10\", \"x\": 7, \"y\": \"Sylvain_2015\", \"xref\": \"x1\", \"yref\": \"y1\", \"font\": {\"color\": \"#000000\"}, \"showarrow\": false}, {\"text\": \"10\", \"x\": 8, \"y\": \"Sylvain_2015\", \"xref\": \"x1\", \"yref\": \"y1\", \"font\": {\"color\": \"#000000\"}, \"showarrow\": false}, {\"text\": \"10\", \"x\": 9, \"y\": \"Sylvain_2015\", \"xref\": \"x1\", \"yref\": \"y1\", \"font\": {\"color\": \"#000000\"}, \"showarrow\": false}, {\"text\": \"10\", \"x\": 10, \"y\": \"Sylvain_2015\", \"xref\": \"x1\", \"yref\": \"y1\", \"font\": {\"color\": \"#000000\"}, \"showarrow\": false}, {\"text\": \"10\", \"x\": 11, \"y\": \"Sylvain_2015\", \"xref\": \"x1\", \"yref\": \"y1\", \"font\": {\"color\": \"#000000\"}, \"showarrow\": false}, {\"text\": \"10\", \"x\": 12, \"y\": \"Sylvain_2015\", \"xref\": \"x1\", \"yref\": \"y1\", \"font\": {\"color\": \"#000000\"}, \"showarrow\": false}, {\"text\": \"10\", \"x\": 13, \"y\": \"Sylvain_2015\", \"xref\": \"x1\", \"yref\": \"y1\", \"font\": {\"color\": \"#000000\"}, \"showarrow\": false}, {\"text\": \"10\", \"x\": 14, \"y\": \"Sylvain_2015\", \"xref\": \"x1\", \"yref\": \"y1\", \"font\": {\"color\": \"#000000\"}, \"showarrow\": false}, {\"text\": \"0\", \"x\": 15, \"y\": \"Sylvain_2015\", \"xref\": \"x1\", \"yref\": \"y1\", \"font\": {\"color\": \"#000000\"}, \"showarrow\": false}], \"xaxis\": {\"ticks\": \"\", \"dtick\": 1, \"side\": \"bottom\", \"gridcolor\": \"rgb(0, 0, 0)\", \"title\": \"Tests\"}, \"yaxis\": {\"ticks\": \"\", \"dtick\": 1, \"ticksuffix\": \"  \", \"title\": null, \"autorange\": \"reversed\"}, \"hovermode\": \"closest\", \"font\": {\"size\": 14}, \"title\": \"Tests by dataset\", \"margin\": {\"t\": 80, \"b\": 80, \"l\": 150, \"r\": 80, \"pad\": 0}}, {\"showLink\": true, \"linkText\": \"Export to plot.ly\"})});</script>"
      ]
     },
     "metadata": {},
     "output_type": "display_data"
    }
   ],
   "source": [
    "muscle_by_dataset = plot_count_by_dataset(\n",
    "    df_tidy,\n",
    "    values='muscle',\n",
    "    index='dataset',\n",
    "    columns='test',\n",
    "    ylabel=DATASET_NAMES,\n",
    "    xtitle='Tests',\n",
    "    title='Tests by dataset')\n",
    "py.iplot(muscle_by_dataset, filename='mvc/tests_by_dataset')"
   ]
  },
  {
   "cell_type": "markdown",
   "metadata": {},
   "source": [
    "## 4.3. Muscles and tests count"
   ]
  },
  {
   "cell_type": "code",
   "execution_count": 9,
   "metadata": {},
   "outputs": [],
   "source": [
    "def plot_count_bar(d, column, **kwargs):\n",
    "    count = np.array(d[column].value_counts(sort=False))\n",
    "    trace = go.Bar(\n",
    "        x=count,\n",
    "        y=kwargs.get('ylabel'),\n",
    "        marker=dict(color='grey'),\n",
    "        orientation='h')\n",
    "\n",
    "    layout = BASE_LAYOUT.copy()\n",
    "    layout.update(\n",
    "        dict(\n",
    "            title=kwargs.get('title'),\n",
    "            xaxis=dict(\n",
    "                title=kwargs.get('xtitle'), showline=True, linewidth=1.5),\n",
    "            yaxis=dict(\n",
    "                title=kwargs.get('ytitle'), showline=True, linewidth=1.5)))\n",
    "\n",
    "    # adjust y axis\n",
    "    layout['yaxis'].update(nticks=count.shape[0])\n",
    "    layout.update(margin=go.Margin(t=80, b=80, l=150, r=80, pad=0))\n",
    "    return dict(data=[trace], layout=layout)"
   ]
  },
  {
   "cell_type": "code",
   "execution_count": 10,
   "metadata": {},
   "outputs": [
    {
     "data": {
      "application/vnd.plotly.v1+json": {
       "data": [
        {
         "marker": {
          "color": "grey"
         },
         "orientation": "h",
         "type": "bar",
         "x": [
          1392,
          877,
          1464,
          1465,
          1465,
          1465,
          1053,
          1006,
          1027,
          1030,
          1019,
          544,
          544,
          849,
          925,
          331
         ],
         "y": null
        }
       ],
       "layout": {
        "font": {
         "size": 14
        },
        "hovermode": "closest",
        "margin": {
         "b": 80,
         "l": 150,
         "pad": 0,
         "r": 80,
         "t": 80
        },
        "title": "Tests count",
        "xaxis": {
         "linewidth": 1.5,
         "showline": true,
         "title": "n"
        },
        "yaxis": {
         "linewidth": 1.5,
         "nticks": 16,
         "showline": true,
         "title": "Tests"
        }
       }
      },
      "text/html": [
       "<div id=\"8ebaf71d-b508-4f3f-9a4b-82d365d05749\" style=\"height: 525px; width: 100%;\" class=\"plotly-graph-div\"></div><script type=\"text/javascript\">require([\"plotly\"], function(Plotly) { window.PLOTLYENV=window.PLOTLYENV || {};window.PLOTLYENV.BASE_URL=\"https://plot.ly\";Plotly.newPlot(\"8ebaf71d-b508-4f3f-9a4b-82d365d05749\", [{\"type\": \"bar\", \"x\": [1392, 877, 1464, 1465, 1465, 1465, 1053, 1006, 1027, 1030, 1019, 544, 544, 849, 925, 331], \"y\": null, \"marker\": {\"color\": \"grey\"}, \"orientation\": \"h\"}], {\"hovermode\": \"closest\", \"font\": {\"size\": 14}, \"title\": \"Tests count\", \"xaxis\": {\"title\": \"n\", \"showline\": true, \"linewidth\": 1.5}, \"yaxis\": {\"title\": \"Tests\", \"showline\": true, \"linewidth\": 1.5, \"nticks\": 16}, \"margin\": {\"t\": 80, \"b\": 80, \"l\": 150, \"r\": 80, \"pad\": 0}}, {\"showLink\": true, \"linkText\": \"Export to plot.ly\"})});</script>"
      ],
      "text/vnd.plotly.v1+html": [
       "<div id=\"8ebaf71d-b508-4f3f-9a4b-82d365d05749\" style=\"height: 525px; width: 100%;\" class=\"plotly-graph-div\"></div><script type=\"text/javascript\">require([\"plotly\"], function(Plotly) { window.PLOTLYENV=window.PLOTLYENV || {};window.PLOTLYENV.BASE_URL=\"https://plot.ly\";Plotly.newPlot(\"8ebaf71d-b508-4f3f-9a4b-82d365d05749\", [{\"type\": \"bar\", \"x\": [1392, 877, 1464, 1465, 1465, 1465, 1053, 1006, 1027, 1030, 1019, 544, 544, 849, 925, 331], \"y\": null, \"marker\": {\"color\": \"grey\"}, \"orientation\": \"h\"}], {\"hovermode\": \"closest\", \"font\": {\"size\": 14}, \"title\": \"Tests count\", \"xaxis\": {\"title\": \"n\", \"showline\": true, \"linewidth\": 1.5}, \"yaxis\": {\"title\": \"Tests\", \"showline\": true, \"linewidth\": 1.5, \"nticks\": 16}, \"margin\": {\"t\": 80, \"b\": 80, \"l\": 150, \"r\": 80, \"pad\": 0}}, {\"showLink\": true, \"linkText\": \"Export to plot.ly\"})});</script>"
      ]
     },
     "metadata": {},
     "output_type": "display_data"
    }
   ],
   "source": [
    "test_count_bar = plot_count_bar(\n",
    "    df_tidy, 'test', title='Tests count', xtitle='n', ytitle='Tests')\n",
    "py.iplot(test_count_bar, filename='mvc/test_count_bar')"
   ]
  },
  {
   "cell_type": "code",
   "execution_count": 11,
   "metadata": {},
   "outputs": [
    {
     "data": {
      "application/vnd.plotly.v1+json": {
       "data": [
        {
         "marker": {
          "color": "grey"
         },
         "orientation": "h",
         "type": "bar",
         "x": [
          1569,
          1053,
          1633,
          1153,
          1633,
          1633,
          1352,
          1425,
          1352,
          1219,
          1219,
          1215
         ],
         "y": [
          "upper trapezius",
          "middle trapezius",
          "lower trapezius",
          "anterior deltoid",
          "middle deltoid",
          "posterior deltoid",
          "pectoralis major",
          "serratus anterior",
          "latissimus dorsi",
          "supraspinatus",
          "infraspinatus",
          "subscapularis"
         ]
        }
       ],
       "layout": {
        "font": {
         "size": 14
        },
        "hovermode": "closest",
        "margin": {
         "b": 80,
         "l": 150,
         "pad": 0,
         "r": 80,
         "t": 80
        },
        "title": "Muscles count",
        "xaxis": {
         "linewidth": 1.5,
         "showline": true,
         "title": "n"
        },
        "yaxis": {
         "linewidth": 1.5,
         "nticks": 12,
         "showline": true,
         "title": null
        }
       }
      },
      "text/html": [
       "<div id=\"6348f60e-f6d2-4047-84ac-1118ed362c6d\" style=\"height: 525px; width: 100%;\" class=\"plotly-graph-div\"></div><script type=\"text/javascript\">require([\"plotly\"], function(Plotly) { window.PLOTLYENV=window.PLOTLYENV || {};window.PLOTLYENV.BASE_URL=\"https://plot.ly\";Plotly.newPlot(\"6348f60e-f6d2-4047-84ac-1118ed362c6d\", [{\"type\": \"bar\", \"x\": [1569, 1053, 1633, 1153, 1633, 1633, 1352, 1425, 1352, 1219, 1219, 1215], \"y\": [\"upper trapezius\", \"middle trapezius\", \"lower trapezius\", \"anterior deltoid\", \"middle deltoid\", \"posterior deltoid\", \"pectoralis major\", \"serratus anterior\", \"latissimus dorsi\", \"supraspinatus\", \"infraspinatus\", \"subscapularis\"], \"marker\": {\"color\": \"grey\"}, \"orientation\": \"h\"}], {\"hovermode\": \"closest\", \"font\": {\"size\": 14}, \"title\": \"Muscles count\", \"xaxis\": {\"title\": \"n\", \"showline\": true, \"linewidth\": 1.5}, \"yaxis\": {\"title\": null, \"showline\": true, \"linewidth\": 1.5, \"nticks\": 12}, \"margin\": {\"t\": 80, \"b\": 80, \"l\": 150, \"r\": 80, \"pad\": 0}}, {\"showLink\": true, \"linkText\": \"Export to plot.ly\"})});</script>"
      ],
      "text/vnd.plotly.v1+html": [
       "<div id=\"6348f60e-f6d2-4047-84ac-1118ed362c6d\" style=\"height: 525px; width: 100%;\" class=\"plotly-graph-div\"></div><script type=\"text/javascript\">require([\"plotly\"], function(Plotly) { window.PLOTLYENV=window.PLOTLYENV || {};window.PLOTLYENV.BASE_URL=\"https://plot.ly\";Plotly.newPlot(\"6348f60e-f6d2-4047-84ac-1118ed362c6d\", [{\"type\": \"bar\", \"x\": [1569, 1053, 1633, 1153, 1633, 1633, 1352, 1425, 1352, 1219, 1219, 1215], \"y\": [\"upper trapezius\", \"middle trapezius\", \"lower trapezius\", \"anterior deltoid\", \"middle deltoid\", \"posterior deltoid\", \"pectoralis major\", \"serratus anterior\", \"latissimus dorsi\", \"supraspinatus\", \"infraspinatus\", \"subscapularis\"], \"marker\": {\"color\": \"grey\"}, \"orientation\": \"h\"}], {\"hovermode\": \"closest\", \"font\": {\"size\": 14}, \"title\": \"Muscles count\", \"xaxis\": {\"title\": \"n\", \"showline\": true, \"linewidth\": 1.5}, \"yaxis\": {\"title\": null, \"showline\": true, \"linewidth\": 1.5, \"nticks\": 12}, \"margin\": {\"t\": 80, \"b\": 80, \"l\": 150, \"r\": 80, \"pad\": 0}}, {\"showLink\": true, \"linkText\": \"Export to plot.ly\"})});</script>"
      ]
     },
     "metadata": {},
     "output_type": "display_data"
    }
   ],
   "source": [
    "muscle_count_bar = plot_count_bar(\n",
    "    df_tidy, 'muscle', ylabel=MUSCLES_NAMES, title='Muscles count', xtitle='n')\n",
    "py.iplot(muscle_count_bar, filename='mvc/muscle_count_bar')"
   ]
  },
  {
   "cell_type": "markdown",
   "metadata": {},
   "source": [
    "## 4.4. Max for each test (normalized by participant number)"
   ]
  },
  {
   "cell_type": "code",
   "execution_count": 12,
   "metadata": {},
   "outputs": [
    {
     "name": "stdout",
     "output_type": "stream",
     "text": [
      "project 'Landry2016' (15 participants)\n",
      "project 'Landry2015_2' (11 participants)\n",
      "project 'Landry2015_1' (14 participants)\n",
      "project 'Violon' (10 participants)\n",
      "project 'Yoann_2015' (22 participants)\n",
      "project 'Landry2013' (21 participants)\n",
      "project 'Landry2012' (18 participants)\n",
      "project 'Tennis' (16 participants)\n",
      "project 'Patrick_2013' (16 participants)\n",
      "project 'Sylvain_2015' (10 participants)\n",
      "\n",
      "\ttotal participants: 152\n"
     ]
    },
    {
     "name": "stderr",
     "output_type": "stream",
     "text": [
      "/home/romain/.local/share/virtualenvs/mvc-kMH3Oq29/lib/python3.6/site-packages/ipykernel_launcher.py:24: RuntimeWarning:\n",
      "\n",
      "All-NaN slice encountered\n",
      "\n"
     ]
    }
   ],
   "source": [
    "normalized, _ = load_data(\n",
    "    data_path=DATA_PATH, data_format=DATA_FORMAT, normalize=True)\n",
    "\n",
    "df_normalized = pd.DataFrame({\n",
    "    'participant': normalized['participants'],\n",
    "    'dataset': normalized['datasets'],\n",
    "    'muscle': normalized['muscles'],\n",
    "    'test': normalized['tests'],\n",
    "    'mvc': normalized['mvc']\n",
    "}).dropna()"
   ]
  },
  {
   "cell_type": "code",
   "execution_count": 13,
   "metadata": {},
   "outputs": [],
   "source": [
    "def plot_max_by_test(d, **kwargs):\n",
    "    maximum = d[d['mvc'] == 100].pivot_table(\n",
    "        values='muscle',\n",
    "        index='dataset',\n",
    "        columns='test',\n",
    "        aggfunc='count',\n",
    "        fill_value=0)\n",
    "    maximum = (maximum.div(maximum.sum(axis=1), axis=0) * 100).astype(int)\n",
    "\n",
    "    fig = ff.create_annotated_heatmap(\n",
    "        z=np.array(maximum),\n",
    "        x=kwargs.get('xlabel'),\n",
    "        y=kwargs.get('ylabel'),\n",
    "        showscale=True,\n",
    "        colorscale='YlGnBu',\n",
    "        colorbar=dict(title='Percentage', titleside='right'))\n",
    "\n",
    "    fig['layout'].update(BASE_LAYOUT)\n",
    "    fig['layout'].update(\n",
    "        dict(\n",
    "            title=kwargs.get('title'),\n",
    "            xaxis=dict(title=kwargs.get('xtitle'), side='bottom'),\n",
    "            yaxis=dict(title=kwargs.get('ytitle'), autorange='reversed'),\n",
    "            margin=go.Margin(t=80, b=80, l=150, r=80, pad=0)))\n",
    "    return fig"
   ]
  },
  {
   "cell_type": "code",
   "execution_count": 14,
   "metadata": {},
   "outputs": [
    {
     "data": {
      "application/vnd.plotly.v1+json": {
       "data": [
        {
         "colorbar": {
          "title": "Percentage",
          "titleside": "right"
         },
         "colorscale": "YlGnBu",
         "showscale": true,
         "type": "heatmap",
         "x": null,
         "y": [
          "Landry2016",
          "Landry2015_2",
          "Landry2015_1",
          "Violon",
          "Yoann_2015",
          "Landry2013",
          "Landry2012",
          "Tennis",
          "Patrick_2013",
          "Sylvain_2015"
         ],
         "z": [
          [
           11,
           0,
           23,
           6,
           14,
           11,
           0,
           5,
           4,
           2,
           5,
           0,
           0,
           5,
           0,
           9
          ],
          [
           17,
           0,
           19,
           11,
           22,
           17,
           0,
           0,
           0,
           0,
           0,
           0,
           0,
           0,
           12,
           0
          ],
          [
           20,
           0,
           24,
           12,
           9,
           13,
           0,
           0,
           3,
           5,
           6,
           0,
           0,
           0,
           3,
           0
          ],
          [
           0,
           0,
           28,
           6,
           8,
           28,
           0,
           0,
           5,
           8,
           13,
           0,
           0,
           0,
           0,
           0
          ],
          [
           4,
           13,
           23,
           1,
           6,
           10,
           0,
           4,
           1,
           2,
           3,
           6,
           0,
           5,
           14,
           0
          ],
          [
           4,
           12,
           21,
           8,
           7,
           9,
           6,
           9,
           0,
           0,
           0,
           0,
           0,
           0,
           19,
           0
          ],
          [
           6,
           16,
           12,
           16,
           8,
           21,
           4,
           12,
           0,
           0,
           0,
           0,
           0,
           0,
           0,
           0
          ],
          [
           8,
           0,
           17,
           18,
           5,
           10,
           6,
           0,
           3,
           3,
           8,
           0,
           0,
           10,
           0,
           8
          ],
          [
           7,
           10,
           18,
           5,
           9,
           6,
           5,
           6,
           2,
           1,
           5,
           4,
           1,
           5,
           9,
           0
          ],
          [
           12,
           10,
           14,
           6,
           1,
           12,
           2,
           6,
           3,
           3,
           8,
           9,
           2,
           2,
           6,
           0
          ]
         ]
        }
       ],
       "layout": {
        "annotations": [
         {
          "font": {
           "color": "#000000"
          },
          "showarrow": false,
          "text": "11",
          "x": 0,
          "xref": "x1",
          "y": "Landry2016",
          "yref": "y1"
         },
         {
          "font": {
           "color": "#000000"
          },
          "showarrow": false,
          "text": "0",
          "x": 1,
          "xref": "x1",
          "y": "Landry2016",
          "yref": "y1"
         },
         {
          "font": {
           "color": "#000000"
          },
          "showarrow": false,
          "text": "23",
          "x": 2,
          "xref": "x1",
          "y": "Landry2016",
          "yref": "y1"
         },
         {
          "font": {
           "color": "#000000"
          },
          "showarrow": false,
          "text": "6",
          "x": 3,
          "xref": "x1",
          "y": "Landry2016",
          "yref": "y1"
         },
         {
          "font": {
           "color": "#000000"
          },
          "showarrow": false,
          "text": "14",
          "x": 4,
          "xref": "x1",
          "y": "Landry2016",
          "yref": "y1"
         },
         {
          "font": {
           "color": "#000000"
          },
          "showarrow": false,
          "text": "11",
          "x": 5,
          "xref": "x1",
          "y": "Landry2016",
          "yref": "y1"
         },
         {
          "font": {
           "color": "#000000"
          },
          "showarrow": false,
          "text": "0",
          "x": 6,
          "xref": "x1",
          "y": "Landry2016",
          "yref": "y1"
         },
         {
          "font": {
           "color": "#000000"
          },
          "showarrow": false,
          "text": "5",
          "x": 7,
          "xref": "x1",
          "y": "Landry2016",
          "yref": "y1"
         },
         {
          "font": {
           "color": "#000000"
          },
          "showarrow": false,
          "text": "4",
          "x": 8,
          "xref": "x1",
          "y": "Landry2016",
          "yref": "y1"
         },
         {
          "font": {
           "color": "#000000"
          },
          "showarrow": false,
          "text": "2",
          "x": 9,
          "xref": "x1",
          "y": "Landry2016",
          "yref": "y1"
         },
         {
          "font": {
           "color": "#000000"
          },
          "showarrow": false,
          "text": "5",
          "x": 10,
          "xref": "x1",
          "y": "Landry2016",
          "yref": "y1"
         },
         {
          "font": {
           "color": "#000000"
          },
          "showarrow": false,
          "text": "0",
          "x": 11,
          "xref": "x1",
          "y": "Landry2016",
          "yref": "y1"
         },
         {
          "font": {
           "color": "#000000"
          },
          "showarrow": false,
          "text": "0",
          "x": 12,
          "xref": "x1",
          "y": "Landry2016",
          "yref": "y1"
         },
         {
          "font": {
           "color": "#000000"
          },
          "showarrow": false,
          "text": "5",
          "x": 13,
          "xref": "x1",
          "y": "Landry2016",
          "yref": "y1"
         },
         {
          "font": {
           "color": "#000000"
          },
          "showarrow": false,
          "text": "0",
          "x": 14,
          "xref": "x1",
          "y": "Landry2016",
          "yref": "y1"
         },
         {
          "font": {
           "color": "#000000"
          },
          "showarrow": false,
          "text": "9",
          "x": 15,
          "xref": "x1",
          "y": "Landry2016",
          "yref": "y1"
         },
         {
          "font": {
           "color": "#000000"
          },
          "showarrow": false,
          "text": "17",
          "x": 0,
          "xref": "x1",
          "y": "Landry2015_2",
          "yref": "y1"
         },
         {
          "font": {
           "color": "#000000"
          },
          "showarrow": false,
          "text": "0",
          "x": 1,
          "xref": "x1",
          "y": "Landry2015_2",
          "yref": "y1"
         },
         {
          "font": {
           "color": "#000000"
          },
          "showarrow": false,
          "text": "19",
          "x": 2,
          "xref": "x1",
          "y": "Landry2015_2",
          "yref": "y1"
         },
         {
          "font": {
           "color": "#000000"
          },
          "showarrow": false,
          "text": "11",
          "x": 3,
          "xref": "x1",
          "y": "Landry2015_2",
          "yref": "y1"
         },
         {
          "font": {
           "color": "#000000"
          },
          "showarrow": false,
          "text": "22",
          "x": 4,
          "xref": "x1",
          "y": "Landry2015_2",
          "yref": "y1"
         },
         {
          "font": {
           "color": "#000000"
          },
          "showarrow": false,
          "text": "17",
          "x": 5,
          "xref": "x1",
          "y": "Landry2015_2",
          "yref": "y1"
         },
         {
          "font": {
           "color": "#000000"
          },
          "showarrow": false,
          "text": "0",
          "x": 6,
          "xref": "x1",
          "y": "Landry2015_2",
          "yref": "y1"
         },
         {
          "font": {
           "color": "#000000"
          },
          "showarrow": false,
          "text": "0",
          "x": 7,
          "xref": "x1",
          "y": "Landry2015_2",
          "yref": "y1"
         },
         {
          "font": {
           "color": "#000000"
          },
          "showarrow": false,
          "text": "0",
          "x": 8,
          "xref": "x1",
          "y": "Landry2015_2",
          "yref": "y1"
         },
         {
          "font": {
           "color": "#000000"
          },
          "showarrow": false,
          "text": "0",
          "x": 9,
          "xref": "x1",
          "y": "Landry2015_2",
          "yref": "y1"
         },
         {
          "font": {
           "color": "#000000"
          },
          "showarrow": false,
          "text": "0",
          "x": 10,
          "xref": "x1",
          "y": "Landry2015_2",
          "yref": "y1"
         },
         {
          "font": {
           "color": "#000000"
          },
          "showarrow": false,
          "text": "0",
          "x": 11,
          "xref": "x1",
          "y": "Landry2015_2",
          "yref": "y1"
         },
         {
          "font": {
           "color": "#000000"
          },
          "showarrow": false,
          "text": "0",
          "x": 12,
          "xref": "x1",
          "y": "Landry2015_2",
          "yref": "y1"
         },
         {
          "font": {
           "color": "#000000"
          },
          "showarrow": false,
          "text": "0",
          "x": 13,
          "xref": "x1",
          "y": "Landry2015_2",
          "yref": "y1"
         },
         {
          "font": {
           "color": "#000000"
          },
          "showarrow": false,
          "text": "12",
          "x": 14,
          "xref": "x1",
          "y": "Landry2015_2",
          "yref": "y1"
         },
         {
          "font": {
           "color": "#000000"
          },
          "showarrow": false,
          "text": "0",
          "x": 15,
          "xref": "x1",
          "y": "Landry2015_2",
          "yref": "y1"
         },
         {
          "font": {
           "color": "#000000"
          },
          "showarrow": false,
          "text": "20",
          "x": 0,
          "xref": "x1",
          "y": "Landry2015_1",
          "yref": "y1"
         },
         {
          "font": {
           "color": "#000000"
          },
          "showarrow": false,
          "text": "0",
          "x": 1,
          "xref": "x1",
          "y": "Landry2015_1",
          "yref": "y1"
         },
         {
          "font": {
           "color": "#000000"
          },
          "showarrow": false,
          "text": "24",
          "x": 2,
          "xref": "x1",
          "y": "Landry2015_1",
          "yref": "y1"
         },
         {
          "font": {
           "color": "#000000"
          },
          "showarrow": false,
          "text": "12",
          "x": 3,
          "xref": "x1",
          "y": "Landry2015_1",
          "yref": "y1"
         },
         {
          "font": {
           "color": "#000000"
          },
          "showarrow": false,
          "text": "9",
          "x": 4,
          "xref": "x1",
          "y": "Landry2015_1",
          "yref": "y1"
         },
         {
          "font": {
           "color": "#000000"
          },
          "showarrow": false,
          "text": "13",
          "x": 5,
          "xref": "x1",
          "y": "Landry2015_1",
          "yref": "y1"
         },
         {
          "font": {
           "color": "#000000"
          },
          "showarrow": false,
          "text": "0",
          "x": 6,
          "xref": "x1",
          "y": "Landry2015_1",
          "yref": "y1"
         },
         {
          "font": {
           "color": "#000000"
          },
          "showarrow": false,
          "text": "0",
          "x": 7,
          "xref": "x1",
          "y": "Landry2015_1",
          "yref": "y1"
         },
         {
          "font": {
           "color": "#000000"
          },
          "showarrow": false,
          "text": "3",
          "x": 8,
          "xref": "x1",
          "y": "Landry2015_1",
          "yref": "y1"
         },
         {
          "font": {
           "color": "#000000"
          },
          "showarrow": false,
          "text": "5",
          "x": 9,
          "xref": "x1",
          "y": "Landry2015_1",
          "yref": "y1"
         },
         {
          "font": {
           "color": "#000000"
          },
          "showarrow": false,
          "text": "6",
          "x": 10,
          "xref": "x1",
          "y": "Landry2015_1",
          "yref": "y1"
         },
         {
          "font": {
           "color": "#000000"
          },
          "showarrow": false,
          "text": "0",
          "x": 11,
          "xref": "x1",
          "y": "Landry2015_1",
          "yref": "y1"
         },
         {
          "font": {
           "color": "#000000"
          },
          "showarrow": false,
          "text": "0",
          "x": 12,
          "xref": "x1",
          "y": "Landry2015_1",
          "yref": "y1"
         },
         {
          "font": {
           "color": "#000000"
          },
          "showarrow": false,
          "text": "0",
          "x": 13,
          "xref": "x1",
          "y": "Landry2015_1",
          "yref": "y1"
         },
         {
          "font": {
           "color": "#000000"
          },
          "showarrow": false,
          "text": "3",
          "x": 14,
          "xref": "x1",
          "y": "Landry2015_1",
          "yref": "y1"
         },
         {
          "font": {
           "color": "#000000"
          },
          "showarrow": false,
          "text": "0",
          "x": 15,
          "xref": "x1",
          "y": "Landry2015_1",
          "yref": "y1"
         },
         {
          "font": {
           "color": "#000000"
          },
          "showarrow": false,
          "text": "0",
          "x": 0,
          "xref": "x1",
          "y": "Violon",
          "yref": "y1"
         },
         {
          "font": {
           "color": "#000000"
          },
          "showarrow": false,
          "text": "0",
          "x": 1,
          "xref": "x1",
          "y": "Violon",
          "yref": "y1"
         },
         {
          "font": {
           "color": "#000000"
          },
          "showarrow": false,
          "text": "28",
          "x": 2,
          "xref": "x1",
          "y": "Violon",
          "yref": "y1"
         },
         {
          "font": {
           "color": "#000000"
          },
          "showarrow": false,
          "text": "6",
          "x": 3,
          "xref": "x1",
          "y": "Violon",
          "yref": "y1"
         },
         {
          "font": {
           "color": "#000000"
          },
          "showarrow": false,
          "text": "8",
          "x": 4,
          "xref": "x1",
          "y": "Violon",
          "yref": "y1"
         },
         {
          "font": {
           "color": "#000000"
          },
          "showarrow": false,
          "text": "28",
          "x": 5,
          "xref": "x1",
          "y": "Violon",
          "yref": "y1"
         },
         {
          "font": {
           "color": "#000000"
          },
          "showarrow": false,
          "text": "0",
          "x": 6,
          "xref": "x1",
          "y": "Violon",
          "yref": "y1"
         },
         {
          "font": {
           "color": "#000000"
          },
          "showarrow": false,
          "text": "0",
          "x": 7,
          "xref": "x1",
          "y": "Violon",
          "yref": "y1"
         },
         {
          "font": {
           "color": "#000000"
          },
          "showarrow": false,
          "text": "5",
          "x": 8,
          "xref": "x1",
          "y": "Violon",
          "yref": "y1"
         },
         {
          "font": {
           "color": "#000000"
          },
          "showarrow": false,
          "text": "8",
          "x": 9,
          "xref": "x1",
          "y": "Violon",
          "yref": "y1"
         },
         {
          "font": {
           "color": "#000000"
          },
          "showarrow": false,
          "text": "13",
          "x": 10,
          "xref": "x1",
          "y": "Violon",
          "yref": "y1"
         },
         {
          "font": {
           "color": "#000000"
          },
          "showarrow": false,
          "text": "0",
          "x": 11,
          "xref": "x1",
          "y": "Violon",
          "yref": "y1"
         },
         {
          "font": {
           "color": "#000000"
          },
          "showarrow": false,
          "text": "0",
          "x": 12,
          "xref": "x1",
          "y": "Violon",
          "yref": "y1"
         },
         {
          "font": {
           "color": "#000000"
          },
          "showarrow": false,
          "text": "0",
          "x": 13,
          "xref": "x1",
          "y": "Violon",
          "yref": "y1"
         },
         {
          "font": {
           "color": "#000000"
          },
          "showarrow": false,
          "text": "0",
          "x": 14,
          "xref": "x1",
          "y": "Violon",
          "yref": "y1"
         },
         {
          "font": {
           "color": "#000000"
          },
          "showarrow": false,
          "text": "0",
          "x": 15,
          "xref": "x1",
          "y": "Violon",
          "yref": "y1"
         },
         {
          "font": {
           "color": "#000000"
          },
          "showarrow": false,
          "text": "4",
          "x": 0,
          "xref": "x1",
          "y": "Yoann_2015",
          "yref": "y1"
         },
         {
          "font": {
           "color": "#000000"
          },
          "showarrow": false,
          "text": "13",
          "x": 1,
          "xref": "x1",
          "y": "Yoann_2015",
          "yref": "y1"
         },
         {
          "font": {
           "color": "#000000"
          },
          "showarrow": false,
          "text": "23",
          "x": 2,
          "xref": "x1",
          "y": "Yoann_2015",
          "yref": "y1"
         },
         {
          "font": {
           "color": "#000000"
          },
          "showarrow": false,
          "text": "1",
          "x": 3,
          "xref": "x1",
          "y": "Yoann_2015",
          "yref": "y1"
         },
         {
          "font": {
           "color": "#000000"
          },
          "showarrow": false,
          "text": "6",
          "x": 4,
          "xref": "x1",
          "y": "Yoann_2015",
          "yref": "y1"
         },
         {
          "font": {
           "color": "#000000"
          },
          "showarrow": false,
          "text": "10",
          "x": 5,
          "xref": "x1",
          "y": "Yoann_2015",
          "yref": "y1"
         },
         {
          "font": {
           "color": "#000000"
          },
          "showarrow": false,
          "text": "0",
          "x": 6,
          "xref": "x1",
          "y": "Yoann_2015",
          "yref": "y1"
         },
         {
          "font": {
           "color": "#000000"
          },
          "showarrow": false,
          "text": "4",
          "x": 7,
          "xref": "x1",
          "y": "Yoann_2015",
          "yref": "y1"
         },
         {
          "font": {
           "color": "#000000"
          },
          "showarrow": false,
          "text": "1",
          "x": 8,
          "xref": "x1",
          "y": "Yoann_2015",
          "yref": "y1"
         },
         {
          "font": {
           "color": "#000000"
          },
          "showarrow": false,
          "text": "2",
          "x": 9,
          "xref": "x1",
          "y": "Yoann_2015",
          "yref": "y1"
         },
         {
          "font": {
           "color": "#000000"
          },
          "showarrow": false,
          "text": "3",
          "x": 10,
          "xref": "x1",
          "y": "Yoann_2015",
          "yref": "y1"
         },
         {
          "font": {
           "color": "#000000"
          },
          "showarrow": false,
          "text": "6",
          "x": 11,
          "xref": "x1",
          "y": "Yoann_2015",
          "yref": "y1"
         },
         {
          "font": {
           "color": "#000000"
          },
          "showarrow": false,
          "text": "0",
          "x": 12,
          "xref": "x1",
          "y": "Yoann_2015",
          "yref": "y1"
         },
         {
          "font": {
           "color": "#000000"
          },
          "showarrow": false,
          "text": "5",
          "x": 13,
          "xref": "x1",
          "y": "Yoann_2015",
          "yref": "y1"
         },
         {
          "font": {
           "color": "#000000"
          },
          "showarrow": false,
          "text": "14",
          "x": 14,
          "xref": "x1",
          "y": "Yoann_2015",
          "yref": "y1"
         },
         {
          "font": {
           "color": "#000000"
          },
          "showarrow": false,
          "text": "0",
          "x": 15,
          "xref": "x1",
          "y": "Yoann_2015",
          "yref": "y1"
         },
         {
          "font": {
           "color": "#000000"
          },
          "showarrow": false,
          "text": "4",
          "x": 0,
          "xref": "x1",
          "y": "Landry2013",
          "yref": "y1"
         },
         {
          "font": {
           "color": "#000000"
          },
          "showarrow": false,
          "text": "12",
          "x": 1,
          "xref": "x1",
          "y": "Landry2013",
          "yref": "y1"
         },
         {
          "font": {
           "color": "#000000"
          },
          "showarrow": false,
          "text": "21",
          "x": 2,
          "xref": "x1",
          "y": "Landry2013",
          "yref": "y1"
         },
         {
          "font": {
           "color": "#000000"
          },
          "showarrow": false,
          "text": "8",
          "x": 3,
          "xref": "x1",
          "y": "Landry2013",
          "yref": "y1"
         },
         {
          "font": {
           "color": "#000000"
          },
          "showarrow": false,
          "text": "7",
          "x": 4,
          "xref": "x1",
          "y": "Landry2013",
          "yref": "y1"
         },
         {
          "font": {
           "color": "#000000"
          },
          "showarrow": false,
          "text": "9",
          "x": 5,
          "xref": "x1",
          "y": "Landry2013",
          "yref": "y1"
         },
         {
          "font": {
           "color": "#000000"
          },
          "showarrow": false,
          "text": "6",
          "x": 6,
          "xref": "x1",
          "y": "Landry2013",
          "yref": "y1"
         },
         {
          "font": {
           "color": "#000000"
          },
          "showarrow": false,
          "text": "9",
          "x": 7,
          "xref": "x1",
          "y": "Landry2013",
          "yref": "y1"
         },
         {
          "font": {
           "color": "#000000"
          },
          "showarrow": false,
          "text": "0",
          "x": 8,
          "xref": "x1",
          "y": "Landry2013",
          "yref": "y1"
         },
         {
          "font": {
           "color": "#000000"
          },
          "showarrow": false,
          "text": "0",
          "x": 9,
          "xref": "x1",
          "y": "Landry2013",
          "yref": "y1"
         },
         {
          "font": {
           "color": "#000000"
          },
          "showarrow": false,
          "text": "0",
          "x": 10,
          "xref": "x1",
          "y": "Landry2013",
          "yref": "y1"
         },
         {
          "font": {
           "color": "#000000"
          },
          "showarrow": false,
          "text": "0",
          "x": 11,
          "xref": "x1",
          "y": "Landry2013",
          "yref": "y1"
         },
         {
          "font": {
           "color": "#000000"
          },
          "showarrow": false,
          "text": "0",
          "x": 12,
          "xref": "x1",
          "y": "Landry2013",
          "yref": "y1"
         },
         {
          "font": {
           "color": "#000000"
          },
          "showarrow": false,
          "text": "0",
          "x": 13,
          "xref": "x1",
          "y": "Landry2013",
          "yref": "y1"
         },
         {
          "font": {
           "color": "#000000"
          },
          "showarrow": false,
          "text": "19",
          "x": 14,
          "xref": "x1",
          "y": "Landry2013",
          "yref": "y1"
         },
         {
          "font": {
           "color": "#000000"
          },
          "showarrow": false,
          "text": "0",
          "x": 15,
          "xref": "x1",
          "y": "Landry2013",
          "yref": "y1"
         },
         {
          "font": {
           "color": "#000000"
          },
          "showarrow": false,
          "text": "6",
          "x": 0,
          "xref": "x1",
          "y": "Landry2012",
          "yref": "y1"
         },
         {
          "font": {
           "color": "#000000"
          },
          "showarrow": false,
          "text": "16",
          "x": 1,
          "xref": "x1",
          "y": "Landry2012",
          "yref": "y1"
         },
         {
          "font": {
           "color": "#000000"
          },
          "showarrow": false,
          "text": "12",
          "x": 2,
          "xref": "x1",
          "y": "Landry2012",
          "yref": "y1"
         },
         {
          "font": {
           "color": "#000000"
          },
          "showarrow": false,
          "text": "16",
          "x": 3,
          "xref": "x1",
          "y": "Landry2012",
          "yref": "y1"
         },
         {
          "font": {
           "color": "#000000"
          },
          "showarrow": false,
          "text": "8",
          "x": 4,
          "xref": "x1",
          "y": "Landry2012",
          "yref": "y1"
         },
         {
          "font": {
           "color": "#000000"
          },
          "showarrow": false,
          "text": "21",
          "x": 5,
          "xref": "x1",
          "y": "Landry2012",
          "yref": "y1"
         },
         {
          "font": {
           "color": "#000000"
          },
          "showarrow": false,
          "text": "4",
          "x": 6,
          "xref": "x1",
          "y": "Landry2012",
          "yref": "y1"
         },
         {
          "font": {
           "color": "#000000"
          },
          "showarrow": false,
          "text": "12",
          "x": 7,
          "xref": "x1",
          "y": "Landry2012",
          "yref": "y1"
         },
         {
          "font": {
           "color": "#000000"
          },
          "showarrow": false,
          "text": "0",
          "x": 8,
          "xref": "x1",
          "y": "Landry2012",
          "yref": "y1"
         },
         {
          "font": {
           "color": "#000000"
          },
          "showarrow": false,
          "text": "0",
          "x": 9,
          "xref": "x1",
          "y": "Landry2012",
          "yref": "y1"
         },
         {
          "font": {
           "color": "#000000"
          },
          "showarrow": false,
          "text": "0",
          "x": 10,
          "xref": "x1",
          "y": "Landry2012",
          "yref": "y1"
         },
         {
          "font": {
           "color": "#000000"
          },
          "showarrow": false,
          "text": "0",
          "x": 11,
          "xref": "x1",
          "y": "Landry2012",
          "yref": "y1"
         },
         {
          "font": {
           "color": "#000000"
          },
          "showarrow": false,
          "text": "0",
          "x": 12,
          "xref": "x1",
          "y": "Landry2012",
          "yref": "y1"
         },
         {
          "font": {
           "color": "#000000"
          },
          "showarrow": false,
          "text": "0",
          "x": 13,
          "xref": "x1",
          "y": "Landry2012",
          "yref": "y1"
         },
         {
          "font": {
           "color": "#000000"
          },
          "showarrow": false,
          "text": "0",
          "x": 14,
          "xref": "x1",
          "y": "Landry2012",
          "yref": "y1"
         },
         {
          "font": {
           "color": "#000000"
          },
          "showarrow": false,
          "text": "0",
          "x": 15,
          "xref": "x1",
          "y": "Landry2012",
          "yref": "y1"
         },
         {
          "font": {
           "color": "#000000"
          },
          "showarrow": false,
          "text": "8",
          "x": 0,
          "xref": "x1",
          "y": "Tennis",
          "yref": "y1"
         },
         {
          "font": {
           "color": "#000000"
          },
          "showarrow": false,
          "text": "0",
          "x": 1,
          "xref": "x1",
          "y": "Tennis",
          "yref": "y1"
         },
         {
          "font": {
           "color": "#000000"
          },
          "showarrow": false,
          "text": "17",
          "x": 2,
          "xref": "x1",
          "y": "Tennis",
          "yref": "y1"
         },
         {
          "font": {
           "color": "#000000"
          },
          "showarrow": false,
          "text": "18",
          "x": 3,
          "xref": "x1",
          "y": "Tennis",
          "yref": "y1"
         },
         {
          "font": {
           "color": "#000000"
          },
          "showarrow": false,
          "text": "5",
          "x": 4,
          "xref": "x1",
          "y": "Tennis",
          "yref": "y1"
         },
         {
          "font": {
           "color": "#000000"
          },
          "showarrow": false,
          "text": "10",
          "x": 5,
          "xref": "x1",
          "y": "Tennis",
          "yref": "y1"
         },
         {
          "font": {
           "color": "#000000"
          },
          "showarrow": false,
          "text": "6",
          "x": 6,
          "xref": "x1",
          "y": "Tennis",
          "yref": "y1"
         },
         {
          "font": {
           "color": "#000000"
          },
          "showarrow": false,
          "text": "0",
          "x": 7,
          "xref": "x1",
          "y": "Tennis",
          "yref": "y1"
         },
         {
          "font": {
           "color": "#000000"
          },
          "showarrow": false,
          "text": "3",
          "x": 8,
          "xref": "x1",
          "y": "Tennis",
          "yref": "y1"
         },
         {
          "font": {
           "color": "#000000"
          },
          "showarrow": false,
          "text": "3",
          "x": 9,
          "xref": "x1",
          "y": "Tennis",
          "yref": "y1"
         },
         {
          "font": {
           "color": "#000000"
          },
          "showarrow": false,
          "text": "8",
          "x": 10,
          "xref": "x1",
          "y": "Tennis",
          "yref": "y1"
         },
         {
          "font": {
           "color": "#000000"
          },
          "showarrow": false,
          "text": "0",
          "x": 11,
          "xref": "x1",
          "y": "Tennis",
          "yref": "y1"
         },
         {
          "font": {
           "color": "#000000"
          },
          "showarrow": false,
          "text": "0",
          "x": 12,
          "xref": "x1",
          "y": "Tennis",
          "yref": "y1"
         },
         {
          "font": {
           "color": "#000000"
          },
          "showarrow": false,
          "text": "10",
          "x": 13,
          "xref": "x1",
          "y": "Tennis",
          "yref": "y1"
         },
         {
          "font": {
           "color": "#000000"
          },
          "showarrow": false,
          "text": "0",
          "x": 14,
          "xref": "x1",
          "y": "Tennis",
          "yref": "y1"
         },
         {
          "font": {
           "color": "#000000"
          },
          "showarrow": false,
          "text": "8",
          "x": 15,
          "xref": "x1",
          "y": "Tennis",
          "yref": "y1"
         },
         {
          "font": {
           "color": "#000000"
          },
          "showarrow": false,
          "text": "7",
          "x": 0,
          "xref": "x1",
          "y": "Patrick_2013",
          "yref": "y1"
         },
         {
          "font": {
           "color": "#000000"
          },
          "showarrow": false,
          "text": "10",
          "x": 1,
          "xref": "x1",
          "y": "Patrick_2013",
          "yref": "y1"
         },
         {
          "font": {
           "color": "#000000"
          },
          "showarrow": false,
          "text": "18",
          "x": 2,
          "xref": "x1",
          "y": "Patrick_2013",
          "yref": "y1"
         },
         {
          "font": {
           "color": "#000000"
          },
          "showarrow": false,
          "text": "5",
          "x": 3,
          "xref": "x1",
          "y": "Patrick_2013",
          "yref": "y1"
         },
         {
          "font": {
           "color": "#000000"
          },
          "showarrow": false,
          "text": "9",
          "x": 4,
          "xref": "x1",
          "y": "Patrick_2013",
          "yref": "y1"
         },
         {
          "font": {
           "color": "#000000"
          },
          "showarrow": false,
          "text": "6",
          "x": 5,
          "xref": "x1",
          "y": "Patrick_2013",
          "yref": "y1"
         },
         {
          "font": {
           "color": "#000000"
          },
          "showarrow": false,
          "text": "5",
          "x": 6,
          "xref": "x1",
          "y": "Patrick_2013",
          "yref": "y1"
         },
         {
          "font": {
           "color": "#000000"
          },
          "showarrow": false,
          "text": "6",
          "x": 7,
          "xref": "x1",
          "y": "Patrick_2013",
          "yref": "y1"
         },
         {
          "font": {
           "color": "#000000"
          },
          "showarrow": false,
          "text": "2",
          "x": 8,
          "xref": "x1",
          "y": "Patrick_2013",
          "yref": "y1"
         },
         {
          "font": {
           "color": "#000000"
          },
          "showarrow": false,
          "text": "1",
          "x": 9,
          "xref": "x1",
          "y": "Patrick_2013",
          "yref": "y1"
         },
         {
          "font": {
           "color": "#000000"
          },
          "showarrow": false,
          "text": "5",
          "x": 10,
          "xref": "x1",
          "y": "Patrick_2013",
          "yref": "y1"
         },
         {
          "font": {
           "color": "#000000"
          },
          "showarrow": false,
          "text": "4",
          "x": 11,
          "xref": "x1",
          "y": "Patrick_2013",
          "yref": "y1"
         },
         {
          "font": {
           "color": "#000000"
          },
          "showarrow": false,
          "text": "1",
          "x": 12,
          "xref": "x1",
          "y": "Patrick_2013",
          "yref": "y1"
         },
         {
          "font": {
           "color": "#000000"
          },
          "showarrow": false,
          "text": "5",
          "x": 13,
          "xref": "x1",
          "y": "Patrick_2013",
          "yref": "y1"
         },
         {
          "font": {
           "color": "#000000"
          },
          "showarrow": false,
          "text": "9",
          "x": 14,
          "xref": "x1",
          "y": "Patrick_2013",
          "yref": "y1"
         },
         {
          "font": {
           "color": "#000000"
          },
          "showarrow": false,
          "text": "0",
          "x": 15,
          "xref": "x1",
          "y": "Patrick_2013",
          "yref": "y1"
         },
         {
          "font": {
           "color": "#000000"
          },
          "showarrow": false,
          "text": "12",
          "x": 0,
          "xref": "x1",
          "y": "Sylvain_2015",
          "yref": "y1"
         },
         {
          "font": {
           "color": "#000000"
          },
          "showarrow": false,
          "text": "10",
          "x": 1,
          "xref": "x1",
          "y": "Sylvain_2015",
          "yref": "y1"
         },
         {
          "font": {
           "color": "#000000"
          },
          "showarrow": false,
          "text": "14",
          "x": 2,
          "xref": "x1",
          "y": "Sylvain_2015",
          "yref": "y1"
         },
         {
          "font": {
           "color": "#000000"
          },
          "showarrow": false,
          "text": "6",
          "x": 3,
          "xref": "x1",
          "y": "Sylvain_2015",
          "yref": "y1"
         },
         {
          "font": {
           "color": "#000000"
          },
          "showarrow": false,
          "text": "1",
          "x": 4,
          "xref": "x1",
          "y": "Sylvain_2015",
          "yref": "y1"
         },
         {
          "font": {
           "color": "#000000"
          },
          "showarrow": false,
          "text": "12",
          "x": 5,
          "xref": "x1",
          "y": "Sylvain_2015",
          "yref": "y1"
         },
         {
          "font": {
           "color": "#000000"
          },
          "showarrow": false,
          "text": "2",
          "x": 6,
          "xref": "x1",
          "y": "Sylvain_2015",
          "yref": "y1"
         },
         {
          "font": {
           "color": "#000000"
          },
          "showarrow": false,
          "text": "6",
          "x": 7,
          "xref": "x1",
          "y": "Sylvain_2015",
          "yref": "y1"
         },
         {
          "font": {
           "color": "#000000"
          },
          "showarrow": false,
          "text": "3",
          "x": 8,
          "xref": "x1",
          "y": "Sylvain_2015",
          "yref": "y1"
         },
         {
          "font": {
           "color": "#000000"
          },
          "showarrow": false,
          "text": "3",
          "x": 9,
          "xref": "x1",
          "y": "Sylvain_2015",
          "yref": "y1"
         },
         {
          "font": {
           "color": "#000000"
          },
          "showarrow": false,
          "text": "8",
          "x": 10,
          "xref": "x1",
          "y": "Sylvain_2015",
          "yref": "y1"
         },
         {
          "font": {
           "color": "#000000"
          },
          "showarrow": false,
          "text": "9",
          "x": 11,
          "xref": "x1",
          "y": "Sylvain_2015",
          "yref": "y1"
         },
         {
          "font": {
           "color": "#000000"
          },
          "showarrow": false,
          "text": "2",
          "x": 12,
          "xref": "x1",
          "y": "Sylvain_2015",
          "yref": "y1"
         },
         {
          "font": {
           "color": "#000000"
          },
          "showarrow": false,
          "text": "2",
          "x": 13,
          "xref": "x1",
          "y": "Sylvain_2015",
          "yref": "y1"
         },
         {
          "font": {
           "color": "#000000"
          },
          "showarrow": false,
          "text": "6",
          "x": 14,
          "xref": "x1",
          "y": "Sylvain_2015",
          "yref": "y1"
         },
         {
          "font": {
           "color": "#000000"
          },
          "showarrow": false,
          "text": "0",
          "x": 15,
          "xref": "x1",
          "y": "Sylvain_2015",
          "yref": "y1"
         }
        ],
        "font": {
         "size": 14
        },
        "hovermode": "closest",
        "margin": {
         "b": 80,
         "l": 150,
         "pad": 0,
         "r": 80,
         "t": 80
        },
        "title": "Max for each test (normalized by participant number)",
        "xaxis": {
         "dtick": 1,
         "gridcolor": "rgb(0, 0, 0)",
         "side": "bottom",
         "ticks": "",
         "title": "Tests"
        },
        "yaxis": {
         "autorange": "reversed",
         "dtick": 1,
         "ticks": "",
         "ticksuffix": "  ",
         "title": null
        }
       }
      },
      "text/html": [
       "<div id=\"967b2b28-cb53-4717-a431-4caa9090148e\" style=\"height: 525px; width: 100%;\" class=\"plotly-graph-div\"></div><script type=\"text/javascript\">require([\"plotly\"], function(Plotly) { window.PLOTLYENV=window.PLOTLYENV || {};window.PLOTLYENV.BASE_URL=\"https://plot.ly\";Plotly.newPlot(\"967b2b28-cb53-4717-a431-4caa9090148e\", [{\"type\": \"heatmap\", \"z\": [[11, 0, 23, 6, 14, 11, 0, 5, 4, 2, 5, 0, 0, 5, 0, 9], [17, 0, 19, 11, 22, 17, 0, 0, 0, 0, 0, 0, 0, 0, 12, 0], [20, 0, 24, 12, 9, 13, 0, 0, 3, 5, 6, 0, 0, 0, 3, 0], [0, 0, 28, 6, 8, 28, 0, 0, 5, 8, 13, 0, 0, 0, 0, 0], [4, 13, 23, 1, 6, 10, 0, 4, 1, 2, 3, 6, 0, 5, 14, 0], [4, 12, 21, 8, 7, 9, 6, 9, 0, 0, 0, 0, 0, 0, 19, 0], [6, 16, 12, 16, 8, 21, 4, 12, 0, 0, 0, 0, 0, 0, 0, 0], [8, 0, 17, 18, 5, 10, 6, 0, 3, 3, 8, 0, 0, 10, 0, 8], [7, 10, 18, 5, 9, 6, 5, 6, 2, 1, 5, 4, 1, 5, 9, 0], [12, 10, 14, 6, 1, 12, 2, 6, 3, 3, 8, 9, 2, 2, 6, 0]], \"x\": null, \"y\": [\"Landry2016\", \"Landry2015_2\", \"Landry2015_1\", \"Violon\", \"Yoann_2015\", \"Landry2013\", \"Landry2012\", \"Tennis\", \"Patrick_2013\", \"Sylvain_2015\"], \"colorscale\": \"YlGnBu\", \"showscale\": true, \"colorbar\": {\"title\": \"Percentage\", \"titleside\": \"right\"}}], {\"annotations\": [{\"text\": \"11\", \"x\": 0, \"y\": \"Landry2016\", \"xref\": \"x1\", \"yref\": \"y1\", \"font\": {\"color\": \"#000000\"}, \"showarrow\": false}, {\"text\": \"0\", \"x\": 1, \"y\": \"Landry2016\", \"xref\": \"x1\", \"yref\": \"y1\", \"font\": {\"color\": \"#000000\"}, \"showarrow\": false}, {\"text\": \"23\", \"x\": 2, \"y\": \"Landry2016\", \"xref\": \"x1\", \"yref\": \"y1\", \"font\": {\"color\": \"#000000\"}, \"showarrow\": false}, {\"text\": \"6\", \"x\": 3, \"y\": \"Landry2016\", \"xref\": \"x1\", \"yref\": \"y1\", \"font\": {\"color\": \"#000000\"}, \"showarrow\": false}, {\"text\": \"14\", \"x\": 4, \"y\": \"Landry2016\", \"xref\": \"x1\", \"yref\": \"y1\", \"font\": {\"color\": \"#000000\"}, \"showarrow\": false}, {\"text\": \"11\", \"x\": 5, \"y\": \"Landry2016\", \"xref\": \"x1\", \"yref\": \"y1\", \"font\": {\"color\": \"#000000\"}, \"showarrow\": false}, {\"text\": \"0\", \"x\": 6, \"y\": \"Landry2016\", \"xref\": \"x1\", \"yref\": \"y1\", \"font\": {\"color\": \"#000000\"}, \"showarrow\": false}, {\"text\": \"5\", \"x\": 7, \"y\": \"Landry2016\", \"xref\": \"x1\", \"yref\": \"y1\", \"font\": {\"color\": \"#000000\"}, \"showarrow\": false}, {\"text\": \"4\", \"x\": 8, \"y\": \"Landry2016\", \"xref\": \"x1\", \"yref\": \"y1\", \"font\": {\"color\": \"#000000\"}, \"showarrow\": false}, {\"text\": \"2\", \"x\": 9, \"y\": \"Landry2016\", \"xref\": \"x1\", \"yref\": \"y1\", \"font\": {\"color\": \"#000000\"}, \"showarrow\": false}, {\"text\": \"5\", \"x\": 10, \"y\": \"Landry2016\", \"xref\": \"x1\", \"yref\": \"y1\", \"font\": {\"color\": \"#000000\"}, \"showarrow\": false}, {\"text\": \"0\", \"x\": 11, \"y\": \"Landry2016\", \"xref\": \"x1\", \"yref\": \"y1\", \"font\": {\"color\": \"#000000\"}, \"showarrow\": false}, {\"text\": \"0\", \"x\": 12, \"y\": \"Landry2016\", \"xref\": \"x1\", \"yref\": \"y1\", \"font\": {\"color\": \"#000000\"}, \"showarrow\": false}, {\"text\": \"5\", \"x\": 13, \"y\": \"Landry2016\", \"xref\": \"x1\", \"yref\": \"y1\", \"font\": {\"color\": \"#000000\"}, \"showarrow\": false}, {\"text\": \"0\", \"x\": 14, \"y\": \"Landry2016\", \"xref\": \"x1\", \"yref\": \"y1\", \"font\": {\"color\": \"#000000\"}, \"showarrow\": false}, {\"text\": \"9\", \"x\": 15, \"y\": \"Landry2016\", \"xref\": \"x1\", \"yref\": \"y1\", \"font\": {\"color\": \"#000000\"}, \"showarrow\": false}, {\"text\": \"17\", \"x\": 0, \"y\": \"Landry2015_2\", \"xref\": \"x1\", \"yref\": \"y1\", \"font\": {\"color\": \"#000000\"}, \"showarrow\": false}, {\"text\": \"0\", \"x\": 1, \"y\": \"Landry2015_2\", \"xref\": \"x1\", \"yref\": \"y1\", \"font\": {\"color\": \"#000000\"}, \"showarrow\": false}, {\"text\": \"19\", \"x\": 2, \"y\": \"Landry2015_2\", \"xref\": \"x1\", \"yref\": \"y1\", \"font\": {\"color\": \"#000000\"}, \"showarrow\": false}, {\"text\": \"11\", \"x\": 3, \"y\": \"Landry2015_2\", \"xref\": \"x1\", \"yref\": \"y1\", \"font\": {\"color\": \"#000000\"}, \"showarrow\": false}, {\"text\": \"22\", \"x\": 4, \"y\": \"Landry2015_2\", \"xref\": \"x1\", \"yref\": \"y1\", \"font\": {\"color\": \"#000000\"}, \"showarrow\": false}, {\"text\": \"17\", \"x\": 5, \"y\": \"Landry2015_2\", \"xref\": \"x1\", \"yref\": \"y1\", \"font\": {\"color\": \"#000000\"}, \"showarrow\": false}, {\"text\": \"0\", \"x\": 6, \"y\": \"Landry2015_2\", \"xref\": \"x1\", \"yref\": \"y1\", \"font\": {\"color\": \"#000000\"}, \"showarrow\": false}, {\"text\": \"0\", \"x\": 7, \"y\": \"Landry2015_2\", \"xref\": \"x1\", \"yref\": \"y1\", \"font\": {\"color\": \"#000000\"}, \"showarrow\": false}, {\"text\": \"0\", \"x\": 8, \"y\": \"Landry2015_2\", \"xref\": \"x1\", \"yref\": \"y1\", \"font\": {\"color\": \"#000000\"}, \"showarrow\": false}, {\"text\": \"0\", \"x\": 9, \"y\": \"Landry2015_2\", \"xref\": \"x1\", \"yref\": \"y1\", \"font\": {\"color\": \"#000000\"}, \"showarrow\": false}, {\"text\": \"0\", \"x\": 10, \"y\": \"Landry2015_2\", \"xref\": \"x1\", \"yref\": \"y1\", \"font\": {\"color\": \"#000000\"}, \"showarrow\": false}, {\"text\": \"0\", \"x\": 11, \"y\": \"Landry2015_2\", \"xref\": \"x1\", \"yref\": \"y1\", \"font\": {\"color\": \"#000000\"}, \"showarrow\": false}, {\"text\": \"0\", \"x\": 12, \"y\": \"Landry2015_2\", \"xref\": \"x1\", \"yref\": \"y1\", \"font\": {\"color\": \"#000000\"}, \"showarrow\": false}, {\"text\": \"0\", \"x\": 13, \"y\": \"Landry2015_2\", \"xref\": \"x1\", \"yref\": \"y1\", \"font\": {\"color\": \"#000000\"}, \"showarrow\": false}, {\"text\": \"12\", \"x\": 14, \"y\": \"Landry2015_2\", \"xref\": \"x1\", \"yref\": \"y1\", \"font\": {\"color\": \"#000000\"}, \"showarrow\": false}, {\"text\": \"0\", \"x\": 15, \"y\": \"Landry2015_2\", \"xref\": \"x1\", \"yref\": \"y1\", \"font\": {\"color\": \"#000000\"}, \"showarrow\": false}, {\"text\": \"20\", \"x\": 0, \"y\": \"Landry2015_1\", \"xref\": \"x1\", \"yref\": \"y1\", \"font\": {\"color\": \"#000000\"}, \"showarrow\": false}, {\"text\": \"0\", \"x\": 1, \"y\": \"Landry2015_1\", \"xref\": \"x1\", \"yref\": \"y1\", \"font\": {\"color\": \"#000000\"}, \"showarrow\": false}, {\"text\": \"24\", \"x\": 2, \"y\": \"Landry2015_1\", \"xref\": \"x1\", \"yref\": \"y1\", \"font\": {\"color\": \"#000000\"}, \"showarrow\": false}, {\"text\": \"12\", \"x\": 3, \"y\": \"Landry2015_1\", \"xref\": \"x1\", \"yref\": \"y1\", \"font\": {\"color\": \"#000000\"}, \"showarrow\": false}, {\"text\": \"9\", \"x\": 4, \"y\": \"Landry2015_1\", \"xref\": \"x1\", \"yref\": \"y1\", \"font\": {\"color\": \"#000000\"}, \"showarrow\": false}, {\"text\": \"13\", \"x\": 5, \"y\": \"Landry2015_1\", \"xref\": \"x1\", \"yref\": \"y1\", \"font\": {\"color\": \"#000000\"}, \"showarrow\": false}, {\"text\": \"0\", \"x\": 6, \"y\": \"Landry2015_1\", \"xref\": \"x1\", \"yref\": \"y1\", \"font\": {\"color\": \"#000000\"}, \"showarrow\": false}, {\"text\": \"0\", \"x\": 7, \"y\": \"Landry2015_1\", \"xref\": \"x1\", \"yref\": \"y1\", \"font\": {\"color\": \"#000000\"}, \"showarrow\": false}, {\"text\": \"3\", \"x\": 8, \"y\": \"Landry2015_1\", \"xref\": \"x1\", \"yref\": \"y1\", \"font\": {\"color\": \"#000000\"}, \"showarrow\": false}, {\"text\": \"5\", \"x\": 9, \"y\": \"Landry2015_1\", \"xref\": \"x1\", \"yref\": \"y1\", \"font\": {\"color\": \"#000000\"}, \"showarrow\": false}, {\"text\": \"6\", \"x\": 10, \"y\": \"Landry2015_1\", \"xref\": \"x1\", \"yref\": \"y1\", \"font\": {\"color\": \"#000000\"}, \"showarrow\": false}, {\"text\": \"0\", \"x\": 11, \"y\": \"Landry2015_1\", \"xref\": \"x1\", \"yref\": \"y1\", \"font\": {\"color\": \"#000000\"}, \"showarrow\": false}, {\"text\": \"0\", \"x\": 12, \"y\": \"Landry2015_1\", \"xref\": \"x1\", \"yref\": \"y1\", \"font\": {\"color\": \"#000000\"}, \"showarrow\": false}, {\"text\": \"0\", \"x\": 13, \"y\": \"Landry2015_1\", \"xref\": \"x1\", \"yref\": \"y1\", \"font\": {\"color\": \"#000000\"}, \"showarrow\": false}, {\"text\": \"3\", \"x\": 14, \"y\": \"Landry2015_1\", \"xref\": \"x1\", \"yref\": \"y1\", \"font\": {\"color\": \"#000000\"}, \"showarrow\": false}, {\"text\": \"0\", \"x\": 15, \"y\": \"Landry2015_1\", \"xref\": \"x1\", \"yref\": \"y1\", \"font\": {\"color\": \"#000000\"}, \"showarrow\": false}, {\"text\": \"0\", \"x\": 0, \"y\": \"Violon\", \"xref\": \"x1\", \"yref\": \"y1\", \"font\": {\"color\": \"#000000\"}, \"showarrow\": false}, {\"text\": \"0\", \"x\": 1, \"y\": \"Violon\", \"xref\": \"x1\", \"yref\": \"y1\", \"font\": {\"color\": \"#000000\"}, \"showarrow\": false}, {\"text\": \"28\", \"x\": 2, \"y\": \"Violon\", \"xref\": \"x1\", \"yref\": \"y1\", \"font\": {\"color\": \"#000000\"}, \"showarrow\": false}, {\"text\": \"6\", \"x\": 3, \"y\": \"Violon\", \"xref\": \"x1\", \"yref\": \"y1\", \"font\": {\"color\": \"#000000\"}, \"showarrow\": false}, {\"text\": \"8\", \"x\": 4, \"y\": \"Violon\", \"xref\": \"x1\", \"yref\": \"y1\", \"font\": {\"color\": \"#000000\"}, \"showarrow\": false}, {\"text\": \"28\", \"x\": 5, \"y\": \"Violon\", \"xref\": \"x1\", \"yref\": \"y1\", \"font\": {\"color\": \"#000000\"}, \"showarrow\": false}, {\"text\": \"0\", \"x\": 6, \"y\": \"Violon\", \"xref\": \"x1\", \"yref\": \"y1\", \"font\": {\"color\": \"#000000\"}, \"showarrow\": false}, {\"text\": \"0\", \"x\": 7, \"y\": \"Violon\", \"xref\": \"x1\", \"yref\": \"y1\", \"font\": {\"color\": \"#000000\"}, \"showarrow\": false}, {\"text\": \"5\", \"x\": 8, \"y\": \"Violon\", \"xref\": \"x1\", \"yref\": \"y1\", \"font\": {\"color\": \"#000000\"}, \"showarrow\": false}, {\"text\": \"8\", \"x\": 9, \"y\": \"Violon\", \"xref\": \"x1\", \"yref\": \"y1\", \"font\": {\"color\": \"#000000\"}, \"showarrow\": false}, {\"text\": \"13\", \"x\": 10, \"y\": \"Violon\", \"xref\": \"x1\", \"yref\": \"y1\", \"font\": {\"color\": \"#000000\"}, \"showarrow\": false}, {\"text\": \"0\", \"x\": 11, \"y\": \"Violon\", \"xref\": \"x1\", \"yref\": \"y1\", \"font\": {\"color\": \"#000000\"}, \"showarrow\": false}, {\"text\": \"0\", \"x\": 12, \"y\": \"Violon\", \"xref\": \"x1\", \"yref\": \"y1\", \"font\": {\"color\": \"#000000\"}, \"showarrow\": false}, {\"text\": \"0\", \"x\": 13, \"y\": \"Violon\", \"xref\": \"x1\", \"yref\": \"y1\", \"font\": {\"color\": \"#000000\"}, \"showarrow\": false}, {\"text\": \"0\", \"x\": 14, \"y\": \"Violon\", \"xref\": \"x1\", \"yref\": \"y1\", \"font\": {\"color\": \"#000000\"}, \"showarrow\": false}, {\"text\": \"0\", \"x\": 15, \"y\": \"Violon\", \"xref\": \"x1\", \"yref\": \"y1\", \"font\": {\"color\": \"#000000\"}, \"showarrow\": false}, {\"text\": \"4\", \"x\": 0, \"y\": \"Yoann_2015\", \"xref\": \"x1\", \"yref\": \"y1\", \"font\": {\"color\": \"#000000\"}, \"showarrow\": false}, {\"text\": \"13\", \"x\": 1, \"y\": \"Yoann_2015\", \"xref\": \"x1\", \"yref\": \"y1\", \"font\": {\"color\": \"#000000\"}, \"showarrow\": false}, {\"text\": \"23\", \"x\": 2, \"y\": \"Yoann_2015\", \"xref\": \"x1\", \"yref\": \"y1\", \"font\": {\"color\": \"#000000\"}, \"showarrow\": false}, {\"text\": \"1\", \"x\": 3, \"y\": \"Yoann_2015\", \"xref\": \"x1\", \"yref\": \"y1\", \"font\": {\"color\": \"#000000\"}, \"showarrow\": false}, {\"text\": \"6\", \"x\": 4, \"y\": \"Yoann_2015\", \"xref\": \"x1\", \"yref\": \"y1\", \"font\": {\"color\": \"#000000\"}, \"showarrow\": false}, {\"text\": \"10\", \"x\": 5, \"y\": \"Yoann_2015\", \"xref\": \"x1\", \"yref\": \"y1\", \"font\": {\"color\": \"#000000\"}, \"showarrow\": false}, {\"text\": \"0\", \"x\": 6, \"y\": \"Yoann_2015\", \"xref\": \"x1\", \"yref\": \"y1\", \"font\": {\"color\": \"#000000\"}, \"showarrow\": false}, {\"text\": \"4\", \"x\": 7, \"y\": \"Yoann_2015\", \"xref\": \"x1\", \"yref\": \"y1\", \"font\": {\"color\": \"#000000\"}, \"showarrow\": false}, {\"text\": \"1\", \"x\": 8, \"y\": \"Yoann_2015\", \"xref\": \"x1\", \"yref\": \"y1\", \"font\": {\"color\": \"#000000\"}, \"showarrow\": false}, {\"text\": \"2\", \"x\": 9, \"y\": \"Yoann_2015\", \"xref\": \"x1\", \"yref\": \"y1\", \"font\": {\"color\": \"#000000\"}, \"showarrow\": false}, {\"text\": \"3\", \"x\": 10, \"y\": \"Yoann_2015\", \"xref\": \"x1\", \"yref\": \"y1\", \"font\": {\"color\": \"#000000\"}, \"showarrow\": false}, {\"text\": \"6\", \"x\": 11, \"y\": \"Yoann_2015\", \"xref\": \"x1\", \"yref\": \"y1\", \"font\": {\"color\": \"#000000\"}, \"showarrow\": false}, {\"text\": \"0\", \"x\": 12, \"y\": \"Yoann_2015\", \"xref\": \"x1\", \"yref\": \"y1\", \"font\": {\"color\": \"#000000\"}, \"showarrow\": false}, {\"text\": \"5\", \"x\": 13, \"y\": \"Yoann_2015\", \"xref\": \"x1\", \"yref\": \"y1\", \"font\": {\"color\": \"#000000\"}, \"showarrow\": false}, {\"text\": \"14\", \"x\": 14, \"y\": \"Yoann_2015\", \"xref\": \"x1\", \"yref\": \"y1\", \"font\": {\"color\": \"#000000\"}, \"showarrow\": false}, {\"text\": \"0\", \"x\": 15, \"y\": \"Yoann_2015\", \"xref\": \"x1\", \"yref\": \"y1\", \"font\": {\"color\": \"#000000\"}, \"showarrow\": false}, {\"text\": \"4\", \"x\": 0, \"y\": \"Landry2013\", \"xref\": \"x1\", \"yref\": \"y1\", \"font\": {\"color\": \"#000000\"}, \"showarrow\": false}, {\"text\": \"12\", \"x\": 1, \"y\": \"Landry2013\", \"xref\": \"x1\", \"yref\": \"y1\", \"font\": {\"color\": \"#000000\"}, \"showarrow\": false}, {\"text\": \"21\", \"x\": 2, \"y\": \"Landry2013\", \"xref\": \"x1\", \"yref\": \"y1\", \"font\": {\"color\": \"#000000\"}, \"showarrow\": false}, {\"text\": \"8\", \"x\": 3, \"y\": \"Landry2013\", \"xref\": \"x1\", \"yref\": \"y1\", \"font\": {\"color\": \"#000000\"}, \"showarrow\": false}, {\"text\": \"7\", \"x\": 4, \"y\": \"Landry2013\", \"xref\": \"x1\", \"yref\": \"y1\", \"font\": {\"color\": \"#000000\"}, \"showarrow\": false}, {\"text\": \"9\", \"x\": 5, \"y\": \"Landry2013\", \"xref\": \"x1\", \"yref\": \"y1\", \"font\": {\"color\": \"#000000\"}, \"showarrow\": false}, {\"text\": \"6\", \"x\": 6, \"y\": \"Landry2013\", \"xref\": \"x1\", \"yref\": \"y1\", \"font\": {\"color\": \"#000000\"}, \"showarrow\": false}, {\"text\": \"9\", \"x\": 7, \"y\": \"Landry2013\", \"xref\": \"x1\", \"yref\": \"y1\", \"font\": {\"color\": \"#000000\"}, \"showarrow\": false}, {\"text\": \"0\", \"x\": 8, \"y\": \"Landry2013\", \"xref\": \"x1\", \"yref\": \"y1\", \"font\": {\"color\": \"#000000\"}, \"showarrow\": false}, {\"text\": \"0\", \"x\": 9, \"y\": \"Landry2013\", \"xref\": \"x1\", \"yref\": \"y1\", \"font\": {\"color\": \"#000000\"}, \"showarrow\": false}, {\"text\": \"0\", \"x\": 10, \"y\": \"Landry2013\", \"xref\": \"x1\", \"yref\": \"y1\", \"font\": {\"color\": \"#000000\"}, \"showarrow\": false}, {\"text\": \"0\", \"x\": 11, \"y\": \"Landry2013\", \"xref\": \"x1\", \"yref\": \"y1\", \"font\": {\"color\": \"#000000\"}, \"showarrow\": false}, {\"text\": \"0\", \"x\": 12, \"y\": \"Landry2013\", \"xref\": \"x1\", \"yref\": \"y1\", \"font\": {\"color\": \"#000000\"}, \"showarrow\": false}, {\"text\": \"0\", \"x\": 13, \"y\": \"Landry2013\", \"xref\": \"x1\", \"yref\": \"y1\", \"font\": {\"color\": \"#000000\"}, \"showarrow\": false}, {\"text\": \"19\", \"x\": 14, \"y\": \"Landry2013\", \"xref\": \"x1\", \"yref\": \"y1\", \"font\": {\"color\": \"#000000\"}, \"showarrow\": false}, {\"text\": \"0\", \"x\": 15, \"y\": \"Landry2013\", \"xref\": \"x1\", \"yref\": \"y1\", \"font\": {\"color\": \"#000000\"}, \"showarrow\": false}, {\"text\": \"6\", \"x\": 0, \"y\": \"Landry2012\", \"xref\": \"x1\", \"yref\": \"y1\", \"font\": {\"color\": \"#000000\"}, \"showarrow\": false}, {\"text\": \"16\", \"x\": 1, \"y\": \"Landry2012\", \"xref\": \"x1\", \"yref\": \"y1\", \"font\": {\"color\": \"#000000\"}, \"showarrow\": false}, {\"text\": \"12\", \"x\": 2, \"y\": \"Landry2012\", \"xref\": \"x1\", \"yref\": \"y1\", \"font\": {\"color\": \"#000000\"}, \"showarrow\": false}, {\"text\": \"16\", \"x\": 3, \"y\": \"Landry2012\", \"xref\": \"x1\", \"yref\": \"y1\", \"font\": {\"color\": \"#000000\"}, \"showarrow\": false}, {\"text\": \"8\", \"x\": 4, \"y\": \"Landry2012\", \"xref\": \"x1\", \"yref\": \"y1\", \"font\": {\"color\": \"#000000\"}, \"showarrow\": false}, {\"text\": \"21\", \"x\": 5, \"y\": \"Landry2012\", \"xref\": \"x1\", \"yref\": \"y1\", \"font\": {\"color\": \"#000000\"}, \"showarrow\": false}, {\"text\": \"4\", \"x\": 6, \"y\": \"Landry2012\", \"xref\": \"x1\", \"yref\": \"y1\", \"font\": {\"color\": \"#000000\"}, \"showarrow\": false}, {\"text\": \"12\", \"x\": 7, \"y\": \"Landry2012\", \"xref\": \"x1\", \"yref\": \"y1\", \"font\": {\"color\": \"#000000\"}, \"showarrow\": false}, {\"text\": \"0\", \"x\": 8, \"y\": \"Landry2012\", \"xref\": \"x1\", \"yref\": \"y1\", \"font\": {\"color\": \"#000000\"}, \"showarrow\": false}, {\"text\": \"0\", \"x\": 9, \"y\": \"Landry2012\", \"xref\": \"x1\", \"yref\": \"y1\", \"font\": {\"color\": \"#000000\"}, \"showarrow\": false}, {\"text\": \"0\", \"x\": 10, \"y\": \"Landry2012\", \"xref\": \"x1\", \"yref\": \"y1\", \"font\": {\"color\": \"#000000\"}, \"showarrow\": false}, {\"text\": \"0\", \"x\": 11, \"y\": \"Landry2012\", \"xref\": \"x1\", \"yref\": \"y1\", \"font\": {\"color\": \"#000000\"}, \"showarrow\": false}, {\"text\": \"0\", \"x\": 12, \"y\": \"Landry2012\", \"xref\": \"x1\", \"yref\": \"y1\", \"font\": {\"color\": \"#000000\"}, \"showarrow\": false}, {\"text\": \"0\", \"x\": 13, \"y\": \"Landry2012\", \"xref\": \"x1\", \"yref\": \"y1\", \"font\": {\"color\": \"#000000\"}, \"showarrow\": false}, {\"text\": \"0\", \"x\": 14, \"y\": \"Landry2012\", \"xref\": \"x1\", \"yref\": \"y1\", \"font\": {\"color\": \"#000000\"}, \"showarrow\": false}, {\"text\": \"0\", \"x\": 15, \"y\": \"Landry2012\", \"xref\": \"x1\", \"yref\": \"y1\", \"font\": {\"color\": \"#000000\"}, \"showarrow\": false}, {\"text\": \"8\", \"x\": 0, \"y\": \"Tennis\", \"xref\": \"x1\", \"yref\": \"y1\", \"font\": {\"color\": \"#000000\"}, \"showarrow\": false}, {\"text\": \"0\", \"x\": 1, \"y\": \"Tennis\", \"xref\": \"x1\", \"yref\": \"y1\", \"font\": {\"color\": \"#000000\"}, \"showarrow\": false}, {\"text\": \"17\", \"x\": 2, \"y\": \"Tennis\", \"xref\": \"x1\", \"yref\": \"y1\", \"font\": {\"color\": \"#000000\"}, \"showarrow\": false}, {\"text\": \"18\", \"x\": 3, \"y\": \"Tennis\", \"xref\": \"x1\", \"yref\": \"y1\", \"font\": {\"color\": \"#000000\"}, \"showarrow\": false}, {\"text\": \"5\", \"x\": 4, \"y\": \"Tennis\", \"xref\": \"x1\", \"yref\": \"y1\", \"font\": {\"color\": \"#000000\"}, \"showarrow\": false}, {\"text\": \"10\", \"x\": 5, \"y\": \"Tennis\", \"xref\": \"x1\", \"yref\": \"y1\", \"font\": {\"color\": \"#000000\"}, \"showarrow\": false}, {\"text\": \"6\", \"x\": 6, \"y\": \"Tennis\", \"xref\": \"x1\", \"yref\": \"y1\", \"font\": {\"color\": \"#000000\"}, \"showarrow\": false}, {\"text\": \"0\", \"x\": 7, \"y\": \"Tennis\", \"xref\": \"x1\", \"yref\": \"y1\", \"font\": {\"color\": \"#000000\"}, \"showarrow\": false}, {\"text\": \"3\", \"x\": 8, \"y\": \"Tennis\", \"xref\": \"x1\", \"yref\": \"y1\", \"font\": {\"color\": \"#000000\"}, \"showarrow\": false}, {\"text\": \"3\", \"x\": 9, \"y\": \"Tennis\", \"xref\": \"x1\", \"yref\": \"y1\", \"font\": {\"color\": \"#000000\"}, \"showarrow\": false}, {\"text\": \"8\", \"x\": 10, \"y\": \"Tennis\", \"xref\": \"x1\", \"yref\": \"y1\", \"font\": {\"color\": \"#000000\"}, \"showarrow\": false}, {\"text\": \"0\", \"x\": 11, \"y\": \"Tennis\", \"xref\": \"x1\", \"yref\": \"y1\", \"font\": {\"color\": \"#000000\"}, \"showarrow\": false}, {\"text\": \"0\", \"x\": 12, \"y\": \"Tennis\", \"xref\": \"x1\", \"yref\": \"y1\", \"font\": {\"color\": \"#000000\"}, \"showarrow\": false}, {\"text\": \"10\", \"x\": 13, \"y\": \"Tennis\", \"xref\": \"x1\", \"yref\": \"y1\", \"font\": {\"color\": \"#000000\"}, \"showarrow\": false}, {\"text\": \"0\", \"x\": 14, \"y\": \"Tennis\", \"xref\": \"x1\", \"yref\": \"y1\", \"font\": {\"color\": \"#000000\"}, \"showarrow\": false}, {\"text\": \"8\", \"x\": 15, \"y\": \"Tennis\", \"xref\": \"x1\", \"yref\": \"y1\", \"font\": {\"color\": \"#000000\"}, \"showarrow\": false}, {\"text\": \"7\", \"x\": 0, \"y\": \"Patrick_2013\", \"xref\": \"x1\", \"yref\": \"y1\", \"font\": {\"color\": \"#000000\"}, \"showarrow\": false}, {\"text\": \"10\", \"x\": 1, \"y\": \"Patrick_2013\", \"xref\": \"x1\", \"yref\": \"y1\", \"font\": {\"color\": \"#000000\"}, \"showarrow\": false}, {\"text\": \"18\", \"x\": 2, \"y\": \"Patrick_2013\", \"xref\": \"x1\", \"yref\": \"y1\", \"font\": {\"color\": \"#000000\"}, \"showarrow\": false}, {\"text\": \"5\", \"x\": 3, \"y\": \"Patrick_2013\", \"xref\": \"x1\", \"yref\": \"y1\", \"font\": {\"color\": \"#000000\"}, \"showarrow\": false}, {\"text\": \"9\", \"x\": 4, \"y\": \"Patrick_2013\", \"xref\": \"x1\", \"yref\": \"y1\", \"font\": {\"color\": \"#000000\"}, \"showarrow\": false}, {\"text\": \"6\", \"x\": 5, \"y\": \"Patrick_2013\", \"xref\": \"x1\", \"yref\": \"y1\", \"font\": {\"color\": \"#000000\"}, \"showarrow\": false}, {\"text\": \"5\", \"x\": 6, \"y\": \"Patrick_2013\", \"xref\": \"x1\", \"yref\": \"y1\", \"font\": {\"color\": \"#000000\"}, \"showarrow\": false}, {\"text\": \"6\", \"x\": 7, \"y\": \"Patrick_2013\", \"xref\": \"x1\", \"yref\": \"y1\", \"font\": {\"color\": \"#000000\"}, \"showarrow\": false}, {\"text\": \"2\", \"x\": 8, \"y\": \"Patrick_2013\", \"xref\": \"x1\", \"yref\": \"y1\", \"font\": {\"color\": \"#000000\"}, \"showarrow\": false}, {\"text\": \"1\", \"x\": 9, \"y\": \"Patrick_2013\", \"xref\": \"x1\", \"yref\": \"y1\", \"font\": {\"color\": \"#000000\"}, \"showarrow\": false}, {\"text\": \"5\", \"x\": 10, \"y\": \"Patrick_2013\", \"xref\": \"x1\", \"yref\": \"y1\", \"font\": {\"color\": \"#000000\"}, \"showarrow\": false}, {\"text\": \"4\", \"x\": 11, \"y\": \"Patrick_2013\", \"xref\": \"x1\", \"yref\": \"y1\", \"font\": {\"color\": \"#000000\"}, \"showarrow\": false}, {\"text\": \"1\", \"x\": 12, \"y\": \"Patrick_2013\", \"xref\": \"x1\", \"yref\": \"y1\", \"font\": {\"color\": \"#000000\"}, \"showarrow\": false}, {\"text\": \"5\", \"x\": 13, \"y\": \"Patrick_2013\", \"xref\": \"x1\", \"yref\": \"y1\", \"font\": {\"color\": \"#000000\"}, \"showarrow\": false}, {\"text\": \"9\", \"x\": 14, \"y\": \"Patrick_2013\", \"xref\": \"x1\", \"yref\": \"y1\", \"font\": {\"color\": \"#000000\"}, \"showarrow\": false}, {\"text\": \"0\", \"x\": 15, \"y\": \"Patrick_2013\", \"xref\": \"x1\", \"yref\": \"y1\", \"font\": {\"color\": \"#000000\"}, \"showarrow\": false}, {\"text\": \"12\", \"x\": 0, \"y\": \"Sylvain_2015\", \"xref\": \"x1\", \"yref\": \"y1\", \"font\": {\"color\": \"#000000\"}, \"showarrow\": false}, {\"text\": \"10\", \"x\": 1, \"y\": \"Sylvain_2015\", \"xref\": \"x1\", \"yref\": \"y1\", \"font\": {\"color\": \"#000000\"}, \"showarrow\": false}, {\"text\": \"14\", \"x\": 2, \"y\": \"Sylvain_2015\", \"xref\": \"x1\", \"yref\": \"y1\", \"font\": {\"color\": \"#000000\"}, \"showarrow\": false}, {\"text\": \"6\", \"x\": 3, \"y\": \"Sylvain_2015\", \"xref\": \"x1\", \"yref\": \"y1\", \"font\": {\"color\": \"#000000\"}, \"showarrow\": false}, {\"text\": \"1\", \"x\": 4, \"y\": \"Sylvain_2015\", \"xref\": \"x1\", \"yref\": \"y1\", \"font\": {\"color\": \"#000000\"}, \"showarrow\": false}, {\"text\": \"12\", \"x\": 5, \"y\": \"Sylvain_2015\", \"xref\": \"x1\", \"yref\": \"y1\", \"font\": {\"color\": \"#000000\"}, \"showarrow\": false}, {\"text\": \"2\", \"x\": 6, \"y\": \"Sylvain_2015\", \"xref\": \"x1\", \"yref\": \"y1\", \"font\": {\"color\": \"#000000\"}, \"showarrow\": false}, {\"text\": \"6\", \"x\": 7, \"y\": \"Sylvain_2015\", \"xref\": \"x1\", \"yref\": \"y1\", \"font\": {\"color\": \"#000000\"}, \"showarrow\": false}, {\"text\": \"3\", \"x\": 8, \"y\": \"Sylvain_2015\", \"xref\": \"x1\", \"yref\": \"y1\", \"font\": {\"color\": \"#000000\"}, \"showarrow\": false}, {\"text\": \"3\", \"x\": 9, \"y\": \"Sylvain_2015\", \"xref\": \"x1\", \"yref\": \"y1\", \"font\": {\"color\": \"#000000\"}, \"showarrow\": false}, {\"text\": \"8\", \"x\": 10, \"y\": \"Sylvain_2015\", \"xref\": \"x1\", \"yref\": \"y1\", \"font\": {\"color\": \"#000000\"}, \"showarrow\": false}, {\"text\": \"9\", \"x\": 11, \"y\": \"Sylvain_2015\", \"xref\": \"x1\", \"yref\": \"y1\", \"font\": {\"color\": \"#000000\"}, \"showarrow\": false}, {\"text\": \"2\", \"x\": 12, \"y\": \"Sylvain_2015\", \"xref\": \"x1\", \"yref\": \"y1\", \"font\": {\"color\": \"#000000\"}, \"showarrow\": false}, {\"text\": \"2\", \"x\": 13, \"y\": \"Sylvain_2015\", \"xref\": \"x1\", \"yref\": \"y1\", \"font\": {\"color\": \"#000000\"}, \"showarrow\": false}, {\"text\": \"6\", \"x\": 14, \"y\": \"Sylvain_2015\", \"xref\": \"x1\", \"yref\": \"y1\", \"font\": {\"color\": \"#000000\"}, \"showarrow\": false}, {\"text\": \"0\", \"x\": 15, \"y\": \"Sylvain_2015\", \"xref\": \"x1\", \"yref\": \"y1\", \"font\": {\"color\": \"#000000\"}, \"showarrow\": false}], \"xaxis\": {\"ticks\": \"\", \"dtick\": 1, \"side\": \"bottom\", \"gridcolor\": \"rgb(0, 0, 0)\", \"title\": \"Tests\"}, \"yaxis\": {\"ticks\": \"\", \"dtick\": 1, \"ticksuffix\": \"  \", \"title\": null, \"autorange\": \"reversed\"}, \"hovermode\": \"closest\", \"font\": {\"size\": 14}, \"title\": \"Max for each test (normalized by participant number)\", \"margin\": {\"t\": 80, \"b\": 80, \"l\": 150, \"r\": 80, \"pad\": 0}}, {\"showLink\": true, \"linkText\": \"Export to plot.ly\"})});</script>"
      ],
      "text/vnd.plotly.v1+html": [
       "<div id=\"967b2b28-cb53-4717-a431-4caa9090148e\" style=\"height: 525px; width: 100%;\" class=\"plotly-graph-div\"></div><script type=\"text/javascript\">require([\"plotly\"], function(Plotly) { window.PLOTLYENV=window.PLOTLYENV || {};window.PLOTLYENV.BASE_URL=\"https://plot.ly\";Plotly.newPlot(\"967b2b28-cb53-4717-a431-4caa9090148e\", [{\"type\": \"heatmap\", \"z\": [[11, 0, 23, 6, 14, 11, 0, 5, 4, 2, 5, 0, 0, 5, 0, 9], [17, 0, 19, 11, 22, 17, 0, 0, 0, 0, 0, 0, 0, 0, 12, 0], [20, 0, 24, 12, 9, 13, 0, 0, 3, 5, 6, 0, 0, 0, 3, 0], [0, 0, 28, 6, 8, 28, 0, 0, 5, 8, 13, 0, 0, 0, 0, 0], [4, 13, 23, 1, 6, 10, 0, 4, 1, 2, 3, 6, 0, 5, 14, 0], [4, 12, 21, 8, 7, 9, 6, 9, 0, 0, 0, 0, 0, 0, 19, 0], [6, 16, 12, 16, 8, 21, 4, 12, 0, 0, 0, 0, 0, 0, 0, 0], [8, 0, 17, 18, 5, 10, 6, 0, 3, 3, 8, 0, 0, 10, 0, 8], [7, 10, 18, 5, 9, 6, 5, 6, 2, 1, 5, 4, 1, 5, 9, 0], [12, 10, 14, 6, 1, 12, 2, 6, 3, 3, 8, 9, 2, 2, 6, 0]], \"x\": null, \"y\": [\"Landry2016\", \"Landry2015_2\", \"Landry2015_1\", \"Violon\", \"Yoann_2015\", \"Landry2013\", \"Landry2012\", \"Tennis\", \"Patrick_2013\", \"Sylvain_2015\"], \"colorscale\": \"YlGnBu\", \"showscale\": true, \"colorbar\": {\"title\": \"Percentage\", \"titleside\": \"right\"}}], {\"annotations\": [{\"text\": \"11\", \"x\": 0, \"y\": \"Landry2016\", \"xref\": \"x1\", \"yref\": \"y1\", \"font\": {\"color\": \"#000000\"}, \"showarrow\": false}, {\"text\": \"0\", \"x\": 1, \"y\": \"Landry2016\", \"xref\": \"x1\", \"yref\": \"y1\", \"font\": {\"color\": \"#000000\"}, \"showarrow\": false}, {\"text\": \"23\", \"x\": 2, \"y\": \"Landry2016\", \"xref\": \"x1\", \"yref\": \"y1\", \"font\": {\"color\": \"#000000\"}, \"showarrow\": false}, {\"text\": \"6\", \"x\": 3, \"y\": \"Landry2016\", \"xref\": \"x1\", \"yref\": \"y1\", \"font\": {\"color\": \"#000000\"}, \"showarrow\": false}, {\"text\": \"14\", \"x\": 4, \"y\": \"Landry2016\", \"xref\": \"x1\", \"yref\": \"y1\", \"font\": {\"color\": \"#000000\"}, \"showarrow\": false}, {\"text\": \"11\", \"x\": 5, \"y\": \"Landry2016\", \"xref\": \"x1\", \"yref\": \"y1\", \"font\": {\"color\": \"#000000\"}, \"showarrow\": false}, {\"text\": \"0\", \"x\": 6, \"y\": \"Landry2016\", \"xref\": \"x1\", \"yref\": \"y1\", \"font\": {\"color\": \"#000000\"}, \"showarrow\": false}, {\"text\": \"5\", \"x\": 7, \"y\": \"Landry2016\", \"xref\": \"x1\", \"yref\": \"y1\", \"font\": {\"color\": \"#000000\"}, \"showarrow\": false}, {\"text\": \"4\", \"x\": 8, \"y\": \"Landry2016\", \"xref\": \"x1\", \"yref\": \"y1\", \"font\": {\"color\": \"#000000\"}, \"showarrow\": false}, {\"text\": \"2\", \"x\": 9, \"y\": \"Landry2016\", \"xref\": \"x1\", \"yref\": \"y1\", \"font\": {\"color\": \"#000000\"}, \"showarrow\": false}, {\"text\": \"5\", \"x\": 10, \"y\": \"Landry2016\", \"xref\": \"x1\", \"yref\": \"y1\", \"font\": {\"color\": \"#000000\"}, \"showarrow\": false}, {\"text\": \"0\", \"x\": 11, \"y\": \"Landry2016\", \"xref\": \"x1\", \"yref\": \"y1\", \"font\": {\"color\": \"#000000\"}, \"showarrow\": false}, {\"text\": \"0\", \"x\": 12, \"y\": \"Landry2016\", \"xref\": \"x1\", \"yref\": \"y1\", \"font\": {\"color\": \"#000000\"}, \"showarrow\": false}, {\"text\": \"5\", \"x\": 13, \"y\": \"Landry2016\", \"xref\": \"x1\", \"yref\": \"y1\", \"font\": {\"color\": \"#000000\"}, \"showarrow\": false}, {\"text\": \"0\", \"x\": 14, \"y\": \"Landry2016\", \"xref\": \"x1\", \"yref\": \"y1\", \"font\": {\"color\": \"#000000\"}, \"showarrow\": false}, {\"text\": \"9\", \"x\": 15, \"y\": \"Landry2016\", \"xref\": \"x1\", \"yref\": \"y1\", \"font\": {\"color\": \"#000000\"}, \"showarrow\": false}, {\"text\": \"17\", \"x\": 0, \"y\": \"Landry2015_2\", \"xref\": \"x1\", \"yref\": \"y1\", \"font\": {\"color\": \"#000000\"}, \"showarrow\": false}, {\"text\": \"0\", \"x\": 1, \"y\": \"Landry2015_2\", \"xref\": \"x1\", \"yref\": \"y1\", \"font\": {\"color\": \"#000000\"}, \"showarrow\": false}, {\"text\": \"19\", \"x\": 2, \"y\": \"Landry2015_2\", \"xref\": \"x1\", \"yref\": \"y1\", \"font\": {\"color\": \"#000000\"}, \"showarrow\": false}, {\"text\": \"11\", \"x\": 3, \"y\": \"Landry2015_2\", \"xref\": \"x1\", \"yref\": \"y1\", \"font\": {\"color\": \"#000000\"}, \"showarrow\": false}, {\"text\": \"22\", \"x\": 4, \"y\": \"Landry2015_2\", \"xref\": \"x1\", \"yref\": \"y1\", \"font\": {\"color\": \"#000000\"}, \"showarrow\": false}, {\"text\": \"17\", \"x\": 5, \"y\": \"Landry2015_2\", \"xref\": \"x1\", \"yref\": \"y1\", \"font\": {\"color\": \"#000000\"}, \"showarrow\": false}, {\"text\": \"0\", \"x\": 6, \"y\": \"Landry2015_2\", \"xref\": \"x1\", \"yref\": \"y1\", \"font\": {\"color\": \"#000000\"}, \"showarrow\": false}, {\"text\": \"0\", \"x\": 7, \"y\": \"Landry2015_2\", \"xref\": \"x1\", \"yref\": \"y1\", \"font\": {\"color\": \"#000000\"}, \"showarrow\": false}, {\"text\": \"0\", \"x\": 8, \"y\": \"Landry2015_2\", \"xref\": \"x1\", \"yref\": \"y1\", \"font\": {\"color\": \"#000000\"}, \"showarrow\": false}, {\"text\": \"0\", \"x\": 9, \"y\": \"Landry2015_2\", \"xref\": \"x1\", \"yref\": \"y1\", \"font\": {\"color\": \"#000000\"}, \"showarrow\": false}, {\"text\": \"0\", \"x\": 10, \"y\": \"Landry2015_2\", \"xref\": \"x1\", \"yref\": \"y1\", \"font\": {\"color\": \"#000000\"}, \"showarrow\": false}, {\"text\": \"0\", \"x\": 11, \"y\": \"Landry2015_2\", \"xref\": \"x1\", \"yref\": \"y1\", \"font\": {\"color\": \"#000000\"}, \"showarrow\": false}, {\"text\": \"0\", \"x\": 12, \"y\": \"Landry2015_2\", \"xref\": \"x1\", \"yref\": \"y1\", \"font\": {\"color\": \"#000000\"}, \"showarrow\": false}, {\"text\": \"0\", \"x\": 13, \"y\": \"Landry2015_2\", \"xref\": \"x1\", \"yref\": \"y1\", \"font\": {\"color\": \"#000000\"}, \"showarrow\": false}, {\"text\": \"12\", \"x\": 14, \"y\": \"Landry2015_2\", \"xref\": \"x1\", \"yref\": \"y1\", \"font\": {\"color\": \"#000000\"}, \"showarrow\": false}, {\"text\": \"0\", \"x\": 15, \"y\": \"Landry2015_2\", \"xref\": \"x1\", \"yref\": \"y1\", \"font\": {\"color\": \"#000000\"}, \"showarrow\": false}, {\"text\": \"20\", \"x\": 0, \"y\": \"Landry2015_1\", \"xref\": \"x1\", \"yref\": \"y1\", \"font\": {\"color\": \"#000000\"}, \"showarrow\": false}, {\"text\": \"0\", \"x\": 1, \"y\": \"Landry2015_1\", \"xref\": \"x1\", \"yref\": \"y1\", \"font\": {\"color\": \"#000000\"}, \"showarrow\": false}, {\"text\": \"24\", \"x\": 2, \"y\": \"Landry2015_1\", \"xref\": \"x1\", \"yref\": \"y1\", \"font\": {\"color\": \"#000000\"}, \"showarrow\": false}, {\"text\": \"12\", \"x\": 3, \"y\": \"Landry2015_1\", \"xref\": \"x1\", \"yref\": \"y1\", \"font\": {\"color\": \"#000000\"}, \"showarrow\": false}, {\"text\": \"9\", \"x\": 4, \"y\": \"Landry2015_1\", \"xref\": \"x1\", \"yref\": \"y1\", \"font\": {\"color\": \"#000000\"}, \"showarrow\": false}, {\"text\": \"13\", \"x\": 5, \"y\": \"Landry2015_1\", \"xref\": \"x1\", \"yref\": \"y1\", \"font\": {\"color\": \"#000000\"}, \"showarrow\": false}, {\"text\": \"0\", \"x\": 6, \"y\": \"Landry2015_1\", \"xref\": \"x1\", \"yref\": \"y1\", \"font\": {\"color\": \"#000000\"}, \"showarrow\": false}, {\"text\": \"0\", \"x\": 7, \"y\": \"Landry2015_1\", \"xref\": \"x1\", \"yref\": \"y1\", \"font\": {\"color\": \"#000000\"}, \"showarrow\": false}, {\"text\": \"3\", \"x\": 8, \"y\": \"Landry2015_1\", \"xref\": \"x1\", \"yref\": \"y1\", \"font\": {\"color\": \"#000000\"}, \"showarrow\": false}, {\"text\": \"5\", \"x\": 9, \"y\": \"Landry2015_1\", \"xref\": \"x1\", \"yref\": \"y1\", \"font\": {\"color\": \"#000000\"}, \"showarrow\": false}, {\"text\": \"6\", \"x\": 10, \"y\": \"Landry2015_1\", \"xref\": \"x1\", \"yref\": \"y1\", \"font\": {\"color\": \"#000000\"}, \"showarrow\": false}, {\"text\": \"0\", \"x\": 11, \"y\": \"Landry2015_1\", \"xref\": \"x1\", \"yref\": \"y1\", \"font\": {\"color\": \"#000000\"}, \"showarrow\": false}, {\"text\": \"0\", \"x\": 12, \"y\": \"Landry2015_1\", \"xref\": \"x1\", \"yref\": \"y1\", \"font\": {\"color\": \"#000000\"}, \"showarrow\": false}, {\"text\": \"0\", \"x\": 13, \"y\": \"Landry2015_1\", \"xref\": \"x1\", \"yref\": \"y1\", \"font\": {\"color\": \"#000000\"}, \"showarrow\": false}, {\"text\": \"3\", \"x\": 14, \"y\": \"Landry2015_1\", \"xref\": \"x1\", \"yref\": \"y1\", \"font\": {\"color\": \"#000000\"}, \"showarrow\": false}, {\"text\": \"0\", \"x\": 15, \"y\": \"Landry2015_1\", \"xref\": \"x1\", \"yref\": \"y1\", \"font\": {\"color\": \"#000000\"}, \"showarrow\": false}, {\"text\": \"0\", \"x\": 0, \"y\": \"Violon\", \"xref\": \"x1\", \"yref\": \"y1\", \"font\": {\"color\": \"#000000\"}, \"showarrow\": false}, {\"text\": \"0\", \"x\": 1, \"y\": \"Violon\", \"xref\": \"x1\", \"yref\": \"y1\", \"font\": {\"color\": \"#000000\"}, \"showarrow\": false}, {\"text\": \"28\", \"x\": 2, \"y\": \"Violon\", \"xref\": \"x1\", \"yref\": \"y1\", \"font\": {\"color\": \"#000000\"}, \"showarrow\": false}, {\"text\": \"6\", \"x\": 3, \"y\": \"Violon\", \"xref\": \"x1\", \"yref\": \"y1\", \"font\": {\"color\": \"#000000\"}, \"showarrow\": false}, {\"text\": \"8\", \"x\": 4, \"y\": \"Violon\", \"xref\": \"x1\", \"yref\": \"y1\", \"font\": {\"color\": \"#000000\"}, \"showarrow\": false}, {\"text\": \"28\", \"x\": 5, \"y\": \"Violon\", \"xref\": \"x1\", \"yref\": \"y1\", \"font\": {\"color\": \"#000000\"}, \"showarrow\": false}, {\"text\": \"0\", \"x\": 6, \"y\": \"Violon\", \"xref\": \"x1\", \"yref\": \"y1\", \"font\": {\"color\": \"#000000\"}, \"showarrow\": false}, {\"text\": \"0\", \"x\": 7, \"y\": \"Violon\", \"xref\": \"x1\", \"yref\": \"y1\", \"font\": {\"color\": \"#000000\"}, \"showarrow\": false}, {\"text\": \"5\", \"x\": 8, \"y\": \"Violon\", \"xref\": \"x1\", \"yref\": \"y1\", \"font\": {\"color\": \"#000000\"}, \"showarrow\": false}, {\"text\": \"8\", \"x\": 9, \"y\": \"Violon\", \"xref\": \"x1\", \"yref\": \"y1\", \"font\": {\"color\": \"#000000\"}, \"showarrow\": false}, {\"text\": \"13\", \"x\": 10, \"y\": \"Violon\", \"xref\": \"x1\", \"yref\": \"y1\", \"font\": {\"color\": \"#000000\"}, \"showarrow\": false}, {\"text\": \"0\", \"x\": 11, \"y\": \"Violon\", \"xref\": \"x1\", \"yref\": \"y1\", \"font\": {\"color\": \"#000000\"}, \"showarrow\": false}, {\"text\": \"0\", \"x\": 12, \"y\": \"Violon\", \"xref\": \"x1\", \"yref\": \"y1\", \"font\": {\"color\": \"#000000\"}, \"showarrow\": false}, {\"text\": \"0\", \"x\": 13, \"y\": \"Violon\", \"xref\": \"x1\", \"yref\": \"y1\", \"font\": {\"color\": \"#000000\"}, \"showarrow\": false}, {\"text\": \"0\", \"x\": 14, \"y\": \"Violon\", \"xref\": \"x1\", \"yref\": \"y1\", \"font\": {\"color\": \"#000000\"}, \"showarrow\": false}, {\"text\": \"0\", \"x\": 15, \"y\": \"Violon\", \"xref\": \"x1\", \"yref\": \"y1\", \"font\": {\"color\": \"#000000\"}, \"showarrow\": false}, {\"text\": \"4\", \"x\": 0, \"y\": \"Yoann_2015\", \"xref\": \"x1\", \"yref\": \"y1\", \"font\": {\"color\": \"#000000\"}, \"showarrow\": false}, {\"text\": \"13\", \"x\": 1, \"y\": \"Yoann_2015\", \"xref\": \"x1\", \"yref\": \"y1\", \"font\": {\"color\": \"#000000\"}, \"showarrow\": false}, {\"text\": \"23\", \"x\": 2, \"y\": \"Yoann_2015\", \"xref\": \"x1\", \"yref\": \"y1\", \"font\": {\"color\": \"#000000\"}, \"showarrow\": false}, {\"text\": \"1\", \"x\": 3, \"y\": \"Yoann_2015\", \"xref\": \"x1\", \"yref\": \"y1\", \"font\": {\"color\": \"#000000\"}, \"showarrow\": false}, {\"text\": \"6\", \"x\": 4, \"y\": \"Yoann_2015\", \"xref\": \"x1\", \"yref\": \"y1\", \"font\": {\"color\": \"#000000\"}, \"showarrow\": false}, {\"text\": \"10\", \"x\": 5, \"y\": \"Yoann_2015\", \"xref\": \"x1\", \"yref\": \"y1\", \"font\": {\"color\": \"#000000\"}, \"showarrow\": false}, {\"text\": \"0\", \"x\": 6, \"y\": \"Yoann_2015\", \"xref\": \"x1\", \"yref\": \"y1\", \"font\": {\"color\": \"#000000\"}, \"showarrow\": false}, {\"text\": \"4\", \"x\": 7, \"y\": \"Yoann_2015\", \"xref\": \"x1\", \"yref\": \"y1\", \"font\": {\"color\": \"#000000\"}, \"showarrow\": false}, {\"text\": \"1\", \"x\": 8, \"y\": \"Yoann_2015\", \"xref\": \"x1\", \"yref\": \"y1\", \"font\": {\"color\": \"#000000\"}, \"showarrow\": false}, {\"text\": \"2\", \"x\": 9, \"y\": \"Yoann_2015\", \"xref\": \"x1\", \"yref\": \"y1\", \"font\": {\"color\": \"#000000\"}, \"showarrow\": false}, {\"text\": \"3\", \"x\": 10, \"y\": \"Yoann_2015\", \"xref\": \"x1\", \"yref\": \"y1\", \"font\": {\"color\": \"#000000\"}, \"showarrow\": false}, {\"text\": \"6\", \"x\": 11, \"y\": \"Yoann_2015\", \"xref\": \"x1\", \"yref\": \"y1\", \"font\": {\"color\": \"#000000\"}, \"showarrow\": false}, {\"text\": \"0\", \"x\": 12, \"y\": \"Yoann_2015\", \"xref\": \"x1\", \"yref\": \"y1\", \"font\": {\"color\": \"#000000\"}, \"showarrow\": false}, {\"text\": \"5\", \"x\": 13, \"y\": \"Yoann_2015\", \"xref\": \"x1\", \"yref\": \"y1\", \"font\": {\"color\": \"#000000\"}, \"showarrow\": false}, {\"text\": \"14\", \"x\": 14, \"y\": \"Yoann_2015\", \"xref\": \"x1\", \"yref\": \"y1\", \"font\": {\"color\": \"#000000\"}, \"showarrow\": false}, {\"text\": \"0\", \"x\": 15, \"y\": \"Yoann_2015\", \"xref\": \"x1\", \"yref\": \"y1\", \"font\": {\"color\": \"#000000\"}, \"showarrow\": false}, {\"text\": \"4\", \"x\": 0, \"y\": \"Landry2013\", \"xref\": \"x1\", \"yref\": \"y1\", \"font\": {\"color\": \"#000000\"}, \"showarrow\": false}, {\"text\": \"12\", \"x\": 1, \"y\": \"Landry2013\", \"xref\": \"x1\", \"yref\": \"y1\", \"font\": {\"color\": \"#000000\"}, \"showarrow\": false}, {\"text\": \"21\", \"x\": 2, \"y\": \"Landry2013\", \"xref\": \"x1\", \"yref\": \"y1\", \"font\": {\"color\": \"#000000\"}, \"showarrow\": false}, {\"text\": \"8\", \"x\": 3, \"y\": \"Landry2013\", \"xref\": \"x1\", \"yref\": \"y1\", \"font\": {\"color\": \"#000000\"}, \"showarrow\": false}, {\"text\": \"7\", \"x\": 4, \"y\": \"Landry2013\", \"xref\": \"x1\", \"yref\": \"y1\", \"font\": {\"color\": \"#000000\"}, \"showarrow\": false}, {\"text\": \"9\", \"x\": 5, \"y\": \"Landry2013\", \"xref\": \"x1\", \"yref\": \"y1\", \"font\": {\"color\": \"#000000\"}, \"showarrow\": false}, {\"text\": \"6\", \"x\": 6, \"y\": \"Landry2013\", \"xref\": \"x1\", \"yref\": \"y1\", \"font\": {\"color\": \"#000000\"}, \"showarrow\": false}, {\"text\": \"9\", \"x\": 7, \"y\": \"Landry2013\", \"xref\": \"x1\", \"yref\": \"y1\", \"font\": {\"color\": \"#000000\"}, \"showarrow\": false}, {\"text\": \"0\", \"x\": 8, \"y\": \"Landry2013\", \"xref\": \"x1\", \"yref\": \"y1\", \"font\": {\"color\": \"#000000\"}, \"showarrow\": false}, {\"text\": \"0\", \"x\": 9, \"y\": \"Landry2013\", \"xref\": \"x1\", \"yref\": \"y1\", \"font\": {\"color\": \"#000000\"}, \"showarrow\": false}, {\"text\": \"0\", \"x\": 10, \"y\": \"Landry2013\", \"xref\": \"x1\", \"yref\": \"y1\", \"font\": {\"color\": \"#000000\"}, \"showarrow\": false}, {\"text\": \"0\", \"x\": 11, \"y\": \"Landry2013\", \"xref\": \"x1\", \"yref\": \"y1\", \"font\": {\"color\": \"#000000\"}, \"showarrow\": false}, {\"text\": \"0\", \"x\": 12, \"y\": \"Landry2013\", \"xref\": \"x1\", \"yref\": \"y1\", \"font\": {\"color\": \"#000000\"}, \"showarrow\": false}, {\"text\": \"0\", \"x\": 13, \"y\": \"Landry2013\", \"xref\": \"x1\", \"yref\": \"y1\", \"font\": {\"color\": \"#000000\"}, \"showarrow\": false}, {\"text\": \"19\", \"x\": 14, \"y\": \"Landry2013\", \"xref\": \"x1\", \"yref\": \"y1\", \"font\": {\"color\": \"#000000\"}, \"showarrow\": false}, {\"text\": \"0\", \"x\": 15, \"y\": \"Landry2013\", \"xref\": \"x1\", \"yref\": \"y1\", \"font\": {\"color\": \"#000000\"}, \"showarrow\": false}, {\"text\": \"6\", \"x\": 0, \"y\": \"Landry2012\", \"xref\": \"x1\", \"yref\": \"y1\", \"font\": {\"color\": \"#000000\"}, \"showarrow\": false}, {\"text\": \"16\", \"x\": 1, \"y\": \"Landry2012\", \"xref\": \"x1\", \"yref\": \"y1\", \"font\": {\"color\": \"#000000\"}, \"showarrow\": false}, {\"text\": \"12\", \"x\": 2, \"y\": \"Landry2012\", \"xref\": \"x1\", \"yref\": \"y1\", \"font\": {\"color\": \"#000000\"}, \"showarrow\": false}, {\"text\": \"16\", \"x\": 3, \"y\": \"Landry2012\", \"xref\": \"x1\", \"yref\": \"y1\", \"font\": {\"color\": \"#000000\"}, \"showarrow\": false}, {\"text\": \"8\", \"x\": 4, \"y\": \"Landry2012\", \"xref\": \"x1\", \"yref\": \"y1\", \"font\": {\"color\": \"#000000\"}, \"showarrow\": false}, {\"text\": \"21\", \"x\": 5, \"y\": \"Landry2012\", \"xref\": \"x1\", \"yref\": \"y1\", \"font\": {\"color\": \"#000000\"}, \"showarrow\": false}, {\"text\": \"4\", \"x\": 6, \"y\": \"Landry2012\", \"xref\": \"x1\", \"yref\": \"y1\", \"font\": {\"color\": \"#000000\"}, \"showarrow\": false}, {\"text\": \"12\", \"x\": 7, \"y\": \"Landry2012\", \"xref\": \"x1\", \"yref\": \"y1\", \"font\": {\"color\": \"#000000\"}, \"showarrow\": false}, {\"text\": \"0\", \"x\": 8, \"y\": \"Landry2012\", \"xref\": \"x1\", \"yref\": \"y1\", \"font\": {\"color\": \"#000000\"}, \"showarrow\": false}, {\"text\": \"0\", \"x\": 9, \"y\": \"Landry2012\", \"xref\": \"x1\", \"yref\": \"y1\", \"font\": {\"color\": \"#000000\"}, \"showarrow\": false}, {\"text\": \"0\", \"x\": 10, \"y\": \"Landry2012\", \"xref\": \"x1\", \"yref\": \"y1\", \"font\": {\"color\": \"#000000\"}, \"showarrow\": false}, {\"text\": \"0\", \"x\": 11, \"y\": \"Landry2012\", \"xref\": \"x1\", \"yref\": \"y1\", \"font\": {\"color\": \"#000000\"}, \"showarrow\": false}, {\"text\": \"0\", \"x\": 12, \"y\": \"Landry2012\", \"xref\": \"x1\", \"yref\": \"y1\", \"font\": {\"color\": \"#000000\"}, \"showarrow\": false}, {\"text\": \"0\", \"x\": 13, \"y\": \"Landry2012\", \"xref\": \"x1\", \"yref\": \"y1\", \"font\": {\"color\": \"#000000\"}, \"showarrow\": false}, {\"text\": \"0\", \"x\": 14, \"y\": \"Landry2012\", \"xref\": \"x1\", \"yref\": \"y1\", \"font\": {\"color\": \"#000000\"}, \"showarrow\": false}, {\"text\": \"0\", \"x\": 15, \"y\": \"Landry2012\", \"xref\": \"x1\", \"yref\": \"y1\", \"font\": {\"color\": \"#000000\"}, \"showarrow\": false}, {\"text\": \"8\", \"x\": 0, \"y\": \"Tennis\", \"xref\": \"x1\", \"yref\": \"y1\", \"font\": {\"color\": \"#000000\"}, \"showarrow\": false}, {\"text\": \"0\", \"x\": 1, \"y\": \"Tennis\", \"xref\": \"x1\", \"yref\": \"y1\", \"font\": {\"color\": \"#000000\"}, \"showarrow\": false}, {\"text\": \"17\", \"x\": 2, \"y\": \"Tennis\", \"xref\": \"x1\", \"yref\": \"y1\", \"font\": {\"color\": \"#000000\"}, \"showarrow\": false}, {\"text\": \"18\", \"x\": 3, \"y\": \"Tennis\", \"xref\": \"x1\", \"yref\": \"y1\", \"font\": {\"color\": \"#000000\"}, \"showarrow\": false}, {\"text\": \"5\", \"x\": 4, \"y\": \"Tennis\", \"xref\": \"x1\", \"yref\": \"y1\", \"font\": {\"color\": \"#000000\"}, \"showarrow\": false}, {\"text\": \"10\", \"x\": 5, \"y\": \"Tennis\", \"xref\": \"x1\", \"yref\": \"y1\", \"font\": {\"color\": \"#000000\"}, \"showarrow\": false}, {\"text\": \"6\", \"x\": 6, \"y\": \"Tennis\", \"xref\": \"x1\", \"yref\": \"y1\", \"font\": {\"color\": \"#000000\"}, \"showarrow\": false}, {\"text\": \"0\", \"x\": 7, \"y\": \"Tennis\", \"xref\": \"x1\", \"yref\": \"y1\", \"font\": {\"color\": \"#000000\"}, \"showarrow\": false}, {\"text\": \"3\", \"x\": 8, \"y\": \"Tennis\", \"xref\": \"x1\", \"yref\": \"y1\", \"font\": {\"color\": \"#000000\"}, \"showarrow\": false}, {\"text\": \"3\", \"x\": 9, \"y\": \"Tennis\", \"xref\": \"x1\", \"yref\": \"y1\", \"font\": {\"color\": \"#000000\"}, \"showarrow\": false}, {\"text\": \"8\", \"x\": 10, \"y\": \"Tennis\", \"xref\": \"x1\", \"yref\": \"y1\", \"font\": {\"color\": \"#000000\"}, \"showarrow\": false}, {\"text\": \"0\", \"x\": 11, \"y\": \"Tennis\", \"xref\": \"x1\", \"yref\": \"y1\", \"font\": {\"color\": \"#000000\"}, \"showarrow\": false}, {\"text\": \"0\", \"x\": 12, \"y\": \"Tennis\", \"xref\": \"x1\", \"yref\": \"y1\", \"font\": {\"color\": \"#000000\"}, \"showarrow\": false}, {\"text\": \"10\", \"x\": 13, \"y\": \"Tennis\", \"xref\": \"x1\", \"yref\": \"y1\", \"font\": {\"color\": \"#000000\"}, \"showarrow\": false}, {\"text\": \"0\", \"x\": 14, \"y\": \"Tennis\", \"xref\": \"x1\", \"yref\": \"y1\", \"font\": {\"color\": \"#000000\"}, \"showarrow\": false}, {\"text\": \"8\", \"x\": 15, \"y\": \"Tennis\", \"xref\": \"x1\", \"yref\": \"y1\", \"font\": {\"color\": \"#000000\"}, \"showarrow\": false}, {\"text\": \"7\", \"x\": 0, \"y\": \"Patrick_2013\", \"xref\": \"x1\", \"yref\": \"y1\", \"font\": {\"color\": \"#000000\"}, \"showarrow\": false}, {\"text\": \"10\", \"x\": 1, \"y\": \"Patrick_2013\", \"xref\": \"x1\", \"yref\": \"y1\", \"font\": {\"color\": \"#000000\"}, \"showarrow\": false}, {\"text\": \"18\", \"x\": 2, \"y\": \"Patrick_2013\", \"xref\": \"x1\", \"yref\": \"y1\", \"font\": {\"color\": \"#000000\"}, \"showarrow\": false}, {\"text\": \"5\", \"x\": 3, \"y\": \"Patrick_2013\", \"xref\": \"x1\", \"yref\": \"y1\", \"font\": {\"color\": \"#000000\"}, \"showarrow\": false}, {\"text\": \"9\", \"x\": 4, \"y\": \"Patrick_2013\", \"xref\": \"x1\", \"yref\": \"y1\", \"font\": {\"color\": \"#000000\"}, \"showarrow\": false}, {\"text\": \"6\", \"x\": 5, \"y\": \"Patrick_2013\", \"xref\": \"x1\", \"yref\": \"y1\", \"font\": {\"color\": \"#000000\"}, \"showarrow\": false}, {\"text\": \"5\", \"x\": 6, \"y\": \"Patrick_2013\", \"xref\": \"x1\", \"yref\": \"y1\", \"font\": {\"color\": \"#000000\"}, \"showarrow\": false}, {\"text\": \"6\", \"x\": 7, \"y\": \"Patrick_2013\", \"xref\": \"x1\", \"yref\": \"y1\", \"font\": {\"color\": \"#000000\"}, \"showarrow\": false}, {\"text\": \"2\", \"x\": 8, \"y\": \"Patrick_2013\", \"xref\": \"x1\", \"yref\": \"y1\", \"font\": {\"color\": \"#000000\"}, \"showarrow\": false}, {\"text\": \"1\", \"x\": 9, \"y\": \"Patrick_2013\", \"xref\": \"x1\", \"yref\": \"y1\", \"font\": {\"color\": \"#000000\"}, \"showarrow\": false}, {\"text\": \"5\", \"x\": 10, \"y\": \"Patrick_2013\", \"xref\": \"x1\", \"yref\": \"y1\", \"font\": {\"color\": \"#000000\"}, \"showarrow\": false}, {\"text\": \"4\", \"x\": 11, \"y\": \"Patrick_2013\", \"xref\": \"x1\", \"yref\": \"y1\", \"font\": {\"color\": \"#000000\"}, \"showarrow\": false}, {\"text\": \"1\", \"x\": 12, \"y\": \"Patrick_2013\", \"xref\": \"x1\", \"yref\": \"y1\", \"font\": {\"color\": \"#000000\"}, \"showarrow\": false}, {\"text\": \"5\", \"x\": 13, \"y\": \"Patrick_2013\", \"xref\": \"x1\", \"yref\": \"y1\", \"font\": {\"color\": \"#000000\"}, \"showarrow\": false}, {\"text\": \"9\", \"x\": 14, \"y\": \"Patrick_2013\", \"xref\": \"x1\", \"yref\": \"y1\", \"font\": {\"color\": \"#000000\"}, \"showarrow\": false}, {\"text\": \"0\", \"x\": 15, \"y\": \"Patrick_2013\", \"xref\": \"x1\", \"yref\": \"y1\", \"font\": {\"color\": \"#000000\"}, \"showarrow\": false}, {\"text\": \"12\", \"x\": 0, \"y\": \"Sylvain_2015\", \"xref\": \"x1\", \"yref\": \"y1\", \"font\": {\"color\": \"#000000\"}, \"showarrow\": false}, {\"text\": \"10\", \"x\": 1, \"y\": \"Sylvain_2015\", \"xref\": \"x1\", \"yref\": \"y1\", \"font\": {\"color\": \"#000000\"}, \"showarrow\": false}, {\"text\": \"14\", \"x\": 2, \"y\": \"Sylvain_2015\", \"xref\": \"x1\", \"yref\": \"y1\", \"font\": {\"color\": \"#000000\"}, \"showarrow\": false}, {\"text\": \"6\", \"x\": 3, \"y\": \"Sylvain_2015\", \"xref\": \"x1\", \"yref\": \"y1\", \"font\": {\"color\": \"#000000\"}, \"showarrow\": false}, {\"text\": \"1\", \"x\": 4, \"y\": \"Sylvain_2015\", \"xref\": \"x1\", \"yref\": \"y1\", \"font\": {\"color\": \"#000000\"}, \"showarrow\": false}, {\"text\": \"12\", \"x\": 5, \"y\": \"Sylvain_2015\", \"xref\": \"x1\", \"yref\": \"y1\", \"font\": {\"color\": \"#000000\"}, \"showarrow\": false}, {\"text\": \"2\", \"x\": 6, \"y\": \"Sylvain_2015\", \"xref\": \"x1\", \"yref\": \"y1\", \"font\": {\"color\": \"#000000\"}, \"showarrow\": false}, {\"text\": \"6\", \"x\": 7, \"y\": \"Sylvain_2015\", \"xref\": \"x1\", \"yref\": \"y1\", \"font\": {\"color\": \"#000000\"}, \"showarrow\": false}, {\"text\": \"3\", \"x\": 8, \"y\": \"Sylvain_2015\", \"xref\": \"x1\", \"yref\": \"y1\", \"font\": {\"color\": \"#000000\"}, \"showarrow\": false}, {\"text\": \"3\", \"x\": 9, \"y\": \"Sylvain_2015\", \"xref\": \"x1\", \"yref\": \"y1\", \"font\": {\"color\": \"#000000\"}, \"showarrow\": false}, {\"text\": \"8\", \"x\": 10, \"y\": \"Sylvain_2015\", \"xref\": \"x1\", \"yref\": \"y1\", \"font\": {\"color\": \"#000000\"}, \"showarrow\": false}, {\"text\": \"9\", \"x\": 11, \"y\": \"Sylvain_2015\", \"xref\": \"x1\", \"yref\": \"y1\", \"font\": {\"color\": \"#000000\"}, \"showarrow\": false}, {\"text\": \"2\", \"x\": 12, \"y\": \"Sylvain_2015\", \"xref\": \"x1\", \"yref\": \"y1\", \"font\": {\"color\": \"#000000\"}, \"showarrow\": false}, {\"text\": \"2\", \"x\": 13, \"y\": \"Sylvain_2015\", \"xref\": \"x1\", \"yref\": \"y1\", \"font\": {\"color\": \"#000000\"}, \"showarrow\": false}, {\"text\": \"6\", \"x\": 14, \"y\": \"Sylvain_2015\", \"xref\": \"x1\", \"yref\": \"y1\", \"font\": {\"color\": \"#000000\"}, \"showarrow\": false}, {\"text\": \"0\", \"x\": 15, \"y\": \"Sylvain_2015\", \"xref\": \"x1\", \"yref\": \"y1\", \"font\": {\"color\": \"#000000\"}, \"showarrow\": false}], \"xaxis\": {\"ticks\": \"\", \"dtick\": 1, \"side\": \"bottom\", \"gridcolor\": \"rgb(0, 0, 0)\", \"title\": \"Tests\"}, \"yaxis\": {\"ticks\": \"\", \"dtick\": 1, \"ticksuffix\": \"  \", \"title\": null, \"autorange\": \"reversed\"}, \"hovermode\": \"closest\", \"font\": {\"size\": 14}, \"title\": \"Max for each test (normalized by participant number)\", \"margin\": {\"t\": 80, \"b\": 80, \"l\": 150, \"r\": 80, \"pad\": 0}}, {\"showLink\": true, \"linkText\": \"Export to plot.ly\"})});</script>"
      ]
     },
     "metadata": {},
     "output_type": "display_data"
    }
   ],
   "source": [
    "max_by_test = plot_max_by_test(\n",
    "    df_normalized,\n",
    "    ylabel=DATASET_NAMES,\n",
    "    xtitle='Tests',\n",
    "    title='Max for each test (normalized by participant number)')\n",
    "\n",
    "py.iplot(max_by_test, filename='mvc/max_by_test')"
   ]
  },
  {
   "cell_type": "markdown",
   "metadata": {},
   "source": [
    "## 4.5. Distribution"
   ]
  },
  {
   "cell_type": "code",
   "execution_count": null,
   "metadata": {},
   "outputs": [],
   "source": [
    "data1 = go.Surface(z=df.values.tolist(), colorscale='Viridis')\n",
    "data2 = go.Heatmap(z=df.values.tolist())\n",
    "\n",
    "buttons = list([\n",
    "    dict(args=[data1], label='3D Surface', method='restyle'),\n",
    "    dict(args=[data2], label='Heatmap', method='restyle')\n",
    "])"
   ]
  },
  {
   "cell_type": "code",
   "execution_count": 27,
   "metadata": {},
   "outputs": [],
   "source": [
    "updatemenus = list([\n",
    "    dict(\n",
    "        buttons=list([\n",
    "            dict(args=['colorscale'], label='Haline', method='restyle'),\n",
    "            dict(args=['colorscale'], label='Turbid', method='restyle'),\n",
    "            dict(args=['colorscale'], label='Speed', method='restyle'),\n",
    "            dict(args=['colorscale'], label='Tempo', method='restyle'),\n",
    "            dict(args=['colorscale'], label='Gray', method='restyle'),\n",
    "            dict(args=['colorscale'], label='Phase', method='restyle'),\n",
    "            dict(args=['colorscale'], label='Balance', method='restyle'),\n",
    "            dict(args=['colorscale'], label='Delta', method='restyle'),\n",
    "            dict(args=['colorscale'], label='Curl', method='restyle'),\n",
    "        ]),\n",
    "        direction='down',\n",
    "        pad={'r': 10,\n",
    "             't': 10},\n",
    "        showactive=True,\n",
    "        x=0.1,\n",
    "        xanchor='left',\n",
    "        y=1.12,\n",
    "        yanchor='top'),\n",
    "    dict(\n",
    "        buttons=list([\n",
    "            dict(\n",
    "                args=['reversescale', True], label='Reverse',\n",
    "                method='restyle'),\n",
    "            dict(args=['reversescale', False], label='Undo', method='restyle')\n",
    "        ]),\n",
    "        direction='down',\n",
    "        pad={'r': 10,\n",
    "             't': 10},\n",
    "        showactive=True,\n",
    "        x=0.55,\n",
    "        xanchor='left',\n",
    "        y=1.12,\n",
    "        yanchor='top'),\n",
    "    dict(\n",
    "        buttons=list([\n",
    "            dict(\n",
    "                args=[{\n",
    "                    'contours.showlines': False,\n",
    "                    'type': 'contour'\n",
    "                }],\n",
    "                label='Hide lines',\n",
    "                method='restyle'),\n",
    "            dict(\n",
    "                args=[{\n",
    "                    'contours.showlines': True,\n",
    "                    'type': 'contour'\n",
    "                }],\n",
    "                label='Show lines',\n",
    "                method='restyle'),\n",
    "        ]),\n",
    "        direction='down',\n",
    "        pad={'r': 10,\n",
    "             't': 10},\n",
    "        showactive=True,\n",
    "        x=0.775,\n",
    "        xanchor='left',\n",
    "        y=1.12,\n",
    "        yanchor='top'),\n",
    "    dict(\n",
    "        buttons=list([\n",
    "            dict(\n",
    "                args=['type', 'surface'], label='3d Surface',\n",
    "                method='restyle'),\n",
    "            dict(args=['type', 'heatmap'], label='Heatmap', method='restyle'),\n",
    "            dict(args=['type', 'contour'], label='Contour', method='restyle')\n",
    "        ]),\n",
    "        direction='down',\n",
    "        pad={'r': 10,\n",
    "             't': 10},\n",
    "        showactive=True,\n",
    "        x=0.3,\n",
    "        xanchor='left',\n",
    "        y=1.12,\n",
    "        yanchor='top'),\n",
    "])"
   ]
  },
  {
   "cell_type": "code",
   "execution_count": null,
   "metadata": {},
   "outputs": [],
   "source": [
    "traces = []\n",
    "for imuscle in range(len(muscle_names)):\n",
    "    traces.append(\n",
    "        go.Box(\n",
    "            y=np.array(d[d['muscle'] == imuscle]['mvc']),\n",
    "            name=muscle_names[imuscle],\n",
    "            boxpoints='all',\n",
    "            jitter=0.5,\n",
    "            whiskerwidth=0.2,\n",
    "            marker=dict(size=2),\n",
    "            line=dict(width=1)))\n",
    "\n",
    "\n",
    "dropdown_type = dict(\n",
    "    buttons=list([\n",
    "        dict(args=[d_by_muscle], label='By muscle', method='restyle'),\n",
    "        dict(args=[d_by_test], label='By test', method='restyle')\n",
    "    ]),\n",
    "    direction='down',\n",
    "    pad={'r': 10,\n",
    "         't': 10},\n",
    "    showactive=True,\n",
    "    x=0.1,\n",
    "    xanchor='left',\n",
    "    y=1.12,\n",
    "    yanchor='top')\n",
    "\n",
    "\n",
    "\n",
    "updatemenus = [dropdown_type, ]"
   ]
  },
  {
   "cell_type": "code",
   "execution_count": 44,
   "metadata": {},
   "outputs": [],
   "source": [
    "def plot_mvc_boxplot(d, xlabel, by='muscle', **kwargs):\n",
    "    if 'subset' in kwargs:\n",
    "        subset = kwargs.get('subset')\n",
    "        if by == 'muscle':\n",
    "            d = d[d['test'] == subset]\n",
    "            print(f'test {subset} selected')\n",
    "        else:\n",
    "            d = d[d['muscle'] == subset]\n",
    "            print(f'muscle {subset} selected')\n",
    "\n",
    "    traces = []\n",
    "    for ilabel in range(len(xlabel)):\n",
    "        traces.append(\n",
    "            go.Box(\n",
    "                y=np.array(d[d[by] == ilabel]['mvc']),\n",
    "                name=xlabel[ilabel],\n",
    "                boxpoints='all',\n",
    "                jitter=0.5,\n",
    "                whiskerwidth=0.2,\n",
    "                marker=dict(size=2),\n",
    "                line=dict(width=1)))\n",
    "\n",
    "    layout = BASE_LAYOUT.copy()\n",
    "    layout.update(\n",
    "        dict(\n",
    "            title=kwargs.get('title'),\n",
    "            xaxis=dict(\n",
    "                title=kwargs.get('xtitle'), showline=True, linewidth=1.5),\n",
    "            yaxis=dict(\n",
    "                title=kwargs.get('ytitle'),\n",
    "                showline=True,\n",
    "                linewidth=1.5,\n",
    "                zeroline=False)))\n",
    "\n",
    "    return dict(data=traces, layout=layout)"
   ]
  },
  {
   "cell_type": "code",
   "execution_count": 53,
   "metadata": {},
   "outputs": [
    {
     "name": "stdout",
     "output_type": "stream",
     "text": [
      "test 2 selected\n"
     ]
    },
    {
     "data": {
      "application/vnd.plotly.v1+json": {
       "data": [
        {
         "boxpoints": "all",
         "jitter": 0.5,
         "line": {
          "width": 1
         },
         "marker": {
          "size": 2
         },
         "name": "upper trapezius",
         "type": "box",
         "whiskerwidth": 0.2,
         "y": [
          78.80394037787006,
          65.22529060498401,
          75.42623324437506,
          51.65575572721099,
          66.86552975290134,
          64.33973739667958,
          100,
          70.43225997352714,
          94.14655123668197,
          36.89372138317593,
          77.7496075501093,
          82.50873219278996,
          100,
          60.1689957892464,
          72.7205165247764,
          75.50630626966795,
          30.74249803215964,
          100.00000000000001,
          28.77336421499812,
          89.44215711073576,
          100,
          78.99092300425562,
          71.35330206374802,
          85.08324775399305,
          90.47698184513091,
          91.06831948314161,
          33.08123054830565,
          33.424445612784915,
          42.70943243799559,
          78.18580258530531,
          45.61163991992449,
          79.36132180201187,
          44.33183978604792,
          58.10060702614036,
          19.80471696159091,
          47.521778730956555,
          81.56524516554667,
          29.229461083831048,
          48.635299159960866,
          28.064311321705343,
          43.45502243245589,
          93.717446876235,
          71.66290984843685,
          76.50957425923713,
          59.09849844755025,
          100,
          76.37728639438728,
          51.102419010857446,
          100,
          100,
          47.635626678333594,
          80.25421190772641,
          29.79405491276569,
          35.254483136162264,
          60.50561536552568,
          78.17871597599175,
          81.58804788872163,
          64.37826266980122,
          82.60524992450483,
          95.35273022812447,
          80.36091620557514,
          64.14035015900545,
          100,
          86.58825601851066,
          86.54330086138967,
          100,
          95.20923052802372,
          100,
          34.27311303243509,
          81.00898583442287,
          51.26737897764957,
          100,
          97.4796982116393,
          66.76940152907463,
          92.8783094407557,
          95.5300816065766,
          100,
          74.87118518028564,
          89.4568078136449,
          69.73566672784392,
          72.41081177323278,
          81.33084812540696,
          77.04124489558453,
          57.29169387807422,
          76.58433180405589,
          99.47086232148901,
          69.33947743385687,
          100,
          90.26071453637293,
          92.15354618842032,
          77.7080951137975,
          63.7393746912337,
          98.7790597334747,
          71.38276327753664,
          99.99999999999999,
          100,
          100,
          72.54896072169605,
          86.20653950315477,
          83.92297060391627,
          81.47580878391182,
          81.55125454885304,
          100,
          62.73929267565021,
          100,
          78.83523155525344,
          65.3749192139082,
          54.48845969268993,
          42.24978891201441,
          57.276700837390024,
          94.99153655389571,
          79.19461758628759,
          39.598289203510745,
          81.6942441627223,
          100,
          100,
          100,
          100,
          91.8288548379283,
          57.68514309288246,
          51.77430946350845,
          100,
          51.03185660457989,
          45.861440381652876,
          49.21622675179376,
          100,
          81.77151528688485,
          71.59765253357288,
          92.04802931632464,
          54.217295287952865,
          84.93491693498811,
          89.21230881793207,
          60.05833658425539,
          84.91765613338514,
          70.95081704605995,
          54.74660575058726,
          52.476508099203635,
          67.67529570414452,
          2.5435832361839887,
          70.04645285853445,
          43.45530834525046,
          39.58857336784839,
          97.3915020227643
         ]
        },
        {
         "boxpoints": "all",
         "jitter": 0.5,
         "line": {
          "width": 1
         },
         "marker": {
          "size": 2
         },
         "name": "middle trapezius",
         "type": "box",
         "whiskerwidth": 0.2,
         "y": [
          100,
          73.29585686091112,
          100,
          56.9366855739166,
          73.83372360119452,
          94.54017781014775,
          34.71011633676628,
          93.66214463186319,
          65.34496819509866,
          76.96363113232341,
          100,
          42.90155070642766,
          100,
          100,
          92.04158940691667,
          93.16445368195987,
          100.00000000000001,
          100,
          100,
          100,
          9.535186630031053,
          59.11916206255228,
          94.52020778579806,
          35.74324231205796,
          39.51054133906843,
          100,
          94.90658922090833,
          100,
          32.04902477454995,
          100,
          100,
          95.23593206967561,
          100,
          77.92599125386405,
          69.48167348578616,
          86.87276667634507,
          81.9550333724061,
          100,
          92.9877427957888,
          99.99999999999999,
          89.88386741416636,
          45.6259616491402,
          47.54892654686291,
          96.50770053844691,
          89.88993979542803,
          97.32434907671583,
          38.962738849625694,
          87.25676408161014,
          94.94413426228799,
          80.80141318486436,
          93.23110956750857,
          89.72923591734558,
          100.00000000000001,
          79.42279090923601,
          74.01906374517786,
          77.31127195142987,
          91.20458500276106,
          81.36677700973004,
          68.00751018986922,
          86.32639698119458,
          89.7934081574078,
          100,
          69.77987488479802,
          100,
          99.99999999999999,
          96.801055579367,
          72.71075624965178,
          85.21705497123209,
          59.240862746584504,
          100,
          97.52471160465852,
          79.40112424011201,
          80.43446244025192,
          71.52556689168355,
          58.67899237479102,
          81.80654103382554,
          43.493054051083604,
          94.86159173779069,
          66.9401113101832,
          68.69424090746003,
          91.12922890413907,
          83.91210037916596,
          10.261175123006332,
          83.59168716736828,
          87.43568802379983,
          93.36095848178216,
          95.3327847057018
         ]
        },
        {
         "boxpoints": "all",
         "jitter": 0.5,
         "line": {
          "width": 1
         },
         "marker": {
          "size": 2
         },
         "name": "lower trapezius",
         "type": "box",
         "whiskerwidth": 0.2,
         "y": [
          60.79637918705912,
          86.48106662065034,
          100,
          99.99999999999999,
          100,
          91.5043235851279,
          100,
          100,
          100,
          100,
          99.99999999999999,
          100,
          100,
          100,
          85.42522837238018,
          100,
          99.99999999999999,
          100,
          100,
          100,
          100,
          73.97928568159769,
          100,
          74.61969317876294,
          100,
          100,
          54.12036552636346,
          100,
          100,
          93.6562746146392,
          100,
          100,
          100,
          100,
          100.00000000000001,
          100,
          100,
          100,
          100,
          100,
          100,
          77.32584955052404,
          100,
          24.266716962241237,
          100,
          81.32296478852888,
          72.82235697533811,
          74.68552259643509,
          62.67193592346355,
          100,
          100,
          81.30935512420075,
          74.16432651241635,
          58.13470182857217,
          57.822961771247826,
          99.99999999999999,
          100,
          97.80855872469661,
          72.45916260017776,
          100,
          65.03322212847522,
          100,
          59.46151623607279,
          100,
          49.37807014707082,
          82.30845243941405,
          97.43396843757053,
          67.64397077777254,
          80.00135386175198,
          100,
          83.94682517496041,
          91.83904372382493,
          100,
          17.238844562495107,
          38.0826609253013,
          50.096357761065285,
          100,
          100,
          100,
          100,
          100,
          100,
          100,
          100.00000000000001,
          100,
          74.47879109941084,
          81.20347250953613,
          100,
          100.00000000000001,
          100,
          100,
          71.72050665631399,
          100,
          100,
          81.82246458229756,
          97.68312855241601,
          94.06149513064977,
          100,
          89.89646506276678,
          93.80273701305589,
          92.22176686747264,
          84.67940257970143,
          100,
          95.4026199715732,
          100,
          77.8012804233413,
          100,
          100.00000000000001,
          100.00000000000001,
          100,
          99.99999999999999,
          21.406900883749437,
          100,
          100,
          92.20631163683173,
          85.89735405680938,
          100,
          100,
          66.01799321093921,
          60.87820607119631,
          100,
          84.84013960170508,
          100,
          100,
          100,
          82.2336710913744,
          100,
          48.8573408544252,
          99.19809301224916,
          71.30270028982498,
          100,
          45.56276373073265,
          99.75004899272352,
          88.50054595518769,
          55.93940197105858,
          100,
          100,
          100,
          100,
          22.06271789486298,
          100,
          100,
          100,
          100,
          99.00126108523186,
          41.693858182503796,
          45.943250560108176,
          35.903668845534966,
          46.73973368714254,
          42.53275688436573,
          64.77447732830912,
          92.64809403494037,
          100
         ]
        },
        {
         "boxpoints": "all",
         "jitter": 0.5,
         "line": {
          "width": 1
         },
         "marker": {
          "size": 2
         },
         "name": "anterior deltoid",
         "type": "box",
         "whiskerwidth": 0.2,
         "y": [
          28.87814234867026,
          11.665254190324566,
          46.922752632192775,
          56.197794834293006,
          47.30115660461544,
          100.00000000000001,
          28.102035203568434,
          23.588535866247927,
          46.433429009387524,
          40.779111459075445,
          31.310705797727632,
          71.75860725234706,
          52.64518374131882,
          85.49363592382254,
          63.92662857821459,
          38.6397767095182,
          54.248774433424806,
          73.42607778168914,
          21.721981892807314,
          57.45402069556071,
          75.79662475968775,
          27.4922319274402,
          80.11202192415364,
          21.04641195603119,
          87.7019114351463,
          57.50485344997455,
          14.30142003659632,
          51.75053075261781,
          69.37241873723933,
          10.079038158226089,
          27.82693786628597,
          91.11364126150939,
          47.68800781458934,
          14.37612929038963,
          40.22976153568095,
          40.11503377586059,
          74.9011988868608,
          58.73358100178599,
          9.80571728750783,
          56.11492505567707,
          49.838482935094646,
          87.08130101804196,
          78.05203266189343,
          100,
          86.14733886109889,
          45.58562641854686,
          100,
          53.56858422350652,
          100,
          96.1503146585906,
          14.389932691747822,
          47.38487668332696,
          97.49193315436973,
          46.5040902669597,
          37.73820358214162,
          34.119574018780085,
          100,
          84.18187481816824,
          86.23365881142882,
          53.235612901019174,
          100,
          56.3281852135914,
          22.74580560585469,
          44.40097679677723,
          100,
          11.744208087220576,
          65.52118321397217,
          22.635641731970985,
          25.614336922336005,
          79.86899534730155,
          75.22314905926932,
          39.00587127702339,
          30.582171210645967,
          59.95131384108707,
          92.48698510297065,
          100,
          68.41296433500075,
          77.32843368397094,
          81.21721203317158,
          59.43165961445514,
          100,
          57.16196784101979,
          98.32037913921008,
          100,
          96.55274653452625,
          50.29265742235712,
          55.03441060692105,
          87.8220910924712,
          100,
          21.627359893657967,
          12.409805728314026,
          22.43566925760565,
          14.769526978002878,
          46.044259635507856,
          17.623516089365875,
          7.924869811371867,
          16.280831796247373,
          10.09852680843293,
          38.70118094862524,
          46.328220848053654,
          47.55551786545522,
          19.194562018249055,
          49.98019954176037,
          12.711009138105563,
          15.074821384350322,
          34.52855673448734,
          61.895860725813584,
          23.216734150364783,
          4.605375668063067,
          40.87621825468404,
          59.36138920888953,
          57.10143409778968,
          81.08537176928107,
          65.4110652744928,
          50.92316339479139,
          32.56812115342692,
          68.71114497879698,
          57.99781392031472,
          66.50711694841887,
          12.651789733128338,
          11.2768430169644
         ]
        },
        {
         "boxpoints": "all",
         "jitter": 0.5,
         "line": {
          "width": 1
         },
         "marker": {
          "size": 2
         },
         "name": "middle deltoid",
         "type": "box",
         "whiskerwidth": 0.2,
         "y": [
          100,
          80.74524133051142,
          75.96444325437425,
          91.98909786456994,
          63.94213014499078,
          92.93885477532307,
          100,
          54.19570550106946,
          96.22990880946897,
          82.52090378129378,
          100,
          83.89035468185617,
          99.6090368366891,
          100,
          85.60036939571476,
          91.99268157222387,
          20.137079902120004,
          100,
          49.52211948552381,
          76.11361281890619,
          85.44369948826474,
          80.30375337276557,
          45.42498168849361,
          16.027141393129664,
          98.2030152189083,
          61.4502877469219,
          62.661607734694456,
          33.264791298605665,
          63.634532642538865,
          60.67594817042132,
          100,
          44.183511622414585,
          90.10187525965276,
          94.15040675393745,
          10.155917031142957,
          65.44538140098538,
          57.13840300292653,
          66.40253514142447,
          84.4346740826904,
          72.76985517264644,
          63.84943022778975,
          80.68721684077715,
          100,
          99.99999999999999,
          93.68705042218544,
          74.21380163450964,
          99.29229167668919,
          62.25933639306819,
          100,
          100,
          96.94170161687985,
          100,
          93.08901752469777,
          98.26597210920431,
          92.58934046245051,
          100,
          100,
          100,
          100,
          95.85955016999931,
          69.41137238956975,
          90.1664720250146,
          83.09950808193734,
          75.41446208879732,
          100,
          100,
          100,
          74.1254103866881,
          100,
          100,
          83.6483050860393,
          100,
          100,
          81.76079648517754,
          66.5319622398499,
          84.91359042310172,
          76.78536035751893,
          86.66217811494242,
          100,
          86.28773831269199,
          91.52014317264975,
          84.56282553547491,
          88.40376580388057,
          74.12408484004948,
          98.63273958870238,
          99.57882102749319,
          83.64777083781121,
          76.8391190714559,
          100,
          83.66320085535345,
          96.87182928901788,
          83.60736940450451,
          56.67617587918283,
          100,
          77.53987816177283,
          97.14296053722819,
          75.22190766974984,
          91.384934435302,
          98.22670364906948,
          94.15839140027852,
          88.04401861257281,
          83.73821547676724,
          96.38168922603327,
          74.96011315542518,
          99.99999999999999,
          69.62060577195827,
          99.99999999999999,
          72.74752917776203,
          76.54406399053433,
          100,
          100,
          71.7276631464829,
          100,
          67.75916421884095,
          89.70713076713857,
          89.40808418531918,
          67.49434903039064,
          100,
          92.13277598028289,
          84.13845531168955,
          73.85320980387344,
          90.17759444958826,
          100,
          100,
          100,
          91.66203595230255,
          100,
          100,
          98.3659975723129,
          68.71142432187199,
          41.33728561739055,
          100,
          100,
          97.55334420675344,
          53.08639094703745,
          93.18951380803452,
          70.62494312552596,
          100.00000000000001,
          57.63115541569644,
          72.38571440920958,
          79.66089806954622,
          100.00000000000001,
          68.66903383870455,
          100,
          88.20309403585898,
          53.60207102250971,
          50.61116117456391,
          100,
          100,
          89.74448456113845,
          71.29700022096038,
          98.5220347392297,
          90.82332005624393
         ]
        },
        {
         "boxpoints": "all",
         "jitter": 0.5,
         "line": {
          "width": 1
         },
         "marker": {
          "size": 2
         },
         "name": "posterior deltoid",
         "type": "box",
         "whiskerwidth": 0.2,
         "y": [
          87.9007044145249,
          86.59726998279416,
          59.10141094489397,
          44.13589279203423,
          100,
          100,
          70.1824972310117,
          96.23281950766712,
          63.65203307460183,
          70.91452809867178,
          95.38933982386168,
          61.239399707446715,
          100,
          57.447138428158695,
          100,
          60.84059848337181,
          10.516356660406526,
          84.24130220721614,
          55.2340679679295,
          73.01172935259783,
          40.66623942593691,
          63.3415113955489,
          48.08235557289074,
          48.90331836664392,
          55.41400200680443,
          90.83701578279886,
          87.53546250725768,
          22.38596276284788,
          56.28318971067769,
          100,
          100,
          11.118913394770958,
          91.48482174462939,
          99.99999999999999,
          15.557006559730032,
          52.85980365292775,
          18.597786587197593,
          42.14479522754588,
          100,
          38.21729828387956,
          100,
          61.878167580928384,
          100,
          42.55925087752406,
          55.75256208040286,
          73.22762173484143,
          100,
          41.5401574944237,
          60.97644151034915,
          61.87669666582581,
          88.89400753233332,
          77.92708920837542,
          80.97423535412776,
          58.34546340749492,
          58.920842952463396,
          53.48617967541516,
          70.6672012664503,
          23.895820707709017,
          68.19368721094767,
          89.45385519275389,
          74.83673656332225,
          75.85759161732895,
          48.592835769800146,
          66.30210138479255,
          78.29285389001016,
          78.78474226297244,
          89.79607396992441,
          47.58730363318478,
          52.26533578857357,
          65.72197897682338,
          59.75860268555847,
          42.783750332722654,
          100,
          35.650071835090316,
          33.786497522478314,
          58.59976951404992,
          73.79893642779786,
          43.541446609550285,
          27.627359798406484,
          31.248754358764984,
          45.33672625736638,
          54.435316100971896,
          68.22924016174007,
          43.178080281214775,
          43.790314044738224,
          49.700728981201316,
          53.47650565430996,
          98.63923583449831,
          56.695896032679435,
          76.03355459738724,
          71.45103865243361,
          15.419846451438383,
          60.88128306424159,
          88.31845874523081,
          66.53580632843449,
          79.37501119282875,
          74.79817166793268,
          40.938343947955794,
          51.539053265368146,
          21.360830402375257,
          49.71205407328862,
          23.341785416499814,
          35.29412702180037,
          44.46885938867845,
          10.538612753755624,
          16.772136069820103,
          37.39165942165452,
          16.762488496433598,
          57.90475613234929,
          43.84068847038825,
          19.743986957309524,
          100,
          51.5511027587037,
          100,
          100,
          72.69562133333977,
          81.03954790253121,
          100,
          76.42104216910329,
          99.99999999999999,
          96.99061669261579,
          71.72182796625046,
          3.7748285298842084,
          74.98332788032803,
          80.04632298730402,
          82.86200490225922,
          79.8559255078513,
          96.80952609271016,
          68.0167076212686,
          75.51508924661111,
          55.898188462277155,
          67.42421454267306,
          30.11023320586154,
          78.88154374125996,
          31.801487199251376,
          26.683479379612237,
          50.759506177166024,
          75.5295234081953,
          33.758293293378564,
          39.77148511902706,
          47.49174867239901,
          58.689107557059266,
          42.75770435701205,
          83.86812136390594,
          88.26944292878353,
          87.20442010134019,
          100,
          100,
          100,
          80.03809731618531,
          93.09080543690276,
          80.39280249122105,
          72.85234618975846
         ]
        },
        {
         "boxpoints": "all",
         "jitter": 0.5,
         "line": {
          "width": 1
         },
         "marker": {
          "size": 2
         },
         "name": "pectoralis major",
         "type": "box",
         "whiskerwidth": 0.2,
         "y": [
          3.1944548016381566,
          6.803470977546265,
          24.86750319653246,
          9.926570311464653,
          12.719119216633167,
          4.541646628040909,
          10.992506914613468,
          3.6820300080507717,
          7.737542702850183,
          9.910763533802458,
          10.634903960502076,
          26.836655357986547,
          9.993482084358643,
          10.610181853749456,
          10.022259621796351,
          3.5188941886185545,
          8.414350848000588,
          3.3962156139535638,
          5.793400775744969,
          7.530214934580381,
          1.3532205933462353,
          5.1510722222698755,
          4.941300740317327,
          2.61326824791339,
          4.556901132645752,
          6.6880515539933345,
          16.130787345506384,
          13.688180816280337,
          11.747817439782414,
          3.9012344828277294,
          5.696894488531319,
          5.76661921746731,
          2.781380465722979,
          5.301734394476597,
          6.191528145598442,
          5.6302338778127945,
          18.869534679299083,
          11.851167371473132,
          5.345563503857973,
          19.767497109713837,
          10.05911713035799,
          6.485252831484129,
          14.666928905281976,
          6.458719468211505,
          12.452371292801105,
          66.9608171652262,
          5.372368928902059,
          10.53100663874765,
          15.782738760247508,
          3.0657075601897015,
          19.012737170954,
          5.614887185485023,
          5.141328795987948,
          18.978005048271644,
          14.906610729394608,
          2.707890883155817,
          2.4035470720563783,
          3.7324128197325424,
          18.013243769049353,
          12.763445011526684,
          3.7422868633216058,
          2.08561577668571,
          16.39040259981312,
          6.319182037398528,
          9.60504443484451,
          4.219117799110276,
          3.3400126936303147,
          34.46604651341183,
          63.60657913843846,
          5.573415161447757,
          4.096461667406332,
          15.706471298278096,
          16.61230167553791,
          3.7979581712579242,
          2.9813377172254976,
          8.405573139633459,
          5.331989194190454,
          6.402076856464618,
          13.446305258770545,
          2.3471707835888913,
          2.296740563073653,
          0.8397416524785787,
          3.780155451720822,
          6.402794700070598,
          2.8112562021895213,
          7.265216862148749,
          4.549328316357748,
          3.5579905259312876,
          6.016609970578036,
          5.388661907579727,
          4.334193654104132,
          100,
          8.277872290805274,
          7.410496513900545,
          4.0301626022459365,
          3.800998246815879,
          4.258906866891605,
          7.125085144231241,
          3.3556464464431026,
          45.94964152621611,
          9.162979394931472,
          3.7551621646362014,
          8.717286636991693,
          4.007401332058522,
          13.37939775394618,
          13.963048477637853,
          16.085251961071496,
          2.9351579249819117,
          6.071079766498309,
          7.53644738445121,
          83.50046663620748,
          6.570309042378394,
          18.32475017924344,
          6.024927258654429,
          1.689444894795865
         ]
        },
        {
         "boxpoints": "all",
         "jitter": 0.5,
         "line": {
          "width": 1
         },
         "marker": {
          "size": 2
         },
         "name": "serratus anterior",
         "type": "box",
         "whiskerwidth": 0.2,
         "y": [
          44.13528978766298,
          3.618407562906127,
          63.8389556915937,
          90.99184829333213,
          77.58208659882247,
          48.898744112078695,
          35.3062531350449,
          60.15225075897709,
          100,
          87.25074867459244,
          44.90091005959193,
          44.40409456855567,
          79.49530559794583,
          100,
          26.754790210279236,
          67.33215489889733,
          46.78027858373532,
          79.32270014667299,
          7.425287269926417,
          100,
          82.48624081662847,
          80.4767292981018,
          72.07283710308818,
          9.495923325696149,
          100,
          25.406350562704727,
          43.83508360851719,
          8.611436123142596,
          69.52170825506609,
          24.4086938931061,
          59.37020210420533,
          85.18816981639976,
          57.48258292580207,
          25.22869286699591,
          45.97541932059753,
          16.136878089882714,
          77.37443891137661,
          100,
          17.857420419167294,
          86.55302169655923,
          99.36170560828664,
          100.00000000000001,
          26.729648670397488,
          62.088620172004525,
          65.18206196410031,
          70.041687552172,
          76.73684836238527,
          78.4823178073154,
          80.94368664780738,
          81.41428362361431,
          62.08174141737823,
          71.84827171229655,
          62.47527851873257,
          20.898762409499774,
          33.9050560046335,
          27.070609492502456,
          29.344387582675914,
          100,
          100,
          100,
          71.70565499818369,
          81.78783316909607,
          99.99999999999999,
          88.26922023557148,
          84.97047724173852,
          85.18541065923934,
          45.45763959831796,
          100,
          100,
          100,
          41.80174155207857,
          78.85419847445964,
          81.71763246242197,
          99.14107527692133,
          61.901006277701285,
          81.62889125470676,
          100,
          23.204176275295755,
          56.37607582736336,
          32.22304975529227,
          60.33389830225336,
          95.30388250358342,
          100,
          14.985280942723785,
          67.69687990723043,
          25.739884491775225,
          98.43380036771092,
          62.818241145185056,
          47.15901114080244,
          15.12221112776795,
          76.59902226883474,
          23.873660788650028,
          92.93957808083734,
          62.26099131244549,
          9.81956145906604,
          82.93749850731915,
          75.06507905283743,
          54.90803336321599,
          56.66605372361316,
          100,
          37.12898181247233,
          61.990391440753164,
          76.41701641839842,
          62.293205679666954,
          100,
          21.331382056275977,
          98.15804742638181,
          100,
          46.12584394205888,
          75.80605612936604,
          45.502561836367,
          100,
          64.6142439570182,
          81.6274550443583,
          100,
          63.36989739915957,
          59.78101747812629,
          9.288187115206824,
          56.57408262536746,
          84.7881355903439,
          12.318853164839577,
          78.93642101623358,
          34.281383884200444,
          63.47602414376126,
          100
         ]
        },
        {
         "boxpoints": "all",
         "jitter": 0.5,
         "line": {
          "width": 1
         },
         "marker": {
          "size": 2
         },
         "name": "latissimus dorsi",
         "type": "box",
         "whiskerwidth": 0.2,
         "y": [
          48.825373203811786,
          52.63854285445689,
          10.417340137729678,
          19.128658960389323,
          30.585748985253453,
          39.87058473842104,
          27.077637454304554,
          11.341818557932692,
          52.489994179368914,
          100,
          18.784116204859156,
          19.36486312483779,
          21.160498763438675,
          34.87233521569646,
          24.919691653328066,
          27.48220801416482,
          16.76884652777209,
          10.924699120918467,
          12.321376062763381,
          11.931258493060788,
          3.681514691081917,
          41.0218065401673,
          23.36680026923661,
          20.20555194741318,
          7.56622792194257,
          21.821457444742006,
          72.57309846014985,
          46.168771555944495,
          25.851732724042808,
          44.07512807295246,
          15.490251580367149,
          16.189671618365654,
          16.536940116778357,
          15.02157550814761,
          21.293003885185108,
          9.063661860552065,
          35.639686798830816,
          34.97023207280025,
          16.793244535586847,
          47.31446571849834,
          19.98677933500978,
          13.69463185324274,
          26.49811378764837,
          18.698613830090043,
          19.64474587871206,
          13.080475861509166,
          18.22333935462871,
          48.89756798336751,
          9.854354784491543,
          24.94376412284614,
          29.477580259621654,
          34.57852134894676,
          15.656763483900756,
          18.90525119452049,
          22.78291720943125,
          12.929972631618279,
          22.004837260699723,
          32.61049750938322,
          24.919313144651873,
          25.564888032604554,
          13.49797908711529,
          10.99238662466021,
          18.815798171965287,
          16.633066416046614,
          65.05449375254182,
          18.409217906334213,
          7.200078804555028,
          22.507508534415397,
          64.43159641224676,
          19.178212132747277,
          24.405314091701726,
          37.46869126115106,
          20.309212408361876,
          6.037612535603984,
          20.20408918140761,
          18.60326390166438,
          19.16327610814638,
          15.958166357497847,
          19.074266434295424,
          14.163505873315362,
          32.68016411876697,
          9.237987699940142,
          5.085273444493785,
          15.391925482767896,
          19.028125813333634,
          47.58249972795505,
          39.95642678591012,
          14.830140246766927,
          29.09586289269638,
          14.440757662825353,
          56.898032273650756,
          18.394535175463762,
          20.35259790874161,
          44.079347343808855,
          24.07296418201085,
          29.376466499332743,
          74.23060017712179,
          15.84111655934092,
          36.15282492637716,
          39.21490098514969,
          32.24752830412691,
          14.771849542807784,
          12.765017900211893,
          19.35886663375103,
          54.33923269436218,
          15.910979580858076,
          34.72684382800131,
          11.32423571631704,
          12.717789660899713,
          11.777856192189343,
          73.15564520796558,
          15.576877955181402,
          43.090125928017464,
          48.81293440359138,
          16.319801940270594
         ]
        },
        {
         "boxpoints": "all",
         "jitter": 0.5,
         "line": {
          "width": 1
         },
         "marker": {
          "size": 2
         },
         "name": "supraspinatus",
         "type": "box",
         "whiskerwidth": 0.2,
         "y": [
          66.44804509265053,
          91.14820469978172,
          100,
          100,
          89.45774554661,
          100,
          84.20554879619726,
          88.23905341398256,
          100,
          100,
          100,
          100,
          97.04022130854658,
          99.57075171442985,
          48.39931838554319,
          44.318625450215,
          18.95108967152179,
          15.673669130064981,
          58.561510361329134,
          100,
          73.44386166014566,
          100,
          78.18265108548198,
          100,
          90.33753292231152,
          70.71194560432409,
          100,
          34.303462656848794,
          14.495475837459324,
          97.06351236369078,
          100,
          72.02646396125888,
          95.19757680710029,
          63.16813859617879,
          100,
          81.46341830933397,
          69.45198271145503,
          57.6275783805236,
          100,
          100,
          85.419750655609,
          100,
          100,
          84.13678562940032,
          100,
          96.80009417682439,
          63.4901493040142,
          85.34139546297904,
          86.89738952734416,
          7.247351725487862,
          100,
          100,
          93.29913482934718,
          44.24765014207096,
          84.82444799264344,
          100,
          100,
          100,
          83.76340748454977,
          68.12939620160341,
          93.87159367403346,
          90.97357480099076,
          86.85059553519703,
          86.25478290823861,
          92.46336753043501,
          67.23469650044451,
          82.78051551313787,
          61.736227985120536,
          86.37810213018142,
          100,
          96.15829568957162,
          100.00000000000001,
          68.64032670223337,
          59.26829494670195,
          100,
          73.72922485127319,
          71.23699630762582,
          22.276489749679495,
          100,
          84.93392433900458,
          89.67440249100139,
          65.47541663565364,
          74.42861257022008,
          18.405767971876212,
          88.07940346442162,
          100,
          29.05901449758779,
          43.989594615332344,
          67.73386937406755,
          53.04531125668151,
          100,
          100,
          92.4452478651092,
          63.107328868856186,
          90.6771353713344,
          76.63979874107577,
          100,
          66.01992233273963,
          57.46553943740024,
          100
         ]
        },
        {
         "boxpoints": "all",
         "jitter": 0.5,
         "line": {
          "width": 1
         },
         "marker": {
          "size": 2
         },
         "name": "infraspinatus",
         "type": "box",
         "whiskerwidth": 0.2,
         "y": [
          6.995140342206238,
          6.698804601485048,
          91.61765339512577,
          100,
          67.52332014532246,
          89.26718036018084,
          42.690717284506654,
          91.70520643974186,
          100,
          100,
          64.31185424651268,
          89.51986586084105,
          100,
          40.45869544133814,
          71.45001237807023,
          35.104188996786625,
          72.07452859926258,
          72.13379710112139,
          100,
          45.825630485548565,
          34.94866617112754,
          100,
          46.010885667220286,
          66.35095729735865,
          73.96081449031394,
          100,
          100,
          44.314082318950234,
          7.000164071405746,
          83.96781186316768,
          64.5296152632331,
          42.94843869478793,
          100,
          100,
          93.91827074069873,
          84.2000757812882,
          67.59533357614232,
          43.8541386627542,
          49.77878975982627,
          35.176176117499004,
          72.80655285515444,
          100,
          73.10098368756707,
          99.99999999999999,
          59.63517575159896,
          100,
          62.86809548280268,
          48.22842678694486,
          76.37320743946347,
          100,
          100,
          100.00000000000001,
          100,
          72.52913899543802,
          100,
          97.6647759685302,
          100,
          100,
          100,
          1.615394882046475,
          67.45315256062646,
          32.184178015142216,
          89.7852455641269,
          92.41240162608301,
          51.710742622751226,
          67.35477425970485,
          37.539136685775304,
          41.96348167170923,
          87.20829796078284,
          97.82419238722004,
          95.0923429246791,
          67.49302291814445,
          33.1100818933904,
          53.990607406937094,
          58.48920691617215,
          38.9309834967055,
          100,
          69.48896486689765,
          100,
          31.83069721739532,
          64.35885004900929,
          76.81101671463357,
          59.152339331712874,
          28.083813676165683,
          100,
          100,
          100,
          63.739598243387604,
          65.18979996056989,
          67.01973835831114,
          78.09393205856611,
          55.404198562559394,
          7.262234309338332,
          75.68475209201777,
          91.3906583668067,
          32.50945289489013,
          56.106304397539006,
          38.893710177788414,
          99.99999999999999,
          100
         ]
        },
        {
         "boxpoints": "all",
         "jitter": 0.5,
         "line": {
          "width": 1
         },
         "marker": {
          "size": 2
         },
         "name": "subscapularis",
         "type": "box",
         "whiskerwidth": 0.2,
         "y": [
          67.41896401256531,
          27.157975964987312,
          7.242439497955689,
          15.101574081962191,
          100.00000000000001,
          57.62384827879332,
          31.36953294977169,
          33.95945666630124,
          28.182631829212518,
          10.793029628953994,
          8.26901699029198,
          7.024248830113732,
          32.71698744047976,
          23.081155111826696,
          48.47259789136454,
          25.34532471737469,
          27.51865146274996,
          69.79990011072735,
          100,
          1.4700011691682378,
          57.832383256146876,
          54.66724333861017,
          34.48853472641743,
          71.77284861892969,
          30.818844531664833,
          5.306191031772084,
          1.924611234435106,
          11.281974539140638,
          17.928288362453866,
          26.381856813094082,
          26.913431020138706,
          15.107177931091394,
          18.153003864975183,
          87.12197924624846,
          4.721185895374332,
          70.09103871889661,
          22.758886388582855,
          65.38720662725724,
          88.97813909267079,
          99.99999999999999,
          35.94096124486295,
          12.31340704576017,
          44.22675783077516,
          70.88842797119433,
          100,
          78.90550591767666,
          47.702355282387884,
          93.4423846769436,
          33.032413578872095,
          7.074751636084292,
          71.63739558055347,
          39.858819086998516,
          57.86650135024716,
          46.45429886475081,
          48.88213714107286,
          34.29575943902672,
          40.148567563752536,
          92.98049083364353,
          0.06782268431223476,
          100,
          22.901587698783615,
          66.25169592337033,
          55.77137396471463,
          9.527230112685961,
          38.02723400715015,
          30.914709698561847,
          8.957240303843628,
          65.60169400266638,
          100,
          91.49795954984447,
          39.49134438694535,
          96.51059509221567,
          4.220834486908415,
          76.30422245699474,
          73.74550082373158,
          100,
          63.05595168499341,
          36.20375717948359,
          39.59367469228219,
          46.00498351893476,
          81.97757298614522,
          57.74640721173169,
          16.32715264103724,
          100,
          29.525316262591996,
          98.96796866767752,
          27.01227035083973,
          98.19626415794583,
          8.387907672008609,
          34.75643259590682,
          44.814724366940354,
          2.6705497783329166,
          54.62027019467079,
          90.44609189276589,
          94.05657592985808,
          43.76569594611818,
          26.404139664415275,
          32.98269738136932,
          75.55791964055345
         ]
        }
       ],
       "layout": {
        "font": {
         "size": 14
        },
        "hovermode": "closest",
        "title": null,
        "xaxis": {
         "linewidth": 1.5,
         "showline": true,
         "title": null
        },
        "yaxis": {
         "linewidth": 1.5,
         "showline": true,
         "title": null,
         "zeroline": false
        }
       }
      },
      "text/html": [
       "<div id=\"6c4d0f55-b9de-44cd-abed-68e4e8e24f7b\" style=\"height: 525px; width: 100%;\" class=\"plotly-graph-div\"></div><script type=\"text/javascript\">require([\"plotly\"], function(Plotly) { window.PLOTLYENV=window.PLOTLYENV || {};window.PLOTLYENV.BASE_URL=\"https://plot.ly\";Plotly.newPlot(\"6c4d0f55-b9de-44cd-abed-68e4e8e24f7b\", [{\"type\": \"box\", \"y\": [78.80394037787006, 65.22529060498401, 75.42623324437506, 51.65575572721099, 66.86552975290134, 64.33973739667958, 100.0, 70.43225997352714, 94.14655123668197, 36.89372138317593, 77.7496075501093, 82.50873219278996, 100.0, 60.1689957892464, 72.7205165247764, 75.50630626966795, 30.74249803215964, 100.00000000000001, 28.77336421499812, 89.44215711073576, 100.0, 78.99092300425562, 71.35330206374802, 85.08324775399305, 90.47698184513091, 91.06831948314161, 33.08123054830565, 33.424445612784915, 42.70943243799559, 78.18580258530531, 45.61163991992449, 79.36132180201187, 44.33183978604792, 58.10060702614036, 19.80471696159091, 47.521778730956555, 81.56524516554667, 29.229461083831048, 48.635299159960866, 28.064311321705343, 43.45502243245589, 93.717446876235, 71.66290984843685, 76.50957425923713, 59.09849844755025, 100.0, 76.37728639438728, 51.102419010857446, 100.0, 100.0, 47.635626678333594, 80.25421190772641, 29.79405491276569, 35.254483136162264, 60.50561536552568, 78.17871597599175, 81.58804788872163, 64.37826266980122, 82.60524992450483, 95.35273022812447, 80.36091620557514, 64.14035015900545, 100.0, 86.58825601851066, 86.54330086138967, 100.0, 95.20923052802372, 100.0, 34.27311303243509, 81.00898583442287, 51.26737897764957, 100.0, 97.4796982116393, 66.76940152907463, 92.8783094407557, 95.5300816065766, 100.0, 74.87118518028564, 89.4568078136449, 69.73566672784392, 72.41081177323278, 81.33084812540696, 77.04124489558453, 57.29169387807422, 76.58433180405589, 99.47086232148901, 69.33947743385687, 100.0, 90.26071453637293, 92.15354618842032, 77.7080951137975, 63.7393746912337, 98.7790597334747, 71.38276327753664, 99.99999999999999, 100.0, 100.0, 72.54896072169605, 86.20653950315477, 83.92297060391627, 81.47580878391182, 81.55125454885304, 100.0, 62.73929267565021, 100.0, 78.83523155525344, 65.3749192139082, 54.48845969268993, 42.24978891201441, 57.276700837390024, 94.99153655389571, 79.19461758628759, 39.598289203510745, 81.6942441627223, 100.0, 100.0, 100.0, 100.0, 91.8288548379283, 57.68514309288246, 51.77430946350845, 100.0, 51.03185660457989, 45.861440381652876, 49.21622675179376, 100.0, 81.77151528688485, 71.59765253357288, 92.04802931632464, 54.217295287952865, 84.93491693498811, 89.21230881793207, 60.05833658425539, 84.91765613338514, 70.95081704605995, 54.74660575058726, 52.476508099203635, 67.67529570414452, 2.5435832361839887, 70.04645285853445, 43.45530834525046, 39.58857336784839, 97.3915020227643], \"name\": \"upper trapezius\", \"boxpoints\": \"all\", \"jitter\": 0.5, \"whiskerwidth\": 0.2, \"marker\": {\"size\": 2}, \"line\": {\"width\": 1}}, {\"type\": \"box\", \"y\": [100.0, 73.29585686091112, 100.0, 56.9366855739166, 73.83372360119452, 94.54017781014775, 34.71011633676628, 93.66214463186319, 65.34496819509866, 76.96363113232341, 100.0, 42.90155070642766, 100.0, 100.0, 92.04158940691667, 93.16445368195987, 100.00000000000001, 100.0, 100.0, 100.0, 9.535186630031053, 59.11916206255228, 94.52020778579806, 35.74324231205796, 39.51054133906843, 100.0, 94.90658922090833, 100.0, 32.04902477454995, 100.0, 100.0, 95.23593206967561, 100.0, 77.92599125386405, 69.48167348578616, 86.87276667634507, 81.9550333724061, 100.0, 92.9877427957888, 99.99999999999999, 89.88386741416636, 45.6259616491402, 47.54892654686291, 96.50770053844691, 89.88993979542803, 97.32434907671583, 38.962738849625694, 87.25676408161014, 94.94413426228799, 80.80141318486436, 93.23110956750857, 89.72923591734558, 100.00000000000001, 79.42279090923601, 74.01906374517786, 77.31127195142987, 91.20458500276106, 81.36677700973004, 68.00751018986922, 86.32639698119458, 89.7934081574078, 100.0, 69.77987488479802, 100.0, 99.99999999999999, 96.801055579367, 72.71075624965178, 85.21705497123209, 59.240862746584504, 100.0, 97.52471160465852, 79.40112424011201, 80.43446244025192, 71.52556689168355, 58.67899237479102, 81.80654103382554, 43.493054051083604, 94.86159173779069, 66.9401113101832, 68.69424090746003, 91.12922890413907, 83.91210037916596, 10.261175123006332, 83.59168716736828, 87.43568802379983, 93.36095848178216, 95.3327847057018], \"name\": \"middle trapezius\", \"boxpoints\": \"all\", \"jitter\": 0.5, \"whiskerwidth\": 0.2, \"marker\": {\"size\": 2}, \"line\": {\"width\": 1}}, {\"type\": \"box\", \"y\": [60.79637918705912, 86.48106662065034, 100.0, 99.99999999999999, 100.0, 91.5043235851279, 100.0, 100.0, 100.0, 100.0, 99.99999999999999, 100.0, 100.0, 100.0, 85.42522837238018, 100.0, 99.99999999999999, 100.0, 100.0, 100.0, 100.0, 73.97928568159769, 100.0, 74.61969317876294, 100.0, 100.0, 54.12036552636346, 100.0, 100.0, 93.6562746146392, 100.0, 100.0, 100.0, 100.0, 100.00000000000001, 100.0, 100.0, 100.0, 100.0, 100.0, 100.0, 77.32584955052404, 100.0, 24.266716962241237, 100.0, 81.32296478852888, 72.82235697533811, 74.68552259643509, 62.67193592346355, 100.0, 100.0, 81.30935512420075, 74.16432651241635, 58.13470182857217, 57.822961771247826, 99.99999999999999, 100.0, 97.80855872469661, 72.45916260017776, 100.0, 65.03322212847522, 100.0, 59.46151623607279, 100.0, 49.37807014707082, 82.30845243941405, 97.43396843757053, 67.64397077777254, 80.00135386175198, 100.0, 83.94682517496041, 91.83904372382493, 100.0, 17.238844562495107, 38.0826609253013, 50.096357761065285, 100.0, 100.0, 100.0, 100.0, 100.0, 100.0, 100.0, 100.00000000000001, 100.0, 74.47879109941084, 81.20347250953613, 100.0, 100.00000000000001, 100.0, 100.0, 71.72050665631399, 100.0, 100.0, 81.82246458229756, 97.68312855241601, 94.06149513064977, 100.0, 89.89646506276678, 93.80273701305589, 92.22176686747264, 84.67940257970143, 100.0, 95.4026199715732, 100.0, 77.8012804233413, 100.0, 100.00000000000001, 100.00000000000001, 100.0, 99.99999999999999, 21.406900883749437, 100.0, 100.0, 92.20631163683173, 85.89735405680938, 100.0, 100.0, 66.01799321093921, 60.87820607119631, 100.0, 84.84013960170508, 100.0, 100.0, 100.0, 82.2336710913744, 100.0, 48.8573408544252, 99.19809301224916, 71.30270028982498, 100.0, 45.56276373073265, 99.75004899272352, 88.50054595518769, 55.93940197105858, 100.0, 100.0, 100.0, 100.0, 22.06271789486298, 100.0, 100.0, 100.0, 100.0, 99.00126108523186, 41.693858182503796, 45.943250560108176, 35.903668845534966, 46.73973368714254, 42.53275688436573, 64.77447732830912, 92.64809403494037, 100.0], \"name\": \"lower trapezius\", \"boxpoints\": \"all\", \"jitter\": 0.5, \"whiskerwidth\": 0.2, \"marker\": {\"size\": 2}, \"line\": {\"width\": 1}}, {\"type\": \"box\", \"y\": [28.87814234867026, 11.665254190324566, 46.922752632192775, 56.197794834293006, 47.30115660461544, 100.00000000000001, 28.102035203568434, 23.588535866247927, 46.433429009387524, 40.779111459075445, 31.310705797727632, 71.75860725234706, 52.64518374131882, 85.49363592382254, 63.92662857821459, 38.6397767095182, 54.248774433424806, 73.42607778168914, 21.721981892807314, 57.45402069556071, 75.79662475968775, 27.4922319274402, 80.11202192415364, 21.04641195603119, 87.7019114351463, 57.50485344997455, 14.30142003659632, 51.75053075261781, 69.37241873723933, 10.079038158226089, 27.82693786628597, 91.11364126150939, 47.68800781458934, 14.37612929038963, 40.22976153568095, 40.11503377586059, 74.9011988868608, 58.73358100178599, 9.80571728750783, 56.11492505567707, 49.838482935094646, 87.08130101804196, 78.05203266189343, 100.0, 86.14733886109889, 45.58562641854686, 100.0, 53.56858422350652, 100.0, 96.1503146585906, 14.389932691747822, 47.38487668332696, 97.49193315436973, 46.5040902669597, 37.73820358214162, 34.119574018780085, 100.0, 84.18187481816824, 86.23365881142882, 53.235612901019174, 100.0, 56.3281852135914, 22.74580560585469, 44.40097679677723, 100.0, 11.744208087220576, 65.52118321397217, 22.635641731970985, 25.614336922336005, 79.86899534730155, 75.22314905926932, 39.00587127702339, 30.582171210645967, 59.95131384108707, 92.48698510297065, 100.0, 68.41296433500075, 77.32843368397094, 81.21721203317158, 59.43165961445514, 100.0, 57.16196784101979, 98.32037913921008, 100.0, 96.55274653452625, 50.29265742235712, 55.03441060692105, 87.8220910924712, 100.0, 21.627359893657967, 12.409805728314026, 22.43566925760565, 14.769526978002878, 46.044259635507856, 17.623516089365875, 7.924869811371867, 16.280831796247373, 10.09852680843293, 38.70118094862524, 46.328220848053654, 47.55551786545522, 19.194562018249055, 49.98019954176037, 12.711009138105563, 15.074821384350322, 34.52855673448734, 61.895860725813584, 23.216734150364783, 4.605375668063067, 40.87621825468404, 59.36138920888953, 57.10143409778968, 81.08537176928107, 65.4110652744928, 50.92316339479139, 32.56812115342692, 68.71114497879698, 57.99781392031472, 66.50711694841887, 12.651789733128338, 11.2768430169644], \"name\": \"anterior deltoid\", \"boxpoints\": \"all\", \"jitter\": 0.5, \"whiskerwidth\": 0.2, \"marker\": {\"size\": 2}, \"line\": {\"width\": 1}}, {\"type\": \"box\", \"y\": [100.0, 80.74524133051142, 75.96444325437425, 91.98909786456994, 63.94213014499078, 92.93885477532307, 100.0, 54.19570550106946, 96.22990880946897, 82.52090378129378, 100.0, 83.89035468185617, 99.6090368366891, 100.0, 85.60036939571476, 91.99268157222387, 20.137079902120004, 100.0, 49.52211948552381, 76.11361281890619, 85.44369948826474, 80.30375337276557, 45.42498168849361, 16.027141393129664, 98.2030152189083, 61.4502877469219, 62.661607734694456, 33.264791298605665, 63.634532642538865, 60.67594817042132, 100.0, 44.183511622414585, 90.10187525965276, 94.15040675393745, 10.155917031142957, 65.44538140098538, 57.13840300292653, 66.40253514142447, 84.4346740826904, 72.76985517264644, 63.84943022778975, 80.68721684077715, 100.0, 99.99999999999999, 93.68705042218544, 74.21380163450964, 99.29229167668919, 62.25933639306819, 100.0, 100.0, 96.94170161687985, 100.0, 93.08901752469777, 98.26597210920431, 92.58934046245051, 100.0, 100.0, 100.0, 100.0, 95.85955016999931, 69.41137238956975, 90.1664720250146, 83.09950808193734, 75.41446208879732, 100.0, 100.0, 100.0, 74.1254103866881, 100.0, 100.0, 83.6483050860393, 100.0, 100.0, 81.76079648517754, 66.5319622398499, 84.91359042310172, 76.78536035751893, 86.66217811494242, 100.0, 86.28773831269199, 91.52014317264975, 84.56282553547491, 88.40376580388057, 74.12408484004948, 98.63273958870238, 99.57882102749319, 83.64777083781121, 76.8391190714559, 100.0, 83.66320085535345, 96.87182928901788, 83.60736940450451, 56.67617587918283, 100.0, 77.53987816177283, 97.14296053722819, 75.22190766974984, 91.384934435302, 98.22670364906948, 94.15839140027852, 88.04401861257281, 83.73821547676724, 96.38168922603327, 74.96011315542518, 99.99999999999999, 69.62060577195827, 99.99999999999999, 72.74752917776203, 76.54406399053433, 100.0, 100.0, 71.7276631464829, 100.0, 67.75916421884095, 89.70713076713857, 89.40808418531918, 67.49434903039064, 100.0, 92.13277598028289, 84.13845531168955, 73.85320980387344, 90.17759444958826, 100.0, 100.0, 100.0, 91.66203595230255, 100.0, 100.0, 98.3659975723129, 68.71142432187199, 41.33728561739055, 100.0, 100.0, 97.55334420675344, 53.08639094703745, 93.18951380803452, 70.62494312552596, 100.00000000000001, 57.63115541569644, 72.38571440920958, 79.66089806954622, 100.00000000000001, 68.66903383870455, 100.0, 88.20309403585898, 53.60207102250971, 50.61116117456391, 100.0, 100.0, 89.74448456113845, 71.29700022096038, 98.5220347392297, 90.82332005624393], \"name\": \"middle deltoid\", \"boxpoints\": \"all\", \"jitter\": 0.5, \"whiskerwidth\": 0.2, \"marker\": {\"size\": 2}, \"line\": {\"width\": 1}}, {\"type\": \"box\", \"y\": [87.9007044145249, 86.59726998279416, 59.10141094489397, 44.13589279203423, 100.0, 100.0, 70.1824972310117, 96.23281950766712, 63.65203307460183, 70.91452809867178, 95.38933982386168, 61.239399707446715, 100.0, 57.447138428158695, 100.0, 60.84059848337181, 10.516356660406526, 84.24130220721614, 55.2340679679295, 73.01172935259783, 40.66623942593691, 63.3415113955489, 48.08235557289074, 48.90331836664392, 55.41400200680443, 90.83701578279886, 87.53546250725768, 22.38596276284788, 56.28318971067769, 100.0, 100.0, 11.118913394770958, 91.48482174462939, 99.99999999999999, 15.557006559730032, 52.85980365292775, 18.597786587197593, 42.14479522754588, 100.0, 38.21729828387956, 100.0, 61.878167580928384, 100.0, 42.55925087752406, 55.75256208040286, 73.22762173484143, 100.0, 41.5401574944237, 60.97644151034915, 61.87669666582581, 88.89400753233332, 77.92708920837542, 80.97423535412776, 58.34546340749492, 58.920842952463396, 53.48617967541516, 70.6672012664503, 23.895820707709017, 68.19368721094767, 89.45385519275389, 74.83673656332225, 75.85759161732895, 48.592835769800146, 66.30210138479255, 78.29285389001016, 78.78474226297244, 89.79607396992441, 47.58730363318478, 52.26533578857357, 65.72197897682338, 59.75860268555847, 42.783750332722654, 100.0, 35.650071835090316, 33.786497522478314, 58.59976951404992, 73.79893642779786, 43.541446609550285, 27.627359798406484, 31.248754358764984, 45.33672625736638, 54.435316100971896, 68.22924016174007, 43.178080281214775, 43.790314044738224, 49.700728981201316, 53.47650565430996, 98.63923583449831, 56.695896032679435, 76.03355459738724, 71.45103865243361, 15.419846451438383, 60.88128306424159, 88.31845874523081, 66.53580632843449, 79.37501119282875, 74.79817166793268, 40.938343947955794, 51.539053265368146, 21.360830402375257, 49.71205407328862, 23.341785416499814, 35.29412702180037, 44.46885938867845, 10.538612753755624, 16.772136069820103, 37.39165942165452, 16.762488496433598, 57.90475613234929, 43.84068847038825, 19.743986957309524, 100.0, 51.5511027587037, 100.0, 100.0, 72.69562133333977, 81.03954790253121, 100.0, 76.42104216910329, 99.99999999999999, 96.99061669261579, 71.72182796625046, 3.7748285298842084, 74.98332788032803, 80.04632298730402, 82.86200490225922, 79.8559255078513, 96.80952609271016, 68.0167076212686, 75.51508924661111, 55.898188462277155, 67.42421454267306, 30.11023320586154, 78.88154374125996, 31.801487199251376, 26.683479379612237, 50.759506177166024, 75.5295234081953, 33.758293293378564, 39.77148511902706, 47.49174867239901, 58.689107557059266, 42.75770435701205, 83.86812136390594, 88.26944292878353, 87.20442010134019, 100.0, 100.0, 100.0, 80.03809731618531, 93.09080543690276, 80.39280249122105, 72.85234618975846], \"name\": \"posterior deltoid\", \"boxpoints\": \"all\", \"jitter\": 0.5, \"whiskerwidth\": 0.2, \"marker\": {\"size\": 2}, \"line\": {\"width\": 1}}, {\"type\": \"box\", \"y\": [3.1944548016381566, 6.803470977546265, 24.86750319653246, 9.926570311464653, 12.719119216633167, 4.541646628040909, 10.992506914613468, 3.6820300080507717, 7.737542702850183, 9.910763533802458, 10.634903960502076, 26.836655357986547, 9.993482084358643, 10.610181853749456, 10.022259621796351, 3.5188941886185545, 8.414350848000588, 3.3962156139535638, 5.793400775744969, 7.530214934580381, 1.3532205933462353, 5.1510722222698755, 4.941300740317327, 2.61326824791339, 4.556901132645752, 6.6880515539933345, 16.130787345506384, 13.688180816280337, 11.747817439782414, 3.9012344828277294, 5.696894488531319, 5.76661921746731, 2.781380465722979, 5.301734394476597, 6.191528145598442, 5.6302338778127945, 18.869534679299083, 11.851167371473132, 5.345563503857973, 19.767497109713837, 10.05911713035799, 6.485252831484129, 14.666928905281976, 6.458719468211505, 12.452371292801105, 66.9608171652262, 5.372368928902059, 10.53100663874765, 15.782738760247508, 3.0657075601897015, 19.012737170954, 5.614887185485023, 5.141328795987948, 18.978005048271644, 14.906610729394608, 2.707890883155817, 2.4035470720563783, 3.7324128197325424, 18.013243769049353, 12.763445011526684, 3.7422868633216058, 2.08561577668571, 16.39040259981312, 6.319182037398528, 9.60504443484451, 4.219117799110276, 3.3400126936303147, 34.46604651341183, 63.60657913843846, 5.573415161447757, 4.096461667406332, 15.706471298278096, 16.61230167553791, 3.7979581712579242, 2.9813377172254976, 8.405573139633459, 5.331989194190454, 6.402076856464618, 13.446305258770545, 2.3471707835888913, 2.296740563073653, 0.8397416524785787, 3.780155451720822, 6.402794700070598, 2.8112562021895213, 7.265216862148749, 4.549328316357748, 3.5579905259312876, 6.016609970578036, 5.388661907579727, 4.334193654104132, 100.0, 8.277872290805274, 7.410496513900545, 4.0301626022459365, 3.800998246815879, 4.258906866891605, 7.125085144231241, 3.3556464464431026, 45.94964152621611, 9.162979394931472, 3.7551621646362014, 8.717286636991693, 4.007401332058522, 13.37939775394618, 13.963048477637853, 16.085251961071496, 2.9351579249819117, 6.071079766498309, 7.53644738445121, 83.50046663620748, 6.570309042378394, 18.32475017924344, 6.024927258654429, 1.689444894795865], \"name\": \"pectoralis major\", \"boxpoints\": \"all\", \"jitter\": 0.5, \"whiskerwidth\": 0.2, \"marker\": {\"size\": 2}, \"line\": {\"width\": 1}}, {\"type\": \"box\", \"y\": [44.13528978766298, 3.618407562906127, 63.8389556915937, 90.99184829333213, 77.58208659882247, 48.898744112078695, 35.3062531350449, 60.15225075897709, 100.0, 87.25074867459244, 44.90091005959193, 44.40409456855567, 79.49530559794583, 100.0, 26.754790210279236, 67.33215489889733, 46.78027858373532, 79.32270014667299, 7.425287269926417, 100.0, 82.48624081662847, 80.4767292981018, 72.07283710308818, 9.495923325696149, 100.0, 25.406350562704727, 43.83508360851719, 8.611436123142596, 69.52170825506609, 24.4086938931061, 59.37020210420533, 85.18816981639976, 57.48258292580207, 25.22869286699591, 45.97541932059753, 16.136878089882714, 77.37443891137661, 100.0, 17.857420419167294, 86.55302169655923, 99.36170560828664, 100.00000000000001, 26.729648670397488, 62.088620172004525, 65.18206196410031, 70.041687552172, 76.73684836238527, 78.4823178073154, 80.94368664780738, 81.41428362361431, 62.08174141737823, 71.84827171229655, 62.47527851873257, 20.898762409499774, 33.9050560046335, 27.070609492502456, 29.344387582675914, 100.0, 100.0, 100.0, 71.70565499818369, 81.78783316909607, 99.99999999999999, 88.26922023557148, 84.97047724173852, 85.18541065923934, 45.45763959831796, 100.0, 100.0, 100.0, 41.80174155207857, 78.85419847445964, 81.71763246242197, 99.14107527692133, 61.901006277701285, 81.62889125470676, 100.0, 23.204176275295755, 56.37607582736336, 32.22304975529227, 60.33389830225336, 95.30388250358342, 100.0, 14.985280942723785, 67.69687990723043, 25.739884491775225, 98.43380036771092, 62.818241145185056, 47.15901114080244, 15.12221112776795, 76.59902226883474, 23.873660788650028, 92.93957808083734, 62.26099131244549, 9.81956145906604, 82.93749850731915, 75.06507905283743, 54.90803336321599, 56.66605372361316, 100.0, 37.12898181247233, 61.990391440753164, 76.41701641839842, 62.293205679666954, 100.0, 21.331382056275977, 98.15804742638181, 100.0, 46.12584394205888, 75.80605612936604, 45.502561836367, 100.0, 64.6142439570182, 81.6274550443583, 100.0, 63.36989739915957, 59.78101747812629, 9.288187115206824, 56.57408262536746, 84.7881355903439, 12.318853164839577, 78.93642101623358, 34.281383884200444, 63.47602414376126, 100.0], \"name\": \"serratus anterior\", \"boxpoints\": \"all\", \"jitter\": 0.5, \"whiskerwidth\": 0.2, \"marker\": {\"size\": 2}, \"line\": {\"width\": 1}}, {\"type\": \"box\", \"y\": [48.825373203811786, 52.63854285445689, 10.417340137729678, 19.128658960389323, 30.585748985253453, 39.87058473842104, 27.077637454304554, 11.341818557932692, 52.489994179368914, 100.0, 18.784116204859156, 19.36486312483779, 21.160498763438675, 34.87233521569646, 24.919691653328066, 27.48220801416482, 16.76884652777209, 10.924699120918467, 12.321376062763381, 11.931258493060788, 3.681514691081917, 41.0218065401673, 23.36680026923661, 20.20555194741318, 7.56622792194257, 21.821457444742006, 72.57309846014985, 46.168771555944495, 25.851732724042808, 44.07512807295246, 15.490251580367149, 16.189671618365654, 16.536940116778357, 15.02157550814761, 21.293003885185108, 9.063661860552065, 35.639686798830816, 34.97023207280025, 16.793244535586847, 47.31446571849834, 19.98677933500978, 13.69463185324274, 26.49811378764837, 18.698613830090043, 19.64474587871206, 13.080475861509166, 18.22333935462871, 48.89756798336751, 9.854354784491543, 24.94376412284614, 29.477580259621654, 34.57852134894676, 15.656763483900756, 18.90525119452049, 22.78291720943125, 12.929972631618279, 22.004837260699723, 32.61049750938322, 24.919313144651873, 25.564888032604554, 13.49797908711529, 10.99238662466021, 18.815798171965287, 16.633066416046614, 65.05449375254182, 18.409217906334213, 7.200078804555028, 22.507508534415397, 64.43159641224676, 19.178212132747277, 24.405314091701726, 37.46869126115106, 20.309212408361876, 6.037612535603984, 20.20408918140761, 18.60326390166438, 19.16327610814638, 15.958166357497847, 19.074266434295424, 14.163505873315362, 32.68016411876697, 9.237987699940142, 5.085273444493785, 15.391925482767896, 19.028125813333634, 47.58249972795505, 39.95642678591012, 14.830140246766927, 29.09586289269638, 14.440757662825353, 56.898032273650756, 18.394535175463762, 20.35259790874161, 44.079347343808855, 24.07296418201085, 29.376466499332743, 74.23060017712179, 15.84111655934092, 36.15282492637716, 39.21490098514969, 32.24752830412691, 14.771849542807784, 12.765017900211893, 19.35886663375103, 54.33923269436218, 15.910979580858076, 34.72684382800131, 11.32423571631704, 12.717789660899713, 11.777856192189343, 73.15564520796558, 15.576877955181402, 43.090125928017464, 48.81293440359138, 16.319801940270594], \"name\": \"latissimus dorsi\", \"boxpoints\": \"all\", \"jitter\": 0.5, \"whiskerwidth\": 0.2, \"marker\": {\"size\": 2}, \"line\": {\"width\": 1}}, {\"type\": \"box\", \"y\": [66.44804509265053, 91.14820469978172, 100.0, 100.0, 89.45774554661, 100.0, 84.20554879619726, 88.23905341398256, 100.0, 100.0, 100.0, 100.0, 97.04022130854658, 99.57075171442985, 48.39931838554319, 44.318625450215, 18.95108967152179, 15.673669130064981, 58.561510361329134, 100.0, 73.44386166014566, 100.0, 78.18265108548198, 100.0, 90.33753292231152, 70.71194560432409, 100.0, 34.303462656848794, 14.495475837459324, 97.06351236369078, 100.0, 72.02646396125888, 95.19757680710029, 63.16813859617879, 100.0, 81.46341830933397, 69.45198271145503, 57.6275783805236, 100.0, 100.0, 85.419750655609, 100.0, 100.0, 84.13678562940032, 100.0, 96.80009417682439, 63.4901493040142, 85.34139546297904, 86.89738952734416, 7.247351725487862, 100.0, 100.0, 93.29913482934718, 44.24765014207096, 84.82444799264344, 100.0, 100.0, 100.0, 83.76340748454977, 68.12939620160341, 93.87159367403346, 90.97357480099076, 86.85059553519703, 86.25478290823861, 92.46336753043501, 67.23469650044451, 82.78051551313787, 61.736227985120536, 86.37810213018142, 100.0, 96.15829568957162, 100.00000000000001, 68.64032670223337, 59.26829494670195, 100.0, 73.72922485127319, 71.23699630762582, 22.276489749679495, 100.0, 84.93392433900458, 89.67440249100139, 65.47541663565364, 74.42861257022008, 18.405767971876212, 88.07940346442162, 100.0, 29.05901449758779, 43.989594615332344, 67.73386937406755, 53.04531125668151, 100.0, 100.0, 92.4452478651092, 63.107328868856186, 90.6771353713344, 76.63979874107577, 100.0, 66.01992233273963, 57.46553943740024, 100.0], \"name\": \"supraspinatus\", \"boxpoints\": \"all\", \"jitter\": 0.5, \"whiskerwidth\": 0.2, \"marker\": {\"size\": 2}, \"line\": {\"width\": 1}}, {\"type\": \"box\", \"y\": [6.995140342206238, 6.698804601485048, 91.61765339512577, 100.0, 67.52332014532246, 89.26718036018084, 42.690717284506654, 91.70520643974186, 100.0, 100.0, 64.31185424651268, 89.51986586084105, 100.0, 40.45869544133814, 71.45001237807023, 35.104188996786625, 72.07452859926258, 72.13379710112139, 100.0, 45.825630485548565, 34.94866617112754, 100.0, 46.010885667220286, 66.35095729735865, 73.96081449031394, 100.0, 100.0, 44.314082318950234, 7.000164071405746, 83.96781186316768, 64.5296152632331, 42.94843869478793, 100.0, 100.0, 93.91827074069873, 84.2000757812882, 67.59533357614232, 43.8541386627542, 49.77878975982627, 35.176176117499004, 72.80655285515444, 100.0, 73.10098368756707, 99.99999999999999, 59.63517575159896, 100.0, 62.86809548280268, 48.22842678694486, 76.37320743946347, 100.0, 100.0, 100.00000000000001, 100.0, 72.52913899543802, 100.0, 97.6647759685302, 100.0, 100.0, 100.0, 1.615394882046475, 67.45315256062646, 32.184178015142216, 89.7852455641269, 92.41240162608301, 51.710742622751226, 67.35477425970485, 37.539136685775304, 41.96348167170923, 87.20829796078284, 97.82419238722004, 95.0923429246791, 67.49302291814445, 33.1100818933904, 53.990607406937094, 58.48920691617215, 38.9309834967055, 100.0, 69.48896486689765, 100.0, 31.83069721739532, 64.35885004900929, 76.81101671463357, 59.152339331712874, 28.083813676165683, 100.0, 100.0, 100.0, 63.739598243387604, 65.18979996056989, 67.01973835831114, 78.09393205856611, 55.404198562559394, 7.262234309338332, 75.68475209201777, 91.3906583668067, 32.50945289489013, 56.106304397539006, 38.893710177788414, 99.99999999999999, 100.0], \"name\": \"infraspinatus\", \"boxpoints\": \"all\", \"jitter\": 0.5, \"whiskerwidth\": 0.2, \"marker\": {\"size\": 2}, \"line\": {\"width\": 1}}, {\"type\": \"box\", \"y\": [67.41896401256531, 27.157975964987312, 7.242439497955689, 15.101574081962191, 100.00000000000001, 57.62384827879332, 31.36953294977169, 33.95945666630124, 28.182631829212518, 10.793029628953994, 8.26901699029198, 7.024248830113732, 32.71698744047976, 23.081155111826696, 48.47259789136454, 25.34532471737469, 27.51865146274996, 69.79990011072735, 100.0, 1.4700011691682378, 57.832383256146876, 54.66724333861017, 34.48853472641743, 71.77284861892969, 30.818844531664833, 5.306191031772084, 1.924611234435106, 11.281974539140638, 17.928288362453866, 26.381856813094082, 26.913431020138706, 15.107177931091394, 18.153003864975183, 87.12197924624846, 4.721185895374332, 70.09103871889661, 22.758886388582855, 65.38720662725724, 88.97813909267079, 99.99999999999999, 35.94096124486295, 12.31340704576017, 44.22675783077516, 70.88842797119433, 100.0, 78.90550591767666, 47.702355282387884, 93.4423846769436, 33.032413578872095, 7.074751636084292, 71.63739558055347, 39.858819086998516, 57.86650135024716, 46.45429886475081, 48.88213714107286, 34.29575943902672, 40.148567563752536, 92.98049083364353, 0.06782268431223476, 100.0, 22.901587698783615, 66.25169592337033, 55.77137396471463, 9.527230112685961, 38.02723400715015, 30.914709698561847, 8.957240303843628, 65.60169400266638, 100.0, 91.49795954984447, 39.49134438694535, 96.51059509221567, 4.220834486908415, 76.30422245699474, 73.74550082373158, 100.0, 63.05595168499341, 36.20375717948359, 39.59367469228219, 46.00498351893476, 81.97757298614522, 57.74640721173169, 16.32715264103724, 100.0, 29.525316262591996, 98.96796866767752, 27.01227035083973, 98.19626415794583, 8.387907672008609, 34.75643259590682, 44.814724366940354, 2.6705497783329166, 54.62027019467079, 90.44609189276589, 94.05657592985808, 43.76569594611818, 26.404139664415275, 32.98269738136932, 75.55791964055345], \"name\": \"subscapularis\", \"boxpoints\": \"all\", \"jitter\": 0.5, \"whiskerwidth\": 0.2, \"marker\": {\"size\": 2}, \"line\": {\"width\": 1}}], {\"hovermode\": \"closest\", \"font\": {\"size\": 14}, \"title\": null, \"xaxis\": {\"title\": null, \"showline\": true, \"linewidth\": 1.5}, \"yaxis\": {\"title\": null, \"showline\": true, \"linewidth\": 1.5, \"zeroline\": false}}, {\"showLink\": true, \"linkText\": \"Export to plot.ly\"})});</script>"
      ],
      "text/vnd.plotly.v1+html": [
       "<div id=\"6c4d0f55-b9de-44cd-abed-68e4e8e24f7b\" style=\"height: 525px; width: 100%;\" class=\"plotly-graph-div\"></div><script type=\"text/javascript\">require([\"plotly\"], function(Plotly) { window.PLOTLYENV=window.PLOTLYENV || {};window.PLOTLYENV.BASE_URL=\"https://plot.ly\";Plotly.newPlot(\"6c4d0f55-b9de-44cd-abed-68e4e8e24f7b\", [{\"type\": \"box\", \"y\": [78.80394037787006, 65.22529060498401, 75.42623324437506, 51.65575572721099, 66.86552975290134, 64.33973739667958, 100.0, 70.43225997352714, 94.14655123668197, 36.89372138317593, 77.7496075501093, 82.50873219278996, 100.0, 60.1689957892464, 72.7205165247764, 75.50630626966795, 30.74249803215964, 100.00000000000001, 28.77336421499812, 89.44215711073576, 100.0, 78.99092300425562, 71.35330206374802, 85.08324775399305, 90.47698184513091, 91.06831948314161, 33.08123054830565, 33.424445612784915, 42.70943243799559, 78.18580258530531, 45.61163991992449, 79.36132180201187, 44.33183978604792, 58.10060702614036, 19.80471696159091, 47.521778730956555, 81.56524516554667, 29.229461083831048, 48.635299159960866, 28.064311321705343, 43.45502243245589, 93.717446876235, 71.66290984843685, 76.50957425923713, 59.09849844755025, 100.0, 76.37728639438728, 51.102419010857446, 100.0, 100.0, 47.635626678333594, 80.25421190772641, 29.79405491276569, 35.254483136162264, 60.50561536552568, 78.17871597599175, 81.58804788872163, 64.37826266980122, 82.60524992450483, 95.35273022812447, 80.36091620557514, 64.14035015900545, 100.0, 86.58825601851066, 86.54330086138967, 100.0, 95.20923052802372, 100.0, 34.27311303243509, 81.00898583442287, 51.26737897764957, 100.0, 97.4796982116393, 66.76940152907463, 92.8783094407557, 95.5300816065766, 100.0, 74.87118518028564, 89.4568078136449, 69.73566672784392, 72.41081177323278, 81.33084812540696, 77.04124489558453, 57.29169387807422, 76.58433180405589, 99.47086232148901, 69.33947743385687, 100.0, 90.26071453637293, 92.15354618842032, 77.7080951137975, 63.7393746912337, 98.7790597334747, 71.38276327753664, 99.99999999999999, 100.0, 100.0, 72.54896072169605, 86.20653950315477, 83.92297060391627, 81.47580878391182, 81.55125454885304, 100.0, 62.73929267565021, 100.0, 78.83523155525344, 65.3749192139082, 54.48845969268993, 42.24978891201441, 57.276700837390024, 94.99153655389571, 79.19461758628759, 39.598289203510745, 81.6942441627223, 100.0, 100.0, 100.0, 100.0, 91.8288548379283, 57.68514309288246, 51.77430946350845, 100.0, 51.03185660457989, 45.861440381652876, 49.21622675179376, 100.0, 81.77151528688485, 71.59765253357288, 92.04802931632464, 54.217295287952865, 84.93491693498811, 89.21230881793207, 60.05833658425539, 84.91765613338514, 70.95081704605995, 54.74660575058726, 52.476508099203635, 67.67529570414452, 2.5435832361839887, 70.04645285853445, 43.45530834525046, 39.58857336784839, 97.3915020227643], \"name\": \"upper trapezius\", \"boxpoints\": \"all\", \"jitter\": 0.5, \"whiskerwidth\": 0.2, \"marker\": {\"size\": 2}, \"line\": {\"width\": 1}}, {\"type\": \"box\", \"y\": [100.0, 73.29585686091112, 100.0, 56.9366855739166, 73.83372360119452, 94.54017781014775, 34.71011633676628, 93.66214463186319, 65.34496819509866, 76.96363113232341, 100.0, 42.90155070642766, 100.0, 100.0, 92.04158940691667, 93.16445368195987, 100.00000000000001, 100.0, 100.0, 100.0, 9.535186630031053, 59.11916206255228, 94.52020778579806, 35.74324231205796, 39.51054133906843, 100.0, 94.90658922090833, 100.0, 32.04902477454995, 100.0, 100.0, 95.23593206967561, 100.0, 77.92599125386405, 69.48167348578616, 86.87276667634507, 81.9550333724061, 100.0, 92.9877427957888, 99.99999999999999, 89.88386741416636, 45.6259616491402, 47.54892654686291, 96.50770053844691, 89.88993979542803, 97.32434907671583, 38.962738849625694, 87.25676408161014, 94.94413426228799, 80.80141318486436, 93.23110956750857, 89.72923591734558, 100.00000000000001, 79.42279090923601, 74.01906374517786, 77.31127195142987, 91.20458500276106, 81.36677700973004, 68.00751018986922, 86.32639698119458, 89.7934081574078, 100.0, 69.77987488479802, 100.0, 99.99999999999999, 96.801055579367, 72.71075624965178, 85.21705497123209, 59.240862746584504, 100.0, 97.52471160465852, 79.40112424011201, 80.43446244025192, 71.52556689168355, 58.67899237479102, 81.80654103382554, 43.493054051083604, 94.86159173779069, 66.9401113101832, 68.69424090746003, 91.12922890413907, 83.91210037916596, 10.261175123006332, 83.59168716736828, 87.43568802379983, 93.36095848178216, 95.3327847057018], \"name\": \"middle trapezius\", \"boxpoints\": \"all\", \"jitter\": 0.5, \"whiskerwidth\": 0.2, \"marker\": {\"size\": 2}, \"line\": {\"width\": 1}}, {\"type\": \"box\", \"y\": [60.79637918705912, 86.48106662065034, 100.0, 99.99999999999999, 100.0, 91.5043235851279, 100.0, 100.0, 100.0, 100.0, 99.99999999999999, 100.0, 100.0, 100.0, 85.42522837238018, 100.0, 99.99999999999999, 100.0, 100.0, 100.0, 100.0, 73.97928568159769, 100.0, 74.61969317876294, 100.0, 100.0, 54.12036552636346, 100.0, 100.0, 93.6562746146392, 100.0, 100.0, 100.0, 100.0, 100.00000000000001, 100.0, 100.0, 100.0, 100.0, 100.0, 100.0, 77.32584955052404, 100.0, 24.266716962241237, 100.0, 81.32296478852888, 72.82235697533811, 74.68552259643509, 62.67193592346355, 100.0, 100.0, 81.30935512420075, 74.16432651241635, 58.13470182857217, 57.822961771247826, 99.99999999999999, 100.0, 97.80855872469661, 72.45916260017776, 100.0, 65.03322212847522, 100.0, 59.46151623607279, 100.0, 49.37807014707082, 82.30845243941405, 97.43396843757053, 67.64397077777254, 80.00135386175198, 100.0, 83.94682517496041, 91.83904372382493, 100.0, 17.238844562495107, 38.0826609253013, 50.096357761065285, 100.0, 100.0, 100.0, 100.0, 100.0, 100.0, 100.0, 100.00000000000001, 100.0, 74.47879109941084, 81.20347250953613, 100.0, 100.00000000000001, 100.0, 100.0, 71.72050665631399, 100.0, 100.0, 81.82246458229756, 97.68312855241601, 94.06149513064977, 100.0, 89.89646506276678, 93.80273701305589, 92.22176686747264, 84.67940257970143, 100.0, 95.4026199715732, 100.0, 77.8012804233413, 100.0, 100.00000000000001, 100.00000000000001, 100.0, 99.99999999999999, 21.406900883749437, 100.0, 100.0, 92.20631163683173, 85.89735405680938, 100.0, 100.0, 66.01799321093921, 60.87820607119631, 100.0, 84.84013960170508, 100.0, 100.0, 100.0, 82.2336710913744, 100.0, 48.8573408544252, 99.19809301224916, 71.30270028982498, 100.0, 45.56276373073265, 99.75004899272352, 88.50054595518769, 55.93940197105858, 100.0, 100.0, 100.0, 100.0, 22.06271789486298, 100.0, 100.0, 100.0, 100.0, 99.00126108523186, 41.693858182503796, 45.943250560108176, 35.903668845534966, 46.73973368714254, 42.53275688436573, 64.77447732830912, 92.64809403494037, 100.0], \"name\": \"lower trapezius\", \"boxpoints\": \"all\", \"jitter\": 0.5, \"whiskerwidth\": 0.2, \"marker\": {\"size\": 2}, \"line\": {\"width\": 1}}, {\"type\": \"box\", \"y\": [28.87814234867026, 11.665254190324566, 46.922752632192775, 56.197794834293006, 47.30115660461544, 100.00000000000001, 28.102035203568434, 23.588535866247927, 46.433429009387524, 40.779111459075445, 31.310705797727632, 71.75860725234706, 52.64518374131882, 85.49363592382254, 63.92662857821459, 38.6397767095182, 54.248774433424806, 73.42607778168914, 21.721981892807314, 57.45402069556071, 75.79662475968775, 27.4922319274402, 80.11202192415364, 21.04641195603119, 87.7019114351463, 57.50485344997455, 14.30142003659632, 51.75053075261781, 69.37241873723933, 10.079038158226089, 27.82693786628597, 91.11364126150939, 47.68800781458934, 14.37612929038963, 40.22976153568095, 40.11503377586059, 74.9011988868608, 58.73358100178599, 9.80571728750783, 56.11492505567707, 49.838482935094646, 87.08130101804196, 78.05203266189343, 100.0, 86.14733886109889, 45.58562641854686, 100.0, 53.56858422350652, 100.0, 96.1503146585906, 14.389932691747822, 47.38487668332696, 97.49193315436973, 46.5040902669597, 37.73820358214162, 34.119574018780085, 100.0, 84.18187481816824, 86.23365881142882, 53.235612901019174, 100.0, 56.3281852135914, 22.74580560585469, 44.40097679677723, 100.0, 11.744208087220576, 65.52118321397217, 22.635641731970985, 25.614336922336005, 79.86899534730155, 75.22314905926932, 39.00587127702339, 30.582171210645967, 59.95131384108707, 92.48698510297065, 100.0, 68.41296433500075, 77.32843368397094, 81.21721203317158, 59.43165961445514, 100.0, 57.16196784101979, 98.32037913921008, 100.0, 96.55274653452625, 50.29265742235712, 55.03441060692105, 87.8220910924712, 100.0, 21.627359893657967, 12.409805728314026, 22.43566925760565, 14.769526978002878, 46.044259635507856, 17.623516089365875, 7.924869811371867, 16.280831796247373, 10.09852680843293, 38.70118094862524, 46.328220848053654, 47.55551786545522, 19.194562018249055, 49.98019954176037, 12.711009138105563, 15.074821384350322, 34.52855673448734, 61.895860725813584, 23.216734150364783, 4.605375668063067, 40.87621825468404, 59.36138920888953, 57.10143409778968, 81.08537176928107, 65.4110652744928, 50.92316339479139, 32.56812115342692, 68.71114497879698, 57.99781392031472, 66.50711694841887, 12.651789733128338, 11.2768430169644], \"name\": \"anterior deltoid\", \"boxpoints\": \"all\", \"jitter\": 0.5, \"whiskerwidth\": 0.2, \"marker\": {\"size\": 2}, \"line\": {\"width\": 1}}, {\"type\": \"box\", \"y\": [100.0, 80.74524133051142, 75.96444325437425, 91.98909786456994, 63.94213014499078, 92.93885477532307, 100.0, 54.19570550106946, 96.22990880946897, 82.52090378129378, 100.0, 83.89035468185617, 99.6090368366891, 100.0, 85.60036939571476, 91.99268157222387, 20.137079902120004, 100.0, 49.52211948552381, 76.11361281890619, 85.44369948826474, 80.30375337276557, 45.42498168849361, 16.027141393129664, 98.2030152189083, 61.4502877469219, 62.661607734694456, 33.264791298605665, 63.634532642538865, 60.67594817042132, 100.0, 44.183511622414585, 90.10187525965276, 94.15040675393745, 10.155917031142957, 65.44538140098538, 57.13840300292653, 66.40253514142447, 84.4346740826904, 72.76985517264644, 63.84943022778975, 80.68721684077715, 100.0, 99.99999999999999, 93.68705042218544, 74.21380163450964, 99.29229167668919, 62.25933639306819, 100.0, 100.0, 96.94170161687985, 100.0, 93.08901752469777, 98.26597210920431, 92.58934046245051, 100.0, 100.0, 100.0, 100.0, 95.85955016999931, 69.41137238956975, 90.1664720250146, 83.09950808193734, 75.41446208879732, 100.0, 100.0, 100.0, 74.1254103866881, 100.0, 100.0, 83.6483050860393, 100.0, 100.0, 81.76079648517754, 66.5319622398499, 84.91359042310172, 76.78536035751893, 86.66217811494242, 100.0, 86.28773831269199, 91.52014317264975, 84.56282553547491, 88.40376580388057, 74.12408484004948, 98.63273958870238, 99.57882102749319, 83.64777083781121, 76.8391190714559, 100.0, 83.66320085535345, 96.87182928901788, 83.60736940450451, 56.67617587918283, 100.0, 77.53987816177283, 97.14296053722819, 75.22190766974984, 91.384934435302, 98.22670364906948, 94.15839140027852, 88.04401861257281, 83.73821547676724, 96.38168922603327, 74.96011315542518, 99.99999999999999, 69.62060577195827, 99.99999999999999, 72.74752917776203, 76.54406399053433, 100.0, 100.0, 71.7276631464829, 100.0, 67.75916421884095, 89.70713076713857, 89.40808418531918, 67.49434903039064, 100.0, 92.13277598028289, 84.13845531168955, 73.85320980387344, 90.17759444958826, 100.0, 100.0, 100.0, 91.66203595230255, 100.0, 100.0, 98.3659975723129, 68.71142432187199, 41.33728561739055, 100.0, 100.0, 97.55334420675344, 53.08639094703745, 93.18951380803452, 70.62494312552596, 100.00000000000001, 57.63115541569644, 72.38571440920958, 79.66089806954622, 100.00000000000001, 68.66903383870455, 100.0, 88.20309403585898, 53.60207102250971, 50.61116117456391, 100.0, 100.0, 89.74448456113845, 71.29700022096038, 98.5220347392297, 90.82332005624393], \"name\": \"middle deltoid\", \"boxpoints\": \"all\", \"jitter\": 0.5, \"whiskerwidth\": 0.2, \"marker\": {\"size\": 2}, \"line\": {\"width\": 1}}, {\"type\": \"box\", \"y\": [87.9007044145249, 86.59726998279416, 59.10141094489397, 44.13589279203423, 100.0, 100.0, 70.1824972310117, 96.23281950766712, 63.65203307460183, 70.91452809867178, 95.38933982386168, 61.239399707446715, 100.0, 57.447138428158695, 100.0, 60.84059848337181, 10.516356660406526, 84.24130220721614, 55.2340679679295, 73.01172935259783, 40.66623942593691, 63.3415113955489, 48.08235557289074, 48.90331836664392, 55.41400200680443, 90.83701578279886, 87.53546250725768, 22.38596276284788, 56.28318971067769, 100.0, 100.0, 11.118913394770958, 91.48482174462939, 99.99999999999999, 15.557006559730032, 52.85980365292775, 18.597786587197593, 42.14479522754588, 100.0, 38.21729828387956, 100.0, 61.878167580928384, 100.0, 42.55925087752406, 55.75256208040286, 73.22762173484143, 100.0, 41.5401574944237, 60.97644151034915, 61.87669666582581, 88.89400753233332, 77.92708920837542, 80.97423535412776, 58.34546340749492, 58.920842952463396, 53.48617967541516, 70.6672012664503, 23.895820707709017, 68.19368721094767, 89.45385519275389, 74.83673656332225, 75.85759161732895, 48.592835769800146, 66.30210138479255, 78.29285389001016, 78.78474226297244, 89.79607396992441, 47.58730363318478, 52.26533578857357, 65.72197897682338, 59.75860268555847, 42.783750332722654, 100.0, 35.650071835090316, 33.786497522478314, 58.59976951404992, 73.79893642779786, 43.541446609550285, 27.627359798406484, 31.248754358764984, 45.33672625736638, 54.435316100971896, 68.22924016174007, 43.178080281214775, 43.790314044738224, 49.700728981201316, 53.47650565430996, 98.63923583449831, 56.695896032679435, 76.03355459738724, 71.45103865243361, 15.419846451438383, 60.88128306424159, 88.31845874523081, 66.53580632843449, 79.37501119282875, 74.79817166793268, 40.938343947955794, 51.539053265368146, 21.360830402375257, 49.71205407328862, 23.341785416499814, 35.29412702180037, 44.46885938867845, 10.538612753755624, 16.772136069820103, 37.39165942165452, 16.762488496433598, 57.90475613234929, 43.84068847038825, 19.743986957309524, 100.0, 51.5511027587037, 100.0, 100.0, 72.69562133333977, 81.03954790253121, 100.0, 76.42104216910329, 99.99999999999999, 96.99061669261579, 71.72182796625046, 3.7748285298842084, 74.98332788032803, 80.04632298730402, 82.86200490225922, 79.8559255078513, 96.80952609271016, 68.0167076212686, 75.51508924661111, 55.898188462277155, 67.42421454267306, 30.11023320586154, 78.88154374125996, 31.801487199251376, 26.683479379612237, 50.759506177166024, 75.5295234081953, 33.758293293378564, 39.77148511902706, 47.49174867239901, 58.689107557059266, 42.75770435701205, 83.86812136390594, 88.26944292878353, 87.20442010134019, 100.0, 100.0, 100.0, 80.03809731618531, 93.09080543690276, 80.39280249122105, 72.85234618975846], \"name\": \"posterior deltoid\", \"boxpoints\": \"all\", \"jitter\": 0.5, \"whiskerwidth\": 0.2, \"marker\": {\"size\": 2}, \"line\": {\"width\": 1}}, {\"type\": \"box\", \"y\": [3.1944548016381566, 6.803470977546265, 24.86750319653246, 9.926570311464653, 12.719119216633167, 4.541646628040909, 10.992506914613468, 3.6820300080507717, 7.737542702850183, 9.910763533802458, 10.634903960502076, 26.836655357986547, 9.993482084358643, 10.610181853749456, 10.022259621796351, 3.5188941886185545, 8.414350848000588, 3.3962156139535638, 5.793400775744969, 7.530214934580381, 1.3532205933462353, 5.1510722222698755, 4.941300740317327, 2.61326824791339, 4.556901132645752, 6.6880515539933345, 16.130787345506384, 13.688180816280337, 11.747817439782414, 3.9012344828277294, 5.696894488531319, 5.76661921746731, 2.781380465722979, 5.301734394476597, 6.191528145598442, 5.6302338778127945, 18.869534679299083, 11.851167371473132, 5.345563503857973, 19.767497109713837, 10.05911713035799, 6.485252831484129, 14.666928905281976, 6.458719468211505, 12.452371292801105, 66.9608171652262, 5.372368928902059, 10.53100663874765, 15.782738760247508, 3.0657075601897015, 19.012737170954, 5.614887185485023, 5.141328795987948, 18.978005048271644, 14.906610729394608, 2.707890883155817, 2.4035470720563783, 3.7324128197325424, 18.013243769049353, 12.763445011526684, 3.7422868633216058, 2.08561577668571, 16.39040259981312, 6.319182037398528, 9.60504443484451, 4.219117799110276, 3.3400126936303147, 34.46604651341183, 63.60657913843846, 5.573415161447757, 4.096461667406332, 15.706471298278096, 16.61230167553791, 3.7979581712579242, 2.9813377172254976, 8.405573139633459, 5.331989194190454, 6.402076856464618, 13.446305258770545, 2.3471707835888913, 2.296740563073653, 0.8397416524785787, 3.780155451720822, 6.402794700070598, 2.8112562021895213, 7.265216862148749, 4.549328316357748, 3.5579905259312876, 6.016609970578036, 5.388661907579727, 4.334193654104132, 100.0, 8.277872290805274, 7.410496513900545, 4.0301626022459365, 3.800998246815879, 4.258906866891605, 7.125085144231241, 3.3556464464431026, 45.94964152621611, 9.162979394931472, 3.7551621646362014, 8.717286636991693, 4.007401332058522, 13.37939775394618, 13.963048477637853, 16.085251961071496, 2.9351579249819117, 6.071079766498309, 7.53644738445121, 83.50046663620748, 6.570309042378394, 18.32475017924344, 6.024927258654429, 1.689444894795865], \"name\": \"pectoralis major\", \"boxpoints\": \"all\", \"jitter\": 0.5, \"whiskerwidth\": 0.2, \"marker\": {\"size\": 2}, \"line\": {\"width\": 1}}, {\"type\": \"box\", \"y\": [44.13528978766298, 3.618407562906127, 63.8389556915937, 90.99184829333213, 77.58208659882247, 48.898744112078695, 35.3062531350449, 60.15225075897709, 100.0, 87.25074867459244, 44.90091005959193, 44.40409456855567, 79.49530559794583, 100.0, 26.754790210279236, 67.33215489889733, 46.78027858373532, 79.32270014667299, 7.425287269926417, 100.0, 82.48624081662847, 80.4767292981018, 72.07283710308818, 9.495923325696149, 100.0, 25.406350562704727, 43.83508360851719, 8.611436123142596, 69.52170825506609, 24.4086938931061, 59.37020210420533, 85.18816981639976, 57.48258292580207, 25.22869286699591, 45.97541932059753, 16.136878089882714, 77.37443891137661, 100.0, 17.857420419167294, 86.55302169655923, 99.36170560828664, 100.00000000000001, 26.729648670397488, 62.088620172004525, 65.18206196410031, 70.041687552172, 76.73684836238527, 78.4823178073154, 80.94368664780738, 81.41428362361431, 62.08174141737823, 71.84827171229655, 62.47527851873257, 20.898762409499774, 33.9050560046335, 27.070609492502456, 29.344387582675914, 100.0, 100.0, 100.0, 71.70565499818369, 81.78783316909607, 99.99999999999999, 88.26922023557148, 84.97047724173852, 85.18541065923934, 45.45763959831796, 100.0, 100.0, 100.0, 41.80174155207857, 78.85419847445964, 81.71763246242197, 99.14107527692133, 61.901006277701285, 81.62889125470676, 100.0, 23.204176275295755, 56.37607582736336, 32.22304975529227, 60.33389830225336, 95.30388250358342, 100.0, 14.985280942723785, 67.69687990723043, 25.739884491775225, 98.43380036771092, 62.818241145185056, 47.15901114080244, 15.12221112776795, 76.59902226883474, 23.873660788650028, 92.93957808083734, 62.26099131244549, 9.81956145906604, 82.93749850731915, 75.06507905283743, 54.90803336321599, 56.66605372361316, 100.0, 37.12898181247233, 61.990391440753164, 76.41701641839842, 62.293205679666954, 100.0, 21.331382056275977, 98.15804742638181, 100.0, 46.12584394205888, 75.80605612936604, 45.502561836367, 100.0, 64.6142439570182, 81.6274550443583, 100.0, 63.36989739915957, 59.78101747812629, 9.288187115206824, 56.57408262536746, 84.7881355903439, 12.318853164839577, 78.93642101623358, 34.281383884200444, 63.47602414376126, 100.0], \"name\": \"serratus anterior\", \"boxpoints\": \"all\", \"jitter\": 0.5, \"whiskerwidth\": 0.2, \"marker\": {\"size\": 2}, \"line\": {\"width\": 1}}, {\"type\": \"box\", \"y\": [48.825373203811786, 52.63854285445689, 10.417340137729678, 19.128658960389323, 30.585748985253453, 39.87058473842104, 27.077637454304554, 11.341818557932692, 52.489994179368914, 100.0, 18.784116204859156, 19.36486312483779, 21.160498763438675, 34.87233521569646, 24.919691653328066, 27.48220801416482, 16.76884652777209, 10.924699120918467, 12.321376062763381, 11.931258493060788, 3.681514691081917, 41.0218065401673, 23.36680026923661, 20.20555194741318, 7.56622792194257, 21.821457444742006, 72.57309846014985, 46.168771555944495, 25.851732724042808, 44.07512807295246, 15.490251580367149, 16.189671618365654, 16.536940116778357, 15.02157550814761, 21.293003885185108, 9.063661860552065, 35.639686798830816, 34.97023207280025, 16.793244535586847, 47.31446571849834, 19.98677933500978, 13.69463185324274, 26.49811378764837, 18.698613830090043, 19.64474587871206, 13.080475861509166, 18.22333935462871, 48.89756798336751, 9.854354784491543, 24.94376412284614, 29.477580259621654, 34.57852134894676, 15.656763483900756, 18.90525119452049, 22.78291720943125, 12.929972631618279, 22.004837260699723, 32.61049750938322, 24.919313144651873, 25.564888032604554, 13.49797908711529, 10.99238662466021, 18.815798171965287, 16.633066416046614, 65.05449375254182, 18.409217906334213, 7.200078804555028, 22.507508534415397, 64.43159641224676, 19.178212132747277, 24.405314091701726, 37.46869126115106, 20.309212408361876, 6.037612535603984, 20.20408918140761, 18.60326390166438, 19.16327610814638, 15.958166357497847, 19.074266434295424, 14.163505873315362, 32.68016411876697, 9.237987699940142, 5.085273444493785, 15.391925482767896, 19.028125813333634, 47.58249972795505, 39.95642678591012, 14.830140246766927, 29.09586289269638, 14.440757662825353, 56.898032273650756, 18.394535175463762, 20.35259790874161, 44.079347343808855, 24.07296418201085, 29.376466499332743, 74.23060017712179, 15.84111655934092, 36.15282492637716, 39.21490098514969, 32.24752830412691, 14.771849542807784, 12.765017900211893, 19.35886663375103, 54.33923269436218, 15.910979580858076, 34.72684382800131, 11.32423571631704, 12.717789660899713, 11.777856192189343, 73.15564520796558, 15.576877955181402, 43.090125928017464, 48.81293440359138, 16.319801940270594], \"name\": \"latissimus dorsi\", \"boxpoints\": \"all\", \"jitter\": 0.5, \"whiskerwidth\": 0.2, \"marker\": {\"size\": 2}, \"line\": {\"width\": 1}}, {\"type\": \"box\", \"y\": [66.44804509265053, 91.14820469978172, 100.0, 100.0, 89.45774554661, 100.0, 84.20554879619726, 88.23905341398256, 100.0, 100.0, 100.0, 100.0, 97.04022130854658, 99.57075171442985, 48.39931838554319, 44.318625450215, 18.95108967152179, 15.673669130064981, 58.561510361329134, 100.0, 73.44386166014566, 100.0, 78.18265108548198, 100.0, 90.33753292231152, 70.71194560432409, 100.0, 34.303462656848794, 14.495475837459324, 97.06351236369078, 100.0, 72.02646396125888, 95.19757680710029, 63.16813859617879, 100.0, 81.46341830933397, 69.45198271145503, 57.6275783805236, 100.0, 100.0, 85.419750655609, 100.0, 100.0, 84.13678562940032, 100.0, 96.80009417682439, 63.4901493040142, 85.34139546297904, 86.89738952734416, 7.247351725487862, 100.0, 100.0, 93.29913482934718, 44.24765014207096, 84.82444799264344, 100.0, 100.0, 100.0, 83.76340748454977, 68.12939620160341, 93.87159367403346, 90.97357480099076, 86.85059553519703, 86.25478290823861, 92.46336753043501, 67.23469650044451, 82.78051551313787, 61.736227985120536, 86.37810213018142, 100.0, 96.15829568957162, 100.00000000000001, 68.64032670223337, 59.26829494670195, 100.0, 73.72922485127319, 71.23699630762582, 22.276489749679495, 100.0, 84.93392433900458, 89.67440249100139, 65.47541663565364, 74.42861257022008, 18.405767971876212, 88.07940346442162, 100.0, 29.05901449758779, 43.989594615332344, 67.73386937406755, 53.04531125668151, 100.0, 100.0, 92.4452478651092, 63.107328868856186, 90.6771353713344, 76.63979874107577, 100.0, 66.01992233273963, 57.46553943740024, 100.0], \"name\": \"supraspinatus\", \"boxpoints\": \"all\", \"jitter\": 0.5, \"whiskerwidth\": 0.2, \"marker\": {\"size\": 2}, \"line\": {\"width\": 1}}, {\"type\": \"box\", \"y\": [6.995140342206238, 6.698804601485048, 91.61765339512577, 100.0, 67.52332014532246, 89.26718036018084, 42.690717284506654, 91.70520643974186, 100.0, 100.0, 64.31185424651268, 89.51986586084105, 100.0, 40.45869544133814, 71.45001237807023, 35.104188996786625, 72.07452859926258, 72.13379710112139, 100.0, 45.825630485548565, 34.94866617112754, 100.0, 46.010885667220286, 66.35095729735865, 73.96081449031394, 100.0, 100.0, 44.314082318950234, 7.000164071405746, 83.96781186316768, 64.5296152632331, 42.94843869478793, 100.0, 100.0, 93.91827074069873, 84.2000757812882, 67.59533357614232, 43.8541386627542, 49.77878975982627, 35.176176117499004, 72.80655285515444, 100.0, 73.10098368756707, 99.99999999999999, 59.63517575159896, 100.0, 62.86809548280268, 48.22842678694486, 76.37320743946347, 100.0, 100.0, 100.00000000000001, 100.0, 72.52913899543802, 100.0, 97.6647759685302, 100.0, 100.0, 100.0, 1.615394882046475, 67.45315256062646, 32.184178015142216, 89.7852455641269, 92.41240162608301, 51.710742622751226, 67.35477425970485, 37.539136685775304, 41.96348167170923, 87.20829796078284, 97.82419238722004, 95.0923429246791, 67.49302291814445, 33.1100818933904, 53.990607406937094, 58.48920691617215, 38.9309834967055, 100.0, 69.48896486689765, 100.0, 31.83069721739532, 64.35885004900929, 76.81101671463357, 59.152339331712874, 28.083813676165683, 100.0, 100.0, 100.0, 63.739598243387604, 65.18979996056989, 67.01973835831114, 78.09393205856611, 55.404198562559394, 7.262234309338332, 75.68475209201777, 91.3906583668067, 32.50945289489013, 56.106304397539006, 38.893710177788414, 99.99999999999999, 100.0], \"name\": \"infraspinatus\", \"boxpoints\": \"all\", \"jitter\": 0.5, \"whiskerwidth\": 0.2, \"marker\": {\"size\": 2}, \"line\": {\"width\": 1}}, {\"type\": \"box\", \"y\": [67.41896401256531, 27.157975964987312, 7.242439497955689, 15.101574081962191, 100.00000000000001, 57.62384827879332, 31.36953294977169, 33.95945666630124, 28.182631829212518, 10.793029628953994, 8.26901699029198, 7.024248830113732, 32.71698744047976, 23.081155111826696, 48.47259789136454, 25.34532471737469, 27.51865146274996, 69.79990011072735, 100.0, 1.4700011691682378, 57.832383256146876, 54.66724333861017, 34.48853472641743, 71.77284861892969, 30.818844531664833, 5.306191031772084, 1.924611234435106, 11.281974539140638, 17.928288362453866, 26.381856813094082, 26.913431020138706, 15.107177931091394, 18.153003864975183, 87.12197924624846, 4.721185895374332, 70.09103871889661, 22.758886388582855, 65.38720662725724, 88.97813909267079, 99.99999999999999, 35.94096124486295, 12.31340704576017, 44.22675783077516, 70.88842797119433, 100.0, 78.90550591767666, 47.702355282387884, 93.4423846769436, 33.032413578872095, 7.074751636084292, 71.63739558055347, 39.858819086998516, 57.86650135024716, 46.45429886475081, 48.88213714107286, 34.29575943902672, 40.148567563752536, 92.98049083364353, 0.06782268431223476, 100.0, 22.901587698783615, 66.25169592337033, 55.77137396471463, 9.527230112685961, 38.02723400715015, 30.914709698561847, 8.957240303843628, 65.60169400266638, 100.0, 91.49795954984447, 39.49134438694535, 96.51059509221567, 4.220834486908415, 76.30422245699474, 73.74550082373158, 100.0, 63.05595168499341, 36.20375717948359, 39.59367469228219, 46.00498351893476, 81.97757298614522, 57.74640721173169, 16.32715264103724, 100.0, 29.525316262591996, 98.96796866767752, 27.01227035083973, 98.19626415794583, 8.387907672008609, 34.75643259590682, 44.814724366940354, 2.6705497783329166, 54.62027019467079, 90.44609189276589, 94.05657592985808, 43.76569594611818, 26.404139664415275, 32.98269738136932, 75.55791964055345], \"name\": \"subscapularis\", \"boxpoints\": \"all\", \"jitter\": 0.5, \"whiskerwidth\": 0.2, \"marker\": {\"size\": 2}, \"line\": {\"width\": 1}}], {\"hovermode\": \"closest\", \"font\": {\"size\": 14}, \"title\": null, \"xaxis\": {\"title\": null, \"showline\": true, \"linewidth\": 1.5}, \"yaxis\": {\"title\": null, \"showline\": true, \"linewidth\": 1.5, \"zeroline\": false}}, {\"showLink\": true, \"linkText\": \"Export to plot.ly\"})});</script>"
      ]
     },
     "metadata": {},
     "output_type": "display_data"
    }
   ],
   "source": [
    "mvc_box = plot_mvc_boxplot(\n",
    "    df_normalized, xlabel=MUSCLES_NAMES, by='muscle', subset=2)\n",
    "\n",
    "py.iplot(mvc_box, filename='mvc/mvc_box')"
   ]
  },
  {
   "cell_type": "markdown",
   "metadata": {},
   "source": [
    "## Summary"
   ]
  }
 ],
 "metadata": {
  "kernelspec": {
   "display_name": "mvc",
   "language": "python",
   "name": "mvc"
  },
  "language_info": {
   "codemirror_mode": {
    "name": "ipython",
    "version": 3
   },
   "file_extension": ".py",
   "mimetype": "text/x-python",
   "name": "python",
   "nbconvert_exporter": "python",
   "pygments_lexer": "ipython3",
   "version": "3.6.4"
  },
  "toc": {
   "nav_menu": {},
   "number_sections": false,
   "sideBar": true,
   "skip_h1_title": false,
   "title_cell": "Table of Contents",
   "title_sidebar": "Contents",
   "toc_cell": true,
   "toc_position": {
    "height": "calc(100% - 180px)",
    "left": "10px",
    "top": "150px",
    "width": "384px"
   },
   "toc_section_display": true,
   "toc_window_display": true
  }
 },
 "nbformat": 4,
 "nbformat_minor": 2
}
