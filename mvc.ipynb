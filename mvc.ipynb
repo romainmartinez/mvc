{
 "cells": [
  {
   "cell_type": "markdown",
   "metadata": {
    "toc-hr-collapsed": false
   },
   "source": [
    "# A predictive approach to estimate the maximum voluntary activation of the shoulder muscles\n",
    "\n",
    "Romain Martinez<sup>*a</sup>, Jonathan Tremblay<sup>a</sup>, Mickael Begon<sup>a</sup>, Fabien Dal Maso<sup>a</sup>\n",
    "\n",
    "<sup>a</sup>École de kinésiologie et des sciences de l’activité physique, Faculté de Medecine, Université de Montréal, Montréal, Canada\n",
    "\n",
    "[GitHub repo](https://github.com/romainmartinez/mvc)"
   ]
  },
  {
   "cell_type": "markdown",
   "metadata": {
    "toc-hr-collapsed": false
   },
   "source": [
    "# Part 1: Getting the data"
   ]
  },
  {
   "cell_type": "code",
   "execution_count": 1,
   "metadata": {},
   "outputs": [],
   "source": [
    "from pathlib import Path\n",
    "import pandas as pd\n",
    "import numpy as np\n",
    "import scipy.io as sio\n",
    "\n",
    "# to make this notebook's output stable across runs\n",
    "RANDOM_SEED = 42\n",
    "np.random.seed(RANDOM_SEED)"
   ]
  },
  {
   "cell_type": "code",
   "execution_count": 2,
   "metadata": {},
   "outputs": [],
   "source": [
    "PROJECT_PATH = Path(\"./\")\n",
    "DATA_PATH = PROJECT_PATH / \"data\"\n",
    "MODEL_PATH = PROJECT_PATH / \"model\""
   ]
  },
  {
   "cell_type": "markdown",
   "metadata": {},
   "source": [
    "## Read the data\n",
    "\n",
    "We start this notebook with data in matlab format, where each file corresponds to different experiments.\n",
    "\n",
    "Each file contains a 3-dimensional matrix where the first dimension corresponds to the _participant_, the second to the _tested muscle_ and the third to the _test performed_.\n",
    "\n",
    "![Maximum voluntary isometric contraction tests performed.](./share/fig/positions.svg)"
   ]
  },
  {
   "cell_type": "code",
   "execution_count": 3,
   "metadata": {},
   "outputs": [
    {
     "name": "stdout",
     "output_type": "stream",
     "text": [
      "project Romain2017: 32 participants\n",
      "project Landry2015_1: 14 participants\n",
      "project Landry2016: 15 participants\n",
      "project Violon: 10 participants\n",
      "project Tennis: 16 participants\n",
      "project Yoann_2015: 22 participants\n",
      "project Landry2015_2: 11 participants\n",
      "project Landry2012: 18 participants\n",
      "project Patrick_2013: 16 participants\n",
      "project Sylvain_2015: 10 participants\n",
      "project Landry2013: 21 participants\n"
     ]
    }
   ],
   "source": [
    "mat = {}\n",
    "data = {key: [] for key in (\"dataset\", \"participant\", \"muscle\", \"test\", \"mvc\")}\n",
    "dataset_names = []\n",
    "count = -1\n",
    "\n",
    "\n",
    "for ifile in DATA_PATH.glob(\"*only_max.mat\"):\n",
    "    # dataset name\n",
    "    dataset = ifile.stem.replace(\"_only_max\", \"\").replace(\"MVE_Data_\", \"\")\n",
    "    dataset_names.append(dataset)\n",
    "\n",
    "    # data\n",
    "    mat[dataset] = sio.loadmat(ifile)[\"MVE\"]\n",
    "    print(f\"project {dataset}: {mat[dataset].shape[0]} participants\")\n",
    "\n",
    "    for iparticipant in range(mat[dataset].shape[0]):\n",
    "        count += 1\n",
    "        for imuscle in range(mat[dataset].shape[1]):\n",
    "            for itest in range(mat[dataset].shape[2]):\n",
    "                data[\"participant\"].append(count)\n",
    "                data[\"dataset\"].append(dataset)\n",
    "                data[\"muscle\"].append(imuscle)\n",
    "                data[\"test\"].append(itest)\n",
    "                data[\"mvc\"].append(mat[dataset][iparticipant, imuscle, itest])"
   ]
  },
  {
   "cell_type": "markdown",
   "metadata": {},
   "source": [
    "## Transform the data"
   ]
  },
  {
   "cell_type": "code",
   "execution_count": 4,
   "metadata": {},
   "outputs": [
    {
     "name": "stdout",
     "output_type": "stream",
     "text": [
      "dataset shape = (18465, 5)\n"
     ]
    },
    {
     "data": {
      "text/html": [
       "<div>\n",
       "<style scoped>\n",
       "    .dataframe tbody tr th:only-of-type {\n",
       "        vertical-align: middle;\n",
       "    }\n",
       "\n",
       "    .dataframe tbody tr th {\n",
       "        vertical-align: top;\n",
       "    }\n",
       "\n",
       "    .dataframe thead th {\n",
       "        text-align: right;\n",
       "    }\n",
       "</style>\n",
       "<table border=\"1\" class=\"dataframe\">\n",
       "  <thead>\n",
       "    <tr style=\"text-align: right;\">\n",
       "      <th></th>\n",
       "      <th>dataset</th>\n",
       "      <th>participant</th>\n",
       "      <th>muscle</th>\n",
       "      <th>test</th>\n",
       "      <th>mvc</th>\n",
       "    </tr>\n",
       "  </thead>\n",
       "  <tbody>\n",
       "    <tr>\n",
       "      <th>0</th>\n",
       "      <td>Romain2017</td>\n",
       "      <td>0</td>\n",
       "      <td>upper trapezius</td>\n",
       "      <td>test 01</td>\n",
       "      <td>0.000381</td>\n",
       "    </tr>\n",
       "    <tr>\n",
       "      <th>3</th>\n",
       "      <td>Romain2017</td>\n",
       "      <td>0</td>\n",
       "      <td>upper trapezius</td>\n",
       "      <td>test 04</td>\n",
       "      <td>0.000300</td>\n",
       "    </tr>\n",
       "    <tr>\n",
       "      <th>4</th>\n",
       "      <td>Romain2017</td>\n",
       "      <td>0</td>\n",
       "      <td>upper trapezius</td>\n",
       "      <td>test 05</td>\n",
       "      <td>0.000348</td>\n",
       "    </tr>\n",
       "    <tr>\n",
       "      <th>5</th>\n",
       "      <td>Romain2017</td>\n",
       "      <td>0</td>\n",
       "      <td>upper trapezius</td>\n",
       "      <td>test 06</td>\n",
       "      <td>0.000111</td>\n",
       "    </tr>\n",
       "    <tr>\n",
       "      <th>8</th>\n",
       "      <td>Romain2017</td>\n",
       "      <td>0</td>\n",
       "      <td>upper trapezius</td>\n",
       "      <td>test 09</td>\n",
       "      <td>0.000249</td>\n",
       "    </tr>\n",
       "  </tbody>\n",
       "</table>\n",
       "</div>"
      ],
      "text/plain": [
       "      dataset  participant           muscle     test       mvc\n",
       "0  Romain2017            0  upper trapezius  test 01  0.000381\n",
       "3  Romain2017            0  upper trapezius  test 04  0.000300\n",
       "4  Romain2017            0  upper trapezius  test 05  0.000348\n",
       "5  Romain2017            0  upper trapezius  test 06  0.000111\n",
       "8  Romain2017            0  upper trapezius  test 09  0.000249"
      ]
     },
     "execution_count": 4,
     "metadata": {},
     "output_type": "execute_result"
    }
   ],
   "source": [
    "df_tidy = pd.DataFrame(data).dropna()\n",
    "df_tidy[\"test\"] = df_tidy[\"test\"].apply(lambda x: f\"test {str(x + 1).zfill(2)}\")\n",
    "\n",
    "MUSCLES = [\n",
    "    \"upper trapezius\",\n",
    "    \"middle trapezius\",\n",
    "    \"lower trapezius\",\n",
    "    \"anterior deltoid\",\n",
    "    \"middle deltoid\",\n",
    "    \"posterior deltoid\",\n",
    "    \"pectoralis major\",\n",
    "    \"serratus anterior\",\n",
    "    \"latissimus dorsi\",\n",
    "    \"supraspinatus\",\n",
    "    \"infraspinatus\",\n",
    "    \"subscapularis\",\n",
    "]\n",
    "\n",
    "\n",
    "df_tidy[\"muscle\"] = np.array(MUSCLES)[df_tidy[\"muscle\"]]\n",
    "\n",
    "print(f\"dataset shape = {df_tidy.shape}\")\n",
    "df_tidy.head()\n"
   ]
  },
  {
   "cell_type": "code",
   "execution_count": 5,
   "metadata": {},
   "outputs": [
    {
     "data": {
      "text/html": [
       "<div>\n",
       "<style scoped>\n",
       "    .dataframe tbody tr th:only-of-type {\n",
       "        vertical-align: middle;\n",
       "    }\n",
       "\n",
       "    .dataframe tbody tr th {\n",
       "        vertical-align: top;\n",
       "    }\n",
       "\n",
       "    .dataframe thead th {\n",
       "        text-align: right;\n",
       "    }\n",
       "</style>\n",
       "<table border=\"1\" class=\"dataframe\">\n",
       "  <thead>\n",
       "    <tr style=\"text-align: right;\">\n",
       "      <th>test</th>\n",
       "      <th>dataset</th>\n",
       "      <th>participant</th>\n",
       "      <th>muscle</th>\n",
       "      <th>test 01</th>\n",
       "      <th>test 02</th>\n",
       "      <th>test 03</th>\n",
       "      <th>test 04</th>\n",
       "      <th>test 05</th>\n",
       "      <th>test 06</th>\n",
       "      <th>test 07</th>\n",
       "      <th>test 08</th>\n",
       "      <th>test 09</th>\n",
       "      <th>test 10</th>\n",
       "      <th>test 11</th>\n",
       "      <th>test 12</th>\n",
       "      <th>test 13</th>\n",
       "      <th>test 14</th>\n",
       "      <th>test 15</th>\n",
       "      <th>test 16</th>\n",
       "    </tr>\n",
       "  </thead>\n",
       "  <tbody>\n",
       "    <tr>\n",
       "      <th>0</th>\n",
       "      <td>Landry2012</td>\n",
       "      <td>120</td>\n",
       "      <td>anterior deltoid</td>\n",
       "      <td>0.013480</td>\n",
       "      <td>0.060322</td>\n",
       "      <td>0.102243</td>\n",
       "      <td>0.262121</td>\n",
       "      <td>0.216671</td>\n",
       "      <td>0.007603</td>\n",
       "      <td>0.009864</td>\n",
       "      <td>0.030523</td>\n",
       "      <td>NaN</td>\n",
       "      <td>NaN</td>\n",
       "      <td>NaN</td>\n",
       "      <td>NaN</td>\n",
       "      <td>NaN</td>\n",
       "      <td>NaN</td>\n",
       "      <td>NaN</td>\n",
       "      <td>NaN</td>\n",
       "    </tr>\n",
       "    <tr>\n",
       "      <th>1</th>\n",
       "      <td>Landry2012</td>\n",
       "      <td>120</td>\n",
       "      <td>latissimus dorsi</td>\n",
       "      <td>0.003968</td>\n",
       "      <td>0.077672</td>\n",
       "      <td>0.019619</td>\n",
       "      <td>0.024144</td>\n",
       "      <td>0.021569</td>\n",
       "      <td>0.151734</td>\n",
       "      <td>0.145337</td>\n",
       "      <td>0.060694</td>\n",
       "      <td>NaN</td>\n",
       "      <td>NaN</td>\n",
       "      <td>NaN</td>\n",
       "      <td>NaN</td>\n",
       "      <td>NaN</td>\n",
       "      <td>NaN</td>\n",
       "      <td>NaN</td>\n",
       "      <td>NaN</td>\n",
       "    </tr>\n",
       "    <tr>\n",
       "      <th>2</th>\n",
       "      <td>Landry2012</td>\n",
       "      <td>120</td>\n",
       "      <td>lower trapezius</td>\n",
       "      <td>0.025092</td>\n",
       "      <td>0.205321</td>\n",
       "      <td>0.300761</td>\n",
       "      <td>0.170296</td>\n",
       "      <td>0.191271</td>\n",
       "      <td>0.070199</td>\n",
       "      <td>0.140505</td>\n",
       "      <td>0.017468</td>\n",
       "      <td>NaN</td>\n",
       "      <td>NaN</td>\n",
       "      <td>NaN</td>\n",
       "      <td>NaN</td>\n",
       "      <td>NaN</td>\n",
       "      <td>NaN</td>\n",
       "      <td>NaN</td>\n",
       "      <td>NaN</td>\n",
       "    </tr>\n",
       "    <tr>\n",
       "      <th>3</th>\n",
       "      <td>Landry2012</td>\n",
       "      <td>120</td>\n",
       "      <td>middle deltoid</td>\n",
       "      <td>0.028731</td>\n",
       "      <td>0.145174</td>\n",
       "      <td>0.170468</td>\n",
       "      <td>0.085861</td>\n",
       "      <td>0.121181</td>\n",
       "      <td>0.035754</td>\n",
       "      <td>0.009872</td>\n",
       "      <td>0.011396</td>\n",
       "      <td>NaN</td>\n",
       "      <td>NaN</td>\n",
       "      <td>NaN</td>\n",
       "      <td>NaN</td>\n",
       "      <td>NaN</td>\n",
       "      <td>NaN</td>\n",
       "      <td>NaN</td>\n",
       "      <td>NaN</td>\n",
       "    </tr>\n",
       "    <tr>\n",
       "      <th>4</th>\n",
       "      <td>Landry2012</td>\n",
       "      <td>120</td>\n",
       "      <td>middle trapezius</td>\n",
       "      <td>0.011083</td>\n",
       "      <td>0.135626</td>\n",
       "      <td>0.130890</td>\n",
       "      <td>0.042650</td>\n",
       "      <td>0.062615</td>\n",
       "      <td>0.046499</td>\n",
       "      <td>0.040964</td>\n",
       "      <td>0.016394</td>\n",
       "      <td>NaN</td>\n",
       "      <td>NaN</td>\n",
       "      <td>NaN</td>\n",
       "      <td>NaN</td>\n",
       "      <td>NaN</td>\n",
       "      <td>NaN</td>\n",
       "      <td>NaN</td>\n",
       "      <td>NaN</td>\n",
       "    </tr>\n",
       "  </tbody>\n",
       "</table>\n",
       "</div>"
      ],
      "text/plain": [
       "test     dataset  participant            muscle   test 01   test 02   test 03  \\\n",
       "0     Landry2012          120  anterior deltoid  0.013480  0.060322  0.102243   \n",
       "1     Landry2012          120  latissimus dorsi  0.003968  0.077672  0.019619   \n",
       "2     Landry2012          120   lower trapezius  0.025092  0.205321  0.300761   \n",
       "3     Landry2012          120    middle deltoid  0.028731  0.145174  0.170468   \n",
       "4     Landry2012          120  middle trapezius  0.011083  0.135626  0.130890   \n",
       "\n",
       "test   test 04   test 05   test 06   test 07   test 08  test 09  test 10  \\\n",
       "0     0.262121  0.216671  0.007603  0.009864  0.030523      NaN      NaN   \n",
       "1     0.024144  0.021569  0.151734  0.145337  0.060694      NaN      NaN   \n",
       "2     0.170296  0.191271  0.070199  0.140505  0.017468      NaN      NaN   \n",
       "3     0.085861  0.121181  0.035754  0.009872  0.011396      NaN      NaN   \n",
       "4     0.042650  0.062615  0.046499  0.040964  0.016394      NaN      NaN   \n",
       "\n",
       "test  test 11  test 12  test 13  test 14  test 15  test 16  \n",
       "0         NaN      NaN      NaN      NaN      NaN      NaN  \n",
       "1         NaN      NaN      NaN      NaN      NaN      NaN  \n",
       "2         NaN      NaN      NaN      NaN      NaN      NaN  \n",
       "3         NaN      NaN      NaN      NaN      NaN      NaN  \n",
       "4         NaN      NaN      NaN      NaN      NaN      NaN  "
      ]
     },
     "execution_count": 5,
     "metadata": {},
     "output_type": "execute_result"
    }
   ],
   "source": [
    "df_wide = df_tidy.pivot_table(\n",
    "    index=[\"dataset\", \"participant\", \"muscle\"],\n",
    "    columns=\"test\",\n",
    "    values=\"mvc\",\n",
    "    fill_value=np.nan,\n",
    ").reset_index()\n",
    "df_wide.head()"
   ]
  },
  {
   "cell_type": "markdown",
   "metadata": {},
   "source": [
    "# Part 2: Data exploration"
   ]
  },
  {
   "cell_type": "code",
   "execution_count": 6,
   "metadata": {},
   "outputs": [
    {
     "data": {
      "text/plain": [
       "DataTransformerRegistry.enable('json')"
      ]
     },
     "execution_count": 6,
     "metadata": {},
     "output_type": "execute_result"
    }
   ],
   "source": [
    "import altair as alt\n",
    "alt.data_transformers.enable('json')"
   ]
  },
  {
   "cell_type": "markdown",
   "metadata": {},
   "source": [
    "## Muscles and tests count"
   ]
  },
  {
   "cell_type": "code",
   "execution_count": 7,
   "metadata": {},
   "outputs": [
    {
     "data": {
      "application/vnd.vegalite.v2+json": {
       "$schema": "https://vega.github.io/schema/vega-lite/v2.6.0.json",
       "config": {
        "view": {
         "height": 300,
         "width": 400
        }
       },
       "hconcat": [
        {
         "data": {
          "format": {
           "type": "json"
          },
          "url": "altair-data-e631d6f9b7b4decb4e9ba034f730c1bb.json"
         },
         "encoding": {
          "x": {
           "aggregate": "count",
           "type": "quantitative"
          },
          "y": {
           "field": "muscle",
           "sort": [
            "upper trapezius",
            "middle trapezius",
            "lower trapezius",
            "anterior deltoid",
            "middle deltoid",
            "posterior deltoid",
            "pectoralis major",
            "serratus anterior",
            "latissimus dorsi",
            "supraspinatus",
            "infraspinatus",
            "subscapularis"
           ],
           "type": "nominal"
          }
         },
         "mark": "bar"
        },
        {
         "data": {
          "format": {
           "type": "json"
          },
          "url": "altair-data-e631d6f9b7b4decb4e9ba034f730c1bb.json"
         },
         "encoding": {
          "x": {
           "aggregate": "count",
           "type": "quantitative"
          },
          "y": {
           "field": "test",
           "type": "nominal"
          }
         },
         "mark": "bar"
        }
       ]
      },
      "image/png": "[encoded data removed]",
      "text/plain": [
       "<VegaLite 2 object>\n",
       "\n",
       "If you see this message, it means the renderer has not been properly enabled\n",
       "for the frontend that you are using. For more information, see\n",
       "https://altair-viz.github.io/user_guide/troubleshooting.html\n"
      ]
     },
     "execution_count": 7,
     "metadata": {},
     "output_type": "execute_result"
    }
   ],
   "source": [
    "base = alt.Chart(df_tidy).encode(x=\"count()\")\n",
    "muscle = base.mark_bar().encode(alt.Y(\"muscle\", sort=alt.Sort(MUSCLES)))\n",
    "test = base.mark_bar().encode(y=\"test\")\n",
    "muscle | test"
   ]
  },
  {
   "cell_type": "code",
   "execution_count": 8,
   "metadata": {},
   "outputs": [
    {
     "data": {
      "application/vnd.vegalite.v2+json": {
       "$schema": "https://vega.github.io/schema/vega-lite/v2.6.0.json",
       "config": {
        "view": {
         "height": 300,
         "width": 400
        }
       },
       "data": {
        "format": {
         "type": "json"
        },
        "url": "altair-data-e631d6f9b7b4decb4e9ba034f730c1bb.json"
       },
       "encoding": {
        "color": {
         "aggregate": "count",
         "type": "quantitative"
        },
        "x": {
         "field": "test",
         "type": "nominal"
        },
        "y": {
         "field": "muscle",
         "sort": [
          "upper trapezius",
          "middle trapezius",
          "lower trapezius",
          "anterior deltoid",
          "middle deltoid",
          "posterior deltoid",
          "pectoralis major",
          "serratus anterior",
          "latissimus dorsi",
          "supraspinatus",
          "infraspinatus",
          "subscapularis"
         ],
         "type": "nominal"
        }
       },
       "mark": "rect"
      },
      "image/png": "[encoded data removed]",
      "text/plain": [
       "<VegaLite 2 object>\n",
       "\n",
       "If you see this message, it means the renderer has not been properly enabled\n",
       "for the frontend that you are using. For more information, see\n",
       "https://altair-viz.github.io/user_guide/troubleshooting.html\n"
      ]
     },
     "execution_count": 8,
     "metadata": {},
     "output_type": "execute_result"
    }
   ],
   "source": [
    "alt.Chart(df_tidy).mark_rect().encode(\n",
    "    x=\"test\", y=alt.Y(\"muscle\", sort=alt.Sort(MUSCLES)), color=\"count()\"\n",
    ")"
   ]
  },
  {
   "cell_type": "code",
   "execution_count": 9,
   "metadata": {},
   "outputs": [
    {
     "data": {
      "application/vnd.vegalite.v2+json": {
       "$schema": "https://vega.github.io/schema/vega-lite/v2.6.0.json",
       "config": {
        "view": {
         "height": 300,
         "width": 400
        }
       },
       "hconcat": [
        {
         "data": {
          "format": {
           "type": "json"
          },
          "url": "altair-data-e631d6f9b7b4decb4e9ba034f730c1bb.json"
         },
         "encoding": {
          "color": {
           "aggregate": "count",
           "type": "quantitative"
          },
          "x": {
           "field": "muscle",
           "sort": [
            "upper trapezius",
            "middle trapezius",
            "lower trapezius",
            "anterior deltoid",
            "middle deltoid",
            "posterior deltoid",
            "pectoralis major",
            "serratus anterior",
            "latissimus dorsi",
            "supraspinatus",
            "infraspinatus",
            "subscapularis"
           ],
           "type": "nominal"
          },
          "y": {
           "field": "dataset",
           "type": "nominal"
          }
         },
         "mark": "rect"
        },
        {
         "data": {
          "format": {
           "type": "json"
          },
          "url": "altair-data-e631d6f9b7b4decb4e9ba034f730c1bb.json"
         },
         "encoding": {
          "color": {
           "aggregate": "count",
           "type": "quantitative"
          },
          "x": {
           "field": "test",
           "type": "nominal"
          },
          "y": {
           "field": "dataset",
           "type": "nominal"
          }
         },
         "mark": "rect"
        }
       ]
      },
      "image/png": "[encoded data removed]",
      "text/plain": [
       "<VegaLite 2 object>\n",
       "\n",
       "If you see this message, it means the renderer has not been properly enabled\n",
       "for the frontend that you are using. For more information, see\n",
       "https://altair-viz.github.io/user_guide/troubleshooting.html\n"
      ]
     },
     "execution_count": 9,
     "metadata": {},
     "output_type": "execute_result"
    }
   ],
   "source": [
    "base = alt.Chart(df_tidy).encode(y=\"dataset\", color=\"count()\")\n",
    "test = base.mark_rect().encode(x=\"test\")\n",
    "muscle = base.mark_rect().encode(alt.X(\"muscle\", sort=alt.Sort(MUSCLES)))\n",
    "muscle | test"
   ]
  },
  {
   "cell_type": "markdown",
   "metadata": {},
   "source": [
    "## NaNs count"
   ]
  },
  {
   "cell_type": "code",
   "execution_count": 10,
   "metadata": {},
   "outputs": [
    {
     "data": {
      "application/vnd.vegalite.v2+json": {
       "$schema": "https://vega.github.io/schema/vega-lite/v2.6.0.json",
       "config": {
        "view": {
         "height": 300,
         "width": 400
        }
       },
       "data": {
        "format": {
         "type": "json"
        },
        "url": "altair-data-6a3e0c6a179fcbde90589b8ed5f8debf.json"
       },
       "encoding": {
        "x": {
         "field": "test",
         "type": "nominal"
        },
        "y": {
         "aggregate": "missing",
         "field": "value",
         "type": "quantitative"
        }
       },
       "mark": "bar"
      },
      "image/png": "[encoded data removed]",
      "text/plain": [
       "<VegaLite 2 object>\n",
       "\n",
       "If you see this message, it means the renderer has not been properly enabled\n",
       "for the frontend that you are using. For more information, see\n",
       "https://altair-viz.github.io/user_guide/troubleshooting.html\n"
      ]
     },
     "execution_count": 10,
     "metadata": {},
     "output_type": "execute_result"
    }
   ],
   "source": [
    "alt.Chart(df_wide.melt(id_vars=[\"dataset\", \"participant\", \"muscle\"])).mark_bar().encode(\n",
    "    x=\"test\", y=\"missing(value)\"\n",
    ")"
   ]
  },
  {
   "cell_type": "markdown",
   "metadata": {},
   "source": [
    "## Which test normalizes which muscle"
   ]
  },
  {
   "cell_type": "code",
   "execution_count": 11,
   "metadata": {},
   "outputs": [
    {
     "data": {
      "application/vnd.vegalite.v2+json": {
       "$schema": "https://vega.github.io/schema/vega-lite/v2.6.0.json",
       "config": {
        "view": {
         "height": 300,
         "width": 400
        }
       },
       "data": {
        "format": {
         "type": "json"
        },
        "url": "altair-data-030f70200de04f0334f6d0ecde079999.json"
       },
       "encoding": {
        "color": {
         "field": "muscle_normalizer",
         "type": "quantitative"
        },
        "x": {
         "field": "test",
         "type": "nominal"
        },
        "y": {
         "field": "muscle",
         "sort": [
          "upper trapezius",
          "middle trapezius",
          "lower trapezius",
          "anterior deltoid",
          "middle deltoid",
          "posterior deltoid",
          "pectoralis major",
          "serratus anterior",
          "latissimus dorsi",
          "supraspinatus",
          "infraspinatus",
          "subscapularis"
         ],
         "type": "nominal"
        }
       },
       "mark": "rect"
      },
      "image/png": "[encoded data removed]",
      "text/plain": [
       "<VegaLite 2 object>\n",
       "\n",
       "If you see this message, it means the renderer has not been properly enabled\n",
       "for the frontend that you are using. For more information, see\n",
       "https://altair-viz.github.io/user_guide/troubleshooting.html\n"
      ]
     },
     "execution_count": 11,
     "metadata": {},
     "output_type": "execute_result"
    }
   ],
   "source": [
    "dff = df_tidy.groupby([\"test\", \"muscle\"])[\"mvc\"].count().rename(\"count\").to_frame()\n",
    "\n",
    "max_test = (\n",
    "    df_tidy.groupby([\"participant\", \"muscle\"], as_index=False)\n",
    "    .apply(lambda x: x[\"test\"][x[\"mvc\"].idxmax()])\n",
    "    .rename(\"test\")\n",
    "    .reset_index()\n",
    ")\n",
    "\n",
    "dff = dff.merge(\n",
    "    max_test.groupby([\"muscle\", \"test\"]).count().reset_index(), on=[\"muscle\", \"test\"]\n",
    ").rename(columns={\"participant\": \"max_test\"})\n",
    "\n",
    "\n",
    "dff[\"muscle_normalizer\"] = dff[\"max_test\"] / dff[\"count\"] * 100\n",
    "\n",
    "alt.Chart(dff).mark_rect().encode(\n",
    "    x=\"test\", y=alt.Y(\"muscle\", sort=alt.Sort(MUSCLES)), color=\"muscle_normalizer\"\n",
    ")"
   ]
  },
  {
   "cell_type": "code",
   "execution_count": 12,
   "metadata": {},
   "outputs": [
    {
     "data": {
      "application/vnd.vegalite.v2+json": {
       "$schema": "https://vega.github.io/schema/vega-lite/v2.6.0.json",
       "config": {
        "view": {
         "height": 300,
         "width": 400
        }
       },
       "data": {
        "format": {
         "type": "json"
        },
        "url": "altair-data-030f70200de04f0334f6d0ecde079999.json"
       },
       "encoding": {
        "color": {
         "bin": true,
         "field": "muscle_normalizer",
         "type": "quantitative"
        },
        "x": {
         "field": "test",
         "type": "nominal"
        },
        "y": {
         "field": "muscle",
         "sort": [
          "upper trapezius",
          "middle trapezius",
          "lower trapezius",
          "anterior deltoid",
          "middle deltoid",
          "posterior deltoid",
          "pectoralis major",
          "serratus anterior",
          "latissimus dorsi",
          "supraspinatus",
          "infraspinatus",
          "subscapularis"
         ],
         "type": "nominal"
        }
       },
       "mark": "rect"
      },
      "image/png": "[encoded data removed]",
      "text/plain": [
       "<VegaLite 2 object>\n",
       "\n",
       "If you see this message, it means the renderer has not been properly enabled\n",
       "for the frontend that you are using. For more information, see\n",
       "https://altair-viz.github.io/user_guide/troubleshooting.html\n"
      ]
     },
     "execution_count": 12,
     "metadata": {},
     "output_type": "execute_result"
    }
   ],
   "source": [
    "alt.Chart(dff).mark_rect().encode(\n",
    "    x=\"test\",\n",
    "    y=alt.Y(\"muscle\", sort=alt.Sort(MUSCLES)),\n",
    "    color=alt.Color(\"muscle_normalizer\", bin=True),\n",
    ")\n"
   ]
  },
  {
   "cell_type": "markdown",
   "metadata": {},
   "source": [
    "# Part 3: Machine learning pipeline\n",
    "\n",
    "Since tests number 4, 5 and 6 have few missing data (3) and are good normalizers, we will try to predict the maximum obtained with the 16 tests from these three tests alone."
   ]
  },
  {
   "cell_type": "markdown",
   "metadata": {},
   "source": [
    "## Split the data"
   ]
  },
  {
   "cell_type": "code",
   "execution_count": 13,
   "metadata": {},
   "outputs": [],
   "source": [
    "COLS_TO_KEEP = ['muscle', 'test 04', 'test 05', 'test 06']"
   ]
  },
  {
   "cell_type": "code",
   "execution_count": 15,
   "metadata": {},
   "outputs": [
    {
     "name": "stdout",
     "output_type": "stream",
     "text": [
      "0    0.262121\n",
      "1    0.151734\n",
      "2    0.300761\n",
      "3    0.170468\n",
      "4    0.135626\n",
      "dtype: float64\n"
     ]
    },
    {
     "data": {
      "text/html": [
       "<div>\n",
       "<style scoped>\n",
       "    .dataframe tbody tr th:only-of-type {\n",
       "        vertical-align: middle;\n",
       "    }\n",
       "\n",
       "    .dataframe tbody tr th {\n",
       "        vertical-align: top;\n",
       "    }\n",
       "\n",
       "    .dataframe thead th {\n",
       "        text-align: right;\n",
       "    }\n",
       "</style>\n",
       "<table border=\"1\" class=\"dataframe\">\n",
       "  <thead>\n",
       "    <tr style=\"text-align: right;\">\n",
       "      <th>test</th>\n",
       "      <th>muscle</th>\n",
       "      <th>test 04</th>\n",
       "      <th>test 05</th>\n",
       "      <th>test 06</th>\n",
       "    </tr>\n",
       "  </thead>\n",
       "  <tbody>\n",
       "    <tr>\n",
       "      <th>0</th>\n",
       "      <td>anterior deltoid</td>\n",
       "      <td>0.262121</td>\n",
       "      <td>0.216671</td>\n",
       "      <td>0.007603</td>\n",
       "    </tr>\n",
       "    <tr>\n",
       "      <th>1</th>\n",
       "      <td>latissimus dorsi</td>\n",
       "      <td>0.024144</td>\n",
       "      <td>0.021569</td>\n",
       "      <td>0.151734</td>\n",
       "    </tr>\n",
       "    <tr>\n",
       "      <th>2</th>\n",
       "      <td>lower trapezius</td>\n",
       "      <td>0.170296</td>\n",
       "      <td>0.191271</td>\n",
       "      <td>0.070199</td>\n",
       "    </tr>\n",
       "    <tr>\n",
       "      <th>3</th>\n",
       "      <td>middle deltoid</td>\n",
       "      <td>0.085861</td>\n",
       "      <td>0.121181</td>\n",
       "      <td>0.035754</td>\n",
       "    </tr>\n",
       "    <tr>\n",
       "      <th>4</th>\n",
       "      <td>middle trapezius</td>\n",
       "      <td>0.042650</td>\n",
       "      <td>0.062615</td>\n",
       "      <td>0.046499</td>\n",
       "    </tr>\n",
       "  </tbody>\n",
       "</table>\n",
       "</div>"
      ],
      "text/plain": [
       "test            muscle   test 04   test 05   test 06\n",
       "0     anterior deltoid  0.262121  0.216671  0.007603\n",
       "1     latissimus dorsi  0.024144  0.021569  0.151734\n",
       "2      lower trapezius  0.170296  0.191271  0.070199\n",
       "3       middle deltoid  0.085861  0.121181  0.035754\n",
       "4     middle trapezius  0.042650  0.062615  0.046499"
      ]
     },
     "execution_count": 15,
     "metadata": {},
     "output_type": "execute_result"
    }
   ],
   "source": [
    "X = df_wide[COLS_TO_KEEP]\n",
    "y = df_wide.select_dtypes(include=\"float64\").max(axis=1)\n",
    "print(y[:5])\n",
    "X.head()"
   ]
  },
  {
   "cell_type": "markdown",
   "metadata": {},
   "source": [
    "We want to make sure that all the data from one participant is in only one set."
   ]
  },
  {
   "cell_type": "code",
   "execution_count": 16,
   "metadata": {},
   "outputs": [],
   "source": [
    "from sklearn.model_selection import GroupShuffleSplit\n",
    "\n",
    "TEST_SIZE = 0.2\n",
    "\n",
    "train_inds, test_inds = next(\n",
    "    GroupShuffleSplit(test_size=TEST_SIZE, random_state=RANDOM_SEED).split(\n",
    "        X, groups=df_wide[\"participant\"]\n",
    "    )\n",
    ")\n",
    "X_train, X_test, y_train, y_test = (\n",
    "    X.iloc[train_inds],\n",
    "    X.iloc[test_inds],\n",
    "    y[train_inds],\n",
    "    y[test_inds],\n",
    ")"
   ]
  },
  {
   "cell_type": "markdown",
   "metadata": {},
   "source": [
    "## Pipeline"
   ]
  },
  {
   "cell_type": "code",
   "execution_count": 17,
   "metadata": {},
   "outputs": [
    {
     "data": {
      "text/html": [
       "<div>\n",
       "<style scoped>\n",
       "    .dataframe tbody tr th:only-of-type {\n",
       "        vertical-align: middle;\n",
       "    }\n",
       "\n",
       "    .dataframe tbody tr th {\n",
       "        vertical-align: top;\n",
       "    }\n",
       "\n",
       "    .dataframe thead th {\n",
       "        text-align: right;\n",
       "    }\n",
       "</style>\n",
       "<table border=\"1\" class=\"dataframe\">\n",
       "  <thead>\n",
       "    <tr style=\"text-align: right;\">\n",
       "      <th>test</th>\n",
       "      <th>muscle</th>\n",
       "      <th>test 04</th>\n",
       "      <th>test 05</th>\n",
       "      <th>test 06</th>\n",
       "    </tr>\n",
       "  </thead>\n",
       "  <tbody>\n",
       "    <tr>\n",
       "      <th>0</th>\n",
       "      <td>anterior deltoid</td>\n",
       "      <td>0.262121</td>\n",
       "      <td>0.216671</td>\n",
       "      <td>0.007603</td>\n",
       "    </tr>\n",
       "    <tr>\n",
       "      <th>1</th>\n",
       "      <td>latissimus dorsi</td>\n",
       "      <td>0.024144</td>\n",
       "      <td>0.021569</td>\n",
       "      <td>0.151734</td>\n",
       "    </tr>\n",
       "    <tr>\n",
       "      <th>2</th>\n",
       "      <td>lower trapezius</td>\n",
       "      <td>0.170296</td>\n",
       "      <td>0.191271</td>\n",
       "      <td>0.070199</td>\n",
       "    </tr>\n",
       "    <tr>\n",
       "      <th>3</th>\n",
       "      <td>middle deltoid</td>\n",
       "      <td>0.085861</td>\n",
       "      <td>0.121181</td>\n",
       "      <td>0.035754</td>\n",
       "    </tr>\n",
       "    <tr>\n",
       "      <th>4</th>\n",
       "      <td>middle trapezius</td>\n",
       "      <td>0.042650</td>\n",
       "      <td>0.062615</td>\n",
       "      <td>0.046499</td>\n",
       "    </tr>\n",
       "  </tbody>\n",
       "</table>\n",
       "</div>"
      ],
      "text/plain": [
       "test            muscle   test 04   test 05   test 06\n",
       "0     anterior deltoid  0.262121  0.216671  0.007603\n",
       "1     latissimus dorsi  0.024144  0.021569  0.151734\n",
       "2      lower trapezius  0.170296  0.191271  0.070199\n",
       "3       middle deltoid  0.085861  0.121181  0.035754\n",
       "4     middle trapezius  0.042650  0.062615  0.046499"
      ]
     },
     "execution_count": 17,
     "metadata": {},
     "output_type": "execute_result"
    }
   ],
   "source": [
    "X_train.head()"
   ]
  },
  {
   "cell_type": "code",
   "execution_count": 76,
   "metadata": {},
   "outputs": [],
   "source": [
    "from sklearn.pipeline import Pipeline, FeatureUnion\n",
    "from sklearn.preprocessing import FunctionTransformer, OneHotEncoder\n",
    "\n",
    "\n",
    "def get_cat_cols(a):\n",
    "    return a.select_dtypes(include=\"object\")\n",
    "\n",
    "\n",
    "def get_num_cols(a):\n",
    "    return a.select_dtypes(include=\"float64\")\n",
    "\n",
    "\n",
    "class TestSelector:\n",
    "    def __init__(self, test=[1, 2, 3]):\n",
    "        self.test = test\n",
    "\n",
    "    def transform(self, X, y=None):\n",
    "        return X.iloc[:, self.test].values\n",
    "\n",
    "    def fit(self, X, y=None):\n",
    "        return self\n",
    "\n",
    "\n",
    "pipeline_categorical = Pipeline(\n",
    "    [\n",
    "        (\"selector\", FunctionTransformer(get_cat_cols, validate=False)),\n",
    "        (\"encoder\", OneHotEncoder(sparse=False)),\n",
    "    ]\n",
    ")\n",
    "\n",
    "pipeline_numerical = Pipeline(\n",
    "    [\n",
    "        (\"selector\", FunctionTransformer(get_num_cols, validate=False)),\n",
    "        (\"test_selection\", TestSelector(test=[0, 1, 2])),\n",
    "    ]\n",
    ")\n",
    "\n",
    "pipeline_preprocessing = FeatureUnion(\n",
    "    [(\"categorical\", pipeline_categorical), (\"numerical\", pipeline_numerical)]\n",
    ")"
   ]
  },
  {
   "cell_type": "code",
   "execution_count": 77,
   "metadata": {},
   "outputs": [
    {
     "data": {
      "text/plain": [
       "(1396, 15)"
      ]
     },
     "execution_count": 77,
     "metadata": {},
     "output_type": "execute_result"
    }
   ],
   "source": [
    "pipeline_preprocessing.fit_transform(X_train).shape"
   ]
  },
  {
   "cell_type": "code",
   "execution_count": null,
   "metadata": {},
   "outputs": [],
   "source": []
  }
 ],
 "metadata": {
  "kernelspec": {
   "display_name": "Python [conda env:mvc]",
   "language": "python",
   "name": "conda-env-mvc-py"
  },
  "language_info": {
   "codemirror_mode": {
    "name": "ipython",
    "version": 3
   },
   "file_extension": ".py",
   "mimetype": "text/x-python",
   "name": "python",
   "nbconvert_exporter": "python",
   "pygments_lexer": "ipython3",
   "version": "3.6.6"
  },
  "toc-autonumbering": true,
  "toc-showcode": false,
  "toc-showtags": true
 },
 "nbformat": 4,
 "nbformat_minor": 2
}
