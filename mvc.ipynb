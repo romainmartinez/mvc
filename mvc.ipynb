{
 "cells": [
  {
   "cell_type": "markdown",
   "metadata": {
    "toc": true
   },
   "source": [
    "<h1>Table of Contents<span class=\"tocSkip\"></span></h1>\n",
    "<div class=\"toc\"><ul class=\"toc-item\"><li><span><a href=\"#1.-MVC-project-description\" data-toc-modified-id=\"1.-MVC-project-description-1\">1. MVC project description</a></span></li><li><span><a href=\"#2.-Setup\" data-toc-modified-id=\"2.-Setup-2\">2. Setup</a></span></li><li><span><a href=\"#3.-Get-the-data\" data-toc-modified-id=\"3.-Get-the-data-3\">3. Get the data</a></span><ul class=\"toc-item\"><li><span><a href=\"#3.1.-From-matlab-to-dict\" data-toc-modified-id=\"3.1.-From-matlab-to-dict-3.1\">3.1. From matlab to dict</a></span></li><li><span><a href=\"#3.2.-From-dict-to-pandas-dataframe\" data-toc-modified-id=\"3.2.-From-dict-to-pandas-dataframe-3.2\">3.2. From dict to pandas dataframe</a></span></li></ul></li><li><span><a href=\"#4.-Data-analysis\" data-toc-modified-id=\"4.-Data-analysis-4\">4. Data analysis</a></span><ul class=\"toc-item\"><li><span><a href=\"#4.1.-Muscles-by-dataset\" data-toc-modified-id=\"4.1.-Muscles-by-dataset-4.1\">4.1. Muscles by dataset</a></span></li><li><span><a href=\"#4.2.-Tests-by-dataset\" data-toc-modified-id=\"4.2.-Tests-by-dataset-4.2\">4.2. Tests by dataset</a></span></li><li><span><a href=\"#4.3.-Muscles-and-tests-count\" data-toc-modified-id=\"4.3.-Muscles-and-tests-count-4.3\">4.3. Muscles and tests count</a></span></li><li><span><a href=\"#4.4.-Max-for-each-test-(normalized-by-participant-number)\" data-toc-modified-id=\"4.4.-Max-for-each-test-(normalized-by-participant-number)-4.4\">4.4. Max for each test (normalized by participant number)</a></span></li><li><span><a href=\"#4.5.-Distribution\" data-toc-modified-id=\"4.5.-Distribution-4.5\">4.5. Distribution</a></span></li><li><span><a href=\"#Summary\" data-toc-modified-id=\"Summary-4.6\">Summary</a></span></li></ul></li></ul></div>"
   ]
  },
  {
   "cell_type": "markdown",
   "metadata": {},
   "source": [
    "# 1. MVC project description\n",
    "\n",
    "**Links**\n",
    "- [github repo](https://github.com/romainmartinez/mvc)\n",
    "- [plotly figures]()\n",
    "\n",
    "**Todos**\n",
    "- update readme, description\n",
    "- data analysis\n",
    "- plotly link\n",
    "- one model by muscle\n",
    "\n",
    "**Author**: _Romain Martinez._"
   ]
  },
  {
   "cell_type": "markdown",
   "metadata": {},
   "source": [
    "# 2. Setup"
   ]
  },
  {
   "cell_type": "code",
   "execution_count": 1,
   "metadata": {},
   "outputs": [
    {
     "data": {
      "text/html": [
       "<script>requirejs.config({paths: { 'plotly': ['https://cdn.plot.ly/plotly-latest.min']},});if(!window.Plotly) {{require(['plotly'],function(plotly) {window.Plotly=plotly;});}}</script>"
      ],
      "text/vnd.plotly.v1+html": [
       "<script>requirejs.config({paths: { 'plotly': ['https://cdn.plot.ly/plotly-latest.min']},});if(!window.Plotly) {{require(['plotly'],function(plotly) {window.Plotly=plotly;});}}</script>"
      ]
     },
     "metadata": {},
     "output_type": "display_data"
    }
   ],
   "source": [
    "# Common imports\n",
    "import scipy.io as sio\n",
    "import pandas as pd\n",
    "import numpy as np\n",
    "\n",
    "# Path\n",
    "from pathlib import Path, PurePath\n",
    "PROJECT_PATH = Path('./')\n",
    "DATA_PATH = PROJECT_PATH.joinpath('data')\n",
    "\n",
    "# to make this notebook's output stable across runs\n",
    "RANDOM_SEED = 42\n",
    "np.random.seed(RANDOM_SEED)\n",
    "\n",
    "# Figures\n",
    "OFFLINE = True\n",
    "if OFFLINE:\n",
    "    import plotly.offline as py\n",
    "    py.init_notebook_mode(connected=True)\n",
    "else:\n",
    "    import plotly.plotly as py\n",
    "import plotly.graph_objs as go\n",
    "import plotly.figure_factory as ff\n",
    "from plotly import tools\n",
    "BASE_LAYOUT = go.Layout(hovermode='closest', font=dict(size=14))"
   ]
  },
  {
   "cell_type": "markdown",
   "metadata": {},
   "source": [
    "# 3. Get the data"
   ]
  },
  {
   "cell_type": "markdown",
   "metadata": {},
   "source": [
    "## 3.1. From matlab to dict"
   ]
  },
  {
   "cell_type": "code",
   "execution_count": 2,
   "metadata": {},
   "outputs": [],
   "source": [
    "def load_data(data_path, data_format, normalize=False):\n",
    "    if not data_path.is_dir():\n",
    "        raise ValueError('please provide a valid data path')\n",
    "        \n",
    "    mat = {}\n",
    "    data = {key: [] for key in ('datasets', 'participants', 'muscles', 'tests', 'mvc')}\n",
    "    count = -1\n",
    "    dataset_names = []\n",
    "    \n",
    "    for idataset, ifile in enumerate(data_path.iterdir()):\n",
    "        if ifile.parts[-1].endswith(f'{data_format}.mat'):\n",
    "            dataset = ifile.parts[-1].replace('_only_max.mat', '').replace('MVE_Data_', '')\n",
    "            \n",
    "            if dataset not in dataset_names:\n",
    "                dataset_names.append(dataset)\n",
    "            \n",
    "            mat[dataset] = sio.loadmat(ifile)['MVE']\n",
    "            n_participants = mat[dataset].shape[0]\n",
    "            print(f\"project '{dataset}' ({n_participants} participants)\")\n",
    "            \n",
    "            for iparticipant in range(mat[dataset].shape[0]):\n",
    "                count += 1\n",
    "                for imuscle in range(mat[dataset].shape[1]):\n",
    "                    max_mvc = np.nanmax(mat[dataset][iparticipant, imuscle, :])\n",
    "                    for itest in range(mat[dataset].shape[2]):\n",
    "                        data['participants'].append(count)\n",
    "                        data['datasets'].append(idataset)\n",
    "                        data['muscles'].append(imuscle)\n",
    "                        data['tests'].append(itest)\n",
    "                        if normalize:\n",
    "                            data['mvc'].append(mat[dataset][iparticipant, imuscle, itest] * 100 / max_mvc)\n",
    "                        else:\n",
    "                            data['mvc'].append(mat[dataset][iparticipant, imuscle, itest])\n",
    "                            \n",
    "    print(f'\\n\\ttotal participants: {count}')\n",
    "    return data, dataset_names"
   ]
  },
  {
   "cell_type": "code",
   "execution_count": 3,
   "metadata": {},
   "outputs": [
    {
     "name": "stdout",
     "output_type": "stream",
     "text": [
      "project 'Landry2016' (15 participants)\n",
      "project 'Landry2015_2' (11 participants)\n",
      "project 'Landry2015_1' (14 participants)\n",
      "project 'Violon' (10 participants)\n",
      "project 'Yoann_2015' (22 participants)\n",
      "project 'Landry2013' (21 participants)\n",
      "project 'Landry2012' (18 participants)\n",
      "project 'Tennis' (16 participants)\n",
      "project 'Patrick_2013' (16 participants)\n",
      "project 'Sylvain_2015' (10 participants)\n",
      "\n",
      "\ttotal participants: 152\n"
     ]
    },
    {
     "name": "stderr",
     "output_type": "stream",
     "text": [
      "/home/romain/.local/share/virtualenvs/mvc-kMH3Oq29/lib/python3.6/site-packages/ipykernel_launcher.py:24: RuntimeWarning:\n",
      "\n",
      "All-NaN slice encountered\n",
      "\n"
     ]
    }
   ],
   "source": [
    "DATA_FORMAT = 'only_max'\n",
    "data, DATASET_NAMES = load_data(data_path=DATA_PATH, data_format=DATA_FORMAT, normalize=False)\n",
    "\n",
    "MUSCLES_NAMES = [\n",
    "    'upper trapezius', 'middle trapezius', 'lower trapezius',\n",
    "    'anterior deltoid', 'middle deltoid', 'posterior deltoid',\n",
    "    'pectoralis major', 'serratus anterior', 'latissimus dorsi',\n",
    "    'supraspinatus', 'infraspinatus', 'subscapularis'\n",
    "]"
   ]
  },
  {
   "cell_type": "markdown",
   "metadata": {},
   "source": [
    "## 3.2. From dict to pandas dataframe"
   ]
  },
  {
   "cell_type": "code",
   "execution_count": 4,
   "metadata": {},
   "outputs": [
    {
     "name": "stdout",
     "output_type": "stream",
     "text": [
      "dataset shape = (16456, 5)\n"
     ]
    },
    {
     "data": {
      "text/html": [
       "<div>\n",
       "<style scoped>\n",
       "    .dataframe tbody tr th:only-of-type {\n",
       "        vertical-align: middle;\n",
       "    }\n",
       "\n",
       "    .dataframe tbody tr th {\n",
       "        vertical-align: top;\n",
       "    }\n",
       "\n",
       "    .dataframe thead th {\n",
       "        text-align: right;\n",
       "    }\n",
       "</style>\n",
       "<table border=\"1\" class=\"dataframe\">\n",
       "  <thead>\n",
       "    <tr style=\"text-align: right;\">\n",
       "      <th></th>\n",
       "      <th>dataset</th>\n",
       "      <th>muscle</th>\n",
       "      <th>mvc</th>\n",
       "      <th>participant</th>\n",
       "      <th>test</th>\n",
       "    </tr>\n",
       "  </thead>\n",
       "  <tbody>\n",
       "    <tr>\n",
       "      <th>2</th>\n",
       "      <td>0</td>\n",
       "      <td>0</td>\n",
       "      <td>0.127825</td>\n",
       "      <td>0</td>\n",
       "      <td>2</td>\n",
       "    </tr>\n",
       "    <tr>\n",
       "      <th>3</th>\n",
       "      <td>0</td>\n",
       "      <td>0</td>\n",
       "      <td>0.124255</td>\n",
       "      <td>0</td>\n",
       "      <td>3</td>\n",
       "    </tr>\n",
       "    <tr>\n",
       "      <th>4</th>\n",
       "      <td>0</td>\n",
       "      <td>0</td>\n",
       "      <td>0.146927</td>\n",
       "      <td>0</td>\n",
       "      <td>4</td>\n",
       "    </tr>\n",
       "    <tr>\n",
       "      <th>5</th>\n",
       "      <td>0</td>\n",
       "      <td>0</td>\n",
       "      <td>0.041583</td>\n",
       "      <td>0</td>\n",
       "      <td>5</td>\n",
       "    </tr>\n",
       "    <tr>\n",
       "      <th>8</th>\n",
       "      <td>0</td>\n",
       "      <td>0</td>\n",
       "      <td>0.162206</td>\n",
       "      <td>0</td>\n",
       "      <td>8</td>\n",
       "    </tr>\n",
       "  </tbody>\n",
       "</table>\n",
       "</div>"
      ],
      "text/plain": [
       "   dataset  muscle       mvc  participant  test\n",
       "2        0       0  0.127825            0     2\n",
       "3        0       0  0.124255            0     3\n",
       "4        0       0  0.146927            0     4\n",
       "5        0       0  0.041583            0     5\n",
       "8        0       0  0.162206            0     8"
      ]
     },
     "execution_count": 4,
     "metadata": {},
     "output_type": "execute_result"
    }
   ],
   "source": [
    "df_tidy = pd.DataFrame({\n",
    "    'participant': data['participants'],\n",
    "    'dataset': data['datasets'],\n",
    "    'muscle': data['muscles'],\n",
    "    'test': data['tests'],\n",
    "    'mvc': data['mvc']\n",
    "}).dropna()\n",
    "\n",
    "print(f'dataset shape = {df_tidy.shape}')\n",
    "df_tidy.head()"
   ]
  },
  {
   "cell_type": "code",
   "execution_count": 5,
   "metadata": {},
   "outputs": [
    {
     "name": "stdout",
     "output_type": "stream",
     "text": [
      "dataset shape = (1468, 17)\n"
     ]
    },
    {
     "data": {
      "text/html": [
       "<div>\n",
       "<style scoped>\n",
       "    .dataframe tbody tr th:only-of-type {\n",
       "        vertical-align: middle;\n",
       "    }\n",
       "\n",
       "    .dataframe tbody tr th {\n",
       "        vertical-align: top;\n",
       "    }\n",
       "\n",
       "    .dataframe thead th {\n",
       "        text-align: right;\n",
       "    }\n",
       "</style>\n",
       "<table border=\"1\" class=\"dataframe\">\n",
       "  <thead>\n",
       "    <tr style=\"text-align: right;\">\n",
       "      <th>test</th>\n",
       "      <th>muscle</th>\n",
       "      <th>0</th>\n",
       "      <th>1</th>\n",
       "      <th>2</th>\n",
       "      <th>3</th>\n",
       "      <th>4</th>\n",
       "      <th>5</th>\n",
       "      <th>6</th>\n",
       "      <th>7</th>\n",
       "      <th>8</th>\n",
       "      <th>9</th>\n",
       "      <th>10</th>\n",
       "      <th>11</th>\n",
       "      <th>12</th>\n",
       "      <th>13</th>\n",
       "      <th>14</th>\n",
       "      <th>15</th>\n",
       "    </tr>\n",
       "  </thead>\n",
       "  <tbody>\n",
       "    <tr>\n",
       "      <th>0</th>\n",
       "      <td>0</td>\n",
       "      <td>NaN</td>\n",
       "      <td>NaN</td>\n",
       "      <td>0.127825</td>\n",
       "      <td>0.124255</td>\n",
       "      <td>0.146927</td>\n",
       "      <td>0.041583</td>\n",
       "      <td>NaN</td>\n",
       "      <td>NaN</td>\n",
       "      <td>0.162206</td>\n",
       "      <td>0.017711</td>\n",
       "      <td>0.014369</td>\n",
       "      <td>NaN</td>\n",
       "      <td>NaN</td>\n",
       "      <td>NaN</td>\n",
       "      <td>NaN</td>\n",
       "      <td>0.036916</td>\n",
       "    </tr>\n",
       "    <tr>\n",
       "      <th>1</th>\n",
       "      <td>2</td>\n",
       "      <td>NaN</td>\n",
       "      <td>NaN</td>\n",
       "      <td>0.179864</td>\n",
       "      <td>0.294909</td>\n",
       "      <td>0.295846</td>\n",
       "      <td>0.107769</td>\n",
       "      <td>NaN</td>\n",
       "      <td>NaN</td>\n",
       "      <td>0.199097</td>\n",
       "      <td>0.202150</td>\n",
       "      <td>0.022668</td>\n",
       "      <td>NaN</td>\n",
       "      <td>NaN</td>\n",
       "      <td>NaN</td>\n",
       "      <td>NaN</td>\n",
       "      <td>0.071460</td>\n",
       "    </tr>\n",
       "    <tr>\n",
       "      <th>2</th>\n",
       "      <td>3</td>\n",
       "      <td>NaN</td>\n",
       "      <td>NaN</td>\n",
       "      <td>0.078753</td>\n",
       "      <td>0.244578</td>\n",
       "      <td>0.272709</td>\n",
       "      <td>0.010146</td>\n",
       "      <td>NaN</td>\n",
       "      <td>NaN</td>\n",
       "      <td>0.106490</td>\n",
       "      <td>0.010600</td>\n",
       "      <td>0.007517</td>\n",
       "      <td>NaN</td>\n",
       "      <td>NaN</td>\n",
       "      <td>NaN</td>\n",
       "      <td>NaN</td>\n",
       "      <td>0.238814</td>\n",
       "    </tr>\n",
       "    <tr>\n",
       "      <th>3</th>\n",
       "      <td>4</td>\n",
       "      <td>NaN</td>\n",
       "      <td>NaN</td>\n",
       "      <td>0.150353</td>\n",
       "      <td>0.104654</td>\n",
       "      <td>0.115272</td>\n",
       "      <td>0.057845</td>\n",
       "      <td>NaN</td>\n",
       "      <td>NaN</td>\n",
       "      <td>0.065429</td>\n",
       "      <td>0.052930</td>\n",
       "      <td>0.009894</td>\n",
       "      <td>NaN</td>\n",
       "      <td>NaN</td>\n",
       "      <td>NaN</td>\n",
       "      <td>NaN</td>\n",
       "      <td>0.079885</td>\n",
       "    </tr>\n",
       "    <tr>\n",
       "      <th>4</th>\n",
       "      <td>5</td>\n",
       "      <td>NaN</td>\n",
       "      <td>NaN</td>\n",
       "      <td>0.172669</td>\n",
       "      <td>0.124655</td>\n",
       "      <td>0.133114</td>\n",
       "      <td>0.196436</td>\n",
       "      <td>NaN</td>\n",
       "      <td>NaN</td>\n",
       "      <td>0.101393</td>\n",
       "      <td>0.187997</td>\n",
       "      <td>0.051396</td>\n",
       "      <td>NaN</td>\n",
       "      <td>NaN</td>\n",
       "      <td>NaN</td>\n",
       "      <td>NaN</td>\n",
       "      <td>0.050041</td>\n",
       "    </tr>\n",
       "  </tbody>\n",
       "</table>\n",
       "</div>"
      ],
      "text/plain": [
       "test  muscle   0   1         2         3         4         5   6   7  \\\n",
       "0          0 NaN NaN  0.127825  0.124255  0.146927  0.041583 NaN NaN   \n",
       "1          2 NaN NaN  0.179864  0.294909  0.295846  0.107769 NaN NaN   \n",
       "2          3 NaN NaN  0.078753  0.244578  0.272709  0.010146 NaN NaN   \n",
       "3          4 NaN NaN  0.150353  0.104654  0.115272  0.057845 NaN NaN   \n",
       "4          5 NaN NaN  0.172669  0.124655  0.133114  0.196436 NaN NaN   \n",
       "\n",
       "test         8         9        10  11  12  13  14        15  \n",
       "0     0.162206  0.017711  0.014369 NaN NaN NaN NaN  0.036916  \n",
       "1     0.199097  0.202150  0.022668 NaN NaN NaN NaN  0.071460  \n",
       "2     0.106490  0.010600  0.007517 NaN NaN NaN NaN  0.238814  \n",
       "3     0.065429  0.052930  0.009894 NaN NaN NaN NaN  0.079885  \n",
       "4     0.101393  0.187997  0.051396 NaN NaN NaN NaN  0.050041  "
      ]
     },
     "execution_count": 5,
     "metadata": {},
     "output_type": "execute_result"
    }
   ],
   "source": [
    "df_wide = df_tidy.pivot_table(\n",
    "    index=['dataset', 'participant', 'muscle'],\n",
    "    columns='test',\n",
    "    values='mvc',\n",
    "    fill_value=np.nan).reset_index()\n",
    "\n",
    "df_wide = df_wide.drop(['dataset', 'participant'], axis=1)\n",
    "\n",
    "print(f'dataset shape = {df_wide.shape}')\n",
    "df_wide.head()"
   ]
  },
  {
   "cell_type": "markdown",
   "metadata": {},
   "source": [
    "# 4. Data analysis"
   ]
  },
  {
   "cell_type": "markdown",
   "metadata": {},
   "source": [
    "## 4.1. Muscles by dataset"
   ]
  },
  {
   "cell_type": "code",
   "execution_count": 6,
   "metadata": {},
   "outputs": [],
   "source": [
    "def plot_count_by_dataset(d, values, index, columns, **kwargs):\n",
    "    table = d.pivot_table(\n",
    "        values,\n",
    "        index,\n",
    "        columns,\n",
    "        aggfunc=lambda x: len(x) / x.nunique(),\n",
    "        fill_value=0).astype(int)\n",
    "\n",
    "    fig = ff.create_annotated_heatmap(\n",
    "        z=np.array(table),\n",
    "        x=kwargs.get('xlabel'),\n",
    "        y=kwargs.get('ylabel'),\n",
    "        showscale=True,\n",
    "        colorscale='YlGnBu',\n",
    "        colorbar=dict(title='Count', titleside='right'))\n",
    "\n",
    "    fig['layout'].update(BASE_LAYOUT)\n",
    "    fig['layout'].update(\n",
    "        dict(\n",
    "            title=kwargs.get('title'),\n",
    "            xaxis=dict(title=kwargs.get('xtitle'), side='bottom'),\n",
    "            yaxis=dict(title=kwargs.get('ytitle'), autorange='reversed'),\n",
    "            margin=go.Margin(t=80, b=80, l=150, r=80, pad=0)))\n",
    "    return fig"
   ]
  },
  {
   "cell_type": "code",
   "execution_count": 7,
   "metadata": {},
   "outputs": [
    {
     "data": {
      "application/vnd.plotly.v1+json": {
       "data": [
        {
         "colorbar": {
          "title": "Count",
          "titleside": "right"
         },
         "colorscale": "YlGnBu",
         "showscale": true,
         "type": "heatmap",
         "x": [
          "upper trapezius",
          "middle trapezius",
          "lower trapezius",
          "anterior deltoid",
          "middle deltoid",
          "posterior deltoid",
          "pectoralis major",
          "serratus anterior",
          "latissimus dorsi",
          "supraspinatus",
          "infraspinatus",
          "subscapularis"
         ],
         "y": [
          "Landry2016",
          "Landry2015_2",
          "Landry2015_1",
          "Violon",
          "Yoann_2015",
          "Landry2013",
          "Landry2012",
          "Tennis",
          "Patrick_2013",
          "Sylvain_2015"
         ],
         "z": [
          [
           14,
           0,
           14,
           14,
           14,
           14,
           11,
           14,
           11,
           13,
           13,
           12
          ],
          [
           11,
           0,
           11,
           11,
           11,
           11,
           0,
           11,
           0,
           0,
           0,
           0
          ],
          [
           14,
           0,
           14,
           14,
           14,
           14,
           0,
           14,
           0,
           14,
           14,
           14
          ],
          [
           0,
           0,
           9,
           9,
           9,
           9,
           0,
           0,
           0,
           8,
           8,
           8
          ],
          [
           22,
           22,
           22,
           0,
           22,
           22,
           22,
           22,
           22,
           22,
           22,
           22
          ],
          [
           21,
           21,
           21,
           21,
           21,
           21,
           21,
           21,
           21,
           0,
           0,
           0
          ],
          [
           18,
           18,
           18,
           18,
           18,
           18,
           18,
           0,
           18,
           0,
           0,
           0
          ],
          [
           15,
           0,
           15,
           15,
           15,
           15,
           15,
           15,
           15,
           15,
           15,
           15
          ],
          [
           16,
           16,
           16,
           16,
           16,
           16,
           16,
           16,
           16,
           16,
           16,
           16
          ],
          [
           10,
           10,
           10,
           0,
           10,
           10,
           10,
           10,
           10,
           10,
           10,
           10
          ]
         ]
        }
       ],
       "layout": {
        "annotations": [
         {
          "font": {
           "color": "#000000"
          },
          "showarrow": false,
          "text": "14",
          "x": "upper trapezius",
          "xref": "x1",
          "y": "Landry2016",
          "yref": "y1"
         },
         {
          "font": {
           "color": "#000000"
          },
          "showarrow": false,
          "text": "0",
          "x": "middle trapezius",
          "xref": "x1",
          "y": "Landry2016",
          "yref": "y1"
         },
         {
          "font": {
           "color": "#000000"
          },
          "showarrow": false,
          "text": "14",
          "x": "lower trapezius",
          "xref": "x1",
          "y": "Landry2016",
          "yref": "y1"
         },
         {
          "font": {
           "color": "#000000"
          },
          "showarrow": false,
          "text": "14",
          "x": "anterior deltoid",
          "xref": "x1",
          "y": "Landry2016",
          "yref": "y1"
         },
         {
          "font": {
           "color": "#000000"
          },
          "showarrow": false,
          "text": "14",
          "x": "middle deltoid",
          "xref": "x1",
          "y": "Landry2016",
          "yref": "y1"
         },
         {
          "font": {
           "color": "#000000"
          },
          "showarrow": false,
          "text": "14",
          "x": "posterior deltoid",
          "xref": "x1",
          "y": "Landry2016",
          "yref": "y1"
         },
         {
          "font": {
           "color": "#000000"
          },
          "showarrow": false,
          "text": "11",
          "x": "pectoralis major",
          "xref": "x1",
          "y": "Landry2016",
          "yref": "y1"
         },
         {
          "font": {
           "color": "#000000"
          },
          "showarrow": false,
          "text": "14",
          "x": "serratus anterior",
          "xref": "x1",
          "y": "Landry2016",
          "yref": "y1"
         },
         {
          "font": {
           "color": "#000000"
          },
          "showarrow": false,
          "text": "11",
          "x": "latissimus dorsi",
          "xref": "x1",
          "y": "Landry2016",
          "yref": "y1"
         },
         {
          "font": {
           "color": "#000000"
          },
          "showarrow": false,
          "text": "13",
          "x": "supraspinatus",
          "xref": "x1",
          "y": "Landry2016",
          "yref": "y1"
         },
         {
          "font": {
           "color": "#000000"
          },
          "showarrow": false,
          "text": "13",
          "x": "infraspinatus",
          "xref": "x1",
          "y": "Landry2016",
          "yref": "y1"
         },
         {
          "font": {
           "color": "#000000"
          },
          "showarrow": false,
          "text": "12",
          "x": "subscapularis",
          "xref": "x1",
          "y": "Landry2016",
          "yref": "y1"
         },
         {
          "font": {
           "color": "#000000"
          },
          "showarrow": false,
          "text": "11",
          "x": "upper trapezius",
          "xref": "x1",
          "y": "Landry2015_2",
          "yref": "y1"
         },
         {
          "font": {
           "color": "#000000"
          },
          "showarrow": false,
          "text": "0",
          "x": "middle trapezius",
          "xref": "x1",
          "y": "Landry2015_2",
          "yref": "y1"
         },
         {
          "font": {
           "color": "#000000"
          },
          "showarrow": false,
          "text": "11",
          "x": "lower trapezius",
          "xref": "x1",
          "y": "Landry2015_2",
          "yref": "y1"
         },
         {
          "font": {
           "color": "#000000"
          },
          "showarrow": false,
          "text": "11",
          "x": "anterior deltoid",
          "xref": "x1",
          "y": "Landry2015_2",
          "yref": "y1"
         },
         {
          "font": {
           "color": "#000000"
          },
          "showarrow": false,
          "text": "11",
          "x": "middle deltoid",
          "xref": "x1",
          "y": "Landry2015_2",
          "yref": "y1"
         },
         {
          "font": {
           "color": "#000000"
          },
          "showarrow": false,
          "text": "11",
          "x": "posterior deltoid",
          "xref": "x1",
          "y": "Landry2015_2",
          "yref": "y1"
         },
         {
          "font": {
           "color": "#000000"
          },
          "showarrow": false,
          "text": "0",
          "x": "pectoralis major",
          "xref": "x1",
          "y": "Landry2015_2",
          "yref": "y1"
         },
         {
          "font": {
           "color": "#000000"
          },
          "showarrow": false,
          "text": "11",
          "x": "serratus anterior",
          "xref": "x1",
          "y": "Landry2015_2",
          "yref": "y1"
         },
         {
          "font": {
           "color": "#000000"
          },
          "showarrow": false,
          "text": "0",
          "x": "latissimus dorsi",
          "xref": "x1",
          "y": "Landry2015_2",
          "yref": "y1"
         },
         {
          "font": {
           "color": "#000000"
          },
          "showarrow": false,
          "text": "0",
          "x": "supraspinatus",
          "xref": "x1",
          "y": "Landry2015_2",
          "yref": "y1"
         },
         {
          "font": {
           "color": "#000000"
          },
          "showarrow": false,
          "text": "0",
          "x": "infraspinatus",
          "xref": "x1",
          "y": "Landry2015_2",
          "yref": "y1"
         },
         {
          "font": {
           "color": "#000000"
          },
          "showarrow": false,
          "text": "0",
          "x": "subscapularis",
          "xref": "x1",
          "y": "Landry2015_2",
          "yref": "y1"
         },
         {
          "font": {
           "color": "#000000"
          },
          "showarrow": false,
          "text": "14",
          "x": "upper trapezius",
          "xref": "x1",
          "y": "Landry2015_1",
          "yref": "y1"
         },
         {
          "font": {
           "color": "#000000"
          },
          "showarrow": false,
          "text": "0",
          "x": "middle trapezius",
          "xref": "x1",
          "y": "Landry2015_1",
          "yref": "y1"
         },
         {
          "font": {
           "color": "#000000"
          },
          "showarrow": false,
          "text": "14",
          "x": "lower trapezius",
          "xref": "x1",
          "y": "Landry2015_1",
          "yref": "y1"
         },
         {
          "font": {
           "color": "#000000"
          },
          "showarrow": false,
          "text": "14",
          "x": "anterior deltoid",
          "xref": "x1",
          "y": "Landry2015_1",
          "yref": "y1"
         },
         {
          "font": {
           "color": "#000000"
          },
          "showarrow": false,
          "text": "14",
          "x": "middle deltoid",
          "xref": "x1",
          "y": "Landry2015_1",
          "yref": "y1"
         },
         {
          "font": {
           "color": "#000000"
          },
          "showarrow": false,
          "text": "14",
          "x": "posterior deltoid",
          "xref": "x1",
          "y": "Landry2015_1",
          "yref": "y1"
         },
         {
          "font": {
           "color": "#000000"
          },
          "showarrow": false,
          "text": "0",
          "x": "pectoralis major",
          "xref": "x1",
          "y": "Landry2015_1",
          "yref": "y1"
         },
         {
          "font": {
           "color": "#000000"
          },
          "showarrow": false,
          "text": "14",
          "x": "serratus anterior",
          "xref": "x1",
          "y": "Landry2015_1",
          "yref": "y1"
         },
         {
          "font": {
           "color": "#000000"
          },
          "showarrow": false,
          "text": "0",
          "x": "latissimus dorsi",
          "xref": "x1",
          "y": "Landry2015_1",
          "yref": "y1"
         },
         {
          "font": {
           "color": "#000000"
          },
          "showarrow": false,
          "text": "14",
          "x": "supraspinatus",
          "xref": "x1",
          "y": "Landry2015_1",
          "yref": "y1"
         },
         {
          "font": {
           "color": "#000000"
          },
          "showarrow": false,
          "text": "14",
          "x": "infraspinatus",
          "xref": "x1",
          "y": "Landry2015_1",
          "yref": "y1"
         },
         {
          "font": {
           "color": "#000000"
          },
          "showarrow": false,
          "text": "14",
          "x": "subscapularis",
          "xref": "x1",
          "y": "Landry2015_1",
          "yref": "y1"
         },
         {
          "font": {
           "color": "#000000"
          },
          "showarrow": false,
          "text": "0",
          "x": "upper trapezius",
          "xref": "x1",
          "y": "Violon",
          "yref": "y1"
         },
         {
          "font": {
           "color": "#000000"
          },
          "showarrow": false,
          "text": "0",
          "x": "middle trapezius",
          "xref": "x1",
          "y": "Violon",
          "yref": "y1"
         },
         {
          "font": {
           "color": "#000000"
          },
          "showarrow": false,
          "text": "9",
          "x": "lower trapezius",
          "xref": "x1",
          "y": "Violon",
          "yref": "y1"
         },
         {
          "font": {
           "color": "#000000"
          },
          "showarrow": false,
          "text": "9",
          "x": "anterior deltoid",
          "xref": "x1",
          "y": "Violon",
          "yref": "y1"
         },
         {
          "font": {
           "color": "#000000"
          },
          "showarrow": false,
          "text": "9",
          "x": "middle deltoid",
          "xref": "x1",
          "y": "Violon",
          "yref": "y1"
         },
         {
          "font": {
           "color": "#000000"
          },
          "showarrow": false,
          "text": "9",
          "x": "posterior deltoid",
          "xref": "x1",
          "y": "Violon",
          "yref": "y1"
         },
         {
          "font": {
           "color": "#000000"
          },
          "showarrow": false,
          "text": "0",
          "x": "pectoralis major",
          "xref": "x1",
          "y": "Violon",
          "yref": "y1"
         },
         {
          "font": {
           "color": "#000000"
          },
          "showarrow": false,
          "text": "0",
          "x": "serratus anterior",
          "xref": "x1",
          "y": "Violon",
          "yref": "y1"
         },
         {
          "font": {
           "color": "#000000"
          },
          "showarrow": false,
          "text": "0",
          "x": "latissimus dorsi",
          "xref": "x1",
          "y": "Violon",
          "yref": "y1"
         },
         {
          "font": {
           "color": "#000000"
          },
          "showarrow": false,
          "text": "8",
          "x": "supraspinatus",
          "xref": "x1",
          "y": "Violon",
          "yref": "y1"
         },
         {
          "font": {
           "color": "#000000"
          },
          "showarrow": false,
          "text": "8",
          "x": "infraspinatus",
          "xref": "x1",
          "y": "Violon",
          "yref": "y1"
         },
         {
          "font": {
           "color": "#000000"
          },
          "showarrow": false,
          "text": "8",
          "x": "subscapularis",
          "xref": "x1",
          "y": "Violon",
          "yref": "y1"
         },
         {
          "font": {
           "color": "#000000"
          },
          "showarrow": false,
          "text": "22",
          "x": "upper trapezius",
          "xref": "x1",
          "y": "Yoann_2015",
          "yref": "y1"
         },
         {
          "font": {
           "color": "#000000"
          },
          "showarrow": false,
          "text": "22",
          "x": "middle trapezius",
          "xref": "x1",
          "y": "Yoann_2015",
          "yref": "y1"
         },
         {
          "font": {
           "color": "#000000"
          },
          "showarrow": false,
          "text": "22",
          "x": "lower trapezius",
          "xref": "x1",
          "y": "Yoann_2015",
          "yref": "y1"
         },
         {
          "font": {
           "color": "#000000"
          },
          "showarrow": false,
          "text": "0",
          "x": "anterior deltoid",
          "xref": "x1",
          "y": "Yoann_2015",
          "yref": "y1"
         },
         {
          "font": {
           "color": "#000000"
          },
          "showarrow": false,
          "text": "22",
          "x": "middle deltoid",
          "xref": "x1",
          "y": "Yoann_2015",
          "yref": "y1"
         },
         {
          "font": {
           "color": "#000000"
          },
          "showarrow": false,
          "text": "22",
          "x": "posterior deltoid",
          "xref": "x1",
          "y": "Yoann_2015",
          "yref": "y1"
         },
         {
          "font": {
           "color": "#000000"
          },
          "showarrow": false,
          "text": "22",
          "x": "pectoralis major",
          "xref": "x1",
          "y": "Yoann_2015",
          "yref": "y1"
         },
         {
          "font": {
           "color": "#000000"
          },
          "showarrow": false,
          "text": "22",
          "x": "serratus anterior",
          "xref": "x1",
          "y": "Yoann_2015",
          "yref": "y1"
         },
         {
          "font": {
           "color": "#000000"
          },
          "showarrow": false,
          "text": "22",
          "x": "latissimus dorsi",
          "xref": "x1",
          "y": "Yoann_2015",
          "yref": "y1"
         },
         {
          "font": {
           "color": "#000000"
          },
          "showarrow": false,
          "text": "22",
          "x": "supraspinatus",
          "xref": "x1",
          "y": "Yoann_2015",
          "yref": "y1"
         },
         {
          "font": {
           "color": "#000000"
          },
          "showarrow": false,
          "text": "22",
          "x": "infraspinatus",
          "xref": "x1",
          "y": "Yoann_2015",
          "yref": "y1"
         },
         {
          "font": {
           "color": "#000000"
          },
          "showarrow": false,
          "text": "22",
          "x": "subscapularis",
          "xref": "x1",
          "y": "Yoann_2015",
          "yref": "y1"
         },
         {
          "font": {
           "color": "#000000"
          },
          "showarrow": false,
          "text": "21",
          "x": "upper trapezius",
          "xref": "x1",
          "y": "Landry2013",
          "yref": "y1"
         },
         {
          "font": {
           "color": "#000000"
          },
          "showarrow": false,
          "text": "21",
          "x": "middle trapezius",
          "xref": "x1",
          "y": "Landry2013",
          "yref": "y1"
         },
         {
          "font": {
           "color": "#000000"
          },
          "showarrow": false,
          "text": "21",
          "x": "lower trapezius",
          "xref": "x1",
          "y": "Landry2013",
          "yref": "y1"
         },
         {
          "font": {
           "color": "#000000"
          },
          "showarrow": false,
          "text": "21",
          "x": "anterior deltoid",
          "xref": "x1",
          "y": "Landry2013",
          "yref": "y1"
         },
         {
          "font": {
           "color": "#000000"
          },
          "showarrow": false,
          "text": "21",
          "x": "middle deltoid",
          "xref": "x1",
          "y": "Landry2013",
          "yref": "y1"
         },
         {
          "font": {
           "color": "#000000"
          },
          "showarrow": false,
          "text": "21",
          "x": "posterior deltoid",
          "xref": "x1",
          "y": "Landry2013",
          "yref": "y1"
         },
         {
          "font": {
           "color": "#000000"
          },
          "showarrow": false,
          "text": "21",
          "x": "pectoralis major",
          "xref": "x1",
          "y": "Landry2013",
          "yref": "y1"
         },
         {
          "font": {
           "color": "#000000"
          },
          "showarrow": false,
          "text": "21",
          "x": "serratus anterior",
          "xref": "x1",
          "y": "Landry2013",
          "yref": "y1"
         },
         {
          "font": {
           "color": "#000000"
          },
          "showarrow": false,
          "text": "21",
          "x": "latissimus dorsi",
          "xref": "x1",
          "y": "Landry2013",
          "yref": "y1"
         },
         {
          "font": {
           "color": "#000000"
          },
          "showarrow": false,
          "text": "0",
          "x": "supraspinatus",
          "xref": "x1",
          "y": "Landry2013",
          "yref": "y1"
         },
         {
          "font": {
           "color": "#000000"
          },
          "showarrow": false,
          "text": "0",
          "x": "infraspinatus",
          "xref": "x1",
          "y": "Landry2013",
          "yref": "y1"
         },
         {
          "font": {
           "color": "#000000"
          },
          "showarrow": false,
          "text": "0",
          "x": "subscapularis",
          "xref": "x1",
          "y": "Landry2013",
          "yref": "y1"
         },
         {
          "font": {
           "color": "#000000"
          },
          "showarrow": false,
          "text": "18",
          "x": "upper trapezius",
          "xref": "x1",
          "y": "Landry2012",
          "yref": "y1"
         },
         {
          "font": {
           "color": "#000000"
          },
          "showarrow": false,
          "text": "18",
          "x": "middle trapezius",
          "xref": "x1",
          "y": "Landry2012",
          "yref": "y1"
         },
         {
          "font": {
           "color": "#000000"
          },
          "showarrow": false,
          "text": "18",
          "x": "lower trapezius",
          "xref": "x1",
          "y": "Landry2012",
          "yref": "y1"
         },
         {
          "font": {
           "color": "#000000"
          },
          "showarrow": false,
          "text": "18",
          "x": "anterior deltoid",
          "xref": "x1",
          "y": "Landry2012",
          "yref": "y1"
         },
         {
          "font": {
           "color": "#000000"
          },
          "showarrow": false,
          "text": "18",
          "x": "middle deltoid",
          "xref": "x1",
          "y": "Landry2012",
          "yref": "y1"
         },
         {
          "font": {
           "color": "#000000"
          },
          "showarrow": false,
          "text": "18",
          "x": "posterior deltoid",
          "xref": "x1",
          "y": "Landry2012",
          "yref": "y1"
         },
         {
          "font": {
           "color": "#000000"
          },
          "showarrow": false,
          "text": "18",
          "x": "pectoralis major",
          "xref": "x1",
          "y": "Landry2012",
          "yref": "y1"
         },
         {
          "font": {
           "color": "#000000"
          },
          "showarrow": false,
          "text": "0",
          "x": "serratus anterior",
          "xref": "x1",
          "y": "Landry2012",
          "yref": "y1"
         },
         {
          "font": {
           "color": "#000000"
          },
          "showarrow": false,
          "text": "18",
          "x": "latissimus dorsi",
          "xref": "x1",
          "y": "Landry2012",
          "yref": "y1"
         },
         {
          "font": {
           "color": "#000000"
          },
          "showarrow": false,
          "text": "0",
          "x": "supraspinatus",
          "xref": "x1",
          "y": "Landry2012",
          "yref": "y1"
         },
         {
          "font": {
           "color": "#000000"
          },
          "showarrow": false,
          "text": "0",
          "x": "infraspinatus",
          "xref": "x1",
          "y": "Landry2012",
          "yref": "y1"
         },
         {
          "font": {
           "color": "#000000"
          },
          "showarrow": false,
          "text": "0",
          "x": "subscapularis",
          "xref": "x1",
          "y": "Landry2012",
          "yref": "y1"
         },
         {
          "font": {
           "color": "#000000"
          },
          "showarrow": false,
          "text": "15",
          "x": "upper trapezius",
          "xref": "x1",
          "y": "Tennis",
          "yref": "y1"
         },
         {
          "font": {
           "color": "#000000"
          },
          "showarrow": false,
          "text": "0",
          "x": "middle trapezius",
          "xref": "x1",
          "y": "Tennis",
          "yref": "y1"
         },
         {
          "font": {
           "color": "#000000"
          },
          "showarrow": false,
          "text": "15",
          "x": "lower trapezius",
          "xref": "x1",
          "y": "Tennis",
          "yref": "y1"
         },
         {
          "font": {
           "color": "#000000"
          },
          "showarrow": false,
          "text": "15",
          "x": "anterior deltoid",
          "xref": "x1",
          "y": "Tennis",
          "yref": "y1"
         },
         {
          "font": {
           "color": "#000000"
          },
          "showarrow": false,
          "text": "15",
          "x": "middle deltoid",
          "xref": "x1",
          "y": "Tennis",
          "yref": "y1"
         },
         {
          "font": {
           "color": "#000000"
          },
          "showarrow": false,
          "text": "15",
          "x": "posterior deltoid",
          "xref": "x1",
          "y": "Tennis",
          "yref": "y1"
         },
         {
          "font": {
           "color": "#000000"
          },
          "showarrow": false,
          "text": "15",
          "x": "pectoralis major",
          "xref": "x1",
          "y": "Tennis",
          "yref": "y1"
         },
         {
          "font": {
           "color": "#000000"
          },
          "showarrow": false,
          "text": "15",
          "x": "serratus anterior",
          "xref": "x1",
          "y": "Tennis",
          "yref": "y1"
         },
         {
          "font": {
           "color": "#000000"
          },
          "showarrow": false,
          "text": "15",
          "x": "latissimus dorsi",
          "xref": "x1",
          "y": "Tennis",
          "yref": "y1"
         },
         {
          "font": {
           "color": "#000000"
          },
          "showarrow": false,
          "text": "15",
          "x": "supraspinatus",
          "xref": "x1",
          "y": "Tennis",
          "yref": "y1"
         },
         {
          "font": {
           "color": "#000000"
          },
          "showarrow": false,
          "text": "15",
          "x": "infraspinatus",
          "xref": "x1",
          "y": "Tennis",
          "yref": "y1"
         },
         {
          "font": {
           "color": "#000000"
          },
          "showarrow": false,
          "text": "15",
          "x": "subscapularis",
          "xref": "x1",
          "y": "Tennis",
          "yref": "y1"
         },
         {
          "font": {
           "color": "#000000"
          },
          "showarrow": false,
          "text": "16",
          "x": "upper trapezius",
          "xref": "x1",
          "y": "Patrick_2013",
          "yref": "y1"
         },
         {
          "font": {
           "color": "#000000"
          },
          "showarrow": false,
          "text": "16",
          "x": "middle trapezius",
          "xref": "x1",
          "y": "Patrick_2013",
          "yref": "y1"
         },
         {
          "font": {
           "color": "#000000"
          },
          "showarrow": false,
          "text": "16",
          "x": "lower trapezius",
          "xref": "x1",
          "y": "Patrick_2013",
          "yref": "y1"
         },
         {
          "font": {
           "color": "#000000"
          },
          "showarrow": false,
          "text": "16",
          "x": "anterior deltoid",
          "xref": "x1",
          "y": "Patrick_2013",
          "yref": "y1"
         },
         {
          "font": {
           "color": "#000000"
          },
          "showarrow": false,
          "text": "16",
          "x": "middle deltoid",
          "xref": "x1",
          "y": "Patrick_2013",
          "yref": "y1"
         },
         {
          "font": {
           "color": "#000000"
          },
          "showarrow": false,
          "text": "16",
          "x": "posterior deltoid",
          "xref": "x1",
          "y": "Patrick_2013",
          "yref": "y1"
         },
         {
          "font": {
           "color": "#000000"
          },
          "showarrow": false,
          "text": "16",
          "x": "pectoralis major",
          "xref": "x1",
          "y": "Patrick_2013",
          "yref": "y1"
         },
         {
          "font": {
           "color": "#000000"
          },
          "showarrow": false,
          "text": "16",
          "x": "serratus anterior",
          "xref": "x1",
          "y": "Patrick_2013",
          "yref": "y1"
         },
         {
          "font": {
           "color": "#000000"
          },
          "showarrow": false,
          "text": "16",
          "x": "latissimus dorsi",
          "xref": "x1",
          "y": "Patrick_2013",
          "yref": "y1"
         },
         {
          "font": {
           "color": "#000000"
          },
          "showarrow": false,
          "text": "16",
          "x": "supraspinatus",
          "xref": "x1",
          "y": "Patrick_2013",
          "yref": "y1"
         },
         {
          "font": {
           "color": "#000000"
          },
          "showarrow": false,
          "text": "16",
          "x": "infraspinatus",
          "xref": "x1",
          "y": "Patrick_2013",
          "yref": "y1"
         },
         {
          "font": {
           "color": "#000000"
          },
          "showarrow": false,
          "text": "16",
          "x": "subscapularis",
          "xref": "x1",
          "y": "Patrick_2013",
          "yref": "y1"
         },
         {
          "font": {
           "color": "#000000"
          },
          "showarrow": false,
          "text": "10",
          "x": "upper trapezius",
          "xref": "x1",
          "y": "Sylvain_2015",
          "yref": "y1"
         },
         {
          "font": {
           "color": "#000000"
          },
          "showarrow": false,
          "text": "10",
          "x": "middle trapezius",
          "xref": "x1",
          "y": "Sylvain_2015",
          "yref": "y1"
         },
         {
          "font": {
           "color": "#000000"
          },
          "showarrow": false,
          "text": "10",
          "x": "lower trapezius",
          "xref": "x1",
          "y": "Sylvain_2015",
          "yref": "y1"
         },
         {
          "font": {
           "color": "#000000"
          },
          "showarrow": false,
          "text": "0",
          "x": "anterior deltoid",
          "xref": "x1",
          "y": "Sylvain_2015",
          "yref": "y1"
         },
         {
          "font": {
           "color": "#000000"
          },
          "showarrow": false,
          "text": "10",
          "x": "middle deltoid",
          "xref": "x1",
          "y": "Sylvain_2015",
          "yref": "y1"
         },
         {
          "font": {
           "color": "#000000"
          },
          "showarrow": false,
          "text": "10",
          "x": "posterior deltoid",
          "xref": "x1",
          "y": "Sylvain_2015",
          "yref": "y1"
         },
         {
          "font": {
           "color": "#000000"
          },
          "showarrow": false,
          "text": "10",
          "x": "pectoralis major",
          "xref": "x1",
          "y": "Sylvain_2015",
          "yref": "y1"
         },
         {
          "font": {
           "color": "#000000"
          },
          "showarrow": false,
          "text": "10",
          "x": "serratus anterior",
          "xref": "x1",
          "y": "Sylvain_2015",
          "yref": "y1"
         },
         {
          "font": {
           "color": "#000000"
          },
          "showarrow": false,
          "text": "10",
          "x": "latissimus dorsi",
          "xref": "x1",
          "y": "Sylvain_2015",
          "yref": "y1"
         },
         {
          "font": {
           "color": "#000000"
          },
          "showarrow": false,
          "text": "10",
          "x": "supraspinatus",
          "xref": "x1",
          "y": "Sylvain_2015",
          "yref": "y1"
         },
         {
          "font": {
           "color": "#000000"
          },
          "showarrow": false,
          "text": "10",
          "x": "infraspinatus",
          "xref": "x1",
          "y": "Sylvain_2015",
          "yref": "y1"
         },
         {
          "font": {
           "color": "#000000"
          },
          "showarrow": false,
          "text": "10",
          "x": "subscapularis",
          "xref": "x1",
          "y": "Sylvain_2015",
          "yref": "y1"
         }
        ],
        "font": {
         "size": 14
        },
        "hovermode": "closest",
        "margin": {
         "b": 80,
         "l": 150,
         "pad": 0,
         "r": 80,
         "t": 80
        },
        "title": "Muscles by dataset",
        "xaxis": {
         "dtick": 1,
         "gridcolor": "rgb(0, 0, 0)",
         "side": "bottom",
         "ticks": "",
         "title": null
        },
        "yaxis": {
         "autorange": "reversed",
         "dtick": 1,
         "ticks": "",
         "ticksuffix": "  ",
         "title": null
        }
       }
      },
      "text/html": [
       "<div id=\"7fb5209c-563f-41ac-80b1-b5dd5932230c\" style=\"height: 525px; width: 100%;\" class=\"plotly-graph-div\"></div><script type=\"text/javascript\">require([\"plotly\"], function(Plotly) { window.PLOTLYENV=window.PLOTLYENV || {};window.PLOTLYENV.BASE_URL=\"https://plot.ly\";Plotly.newPlot(\"7fb5209c-563f-41ac-80b1-b5dd5932230c\", [{\"type\": \"heatmap\", \"z\": [[14, 0, 14, 14, 14, 14, 11, 14, 11, 13, 13, 12], [11, 0, 11, 11, 11, 11, 0, 11, 0, 0, 0, 0], [14, 0, 14, 14, 14, 14, 0, 14, 0, 14, 14, 14], [0, 0, 9, 9, 9, 9, 0, 0, 0, 8, 8, 8], [22, 22, 22, 0, 22, 22, 22, 22, 22, 22, 22, 22], [21, 21, 21, 21, 21, 21, 21, 21, 21, 0, 0, 0], [18, 18, 18, 18, 18, 18, 18, 0, 18, 0, 0, 0], [15, 0, 15, 15, 15, 15, 15, 15, 15, 15, 15, 15], [16, 16, 16, 16, 16, 16, 16, 16, 16, 16, 16, 16], [10, 10, 10, 0, 10, 10, 10, 10, 10, 10, 10, 10]], \"x\": [\"upper trapezius\", \"middle trapezius\", \"lower trapezius\", \"anterior deltoid\", \"middle deltoid\", \"posterior deltoid\", \"pectoralis major\", \"serratus anterior\", \"latissimus dorsi\", \"supraspinatus\", \"infraspinatus\", \"subscapularis\"], \"y\": [\"Landry2016\", \"Landry2015_2\", \"Landry2015_1\", \"Violon\", \"Yoann_2015\", \"Landry2013\", \"Landry2012\", \"Tennis\", \"Patrick_2013\", \"Sylvain_2015\"], \"colorscale\": \"YlGnBu\", \"showscale\": true, \"colorbar\": {\"title\": \"Count\", \"titleside\": \"right\"}}], {\"annotations\": [{\"text\": \"14\", \"x\": \"upper trapezius\", \"y\": \"Landry2016\", \"xref\": \"x1\", \"yref\": \"y1\", \"font\": {\"color\": \"#000000\"}, \"showarrow\": false}, {\"text\": \"0\", \"x\": \"middle trapezius\", \"y\": \"Landry2016\", \"xref\": \"x1\", \"yref\": \"y1\", \"font\": {\"color\": \"#000000\"}, \"showarrow\": false}, {\"text\": \"14\", \"x\": \"lower trapezius\", \"y\": \"Landry2016\", \"xref\": \"x1\", \"yref\": \"y1\", \"font\": {\"color\": \"#000000\"}, \"showarrow\": false}, {\"text\": \"14\", \"x\": \"anterior deltoid\", \"y\": \"Landry2016\", \"xref\": \"x1\", \"yref\": \"y1\", \"font\": {\"color\": \"#000000\"}, \"showarrow\": false}, {\"text\": \"14\", \"x\": \"middle deltoid\", \"y\": \"Landry2016\", \"xref\": \"x1\", \"yref\": \"y1\", \"font\": {\"color\": \"#000000\"}, \"showarrow\": false}, {\"text\": \"14\", \"x\": \"posterior deltoid\", \"y\": \"Landry2016\", \"xref\": \"x1\", \"yref\": \"y1\", \"font\": {\"color\": \"#000000\"}, \"showarrow\": false}, {\"text\": \"11\", \"x\": \"pectoralis major\", \"y\": \"Landry2016\", \"xref\": \"x1\", \"yref\": \"y1\", \"font\": {\"color\": \"#000000\"}, \"showarrow\": false}, {\"text\": \"14\", \"x\": \"serratus anterior\", \"y\": \"Landry2016\", \"xref\": \"x1\", \"yref\": \"y1\", \"font\": {\"color\": \"#000000\"}, \"showarrow\": false}, {\"text\": \"11\", \"x\": \"latissimus dorsi\", \"y\": \"Landry2016\", \"xref\": \"x1\", \"yref\": \"y1\", \"font\": {\"color\": \"#000000\"}, \"showarrow\": false}, {\"text\": \"13\", \"x\": \"supraspinatus\", \"y\": \"Landry2016\", \"xref\": \"x1\", \"yref\": \"y1\", \"font\": {\"color\": \"#000000\"}, \"showarrow\": false}, {\"text\": \"13\", \"x\": \"infraspinatus\", \"y\": \"Landry2016\", \"xref\": \"x1\", \"yref\": \"y1\", \"font\": {\"color\": \"#000000\"}, \"showarrow\": false}, {\"text\": \"12\", \"x\": \"subscapularis\", \"y\": \"Landry2016\", \"xref\": \"x1\", \"yref\": \"y1\", \"font\": {\"color\": \"#000000\"}, \"showarrow\": false}, {\"text\": \"11\", \"x\": \"upper trapezius\", \"y\": \"Landry2015_2\", \"xref\": \"x1\", \"yref\": \"y1\", \"font\": {\"color\": \"#000000\"}, \"showarrow\": false}, {\"text\": \"0\", \"x\": \"middle trapezius\", \"y\": \"Landry2015_2\", \"xref\": \"x1\", \"yref\": \"y1\", \"font\": {\"color\": \"#000000\"}, \"showarrow\": false}, {\"text\": \"11\", \"x\": \"lower trapezius\", \"y\": \"Landry2015_2\", \"xref\": \"x1\", \"yref\": \"y1\", \"font\": {\"color\": \"#000000\"}, \"showarrow\": false}, {\"text\": \"11\", \"x\": \"anterior deltoid\", \"y\": \"Landry2015_2\", \"xref\": \"x1\", \"yref\": \"y1\", \"font\": {\"color\": \"#000000\"}, \"showarrow\": false}, {\"text\": \"11\", \"x\": \"middle deltoid\", \"y\": \"Landry2015_2\", \"xref\": \"x1\", \"yref\": \"y1\", \"font\": {\"color\": \"#000000\"}, \"showarrow\": false}, {\"text\": \"11\", \"x\": \"posterior deltoid\", \"y\": \"Landry2015_2\", \"xref\": \"x1\", \"yref\": \"y1\", \"font\": {\"color\": \"#000000\"}, \"showarrow\": false}, {\"text\": \"0\", \"x\": \"pectoralis major\", \"y\": \"Landry2015_2\", \"xref\": \"x1\", \"yref\": \"y1\", \"font\": {\"color\": \"#000000\"}, \"showarrow\": false}, {\"text\": \"11\", \"x\": \"serratus anterior\", \"y\": \"Landry2015_2\", \"xref\": \"x1\", \"yref\": \"y1\", \"font\": {\"color\": \"#000000\"}, \"showarrow\": false}, {\"text\": \"0\", \"x\": \"latissimus dorsi\", \"y\": \"Landry2015_2\", \"xref\": \"x1\", \"yref\": \"y1\", \"font\": {\"color\": \"#000000\"}, \"showarrow\": false}, {\"text\": \"0\", \"x\": \"supraspinatus\", \"y\": \"Landry2015_2\", \"xref\": \"x1\", \"yref\": \"y1\", \"font\": {\"color\": \"#000000\"}, \"showarrow\": false}, {\"text\": \"0\", \"x\": \"infraspinatus\", \"y\": \"Landry2015_2\", \"xref\": \"x1\", \"yref\": \"y1\", \"font\": {\"color\": \"#000000\"}, \"showarrow\": false}, {\"text\": \"0\", \"x\": \"subscapularis\", \"y\": \"Landry2015_2\", \"xref\": \"x1\", \"yref\": \"y1\", \"font\": {\"color\": \"#000000\"}, \"showarrow\": false}, {\"text\": \"14\", \"x\": \"upper trapezius\", \"y\": \"Landry2015_1\", \"xref\": \"x1\", \"yref\": \"y1\", \"font\": {\"color\": \"#000000\"}, \"showarrow\": false}, {\"text\": \"0\", \"x\": \"middle trapezius\", \"y\": \"Landry2015_1\", \"xref\": \"x1\", \"yref\": \"y1\", \"font\": {\"color\": \"#000000\"}, \"showarrow\": false}, {\"text\": \"14\", \"x\": \"lower trapezius\", \"y\": \"Landry2015_1\", \"xref\": \"x1\", \"yref\": \"y1\", \"font\": {\"color\": \"#000000\"}, \"showarrow\": false}, {\"text\": \"14\", \"x\": \"anterior deltoid\", \"y\": \"Landry2015_1\", \"xref\": \"x1\", \"yref\": \"y1\", \"font\": {\"color\": \"#000000\"}, \"showarrow\": false}, {\"text\": \"14\", \"x\": \"middle deltoid\", \"y\": \"Landry2015_1\", \"xref\": \"x1\", \"yref\": \"y1\", \"font\": {\"color\": \"#000000\"}, \"showarrow\": false}, {\"text\": \"14\", \"x\": \"posterior deltoid\", \"y\": \"Landry2015_1\", \"xref\": \"x1\", \"yref\": \"y1\", \"font\": {\"color\": \"#000000\"}, \"showarrow\": false}, {\"text\": \"0\", \"x\": \"pectoralis major\", \"y\": \"Landry2015_1\", \"xref\": \"x1\", \"yref\": \"y1\", \"font\": {\"color\": \"#000000\"}, \"showarrow\": false}, {\"text\": \"14\", \"x\": \"serratus anterior\", \"y\": \"Landry2015_1\", \"xref\": \"x1\", \"yref\": \"y1\", \"font\": {\"color\": \"#000000\"}, \"showarrow\": false}, {\"text\": \"0\", \"x\": \"latissimus dorsi\", \"y\": \"Landry2015_1\", \"xref\": \"x1\", \"yref\": \"y1\", \"font\": {\"color\": \"#000000\"}, \"showarrow\": false}, {\"text\": \"14\", \"x\": \"supraspinatus\", \"y\": \"Landry2015_1\", \"xref\": \"x1\", \"yref\": \"y1\", \"font\": {\"color\": \"#000000\"}, \"showarrow\": false}, {\"text\": \"14\", \"x\": \"infraspinatus\", \"y\": \"Landry2015_1\", \"xref\": \"x1\", \"yref\": \"y1\", \"font\": {\"color\": \"#000000\"}, \"showarrow\": false}, {\"text\": \"14\", \"x\": \"subscapularis\", \"y\": \"Landry2015_1\", \"xref\": \"x1\", \"yref\": \"y1\", \"font\": {\"color\": \"#000000\"}, \"showarrow\": false}, {\"text\": \"0\", \"x\": \"upper trapezius\", \"y\": \"Violon\", \"xref\": \"x1\", \"yref\": \"y1\", \"font\": {\"color\": \"#000000\"}, \"showarrow\": false}, {\"text\": \"0\", \"x\": \"middle trapezius\", \"y\": \"Violon\", \"xref\": \"x1\", \"yref\": \"y1\", \"font\": {\"color\": \"#000000\"}, \"showarrow\": false}, {\"text\": \"9\", \"x\": \"lower trapezius\", \"y\": \"Violon\", \"xref\": \"x1\", \"yref\": \"y1\", \"font\": {\"color\": \"#000000\"}, \"showarrow\": false}, {\"text\": \"9\", \"x\": \"anterior deltoid\", \"y\": \"Violon\", \"xref\": \"x1\", \"yref\": \"y1\", \"font\": {\"color\": \"#000000\"}, \"showarrow\": false}, {\"text\": \"9\", \"x\": \"middle deltoid\", \"y\": \"Violon\", \"xref\": \"x1\", \"yref\": \"y1\", \"font\": {\"color\": \"#000000\"}, \"showarrow\": false}, {\"text\": \"9\", \"x\": \"posterior deltoid\", \"y\": \"Violon\", \"xref\": \"x1\", \"yref\": \"y1\", \"font\": {\"color\": \"#000000\"}, \"showarrow\": false}, {\"text\": \"0\", \"x\": \"pectoralis major\", \"y\": \"Violon\", \"xref\": \"x1\", \"yref\": \"y1\", \"font\": {\"color\": \"#000000\"}, \"showarrow\": false}, {\"text\": \"0\", \"x\": \"serratus anterior\", \"y\": \"Violon\", \"xref\": \"x1\", \"yref\": \"y1\", \"font\": {\"color\": \"#000000\"}, \"showarrow\": false}, {\"text\": \"0\", \"x\": \"latissimus dorsi\", \"y\": \"Violon\", \"xref\": \"x1\", \"yref\": \"y1\", \"font\": {\"color\": \"#000000\"}, \"showarrow\": false}, {\"text\": \"8\", \"x\": \"supraspinatus\", \"y\": \"Violon\", \"xref\": \"x1\", \"yref\": \"y1\", \"font\": {\"color\": \"#000000\"}, \"showarrow\": false}, {\"text\": \"8\", \"x\": \"infraspinatus\", \"y\": \"Violon\", \"xref\": \"x1\", \"yref\": \"y1\", \"font\": {\"color\": \"#000000\"}, \"showarrow\": false}, {\"text\": \"8\", \"x\": \"subscapularis\", \"y\": \"Violon\", \"xref\": \"x1\", \"yref\": \"y1\", \"font\": {\"color\": \"#000000\"}, \"showarrow\": false}, {\"text\": \"22\", \"x\": \"upper trapezius\", \"y\": \"Yoann_2015\", \"xref\": \"x1\", \"yref\": \"y1\", \"font\": {\"color\": \"#000000\"}, \"showarrow\": false}, {\"text\": \"22\", \"x\": \"middle trapezius\", \"y\": \"Yoann_2015\", \"xref\": \"x1\", \"yref\": \"y1\", \"font\": {\"color\": \"#000000\"}, \"showarrow\": false}, {\"text\": \"22\", \"x\": \"lower trapezius\", \"y\": \"Yoann_2015\", \"xref\": \"x1\", \"yref\": \"y1\", \"font\": {\"color\": \"#000000\"}, \"showarrow\": false}, {\"text\": \"0\", \"x\": \"anterior deltoid\", \"y\": \"Yoann_2015\", \"xref\": \"x1\", \"yref\": \"y1\", \"font\": {\"color\": \"#000000\"}, \"showarrow\": false}, {\"text\": \"22\", \"x\": \"middle deltoid\", \"y\": \"Yoann_2015\", \"xref\": \"x1\", \"yref\": \"y1\", \"font\": {\"color\": \"#000000\"}, \"showarrow\": false}, {\"text\": \"22\", \"x\": \"posterior deltoid\", \"y\": \"Yoann_2015\", \"xref\": \"x1\", \"yref\": \"y1\", \"font\": {\"color\": \"#000000\"}, \"showarrow\": false}, {\"text\": \"22\", \"x\": \"pectoralis major\", \"y\": \"Yoann_2015\", \"xref\": \"x1\", \"yref\": \"y1\", \"font\": {\"color\": \"#000000\"}, \"showarrow\": false}, {\"text\": \"22\", \"x\": \"serratus anterior\", \"y\": \"Yoann_2015\", \"xref\": \"x1\", \"yref\": \"y1\", \"font\": {\"color\": \"#000000\"}, \"showarrow\": false}, {\"text\": \"22\", \"x\": \"latissimus dorsi\", \"y\": \"Yoann_2015\", \"xref\": \"x1\", \"yref\": \"y1\", \"font\": {\"color\": \"#000000\"}, \"showarrow\": false}, {\"text\": \"22\", \"x\": \"supraspinatus\", \"y\": \"Yoann_2015\", \"xref\": \"x1\", \"yref\": \"y1\", \"font\": {\"color\": \"#000000\"}, \"showarrow\": false}, {\"text\": \"22\", \"x\": \"infraspinatus\", \"y\": \"Yoann_2015\", \"xref\": \"x1\", \"yref\": \"y1\", \"font\": {\"color\": \"#000000\"}, \"showarrow\": false}, {\"text\": \"22\", \"x\": \"subscapularis\", \"y\": \"Yoann_2015\", \"xref\": \"x1\", \"yref\": \"y1\", \"font\": {\"color\": \"#000000\"}, \"showarrow\": false}, {\"text\": \"21\", \"x\": \"upper trapezius\", \"y\": \"Landry2013\", \"xref\": \"x1\", \"yref\": \"y1\", \"font\": {\"color\": \"#000000\"}, \"showarrow\": false}, {\"text\": \"21\", \"x\": \"middle trapezius\", \"y\": \"Landry2013\", \"xref\": \"x1\", \"yref\": \"y1\", \"font\": {\"color\": \"#000000\"}, \"showarrow\": false}, {\"text\": \"21\", \"x\": \"lower trapezius\", \"y\": \"Landry2013\", \"xref\": \"x1\", \"yref\": \"y1\", \"font\": {\"color\": \"#000000\"}, \"showarrow\": false}, {\"text\": \"21\", \"x\": \"anterior deltoid\", \"y\": \"Landry2013\", \"xref\": \"x1\", \"yref\": \"y1\", \"font\": {\"color\": \"#000000\"}, \"showarrow\": false}, {\"text\": \"21\", \"x\": \"middle deltoid\", \"y\": \"Landry2013\", \"xref\": \"x1\", \"yref\": \"y1\", \"font\": {\"color\": \"#000000\"}, \"showarrow\": false}, {\"text\": \"21\", \"x\": \"posterior deltoid\", \"y\": \"Landry2013\", \"xref\": \"x1\", \"yref\": \"y1\", \"font\": {\"color\": \"#000000\"}, \"showarrow\": false}, {\"text\": \"21\", \"x\": \"pectoralis major\", \"y\": \"Landry2013\", \"xref\": \"x1\", \"yref\": \"y1\", \"font\": {\"color\": \"#000000\"}, \"showarrow\": false}, {\"text\": \"21\", \"x\": \"serratus anterior\", \"y\": \"Landry2013\", \"xref\": \"x1\", \"yref\": \"y1\", \"font\": {\"color\": \"#000000\"}, \"showarrow\": false}, {\"text\": \"21\", \"x\": \"latissimus dorsi\", \"y\": \"Landry2013\", \"xref\": \"x1\", \"yref\": \"y1\", \"font\": {\"color\": \"#000000\"}, \"showarrow\": false}, {\"text\": \"0\", \"x\": \"supraspinatus\", \"y\": \"Landry2013\", \"xref\": \"x1\", \"yref\": \"y1\", \"font\": {\"color\": \"#000000\"}, \"showarrow\": false}, {\"text\": \"0\", \"x\": \"infraspinatus\", \"y\": \"Landry2013\", \"xref\": \"x1\", \"yref\": \"y1\", \"font\": {\"color\": \"#000000\"}, \"showarrow\": false}, {\"text\": \"0\", \"x\": \"subscapularis\", \"y\": \"Landry2013\", \"xref\": \"x1\", \"yref\": \"y1\", \"font\": {\"color\": \"#000000\"}, \"showarrow\": false}, {\"text\": \"18\", \"x\": \"upper trapezius\", \"y\": \"Landry2012\", \"xref\": \"x1\", \"yref\": \"y1\", \"font\": {\"color\": \"#000000\"}, \"showarrow\": false}, {\"text\": \"18\", \"x\": \"middle trapezius\", \"y\": \"Landry2012\", \"xref\": \"x1\", \"yref\": \"y1\", \"font\": {\"color\": \"#000000\"}, \"showarrow\": false}, {\"text\": \"18\", \"x\": \"lower trapezius\", \"y\": \"Landry2012\", \"xref\": \"x1\", \"yref\": \"y1\", \"font\": {\"color\": \"#000000\"}, \"showarrow\": false}, {\"text\": \"18\", \"x\": \"anterior deltoid\", \"y\": \"Landry2012\", \"xref\": \"x1\", \"yref\": \"y1\", \"font\": {\"color\": \"#000000\"}, \"showarrow\": false}, {\"text\": \"18\", \"x\": \"middle deltoid\", \"y\": \"Landry2012\", \"xref\": \"x1\", \"yref\": \"y1\", \"font\": {\"color\": \"#000000\"}, \"showarrow\": false}, {\"text\": \"18\", \"x\": \"posterior deltoid\", \"y\": \"Landry2012\", \"xref\": \"x1\", \"yref\": \"y1\", \"font\": {\"color\": \"#000000\"}, \"showarrow\": false}, {\"text\": \"18\", \"x\": \"pectoralis major\", \"y\": \"Landry2012\", \"xref\": \"x1\", \"yref\": \"y1\", \"font\": {\"color\": \"#000000\"}, \"showarrow\": false}, {\"text\": \"0\", \"x\": \"serratus anterior\", \"y\": \"Landry2012\", \"xref\": \"x1\", \"yref\": \"y1\", \"font\": {\"color\": \"#000000\"}, \"showarrow\": false}, {\"text\": \"18\", \"x\": \"latissimus dorsi\", \"y\": \"Landry2012\", \"xref\": \"x1\", \"yref\": \"y1\", \"font\": {\"color\": \"#000000\"}, \"showarrow\": false}, {\"text\": \"0\", \"x\": \"supraspinatus\", \"y\": \"Landry2012\", \"xref\": \"x1\", \"yref\": \"y1\", \"font\": {\"color\": \"#000000\"}, \"showarrow\": false}, {\"text\": \"0\", \"x\": \"infraspinatus\", \"y\": \"Landry2012\", \"xref\": \"x1\", \"yref\": \"y1\", \"font\": {\"color\": \"#000000\"}, \"showarrow\": false}, {\"text\": \"0\", \"x\": \"subscapularis\", \"y\": \"Landry2012\", \"xref\": \"x1\", \"yref\": \"y1\", \"font\": {\"color\": \"#000000\"}, \"showarrow\": false}, {\"text\": \"15\", \"x\": \"upper trapezius\", \"y\": \"Tennis\", \"xref\": \"x1\", \"yref\": \"y1\", \"font\": {\"color\": \"#000000\"}, \"showarrow\": false}, {\"text\": \"0\", \"x\": \"middle trapezius\", \"y\": \"Tennis\", \"xref\": \"x1\", \"yref\": \"y1\", \"font\": {\"color\": \"#000000\"}, \"showarrow\": false}, {\"text\": \"15\", \"x\": \"lower trapezius\", \"y\": \"Tennis\", \"xref\": \"x1\", \"yref\": \"y1\", \"font\": {\"color\": \"#000000\"}, \"showarrow\": false}, {\"text\": \"15\", \"x\": \"anterior deltoid\", \"y\": \"Tennis\", \"xref\": \"x1\", \"yref\": \"y1\", \"font\": {\"color\": \"#000000\"}, \"showarrow\": false}, {\"text\": \"15\", \"x\": \"middle deltoid\", \"y\": \"Tennis\", \"xref\": \"x1\", \"yref\": \"y1\", \"font\": {\"color\": \"#000000\"}, \"showarrow\": false}, {\"text\": \"15\", \"x\": \"posterior deltoid\", \"y\": \"Tennis\", \"xref\": \"x1\", \"yref\": \"y1\", \"font\": {\"color\": \"#000000\"}, \"showarrow\": false}, {\"text\": \"15\", \"x\": \"pectoralis major\", \"y\": \"Tennis\", \"xref\": \"x1\", \"yref\": \"y1\", \"font\": {\"color\": \"#000000\"}, \"showarrow\": false}, {\"text\": \"15\", \"x\": \"serratus anterior\", \"y\": \"Tennis\", \"xref\": \"x1\", \"yref\": \"y1\", \"font\": {\"color\": \"#000000\"}, \"showarrow\": false}, {\"text\": \"15\", \"x\": \"latissimus dorsi\", \"y\": \"Tennis\", \"xref\": \"x1\", \"yref\": \"y1\", \"font\": {\"color\": \"#000000\"}, \"showarrow\": false}, {\"text\": \"15\", \"x\": \"supraspinatus\", \"y\": \"Tennis\", \"xref\": \"x1\", \"yref\": \"y1\", \"font\": {\"color\": \"#000000\"}, \"showarrow\": false}, {\"text\": \"15\", \"x\": \"infraspinatus\", \"y\": \"Tennis\", \"xref\": \"x1\", \"yref\": \"y1\", \"font\": {\"color\": \"#000000\"}, \"showarrow\": false}, {\"text\": \"15\", \"x\": \"subscapularis\", \"y\": \"Tennis\", \"xref\": \"x1\", \"yref\": \"y1\", \"font\": {\"color\": \"#000000\"}, \"showarrow\": false}, {\"text\": \"16\", \"x\": \"upper trapezius\", \"y\": \"Patrick_2013\", \"xref\": \"x1\", \"yref\": \"y1\", \"font\": {\"color\": \"#000000\"}, \"showarrow\": false}, {\"text\": \"16\", \"x\": \"middle trapezius\", \"y\": \"Patrick_2013\", \"xref\": \"x1\", \"yref\": \"y1\", \"font\": {\"color\": \"#000000\"}, \"showarrow\": false}, {\"text\": \"16\", \"x\": \"lower trapezius\", \"y\": \"Patrick_2013\", \"xref\": \"x1\", \"yref\": \"y1\", \"font\": {\"color\": \"#000000\"}, \"showarrow\": false}, {\"text\": \"16\", \"x\": \"anterior deltoid\", \"y\": \"Patrick_2013\", \"xref\": \"x1\", \"yref\": \"y1\", \"font\": {\"color\": \"#000000\"}, \"showarrow\": false}, {\"text\": \"16\", \"x\": \"middle deltoid\", \"y\": \"Patrick_2013\", \"xref\": \"x1\", \"yref\": \"y1\", \"font\": {\"color\": \"#000000\"}, \"showarrow\": false}, {\"text\": \"16\", \"x\": \"posterior deltoid\", \"y\": \"Patrick_2013\", \"xref\": \"x1\", \"yref\": \"y1\", \"font\": {\"color\": \"#000000\"}, \"showarrow\": false}, {\"text\": \"16\", \"x\": \"pectoralis major\", \"y\": \"Patrick_2013\", \"xref\": \"x1\", \"yref\": \"y1\", \"font\": {\"color\": \"#000000\"}, \"showarrow\": false}, {\"text\": \"16\", \"x\": \"serratus anterior\", \"y\": \"Patrick_2013\", \"xref\": \"x1\", \"yref\": \"y1\", \"font\": {\"color\": \"#000000\"}, \"showarrow\": false}, {\"text\": \"16\", \"x\": \"latissimus dorsi\", \"y\": \"Patrick_2013\", \"xref\": \"x1\", \"yref\": \"y1\", \"font\": {\"color\": \"#000000\"}, \"showarrow\": false}, {\"text\": \"16\", \"x\": \"supraspinatus\", \"y\": \"Patrick_2013\", \"xref\": \"x1\", \"yref\": \"y1\", \"font\": {\"color\": \"#000000\"}, \"showarrow\": false}, {\"text\": \"16\", \"x\": \"infraspinatus\", \"y\": \"Patrick_2013\", \"xref\": \"x1\", \"yref\": \"y1\", \"font\": {\"color\": \"#000000\"}, \"showarrow\": false}, {\"text\": \"16\", \"x\": \"subscapularis\", \"y\": \"Patrick_2013\", \"xref\": \"x1\", \"yref\": \"y1\", \"font\": {\"color\": \"#000000\"}, \"showarrow\": false}, {\"text\": \"10\", \"x\": \"upper trapezius\", \"y\": \"Sylvain_2015\", \"xref\": \"x1\", \"yref\": \"y1\", \"font\": {\"color\": \"#000000\"}, \"showarrow\": false}, {\"text\": \"10\", \"x\": \"middle trapezius\", \"y\": \"Sylvain_2015\", \"xref\": \"x1\", \"yref\": \"y1\", \"font\": {\"color\": \"#000000\"}, \"showarrow\": false}, {\"text\": \"10\", \"x\": \"lower trapezius\", \"y\": \"Sylvain_2015\", \"xref\": \"x1\", \"yref\": \"y1\", \"font\": {\"color\": \"#000000\"}, \"showarrow\": false}, {\"text\": \"0\", \"x\": \"anterior deltoid\", \"y\": \"Sylvain_2015\", \"xref\": \"x1\", \"yref\": \"y1\", \"font\": {\"color\": \"#000000\"}, \"showarrow\": false}, {\"text\": \"10\", \"x\": \"middle deltoid\", \"y\": \"Sylvain_2015\", \"xref\": \"x1\", \"yref\": \"y1\", \"font\": {\"color\": \"#000000\"}, \"showarrow\": false}, {\"text\": \"10\", \"x\": \"posterior deltoid\", \"y\": \"Sylvain_2015\", \"xref\": \"x1\", \"yref\": \"y1\", \"font\": {\"color\": \"#000000\"}, \"showarrow\": false}, {\"text\": \"10\", \"x\": \"pectoralis major\", \"y\": \"Sylvain_2015\", \"xref\": \"x1\", \"yref\": \"y1\", \"font\": {\"color\": \"#000000\"}, \"showarrow\": false}, {\"text\": \"10\", \"x\": \"serratus anterior\", \"y\": \"Sylvain_2015\", \"xref\": \"x1\", \"yref\": \"y1\", \"font\": {\"color\": \"#000000\"}, \"showarrow\": false}, {\"text\": \"10\", \"x\": \"latissimus dorsi\", \"y\": \"Sylvain_2015\", \"xref\": \"x1\", \"yref\": \"y1\", \"font\": {\"color\": \"#000000\"}, \"showarrow\": false}, {\"text\": \"10\", \"x\": \"supraspinatus\", \"y\": \"Sylvain_2015\", \"xref\": \"x1\", \"yref\": \"y1\", \"font\": {\"color\": \"#000000\"}, \"showarrow\": false}, {\"text\": \"10\", \"x\": \"infraspinatus\", \"y\": \"Sylvain_2015\", \"xref\": \"x1\", \"yref\": \"y1\", \"font\": {\"color\": \"#000000\"}, \"showarrow\": false}, {\"text\": \"10\", \"x\": \"subscapularis\", \"y\": \"Sylvain_2015\", \"xref\": \"x1\", \"yref\": \"y1\", \"font\": {\"color\": \"#000000\"}, \"showarrow\": false}], \"xaxis\": {\"ticks\": \"\", \"dtick\": 1, \"side\": \"bottom\", \"gridcolor\": \"rgb(0, 0, 0)\", \"title\": null}, \"yaxis\": {\"ticks\": \"\", \"dtick\": 1, \"ticksuffix\": \"  \", \"title\": null, \"autorange\": \"reversed\"}, \"hovermode\": \"closest\", \"font\": {\"size\": 14}, \"title\": \"Muscles by dataset\", \"margin\": {\"t\": 80, \"b\": 80, \"l\": 150, \"r\": 80, \"pad\": 0}}, {\"showLink\": true, \"linkText\": \"Export to plot.ly\"})});</script>"
      ],
      "text/vnd.plotly.v1+html": [
       "<div id=\"7fb5209c-563f-41ac-80b1-b5dd5932230c\" style=\"height: 525px; width: 100%;\" class=\"plotly-graph-div\"></div><script type=\"text/javascript\">require([\"plotly\"], function(Plotly) { window.PLOTLYENV=window.PLOTLYENV || {};window.PLOTLYENV.BASE_URL=\"https://plot.ly\";Plotly.newPlot(\"7fb5209c-563f-41ac-80b1-b5dd5932230c\", [{\"type\": \"heatmap\", \"z\": [[14, 0, 14, 14, 14, 14, 11, 14, 11, 13, 13, 12], [11, 0, 11, 11, 11, 11, 0, 11, 0, 0, 0, 0], [14, 0, 14, 14, 14, 14, 0, 14, 0, 14, 14, 14], [0, 0, 9, 9, 9, 9, 0, 0, 0, 8, 8, 8], [22, 22, 22, 0, 22, 22, 22, 22, 22, 22, 22, 22], [21, 21, 21, 21, 21, 21, 21, 21, 21, 0, 0, 0], [18, 18, 18, 18, 18, 18, 18, 0, 18, 0, 0, 0], [15, 0, 15, 15, 15, 15, 15, 15, 15, 15, 15, 15], [16, 16, 16, 16, 16, 16, 16, 16, 16, 16, 16, 16], [10, 10, 10, 0, 10, 10, 10, 10, 10, 10, 10, 10]], \"x\": [\"upper trapezius\", \"middle trapezius\", \"lower trapezius\", \"anterior deltoid\", \"middle deltoid\", \"posterior deltoid\", \"pectoralis major\", \"serratus anterior\", \"latissimus dorsi\", \"supraspinatus\", \"infraspinatus\", \"subscapularis\"], \"y\": [\"Landry2016\", \"Landry2015_2\", \"Landry2015_1\", \"Violon\", \"Yoann_2015\", \"Landry2013\", \"Landry2012\", \"Tennis\", \"Patrick_2013\", \"Sylvain_2015\"], \"colorscale\": \"YlGnBu\", \"showscale\": true, \"colorbar\": {\"title\": \"Count\", \"titleside\": \"right\"}}], {\"annotations\": [{\"text\": \"14\", \"x\": \"upper trapezius\", \"y\": \"Landry2016\", \"xref\": \"x1\", \"yref\": \"y1\", \"font\": {\"color\": \"#000000\"}, \"showarrow\": false}, {\"text\": \"0\", \"x\": \"middle trapezius\", \"y\": \"Landry2016\", \"xref\": \"x1\", \"yref\": \"y1\", \"font\": {\"color\": \"#000000\"}, \"showarrow\": false}, {\"text\": \"14\", \"x\": \"lower trapezius\", \"y\": \"Landry2016\", \"xref\": \"x1\", \"yref\": \"y1\", \"font\": {\"color\": \"#000000\"}, \"showarrow\": false}, {\"text\": \"14\", \"x\": \"anterior deltoid\", \"y\": \"Landry2016\", \"xref\": \"x1\", \"yref\": \"y1\", \"font\": {\"color\": \"#000000\"}, \"showarrow\": false}, {\"text\": \"14\", \"x\": \"middle deltoid\", \"y\": \"Landry2016\", \"xref\": \"x1\", \"yref\": \"y1\", \"font\": {\"color\": \"#000000\"}, \"showarrow\": false}, {\"text\": \"14\", \"x\": \"posterior deltoid\", \"y\": \"Landry2016\", \"xref\": \"x1\", \"yref\": \"y1\", \"font\": {\"color\": \"#000000\"}, \"showarrow\": false}, {\"text\": \"11\", \"x\": \"pectoralis major\", \"y\": \"Landry2016\", \"xref\": \"x1\", \"yref\": \"y1\", \"font\": {\"color\": \"#000000\"}, \"showarrow\": false}, {\"text\": \"14\", \"x\": \"serratus anterior\", \"y\": \"Landry2016\", \"xref\": \"x1\", \"yref\": \"y1\", \"font\": {\"color\": \"#000000\"}, \"showarrow\": false}, {\"text\": \"11\", \"x\": \"latissimus dorsi\", \"y\": \"Landry2016\", \"xref\": \"x1\", \"yref\": \"y1\", \"font\": {\"color\": \"#000000\"}, \"showarrow\": false}, {\"text\": \"13\", \"x\": \"supraspinatus\", \"y\": \"Landry2016\", \"xref\": \"x1\", \"yref\": \"y1\", \"font\": {\"color\": \"#000000\"}, \"showarrow\": false}, {\"text\": \"13\", \"x\": \"infraspinatus\", \"y\": \"Landry2016\", \"xref\": \"x1\", \"yref\": \"y1\", \"font\": {\"color\": \"#000000\"}, \"showarrow\": false}, {\"text\": \"12\", \"x\": \"subscapularis\", \"y\": \"Landry2016\", \"xref\": \"x1\", \"yref\": \"y1\", \"font\": {\"color\": \"#000000\"}, \"showarrow\": false}, {\"text\": \"11\", \"x\": \"upper trapezius\", \"y\": \"Landry2015_2\", \"xref\": \"x1\", \"yref\": \"y1\", \"font\": {\"color\": \"#000000\"}, \"showarrow\": false}, {\"text\": \"0\", \"x\": \"middle trapezius\", \"y\": \"Landry2015_2\", \"xref\": \"x1\", \"yref\": \"y1\", \"font\": {\"color\": \"#000000\"}, \"showarrow\": false}, {\"text\": \"11\", \"x\": \"lower trapezius\", \"y\": \"Landry2015_2\", \"xref\": \"x1\", \"yref\": \"y1\", \"font\": {\"color\": \"#000000\"}, \"showarrow\": false}, {\"text\": \"11\", \"x\": \"anterior deltoid\", \"y\": \"Landry2015_2\", \"xref\": \"x1\", \"yref\": \"y1\", \"font\": {\"color\": \"#000000\"}, \"showarrow\": false}, {\"text\": \"11\", \"x\": \"middle deltoid\", \"y\": \"Landry2015_2\", \"xref\": \"x1\", \"yref\": \"y1\", \"font\": {\"color\": \"#000000\"}, \"showarrow\": false}, {\"text\": \"11\", \"x\": \"posterior deltoid\", \"y\": \"Landry2015_2\", \"xref\": \"x1\", \"yref\": \"y1\", \"font\": {\"color\": \"#000000\"}, \"showarrow\": false}, {\"text\": \"0\", \"x\": \"pectoralis major\", \"y\": \"Landry2015_2\", \"xref\": \"x1\", \"yref\": \"y1\", \"font\": {\"color\": \"#000000\"}, \"showarrow\": false}, {\"text\": \"11\", \"x\": \"serratus anterior\", \"y\": \"Landry2015_2\", \"xref\": \"x1\", \"yref\": \"y1\", \"font\": {\"color\": \"#000000\"}, \"showarrow\": false}, {\"text\": \"0\", \"x\": \"latissimus dorsi\", \"y\": \"Landry2015_2\", \"xref\": \"x1\", \"yref\": \"y1\", \"font\": {\"color\": \"#000000\"}, \"showarrow\": false}, {\"text\": \"0\", \"x\": \"supraspinatus\", \"y\": \"Landry2015_2\", \"xref\": \"x1\", \"yref\": \"y1\", \"font\": {\"color\": \"#000000\"}, \"showarrow\": false}, {\"text\": \"0\", \"x\": \"infraspinatus\", \"y\": \"Landry2015_2\", \"xref\": \"x1\", \"yref\": \"y1\", \"font\": {\"color\": \"#000000\"}, \"showarrow\": false}, {\"text\": \"0\", \"x\": \"subscapularis\", \"y\": \"Landry2015_2\", \"xref\": \"x1\", \"yref\": \"y1\", \"font\": {\"color\": \"#000000\"}, \"showarrow\": false}, {\"text\": \"14\", \"x\": \"upper trapezius\", \"y\": \"Landry2015_1\", \"xref\": \"x1\", \"yref\": \"y1\", \"font\": {\"color\": \"#000000\"}, \"showarrow\": false}, {\"text\": \"0\", \"x\": \"middle trapezius\", \"y\": \"Landry2015_1\", \"xref\": \"x1\", \"yref\": \"y1\", \"font\": {\"color\": \"#000000\"}, \"showarrow\": false}, {\"text\": \"14\", \"x\": \"lower trapezius\", \"y\": \"Landry2015_1\", \"xref\": \"x1\", \"yref\": \"y1\", \"font\": {\"color\": \"#000000\"}, \"showarrow\": false}, {\"text\": \"14\", \"x\": \"anterior deltoid\", \"y\": \"Landry2015_1\", \"xref\": \"x1\", \"yref\": \"y1\", \"font\": {\"color\": \"#000000\"}, \"showarrow\": false}, {\"text\": \"14\", \"x\": \"middle deltoid\", \"y\": \"Landry2015_1\", \"xref\": \"x1\", \"yref\": \"y1\", \"font\": {\"color\": \"#000000\"}, \"showarrow\": false}, {\"text\": \"14\", \"x\": \"posterior deltoid\", \"y\": \"Landry2015_1\", \"xref\": \"x1\", \"yref\": \"y1\", \"font\": {\"color\": \"#000000\"}, \"showarrow\": false}, {\"text\": \"0\", \"x\": \"pectoralis major\", \"y\": \"Landry2015_1\", \"xref\": \"x1\", \"yref\": \"y1\", \"font\": {\"color\": \"#000000\"}, \"showarrow\": false}, {\"text\": \"14\", \"x\": \"serratus anterior\", \"y\": \"Landry2015_1\", \"xref\": \"x1\", \"yref\": \"y1\", \"font\": {\"color\": \"#000000\"}, \"showarrow\": false}, {\"text\": \"0\", \"x\": \"latissimus dorsi\", \"y\": \"Landry2015_1\", \"xref\": \"x1\", \"yref\": \"y1\", \"font\": {\"color\": \"#000000\"}, \"showarrow\": false}, {\"text\": \"14\", \"x\": \"supraspinatus\", \"y\": \"Landry2015_1\", \"xref\": \"x1\", \"yref\": \"y1\", \"font\": {\"color\": \"#000000\"}, \"showarrow\": false}, {\"text\": \"14\", \"x\": \"infraspinatus\", \"y\": \"Landry2015_1\", \"xref\": \"x1\", \"yref\": \"y1\", \"font\": {\"color\": \"#000000\"}, \"showarrow\": false}, {\"text\": \"14\", \"x\": \"subscapularis\", \"y\": \"Landry2015_1\", \"xref\": \"x1\", \"yref\": \"y1\", \"font\": {\"color\": \"#000000\"}, \"showarrow\": false}, {\"text\": \"0\", \"x\": \"upper trapezius\", \"y\": \"Violon\", \"xref\": \"x1\", \"yref\": \"y1\", \"font\": {\"color\": \"#000000\"}, \"showarrow\": false}, {\"text\": \"0\", \"x\": \"middle trapezius\", \"y\": \"Violon\", \"xref\": \"x1\", \"yref\": \"y1\", \"font\": {\"color\": \"#000000\"}, \"showarrow\": false}, {\"text\": \"9\", \"x\": \"lower trapezius\", \"y\": \"Violon\", \"xref\": \"x1\", \"yref\": \"y1\", \"font\": {\"color\": \"#000000\"}, \"showarrow\": false}, {\"text\": \"9\", \"x\": \"anterior deltoid\", \"y\": \"Violon\", \"xref\": \"x1\", \"yref\": \"y1\", \"font\": {\"color\": \"#000000\"}, \"showarrow\": false}, {\"text\": \"9\", \"x\": \"middle deltoid\", \"y\": \"Violon\", \"xref\": \"x1\", \"yref\": \"y1\", \"font\": {\"color\": \"#000000\"}, \"showarrow\": false}, {\"text\": \"9\", \"x\": \"posterior deltoid\", \"y\": \"Violon\", \"xref\": \"x1\", \"yref\": \"y1\", \"font\": {\"color\": \"#000000\"}, \"showarrow\": false}, {\"text\": \"0\", \"x\": \"pectoralis major\", \"y\": \"Violon\", \"xref\": \"x1\", \"yref\": \"y1\", \"font\": {\"color\": \"#000000\"}, \"showarrow\": false}, {\"text\": \"0\", \"x\": \"serratus anterior\", \"y\": \"Violon\", \"xref\": \"x1\", \"yref\": \"y1\", \"font\": {\"color\": \"#000000\"}, \"showarrow\": false}, {\"text\": \"0\", \"x\": \"latissimus dorsi\", \"y\": \"Violon\", \"xref\": \"x1\", \"yref\": \"y1\", \"font\": {\"color\": \"#000000\"}, \"showarrow\": false}, {\"text\": \"8\", \"x\": \"supraspinatus\", \"y\": \"Violon\", \"xref\": \"x1\", \"yref\": \"y1\", \"font\": {\"color\": \"#000000\"}, \"showarrow\": false}, {\"text\": \"8\", \"x\": \"infraspinatus\", \"y\": \"Violon\", \"xref\": \"x1\", \"yref\": \"y1\", \"font\": {\"color\": \"#000000\"}, \"showarrow\": false}, {\"text\": \"8\", \"x\": \"subscapularis\", \"y\": \"Violon\", \"xref\": \"x1\", \"yref\": \"y1\", \"font\": {\"color\": \"#000000\"}, \"showarrow\": false}, {\"text\": \"22\", \"x\": \"upper trapezius\", \"y\": \"Yoann_2015\", \"xref\": \"x1\", \"yref\": \"y1\", \"font\": {\"color\": \"#000000\"}, \"showarrow\": false}, {\"text\": \"22\", \"x\": \"middle trapezius\", \"y\": \"Yoann_2015\", \"xref\": \"x1\", \"yref\": \"y1\", \"font\": {\"color\": \"#000000\"}, \"showarrow\": false}, {\"text\": \"22\", \"x\": \"lower trapezius\", \"y\": \"Yoann_2015\", \"xref\": \"x1\", \"yref\": \"y1\", \"font\": {\"color\": \"#000000\"}, \"showarrow\": false}, {\"text\": \"0\", \"x\": \"anterior deltoid\", \"y\": \"Yoann_2015\", \"xref\": \"x1\", \"yref\": \"y1\", \"font\": {\"color\": \"#000000\"}, \"showarrow\": false}, {\"text\": \"22\", \"x\": \"middle deltoid\", \"y\": \"Yoann_2015\", \"xref\": \"x1\", \"yref\": \"y1\", \"font\": {\"color\": \"#000000\"}, \"showarrow\": false}, {\"text\": \"22\", \"x\": \"posterior deltoid\", \"y\": \"Yoann_2015\", \"xref\": \"x1\", \"yref\": \"y1\", \"font\": {\"color\": \"#000000\"}, \"showarrow\": false}, {\"text\": \"22\", \"x\": \"pectoralis major\", \"y\": \"Yoann_2015\", \"xref\": \"x1\", \"yref\": \"y1\", \"font\": {\"color\": \"#000000\"}, \"showarrow\": false}, {\"text\": \"22\", \"x\": \"serratus anterior\", \"y\": \"Yoann_2015\", \"xref\": \"x1\", \"yref\": \"y1\", \"font\": {\"color\": \"#000000\"}, \"showarrow\": false}, {\"text\": \"22\", \"x\": \"latissimus dorsi\", \"y\": \"Yoann_2015\", \"xref\": \"x1\", \"yref\": \"y1\", \"font\": {\"color\": \"#000000\"}, \"showarrow\": false}, {\"text\": \"22\", \"x\": \"supraspinatus\", \"y\": \"Yoann_2015\", \"xref\": \"x1\", \"yref\": \"y1\", \"font\": {\"color\": \"#000000\"}, \"showarrow\": false}, {\"text\": \"22\", \"x\": \"infraspinatus\", \"y\": \"Yoann_2015\", \"xref\": \"x1\", \"yref\": \"y1\", \"font\": {\"color\": \"#000000\"}, \"showarrow\": false}, {\"text\": \"22\", \"x\": \"subscapularis\", \"y\": \"Yoann_2015\", \"xref\": \"x1\", \"yref\": \"y1\", \"font\": {\"color\": \"#000000\"}, \"showarrow\": false}, {\"text\": \"21\", \"x\": \"upper trapezius\", \"y\": \"Landry2013\", \"xref\": \"x1\", \"yref\": \"y1\", \"font\": {\"color\": \"#000000\"}, \"showarrow\": false}, {\"text\": \"21\", \"x\": \"middle trapezius\", \"y\": \"Landry2013\", \"xref\": \"x1\", \"yref\": \"y1\", \"font\": {\"color\": \"#000000\"}, \"showarrow\": false}, {\"text\": \"21\", \"x\": \"lower trapezius\", \"y\": \"Landry2013\", \"xref\": \"x1\", \"yref\": \"y1\", \"font\": {\"color\": \"#000000\"}, \"showarrow\": false}, {\"text\": \"21\", \"x\": \"anterior deltoid\", \"y\": \"Landry2013\", \"xref\": \"x1\", \"yref\": \"y1\", \"font\": {\"color\": \"#000000\"}, \"showarrow\": false}, {\"text\": \"21\", \"x\": \"middle deltoid\", \"y\": \"Landry2013\", \"xref\": \"x1\", \"yref\": \"y1\", \"font\": {\"color\": \"#000000\"}, \"showarrow\": false}, {\"text\": \"21\", \"x\": \"posterior deltoid\", \"y\": \"Landry2013\", \"xref\": \"x1\", \"yref\": \"y1\", \"font\": {\"color\": \"#000000\"}, \"showarrow\": false}, {\"text\": \"21\", \"x\": \"pectoralis major\", \"y\": \"Landry2013\", \"xref\": \"x1\", \"yref\": \"y1\", \"font\": {\"color\": \"#000000\"}, \"showarrow\": false}, {\"text\": \"21\", \"x\": \"serratus anterior\", \"y\": \"Landry2013\", \"xref\": \"x1\", \"yref\": \"y1\", \"font\": {\"color\": \"#000000\"}, \"showarrow\": false}, {\"text\": \"21\", \"x\": \"latissimus dorsi\", \"y\": \"Landry2013\", \"xref\": \"x1\", \"yref\": \"y1\", \"font\": {\"color\": \"#000000\"}, \"showarrow\": false}, {\"text\": \"0\", \"x\": \"supraspinatus\", \"y\": \"Landry2013\", \"xref\": \"x1\", \"yref\": \"y1\", \"font\": {\"color\": \"#000000\"}, \"showarrow\": false}, {\"text\": \"0\", \"x\": \"infraspinatus\", \"y\": \"Landry2013\", \"xref\": \"x1\", \"yref\": \"y1\", \"font\": {\"color\": \"#000000\"}, \"showarrow\": false}, {\"text\": \"0\", \"x\": \"subscapularis\", \"y\": \"Landry2013\", \"xref\": \"x1\", \"yref\": \"y1\", \"font\": {\"color\": \"#000000\"}, \"showarrow\": false}, {\"text\": \"18\", \"x\": \"upper trapezius\", \"y\": \"Landry2012\", \"xref\": \"x1\", \"yref\": \"y1\", \"font\": {\"color\": \"#000000\"}, \"showarrow\": false}, {\"text\": \"18\", \"x\": \"middle trapezius\", \"y\": \"Landry2012\", \"xref\": \"x1\", \"yref\": \"y1\", \"font\": {\"color\": \"#000000\"}, \"showarrow\": false}, {\"text\": \"18\", \"x\": \"lower trapezius\", \"y\": \"Landry2012\", \"xref\": \"x1\", \"yref\": \"y1\", \"font\": {\"color\": \"#000000\"}, \"showarrow\": false}, {\"text\": \"18\", \"x\": \"anterior deltoid\", \"y\": \"Landry2012\", \"xref\": \"x1\", \"yref\": \"y1\", \"font\": {\"color\": \"#000000\"}, \"showarrow\": false}, {\"text\": \"18\", \"x\": \"middle deltoid\", \"y\": \"Landry2012\", \"xref\": \"x1\", \"yref\": \"y1\", \"font\": {\"color\": \"#000000\"}, \"showarrow\": false}, {\"text\": \"18\", \"x\": \"posterior deltoid\", \"y\": \"Landry2012\", \"xref\": \"x1\", \"yref\": \"y1\", \"font\": {\"color\": \"#000000\"}, \"showarrow\": false}, {\"text\": \"18\", \"x\": \"pectoralis major\", \"y\": \"Landry2012\", \"xref\": \"x1\", \"yref\": \"y1\", \"font\": {\"color\": \"#000000\"}, \"showarrow\": false}, {\"text\": \"0\", \"x\": \"serratus anterior\", \"y\": \"Landry2012\", \"xref\": \"x1\", \"yref\": \"y1\", \"font\": {\"color\": \"#000000\"}, \"showarrow\": false}, {\"text\": \"18\", \"x\": \"latissimus dorsi\", \"y\": \"Landry2012\", \"xref\": \"x1\", \"yref\": \"y1\", \"font\": {\"color\": \"#000000\"}, \"showarrow\": false}, {\"text\": \"0\", \"x\": \"supraspinatus\", \"y\": \"Landry2012\", \"xref\": \"x1\", \"yref\": \"y1\", \"font\": {\"color\": \"#000000\"}, \"showarrow\": false}, {\"text\": \"0\", \"x\": \"infraspinatus\", \"y\": \"Landry2012\", \"xref\": \"x1\", \"yref\": \"y1\", \"font\": {\"color\": \"#000000\"}, \"showarrow\": false}, {\"text\": \"0\", \"x\": \"subscapularis\", \"y\": \"Landry2012\", \"xref\": \"x1\", \"yref\": \"y1\", \"font\": {\"color\": \"#000000\"}, \"showarrow\": false}, {\"text\": \"15\", \"x\": \"upper trapezius\", \"y\": \"Tennis\", \"xref\": \"x1\", \"yref\": \"y1\", \"font\": {\"color\": \"#000000\"}, \"showarrow\": false}, {\"text\": \"0\", \"x\": \"middle trapezius\", \"y\": \"Tennis\", \"xref\": \"x1\", \"yref\": \"y1\", \"font\": {\"color\": \"#000000\"}, \"showarrow\": false}, {\"text\": \"15\", \"x\": \"lower trapezius\", \"y\": \"Tennis\", \"xref\": \"x1\", \"yref\": \"y1\", \"font\": {\"color\": \"#000000\"}, \"showarrow\": false}, {\"text\": \"15\", \"x\": \"anterior deltoid\", \"y\": \"Tennis\", \"xref\": \"x1\", \"yref\": \"y1\", \"font\": {\"color\": \"#000000\"}, \"showarrow\": false}, {\"text\": \"15\", \"x\": \"middle deltoid\", \"y\": \"Tennis\", \"xref\": \"x1\", \"yref\": \"y1\", \"font\": {\"color\": \"#000000\"}, \"showarrow\": false}, {\"text\": \"15\", \"x\": \"posterior deltoid\", \"y\": \"Tennis\", \"xref\": \"x1\", \"yref\": \"y1\", \"font\": {\"color\": \"#000000\"}, \"showarrow\": false}, {\"text\": \"15\", \"x\": \"pectoralis major\", \"y\": \"Tennis\", \"xref\": \"x1\", \"yref\": \"y1\", \"font\": {\"color\": \"#000000\"}, \"showarrow\": false}, {\"text\": \"15\", \"x\": \"serratus anterior\", \"y\": \"Tennis\", \"xref\": \"x1\", \"yref\": \"y1\", \"font\": {\"color\": \"#000000\"}, \"showarrow\": false}, {\"text\": \"15\", \"x\": \"latissimus dorsi\", \"y\": \"Tennis\", \"xref\": \"x1\", \"yref\": \"y1\", \"font\": {\"color\": \"#000000\"}, \"showarrow\": false}, {\"text\": \"15\", \"x\": \"supraspinatus\", \"y\": \"Tennis\", \"xref\": \"x1\", \"yref\": \"y1\", \"font\": {\"color\": \"#000000\"}, \"showarrow\": false}, {\"text\": \"15\", \"x\": \"infraspinatus\", \"y\": \"Tennis\", \"xref\": \"x1\", \"yref\": \"y1\", \"font\": {\"color\": \"#000000\"}, \"showarrow\": false}, {\"text\": \"15\", \"x\": \"subscapularis\", \"y\": \"Tennis\", \"xref\": \"x1\", \"yref\": \"y1\", \"font\": {\"color\": \"#000000\"}, \"showarrow\": false}, {\"text\": \"16\", \"x\": \"upper trapezius\", \"y\": \"Patrick_2013\", \"xref\": \"x1\", \"yref\": \"y1\", \"font\": {\"color\": \"#000000\"}, \"showarrow\": false}, {\"text\": \"16\", \"x\": \"middle trapezius\", \"y\": \"Patrick_2013\", \"xref\": \"x1\", \"yref\": \"y1\", \"font\": {\"color\": \"#000000\"}, \"showarrow\": false}, {\"text\": \"16\", \"x\": \"lower trapezius\", \"y\": \"Patrick_2013\", \"xref\": \"x1\", \"yref\": \"y1\", \"font\": {\"color\": \"#000000\"}, \"showarrow\": false}, {\"text\": \"16\", \"x\": \"anterior deltoid\", \"y\": \"Patrick_2013\", \"xref\": \"x1\", \"yref\": \"y1\", \"font\": {\"color\": \"#000000\"}, \"showarrow\": false}, {\"text\": \"16\", \"x\": \"middle deltoid\", \"y\": \"Patrick_2013\", \"xref\": \"x1\", \"yref\": \"y1\", \"font\": {\"color\": \"#000000\"}, \"showarrow\": false}, {\"text\": \"16\", \"x\": \"posterior deltoid\", \"y\": \"Patrick_2013\", \"xref\": \"x1\", \"yref\": \"y1\", \"font\": {\"color\": \"#000000\"}, \"showarrow\": false}, {\"text\": \"16\", \"x\": \"pectoralis major\", \"y\": \"Patrick_2013\", \"xref\": \"x1\", \"yref\": \"y1\", \"font\": {\"color\": \"#000000\"}, \"showarrow\": false}, {\"text\": \"16\", \"x\": \"serratus anterior\", \"y\": \"Patrick_2013\", \"xref\": \"x1\", \"yref\": \"y1\", \"font\": {\"color\": \"#000000\"}, \"showarrow\": false}, {\"text\": \"16\", \"x\": \"latissimus dorsi\", \"y\": \"Patrick_2013\", \"xref\": \"x1\", \"yref\": \"y1\", \"font\": {\"color\": \"#000000\"}, \"showarrow\": false}, {\"text\": \"16\", \"x\": \"supraspinatus\", \"y\": \"Patrick_2013\", \"xref\": \"x1\", \"yref\": \"y1\", \"font\": {\"color\": \"#000000\"}, \"showarrow\": false}, {\"text\": \"16\", \"x\": \"infraspinatus\", \"y\": \"Patrick_2013\", \"xref\": \"x1\", \"yref\": \"y1\", \"font\": {\"color\": \"#000000\"}, \"showarrow\": false}, {\"text\": \"16\", \"x\": \"subscapularis\", \"y\": \"Patrick_2013\", \"xref\": \"x1\", \"yref\": \"y1\", \"font\": {\"color\": \"#000000\"}, \"showarrow\": false}, {\"text\": \"10\", \"x\": \"upper trapezius\", \"y\": \"Sylvain_2015\", \"xref\": \"x1\", \"yref\": \"y1\", \"font\": {\"color\": \"#000000\"}, \"showarrow\": false}, {\"text\": \"10\", \"x\": \"middle trapezius\", \"y\": \"Sylvain_2015\", \"xref\": \"x1\", \"yref\": \"y1\", \"font\": {\"color\": \"#000000\"}, \"showarrow\": false}, {\"text\": \"10\", \"x\": \"lower trapezius\", \"y\": \"Sylvain_2015\", \"xref\": \"x1\", \"yref\": \"y1\", \"font\": {\"color\": \"#000000\"}, \"showarrow\": false}, {\"text\": \"0\", \"x\": \"anterior deltoid\", \"y\": \"Sylvain_2015\", \"xref\": \"x1\", \"yref\": \"y1\", \"font\": {\"color\": \"#000000\"}, \"showarrow\": false}, {\"text\": \"10\", \"x\": \"middle deltoid\", \"y\": \"Sylvain_2015\", \"xref\": \"x1\", \"yref\": \"y1\", \"font\": {\"color\": \"#000000\"}, \"showarrow\": false}, {\"text\": \"10\", \"x\": \"posterior deltoid\", \"y\": \"Sylvain_2015\", \"xref\": \"x1\", \"yref\": \"y1\", \"font\": {\"color\": \"#000000\"}, \"showarrow\": false}, {\"text\": \"10\", \"x\": \"pectoralis major\", \"y\": \"Sylvain_2015\", \"xref\": \"x1\", \"yref\": \"y1\", \"font\": {\"color\": \"#000000\"}, \"showarrow\": false}, {\"text\": \"10\", \"x\": \"serratus anterior\", \"y\": \"Sylvain_2015\", \"xref\": \"x1\", \"yref\": \"y1\", \"font\": {\"color\": \"#000000\"}, \"showarrow\": false}, {\"text\": \"10\", \"x\": \"latissimus dorsi\", \"y\": \"Sylvain_2015\", \"xref\": \"x1\", \"yref\": \"y1\", \"font\": {\"color\": \"#000000\"}, \"showarrow\": false}, {\"text\": \"10\", \"x\": \"supraspinatus\", \"y\": \"Sylvain_2015\", \"xref\": \"x1\", \"yref\": \"y1\", \"font\": {\"color\": \"#000000\"}, \"showarrow\": false}, {\"text\": \"10\", \"x\": \"infraspinatus\", \"y\": \"Sylvain_2015\", \"xref\": \"x1\", \"yref\": \"y1\", \"font\": {\"color\": \"#000000\"}, \"showarrow\": false}, {\"text\": \"10\", \"x\": \"subscapularis\", \"y\": \"Sylvain_2015\", \"xref\": \"x1\", \"yref\": \"y1\", \"font\": {\"color\": \"#000000\"}, \"showarrow\": false}], \"xaxis\": {\"ticks\": \"\", \"dtick\": 1, \"side\": \"bottom\", \"gridcolor\": \"rgb(0, 0, 0)\", \"title\": null}, \"yaxis\": {\"ticks\": \"\", \"dtick\": 1, \"ticksuffix\": \"  \", \"title\": null, \"autorange\": \"reversed\"}, \"hovermode\": \"closest\", \"font\": {\"size\": 14}, \"title\": \"Muscles by dataset\", \"margin\": {\"t\": 80, \"b\": 80, \"l\": 150, \"r\": 80, \"pad\": 0}}, {\"showLink\": true, \"linkText\": \"Export to plot.ly\"})});</script>"
      ]
     },
     "metadata": {},
     "output_type": "display_data"
    }
   ],
   "source": [
    "muscle_by_dataset = plot_count_by_dataset(\n",
    "    df_tidy,\n",
    "    values='test',\n",
    "    index='dataset',\n",
    "    columns='muscle',\n",
    "    ylabel=DATASET_NAMES,\n",
    "    xlabel=MUSCLES_NAMES,\n",
    "    title='Muscles by dataset')\n",
    "py.iplot(muscle_by_dataset, filename='mvc/muscles_by_dataset')"
   ]
  },
  {
   "cell_type": "markdown",
   "metadata": {},
   "source": [
    "## 4.2. Tests by dataset"
   ]
  },
  {
   "cell_type": "code",
   "execution_count": 8,
   "metadata": {},
   "outputs": [
    {
     "data": {
      "application/vnd.plotly.v1+json": {
       "data": [
        {
         "colorbar": {
          "title": "Count",
          "titleside": "right"
         },
         "colorscale": "YlGnBu",
         "showscale": true,
         "type": "heatmap",
         "x": null,
         "y": [
          "Landry2016",
          "Landry2015_2",
          "Landry2015_1",
          "Violon",
          "Yoann_2015",
          "Landry2013",
          "Landry2012",
          "Tennis",
          "Patrick_2013",
          "Sylvain_2015"
         ],
         "z": [
          [
           13,
           0,
           14,
           14,
           14,
           14,
           0,
           11,
           13,
           13,
           12,
           0,
           0,
           11,
           0,
           14
          ],
          [
           11,
           0,
           11,
           11,
           11,
           11,
           0,
           0,
           0,
           0,
           0,
           0,
           0,
           0,
           11,
           0
          ],
          [
           14,
           0,
           14,
           14,
           14,
           14,
           0,
           0,
           14,
           14,
           14,
           0,
           0,
           0,
           14,
           0
          ],
          [
           0,
           0,
           9,
           9,
           9,
           9,
           0,
           0,
           8,
           8,
           8,
           0,
           0,
           0,
           0,
           0
          ],
          [
           22,
           22,
           22,
           22,
           22,
           22,
           22,
           22,
           22,
           22,
           22,
           22,
           22,
           22,
           22,
           0
          ],
          [
           21,
           21,
           21,
           21,
           21,
           21,
           21,
           21,
           0,
           0,
           0,
           0,
           0,
           0,
           21,
           0
          ],
          [
           18,
           18,
           18,
           18,
           18,
           18,
           18,
           18,
           0,
           0,
           0,
           0,
           0,
           0,
           0,
           0
          ],
          [
           16,
           0,
           16,
           16,
           16,
           16,
           16,
           0,
           14,
           14,
           14,
           0,
           0,
           16,
           0,
           16
          ],
          [
           16,
           16,
           16,
           16,
           16,
           16,
           16,
           16,
           16,
           16,
           16,
           16,
           16,
           16,
           16,
           0
          ],
          [
           10,
           10,
           10,
           10,
           10,
           10,
           10,
           10,
           10,
           10,
           10,
           10,
           10,
           10,
           10,
           0
          ]
         ]
        }
       ],
       "layout": {
        "annotations": [
         {
          "font": {
           "color": "#000000"
          },
          "showarrow": false,
          "text": "13",
          "x": 0,
          "xref": "x1",
          "y": "Landry2016",
          "yref": "y1"
         },
         {
          "font": {
           "color": "#000000"
          },
          "showarrow": false,
          "text": "0",
          "x": 1,
          "xref": "x1",
          "y": "Landry2016",
          "yref": "y1"
         },
         {
          "font": {
           "color": "#000000"
          },
          "showarrow": false,
          "text": "14",
          "x": 2,
          "xref": "x1",
          "y": "Landry2016",
          "yref": "y1"
         },
         {
          "font": {
           "color": "#000000"
          },
          "showarrow": false,
          "text": "14",
          "x": 3,
          "xref": "x1",
          "y": "Landry2016",
          "yref": "y1"
         },
         {
          "font": {
           "color": "#000000"
          },
          "showarrow": false,
          "text": "14",
          "x": 4,
          "xref": "x1",
          "y": "Landry2016",
          "yref": "y1"
         },
         {
          "font": {
           "color": "#000000"
          },
          "showarrow": false,
          "text": "14",
          "x": 5,
          "xref": "x1",
          "y": "Landry2016",
          "yref": "y1"
         },
         {
          "font": {
           "color": "#000000"
          },
          "showarrow": false,
          "text": "0",
          "x": 6,
          "xref": "x1",
          "y": "Landry2016",
          "yref": "y1"
         },
         {
          "font": {
           "color": "#000000"
          },
          "showarrow": false,
          "text": "11",
          "x": 7,
          "xref": "x1",
          "y": "Landry2016",
          "yref": "y1"
         },
         {
          "font": {
           "color": "#000000"
          },
          "showarrow": false,
          "text": "13",
          "x": 8,
          "xref": "x1",
          "y": "Landry2016",
          "yref": "y1"
         },
         {
          "font": {
           "color": "#000000"
          },
          "showarrow": false,
          "text": "13",
          "x": 9,
          "xref": "x1",
          "y": "Landry2016",
          "yref": "y1"
         },
         {
          "font": {
           "color": "#000000"
          },
          "showarrow": false,
          "text": "12",
          "x": 10,
          "xref": "x1",
          "y": "Landry2016",
          "yref": "y1"
         },
         {
          "font": {
           "color": "#000000"
          },
          "showarrow": false,
          "text": "0",
          "x": 11,
          "xref": "x1",
          "y": "Landry2016",
          "yref": "y1"
         },
         {
          "font": {
           "color": "#000000"
          },
          "showarrow": false,
          "text": "0",
          "x": 12,
          "xref": "x1",
          "y": "Landry2016",
          "yref": "y1"
         },
         {
          "font": {
           "color": "#000000"
          },
          "showarrow": false,
          "text": "11",
          "x": 13,
          "xref": "x1",
          "y": "Landry2016",
          "yref": "y1"
         },
         {
          "font": {
           "color": "#000000"
          },
          "showarrow": false,
          "text": "0",
          "x": 14,
          "xref": "x1",
          "y": "Landry2016",
          "yref": "y1"
         },
         {
          "font": {
           "color": "#000000"
          },
          "showarrow": false,
          "text": "14",
          "x": 15,
          "xref": "x1",
          "y": "Landry2016",
          "yref": "y1"
         },
         {
          "font": {
           "color": "#000000"
          },
          "showarrow": false,
          "text": "11",
          "x": 0,
          "xref": "x1",
          "y": "Landry2015_2",
          "yref": "y1"
         },
         {
          "font": {
           "color": "#000000"
          },
          "showarrow": false,
          "text": "0",
          "x": 1,
          "xref": "x1",
          "y": "Landry2015_2",
          "yref": "y1"
         },
         {
          "font": {
           "color": "#000000"
          },
          "showarrow": false,
          "text": "11",
          "x": 2,
          "xref": "x1",
          "y": "Landry2015_2",
          "yref": "y1"
         },
         {
          "font": {
           "color": "#000000"
          },
          "showarrow": false,
          "text": "11",
          "x": 3,
          "xref": "x1",
          "y": "Landry2015_2",
          "yref": "y1"
         },
         {
          "font": {
           "color": "#000000"
          },
          "showarrow": false,
          "text": "11",
          "x": 4,
          "xref": "x1",
          "y": "Landry2015_2",
          "yref": "y1"
         },
         {
          "font": {
           "color": "#000000"
          },
          "showarrow": false,
          "text": "11",
          "x": 5,
          "xref": "x1",
          "y": "Landry2015_2",
          "yref": "y1"
         },
         {
          "font": {
           "color": "#000000"
          },
          "showarrow": false,
          "text": "0",
          "x": 6,
          "xref": "x1",
          "y": "Landry2015_2",
          "yref": "y1"
         },
         {
          "font": {
           "color": "#000000"
          },
          "showarrow": false,
          "text": "0",
          "x": 7,
          "xref": "x1",
          "y": "Landry2015_2",
          "yref": "y1"
         },
         {
          "font": {
           "color": "#000000"
          },
          "showarrow": false,
          "text": "0",
          "x": 8,
          "xref": "x1",
          "y": "Landry2015_2",
          "yref": "y1"
         },
         {
          "font": {
           "color": "#000000"
          },
          "showarrow": false,
          "text": "0",
          "x": 9,
          "xref": "x1",
          "y": "Landry2015_2",
          "yref": "y1"
         },
         {
          "font": {
           "color": "#000000"
          },
          "showarrow": false,
          "text": "0",
          "x": 10,
          "xref": "x1",
          "y": "Landry2015_2",
          "yref": "y1"
         },
         {
          "font": {
           "color": "#000000"
          },
          "showarrow": false,
          "text": "0",
          "x": 11,
          "xref": "x1",
          "y": "Landry2015_2",
          "yref": "y1"
         },
         {
          "font": {
           "color": "#000000"
          },
          "showarrow": false,
          "text": "0",
          "x": 12,
          "xref": "x1",
          "y": "Landry2015_2",
          "yref": "y1"
         },
         {
          "font": {
           "color": "#000000"
          },
          "showarrow": false,
          "text": "0",
          "x": 13,
          "xref": "x1",
          "y": "Landry2015_2",
          "yref": "y1"
         },
         {
          "font": {
           "color": "#000000"
          },
          "showarrow": false,
          "text": "11",
          "x": 14,
          "xref": "x1",
          "y": "Landry2015_2",
          "yref": "y1"
         },
         {
          "font": {
           "color": "#000000"
          },
          "showarrow": false,
          "text": "0",
          "x": 15,
          "xref": "x1",
          "y": "Landry2015_2",
          "yref": "y1"
         },
         {
          "font": {
           "color": "#000000"
          },
          "showarrow": false,
          "text": "14",
          "x": 0,
          "xref": "x1",
          "y": "Landry2015_1",
          "yref": "y1"
         },
         {
          "font": {
           "color": "#000000"
          },
          "showarrow": false,
          "text": "0",
          "x": 1,
          "xref": "x1",
          "y": "Landry2015_1",
          "yref": "y1"
         },
         {
          "font": {
           "color": "#000000"
          },
          "showarrow": false,
          "text": "14",
          "x": 2,
          "xref": "x1",
          "y": "Landry2015_1",
          "yref": "y1"
         },
         {
          "font": {
           "color": "#000000"
          },
          "showarrow": false,
          "text": "14",
          "x": 3,
          "xref": "x1",
          "y": "Landry2015_1",
          "yref": "y1"
         },
         {
          "font": {
           "color": "#000000"
          },
          "showarrow": false,
          "text": "14",
          "x": 4,
          "xref": "x1",
          "y": "Landry2015_1",
          "yref": "y1"
         },
         {
          "font": {
           "color": "#000000"
          },
          "showarrow": false,
          "text": "14",
          "x": 5,
          "xref": "x1",
          "y": "Landry2015_1",
          "yref": "y1"
         },
         {
          "font": {
           "color": "#000000"
          },
          "showarrow": false,
          "text": "0",
          "x": 6,
          "xref": "x1",
          "y": "Landry2015_1",
          "yref": "y1"
         },
         {
          "font": {
           "color": "#000000"
          },
          "showarrow": false,
          "text": "0",
          "x": 7,
          "xref": "x1",
          "y": "Landry2015_1",
          "yref": "y1"
         },
         {
          "font": {
           "color": "#000000"
          },
          "showarrow": false,
          "text": "14",
          "x": 8,
          "xref": "x1",
          "y": "Landry2015_1",
          "yref": "y1"
         },
         {
          "font": {
           "color": "#000000"
          },
          "showarrow": false,
          "text": "14",
          "x": 9,
          "xref": "x1",
          "y": "Landry2015_1",
          "yref": "y1"
         },
         {
          "font": {
           "color": "#000000"
          },
          "showarrow": false,
          "text": "14",
          "x": 10,
          "xref": "x1",
          "y": "Landry2015_1",
          "yref": "y1"
         },
         {
          "font": {
           "color": "#000000"
          },
          "showarrow": false,
          "text": "0",
          "x": 11,
          "xref": "x1",
          "y": "Landry2015_1",
          "yref": "y1"
         },
         {
          "font": {
           "color": "#000000"
          },
          "showarrow": false,
          "text": "0",
          "x": 12,
          "xref": "x1",
          "y": "Landry2015_1",
          "yref": "y1"
         },
         {
          "font": {
           "color": "#000000"
          },
          "showarrow": false,
          "text": "0",
          "x": 13,
          "xref": "x1",
          "y": "Landry2015_1",
          "yref": "y1"
         },
         {
          "font": {
           "color": "#000000"
          },
          "showarrow": false,
          "text": "14",
          "x": 14,
          "xref": "x1",
          "y": "Landry2015_1",
          "yref": "y1"
         },
         {
          "font": {
           "color": "#000000"
          },
          "showarrow": false,
          "text": "0",
          "x": 15,
          "xref": "x1",
          "y": "Landry2015_1",
          "yref": "y1"
         },
         {
          "font": {
           "color": "#000000"
          },
          "showarrow": false,
          "text": "0",
          "x": 0,
          "xref": "x1",
          "y": "Violon",
          "yref": "y1"
         },
         {
          "font": {
           "color": "#000000"
          },
          "showarrow": false,
          "text": "0",
          "x": 1,
          "xref": "x1",
          "y": "Violon",
          "yref": "y1"
         },
         {
          "font": {
           "color": "#000000"
          },
          "showarrow": false,
          "text": "9",
          "x": 2,
          "xref": "x1",
          "y": "Violon",
          "yref": "y1"
         },
         {
          "font": {
           "color": "#000000"
          },
          "showarrow": false,
          "text": "9",
          "x": 3,
          "xref": "x1",
          "y": "Violon",
          "yref": "y1"
         },
         {
          "font": {
           "color": "#000000"
          },
          "showarrow": false,
          "text": "9",
          "x": 4,
          "xref": "x1",
          "y": "Violon",
          "yref": "y1"
         },
         {
          "font": {
           "color": "#000000"
          },
          "showarrow": false,
          "text": "9",
          "x": 5,
          "xref": "x1",
          "y": "Violon",
          "yref": "y1"
         },
         {
          "font": {
           "color": "#000000"
          },
          "showarrow": false,
          "text": "0",
          "x": 6,
          "xref": "x1",
          "y": "Violon",
          "yref": "y1"
         },
         {
          "font": {
           "color": "#000000"
          },
          "showarrow": false,
          "text": "0",
          "x": 7,
          "xref": "x1",
          "y": "Violon",
          "yref": "y1"
         },
         {
          "font": {
           "color": "#000000"
          },
          "showarrow": false,
          "text": "8",
          "x": 8,
          "xref": "x1",
          "y": "Violon",
          "yref": "y1"
         },
         {
          "font": {
           "color": "#000000"
          },
          "showarrow": false,
          "text": "8",
          "x": 9,
          "xref": "x1",
          "y": "Violon",
          "yref": "y1"
         },
         {
          "font": {
           "color": "#000000"
          },
          "showarrow": false,
          "text": "8",
          "x": 10,
          "xref": "x1",
          "y": "Violon",
          "yref": "y1"
         },
         {
          "font": {
           "color": "#000000"
          },
          "showarrow": false,
          "text": "0",
          "x": 11,
          "xref": "x1",
          "y": "Violon",
          "yref": "y1"
         },
         {
          "font": {
           "color": "#000000"
          },
          "showarrow": false,
          "text": "0",
          "x": 12,
          "xref": "x1",
          "y": "Violon",
          "yref": "y1"
         },
         {
          "font": {
           "color": "#000000"
          },
          "showarrow": false,
          "text": "0",
          "x": 13,
          "xref": "x1",
          "y": "Violon",
          "yref": "y1"
         },
         {
          "font": {
           "color": "#000000"
          },
          "showarrow": false,
          "text": "0",
          "x": 14,
          "xref": "x1",
          "y": "Violon",
          "yref": "y1"
         },
         {
          "font": {
           "color": "#000000"
          },
          "showarrow": false,
          "text": "0",
          "x": 15,
          "xref": "x1",
          "y": "Violon",
          "yref": "y1"
         },
         {
          "font": {
           "color": "#000000"
          },
          "showarrow": false,
          "text": "22",
          "x": 0,
          "xref": "x1",
          "y": "Yoann_2015",
          "yref": "y1"
         },
         {
          "font": {
           "color": "#000000"
          },
          "showarrow": false,
          "text": "22",
          "x": 1,
          "xref": "x1",
          "y": "Yoann_2015",
          "yref": "y1"
         },
         {
          "font": {
           "color": "#000000"
          },
          "showarrow": false,
          "text": "22",
          "x": 2,
          "xref": "x1",
          "y": "Yoann_2015",
          "yref": "y1"
         },
         {
          "font": {
           "color": "#000000"
          },
          "showarrow": false,
          "text": "22",
          "x": 3,
          "xref": "x1",
          "y": "Yoann_2015",
          "yref": "y1"
         },
         {
          "font": {
           "color": "#000000"
          },
          "showarrow": false,
          "text": "22",
          "x": 4,
          "xref": "x1",
          "y": "Yoann_2015",
          "yref": "y1"
         },
         {
          "font": {
           "color": "#000000"
          },
          "showarrow": false,
          "text": "22",
          "x": 5,
          "xref": "x1",
          "y": "Yoann_2015",
          "yref": "y1"
         },
         {
          "font": {
           "color": "#000000"
          },
          "showarrow": false,
          "text": "22",
          "x": 6,
          "xref": "x1",
          "y": "Yoann_2015",
          "yref": "y1"
         },
         {
          "font": {
           "color": "#000000"
          },
          "showarrow": false,
          "text": "22",
          "x": 7,
          "xref": "x1",
          "y": "Yoann_2015",
          "yref": "y1"
         },
         {
          "font": {
           "color": "#000000"
          },
          "showarrow": false,
          "text": "22",
          "x": 8,
          "xref": "x1",
          "y": "Yoann_2015",
          "yref": "y1"
         },
         {
          "font": {
           "color": "#000000"
          },
          "showarrow": false,
          "text": "22",
          "x": 9,
          "xref": "x1",
          "y": "Yoann_2015",
          "yref": "y1"
         },
         {
          "font": {
           "color": "#000000"
          },
          "showarrow": false,
          "text": "22",
          "x": 10,
          "xref": "x1",
          "y": "Yoann_2015",
          "yref": "y1"
         },
         {
          "font": {
           "color": "#000000"
          },
          "showarrow": false,
          "text": "22",
          "x": 11,
          "xref": "x1",
          "y": "Yoann_2015",
          "yref": "y1"
         },
         {
          "font": {
           "color": "#000000"
          },
          "showarrow": false,
          "text": "22",
          "x": 12,
          "xref": "x1",
          "y": "Yoann_2015",
          "yref": "y1"
         },
         {
          "font": {
           "color": "#000000"
          },
          "showarrow": false,
          "text": "22",
          "x": 13,
          "xref": "x1",
          "y": "Yoann_2015",
          "yref": "y1"
         },
         {
          "font": {
           "color": "#000000"
          },
          "showarrow": false,
          "text": "22",
          "x": 14,
          "xref": "x1",
          "y": "Yoann_2015",
          "yref": "y1"
         },
         {
          "font": {
           "color": "#000000"
          },
          "showarrow": false,
          "text": "0",
          "x": 15,
          "xref": "x1",
          "y": "Yoann_2015",
          "yref": "y1"
         },
         {
          "font": {
           "color": "#000000"
          },
          "showarrow": false,
          "text": "21",
          "x": 0,
          "xref": "x1",
          "y": "Landry2013",
          "yref": "y1"
         },
         {
          "font": {
           "color": "#000000"
          },
          "showarrow": false,
          "text": "21",
          "x": 1,
          "xref": "x1",
          "y": "Landry2013",
          "yref": "y1"
         },
         {
          "font": {
           "color": "#000000"
          },
          "showarrow": false,
          "text": "21",
          "x": 2,
          "xref": "x1",
          "y": "Landry2013",
          "yref": "y1"
         },
         {
          "font": {
           "color": "#000000"
          },
          "showarrow": false,
          "text": "21",
          "x": 3,
          "xref": "x1",
          "y": "Landry2013",
          "yref": "y1"
         },
         {
          "font": {
           "color": "#000000"
          },
          "showarrow": false,
          "text": "21",
          "x": 4,
          "xref": "x1",
          "y": "Landry2013",
          "yref": "y1"
         },
         {
          "font": {
           "color": "#000000"
          },
          "showarrow": false,
          "text": "21",
          "x": 5,
          "xref": "x1",
          "y": "Landry2013",
          "yref": "y1"
         },
         {
          "font": {
           "color": "#000000"
          },
          "showarrow": false,
          "text": "21",
          "x": 6,
          "xref": "x1",
          "y": "Landry2013",
          "yref": "y1"
         },
         {
          "font": {
           "color": "#000000"
          },
          "showarrow": false,
          "text": "21",
          "x": 7,
          "xref": "x1",
          "y": "Landry2013",
          "yref": "y1"
         },
         {
          "font": {
           "color": "#000000"
          },
          "showarrow": false,
          "text": "0",
          "x": 8,
          "xref": "x1",
          "y": "Landry2013",
          "yref": "y1"
         },
         {
          "font": {
           "color": "#000000"
          },
          "showarrow": false,
          "text": "0",
          "x": 9,
          "xref": "x1",
          "y": "Landry2013",
          "yref": "y1"
         },
         {
          "font": {
           "color": "#000000"
          },
          "showarrow": false,
          "text": "0",
          "x": 10,
          "xref": "x1",
          "y": "Landry2013",
          "yref": "y1"
         },
         {
          "font": {
           "color": "#000000"
          },
          "showarrow": false,
          "text": "0",
          "x": 11,
          "xref": "x1",
          "y": "Landry2013",
          "yref": "y1"
         },
         {
          "font": {
           "color": "#000000"
          },
          "showarrow": false,
          "text": "0",
          "x": 12,
          "xref": "x1",
          "y": "Landry2013",
          "yref": "y1"
         },
         {
          "font": {
           "color": "#000000"
          },
          "showarrow": false,
          "text": "0",
          "x": 13,
          "xref": "x1",
          "y": "Landry2013",
          "yref": "y1"
         },
         {
          "font": {
           "color": "#000000"
          },
          "showarrow": false,
          "text": "21",
          "x": 14,
          "xref": "x1",
          "y": "Landry2013",
          "yref": "y1"
         },
         {
          "font": {
           "color": "#000000"
          },
          "showarrow": false,
          "text": "0",
          "x": 15,
          "xref": "x1",
          "y": "Landry2013",
          "yref": "y1"
         },
         {
          "font": {
           "color": "#000000"
          },
          "showarrow": false,
          "text": "18",
          "x": 0,
          "xref": "x1",
          "y": "Landry2012",
          "yref": "y1"
         },
         {
          "font": {
           "color": "#000000"
          },
          "showarrow": false,
          "text": "18",
          "x": 1,
          "xref": "x1",
          "y": "Landry2012",
          "yref": "y1"
         },
         {
          "font": {
           "color": "#000000"
          },
          "showarrow": false,
          "text": "18",
          "x": 2,
          "xref": "x1",
          "y": "Landry2012",
          "yref": "y1"
         },
         {
          "font": {
           "color": "#000000"
          },
          "showarrow": false,
          "text": "18",
          "x": 3,
          "xref": "x1",
          "y": "Landry2012",
          "yref": "y1"
         },
         {
          "font": {
           "color": "#000000"
          },
          "showarrow": false,
          "text": "18",
          "x": 4,
          "xref": "x1",
          "y": "Landry2012",
          "yref": "y1"
         },
         {
          "font": {
           "color": "#000000"
          },
          "showarrow": false,
          "text": "18",
          "x": 5,
          "xref": "x1",
          "y": "Landry2012",
          "yref": "y1"
         },
         {
          "font": {
           "color": "#000000"
          },
          "showarrow": false,
          "text": "18",
          "x": 6,
          "xref": "x1",
          "y": "Landry2012",
          "yref": "y1"
         },
         {
          "font": {
           "color": "#000000"
          },
          "showarrow": false,
          "text": "18",
          "x": 7,
          "xref": "x1",
          "y": "Landry2012",
          "yref": "y1"
         },
         {
          "font": {
           "color": "#000000"
          },
          "showarrow": false,
          "text": "0",
          "x": 8,
          "xref": "x1",
          "y": "Landry2012",
          "yref": "y1"
         },
         {
          "font": {
           "color": "#000000"
          },
          "showarrow": false,
          "text": "0",
          "x": 9,
          "xref": "x1",
          "y": "Landry2012",
          "yref": "y1"
         },
         {
          "font": {
           "color": "#000000"
          },
          "showarrow": false,
          "text": "0",
          "x": 10,
          "xref": "x1",
          "y": "Landry2012",
          "yref": "y1"
         },
         {
          "font": {
           "color": "#000000"
          },
          "showarrow": false,
          "text": "0",
          "x": 11,
          "xref": "x1",
          "y": "Landry2012",
          "yref": "y1"
         },
         {
          "font": {
           "color": "#000000"
          },
          "showarrow": false,
          "text": "0",
          "x": 12,
          "xref": "x1",
          "y": "Landry2012",
          "yref": "y1"
         },
         {
          "font": {
           "color": "#000000"
          },
          "showarrow": false,
          "text": "0",
          "x": 13,
          "xref": "x1",
          "y": "Landry2012",
          "yref": "y1"
         },
         {
          "font": {
           "color": "#000000"
          },
          "showarrow": false,
          "text": "0",
          "x": 14,
          "xref": "x1",
          "y": "Landry2012",
          "yref": "y1"
         },
         {
          "font": {
           "color": "#000000"
          },
          "showarrow": false,
          "text": "0",
          "x": 15,
          "xref": "x1",
          "y": "Landry2012",
          "yref": "y1"
         },
         {
          "font": {
           "color": "#000000"
          },
          "showarrow": false,
          "text": "16",
          "x": 0,
          "xref": "x1",
          "y": "Tennis",
          "yref": "y1"
         },
         {
          "font": {
           "color": "#000000"
          },
          "showarrow": false,
          "text": "0",
          "x": 1,
          "xref": "x1",
          "y": "Tennis",
          "yref": "y1"
         },
         {
          "font": {
           "color": "#000000"
          },
          "showarrow": false,
          "text": "16",
          "x": 2,
          "xref": "x1",
          "y": "Tennis",
          "yref": "y1"
         },
         {
          "font": {
           "color": "#000000"
          },
          "showarrow": false,
          "text": "16",
          "x": 3,
          "xref": "x1",
          "y": "Tennis",
          "yref": "y1"
         },
         {
          "font": {
           "color": "#000000"
          },
          "showarrow": false,
          "text": "16",
          "x": 4,
          "xref": "x1",
          "y": "Tennis",
          "yref": "y1"
         },
         {
          "font": {
           "color": "#000000"
          },
          "showarrow": false,
          "text": "16",
          "x": 5,
          "xref": "x1",
          "y": "Tennis",
          "yref": "y1"
         },
         {
          "font": {
           "color": "#000000"
          },
          "showarrow": false,
          "text": "16",
          "x": 6,
          "xref": "x1",
          "y": "Tennis",
          "yref": "y1"
         },
         {
          "font": {
           "color": "#000000"
          },
          "showarrow": false,
          "text": "0",
          "x": 7,
          "xref": "x1",
          "y": "Tennis",
          "yref": "y1"
         },
         {
          "font": {
           "color": "#000000"
          },
          "showarrow": false,
          "text": "14",
          "x": 8,
          "xref": "x1",
          "y": "Tennis",
          "yref": "y1"
         },
         {
          "font": {
           "color": "#000000"
          },
          "showarrow": false,
          "text": "14",
          "x": 9,
          "xref": "x1",
          "y": "Tennis",
          "yref": "y1"
         },
         {
          "font": {
           "color": "#000000"
          },
          "showarrow": false,
          "text": "14",
          "x": 10,
          "xref": "x1",
          "y": "Tennis",
          "yref": "y1"
         },
         {
          "font": {
           "color": "#000000"
          },
          "showarrow": false,
          "text": "0",
          "x": 11,
          "xref": "x1",
          "y": "Tennis",
          "yref": "y1"
         },
         {
          "font": {
           "color": "#000000"
          },
          "showarrow": false,
          "text": "0",
          "x": 12,
          "xref": "x1",
          "y": "Tennis",
          "yref": "y1"
         },
         {
          "font": {
           "color": "#000000"
          },
          "showarrow": false,
          "text": "16",
          "x": 13,
          "xref": "x1",
          "y": "Tennis",
          "yref": "y1"
         },
         {
          "font": {
           "color": "#000000"
          },
          "showarrow": false,
          "text": "0",
          "x": 14,
          "xref": "x1",
          "y": "Tennis",
          "yref": "y1"
         },
         {
          "font": {
           "color": "#000000"
          },
          "showarrow": false,
          "text": "16",
          "x": 15,
          "xref": "x1",
          "y": "Tennis",
          "yref": "y1"
         },
         {
          "font": {
           "color": "#000000"
          },
          "showarrow": false,
          "text": "16",
          "x": 0,
          "xref": "x1",
          "y": "Patrick_2013",
          "yref": "y1"
         },
         {
          "font": {
           "color": "#000000"
          },
          "showarrow": false,
          "text": "16",
          "x": 1,
          "xref": "x1",
          "y": "Patrick_2013",
          "yref": "y1"
         },
         {
          "font": {
           "color": "#000000"
          },
          "showarrow": false,
          "text": "16",
          "x": 2,
          "xref": "x1",
          "y": "Patrick_2013",
          "yref": "y1"
         },
         {
          "font": {
           "color": "#000000"
          },
          "showarrow": false,
          "text": "16",
          "x": 3,
          "xref": "x1",
          "y": "Patrick_2013",
          "yref": "y1"
         },
         {
          "font": {
           "color": "#000000"
          },
          "showarrow": false,
          "text": "16",
          "x": 4,
          "xref": "x1",
          "y": "Patrick_2013",
          "yref": "y1"
         },
         {
          "font": {
           "color": "#000000"
          },
          "showarrow": false,
          "text": "16",
          "x": 5,
          "xref": "x1",
          "y": "Patrick_2013",
          "yref": "y1"
         },
         {
          "font": {
           "color": "#000000"
          },
          "showarrow": false,
          "text": "16",
          "x": 6,
          "xref": "x1",
          "y": "Patrick_2013",
          "yref": "y1"
         },
         {
          "font": {
           "color": "#000000"
          },
          "showarrow": false,
          "text": "16",
          "x": 7,
          "xref": "x1",
          "y": "Patrick_2013",
          "yref": "y1"
         },
         {
          "font": {
           "color": "#000000"
          },
          "showarrow": false,
          "text": "16",
          "x": 8,
          "xref": "x1",
          "y": "Patrick_2013",
          "yref": "y1"
         },
         {
          "font": {
           "color": "#000000"
          },
          "showarrow": false,
          "text": "16",
          "x": 9,
          "xref": "x1",
          "y": "Patrick_2013",
          "yref": "y1"
         },
         {
          "font": {
           "color": "#000000"
          },
          "showarrow": false,
          "text": "16",
          "x": 10,
          "xref": "x1",
          "y": "Patrick_2013",
          "yref": "y1"
         },
         {
          "font": {
           "color": "#000000"
          },
          "showarrow": false,
          "text": "16",
          "x": 11,
          "xref": "x1",
          "y": "Patrick_2013",
          "yref": "y1"
         },
         {
          "font": {
           "color": "#000000"
          },
          "showarrow": false,
          "text": "16",
          "x": 12,
          "xref": "x1",
          "y": "Patrick_2013",
          "yref": "y1"
         },
         {
          "font": {
           "color": "#000000"
          },
          "showarrow": false,
          "text": "16",
          "x": 13,
          "xref": "x1",
          "y": "Patrick_2013",
          "yref": "y1"
         },
         {
          "font": {
           "color": "#000000"
          },
          "showarrow": false,
          "text": "16",
          "x": 14,
          "xref": "x1",
          "y": "Patrick_2013",
          "yref": "y1"
         },
         {
          "font": {
           "color": "#000000"
          },
          "showarrow": false,
          "text": "0",
          "x": 15,
          "xref": "x1",
          "y": "Patrick_2013",
          "yref": "y1"
         },
         {
          "font": {
           "color": "#000000"
          },
          "showarrow": false,
          "text": "10",
          "x": 0,
          "xref": "x1",
          "y": "Sylvain_2015",
          "yref": "y1"
         },
         {
          "font": {
           "color": "#000000"
          },
          "showarrow": false,
          "text": "10",
          "x": 1,
          "xref": "x1",
          "y": "Sylvain_2015",
          "yref": "y1"
         },
         {
          "font": {
           "color": "#000000"
          },
          "showarrow": false,
          "text": "10",
          "x": 2,
          "xref": "x1",
          "y": "Sylvain_2015",
          "yref": "y1"
         },
         {
          "font": {
           "color": "#000000"
          },
          "showarrow": false,
          "text": "10",
          "x": 3,
          "xref": "x1",
          "y": "Sylvain_2015",
          "yref": "y1"
         },
         {
          "font": {
           "color": "#000000"
          },
          "showarrow": false,
          "text": "10",
          "x": 4,
          "xref": "x1",
          "y": "Sylvain_2015",
          "yref": "y1"
         },
         {
          "font": {
           "color": "#000000"
          },
          "showarrow": false,
          "text": "10",
          "x": 5,
          "xref": "x1",
          "y": "Sylvain_2015",
          "yref": "y1"
         },
         {
          "font": {
           "color": "#000000"
          },
          "showarrow": false,
          "text": "10",
          "x": 6,
          "xref": "x1",
          "y": "Sylvain_2015",
          "yref": "y1"
         },
         {
          "font": {
           "color": "#000000"
          },
          "showarrow": false,
          "text": "10",
          "x": 7,
          "xref": "x1",
          "y": "Sylvain_2015",
          "yref": "y1"
         },
         {
          "font": {
           "color": "#000000"
          },
          "showarrow": false,
          "text": "10",
          "x": 8,
          "xref": "x1",
          "y": "Sylvain_2015",
          "yref": "y1"
         },
         {
          "font": {
           "color": "#000000"
          },
          "showarrow": false,
          "text": "10",
          "x": 9,
          "xref": "x1",
          "y": "Sylvain_2015",
          "yref": "y1"
         },
         {
          "font": {
           "color": "#000000"
          },
          "showarrow": false,
          "text": "10",
          "x": 10,
          "xref": "x1",
          "y": "Sylvain_2015",
          "yref": "y1"
         },
         {
          "font": {
           "color": "#000000"
          },
          "showarrow": false,
          "text": "10",
          "x": 11,
          "xref": "x1",
          "y": "Sylvain_2015",
          "yref": "y1"
         },
         {
          "font": {
           "color": "#000000"
          },
          "showarrow": false,
          "text": "10",
          "x": 12,
          "xref": "x1",
          "y": "Sylvain_2015",
          "yref": "y1"
         },
         {
          "font": {
           "color": "#000000"
          },
          "showarrow": false,
          "text": "10",
          "x": 13,
          "xref": "x1",
          "y": "Sylvain_2015",
          "yref": "y1"
         },
         {
          "font": {
           "color": "#000000"
          },
          "showarrow": false,
          "text": "10",
          "x": 14,
          "xref": "x1",
          "y": "Sylvain_2015",
          "yref": "y1"
         },
         {
          "font": {
           "color": "#000000"
          },
          "showarrow": false,
          "text": "0",
          "x": 15,
          "xref": "x1",
          "y": "Sylvain_2015",
          "yref": "y1"
         }
        ],
        "font": {
         "size": 14
        },
        "hovermode": "closest",
        "margin": {
         "b": 80,
         "l": 150,
         "pad": 0,
         "r": 80,
         "t": 80
        },
        "title": "Tests by dataset",
        "xaxis": {
         "dtick": 1,
         "gridcolor": "rgb(0, 0, 0)",
         "side": "bottom",
         "ticks": "",
         "title": "Tests"
        },
        "yaxis": {
         "autorange": "reversed",
         "dtick": 1,
         "ticks": "",
         "ticksuffix": "  ",
         "title": null
        }
       }
      },
      "text/html": [
       "<div id=\"b986bda7-d386-4a4b-8309-ec3b2ee3b4de\" style=\"height: 525px; width: 100%;\" class=\"plotly-graph-div\"></div><script type=\"text/javascript\">require([\"plotly\"], function(Plotly) { window.PLOTLYENV=window.PLOTLYENV || {};window.PLOTLYENV.BASE_URL=\"https://plot.ly\";Plotly.newPlot(\"b986bda7-d386-4a4b-8309-ec3b2ee3b4de\", [{\"type\": \"heatmap\", \"z\": [[13, 0, 14, 14, 14, 14, 0, 11, 13, 13, 12, 0, 0, 11, 0, 14], [11, 0, 11, 11, 11, 11, 0, 0, 0, 0, 0, 0, 0, 0, 11, 0], [14, 0, 14, 14, 14, 14, 0, 0, 14, 14, 14, 0, 0, 0, 14, 0], [0, 0, 9, 9, 9, 9, 0, 0, 8, 8, 8, 0, 0, 0, 0, 0], [22, 22, 22, 22, 22, 22, 22, 22, 22, 22, 22, 22, 22, 22, 22, 0], [21, 21, 21, 21, 21, 21, 21, 21, 0, 0, 0, 0, 0, 0, 21, 0], [18, 18, 18, 18, 18, 18, 18, 18, 0, 0, 0, 0, 0, 0, 0, 0], [16, 0, 16, 16, 16, 16, 16, 0, 14, 14, 14, 0, 0, 16, 0, 16], [16, 16, 16, 16, 16, 16, 16, 16, 16, 16, 16, 16, 16, 16, 16, 0], [10, 10, 10, 10, 10, 10, 10, 10, 10, 10, 10, 10, 10, 10, 10, 0]], \"x\": null, \"y\": [\"Landry2016\", \"Landry2015_2\", \"Landry2015_1\", \"Violon\", \"Yoann_2015\", \"Landry2013\", \"Landry2012\", \"Tennis\", \"Patrick_2013\", \"Sylvain_2015\"], \"colorscale\": \"YlGnBu\", \"showscale\": true, \"colorbar\": {\"title\": \"Count\", \"titleside\": \"right\"}}], {\"annotations\": [{\"text\": \"13\", \"x\": 0, \"y\": \"Landry2016\", \"xref\": \"x1\", \"yref\": \"y1\", \"font\": {\"color\": \"#000000\"}, \"showarrow\": false}, {\"text\": \"0\", \"x\": 1, \"y\": \"Landry2016\", \"xref\": \"x1\", \"yref\": \"y1\", \"font\": {\"color\": \"#000000\"}, \"showarrow\": false}, {\"text\": \"14\", \"x\": 2, \"y\": \"Landry2016\", \"xref\": \"x1\", \"yref\": \"y1\", \"font\": {\"color\": \"#000000\"}, \"showarrow\": false}, {\"text\": \"14\", \"x\": 3, \"y\": \"Landry2016\", \"xref\": \"x1\", \"yref\": \"y1\", \"font\": {\"color\": \"#000000\"}, \"showarrow\": false}, {\"text\": \"14\", \"x\": 4, \"y\": \"Landry2016\", \"xref\": \"x1\", \"yref\": \"y1\", \"font\": {\"color\": \"#000000\"}, \"showarrow\": false}, {\"text\": \"14\", \"x\": 5, \"y\": \"Landry2016\", \"xref\": \"x1\", \"yref\": \"y1\", \"font\": {\"color\": \"#000000\"}, \"showarrow\": false}, {\"text\": \"0\", \"x\": 6, \"y\": \"Landry2016\", \"xref\": \"x1\", \"yref\": \"y1\", \"font\": {\"color\": \"#000000\"}, \"showarrow\": false}, {\"text\": \"11\", \"x\": 7, \"y\": \"Landry2016\", \"xref\": \"x1\", \"yref\": \"y1\", \"font\": {\"color\": \"#000000\"}, \"showarrow\": false}, {\"text\": \"13\", \"x\": 8, \"y\": \"Landry2016\", \"xref\": \"x1\", \"yref\": \"y1\", \"font\": {\"color\": \"#000000\"}, \"showarrow\": false}, {\"text\": \"13\", \"x\": 9, \"y\": \"Landry2016\", \"xref\": \"x1\", \"yref\": \"y1\", \"font\": {\"color\": \"#000000\"}, \"showarrow\": false}, {\"text\": \"12\", \"x\": 10, \"y\": \"Landry2016\", \"xref\": \"x1\", \"yref\": \"y1\", \"font\": {\"color\": \"#000000\"}, \"showarrow\": false}, {\"text\": \"0\", \"x\": 11, \"y\": \"Landry2016\", \"xref\": \"x1\", \"yref\": \"y1\", \"font\": {\"color\": \"#000000\"}, \"showarrow\": false}, {\"text\": \"0\", \"x\": 12, \"y\": \"Landry2016\", \"xref\": \"x1\", \"yref\": \"y1\", \"font\": {\"color\": \"#000000\"}, \"showarrow\": false}, {\"text\": \"11\", \"x\": 13, \"y\": \"Landry2016\", \"xref\": \"x1\", \"yref\": \"y1\", \"font\": {\"color\": \"#000000\"}, \"showarrow\": false}, {\"text\": \"0\", \"x\": 14, \"y\": \"Landry2016\", \"xref\": \"x1\", \"yref\": \"y1\", \"font\": {\"color\": \"#000000\"}, \"showarrow\": false}, {\"text\": \"14\", \"x\": 15, \"y\": \"Landry2016\", \"xref\": \"x1\", \"yref\": \"y1\", \"font\": {\"color\": \"#000000\"}, \"showarrow\": false}, {\"text\": \"11\", \"x\": 0, \"y\": \"Landry2015_2\", \"xref\": \"x1\", \"yref\": \"y1\", \"font\": {\"color\": \"#000000\"}, \"showarrow\": false}, {\"text\": \"0\", \"x\": 1, \"y\": \"Landry2015_2\", \"xref\": \"x1\", \"yref\": \"y1\", \"font\": {\"color\": \"#000000\"}, \"showarrow\": false}, {\"text\": \"11\", \"x\": 2, \"y\": \"Landry2015_2\", \"xref\": \"x1\", \"yref\": \"y1\", \"font\": {\"color\": \"#000000\"}, \"showarrow\": false}, {\"text\": \"11\", \"x\": 3, \"y\": \"Landry2015_2\", \"xref\": \"x1\", \"yref\": \"y1\", \"font\": {\"color\": \"#000000\"}, \"showarrow\": false}, {\"text\": \"11\", \"x\": 4, \"y\": \"Landry2015_2\", \"xref\": \"x1\", \"yref\": \"y1\", \"font\": {\"color\": \"#000000\"}, \"showarrow\": false}, {\"text\": \"11\", \"x\": 5, \"y\": \"Landry2015_2\", \"xref\": \"x1\", \"yref\": \"y1\", \"font\": {\"color\": \"#000000\"}, \"showarrow\": false}, {\"text\": \"0\", \"x\": 6, \"y\": \"Landry2015_2\", \"xref\": \"x1\", \"yref\": \"y1\", \"font\": {\"color\": \"#000000\"}, \"showarrow\": false}, {\"text\": \"0\", \"x\": 7, \"y\": \"Landry2015_2\", \"xref\": \"x1\", \"yref\": \"y1\", \"font\": {\"color\": \"#000000\"}, \"showarrow\": false}, {\"text\": \"0\", \"x\": 8, \"y\": \"Landry2015_2\", \"xref\": \"x1\", \"yref\": \"y1\", \"font\": {\"color\": \"#000000\"}, \"showarrow\": false}, {\"text\": \"0\", \"x\": 9, \"y\": \"Landry2015_2\", \"xref\": \"x1\", \"yref\": \"y1\", \"font\": {\"color\": \"#000000\"}, \"showarrow\": false}, {\"text\": \"0\", \"x\": 10, \"y\": \"Landry2015_2\", \"xref\": \"x1\", \"yref\": \"y1\", \"font\": {\"color\": \"#000000\"}, \"showarrow\": false}, {\"text\": \"0\", \"x\": 11, \"y\": \"Landry2015_2\", \"xref\": \"x1\", \"yref\": \"y1\", \"font\": {\"color\": \"#000000\"}, \"showarrow\": false}, {\"text\": \"0\", \"x\": 12, \"y\": \"Landry2015_2\", \"xref\": \"x1\", \"yref\": \"y1\", \"font\": {\"color\": \"#000000\"}, \"showarrow\": false}, {\"text\": \"0\", \"x\": 13, \"y\": \"Landry2015_2\", \"xref\": \"x1\", \"yref\": \"y1\", \"font\": {\"color\": \"#000000\"}, \"showarrow\": false}, {\"text\": \"11\", \"x\": 14, \"y\": \"Landry2015_2\", \"xref\": \"x1\", \"yref\": \"y1\", \"font\": {\"color\": \"#000000\"}, \"showarrow\": false}, {\"text\": \"0\", \"x\": 15, \"y\": \"Landry2015_2\", \"xref\": \"x1\", \"yref\": \"y1\", \"font\": {\"color\": \"#000000\"}, \"showarrow\": false}, {\"text\": \"14\", \"x\": 0, \"y\": \"Landry2015_1\", \"xref\": \"x1\", \"yref\": \"y1\", \"font\": {\"color\": \"#000000\"}, \"showarrow\": false}, {\"text\": \"0\", \"x\": 1, \"y\": \"Landry2015_1\", \"xref\": \"x1\", \"yref\": \"y1\", \"font\": {\"color\": \"#000000\"}, \"showarrow\": false}, {\"text\": \"14\", \"x\": 2, \"y\": \"Landry2015_1\", \"xref\": \"x1\", \"yref\": \"y1\", \"font\": {\"color\": \"#000000\"}, \"showarrow\": false}, {\"text\": \"14\", \"x\": 3, \"y\": \"Landry2015_1\", \"xref\": \"x1\", \"yref\": \"y1\", \"font\": {\"color\": \"#000000\"}, \"showarrow\": false}, {\"text\": \"14\", \"x\": 4, \"y\": \"Landry2015_1\", \"xref\": \"x1\", \"yref\": \"y1\", \"font\": {\"color\": \"#000000\"}, \"showarrow\": false}, {\"text\": \"14\", \"x\": 5, \"y\": \"Landry2015_1\", \"xref\": \"x1\", \"yref\": \"y1\", \"font\": {\"color\": \"#000000\"}, \"showarrow\": false}, {\"text\": \"0\", \"x\": 6, \"y\": \"Landry2015_1\", \"xref\": \"x1\", \"yref\": \"y1\", \"font\": {\"color\": \"#000000\"}, \"showarrow\": false}, {\"text\": \"0\", \"x\": 7, \"y\": \"Landry2015_1\", \"xref\": \"x1\", \"yref\": \"y1\", \"font\": {\"color\": \"#000000\"}, \"showarrow\": false}, {\"text\": \"14\", \"x\": 8, \"y\": \"Landry2015_1\", \"xref\": \"x1\", \"yref\": \"y1\", \"font\": {\"color\": \"#000000\"}, \"showarrow\": false}, {\"text\": \"14\", \"x\": 9, \"y\": \"Landry2015_1\", \"xref\": \"x1\", \"yref\": \"y1\", \"font\": {\"color\": \"#000000\"}, \"showarrow\": false}, {\"text\": \"14\", \"x\": 10, \"y\": \"Landry2015_1\", \"xref\": \"x1\", \"yref\": \"y1\", \"font\": {\"color\": \"#000000\"}, \"showarrow\": false}, {\"text\": \"0\", \"x\": 11, \"y\": \"Landry2015_1\", \"xref\": \"x1\", \"yref\": \"y1\", \"font\": {\"color\": \"#000000\"}, \"showarrow\": false}, {\"text\": \"0\", \"x\": 12, \"y\": \"Landry2015_1\", \"xref\": \"x1\", \"yref\": \"y1\", \"font\": {\"color\": \"#000000\"}, \"showarrow\": false}, {\"text\": \"0\", \"x\": 13, \"y\": \"Landry2015_1\", \"xref\": \"x1\", \"yref\": \"y1\", \"font\": {\"color\": \"#000000\"}, \"showarrow\": false}, {\"text\": \"14\", \"x\": 14, \"y\": \"Landry2015_1\", \"xref\": \"x1\", \"yref\": \"y1\", \"font\": {\"color\": \"#000000\"}, \"showarrow\": false}, {\"text\": \"0\", \"x\": 15, \"y\": \"Landry2015_1\", \"xref\": \"x1\", \"yref\": \"y1\", \"font\": {\"color\": \"#000000\"}, \"showarrow\": false}, {\"text\": \"0\", \"x\": 0, \"y\": \"Violon\", \"xref\": \"x1\", \"yref\": \"y1\", \"font\": {\"color\": \"#000000\"}, \"showarrow\": false}, {\"text\": \"0\", \"x\": 1, \"y\": \"Violon\", \"xref\": \"x1\", \"yref\": \"y1\", \"font\": {\"color\": \"#000000\"}, \"showarrow\": false}, {\"text\": \"9\", \"x\": 2, \"y\": \"Violon\", \"xref\": \"x1\", \"yref\": \"y1\", \"font\": {\"color\": \"#000000\"}, \"showarrow\": false}, {\"text\": \"9\", \"x\": 3, \"y\": \"Violon\", \"xref\": \"x1\", \"yref\": \"y1\", \"font\": {\"color\": \"#000000\"}, \"showarrow\": false}, {\"text\": \"9\", \"x\": 4, \"y\": \"Violon\", \"xref\": \"x1\", \"yref\": \"y1\", \"font\": {\"color\": \"#000000\"}, \"showarrow\": false}, {\"text\": \"9\", \"x\": 5, \"y\": \"Violon\", \"xref\": \"x1\", \"yref\": \"y1\", \"font\": {\"color\": \"#000000\"}, \"showarrow\": false}, {\"text\": \"0\", \"x\": 6, \"y\": \"Violon\", \"xref\": \"x1\", \"yref\": \"y1\", \"font\": {\"color\": \"#000000\"}, \"showarrow\": false}, {\"text\": \"0\", \"x\": 7, \"y\": \"Violon\", \"xref\": \"x1\", \"yref\": \"y1\", \"font\": {\"color\": \"#000000\"}, \"showarrow\": false}, {\"text\": \"8\", \"x\": 8, \"y\": \"Violon\", \"xref\": \"x1\", \"yref\": \"y1\", \"font\": {\"color\": \"#000000\"}, \"showarrow\": false}, {\"text\": \"8\", \"x\": 9, \"y\": \"Violon\", \"xref\": \"x1\", \"yref\": \"y1\", \"font\": {\"color\": \"#000000\"}, \"showarrow\": false}, {\"text\": \"8\", \"x\": 10, \"y\": \"Violon\", \"xref\": \"x1\", \"yref\": \"y1\", \"font\": {\"color\": \"#000000\"}, \"showarrow\": false}, {\"text\": \"0\", \"x\": 11, \"y\": \"Violon\", \"xref\": \"x1\", \"yref\": \"y1\", \"font\": {\"color\": \"#000000\"}, \"showarrow\": false}, {\"text\": \"0\", \"x\": 12, \"y\": \"Violon\", \"xref\": \"x1\", \"yref\": \"y1\", \"font\": {\"color\": \"#000000\"}, \"showarrow\": false}, {\"text\": \"0\", \"x\": 13, \"y\": \"Violon\", \"xref\": \"x1\", \"yref\": \"y1\", \"font\": {\"color\": \"#000000\"}, \"showarrow\": false}, {\"text\": \"0\", \"x\": 14, \"y\": \"Violon\", \"xref\": \"x1\", \"yref\": \"y1\", \"font\": {\"color\": \"#000000\"}, \"showarrow\": false}, {\"text\": \"0\", \"x\": 15, \"y\": \"Violon\", \"xref\": \"x1\", \"yref\": \"y1\", \"font\": {\"color\": \"#000000\"}, \"showarrow\": false}, {\"text\": \"22\", \"x\": 0, \"y\": \"Yoann_2015\", \"xref\": \"x1\", \"yref\": \"y1\", \"font\": {\"color\": \"#000000\"}, \"showarrow\": false}, {\"text\": \"22\", \"x\": 1, \"y\": \"Yoann_2015\", \"xref\": \"x1\", \"yref\": \"y1\", \"font\": {\"color\": \"#000000\"}, \"showarrow\": false}, {\"text\": \"22\", \"x\": 2, \"y\": \"Yoann_2015\", \"xref\": \"x1\", \"yref\": \"y1\", \"font\": {\"color\": \"#000000\"}, \"showarrow\": false}, {\"text\": \"22\", \"x\": 3, \"y\": \"Yoann_2015\", \"xref\": \"x1\", \"yref\": \"y1\", \"font\": {\"color\": \"#000000\"}, \"showarrow\": false}, {\"text\": \"22\", \"x\": 4, \"y\": \"Yoann_2015\", \"xref\": \"x1\", \"yref\": \"y1\", \"font\": {\"color\": \"#000000\"}, \"showarrow\": false}, {\"text\": \"22\", \"x\": 5, \"y\": \"Yoann_2015\", \"xref\": \"x1\", \"yref\": \"y1\", \"font\": {\"color\": \"#000000\"}, \"showarrow\": false}, {\"text\": \"22\", \"x\": 6, \"y\": \"Yoann_2015\", \"xref\": \"x1\", \"yref\": \"y1\", \"font\": {\"color\": \"#000000\"}, \"showarrow\": false}, {\"text\": \"22\", \"x\": 7, \"y\": \"Yoann_2015\", \"xref\": \"x1\", \"yref\": \"y1\", \"font\": {\"color\": \"#000000\"}, \"showarrow\": false}, {\"text\": \"22\", \"x\": 8, \"y\": \"Yoann_2015\", \"xref\": \"x1\", \"yref\": \"y1\", \"font\": {\"color\": \"#000000\"}, \"showarrow\": false}, {\"text\": \"22\", \"x\": 9, \"y\": \"Yoann_2015\", \"xref\": \"x1\", \"yref\": \"y1\", \"font\": {\"color\": \"#000000\"}, \"showarrow\": false}, {\"text\": \"22\", \"x\": 10, \"y\": \"Yoann_2015\", \"xref\": \"x1\", \"yref\": \"y1\", \"font\": {\"color\": \"#000000\"}, \"showarrow\": false}, {\"text\": \"22\", \"x\": 11, \"y\": \"Yoann_2015\", \"xref\": \"x1\", \"yref\": \"y1\", \"font\": {\"color\": \"#000000\"}, \"showarrow\": false}, {\"text\": \"22\", \"x\": 12, \"y\": \"Yoann_2015\", \"xref\": \"x1\", \"yref\": \"y1\", \"font\": {\"color\": \"#000000\"}, \"showarrow\": false}, {\"text\": \"22\", \"x\": 13, \"y\": \"Yoann_2015\", \"xref\": \"x1\", \"yref\": \"y1\", \"font\": {\"color\": \"#000000\"}, \"showarrow\": false}, {\"text\": \"22\", \"x\": 14, \"y\": \"Yoann_2015\", \"xref\": \"x1\", \"yref\": \"y1\", \"font\": {\"color\": \"#000000\"}, \"showarrow\": false}, {\"text\": \"0\", \"x\": 15, \"y\": \"Yoann_2015\", \"xref\": \"x1\", \"yref\": \"y1\", \"font\": {\"color\": \"#000000\"}, \"showarrow\": false}, {\"text\": \"21\", \"x\": 0, \"y\": \"Landry2013\", \"xref\": \"x1\", \"yref\": \"y1\", \"font\": {\"color\": \"#000000\"}, \"showarrow\": false}, {\"text\": \"21\", \"x\": 1, \"y\": \"Landry2013\", \"xref\": \"x1\", \"yref\": \"y1\", \"font\": {\"color\": \"#000000\"}, \"showarrow\": false}, {\"text\": \"21\", \"x\": 2, \"y\": \"Landry2013\", \"xref\": \"x1\", \"yref\": \"y1\", \"font\": {\"color\": \"#000000\"}, \"showarrow\": false}, {\"text\": \"21\", \"x\": 3, \"y\": \"Landry2013\", \"xref\": \"x1\", \"yref\": \"y1\", \"font\": {\"color\": \"#000000\"}, \"showarrow\": false}, {\"text\": \"21\", \"x\": 4, \"y\": \"Landry2013\", \"xref\": \"x1\", \"yref\": \"y1\", \"font\": {\"color\": \"#000000\"}, \"showarrow\": false}, {\"text\": \"21\", \"x\": 5, \"y\": \"Landry2013\", \"xref\": \"x1\", \"yref\": \"y1\", \"font\": {\"color\": \"#000000\"}, \"showarrow\": false}, {\"text\": \"21\", \"x\": 6, \"y\": \"Landry2013\", \"xref\": \"x1\", \"yref\": \"y1\", \"font\": {\"color\": \"#000000\"}, \"showarrow\": false}, {\"text\": \"21\", \"x\": 7, \"y\": \"Landry2013\", \"xref\": \"x1\", \"yref\": \"y1\", \"font\": {\"color\": \"#000000\"}, \"showarrow\": false}, {\"text\": \"0\", \"x\": 8, \"y\": \"Landry2013\", \"xref\": \"x1\", \"yref\": \"y1\", \"font\": {\"color\": \"#000000\"}, \"showarrow\": false}, {\"text\": \"0\", \"x\": 9, \"y\": \"Landry2013\", \"xref\": \"x1\", \"yref\": \"y1\", \"font\": {\"color\": \"#000000\"}, \"showarrow\": false}, {\"text\": \"0\", \"x\": 10, \"y\": \"Landry2013\", \"xref\": \"x1\", \"yref\": \"y1\", \"font\": {\"color\": \"#000000\"}, \"showarrow\": false}, {\"text\": \"0\", \"x\": 11, \"y\": \"Landry2013\", \"xref\": \"x1\", \"yref\": \"y1\", \"font\": {\"color\": \"#000000\"}, \"showarrow\": false}, {\"text\": \"0\", \"x\": 12, \"y\": \"Landry2013\", \"xref\": \"x1\", \"yref\": \"y1\", \"font\": {\"color\": \"#000000\"}, \"showarrow\": false}, {\"text\": \"0\", \"x\": 13, \"y\": \"Landry2013\", \"xref\": \"x1\", \"yref\": \"y1\", \"font\": {\"color\": \"#000000\"}, \"showarrow\": false}, {\"text\": \"21\", \"x\": 14, \"y\": \"Landry2013\", \"xref\": \"x1\", \"yref\": \"y1\", \"font\": {\"color\": \"#000000\"}, \"showarrow\": false}, {\"text\": \"0\", \"x\": 15, \"y\": \"Landry2013\", \"xref\": \"x1\", \"yref\": \"y1\", \"font\": {\"color\": \"#000000\"}, \"showarrow\": false}, {\"text\": \"18\", \"x\": 0, \"y\": \"Landry2012\", \"xref\": \"x1\", \"yref\": \"y1\", \"font\": {\"color\": \"#000000\"}, \"showarrow\": false}, {\"text\": \"18\", \"x\": 1, \"y\": \"Landry2012\", \"xref\": \"x1\", \"yref\": \"y1\", \"font\": {\"color\": \"#000000\"}, \"showarrow\": false}, {\"text\": \"18\", \"x\": 2, \"y\": \"Landry2012\", \"xref\": \"x1\", \"yref\": \"y1\", \"font\": {\"color\": \"#000000\"}, \"showarrow\": false}, {\"text\": \"18\", \"x\": 3, \"y\": \"Landry2012\", \"xref\": \"x1\", \"yref\": \"y1\", \"font\": {\"color\": \"#000000\"}, \"showarrow\": false}, {\"text\": \"18\", \"x\": 4, \"y\": \"Landry2012\", \"xref\": \"x1\", \"yref\": \"y1\", \"font\": {\"color\": \"#000000\"}, \"showarrow\": false}, {\"text\": \"18\", \"x\": 5, \"y\": \"Landry2012\", \"xref\": \"x1\", \"yref\": \"y1\", \"font\": {\"color\": \"#000000\"}, \"showarrow\": false}, {\"text\": \"18\", \"x\": 6, \"y\": \"Landry2012\", \"xref\": \"x1\", \"yref\": \"y1\", \"font\": {\"color\": \"#000000\"}, \"showarrow\": false}, {\"text\": \"18\", \"x\": 7, \"y\": \"Landry2012\", \"xref\": \"x1\", \"yref\": \"y1\", \"font\": {\"color\": \"#000000\"}, \"showarrow\": false}, {\"text\": \"0\", \"x\": 8, \"y\": \"Landry2012\", \"xref\": \"x1\", \"yref\": \"y1\", \"font\": {\"color\": \"#000000\"}, \"showarrow\": false}, {\"text\": \"0\", \"x\": 9, \"y\": \"Landry2012\", \"xref\": \"x1\", \"yref\": \"y1\", \"font\": {\"color\": \"#000000\"}, \"showarrow\": false}, {\"text\": \"0\", \"x\": 10, \"y\": \"Landry2012\", \"xref\": \"x1\", \"yref\": \"y1\", \"font\": {\"color\": \"#000000\"}, \"showarrow\": false}, {\"text\": \"0\", \"x\": 11, \"y\": \"Landry2012\", \"xref\": \"x1\", \"yref\": \"y1\", \"font\": {\"color\": \"#000000\"}, \"showarrow\": false}, {\"text\": \"0\", \"x\": 12, \"y\": \"Landry2012\", \"xref\": \"x1\", \"yref\": \"y1\", \"font\": {\"color\": \"#000000\"}, \"showarrow\": false}, {\"text\": \"0\", \"x\": 13, \"y\": \"Landry2012\", \"xref\": \"x1\", \"yref\": \"y1\", \"font\": {\"color\": \"#000000\"}, \"showarrow\": false}, {\"text\": \"0\", \"x\": 14, \"y\": \"Landry2012\", \"xref\": \"x1\", \"yref\": \"y1\", \"font\": {\"color\": \"#000000\"}, \"showarrow\": false}, {\"text\": \"0\", \"x\": 15, \"y\": \"Landry2012\", \"xref\": \"x1\", \"yref\": \"y1\", \"font\": {\"color\": \"#000000\"}, \"showarrow\": false}, {\"text\": \"16\", \"x\": 0, \"y\": \"Tennis\", \"xref\": \"x1\", \"yref\": \"y1\", \"font\": {\"color\": \"#000000\"}, \"showarrow\": false}, {\"text\": \"0\", \"x\": 1, \"y\": \"Tennis\", \"xref\": \"x1\", \"yref\": \"y1\", \"font\": {\"color\": \"#000000\"}, \"showarrow\": false}, {\"text\": \"16\", \"x\": 2, \"y\": \"Tennis\", \"xref\": \"x1\", \"yref\": \"y1\", \"font\": {\"color\": \"#000000\"}, \"showarrow\": false}, {\"text\": \"16\", \"x\": 3, \"y\": \"Tennis\", \"xref\": \"x1\", \"yref\": \"y1\", \"font\": {\"color\": \"#000000\"}, \"showarrow\": false}, {\"text\": \"16\", \"x\": 4, \"y\": \"Tennis\", \"xref\": \"x1\", \"yref\": \"y1\", \"font\": {\"color\": \"#000000\"}, \"showarrow\": false}, {\"text\": \"16\", \"x\": 5, \"y\": \"Tennis\", \"xref\": \"x1\", \"yref\": \"y1\", \"font\": {\"color\": \"#000000\"}, \"showarrow\": false}, {\"text\": \"16\", \"x\": 6, \"y\": \"Tennis\", \"xref\": \"x1\", \"yref\": \"y1\", \"font\": {\"color\": \"#000000\"}, \"showarrow\": false}, {\"text\": \"0\", \"x\": 7, \"y\": \"Tennis\", \"xref\": \"x1\", \"yref\": \"y1\", \"font\": {\"color\": \"#000000\"}, \"showarrow\": false}, {\"text\": \"14\", \"x\": 8, \"y\": \"Tennis\", \"xref\": \"x1\", \"yref\": \"y1\", \"font\": {\"color\": \"#000000\"}, \"showarrow\": false}, {\"text\": \"14\", \"x\": 9, \"y\": \"Tennis\", \"xref\": \"x1\", \"yref\": \"y1\", \"font\": {\"color\": \"#000000\"}, \"showarrow\": false}, {\"text\": \"14\", \"x\": 10, \"y\": \"Tennis\", \"xref\": \"x1\", \"yref\": \"y1\", \"font\": {\"color\": \"#000000\"}, \"showarrow\": false}, {\"text\": \"0\", \"x\": 11, \"y\": \"Tennis\", \"xref\": \"x1\", \"yref\": \"y1\", \"font\": {\"color\": \"#000000\"}, \"showarrow\": false}, {\"text\": \"0\", \"x\": 12, \"y\": \"Tennis\", \"xref\": \"x1\", \"yref\": \"y1\", \"font\": {\"color\": \"#000000\"}, \"showarrow\": false}, {\"text\": \"16\", \"x\": 13, \"y\": \"Tennis\", \"xref\": \"x1\", \"yref\": \"y1\", \"font\": {\"color\": \"#000000\"}, \"showarrow\": false}, {\"text\": \"0\", \"x\": 14, \"y\": \"Tennis\", \"xref\": \"x1\", \"yref\": \"y1\", \"font\": {\"color\": \"#000000\"}, \"showarrow\": false}, {\"text\": \"16\", \"x\": 15, \"y\": \"Tennis\", \"xref\": \"x1\", \"yref\": \"y1\", \"font\": {\"color\": \"#000000\"}, \"showarrow\": false}, {\"text\": \"16\", \"x\": 0, \"y\": \"Patrick_2013\", \"xref\": \"x1\", \"yref\": \"y1\", \"font\": {\"color\": \"#000000\"}, \"showarrow\": false}, {\"text\": \"16\", \"x\": 1, \"y\": \"Patrick_2013\", \"xref\": \"x1\", \"yref\": \"y1\", \"font\": {\"color\": \"#000000\"}, \"showarrow\": false}, {\"text\": \"16\", \"x\": 2, \"y\": \"Patrick_2013\", \"xref\": \"x1\", \"yref\": \"y1\", \"font\": {\"color\": \"#000000\"}, \"showarrow\": false}, {\"text\": \"16\", \"x\": 3, \"y\": \"Patrick_2013\", \"xref\": \"x1\", \"yref\": \"y1\", \"font\": {\"color\": \"#000000\"}, \"showarrow\": false}, {\"text\": \"16\", \"x\": 4, \"y\": \"Patrick_2013\", \"xref\": \"x1\", \"yref\": \"y1\", \"font\": {\"color\": \"#000000\"}, \"showarrow\": false}, {\"text\": \"16\", \"x\": 5, \"y\": \"Patrick_2013\", \"xref\": \"x1\", \"yref\": \"y1\", \"font\": {\"color\": \"#000000\"}, \"showarrow\": false}, {\"text\": \"16\", \"x\": 6, \"y\": \"Patrick_2013\", \"xref\": \"x1\", \"yref\": \"y1\", \"font\": {\"color\": \"#000000\"}, \"showarrow\": false}, {\"text\": \"16\", \"x\": 7, \"y\": \"Patrick_2013\", \"xref\": \"x1\", \"yref\": \"y1\", \"font\": {\"color\": \"#000000\"}, \"showarrow\": false}, {\"text\": \"16\", \"x\": 8, \"y\": \"Patrick_2013\", \"xref\": \"x1\", \"yref\": \"y1\", \"font\": {\"color\": \"#000000\"}, \"showarrow\": false}, {\"text\": \"16\", \"x\": 9, \"y\": \"Patrick_2013\", \"xref\": \"x1\", \"yref\": \"y1\", \"font\": {\"color\": \"#000000\"}, \"showarrow\": false}, {\"text\": \"16\", \"x\": 10, \"y\": \"Patrick_2013\", \"xref\": \"x1\", \"yref\": \"y1\", \"font\": {\"color\": \"#000000\"}, \"showarrow\": false}, {\"text\": \"16\", \"x\": 11, \"y\": \"Patrick_2013\", \"xref\": \"x1\", \"yref\": \"y1\", \"font\": {\"color\": \"#000000\"}, \"showarrow\": false}, {\"text\": \"16\", \"x\": 12, \"y\": \"Patrick_2013\", \"xref\": \"x1\", \"yref\": \"y1\", \"font\": {\"color\": \"#000000\"}, \"showarrow\": false}, {\"text\": \"16\", \"x\": 13, \"y\": \"Patrick_2013\", \"xref\": \"x1\", \"yref\": \"y1\", \"font\": {\"color\": \"#000000\"}, \"showarrow\": false}, {\"text\": \"16\", \"x\": 14, \"y\": \"Patrick_2013\", \"xref\": \"x1\", \"yref\": \"y1\", \"font\": {\"color\": \"#000000\"}, \"showarrow\": false}, {\"text\": \"0\", \"x\": 15, \"y\": \"Patrick_2013\", \"xref\": \"x1\", \"yref\": \"y1\", \"font\": {\"color\": \"#000000\"}, \"showarrow\": false}, {\"text\": \"10\", \"x\": 0, \"y\": \"Sylvain_2015\", \"xref\": \"x1\", \"yref\": \"y1\", \"font\": {\"color\": \"#000000\"}, \"showarrow\": false}, {\"text\": \"10\", \"x\": 1, \"y\": \"Sylvain_2015\", \"xref\": \"x1\", \"yref\": \"y1\", \"font\": {\"color\": \"#000000\"}, \"showarrow\": false}, {\"text\": \"10\", \"x\": 2, \"y\": \"Sylvain_2015\", \"xref\": \"x1\", \"yref\": \"y1\", \"font\": {\"color\": \"#000000\"}, \"showarrow\": false}, {\"text\": \"10\", \"x\": 3, \"y\": \"Sylvain_2015\", \"xref\": \"x1\", \"yref\": \"y1\", \"font\": {\"color\": \"#000000\"}, \"showarrow\": false}, {\"text\": \"10\", \"x\": 4, \"y\": \"Sylvain_2015\", \"xref\": \"x1\", \"yref\": \"y1\", \"font\": {\"color\": \"#000000\"}, \"showarrow\": false}, {\"text\": \"10\", \"x\": 5, \"y\": \"Sylvain_2015\", \"xref\": \"x1\", \"yref\": \"y1\", \"font\": {\"color\": \"#000000\"}, \"showarrow\": false}, {\"text\": \"10\", \"x\": 6, \"y\": \"Sylvain_2015\", \"xref\": \"x1\", \"yref\": \"y1\", \"font\": {\"color\": \"#000000\"}, \"showarrow\": false}, {\"text\": \"10\", \"x\": 7, \"y\": \"Sylvain_2015\", \"xref\": \"x1\", \"yref\": \"y1\", \"font\": {\"color\": \"#000000\"}, \"showarrow\": false}, {\"text\": \"10\", \"x\": 8, \"y\": \"Sylvain_2015\", \"xref\": \"x1\", \"yref\": \"y1\", \"font\": {\"color\": \"#000000\"}, \"showarrow\": false}, {\"text\": \"10\", \"x\": 9, \"y\": \"Sylvain_2015\", \"xref\": \"x1\", \"yref\": \"y1\", \"font\": {\"color\": \"#000000\"}, \"showarrow\": false}, {\"text\": \"10\", \"x\": 10, \"y\": \"Sylvain_2015\", \"xref\": \"x1\", \"yref\": \"y1\", \"font\": {\"color\": \"#000000\"}, \"showarrow\": false}, {\"text\": \"10\", \"x\": 11, \"y\": \"Sylvain_2015\", \"xref\": \"x1\", \"yref\": \"y1\", \"font\": {\"color\": \"#000000\"}, \"showarrow\": false}, {\"text\": \"10\", \"x\": 12, \"y\": \"Sylvain_2015\", \"xref\": \"x1\", \"yref\": \"y1\", \"font\": {\"color\": \"#000000\"}, \"showarrow\": false}, {\"text\": \"10\", \"x\": 13, \"y\": \"Sylvain_2015\", \"xref\": \"x1\", \"yref\": \"y1\", \"font\": {\"color\": \"#000000\"}, \"showarrow\": false}, {\"text\": \"10\", \"x\": 14, \"y\": \"Sylvain_2015\", \"xref\": \"x1\", \"yref\": \"y1\", \"font\": {\"color\": \"#000000\"}, \"showarrow\": false}, {\"text\": \"0\", \"x\": 15, \"y\": \"Sylvain_2015\", \"xref\": \"x1\", \"yref\": \"y1\", \"font\": {\"color\": \"#000000\"}, \"showarrow\": false}], \"xaxis\": {\"ticks\": \"\", \"dtick\": 1, \"side\": \"bottom\", \"gridcolor\": \"rgb(0, 0, 0)\", \"title\": \"Tests\"}, \"yaxis\": {\"ticks\": \"\", \"dtick\": 1, \"ticksuffix\": \"  \", \"title\": null, \"autorange\": \"reversed\"}, \"hovermode\": \"closest\", \"font\": {\"size\": 14}, \"title\": \"Tests by dataset\", \"margin\": {\"t\": 80, \"b\": 80, \"l\": 150, \"r\": 80, \"pad\": 0}}, {\"showLink\": true, \"linkText\": \"Export to plot.ly\"})});</script>"
      ],
      "text/vnd.plotly.v1+html": [
       "<div id=\"b986bda7-d386-4a4b-8309-ec3b2ee3b4de\" style=\"height: 525px; width: 100%;\" class=\"plotly-graph-div\"></div><script type=\"text/javascript\">require([\"plotly\"], function(Plotly) { window.PLOTLYENV=window.PLOTLYENV || {};window.PLOTLYENV.BASE_URL=\"https://plot.ly\";Plotly.newPlot(\"b986bda7-d386-4a4b-8309-ec3b2ee3b4de\", [{\"type\": \"heatmap\", \"z\": [[13, 0, 14, 14, 14, 14, 0, 11, 13, 13, 12, 0, 0, 11, 0, 14], [11, 0, 11, 11, 11, 11, 0, 0, 0, 0, 0, 0, 0, 0, 11, 0], [14, 0, 14, 14, 14, 14, 0, 0, 14, 14, 14, 0, 0, 0, 14, 0], [0, 0, 9, 9, 9, 9, 0, 0, 8, 8, 8, 0, 0, 0, 0, 0], [22, 22, 22, 22, 22, 22, 22, 22, 22, 22, 22, 22, 22, 22, 22, 0], [21, 21, 21, 21, 21, 21, 21, 21, 0, 0, 0, 0, 0, 0, 21, 0], [18, 18, 18, 18, 18, 18, 18, 18, 0, 0, 0, 0, 0, 0, 0, 0], [16, 0, 16, 16, 16, 16, 16, 0, 14, 14, 14, 0, 0, 16, 0, 16], [16, 16, 16, 16, 16, 16, 16, 16, 16, 16, 16, 16, 16, 16, 16, 0], [10, 10, 10, 10, 10, 10, 10, 10, 10, 10, 10, 10, 10, 10, 10, 0]], \"x\": null, \"y\": [\"Landry2016\", \"Landry2015_2\", \"Landry2015_1\", \"Violon\", \"Yoann_2015\", \"Landry2013\", \"Landry2012\", \"Tennis\", \"Patrick_2013\", \"Sylvain_2015\"], \"colorscale\": \"YlGnBu\", \"showscale\": true, \"colorbar\": {\"title\": \"Count\", \"titleside\": \"right\"}}], {\"annotations\": [{\"text\": \"13\", \"x\": 0, \"y\": \"Landry2016\", \"xref\": \"x1\", \"yref\": \"y1\", \"font\": {\"color\": \"#000000\"}, \"showarrow\": false}, {\"text\": \"0\", \"x\": 1, \"y\": \"Landry2016\", \"xref\": \"x1\", \"yref\": \"y1\", \"font\": {\"color\": \"#000000\"}, \"showarrow\": false}, {\"text\": \"14\", \"x\": 2, \"y\": \"Landry2016\", \"xref\": \"x1\", \"yref\": \"y1\", \"font\": {\"color\": \"#000000\"}, \"showarrow\": false}, {\"text\": \"14\", \"x\": 3, \"y\": \"Landry2016\", \"xref\": \"x1\", \"yref\": \"y1\", \"font\": {\"color\": \"#000000\"}, \"showarrow\": false}, {\"text\": \"14\", \"x\": 4, \"y\": \"Landry2016\", \"xref\": \"x1\", \"yref\": \"y1\", \"font\": {\"color\": \"#000000\"}, \"showarrow\": false}, {\"text\": \"14\", \"x\": 5, \"y\": \"Landry2016\", \"xref\": \"x1\", \"yref\": \"y1\", \"font\": {\"color\": \"#000000\"}, \"showarrow\": false}, {\"text\": \"0\", \"x\": 6, \"y\": \"Landry2016\", \"xref\": \"x1\", \"yref\": \"y1\", \"font\": {\"color\": \"#000000\"}, \"showarrow\": false}, {\"text\": \"11\", \"x\": 7, \"y\": \"Landry2016\", \"xref\": \"x1\", \"yref\": \"y1\", \"font\": {\"color\": \"#000000\"}, \"showarrow\": false}, {\"text\": \"13\", \"x\": 8, \"y\": \"Landry2016\", \"xref\": \"x1\", \"yref\": \"y1\", \"font\": {\"color\": \"#000000\"}, \"showarrow\": false}, {\"text\": \"13\", \"x\": 9, \"y\": \"Landry2016\", \"xref\": \"x1\", \"yref\": \"y1\", \"font\": {\"color\": \"#000000\"}, \"showarrow\": false}, {\"text\": \"12\", \"x\": 10, \"y\": \"Landry2016\", \"xref\": \"x1\", \"yref\": \"y1\", \"font\": {\"color\": \"#000000\"}, \"showarrow\": false}, {\"text\": \"0\", \"x\": 11, \"y\": \"Landry2016\", \"xref\": \"x1\", \"yref\": \"y1\", \"font\": {\"color\": \"#000000\"}, \"showarrow\": false}, {\"text\": \"0\", \"x\": 12, \"y\": \"Landry2016\", \"xref\": \"x1\", \"yref\": \"y1\", \"font\": {\"color\": \"#000000\"}, \"showarrow\": false}, {\"text\": \"11\", \"x\": 13, \"y\": \"Landry2016\", \"xref\": \"x1\", \"yref\": \"y1\", \"font\": {\"color\": \"#000000\"}, \"showarrow\": false}, {\"text\": \"0\", \"x\": 14, \"y\": \"Landry2016\", \"xref\": \"x1\", \"yref\": \"y1\", \"font\": {\"color\": \"#000000\"}, \"showarrow\": false}, {\"text\": \"14\", \"x\": 15, \"y\": \"Landry2016\", \"xref\": \"x1\", \"yref\": \"y1\", \"font\": {\"color\": \"#000000\"}, \"showarrow\": false}, {\"text\": \"11\", \"x\": 0, \"y\": \"Landry2015_2\", \"xref\": \"x1\", \"yref\": \"y1\", \"font\": {\"color\": \"#000000\"}, \"showarrow\": false}, {\"text\": \"0\", \"x\": 1, \"y\": \"Landry2015_2\", \"xref\": \"x1\", \"yref\": \"y1\", \"font\": {\"color\": \"#000000\"}, \"showarrow\": false}, {\"text\": \"11\", \"x\": 2, \"y\": \"Landry2015_2\", \"xref\": \"x1\", \"yref\": \"y1\", \"font\": {\"color\": \"#000000\"}, \"showarrow\": false}, {\"text\": \"11\", \"x\": 3, \"y\": \"Landry2015_2\", \"xref\": \"x1\", \"yref\": \"y1\", \"font\": {\"color\": \"#000000\"}, \"showarrow\": false}, {\"text\": \"11\", \"x\": 4, \"y\": \"Landry2015_2\", \"xref\": \"x1\", \"yref\": \"y1\", \"font\": {\"color\": \"#000000\"}, \"showarrow\": false}, {\"text\": \"11\", \"x\": 5, \"y\": \"Landry2015_2\", \"xref\": \"x1\", \"yref\": \"y1\", \"font\": {\"color\": \"#000000\"}, \"showarrow\": false}, {\"text\": \"0\", \"x\": 6, \"y\": \"Landry2015_2\", \"xref\": \"x1\", \"yref\": \"y1\", \"font\": {\"color\": \"#000000\"}, \"showarrow\": false}, {\"text\": \"0\", \"x\": 7, \"y\": \"Landry2015_2\", \"xref\": \"x1\", \"yref\": \"y1\", \"font\": {\"color\": \"#000000\"}, \"showarrow\": false}, {\"text\": \"0\", \"x\": 8, \"y\": \"Landry2015_2\", \"xref\": \"x1\", \"yref\": \"y1\", \"font\": {\"color\": \"#000000\"}, \"showarrow\": false}, {\"text\": \"0\", \"x\": 9, \"y\": \"Landry2015_2\", \"xref\": \"x1\", \"yref\": \"y1\", \"font\": {\"color\": \"#000000\"}, \"showarrow\": false}, {\"text\": \"0\", \"x\": 10, \"y\": \"Landry2015_2\", \"xref\": \"x1\", \"yref\": \"y1\", \"font\": {\"color\": \"#000000\"}, \"showarrow\": false}, {\"text\": \"0\", \"x\": 11, \"y\": \"Landry2015_2\", \"xref\": \"x1\", \"yref\": \"y1\", \"font\": {\"color\": \"#000000\"}, \"showarrow\": false}, {\"text\": \"0\", \"x\": 12, \"y\": \"Landry2015_2\", \"xref\": \"x1\", \"yref\": \"y1\", \"font\": {\"color\": \"#000000\"}, \"showarrow\": false}, {\"text\": \"0\", \"x\": 13, \"y\": \"Landry2015_2\", \"xref\": \"x1\", \"yref\": \"y1\", \"font\": {\"color\": \"#000000\"}, \"showarrow\": false}, {\"text\": \"11\", \"x\": 14, \"y\": \"Landry2015_2\", \"xref\": \"x1\", \"yref\": \"y1\", \"font\": {\"color\": \"#000000\"}, \"showarrow\": false}, {\"text\": \"0\", \"x\": 15, \"y\": \"Landry2015_2\", \"xref\": \"x1\", \"yref\": \"y1\", \"font\": {\"color\": \"#000000\"}, \"showarrow\": false}, {\"text\": \"14\", \"x\": 0, \"y\": \"Landry2015_1\", \"xref\": \"x1\", \"yref\": \"y1\", \"font\": {\"color\": \"#000000\"}, \"showarrow\": false}, {\"text\": \"0\", \"x\": 1, \"y\": \"Landry2015_1\", \"xref\": \"x1\", \"yref\": \"y1\", \"font\": {\"color\": \"#000000\"}, \"showarrow\": false}, {\"text\": \"14\", \"x\": 2, \"y\": \"Landry2015_1\", \"xref\": \"x1\", \"yref\": \"y1\", \"font\": {\"color\": \"#000000\"}, \"showarrow\": false}, {\"text\": \"14\", \"x\": 3, \"y\": \"Landry2015_1\", \"xref\": \"x1\", \"yref\": \"y1\", \"font\": {\"color\": \"#000000\"}, \"showarrow\": false}, {\"text\": \"14\", \"x\": 4, \"y\": \"Landry2015_1\", \"xref\": \"x1\", \"yref\": \"y1\", \"font\": {\"color\": \"#000000\"}, \"showarrow\": false}, {\"text\": \"14\", \"x\": 5, \"y\": \"Landry2015_1\", \"xref\": \"x1\", \"yref\": \"y1\", \"font\": {\"color\": \"#000000\"}, \"showarrow\": false}, {\"text\": \"0\", \"x\": 6, \"y\": \"Landry2015_1\", \"xref\": \"x1\", \"yref\": \"y1\", \"font\": {\"color\": \"#000000\"}, \"showarrow\": false}, {\"text\": \"0\", \"x\": 7, \"y\": \"Landry2015_1\", \"xref\": \"x1\", \"yref\": \"y1\", \"font\": {\"color\": \"#000000\"}, \"showarrow\": false}, {\"text\": \"14\", \"x\": 8, \"y\": \"Landry2015_1\", \"xref\": \"x1\", \"yref\": \"y1\", \"font\": {\"color\": \"#000000\"}, \"showarrow\": false}, {\"text\": \"14\", \"x\": 9, \"y\": \"Landry2015_1\", \"xref\": \"x1\", \"yref\": \"y1\", \"font\": {\"color\": \"#000000\"}, \"showarrow\": false}, {\"text\": \"14\", \"x\": 10, \"y\": \"Landry2015_1\", \"xref\": \"x1\", \"yref\": \"y1\", \"font\": {\"color\": \"#000000\"}, \"showarrow\": false}, {\"text\": \"0\", \"x\": 11, \"y\": \"Landry2015_1\", \"xref\": \"x1\", \"yref\": \"y1\", \"font\": {\"color\": \"#000000\"}, \"showarrow\": false}, {\"text\": \"0\", \"x\": 12, \"y\": \"Landry2015_1\", \"xref\": \"x1\", \"yref\": \"y1\", \"font\": {\"color\": \"#000000\"}, \"showarrow\": false}, {\"text\": \"0\", \"x\": 13, \"y\": \"Landry2015_1\", \"xref\": \"x1\", \"yref\": \"y1\", \"font\": {\"color\": \"#000000\"}, \"showarrow\": false}, {\"text\": \"14\", \"x\": 14, \"y\": \"Landry2015_1\", \"xref\": \"x1\", \"yref\": \"y1\", \"font\": {\"color\": \"#000000\"}, \"showarrow\": false}, {\"text\": \"0\", \"x\": 15, \"y\": \"Landry2015_1\", \"xref\": \"x1\", \"yref\": \"y1\", \"font\": {\"color\": \"#000000\"}, \"showarrow\": false}, {\"text\": \"0\", \"x\": 0, \"y\": \"Violon\", \"xref\": \"x1\", \"yref\": \"y1\", \"font\": {\"color\": \"#000000\"}, \"showarrow\": false}, {\"text\": \"0\", \"x\": 1, \"y\": \"Violon\", \"xref\": \"x1\", \"yref\": \"y1\", \"font\": {\"color\": \"#000000\"}, \"showarrow\": false}, {\"text\": \"9\", \"x\": 2, \"y\": \"Violon\", \"xref\": \"x1\", \"yref\": \"y1\", \"font\": {\"color\": \"#000000\"}, \"showarrow\": false}, {\"text\": \"9\", \"x\": 3, \"y\": \"Violon\", \"xref\": \"x1\", \"yref\": \"y1\", \"font\": {\"color\": \"#000000\"}, \"showarrow\": false}, {\"text\": \"9\", \"x\": 4, \"y\": \"Violon\", \"xref\": \"x1\", \"yref\": \"y1\", \"font\": {\"color\": \"#000000\"}, \"showarrow\": false}, {\"text\": \"9\", \"x\": 5, \"y\": \"Violon\", \"xref\": \"x1\", \"yref\": \"y1\", \"font\": {\"color\": \"#000000\"}, \"showarrow\": false}, {\"text\": \"0\", \"x\": 6, \"y\": \"Violon\", \"xref\": \"x1\", \"yref\": \"y1\", \"font\": {\"color\": \"#000000\"}, \"showarrow\": false}, {\"text\": \"0\", \"x\": 7, \"y\": \"Violon\", \"xref\": \"x1\", \"yref\": \"y1\", \"font\": {\"color\": \"#000000\"}, \"showarrow\": false}, {\"text\": \"8\", \"x\": 8, \"y\": \"Violon\", \"xref\": \"x1\", \"yref\": \"y1\", \"font\": {\"color\": \"#000000\"}, \"showarrow\": false}, {\"text\": \"8\", \"x\": 9, \"y\": \"Violon\", \"xref\": \"x1\", \"yref\": \"y1\", \"font\": {\"color\": \"#000000\"}, \"showarrow\": false}, {\"text\": \"8\", \"x\": 10, \"y\": \"Violon\", \"xref\": \"x1\", \"yref\": \"y1\", \"font\": {\"color\": \"#000000\"}, \"showarrow\": false}, {\"text\": \"0\", \"x\": 11, \"y\": \"Violon\", \"xref\": \"x1\", \"yref\": \"y1\", \"font\": {\"color\": \"#000000\"}, \"showarrow\": false}, {\"text\": \"0\", \"x\": 12, \"y\": \"Violon\", \"xref\": \"x1\", \"yref\": \"y1\", \"font\": {\"color\": \"#000000\"}, \"showarrow\": false}, {\"text\": \"0\", \"x\": 13, \"y\": \"Violon\", \"xref\": \"x1\", \"yref\": \"y1\", \"font\": {\"color\": \"#000000\"}, \"showarrow\": false}, {\"text\": \"0\", \"x\": 14, \"y\": \"Violon\", \"xref\": \"x1\", \"yref\": \"y1\", \"font\": {\"color\": \"#000000\"}, \"showarrow\": false}, {\"text\": \"0\", \"x\": 15, \"y\": \"Violon\", \"xref\": \"x1\", \"yref\": \"y1\", \"font\": {\"color\": \"#000000\"}, \"showarrow\": false}, {\"text\": \"22\", \"x\": 0, \"y\": \"Yoann_2015\", \"xref\": \"x1\", \"yref\": \"y1\", \"font\": {\"color\": \"#000000\"}, \"showarrow\": false}, {\"text\": \"22\", \"x\": 1, \"y\": \"Yoann_2015\", \"xref\": \"x1\", \"yref\": \"y1\", \"font\": {\"color\": \"#000000\"}, \"showarrow\": false}, {\"text\": \"22\", \"x\": 2, \"y\": \"Yoann_2015\", \"xref\": \"x1\", \"yref\": \"y1\", \"font\": {\"color\": \"#000000\"}, \"showarrow\": false}, {\"text\": \"22\", \"x\": 3, \"y\": \"Yoann_2015\", \"xref\": \"x1\", \"yref\": \"y1\", \"font\": {\"color\": \"#000000\"}, \"showarrow\": false}, {\"text\": \"22\", \"x\": 4, \"y\": \"Yoann_2015\", \"xref\": \"x1\", \"yref\": \"y1\", \"font\": {\"color\": \"#000000\"}, \"showarrow\": false}, {\"text\": \"22\", \"x\": 5, \"y\": \"Yoann_2015\", \"xref\": \"x1\", \"yref\": \"y1\", \"font\": {\"color\": \"#000000\"}, \"showarrow\": false}, {\"text\": \"22\", \"x\": 6, \"y\": \"Yoann_2015\", \"xref\": \"x1\", \"yref\": \"y1\", \"font\": {\"color\": \"#000000\"}, \"showarrow\": false}, {\"text\": \"22\", \"x\": 7, \"y\": \"Yoann_2015\", \"xref\": \"x1\", \"yref\": \"y1\", \"font\": {\"color\": \"#000000\"}, \"showarrow\": false}, {\"text\": \"22\", \"x\": 8, \"y\": \"Yoann_2015\", \"xref\": \"x1\", \"yref\": \"y1\", \"font\": {\"color\": \"#000000\"}, \"showarrow\": false}, {\"text\": \"22\", \"x\": 9, \"y\": \"Yoann_2015\", \"xref\": \"x1\", \"yref\": \"y1\", \"font\": {\"color\": \"#000000\"}, \"showarrow\": false}, {\"text\": \"22\", \"x\": 10, \"y\": \"Yoann_2015\", \"xref\": \"x1\", \"yref\": \"y1\", \"font\": {\"color\": \"#000000\"}, \"showarrow\": false}, {\"text\": \"22\", \"x\": 11, \"y\": \"Yoann_2015\", \"xref\": \"x1\", \"yref\": \"y1\", \"font\": {\"color\": \"#000000\"}, \"showarrow\": false}, {\"text\": \"22\", \"x\": 12, \"y\": \"Yoann_2015\", \"xref\": \"x1\", \"yref\": \"y1\", \"font\": {\"color\": \"#000000\"}, \"showarrow\": false}, {\"text\": \"22\", \"x\": 13, \"y\": \"Yoann_2015\", \"xref\": \"x1\", \"yref\": \"y1\", \"font\": {\"color\": \"#000000\"}, \"showarrow\": false}, {\"text\": \"22\", \"x\": 14, \"y\": \"Yoann_2015\", \"xref\": \"x1\", \"yref\": \"y1\", \"font\": {\"color\": \"#000000\"}, \"showarrow\": false}, {\"text\": \"0\", \"x\": 15, \"y\": \"Yoann_2015\", \"xref\": \"x1\", \"yref\": \"y1\", \"font\": {\"color\": \"#000000\"}, \"showarrow\": false}, {\"text\": \"21\", \"x\": 0, \"y\": \"Landry2013\", \"xref\": \"x1\", \"yref\": \"y1\", \"font\": {\"color\": \"#000000\"}, \"showarrow\": false}, {\"text\": \"21\", \"x\": 1, \"y\": \"Landry2013\", \"xref\": \"x1\", \"yref\": \"y1\", \"font\": {\"color\": \"#000000\"}, \"showarrow\": false}, {\"text\": \"21\", \"x\": 2, \"y\": \"Landry2013\", \"xref\": \"x1\", \"yref\": \"y1\", \"font\": {\"color\": \"#000000\"}, \"showarrow\": false}, {\"text\": \"21\", \"x\": 3, \"y\": \"Landry2013\", \"xref\": \"x1\", \"yref\": \"y1\", \"font\": {\"color\": \"#000000\"}, \"showarrow\": false}, {\"text\": \"21\", \"x\": 4, \"y\": \"Landry2013\", \"xref\": \"x1\", \"yref\": \"y1\", \"font\": {\"color\": \"#000000\"}, \"showarrow\": false}, {\"text\": \"21\", \"x\": 5, \"y\": \"Landry2013\", \"xref\": \"x1\", \"yref\": \"y1\", \"font\": {\"color\": \"#000000\"}, \"showarrow\": false}, {\"text\": \"21\", \"x\": 6, \"y\": \"Landry2013\", \"xref\": \"x1\", \"yref\": \"y1\", \"font\": {\"color\": \"#000000\"}, \"showarrow\": false}, {\"text\": \"21\", \"x\": 7, \"y\": \"Landry2013\", \"xref\": \"x1\", \"yref\": \"y1\", \"font\": {\"color\": \"#000000\"}, \"showarrow\": false}, {\"text\": \"0\", \"x\": 8, \"y\": \"Landry2013\", \"xref\": \"x1\", \"yref\": \"y1\", \"font\": {\"color\": \"#000000\"}, \"showarrow\": false}, {\"text\": \"0\", \"x\": 9, \"y\": \"Landry2013\", \"xref\": \"x1\", \"yref\": \"y1\", \"font\": {\"color\": \"#000000\"}, \"showarrow\": false}, {\"text\": \"0\", \"x\": 10, \"y\": \"Landry2013\", \"xref\": \"x1\", \"yref\": \"y1\", \"font\": {\"color\": \"#000000\"}, \"showarrow\": false}, {\"text\": \"0\", \"x\": 11, \"y\": \"Landry2013\", \"xref\": \"x1\", \"yref\": \"y1\", \"font\": {\"color\": \"#000000\"}, \"showarrow\": false}, {\"text\": \"0\", \"x\": 12, \"y\": \"Landry2013\", \"xref\": \"x1\", \"yref\": \"y1\", \"font\": {\"color\": \"#000000\"}, \"showarrow\": false}, {\"text\": \"0\", \"x\": 13, \"y\": \"Landry2013\", \"xref\": \"x1\", \"yref\": \"y1\", \"font\": {\"color\": \"#000000\"}, \"showarrow\": false}, {\"text\": \"21\", \"x\": 14, \"y\": \"Landry2013\", \"xref\": \"x1\", \"yref\": \"y1\", \"font\": {\"color\": \"#000000\"}, \"showarrow\": false}, {\"text\": \"0\", \"x\": 15, \"y\": \"Landry2013\", \"xref\": \"x1\", \"yref\": \"y1\", \"font\": {\"color\": \"#000000\"}, \"showarrow\": false}, {\"text\": \"18\", \"x\": 0, \"y\": \"Landry2012\", \"xref\": \"x1\", \"yref\": \"y1\", \"font\": {\"color\": \"#000000\"}, \"showarrow\": false}, {\"text\": \"18\", \"x\": 1, \"y\": \"Landry2012\", \"xref\": \"x1\", \"yref\": \"y1\", \"font\": {\"color\": \"#000000\"}, \"showarrow\": false}, {\"text\": \"18\", \"x\": 2, \"y\": \"Landry2012\", \"xref\": \"x1\", \"yref\": \"y1\", \"font\": {\"color\": \"#000000\"}, \"showarrow\": false}, {\"text\": \"18\", \"x\": 3, \"y\": \"Landry2012\", \"xref\": \"x1\", \"yref\": \"y1\", \"font\": {\"color\": \"#000000\"}, \"showarrow\": false}, {\"text\": \"18\", \"x\": 4, \"y\": \"Landry2012\", \"xref\": \"x1\", \"yref\": \"y1\", \"font\": {\"color\": \"#000000\"}, \"showarrow\": false}, {\"text\": \"18\", \"x\": 5, \"y\": \"Landry2012\", \"xref\": \"x1\", \"yref\": \"y1\", \"font\": {\"color\": \"#000000\"}, \"showarrow\": false}, {\"text\": \"18\", \"x\": 6, \"y\": \"Landry2012\", \"xref\": \"x1\", \"yref\": \"y1\", \"font\": {\"color\": \"#000000\"}, \"showarrow\": false}, {\"text\": \"18\", \"x\": 7, \"y\": \"Landry2012\", \"xref\": \"x1\", \"yref\": \"y1\", \"font\": {\"color\": \"#000000\"}, \"showarrow\": false}, {\"text\": \"0\", \"x\": 8, \"y\": \"Landry2012\", \"xref\": \"x1\", \"yref\": \"y1\", \"font\": {\"color\": \"#000000\"}, \"showarrow\": false}, {\"text\": \"0\", \"x\": 9, \"y\": \"Landry2012\", \"xref\": \"x1\", \"yref\": \"y1\", \"font\": {\"color\": \"#000000\"}, \"showarrow\": false}, {\"text\": \"0\", \"x\": 10, \"y\": \"Landry2012\", \"xref\": \"x1\", \"yref\": \"y1\", \"font\": {\"color\": \"#000000\"}, \"showarrow\": false}, {\"text\": \"0\", \"x\": 11, \"y\": \"Landry2012\", \"xref\": \"x1\", \"yref\": \"y1\", \"font\": {\"color\": \"#000000\"}, \"showarrow\": false}, {\"text\": \"0\", \"x\": 12, \"y\": \"Landry2012\", \"xref\": \"x1\", \"yref\": \"y1\", \"font\": {\"color\": \"#000000\"}, \"showarrow\": false}, {\"text\": \"0\", \"x\": 13, \"y\": \"Landry2012\", \"xref\": \"x1\", \"yref\": \"y1\", \"font\": {\"color\": \"#000000\"}, \"showarrow\": false}, {\"text\": \"0\", \"x\": 14, \"y\": \"Landry2012\", \"xref\": \"x1\", \"yref\": \"y1\", \"font\": {\"color\": \"#000000\"}, \"showarrow\": false}, {\"text\": \"0\", \"x\": 15, \"y\": \"Landry2012\", \"xref\": \"x1\", \"yref\": \"y1\", \"font\": {\"color\": \"#000000\"}, \"showarrow\": false}, {\"text\": \"16\", \"x\": 0, \"y\": \"Tennis\", \"xref\": \"x1\", \"yref\": \"y1\", \"font\": {\"color\": \"#000000\"}, \"showarrow\": false}, {\"text\": \"0\", \"x\": 1, \"y\": \"Tennis\", \"xref\": \"x1\", \"yref\": \"y1\", \"font\": {\"color\": \"#000000\"}, \"showarrow\": false}, {\"text\": \"16\", \"x\": 2, \"y\": \"Tennis\", \"xref\": \"x1\", \"yref\": \"y1\", \"font\": {\"color\": \"#000000\"}, \"showarrow\": false}, {\"text\": \"16\", \"x\": 3, \"y\": \"Tennis\", \"xref\": \"x1\", \"yref\": \"y1\", \"font\": {\"color\": \"#000000\"}, \"showarrow\": false}, {\"text\": \"16\", \"x\": 4, \"y\": \"Tennis\", \"xref\": \"x1\", \"yref\": \"y1\", \"font\": {\"color\": \"#000000\"}, \"showarrow\": false}, {\"text\": \"16\", \"x\": 5, \"y\": \"Tennis\", \"xref\": \"x1\", \"yref\": \"y1\", \"font\": {\"color\": \"#000000\"}, \"showarrow\": false}, {\"text\": \"16\", \"x\": 6, \"y\": \"Tennis\", \"xref\": \"x1\", \"yref\": \"y1\", \"font\": {\"color\": \"#000000\"}, \"showarrow\": false}, {\"text\": \"0\", \"x\": 7, \"y\": \"Tennis\", \"xref\": \"x1\", \"yref\": \"y1\", \"font\": {\"color\": \"#000000\"}, \"showarrow\": false}, {\"text\": \"14\", \"x\": 8, \"y\": \"Tennis\", \"xref\": \"x1\", \"yref\": \"y1\", \"font\": {\"color\": \"#000000\"}, \"showarrow\": false}, {\"text\": \"14\", \"x\": 9, \"y\": \"Tennis\", \"xref\": \"x1\", \"yref\": \"y1\", \"font\": {\"color\": \"#000000\"}, \"showarrow\": false}, {\"text\": \"14\", \"x\": 10, \"y\": \"Tennis\", \"xref\": \"x1\", \"yref\": \"y1\", \"font\": {\"color\": \"#000000\"}, \"showarrow\": false}, {\"text\": \"0\", \"x\": 11, \"y\": \"Tennis\", \"xref\": \"x1\", \"yref\": \"y1\", \"font\": {\"color\": \"#000000\"}, \"showarrow\": false}, {\"text\": \"0\", \"x\": 12, \"y\": \"Tennis\", \"xref\": \"x1\", \"yref\": \"y1\", \"font\": {\"color\": \"#000000\"}, \"showarrow\": false}, {\"text\": \"16\", \"x\": 13, \"y\": \"Tennis\", \"xref\": \"x1\", \"yref\": \"y1\", \"font\": {\"color\": \"#000000\"}, \"showarrow\": false}, {\"text\": \"0\", \"x\": 14, \"y\": \"Tennis\", \"xref\": \"x1\", \"yref\": \"y1\", \"font\": {\"color\": \"#000000\"}, \"showarrow\": false}, {\"text\": \"16\", \"x\": 15, \"y\": \"Tennis\", \"xref\": \"x1\", \"yref\": \"y1\", \"font\": {\"color\": \"#000000\"}, \"showarrow\": false}, {\"text\": \"16\", \"x\": 0, \"y\": \"Patrick_2013\", \"xref\": \"x1\", \"yref\": \"y1\", \"font\": {\"color\": \"#000000\"}, \"showarrow\": false}, {\"text\": \"16\", \"x\": 1, \"y\": \"Patrick_2013\", \"xref\": \"x1\", \"yref\": \"y1\", \"font\": {\"color\": \"#000000\"}, \"showarrow\": false}, {\"text\": \"16\", \"x\": 2, \"y\": \"Patrick_2013\", \"xref\": \"x1\", \"yref\": \"y1\", \"font\": {\"color\": \"#000000\"}, \"showarrow\": false}, {\"text\": \"16\", \"x\": 3, \"y\": \"Patrick_2013\", \"xref\": \"x1\", \"yref\": \"y1\", \"font\": {\"color\": \"#000000\"}, \"showarrow\": false}, {\"text\": \"16\", \"x\": 4, \"y\": \"Patrick_2013\", \"xref\": \"x1\", \"yref\": \"y1\", \"font\": {\"color\": \"#000000\"}, \"showarrow\": false}, {\"text\": \"16\", \"x\": 5, \"y\": \"Patrick_2013\", \"xref\": \"x1\", \"yref\": \"y1\", \"font\": {\"color\": \"#000000\"}, \"showarrow\": false}, {\"text\": \"16\", \"x\": 6, \"y\": \"Patrick_2013\", \"xref\": \"x1\", \"yref\": \"y1\", \"font\": {\"color\": \"#000000\"}, \"showarrow\": false}, {\"text\": \"16\", \"x\": 7, \"y\": \"Patrick_2013\", \"xref\": \"x1\", \"yref\": \"y1\", \"font\": {\"color\": \"#000000\"}, \"showarrow\": false}, {\"text\": \"16\", \"x\": 8, \"y\": \"Patrick_2013\", \"xref\": \"x1\", \"yref\": \"y1\", \"font\": {\"color\": \"#000000\"}, \"showarrow\": false}, {\"text\": \"16\", \"x\": 9, \"y\": \"Patrick_2013\", \"xref\": \"x1\", \"yref\": \"y1\", \"font\": {\"color\": \"#000000\"}, \"showarrow\": false}, {\"text\": \"16\", \"x\": 10, \"y\": \"Patrick_2013\", \"xref\": \"x1\", \"yref\": \"y1\", \"font\": {\"color\": \"#000000\"}, \"showarrow\": false}, {\"text\": \"16\", \"x\": 11, \"y\": \"Patrick_2013\", \"xref\": \"x1\", \"yref\": \"y1\", \"font\": {\"color\": \"#000000\"}, \"showarrow\": false}, {\"text\": \"16\", \"x\": 12, \"y\": \"Patrick_2013\", \"xref\": \"x1\", \"yref\": \"y1\", \"font\": {\"color\": \"#000000\"}, \"showarrow\": false}, {\"text\": \"16\", \"x\": 13, \"y\": \"Patrick_2013\", \"xref\": \"x1\", \"yref\": \"y1\", \"font\": {\"color\": \"#000000\"}, \"showarrow\": false}, {\"text\": \"16\", \"x\": 14, \"y\": \"Patrick_2013\", \"xref\": \"x1\", \"yref\": \"y1\", \"font\": {\"color\": \"#000000\"}, \"showarrow\": false}, {\"text\": \"0\", \"x\": 15, \"y\": \"Patrick_2013\", \"xref\": \"x1\", \"yref\": \"y1\", \"font\": {\"color\": \"#000000\"}, \"showarrow\": false}, {\"text\": \"10\", \"x\": 0, \"y\": \"Sylvain_2015\", \"xref\": \"x1\", \"yref\": \"y1\", \"font\": {\"color\": \"#000000\"}, \"showarrow\": false}, {\"text\": \"10\", \"x\": 1, \"y\": \"Sylvain_2015\", \"xref\": \"x1\", \"yref\": \"y1\", \"font\": {\"color\": \"#000000\"}, \"showarrow\": false}, {\"text\": \"10\", \"x\": 2, \"y\": \"Sylvain_2015\", \"xref\": \"x1\", \"yref\": \"y1\", \"font\": {\"color\": \"#000000\"}, \"showarrow\": false}, {\"text\": \"10\", \"x\": 3, \"y\": \"Sylvain_2015\", \"xref\": \"x1\", \"yref\": \"y1\", \"font\": {\"color\": \"#000000\"}, \"showarrow\": false}, {\"text\": \"10\", \"x\": 4, \"y\": \"Sylvain_2015\", \"xref\": \"x1\", \"yref\": \"y1\", \"font\": {\"color\": \"#000000\"}, \"showarrow\": false}, {\"text\": \"10\", \"x\": 5, \"y\": \"Sylvain_2015\", \"xref\": \"x1\", \"yref\": \"y1\", \"font\": {\"color\": \"#000000\"}, \"showarrow\": false}, {\"text\": \"10\", \"x\": 6, \"y\": \"Sylvain_2015\", \"xref\": \"x1\", \"yref\": \"y1\", \"font\": {\"color\": \"#000000\"}, \"showarrow\": false}, {\"text\": \"10\", \"x\": 7, \"y\": \"Sylvain_2015\", \"xref\": \"x1\", \"yref\": \"y1\", \"font\": {\"color\": \"#000000\"}, \"showarrow\": false}, {\"text\": \"10\", \"x\": 8, \"y\": \"Sylvain_2015\", \"xref\": \"x1\", \"yref\": \"y1\", \"font\": {\"color\": \"#000000\"}, \"showarrow\": false}, {\"text\": \"10\", \"x\": 9, \"y\": \"Sylvain_2015\", \"xref\": \"x1\", \"yref\": \"y1\", \"font\": {\"color\": \"#000000\"}, \"showarrow\": false}, {\"text\": \"10\", \"x\": 10, \"y\": \"Sylvain_2015\", \"xref\": \"x1\", \"yref\": \"y1\", \"font\": {\"color\": \"#000000\"}, \"showarrow\": false}, {\"text\": \"10\", \"x\": 11, \"y\": \"Sylvain_2015\", \"xref\": \"x1\", \"yref\": \"y1\", \"font\": {\"color\": \"#000000\"}, \"showarrow\": false}, {\"text\": \"10\", \"x\": 12, \"y\": \"Sylvain_2015\", \"xref\": \"x1\", \"yref\": \"y1\", \"font\": {\"color\": \"#000000\"}, \"showarrow\": false}, {\"text\": \"10\", \"x\": 13, \"y\": \"Sylvain_2015\", \"xref\": \"x1\", \"yref\": \"y1\", \"font\": {\"color\": \"#000000\"}, \"showarrow\": false}, {\"text\": \"10\", \"x\": 14, \"y\": \"Sylvain_2015\", \"xref\": \"x1\", \"yref\": \"y1\", \"font\": {\"color\": \"#000000\"}, \"showarrow\": false}, {\"text\": \"0\", \"x\": 15, \"y\": \"Sylvain_2015\", \"xref\": \"x1\", \"yref\": \"y1\", \"font\": {\"color\": \"#000000\"}, \"showarrow\": false}], \"xaxis\": {\"ticks\": \"\", \"dtick\": 1, \"side\": \"bottom\", \"gridcolor\": \"rgb(0, 0, 0)\", \"title\": \"Tests\"}, \"yaxis\": {\"ticks\": \"\", \"dtick\": 1, \"ticksuffix\": \"  \", \"title\": null, \"autorange\": \"reversed\"}, \"hovermode\": \"closest\", \"font\": {\"size\": 14}, \"title\": \"Tests by dataset\", \"margin\": {\"t\": 80, \"b\": 80, \"l\": 150, \"r\": 80, \"pad\": 0}}, {\"showLink\": true, \"linkText\": \"Export to plot.ly\"})});</script>"
      ]
     },
     "metadata": {},
     "output_type": "display_data"
    }
   ],
   "source": [
    "muscle_by_dataset = plot_count_by_dataset(\n",
    "    df_tidy,\n",
    "    values='muscle',\n",
    "    index='dataset',\n",
    "    columns='test',\n",
    "    ylabel=DATASET_NAMES,\n",
    "    xtitle='Tests',\n",
    "    title='Tests by dataset')\n",
    "py.iplot(muscle_by_dataset, filename='mvc/tests_by_dataset')"
   ]
  },
  {
   "cell_type": "markdown",
   "metadata": {},
   "source": [
    "## 4.3. Muscles and tests count"
   ]
  },
  {
   "cell_type": "code",
   "execution_count": 9,
   "metadata": {},
   "outputs": [],
   "source": [
    "def plot_count_bar(d, column, **kwargs):\n",
    "    count = np.array(d[column].value_counts(sort=False))\n",
    "    trace = go.Bar(\n",
    "        x=count,\n",
    "        y=kwargs.get('ylabel'),\n",
    "        marker=dict(color='grey'),\n",
    "        orientation='h')\n",
    "\n",
    "    layout = BASE_LAYOUT.copy()\n",
    "    layout.update(\n",
    "        dict(\n",
    "            title=kwargs.get('title'),\n",
    "            xaxis=dict(\n",
    "                title=kwargs.get('xtitle'), showline=True, linewidth=1.5),\n",
    "            yaxis=dict(\n",
    "                title=kwargs.get('ytitle'), showline=True, linewidth=1.5)))\n",
    "\n",
    "    # adjust y axis\n",
    "    layout['yaxis'].update(nticks=count.shape[0])\n",
    "    layout.update(margin=go.Margin(t=80, b=80, l=150, r=80, pad=0))\n",
    "    return dict(data=[trace], layout=layout)"
   ]
  },
  {
   "cell_type": "code",
   "execution_count": 10,
   "metadata": {},
   "outputs": [
    {
     "data": {
      "application/vnd.plotly.v1+json": {
       "data": [
        {
         "marker": {
          "color": "grey"
         },
         "orientation": "h",
         "type": "bar",
         "x": [
          1392,
          877,
          1464,
          1465,
          1465,
          1465,
          1053,
          1006,
          1027,
          1030,
          1019,
          544,
          544,
          849,
          925,
          331
         ],
         "y": null
        }
       ],
       "layout": {
        "font": {
         "size": 14
        },
        "hovermode": "closest",
        "margin": {
         "b": 80,
         "l": 150,
         "pad": 0,
         "r": 80,
         "t": 80
        },
        "title": "Tests count",
        "xaxis": {
         "linewidth": 1.5,
         "showline": true,
         "title": "n"
        },
        "yaxis": {
         "linewidth": 1.5,
         "nticks": 16,
         "showline": true,
         "title": "Tests"
        }
       }
      },
      "text/html": [
       "<div id=\"902ba77d-d923-49f3-9bcd-03e5d54b8ef0\" style=\"height: 525px; width: 100%;\" class=\"plotly-graph-div\"></div><script type=\"text/javascript\">require([\"plotly\"], function(Plotly) { window.PLOTLYENV=window.PLOTLYENV || {};window.PLOTLYENV.BASE_URL=\"https://plot.ly\";Plotly.newPlot(\"902ba77d-d923-49f3-9bcd-03e5d54b8ef0\", [{\"type\": \"bar\", \"x\": [1392, 877, 1464, 1465, 1465, 1465, 1053, 1006, 1027, 1030, 1019, 544, 544, 849, 925, 331], \"y\": null, \"marker\": {\"color\": \"grey\"}, \"orientation\": \"h\"}], {\"hovermode\": \"closest\", \"font\": {\"size\": 14}, \"title\": \"Tests count\", \"xaxis\": {\"title\": \"n\", \"showline\": true, \"linewidth\": 1.5}, \"yaxis\": {\"title\": \"Tests\", \"showline\": true, \"linewidth\": 1.5, \"nticks\": 16}, \"margin\": {\"t\": 80, \"b\": 80, \"l\": 150, \"r\": 80, \"pad\": 0}}, {\"showLink\": true, \"linkText\": \"Export to plot.ly\"})});</script>"
      ],
      "text/vnd.plotly.v1+html": [
       "<div id=\"902ba77d-d923-49f3-9bcd-03e5d54b8ef0\" style=\"height: 525px; width: 100%;\" class=\"plotly-graph-div\"></div><script type=\"text/javascript\">require([\"plotly\"], function(Plotly) { window.PLOTLYENV=window.PLOTLYENV || {};window.PLOTLYENV.BASE_URL=\"https://plot.ly\";Plotly.newPlot(\"902ba77d-d923-49f3-9bcd-03e5d54b8ef0\", [{\"type\": \"bar\", \"x\": [1392, 877, 1464, 1465, 1465, 1465, 1053, 1006, 1027, 1030, 1019, 544, 544, 849, 925, 331], \"y\": null, \"marker\": {\"color\": \"grey\"}, \"orientation\": \"h\"}], {\"hovermode\": \"closest\", \"font\": {\"size\": 14}, \"title\": \"Tests count\", \"xaxis\": {\"title\": \"n\", \"showline\": true, \"linewidth\": 1.5}, \"yaxis\": {\"title\": \"Tests\", \"showline\": true, \"linewidth\": 1.5, \"nticks\": 16}, \"margin\": {\"t\": 80, \"b\": 80, \"l\": 150, \"r\": 80, \"pad\": 0}}, {\"showLink\": true, \"linkText\": \"Export to plot.ly\"})});</script>"
      ]
     },
     "metadata": {},
     "output_type": "display_data"
    }
   ],
   "source": [
    "test_count_bar = plot_count_bar(\n",
    "    df_tidy, 'test', title='Tests count', xtitle='n', ytitle='Tests')\n",
    "py.iplot(test_count_bar, filename='mvc/test_count_bar')"
   ]
  },
  {
   "cell_type": "code",
   "execution_count": 11,
   "metadata": {},
   "outputs": [
    {
     "data": {
      "application/vnd.plotly.v1+json": {
       "data": [
        {
         "marker": {
          "color": "grey"
         },
         "orientation": "h",
         "type": "bar",
         "x": [
          1569,
          1053,
          1633,
          1153,
          1633,
          1633,
          1352,
          1425,
          1352,
          1219,
          1219,
          1215
         ],
         "y": [
          "upper trapezius",
          "middle trapezius",
          "lower trapezius",
          "anterior deltoid",
          "middle deltoid",
          "posterior deltoid",
          "pectoralis major",
          "serratus anterior",
          "latissimus dorsi",
          "supraspinatus",
          "infraspinatus",
          "subscapularis"
         ]
        }
       ],
       "layout": {
        "font": {
         "size": 14
        },
        "hovermode": "closest",
        "margin": {
         "b": 80,
         "l": 150,
         "pad": 0,
         "r": 80,
         "t": 80
        },
        "title": "Muscles count",
        "xaxis": {
         "linewidth": 1.5,
         "showline": true,
         "title": "n"
        },
        "yaxis": {
         "linewidth": 1.5,
         "nticks": 12,
         "showline": true,
         "title": null
        }
       }
      },
      "text/html": [
       "<div id=\"3a473ecc-7faf-47b9-b9f2-e8ff4b8f9d96\" style=\"height: 525px; width: 100%;\" class=\"plotly-graph-div\"></div><script type=\"text/javascript\">require([\"plotly\"], function(Plotly) { window.PLOTLYENV=window.PLOTLYENV || {};window.PLOTLYENV.BASE_URL=\"https://plot.ly\";Plotly.newPlot(\"3a473ecc-7faf-47b9-b9f2-e8ff4b8f9d96\", [{\"type\": \"bar\", \"x\": [1569, 1053, 1633, 1153, 1633, 1633, 1352, 1425, 1352, 1219, 1219, 1215], \"y\": [\"upper trapezius\", \"middle trapezius\", \"lower trapezius\", \"anterior deltoid\", \"middle deltoid\", \"posterior deltoid\", \"pectoralis major\", \"serratus anterior\", \"latissimus dorsi\", \"supraspinatus\", \"infraspinatus\", \"subscapularis\"], \"marker\": {\"color\": \"grey\"}, \"orientation\": \"h\"}], {\"hovermode\": \"closest\", \"font\": {\"size\": 14}, \"title\": \"Muscles count\", \"xaxis\": {\"title\": \"n\", \"showline\": true, \"linewidth\": 1.5}, \"yaxis\": {\"title\": null, \"showline\": true, \"linewidth\": 1.5, \"nticks\": 12}, \"margin\": {\"t\": 80, \"b\": 80, \"l\": 150, \"r\": 80, \"pad\": 0}}, {\"showLink\": true, \"linkText\": \"Export to plot.ly\"})});</script>"
      ],
      "text/vnd.plotly.v1+html": [
       "<div id=\"3a473ecc-7faf-47b9-b9f2-e8ff4b8f9d96\" style=\"height: 525px; width: 100%;\" class=\"plotly-graph-div\"></div><script type=\"text/javascript\">require([\"plotly\"], function(Plotly) { window.PLOTLYENV=window.PLOTLYENV || {};window.PLOTLYENV.BASE_URL=\"https://plot.ly\";Plotly.newPlot(\"3a473ecc-7faf-47b9-b9f2-e8ff4b8f9d96\", [{\"type\": \"bar\", \"x\": [1569, 1053, 1633, 1153, 1633, 1633, 1352, 1425, 1352, 1219, 1219, 1215], \"y\": [\"upper trapezius\", \"middle trapezius\", \"lower trapezius\", \"anterior deltoid\", \"middle deltoid\", \"posterior deltoid\", \"pectoralis major\", \"serratus anterior\", \"latissimus dorsi\", \"supraspinatus\", \"infraspinatus\", \"subscapularis\"], \"marker\": {\"color\": \"grey\"}, \"orientation\": \"h\"}], {\"hovermode\": \"closest\", \"font\": {\"size\": 14}, \"title\": \"Muscles count\", \"xaxis\": {\"title\": \"n\", \"showline\": true, \"linewidth\": 1.5}, \"yaxis\": {\"title\": null, \"showline\": true, \"linewidth\": 1.5, \"nticks\": 12}, \"margin\": {\"t\": 80, \"b\": 80, \"l\": 150, \"r\": 80, \"pad\": 0}}, {\"showLink\": true, \"linkText\": \"Export to plot.ly\"})});</script>"
      ]
     },
     "metadata": {},
     "output_type": "display_data"
    }
   ],
   "source": [
    "muscle_count_bar = plot_count_bar(\n",
    "    df_tidy, 'muscle', ylabel=MUSCLES_NAMES, title='Muscles count', xtitle='n')\n",
    "py.iplot(muscle_count_bar, filename='mvc/muscle_count_bar')"
   ]
  },
  {
   "cell_type": "markdown",
   "metadata": {},
   "source": [
    "## 4.4. Max for each test (normalized by participant number)"
   ]
  },
  {
   "cell_type": "code",
   "execution_count": 12,
   "metadata": {},
   "outputs": [
    {
     "name": "stdout",
     "output_type": "stream",
     "text": [
      "project 'Landry2016' (15 participants)\n",
      "project 'Landry2015_2' (11 participants)\n",
      "project 'Landry2015_1' (14 participants)\n",
      "project 'Violon' (10 participants)\n",
      "project 'Yoann_2015' (22 participants)\n",
      "project 'Landry2013' (21 participants)\n",
      "project 'Landry2012' (18 participants)\n",
      "project 'Tennis' (16 participants)\n",
      "project 'Patrick_2013' (16 participants)\n",
      "project 'Sylvain_2015' (10 participants)\n",
      "\n",
      "\ttotal participants: 152\n"
     ]
    },
    {
     "name": "stderr",
     "output_type": "stream",
     "text": [
      "/home/romain/.local/share/virtualenvs/mvc-kMH3Oq29/lib/python3.6/site-packages/ipykernel_launcher.py:24: RuntimeWarning:\n",
      "\n",
      "All-NaN slice encountered\n",
      "\n"
     ]
    }
   ],
   "source": [
    "normalized, _ = load_data(\n",
    "    data_path=DATA_PATH, data_format=DATA_FORMAT, normalize=True)\n",
    "\n",
    "df_normalized = pd.DataFrame({\n",
    "    'participant': normalized['participants'],\n",
    "    'dataset': normalized['datasets'],\n",
    "    'muscle': normalized['muscles'],\n",
    "    'test': normalized['tests'],\n",
    "    'mvc': normalized['mvc']\n",
    "}).dropna()"
   ]
  },
  {
   "cell_type": "code",
   "execution_count": 13,
   "metadata": {},
   "outputs": [],
   "source": [
    "def plot_max_by_test(d, **kwargs):\n",
    "    maximum = d[d['mvc'] == 100].pivot_table(\n",
    "        values='muscle',\n",
    "        index='dataset',\n",
    "        columns='test',\n",
    "        aggfunc='count',\n",
    "        fill_value=0)\n",
    "    maximum = (maximum.div(maximum.sum(axis=1), axis=0) * 100).astype(int)\n",
    "\n",
    "    fig = ff.create_annotated_heatmap(\n",
    "        z=np.array(maximum),\n",
    "        x=kwargs.get('xlabel'),\n",
    "        y=kwargs.get('ylabel'),\n",
    "        showscale=True,\n",
    "        colorscale='YlGnBu',\n",
    "        colorbar=dict(title='Percentage', titleside='right'))\n",
    "\n",
    "    fig['layout'].update(BASE_LAYOUT)\n",
    "    fig['layout'].update(\n",
    "        dict(\n",
    "            title=kwargs.get('title'),\n",
    "            xaxis=dict(title=kwargs.get('xtitle'), side='bottom'),\n",
    "            yaxis=dict(title=kwargs.get('ytitle'), autorange='reversed'),\n",
    "            margin=go.Margin(t=80, b=80, l=150, r=80, pad=0)))\n",
    "    return fig"
   ]
  },
  {
   "cell_type": "code",
   "execution_count": 80,
   "metadata": {},
   "outputs": [
    {
     "data": {
      "application/vnd.plotly.v1+json": {
       "data": [
        {
         "colorbar": {
          "title": "Percentage",
          "titleside": "right"
         },
         "colorscale": "YlGnBu",
         "showscale": true,
         "type": "heatmap",
         "x": null,
         "y": [
          "Landry2016",
          "Landry2015_2",
          "Landry2015_1",
          "Violon",
          "Yoann_2015",
          "Landry2013",
          "Landry2012",
          "Tennis",
          "Patrick_2013",
          "Sylvain_2015"
         ],
         "z": [
          [
           11,
           0,
           23,
           6,
           14,
           11,
           0,
           5,
           4,
           2,
           5,
           0,
           0,
           5,
           0,
           9
          ],
          [
           17,
           0,
           19,
           11,
           22,
           17,
           0,
           0,
           0,
           0,
           0,
           0,
           0,
           0,
           12,
           0
          ],
          [
           20,
           0,
           24,
           12,
           9,
           13,
           0,
           0,
           3,
           5,
           6,
           0,
           0,
           0,
           3,
           0
          ],
          [
           0,
           0,
           28,
           6,
           8,
           28,
           0,
           0,
           5,
           8,
           13,
           0,
           0,
           0,
           0,
           0
          ],
          [
           4,
           13,
           23,
           1,
           6,
           10,
           0,
           4,
           1,
           2,
           3,
           6,
           0,
           5,
           14,
           0
          ],
          [
           4,
           12,
           21,
           8,
           7,
           9,
           6,
           9,
           0,
           0,
           0,
           0,
           0,
           0,
           19,
           0
          ],
          [
           6,
           16,
           12,
           16,
           8,
           21,
           4,
           12,
           0,
           0,
           0,
           0,
           0,
           0,
           0,
           0
          ],
          [
           8,
           0,
           17,
           18,
           5,
           10,
           6,
           0,
           3,
           3,
           8,
           0,
           0,
           10,
           0,
           8
          ],
          [
           7,
           10,
           18,
           5,
           9,
           6,
           5,
           6,
           2,
           1,
           5,
           4,
           1,
           5,
           9,
           0
          ],
          [
           12,
           10,
           14,
           6,
           1,
           12,
           2,
           6,
           3,
           3,
           8,
           9,
           2,
           2,
           6,
           0
          ]
         ]
        }
       ],
       "layout": {
        "annotations": [
         {
          "font": {
           "color": "#000000"
          },
          "showarrow": false,
          "text": "11",
          "x": 0,
          "xref": "x1",
          "y": "Landry2016",
          "yref": "y1"
         },
         {
          "font": {
           "color": "#000000"
          },
          "showarrow": false,
          "text": "0",
          "x": 1,
          "xref": "x1",
          "y": "Landry2016",
          "yref": "y1"
         },
         {
          "font": {
           "color": "#000000"
          },
          "showarrow": false,
          "text": "23",
          "x": 2,
          "xref": "x1",
          "y": "Landry2016",
          "yref": "y1"
         },
         {
          "font": {
           "color": "#000000"
          },
          "showarrow": false,
          "text": "6",
          "x": 3,
          "xref": "x1",
          "y": "Landry2016",
          "yref": "y1"
         },
         {
          "font": {
           "color": "#000000"
          },
          "showarrow": false,
          "text": "14",
          "x": 4,
          "xref": "x1",
          "y": "Landry2016",
          "yref": "y1"
         },
         {
          "font": {
           "color": "#000000"
          },
          "showarrow": false,
          "text": "11",
          "x": 5,
          "xref": "x1",
          "y": "Landry2016",
          "yref": "y1"
         },
         {
          "font": {
           "color": "#000000"
          },
          "showarrow": false,
          "text": "0",
          "x": 6,
          "xref": "x1",
          "y": "Landry2016",
          "yref": "y1"
         },
         {
          "font": {
           "color": "#000000"
          },
          "showarrow": false,
          "text": "5",
          "x": 7,
          "xref": "x1",
          "y": "Landry2016",
          "yref": "y1"
         },
         {
          "font": {
           "color": "#000000"
          },
          "showarrow": false,
          "text": "4",
          "x": 8,
          "xref": "x1",
          "y": "Landry2016",
          "yref": "y1"
         },
         {
          "font": {
           "color": "#000000"
          },
          "showarrow": false,
          "text": "2",
          "x": 9,
          "xref": "x1",
          "y": "Landry2016",
          "yref": "y1"
         },
         {
          "font": {
           "color": "#000000"
          },
          "showarrow": false,
          "text": "5",
          "x": 10,
          "xref": "x1",
          "y": "Landry2016",
          "yref": "y1"
         },
         {
          "font": {
           "color": "#000000"
          },
          "showarrow": false,
          "text": "0",
          "x": 11,
          "xref": "x1",
          "y": "Landry2016",
          "yref": "y1"
         },
         {
          "font": {
           "color": "#000000"
          },
          "showarrow": false,
          "text": "0",
          "x": 12,
          "xref": "x1",
          "y": "Landry2016",
          "yref": "y1"
         },
         {
          "font": {
           "color": "#000000"
          },
          "showarrow": false,
          "text": "5",
          "x": 13,
          "xref": "x1",
          "y": "Landry2016",
          "yref": "y1"
         },
         {
          "font": {
           "color": "#000000"
          },
          "showarrow": false,
          "text": "0",
          "x": 14,
          "xref": "x1",
          "y": "Landry2016",
          "yref": "y1"
         },
         {
          "font": {
           "color": "#000000"
          },
          "showarrow": false,
          "text": "9",
          "x": 15,
          "xref": "x1",
          "y": "Landry2016",
          "yref": "y1"
         },
         {
          "font": {
           "color": "#000000"
          },
          "showarrow": false,
          "text": "17",
          "x": 0,
          "xref": "x1",
          "y": "Landry2015_2",
          "yref": "y1"
         },
         {
          "font": {
           "color": "#000000"
          },
          "showarrow": false,
          "text": "0",
          "x": 1,
          "xref": "x1",
          "y": "Landry2015_2",
          "yref": "y1"
         },
         {
          "font": {
           "color": "#000000"
          },
          "showarrow": false,
          "text": "19",
          "x": 2,
          "xref": "x1",
          "y": "Landry2015_2",
          "yref": "y1"
         },
         {
          "font": {
           "color": "#000000"
          },
          "showarrow": false,
          "text": "11",
          "x": 3,
          "xref": "x1",
          "y": "Landry2015_2",
          "yref": "y1"
         },
         {
          "font": {
           "color": "#000000"
          },
          "showarrow": false,
          "text": "22",
          "x": 4,
          "xref": "x1",
          "y": "Landry2015_2",
          "yref": "y1"
         },
         {
          "font": {
           "color": "#000000"
          },
          "showarrow": false,
          "text": "17",
          "x": 5,
          "xref": "x1",
          "y": "Landry2015_2",
          "yref": "y1"
         },
         {
          "font": {
           "color": "#000000"
          },
          "showarrow": false,
          "text": "0",
          "x": 6,
          "xref": "x1",
          "y": "Landry2015_2",
          "yref": "y1"
         },
         {
          "font": {
           "color": "#000000"
          },
          "showarrow": false,
          "text": "0",
          "x": 7,
          "xref": "x1",
          "y": "Landry2015_2",
          "yref": "y1"
         },
         {
          "font": {
           "color": "#000000"
          },
          "showarrow": false,
          "text": "0",
          "x": 8,
          "xref": "x1",
          "y": "Landry2015_2",
          "yref": "y1"
         },
         {
          "font": {
           "color": "#000000"
          },
          "showarrow": false,
          "text": "0",
          "x": 9,
          "xref": "x1",
          "y": "Landry2015_2",
          "yref": "y1"
         },
         {
          "font": {
           "color": "#000000"
          },
          "showarrow": false,
          "text": "0",
          "x": 10,
          "xref": "x1",
          "y": "Landry2015_2",
          "yref": "y1"
         },
         {
          "font": {
           "color": "#000000"
          },
          "showarrow": false,
          "text": "0",
          "x": 11,
          "xref": "x1",
          "y": "Landry2015_2",
          "yref": "y1"
         },
         {
          "font": {
           "color": "#000000"
          },
          "showarrow": false,
          "text": "0",
          "x": 12,
          "xref": "x1",
          "y": "Landry2015_2",
          "yref": "y1"
         },
         {
          "font": {
           "color": "#000000"
          },
          "showarrow": false,
          "text": "0",
          "x": 13,
          "xref": "x1",
          "y": "Landry2015_2",
          "yref": "y1"
         },
         {
          "font": {
           "color": "#000000"
          },
          "showarrow": false,
          "text": "12",
          "x": 14,
          "xref": "x1",
          "y": "Landry2015_2",
          "yref": "y1"
         },
         {
          "font": {
           "color": "#000000"
          },
          "showarrow": false,
          "text": "0",
          "x": 15,
          "xref": "x1",
          "y": "Landry2015_2",
          "yref": "y1"
         },
         {
          "font": {
           "color": "#000000"
          },
          "showarrow": false,
          "text": "20",
          "x": 0,
          "xref": "x1",
          "y": "Landry2015_1",
          "yref": "y1"
         },
         {
          "font": {
           "color": "#000000"
          },
          "showarrow": false,
          "text": "0",
          "x": 1,
          "xref": "x1",
          "y": "Landry2015_1",
          "yref": "y1"
         },
         {
          "font": {
           "color": "#000000"
          },
          "showarrow": false,
          "text": "24",
          "x": 2,
          "xref": "x1",
          "y": "Landry2015_1",
          "yref": "y1"
         },
         {
          "font": {
           "color": "#000000"
          },
          "showarrow": false,
          "text": "12",
          "x": 3,
          "xref": "x1",
          "y": "Landry2015_1",
          "yref": "y1"
         },
         {
          "font": {
           "color": "#000000"
          },
          "showarrow": false,
          "text": "9",
          "x": 4,
          "xref": "x1",
          "y": "Landry2015_1",
          "yref": "y1"
         },
         {
          "font": {
           "color": "#000000"
          },
          "showarrow": false,
          "text": "13",
          "x": 5,
          "xref": "x1",
          "y": "Landry2015_1",
          "yref": "y1"
         },
         {
          "font": {
           "color": "#000000"
          },
          "showarrow": false,
          "text": "0",
          "x": 6,
          "xref": "x1",
          "y": "Landry2015_1",
          "yref": "y1"
         },
         {
          "font": {
           "color": "#000000"
          },
          "showarrow": false,
          "text": "0",
          "x": 7,
          "xref": "x1",
          "y": "Landry2015_1",
          "yref": "y1"
         },
         {
          "font": {
           "color": "#000000"
          },
          "showarrow": false,
          "text": "3",
          "x": 8,
          "xref": "x1",
          "y": "Landry2015_1",
          "yref": "y1"
         },
         {
          "font": {
           "color": "#000000"
          },
          "showarrow": false,
          "text": "5",
          "x": 9,
          "xref": "x1",
          "y": "Landry2015_1",
          "yref": "y1"
         },
         {
          "font": {
           "color": "#000000"
          },
          "showarrow": false,
          "text": "6",
          "x": 10,
          "xref": "x1",
          "y": "Landry2015_1",
          "yref": "y1"
         },
         {
          "font": {
           "color": "#000000"
          },
          "showarrow": false,
          "text": "0",
          "x": 11,
          "xref": "x1",
          "y": "Landry2015_1",
          "yref": "y1"
         },
         {
          "font": {
           "color": "#000000"
          },
          "showarrow": false,
          "text": "0",
          "x": 12,
          "xref": "x1",
          "y": "Landry2015_1",
          "yref": "y1"
         },
         {
          "font": {
           "color": "#000000"
          },
          "showarrow": false,
          "text": "0",
          "x": 13,
          "xref": "x1",
          "y": "Landry2015_1",
          "yref": "y1"
         },
         {
          "font": {
           "color": "#000000"
          },
          "showarrow": false,
          "text": "3",
          "x": 14,
          "xref": "x1",
          "y": "Landry2015_1",
          "yref": "y1"
         },
         {
          "font": {
           "color": "#000000"
          },
          "showarrow": false,
          "text": "0",
          "x": 15,
          "xref": "x1",
          "y": "Landry2015_1",
          "yref": "y1"
         },
         {
          "font": {
           "color": "#000000"
          },
          "showarrow": false,
          "text": "0",
          "x": 0,
          "xref": "x1",
          "y": "Violon",
          "yref": "y1"
         },
         {
          "font": {
           "color": "#000000"
          },
          "showarrow": false,
          "text": "0",
          "x": 1,
          "xref": "x1",
          "y": "Violon",
          "yref": "y1"
         },
         {
          "font": {
           "color": "#000000"
          },
          "showarrow": false,
          "text": "28",
          "x": 2,
          "xref": "x1",
          "y": "Violon",
          "yref": "y1"
         },
         {
          "font": {
           "color": "#000000"
          },
          "showarrow": false,
          "text": "6",
          "x": 3,
          "xref": "x1",
          "y": "Violon",
          "yref": "y1"
         },
         {
          "font": {
           "color": "#000000"
          },
          "showarrow": false,
          "text": "8",
          "x": 4,
          "xref": "x1",
          "y": "Violon",
          "yref": "y1"
         },
         {
          "font": {
           "color": "#000000"
          },
          "showarrow": false,
          "text": "28",
          "x": 5,
          "xref": "x1",
          "y": "Violon",
          "yref": "y1"
         },
         {
          "font": {
           "color": "#000000"
          },
          "showarrow": false,
          "text": "0",
          "x": 6,
          "xref": "x1",
          "y": "Violon",
          "yref": "y1"
         },
         {
          "font": {
           "color": "#000000"
          },
          "showarrow": false,
          "text": "0",
          "x": 7,
          "xref": "x1",
          "y": "Violon",
          "yref": "y1"
         },
         {
          "font": {
           "color": "#000000"
          },
          "showarrow": false,
          "text": "5",
          "x": 8,
          "xref": "x1",
          "y": "Violon",
          "yref": "y1"
         },
         {
          "font": {
           "color": "#000000"
          },
          "showarrow": false,
          "text": "8",
          "x": 9,
          "xref": "x1",
          "y": "Violon",
          "yref": "y1"
         },
         {
          "font": {
           "color": "#000000"
          },
          "showarrow": false,
          "text": "13",
          "x": 10,
          "xref": "x1",
          "y": "Violon",
          "yref": "y1"
         },
         {
          "font": {
           "color": "#000000"
          },
          "showarrow": false,
          "text": "0",
          "x": 11,
          "xref": "x1",
          "y": "Violon",
          "yref": "y1"
         },
         {
          "font": {
           "color": "#000000"
          },
          "showarrow": false,
          "text": "0",
          "x": 12,
          "xref": "x1",
          "y": "Violon",
          "yref": "y1"
         },
         {
          "font": {
           "color": "#000000"
          },
          "showarrow": false,
          "text": "0",
          "x": 13,
          "xref": "x1",
          "y": "Violon",
          "yref": "y1"
         },
         {
          "font": {
           "color": "#000000"
          },
          "showarrow": false,
          "text": "0",
          "x": 14,
          "xref": "x1",
          "y": "Violon",
          "yref": "y1"
         },
         {
          "font": {
           "color": "#000000"
          },
          "showarrow": false,
          "text": "0",
          "x": 15,
          "xref": "x1",
          "y": "Violon",
          "yref": "y1"
         },
         {
          "font": {
           "color": "#000000"
          },
          "showarrow": false,
          "text": "4",
          "x": 0,
          "xref": "x1",
          "y": "Yoann_2015",
          "yref": "y1"
         },
         {
          "font": {
           "color": "#000000"
          },
          "showarrow": false,
          "text": "13",
          "x": 1,
          "xref": "x1",
          "y": "Yoann_2015",
          "yref": "y1"
         },
         {
          "font": {
           "color": "#000000"
          },
          "showarrow": false,
          "text": "23",
          "x": 2,
          "xref": "x1",
          "y": "Yoann_2015",
          "yref": "y1"
         },
         {
          "font": {
           "color": "#000000"
          },
          "showarrow": false,
          "text": "1",
          "x": 3,
          "xref": "x1",
          "y": "Yoann_2015",
          "yref": "y1"
         },
         {
          "font": {
           "color": "#000000"
          },
          "showarrow": false,
          "text": "6",
          "x": 4,
          "xref": "x1",
          "y": "Yoann_2015",
          "yref": "y1"
         },
         {
          "font": {
           "color": "#000000"
          },
          "showarrow": false,
          "text": "10",
          "x": 5,
          "xref": "x1",
          "y": "Yoann_2015",
          "yref": "y1"
         },
         {
          "font": {
           "color": "#000000"
          },
          "showarrow": false,
          "text": "0",
          "x": 6,
          "xref": "x1",
          "y": "Yoann_2015",
          "yref": "y1"
         },
         {
          "font": {
           "color": "#000000"
          },
          "showarrow": false,
          "text": "4",
          "x": 7,
          "xref": "x1",
          "y": "Yoann_2015",
          "yref": "y1"
         },
         {
          "font": {
           "color": "#000000"
          },
          "showarrow": false,
          "text": "1",
          "x": 8,
          "xref": "x1",
          "y": "Yoann_2015",
          "yref": "y1"
         },
         {
          "font": {
           "color": "#000000"
          },
          "showarrow": false,
          "text": "2",
          "x": 9,
          "xref": "x1",
          "y": "Yoann_2015",
          "yref": "y1"
         },
         {
          "font": {
           "color": "#000000"
          },
          "showarrow": false,
          "text": "3",
          "x": 10,
          "xref": "x1",
          "y": "Yoann_2015",
          "yref": "y1"
         },
         {
          "font": {
           "color": "#000000"
          },
          "showarrow": false,
          "text": "6",
          "x": 11,
          "xref": "x1",
          "y": "Yoann_2015",
          "yref": "y1"
         },
         {
          "font": {
           "color": "#000000"
          },
          "showarrow": false,
          "text": "0",
          "x": 12,
          "xref": "x1",
          "y": "Yoann_2015",
          "yref": "y1"
         },
         {
          "font": {
           "color": "#000000"
          },
          "showarrow": false,
          "text": "5",
          "x": 13,
          "xref": "x1",
          "y": "Yoann_2015",
          "yref": "y1"
         },
         {
          "font": {
           "color": "#000000"
          },
          "showarrow": false,
          "text": "14",
          "x": 14,
          "xref": "x1",
          "y": "Yoann_2015",
          "yref": "y1"
         },
         {
          "font": {
           "color": "#000000"
          },
          "showarrow": false,
          "text": "0",
          "x": 15,
          "xref": "x1",
          "y": "Yoann_2015",
          "yref": "y1"
         },
         {
          "font": {
           "color": "#000000"
          },
          "showarrow": false,
          "text": "4",
          "x": 0,
          "xref": "x1",
          "y": "Landry2013",
          "yref": "y1"
         },
         {
          "font": {
           "color": "#000000"
          },
          "showarrow": false,
          "text": "12",
          "x": 1,
          "xref": "x1",
          "y": "Landry2013",
          "yref": "y1"
         },
         {
          "font": {
           "color": "#000000"
          },
          "showarrow": false,
          "text": "21",
          "x": 2,
          "xref": "x1",
          "y": "Landry2013",
          "yref": "y1"
         },
         {
          "font": {
           "color": "#000000"
          },
          "showarrow": false,
          "text": "8",
          "x": 3,
          "xref": "x1",
          "y": "Landry2013",
          "yref": "y1"
         },
         {
          "font": {
           "color": "#000000"
          },
          "showarrow": false,
          "text": "7",
          "x": 4,
          "xref": "x1",
          "y": "Landry2013",
          "yref": "y1"
         },
         {
          "font": {
           "color": "#000000"
          },
          "showarrow": false,
          "text": "9",
          "x": 5,
          "xref": "x1",
          "y": "Landry2013",
          "yref": "y1"
         },
         {
          "font": {
           "color": "#000000"
          },
          "showarrow": false,
          "text": "6",
          "x": 6,
          "xref": "x1",
          "y": "Landry2013",
          "yref": "y1"
         },
         {
          "font": {
           "color": "#000000"
          },
          "showarrow": false,
          "text": "9",
          "x": 7,
          "xref": "x1",
          "y": "Landry2013",
          "yref": "y1"
         },
         {
          "font": {
           "color": "#000000"
          },
          "showarrow": false,
          "text": "0",
          "x": 8,
          "xref": "x1",
          "y": "Landry2013",
          "yref": "y1"
         },
         {
          "font": {
           "color": "#000000"
          },
          "showarrow": false,
          "text": "0",
          "x": 9,
          "xref": "x1",
          "y": "Landry2013",
          "yref": "y1"
         },
         {
          "font": {
           "color": "#000000"
          },
          "showarrow": false,
          "text": "0",
          "x": 10,
          "xref": "x1",
          "y": "Landry2013",
          "yref": "y1"
         },
         {
          "font": {
           "color": "#000000"
          },
          "showarrow": false,
          "text": "0",
          "x": 11,
          "xref": "x1",
          "y": "Landry2013",
          "yref": "y1"
         },
         {
          "font": {
           "color": "#000000"
          },
          "showarrow": false,
          "text": "0",
          "x": 12,
          "xref": "x1",
          "y": "Landry2013",
          "yref": "y1"
         },
         {
          "font": {
           "color": "#000000"
          },
          "showarrow": false,
          "text": "0",
          "x": 13,
          "xref": "x1",
          "y": "Landry2013",
          "yref": "y1"
         },
         {
          "font": {
           "color": "#000000"
          },
          "showarrow": false,
          "text": "19",
          "x": 14,
          "xref": "x1",
          "y": "Landry2013",
          "yref": "y1"
         },
         {
          "font": {
           "color": "#000000"
          },
          "showarrow": false,
          "text": "0",
          "x": 15,
          "xref": "x1",
          "y": "Landry2013",
          "yref": "y1"
         },
         {
          "font": {
           "color": "#000000"
          },
          "showarrow": false,
          "text": "6",
          "x": 0,
          "xref": "x1",
          "y": "Landry2012",
          "yref": "y1"
         },
         {
          "font": {
           "color": "#000000"
          },
          "showarrow": false,
          "text": "16",
          "x": 1,
          "xref": "x1",
          "y": "Landry2012",
          "yref": "y1"
         },
         {
          "font": {
           "color": "#000000"
          },
          "showarrow": false,
          "text": "12",
          "x": 2,
          "xref": "x1",
          "y": "Landry2012",
          "yref": "y1"
         },
         {
          "font": {
           "color": "#000000"
          },
          "showarrow": false,
          "text": "16",
          "x": 3,
          "xref": "x1",
          "y": "Landry2012",
          "yref": "y1"
         },
         {
          "font": {
           "color": "#000000"
          },
          "showarrow": false,
          "text": "8",
          "x": 4,
          "xref": "x1",
          "y": "Landry2012",
          "yref": "y1"
         },
         {
          "font": {
           "color": "#000000"
          },
          "showarrow": false,
          "text": "21",
          "x": 5,
          "xref": "x1",
          "y": "Landry2012",
          "yref": "y1"
         },
         {
          "font": {
           "color": "#000000"
          },
          "showarrow": false,
          "text": "4",
          "x": 6,
          "xref": "x1",
          "y": "Landry2012",
          "yref": "y1"
         },
         {
          "font": {
           "color": "#000000"
          },
          "showarrow": false,
          "text": "12",
          "x": 7,
          "xref": "x1",
          "y": "Landry2012",
          "yref": "y1"
         },
         {
          "font": {
           "color": "#000000"
          },
          "showarrow": false,
          "text": "0",
          "x": 8,
          "xref": "x1",
          "y": "Landry2012",
          "yref": "y1"
         },
         {
          "font": {
           "color": "#000000"
          },
          "showarrow": false,
          "text": "0",
          "x": 9,
          "xref": "x1",
          "y": "Landry2012",
          "yref": "y1"
         },
         {
          "font": {
           "color": "#000000"
          },
          "showarrow": false,
          "text": "0",
          "x": 10,
          "xref": "x1",
          "y": "Landry2012",
          "yref": "y1"
         },
         {
          "font": {
           "color": "#000000"
          },
          "showarrow": false,
          "text": "0",
          "x": 11,
          "xref": "x1",
          "y": "Landry2012",
          "yref": "y1"
         },
         {
          "font": {
           "color": "#000000"
          },
          "showarrow": false,
          "text": "0",
          "x": 12,
          "xref": "x1",
          "y": "Landry2012",
          "yref": "y1"
         },
         {
          "font": {
           "color": "#000000"
          },
          "showarrow": false,
          "text": "0",
          "x": 13,
          "xref": "x1",
          "y": "Landry2012",
          "yref": "y1"
         },
         {
          "font": {
           "color": "#000000"
          },
          "showarrow": false,
          "text": "0",
          "x": 14,
          "xref": "x1",
          "y": "Landry2012",
          "yref": "y1"
         },
         {
          "font": {
           "color": "#000000"
          },
          "showarrow": false,
          "text": "0",
          "x": 15,
          "xref": "x1",
          "y": "Landry2012",
          "yref": "y1"
         },
         {
          "font": {
           "color": "#000000"
          },
          "showarrow": false,
          "text": "8",
          "x": 0,
          "xref": "x1",
          "y": "Tennis",
          "yref": "y1"
         },
         {
          "font": {
           "color": "#000000"
          },
          "showarrow": false,
          "text": "0",
          "x": 1,
          "xref": "x1",
          "y": "Tennis",
          "yref": "y1"
         },
         {
          "font": {
           "color": "#000000"
          },
          "showarrow": false,
          "text": "17",
          "x": 2,
          "xref": "x1",
          "y": "Tennis",
          "yref": "y1"
         },
         {
          "font": {
           "color": "#000000"
          },
          "showarrow": false,
          "text": "18",
          "x": 3,
          "xref": "x1",
          "y": "Tennis",
          "yref": "y1"
         },
         {
          "font": {
           "color": "#000000"
          },
          "showarrow": false,
          "text": "5",
          "x": 4,
          "xref": "x1",
          "y": "Tennis",
          "yref": "y1"
         },
         {
          "font": {
           "color": "#000000"
          },
          "showarrow": false,
          "text": "10",
          "x": 5,
          "xref": "x1",
          "y": "Tennis",
          "yref": "y1"
         },
         {
          "font": {
           "color": "#000000"
          },
          "showarrow": false,
          "text": "6",
          "x": 6,
          "xref": "x1",
          "y": "Tennis",
          "yref": "y1"
         },
         {
          "font": {
           "color": "#000000"
          },
          "showarrow": false,
          "text": "0",
          "x": 7,
          "xref": "x1",
          "y": "Tennis",
          "yref": "y1"
         },
         {
          "font": {
           "color": "#000000"
          },
          "showarrow": false,
          "text": "3",
          "x": 8,
          "xref": "x1",
          "y": "Tennis",
          "yref": "y1"
         },
         {
          "font": {
           "color": "#000000"
          },
          "showarrow": false,
          "text": "3",
          "x": 9,
          "xref": "x1",
          "y": "Tennis",
          "yref": "y1"
         },
         {
          "font": {
           "color": "#000000"
          },
          "showarrow": false,
          "text": "8",
          "x": 10,
          "xref": "x1",
          "y": "Tennis",
          "yref": "y1"
         },
         {
          "font": {
           "color": "#000000"
          },
          "showarrow": false,
          "text": "0",
          "x": 11,
          "xref": "x1",
          "y": "Tennis",
          "yref": "y1"
         },
         {
          "font": {
           "color": "#000000"
          },
          "showarrow": false,
          "text": "0",
          "x": 12,
          "xref": "x1",
          "y": "Tennis",
          "yref": "y1"
         },
         {
          "font": {
           "color": "#000000"
          },
          "showarrow": false,
          "text": "10",
          "x": 13,
          "xref": "x1",
          "y": "Tennis",
          "yref": "y1"
         },
         {
          "font": {
           "color": "#000000"
          },
          "showarrow": false,
          "text": "0",
          "x": 14,
          "xref": "x1",
          "y": "Tennis",
          "yref": "y1"
         },
         {
          "font": {
           "color": "#000000"
          },
          "showarrow": false,
          "text": "8",
          "x": 15,
          "xref": "x1",
          "y": "Tennis",
          "yref": "y1"
         },
         {
          "font": {
           "color": "#000000"
          },
          "showarrow": false,
          "text": "7",
          "x": 0,
          "xref": "x1",
          "y": "Patrick_2013",
          "yref": "y1"
         },
         {
          "font": {
           "color": "#000000"
          },
          "showarrow": false,
          "text": "10",
          "x": 1,
          "xref": "x1",
          "y": "Patrick_2013",
          "yref": "y1"
         },
         {
          "font": {
           "color": "#000000"
          },
          "showarrow": false,
          "text": "18",
          "x": 2,
          "xref": "x1",
          "y": "Patrick_2013",
          "yref": "y1"
         },
         {
          "font": {
           "color": "#000000"
          },
          "showarrow": false,
          "text": "5",
          "x": 3,
          "xref": "x1",
          "y": "Patrick_2013",
          "yref": "y1"
         },
         {
          "font": {
           "color": "#000000"
          },
          "showarrow": false,
          "text": "9",
          "x": 4,
          "xref": "x1",
          "y": "Patrick_2013",
          "yref": "y1"
         },
         {
          "font": {
           "color": "#000000"
          },
          "showarrow": false,
          "text": "6",
          "x": 5,
          "xref": "x1",
          "y": "Patrick_2013",
          "yref": "y1"
         },
         {
          "font": {
           "color": "#000000"
          },
          "showarrow": false,
          "text": "5",
          "x": 6,
          "xref": "x1",
          "y": "Patrick_2013",
          "yref": "y1"
         },
         {
          "font": {
           "color": "#000000"
          },
          "showarrow": false,
          "text": "6",
          "x": 7,
          "xref": "x1",
          "y": "Patrick_2013",
          "yref": "y1"
         },
         {
          "font": {
           "color": "#000000"
          },
          "showarrow": false,
          "text": "2",
          "x": 8,
          "xref": "x1",
          "y": "Patrick_2013",
          "yref": "y1"
         },
         {
          "font": {
           "color": "#000000"
          },
          "showarrow": false,
          "text": "1",
          "x": 9,
          "xref": "x1",
          "y": "Patrick_2013",
          "yref": "y1"
         },
         {
          "font": {
           "color": "#000000"
          },
          "showarrow": false,
          "text": "5",
          "x": 10,
          "xref": "x1",
          "y": "Patrick_2013",
          "yref": "y1"
         },
         {
          "font": {
           "color": "#000000"
          },
          "showarrow": false,
          "text": "4",
          "x": 11,
          "xref": "x1",
          "y": "Patrick_2013",
          "yref": "y1"
         },
         {
          "font": {
           "color": "#000000"
          },
          "showarrow": false,
          "text": "1",
          "x": 12,
          "xref": "x1",
          "y": "Patrick_2013",
          "yref": "y1"
         },
         {
          "font": {
           "color": "#000000"
          },
          "showarrow": false,
          "text": "5",
          "x": 13,
          "xref": "x1",
          "y": "Patrick_2013",
          "yref": "y1"
         },
         {
          "font": {
           "color": "#000000"
          },
          "showarrow": false,
          "text": "9",
          "x": 14,
          "xref": "x1",
          "y": "Patrick_2013",
          "yref": "y1"
         },
         {
          "font": {
           "color": "#000000"
          },
          "showarrow": false,
          "text": "0",
          "x": 15,
          "xref": "x1",
          "y": "Patrick_2013",
          "yref": "y1"
         },
         {
          "font": {
           "color": "#000000"
          },
          "showarrow": false,
          "text": "12",
          "x": 0,
          "xref": "x1",
          "y": "Sylvain_2015",
          "yref": "y1"
         },
         {
          "font": {
           "color": "#000000"
          },
          "showarrow": false,
          "text": "10",
          "x": 1,
          "xref": "x1",
          "y": "Sylvain_2015",
          "yref": "y1"
         },
         {
          "font": {
           "color": "#000000"
          },
          "showarrow": false,
          "text": "14",
          "x": 2,
          "xref": "x1",
          "y": "Sylvain_2015",
          "yref": "y1"
         },
         {
          "font": {
           "color": "#000000"
          },
          "showarrow": false,
          "text": "6",
          "x": 3,
          "xref": "x1",
          "y": "Sylvain_2015",
          "yref": "y1"
         },
         {
          "font": {
           "color": "#000000"
          },
          "showarrow": false,
          "text": "1",
          "x": 4,
          "xref": "x1",
          "y": "Sylvain_2015",
          "yref": "y1"
         },
         {
          "font": {
           "color": "#000000"
          },
          "showarrow": false,
          "text": "12",
          "x": 5,
          "xref": "x1",
          "y": "Sylvain_2015",
          "yref": "y1"
         },
         {
          "font": {
           "color": "#000000"
          },
          "showarrow": false,
          "text": "2",
          "x": 6,
          "xref": "x1",
          "y": "Sylvain_2015",
          "yref": "y1"
         },
         {
          "font": {
           "color": "#000000"
          },
          "showarrow": false,
          "text": "6",
          "x": 7,
          "xref": "x1",
          "y": "Sylvain_2015",
          "yref": "y1"
         },
         {
          "font": {
           "color": "#000000"
          },
          "showarrow": false,
          "text": "3",
          "x": 8,
          "xref": "x1",
          "y": "Sylvain_2015",
          "yref": "y1"
         },
         {
          "font": {
           "color": "#000000"
          },
          "showarrow": false,
          "text": "3",
          "x": 9,
          "xref": "x1",
          "y": "Sylvain_2015",
          "yref": "y1"
         },
         {
          "font": {
           "color": "#000000"
          },
          "showarrow": false,
          "text": "8",
          "x": 10,
          "xref": "x1",
          "y": "Sylvain_2015",
          "yref": "y1"
         },
         {
          "font": {
           "color": "#000000"
          },
          "showarrow": false,
          "text": "9",
          "x": 11,
          "xref": "x1",
          "y": "Sylvain_2015",
          "yref": "y1"
         },
         {
          "font": {
           "color": "#000000"
          },
          "showarrow": false,
          "text": "2",
          "x": 12,
          "xref": "x1",
          "y": "Sylvain_2015",
          "yref": "y1"
         },
         {
          "font": {
           "color": "#000000"
          },
          "showarrow": false,
          "text": "2",
          "x": 13,
          "xref": "x1",
          "y": "Sylvain_2015",
          "yref": "y1"
         },
         {
          "font": {
           "color": "#000000"
          },
          "showarrow": false,
          "text": "6",
          "x": 14,
          "xref": "x1",
          "y": "Sylvain_2015",
          "yref": "y1"
         },
         {
          "font": {
           "color": "#000000"
          },
          "showarrow": false,
          "text": "0",
          "x": 15,
          "xref": "x1",
          "y": "Sylvain_2015",
          "yref": "y1"
         }
        ],
        "font": {
         "size": 14
        },
        "hovermode": "closest",
        "margin": {
         "b": 80,
         "l": 150,
         "pad": 0,
         "r": 80,
         "t": 80
        },
        "title": "Max for each test (normalized by participant number)",
        "xaxis": {
         "dtick": 1,
         "gridcolor": "rgb(0, 0, 0)",
         "side": "bottom",
         "ticks": "",
         "title": "Tests"
        },
        "yaxis": {
         "autorange": "reversed",
         "dtick": 1,
         "ticks": "",
         "ticksuffix": "  ",
         "title": null
        }
       }
      },
      "text/html": [
       "<div id=\"17e464ff-6433-4e72-91b7-7b6b88cff10e\" style=\"height: 525px; width: 100%;\" class=\"plotly-graph-div\"></div><script type=\"text/javascript\">require([\"plotly\"], function(Plotly) { window.PLOTLYENV=window.PLOTLYENV || {};window.PLOTLYENV.BASE_URL=\"https://plot.ly\";Plotly.newPlot(\"17e464ff-6433-4e72-91b7-7b6b88cff10e\", [{\"type\": \"heatmap\", \"z\": [[11, 0, 23, 6, 14, 11, 0, 5, 4, 2, 5, 0, 0, 5, 0, 9], [17, 0, 19, 11, 22, 17, 0, 0, 0, 0, 0, 0, 0, 0, 12, 0], [20, 0, 24, 12, 9, 13, 0, 0, 3, 5, 6, 0, 0, 0, 3, 0], [0, 0, 28, 6, 8, 28, 0, 0, 5, 8, 13, 0, 0, 0, 0, 0], [4, 13, 23, 1, 6, 10, 0, 4, 1, 2, 3, 6, 0, 5, 14, 0], [4, 12, 21, 8, 7, 9, 6, 9, 0, 0, 0, 0, 0, 0, 19, 0], [6, 16, 12, 16, 8, 21, 4, 12, 0, 0, 0, 0, 0, 0, 0, 0], [8, 0, 17, 18, 5, 10, 6, 0, 3, 3, 8, 0, 0, 10, 0, 8], [7, 10, 18, 5, 9, 6, 5, 6, 2, 1, 5, 4, 1, 5, 9, 0], [12, 10, 14, 6, 1, 12, 2, 6, 3, 3, 8, 9, 2, 2, 6, 0]], \"x\": null, \"y\": [\"Landry2016\", \"Landry2015_2\", \"Landry2015_1\", \"Violon\", \"Yoann_2015\", \"Landry2013\", \"Landry2012\", \"Tennis\", \"Patrick_2013\", \"Sylvain_2015\"], \"colorscale\": \"YlGnBu\", \"showscale\": true, \"colorbar\": {\"title\": \"Percentage\", \"titleside\": \"right\"}}], {\"annotations\": [{\"text\": \"11\", \"x\": 0, \"y\": \"Landry2016\", \"xref\": \"x1\", \"yref\": \"y1\", \"font\": {\"color\": \"#000000\"}, \"showarrow\": false}, {\"text\": \"0\", \"x\": 1, \"y\": \"Landry2016\", \"xref\": \"x1\", \"yref\": \"y1\", \"font\": {\"color\": \"#000000\"}, \"showarrow\": false}, {\"text\": \"23\", \"x\": 2, \"y\": \"Landry2016\", \"xref\": \"x1\", \"yref\": \"y1\", \"font\": {\"color\": \"#000000\"}, \"showarrow\": false}, {\"text\": \"6\", \"x\": 3, \"y\": \"Landry2016\", \"xref\": \"x1\", \"yref\": \"y1\", \"font\": {\"color\": \"#000000\"}, \"showarrow\": false}, {\"text\": \"14\", \"x\": 4, \"y\": \"Landry2016\", \"xref\": \"x1\", \"yref\": \"y1\", \"font\": {\"color\": \"#000000\"}, \"showarrow\": false}, {\"text\": \"11\", \"x\": 5, \"y\": \"Landry2016\", \"xref\": \"x1\", \"yref\": \"y1\", \"font\": {\"color\": \"#000000\"}, \"showarrow\": false}, {\"text\": \"0\", \"x\": 6, \"y\": \"Landry2016\", \"xref\": \"x1\", \"yref\": \"y1\", \"font\": {\"color\": \"#000000\"}, \"showarrow\": false}, {\"text\": \"5\", \"x\": 7, \"y\": \"Landry2016\", \"xref\": \"x1\", \"yref\": \"y1\", \"font\": {\"color\": \"#000000\"}, \"showarrow\": false}, {\"text\": \"4\", \"x\": 8, \"y\": \"Landry2016\", \"xref\": \"x1\", \"yref\": \"y1\", \"font\": {\"color\": \"#000000\"}, \"showarrow\": false}, {\"text\": \"2\", \"x\": 9, \"y\": \"Landry2016\", \"xref\": \"x1\", \"yref\": \"y1\", \"font\": {\"color\": \"#000000\"}, \"showarrow\": false}, {\"text\": \"5\", \"x\": 10, \"y\": \"Landry2016\", \"xref\": \"x1\", \"yref\": \"y1\", \"font\": {\"color\": \"#000000\"}, \"showarrow\": false}, {\"text\": \"0\", \"x\": 11, \"y\": \"Landry2016\", \"xref\": \"x1\", \"yref\": \"y1\", \"font\": {\"color\": \"#000000\"}, \"showarrow\": false}, {\"text\": \"0\", \"x\": 12, \"y\": \"Landry2016\", \"xref\": \"x1\", \"yref\": \"y1\", \"font\": {\"color\": \"#000000\"}, \"showarrow\": false}, {\"text\": \"5\", \"x\": 13, \"y\": \"Landry2016\", \"xref\": \"x1\", \"yref\": \"y1\", \"font\": {\"color\": \"#000000\"}, \"showarrow\": false}, {\"text\": \"0\", \"x\": 14, \"y\": \"Landry2016\", \"xref\": \"x1\", \"yref\": \"y1\", \"font\": {\"color\": \"#000000\"}, \"showarrow\": false}, {\"text\": \"9\", \"x\": 15, \"y\": \"Landry2016\", \"xref\": \"x1\", \"yref\": \"y1\", \"font\": {\"color\": \"#000000\"}, \"showarrow\": false}, {\"text\": \"17\", \"x\": 0, \"y\": \"Landry2015_2\", \"xref\": \"x1\", \"yref\": \"y1\", \"font\": {\"color\": \"#000000\"}, \"showarrow\": false}, {\"text\": \"0\", \"x\": 1, \"y\": \"Landry2015_2\", \"xref\": \"x1\", \"yref\": \"y1\", \"font\": {\"color\": \"#000000\"}, \"showarrow\": false}, {\"text\": \"19\", \"x\": 2, \"y\": \"Landry2015_2\", \"xref\": \"x1\", \"yref\": \"y1\", \"font\": {\"color\": \"#000000\"}, \"showarrow\": false}, {\"text\": \"11\", \"x\": 3, \"y\": \"Landry2015_2\", \"xref\": \"x1\", \"yref\": \"y1\", \"font\": {\"color\": \"#000000\"}, \"showarrow\": false}, {\"text\": \"22\", \"x\": 4, \"y\": \"Landry2015_2\", \"xref\": \"x1\", \"yref\": \"y1\", \"font\": {\"color\": \"#000000\"}, \"showarrow\": false}, {\"text\": \"17\", \"x\": 5, \"y\": \"Landry2015_2\", \"xref\": \"x1\", \"yref\": \"y1\", \"font\": {\"color\": \"#000000\"}, \"showarrow\": false}, {\"text\": \"0\", \"x\": 6, \"y\": \"Landry2015_2\", \"xref\": \"x1\", \"yref\": \"y1\", \"font\": {\"color\": \"#000000\"}, \"showarrow\": false}, {\"text\": \"0\", \"x\": 7, \"y\": \"Landry2015_2\", \"xref\": \"x1\", \"yref\": \"y1\", \"font\": {\"color\": \"#000000\"}, \"showarrow\": false}, {\"text\": \"0\", \"x\": 8, \"y\": \"Landry2015_2\", \"xref\": \"x1\", \"yref\": \"y1\", \"font\": {\"color\": \"#000000\"}, \"showarrow\": false}, {\"text\": \"0\", \"x\": 9, \"y\": \"Landry2015_2\", \"xref\": \"x1\", \"yref\": \"y1\", \"font\": {\"color\": \"#000000\"}, \"showarrow\": false}, {\"text\": \"0\", \"x\": 10, \"y\": \"Landry2015_2\", \"xref\": \"x1\", \"yref\": \"y1\", \"font\": {\"color\": \"#000000\"}, \"showarrow\": false}, {\"text\": \"0\", \"x\": 11, \"y\": \"Landry2015_2\", \"xref\": \"x1\", \"yref\": \"y1\", \"font\": {\"color\": \"#000000\"}, \"showarrow\": false}, {\"text\": \"0\", \"x\": 12, \"y\": \"Landry2015_2\", \"xref\": \"x1\", \"yref\": \"y1\", \"font\": {\"color\": \"#000000\"}, \"showarrow\": false}, {\"text\": \"0\", \"x\": 13, \"y\": \"Landry2015_2\", \"xref\": \"x1\", \"yref\": \"y1\", \"font\": {\"color\": \"#000000\"}, \"showarrow\": false}, {\"text\": \"12\", \"x\": 14, \"y\": \"Landry2015_2\", \"xref\": \"x1\", \"yref\": \"y1\", \"font\": {\"color\": \"#000000\"}, \"showarrow\": false}, {\"text\": \"0\", \"x\": 15, \"y\": \"Landry2015_2\", \"xref\": \"x1\", \"yref\": \"y1\", \"font\": {\"color\": \"#000000\"}, \"showarrow\": false}, {\"text\": \"20\", \"x\": 0, \"y\": \"Landry2015_1\", \"xref\": \"x1\", \"yref\": \"y1\", \"font\": {\"color\": \"#000000\"}, \"showarrow\": false}, {\"text\": \"0\", \"x\": 1, \"y\": \"Landry2015_1\", \"xref\": \"x1\", \"yref\": \"y1\", \"font\": {\"color\": \"#000000\"}, \"showarrow\": false}, {\"text\": \"24\", \"x\": 2, \"y\": \"Landry2015_1\", \"xref\": \"x1\", \"yref\": \"y1\", \"font\": {\"color\": \"#000000\"}, \"showarrow\": false}, {\"text\": \"12\", \"x\": 3, \"y\": \"Landry2015_1\", \"xref\": \"x1\", \"yref\": \"y1\", \"font\": {\"color\": \"#000000\"}, \"showarrow\": false}, {\"text\": \"9\", \"x\": 4, \"y\": \"Landry2015_1\", \"xref\": \"x1\", \"yref\": \"y1\", \"font\": {\"color\": \"#000000\"}, \"showarrow\": false}, {\"text\": \"13\", \"x\": 5, \"y\": \"Landry2015_1\", \"xref\": \"x1\", \"yref\": \"y1\", \"font\": {\"color\": \"#000000\"}, \"showarrow\": false}, {\"text\": \"0\", \"x\": 6, \"y\": \"Landry2015_1\", \"xref\": \"x1\", \"yref\": \"y1\", \"font\": {\"color\": \"#000000\"}, \"showarrow\": false}, {\"text\": \"0\", \"x\": 7, \"y\": \"Landry2015_1\", \"xref\": \"x1\", \"yref\": \"y1\", \"font\": {\"color\": \"#000000\"}, \"showarrow\": false}, {\"text\": \"3\", \"x\": 8, \"y\": \"Landry2015_1\", \"xref\": \"x1\", \"yref\": \"y1\", \"font\": {\"color\": \"#000000\"}, \"showarrow\": false}, {\"text\": \"5\", \"x\": 9, \"y\": \"Landry2015_1\", \"xref\": \"x1\", \"yref\": \"y1\", \"font\": {\"color\": \"#000000\"}, \"showarrow\": false}, {\"text\": \"6\", \"x\": 10, \"y\": \"Landry2015_1\", \"xref\": \"x1\", \"yref\": \"y1\", \"font\": {\"color\": \"#000000\"}, \"showarrow\": false}, {\"text\": \"0\", \"x\": 11, \"y\": \"Landry2015_1\", \"xref\": \"x1\", \"yref\": \"y1\", \"font\": {\"color\": \"#000000\"}, \"showarrow\": false}, {\"text\": \"0\", \"x\": 12, \"y\": \"Landry2015_1\", \"xref\": \"x1\", \"yref\": \"y1\", \"font\": {\"color\": \"#000000\"}, \"showarrow\": false}, {\"text\": \"0\", \"x\": 13, \"y\": \"Landry2015_1\", \"xref\": \"x1\", \"yref\": \"y1\", \"font\": {\"color\": \"#000000\"}, \"showarrow\": false}, {\"text\": \"3\", \"x\": 14, \"y\": \"Landry2015_1\", \"xref\": \"x1\", \"yref\": \"y1\", \"font\": {\"color\": \"#000000\"}, \"showarrow\": false}, {\"text\": \"0\", \"x\": 15, \"y\": \"Landry2015_1\", \"xref\": \"x1\", \"yref\": \"y1\", \"font\": {\"color\": \"#000000\"}, \"showarrow\": false}, {\"text\": \"0\", \"x\": 0, \"y\": \"Violon\", \"xref\": \"x1\", \"yref\": \"y1\", \"font\": {\"color\": \"#000000\"}, \"showarrow\": false}, {\"text\": \"0\", \"x\": 1, \"y\": \"Violon\", \"xref\": \"x1\", \"yref\": \"y1\", \"font\": {\"color\": \"#000000\"}, \"showarrow\": false}, {\"text\": \"28\", \"x\": 2, \"y\": \"Violon\", \"xref\": \"x1\", \"yref\": \"y1\", \"font\": {\"color\": \"#000000\"}, \"showarrow\": false}, {\"text\": \"6\", \"x\": 3, \"y\": \"Violon\", \"xref\": \"x1\", \"yref\": \"y1\", \"font\": {\"color\": \"#000000\"}, \"showarrow\": false}, {\"text\": \"8\", \"x\": 4, \"y\": \"Violon\", \"xref\": \"x1\", \"yref\": \"y1\", \"font\": {\"color\": \"#000000\"}, \"showarrow\": false}, {\"text\": \"28\", \"x\": 5, \"y\": \"Violon\", \"xref\": \"x1\", \"yref\": \"y1\", \"font\": {\"color\": \"#000000\"}, \"showarrow\": false}, {\"text\": \"0\", \"x\": 6, \"y\": \"Violon\", \"xref\": \"x1\", \"yref\": \"y1\", \"font\": {\"color\": \"#000000\"}, \"showarrow\": false}, {\"text\": \"0\", \"x\": 7, \"y\": \"Violon\", \"xref\": \"x1\", \"yref\": \"y1\", \"font\": {\"color\": \"#000000\"}, \"showarrow\": false}, {\"text\": \"5\", \"x\": 8, \"y\": \"Violon\", \"xref\": \"x1\", \"yref\": \"y1\", \"font\": {\"color\": \"#000000\"}, \"showarrow\": false}, {\"text\": \"8\", \"x\": 9, \"y\": \"Violon\", \"xref\": \"x1\", \"yref\": \"y1\", \"font\": {\"color\": \"#000000\"}, \"showarrow\": false}, {\"text\": \"13\", \"x\": 10, \"y\": \"Violon\", \"xref\": \"x1\", \"yref\": \"y1\", \"font\": {\"color\": \"#000000\"}, \"showarrow\": false}, {\"text\": \"0\", \"x\": 11, \"y\": \"Violon\", \"xref\": \"x1\", \"yref\": \"y1\", \"font\": {\"color\": \"#000000\"}, \"showarrow\": false}, {\"text\": \"0\", \"x\": 12, \"y\": \"Violon\", \"xref\": \"x1\", \"yref\": \"y1\", \"font\": {\"color\": \"#000000\"}, \"showarrow\": false}, {\"text\": \"0\", \"x\": 13, \"y\": \"Violon\", \"xref\": \"x1\", \"yref\": \"y1\", \"font\": {\"color\": \"#000000\"}, \"showarrow\": false}, {\"text\": \"0\", \"x\": 14, \"y\": \"Violon\", \"xref\": \"x1\", \"yref\": \"y1\", \"font\": {\"color\": \"#000000\"}, \"showarrow\": false}, {\"text\": \"0\", \"x\": 15, \"y\": \"Violon\", \"xref\": \"x1\", \"yref\": \"y1\", \"font\": {\"color\": \"#000000\"}, \"showarrow\": false}, {\"text\": \"4\", \"x\": 0, \"y\": \"Yoann_2015\", \"xref\": \"x1\", \"yref\": \"y1\", \"font\": {\"color\": \"#000000\"}, \"showarrow\": false}, {\"text\": \"13\", \"x\": 1, \"y\": \"Yoann_2015\", \"xref\": \"x1\", \"yref\": \"y1\", \"font\": {\"color\": \"#000000\"}, \"showarrow\": false}, {\"text\": \"23\", \"x\": 2, \"y\": \"Yoann_2015\", \"xref\": \"x1\", \"yref\": \"y1\", \"font\": {\"color\": \"#000000\"}, \"showarrow\": false}, {\"text\": \"1\", \"x\": 3, \"y\": \"Yoann_2015\", \"xref\": \"x1\", \"yref\": \"y1\", \"font\": {\"color\": \"#000000\"}, \"showarrow\": false}, {\"text\": \"6\", \"x\": 4, \"y\": \"Yoann_2015\", \"xref\": \"x1\", \"yref\": \"y1\", \"font\": {\"color\": \"#000000\"}, \"showarrow\": false}, {\"text\": \"10\", \"x\": 5, \"y\": \"Yoann_2015\", \"xref\": \"x1\", \"yref\": \"y1\", \"font\": {\"color\": \"#000000\"}, \"showarrow\": false}, {\"text\": \"0\", \"x\": 6, \"y\": \"Yoann_2015\", \"xref\": \"x1\", \"yref\": \"y1\", \"font\": {\"color\": \"#000000\"}, \"showarrow\": false}, {\"text\": \"4\", \"x\": 7, \"y\": \"Yoann_2015\", \"xref\": \"x1\", \"yref\": \"y1\", \"font\": {\"color\": \"#000000\"}, \"showarrow\": false}, {\"text\": \"1\", \"x\": 8, \"y\": \"Yoann_2015\", \"xref\": \"x1\", \"yref\": \"y1\", \"font\": {\"color\": \"#000000\"}, \"showarrow\": false}, {\"text\": \"2\", \"x\": 9, \"y\": \"Yoann_2015\", \"xref\": \"x1\", \"yref\": \"y1\", \"font\": {\"color\": \"#000000\"}, \"showarrow\": false}, {\"text\": \"3\", \"x\": 10, \"y\": \"Yoann_2015\", \"xref\": \"x1\", \"yref\": \"y1\", \"font\": {\"color\": \"#000000\"}, \"showarrow\": false}, {\"text\": \"6\", \"x\": 11, \"y\": \"Yoann_2015\", \"xref\": \"x1\", \"yref\": \"y1\", \"font\": {\"color\": \"#000000\"}, \"showarrow\": false}, {\"text\": \"0\", \"x\": 12, \"y\": \"Yoann_2015\", \"xref\": \"x1\", \"yref\": \"y1\", \"font\": {\"color\": \"#000000\"}, \"showarrow\": false}, {\"text\": \"5\", \"x\": 13, \"y\": \"Yoann_2015\", \"xref\": \"x1\", \"yref\": \"y1\", \"font\": {\"color\": \"#000000\"}, \"showarrow\": false}, {\"text\": \"14\", \"x\": 14, \"y\": \"Yoann_2015\", \"xref\": \"x1\", \"yref\": \"y1\", \"font\": {\"color\": \"#000000\"}, \"showarrow\": false}, {\"text\": \"0\", \"x\": 15, \"y\": \"Yoann_2015\", \"xref\": \"x1\", \"yref\": \"y1\", \"font\": {\"color\": \"#000000\"}, \"showarrow\": false}, {\"text\": \"4\", \"x\": 0, \"y\": \"Landry2013\", \"xref\": \"x1\", \"yref\": \"y1\", \"font\": {\"color\": \"#000000\"}, \"showarrow\": false}, {\"text\": \"12\", \"x\": 1, \"y\": \"Landry2013\", \"xref\": \"x1\", \"yref\": \"y1\", \"font\": {\"color\": \"#000000\"}, \"showarrow\": false}, {\"text\": \"21\", \"x\": 2, \"y\": \"Landry2013\", \"xref\": \"x1\", \"yref\": \"y1\", \"font\": {\"color\": \"#000000\"}, \"showarrow\": false}, {\"text\": \"8\", \"x\": 3, \"y\": \"Landry2013\", \"xref\": \"x1\", \"yref\": \"y1\", \"font\": {\"color\": \"#000000\"}, \"showarrow\": false}, {\"text\": \"7\", \"x\": 4, \"y\": \"Landry2013\", \"xref\": \"x1\", \"yref\": \"y1\", \"font\": {\"color\": \"#000000\"}, \"showarrow\": false}, {\"text\": \"9\", \"x\": 5, \"y\": \"Landry2013\", \"xref\": \"x1\", \"yref\": \"y1\", \"font\": {\"color\": \"#000000\"}, \"showarrow\": false}, {\"text\": \"6\", \"x\": 6, \"y\": \"Landry2013\", \"xref\": \"x1\", \"yref\": \"y1\", \"font\": {\"color\": \"#000000\"}, \"showarrow\": false}, {\"text\": \"9\", \"x\": 7, \"y\": \"Landry2013\", \"xref\": \"x1\", \"yref\": \"y1\", \"font\": {\"color\": \"#000000\"}, \"showarrow\": false}, {\"text\": \"0\", \"x\": 8, \"y\": \"Landry2013\", \"xref\": \"x1\", \"yref\": \"y1\", \"font\": {\"color\": \"#000000\"}, \"showarrow\": false}, {\"text\": \"0\", \"x\": 9, \"y\": \"Landry2013\", \"xref\": \"x1\", \"yref\": \"y1\", \"font\": {\"color\": \"#000000\"}, \"showarrow\": false}, {\"text\": \"0\", \"x\": 10, \"y\": \"Landry2013\", \"xref\": \"x1\", \"yref\": \"y1\", \"font\": {\"color\": \"#000000\"}, \"showarrow\": false}, {\"text\": \"0\", \"x\": 11, \"y\": \"Landry2013\", \"xref\": \"x1\", \"yref\": \"y1\", \"font\": {\"color\": \"#000000\"}, \"showarrow\": false}, {\"text\": \"0\", \"x\": 12, \"y\": \"Landry2013\", \"xref\": \"x1\", \"yref\": \"y1\", \"font\": {\"color\": \"#000000\"}, \"showarrow\": false}, {\"text\": \"0\", \"x\": 13, \"y\": \"Landry2013\", \"xref\": \"x1\", \"yref\": \"y1\", \"font\": {\"color\": \"#000000\"}, \"showarrow\": false}, {\"text\": \"19\", \"x\": 14, \"y\": \"Landry2013\", \"xref\": \"x1\", \"yref\": \"y1\", \"font\": {\"color\": \"#000000\"}, \"showarrow\": false}, {\"text\": \"0\", \"x\": 15, \"y\": \"Landry2013\", \"xref\": \"x1\", \"yref\": \"y1\", \"font\": {\"color\": \"#000000\"}, \"showarrow\": false}, {\"text\": \"6\", \"x\": 0, \"y\": \"Landry2012\", \"xref\": \"x1\", \"yref\": \"y1\", \"font\": {\"color\": \"#000000\"}, \"showarrow\": false}, {\"text\": \"16\", \"x\": 1, \"y\": \"Landry2012\", \"xref\": \"x1\", \"yref\": \"y1\", \"font\": {\"color\": \"#000000\"}, \"showarrow\": false}, {\"text\": \"12\", \"x\": 2, \"y\": \"Landry2012\", \"xref\": \"x1\", \"yref\": \"y1\", \"font\": {\"color\": \"#000000\"}, \"showarrow\": false}, {\"text\": \"16\", \"x\": 3, \"y\": \"Landry2012\", \"xref\": \"x1\", \"yref\": \"y1\", \"font\": {\"color\": \"#000000\"}, \"showarrow\": false}, {\"text\": \"8\", \"x\": 4, \"y\": \"Landry2012\", \"xref\": \"x1\", \"yref\": \"y1\", \"font\": {\"color\": \"#000000\"}, \"showarrow\": false}, {\"text\": \"21\", \"x\": 5, \"y\": \"Landry2012\", \"xref\": \"x1\", \"yref\": \"y1\", \"font\": {\"color\": \"#000000\"}, \"showarrow\": false}, {\"text\": \"4\", \"x\": 6, \"y\": \"Landry2012\", \"xref\": \"x1\", \"yref\": \"y1\", \"font\": {\"color\": \"#000000\"}, \"showarrow\": false}, {\"text\": \"12\", \"x\": 7, \"y\": \"Landry2012\", \"xref\": \"x1\", \"yref\": \"y1\", \"font\": {\"color\": \"#000000\"}, \"showarrow\": false}, {\"text\": \"0\", \"x\": 8, \"y\": \"Landry2012\", \"xref\": \"x1\", \"yref\": \"y1\", \"font\": {\"color\": \"#000000\"}, \"showarrow\": false}, {\"text\": \"0\", \"x\": 9, \"y\": \"Landry2012\", \"xref\": \"x1\", \"yref\": \"y1\", \"font\": {\"color\": \"#000000\"}, \"showarrow\": false}, {\"text\": \"0\", \"x\": 10, \"y\": \"Landry2012\", \"xref\": \"x1\", \"yref\": \"y1\", \"font\": {\"color\": \"#000000\"}, \"showarrow\": false}, {\"text\": \"0\", \"x\": 11, \"y\": \"Landry2012\", \"xref\": \"x1\", \"yref\": \"y1\", \"font\": {\"color\": \"#000000\"}, \"showarrow\": false}, {\"text\": \"0\", \"x\": 12, \"y\": \"Landry2012\", \"xref\": \"x1\", \"yref\": \"y1\", \"font\": {\"color\": \"#000000\"}, \"showarrow\": false}, {\"text\": \"0\", \"x\": 13, \"y\": \"Landry2012\", \"xref\": \"x1\", \"yref\": \"y1\", \"font\": {\"color\": \"#000000\"}, \"showarrow\": false}, {\"text\": \"0\", \"x\": 14, \"y\": \"Landry2012\", \"xref\": \"x1\", \"yref\": \"y1\", \"font\": {\"color\": \"#000000\"}, \"showarrow\": false}, {\"text\": \"0\", \"x\": 15, \"y\": \"Landry2012\", \"xref\": \"x1\", \"yref\": \"y1\", \"font\": {\"color\": \"#000000\"}, \"showarrow\": false}, {\"text\": \"8\", \"x\": 0, \"y\": \"Tennis\", \"xref\": \"x1\", \"yref\": \"y1\", \"font\": {\"color\": \"#000000\"}, \"showarrow\": false}, {\"text\": \"0\", \"x\": 1, \"y\": \"Tennis\", \"xref\": \"x1\", \"yref\": \"y1\", \"font\": {\"color\": \"#000000\"}, \"showarrow\": false}, {\"text\": \"17\", \"x\": 2, \"y\": \"Tennis\", \"xref\": \"x1\", \"yref\": \"y1\", \"font\": {\"color\": \"#000000\"}, \"showarrow\": false}, {\"text\": \"18\", \"x\": 3, \"y\": \"Tennis\", \"xref\": \"x1\", \"yref\": \"y1\", \"font\": {\"color\": \"#000000\"}, \"showarrow\": false}, {\"text\": \"5\", \"x\": 4, \"y\": \"Tennis\", \"xref\": \"x1\", \"yref\": \"y1\", \"font\": {\"color\": \"#000000\"}, \"showarrow\": false}, {\"text\": \"10\", \"x\": 5, \"y\": \"Tennis\", \"xref\": \"x1\", \"yref\": \"y1\", \"font\": {\"color\": \"#000000\"}, \"showarrow\": false}, {\"text\": \"6\", \"x\": 6, \"y\": \"Tennis\", \"xref\": \"x1\", \"yref\": \"y1\", \"font\": {\"color\": \"#000000\"}, \"showarrow\": false}, {\"text\": \"0\", \"x\": 7, \"y\": \"Tennis\", \"xref\": \"x1\", \"yref\": \"y1\", \"font\": {\"color\": \"#000000\"}, \"showarrow\": false}, {\"text\": \"3\", \"x\": 8, \"y\": \"Tennis\", \"xref\": \"x1\", \"yref\": \"y1\", \"font\": {\"color\": \"#000000\"}, \"showarrow\": false}, {\"text\": \"3\", \"x\": 9, \"y\": \"Tennis\", \"xref\": \"x1\", \"yref\": \"y1\", \"font\": {\"color\": \"#000000\"}, \"showarrow\": false}, {\"text\": \"8\", \"x\": 10, \"y\": \"Tennis\", \"xref\": \"x1\", \"yref\": \"y1\", \"font\": {\"color\": \"#000000\"}, \"showarrow\": false}, {\"text\": \"0\", \"x\": 11, \"y\": \"Tennis\", \"xref\": \"x1\", \"yref\": \"y1\", \"font\": {\"color\": \"#000000\"}, \"showarrow\": false}, {\"text\": \"0\", \"x\": 12, \"y\": \"Tennis\", \"xref\": \"x1\", \"yref\": \"y1\", \"font\": {\"color\": \"#000000\"}, \"showarrow\": false}, {\"text\": \"10\", \"x\": 13, \"y\": \"Tennis\", \"xref\": \"x1\", \"yref\": \"y1\", \"font\": {\"color\": \"#000000\"}, \"showarrow\": false}, {\"text\": \"0\", \"x\": 14, \"y\": \"Tennis\", \"xref\": \"x1\", \"yref\": \"y1\", \"font\": {\"color\": \"#000000\"}, \"showarrow\": false}, {\"text\": \"8\", \"x\": 15, \"y\": \"Tennis\", \"xref\": \"x1\", \"yref\": \"y1\", \"font\": {\"color\": \"#000000\"}, \"showarrow\": false}, {\"text\": \"7\", \"x\": 0, \"y\": \"Patrick_2013\", \"xref\": \"x1\", \"yref\": \"y1\", \"font\": {\"color\": \"#000000\"}, \"showarrow\": false}, {\"text\": \"10\", \"x\": 1, \"y\": \"Patrick_2013\", \"xref\": \"x1\", \"yref\": \"y1\", \"font\": {\"color\": \"#000000\"}, \"showarrow\": false}, {\"text\": \"18\", \"x\": 2, \"y\": \"Patrick_2013\", \"xref\": \"x1\", \"yref\": \"y1\", \"font\": {\"color\": \"#000000\"}, \"showarrow\": false}, {\"text\": \"5\", \"x\": 3, \"y\": \"Patrick_2013\", \"xref\": \"x1\", \"yref\": \"y1\", \"font\": {\"color\": \"#000000\"}, \"showarrow\": false}, {\"text\": \"9\", \"x\": 4, \"y\": \"Patrick_2013\", \"xref\": \"x1\", \"yref\": \"y1\", \"font\": {\"color\": \"#000000\"}, \"showarrow\": false}, {\"text\": \"6\", \"x\": 5, \"y\": \"Patrick_2013\", \"xref\": \"x1\", \"yref\": \"y1\", \"font\": {\"color\": \"#000000\"}, \"showarrow\": false}, {\"text\": \"5\", \"x\": 6, \"y\": \"Patrick_2013\", \"xref\": \"x1\", \"yref\": \"y1\", \"font\": {\"color\": \"#000000\"}, \"showarrow\": false}, {\"text\": \"6\", \"x\": 7, \"y\": \"Patrick_2013\", \"xref\": \"x1\", \"yref\": \"y1\", \"font\": {\"color\": \"#000000\"}, \"showarrow\": false}, {\"text\": \"2\", \"x\": 8, \"y\": \"Patrick_2013\", \"xref\": \"x1\", \"yref\": \"y1\", \"font\": {\"color\": \"#000000\"}, \"showarrow\": false}, {\"text\": \"1\", \"x\": 9, \"y\": \"Patrick_2013\", \"xref\": \"x1\", \"yref\": \"y1\", \"font\": {\"color\": \"#000000\"}, \"showarrow\": false}, {\"text\": \"5\", \"x\": 10, \"y\": \"Patrick_2013\", \"xref\": \"x1\", \"yref\": \"y1\", \"font\": {\"color\": \"#000000\"}, \"showarrow\": false}, {\"text\": \"4\", \"x\": 11, \"y\": \"Patrick_2013\", \"xref\": \"x1\", \"yref\": \"y1\", \"font\": {\"color\": \"#000000\"}, \"showarrow\": false}, {\"text\": \"1\", \"x\": 12, \"y\": \"Patrick_2013\", \"xref\": \"x1\", \"yref\": \"y1\", \"font\": {\"color\": \"#000000\"}, \"showarrow\": false}, {\"text\": \"5\", \"x\": 13, \"y\": \"Patrick_2013\", \"xref\": \"x1\", \"yref\": \"y1\", \"font\": {\"color\": \"#000000\"}, \"showarrow\": false}, {\"text\": \"9\", \"x\": 14, \"y\": \"Patrick_2013\", \"xref\": \"x1\", \"yref\": \"y1\", \"font\": {\"color\": \"#000000\"}, \"showarrow\": false}, {\"text\": \"0\", \"x\": 15, \"y\": \"Patrick_2013\", \"xref\": \"x1\", \"yref\": \"y1\", \"font\": {\"color\": \"#000000\"}, \"showarrow\": false}, {\"text\": \"12\", \"x\": 0, \"y\": \"Sylvain_2015\", \"xref\": \"x1\", \"yref\": \"y1\", \"font\": {\"color\": \"#000000\"}, \"showarrow\": false}, {\"text\": \"10\", \"x\": 1, \"y\": \"Sylvain_2015\", \"xref\": \"x1\", \"yref\": \"y1\", \"font\": {\"color\": \"#000000\"}, \"showarrow\": false}, {\"text\": \"14\", \"x\": 2, \"y\": \"Sylvain_2015\", \"xref\": \"x1\", \"yref\": \"y1\", \"font\": {\"color\": \"#000000\"}, \"showarrow\": false}, {\"text\": \"6\", \"x\": 3, \"y\": \"Sylvain_2015\", \"xref\": \"x1\", \"yref\": \"y1\", \"font\": {\"color\": \"#000000\"}, \"showarrow\": false}, {\"text\": \"1\", \"x\": 4, \"y\": \"Sylvain_2015\", \"xref\": \"x1\", \"yref\": \"y1\", \"font\": {\"color\": \"#000000\"}, \"showarrow\": false}, {\"text\": \"12\", \"x\": 5, \"y\": \"Sylvain_2015\", \"xref\": \"x1\", \"yref\": \"y1\", \"font\": {\"color\": \"#000000\"}, \"showarrow\": false}, {\"text\": \"2\", \"x\": 6, \"y\": \"Sylvain_2015\", \"xref\": \"x1\", \"yref\": \"y1\", \"font\": {\"color\": \"#000000\"}, \"showarrow\": false}, {\"text\": \"6\", \"x\": 7, \"y\": \"Sylvain_2015\", \"xref\": \"x1\", \"yref\": \"y1\", \"font\": {\"color\": \"#000000\"}, \"showarrow\": false}, {\"text\": \"3\", \"x\": 8, \"y\": \"Sylvain_2015\", \"xref\": \"x1\", \"yref\": \"y1\", \"font\": {\"color\": \"#000000\"}, \"showarrow\": false}, {\"text\": \"3\", \"x\": 9, \"y\": \"Sylvain_2015\", \"xref\": \"x1\", \"yref\": \"y1\", \"font\": {\"color\": \"#000000\"}, \"showarrow\": false}, {\"text\": \"8\", \"x\": 10, \"y\": \"Sylvain_2015\", \"xref\": \"x1\", \"yref\": \"y1\", \"font\": {\"color\": \"#000000\"}, \"showarrow\": false}, {\"text\": \"9\", \"x\": 11, \"y\": \"Sylvain_2015\", \"xref\": \"x1\", \"yref\": \"y1\", \"font\": {\"color\": \"#000000\"}, \"showarrow\": false}, {\"text\": \"2\", \"x\": 12, \"y\": \"Sylvain_2015\", \"xref\": \"x1\", \"yref\": \"y1\", \"font\": {\"color\": \"#000000\"}, \"showarrow\": false}, {\"text\": \"2\", \"x\": 13, \"y\": \"Sylvain_2015\", \"xref\": \"x1\", \"yref\": \"y1\", \"font\": {\"color\": \"#000000\"}, \"showarrow\": false}, {\"text\": \"6\", \"x\": 14, \"y\": \"Sylvain_2015\", \"xref\": \"x1\", \"yref\": \"y1\", \"font\": {\"color\": \"#000000\"}, \"showarrow\": false}, {\"text\": \"0\", \"x\": 15, \"y\": \"Sylvain_2015\", \"xref\": \"x1\", \"yref\": \"y1\", \"font\": {\"color\": \"#000000\"}, \"showarrow\": false}], \"xaxis\": {\"ticks\": \"\", \"dtick\": 1, \"side\": \"bottom\", \"gridcolor\": \"rgb(0, 0, 0)\", \"title\": \"Tests\"}, \"yaxis\": {\"ticks\": \"\", \"dtick\": 1, \"ticksuffix\": \"  \", \"title\": null, \"autorange\": \"reversed\"}, \"hovermode\": \"closest\", \"font\": {\"size\": 14}, \"title\": \"Max for each test (normalized by participant number)\", \"margin\": {\"t\": 80, \"b\": 80, \"l\": 150, \"r\": 80, \"pad\": 0}}, {\"showLink\": true, \"linkText\": \"Export to plot.ly\"})});</script>"
      ],
      "text/vnd.plotly.v1+html": [
       "<div id=\"17e464ff-6433-4e72-91b7-7b6b88cff10e\" style=\"height: 525px; width: 100%;\" class=\"plotly-graph-div\"></div><script type=\"text/javascript\">require([\"plotly\"], function(Plotly) { window.PLOTLYENV=window.PLOTLYENV || {};window.PLOTLYENV.BASE_URL=\"https://plot.ly\";Plotly.newPlot(\"17e464ff-6433-4e72-91b7-7b6b88cff10e\", [{\"type\": \"heatmap\", \"z\": [[11, 0, 23, 6, 14, 11, 0, 5, 4, 2, 5, 0, 0, 5, 0, 9], [17, 0, 19, 11, 22, 17, 0, 0, 0, 0, 0, 0, 0, 0, 12, 0], [20, 0, 24, 12, 9, 13, 0, 0, 3, 5, 6, 0, 0, 0, 3, 0], [0, 0, 28, 6, 8, 28, 0, 0, 5, 8, 13, 0, 0, 0, 0, 0], [4, 13, 23, 1, 6, 10, 0, 4, 1, 2, 3, 6, 0, 5, 14, 0], [4, 12, 21, 8, 7, 9, 6, 9, 0, 0, 0, 0, 0, 0, 19, 0], [6, 16, 12, 16, 8, 21, 4, 12, 0, 0, 0, 0, 0, 0, 0, 0], [8, 0, 17, 18, 5, 10, 6, 0, 3, 3, 8, 0, 0, 10, 0, 8], [7, 10, 18, 5, 9, 6, 5, 6, 2, 1, 5, 4, 1, 5, 9, 0], [12, 10, 14, 6, 1, 12, 2, 6, 3, 3, 8, 9, 2, 2, 6, 0]], \"x\": null, \"y\": [\"Landry2016\", \"Landry2015_2\", \"Landry2015_1\", \"Violon\", \"Yoann_2015\", \"Landry2013\", \"Landry2012\", \"Tennis\", \"Patrick_2013\", \"Sylvain_2015\"], \"colorscale\": \"YlGnBu\", \"showscale\": true, \"colorbar\": {\"title\": \"Percentage\", \"titleside\": \"right\"}}], {\"annotations\": [{\"text\": \"11\", \"x\": 0, \"y\": \"Landry2016\", \"xref\": \"x1\", \"yref\": \"y1\", \"font\": {\"color\": \"#000000\"}, \"showarrow\": false}, {\"text\": \"0\", \"x\": 1, \"y\": \"Landry2016\", \"xref\": \"x1\", \"yref\": \"y1\", \"font\": {\"color\": \"#000000\"}, \"showarrow\": false}, {\"text\": \"23\", \"x\": 2, \"y\": \"Landry2016\", \"xref\": \"x1\", \"yref\": \"y1\", \"font\": {\"color\": \"#000000\"}, \"showarrow\": false}, {\"text\": \"6\", \"x\": 3, \"y\": \"Landry2016\", \"xref\": \"x1\", \"yref\": \"y1\", \"font\": {\"color\": \"#000000\"}, \"showarrow\": false}, {\"text\": \"14\", \"x\": 4, \"y\": \"Landry2016\", \"xref\": \"x1\", \"yref\": \"y1\", \"font\": {\"color\": \"#000000\"}, \"showarrow\": false}, {\"text\": \"11\", \"x\": 5, \"y\": \"Landry2016\", \"xref\": \"x1\", \"yref\": \"y1\", \"font\": {\"color\": \"#000000\"}, \"showarrow\": false}, {\"text\": \"0\", \"x\": 6, \"y\": \"Landry2016\", \"xref\": \"x1\", \"yref\": \"y1\", \"font\": {\"color\": \"#000000\"}, \"showarrow\": false}, {\"text\": \"5\", \"x\": 7, \"y\": \"Landry2016\", \"xref\": \"x1\", \"yref\": \"y1\", \"font\": {\"color\": \"#000000\"}, \"showarrow\": false}, {\"text\": \"4\", \"x\": 8, \"y\": \"Landry2016\", \"xref\": \"x1\", \"yref\": \"y1\", \"font\": {\"color\": \"#000000\"}, \"showarrow\": false}, {\"text\": \"2\", \"x\": 9, \"y\": \"Landry2016\", \"xref\": \"x1\", \"yref\": \"y1\", \"font\": {\"color\": \"#000000\"}, \"showarrow\": false}, {\"text\": \"5\", \"x\": 10, \"y\": \"Landry2016\", \"xref\": \"x1\", \"yref\": \"y1\", \"font\": {\"color\": \"#000000\"}, \"showarrow\": false}, {\"text\": \"0\", \"x\": 11, \"y\": \"Landry2016\", \"xref\": \"x1\", \"yref\": \"y1\", \"font\": {\"color\": \"#000000\"}, \"showarrow\": false}, {\"text\": \"0\", \"x\": 12, \"y\": \"Landry2016\", \"xref\": \"x1\", \"yref\": \"y1\", \"font\": {\"color\": \"#000000\"}, \"showarrow\": false}, {\"text\": \"5\", \"x\": 13, \"y\": \"Landry2016\", \"xref\": \"x1\", \"yref\": \"y1\", \"font\": {\"color\": \"#000000\"}, \"showarrow\": false}, {\"text\": \"0\", \"x\": 14, \"y\": \"Landry2016\", \"xref\": \"x1\", \"yref\": \"y1\", \"font\": {\"color\": \"#000000\"}, \"showarrow\": false}, {\"text\": \"9\", \"x\": 15, \"y\": \"Landry2016\", \"xref\": \"x1\", \"yref\": \"y1\", \"font\": {\"color\": \"#000000\"}, \"showarrow\": false}, {\"text\": \"17\", \"x\": 0, \"y\": \"Landry2015_2\", \"xref\": \"x1\", \"yref\": \"y1\", \"font\": {\"color\": \"#000000\"}, \"showarrow\": false}, {\"text\": \"0\", \"x\": 1, \"y\": \"Landry2015_2\", \"xref\": \"x1\", \"yref\": \"y1\", \"font\": {\"color\": \"#000000\"}, \"showarrow\": false}, {\"text\": \"19\", \"x\": 2, \"y\": \"Landry2015_2\", \"xref\": \"x1\", \"yref\": \"y1\", \"font\": {\"color\": \"#000000\"}, \"showarrow\": false}, {\"text\": \"11\", \"x\": 3, \"y\": \"Landry2015_2\", \"xref\": \"x1\", \"yref\": \"y1\", \"font\": {\"color\": \"#000000\"}, \"showarrow\": false}, {\"text\": \"22\", \"x\": 4, \"y\": \"Landry2015_2\", \"xref\": \"x1\", \"yref\": \"y1\", \"font\": {\"color\": \"#000000\"}, \"showarrow\": false}, {\"text\": \"17\", \"x\": 5, \"y\": \"Landry2015_2\", \"xref\": \"x1\", \"yref\": \"y1\", \"font\": {\"color\": \"#000000\"}, \"showarrow\": false}, {\"text\": \"0\", \"x\": 6, \"y\": \"Landry2015_2\", \"xref\": \"x1\", \"yref\": \"y1\", \"font\": {\"color\": \"#000000\"}, \"showarrow\": false}, {\"text\": \"0\", \"x\": 7, \"y\": \"Landry2015_2\", \"xref\": \"x1\", \"yref\": \"y1\", \"font\": {\"color\": \"#000000\"}, \"showarrow\": false}, {\"text\": \"0\", \"x\": 8, \"y\": \"Landry2015_2\", \"xref\": \"x1\", \"yref\": \"y1\", \"font\": {\"color\": \"#000000\"}, \"showarrow\": false}, {\"text\": \"0\", \"x\": 9, \"y\": \"Landry2015_2\", \"xref\": \"x1\", \"yref\": \"y1\", \"font\": {\"color\": \"#000000\"}, \"showarrow\": false}, {\"text\": \"0\", \"x\": 10, \"y\": \"Landry2015_2\", \"xref\": \"x1\", \"yref\": \"y1\", \"font\": {\"color\": \"#000000\"}, \"showarrow\": false}, {\"text\": \"0\", \"x\": 11, \"y\": \"Landry2015_2\", \"xref\": \"x1\", \"yref\": \"y1\", \"font\": {\"color\": \"#000000\"}, \"showarrow\": false}, {\"text\": \"0\", \"x\": 12, \"y\": \"Landry2015_2\", \"xref\": \"x1\", \"yref\": \"y1\", \"font\": {\"color\": \"#000000\"}, \"showarrow\": false}, {\"text\": \"0\", \"x\": 13, \"y\": \"Landry2015_2\", \"xref\": \"x1\", \"yref\": \"y1\", \"font\": {\"color\": \"#000000\"}, \"showarrow\": false}, {\"text\": \"12\", \"x\": 14, \"y\": \"Landry2015_2\", \"xref\": \"x1\", \"yref\": \"y1\", \"font\": {\"color\": \"#000000\"}, \"showarrow\": false}, {\"text\": \"0\", \"x\": 15, \"y\": \"Landry2015_2\", \"xref\": \"x1\", \"yref\": \"y1\", \"font\": {\"color\": \"#000000\"}, \"showarrow\": false}, {\"text\": \"20\", \"x\": 0, \"y\": \"Landry2015_1\", \"xref\": \"x1\", \"yref\": \"y1\", \"font\": {\"color\": \"#000000\"}, \"showarrow\": false}, {\"text\": \"0\", \"x\": 1, \"y\": \"Landry2015_1\", \"xref\": \"x1\", \"yref\": \"y1\", \"font\": {\"color\": \"#000000\"}, \"showarrow\": false}, {\"text\": \"24\", \"x\": 2, \"y\": \"Landry2015_1\", \"xref\": \"x1\", \"yref\": \"y1\", \"font\": {\"color\": \"#000000\"}, \"showarrow\": false}, {\"text\": \"12\", \"x\": 3, \"y\": \"Landry2015_1\", \"xref\": \"x1\", \"yref\": \"y1\", \"font\": {\"color\": \"#000000\"}, \"showarrow\": false}, {\"text\": \"9\", \"x\": 4, \"y\": \"Landry2015_1\", \"xref\": \"x1\", \"yref\": \"y1\", \"font\": {\"color\": \"#000000\"}, \"showarrow\": false}, {\"text\": \"13\", \"x\": 5, \"y\": \"Landry2015_1\", \"xref\": \"x1\", \"yref\": \"y1\", \"font\": {\"color\": \"#000000\"}, \"showarrow\": false}, {\"text\": \"0\", \"x\": 6, \"y\": \"Landry2015_1\", \"xref\": \"x1\", \"yref\": \"y1\", \"font\": {\"color\": \"#000000\"}, \"showarrow\": false}, {\"text\": \"0\", \"x\": 7, \"y\": \"Landry2015_1\", \"xref\": \"x1\", \"yref\": \"y1\", \"font\": {\"color\": \"#000000\"}, \"showarrow\": false}, {\"text\": \"3\", \"x\": 8, \"y\": \"Landry2015_1\", \"xref\": \"x1\", \"yref\": \"y1\", \"font\": {\"color\": \"#000000\"}, \"showarrow\": false}, {\"text\": \"5\", \"x\": 9, \"y\": \"Landry2015_1\", \"xref\": \"x1\", \"yref\": \"y1\", \"font\": {\"color\": \"#000000\"}, \"showarrow\": false}, {\"text\": \"6\", \"x\": 10, \"y\": \"Landry2015_1\", \"xref\": \"x1\", \"yref\": \"y1\", \"font\": {\"color\": \"#000000\"}, \"showarrow\": false}, {\"text\": \"0\", \"x\": 11, \"y\": \"Landry2015_1\", \"xref\": \"x1\", \"yref\": \"y1\", \"font\": {\"color\": \"#000000\"}, \"showarrow\": false}, {\"text\": \"0\", \"x\": 12, \"y\": \"Landry2015_1\", \"xref\": \"x1\", \"yref\": \"y1\", \"font\": {\"color\": \"#000000\"}, \"showarrow\": false}, {\"text\": \"0\", \"x\": 13, \"y\": \"Landry2015_1\", \"xref\": \"x1\", \"yref\": \"y1\", \"font\": {\"color\": \"#000000\"}, \"showarrow\": false}, {\"text\": \"3\", \"x\": 14, \"y\": \"Landry2015_1\", \"xref\": \"x1\", \"yref\": \"y1\", \"font\": {\"color\": \"#000000\"}, \"showarrow\": false}, {\"text\": \"0\", \"x\": 15, \"y\": \"Landry2015_1\", \"xref\": \"x1\", \"yref\": \"y1\", \"font\": {\"color\": \"#000000\"}, \"showarrow\": false}, {\"text\": \"0\", \"x\": 0, \"y\": \"Violon\", \"xref\": \"x1\", \"yref\": \"y1\", \"font\": {\"color\": \"#000000\"}, \"showarrow\": false}, {\"text\": \"0\", \"x\": 1, \"y\": \"Violon\", \"xref\": \"x1\", \"yref\": \"y1\", \"font\": {\"color\": \"#000000\"}, \"showarrow\": false}, {\"text\": \"28\", \"x\": 2, \"y\": \"Violon\", \"xref\": \"x1\", \"yref\": \"y1\", \"font\": {\"color\": \"#000000\"}, \"showarrow\": false}, {\"text\": \"6\", \"x\": 3, \"y\": \"Violon\", \"xref\": \"x1\", \"yref\": \"y1\", \"font\": {\"color\": \"#000000\"}, \"showarrow\": false}, {\"text\": \"8\", \"x\": 4, \"y\": \"Violon\", \"xref\": \"x1\", \"yref\": \"y1\", \"font\": {\"color\": \"#000000\"}, \"showarrow\": false}, {\"text\": \"28\", \"x\": 5, \"y\": \"Violon\", \"xref\": \"x1\", \"yref\": \"y1\", \"font\": {\"color\": \"#000000\"}, \"showarrow\": false}, {\"text\": \"0\", \"x\": 6, \"y\": \"Violon\", \"xref\": \"x1\", \"yref\": \"y1\", \"font\": {\"color\": \"#000000\"}, \"showarrow\": false}, {\"text\": \"0\", \"x\": 7, \"y\": \"Violon\", \"xref\": \"x1\", \"yref\": \"y1\", \"font\": {\"color\": \"#000000\"}, \"showarrow\": false}, {\"text\": \"5\", \"x\": 8, \"y\": \"Violon\", \"xref\": \"x1\", \"yref\": \"y1\", \"font\": {\"color\": \"#000000\"}, \"showarrow\": false}, {\"text\": \"8\", \"x\": 9, \"y\": \"Violon\", \"xref\": \"x1\", \"yref\": \"y1\", \"font\": {\"color\": \"#000000\"}, \"showarrow\": false}, {\"text\": \"13\", \"x\": 10, \"y\": \"Violon\", \"xref\": \"x1\", \"yref\": \"y1\", \"font\": {\"color\": \"#000000\"}, \"showarrow\": false}, {\"text\": \"0\", \"x\": 11, \"y\": \"Violon\", \"xref\": \"x1\", \"yref\": \"y1\", \"font\": {\"color\": \"#000000\"}, \"showarrow\": false}, {\"text\": \"0\", \"x\": 12, \"y\": \"Violon\", \"xref\": \"x1\", \"yref\": \"y1\", \"font\": {\"color\": \"#000000\"}, \"showarrow\": false}, {\"text\": \"0\", \"x\": 13, \"y\": \"Violon\", \"xref\": \"x1\", \"yref\": \"y1\", \"font\": {\"color\": \"#000000\"}, \"showarrow\": false}, {\"text\": \"0\", \"x\": 14, \"y\": \"Violon\", \"xref\": \"x1\", \"yref\": \"y1\", \"font\": {\"color\": \"#000000\"}, \"showarrow\": false}, {\"text\": \"0\", \"x\": 15, \"y\": \"Violon\", \"xref\": \"x1\", \"yref\": \"y1\", \"font\": {\"color\": \"#000000\"}, \"showarrow\": false}, {\"text\": \"4\", \"x\": 0, \"y\": \"Yoann_2015\", \"xref\": \"x1\", \"yref\": \"y1\", \"font\": {\"color\": \"#000000\"}, \"showarrow\": false}, {\"text\": \"13\", \"x\": 1, \"y\": \"Yoann_2015\", \"xref\": \"x1\", \"yref\": \"y1\", \"font\": {\"color\": \"#000000\"}, \"showarrow\": false}, {\"text\": \"23\", \"x\": 2, \"y\": \"Yoann_2015\", \"xref\": \"x1\", \"yref\": \"y1\", \"font\": {\"color\": \"#000000\"}, \"showarrow\": false}, {\"text\": \"1\", \"x\": 3, \"y\": \"Yoann_2015\", \"xref\": \"x1\", \"yref\": \"y1\", \"font\": {\"color\": \"#000000\"}, \"showarrow\": false}, {\"text\": \"6\", \"x\": 4, \"y\": \"Yoann_2015\", \"xref\": \"x1\", \"yref\": \"y1\", \"font\": {\"color\": \"#000000\"}, \"showarrow\": false}, {\"text\": \"10\", \"x\": 5, \"y\": \"Yoann_2015\", \"xref\": \"x1\", \"yref\": \"y1\", \"font\": {\"color\": \"#000000\"}, \"showarrow\": false}, {\"text\": \"0\", \"x\": 6, \"y\": \"Yoann_2015\", \"xref\": \"x1\", \"yref\": \"y1\", \"font\": {\"color\": \"#000000\"}, \"showarrow\": false}, {\"text\": \"4\", \"x\": 7, \"y\": \"Yoann_2015\", \"xref\": \"x1\", \"yref\": \"y1\", \"font\": {\"color\": \"#000000\"}, \"showarrow\": false}, {\"text\": \"1\", \"x\": 8, \"y\": \"Yoann_2015\", \"xref\": \"x1\", \"yref\": \"y1\", \"font\": {\"color\": \"#000000\"}, \"showarrow\": false}, {\"text\": \"2\", \"x\": 9, \"y\": \"Yoann_2015\", \"xref\": \"x1\", \"yref\": \"y1\", \"font\": {\"color\": \"#000000\"}, \"showarrow\": false}, {\"text\": \"3\", \"x\": 10, \"y\": \"Yoann_2015\", \"xref\": \"x1\", \"yref\": \"y1\", \"font\": {\"color\": \"#000000\"}, \"showarrow\": false}, {\"text\": \"6\", \"x\": 11, \"y\": \"Yoann_2015\", \"xref\": \"x1\", \"yref\": \"y1\", \"font\": {\"color\": \"#000000\"}, \"showarrow\": false}, {\"text\": \"0\", \"x\": 12, \"y\": \"Yoann_2015\", \"xref\": \"x1\", \"yref\": \"y1\", \"font\": {\"color\": \"#000000\"}, \"showarrow\": false}, {\"text\": \"5\", \"x\": 13, \"y\": \"Yoann_2015\", \"xref\": \"x1\", \"yref\": \"y1\", \"font\": {\"color\": \"#000000\"}, \"showarrow\": false}, {\"text\": \"14\", \"x\": 14, \"y\": \"Yoann_2015\", \"xref\": \"x1\", \"yref\": \"y1\", \"font\": {\"color\": \"#000000\"}, \"showarrow\": false}, {\"text\": \"0\", \"x\": 15, \"y\": \"Yoann_2015\", \"xref\": \"x1\", \"yref\": \"y1\", \"font\": {\"color\": \"#000000\"}, \"showarrow\": false}, {\"text\": \"4\", \"x\": 0, \"y\": \"Landry2013\", \"xref\": \"x1\", \"yref\": \"y1\", \"font\": {\"color\": \"#000000\"}, \"showarrow\": false}, {\"text\": \"12\", \"x\": 1, \"y\": \"Landry2013\", \"xref\": \"x1\", \"yref\": \"y1\", \"font\": {\"color\": \"#000000\"}, \"showarrow\": false}, {\"text\": \"21\", \"x\": 2, \"y\": \"Landry2013\", \"xref\": \"x1\", \"yref\": \"y1\", \"font\": {\"color\": \"#000000\"}, \"showarrow\": false}, {\"text\": \"8\", \"x\": 3, \"y\": \"Landry2013\", \"xref\": \"x1\", \"yref\": \"y1\", \"font\": {\"color\": \"#000000\"}, \"showarrow\": false}, {\"text\": \"7\", \"x\": 4, \"y\": \"Landry2013\", \"xref\": \"x1\", \"yref\": \"y1\", \"font\": {\"color\": \"#000000\"}, \"showarrow\": false}, {\"text\": \"9\", \"x\": 5, \"y\": \"Landry2013\", \"xref\": \"x1\", \"yref\": \"y1\", \"font\": {\"color\": \"#000000\"}, \"showarrow\": false}, {\"text\": \"6\", \"x\": 6, \"y\": \"Landry2013\", \"xref\": \"x1\", \"yref\": \"y1\", \"font\": {\"color\": \"#000000\"}, \"showarrow\": false}, {\"text\": \"9\", \"x\": 7, \"y\": \"Landry2013\", \"xref\": \"x1\", \"yref\": \"y1\", \"font\": {\"color\": \"#000000\"}, \"showarrow\": false}, {\"text\": \"0\", \"x\": 8, \"y\": \"Landry2013\", \"xref\": \"x1\", \"yref\": \"y1\", \"font\": {\"color\": \"#000000\"}, \"showarrow\": false}, {\"text\": \"0\", \"x\": 9, \"y\": \"Landry2013\", \"xref\": \"x1\", \"yref\": \"y1\", \"font\": {\"color\": \"#000000\"}, \"showarrow\": false}, {\"text\": \"0\", \"x\": 10, \"y\": \"Landry2013\", \"xref\": \"x1\", \"yref\": \"y1\", \"font\": {\"color\": \"#000000\"}, \"showarrow\": false}, {\"text\": \"0\", \"x\": 11, \"y\": \"Landry2013\", \"xref\": \"x1\", \"yref\": \"y1\", \"font\": {\"color\": \"#000000\"}, \"showarrow\": false}, {\"text\": \"0\", \"x\": 12, \"y\": \"Landry2013\", \"xref\": \"x1\", \"yref\": \"y1\", \"font\": {\"color\": \"#000000\"}, \"showarrow\": false}, {\"text\": \"0\", \"x\": 13, \"y\": \"Landry2013\", \"xref\": \"x1\", \"yref\": \"y1\", \"font\": {\"color\": \"#000000\"}, \"showarrow\": false}, {\"text\": \"19\", \"x\": 14, \"y\": \"Landry2013\", \"xref\": \"x1\", \"yref\": \"y1\", \"font\": {\"color\": \"#000000\"}, \"showarrow\": false}, {\"text\": \"0\", \"x\": 15, \"y\": \"Landry2013\", \"xref\": \"x1\", \"yref\": \"y1\", \"font\": {\"color\": \"#000000\"}, \"showarrow\": false}, {\"text\": \"6\", \"x\": 0, \"y\": \"Landry2012\", \"xref\": \"x1\", \"yref\": \"y1\", \"font\": {\"color\": \"#000000\"}, \"showarrow\": false}, {\"text\": \"16\", \"x\": 1, \"y\": \"Landry2012\", \"xref\": \"x1\", \"yref\": \"y1\", \"font\": {\"color\": \"#000000\"}, \"showarrow\": false}, {\"text\": \"12\", \"x\": 2, \"y\": \"Landry2012\", \"xref\": \"x1\", \"yref\": \"y1\", \"font\": {\"color\": \"#000000\"}, \"showarrow\": false}, {\"text\": \"16\", \"x\": 3, \"y\": \"Landry2012\", \"xref\": \"x1\", \"yref\": \"y1\", \"font\": {\"color\": \"#000000\"}, \"showarrow\": false}, {\"text\": \"8\", \"x\": 4, \"y\": \"Landry2012\", \"xref\": \"x1\", \"yref\": \"y1\", \"font\": {\"color\": \"#000000\"}, \"showarrow\": false}, {\"text\": \"21\", \"x\": 5, \"y\": \"Landry2012\", \"xref\": \"x1\", \"yref\": \"y1\", \"font\": {\"color\": \"#000000\"}, \"showarrow\": false}, {\"text\": \"4\", \"x\": 6, \"y\": \"Landry2012\", \"xref\": \"x1\", \"yref\": \"y1\", \"font\": {\"color\": \"#000000\"}, \"showarrow\": false}, {\"text\": \"12\", \"x\": 7, \"y\": \"Landry2012\", \"xref\": \"x1\", \"yref\": \"y1\", \"font\": {\"color\": \"#000000\"}, \"showarrow\": false}, {\"text\": \"0\", \"x\": 8, \"y\": \"Landry2012\", \"xref\": \"x1\", \"yref\": \"y1\", \"font\": {\"color\": \"#000000\"}, \"showarrow\": false}, {\"text\": \"0\", \"x\": 9, \"y\": \"Landry2012\", \"xref\": \"x1\", \"yref\": \"y1\", \"font\": {\"color\": \"#000000\"}, \"showarrow\": false}, {\"text\": \"0\", \"x\": 10, \"y\": \"Landry2012\", \"xref\": \"x1\", \"yref\": \"y1\", \"font\": {\"color\": \"#000000\"}, \"showarrow\": false}, {\"text\": \"0\", \"x\": 11, \"y\": \"Landry2012\", \"xref\": \"x1\", \"yref\": \"y1\", \"font\": {\"color\": \"#000000\"}, \"showarrow\": false}, {\"text\": \"0\", \"x\": 12, \"y\": \"Landry2012\", \"xref\": \"x1\", \"yref\": \"y1\", \"font\": {\"color\": \"#000000\"}, \"showarrow\": false}, {\"text\": \"0\", \"x\": 13, \"y\": \"Landry2012\", \"xref\": \"x1\", \"yref\": \"y1\", \"font\": {\"color\": \"#000000\"}, \"showarrow\": false}, {\"text\": \"0\", \"x\": 14, \"y\": \"Landry2012\", \"xref\": \"x1\", \"yref\": \"y1\", \"font\": {\"color\": \"#000000\"}, \"showarrow\": false}, {\"text\": \"0\", \"x\": 15, \"y\": \"Landry2012\", \"xref\": \"x1\", \"yref\": \"y1\", \"font\": {\"color\": \"#000000\"}, \"showarrow\": false}, {\"text\": \"8\", \"x\": 0, \"y\": \"Tennis\", \"xref\": \"x1\", \"yref\": \"y1\", \"font\": {\"color\": \"#000000\"}, \"showarrow\": false}, {\"text\": \"0\", \"x\": 1, \"y\": \"Tennis\", \"xref\": \"x1\", \"yref\": \"y1\", \"font\": {\"color\": \"#000000\"}, \"showarrow\": false}, {\"text\": \"17\", \"x\": 2, \"y\": \"Tennis\", \"xref\": \"x1\", \"yref\": \"y1\", \"font\": {\"color\": \"#000000\"}, \"showarrow\": false}, {\"text\": \"18\", \"x\": 3, \"y\": \"Tennis\", \"xref\": \"x1\", \"yref\": \"y1\", \"font\": {\"color\": \"#000000\"}, \"showarrow\": false}, {\"text\": \"5\", \"x\": 4, \"y\": \"Tennis\", \"xref\": \"x1\", \"yref\": \"y1\", \"font\": {\"color\": \"#000000\"}, \"showarrow\": false}, {\"text\": \"10\", \"x\": 5, \"y\": \"Tennis\", \"xref\": \"x1\", \"yref\": \"y1\", \"font\": {\"color\": \"#000000\"}, \"showarrow\": false}, {\"text\": \"6\", \"x\": 6, \"y\": \"Tennis\", \"xref\": \"x1\", \"yref\": \"y1\", \"font\": {\"color\": \"#000000\"}, \"showarrow\": false}, {\"text\": \"0\", \"x\": 7, \"y\": \"Tennis\", \"xref\": \"x1\", \"yref\": \"y1\", \"font\": {\"color\": \"#000000\"}, \"showarrow\": false}, {\"text\": \"3\", \"x\": 8, \"y\": \"Tennis\", \"xref\": \"x1\", \"yref\": \"y1\", \"font\": {\"color\": \"#000000\"}, \"showarrow\": false}, {\"text\": \"3\", \"x\": 9, \"y\": \"Tennis\", \"xref\": \"x1\", \"yref\": \"y1\", \"font\": {\"color\": \"#000000\"}, \"showarrow\": false}, {\"text\": \"8\", \"x\": 10, \"y\": \"Tennis\", \"xref\": \"x1\", \"yref\": \"y1\", \"font\": {\"color\": \"#000000\"}, \"showarrow\": false}, {\"text\": \"0\", \"x\": 11, \"y\": \"Tennis\", \"xref\": \"x1\", \"yref\": \"y1\", \"font\": {\"color\": \"#000000\"}, \"showarrow\": false}, {\"text\": \"0\", \"x\": 12, \"y\": \"Tennis\", \"xref\": \"x1\", \"yref\": \"y1\", \"font\": {\"color\": \"#000000\"}, \"showarrow\": false}, {\"text\": \"10\", \"x\": 13, \"y\": \"Tennis\", \"xref\": \"x1\", \"yref\": \"y1\", \"font\": {\"color\": \"#000000\"}, \"showarrow\": false}, {\"text\": \"0\", \"x\": 14, \"y\": \"Tennis\", \"xref\": \"x1\", \"yref\": \"y1\", \"font\": {\"color\": \"#000000\"}, \"showarrow\": false}, {\"text\": \"8\", \"x\": 15, \"y\": \"Tennis\", \"xref\": \"x1\", \"yref\": \"y1\", \"font\": {\"color\": \"#000000\"}, \"showarrow\": false}, {\"text\": \"7\", \"x\": 0, \"y\": \"Patrick_2013\", \"xref\": \"x1\", \"yref\": \"y1\", \"font\": {\"color\": \"#000000\"}, \"showarrow\": false}, {\"text\": \"10\", \"x\": 1, \"y\": \"Patrick_2013\", \"xref\": \"x1\", \"yref\": \"y1\", \"font\": {\"color\": \"#000000\"}, \"showarrow\": false}, {\"text\": \"18\", \"x\": 2, \"y\": \"Patrick_2013\", \"xref\": \"x1\", \"yref\": \"y1\", \"font\": {\"color\": \"#000000\"}, \"showarrow\": false}, {\"text\": \"5\", \"x\": 3, \"y\": \"Patrick_2013\", \"xref\": \"x1\", \"yref\": \"y1\", \"font\": {\"color\": \"#000000\"}, \"showarrow\": false}, {\"text\": \"9\", \"x\": 4, \"y\": \"Patrick_2013\", \"xref\": \"x1\", \"yref\": \"y1\", \"font\": {\"color\": \"#000000\"}, \"showarrow\": false}, {\"text\": \"6\", \"x\": 5, \"y\": \"Patrick_2013\", \"xref\": \"x1\", \"yref\": \"y1\", \"font\": {\"color\": \"#000000\"}, \"showarrow\": false}, {\"text\": \"5\", \"x\": 6, \"y\": \"Patrick_2013\", \"xref\": \"x1\", \"yref\": \"y1\", \"font\": {\"color\": \"#000000\"}, \"showarrow\": false}, {\"text\": \"6\", \"x\": 7, \"y\": \"Patrick_2013\", \"xref\": \"x1\", \"yref\": \"y1\", \"font\": {\"color\": \"#000000\"}, \"showarrow\": false}, {\"text\": \"2\", \"x\": 8, \"y\": \"Patrick_2013\", \"xref\": \"x1\", \"yref\": \"y1\", \"font\": {\"color\": \"#000000\"}, \"showarrow\": false}, {\"text\": \"1\", \"x\": 9, \"y\": \"Patrick_2013\", \"xref\": \"x1\", \"yref\": \"y1\", \"font\": {\"color\": \"#000000\"}, \"showarrow\": false}, {\"text\": \"5\", \"x\": 10, \"y\": \"Patrick_2013\", \"xref\": \"x1\", \"yref\": \"y1\", \"font\": {\"color\": \"#000000\"}, \"showarrow\": false}, {\"text\": \"4\", \"x\": 11, \"y\": \"Patrick_2013\", \"xref\": \"x1\", \"yref\": \"y1\", \"font\": {\"color\": \"#000000\"}, \"showarrow\": false}, {\"text\": \"1\", \"x\": 12, \"y\": \"Patrick_2013\", \"xref\": \"x1\", \"yref\": \"y1\", \"font\": {\"color\": \"#000000\"}, \"showarrow\": false}, {\"text\": \"5\", \"x\": 13, \"y\": \"Patrick_2013\", \"xref\": \"x1\", \"yref\": \"y1\", \"font\": {\"color\": \"#000000\"}, \"showarrow\": false}, {\"text\": \"9\", \"x\": 14, \"y\": \"Patrick_2013\", \"xref\": \"x1\", \"yref\": \"y1\", \"font\": {\"color\": \"#000000\"}, \"showarrow\": false}, {\"text\": \"0\", \"x\": 15, \"y\": \"Patrick_2013\", \"xref\": \"x1\", \"yref\": \"y1\", \"font\": {\"color\": \"#000000\"}, \"showarrow\": false}, {\"text\": \"12\", \"x\": 0, \"y\": \"Sylvain_2015\", \"xref\": \"x1\", \"yref\": \"y1\", \"font\": {\"color\": \"#000000\"}, \"showarrow\": false}, {\"text\": \"10\", \"x\": 1, \"y\": \"Sylvain_2015\", \"xref\": \"x1\", \"yref\": \"y1\", \"font\": {\"color\": \"#000000\"}, \"showarrow\": false}, {\"text\": \"14\", \"x\": 2, \"y\": \"Sylvain_2015\", \"xref\": \"x1\", \"yref\": \"y1\", \"font\": {\"color\": \"#000000\"}, \"showarrow\": false}, {\"text\": \"6\", \"x\": 3, \"y\": \"Sylvain_2015\", \"xref\": \"x1\", \"yref\": \"y1\", \"font\": {\"color\": \"#000000\"}, \"showarrow\": false}, {\"text\": \"1\", \"x\": 4, \"y\": \"Sylvain_2015\", \"xref\": \"x1\", \"yref\": \"y1\", \"font\": {\"color\": \"#000000\"}, \"showarrow\": false}, {\"text\": \"12\", \"x\": 5, \"y\": \"Sylvain_2015\", \"xref\": \"x1\", \"yref\": \"y1\", \"font\": {\"color\": \"#000000\"}, \"showarrow\": false}, {\"text\": \"2\", \"x\": 6, \"y\": \"Sylvain_2015\", \"xref\": \"x1\", \"yref\": \"y1\", \"font\": {\"color\": \"#000000\"}, \"showarrow\": false}, {\"text\": \"6\", \"x\": 7, \"y\": \"Sylvain_2015\", \"xref\": \"x1\", \"yref\": \"y1\", \"font\": {\"color\": \"#000000\"}, \"showarrow\": false}, {\"text\": \"3\", \"x\": 8, \"y\": \"Sylvain_2015\", \"xref\": \"x1\", \"yref\": \"y1\", \"font\": {\"color\": \"#000000\"}, \"showarrow\": false}, {\"text\": \"3\", \"x\": 9, \"y\": \"Sylvain_2015\", \"xref\": \"x1\", \"yref\": \"y1\", \"font\": {\"color\": \"#000000\"}, \"showarrow\": false}, {\"text\": \"8\", \"x\": 10, \"y\": \"Sylvain_2015\", \"xref\": \"x1\", \"yref\": \"y1\", \"font\": {\"color\": \"#000000\"}, \"showarrow\": false}, {\"text\": \"9\", \"x\": 11, \"y\": \"Sylvain_2015\", \"xref\": \"x1\", \"yref\": \"y1\", \"font\": {\"color\": \"#000000\"}, \"showarrow\": false}, {\"text\": \"2\", \"x\": 12, \"y\": \"Sylvain_2015\", \"xref\": \"x1\", \"yref\": \"y1\", \"font\": {\"color\": \"#000000\"}, \"showarrow\": false}, {\"text\": \"2\", \"x\": 13, \"y\": \"Sylvain_2015\", \"xref\": \"x1\", \"yref\": \"y1\", \"font\": {\"color\": \"#000000\"}, \"showarrow\": false}, {\"text\": \"6\", \"x\": 14, \"y\": \"Sylvain_2015\", \"xref\": \"x1\", \"yref\": \"y1\", \"font\": {\"color\": \"#000000\"}, \"showarrow\": false}, {\"text\": \"0\", \"x\": 15, \"y\": \"Sylvain_2015\", \"xref\": \"x1\", \"yref\": \"y1\", \"font\": {\"color\": \"#000000\"}, \"showarrow\": false}], \"xaxis\": {\"ticks\": \"\", \"dtick\": 1, \"side\": \"bottom\", \"gridcolor\": \"rgb(0, 0, 0)\", \"title\": \"Tests\"}, \"yaxis\": {\"ticks\": \"\", \"dtick\": 1, \"ticksuffix\": \"  \", \"title\": null, \"autorange\": \"reversed\"}, \"hovermode\": \"closest\", \"font\": {\"size\": 14}, \"title\": \"Max for each test (normalized by participant number)\", \"margin\": {\"t\": 80, \"b\": 80, \"l\": 150, \"r\": 80, \"pad\": 0}}, {\"showLink\": true, \"linkText\": \"Export to plot.ly\"})});</script>"
      ]
     },
     "metadata": {},
     "output_type": "display_data"
    }
   ],
   "source": [
    "max_by_test = plot_max_by_test(\n",
    "    df_normalized,\n",
    "    ylabel=DATASET_NAMES,\n",
    "    xtitle='Tests',\n",
    "    title='Max for each test (normalized by participant number)')\n",
    "\n",
    "py.iplot(max_by_test, filename='mvc/max_by_test')"
   ]
  },
  {
   "cell_type": "markdown",
   "metadata": {},
   "source": [
    "## 4.5. Distribution"
   ]
  },
  {
   "cell_type": "code",
   "execution_count": 15,
   "metadata": {},
   "outputs": [
    {
     "data": {
      "text/html": [
       "<div>\n",
       "<style scoped>\n",
       "    .dataframe tbody tr th:only-of-type {\n",
       "        vertical-align: middle;\n",
       "    }\n",
       "\n",
       "    .dataframe tbody tr th {\n",
       "        vertical-align: top;\n",
       "    }\n",
       "\n",
       "    .dataframe thead th {\n",
       "        text-align: right;\n",
       "    }\n",
       "</style>\n",
       "<table border=\"1\" class=\"dataframe\">\n",
       "  <thead>\n",
       "    <tr style=\"text-align: right;\">\n",
       "      <th></th>\n",
       "      <th>dataset</th>\n",
       "      <th>muscle</th>\n",
       "      <th>mvc</th>\n",
       "      <th>participant</th>\n",
       "      <th>test</th>\n",
       "    </tr>\n",
       "  </thead>\n",
       "  <tbody>\n",
       "    <tr>\n",
       "      <th>2</th>\n",
       "      <td>0</td>\n",
       "      <td>0</td>\n",
       "      <td>78.803940</td>\n",
       "      <td>0</td>\n",
       "      <td>2</td>\n",
       "    </tr>\n",
       "    <tr>\n",
       "      <th>3</th>\n",
       "      <td>0</td>\n",
       "      <td>0</td>\n",
       "      <td>76.603025</td>\n",
       "      <td>0</td>\n",
       "      <td>3</td>\n",
       "    </tr>\n",
       "    <tr>\n",
       "      <th>4</th>\n",
       "      <td>0</td>\n",
       "      <td>0</td>\n",
       "      <td>90.580569</td>\n",
       "      <td>0</td>\n",
       "      <td>4</td>\n",
       "    </tr>\n",
       "    <tr>\n",
       "      <th>5</th>\n",
       "      <td>0</td>\n",
       "      <td>0</td>\n",
       "      <td>25.635654</td>\n",
       "      <td>0</td>\n",
       "      <td>5</td>\n",
       "    </tr>\n",
       "    <tr>\n",
       "      <th>8</th>\n",
       "      <td>0</td>\n",
       "      <td>0</td>\n",
       "      <td>100.000000</td>\n",
       "      <td>0</td>\n",
       "      <td>8</td>\n",
       "    </tr>\n",
       "    <tr>\n",
       "      <th>9</th>\n",
       "      <td>0</td>\n",
       "      <td>0</td>\n",
       "      <td>10.918734</td>\n",
       "      <td>0</td>\n",
       "      <td>9</td>\n",
       "    </tr>\n",
       "    <tr>\n",
       "      <th>10</th>\n",
       "      <td>0</td>\n",
       "      <td>0</td>\n",
       "      <td>8.858734</td>\n",
       "      <td>0</td>\n",
       "      <td>10</td>\n",
       "    </tr>\n",
       "    <tr>\n",
       "      <th>15</th>\n",
       "      <td>0</td>\n",
       "      <td>0</td>\n",
       "      <td>22.758820</td>\n",
       "      <td>0</td>\n",
       "      <td>15</td>\n",
       "    </tr>\n",
       "    <tr>\n",
       "      <th>34</th>\n",
       "      <td>0</td>\n",
       "      <td>2</td>\n",
       "      <td>60.796379</td>\n",
       "      <td>0</td>\n",
       "      <td>2</td>\n",
       "    </tr>\n",
       "    <tr>\n",
       "      <th>35</th>\n",
       "      <td>0</td>\n",
       "      <td>2</td>\n",
       "      <td>99.683129</td>\n",
       "      <td>0</td>\n",
       "      <td>3</td>\n",
       "    </tr>\n",
       "    <tr>\n",
       "      <th>36</th>\n",
       "      <td>0</td>\n",
       "      <td>2</td>\n",
       "      <td>100.000000</td>\n",
       "      <td>0</td>\n",
       "      <td>4</td>\n",
       "    </tr>\n",
       "    <tr>\n",
       "      <th>37</th>\n",
       "      <td>0</td>\n",
       "      <td>2</td>\n",
       "      <td>36.427240</td>\n",
       "      <td>0</td>\n",
       "      <td>5</td>\n",
       "    </tr>\n",
       "    <tr>\n",
       "      <th>40</th>\n",
       "      <td>0</td>\n",
       "      <td>2</td>\n",
       "      <td>67.297502</td>\n",
       "      <td>0</td>\n",
       "      <td>8</td>\n",
       "    </tr>\n",
       "    <tr>\n",
       "      <th>41</th>\n",
       "      <td>0</td>\n",
       "      <td>2</td>\n",
       "      <td>68.329474</td>\n",
       "      <td>0</td>\n",
       "      <td>9</td>\n",
       "    </tr>\n",
       "    <tr>\n",
       "      <th>42</th>\n",
       "      <td>0</td>\n",
       "      <td>2</td>\n",
       "      <td>7.662043</td>\n",
       "      <td>0</td>\n",
       "      <td>10</td>\n",
       "    </tr>\n",
       "    <tr>\n",
       "      <th>47</th>\n",
       "      <td>0</td>\n",
       "      <td>2</td>\n",
       "      <td>24.154352</td>\n",
       "      <td>0</td>\n",
       "      <td>15</td>\n",
       "    </tr>\n",
       "    <tr>\n",
       "      <th>50</th>\n",
       "      <td>0</td>\n",
       "      <td>3</td>\n",
       "      <td>28.878142</td>\n",
       "      <td>0</td>\n",
       "      <td>2</td>\n",
       "    </tr>\n",
       "    <tr>\n",
       "      <th>51</th>\n",
       "      <td>0</td>\n",
       "      <td>3</td>\n",
       "      <td>89.684710</td>\n",
       "      <td>0</td>\n",
       "      <td>3</td>\n",
       "    </tr>\n",
       "    <tr>\n",
       "      <th>52</th>\n",
       "      <td>0</td>\n",
       "      <td>3</td>\n",
       "      <td>100.000000</td>\n",
       "      <td>0</td>\n",
       "      <td>4</td>\n",
       "    </tr>\n",
       "    <tr>\n",
       "      <th>53</th>\n",
       "      <td>0</td>\n",
       "      <td>3</td>\n",
       "      <td>3.720400</td>\n",
       "      <td>0</td>\n",
       "      <td>5</td>\n",
       "    </tr>\n",
       "    <tr>\n",
       "      <th>56</th>\n",
       "      <td>0</td>\n",
       "      <td>3</td>\n",
       "      <td>39.048819</td>\n",
       "      <td>0</td>\n",
       "      <td>8</td>\n",
       "    </tr>\n",
       "    <tr>\n",
       "      <th>57</th>\n",
       "      <td>0</td>\n",
       "      <td>3</td>\n",
       "      <td>3.887026</td>\n",
       "      <td>0</td>\n",
       "      <td>9</td>\n",
       "    </tr>\n",
       "    <tr>\n",
       "      <th>58</th>\n",
       "      <td>0</td>\n",
       "      <td>3</td>\n",
       "      <td>2.756465</td>\n",
       "      <td>0</td>\n",
       "      <td>10</td>\n",
       "    </tr>\n",
       "    <tr>\n",
       "      <th>63</th>\n",
       "      <td>0</td>\n",
       "      <td>3</td>\n",
       "      <td>87.570997</td>\n",
       "      <td>0</td>\n",
       "      <td>15</td>\n",
       "    </tr>\n",
       "    <tr>\n",
       "      <th>66</th>\n",
       "      <td>0</td>\n",
       "      <td>4</td>\n",
       "      <td>100.000000</td>\n",
       "      <td>0</td>\n",
       "      <td>2</td>\n",
       "    </tr>\n",
       "    <tr>\n",
       "      <th>67</th>\n",
       "      <td>0</td>\n",
       "      <td>4</td>\n",
       "      <td>69.605276</td>\n",
       "      <td>0</td>\n",
       "      <td>3</td>\n",
       "    </tr>\n",
       "    <tr>\n",
       "      <th>68</th>\n",
       "      <td>0</td>\n",
       "      <td>4</td>\n",
       "      <td>76.667878</td>\n",
       "      <td>0</td>\n",
       "      <td>4</td>\n",
       "    </tr>\n",
       "    <tr>\n",
       "      <th>69</th>\n",
       "      <td>0</td>\n",
       "      <td>4</td>\n",
       "      <td>38.472974</td>\n",
       "      <td>0</td>\n",
       "      <td>5</td>\n",
       "    </tr>\n",
       "    <tr>\n",
       "      <th>72</th>\n",
       "      <td>0</td>\n",
       "      <td>4</td>\n",
       "      <td>43.516962</td>\n",
       "      <td>0</td>\n",
       "      <td>8</td>\n",
       "    </tr>\n",
       "    <tr>\n",
       "      <th>73</th>\n",
       "      <td>0</td>\n",
       "      <td>4</td>\n",
       "      <td>35.203939</td>\n",
       "      <td>0</td>\n",
       "      <td>9</td>\n",
       "    </tr>\n",
       "    <tr>\n",
       "      <th>...</th>\n",
       "      <td>...</td>\n",
       "      <td>...</td>\n",
       "      <td>...</td>\n",
       "      <td>...</td>\n",
       "      <td>...</td>\n",
       "    </tr>\n",
       "    <tr>\n",
       "      <th>29344</th>\n",
       "      <td>9</td>\n",
       "      <td>10</td>\n",
       "      <td>45.838726</td>\n",
       "      <td>152</td>\n",
       "      <td>0</td>\n",
       "    </tr>\n",
       "    <tr>\n",
       "      <th>29345</th>\n",
       "      <td>9</td>\n",
       "      <td>10</td>\n",
       "      <td>22.706837</td>\n",
       "      <td>152</td>\n",
       "      <td>1</td>\n",
       "    </tr>\n",
       "    <tr>\n",
       "      <th>29346</th>\n",
       "      <td>9</td>\n",
       "      <td>10</td>\n",
       "      <td>100.000000</td>\n",
       "      <td>152</td>\n",
       "      <td>2</td>\n",
       "    </tr>\n",
       "    <tr>\n",
       "      <th>29347</th>\n",
       "      <td>9</td>\n",
       "      <td>10</td>\n",
       "      <td>78.959320</td>\n",
       "      <td>152</td>\n",
       "      <td>3</td>\n",
       "    </tr>\n",
       "    <tr>\n",
       "      <th>29348</th>\n",
       "      <td>9</td>\n",
       "      <td>10</td>\n",
       "      <td>58.520485</td>\n",
       "      <td>152</td>\n",
       "      <td>4</td>\n",
       "    </tr>\n",
       "    <tr>\n",
       "      <th>29349</th>\n",
       "      <td>9</td>\n",
       "      <td>10</td>\n",
       "      <td>67.286951</td>\n",
       "      <td>152</td>\n",
       "      <td>5</td>\n",
       "    </tr>\n",
       "    <tr>\n",
       "      <th>29350</th>\n",
       "      <td>9</td>\n",
       "      <td>10</td>\n",
       "      <td>37.429670</td>\n",
       "      <td>152</td>\n",
       "      <td>6</td>\n",
       "    </tr>\n",
       "    <tr>\n",
       "      <th>29351</th>\n",
       "      <td>9</td>\n",
       "      <td>10</td>\n",
       "      <td>23.326811</td>\n",
       "      <td>152</td>\n",
       "      <td>7</td>\n",
       "    </tr>\n",
       "    <tr>\n",
       "      <th>29352</th>\n",
       "      <td>9</td>\n",
       "      <td>10</td>\n",
       "      <td>31.834653</td>\n",
       "      <td>152</td>\n",
       "      <td>8</td>\n",
       "    </tr>\n",
       "    <tr>\n",
       "      <th>29353</th>\n",
       "      <td>9</td>\n",
       "      <td>10</td>\n",
       "      <td>70.447383</td>\n",
       "      <td>152</td>\n",
       "      <td>9</td>\n",
       "    </tr>\n",
       "    <tr>\n",
       "      <th>29354</th>\n",
       "      <td>9</td>\n",
       "      <td>10</td>\n",
       "      <td>5.431446</td>\n",
       "      <td>152</td>\n",
       "      <td>10</td>\n",
       "    </tr>\n",
       "    <tr>\n",
       "      <th>29355</th>\n",
       "      <td>9</td>\n",
       "      <td>10</td>\n",
       "      <td>63.212432</td>\n",
       "      <td>152</td>\n",
       "      <td>11</td>\n",
       "    </tr>\n",
       "    <tr>\n",
       "      <th>29356</th>\n",
       "      <td>9</td>\n",
       "      <td>10</td>\n",
       "      <td>5.188136</td>\n",
       "      <td>152</td>\n",
       "      <td>12</td>\n",
       "    </tr>\n",
       "    <tr>\n",
       "      <th>29357</th>\n",
       "      <td>9</td>\n",
       "      <td>10</td>\n",
       "      <td>16.203444</td>\n",
       "      <td>152</td>\n",
       "      <td>13</td>\n",
       "    </tr>\n",
       "    <tr>\n",
       "      <th>29358</th>\n",
       "      <td>9</td>\n",
       "      <td>10</td>\n",
       "      <td>67.063475</td>\n",
       "      <td>152</td>\n",
       "      <td>14</td>\n",
       "    </tr>\n",
       "    <tr>\n",
       "      <th>29360</th>\n",
       "      <td>9</td>\n",
       "      <td>11</td>\n",
       "      <td>45.366042</td>\n",
       "      <td>152</td>\n",
       "      <td>0</td>\n",
       "    </tr>\n",
       "    <tr>\n",
       "      <th>29361</th>\n",
       "      <td>9</td>\n",
       "      <td>11</td>\n",
       "      <td>59.450538</td>\n",
       "      <td>152</td>\n",
       "      <td>1</td>\n",
       "    </tr>\n",
       "    <tr>\n",
       "      <th>29362</th>\n",
       "      <td>9</td>\n",
       "      <td>11</td>\n",
       "      <td>75.557920</td>\n",
       "      <td>152</td>\n",
       "      <td>2</td>\n",
       "    </tr>\n",
       "    <tr>\n",
       "      <th>29363</th>\n",
       "      <td>9</td>\n",
       "      <td>11</td>\n",
       "      <td>52.812967</td>\n",
       "      <td>152</td>\n",
       "      <td>3</td>\n",
       "    </tr>\n",
       "    <tr>\n",
       "      <th>29364</th>\n",
       "      <td>9</td>\n",
       "      <td>11</td>\n",
       "      <td>46.033595</td>\n",
       "      <td>152</td>\n",
       "      <td>4</td>\n",
       "    </tr>\n",
       "    <tr>\n",
       "      <th>29365</th>\n",
       "      <td>9</td>\n",
       "      <td>11</td>\n",
       "      <td>100.000000</td>\n",
       "      <td>152</td>\n",
       "      <td>5</td>\n",
       "    </tr>\n",
       "    <tr>\n",
       "      <th>29366</th>\n",
       "      <td>9</td>\n",
       "      <td>11</td>\n",
       "      <td>11.453203</td>\n",
       "      <td>152</td>\n",
       "      <td>6</td>\n",
       "    </tr>\n",
       "    <tr>\n",
       "      <th>29367</th>\n",
       "      <td>9</td>\n",
       "      <td>11</td>\n",
       "      <td>17.211448</td>\n",
       "      <td>152</td>\n",
       "      <td>7</td>\n",
       "    </tr>\n",
       "    <tr>\n",
       "      <th>29368</th>\n",
       "      <td>9</td>\n",
       "      <td>11</td>\n",
       "      <td>23.768316</td>\n",
       "      <td>152</td>\n",
       "      <td>8</td>\n",
       "    </tr>\n",
       "    <tr>\n",
       "      <th>29369</th>\n",
       "      <td>9</td>\n",
       "      <td>11</td>\n",
       "      <td>37.862633</td>\n",
       "      <td>152</td>\n",
       "      <td>9</td>\n",
       "    </tr>\n",
       "    <tr>\n",
       "      <th>29370</th>\n",
       "      <td>9</td>\n",
       "      <td>11</td>\n",
       "      <td>80.186980</td>\n",
       "      <td>152</td>\n",
       "      <td>10</td>\n",
       "    </tr>\n",
       "    <tr>\n",
       "      <th>29371</th>\n",
       "      <td>9</td>\n",
       "      <td>11</td>\n",
       "      <td>53.729271</td>\n",
       "      <td>152</td>\n",
       "      <td>11</td>\n",
       "    </tr>\n",
       "    <tr>\n",
       "      <th>29372</th>\n",
       "      <td>9</td>\n",
       "      <td>11</td>\n",
       "      <td>26.954910</td>\n",
       "      <td>152</td>\n",
       "      <td>12</td>\n",
       "    </tr>\n",
       "    <tr>\n",
       "      <th>29373</th>\n",
       "      <td>9</td>\n",
       "      <td>11</td>\n",
       "      <td>25.615864</td>\n",
       "      <td>152</td>\n",
       "      <td>13</td>\n",
       "    </tr>\n",
       "    <tr>\n",
       "      <th>29374</th>\n",
       "      <td>9</td>\n",
       "      <td>11</td>\n",
       "      <td>34.708255</td>\n",
       "      <td>152</td>\n",
       "      <td>14</td>\n",
       "    </tr>\n",
       "  </tbody>\n",
       "</table>\n",
       "<p>16456 rows × 5 columns</p>\n",
       "</div>"
      ],
      "text/plain": [
       "       dataset  muscle         mvc  participant  test\n",
       "2            0       0   78.803940            0     2\n",
       "3            0       0   76.603025            0     3\n",
       "4            0       0   90.580569            0     4\n",
       "5            0       0   25.635654            0     5\n",
       "8            0       0  100.000000            0     8\n",
       "9            0       0   10.918734            0     9\n",
       "10           0       0    8.858734            0    10\n",
       "15           0       0   22.758820            0    15\n",
       "34           0       2   60.796379            0     2\n",
       "35           0       2   99.683129            0     3\n",
       "36           0       2  100.000000            0     4\n",
       "37           0       2   36.427240            0     5\n",
       "40           0       2   67.297502            0     8\n",
       "41           0       2   68.329474            0     9\n",
       "42           0       2    7.662043            0    10\n",
       "47           0       2   24.154352            0    15\n",
       "50           0       3   28.878142            0     2\n",
       "51           0       3   89.684710            0     3\n",
       "52           0       3  100.000000            0     4\n",
       "53           0       3    3.720400            0     5\n",
       "56           0       3   39.048819            0     8\n",
       "57           0       3    3.887026            0     9\n",
       "58           0       3    2.756465            0    10\n",
       "63           0       3   87.570997            0    15\n",
       "66           0       4  100.000000            0     2\n",
       "67           0       4   69.605276            0     3\n",
       "68           0       4   76.667878            0     4\n",
       "69           0       4   38.472974            0     5\n",
       "72           0       4   43.516962            0     8\n",
       "73           0       4   35.203939            0     9\n",
       "...        ...     ...         ...          ...   ...\n",
       "29344        9      10   45.838726          152     0\n",
       "29345        9      10   22.706837          152     1\n",
       "29346        9      10  100.000000          152     2\n",
       "29347        9      10   78.959320          152     3\n",
       "29348        9      10   58.520485          152     4\n",
       "29349        9      10   67.286951          152     5\n",
       "29350        9      10   37.429670          152     6\n",
       "29351        9      10   23.326811          152     7\n",
       "29352        9      10   31.834653          152     8\n",
       "29353        9      10   70.447383          152     9\n",
       "29354        9      10    5.431446          152    10\n",
       "29355        9      10   63.212432          152    11\n",
       "29356        9      10    5.188136          152    12\n",
       "29357        9      10   16.203444          152    13\n",
       "29358        9      10   67.063475          152    14\n",
       "29360        9      11   45.366042          152     0\n",
       "29361        9      11   59.450538          152     1\n",
       "29362        9      11   75.557920          152     2\n",
       "29363        9      11   52.812967          152     3\n",
       "29364        9      11   46.033595          152     4\n",
       "29365        9      11  100.000000          152     5\n",
       "29366        9      11   11.453203          152     6\n",
       "29367        9      11   17.211448          152     7\n",
       "29368        9      11   23.768316          152     8\n",
       "29369        9      11   37.862633          152     9\n",
       "29370        9      11   80.186980          152    10\n",
       "29371        9      11   53.729271          152    11\n",
       "29372        9      11   26.954910          152    12\n",
       "29373        9      11   25.615864          152    13\n",
       "29374        9      11   34.708255          152    14\n",
       "\n",
       "[16456 rows x 5 columns]"
      ]
     },
     "execution_count": 15,
     "metadata": {},
     "output_type": "execute_result"
    }
   ],
   "source": [
    "def plot_mvc_distribution(d):\n",
    "    for imuscle in d['muscle'].unique():\n",
    "        "
   ]
  },
  {
   "cell_type": "markdown",
   "metadata": {},
   "source": [
    "## Summary"
   ]
  }
 ],
 "metadata": {
  "kernelspec": {
   "display_name": "mvc",
   "language": "python",
   "name": "mvc"
  },
  "language_info": {
   "codemirror_mode": {
    "name": "ipython",
    "version": 3
   },
   "file_extension": ".py",
   "mimetype": "text/x-python",
   "name": "python",
   "nbconvert_exporter": "python",
   "pygments_lexer": "ipython3",
   "version": "3.6.4"
  },
  "toc": {
   "nav_menu": {},
   "number_sections": false,
   "sideBar": true,
   "skip_h1_title": false,
   "title_cell": "Table of Contents",
   "title_sidebar": "Contents",
   "toc_cell": true,
   "toc_position": {
    "height": "calc(100% - 180px)",
    "left": "10px",
    "top": "150px",
    "width": "384px"
   },
   "toc_section_display": true,
   "toc_window_display": true
  }
 },
 "nbformat": 4,
 "nbformat_minor": 2
}
