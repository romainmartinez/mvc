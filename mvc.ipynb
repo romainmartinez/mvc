{
 "cells": [
  {
   "cell_type": "markdown",
   "metadata": {
    "toc": true
   },
   "source": [
    "<h1>Table of Contents<span class=\"tocSkip\"></span></h1>\n",
    "<div class=\"toc\"><ul class=\"toc-item\"><li><span><a href=\"#1.-MVC-project-description\" data-toc-modified-id=\"1.-MVC-project-description-1\">1. MVC project description</a></span></li><li><span><a href=\"#2.-Setup\" data-toc-modified-id=\"2.-Setup-2\">2. Setup</a></span></li><li><span><a href=\"#3.-Get-the-data\" data-toc-modified-id=\"3.-Get-the-data-3\">3. Get the data</a></span><ul class=\"toc-item\"><li><span><a href=\"#3.1.-From-Matlab-to-dict\" data-toc-modified-id=\"3.1.-From-Matlab-to-dict-3.1\">3.1. From Matlab to dict</a></span></li><li><span><a href=\"#3.2.-From-dict-to-pandas-dataframe\" data-toc-modified-id=\"3.2.-From-dict-to-pandas-dataframe-3.2\">3.2. From dict to pandas dataframe</a></span></li></ul></li><li><span><a href=\"#4.-Data-analysis\" data-toc-modified-id=\"4.-Data-analysis-4\">4. Data analysis</a></span><ul class=\"toc-item\"><li><span><a href=\"#4.1.-Muscles-by-dataset\" data-toc-modified-id=\"4.1.-Muscles-by-dataset-4.1\">4.1. Muscles by dataset</a></span></li></ul></li></ul></div>"
   ]
  },
  {
   "cell_type": "markdown",
   "metadata": {},
   "source": [
    "# 1. MVC project description\n",
    "\n",
    "**Links**\n",
    "- [github repo](https://github.com/romainmartinez/mvc)\n",
    "- [plotly figures]()\n",
    "\n",
    "**Todos**\n",
    "- update readme, description\n",
    "- data analysis\n",
    "- plotly link\n",
    "- one model by muscle\n",
    "\n",
    "**Author**: _Romain Martinez._"
   ]
  },
  {
   "cell_type": "markdown",
   "metadata": {},
   "source": [
    "# 2. Setup"
   ]
  },
  {
   "cell_type": "code",
   "execution_count": 1,
   "metadata": {},
   "outputs": [
    {
     "data": {
      "text/html": [
       "<script>requirejs.config({paths: { 'plotly': ['https://cdn.plot.ly/plotly-latest.min']},});if(!window.Plotly) {{require(['plotly'],function(plotly) {window.Plotly=plotly;});}}</script>"
      ],
      "text/vnd.plotly.v1+html": [
       "<script>requirejs.config({paths: { 'plotly': ['https://cdn.plot.ly/plotly-latest.min']},});if(!window.Plotly) {{require(['plotly'],function(plotly) {window.Plotly=plotly;});}}</script>"
      ]
     },
     "metadata": {},
     "output_type": "display_data"
    }
   ],
   "source": [
    "# Common imports\n",
    "import scipy.io as sio\n",
    "import pandas as pd\n",
    "import numpy as np\n",
    "\n",
    "# Path\n",
    "from pathlib import Path, PurePath\n",
    "PROJECT_PATH = Path('./')\n",
    "DATA_PATH = PROJECT_PATH.joinpath('data')\n",
    "\n",
    "# to make this notebook's output stable across runs\n",
    "RANDOM_SEED = 42\n",
    "np.random.seed(RANDOM_SEED)\n",
    "\n",
    "# Figures\n",
    "OFFLINE = True\n",
    "if OFFLINE:\n",
    "    import plotly.offline as py\n",
    "    py.init_notebook_mode(connected=True)\n",
    "else:\n",
    "    import plotly.plotly as py\n",
    "import plotly.graph_objs as go\n",
    "import plotly.figure_factory as ff\n",
    "BASE_LAYOUT = go.Layout(hovermode='closest', font=dict(size=14))"
   ]
  },
  {
   "cell_type": "markdown",
   "metadata": {},
   "source": [
    "# 3. Get the data"
   ]
  },
  {
   "cell_type": "markdown",
   "metadata": {},
   "source": [
    "## 3.1. From Matlab to dict"
   ]
  },
  {
   "cell_type": "code",
   "execution_count": 2,
   "metadata": {},
   "outputs": [],
   "source": [
    "def load_data(data_path, data_format, normalize=False):\n",
    "    if not data_path.is_dir():\n",
    "        raise ValueError('please provide a valid data path')\n",
    "        \n",
    "    mat = {}\n",
    "    data = {key: [] for key in ('datasets', 'participants', 'muscles', 'tests', 'mvc')}\n",
    "    count = -1\n",
    "    dataset_names = []\n",
    "    \n",
    "    for idataset, ifile in enumerate(data_path.iterdir()):\n",
    "        if ifile.parts[-1].endswith(f'{data_format}.mat'):\n",
    "            dataset = ifile.parts[-1].replace('_only_max.mat', '').replace('MVE_Data_', '')\n",
    "            \n",
    "            if dataset not in dataset_names:\n",
    "                dataset_names.append(dataset)\n",
    "            \n",
    "            mat[dataset] = sio.loadmat(ifile)['MVE']\n",
    "            n_participants = mat[dataset].shape[0]\n",
    "            print(f\"project '{dataset}' ({n_participants} participants)\")\n",
    "            \n",
    "            for iparticipant in range(mat[dataset].shape[0]):\n",
    "                count += 1\n",
    "                for imuscle in range(mat[dataset].shape[1]):\n",
    "                    max_mvc = np.nanmax(mat[dataset][iparticipant, imuscle, :])\n",
    "                    for itest in range(mat[dataset].shape[2]):\n",
    "                        data['participants'].append(count)\n",
    "                        data['datasets'].append(idataset)\n",
    "                        data['muscles'].append(imuscle)\n",
    "                        data['tests'].append(itest)\n",
    "                        if normalize:\n",
    "                            data['mvc'].append(mat[dataset][iparticipant, imuscle, itest] * 100 / max_mvc)\n",
    "                        else:\n",
    "                            data['mvc'].append(mat[dataset][iparticipant, imuscle, itest])\n",
    "                            \n",
    "    print(f'\\n\\ttotal participants: {count}')\n",
    "    return data, dataset_names"
   ]
  },
  {
   "cell_type": "code",
   "execution_count": 3,
   "metadata": {},
   "outputs": [
    {
     "name": "stdout",
     "output_type": "stream",
     "text": [
      "project 'Landry2016' (15 participants)\n",
      "project 'Landry2015_2' (11 participants)\n",
      "project 'Landry2015_1' (14 participants)\n",
      "project 'Violon' (10 participants)\n",
      "project 'Yoann_2015' (22 participants)\n",
      "project 'Landry2013' (21 participants)\n",
      "project 'Landry2012' (18 participants)\n",
      "project 'Tennis' (16 participants)\n",
      "project 'Patrick_2013' (16 participants)\n",
      "project 'Sylvain_2015' (10 participants)\n",
      "\n",
      "\ttotal participants: 152\n"
     ]
    },
    {
     "name": "stderr",
     "output_type": "stream",
     "text": [
      "/home/romain/.local/share/virtualenvs/mvc-kMH3Oq29/lib/python3.6/site-packages/ipykernel_launcher.py:24: RuntimeWarning:\n",
      "\n",
      "All-NaN slice encountered\n",
      "\n"
     ]
    }
   ],
   "source": [
    "DATA_FORMAT = 'only_max'\n",
    "data, DATASET_NAMES = load_data(data_path=DATA_PATH, data_format=DATA_FORMAT, normalize=False)\n",
    "\n",
    "MUSCLES_NAMES = [\n",
    "    'upper trapezius', 'middle trapezius', 'lower trapezius',\n",
    "    'anterior deltoid', 'middle deltoid', 'posterior deltoid',\n",
    "    'pectoralis major', 'serratus anterior', 'latissimus dorsi',\n",
    "    'supraspinatus', 'infraspinatus', 'subscapularis'\n",
    "]"
   ]
  },
  {
   "cell_type": "markdown",
   "metadata": {},
   "source": [
    "## 3.2. From dict to pandas dataframe"
   ]
  },
  {
   "cell_type": "code",
   "execution_count": 4,
   "metadata": {},
   "outputs": [
    {
     "name": "stdout",
     "output_type": "stream",
     "text": [
      "dataset shape = (16456, 5)\n"
     ]
    },
    {
     "data": {
      "text/html": [
       "<div>\n",
       "<style scoped>\n",
       "    .dataframe tbody tr th:only-of-type {\n",
       "        vertical-align: middle;\n",
       "    }\n",
       "\n",
       "    .dataframe tbody tr th {\n",
       "        vertical-align: top;\n",
       "    }\n",
       "\n",
       "    .dataframe thead th {\n",
       "        text-align: right;\n",
       "    }\n",
       "</style>\n",
       "<table border=\"1\" class=\"dataframe\">\n",
       "  <thead>\n",
       "    <tr style=\"text-align: right;\">\n",
       "      <th></th>\n",
       "      <th>dataset</th>\n",
       "      <th>muscle</th>\n",
       "      <th>mvc</th>\n",
       "      <th>participant</th>\n",
       "      <th>test</th>\n",
       "    </tr>\n",
       "  </thead>\n",
       "  <tbody>\n",
       "    <tr>\n",
       "      <th>2</th>\n",
       "      <td>0</td>\n",
       "      <td>0</td>\n",
       "      <td>0.127825</td>\n",
       "      <td>0</td>\n",
       "      <td>2</td>\n",
       "    </tr>\n",
       "    <tr>\n",
       "      <th>3</th>\n",
       "      <td>0</td>\n",
       "      <td>0</td>\n",
       "      <td>0.124255</td>\n",
       "      <td>0</td>\n",
       "      <td>3</td>\n",
       "    </tr>\n",
       "    <tr>\n",
       "      <th>4</th>\n",
       "      <td>0</td>\n",
       "      <td>0</td>\n",
       "      <td>0.146927</td>\n",
       "      <td>0</td>\n",
       "      <td>4</td>\n",
       "    </tr>\n",
       "    <tr>\n",
       "      <th>5</th>\n",
       "      <td>0</td>\n",
       "      <td>0</td>\n",
       "      <td>0.041583</td>\n",
       "      <td>0</td>\n",
       "      <td>5</td>\n",
       "    </tr>\n",
       "    <tr>\n",
       "      <th>8</th>\n",
       "      <td>0</td>\n",
       "      <td>0</td>\n",
       "      <td>0.162206</td>\n",
       "      <td>0</td>\n",
       "      <td>8</td>\n",
       "    </tr>\n",
       "  </tbody>\n",
       "</table>\n",
       "</div>"
      ],
      "text/plain": [
       "   dataset  muscle       mvc  participant  test\n",
       "2        0       0  0.127825            0     2\n",
       "3        0       0  0.124255            0     3\n",
       "4        0       0  0.146927            0     4\n",
       "5        0       0  0.041583            0     5\n",
       "8        0       0  0.162206            0     8"
      ]
     },
     "execution_count": 4,
     "metadata": {},
     "output_type": "execute_result"
    }
   ],
   "source": [
    "df_tidy = pd.DataFrame({\n",
    "    'participant': data['participants'],\n",
    "    'dataset': data['datasets'],\n",
    "    'muscle': data['muscles'],\n",
    "    'test': data['tests'],\n",
    "    'mvc': data['mvc']\n",
    "}).dropna()\n",
    "\n",
    "print(f'dataset shape = {df_tidy.shape}')\n",
    "df_tidy.head()"
   ]
  },
  {
   "cell_type": "code",
   "execution_count": 5,
   "metadata": {},
   "outputs": [
    {
     "name": "stdout",
     "output_type": "stream",
     "text": [
      "dataset shape = (1468, 17)\n"
     ]
    },
    {
     "data": {
      "text/html": [
       "<div>\n",
       "<style scoped>\n",
       "    .dataframe tbody tr th:only-of-type {\n",
       "        vertical-align: middle;\n",
       "    }\n",
       "\n",
       "    .dataframe tbody tr th {\n",
       "        vertical-align: top;\n",
       "    }\n",
       "\n",
       "    .dataframe thead th {\n",
       "        text-align: right;\n",
       "    }\n",
       "</style>\n",
       "<table border=\"1\" class=\"dataframe\">\n",
       "  <thead>\n",
       "    <tr style=\"text-align: right;\">\n",
       "      <th>test</th>\n",
       "      <th>muscle</th>\n",
       "      <th>0</th>\n",
       "      <th>1</th>\n",
       "      <th>2</th>\n",
       "      <th>3</th>\n",
       "      <th>4</th>\n",
       "      <th>5</th>\n",
       "      <th>6</th>\n",
       "      <th>7</th>\n",
       "      <th>8</th>\n",
       "      <th>9</th>\n",
       "      <th>10</th>\n",
       "      <th>11</th>\n",
       "      <th>12</th>\n",
       "      <th>13</th>\n",
       "      <th>14</th>\n",
       "      <th>15</th>\n",
       "    </tr>\n",
       "  </thead>\n",
       "  <tbody>\n",
       "    <tr>\n",
       "      <th>0</th>\n",
       "      <td>0</td>\n",
       "      <td>NaN</td>\n",
       "      <td>NaN</td>\n",
       "      <td>0.127825</td>\n",
       "      <td>0.124255</td>\n",
       "      <td>0.146927</td>\n",
       "      <td>0.041583</td>\n",
       "      <td>NaN</td>\n",
       "      <td>NaN</td>\n",
       "      <td>0.162206</td>\n",
       "      <td>0.017711</td>\n",
       "      <td>0.014369</td>\n",
       "      <td>NaN</td>\n",
       "      <td>NaN</td>\n",
       "      <td>NaN</td>\n",
       "      <td>NaN</td>\n",
       "      <td>0.036916</td>\n",
       "    </tr>\n",
       "    <tr>\n",
       "      <th>1</th>\n",
       "      <td>2</td>\n",
       "      <td>NaN</td>\n",
       "      <td>NaN</td>\n",
       "      <td>0.179864</td>\n",
       "      <td>0.294909</td>\n",
       "      <td>0.295846</td>\n",
       "      <td>0.107769</td>\n",
       "      <td>NaN</td>\n",
       "      <td>NaN</td>\n",
       "      <td>0.199097</td>\n",
       "      <td>0.202150</td>\n",
       "      <td>0.022668</td>\n",
       "      <td>NaN</td>\n",
       "      <td>NaN</td>\n",
       "      <td>NaN</td>\n",
       "      <td>NaN</td>\n",
       "      <td>0.071460</td>\n",
       "    </tr>\n",
       "    <tr>\n",
       "      <th>2</th>\n",
       "      <td>3</td>\n",
       "      <td>NaN</td>\n",
       "      <td>NaN</td>\n",
       "      <td>0.078753</td>\n",
       "      <td>0.244578</td>\n",
       "      <td>0.272709</td>\n",
       "      <td>0.010146</td>\n",
       "      <td>NaN</td>\n",
       "      <td>NaN</td>\n",
       "      <td>0.106490</td>\n",
       "      <td>0.010600</td>\n",
       "      <td>0.007517</td>\n",
       "      <td>NaN</td>\n",
       "      <td>NaN</td>\n",
       "      <td>NaN</td>\n",
       "      <td>NaN</td>\n",
       "      <td>0.238814</td>\n",
       "    </tr>\n",
       "    <tr>\n",
       "      <th>3</th>\n",
       "      <td>4</td>\n",
       "      <td>NaN</td>\n",
       "      <td>NaN</td>\n",
       "      <td>0.150353</td>\n",
       "      <td>0.104654</td>\n",
       "      <td>0.115272</td>\n",
       "      <td>0.057845</td>\n",
       "      <td>NaN</td>\n",
       "      <td>NaN</td>\n",
       "      <td>0.065429</td>\n",
       "      <td>0.052930</td>\n",
       "      <td>0.009894</td>\n",
       "      <td>NaN</td>\n",
       "      <td>NaN</td>\n",
       "      <td>NaN</td>\n",
       "      <td>NaN</td>\n",
       "      <td>0.079885</td>\n",
       "    </tr>\n",
       "    <tr>\n",
       "      <th>4</th>\n",
       "      <td>5</td>\n",
       "      <td>NaN</td>\n",
       "      <td>NaN</td>\n",
       "      <td>0.172669</td>\n",
       "      <td>0.124655</td>\n",
       "      <td>0.133114</td>\n",
       "      <td>0.196436</td>\n",
       "      <td>NaN</td>\n",
       "      <td>NaN</td>\n",
       "      <td>0.101393</td>\n",
       "      <td>0.187997</td>\n",
       "      <td>0.051396</td>\n",
       "      <td>NaN</td>\n",
       "      <td>NaN</td>\n",
       "      <td>NaN</td>\n",
       "      <td>NaN</td>\n",
       "      <td>0.050041</td>\n",
       "    </tr>\n",
       "  </tbody>\n",
       "</table>\n",
       "</div>"
      ],
      "text/plain": [
       "test  muscle   0   1         2         3         4         5   6   7  \\\n",
       "0          0 NaN NaN  0.127825  0.124255  0.146927  0.041583 NaN NaN   \n",
       "1          2 NaN NaN  0.179864  0.294909  0.295846  0.107769 NaN NaN   \n",
       "2          3 NaN NaN  0.078753  0.244578  0.272709  0.010146 NaN NaN   \n",
       "3          4 NaN NaN  0.150353  0.104654  0.115272  0.057845 NaN NaN   \n",
       "4          5 NaN NaN  0.172669  0.124655  0.133114  0.196436 NaN NaN   \n",
       "\n",
       "test         8         9        10  11  12  13  14        15  \n",
       "0     0.162206  0.017711  0.014369 NaN NaN NaN NaN  0.036916  \n",
       "1     0.199097  0.202150  0.022668 NaN NaN NaN NaN  0.071460  \n",
       "2     0.106490  0.010600  0.007517 NaN NaN NaN NaN  0.238814  \n",
       "3     0.065429  0.052930  0.009894 NaN NaN NaN NaN  0.079885  \n",
       "4     0.101393  0.187997  0.051396 NaN NaN NaN NaN  0.050041  "
      ]
     },
     "execution_count": 5,
     "metadata": {},
     "output_type": "execute_result"
    }
   ],
   "source": [
    "df_wide = df_tidy.pivot_table(\n",
    "    index=['dataset', 'participant', 'muscle'],\n",
    "    columns='test',\n",
    "    values='mvc',\n",
    "    fill_value=np.nan).reset_index()\n",
    "\n",
    "df_wide = df_wide.drop(['dataset', 'participant'], axis=1)\n",
    "\n",
    "print(f'dataset shape = {df_wide.shape}')\n",
    "df_wide.head()"
   ]
  },
  {
   "cell_type": "markdown",
   "metadata": {},
   "source": [
    "# 4. Data analysis\n",
    "\n",
    "- distribution (kde, boxplot)"
   ]
  },
  {
   "cell_type": "markdown",
   "metadata": {},
   "source": [
    "## 4.1. Muscles by dataset"
   ]
  },
  {
   "cell_type": "code",
   "execution_count": 8,
   "metadata": {},
   "outputs": [],
   "source": [
    "def plot_count_by_dataset(d, values, index, columns, **kwargs):\n",
    "    table = d.pivot_table(\n",
    "        values,\n",
    "        index,\n",
    "        columns,\n",
    "        aggfunc=lambda x: len(x) / x.nunique(),\n",
    "        fill_value=0).astype(int)\n",
    "\n",
    "    colorscale = [[0, '#2d3436'], [1, '#dfe6e9']]\n",
    "\n",
    "    fig = ff.create_annotated_heatmap(\n",
    "        z=np.array(table),\n",
    "        x=kwargs.get('xlabel'),\n",
    "        y=kwargs.get('ylabel'),\n",
    "        showscale=True,\n",
    "        colorscale=colorscale,\n",
    "        colorbar=dict(title='Count', titleside='right'))\n",
    "\n",
    "    fig['layout'].update(BASE_LAYOUT)\n",
    "    fig['layout'].update(\n",
    "        dict(\n",
    "            title=kwargs.get('title'),\n",
    "            xaxis=dict(title=kwargs.get('xtitle'), side='bottom'),\n",
    "            yaxis=dict(title=kwargs.get('ytitle'), autorange='reversed'),\n",
    "            margin=go.Margin(t=80, b=80, l=150, r=80, pad=0)))\n",
    "\n",
    "    return fig"
   ]
  },
  {
   "cell_type": "code",
   "execution_count": 9,
   "metadata": {},
   "outputs": [
    {
     "data": {
      "application/vnd.plotly.v1+json": {
       "data": [
        {
         "colorbar": {
          "title": "Count",
          "titleside": "right"
         },
         "colorscale": [
          [
           0,
           "#2d3436"
          ],
          [
           1,
           "#dfe6e9"
          ]
         ],
         "showscale": true,
         "type": "heatmap",
         "x": [
          "upper trapezius",
          "middle trapezius",
          "lower trapezius",
          "anterior deltoid",
          "middle deltoid",
          "posterior deltoid",
          "pectoralis major",
          "serratus anterior",
          "latissimus dorsi",
          "supraspinatus",
          "infraspinatus",
          "subscapularis"
         ],
         "y": [
          "Landry2016",
          "Landry2015_2",
          "Landry2015_1",
          "Violon",
          "Yoann_2015",
          "Landry2013",
          "Landry2012",
          "Tennis",
          "Patrick_2013",
          "Sylvain_2015"
         ],
         "z": [
          [
           14,
           0,
           14,
           14,
           14,
           14,
           11,
           14,
           11,
           13,
           13,
           12
          ],
          [
           11,
           0,
           11,
           11,
           11,
           11,
           0,
           11,
           0,
           0,
           0,
           0
          ],
          [
           14,
           0,
           14,
           14,
           14,
           14,
           0,
           14,
           0,
           14,
           14,
           14
          ],
          [
           0,
           0,
           9,
           9,
           9,
           9,
           0,
           0,
           0,
           8,
           8,
           8
          ],
          [
           22,
           22,
           22,
           0,
           22,
           22,
           22,
           22,
           22,
           22,
           22,
           22
          ],
          [
           21,
           21,
           21,
           21,
           21,
           21,
           21,
           21,
           21,
           0,
           0,
           0
          ],
          [
           18,
           18,
           18,
           18,
           18,
           18,
           18,
           0,
           18,
           0,
           0,
           0
          ],
          [
           15,
           0,
           15,
           15,
           15,
           15,
           15,
           15,
           15,
           15,
           15,
           15
          ],
          [
           16,
           16,
           16,
           16,
           16,
           16,
           16,
           16,
           16,
           16,
           16,
           16
          ],
          [
           10,
           10,
           10,
           0,
           10,
           10,
           10,
           10,
           10,
           10,
           10,
           10
          ]
         ]
        }
       ],
       "layout": {
        "annotations": [
         {
          "font": {
           "color": "#000000"
          },
          "showarrow": false,
          "text": "14",
          "x": "upper trapezius",
          "xref": "x1",
          "y": "Landry2016",
          "yref": "y1"
         },
         {
          "font": {
           "color": "#FFFFFF"
          },
          "showarrow": false,
          "text": "0",
          "x": "middle trapezius",
          "xref": "x1",
          "y": "Landry2016",
          "yref": "y1"
         },
         {
          "font": {
           "color": "#000000"
          },
          "showarrow": false,
          "text": "14",
          "x": "lower trapezius",
          "xref": "x1",
          "y": "Landry2016",
          "yref": "y1"
         },
         {
          "font": {
           "color": "#000000"
          },
          "showarrow": false,
          "text": "14",
          "x": "anterior deltoid",
          "xref": "x1",
          "y": "Landry2016",
          "yref": "y1"
         },
         {
          "font": {
           "color": "#000000"
          },
          "showarrow": false,
          "text": "14",
          "x": "middle deltoid",
          "xref": "x1",
          "y": "Landry2016",
          "yref": "y1"
         },
         {
          "font": {
           "color": "#000000"
          },
          "showarrow": false,
          "text": "14",
          "x": "posterior deltoid",
          "xref": "x1",
          "y": "Landry2016",
          "yref": "y1"
         },
         {
          "font": {
           "color": "#000000"
          },
          "showarrow": false,
          "text": "11",
          "x": "pectoralis major",
          "xref": "x1",
          "y": "Landry2016",
          "yref": "y1"
         },
         {
          "font": {
           "color": "#000000"
          },
          "showarrow": false,
          "text": "14",
          "x": "serratus anterior",
          "xref": "x1",
          "y": "Landry2016",
          "yref": "y1"
         },
         {
          "font": {
           "color": "#000000"
          },
          "showarrow": false,
          "text": "11",
          "x": "latissimus dorsi",
          "xref": "x1",
          "y": "Landry2016",
          "yref": "y1"
         },
         {
          "font": {
           "color": "#000000"
          },
          "showarrow": false,
          "text": "13",
          "x": "supraspinatus",
          "xref": "x1",
          "y": "Landry2016",
          "yref": "y1"
         },
         {
          "font": {
           "color": "#000000"
          },
          "showarrow": false,
          "text": "13",
          "x": "infraspinatus",
          "xref": "x1",
          "y": "Landry2016",
          "yref": "y1"
         },
         {
          "font": {
           "color": "#000000"
          },
          "showarrow": false,
          "text": "12",
          "x": "subscapularis",
          "xref": "x1",
          "y": "Landry2016",
          "yref": "y1"
         },
         {
          "font": {
           "color": "#000000"
          },
          "showarrow": false,
          "text": "11",
          "x": "upper trapezius",
          "xref": "x1",
          "y": "Landry2015_2",
          "yref": "y1"
         },
         {
          "font": {
           "color": "#FFFFFF"
          },
          "showarrow": false,
          "text": "0",
          "x": "middle trapezius",
          "xref": "x1",
          "y": "Landry2015_2",
          "yref": "y1"
         },
         {
          "font": {
           "color": "#000000"
          },
          "showarrow": false,
          "text": "11",
          "x": "lower trapezius",
          "xref": "x1",
          "y": "Landry2015_2",
          "yref": "y1"
         },
         {
          "font": {
           "color": "#000000"
          },
          "showarrow": false,
          "text": "11",
          "x": "anterior deltoid",
          "xref": "x1",
          "y": "Landry2015_2",
          "yref": "y1"
         },
         {
          "font": {
           "color": "#000000"
          },
          "showarrow": false,
          "text": "11",
          "x": "middle deltoid",
          "xref": "x1",
          "y": "Landry2015_2",
          "yref": "y1"
         },
         {
          "font": {
           "color": "#000000"
          },
          "showarrow": false,
          "text": "11",
          "x": "posterior deltoid",
          "xref": "x1",
          "y": "Landry2015_2",
          "yref": "y1"
         },
         {
          "font": {
           "color": "#FFFFFF"
          },
          "showarrow": false,
          "text": "0",
          "x": "pectoralis major",
          "xref": "x1",
          "y": "Landry2015_2",
          "yref": "y1"
         },
         {
          "font": {
           "color": "#000000"
          },
          "showarrow": false,
          "text": "11",
          "x": "serratus anterior",
          "xref": "x1",
          "y": "Landry2015_2",
          "yref": "y1"
         },
         {
          "font": {
           "color": "#FFFFFF"
          },
          "showarrow": false,
          "text": "0",
          "x": "latissimus dorsi",
          "xref": "x1",
          "y": "Landry2015_2",
          "yref": "y1"
         },
         {
          "font": {
           "color": "#FFFFFF"
          },
          "showarrow": false,
          "text": "0",
          "x": "supraspinatus",
          "xref": "x1",
          "y": "Landry2015_2",
          "yref": "y1"
         },
         {
          "font": {
           "color": "#FFFFFF"
          },
          "showarrow": false,
          "text": "0",
          "x": "infraspinatus",
          "xref": "x1",
          "y": "Landry2015_2",
          "yref": "y1"
         },
         {
          "font": {
           "color": "#FFFFFF"
          },
          "showarrow": false,
          "text": "0",
          "x": "subscapularis",
          "xref": "x1",
          "y": "Landry2015_2",
          "yref": "y1"
         },
         {
          "font": {
           "color": "#000000"
          },
          "showarrow": false,
          "text": "14",
          "x": "upper trapezius",
          "xref": "x1",
          "y": "Landry2015_1",
          "yref": "y1"
         },
         {
          "font": {
           "color": "#FFFFFF"
          },
          "showarrow": false,
          "text": "0",
          "x": "middle trapezius",
          "xref": "x1",
          "y": "Landry2015_1",
          "yref": "y1"
         },
         {
          "font": {
           "color": "#000000"
          },
          "showarrow": false,
          "text": "14",
          "x": "lower trapezius",
          "xref": "x1",
          "y": "Landry2015_1",
          "yref": "y1"
         },
         {
          "font": {
           "color": "#000000"
          },
          "showarrow": false,
          "text": "14",
          "x": "anterior deltoid",
          "xref": "x1",
          "y": "Landry2015_1",
          "yref": "y1"
         },
         {
          "font": {
           "color": "#000000"
          },
          "showarrow": false,
          "text": "14",
          "x": "middle deltoid",
          "xref": "x1",
          "y": "Landry2015_1",
          "yref": "y1"
         },
         {
          "font": {
           "color": "#000000"
          },
          "showarrow": false,
          "text": "14",
          "x": "posterior deltoid",
          "xref": "x1",
          "y": "Landry2015_1",
          "yref": "y1"
         },
         {
          "font": {
           "color": "#FFFFFF"
          },
          "showarrow": false,
          "text": "0",
          "x": "pectoralis major",
          "xref": "x1",
          "y": "Landry2015_1",
          "yref": "y1"
         },
         {
          "font": {
           "color": "#000000"
          },
          "showarrow": false,
          "text": "14",
          "x": "serratus anterior",
          "xref": "x1",
          "y": "Landry2015_1",
          "yref": "y1"
         },
         {
          "font": {
           "color": "#FFFFFF"
          },
          "showarrow": false,
          "text": "0",
          "x": "latissimus dorsi",
          "xref": "x1",
          "y": "Landry2015_1",
          "yref": "y1"
         },
         {
          "font": {
           "color": "#000000"
          },
          "showarrow": false,
          "text": "14",
          "x": "supraspinatus",
          "xref": "x1",
          "y": "Landry2015_1",
          "yref": "y1"
         },
         {
          "font": {
           "color": "#000000"
          },
          "showarrow": false,
          "text": "14",
          "x": "infraspinatus",
          "xref": "x1",
          "y": "Landry2015_1",
          "yref": "y1"
         },
         {
          "font": {
           "color": "#000000"
          },
          "showarrow": false,
          "text": "14",
          "x": "subscapularis",
          "xref": "x1",
          "y": "Landry2015_1",
          "yref": "y1"
         },
         {
          "font": {
           "color": "#FFFFFF"
          },
          "showarrow": false,
          "text": "0",
          "x": "upper trapezius",
          "xref": "x1",
          "y": "Violon",
          "yref": "y1"
         },
         {
          "font": {
           "color": "#FFFFFF"
          },
          "showarrow": false,
          "text": "0",
          "x": "middle trapezius",
          "xref": "x1",
          "y": "Violon",
          "yref": "y1"
         },
         {
          "font": {
           "color": "#FFFFFF"
          },
          "showarrow": false,
          "text": "9",
          "x": "lower trapezius",
          "xref": "x1",
          "y": "Violon",
          "yref": "y1"
         },
         {
          "font": {
           "color": "#FFFFFF"
          },
          "showarrow": false,
          "text": "9",
          "x": "anterior deltoid",
          "xref": "x1",
          "y": "Violon",
          "yref": "y1"
         },
         {
          "font": {
           "color": "#FFFFFF"
          },
          "showarrow": false,
          "text": "9",
          "x": "middle deltoid",
          "xref": "x1",
          "y": "Violon",
          "yref": "y1"
         },
         {
          "font": {
           "color": "#FFFFFF"
          },
          "showarrow": false,
          "text": "9",
          "x": "posterior deltoid",
          "xref": "x1",
          "y": "Violon",
          "yref": "y1"
         },
         {
          "font": {
           "color": "#FFFFFF"
          },
          "showarrow": false,
          "text": "0",
          "x": "pectoralis major",
          "xref": "x1",
          "y": "Violon",
          "yref": "y1"
         },
         {
          "font": {
           "color": "#FFFFFF"
          },
          "showarrow": false,
          "text": "0",
          "x": "serratus anterior",
          "xref": "x1",
          "y": "Violon",
          "yref": "y1"
         },
         {
          "font": {
           "color": "#FFFFFF"
          },
          "showarrow": false,
          "text": "0",
          "x": "latissimus dorsi",
          "xref": "x1",
          "y": "Violon",
          "yref": "y1"
         },
         {
          "font": {
           "color": "#FFFFFF"
          },
          "showarrow": false,
          "text": "8",
          "x": "supraspinatus",
          "xref": "x1",
          "y": "Violon",
          "yref": "y1"
         },
         {
          "font": {
           "color": "#FFFFFF"
          },
          "showarrow": false,
          "text": "8",
          "x": "infraspinatus",
          "xref": "x1",
          "y": "Violon",
          "yref": "y1"
         },
         {
          "font": {
           "color": "#FFFFFF"
          },
          "showarrow": false,
          "text": "8",
          "x": "subscapularis",
          "xref": "x1",
          "y": "Violon",
          "yref": "y1"
         },
         {
          "font": {
           "color": "#000000"
          },
          "showarrow": false,
          "text": "22",
          "x": "upper trapezius",
          "xref": "x1",
          "y": "Yoann_2015",
          "yref": "y1"
         },
         {
          "font": {
           "color": "#000000"
          },
          "showarrow": false,
          "text": "22",
          "x": "middle trapezius",
          "xref": "x1",
          "y": "Yoann_2015",
          "yref": "y1"
         },
         {
          "font": {
           "color": "#000000"
          },
          "showarrow": false,
          "text": "22",
          "x": "lower trapezius",
          "xref": "x1",
          "y": "Yoann_2015",
          "yref": "y1"
         },
         {
          "font": {
           "color": "#FFFFFF"
          },
          "showarrow": false,
          "text": "0",
          "x": "anterior deltoid",
          "xref": "x1",
          "y": "Yoann_2015",
          "yref": "y1"
         },
         {
          "font": {
           "color": "#000000"
          },
          "showarrow": false,
          "text": "22",
          "x": "middle deltoid",
          "xref": "x1",
          "y": "Yoann_2015",
          "yref": "y1"
         },
         {
          "font": {
           "color": "#000000"
          },
          "showarrow": false,
          "text": "22",
          "x": "posterior deltoid",
          "xref": "x1",
          "y": "Yoann_2015",
          "yref": "y1"
         },
         {
          "font": {
           "color": "#000000"
          },
          "showarrow": false,
          "text": "22",
          "x": "pectoralis major",
          "xref": "x1",
          "y": "Yoann_2015",
          "yref": "y1"
         },
         {
          "font": {
           "color": "#000000"
          },
          "showarrow": false,
          "text": "22",
          "x": "serratus anterior",
          "xref": "x1",
          "y": "Yoann_2015",
          "yref": "y1"
         },
         {
          "font": {
           "color": "#000000"
          },
          "showarrow": false,
          "text": "22",
          "x": "latissimus dorsi",
          "xref": "x1",
          "y": "Yoann_2015",
          "yref": "y1"
         },
         {
          "font": {
           "color": "#000000"
          },
          "showarrow": false,
          "text": "22",
          "x": "supraspinatus",
          "xref": "x1",
          "y": "Yoann_2015",
          "yref": "y1"
         },
         {
          "font": {
           "color": "#000000"
          },
          "showarrow": false,
          "text": "22",
          "x": "infraspinatus",
          "xref": "x1",
          "y": "Yoann_2015",
          "yref": "y1"
         },
         {
          "font": {
           "color": "#000000"
          },
          "showarrow": false,
          "text": "22",
          "x": "subscapularis",
          "xref": "x1",
          "y": "Yoann_2015",
          "yref": "y1"
         },
         {
          "font": {
           "color": "#000000"
          },
          "showarrow": false,
          "text": "21",
          "x": "upper trapezius",
          "xref": "x1",
          "y": "Landry2013",
          "yref": "y1"
         },
         {
          "font": {
           "color": "#000000"
          },
          "showarrow": false,
          "text": "21",
          "x": "middle trapezius",
          "xref": "x1",
          "y": "Landry2013",
          "yref": "y1"
         },
         {
          "font": {
           "color": "#000000"
          },
          "showarrow": false,
          "text": "21",
          "x": "lower trapezius",
          "xref": "x1",
          "y": "Landry2013",
          "yref": "y1"
         },
         {
          "font": {
           "color": "#000000"
          },
          "showarrow": false,
          "text": "21",
          "x": "anterior deltoid",
          "xref": "x1",
          "y": "Landry2013",
          "yref": "y1"
         },
         {
          "font": {
           "color": "#000000"
          },
          "showarrow": false,
          "text": "21",
          "x": "middle deltoid",
          "xref": "x1",
          "y": "Landry2013",
          "yref": "y1"
         },
         {
          "font": {
           "color": "#000000"
          },
          "showarrow": false,
          "text": "21",
          "x": "posterior deltoid",
          "xref": "x1",
          "y": "Landry2013",
          "yref": "y1"
         },
         {
          "font": {
           "color": "#000000"
          },
          "showarrow": false,
          "text": "21",
          "x": "pectoralis major",
          "xref": "x1",
          "y": "Landry2013",
          "yref": "y1"
         },
         {
          "font": {
           "color": "#000000"
          },
          "showarrow": false,
          "text": "21",
          "x": "serratus anterior",
          "xref": "x1",
          "y": "Landry2013",
          "yref": "y1"
         },
         {
          "font": {
           "color": "#000000"
          },
          "showarrow": false,
          "text": "21",
          "x": "latissimus dorsi",
          "xref": "x1",
          "y": "Landry2013",
          "yref": "y1"
         },
         {
          "font": {
           "color": "#FFFFFF"
          },
          "showarrow": false,
          "text": "0",
          "x": "supraspinatus",
          "xref": "x1",
          "y": "Landry2013",
          "yref": "y1"
         },
         {
          "font": {
           "color": "#FFFFFF"
          },
          "showarrow": false,
          "text": "0",
          "x": "infraspinatus",
          "xref": "x1",
          "y": "Landry2013",
          "yref": "y1"
         },
         {
          "font": {
           "color": "#FFFFFF"
          },
          "showarrow": false,
          "text": "0",
          "x": "subscapularis",
          "xref": "x1",
          "y": "Landry2013",
          "yref": "y1"
         },
         {
          "font": {
           "color": "#000000"
          },
          "showarrow": false,
          "text": "18",
          "x": "upper trapezius",
          "xref": "x1",
          "y": "Landry2012",
          "yref": "y1"
         },
         {
          "font": {
           "color": "#000000"
          },
          "showarrow": false,
          "text": "18",
          "x": "middle trapezius",
          "xref": "x1",
          "y": "Landry2012",
          "yref": "y1"
         },
         {
          "font": {
           "color": "#000000"
          },
          "showarrow": false,
          "text": "18",
          "x": "lower trapezius",
          "xref": "x1",
          "y": "Landry2012",
          "yref": "y1"
         },
         {
          "font": {
           "color": "#000000"
          },
          "showarrow": false,
          "text": "18",
          "x": "anterior deltoid",
          "xref": "x1",
          "y": "Landry2012",
          "yref": "y1"
         },
         {
          "font": {
           "color": "#000000"
          },
          "showarrow": false,
          "text": "18",
          "x": "middle deltoid",
          "xref": "x1",
          "y": "Landry2012",
          "yref": "y1"
         },
         {
          "font": {
           "color": "#000000"
          },
          "showarrow": false,
          "text": "18",
          "x": "posterior deltoid",
          "xref": "x1",
          "y": "Landry2012",
          "yref": "y1"
         },
         {
          "font": {
           "color": "#000000"
          },
          "showarrow": false,
          "text": "18",
          "x": "pectoralis major",
          "xref": "x1",
          "y": "Landry2012",
          "yref": "y1"
         },
         {
          "font": {
           "color": "#FFFFFF"
          },
          "showarrow": false,
          "text": "0",
          "x": "serratus anterior",
          "xref": "x1",
          "y": "Landry2012",
          "yref": "y1"
         },
         {
          "font": {
           "color": "#000000"
          },
          "showarrow": false,
          "text": "18",
          "x": "latissimus dorsi",
          "xref": "x1",
          "y": "Landry2012",
          "yref": "y1"
         },
         {
          "font": {
           "color": "#FFFFFF"
          },
          "showarrow": false,
          "text": "0",
          "x": "supraspinatus",
          "xref": "x1",
          "y": "Landry2012",
          "yref": "y1"
         },
         {
          "font": {
           "color": "#FFFFFF"
          },
          "showarrow": false,
          "text": "0",
          "x": "infraspinatus",
          "xref": "x1",
          "y": "Landry2012",
          "yref": "y1"
         },
         {
          "font": {
           "color": "#FFFFFF"
          },
          "showarrow": false,
          "text": "0",
          "x": "subscapularis",
          "xref": "x1",
          "y": "Landry2012",
          "yref": "y1"
         },
         {
          "font": {
           "color": "#000000"
          },
          "showarrow": false,
          "text": "15",
          "x": "upper trapezius",
          "xref": "x1",
          "y": "Tennis",
          "yref": "y1"
         },
         {
          "font": {
           "color": "#FFFFFF"
          },
          "showarrow": false,
          "text": "0",
          "x": "middle trapezius",
          "xref": "x1",
          "y": "Tennis",
          "yref": "y1"
         },
         {
          "font": {
           "color": "#000000"
          },
          "showarrow": false,
          "text": "15",
          "x": "lower trapezius",
          "xref": "x1",
          "y": "Tennis",
          "yref": "y1"
         },
         {
          "font": {
           "color": "#000000"
          },
          "showarrow": false,
          "text": "15",
          "x": "anterior deltoid",
          "xref": "x1",
          "y": "Tennis",
          "yref": "y1"
         },
         {
          "font": {
           "color": "#000000"
          },
          "showarrow": false,
          "text": "15",
          "x": "middle deltoid",
          "xref": "x1",
          "y": "Tennis",
          "yref": "y1"
         },
         {
          "font": {
           "color": "#000000"
          },
          "showarrow": false,
          "text": "15",
          "x": "posterior deltoid",
          "xref": "x1",
          "y": "Tennis",
          "yref": "y1"
         },
         {
          "font": {
           "color": "#000000"
          },
          "showarrow": false,
          "text": "15",
          "x": "pectoralis major",
          "xref": "x1",
          "y": "Tennis",
          "yref": "y1"
         },
         {
          "font": {
           "color": "#000000"
          },
          "showarrow": false,
          "text": "15",
          "x": "serratus anterior",
          "xref": "x1",
          "y": "Tennis",
          "yref": "y1"
         },
         {
          "font": {
           "color": "#000000"
          },
          "showarrow": false,
          "text": "15",
          "x": "latissimus dorsi",
          "xref": "x1",
          "y": "Tennis",
          "yref": "y1"
         },
         {
          "font": {
           "color": "#000000"
          },
          "showarrow": false,
          "text": "15",
          "x": "supraspinatus",
          "xref": "x1",
          "y": "Tennis",
          "yref": "y1"
         },
         {
          "font": {
           "color": "#000000"
          },
          "showarrow": false,
          "text": "15",
          "x": "infraspinatus",
          "xref": "x1",
          "y": "Tennis",
          "yref": "y1"
         },
         {
          "font": {
           "color": "#000000"
          },
          "showarrow": false,
          "text": "15",
          "x": "subscapularis",
          "xref": "x1",
          "y": "Tennis",
          "yref": "y1"
         },
         {
          "font": {
           "color": "#000000"
          },
          "showarrow": false,
          "text": "16",
          "x": "upper trapezius",
          "xref": "x1",
          "y": "Patrick_2013",
          "yref": "y1"
         },
         {
          "font": {
           "color": "#000000"
          },
          "showarrow": false,
          "text": "16",
          "x": "middle trapezius",
          "xref": "x1",
          "y": "Patrick_2013",
          "yref": "y1"
         },
         {
          "font": {
           "color": "#000000"
          },
          "showarrow": false,
          "text": "16",
          "x": "lower trapezius",
          "xref": "x1",
          "y": "Patrick_2013",
          "yref": "y1"
         },
         {
          "font": {
           "color": "#000000"
          },
          "showarrow": false,
          "text": "16",
          "x": "anterior deltoid",
          "xref": "x1",
          "y": "Patrick_2013",
          "yref": "y1"
         },
         {
          "font": {
           "color": "#000000"
          },
          "showarrow": false,
          "text": "16",
          "x": "middle deltoid",
          "xref": "x1",
          "y": "Patrick_2013",
          "yref": "y1"
         },
         {
          "font": {
           "color": "#000000"
          },
          "showarrow": false,
          "text": "16",
          "x": "posterior deltoid",
          "xref": "x1",
          "y": "Patrick_2013",
          "yref": "y1"
         },
         {
          "font": {
           "color": "#000000"
          },
          "showarrow": false,
          "text": "16",
          "x": "pectoralis major",
          "xref": "x1",
          "y": "Patrick_2013",
          "yref": "y1"
         },
         {
          "font": {
           "color": "#000000"
          },
          "showarrow": false,
          "text": "16",
          "x": "serratus anterior",
          "xref": "x1",
          "y": "Patrick_2013",
          "yref": "y1"
         },
         {
          "font": {
           "color": "#000000"
          },
          "showarrow": false,
          "text": "16",
          "x": "latissimus dorsi",
          "xref": "x1",
          "y": "Patrick_2013",
          "yref": "y1"
         },
         {
          "font": {
           "color": "#000000"
          },
          "showarrow": false,
          "text": "16",
          "x": "supraspinatus",
          "xref": "x1",
          "y": "Patrick_2013",
          "yref": "y1"
         },
         {
          "font": {
           "color": "#000000"
          },
          "showarrow": false,
          "text": "16",
          "x": "infraspinatus",
          "xref": "x1",
          "y": "Patrick_2013",
          "yref": "y1"
         },
         {
          "font": {
           "color": "#000000"
          },
          "showarrow": false,
          "text": "16",
          "x": "subscapularis",
          "xref": "x1",
          "y": "Patrick_2013",
          "yref": "y1"
         },
         {
          "font": {
           "color": "#FFFFFF"
          },
          "showarrow": false,
          "text": "10",
          "x": "upper trapezius",
          "xref": "x1",
          "y": "Sylvain_2015",
          "yref": "y1"
         },
         {
          "font": {
           "color": "#FFFFFF"
          },
          "showarrow": false,
          "text": "10",
          "x": "middle trapezius",
          "xref": "x1",
          "y": "Sylvain_2015",
          "yref": "y1"
         },
         {
          "font": {
           "color": "#FFFFFF"
          },
          "showarrow": false,
          "text": "10",
          "x": "lower trapezius",
          "xref": "x1",
          "y": "Sylvain_2015",
          "yref": "y1"
         },
         {
          "font": {
           "color": "#FFFFFF"
          },
          "showarrow": false,
          "text": "0",
          "x": "anterior deltoid",
          "xref": "x1",
          "y": "Sylvain_2015",
          "yref": "y1"
         },
         {
          "font": {
           "color": "#FFFFFF"
          },
          "showarrow": false,
          "text": "10",
          "x": "middle deltoid",
          "xref": "x1",
          "y": "Sylvain_2015",
          "yref": "y1"
         },
         {
          "font": {
           "color": "#FFFFFF"
          },
          "showarrow": false,
          "text": "10",
          "x": "posterior deltoid",
          "xref": "x1",
          "y": "Sylvain_2015",
          "yref": "y1"
         },
         {
          "font": {
           "color": "#FFFFFF"
          },
          "showarrow": false,
          "text": "10",
          "x": "pectoralis major",
          "xref": "x1",
          "y": "Sylvain_2015",
          "yref": "y1"
         },
         {
          "font": {
           "color": "#FFFFFF"
          },
          "showarrow": false,
          "text": "10",
          "x": "serratus anterior",
          "xref": "x1",
          "y": "Sylvain_2015",
          "yref": "y1"
         },
         {
          "font": {
           "color": "#FFFFFF"
          },
          "showarrow": false,
          "text": "10",
          "x": "latissimus dorsi",
          "xref": "x1",
          "y": "Sylvain_2015",
          "yref": "y1"
         },
         {
          "font": {
           "color": "#FFFFFF"
          },
          "showarrow": false,
          "text": "10",
          "x": "supraspinatus",
          "xref": "x1",
          "y": "Sylvain_2015",
          "yref": "y1"
         },
         {
          "font": {
           "color": "#FFFFFF"
          },
          "showarrow": false,
          "text": "10",
          "x": "infraspinatus",
          "xref": "x1",
          "y": "Sylvain_2015",
          "yref": "y1"
         },
         {
          "font": {
           "color": "#FFFFFF"
          },
          "showarrow": false,
          "text": "10",
          "x": "subscapularis",
          "xref": "x1",
          "y": "Sylvain_2015",
          "yref": "y1"
         }
        ],
        "font": {
         "size": 14
        },
        "hovermode": "closest",
        "margin": {
         "b": 80,
         "l": 150,
         "pad": 0,
         "r": 80,
         "t": 80
        },
        "title": "Title",
        "xaxis": {
         "dtick": 1,
         "gridcolor": "rgb(0, 0, 0)",
         "side": "bottom",
         "ticks": "",
         "title": "Xtitle"
        },
        "yaxis": {
         "autorange": "reversed",
         "dtick": 1,
         "ticks": "",
         "ticksuffix": "  ",
         "title": "Ytitle"
        }
       }
      },
      "text/html": [
       "<div id=\"a31884ac-29d3-4414-ad3a-3e31abd825be\" style=\"height: 525px; width: 100%;\" class=\"plotly-graph-div\"></div><script type=\"text/javascript\">require([\"plotly\"], function(Plotly) { window.PLOTLYENV=window.PLOTLYENV || {};window.PLOTLYENV.BASE_URL=\"https://plot.ly\";Plotly.newPlot(\"a31884ac-29d3-4414-ad3a-3e31abd825be\", [{\"type\": \"heatmap\", \"z\": [[14, 0, 14, 14, 14, 14, 11, 14, 11, 13, 13, 12], [11, 0, 11, 11, 11, 11, 0, 11, 0, 0, 0, 0], [14, 0, 14, 14, 14, 14, 0, 14, 0, 14, 14, 14], [0, 0, 9, 9, 9, 9, 0, 0, 0, 8, 8, 8], [22, 22, 22, 0, 22, 22, 22, 22, 22, 22, 22, 22], [21, 21, 21, 21, 21, 21, 21, 21, 21, 0, 0, 0], [18, 18, 18, 18, 18, 18, 18, 0, 18, 0, 0, 0], [15, 0, 15, 15, 15, 15, 15, 15, 15, 15, 15, 15], [16, 16, 16, 16, 16, 16, 16, 16, 16, 16, 16, 16], [10, 10, 10, 0, 10, 10, 10, 10, 10, 10, 10, 10]], \"x\": [\"upper trapezius\", \"middle trapezius\", \"lower trapezius\", \"anterior deltoid\", \"middle deltoid\", \"posterior deltoid\", \"pectoralis major\", \"serratus anterior\", \"latissimus dorsi\", \"supraspinatus\", \"infraspinatus\", \"subscapularis\"], \"y\": [\"Landry2016\", \"Landry2015_2\", \"Landry2015_1\", \"Violon\", \"Yoann_2015\", \"Landry2013\", \"Landry2012\", \"Tennis\", \"Patrick_2013\", \"Sylvain_2015\"], \"colorscale\": [[0, \"#2d3436\"], [1, \"#dfe6e9\"]], \"showscale\": true, \"colorbar\": {\"title\": \"Count\", \"titleside\": \"right\"}}], {\"annotations\": [{\"text\": \"14\", \"x\": \"upper trapezius\", \"y\": \"Landry2016\", \"xref\": \"x1\", \"yref\": \"y1\", \"font\": {\"color\": \"#000000\"}, \"showarrow\": false}, {\"text\": \"0\", \"x\": \"middle trapezius\", \"y\": \"Landry2016\", \"xref\": \"x1\", \"yref\": \"y1\", \"font\": {\"color\": \"#FFFFFF\"}, \"showarrow\": false}, {\"text\": \"14\", \"x\": \"lower trapezius\", \"y\": \"Landry2016\", \"xref\": \"x1\", \"yref\": \"y1\", \"font\": {\"color\": \"#000000\"}, \"showarrow\": false}, {\"text\": \"14\", \"x\": \"anterior deltoid\", \"y\": \"Landry2016\", \"xref\": \"x1\", \"yref\": \"y1\", \"font\": {\"color\": \"#000000\"}, \"showarrow\": false}, {\"text\": \"14\", \"x\": \"middle deltoid\", \"y\": \"Landry2016\", \"xref\": \"x1\", \"yref\": \"y1\", \"font\": {\"color\": \"#000000\"}, \"showarrow\": false}, {\"text\": \"14\", \"x\": \"posterior deltoid\", \"y\": \"Landry2016\", \"xref\": \"x1\", \"yref\": \"y1\", \"font\": {\"color\": \"#000000\"}, \"showarrow\": false}, {\"text\": \"11\", \"x\": \"pectoralis major\", \"y\": \"Landry2016\", \"xref\": \"x1\", \"yref\": \"y1\", \"font\": {\"color\": \"#000000\"}, \"showarrow\": false}, {\"text\": \"14\", \"x\": \"serratus anterior\", \"y\": \"Landry2016\", \"xref\": \"x1\", \"yref\": \"y1\", \"font\": {\"color\": \"#000000\"}, \"showarrow\": false}, {\"text\": \"11\", \"x\": \"latissimus dorsi\", \"y\": \"Landry2016\", \"xref\": \"x1\", \"yref\": \"y1\", \"font\": {\"color\": \"#000000\"}, \"showarrow\": false}, {\"text\": \"13\", \"x\": \"supraspinatus\", \"y\": \"Landry2016\", \"xref\": \"x1\", \"yref\": \"y1\", \"font\": {\"color\": \"#000000\"}, \"showarrow\": false}, {\"text\": \"13\", \"x\": \"infraspinatus\", \"y\": \"Landry2016\", \"xref\": \"x1\", \"yref\": \"y1\", \"font\": {\"color\": \"#000000\"}, \"showarrow\": false}, {\"text\": \"12\", \"x\": \"subscapularis\", \"y\": \"Landry2016\", \"xref\": \"x1\", \"yref\": \"y1\", \"font\": {\"color\": \"#000000\"}, \"showarrow\": false}, {\"text\": \"11\", \"x\": \"upper trapezius\", \"y\": \"Landry2015_2\", \"xref\": \"x1\", \"yref\": \"y1\", \"font\": {\"color\": \"#000000\"}, \"showarrow\": false}, {\"text\": \"0\", \"x\": \"middle trapezius\", \"y\": \"Landry2015_2\", \"xref\": \"x1\", \"yref\": \"y1\", \"font\": {\"color\": \"#FFFFFF\"}, \"showarrow\": false}, {\"text\": \"11\", \"x\": \"lower trapezius\", \"y\": \"Landry2015_2\", \"xref\": \"x1\", \"yref\": \"y1\", \"font\": {\"color\": \"#000000\"}, \"showarrow\": false}, {\"text\": \"11\", \"x\": \"anterior deltoid\", \"y\": \"Landry2015_2\", \"xref\": \"x1\", \"yref\": \"y1\", \"font\": {\"color\": \"#000000\"}, \"showarrow\": false}, {\"text\": \"11\", \"x\": \"middle deltoid\", \"y\": \"Landry2015_2\", \"xref\": \"x1\", \"yref\": \"y1\", \"font\": {\"color\": \"#000000\"}, \"showarrow\": false}, {\"text\": \"11\", \"x\": \"posterior deltoid\", \"y\": \"Landry2015_2\", \"xref\": \"x1\", \"yref\": \"y1\", \"font\": {\"color\": \"#000000\"}, \"showarrow\": false}, {\"text\": \"0\", \"x\": \"pectoralis major\", \"y\": \"Landry2015_2\", \"xref\": \"x1\", \"yref\": \"y1\", \"font\": {\"color\": \"#FFFFFF\"}, \"showarrow\": false}, {\"text\": \"11\", \"x\": \"serratus anterior\", \"y\": \"Landry2015_2\", \"xref\": \"x1\", \"yref\": \"y1\", \"font\": {\"color\": \"#000000\"}, \"showarrow\": false}, {\"text\": \"0\", \"x\": \"latissimus dorsi\", \"y\": \"Landry2015_2\", \"xref\": \"x1\", \"yref\": \"y1\", \"font\": {\"color\": \"#FFFFFF\"}, \"showarrow\": false}, {\"text\": \"0\", \"x\": \"supraspinatus\", \"y\": \"Landry2015_2\", \"xref\": \"x1\", \"yref\": \"y1\", \"font\": {\"color\": \"#FFFFFF\"}, \"showarrow\": false}, {\"text\": \"0\", \"x\": \"infraspinatus\", \"y\": \"Landry2015_2\", \"xref\": \"x1\", \"yref\": \"y1\", \"font\": {\"color\": \"#FFFFFF\"}, \"showarrow\": false}, {\"text\": \"0\", \"x\": \"subscapularis\", \"y\": \"Landry2015_2\", \"xref\": \"x1\", \"yref\": \"y1\", \"font\": {\"color\": \"#FFFFFF\"}, \"showarrow\": false}, {\"text\": \"14\", \"x\": \"upper trapezius\", \"y\": \"Landry2015_1\", \"xref\": \"x1\", \"yref\": \"y1\", \"font\": {\"color\": \"#000000\"}, \"showarrow\": false}, {\"text\": \"0\", \"x\": \"middle trapezius\", \"y\": \"Landry2015_1\", \"xref\": \"x1\", \"yref\": \"y1\", \"font\": {\"color\": \"#FFFFFF\"}, \"showarrow\": false}, {\"text\": \"14\", \"x\": \"lower trapezius\", \"y\": \"Landry2015_1\", \"xref\": \"x1\", \"yref\": \"y1\", \"font\": {\"color\": \"#000000\"}, \"showarrow\": false}, {\"text\": \"14\", \"x\": \"anterior deltoid\", \"y\": \"Landry2015_1\", \"xref\": \"x1\", \"yref\": \"y1\", \"font\": {\"color\": \"#000000\"}, \"showarrow\": false}, {\"text\": \"14\", \"x\": \"middle deltoid\", \"y\": \"Landry2015_1\", \"xref\": \"x1\", \"yref\": \"y1\", \"font\": {\"color\": \"#000000\"}, \"showarrow\": false}, {\"text\": \"14\", \"x\": \"posterior deltoid\", \"y\": \"Landry2015_1\", \"xref\": \"x1\", \"yref\": \"y1\", \"font\": {\"color\": \"#000000\"}, \"showarrow\": false}, {\"text\": \"0\", \"x\": \"pectoralis major\", \"y\": \"Landry2015_1\", \"xref\": \"x1\", \"yref\": \"y1\", \"font\": {\"color\": \"#FFFFFF\"}, \"showarrow\": false}, {\"text\": \"14\", \"x\": \"serratus anterior\", \"y\": \"Landry2015_1\", \"xref\": \"x1\", \"yref\": \"y1\", \"font\": {\"color\": \"#000000\"}, \"showarrow\": false}, {\"text\": \"0\", \"x\": \"latissimus dorsi\", \"y\": \"Landry2015_1\", \"xref\": \"x1\", \"yref\": \"y1\", \"font\": {\"color\": \"#FFFFFF\"}, \"showarrow\": false}, {\"text\": \"14\", \"x\": \"supraspinatus\", \"y\": \"Landry2015_1\", \"xref\": \"x1\", \"yref\": \"y1\", \"font\": {\"color\": \"#000000\"}, \"showarrow\": false}, {\"text\": \"14\", \"x\": \"infraspinatus\", \"y\": \"Landry2015_1\", \"xref\": \"x1\", \"yref\": \"y1\", \"font\": {\"color\": \"#000000\"}, \"showarrow\": false}, {\"text\": \"14\", \"x\": \"subscapularis\", \"y\": \"Landry2015_1\", \"xref\": \"x1\", \"yref\": \"y1\", \"font\": {\"color\": \"#000000\"}, \"showarrow\": false}, {\"text\": \"0\", \"x\": \"upper trapezius\", \"y\": \"Violon\", \"xref\": \"x1\", \"yref\": \"y1\", \"font\": {\"color\": \"#FFFFFF\"}, \"showarrow\": false}, {\"text\": \"0\", \"x\": \"middle trapezius\", \"y\": \"Violon\", \"xref\": \"x1\", \"yref\": \"y1\", \"font\": {\"color\": \"#FFFFFF\"}, \"showarrow\": false}, {\"text\": \"9\", \"x\": \"lower trapezius\", \"y\": \"Violon\", \"xref\": \"x1\", \"yref\": \"y1\", \"font\": {\"color\": \"#FFFFFF\"}, \"showarrow\": false}, {\"text\": \"9\", \"x\": \"anterior deltoid\", \"y\": \"Violon\", \"xref\": \"x1\", \"yref\": \"y1\", \"font\": {\"color\": \"#FFFFFF\"}, \"showarrow\": false}, {\"text\": \"9\", \"x\": \"middle deltoid\", \"y\": \"Violon\", \"xref\": \"x1\", \"yref\": \"y1\", \"font\": {\"color\": \"#FFFFFF\"}, \"showarrow\": false}, {\"text\": \"9\", \"x\": \"posterior deltoid\", \"y\": \"Violon\", \"xref\": \"x1\", \"yref\": \"y1\", \"font\": {\"color\": \"#FFFFFF\"}, \"showarrow\": false}, {\"text\": \"0\", \"x\": \"pectoralis major\", \"y\": \"Violon\", \"xref\": \"x1\", \"yref\": \"y1\", \"font\": {\"color\": \"#FFFFFF\"}, \"showarrow\": false}, {\"text\": \"0\", \"x\": \"serratus anterior\", \"y\": \"Violon\", \"xref\": \"x1\", \"yref\": \"y1\", \"font\": {\"color\": \"#FFFFFF\"}, \"showarrow\": false}, {\"text\": \"0\", \"x\": \"latissimus dorsi\", \"y\": \"Violon\", \"xref\": \"x1\", \"yref\": \"y1\", \"font\": {\"color\": \"#FFFFFF\"}, \"showarrow\": false}, {\"text\": \"8\", \"x\": \"supraspinatus\", \"y\": \"Violon\", \"xref\": \"x1\", \"yref\": \"y1\", \"font\": {\"color\": \"#FFFFFF\"}, \"showarrow\": false}, {\"text\": \"8\", \"x\": \"infraspinatus\", \"y\": \"Violon\", \"xref\": \"x1\", \"yref\": \"y1\", \"font\": {\"color\": \"#FFFFFF\"}, \"showarrow\": false}, {\"text\": \"8\", \"x\": \"subscapularis\", \"y\": \"Violon\", \"xref\": \"x1\", \"yref\": \"y1\", \"font\": {\"color\": \"#FFFFFF\"}, \"showarrow\": false}, {\"text\": \"22\", \"x\": \"upper trapezius\", \"y\": \"Yoann_2015\", \"xref\": \"x1\", \"yref\": \"y1\", \"font\": {\"color\": \"#000000\"}, \"showarrow\": false}, {\"text\": \"22\", \"x\": \"middle trapezius\", \"y\": \"Yoann_2015\", \"xref\": \"x1\", \"yref\": \"y1\", \"font\": {\"color\": \"#000000\"}, \"showarrow\": false}, {\"text\": \"22\", \"x\": \"lower trapezius\", \"y\": \"Yoann_2015\", \"xref\": \"x1\", \"yref\": \"y1\", \"font\": {\"color\": \"#000000\"}, \"showarrow\": false}, {\"text\": \"0\", \"x\": \"anterior deltoid\", \"y\": \"Yoann_2015\", \"xref\": \"x1\", \"yref\": \"y1\", \"font\": {\"color\": \"#FFFFFF\"}, \"showarrow\": false}, {\"text\": \"22\", \"x\": \"middle deltoid\", \"y\": \"Yoann_2015\", \"xref\": \"x1\", \"yref\": \"y1\", \"font\": {\"color\": \"#000000\"}, \"showarrow\": false}, {\"text\": \"22\", \"x\": \"posterior deltoid\", \"y\": \"Yoann_2015\", \"xref\": \"x1\", \"yref\": \"y1\", \"font\": {\"color\": \"#000000\"}, \"showarrow\": false}, {\"text\": \"22\", \"x\": \"pectoralis major\", \"y\": \"Yoann_2015\", \"xref\": \"x1\", \"yref\": \"y1\", \"font\": {\"color\": \"#000000\"}, \"showarrow\": false}, {\"text\": \"22\", \"x\": \"serratus anterior\", \"y\": \"Yoann_2015\", \"xref\": \"x1\", \"yref\": \"y1\", \"font\": {\"color\": \"#000000\"}, \"showarrow\": false}, {\"text\": \"22\", \"x\": \"latissimus dorsi\", \"y\": \"Yoann_2015\", \"xref\": \"x1\", \"yref\": \"y1\", \"font\": {\"color\": \"#000000\"}, \"showarrow\": false}, {\"text\": \"22\", \"x\": \"supraspinatus\", \"y\": \"Yoann_2015\", \"xref\": \"x1\", \"yref\": \"y1\", \"font\": {\"color\": \"#000000\"}, \"showarrow\": false}, {\"text\": \"22\", \"x\": \"infraspinatus\", \"y\": \"Yoann_2015\", \"xref\": \"x1\", \"yref\": \"y1\", \"font\": {\"color\": \"#000000\"}, \"showarrow\": false}, {\"text\": \"22\", \"x\": \"subscapularis\", \"y\": \"Yoann_2015\", \"xref\": \"x1\", \"yref\": \"y1\", \"font\": {\"color\": \"#000000\"}, \"showarrow\": false}, {\"text\": \"21\", \"x\": \"upper trapezius\", \"y\": \"Landry2013\", \"xref\": \"x1\", \"yref\": \"y1\", \"font\": {\"color\": \"#000000\"}, \"showarrow\": false}, {\"text\": \"21\", \"x\": \"middle trapezius\", \"y\": \"Landry2013\", \"xref\": \"x1\", \"yref\": \"y1\", \"font\": {\"color\": \"#000000\"}, \"showarrow\": false}, {\"text\": \"21\", \"x\": \"lower trapezius\", \"y\": \"Landry2013\", \"xref\": \"x1\", \"yref\": \"y1\", \"font\": {\"color\": \"#000000\"}, \"showarrow\": false}, {\"text\": \"21\", \"x\": \"anterior deltoid\", \"y\": \"Landry2013\", \"xref\": \"x1\", \"yref\": \"y1\", \"font\": {\"color\": \"#000000\"}, \"showarrow\": false}, {\"text\": \"21\", \"x\": \"middle deltoid\", \"y\": \"Landry2013\", \"xref\": \"x1\", \"yref\": \"y1\", \"font\": {\"color\": \"#000000\"}, \"showarrow\": false}, {\"text\": \"21\", \"x\": \"posterior deltoid\", \"y\": \"Landry2013\", \"xref\": \"x1\", \"yref\": \"y1\", \"font\": {\"color\": \"#000000\"}, \"showarrow\": false}, {\"text\": \"21\", \"x\": \"pectoralis major\", \"y\": \"Landry2013\", \"xref\": \"x1\", \"yref\": \"y1\", \"font\": {\"color\": \"#000000\"}, \"showarrow\": false}, {\"text\": \"21\", \"x\": \"serratus anterior\", \"y\": \"Landry2013\", \"xref\": \"x1\", \"yref\": \"y1\", \"font\": {\"color\": \"#000000\"}, \"showarrow\": false}, {\"text\": \"21\", \"x\": \"latissimus dorsi\", \"y\": \"Landry2013\", \"xref\": \"x1\", \"yref\": \"y1\", \"font\": {\"color\": \"#000000\"}, \"showarrow\": false}, {\"text\": \"0\", \"x\": \"supraspinatus\", \"y\": \"Landry2013\", \"xref\": \"x1\", \"yref\": \"y1\", \"font\": {\"color\": \"#FFFFFF\"}, \"showarrow\": false}, {\"text\": \"0\", \"x\": \"infraspinatus\", \"y\": \"Landry2013\", \"xref\": \"x1\", \"yref\": \"y1\", \"font\": {\"color\": \"#FFFFFF\"}, \"showarrow\": false}, {\"text\": \"0\", \"x\": \"subscapularis\", \"y\": \"Landry2013\", \"xref\": \"x1\", \"yref\": \"y1\", \"font\": {\"color\": \"#FFFFFF\"}, \"showarrow\": false}, {\"text\": \"18\", \"x\": \"upper trapezius\", \"y\": \"Landry2012\", \"xref\": \"x1\", \"yref\": \"y1\", \"font\": {\"color\": \"#000000\"}, \"showarrow\": false}, {\"text\": \"18\", \"x\": \"middle trapezius\", \"y\": \"Landry2012\", \"xref\": \"x1\", \"yref\": \"y1\", \"font\": {\"color\": \"#000000\"}, \"showarrow\": false}, {\"text\": \"18\", \"x\": \"lower trapezius\", \"y\": \"Landry2012\", \"xref\": \"x1\", \"yref\": \"y1\", \"font\": {\"color\": \"#000000\"}, \"showarrow\": false}, {\"text\": \"18\", \"x\": \"anterior deltoid\", \"y\": \"Landry2012\", \"xref\": \"x1\", \"yref\": \"y1\", \"font\": {\"color\": \"#000000\"}, \"showarrow\": false}, {\"text\": \"18\", \"x\": \"middle deltoid\", \"y\": \"Landry2012\", \"xref\": \"x1\", \"yref\": \"y1\", \"font\": {\"color\": \"#000000\"}, \"showarrow\": false}, {\"text\": \"18\", \"x\": \"posterior deltoid\", \"y\": \"Landry2012\", \"xref\": \"x1\", \"yref\": \"y1\", \"font\": {\"color\": \"#000000\"}, \"showarrow\": false}, {\"text\": \"18\", \"x\": \"pectoralis major\", \"y\": \"Landry2012\", \"xref\": \"x1\", \"yref\": \"y1\", \"font\": {\"color\": \"#000000\"}, \"showarrow\": false}, {\"text\": \"0\", \"x\": \"serratus anterior\", \"y\": \"Landry2012\", \"xref\": \"x1\", \"yref\": \"y1\", \"font\": {\"color\": \"#FFFFFF\"}, \"showarrow\": false}, {\"text\": \"18\", \"x\": \"latissimus dorsi\", \"y\": \"Landry2012\", \"xref\": \"x1\", \"yref\": \"y1\", \"font\": {\"color\": \"#000000\"}, \"showarrow\": false}, {\"text\": \"0\", \"x\": \"supraspinatus\", \"y\": \"Landry2012\", \"xref\": \"x1\", \"yref\": \"y1\", \"font\": {\"color\": \"#FFFFFF\"}, \"showarrow\": false}, {\"text\": \"0\", \"x\": \"infraspinatus\", \"y\": \"Landry2012\", \"xref\": \"x1\", \"yref\": \"y1\", \"font\": {\"color\": \"#FFFFFF\"}, \"showarrow\": false}, {\"text\": \"0\", \"x\": \"subscapularis\", \"y\": \"Landry2012\", \"xref\": \"x1\", \"yref\": \"y1\", \"font\": {\"color\": \"#FFFFFF\"}, \"showarrow\": false}, {\"text\": \"15\", \"x\": \"upper trapezius\", \"y\": \"Tennis\", \"xref\": \"x1\", \"yref\": \"y1\", \"font\": {\"color\": \"#000000\"}, \"showarrow\": false}, {\"text\": \"0\", \"x\": \"middle trapezius\", \"y\": \"Tennis\", \"xref\": \"x1\", \"yref\": \"y1\", \"font\": {\"color\": \"#FFFFFF\"}, \"showarrow\": false}, {\"text\": \"15\", \"x\": \"lower trapezius\", \"y\": \"Tennis\", \"xref\": \"x1\", \"yref\": \"y1\", \"font\": {\"color\": \"#000000\"}, \"showarrow\": false}, {\"text\": \"15\", \"x\": \"anterior deltoid\", \"y\": \"Tennis\", \"xref\": \"x1\", \"yref\": \"y1\", \"font\": {\"color\": \"#000000\"}, \"showarrow\": false}, {\"text\": \"15\", \"x\": \"middle deltoid\", \"y\": \"Tennis\", \"xref\": \"x1\", \"yref\": \"y1\", \"font\": {\"color\": \"#000000\"}, \"showarrow\": false}, {\"text\": \"15\", \"x\": \"posterior deltoid\", \"y\": \"Tennis\", \"xref\": \"x1\", \"yref\": \"y1\", \"font\": {\"color\": \"#000000\"}, \"showarrow\": false}, {\"text\": \"15\", \"x\": \"pectoralis major\", \"y\": \"Tennis\", \"xref\": \"x1\", \"yref\": \"y1\", \"font\": {\"color\": \"#000000\"}, \"showarrow\": false}, {\"text\": \"15\", \"x\": \"serratus anterior\", \"y\": \"Tennis\", \"xref\": \"x1\", \"yref\": \"y1\", \"font\": {\"color\": \"#000000\"}, \"showarrow\": false}, {\"text\": \"15\", \"x\": \"latissimus dorsi\", \"y\": \"Tennis\", \"xref\": \"x1\", \"yref\": \"y1\", \"font\": {\"color\": \"#000000\"}, \"showarrow\": false}, {\"text\": \"15\", \"x\": \"supraspinatus\", \"y\": \"Tennis\", \"xref\": \"x1\", \"yref\": \"y1\", \"font\": {\"color\": \"#000000\"}, \"showarrow\": false}, {\"text\": \"15\", \"x\": \"infraspinatus\", \"y\": \"Tennis\", \"xref\": \"x1\", \"yref\": \"y1\", \"font\": {\"color\": \"#000000\"}, \"showarrow\": false}, {\"text\": \"15\", \"x\": \"subscapularis\", \"y\": \"Tennis\", \"xref\": \"x1\", \"yref\": \"y1\", \"font\": {\"color\": \"#000000\"}, \"showarrow\": false}, {\"text\": \"16\", \"x\": \"upper trapezius\", \"y\": \"Patrick_2013\", \"xref\": \"x1\", \"yref\": \"y1\", \"font\": {\"color\": \"#000000\"}, \"showarrow\": false}, {\"text\": \"16\", \"x\": \"middle trapezius\", \"y\": \"Patrick_2013\", \"xref\": \"x1\", \"yref\": \"y1\", \"font\": {\"color\": \"#000000\"}, \"showarrow\": false}, {\"text\": \"16\", \"x\": \"lower trapezius\", \"y\": \"Patrick_2013\", \"xref\": \"x1\", \"yref\": \"y1\", \"font\": {\"color\": \"#000000\"}, \"showarrow\": false}, {\"text\": \"16\", \"x\": \"anterior deltoid\", \"y\": \"Patrick_2013\", \"xref\": \"x1\", \"yref\": \"y1\", \"font\": {\"color\": \"#000000\"}, \"showarrow\": false}, {\"text\": \"16\", \"x\": \"middle deltoid\", \"y\": \"Patrick_2013\", \"xref\": \"x1\", \"yref\": \"y1\", \"font\": {\"color\": \"#000000\"}, \"showarrow\": false}, {\"text\": \"16\", \"x\": \"posterior deltoid\", \"y\": \"Patrick_2013\", \"xref\": \"x1\", \"yref\": \"y1\", \"font\": {\"color\": \"#000000\"}, \"showarrow\": false}, {\"text\": \"16\", \"x\": \"pectoralis major\", \"y\": \"Patrick_2013\", \"xref\": \"x1\", \"yref\": \"y1\", \"font\": {\"color\": \"#000000\"}, \"showarrow\": false}, {\"text\": \"16\", \"x\": \"serratus anterior\", \"y\": \"Patrick_2013\", \"xref\": \"x1\", \"yref\": \"y1\", \"font\": {\"color\": \"#000000\"}, \"showarrow\": false}, {\"text\": \"16\", \"x\": \"latissimus dorsi\", \"y\": \"Patrick_2013\", \"xref\": \"x1\", \"yref\": \"y1\", \"font\": {\"color\": \"#000000\"}, \"showarrow\": false}, {\"text\": \"16\", \"x\": \"supraspinatus\", \"y\": \"Patrick_2013\", \"xref\": \"x1\", \"yref\": \"y1\", \"font\": {\"color\": \"#000000\"}, \"showarrow\": false}, {\"text\": \"16\", \"x\": \"infraspinatus\", \"y\": \"Patrick_2013\", \"xref\": \"x1\", \"yref\": \"y1\", \"font\": {\"color\": \"#000000\"}, \"showarrow\": false}, {\"text\": \"16\", \"x\": \"subscapularis\", \"y\": \"Patrick_2013\", \"xref\": \"x1\", \"yref\": \"y1\", \"font\": {\"color\": \"#000000\"}, \"showarrow\": false}, {\"text\": \"10\", \"x\": \"upper trapezius\", \"y\": \"Sylvain_2015\", \"xref\": \"x1\", \"yref\": \"y1\", \"font\": {\"color\": \"#FFFFFF\"}, \"showarrow\": false}, {\"text\": \"10\", \"x\": \"middle trapezius\", \"y\": \"Sylvain_2015\", \"xref\": \"x1\", \"yref\": \"y1\", \"font\": {\"color\": \"#FFFFFF\"}, \"showarrow\": false}, {\"text\": \"10\", \"x\": \"lower trapezius\", \"y\": \"Sylvain_2015\", \"xref\": \"x1\", \"yref\": \"y1\", \"font\": {\"color\": \"#FFFFFF\"}, \"showarrow\": false}, {\"text\": \"0\", \"x\": \"anterior deltoid\", \"y\": \"Sylvain_2015\", \"xref\": \"x1\", \"yref\": \"y1\", \"font\": {\"color\": \"#FFFFFF\"}, \"showarrow\": false}, {\"text\": \"10\", \"x\": \"middle deltoid\", \"y\": \"Sylvain_2015\", \"xref\": \"x1\", \"yref\": \"y1\", \"font\": {\"color\": \"#FFFFFF\"}, \"showarrow\": false}, {\"text\": \"10\", \"x\": \"posterior deltoid\", \"y\": \"Sylvain_2015\", \"xref\": \"x1\", \"yref\": \"y1\", \"font\": {\"color\": \"#FFFFFF\"}, \"showarrow\": false}, {\"text\": \"10\", \"x\": \"pectoralis major\", \"y\": \"Sylvain_2015\", \"xref\": \"x1\", \"yref\": \"y1\", \"font\": {\"color\": \"#FFFFFF\"}, \"showarrow\": false}, {\"text\": \"10\", \"x\": \"serratus anterior\", \"y\": \"Sylvain_2015\", \"xref\": \"x1\", \"yref\": \"y1\", \"font\": {\"color\": \"#FFFFFF\"}, \"showarrow\": false}, {\"text\": \"10\", \"x\": \"latissimus dorsi\", \"y\": \"Sylvain_2015\", \"xref\": \"x1\", \"yref\": \"y1\", \"font\": {\"color\": \"#FFFFFF\"}, \"showarrow\": false}, {\"text\": \"10\", \"x\": \"supraspinatus\", \"y\": \"Sylvain_2015\", \"xref\": \"x1\", \"yref\": \"y1\", \"font\": {\"color\": \"#FFFFFF\"}, \"showarrow\": false}, {\"text\": \"10\", \"x\": \"infraspinatus\", \"y\": \"Sylvain_2015\", \"xref\": \"x1\", \"yref\": \"y1\", \"font\": {\"color\": \"#FFFFFF\"}, \"showarrow\": false}, {\"text\": \"10\", \"x\": \"subscapularis\", \"y\": \"Sylvain_2015\", \"xref\": \"x1\", \"yref\": \"y1\", \"font\": {\"color\": \"#FFFFFF\"}, \"showarrow\": false}], \"xaxis\": {\"ticks\": \"\", \"dtick\": 1, \"side\": \"bottom\", \"gridcolor\": \"rgb(0, 0, 0)\", \"title\": \"Xtitle\"}, \"yaxis\": {\"ticks\": \"\", \"dtick\": 1, \"ticksuffix\": \"  \", \"title\": \"Ytitle\", \"autorange\": \"reversed\"}, \"hovermode\": \"closest\", \"font\": {\"size\": 14}, \"title\": \"Title\", \"margin\": {\"t\": 80, \"b\": 80, \"l\": 150, \"r\": 80, \"pad\": 0}}, {\"showLink\": true, \"linkText\": \"Export to plot.ly\"})});</script>"
      ],
      "text/vnd.plotly.v1+html": [
       "<div id=\"a31884ac-29d3-4414-ad3a-3e31abd825be\" style=\"height: 525px; width: 100%;\" class=\"plotly-graph-div\"></div><script type=\"text/javascript\">require([\"plotly\"], function(Plotly) { window.PLOTLYENV=window.PLOTLYENV || {};window.PLOTLYENV.BASE_URL=\"https://plot.ly\";Plotly.newPlot(\"a31884ac-29d3-4414-ad3a-3e31abd825be\", [{\"type\": \"heatmap\", \"z\": [[14, 0, 14, 14, 14, 14, 11, 14, 11, 13, 13, 12], [11, 0, 11, 11, 11, 11, 0, 11, 0, 0, 0, 0], [14, 0, 14, 14, 14, 14, 0, 14, 0, 14, 14, 14], [0, 0, 9, 9, 9, 9, 0, 0, 0, 8, 8, 8], [22, 22, 22, 0, 22, 22, 22, 22, 22, 22, 22, 22], [21, 21, 21, 21, 21, 21, 21, 21, 21, 0, 0, 0], [18, 18, 18, 18, 18, 18, 18, 0, 18, 0, 0, 0], [15, 0, 15, 15, 15, 15, 15, 15, 15, 15, 15, 15], [16, 16, 16, 16, 16, 16, 16, 16, 16, 16, 16, 16], [10, 10, 10, 0, 10, 10, 10, 10, 10, 10, 10, 10]], \"x\": [\"upper trapezius\", \"middle trapezius\", \"lower trapezius\", \"anterior deltoid\", \"middle deltoid\", \"posterior deltoid\", \"pectoralis major\", \"serratus anterior\", \"latissimus dorsi\", \"supraspinatus\", \"infraspinatus\", \"subscapularis\"], \"y\": [\"Landry2016\", \"Landry2015_2\", \"Landry2015_1\", \"Violon\", \"Yoann_2015\", \"Landry2013\", \"Landry2012\", \"Tennis\", \"Patrick_2013\", \"Sylvain_2015\"], \"colorscale\": [[0, \"#2d3436\"], [1, \"#dfe6e9\"]], \"showscale\": true, \"colorbar\": {\"title\": \"Count\", \"titleside\": \"right\"}}], {\"annotations\": [{\"text\": \"14\", \"x\": \"upper trapezius\", \"y\": \"Landry2016\", \"xref\": \"x1\", \"yref\": \"y1\", \"font\": {\"color\": \"#000000\"}, \"showarrow\": false}, {\"text\": \"0\", \"x\": \"middle trapezius\", \"y\": \"Landry2016\", \"xref\": \"x1\", \"yref\": \"y1\", \"font\": {\"color\": \"#FFFFFF\"}, \"showarrow\": false}, {\"text\": \"14\", \"x\": \"lower trapezius\", \"y\": \"Landry2016\", \"xref\": \"x1\", \"yref\": \"y1\", \"font\": {\"color\": \"#000000\"}, \"showarrow\": false}, {\"text\": \"14\", \"x\": \"anterior deltoid\", \"y\": \"Landry2016\", \"xref\": \"x1\", \"yref\": \"y1\", \"font\": {\"color\": \"#000000\"}, \"showarrow\": false}, {\"text\": \"14\", \"x\": \"middle deltoid\", \"y\": \"Landry2016\", \"xref\": \"x1\", \"yref\": \"y1\", \"font\": {\"color\": \"#000000\"}, \"showarrow\": false}, {\"text\": \"14\", \"x\": \"posterior deltoid\", \"y\": \"Landry2016\", \"xref\": \"x1\", \"yref\": \"y1\", \"font\": {\"color\": \"#000000\"}, \"showarrow\": false}, {\"text\": \"11\", \"x\": \"pectoralis major\", \"y\": \"Landry2016\", \"xref\": \"x1\", \"yref\": \"y1\", \"font\": {\"color\": \"#000000\"}, \"showarrow\": false}, {\"text\": \"14\", \"x\": \"serratus anterior\", \"y\": \"Landry2016\", \"xref\": \"x1\", \"yref\": \"y1\", \"font\": {\"color\": \"#000000\"}, \"showarrow\": false}, {\"text\": \"11\", \"x\": \"latissimus dorsi\", \"y\": \"Landry2016\", \"xref\": \"x1\", \"yref\": \"y1\", \"font\": {\"color\": \"#000000\"}, \"showarrow\": false}, {\"text\": \"13\", \"x\": \"supraspinatus\", \"y\": \"Landry2016\", \"xref\": \"x1\", \"yref\": \"y1\", \"font\": {\"color\": \"#000000\"}, \"showarrow\": false}, {\"text\": \"13\", \"x\": \"infraspinatus\", \"y\": \"Landry2016\", \"xref\": \"x1\", \"yref\": \"y1\", \"font\": {\"color\": \"#000000\"}, \"showarrow\": false}, {\"text\": \"12\", \"x\": \"subscapularis\", \"y\": \"Landry2016\", \"xref\": \"x1\", \"yref\": \"y1\", \"font\": {\"color\": \"#000000\"}, \"showarrow\": false}, {\"text\": \"11\", \"x\": \"upper trapezius\", \"y\": \"Landry2015_2\", \"xref\": \"x1\", \"yref\": \"y1\", \"font\": {\"color\": \"#000000\"}, \"showarrow\": false}, {\"text\": \"0\", \"x\": \"middle trapezius\", \"y\": \"Landry2015_2\", \"xref\": \"x1\", \"yref\": \"y1\", \"font\": {\"color\": \"#FFFFFF\"}, \"showarrow\": false}, {\"text\": \"11\", \"x\": \"lower trapezius\", \"y\": \"Landry2015_2\", \"xref\": \"x1\", \"yref\": \"y1\", \"font\": {\"color\": \"#000000\"}, \"showarrow\": false}, {\"text\": \"11\", \"x\": \"anterior deltoid\", \"y\": \"Landry2015_2\", \"xref\": \"x1\", \"yref\": \"y1\", \"font\": {\"color\": \"#000000\"}, \"showarrow\": false}, {\"text\": \"11\", \"x\": \"middle deltoid\", \"y\": \"Landry2015_2\", \"xref\": \"x1\", \"yref\": \"y1\", \"font\": {\"color\": \"#000000\"}, \"showarrow\": false}, {\"text\": \"11\", \"x\": \"posterior deltoid\", \"y\": \"Landry2015_2\", \"xref\": \"x1\", \"yref\": \"y1\", \"font\": {\"color\": \"#000000\"}, \"showarrow\": false}, {\"text\": \"0\", \"x\": \"pectoralis major\", \"y\": \"Landry2015_2\", \"xref\": \"x1\", \"yref\": \"y1\", \"font\": {\"color\": \"#FFFFFF\"}, \"showarrow\": false}, {\"text\": \"11\", \"x\": \"serratus anterior\", \"y\": \"Landry2015_2\", \"xref\": \"x1\", \"yref\": \"y1\", \"font\": {\"color\": \"#000000\"}, \"showarrow\": false}, {\"text\": \"0\", \"x\": \"latissimus dorsi\", \"y\": \"Landry2015_2\", \"xref\": \"x1\", \"yref\": \"y1\", \"font\": {\"color\": \"#FFFFFF\"}, \"showarrow\": false}, {\"text\": \"0\", \"x\": \"supraspinatus\", \"y\": \"Landry2015_2\", \"xref\": \"x1\", \"yref\": \"y1\", \"font\": {\"color\": \"#FFFFFF\"}, \"showarrow\": false}, {\"text\": \"0\", \"x\": \"infraspinatus\", \"y\": \"Landry2015_2\", \"xref\": \"x1\", \"yref\": \"y1\", \"font\": {\"color\": \"#FFFFFF\"}, \"showarrow\": false}, {\"text\": \"0\", \"x\": \"subscapularis\", \"y\": \"Landry2015_2\", \"xref\": \"x1\", \"yref\": \"y1\", \"font\": {\"color\": \"#FFFFFF\"}, \"showarrow\": false}, {\"text\": \"14\", \"x\": \"upper trapezius\", \"y\": \"Landry2015_1\", \"xref\": \"x1\", \"yref\": \"y1\", \"font\": {\"color\": \"#000000\"}, \"showarrow\": false}, {\"text\": \"0\", \"x\": \"middle trapezius\", \"y\": \"Landry2015_1\", \"xref\": \"x1\", \"yref\": \"y1\", \"font\": {\"color\": \"#FFFFFF\"}, \"showarrow\": false}, {\"text\": \"14\", \"x\": \"lower trapezius\", \"y\": \"Landry2015_1\", \"xref\": \"x1\", \"yref\": \"y1\", \"font\": {\"color\": \"#000000\"}, \"showarrow\": false}, {\"text\": \"14\", \"x\": \"anterior deltoid\", \"y\": \"Landry2015_1\", \"xref\": \"x1\", \"yref\": \"y1\", \"font\": {\"color\": \"#000000\"}, \"showarrow\": false}, {\"text\": \"14\", \"x\": \"middle deltoid\", \"y\": \"Landry2015_1\", \"xref\": \"x1\", \"yref\": \"y1\", \"font\": {\"color\": \"#000000\"}, \"showarrow\": false}, {\"text\": \"14\", \"x\": \"posterior deltoid\", \"y\": \"Landry2015_1\", \"xref\": \"x1\", \"yref\": \"y1\", \"font\": {\"color\": \"#000000\"}, \"showarrow\": false}, {\"text\": \"0\", \"x\": \"pectoralis major\", \"y\": \"Landry2015_1\", \"xref\": \"x1\", \"yref\": \"y1\", \"font\": {\"color\": \"#FFFFFF\"}, \"showarrow\": false}, {\"text\": \"14\", \"x\": \"serratus anterior\", \"y\": \"Landry2015_1\", \"xref\": \"x1\", \"yref\": \"y1\", \"font\": {\"color\": \"#000000\"}, \"showarrow\": false}, {\"text\": \"0\", \"x\": \"latissimus dorsi\", \"y\": \"Landry2015_1\", \"xref\": \"x1\", \"yref\": \"y1\", \"font\": {\"color\": \"#FFFFFF\"}, \"showarrow\": false}, {\"text\": \"14\", \"x\": \"supraspinatus\", \"y\": \"Landry2015_1\", \"xref\": \"x1\", \"yref\": \"y1\", \"font\": {\"color\": \"#000000\"}, \"showarrow\": false}, {\"text\": \"14\", \"x\": \"infraspinatus\", \"y\": \"Landry2015_1\", \"xref\": \"x1\", \"yref\": \"y1\", \"font\": {\"color\": \"#000000\"}, \"showarrow\": false}, {\"text\": \"14\", \"x\": \"subscapularis\", \"y\": \"Landry2015_1\", \"xref\": \"x1\", \"yref\": \"y1\", \"font\": {\"color\": \"#000000\"}, \"showarrow\": false}, {\"text\": \"0\", \"x\": \"upper trapezius\", \"y\": \"Violon\", \"xref\": \"x1\", \"yref\": \"y1\", \"font\": {\"color\": \"#FFFFFF\"}, \"showarrow\": false}, {\"text\": \"0\", \"x\": \"middle trapezius\", \"y\": \"Violon\", \"xref\": \"x1\", \"yref\": \"y1\", \"font\": {\"color\": \"#FFFFFF\"}, \"showarrow\": false}, {\"text\": \"9\", \"x\": \"lower trapezius\", \"y\": \"Violon\", \"xref\": \"x1\", \"yref\": \"y1\", \"font\": {\"color\": \"#FFFFFF\"}, \"showarrow\": false}, {\"text\": \"9\", \"x\": \"anterior deltoid\", \"y\": \"Violon\", \"xref\": \"x1\", \"yref\": \"y1\", \"font\": {\"color\": \"#FFFFFF\"}, \"showarrow\": false}, {\"text\": \"9\", \"x\": \"middle deltoid\", \"y\": \"Violon\", \"xref\": \"x1\", \"yref\": \"y1\", \"font\": {\"color\": \"#FFFFFF\"}, \"showarrow\": false}, {\"text\": \"9\", \"x\": \"posterior deltoid\", \"y\": \"Violon\", \"xref\": \"x1\", \"yref\": \"y1\", \"font\": {\"color\": \"#FFFFFF\"}, \"showarrow\": false}, {\"text\": \"0\", \"x\": \"pectoralis major\", \"y\": \"Violon\", \"xref\": \"x1\", \"yref\": \"y1\", \"font\": {\"color\": \"#FFFFFF\"}, \"showarrow\": false}, {\"text\": \"0\", \"x\": \"serratus anterior\", \"y\": \"Violon\", \"xref\": \"x1\", \"yref\": \"y1\", \"font\": {\"color\": \"#FFFFFF\"}, \"showarrow\": false}, {\"text\": \"0\", \"x\": \"latissimus dorsi\", \"y\": \"Violon\", \"xref\": \"x1\", \"yref\": \"y1\", \"font\": {\"color\": \"#FFFFFF\"}, \"showarrow\": false}, {\"text\": \"8\", \"x\": \"supraspinatus\", \"y\": \"Violon\", \"xref\": \"x1\", \"yref\": \"y1\", \"font\": {\"color\": \"#FFFFFF\"}, \"showarrow\": false}, {\"text\": \"8\", \"x\": \"infraspinatus\", \"y\": \"Violon\", \"xref\": \"x1\", \"yref\": \"y1\", \"font\": {\"color\": \"#FFFFFF\"}, \"showarrow\": false}, {\"text\": \"8\", \"x\": \"subscapularis\", \"y\": \"Violon\", \"xref\": \"x1\", \"yref\": \"y1\", \"font\": {\"color\": \"#FFFFFF\"}, \"showarrow\": false}, {\"text\": \"22\", \"x\": \"upper trapezius\", \"y\": \"Yoann_2015\", \"xref\": \"x1\", \"yref\": \"y1\", \"font\": {\"color\": \"#000000\"}, \"showarrow\": false}, {\"text\": \"22\", \"x\": \"middle trapezius\", \"y\": \"Yoann_2015\", \"xref\": \"x1\", \"yref\": \"y1\", \"font\": {\"color\": \"#000000\"}, \"showarrow\": false}, {\"text\": \"22\", \"x\": \"lower trapezius\", \"y\": \"Yoann_2015\", \"xref\": \"x1\", \"yref\": \"y1\", \"font\": {\"color\": \"#000000\"}, \"showarrow\": false}, {\"text\": \"0\", \"x\": \"anterior deltoid\", \"y\": \"Yoann_2015\", \"xref\": \"x1\", \"yref\": \"y1\", \"font\": {\"color\": \"#FFFFFF\"}, \"showarrow\": false}, {\"text\": \"22\", \"x\": \"middle deltoid\", \"y\": \"Yoann_2015\", \"xref\": \"x1\", \"yref\": \"y1\", \"font\": {\"color\": \"#000000\"}, \"showarrow\": false}, {\"text\": \"22\", \"x\": \"posterior deltoid\", \"y\": \"Yoann_2015\", \"xref\": \"x1\", \"yref\": \"y1\", \"font\": {\"color\": \"#000000\"}, \"showarrow\": false}, {\"text\": \"22\", \"x\": \"pectoralis major\", \"y\": \"Yoann_2015\", \"xref\": \"x1\", \"yref\": \"y1\", \"font\": {\"color\": \"#000000\"}, \"showarrow\": false}, {\"text\": \"22\", \"x\": \"serratus anterior\", \"y\": \"Yoann_2015\", \"xref\": \"x1\", \"yref\": \"y1\", \"font\": {\"color\": \"#000000\"}, \"showarrow\": false}, {\"text\": \"22\", \"x\": \"latissimus dorsi\", \"y\": \"Yoann_2015\", \"xref\": \"x1\", \"yref\": \"y1\", \"font\": {\"color\": \"#000000\"}, \"showarrow\": false}, {\"text\": \"22\", \"x\": \"supraspinatus\", \"y\": \"Yoann_2015\", \"xref\": \"x1\", \"yref\": \"y1\", \"font\": {\"color\": \"#000000\"}, \"showarrow\": false}, {\"text\": \"22\", \"x\": \"infraspinatus\", \"y\": \"Yoann_2015\", \"xref\": \"x1\", \"yref\": \"y1\", \"font\": {\"color\": \"#000000\"}, \"showarrow\": false}, {\"text\": \"22\", \"x\": \"subscapularis\", \"y\": \"Yoann_2015\", \"xref\": \"x1\", \"yref\": \"y1\", \"font\": {\"color\": \"#000000\"}, \"showarrow\": false}, {\"text\": \"21\", \"x\": \"upper trapezius\", \"y\": \"Landry2013\", \"xref\": \"x1\", \"yref\": \"y1\", \"font\": {\"color\": \"#000000\"}, \"showarrow\": false}, {\"text\": \"21\", \"x\": \"middle trapezius\", \"y\": \"Landry2013\", \"xref\": \"x1\", \"yref\": \"y1\", \"font\": {\"color\": \"#000000\"}, \"showarrow\": false}, {\"text\": \"21\", \"x\": \"lower trapezius\", \"y\": \"Landry2013\", \"xref\": \"x1\", \"yref\": \"y1\", \"font\": {\"color\": \"#000000\"}, \"showarrow\": false}, {\"text\": \"21\", \"x\": \"anterior deltoid\", \"y\": \"Landry2013\", \"xref\": \"x1\", \"yref\": \"y1\", \"font\": {\"color\": \"#000000\"}, \"showarrow\": false}, {\"text\": \"21\", \"x\": \"middle deltoid\", \"y\": \"Landry2013\", \"xref\": \"x1\", \"yref\": \"y1\", \"font\": {\"color\": \"#000000\"}, \"showarrow\": false}, {\"text\": \"21\", \"x\": \"posterior deltoid\", \"y\": \"Landry2013\", \"xref\": \"x1\", \"yref\": \"y1\", \"font\": {\"color\": \"#000000\"}, \"showarrow\": false}, {\"text\": \"21\", \"x\": \"pectoralis major\", \"y\": \"Landry2013\", \"xref\": \"x1\", \"yref\": \"y1\", \"font\": {\"color\": \"#000000\"}, \"showarrow\": false}, {\"text\": \"21\", \"x\": \"serratus anterior\", \"y\": \"Landry2013\", \"xref\": \"x1\", \"yref\": \"y1\", \"font\": {\"color\": \"#000000\"}, \"showarrow\": false}, {\"text\": \"21\", \"x\": \"latissimus dorsi\", \"y\": \"Landry2013\", \"xref\": \"x1\", \"yref\": \"y1\", \"font\": {\"color\": \"#000000\"}, \"showarrow\": false}, {\"text\": \"0\", \"x\": \"supraspinatus\", \"y\": \"Landry2013\", \"xref\": \"x1\", \"yref\": \"y1\", \"font\": {\"color\": \"#FFFFFF\"}, \"showarrow\": false}, {\"text\": \"0\", \"x\": \"infraspinatus\", \"y\": \"Landry2013\", \"xref\": \"x1\", \"yref\": \"y1\", \"font\": {\"color\": \"#FFFFFF\"}, \"showarrow\": false}, {\"text\": \"0\", \"x\": \"subscapularis\", \"y\": \"Landry2013\", \"xref\": \"x1\", \"yref\": \"y1\", \"font\": {\"color\": \"#FFFFFF\"}, \"showarrow\": false}, {\"text\": \"18\", \"x\": \"upper trapezius\", \"y\": \"Landry2012\", \"xref\": \"x1\", \"yref\": \"y1\", \"font\": {\"color\": \"#000000\"}, \"showarrow\": false}, {\"text\": \"18\", \"x\": \"middle trapezius\", \"y\": \"Landry2012\", \"xref\": \"x1\", \"yref\": \"y1\", \"font\": {\"color\": \"#000000\"}, \"showarrow\": false}, {\"text\": \"18\", \"x\": \"lower trapezius\", \"y\": \"Landry2012\", \"xref\": \"x1\", \"yref\": \"y1\", \"font\": {\"color\": \"#000000\"}, \"showarrow\": false}, {\"text\": \"18\", \"x\": \"anterior deltoid\", \"y\": \"Landry2012\", \"xref\": \"x1\", \"yref\": \"y1\", \"font\": {\"color\": \"#000000\"}, \"showarrow\": false}, {\"text\": \"18\", \"x\": \"middle deltoid\", \"y\": \"Landry2012\", \"xref\": \"x1\", \"yref\": \"y1\", \"font\": {\"color\": \"#000000\"}, \"showarrow\": false}, {\"text\": \"18\", \"x\": \"posterior deltoid\", \"y\": \"Landry2012\", \"xref\": \"x1\", \"yref\": \"y1\", \"font\": {\"color\": \"#000000\"}, \"showarrow\": false}, {\"text\": \"18\", \"x\": \"pectoralis major\", \"y\": \"Landry2012\", \"xref\": \"x1\", \"yref\": \"y1\", \"font\": {\"color\": \"#000000\"}, \"showarrow\": false}, {\"text\": \"0\", \"x\": \"serratus anterior\", \"y\": \"Landry2012\", \"xref\": \"x1\", \"yref\": \"y1\", \"font\": {\"color\": \"#FFFFFF\"}, \"showarrow\": false}, {\"text\": \"18\", \"x\": \"latissimus dorsi\", \"y\": \"Landry2012\", \"xref\": \"x1\", \"yref\": \"y1\", \"font\": {\"color\": \"#000000\"}, \"showarrow\": false}, {\"text\": \"0\", \"x\": \"supraspinatus\", \"y\": \"Landry2012\", \"xref\": \"x1\", \"yref\": \"y1\", \"font\": {\"color\": \"#FFFFFF\"}, \"showarrow\": false}, {\"text\": \"0\", \"x\": \"infraspinatus\", \"y\": \"Landry2012\", \"xref\": \"x1\", \"yref\": \"y1\", \"font\": {\"color\": \"#FFFFFF\"}, \"showarrow\": false}, {\"text\": \"0\", \"x\": \"subscapularis\", \"y\": \"Landry2012\", \"xref\": \"x1\", \"yref\": \"y1\", \"font\": {\"color\": \"#FFFFFF\"}, \"showarrow\": false}, {\"text\": \"15\", \"x\": \"upper trapezius\", \"y\": \"Tennis\", \"xref\": \"x1\", \"yref\": \"y1\", \"font\": {\"color\": \"#000000\"}, \"showarrow\": false}, {\"text\": \"0\", \"x\": \"middle trapezius\", \"y\": \"Tennis\", \"xref\": \"x1\", \"yref\": \"y1\", \"font\": {\"color\": \"#FFFFFF\"}, \"showarrow\": false}, {\"text\": \"15\", \"x\": \"lower trapezius\", \"y\": \"Tennis\", \"xref\": \"x1\", \"yref\": \"y1\", \"font\": {\"color\": \"#000000\"}, \"showarrow\": false}, {\"text\": \"15\", \"x\": \"anterior deltoid\", \"y\": \"Tennis\", \"xref\": \"x1\", \"yref\": \"y1\", \"font\": {\"color\": \"#000000\"}, \"showarrow\": false}, {\"text\": \"15\", \"x\": \"middle deltoid\", \"y\": \"Tennis\", \"xref\": \"x1\", \"yref\": \"y1\", \"font\": {\"color\": \"#000000\"}, \"showarrow\": false}, {\"text\": \"15\", \"x\": \"posterior deltoid\", \"y\": \"Tennis\", \"xref\": \"x1\", \"yref\": \"y1\", \"font\": {\"color\": \"#000000\"}, \"showarrow\": false}, {\"text\": \"15\", \"x\": \"pectoralis major\", \"y\": \"Tennis\", \"xref\": \"x1\", \"yref\": \"y1\", \"font\": {\"color\": \"#000000\"}, \"showarrow\": false}, {\"text\": \"15\", \"x\": \"serratus anterior\", \"y\": \"Tennis\", \"xref\": \"x1\", \"yref\": \"y1\", \"font\": {\"color\": \"#000000\"}, \"showarrow\": false}, {\"text\": \"15\", \"x\": \"latissimus dorsi\", \"y\": \"Tennis\", \"xref\": \"x1\", \"yref\": \"y1\", \"font\": {\"color\": \"#000000\"}, \"showarrow\": false}, {\"text\": \"15\", \"x\": \"supraspinatus\", \"y\": \"Tennis\", \"xref\": \"x1\", \"yref\": \"y1\", \"font\": {\"color\": \"#000000\"}, \"showarrow\": false}, {\"text\": \"15\", \"x\": \"infraspinatus\", \"y\": \"Tennis\", \"xref\": \"x1\", \"yref\": \"y1\", \"font\": {\"color\": \"#000000\"}, \"showarrow\": false}, {\"text\": \"15\", \"x\": \"subscapularis\", \"y\": \"Tennis\", \"xref\": \"x1\", \"yref\": \"y1\", \"font\": {\"color\": \"#000000\"}, \"showarrow\": false}, {\"text\": \"16\", \"x\": \"upper trapezius\", \"y\": \"Patrick_2013\", \"xref\": \"x1\", \"yref\": \"y1\", \"font\": {\"color\": \"#000000\"}, \"showarrow\": false}, {\"text\": \"16\", \"x\": \"middle trapezius\", \"y\": \"Patrick_2013\", \"xref\": \"x1\", \"yref\": \"y1\", \"font\": {\"color\": \"#000000\"}, \"showarrow\": false}, {\"text\": \"16\", \"x\": \"lower trapezius\", \"y\": \"Patrick_2013\", \"xref\": \"x1\", \"yref\": \"y1\", \"font\": {\"color\": \"#000000\"}, \"showarrow\": false}, {\"text\": \"16\", \"x\": \"anterior deltoid\", \"y\": \"Patrick_2013\", \"xref\": \"x1\", \"yref\": \"y1\", \"font\": {\"color\": \"#000000\"}, \"showarrow\": false}, {\"text\": \"16\", \"x\": \"middle deltoid\", \"y\": \"Patrick_2013\", \"xref\": \"x1\", \"yref\": \"y1\", \"font\": {\"color\": \"#000000\"}, \"showarrow\": false}, {\"text\": \"16\", \"x\": \"posterior deltoid\", \"y\": \"Patrick_2013\", \"xref\": \"x1\", \"yref\": \"y1\", \"font\": {\"color\": \"#000000\"}, \"showarrow\": false}, {\"text\": \"16\", \"x\": \"pectoralis major\", \"y\": \"Patrick_2013\", \"xref\": \"x1\", \"yref\": \"y1\", \"font\": {\"color\": \"#000000\"}, \"showarrow\": false}, {\"text\": \"16\", \"x\": \"serratus anterior\", \"y\": \"Patrick_2013\", \"xref\": \"x1\", \"yref\": \"y1\", \"font\": {\"color\": \"#000000\"}, \"showarrow\": false}, {\"text\": \"16\", \"x\": \"latissimus dorsi\", \"y\": \"Patrick_2013\", \"xref\": \"x1\", \"yref\": \"y1\", \"font\": {\"color\": \"#000000\"}, \"showarrow\": false}, {\"text\": \"16\", \"x\": \"supraspinatus\", \"y\": \"Patrick_2013\", \"xref\": \"x1\", \"yref\": \"y1\", \"font\": {\"color\": \"#000000\"}, \"showarrow\": false}, {\"text\": \"16\", \"x\": \"infraspinatus\", \"y\": \"Patrick_2013\", \"xref\": \"x1\", \"yref\": \"y1\", \"font\": {\"color\": \"#000000\"}, \"showarrow\": false}, {\"text\": \"16\", \"x\": \"subscapularis\", \"y\": \"Patrick_2013\", \"xref\": \"x1\", \"yref\": \"y1\", \"font\": {\"color\": \"#000000\"}, \"showarrow\": false}, {\"text\": \"10\", \"x\": \"upper trapezius\", \"y\": \"Sylvain_2015\", \"xref\": \"x1\", \"yref\": \"y1\", \"font\": {\"color\": \"#FFFFFF\"}, \"showarrow\": false}, {\"text\": \"10\", \"x\": \"middle trapezius\", \"y\": \"Sylvain_2015\", \"xref\": \"x1\", \"yref\": \"y1\", \"font\": {\"color\": \"#FFFFFF\"}, \"showarrow\": false}, {\"text\": \"10\", \"x\": \"lower trapezius\", \"y\": \"Sylvain_2015\", \"xref\": \"x1\", \"yref\": \"y1\", \"font\": {\"color\": \"#FFFFFF\"}, \"showarrow\": false}, {\"text\": \"0\", \"x\": \"anterior deltoid\", \"y\": \"Sylvain_2015\", \"xref\": \"x1\", \"yref\": \"y1\", \"font\": {\"color\": \"#FFFFFF\"}, \"showarrow\": false}, {\"text\": \"10\", \"x\": \"middle deltoid\", \"y\": \"Sylvain_2015\", \"xref\": \"x1\", \"yref\": \"y1\", \"font\": {\"color\": \"#FFFFFF\"}, \"showarrow\": false}, {\"text\": \"10\", \"x\": \"posterior deltoid\", \"y\": \"Sylvain_2015\", \"xref\": \"x1\", \"yref\": \"y1\", \"font\": {\"color\": \"#FFFFFF\"}, \"showarrow\": false}, {\"text\": \"10\", \"x\": \"pectoralis major\", \"y\": \"Sylvain_2015\", \"xref\": \"x1\", \"yref\": \"y1\", \"font\": {\"color\": \"#FFFFFF\"}, \"showarrow\": false}, {\"text\": \"10\", \"x\": \"serratus anterior\", \"y\": \"Sylvain_2015\", \"xref\": \"x1\", \"yref\": \"y1\", \"font\": {\"color\": \"#FFFFFF\"}, \"showarrow\": false}, {\"text\": \"10\", \"x\": \"latissimus dorsi\", \"y\": \"Sylvain_2015\", \"xref\": \"x1\", \"yref\": \"y1\", \"font\": {\"color\": \"#FFFFFF\"}, \"showarrow\": false}, {\"text\": \"10\", \"x\": \"supraspinatus\", \"y\": \"Sylvain_2015\", \"xref\": \"x1\", \"yref\": \"y1\", \"font\": {\"color\": \"#FFFFFF\"}, \"showarrow\": false}, {\"text\": \"10\", \"x\": \"infraspinatus\", \"y\": \"Sylvain_2015\", \"xref\": \"x1\", \"yref\": \"y1\", \"font\": {\"color\": \"#FFFFFF\"}, \"showarrow\": false}, {\"text\": \"10\", \"x\": \"subscapularis\", \"y\": \"Sylvain_2015\", \"xref\": \"x1\", \"yref\": \"y1\", \"font\": {\"color\": \"#FFFFFF\"}, \"showarrow\": false}], \"xaxis\": {\"ticks\": \"\", \"dtick\": 1, \"side\": \"bottom\", \"gridcolor\": \"rgb(0, 0, 0)\", \"title\": \"Xtitle\"}, \"yaxis\": {\"ticks\": \"\", \"dtick\": 1, \"ticksuffix\": \"  \", \"title\": \"Ytitle\", \"autorange\": \"reversed\"}, \"hovermode\": \"closest\", \"font\": {\"size\": 14}, \"title\": \"Title\", \"margin\": {\"t\": 80, \"b\": 80, \"l\": 150, \"r\": 80, \"pad\": 0}}, {\"showLink\": true, \"linkText\": \"Export to plot.ly\"})});</script>"
      ]
     },
     "metadata": {},
     "output_type": "display_data"
    }
   ],
   "source": [
    "muscle_by_dataset = plot_count_by_dataset(\n",
    "    df_tidy,\n",
    "    values='test',\n",
    "    index='dataset',\n",
    "    columns='muscle',\n",
    "    ylabel=DATASET_NAMES,\n",
    "    xlabel=MUSCLES_NAMES,\n",
    "    title='Title',\n",
    "    xtitle='Xtitle',\n",
    "    ytitle='Ytitle')\n",
    "\n",
    "py.iplot(muscle_by_dataset, filename='mvc/muscle_by_dataset')"
   ]
  }
 ],
 "metadata": {
  "kernelspec": {
   "display_name": "mvc",
   "language": "python",
   "name": "mvc"
  },
  "language_info": {
   "codemirror_mode": {
    "name": "ipython",
    "version": 3
   },
   "file_extension": ".py",
   "mimetype": "text/x-python",
   "name": "python",
   "nbconvert_exporter": "python",
   "pygments_lexer": "ipython3",
   "version": "3.6.4"
  },
  "toc": {
   "nav_menu": {},
   "number_sections": false,
   "sideBar": true,
   "skip_h1_title": false,
   "title_cell": "Table of Contents",
   "title_sidebar": "Contents",
   "toc_cell": true,
   "toc_position": {
    "height": "calc(100% - 180px)",
    "left": "10px",
    "top": "150px",
    "width": "384px"
   },
   "toc_section_display": true,
   "toc_window_display": true
  }
 },
 "nbformat": 4,
 "nbformat_minor": 2
}
