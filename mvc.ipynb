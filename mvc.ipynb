{
 "cells": [
  {
   "cell_type": "markdown",
   "metadata": {
    "toc-hr-collapsed": false
   },
   "source": [
    "# A predictive approach to estimate the maximum voluntary activation of the shoulder muscles\n",
    "\n",
    "Romain Martinez<sup>*a</sup>, Jonathan Tremblay<sup>a</sup>, Mickael Begon<sup>a</sup>, Fabien Dal Maso<sup>a</sup>\n",
    "\n",
    "<sup>a</sup>School of Kinesiology and Exercise Science, Faculty of Medicine, University of Montreal\n",
    "\n",
    "[GitHub repo](https://github.com/romainmartinez/mvc)"
   ]
  },
  {
   "cell_type": "markdown",
   "metadata": {
    "toc-hr-collapsed": false
   },
   "source": [
    "# Part 1: Getting the data"
   ]
  },
  {
   "cell_type": "code",
   "execution_count": 1,
   "metadata": {},
   "outputs": [],
   "source": [
    "from pathlib import Path\n",
    "import pandas as pd\n",
    "import numpy as np\n",
    "import scipy.io as sio\n",
    "\n",
    "# to make this notebook's output stable across runs\n",
    "RANDOM_SEED = 7\n",
    "np.random.seed(RANDOM_SEED)"
   ]
  },
  {
   "cell_type": "code",
   "execution_count": 2,
   "metadata": {},
   "outputs": [],
   "source": [
    "PROJECT_PATH = Path(\"./\")\n",
    "DATA_PATH = PROJECT_PATH / \"data\"\n",
    "MODEL_PATH = PROJECT_PATH / \"model\""
   ]
  },
  {
   "cell_type": "markdown",
   "metadata": {},
   "source": [
    "## Read the data\n",
    "\n",
    "We start this notebook with data in matlab format, where each file corresponds to different experiments.\n",
    "\n",
    "Each file contains a 3-dimensional matrix where the first dimension corresponds to the _participant_, the second to the _tested muscle_ and the third to the _test performed_.\n",
    "\n",
    "![Maximum voluntary isometric contraction tests performed.](./share/fig/positions.svg)"
   ]
  },
  {
   "cell_type": "code",
   "execution_count": 3,
   "metadata": {},
   "outputs": [
    {
     "name": "stdout",
     "output_type": "stream",
     "text": [
      "project Romain2017: 32 participants\n",
      "project Landry2015_1: 14 participants\n",
      "project Landry2016: 15 participants\n",
      "project Violon: 10 participants\n",
      "project Tennis: 16 participants\n",
      "project Yoann_2015: 22 participants\n",
      "project Landry2015_2: 11 participants\n",
      "project Landry2012: 18 participants\n",
      "project Patrick_2013: 16 participants\n",
      "project Sylvain_2015: 10 participants\n",
      "project Landry2013: 21 participants\n"
     ]
    }
   ],
   "source": [
    "mat = {}\n",
    "data = {key: [] for key in (\"dataset\", \"participant\", \"muscle\", \"test\", \"mvc\")}\n",
    "dataset_names = []\n",
    "count = -1\n",
    "\n",
    "\n",
    "for ifile in DATA_PATH.glob(\"*only_max.mat\"):\n",
    "    # dataset name\n",
    "    dataset = ifile.stem.replace(\"_only_max\", \"\").replace(\"MVE_Data_\", \"\")\n",
    "    dataset_names.append(dataset)\n",
    "\n",
    "    # data\n",
    "    mat[dataset] = sio.loadmat(ifile)[\"MVE\"]\n",
    "    print(f\"project {dataset}: {mat[dataset].shape[0]} participants\")\n",
    "\n",
    "    for iparticipant in range(mat[dataset].shape[0]):\n",
    "        count += 1\n",
    "        for imuscle in range(mat[dataset].shape[1]):\n",
    "            for itest in range(mat[dataset].shape[2]):\n",
    "                data[\"participant\"].append(count)\n",
    "                data[\"dataset\"].append(dataset)\n",
    "                data[\"muscle\"].append(imuscle)\n",
    "                data[\"test\"].append(itest)\n",
    "                data[\"mvc\"].append(mat[dataset][iparticipant, imuscle, itest])"
   ]
  },
  {
   "cell_type": "markdown",
   "metadata": {},
   "source": [
    "## Transform the data"
   ]
  },
  {
   "cell_type": "code",
   "execution_count": 4,
   "metadata": {},
   "outputs": [
    {
     "name": "stdout",
     "output_type": "stream",
     "text": [
      "dataset shape = (18465, 5)\n"
     ]
    },
    {
     "data": {
      "text/html": [
       "<div>\n",
       "<style scoped>\n",
       "    .dataframe tbody tr th:only-of-type {\n",
       "        vertical-align: middle;\n",
       "    }\n",
       "\n",
       "    .dataframe tbody tr th {\n",
       "        vertical-align: top;\n",
       "    }\n",
       "\n",
       "    .dataframe thead th {\n",
       "        text-align: right;\n",
       "    }\n",
       "</style>\n",
       "<table border=\"1\" class=\"dataframe\">\n",
       "  <thead>\n",
       "    <tr style=\"text-align: right;\">\n",
       "      <th></th>\n",
       "      <th>dataset</th>\n",
       "      <th>participant</th>\n",
       "      <th>muscle</th>\n",
       "      <th>test</th>\n",
       "      <th>mvc</th>\n",
       "    </tr>\n",
       "  </thead>\n",
       "  <tbody>\n",
       "    <tr>\n",
       "      <th>0</th>\n",
       "      <td>Romain2017</td>\n",
       "      <td>0</td>\n",
       "      <td>upper trapezius</td>\n",
       "      <td>test 01</td>\n",
       "      <td>0.000381</td>\n",
       "    </tr>\n",
       "    <tr>\n",
       "      <th>3</th>\n",
       "      <td>Romain2017</td>\n",
       "      <td>0</td>\n",
       "      <td>upper trapezius</td>\n",
       "      <td>test 04</td>\n",
       "      <td>0.000300</td>\n",
       "    </tr>\n",
       "    <tr>\n",
       "      <th>4</th>\n",
       "      <td>Romain2017</td>\n",
       "      <td>0</td>\n",
       "      <td>upper trapezius</td>\n",
       "      <td>test 05</td>\n",
       "      <td>0.000348</td>\n",
       "    </tr>\n",
       "    <tr>\n",
       "      <th>5</th>\n",
       "      <td>Romain2017</td>\n",
       "      <td>0</td>\n",
       "      <td>upper trapezius</td>\n",
       "      <td>test 06</td>\n",
       "      <td>0.000111</td>\n",
       "    </tr>\n",
       "    <tr>\n",
       "      <th>8</th>\n",
       "      <td>Romain2017</td>\n",
       "      <td>0</td>\n",
       "      <td>upper trapezius</td>\n",
       "      <td>test 09</td>\n",
       "      <td>0.000249</td>\n",
       "    </tr>\n",
       "  </tbody>\n",
       "</table>\n",
       "</div>"
      ],
      "text/plain": [
       "      dataset  participant           muscle     test       mvc\n",
       "0  Romain2017            0  upper trapezius  test 01  0.000381\n",
       "3  Romain2017            0  upper trapezius  test 04  0.000300\n",
       "4  Romain2017            0  upper trapezius  test 05  0.000348\n",
       "5  Romain2017            0  upper trapezius  test 06  0.000111\n",
       "8  Romain2017            0  upper trapezius  test 09  0.000249"
      ]
     },
     "execution_count": 4,
     "metadata": {},
     "output_type": "execute_result"
    }
   ],
   "source": [
    "df_tidy = pd.DataFrame(data).dropna()\n",
    "df_tidy[\"test\"] = df_tidy[\"test\"].apply(lambda x: f\"test {str(x + 1).zfill(2)}\")\n",
    "\n",
    "MUSCLES = [\n",
    "    \"upper trapezius\",\n",
    "    \"middle trapezius\",\n",
    "    \"lower trapezius\",\n",
    "    \"anterior deltoid\",\n",
    "    \"middle deltoid\",\n",
    "    \"posterior deltoid\",\n",
    "    \"pectoralis major\",\n",
    "    \"serratus anterior\",\n",
    "    \"latissimus dorsi\",\n",
    "    \"supraspinatus\",\n",
    "    \"infraspinatus\",\n",
    "    \"subscapularis\",\n",
    "]\n",
    "\n",
    "\n",
    "df_tidy[\"muscle\"] = np.array(MUSCLES)[df_tidy[\"muscle\"]]\n",
    "\n",
    "print(f\"dataset shape = {df_tidy.shape}\")\n",
    "df_tidy.head()"
   ]
  },
  {
   "cell_type": "code",
   "execution_count": 5,
   "metadata": {},
   "outputs": [
    {
     "data": {
      "text/html": [
       "<div>\n",
       "<style scoped>\n",
       "    .dataframe tbody tr th:only-of-type {\n",
       "        vertical-align: middle;\n",
       "    }\n",
       "\n",
       "    .dataframe tbody tr th {\n",
       "        vertical-align: top;\n",
       "    }\n",
       "\n",
       "    .dataframe thead th {\n",
       "        text-align: right;\n",
       "    }\n",
       "</style>\n",
       "<table border=\"1\" class=\"dataframe\">\n",
       "  <thead>\n",
       "    <tr style=\"text-align: right;\">\n",
       "      <th>test</th>\n",
       "      <th>dataset</th>\n",
       "      <th>participant</th>\n",
       "      <th>muscle</th>\n",
       "      <th>test 01</th>\n",
       "      <th>test 02</th>\n",
       "      <th>test 03</th>\n",
       "      <th>test 04</th>\n",
       "      <th>test 05</th>\n",
       "      <th>test 06</th>\n",
       "      <th>test 07</th>\n",
       "      <th>test 08</th>\n",
       "      <th>test 09</th>\n",
       "      <th>test 10</th>\n",
       "      <th>test 11</th>\n",
       "      <th>test 12</th>\n",
       "      <th>test 13</th>\n",
       "      <th>test 14</th>\n",
       "      <th>test 15</th>\n",
       "      <th>test 16</th>\n",
       "    </tr>\n",
       "  </thead>\n",
       "  <tbody>\n",
       "    <tr>\n",
       "      <th>0</th>\n",
       "      <td>Landry2012</td>\n",
       "      <td>120</td>\n",
       "      <td>anterior deltoid</td>\n",
       "      <td>0.013480</td>\n",
       "      <td>0.060322</td>\n",
       "      <td>0.102243</td>\n",
       "      <td>0.262121</td>\n",
       "      <td>0.216671</td>\n",
       "      <td>0.007603</td>\n",
       "      <td>0.009864</td>\n",
       "      <td>0.030523</td>\n",
       "      <td>NaN</td>\n",
       "      <td>NaN</td>\n",
       "      <td>NaN</td>\n",
       "      <td>NaN</td>\n",
       "      <td>NaN</td>\n",
       "      <td>NaN</td>\n",
       "      <td>NaN</td>\n",
       "      <td>NaN</td>\n",
       "    </tr>\n",
       "    <tr>\n",
       "      <th>1</th>\n",
       "      <td>Landry2012</td>\n",
       "      <td>120</td>\n",
       "      <td>latissimus dorsi</td>\n",
       "      <td>0.003968</td>\n",
       "      <td>0.077672</td>\n",
       "      <td>0.019619</td>\n",
       "      <td>0.024144</td>\n",
       "      <td>0.021569</td>\n",
       "      <td>0.151734</td>\n",
       "      <td>0.145337</td>\n",
       "      <td>0.060694</td>\n",
       "      <td>NaN</td>\n",
       "      <td>NaN</td>\n",
       "      <td>NaN</td>\n",
       "      <td>NaN</td>\n",
       "      <td>NaN</td>\n",
       "      <td>NaN</td>\n",
       "      <td>NaN</td>\n",
       "      <td>NaN</td>\n",
       "    </tr>\n",
       "    <tr>\n",
       "      <th>2</th>\n",
       "      <td>Landry2012</td>\n",
       "      <td>120</td>\n",
       "      <td>lower trapezius</td>\n",
       "      <td>0.025092</td>\n",
       "      <td>0.205321</td>\n",
       "      <td>0.300761</td>\n",
       "      <td>0.170296</td>\n",
       "      <td>0.191271</td>\n",
       "      <td>0.070199</td>\n",
       "      <td>0.140505</td>\n",
       "      <td>0.017468</td>\n",
       "      <td>NaN</td>\n",
       "      <td>NaN</td>\n",
       "      <td>NaN</td>\n",
       "      <td>NaN</td>\n",
       "      <td>NaN</td>\n",
       "      <td>NaN</td>\n",
       "      <td>NaN</td>\n",
       "      <td>NaN</td>\n",
       "    </tr>\n",
       "    <tr>\n",
       "      <th>3</th>\n",
       "      <td>Landry2012</td>\n",
       "      <td>120</td>\n",
       "      <td>middle deltoid</td>\n",
       "      <td>0.028731</td>\n",
       "      <td>0.145174</td>\n",
       "      <td>0.170468</td>\n",
       "      <td>0.085861</td>\n",
       "      <td>0.121181</td>\n",
       "      <td>0.035754</td>\n",
       "      <td>0.009872</td>\n",
       "      <td>0.011396</td>\n",
       "      <td>NaN</td>\n",
       "      <td>NaN</td>\n",
       "      <td>NaN</td>\n",
       "      <td>NaN</td>\n",
       "      <td>NaN</td>\n",
       "      <td>NaN</td>\n",
       "      <td>NaN</td>\n",
       "      <td>NaN</td>\n",
       "    </tr>\n",
       "    <tr>\n",
       "      <th>4</th>\n",
       "      <td>Landry2012</td>\n",
       "      <td>120</td>\n",
       "      <td>middle trapezius</td>\n",
       "      <td>0.011083</td>\n",
       "      <td>0.135626</td>\n",
       "      <td>0.130890</td>\n",
       "      <td>0.042650</td>\n",
       "      <td>0.062615</td>\n",
       "      <td>0.046499</td>\n",
       "      <td>0.040964</td>\n",
       "      <td>0.016394</td>\n",
       "      <td>NaN</td>\n",
       "      <td>NaN</td>\n",
       "      <td>NaN</td>\n",
       "      <td>NaN</td>\n",
       "      <td>NaN</td>\n",
       "      <td>NaN</td>\n",
       "      <td>NaN</td>\n",
       "      <td>NaN</td>\n",
       "    </tr>\n",
       "  </tbody>\n",
       "</table>\n",
       "</div>"
      ],
      "text/plain": [
       "test     dataset  participant            muscle   test 01   test 02   test 03  \\\n",
       "0     Landry2012          120  anterior deltoid  0.013480  0.060322  0.102243   \n",
       "1     Landry2012          120  latissimus dorsi  0.003968  0.077672  0.019619   \n",
       "2     Landry2012          120   lower trapezius  0.025092  0.205321  0.300761   \n",
       "3     Landry2012          120    middle deltoid  0.028731  0.145174  0.170468   \n",
       "4     Landry2012          120  middle trapezius  0.011083  0.135626  0.130890   \n",
       "\n",
       "test   test 04   test 05   test 06   test 07   test 08  test 09  test 10  \\\n",
       "0     0.262121  0.216671  0.007603  0.009864  0.030523      NaN      NaN   \n",
       "1     0.024144  0.021569  0.151734  0.145337  0.060694      NaN      NaN   \n",
       "2     0.170296  0.191271  0.070199  0.140505  0.017468      NaN      NaN   \n",
       "3     0.085861  0.121181  0.035754  0.009872  0.011396      NaN      NaN   \n",
       "4     0.042650  0.062615  0.046499  0.040964  0.016394      NaN      NaN   \n",
       "\n",
       "test  test 11  test 12  test 13  test 14  test 15  test 16  \n",
       "0         NaN      NaN      NaN      NaN      NaN      NaN  \n",
       "1         NaN      NaN      NaN      NaN      NaN      NaN  \n",
       "2         NaN      NaN      NaN      NaN      NaN      NaN  \n",
       "3         NaN      NaN      NaN      NaN      NaN      NaN  \n",
       "4         NaN      NaN      NaN      NaN      NaN      NaN  "
      ]
     },
     "execution_count": 5,
     "metadata": {},
     "output_type": "execute_result"
    }
   ],
   "source": [
    "df_wide = df_tidy.pivot_table(\n",
    "    index=[\"dataset\", \"participant\", \"muscle\"],\n",
    "    columns=\"test\",\n",
    "    values=\"mvc\",\n",
    "    fill_value=np.nan,\n",
    ").reset_index()\n",
    "df_wide.head()"
   ]
  },
  {
   "cell_type": "markdown",
   "metadata": {},
   "source": [
    "# Part 2: Data exploration"
   ]
  },
  {
   "cell_type": "code",
   "execution_count": 6,
   "metadata": {},
   "outputs": [
    {
     "data": {
      "text/plain": [
       "DataTransformerRegistry.enable('json')"
      ]
     },
     "execution_count": 6,
     "metadata": {},
     "output_type": "execute_result"
    }
   ],
   "source": [
    "import altair as alt\n",
    "from altair import datum\n",
    "alt.data_transformers.enable('json')"
   ]
  },
  {
   "cell_type": "markdown",
   "metadata": {},
   "source": [
    "## Muscles and tests count"
   ]
  },
  {
   "cell_type": "code",
   "execution_count": 7,
   "metadata": {},
   "outputs": [
    {
     "data": {
      "application/vnd.vegalite.v2+json": {
       "$schema": "https://vega.github.io/schema/vega-lite/v2.6.0.json",
       "config": {
        "view": {
         "height": 300,
         "width": 400
        }
       },
       "hconcat": [
        {
         "data": {
          "format": {
           "type": "json"
          },
          "url": "altair-data-e631d6f9b7b4decb4e9ba034f730c1bb.json"
         },
         "encoding": {
          "x": {
           "aggregate": "count",
           "type": "quantitative"
          },
          "y": {
           "field": "muscle",
           "sort": [
            "upper trapezius",
            "middle trapezius",
            "lower trapezius",
            "anterior deltoid",
            "middle deltoid",
            "posterior deltoid",
            "pectoralis major",
            "serratus anterior",
            "latissimus dorsi",
            "supraspinatus",
            "infraspinatus",
            "subscapularis"
           ],
           "title": null,
           "type": "nominal"
          }
         },
         "mark": "bar"
        },
        {
         "data": {
          "format": {
           "type": "json"
          },
          "url": "altair-data-e631d6f9b7b4decb4e9ba034f730c1bb.json"
         },
         "encoding": {
          "x": {
           "aggregate": "count",
           "type": "quantitative"
          },
          "y": {
           "field": "test",
           "title": null,
           "type": "nominal"
          }
         },
         "mark": "bar"
        }
       ],
       "title": "Number of records by muscle & test"
      },
      "image/png": "[encoded data removed]",
      "text/plain": [
       "<VegaLite 2 object>\n",
       "\n",
       "If you see this message, it means the renderer has not been properly enabled\n",
       "for the frontend that you are using. For more information, see\n",
       "https://altair-viz.github.io/user_guide/troubleshooting.html\n"
      ]
     },
     "execution_count": 7,
     "metadata": {},
     "output_type": "execute_result"
    }
   ],
   "source": [
    "base = alt.Chart(df_tidy).encode(x=\"count()\")\n",
    "muscle = base.mark_bar().encode(alt.Y(\"muscle\", sort=alt.Sort(MUSCLES), title=None))\n",
    "test = base.mark_bar().encode(alt.Y(\"test\", title=None))\n",
    "(muscle | test).properties(title=\"Number of records by muscle & test\")"
   ]
  },
  {
   "cell_type": "code",
   "execution_count": 8,
   "metadata": {},
   "outputs": [
    {
     "data": {
      "application/vnd.vegalite.v2+json": {
       "$schema": "https://vega.github.io/schema/vega-lite/v2.6.0.json",
       "config": {
        "view": {
         "height": 300,
         "width": 400
        }
       },
       "data": {
        "format": {
         "type": "json"
        },
        "url": "altair-data-e631d6f9b7b4decb4e9ba034f730c1bb.json"
       },
       "encoding": {
        "color": {
         "aggregate": "count",
         "type": "quantitative"
        },
        "x": {
         "field": "test",
         "title": null,
         "type": "nominal"
        },
        "y": {
         "field": "muscle",
         "sort": [
          "upper trapezius",
          "middle trapezius",
          "lower trapezius",
          "anterior deltoid",
          "middle deltoid",
          "posterior deltoid",
          "pectoralis major",
          "serratus anterior",
          "latissimus dorsi",
          "supraspinatus",
          "infraspinatus",
          "subscapularis"
         ],
         "title": null,
         "type": "nominal"
        }
       },
       "mark": "rect",
       "title": "Number of records by muscle & test"
      },
      "image/png": "[encoded data removed]",
      "text/plain": [
       "<VegaLite 2 object>\n",
       "\n",
       "If you see this message, it means the renderer has not been properly enabled\n",
       "for the frontend that you are using. For more information, see\n",
       "https://altair-viz.github.io/user_guide/troubleshooting.html\n"
      ]
     },
     "execution_count": 8,
     "metadata": {},
     "output_type": "execute_result"
    }
   ],
   "source": [
    "alt.Chart(df_tidy).mark_rect().encode(\n",
    "    alt.X(\"test\", title=None),\n",
    "    alt.Y(\"muscle\", sort=alt.Sort(MUSCLES), title=None),\n",
    "    color=\"count()\",\n",
    ").properties(title=\"Number of records by muscle & test\")"
   ]
  },
  {
   "cell_type": "code",
   "execution_count": 9,
   "metadata": {},
   "outputs": [
    {
     "data": {
      "application/vnd.vegalite.v2+json": {
       "$schema": "https://vega.github.io/schema/vega-lite/v2.6.0.json",
       "config": {
        "view": {
         "height": 300,
         "width": 400
        }
       },
       "hconcat": [
        {
         "data": {
          "format": {
           "type": "json"
          },
          "url": "altair-data-e631d6f9b7b4decb4e9ba034f730c1bb.json"
         },
         "encoding": {
          "color": {
           "aggregate": "count",
           "type": "quantitative"
          },
          "x": {
           "field": "muscle",
           "sort": [
            "upper trapezius",
            "middle trapezius",
            "lower trapezius",
            "anterior deltoid",
            "middle deltoid",
            "posterior deltoid",
            "pectoralis major",
            "serratus anterior",
            "latissimus dorsi",
            "supraspinatus",
            "infraspinatus",
            "subscapularis"
           ],
           "title": null,
           "type": "nominal"
          },
          "y": {
           "field": "dataset",
           "title": null,
           "type": "nominal"
          }
         },
         "mark": "rect"
        },
        {
         "data": {
          "format": {
           "type": "json"
          },
          "url": "altair-data-e631d6f9b7b4decb4e9ba034f730c1bb.json"
         },
         "encoding": {
          "color": {
           "aggregate": "count",
           "type": "quantitative"
          },
          "x": {
           "field": "test",
           "title": null,
           "type": "nominal"
          },
          "y": {
           "field": "dataset",
           "title": null,
           "type": "nominal"
          }
         },
         "mark": "rect"
        }
       ],
       "title": "Number of records by dataset"
      },
      "image/png": "[encoded data removed]",
      "text/plain": [
       "<VegaLite 2 object>\n",
       "\n",
       "If you see this message, it means the renderer has not been properly enabled\n",
       "for the frontend that you are using. For more information, see\n",
       "https://altair-viz.github.io/user_guide/troubleshooting.html\n"
      ]
     },
     "execution_count": 9,
     "metadata": {},
     "output_type": "execute_result"
    }
   ],
   "source": [
    "base = alt.Chart(df_tidy).encode(alt.Y(\"dataset\", title=None), color=\"count()\")\n",
    "test = base.mark_rect().encode(alt.X(\"test\", title=None))\n",
    "muscle = base.mark_rect().encode(alt.X(\"muscle\", sort=alt.Sort(MUSCLES), title=None))\n",
    "(muscle | test).properties(title=\"Number of records by dataset\")"
   ]
  },
  {
   "cell_type": "markdown",
   "metadata": {},
   "source": [
    "## NaNs count"
   ]
  },
  {
   "cell_type": "code",
   "execution_count": 10,
   "metadata": {},
   "outputs": [
    {
     "data": {
      "application/vnd.vegalite.v2+json": {
       "$schema": "https://vega.github.io/schema/vega-lite/v2.6.0.json",
       "config": {
        "view": {
         "height": 300,
         "width": 400
        }
       },
       "data": {
        "format": {
         "type": "json"
        },
        "url": "altair-data-6a3e0c6a179fcbde90589b8ed5f8debf.json"
       },
       "encoding": {
        "x": {
         "aggregate": "missing",
         "field": "value",
         "type": "quantitative"
        },
        "y": {
         "field": "test",
         "title": null,
         "type": "nominal"
        }
       },
       "mark": "bar"
      },
      "image/png": "[encoded data removed]",
      "text/plain": [
       "<VegaLite 2 object>\n",
       "\n",
       "If you see this message, it means the renderer has not been properly enabled\n",
       "for the frontend that you are using. For more information, see\n",
       "https://altair-viz.github.io/user_guide/troubleshooting.html\n"
      ]
     },
     "execution_count": 10,
     "metadata": {},
     "output_type": "execute_result"
    }
   ],
   "source": [
    "alt.Chart(df_wide.melt(id_vars=[\"dataset\", \"participant\", \"muscle\"])).mark_bar().encode(\n",
    "    alt.X(\"missing(value)\"), alt.Y(\"test\", title=None)\n",
    ")"
   ]
  },
  {
   "cell_type": "markdown",
   "metadata": {},
   "source": [
    "## Which test normalizes which muscle"
   ]
  },
  {
   "cell_type": "code",
   "execution_count": 11,
   "metadata": {},
   "outputs": [
    {
     "data": {
      "application/vnd.vegalite.v2+json": {
       "$schema": "https://vega.github.io/schema/vega-lite/v2.6.0.json",
       "config": {
        "view": {
         "height": 300,
         "width": 400
        }
       },
       "data": {
        "format": {
         "type": "json"
        },
        "url": "altair-data-030f70200de04f0334f6d0ecde079999.json"
       },
       "encoding": {
        "color": {
         "field": "muscle_normalizer",
         "type": "quantitative"
        },
        "x": {
         "field": "test",
         "title": null,
         "type": "nominal"
        },
        "y": {
         "field": "muscle",
         "sort": [
          "upper trapezius",
          "middle trapezius",
          "lower trapezius",
          "anterior deltoid",
          "middle deltoid",
          "posterior deltoid",
          "pectoralis major",
          "serratus anterior",
          "latissimus dorsi",
          "supraspinatus",
          "infraspinatus",
          "subscapularis"
         ],
         "title": null,
         "type": "nominal"
        }
       },
       "mark": "rect"
      },
      "image/png": "[encoded data removed]",
      "text/plain": [
       "<VegaLite 2 object>\n",
       "\n",
       "If you see this message, it means the renderer has not been properly enabled\n",
       "for the frontend that you are using. For more information, see\n",
       "https://altair-viz.github.io/user_guide/troubleshooting.html\n"
      ]
     },
     "execution_count": 11,
     "metadata": {},
     "output_type": "execute_result"
    }
   ],
   "source": [
    "dff = df_tidy.groupby([\"test\", \"muscle\"])[\"mvc\"].count().rename(\"count\").to_frame()\n",
    "\n",
    "max_test = (\n",
    "    df_tidy.groupby([\"participant\", \"muscle\"], as_index=False)\n",
    "    .apply(lambda x: x[\"test\"][x[\"mvc\"].idxmax()])\n",
    "    .rename(\"test\")\n",
    "    .reset_index()\n",
    ")\n",
    "\n",
    "dff = dff.merge(\n",
    "    max_test.groupby([\"muscle\", \"test\"]).count().reset_index(), on=[\"muscle\", \"test\"]\n",
    ").rename(columns={\"participant\": \"max_test\"})\n",
    "\n",
    "\n",
    "dff[\"muscle_normalizer\"] = dff[\"max_test\"] / dff[\"count\"] * 100\n",
    "\n",
    "alt.Chart(dff).mark_rect().encode(\n",
    "    alt.X(\"test\", title=None),\n",
    "    alt.Y(\"muscle\", sort=alt.Sort(MUSCLES), title=None),\n",
    "    alt.Color(\"muscle_normalizer\"),\n",
    ")"
   ]
  },
  {
   "cell_type": "code",
   "execution_count": 12,
   "metadata": {},
   "outputs": [
    {
     "data": {
      "application/vnd.vegalite.v2+json": {
       "$schema": "https://vega.github.io/schema/vega-lite/v2.6.0.json",
       "config": {
        "view": {
         "height": 300,
         "width": 400
        }
       },
       "data": {
        "format": {
         "type": "json"
        },
        "url": "altair-data-030f70200de04f0334f6d0ecde079999.json"
       },
       "encoding": {
        "color": {
         "bin": true,
         "field": "muscle_normalizer",
         "type": "quantitative"
        },
        "x": {
         "field": "test",
         "title": null,
         "type": "nominal"
        },
        "y": {
         "field": "muscle",
         "sort": [
          "upper trapezius",
          "middle trapezius",
          "lower trapezius",
          "anterior deltoid",
          "middle deltoid",
          "posterior deltoid",
          "pectoralis major",
          "serratus anterior",
          "latissimus dorsi",
          "supraspinatus",
          "infraspinatus",
          "subscapularis"
         ],
         "title": null,
         "type": "nominal"
        }
       },
       "mark": "rect"
      },
      "image/png": "[encoded data removed]",
      "text/plain": [
       "<VegaLite 2 object>\n",
       "\n",
       "If you see this message, it means the renderer has not been properly enabled\n",
       "for the frontend that you are using. For more information, see\n",
       "https://altair-viz.github.io/user_guide/troubleshooting.html\n"
      ]
     },
     "execution_count": 12,
     "metadata": {},
     "output_type": "execute_result"
    }
   ],
   "source": [
    "alt.Chart(dff).mark_rect().encode(\n",
    "    alt.X(\"test\", title=None),\n",
    "    alt.Y(\"muscle\", sort=alt.Sort(MUSCLES), title=None),\n",
    "    alt.Color(\"muscle_normalizer\", bin=True),\n",
    ")"
   ]
  },
  {
   "cell_type": "markdown",
   "metadata": {},
   "source": [
    "# Part 3: Machine learning pipeline\n",
    "\n",
    "Since tests number 4, 5 and 6 have few missing data (3) and are good normalizers, we will try to predict the maximum obtained with the 16 tests from these three tests alone."
   ]
  },
  {
   "cell_type": "markdown",
   "metadata": {},
   "source": [
    "## Normalization"
   ]
  },
  {
   "cell_type": "code",
   "execution_count": 13,
   "metadata": {},
   "outputs": [],
   "source": [
    "# class Normalize:\n",
    "#     def __init__(self, ref):\n",
    "#         self.ref = ref\n",
    "\n",
    "#     def fit(self, X, y=None):\n",
    "#         self.ref_vector = X[self.ref]\n",
    "#         return self\n",
    "\n",
    "#     def transform(self, X):\n",
    "#         return X.multiply(100, axis=0).divide(self.ref_vector, axis=0)\n",
    "\n",
    "#     def fit_transform(self, X, y=None):\n",
    "#         return self.fit(X).transform(X)\n",
    "\n",
    "#     def inverse_transform(self, X):\n",
    "#         return X.divide(100, axis=0).multiply(self.ref_vector, axis=0)"
   ]
  },
  {
   "cell_type": "markdown",
   "metadata": {},
   "source": [
    "## Split the data"
   ]
  },
  {
   "cell_type": "code",
   "execution_count": 14,
   "metadata": {},
   "outputs": [],
   "source": [
    "# from sklearn.model_selection import GroupShuffleSplit\n",
    "\n",
    "\n",
    "# class Pipeline:\n",
    "#     def __init__(self):\n",
    "#         pass\n",
    "    \n",
    "#     def get_X_and_y(self, d, cols):\n",
    "#         X = d[cols].dropna(subset=cols)\n",
    "#         y = d.loc[X.index].select_dtypes(include=\"float\").max(axis=1)\n",
    "#         p = d[\"participant\"].loc[X.index]\n",
    "\n",
    "#         # remove the top 2.5 percentile\n",
    "#         normalized_y = Normalize(ref=\"test 05\").fit(X).transform(y)\n",
    "#         y = y.loc[normalized_y < normalized_y.quantile(0.975)]\n",
    "#         return X.loc[y.index], y, p.loc[y.index]\n",
    "\n",
    "#     @staticmethod\n",
    "#     def drop_na_rows(d, cols):\n",
    "#         c = [i for i in cols if i != \"muscle\"]\n",
    "#         original_shape = d.shape\n",
    "#         d = d.dropna(how=\"all\", subset=c)\n",
    "#         deleted_rows = original_shape[0] - d.shape[0]\n",
    "#         if deleted_rows != 0:\n",
    "#             print(f'drop {deleted_rows} NaN rows')\n",
    "#         return d\n",
    "\n",
    "#     @staticmethod\n",
    "#     def split_data(X, y, p, test_size):\n",
    "#         # we want to make sure that all the data from one participant is in only one set\n",
    "#         train_id, test_id = next(\n",
    "#             GroupShuffleSplit(test_size=test_size, random_state=RANDOM_SEED).split(\n",
    "#                 X, groups=p\n",
    "#             )\n",
    "#         )\n",
    "#         return X.iloc[train_id], X.iloc[test_id], y.iloc[train_id], y.iloc[test_id]\n"
   ]
  },
  {
   "cell_type": "markdown",
   "metadata": {},
   "source": [
    "## Evaluation"
   ]
  },
  {
   "cell_type": "code",
   "execution_count": 15,
   "metadata": {},
   "outputs": [],
   "source": [
    "# from sklearn.metrics import r2_score\n",
    "\n",
    "\n",
    "# class Evaluate:\n",
    "#     def __init__(self):\n",
    "#         pass\n",
    "\n",
    "#     @staticmethod\n",
    "#     def mape_vector(y_true, y_pred):\n",
    "#         return (np.abs((y_true - y_pred) / y_true)) * 100\n",
    "\n",
    "#     def mape(self, y_true, y_pred):\n",
    "#         return self.mape_vector(y_true, y_pred).mean()\n",
    "\n",
    "#     @staticmethod\n",
    "#     def rmse(y_true, y_pred):\n",
    "#         val = np.sqrt(((y_pred - y_true) ** 2).mean())\n",
    "#         return val\n",
    "\n",
    "#     def report(self, y_true, y_pred):\n",
    "#         d = {\n",
    "#             \"rmse\": self.rmse(y_true, y_pred),\n",
    "#             \"mape\": self.mape(y_true, y_pred),\n",
    "#             \"r2\": r2_score(y_true, y_pred),\n",
    "#         }\n",
    "#         return d\n"
   ]
  },
  {
   "cell_type": "code",
   "execution_count": 16,
   "metadata": {},
   "outputs": [],
   "source": [
    "# from xgboost import XGBRegressor\n",
    "# # from sklearn.linear_model import LinearRegression\n",
    "\n",
    "# COLS_TO_KEEP = [\"test 04\", \"test 05\", \"test 06\"]\n",
    "# TEST_SIZE = 0.2\n",
    "# base_params = {\"n_jobs\": 1, \"silent\": True, \"random_state\": RANDOM_SEED}\n",
    "# results = {\"train\": {}, \"test\": {}}\n",
    "# index, model, mape_vector = {}, {}, {}\n",
    "\n",
    "# for imuscle in MUSCLES:\n",
    "#     subset = df_wide[df_wide[\"muscle\"] == imuscle]\n",
    "#     pipe = Pipeline()\n",
    "#     X, y, participants = pipe.get_X_and_y(d=subset, cols=COLS_TO_KEEP)\n",
    "#     X_train, X_test, y_train, y_test = pipe.split_data(\n",
    "#         X, y, participants, test_size=0.2\n",
    "#     )\n",
    "\n",
    "#     index[imuscle] = {\"train\": y_train.index, \"test\": y_test.index}\n",
    "\n",
    "#     norm_train = Normalize(ref=\"test 05\").fit(X_train)\n",
    "#     X_train, y_train = (norm_train.transform(X_train), norm_train.transform(y_train))\n",
    "\n",
    "#     norm_test = Normalize(ref=\"test 05\").fit(X_test)\n",
    "#     X_test, y_test = norm_test.transform(X_test), norm_test.transform(y_test)\n",
    "\n",
    "#     fit_params = {\n",
    "#         \"eval_set\": [(X_train, y_train), (X_test, y_test)],\n",
    "#         \"early_stopping_rounds\": 50,\n",
    "#         \"eval_metric\": \"rmse\",\n",
    "#         \"verbose\": None,\n",
    "#     }\n",
    "\n",
    "#     model = XGBRegressor(**base_params)\n",
    "#     model.fit(X_train, y_train, **fit_params)\n",
    "# #     model = LinearRegression()\n",
    "# #     model.fit(X_train, y_train)\n",
    "\n",
    "#     y_pred_train, y_pred_test = (model.predict(X_train), model.predict(X_test))\n",
    "#     results[\"train\"][imuscle] = Evaluate().report(y_train, y_pred_train)\n",
    "#     results[\"test\"][imuscle] = Evaluate().report(y_test, y_pred_test)\n",
    "#     mape_vector[imuscle] = Evaluate().mape_vector(y_test, y_pred_test)"
   ]
  },
  {
   "cell_type": "code",
   "execution_count": 17,
   "metadata": {},
   "outputs": [],
   "source": [
    "# r = pd.DataFrame()\n",
    "# for isplit in [\"train\", \"test\"]:\n",
    "#     s = pd.DataFrame(results[isplit]).T.rename_axis(\"muscle\").reset_index()\n",
    "#     s[\"split\"] = isplit\n",
    "#     r = pd.concat([r, s])\n",
    "# print(f\"mean for all muscles:\\n{r.mean()}\")"
   ]
  },
  {
   "cell_type": "code",
   "execution_count": 18,
   "metadata": {},
   "outputs": [],
   "source": [
    "# alt.Chart(r).mark_bar().encode(\n",
    "#     alt.X(\"split\", axis=alt.Axis(title=\"\", labels=False, ticks=False, domain=False)),\n",
    "#     alt.Y(\"mape\"),\n",
    "#     alt.Color(\"split\"),\n",
    "#     alt.Column(\"muscle\", sort=MUSCLES, title=None),\n",
    "# ).properties(width=70)"
   ]
  },
  {
   "cell_type": "markdown",
   "metadata": {},
   "source": [
    "---"
   ]
  },
  {
   "cell_type": "markdown",
   "metadata": {},
   "source": [
    "## Bayesian hierarchical linear regression\n",
    "\n",
    "Having multiple sets of related measurements comes up all the time. In Biomechanics, for example, you test multiple subjects on the same task. \n",
    "\n",
    "We then want to estimate a computational/mathematical model that describes the behavior on the task by a set of parameters. We could thus fit a model to each subject individually, assuming they share no similarities; or, pool all the data and estimate one model assuming all subjects are identical.\n",
    "\n",
    "Hierarchical modeling allows the best of both worlds by modeling subjects’ similarities but also allowing estimiation of individual parameters.\n",
    "\n",
    "__Benefits of Multilevel Models__\n",
    "- Accounting for natural hierarchical structure of observational data\n",
    "\n",
    "- Estimation of coefficients for (under-represented) groups\n",
    "\n",
    "- Incorporating individual- and group-level information when estimating group-level coefficients\n",
    "\n",
    "- Allowing for variation among individual-level coefficients across groups"
   ]
  },
  {
   "cell_type": "code",
   "execution_count": 19,
   "metadata": {},
   "outputs": [],
   "source": [
    "from sklearn.model_selection import GroupShuffleSplit\n",
    "\n",
    "class Normalize:\n",
    "    def __init__(self, ref):\n",
    "        self.ref = ref\n",
    "\n",
    "    def fit(self, X, y=None):\n",
    "        self.ref_vector = X[self.ref]\n",
    "        return self\n",
    "\n",
    "    def transform(self, X):\n",
    "        if isinstance(X, pd.core.series.Series):\n",
    "            return X.multiply(100, axis=0).divide(self.ref_vector, axis=0)\n",
    "        else:\n",
    "            X = X.copy()\n",
    "            num_cols = X.select_dtypes(include=\"float\").columns\n",
    "            X[num_cols] = (\n",
    "                X[num_cols].multiply(100, axis=0).divide(self.ref_vector, axis=0)\n",
    "            )\n",
    "            return X\n",
    "\n",
    "    def fit_transform(self, X, y=None):\n",
    "        return self.fit(X).transform(X)\n",
    "\n",
    "    def inverse_transform(self, X):\n",
    "        return X.divide(100, axis=0).multiply(self.ref_vector, axis=0)\n",
    "\n",
    "\n",
    "def get_X_y_p(d, cols):\n",
    "    X = d[cols].dropna(subset=cols)\n",
    "    y = d.select_dtypes(include=\"float\").max(axis=1)\n",
    "    p = d[\"participant\"].iloc[X.index]\n",
    "\n",
    "    # remove the top 2.5 percentile\n",
    "    normalized_y = Normalize(ref=\"test 05\").fit(X).transform(y)\n",
    "    y = y.loc[normalized_y < normalized_y.quantile(0.975)]\n",
    "    return X.loc[y.index], y, p.loc[y.index]\n",
    "\n",
    "\n",
    "def split_data(X, y, p, test_size):\n",
    "    # we want to make sure that all the data from one participant is in only one set\n",
    "    train_id, test_id = next(\n",
    "        GroupShuffleSplit(test_size=test_size, random_state=RANDOM_SEED).split(\n",
    "            X, groups=p\n",
    "        )\n",
    "    )\n",
    "    return X.iloc[train_id], X.iloc[test_id], y.iloc[train_id], y.iloc[test_id]\n",
    "\n",
    "\n",
    "def mape_vector(y_true, y_pred):\n",
    "    return (np.abs((y_pred - y_true) / y_true))"
   ]
  },
  {
   "cell_type": "code",
   "execution_count": 20,
   "metadata": {},
   "outputs": [],
   "source": [
    "# d = {}\n",
    "\n",
    "# for i in range(10):\n",
    "#     RANDOM_SEED = i\n",
    "#     np.random.seed(RANDOM_SEED)\n",
    "\n",
    "#     COLS_TO_KEEP = [\"muscle\", \"test 04\", \"test 05\", \"test 06\"]\n",
    "#     TEST_SIZE = 0.2\n",
    "\n",
    "#     X, y, p = get_X_y_p(df_wide, COLS_TO_KEEP)\n",
    "\n",
    "#     X_train, X_test, y_train, y_test = split_data(X, y, p, test_size=0.2)\n",
    "\n",
    "#     float_cols = X.select_dtypes(include=\"float\").columns\n",
    "\n",
    "#     norm_train = Normalize(ref=\"test 05\").fit(X_train)\n",
    "#     X_train = norm_train.transform(X_train)\n",
    "#     y_train = norm_train.transform(y_train)\n",
    "\n",
    "#     norm_test = Normalize(ref=\"test 05\").fit(X_test)\n",
    "#     X_test = norm_test.transform(X_test)\n",
    "#     y_test = norm_test.transform(y_test)\n",
    "\n",
    "#     model = CatBoostRegressor(verbose=False, random_seed=RANDOM_SEED)\n",
    "#     model.fit(X_train, y_train, cat_features=[0])\n",
    "\n",
    "#     y_pred_test = model.predict(X_test)\n",
    "\n",
    "#     d[i] = mape_vector(y_test, y_pred_test).mean()"
   ]
  },
  {
   "cell_type": "code",
   "execution_count": 21,
   "metadata": {},
   "outputs": [],
   "source": [
    "COLS_TO_KEEP = [\"muscle\", \"test 04\", \"test 05\", \"test 06\"]\n",
    "TEST_SIZE = 0.2\n",
    "\n",
    "X, y, p = get_X_y_p(df_wide, COLS_TO_KEEP)\n",
    "\n",
    "X_train, X_test, y_train, y_test = split_data(X, y, p, test_size=0.2)\n",
    "\n",
    "float_cols = X.select_dtypes(include=\"float\").columns\n",
    "\n",
    "norm_train = Normalize(ref=\"test 05\").fit(X_train)\n",
    "X_train = norm_train.transform(X_train)\n",
    "y_train = norm_train.transform(y_train)\n",
    "\n",
    "norm_test = Normalize(ref=\"test 05\").fit(X_test)\n",
    "X_test = norm_test.transform(X_test)\n",
    "y_test = norm_test.transform(y_test)"
   ]
  },
  {
   "cell_type": "code",
   "execution_count": 22,
   "metadata": {},
   "outputs": [
    {
     "data": {
      "text/plain": [
       "<catboost.core.CatBoostRegressor at 0x7fda88e3ccf8>"
      ]
     },
     "execution_count": 22,
     "metadata": {},
     "output_type": "execute_result"
    }
   ],
   "source": [
    "from catboost import CatBoostRegressor\n",
    "\n",
    "model = CatBoostRegressor(verbose=False, random_seed=RANDOM_SEED)\n",
    "model.fit(X_train, y_train, cat_features=[0])"
   ]
  },
  {
   "cell_type": "code",
   "execution_count": 23,
   "metadata": {},
   "outputs": [],
   "source": [
    "y_pred_train = model.predict(X_train)\n",
    "y_pred_test = model.predict(X_test)"
   ]
  },
  {
   "cell_type": "code",
   "execution_count": 24,
   "metadata": {},
   "outputs": [
    {
     "data": {
      "text/html": [
       "<div>\n",
       "<style scoped>\n",
       "    .dataframe tbody tr th:only-of-type {\n",
       "        vertical-align: middle;\n",
       "    }\n",
       "\n",
       "    .dataframe tbody tr th {\n",
       "        vertical-align: top;\n",
       "    }\n",
       "\n",
       "    .dataframe thead th {\n",
       "        text-align: right;\n",
       "    }\n",
       "</style>\n",
       "<table border=\"1\" class=\"dataframe\">\n",
       "  <thead>\n",
       "    <tr style=\"text-align: right;\">\n",
       "      <th></th>\n",
       "      <th>mape</th>\n",
       "      <th>muscle</th>\n",
       "      <th>split</th>\n",
       "    </tr>\n",
       "  </thead>\n",
       "  <tbody>\n",
       "    <tr>\n",
       "      <th>0</th>\n",
       "      <td>0.108509</td>\n",
       "      <td>anterior deltoid</td>\n",
       "      <td>train</td>\n",
       "    </tr>\n",
       "    <tr>\n",
       "      <th>1</th>\n",
       "      <td>0.016882</td>\n",
       "      <td>latissimus dorsi</td>\n",
       "      <td>train</td>\n",
       "    </tr>\n",
       "    <tr>\n",
       "      <th>2</th>\n",
       "      <td>0.091399</td>\n",
       "      <td>lower trapezius</td>\n",
       "      <td>train</td>\n",
       "    </tr>\n",
       "    <tr>\n",
       "      <th>3</th>\n",
       "      <td>0.205286</td>\n",
       "      <td>middle deltoid</td>\n",
       "      <td>train</td>\n",
       "    </tr>\n",
       "    <tr>\n",
       "      <th>4</th>\n",
       "      <td>0.355257</td>\n",
       "      <td>middle trapezius</td>\n",
       "      <td>train</td>\n",
       "    </tr>\n",
       "  </tbody>\n",
       "</table>\n",
       "</div>"
      ],
      "text/plain": [
       "       mape            muscle  split\n",
       "0  0.108509  anterior deltoid  train\n",
       "1  0.016882  latissimus dorsi  train\n",
       "2  0.091399   lower trapezius  train\n",
       "3  0.205286    middle deltoid  train\n",
       "4  0.355257  middle trapezius  train"
      ]
     },
     "execution_count": 24,
     "metadata": {},
     "output_type": "execute_result"
    }
   ],
   "source": [
    "train_eval = (\n",
    "    mape_vector(y_train, y_pred_train)\n",
    "    .rename(\"mape\")\n",
    "    .to_frame()\n",
    "    .assign(muscle=X_train[\"muscle\"], split=\"train\")\n",
    ")\n",
    "test_eval = (\n",
    "    mape_vector(y_test, y_pred_test)\n",
    "    .rename(\"mape\")\n",
    "    .to_frame()\n",
    "    .assign(muscle=X_test[\"muscle\"], split=\"test\")\n",
    ")\n",
    "\n",
    "eval_df = pd.concat([train_eval, test_eval])\n",
    "eval_df.head()"
   ]
  },
  {
   "cell_type": "code",
   "execution_count": 25,
   "metadata": {},
   "outputs": [
    {
     "data": {
      "text/plain": [
       "mape    0.195016\n",
       "dtype: float64"
      ]
     },
     "execution_count": 25,
     "metadata": {},
     "output_type": "execute_result"
    }
   ],
   "source": [
    "eval_df.query('split == \"test\"').mean()"
   ]
  },
  {
   "cell_type": "code",
   "execution_count": 26,
   "metadata": {},
   "outputs": [
    {
     "data": {
      "text/plain": [
       "0.2084800267174536"
      ]
     },
     "execution_count": 26,
     "metadata": {},
     "output_type": "execute_result"
    }
   ],
   "source": [
    "eval_df['mape'].mean()"
   ]
  },
  {
   "cell_type": "code",
   "execution_count": 27,
   "metadata": {},
   "outputs": [
    {
     "data": {
      "application/vnd.vegalite.v2+json": {
       "$schema": "https://vega.github.io/schema/vega-lite/v2.6.0.json",
       "config": {
        "view": {
         "height": 300,
         "width": 400
        }
       },
       "data": {
        "format": {
         "type": "json"
        },
        "url": "altair-data-777c7292f880e5ae1a00ba7192353a22.json"
       },
       "facet": {
        "column": {
         "field": "muscle",
         "sort": [
          "upper trapezius",
          "middle trapezius",
          "lower trapezius",
          "anterior deltoid",
          "middle deltoid",
          "posterior deltoid",
          "pectoralis major",
          "serratus anterior",
          "latissimus dorsi",
          "supraspinatus",
          "infraspinatus",
          "subscapularis"
         ],
         "title": null,
         "type": "nominal"
        }
       },
       "spec": {
        "layer": [
         {
          "encoding": {
           "color": {
            "field": "split",
            "type": "nominal"
           },
           "x": {
            "axis": {
             "domain": false,
             "labels": false,
             "ticks": false
            },
            "field": "split",
            "sort": [
             "train",
             "test"
            ],
            "title": null,
            "type": "nominal"
           },
           "y": {
            "aggregate": "mean",
            "axis": {
             "format": "%"
            },
            "field": "mape",
            "title": "MAPE",
            "type": "quantitative"
           }
          },
          "mark": "bar",
          "width": 65
         },
         {
          "encoding": {
           "x": {
            "axis": {
             "domain": false,
             "labels": false,
             "ticks": false
            },
            "field": "split",
            "sort": [
             "train",
             "test"
            ],
            "title": null,
            "type": "nominal"
           },
           "y": {
            "aggregate": "ci0",
            "field": "mape",
            "type": "quantitative"
           },
           "y2": {
            "aggregate": "ci1",
            "field": "mape",
            "type": "quantitative"
           }
          },
          "mark": "rule",
          "width": 65
         }
        ]
       }
      },
      "image/png": "[encoded data removed]",
      "text/plain": [
       "<VegaLite 2 object>\n",
       "\n",
       "If you see this message, it means the renderer has not been properly enabled\n",
       "for the frontend that you are using. For more information, see\n",
       "https://altair-viz.github.io/user_guide/troubleshooting.html\n"
      ]
     },
     "execution_count": 27,
     "metadata": {},
     "output_type": "execute_result"
    }
   ],
   "source": [
    "base = (\n",
    "    alt.Chart()\n",
    "    .encode(\n",
    "        alt.X(\n",
    "            \"split\",\n",
    "            title=None,\n",
    "            axis=alt.Axis(labels=False, domain=False, ticks=False),\n",
    "            sort=[\"train\", \"test\"],\n",
    "        )\n",
    "    )\n",
    "    .properties(width=65)\n",
    ")\n",
    "\n",
    "bar = base.mark_bar().encode(\n",
    "    alt.Y(\"mean(mape)\", title=\"MAPE\", axis=alt.Axis(format=\"%\")), alt.Color(\"split\")\n",
    ")\n",
    "error = base.mark_rule().encode(alt.Y(\"ci0(mape)\"), alt.Y2(\"ci1(mape)\"))\n",
    "\n",
    "\n",
    "(bar + error).facet(data=eval_df, column=alt.Column(\"muscle\", sort=MUSCLES, title=None))"
   ]
  },
  {
   "cell_type": "code",
   "execution_count": 28,
   "metadata": {},
   "outputs": [
    {
     "data": {
      "application/vnd.vegalite.v2+json": {
       "$schema": "https://vega.github.io/schema/vega-lite/v2.6.0.json",
       "config": {
        "view": {
         "height": 300,
         "width": 400
        }
       },
       "layer": [
        {
         "data": {
          "format": {
           "type": "json"
          },
          "url": "altair-data-2a74220b909b56354cb0b079501e25de.json"
         },
         "encoding": {
          "x": {
           "aggregate": "mean",
           "axis": {
            "format": "%"
           },
           "field": "mape",
           "title": "MAPE",
           "type": "quantitative"
          },
          "y": {
           "field": "muscle",
           "title": null,
           "type": "nominal"
          }
         },
         "mark": {
          "color": "grey",
          "type": "bar"
         }
        },
        {
         "data": {
          "format": {
           "type": "json"
          },
          "url": "altair-data-2a74220b909b56354cb0b079501e25de.json"
         },
         "encoding": {
          "x": {
           "aggregate": "ci0",
           "field": "mape",
           "type": "quantitative"
          },
          "x2": {
           "aggregate": "ci1",
           "field": "mape",
           "type": "quantitative"
          },
          "y": {
           "field": "muscle",
           "title": null,
           "type": "nominal"
          }
         },
         "mark": "rule"
        }
       ]
      },
      "image/png": "[encoded data removed]",
      "text/plain": [
       "<VegaLite 2 object>\n",
       "\n",
       "If you see this message, it means the renderer has not been properly enabled\n",
       "for the frontend that you are using. For more information, see\n",
       "https://altair-viz.github.io/user_guide/troubleshooting.html\n"
      ]
     },
     "execution_count": 28,
     "metadata": {},
     "output_type": "execute_result"
    }
   ],
   "source": [
    "base = alt.Chart(test_eval).encode(alt.Y(\"muscle\", title=None))\n",
    "\n",
    "bar = base.mark_bar(color=\"grey\").encode(\n",
    "    alt.X(\"mean(mape)\", axis=alt.Axis(format=\"%\"), title=\"MAPE\")\n",
    ")\n",
    "error = base.mark_rule().encode(alt.X(\"ci0(mape)\"), alt.X2(\"ci1(mape)\"))\n",
    "\n",
    "bar + error"
   ]
  },
  {
   "cell_type": "code",
   "execution_count": 29,
   "metadata": {},
   "outputs": [
    {
     "data": {
      "application/vnd.vegalite.v2+json": {
       "$schema": "https://vega.github.io/schema/vega-lite/v2.6.0.json",
       "config": {
        "view": {
         "height": 300,
         "width": 400
        }
       },
       "data": {
        "format": {
         "type": "json"
        },
        "url": "altair-data-2a74220b909b56354cb0b079501e25de.json"
       },
       "facet": {},
       "spec": {
        "layer": [
         {
          "encoding": {
           "x": {
            "aggregate": "q3",
            "field": "mape",
            "type": "quantitative"
           },
           "x2": {
            "aggregate": "max",
            "field": "mape",
            "type": "quantitative"
           },
           "y": {
            "field": "muscle",
            "sort": [
             "upper trapezius",
             "middle trapezius",
             "lower trapezius",
             "anterior deltoid",
             "middle deltoid",
             "posterior deltoid",
             "pectoralis major",
             "serratus anterior",
             "latissimus dorsi",
             "supraspinatus",
             "infraspinatus",
             "subscapularis"
            ],
            "title": null,
            "type": "nominal"
           }
          },
          "mark": "rule"
         },
         {
          "encoding": {
           "x": {
            "aggregate": "q1",
            "axis": {
             "format": "%"
            },
            "field": "mape",
            "title": "MAPE",
            "type": "quantitative"
           },
           "x2": {
            "aggregate": "q3",
            "field": "mape",
            "type": "quantitative"
           },
           "y": {
            "field": "muscle",
            "sort": [
             "upper trapezius",
             "middle trapezius",
             "lower trapezius",
             "anterior deltoid",
             "middle deltoid",
             "posterior deltoid",
             "pectoralis major",
             "serratus anterior",
             "latissimus dorsi",
             "supraspinatus",
             "infraspinatus",
             "subscapularis"
            ],
            "title": null,
            "type": "nominal"
           }
          },
          "mark": {
           "color": "grey",
           "type": "bar"
          }
         },
         {
          "encoding": {
           "x": {
            "aggregate": "median",
            "field": "mape",
            "type": "quantitative"
           },
           "y": {
            "field": "muscle",
            "sort": [
             "upper trapezius",
             "middle trapezius",
             "lower trapezius",
             "anterior deltoid",
             "middle deltoid",
             "posterior deltoid",
             "pectoralis major",
             "serratus anterior",
             "latissimus dorsi",
             "supraspinatus",
             "infraspinatus",
             "subscapularis"
            ],
            "title": null,
            "type": "nominal"
           }
          },
          "mark": {
           "color": "white",
           "type": "tick"
          }
         },
         {
          "encoding": {
           "x": {
            "aggregate": "min",
            "field": "mape",
            "type": "quantitative"
           },
           "x2": {
            "aggregate": "q1",
            "field": "mape",
            "type": "quantitative"
           },
           "y": {
            "field": "muscle",
            "sort": [
             "upper trapezius",
             "middle trapezius",
             "lower trapezius",
             "anterior deltoid",
             "middle deltoid",
             "posterior deltoid",
             "pectoralis major",
             "serratus anterior",
             "latissimus dorsi",
             "supraspinatus",
             "infraspinatus",
             "subscapularis"
            ],
            "title": null,
            "type": "nominal"
           }
          },
          "mark": "rule"
         }
        ]
       }
      },
      "image/png": "[encoded data removed]",
      "text/plain": [
       "<VegaLite 2 object>\n",
       "\n",
       "If you see this message, it means the renderer has not been properly enabled\n",
       "for the frontend that you are using. For more information, see\n",
       "https://altair-viz.github.io/user_guide/troubleshooting.html\n"
      ]
     },
     "execution_count": 29,
     "metadata": {},
     "output_type": "execute_result"
    }
   ],
   "source": [
    "base = alt.Chart().encode(alt.Y(\"muscle\", sort=MUSCLES, title=None))\n",
    "\n",
    "bar = base.mark_bar(color=\"grey\").encode(\n",
    "    alt.X(\"q1(mape)\", axis=alt.Axis(format=\"%\"), title=\"MAPE\"), alt.X2(\"q3(mape)\")\n",
    ")\n",
    "lower = base.mark_rule().encode(alt.X(\"min(mape)\"), alt.X2(\"q1(mape)\"))\n",
    "upper = base.mark_rule().encode(alt.X(\"q3(mape)\"), alt.X2(\"max(mape)\"))\n",
    "med = base.mark_tick(color='white').encode(alt.X(\"median(mape)\"))\n",
    "\n",
    "(upper + bar + med + lower).facet(data=test_eval)"
   ]
  },
  {
   "cell_type": "markdown",
   "metadata": {},
   "source": [
    "# Part 4: Comparison with other studies"
   ]
  },
  {
   "cell_type": "code",
   "execution_count": 30,
   "metadata": {},
   "outputs": [],
   "source": [
    "import pickle\n",
    "\n",
    "RECOMMANDATIONS_PATH = MODEL_PATH / \"recommandations.pkl\"\n",
    "if RECOMMANDATIONS_PATH.is_file():\n",
    "    with open(RECOMMANDATIONS_PATH, \"rb\") as h:\n",
    "        recommandations = pickle.load(h)\n",
    "else:\n",
    "    recommandations = {}"
   ]
  },
  {
   "cell_type": "markdown",
   "metadata": {},
   "source": [
    "## Boettcher et al., 2008\n",
    "\n",
    "[Boettcher et al., 2008](https://onlinelibrary.wiley.com/doi/abs/10.1002/jor.20675) identified a unique combinations of 4 MVIC tests to normalize 12 shoulder muscles"
   ]
  },
  {
   "cell_type": "code",
   "execution_count": 31,
   "metadata": {},
   "outputs": [],
   "source": [
    "if not RECOMMANDATIONS_PATH.is_file():\n",
    "    recommandations[\"NT4\"] = {\n",
    "        i: [\"test 12\", \"test 13\", \"test 14\", \"test 15\"] for i in MUSCLES\n",
    "    }"
   ]
  },
  {
   "cell_type": "markdown",
   "metadata": {
    "toc-hr-collapsed": true
   },
   "source": [
    "## Dal Maso et al., 2016"
   ]
  },
  {
   "cell_type": "markdown",
   "metadata": {},
   "source": [
    "[Dal Maso et al., 2016](https://www.sciencedirect.com/science/article/pii/S0003999316000307)"
   ]
  },
  {
   "cell_type": "markdown",
   "metadata": {},
   "source": [
    "### As published"
   ]
  },
  {
   "cell_type": "code",
   "execution_count": 32,
   "metadata": {},
   "outputs": [],
   "source": [
    "if not RECOMMANDATIONS_PATH.is_file():\n",
    "    recommandations[\"DM\"] = {\n",
    "        \"upper trapezius\": [\"test 01\", \"test 03\", \"test 05\", \"test 12\"],\n",
    "        \"middle trapezius\": [\n",
    "            \"test 02\",\n",
    "            \"test 03\",\n",
    "            \"test 08\",\n",
    "            \"test 10\",\n",
    "            \"test 12\",\n",
    "            \"test 15\",\n",
    "        ],\n",
    "        \"lower trapezius\": [\"test 02\", \"test 03\", \"test 05\", \"test 11\", \"test 15\"],\n",
    "        \"anterior deltoid\": [\"test 04\", \"test 05\", \"test 09\", \"test 12\"],\n",
    "        \"middle deltoid\": [\"test 03\", \"test 09\", \"test 12\", \"test 15\"],\n",
    "        \"posterior deltoid\": [\"test 02\", \"test 06\"],\n",
    "        \"pectoralis major\": [\"test 08\", \"test 14\"],\n",
    "        \"serratus anterior\": [\"test 03\", \"test 05\", \"test 07\", \"test 14\", \"test 15\"],\n",
    "        \"latissimus dorsi\": [\"test 06\", \"test 07\", \"test 08\", \"test 11\"],\n",
    "        \"supraspinatus\": [\"test 01\", \"test 03\", \"test 05\", \"test 12\"],\n",
    "        \"infraspinatus\": [\"test 02\", \"test 03\", \"test 04\", \"test 15\"],\n",
    "        \"subscapularis\": [\n",
    "            \"test 02\",\n",
    "            \"test 03\",\n",
    "            \"test 06\",\n",
    "            \"test 10\",\n",
    "            \"test 11\",\n",
    "            \"test 15\",\n",
    "        ],\n",
    "    }"
   ]
  },
  {
   "cell_type": "markdown",
   "metadata": {},
   "source": [
    "### Implemented on our data"
   ]
  },
  {
   "cell_type": "code",
   "execution_count": 33,
   "metadata": {},
   "outputs": [],
   "source": [
    "def compute_criterion(d, sets, thr):\n",
    "    proportion = np.ones((sets.shape[0]))\n",
    "    for i, iset in enumerate(sets):\n",
    "        maximal_above_thr = d[iset].max(axis=1) > d.max(axis=1) * (thr / 100)\n",
    "        proportion[i] = maximal_above_thr.sum() / d.shape[0] * 100\n",
    "\n",
    "    sorted_idx = np.argsort(proportion)\n",
    "    best_set = sets[sorted_idx][-1]\n",
    "    best_proportion = proportion[sorted_idx][-1]\n",
    "    return best_set, best_proportion"
   ]
  },
  {
   "cell_type": "code",
   "execution_count": 34,
   "metadata": {},
   "outputs": [
    {
     "name": "stdout",
     "output_type": "stream",
     "text": [
      "{'upper trapezius': array(['test 01', 'test 03', 'test 05'], dtype='<U7'), 'middle trapezius': array(['test 02', 'test 03', 'test 05', 'test 09', 'test 10', 'test 15'],\n",
      "      dtype='<U7'), 'lower trapezius': array(['test 02', 'test 03', 'test 04', 'test 06', 'test 15'], dtype='<U7'), 'anterior deltoid': array(['test 03', 'test 04', 'test 05', 'test 09', 'test 15', 'test 16'],\n",
      "      dtype='<U7'), 'middle deltoid': array(['test 01', 'test 03', 'test 04', 'test 05', 'test 15'], dtype='<U7'), 'posterior deltoid': array(['test 02', 'test 03', 'test 06'], dtype='<U7'), 'pectoralis major': array(['test 08', 'test 14'], dtype='<U7'), 'serratus anterior': array(['test 01', 'test 03', 'test 04', 'test 05', 'test 15'], dtype='<U7'), 'latissimus dorsi': array(['test 06', 'test 07', 'test 11'], dtype='<U7'), 'supraspinatus': array(['test 01', 'test 03', 'test 04', 'test 05', 'test 09'], dtype='<U7'), 'infraspinatus': array(['test 03', 'test 04', 'test 06', 'test 10', 'test 11', 'test 15'],\n",
      "      dtype='<U7'), 'subscapularis': array(['test 02', 'test 03', 'test 05', 'test 06', 'test 10', 'test 11',\n",
      "       'test 15'], dtype='<U7')}\n"
     ]
    }
   ],
   "source": [
    "from itertools import combinations\n",
    "\n",
    "THRESHOLD = 90\n",
    "PERCENTILE = 90\n",
    "TESTS = [i for i in df_wide.columns if i[:4] == \"test\"]\n",
    "\n",
    "if RECOMMANDATIONS_PATH.is_file():\n",
    "    print(recommandations[\"DM updated\"])\n",
    "else:\n",
    "    recommandations[\"DM updated\"] = {}\n",
    "    for imuscle in MUSCLES:\n",
    "        X_train_comp = df_wide.loc[X_train.index].query(\"muscle == @imuscle\")[TESTS]\n",
    "        print(f\"{imuscle.upper()} ({X_train_comp.shape[0]} points)\")\n",
    "\n",
    "        for ntests in range(1, len(TESTS) + 1):\n",
    "            sets = np.array(list(combinations(TESTS, ntests)))\n",
    "            best_set, best_proportion = compute_criterion(X_train_comp, sets, thr=THRESHOLD)\n",
    "\n",
    "            if best_proportion > PERCENTILE:\n",
    "                print(f\"\\tno. of tests: {ntests}\")\n",
    "                print(f\"\\tbest set: {best_set}\")\n",
    "                print(f\"\\tproportion: {best_proportion:.2f}\")\n",
    "                print(\"-\" * 10)\n",
    "                recommandations[\"DM updated\"][imuscle] = best_set\n",
    "                break\n",
    "    with open(RECOMMANDATIONS_PATH, \"wb\") as h:\n",
    "        pickle.dump(recommandations, h)"
   ]
  },
  {
   "cell_type": "markdown",
   "metadata": {},
   "source": [
    "## Compare Boettcher & Dal Maso with our model"
   ]
  },
  {
   "cell_type": "markdown",
   "metadata": {},
   "source": [
    "### MAPE for each method"
   ]
  },
  {
   "cell_type": "code",
   "execution_count": 35,
   "metadata": {},
   "outputs": [],
   "source": [
    "test_comparison = df_wide.drop([\"dataset\", \"participant\"], axis=1).loc[X_test.index]\n",
    "\n",
    "r = []\n",
    "for imuscle in MUSCLES:\n",
    "    current = test_comparison.query(\"muscle == @imuscle\").drop(\"muscle\", axis=1)\n",
    "    for imethod in recommandations.keys():\n",
    "        r.append(\n",
    "            mape_vector(\n",
    "                current.max(axis=1),\n",
    "                current[recommandations[imethod][imuscle]].max(axis=1),\n",
    "            )\n",
    "            .rename(\"mape\")\n",
    "            .to_frame()\n",
    "            .assign(method=imethod, muscle=imuscle)\n",
    "        )\n",
    "\n",
    "df_comp = pd.concat(\n",
    "    r + [test_eval.drop(\"split\", axis=1).assign(method=\"ML3\")], sort=False\n",
    ")"
   ]
  },
  {
   "cell_type": "code",
   "execution_count": 36,
   "metadata": {},
   "outputs": [
    {
     "data": {
      "application/vnd.vegalite.v2+json": {
       "$schema": "https://vega.github.io/schema/vega-lite/v2.6.0.json",
       "config": {
        "view": {
         "height": 300,
         "width": 400
        }
       },
       "data": {
        "format": {
         "type": "json"
        },
        "url": "altair-data-a239557d75041bd26ced67f63afdcaa0.json"
       },
       "encoding": {
        "color": {
         "field": "method",
         "type": "nominal"
        },
        "column": {
         "field": "muscle",
         "sort": [
          "upper trapezius",
          "middle trapezius",
          "lower trapezius",
          "anterior deltoid",
          "middle deltoid",
          "posterior deltoid",
          "pectoralis major",
          "serratus anterior",
          "latissimus dorsi",
          "supraspinatus",
          "infraspinatus",
          "subscapularis"
         ],
         "title": null,
         "type": "nominal"
        },
        "x": {
         "axis": {
          "labels": false,
          "title": ""
         },
         "field": "method",
         "type": "nominal"
        },
        "y": {
         "aggregate": "missing",
         "field": "mape",
         "type": "quantitative"
        }
       },
       "mark": "bar",
       "width": 65
      },
      "image/png": "[encoded data removed]",
      "text/plain": [
       "<VegaLite 2 object>\n",
       "\n",
       "If you see this message, it means the renderer has not been properly enabled\n",
       "for the frontend that you are using. For more information, see\n",
       "https://altair-viz.github.io/user_guide/troubleshooting.html\n"
      ]
     },
     "execution_count": 36,
     "metadata": {},
     "output_type": "execute_result"
    }
   ],
   "source": [
    "alt.Chart(df_comp).mark_bar().encode(\n",
    "    alt.X(\"method\", axis=alt.Axis(title=\"\", labels=False)),\n",
    "    alt.Y(\"missing(mape)\"),\n",
    "    alt.Color(\"method\"),\n",
    "    alt.Column(\"muscle\", sort=MUSCLES, title=None),\n",
    ").properties(width=65)"
   ]
  },
  {
   "cell_type": "markdown",
   "metadata": {},
   "source": [
    "### Non-parametric stats"
   ]
  },
  {
   "cell_type": "code",
   "execution_count": 37,
   "metadata": {},
   "outputs": [
    {
     "name": "stdout",
     "output_type": "stream",
     "text": [
      "ML3 vs. NT4\n",
      "\tupper trapezius: ML3 < NT4\n",
      "\tmiddle trapezius: no differences\n",
      "\tlower trapezius: ML3 < NT4\n",
      "\tanterior deltoid: ML3 < NT4\n",
      "\tmiddle deltoid: ML3 < NT4\n",
      "\tposterior deltoid: ML3 < NT4\n",
      "\tpectoralis major: no differences\n",
      "\tserratus anterior: no differences\n",
      "\tlatissimus dorsi: ML3 < NT4\n",
      "\tsupraspinatus: ML3 < NT4\n",
      "\tinfraspinatus: no differences\n",
      "\tsubscapularis: ML3 < NT4\n",
      "ML3 vs. DM UPDATED\n",
      "\tupper trapezius: ML3 > DM updated\n",
      "\tmiddle trapezius: ML3 > DM updated\n",
      "\tlower trapezius: ML3 > DM updated\n",
      "\tanterior deltoid: ML3 > DM updated\n",
      "\tmiddle deltoid: ML3 > DM updated\n",
      "\tposterior deltoid: ML3 > DM updated\n",
      "\tpectoralis major: ML3 > DM updated\n",
      "\tserratus anterior: ML3 > DM updated\n",
      "\tlatissimus dorsi: ML3 > DM updated\n",
      "\tsupraspinatus: ML3 > DM updated\n",
      "\tinfraspinatus: ML3 > DM updated\n",
      "\tsubscapularis: ML3 > DM updated\n",
      "ML3 vs. DM\n",
      "\tupper trapezius: ML3 > DM\n",
      "\tmiddle trapezius: ML3 > DM\n",
      "\tlower trapezius: ML3 > DM\n",
      "\tanterior deltoid: ML3 > DM\n",
      "\tmiddle deltoid: no differences\n",
      "\tposterior deltoid: ML3 > DM\n",
      "\tpectoralis major: ML3 > DM\n",
      "\tserratus anterior: ML3 > DM\n",
      "\tlatissimus dorsi: ML3 > DM\n",
      "\tsupraspinatus: ML3 > DM\n",
      "\tinfraspinatus: no differences\n",
      "\tsubscapularis: ML3 > DM\n",
      "NT4 vs. DM UPDATED\n",
      "\tupper trapezius: NT4 > DM updated\n",
      "\tmiddle trapezius: NT4 > DM updated\n",
      "\tlower trapezius: NT4 > DM updated\n",
      "\tanterior deltoid: NT4 > DM updated\n",
      "\tmiddle deltoid: NT4 > DM updated\n",
      "\tposterior deltoid: NT4 > DM updated\n",
      "\tpectoralis major: NT4 > DM updated\n",
      "\tserratus anterior: NT4 > DM updated\n",
      "\tlatissimus dorsi: NT4 > DM updated\n",
      "\tsupraspinatus: NT4 > DM updated\n",
      "\tinfraspinatus: NT4 > DM updated\n",
      "\tsubscapularis: NT4 > DM updated\n",
      "NT4 vs. DM\n",
      "\tupper trapezius: NT4 > DM\n",
      "\tmiddle trapezius: NT4 > DM\n",
      "\tlower trapezius: NT4 > DM\n",
      "\tanterior deltoid: NT4 > DM\n",
      "\tmiddle deltoid: NT4 > DM\n",
      "\tposterior deltoid: NT4 > DM\n",
      "\tpectoralis major: NT4 > DM\n",
      "\tserratus anterior: NT4 > DM\n",
      "\tlatissimus dorsi: NT4 > DM\n",
      "\tsupraspinatus: NT4 > DM\n",
      "\tinfraspinatus: NT4 > DM\n",
      "\tsubscapularis: NT4 > DM\n",
      "DM UPDATED vs. DM\n",
      "\tupper trapezius: no differences\n",
      "\tmiddle trapezius: no differences\n",
      "\tlower trapezius: no differences\n",
      "\tanterior deltoid: DM updated < DM\n",
      "\tmiddle deltoid: DM updated < DM\n",
      "\tposterior deltoid: no differences\n"
     ]
    },
    {
     "name": "stderr",
     "output_type": "stream",
     "text": [
      "/home/romain/miniconda3/envs/mvc/lib/python3.7/site-packages/spm1d/stats/nonparam/calculators.py:34: RuntimeWarning: invalid value encountered in double_scalars\n",
      "  return y.mean(axis=0) / (  y.std(axis=0, ddof=1) / self.sqrtN  )\n",
      "/home/romain/miniconda3/envs/mvc/lib/python3.7/site-packages/numpy/lib/function_base.py:3826: RuntimeWarning: Invalid value encountered in percentile\n",
      "  interpolation=interpolation)\n",
      "/home/romain/miniconda3/envs/mvc/lib/python3.7/site-packages/spm1d/stats/nonparam/permuters.py:48: RuntimeWarning: invalid value encountered in less\n",
      "  p     = 2 * ( self.Z < z ).mean()\n"
     ]
    },
    {
     "name": "stdout",
     "output_type": "stream",
     "text": [
      "\tpectoralis major: no differences\n",
      "\tserratus anterior: no differences\n",
      "\tlatissimus dorsi: no differences\n",
      "\tsupraspinatus: no differences\n",
      "\tinfraspinatus: no differences\n",
      "\tsubscapularis: no differences\n"
     ]
    }
   ],
   "source": [
    "from sklearn.impute import SimpleImputer\n",
    "import spm1d\n",
    "\n",
    "ALPHA = 0.05\n",
    "N_ITER = 10000\n",
    "p_value = {}\n",
    "\n",
    "for imethod in combinations(set(df_comp[\"method\"].unique()), 2):\n",
    "    print(f\"{imethod[0].upper()} vs. {imethod[1].upper()}\")\n",
    "    p_value[imethod] = {}\n",
    "    for imuscle in MUSCLES:\n",
    "\n",
    "        a = df_comp.query(f'muscle == \"{imuscle}\" & method == \"{imethod[0]}\"')[\n",
    "            \"mape\"\n",
    "        ].values.reshape(-1, 1)\n",
    "        b = df_comp.query(f'muscle == \"{imuscle}\" & method == \"{imethod[1]}\"')[\n",
    "            \"mape\"\n",
    "        ].values.reshape(-1, 1)\n",
    "\n",
    "        a = SimpleImputer(strategy=\"median\").fit_transform(a)\n",
    "        b = SimpleImputer(strategy=\"median\").fit_transform(b)\n",
    "\n",
    "        ttest = spm1d.stats.nonparam.ttest_paired(a.ravel(), b.ravel())\n",
    "        ttesti = ttest.inference(alpha=ALPHA, iterations=N_ITER, two_tailed=True)\n",
    "\n",
    "        if ttesti.h0reject:\n",
    "            direction = \">\" if a.mean() > b.mean() else \"<\"\n",
    "            string = f\"{imethod[0]} {direction} {imethod[1]}\"\n",
    "            p_value[imethod][imuscle] = ttesti.p\n",
    "        else:\n",
    "            string = \"no differences\"\n",
    "            p_value[imethod][imuscle] = np.nan\n",
    "\n",
    "        print(f\"\\t{imuscle}: {string}\")"
   ]
  },
  {
   "cell_type": "code",
   "execution_count": 40,
   "metadata": {},
   "outputs": [
    {
     "data": {
      "text/html": [
       "<div>\n",
       "<style scoped>\n",
       "    .dataframe tbody tr th:only-of-type {\n",
       "        vertical-align: middle;\n",
       "    }\n",
       "\n",
       "    .dataframe tbody tr th {\n",
       "        vertical-align: top;\n",
       "    }\n",
       "\n",
       "    .dataframe thead th {\n",
       "        text-align: right;\n",
       "    }\n",
       "</style>\n",
       "<table border=\"1\" class=\"dataframe\">\n",
       "  <thead>\n",
       "    <tr style=\"text-align: right;\">\n",
       "      <th></th>\n",
       "      <th>ML3 vs NT4</th>\n",
       "      <th>ML3 vs DM updated</th>\n",
       "      <th>ML3 vs DM</th>\n",
       "      <th>NT4 vs DM updated</th>\n",
       "      <th>NT4 vs DM</th>\n",
       "      <th>DM updated vs DM</th>\n",
       "    </tr>\n",
       "  </thead>\n",
       "  <tbody>\n",
       "    <tr>\n",
       "      <th>anterior deltoid</th>\n",
       "      <td>0.0142</td>\n",
       "      <td>0.0001</td>\n",
       "      <td>0.0040</td>\n",
       "      <td>0.0001</td>\n",
       "      <td>0.0030</td>\n",
       "      <td>0.0001</td>\n",
       "    </tr>\n",
       "    <tr>\n",
       "      <th>infraspinatus</th>\n",
       "      <td>NaN</td>\n",
       "      <td>0.0046</td>\n",
       "      <td>NaN</td>\n",
       "      <td>0.0002</td>\n",
       "      <td>0.0016</td>\n",
       "      <td>NaN</td>\n",
       "    </tr>\n",
       "    <tr>\n",
       "      <th>latissimus dorsi</th>\n",
       "      <td>0.0012</td>\n",
       "      <td>0.0001</td>\n",
       "      <td>0.0001</td>\n",
       "      <td>0.0001</td>\n",
       "      <td>0.0001</td>\n",
       "      <td>NaN</td>\n",
       "    </tr>\n",
       "    <tr>\n",
       "      <th>lower trapezius</th>\n",
       "      <td>0.0024</td>\n",
       "      <td>0.0001</td>\n",
       "      <td>0.0001</td>\n",
       "      <td>0.0001</td>\n",
       "      <td>0.0001</td>\n",
       "      <td>NaN</td>\n",
       "    </tr>\n",
       "    <tr>\n",
       "      <th>middle deltoid</th>\n",
       "      <td>0.0002</td>\n",
       "      <td>0.0002</td>\n",
       "      <td>NaN</td>\n",
       "      <td>0.0001</td>\n",
       "      <td>0.0001</td>\n",
       "      <td>0.0082</td>\n",
       "    </tr>\n",
       "    <tr>\n",
       "      <th>middle trapezius</th>\n",
       "      <td>NaN</td>\n",
       "      <td>0.0001</td>\n",
       "      <td>0.0001</td>\n",
       "      <td>0.0001</td>\n",
       "      <td>0.0001</td>\n",
       "      <td>NaN</td>\n",
       "    </tr>\n",
       "    <tr>\n",
       "      <th>pectoralis major</th>\n",
       "      <td>NaN</td>\n",
       "      <td>0.0001</td>\n",
       "      <td>0.0001</td>\n",
       "      <td>0.0001</td>\n",
       "      <td>0.0001</td>\n",
       "      <td>NaN</td>\n",
       "    </tr>\n",
       "    <tr>\n",
       "      <th>posterior deltoid</th>\n",
       "      <td>0.0001</td>\n",
       "      <td>0.0001</td>\n",
       "      <td>0.0001</td>\n",
       "      <td>0.0001</td>\n",
       "      <td>0.0001</td>\n",
       "      <td>NaN</td>\n",
       "    </tr>\n",
       "    <tr>\n",
       "      <th>serratus anterior</th>\n",
       "      <td>NaN</td>\n",
       "      <td>0.0008</td>\n",
       "      <td>0.0064</td>\n",
       "      <td>0.0002</td>\n",
       "      <td>0.0002</td>\n",
       "      <td>NaN</td>\n",
       "    </tr>\n",
       "    <tr>\n",
       "      <th>subscapularis</th>\n",
       "      <td>0.0054</td>\n",
       "      <td>0.0004</td>\n",
       "      <td>0.0012</td>\n",
       "      <td>0.0001</td>\n",
       "      <td>0.0002</td>\n",
       "      <td>NaN</td>\n",
       "    </tr>\n",
       "    <tr>\n",
       "      <th>supraspinatus</th>\n",
       "      <td>0.0024</td>\n",
       "      <td>0.0001</td>\n",
       "      <td>0.0012</td>\n",
       "      <td>0.0001</td>\n",
       "      <td>0.0001</td>\n",
       "      <td>NaN</td>\n",
       "    </tr>\n",
       "    <tr>\n",
       "      <th>upper trapezius</th>\n",
       "      <td>0.0001</td>\n",
       "      <td>0.0001</td>\n",
       "      <td>0.0001</td>\n",
       "      <td>0.0001</td>\n",
       "      <td>0.0001</td>\n",
       "      <td>NaN</td>\n",
       "    </tr>\n",
       "  </tbody>\n",
       "</table>\n",
       "</div>"
      ],
      "text/plain": [
       "                   ML3 vs NT4  ML3 vs DM updated  ML3 vs DM  \\\n",
       "anterior deltoid       0.0142             0.0001     0.0040   \n",
       "infraspinatus             NaN             0.0046        NaN   \n",
       "latissimus dorsi       0.0012             0.0001     0.0001   \n",
       "lower trapezius        0.0024             0.0001     0.0001   \n",
       "middle deltoid         0.0002             0.0002        NaN   \n",
       "middle trapezius          NaN             0.0001     0.0001   \n",
       "pectoralis major          NaN             0.0001     0.0001   \n",
       "posterior deltoid      0.0001             0.0001     0.0001   \n",
       "serratus anterior         NaN             0.0008     0.0064   \n",
       "subscapularis          0.0054             0.0004     0.0012   \n",
       "supraspinatus          0.0024             0.0001     0.0012   \n",
       "upper trapezius        0.0001             0.0001     0.0001   \n",
       "\n",
       "                   NT4 vs DM updated  NT4 vs DM  DM updated vs DM  \n",
       "anterior deltoid              0.0001     0.0030            0.0001  \n",
       "infraspinatus                 0.0002     0.0016               NaN  \n",
       "latissimus dorsi              0.0001     0.0001               NaN  \n",
       "lower trapezius               0.0001     0.0001               NaN  \n",
       "middle deltoid                0.0001     0.0001            0.0082  \n",
       "middle trapezius              0.0001     0.0001               NaN  \n",
       "pectoralis major              0.0001     0.0001               NaN  \n",
       "posterior deltoid             0.0001     0.0001               NaN  \n",
       "serratus anterior             0.0002     0.0002               NaN  \n",
       "subscapularis                 0.0001     0.0002               NaN  \n",
       "supraspinatus                 0.0001     0.0001               NaN  \n",
       "upper trapezius               0.0001     0.0001               NaN  "
      ]
     },
     "execution_count": 40,
     "metadata": {},
     "output_type": "execute_result"
    }
   ],
   "source": [
    "p = pd.DataFrame(p_value).T.reset_index()\n",
    "p = (\n",
    "    p.set_index(p[\"level_0\"] + \" vs \" + p[\"level_1\"])\n",
    "    .drop([\"level_0\", \"level_1\"], axis=1)\n",
    "    .T\n",
    ")\n",
    "p"
   ]
  },
  {
   "cell_type": "code",
   "execution_count": 41,
   "metadata": {},
   "outputs": [
    {
     "data": {
      "text/html": [
       "<div>\n",
       "<style scoped>\n",
       "    .dataframe tbody tr th:only-of-type {\n",
       "        vertical-align: middle;\n",
       "    }\n",
       "\n",
       "    .dataframe tbody tr th {\n",
       "        vertical-align: top;\n",
       "    }\n",
       "\n",
       "    .dataframe thead th {\n",
       "        text-align: right;\n",
       "    }\n",
       "</style>\n",
       "<table border=\"1\" class=\"dataframe\">\n",
       "  <thead>\n",
       "    <tr style=\"text-align: right;\">\n",
       "      <th></th>\n",
       "      <th>ML3 vs NT4</th>\n",
       "      <th>ML3 vs DM updated</th>\n",
       "      <th>ML3 vs DM</th>\n",
       "      <th>NT4 vs DM updated</th>\n",
       "      <th>NT4 vs DM</th>\n",
       "      <th>DM updated vs DM</th>\n",
       "    </tr>\n",
       "  </thead>\n",
       "  <tbody>\n",
       "    <tr>\n",
       "      <th>anterior deltoid</th>\n",
       "      <td>*</td>\n",
       "      <td>****</td>\n",
       "      <td>**</td>\n",
       "      <td>****</td>\n",
       "      <td>**</td>\n",
       "      <td>****</td>\n",
       "    </tr>\n",
       "    <tr>\n",
       "      <th>infraspinatus</th>\n",
       "      <td>NaN</td>\n",
       "      <td>**</td>\n",
       "      <td>NaN</td>\n",
       "      <td>***</td>\n",
       "      <td>**</td>\n",
       "      <td>NaN</td>\n",
       "    </tr>\n",
       "    <tr>\n",
       "      <th>latissimus dorsi</th>\n",
       "      <td>**</td>\n",
       "      <td>****</td>\n",
       "      <td>****</td>\n",
       "      <td>****</td>\n",
       "      <td>****</td>\n",
       "      <td>NaN</td>\n",
       "    </tr>\n",
       "    <tr>\n",
       "      <th>lower trapezius</th>\n",
       "      <td>**</td>\n",
       "      <td>****</td>\n",
       "      <td>****</td>\n",
       "      <td>****</td>\n",
       "      <td>****</td>\n",
       "      <td>NaN</td>\n",
       "    </tr>\n",
       "    <tr>\n",
       "      <th>middle deltoid</th>\n",
       "      <td>***</td>\n",
       "      <td>***</td>\n",
       "      <td>NaN</td>\n",
       "      <td>****</td>\n",
       "      <td>****</td>\n",
       "      <td>**</td>\n",
       "    </tr>\n",
       "    <tr>\n",
       "      <th>middle trapezius</th>\n",
       "      <td>NaN</td>\n",
       "      <td>****</td>\n",
       "      <td>****</td>\n",
       "      <td>****</td>\n",
       "      <td>****</td>\n",
       "      <td>NaN</td>\n",
       "    </tr>\n",
       "    <tr>\n",
       "      <th>pectoralis major</th>\n",
       "      <td>NaN</td>\n",
       "      <td>****</td>\n",
       "      <td>****</td>\n",
       "      <td>****</td>\n",
       "      <td>****</td>\n",
       "      <td>NaN</td>\n",
       "    </tr>\n",
       "    <tr>\n",
       "      <th>posterior deltoid</th>\n",
       "      <td>****</td>\n",
       "      <td>****</td>\n",
       "      <td>****</td>\n",
       "      <td>****</td>\n",
       "      <td>****</td>\n",
       "      <td>NaN</td>\n",
       "    </tr>\n",
       "    <tr>\n",
       "      <th>serratus anterior</th>\n",
       "      <td>NaN</td>\n",
       "      <td>***</td>\n",
       "      <td>**</td>\n",
       "      <td>***</td>\n",
       "      <td>***</td>\n",
       "      <td>NaN</td>\n",
       "    </tr>\n",
       "    <tr>\n",
       "      <th>subscapularis</th>\n",
       "      <td>**</td>\n",
       "      <td>***</td>\n",
       "      <td>**</td>\n",
       "      <td>****</td>\n",
       "      <td>***</td>\n",
       "      <td>NaN</td>\n",
       "    </tr>\n",
       "    <tr>\n",
       "      <th>supraspinatus</th>\n",
       "      <td>**</td>\n",
       "      <td>****</td>\n",
       "      <td>**</td>\n",
       "      <td>****</td>\n",
       "      <td>****</td>\n",
       "      <td>NaN</td>\n",
       "    </tr>\n",
       "    <tr>\n",
       "      <th>upper trapezius</th>\n",
       "      <td>****</td>\n",
       "      <td>****</td>\n",
       "      <td>****</td>\n",
       "      <td>****</td>\n",
       "      <td>****</td>\n",
       "      <td>NaN</td>\n",
       "    </tr>\n",
       "  </tbody>\n",
       "</table>\n",
       "</div>"
      ],
      "text/plain": [
       "                  ML3 vs NT4 ML3 vs DM updated ML3 vs DM NT4 vs DM updated  \\\n",
       "anterior deltoid           *              ****        **              ****   \n",
       "infraspinatus            NaN                **       NaN               ***   \n",
       "latissimus dorsi          **              ****      ****              ****   \n",
       "lower trapezius           **              ****      ****              ****   \n",
       "middle deltoid           ***               ***       NaN              ****   \n",
       "middle trapezius         NaN              ****      ****              ****   \n",
       "pectoralis major         NaN              ****      ****              ****   \n",
       "posterior deltoid       ****              ****      ****              ****   \n",
       "serratus anterior        NaN               ***        **               ***   \n",
       "subscapularis             **               ***        **              ****   \n",
       "supraspinatus             **              ****        **              ****   \n",
       "upper trapezius         ****              ****      ****              ****   \n",
       "\n",
       "                  NT4 vs DM DM updated vs DM  \n",
       "anterior deltoid         **             ****  \n",
       "infraspinatus            **              NaN  \n",
       "latissimus dorsi       ****              NaN  \n",
       "lower trapezius        ****              NaN  \n",
       "middle deltoid         ****               **  \n",
       "middle trapezius       ****              NaN  \n",
       "pectoralis major       ****              NaN  \n",
       "posterior deltoid      ****              NaN  \n",
       "serratus anterior       ***              NaN  \n",
       "subscapularis           ***              NaN  \n",
       "supraspinatus          ****              NaN  \n",
       "upper trapezius        ****              NaN  "
      ]
     },
     "execution_count": 41,
     "metadata": {},
     "output_type": "execute_result"
    }
   ],
   "source": [
    "pd.cut(\n",
    "    p.stack(),\n",
    "    bins=[-np.inf, 0.0001, 0.001, 0.01, 0.05, np.inf],\n",
    "    labels=[\"****\", \"***\", \"**\", \"*\", \"ns\"],\n",
    ").unstack()"
   ]
  },
  {
   "cell_type": "code",
   "execution_count": 44,
   "metadata": {},
   "outputs": [
    {
     "data": {
      "application/vnd.vegalite.v2+json": {
       "$schema": "https://vega.github.io/schema/vega-lite/v2.6.0.json",
       "config": {
        "view": {
         "height": 300,
         "width": 400
        }
       },
       "layer": [
        {
         "data": {
          "format": {
           "type": "json"
          },
          "url": "altair-data-a239557d75041bd26ced67f63afdcaa0.json"
         },
         "encoding": {
          "x": {
           "aggregate": "mean",
           "axis": {
            "format": "%"
           },
           "field": "mape",
           "title": "MAPE",
           "type": "quantitative"
          },
          "y": {
           "field": "method",
           "title": null,
           "type": "nominal"
          }
         },
         "mark": {
          "color": "grey",
          "type": "bar"
         }
        },
        {
         "data": {
          "format": {
           "type": "json"
          },
          "url": "altair-data-a239557d75041bd26ced67f63afdcaa0.json"
         },
         "encoding": {
          "x": {
           "aggregate": "ci0",
           "field": "mape",
           "type": "quantitative"
          },
          "x2": {
           "aggregate": "ci1",
           "field": "mape",
           "type": "quantitative"
          },
          "y": {
           "field": "method",
           "title": null,
           "type": "nominal"
          }
         },
         "mark": "rule"
        }
       ]
      },
      "image/png": "[encoded data removed]",
      "text/plain": [
       "<VegaLite 2 object>\n",
       "\n",
       "If you see this message, it means the renderer has not been properly enabled\n",
       "for the frontend that you are using. For more information, see\n",
       "https://altair-viz.github.io/user_guide/troubleshooting.html\n"
      ]
     },
     "execution_count": 44,
     "metadata": {},
     "output_type": "execute_result"
    }
   ],
   "source": [
    "base = alt.Chart(df_comp).encode(alt.Y(\"method\", title=None))\n",
    "\n",
    "bar = base.mark_bar(color=\"grey\").encode(\n",
    "    alt.X(\"mean(mape)\", axis=alt.Axis(format=\"%\"), title=\"MAPE\")\n",
    ")\n",
    "error = base.mark_rule().encode(alt.X(\"ci0(mape)\"), alt.X2(\"ci1(mape)\"))\n",
    "\n",
    "bar + error"
   ]
  },
  {
   "cell_type": "code",
   "execution_count": 45,
   "metadata": {},
   "outputs": [
    {
     "data": {
      "application/vnd.vegalite.v2+json": {
       "$schema": "https://vega.github.io/schema/vega-lite/v2.6.0.json",
       "config": {
        "view": {
         "height": 300,
         "width": 400
        }
       },
       "layer": [
        {
         "data": {
          "format": {
           "type": "json"
          },
          "url": "altair-data-a239557d75041bd26ced67f63afdcaa0.json"
         },
         "encoding": {
          "x": {
           "aggregate": "q1",
           "axis": {
            "format": "%"
           },
           "field": "mape",
           "title": "MAPE",
           "type": "quantitative"
          },
          "x2": {
           "aggregate": "q3",
           "field": "mape",
           "type": "quantitative"
          },
          "y": {
           "field": "method",
           "title": null,
           "type": "nominal"
          }
         },
         "mark": {
          "color": "grey",
          "type": "bar"
         }
        },
        {
         "data": {
          "format": {
           "type": "json"
          },
          "url": "altair-data-a239557d75041bd26ced67f63afdcaa0.json"
         },
         "encoding": {
          "x": {
           "aggregate": "median",
           "field": "mape",
           "type": "quantitative"
          },
          "y": {
           "field": "method",
           "title": null,
           "type": "nominal"
          }
         },
         "mark": {
          "color": "white",
          "type": "tick"
         }
        },
        {
         "data": {
          "format": {
           "type": "json"
          },
          "url": "altair-data-a239557d75041bd26ced67f63afdcaa0.json"
         },
         "encoding": {
          "x": {
           "aggregate": "q3",
           "field": "mape",
           "scale": {
            "clamp": true,
            "domain": [
             0,
             1
            ]
           },
           "type": "quantitative"
          },
          "x2": {
           "aggregate": "max",
           "field": "mape",
           "type": "quantitative"
          },
          "y": {
           "field": "method",
           "title": null,
           "type": "nominal"
          }
         },
         "mark": "rule"
        },
        {
         "data": {
          "format": {
           "type": "json"
          },
          "url": "altair-data-a239557d75041bd26ced67f63afdcaa0.json"
         },
         "encoding": {
          "x": {
           "aggregate": "min",
           "field": "mape",
           "type": "quantitative"
          },
          "x2": {
           "aggregate": "q1",
           "field": "mape",
           "type": "quantitative"
          },
          "y": {
           "field": "method",
           "title": null,
           "type": "nominal"
          }
         },
         "mark": "rule"
        }
       ]
      },
      "image/png": "[encoded data removed]",
      "text/plain": [
       "<VegaLite 2 object>\n",
       "\n",
       "If you see this message, it means the renderer has not been properly enabled\n",
       "for the frontend that you are using. For more information, see\n",
       "https://altair-viz.github.io/user_guide/troubleshooting.html\n"
      ]
     },
     "execution_count": 45,
     "metadata": {},
     "output_type": "execute_result"
    }
   ],
   "source": [
    "base = alt.Chart(df_comp).encode(alt.Y(\"method\", title=None))\n",
    "\n",
    "bar = base.mark_bar(color=\"grey\").encode(\n",
    "    alt.X(\"q1(mape)\", axis=alt.Axis(format=\"%\"), title=\"MAPE\"), alt.X2(\"q3(mape)\")\n",
    ")\n",
    "med = base.mark_tick(color=\"white\").encode(alt.X(\"median(mape)\"))\n",
    "upper = base.mark_rule().encode(\n",
    "    alt.X(\"q3(mape)\", scale=alt.Scale(domain=[0, 1], clamp=True)), alt.X2(\"max(mape)\")\n",
    ")\n",
    "lower = base.mark_rule().encode(alt.X(\"min(mape)\"), alt.X2(\"q1(mape)\"))\n",
    "\n",
    "\n",
    "bar + med + upper + lower"
   ]
  },
  {
   "cell_type": "code",
   "execution_count": 46,
   "metadata": {},
   "outputs": [
    {
     "data": {
      "application/vnd.vegalite.v2+json": {
       "$schema": "https://vega.github.io/schema/vega-lite/v2.6.0.json",
       "config": {
        "view": {
         "height": 300,
         "width": 400
        }
       },
       "data": {
        "format": {
         "type": "json"
        },
        "url": "altair-data-a239557d75041bd26ced67f63afdcaa0.json"
       },
       "facet": {
        "column": {
         "field": "muscle",
         "sort": [
          "upper trapezius",
          "middle trapezius",
          "lower trapezius",
          "anterior deltoid",
          "middle deltoid",
          "posterior deltoid",
          "pectoralis major",
          "serratus anterior",
          "latissimus dorsi",
          "supraspinatus",
          "infraspinatus",
          "subscapularis"
         ],
         "title": null,
         "type": "nominal"
        }
       },
       "spec": {
        "layer": [
         {
          "encoding": {
           "color": {
            "field": "method",
            "type": "nominal"
           },
           "x": {
            "axis": {
             "domain": false,
             "labels": false,
             "ticks": false,
             "title": ""
            },
            "field": "method",
            "type": "nominal"
           },
           "y": {
            "aggregate": "mean",
            "axis": {
             "format": "%"
            },
            "field": "mape",
            "title": "MAPE",
            "type": "quantitative"
           }
          },
          "mark": "bar",
          "width": 65
         },
         {
          "encoding": {
           "x": {
            "axis": {
             "domain": false,
             "labels": false,
             "ticks": false,
             "title": ""
            },
            "field": "method",
            "type": "nominal"
           },
           "y": {
            "aggregate": "ci0",
            "field": "mape",
            "type": "quantitative"
           },
           "y2": {
            "aggregate": "ci1",
            "field": "mape",
            "type": "quantitative"
           }
          },
          "mark": "rule"
         }
        ]
       }
      },
      "image/png": "[encoded data removed]",
      "text/plain": [
       "<VegaLite 2 object>\n",
       "\n",
       "If you see this message, it means the renderer has not been properly enabled\n",
       "for the frontend that you are using. For more information, see\n",
       "https://altair-viz.github.io/user_guide/troubleshooting.html\n"
      ]
     },
     "execution_count": 46,
     "metadata": {},
     "output_type": "execute_result"
    }
   ],
   "source": [
    "base = alt.Chart().encode(\n",
    "    alt.X(\"method\", axis=alt.Axis(title=\"\", labels=False, ticks=False, domain=False))\n",
    ")\n",
    "\n",
    "\n",
    "bar = base.mark_bar().encode(\n",
    "    alt.Y(\"mean(mape)\", axis=alt.Axis(format=\"%\"), title=\"MAPE\"), alt.Color(\"method\")\n",
    ")\n",
    "error = base.mark_rule().encode(alt.Y(\"ci0(mape)\"), alt.Y2(\"ci1(mape)\"))\n",
    "\n",
    "(bar.properties(width=65) + error).facet(data=df_comp, column=alt.Column(\"muscle\", sort=MUSCLES, title=None))"
   ]
  },
  {
   "cell_type": "markdown",
   "metadata": {},
   "source": [
    "### Compare execution time"
   ]
  },
  {
   "cell_type": "code",
   "execution_count": 47,
   "metadata": {},
   "outputs": [
    {
     "data": {
      "text/plain": [
       "2.5"
      ]
     },
     "execution_count": 47,
     "metadata": {},
     "output_type": "execute_result"
    }
   ],
   "source": [
    "30/12"
   ]
  },
  {
   "cell_type": "code",
   "execution_count": 59,
   "metadata": {},
   "outputs": [
    {
     "data": {
      "text/plain": [
       "{'NT4': 4, 'DM': 14, 'DM updated': 14}"
      ]
     },
     "execution_count": 59,
     "metadata": {},
     "output_type": "execute_result"
    }
   ],
   "source": [
    "time"
   ]
  },
  {
   "cell_type": "code",
   "execution_count": 148,
   "metadata": {},
   "outputs": [],
   "source": [
    "time_by_test = 2.5  # min\n",
    "time = {}\n",
    "for imethod in recommandations.keys():\n",
    "    c = []\n",
    "    for imuscle, tests in recommandations[imethod].items():\n",
    "        for itest in tests:\n",
    "            if itest not in c:\n",
    "                c.append(itest)\n",
    "    time[imethod] = time_by_test * len(c)\n",
    "time[\"ML3\"] = time_by_test * 3\n",
    "time = pd.Series(time).rename(\"execution time (min)\").rename_axis(\"method\").reset_index()"
   ]
  },
  {
   "cell_type": "code",
   "execution_count": 149,
   "metadata": {},
   "outputs": [
    {
     "data": {
      "application/vnd.vegalite.v2+json": {
       "$schema": "https://vega.github.io/schema/vega-lite/v2.6.0.json",
       "config": {
        "view": {
         "height": 300,
         "width": 400
        }
       },
       "data": {
        "format": {
         "type": "json"
        },
        "url": "altair-data-203dd6d7f7f7cfa964179eb5efa7105f.json"
       },
       "encoding": {
        "x": {
         "field": "execution time (min)",
         "type": "quantitative"
        },
        "y": {
         "field": "method",
         "title": null,
         "type": "nominal"
        }
       },
       "mark": {
        "color": "grey",
        "type": "bar"
       }
      },
      "image/png": "[encoded data removed]",
      "text/plain": [
       "<VegaLite 2 object>\n",
       "\n",
       "If you see this message, it means the renderer has not been properly enabled\n",
       "for the frontend that you are using. For more information, see\n",
       "https://altair-viz.github.io/user_guide/troubleshooting.html\n"
      ]
     },
     "execution_count": 149,
     "metadata": {},
     "output_type": "execute_result"
    }
   ],
   "source": [
    "alt.Chart(time).mark_bar(color=\"grey\").encode(\n",
    "    alt.X(\"execution time (min)\"), alt.Y(\"method\", title=None)\n",
    ")"
   ]
  },
  {
   "cell_type": "code",
   "execution_count": 231,
   "metadata": {},
   "outputs": [],
   "source": [
    "scatter_df = (\n",
    "    df_comp.groupby(\"method\")[\"mape\"].mean().reset_index().merge(time, on=\"method\")\n",
    ").assign(\n",
    "    dist_from_0=lambda x: np.sqrt(\n",
    "        (x[\"mape\"].multiply(100).pow(2) + x[\"execution time (min)\"].pow(2))\n",
    "    ).round(2)\n",
    ")"
   ]
  },
  {
   "cell_type": "code",
   "execution_count": 239,
   "metadata": {},
   "outputs": [
    {
     "data": {
      "application/vnd.vegalite.v2+json": {
       "$schema": "https://vega.github.io/schema/vega-lite/v2.6.0.json",
       "config": {
        "view": {
         "height": 300,
         "width": 400
        }
       },
       "layer": [
        {
         "data": {
          "format": {
           "type": "json"
          },
          "url": "altair-data-e058a99d3979639fa693c80186996be7.json"
         },
         "encoding": {
          "detail": {
           "field": "method",
           "type": "nominal"
          },
          "x": {
           "field": "execution time (min)",
           "type": "quantitative"
          },
          "y": {
           "field": "mape",
           "type": "quantitative"
          }
         },
         "mark": {
          "color": "grey",
          "type": "line"
         }
        },
        {
         "data": {
          "format": {
           "type": "json"
          },
          "url": "altair-data-584f86e946a303a68a8f5eac917b9d5e.json"
         },
         "encoding": {
          "color": {
           "field": "method",
           "type": "nominal"
          },
          "x": {
           "field": "execution time (min)",
           "scale": {
            "domain": [
             0,
             40
            ]
           },
           "type": "quantitative"
          },
          "y": {
           "field": "mape",
           "title": "MAPE",
           "type": "quantitative"
          }
         },
         "mark": {
          "size": 200,
          "type": "circle"
         }
        },
        {
         "data": {
          "format": {
           "type": "json"
          },
          "url": "altair-data-584f86e946a303a68a8f5eac917b9d5e.json"
         },
         "encoding": {
          "text": {
           "field": "dist_from_0",
           "type": "quantitative"
          },
          "x": {
           "field": "execution time (min)",
           "type": "quantitative"
          },
          "y": {
           "field": "mape",
           "type": "quantitative"
          }
         },
         "mark": {
          "dx": 25,
          "dy": 5,
          "type": "text"
         }
        }
       ]
      },
      "image/png": "[encoded data removed]",
      "text/plain": [
       "<VegaLite 2 object>\n",
       "\n",
       "If you see this message, it means the renderer has not been properly enabled\n",
       "for the frontend that you are using. For more information, see\n",
       "https://altair-viz.github.io/user_guide/troubleshooting.html\n"
      ]
     },
     "execution_count": 239,
     "metadata": {},
     "output_type": "execute_result"
    }
   ],
   "source": [
    "scatter = (\n",
    "    alt.Chart(scatter_df)\n",
    "    .mark_circle(size=200)\n",
    "    .encode(\n",
    "        alt.X(\"execution time (min)\", scale=alt.Scale(domain=[0, 40])), alt.Y(\"mape\", title=\"MAPE\"), alt.Color(\"method\")\n",
    "    )\n",
    ")\n",
    "\n",
    "text = (\n",
    "    alt.Chart(scatter_df)\n",
    "    .mark_text(dx=25, dy=5)\n",
    "    .encode(\n",
    "        alt.X(\"execution time (min)\"), alt.Y(\"mape\"), alt.Text('dist_from_0')\n",
    "    )\n",
    ")\n",
    "\n",
    "dist_rule = (\n",
    "    alt.Chart(\n",
    "        pd.concat(\n",
    "            [scatter_df, scatter_df.assign(**{\"mape\": 0, \"execution time (min)\": 0})]\n",
    "        )\n",
    "    )\n",
    "    .mark_line(color='grey')\n",
    "    .encode(alt.X(\"execution time (min)\"), alt.Y(\"mape\"), alt.Detail(\"method\"))\n",
    ")\n",
    "\n",
    "dist_rule + scatter + text"
   ]
  }
 ],
 "metadata": {
  "kernelspec": {
   "display_name": "Python [conda env:mvc]",
   "language": "python",
   "name": "conda-env-mvc-py"
  },
  "language_info": {
   "codemirror_mode": {
    "name": "ipython",
    "version": 3
   },
   "file_extension": ".py",
   "mimetype": "text/x-python",
   "name": "python",
   "nbconvert_exporter": "python",
   "pygments_lexer": "ipython3",
   "version": "3.7.2"
  },
  "toc-autonumbering": false,
  "toc-showcode": false,
  "toc-showtags": true
 },
 "nbformat": 4,
 "nbformat_minor": 2
}
