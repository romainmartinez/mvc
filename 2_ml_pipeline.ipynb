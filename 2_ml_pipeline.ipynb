{
 "cells": [
  {
   "cell_type": "markdown",
   "metadata": {
    "toc": true
   },
   "source": [
    "<h1>Table of Contents<span class=\"tocSkip\"></span></h1>\n",
    "<div class=\"toc\"><ul class=\"toc-item\"><li><span><a href=\"#1.-MVC-project-description\" data-toc-modified-id=\"1.-MVC-project-description-1\">1. MVC project description</a></span></li><li><span><a href=\"#2.-Setup\" data-toc-modified-id=\"2.-Setup-2\">2. Setup</a></span></li><li><span><a href=\"#3.-Load-the-data\" data-toc-modified-id=\"3.-Load-the-data-3\">3. Load the data</a></span></li><li><span><a href=\"#4.-Configurations\" data-toc-modified-id=\"4.-Configurations-4\">4. Configurations</a></span></li><li><span><a href=\"#5.-Split-the-data\" data-toc-modified-id=\"5.-Split-the-data-5\">5. Split the data</a></span></li><li><span><a href=\"#6.-Pipeline\" data-toc-modified-id=\"6.-Pipeline-6\">6. Pipeline</a></span><ul class=\"toc-item\"><li><span><a href=\"#6.1.-Temporary-step:-normalize-data\" data-toc-modified-id=\"6.1.-Temporary-step:-normalize-data-6.1\">6.1. Temporary step: normalize data</a></span></li><li><span><a href=\"#6.2.-Assembling-the-pipeline\" data-toc-modified-id=\"6.2.-Assembling-the-pipeline-6.2\">6.2. Assembling the pipeline</a></span></li><li><span><a href=\"#6.3.-Define-our-metric\" data-toc-modified-id=\"6.3.-Define-our-metric-6.3\">6.3. Define our metric</a></span></li><li><span><a href=\"#6.4.-Fit-the-pipeline\" data-toc-modified-id=\"6.4.-Fit-the-pipeline-6.4\">6.4. Fit the pipeline</a></span></li><li><span><a href=\"#6.5.-Save-the-model\" data-toc-modified-id=\"6.5.-Save-the-model-6.5\">6.5. Save the model</a></span></li></ul></li><li><span><a href=\"#7.-Learning-curves\" data-toc-modified-id=\"7.-Learning-curves-7\">7. Learning curves</a></span></li><li><span><a href=\"#8.-Evaluation\" data-toc-modified-id=\"8.-Evaluation-8\">8. Evaluation</a></span><ul class=\"toc-item\"><li><span><a href=\"#8.1.-Prediction\" data-toc-modified-id=\"8.1.-Prediction-8.1\">8.1. Prediction</a></span></li><li><span><a href=\"#8.2.-Denormalize-data\" data-toc-modified-id=\"8.2.-Denormalize-data-8.2\">8.2. Denormalize data</a></span></li><li><span><a href=\"#8.3.-Evaluate-on-all-muscles\" data-toc-modified-id=\"8.3.-Evaluate-on-all-muscles-8.3\">8.3. Evaluate on all muscles</a></span></li><li><span><a href=\"#8.4.-Evaluate-on-each-muscle\" data-toc-modified-id=\"8.4.-Evaluate-on-each-muscle-8.4\">8.4. Evaluate on each muscle</a></span></li></ul></li><li><span><a href=\"#9.-Summary\" data-toc-modified-id=\"9.-Summary-9\">9. Summary</a></span></li></ul></div>"
   ]
  },
  {
   "cell_type": "markdown",
   "metadata": {},
   "source": [
    "# 1. MVC project description\n",
    "\n",
    "**Links**\n",
    "- [github repo](https://github.com/romainmartinez/mvc)\n",
    "- [plotly figures](https://plot.ly/organize/romainmartinez:114)\n",
    "\n",
    "**Author**: _Romain Martinez._"
   ]
  },
  {
   "cell_type": "markdown",
   "metadata": {},
   "source": [
    "# 2. Setup"
   ]
  },
  {
   "cell_type": "code",
   "execution_count": 1,
   "metadata": {},
   "outputs": [
    {
     "data": {
      "text/html": [
       "<script>requirejs.config({paths: { 'plotly': ['https://cdn.plot.ly/plotly-latest.min']},});if(!window.Plotly) {{require(['plotly'],function(plotly) {window.Plotly=plotly;});}}</script>"
      ],
      "text/vnd.plotly.v1+html": [
       "<script>requirejs.config({paths: { 'plotly': ['https://cdn.plot.ly/plotly-latest.min']},});if(!window.Plotly) {{require(['plotly'],function(plotly) {window.Plotly=plotly;});}}</script>"
      ]
     },
     "metadata": {},
     "output_type": "display_data"
    }
   ],
   "source": [
    "# Common imports\n",
    "import pandas as pd\n",
    "import numpy as np\n",
    "import json\n",
    "\n",
    "# Path\n",
    "from pathlib import Path\n",
    "PROJECT_PATH = Path('./')\n",
    "DATA_PATH = PROJECT_PATH / 'data'\n",
    "\n",
    "# to make this notebook's output stable across runs\n",
    "RANDOM_SEED = 42\n",
    "np.random.seed(RANDOM_SEED)\n",
    "\n",
    "# Figures\n",
    "OFFLINE = True\n",
    "if OFFLINE:\n",
    "    import plotly.offline as py\n",
    "    py.init_notebook_mode(connected=True)\n",
    "else:\n",
    "    import plotly.plotly as py\n",
    "import plotly.graph_objs as go\n",
    "import plotly.figure_factory as ff\n",
    "from plotly import tools\n",
    "BASE_LAYOUT = go.Layout(hovermode='closest', font=dict(size=14))\n",
    "MARKER_LAYOUT = dict(\n",
    "    color='rgba(27, 158, 119, 0.6)',\n",
    "    line=dict(\n",
    "        color='rgba(27, 158, 119, 1.0)',\n",
    "        width=2,\n",
    "    ))"
   ]
  },
  {
   "cell_type": "markdown",
   "metadata": {},
   "source": [
    "# 3. Load the data"
   ]
  },
  {
   "cell_type": "code",
   "execution_count": 2,
   "metadata": {},
   "outputs": [],
   "source": [
    "df_wide = pd.read_feather(DATA_PATH / 'df_wide')\n",
    "with open(DATA_PATH / 'conf.json', 'r') as w:\n",
    "    conf = json.load(w)"
   ]
  },
  {
   "cell_type": "markdown",
   "metadata": {},
   "source": [
    "# 4. Configurations"
   ]
  },
  {
   "cell_type": "code",
   "execution_count": 3,
   "metadata": {},
   "outputs": [],
   "source": [
    "REF_COLS = {\n",
    "    'test_cols': np.array([3, 4, 5]).astype(str),\n",
    "    'categorical_cols': np.array(['muscle']),\n",
    "    'test_ref': np.array([4]).astype(str)\n",
    "}"
   ]
  },
  {
   "cell_type": "markdown",
   "metadata": {},
   "source": [
    "# 5. Split the data"
   ]
  },
  {
   "cell_type": "code",
   "execution_count": 4,
   "metadata": {},
   "outputs": [],
   "source": [
    "def get_X_and_y(d, test_col_str, other_col_to_keep, remove_nans=False):\n",
    "    # get y (row maximum)\n",
    "    y = np.nanmax(d[test_col_str], axis=1)\n",
    "\n",
    "    col_names = other_col_to_keep.tolist() + test_col_str.tolist()\n",
    "    X = d[col_names].values\n",
    "\n",
    "    nan_row_idx = np.isnan(X).any(axis=1)\n",
    "    if remove_nans:\n",
    "        X = X[~nan_row_idx, :]\n",
    "        y = y[~nan_row_idx]\n",
    "        print(f'Removed {np.sum(nan_row_idx)} rows')\n",
    "    else:\n",
    "        if np.any(nan_row_idx):\n",
    "            print(\n",
    "                f'Warning: {np.sum(nan_row_idx)} rows have nans. You should remove it or use Imputer'\n",
    "            )\n",
    "    return X, y, col_names, nan_row_idx"
   ]
  },
  {
   "cell_type": "code",
   "execution_count": 5,
   "metadata": {},
   "outputs": [
    {
     "name": "stdout",
     "output_type": "stream",
     "text": [
      "Removed 3 rows\n"
     ]
    },
    {
     "name": "stderr",
     "output_type": "stream",
     "text": [
      "/home/romain/.local/share/virtualenvs/mvc-kMH3Oq29/lib/python3.6/site-packages/ipykernel_launcher.py:3: RuntimeWarning:\n",
      "\n",
      "All-NaN axis encountered\n",
      "\n"
     ]
    }
   ],
   "source": [
    "X, y, COL_NAMES, nan_row_idx = get_X_and_y(\n",
    "    df_wide,\n",
    "    test_col_str=REF_COLS['test_cols'],\n",
    "    other_col_to_keep=REF_COLS['categorical_cols'],\n",
    "    remove_nans=True)\n",
    "df_wide.drop(df_wide.index[nan_row_idx], inplace=True)"
   ]
  },
  {
   "cell_type": "code",
   "execution_count": 6,
   "metadata": {},
   "outputs": [],
   "source": [
    "from sklearn.model_selection import train_test_split\n",
    "\n",
    "X_indices = np.arange(X.shape[0])\n",
    "\n",
    "X_train, X_test, y_train, y_test, indices_train, indices_test = train_test_split(\n",
    "    X, y, X_indices, test_size=0.2, random_state=RANDOM_SEED, stratify=X[:, 0])"
   ]
  },
  {
   "cell_type": "markdown",
   "metadata": {},
   "source": [
    "# 6. Pipeline"
   ]
  },
  {
   "cell_type": "markdown",
   "metadata": {},
   "source": [
    "## 6.1. Temporary step: normalize data\n",
    "This step needs to be temporary out of the pipeline because scikit-learn doesn't have the [TransformedTargetRegressor](http://scikit-learn.org/dev/modules/generated/sklearn.preprocessing.TransformedTargetRegressor.html#sklearn.preprocessing.TransformedTargetRegressor) yet."
   ]
  },
  {
   "cell_type": "code",
   "execution_count": 7,
   "metadata": {},
   "outputs": [],
   "source": [
    "class Normalize:\n",
    "    def __init__(self, to_normalize=None, ref='max'):\n",
    "        self.to_normalize = to_normalize\n",
    "        self.ref = ref\n",
    "\n",
    "    def transform(self, X, y):\n",
    "        normalize = lambda a, b: a * 100 / b\n",
    "        X_out, y_out = [], []\n",
    "\n",
    "        if X.any():\n",
    "            X_out = X.copy()\n",
    "            if self.ref is 'max':\n",
    "                self.ref_vector = np.nanmax(X_out[:, to_normalize], axis=1)\n",
    "            else:\n",
    "                self.ref_vector = X_out[:, self.ref].ravel()\n",
    "            X_out[:, self.to_normalize] = np.apply_along_axis(\n",
    "                normalize, 0, X_out[:, self.to_normalize], self.ref_vector)\n",
    "\n",
    "            if y.any():\n",
    "                y_out = np.apply_along_axis(normalize, 0, y, self.ref_vector)\n",
    "\n",
    "        return X_out, y_out\n",
    "\n",
    "    def inverse_transform(self, X, y):\n",
    "        denormalize = lambda a, b: a / 100 * b\n",
    "        X_out, y_out = [], []\n",
    "        if X.any():\n",
    "            X_out = X.copy()\n",
    "            X_out[:, self.to_normalize] = np.apply_along_axis(\n",
    "                denormalize, 0, X_out[:, self.to_normalize], self.ref_vector)\n",
    "\n",
    "        if y.any():\n",
    "            y_out = np.apply_along_axis(denormalize, 0, y, self.ref_vector)\n",
    "\n",
    "        return X_out, y_out"
   ]
  },
  {
   "cell_type": "code",
   "execution_count": 8,
   "metadata": {},
   "outputs": [],
   "source": [
    "to_normalize = np.in1d(COL_NAMES, REF_COLS['test_cols'])\n",
    "ref = np.in1d(COL_NAMES, REF_COLS['test_ref'])\n",
    "\n",
    "# normalize train set\n",
    "normalizer_train = Normalize(to_normalize=to_normalize, ref=ref)\n",
    "X_train, y_train = normalizer_train.transform(X_train, y_train)\n",
    "\n",
    "# normalize test set\n",
    "normalizer_test = Normalize(to_normalize=to_normalize, ref=ref)\n",
    "X_test, y_test = normalizer_test.transform(X_test, y_test)"
   ]
  },
  {
   "cell_type": "markdown",
   "metadata": {},
   "source": [
    "## 6.2. Assembling the pipeline"
   ]
  },
  {
   "cell_type": "code",
   "execution_count": 9,
   "metadata": {},
   "outputs": [],
   "source": [
    "from sklearn.pipeline import Pipeline, FeatureUnion\n",
    "from sklearn.preprocessing import FunctionTransformer\n",
    "from sklearn.preprocessing import OneHotEncoder\n",
    "from sklearn.preprocessing import PolynomialFeatures\n",
    "\n",
    "from xgboost import XGBRegressor\n",
    "from sklearn.ensemble import GradientBoostingRegressor\n",
    "\n",
    "\n",
    "def get_categorical_cols(X, col_names=REF_COLS):\n",
    "    return X[:, np.in1d(COL_NAMES, REF_COLS['categorical_cols'].astype(str))]\n",
    "\n",
    "\n",
    "def get_numerical_cols(X, col_names=COL_NAMES):\n",
    "    return X[:, np.in1d(COL_NAMES, REF_COLS['test_cols'].astype(str))]\n",
    "\n",
    "\n",
    "pipeline_categorical = Pipeline([\n",
    "    ('selector', FunctionTransformer(get_categorical_cols, validate=False)),\n",
    "    ('encoder', OneHotEncoder(sparse=False))\n",
    "])\n",
    "\n",
    "pipeline_numerical = Pipeline([\n",
    "    ('selector', FunctionTransformer(get_numerical_cols, validate=False))\n",
    "])\n",
    "\n",
    "pipeline_preprocessing = FeatureUnion([\n",
    "    ('categorical', pipeline_categorical),\n",
    "    ('numerical', pipeline_numerical)\n",
    "])\n",
    "\n",
    "model_param = dict(\n",
    "    alpha=0.85,\n",
    "    learning_rate=0.1,\n",
    "    loss=\"ls\",\n",
    "    max_depth=10,\n",
    "    max_features=1.0,\n",
    "    min_samples_leaf=1,\n",
    "    min_samples_split=2,\n",
    "    n_estimators=100,\n",
    "    subsample=0.55)\n",
    "\n",
    "pipeline_full = Pipeline([('preprocessing', pipeline_preprocessing),\n",
    "                          ('regressor',\n",
    "                           GradientBoostingRegressor(**model_param))])"
   ]
  },
  {
   "cell_type": "markdown",
   "metadata": {},
   "source": [
    "## 6.3. Define our metric"
   ]
  },
  {
   "cell_type": "code",
   "execution_count": 10,
   "metadata": {},
   "outputs": [],
   "source": [
    "from sklearn.metrics import make_scorer\n",
    "\n",
    "\n",
    "def mape(y_test, y_pred):\n",
    "    val = (np.abs((y_test - y_pred) / y_test)) * 100\n",
    "    return np.mean(val)\n",
    "\n",
    "\n",
    "mape_scorer = make_scorer(mape, greater_is_better=False)\n",
    "\n",
    "print_results = lambda title, toprint: print(f'{title}\\n{\"-\" * 10}\\n{toprint}\\n')"
   ]
  },
  {
   "cell_type": "markdown",
   "metadata": {},
   "source": [
    "## 6.4. Fit the pipeline"
   ]
  },
  {
   "cell_type": "code",
   "execution_count": 11,
   "metadata": {},
   "outputs": [
    {
     "data": {
      "text/plain": [
       "Pipeline(memory=None,\n",
       "     steps=[('preprocessing', FeatureUnion(n_jobs=1,\n",
       "       transformer_list=[('categorical', Pipeline(memory=None,\n",
       "     steps=[('selector', FunctionTransformer(accept_sparse=False,\n",
       "          func=<function get_categorical_cols at 0x7f3bdda1f598>,\n",
       "          inv_kw_args=None, inverse_func=None, kw_args=No...=100, presort='auto', random_state=None,\n",
       "             subsample=0.55, verbose=0, warm_start=False))])"
      ]
     },
     "execution_count": 11,
     "metadata": {},
     "output_type": "execute_result"
    }
   ],
   "source": [
    "pipeline_full.fit(X_train, y_train)"
   ]
  },
  {
   "cell_type": "code",
   "execution_count": 12,
   "metadata": {},
   "outputs": [],
   "source": [
    "y_pred = pipeline_full.predict(X_test)"
   ]
  },
  {
   "cell_type": "code",
   "execution_count": 13,
   "metadata": {},
   "outputs": [
    {
     "name": "stdout",
     "output_type": "stream",
     "text": [
      "cv score\n",
      "----------\n",
      "[-0.46757464 -0.35904539 -1.26741222 -0.48436397 -0.75418421]\n",
      "\n",
      "mean\n",
      "----------\n",
      "-0.6665160858444503\n",
      "\n"
     ]
    }
   ],
   "source": [
    "from sklearn.model_selection import cross_val_score\n",
    "\n",
    "# evaluate\n",
    "cv_score = cross_val_score(\n",
    "    pipeline_full,\n",
    "    X_train,\n",
    "    y_train,\n",
    "    cv=5,\n",
    "    scoring=mape_scorer)\n",
    "\n",
    "print_results(title='cv score', toprint=cv_score)\n",
    "print_results(title='mean', toprint=np.mean(cv_score))"
   ]
  },
  {
   "cell_type": "markdown",
   "metadata": {},
   "source": [
    "## 6.5. Save the model"
   ]
  },
  {
   "cell_type": "code",
   "execution_count": 14,
   "metadata": {},
   "outputs": [],
   "source": [
    "MODEL_PATH = Path('./model/model.pkl')\n",
    "if not MODEL_PATH.is_file():\n",
    "    from sklearn.externals import joblib\n",
    "    joblib.dump(pipeline_full, MODEL_PATH)"
   ]
  },
  {
   "cell_type": "markdown",
   "metadata": {},
   "source": [
    "# 7. Learning curves"
   ]
  },
  {
   "cell_type": "code",
   "execution_count": 15,
   "metadata": {},
   "outputs": [],
   "source": [
    "from sklearn.model_selection import learning_curve\n",
    "\n",
    "\n",
    "def plot_learning_curve(estimator,\n",
    "                        X,\n",
    "                        y,\n",
    "                        scoring=mape_scorer,\n",
    "                        cv=None,\n",
    "                        n_jobs=1,\n",
    "                        train_sizes=np.linspace(.1, 1.0, 5),\n",
    "                        **kwargs):\n",
    "    train_sizes, train_scores, test_scores = learning_curve(\n",
    "        estimator,\n",
    "        X,\n",
    "        y,\n",
    "        scoring=scoring,\n",
    "        cv=cv,\n",
    "        train_sizes=train_sizes,\n",
    "        n_jobs=n_jobs,\n",
    "        random_state=RANDOM_SEED)\n",
    "\n",
    "    train_scores_mean = np.mean(train_scores, axis=1)\n",
    "    train_scores_std = np.std(train_scores, axis=1)\n",
    "\n",
    "    test_scores_mean = np.mean(test_scores, axis=1)\n",
    "    test_scores_std = np.std(test_scores, axis=1)\n",
    "\n",
    "    trace = []\n",
    "\n",
    "    # training mean\n",
    "    trace.append(\n",
    "        go.Scatter(\n",
    "            x=train_sizes,\n",
    "            y=train_scores_mean,\n",
    "            marker=dict(color='red'),\n",
    "            name='Training score'))\n",
    "\n",
    "    # training std\n",
    "    trace.append(\n",
    "        go.Scatter(\n",
    "            x=train_sizes,\n",
    "            y=train_scores_mean + train_scores_std,\n",
    "            mode='lines',\n",
    "            line=dict(color='red', width=1),\n",
    "            showlegend=False))\n",
    "\n",
    "    trace.append(\n",
    "        go.Scatter(\n",
    "            x=train_sizes,\n",
    "            y=train_scores_mean - train_scores_std,\n",
    "            mode='lines',\n",
    "            line=dict(color='red', width=1),\n",
    "            fill='tonexty',\n",
    "            showlegend=False))\n",
    "\n",
    "    # test mean\n",
    "    trace.append(\n",
    "        go.Scatter(\n",
    "            x=train_sizes,\n",
    "            y=test_scores_mean,\n",
    "            marker=dict(color='green'),\n",
    "            name='Cross-validation score'))\n",
    "\n",
    "    # test std\n",
    "    trace.append(\n",
    "        go.Scatter(\n",
    "            x=train_sizes,\n",
    "            y=test_scores_mean + test_scores_std,\n",
    "            mode='lines',\n",
    "            line=dict(color='green', width=1),\n",
    "            showlegend=False))\n",
    "\n",
    "    trace.append(\n",
    "        go.Scatter(\n",
    "            x=train_sizes,\n",
    "            y=test_scores_mean - test_scores_std,\n",
    "            mode='lines',\n",
    "            line=dict(color='green', width=1),\n",
    "            fill='tonexty',\n",
    "            showlegend=False))\n",
    "\n",
    "    data = [itrace for itrace in trace]\n",
    "    layout = BASE_LAYOUT.copy()\n",
    "    layout.update(\n",
    "        dict(\n",
    "            title=kwargs.get('title'),\n",
    "            xaxis=dict(\n",
    "                title=kwargs.get('xtitle'), showline=True, linewidth=1.5),\n",
    "            yaxis=dict(\n",
    "                title=kwargs.get('ytitle'), showline=True, linewidth=1.5)))\n",
    "    fig = dict(data=data, layout=layout)\n",
    "    return fig"
   ]
  },
  {
   "cell_type": "code",
   "execution_count": 16,
   "metadata": {},
   "outputs": [
    {
     "data": {
      "application/vnd.plotly.v1+json": {
       "data": [
        {
         "marker": {
          "color": "red"
         },
         "name": "Training score",
         "type": "scatter",
         "x": [
          109,
          219,
          329,
          439,
          549,
          659,
          769,
          879,
          989,
          1099
         ],
         "y": [
          -0.09707452630720181,
          -0.08377837164417726,
          -0.07162109931525977,
          -0.06959766168359349,
          -0.06380234956504796,
          -0.07875046729945404,
          -0.07946101102825365,
          -0.07215536595417907,
          -0.09148811796848189,
          -0.1090747257803351
         ]
        },
        {
         "line": {
          "color": "red",
          "width": 1
         },
         "mode": "lines",
         "showlegend": false,
         "type": "scatter",
         "x": [
          109,
          219,
          329,
          439,
          549,
          659,
          769,
          879,
          989,
          1099
         ],
         "y": [
          -0.0777911140623672,
          -0.07811400828623474,
          -0.06512586884281468,
          -0.04717313424135064,
          -0.04524636081741493,
          -0.0629213913488159,
          -0.06142527667563338,
          -0.05838299739157732,
          -0.06936553305230196,
          -0.08711887395202994
         ]
        },
        {
         "fill": "tonexty",
         "line": {
          "color": "red",
          "width": 1
         },
         "mode": "lines",
         "showlegend": false,
         "type": "scatter",
         "x": [
          109,
          219,
          329,
          439,
          549,
          659,
          769,
          879,
          989,
          1099
         ],
         "y": [
          -0.11635793855203642,
          -0.08944273500211977,
          -0.07811632978770486,
          -0.09202218912583635,
          -0.082358338312681,
          -0.09457954325009217,
          -0.09749674538087391,
          -0.08592773451678082,
          -0.11361070288466181,
          -0.13103057760864026
         ]
        },
        {
         "marker": {
          "color": "green"
         },
         "name": "Cross-validation score",
         "type": "scatter",
         "x": [
          109,
          219,
          329,
          439,
          549,
          659,
          769,
          879,
          989,
          1099
         ],
         "y": [
          -4.13304125279746,
          -1.7308918769188388,
          -1.5362835988968482,
          -1.18609786013409,
          -1.1547052589516325,
          -0.9770702171237622,
          -0.8974913205607583,
          -0.7979207110168869,
          -0.690337825275292,
          -0.6805382069932595
         ]
        },
        {
         "line": {
          "color": "green",
          "width": 1
         },
         "mode": "lines",
         "showlegend": false,
         "type": "scatter",
         "x": [
          109,
          219,
          329,
          439,
          549,
          659,
          769,
          879,
          989,
          1099
         ],
         "y": [
          -3.6495308786976577,
          -1.3929021638138968,
          -1.1533224696550373,
          -0.8945434497135787,
          -0.8020138943161119,
          -0.6482508824337309,
          -0.5902942144216883,
          -0.46215500435076295,
          -0.3722582594414171,
          -0.35759613058738654
         ]
        },
        {
         "fill": "tonexty",
         "line": {
          "color": "green",
          "width": 1
         },
         "mode": "lines",
         "showlegend": false,
         "type": "scatter",
         "x": [
          109,
          219,
          329,
          439,
          549,
          659,
          769,
          879,
          989,
          1099
         ],
         "y": [
          -4.616551626897262,
          -2.068881590023781,
          -1.919244728138659,
          -1.4776522705546011,
          -1.507396623587153,
          -1.3058895518137934,
          -1.2046884266998283,
          -1.1336864176830108,
          -1.008417391109167,
          -1.0034802833991325
         ]
        }
       ],
       "layout": {
        "font": {
         "size": 14
        },
        "hovermode": "closest",
        "title": "Learning curves",
        "xaxis": {
         "linewidth": 1.5,
         "showline": true,
         "title": "Training examples"
        },
        "yaxis": {
         "linewidth": 1.5,
         "showline": true,
         "title": "MAPE (%)"
        }
       }
      },
      "text/html": [
       "<div id=\"164f91e8-2254-472d-9571-2ec3a1df200f\" style=\"height: 525px; width: 100%;\" class=\"plotly-graph-div\"></div><script type=\"text/javascript\">require([\"plotly\"], function(Plotly) { window.PLOTLYENV=window.PLOTLYENV || {};window.PLOTLYENV.BASE_URL=\"https://plot.ly\";Plotly.newPlot(\"164f91e8-2254-472d-9571-2ec3a1df200f\", [{\"type\": \"scatter\", \"x\": [109, 219, 329, 439, 549, 659, 769, 879, 989, 1099], \"y\": [-0.09707452630720181, -0.08377837164417726, -0.07162109931525977, -0.06959766168359349, -0.06380234956504796, -0.07875046729945404, -0.07946101102825365, -0.07215536595417907, -0.09148811796848189, -0.1090747257803351], \"marker\": {\"color\": \"red\"}, \"name\": \"Training score\"}, {\"type\": \"scatter\", \"x\": [109, 219, 329, 439, 549, 659, 769, 879, 989, 1099], \"y\": [-0.0777911140623672, -0.07811400828623474, -0.06512586884281468, -0.04717313424135064, -0.04524636081741493, -0.0629213913488159, -0.06142527667563338, -0.05838299739157732, -0.06936553305230196, -0.08711887395202994], \"mode\": \"lines\", \"line\": {\"color\": \"red\", \"width\": 1}, \"showlegend\": false}, {\"type\": \"scatter\", \"x\": [109, 219, 329, 439, 549, 659, 769, 879, 989, 1099], \"y\": [-0.11635793855203642, -0.08944273500211977, -0.07811632978770486, -0.09202218912583635, -0.082358338312681, -0.09457954325009217, -0.09749674538087391, -0.08592773451678082, -0.11361070288466181, -0.13103057760864026], \"mode\": \"lines\", \"line\": {\"color\": \"red\", \"width\": 1}, \"fill\": \"tonexty\", \"showlegend\": false}, {\"type\": \"scatter\", \"x\": [109, 219, 329, 439, 549, 659, 769, 879, 989, 1099], \"y\": [-4.13304125279746, -1.7308918769188388, -1.5362835988968482, -1.18609786013409, -1.1547052589516325, -0.9770702171237622, -0.8974913205607583, -0.7979207110168869, -0.690337825275292, -0.6805382069932595], \"marker\": {\"color\": \"green\"}, \"name\": \"Cross-validation score\"}, {\"type\": \"scatter\", \"x\": [109, 219, 329, 439, 549, 659, 769, 879, 989, 1099], \"y\": [-3.6495308786976577, -1.3929021638138968, -1.1533224696550373, -0.8945434497135787, -0.8020138943161119, -0.6482508824337309, -0.5902942144216883, -0.46215500435076295, -0.3722582594414171, -0.35759613058738654], \"mode\": \"lines\", \"line\": {\"color\": \"green\", \"width\": 1}, \"showlegend\": false}, {\"type\": \"scatter\", \"x\": [109, 219, 329, 439, 549, 659, 769, 879, 989, 1099], \"y\": [-4.616551626897262, -2.068881590023781, -1.919244728138659, -1.4776522705546011, -1.507396623587153, -1.3058895518137934, -1.2046884266998283, -1.1336864176830108, -1.008417391109167, -1.0034802833991325], \"mode\": \"lines\", \"line\": {\"color\": \"green\", \"width\": 1}, \"fill\": \"tonexty\", \"showlegend\": false}], {\"hovermode\": \"closest\", \"font\": {\"size\": 14}, \"title\": \"Learning curves\", \"xaxis\": {\"title\": \"Training examples\", \"showline\": true, \"linewidth\": 1.5}, \"yaxis\": {\"title\": \"MAPE (%)\", \"showline\": true, \"linewidth\": 1.5}}, {\"showLink\": true, \"linkText\": \"Export to plot.ly\"})});</script>"
      ],
      "text/vnd.plotly.v1+html": [
       "<div id=\"164f91e8-2254-472d-9571-2ec3a1df200f\" style=\"height: 525px; width: 100%;\" class=\"plotly-graph-div\"></div><script type=\"text/javascript\">require([\"plotly\"], function(Plotly) { window.PLOTLYENV=window.PLOTLYENV || {};window.PLOTLYENV.BASE_URL=\"https://plot.ly\";Plotly.newPlot(\"164f91e8-2254-472d-9571-2ec3a1df200f\", [{\"type\": \"scatter\", \"x\": [109, 219, 329, 439, 549, 659, 769, 879, 989, 1099], \"y\": [-0.09707452630720181, -0.08377837164417726, -0.07162109931525977, -0.06959766168359349, -0.06380234956504796, -0.07875046729945404, -0.07946101102825365, -0.07215536595417907, -0.09148811796848189, -0.1090747257803351], \"marker\": {\"color\": \"red\"}, \"name\": \"Training score\"}, {\"type\": \"scatter\", \"x\": [109, 219, 329, 439, 549, 659, 769, 879, 989, 1099], \"y\": [-0.0777911140623672, -0.07811400828623474, -0.06512586884281468, -0.04717313424135064, -0.04524636081741493, -0.0629213913488159, -0.06142527667563338, -0.05838299739157732, -0.06936553305230196, -0.08711887395202994], \"mode\": \"lines\", \"line\": {\"color\": \"red\", \"width\": 1}, \"showlegend\": false}, {\"type\": \"scatter\", \"x\": [109, 219, 329, 439, 549, 659, 769, 879, 989, 1099], \"y\": [-0.11635793855203642, -0.08944273500211977, -0.07811632978770486, -0.09202218912583635, -0.082358338312681, -0.09457954325009217, -0.09749674538087391, -0.08592773451678082, -0.11361070288466181, -0.13103057760864026], \"mode\": \"lines\", \"line\": {\"color\": \"red\", \"width\": 1}, \"fill\": \"tonexty\", \"showlegend\": false}, {\"type\": \"scatter\", \"x\": [109, 219, 329, 439, 549, 659, 769, 879, 989, 1099], \"y\": [-4.13304125279746, -1.7308918769188388, -1.5362835988968482, -1.18609786013409, -1.1547052589516325, -0.9770702171237622, -0.8974913205607583, -0.7979207110168869, -0.690337825275292, -0.6805382069932595], \"marker\": {\"color\": \"green\"}, \"name\": \"Cross-validation score\"}, {\"type\": \"scatter\", \"x\": [109, 219, 329, 439, 549, 659, 769, 879, 989, 1099], \"y\": [-3.6495308786976577, -1.3929021638138968, -1.1533224696550373, -0.8945434497135787, -0.8020138943161119, -0.6482508824337309, -0.5902942144216883, -0.46215500435076295, -0.3722582594414171, -0.35759613058738654], \"mode\": \"lines\", \"line\": {\"color\": \"green\", \"width\": 1}, \"showlegend\": false}, {\"type\": \"scatter\", \"x\": [109, 219, 329, 439, 549, 659, 769, 879, 989, 1099], \"y\": [-4.616551626897262, -2.068881590023781, -1.919244728138659, -1.4776522705546011, -1.507396623587153, -1.3058895518137934, -1.2046884266998283, -1.1336864176830108, -1.008417391109167, -1.0034802833991325], \"mode\": \"lines\", \"line\": {\"color\": \"green\", \"width\": 1}, \"fill\": \"tonexty\", \"showlegend\": false}], {\"hovermode\": \"closest\", \"font\": {\"size\": 14}, \"title\": \"Learning curves\", \"xaxis\": {\"title\": \"Training examples\", \"showline\": true, \"linewidth\": 1.5}, \"yaxis\": {\"title\": \"MAPE (%)\", \"showline\": true, \"linewidth\": 1.5}}, {\"showLink\": true, \"linkText\": \"Export to plot.ly\"})});</script>"
      ]
     },
     "metadata": {},
     "output_type": "display_data"
    }
   ],
   "source": [
    "learning_curves = plot_learning_curve(\n",
    "    estimator=pipeline_full,\n",
    "    X=X_train,\n",
    "    y=y_train,\n",
    "    scoring=mape_scorer,\n",
    "    cv=5,\n",
    "    train_sizes=np.linspace(.1, 1.0, 10),\n",
    "    n_jobs=-1,\n",
    "    title='Learning curves',\n",
    "    xtitle='Training examples',\n",
    "    ytitle='MAPE (%)')\n",
    "\n",
    "py.iplot(learning_curves, filename='mvc/learning_curves')"
   ]
  },
  {
   "cell_type": "markdown",
   "metadata": {},
   "source": [
    "# 8. Evaluation"
   ]
  },
  {
   "cell_type": "markdown",
   "metadata": {},
   "source": [
    "## 8.1. Prediction"
   ]
  },
  {
   "cell_type": "code",
   "execution_count": 17,
   "metadata": {},
   "outputs": [],
   "source": [
    "y_pred = pipeline_full.predict(X_test)"
   ]
  },
  {
   "cell_type": "markdown",
   "metadata": {},
   "source": [
    "## 8.2. Denormalize data"
   ]
  },
  {
   "cell_type": "code",
   "execution_count": 18,
   "metadata": {},
   "outputs": [],
   "source": [
    "_, y_pred_denorm = normalizer_test.inverse_transform(X_test, y_pred)\n",
    "_, y_test_denorm = normalizer_test.inverse_transform(X_test, y_test)"
   ]
  },
  {
   "cell_type": "markdown",
   "metadata": {},
   "source": [
    "## 8.3. Evaluate on all muscles"
   ]
  },
  {
   "cell_type": "code",
   "execution_count": 19,
   "metadata": {},
   "outputs": [],
   "source": [
    "from sklearn.metrics import mean_squared_error\n",
    "from sklearn.metrics import r2_score\n",
    "from sklearn.metrics import explained_variance_score\n",
    "\n",
    "\n",
    "def regression_report(y_test, y_pred, verbose=True):\n",
    "    report = {\n",
    "        'rmse': np.sqrt(mean_squared_error(y_test, y_pred)),\n",
    "        'mape': mape(y_test, y_pred),\n",
    "        'r2': r2_score(y_test, y_pred),\n",
    "        'variance': explained_variance_score(y_test, y_pred)\n",
    "    }\n",
    "    if verbose:\n",
    "        print_results(title='RMSE', toprint=report[\"rmse\"])\n",
    "        print_results(title='MAPE', toprint=report[\"mape\"])\n",
    "        print_results(title='R2', toprint=report[\"r2\"])\n",
    "        print_results(title='variance', toprint=report[\"variance\"])\n",
    "    return report"
   ]
  },
  {
   "cell_type": "code",
   "execution_count": 20,
   "metadata": {},
   "outputs": [
    {
     "name": "stdout",
     "output_type": "stream",
     "text": [
      "RMSE\n",
      "----------\n",
      "0.0026836167215905224\n",
      "\n",
      "MAPE\n",
      "----------\n",
      "0.36749478682948844\n",
      "\n",
      "R2\n",
      "----------\n",
      "0.9997355542066814\n",
      "\n",
      "variance\n",
      "----------\n",
      "0.9997355672026668\n",
      "\n"
     ]
    }
   ],
   "source": [
    "report = {}\n",
    "report['mean'] = regression_report(y_test_denorm,  y_pred_denorm)"
   ]
  },
  {
   "cell_type": "markdown",
   "metadata": {},
   "source": [
    "## 8.4. Evaluate on each muscle"
   ]
  },
  {
   "cell_type": "code",
   "execution_count": 21,
   "metadata": {},
   "outputs": [],
   "source": [
    "col_muscle = np.in1d(COL_NAMES, REF_COLS['categorical_cols'])\n",
    "for imuscle in np.unique(X_test[:, col_muscle]).astype(int):\n",
    "    subset = (X_test[:, col_muscle] == imuscle).ravel()\n",
    "    report[imuscle] = regression_report(\n",
    "        y_test_denorm[subset], y_pred_denorm[subset], verbose=False)\n",
    "\n",
    "report_by_muscle = pd.DataFrame(report).T.drop('mean', axis=0)\n",
    "report_by_muscle.index = conf['MUSCLES']"
   ]
  },
  {
   "cell_type": "code",
   "execution_count": 22,
   "metadata": {},
   "outputs": [],
   "source": [
    "def plot_bar_metrics(d, **kwargs):\n",
    "    trace_mape = go.Bar(\n",
    "        x=np.array(d.index),\n",
    "        y=np.array(d['mape']),\n",
    "        marker=MARKER_LAYOUT,\n",
    "        name='mape')\n",
    "\n",
    "    trace_rmse = go.Scatter(\n",
    "        x=np.array(d.index),\n",
    "        y=np.array(d['rmse']),\n",
    "        marker=dict(\n",
    "            color='rgba(117, 112, 179, 0.6)',\n",
    "            line=dict(\n",
    "                color='rgba(117, 112, 179, 1.0)',\n",
    "                width=2,\n",
    "            )),\n",
    "        name='rmse',\n",
    "        xaxis='x1',\n",
    "        yaxis='y2')\n",
    "\n",
    "    traces = [trace_mape, trace_rmse]\n",
    "\n",
    "    layout = BASE_LAYOUT.copy()\n",
    "    layout.update(\n",
    "        dict(\n",
    "            title=kwargs.get('title'),\n",
    "            xaxis=dict(\n",
    "                title=kwargs.get('xtitle'), showline=True, linewidth=1.5),\n",
    "            yaxis=dict(\n",
    "                title=kwargs.get('ytitle'), showline=True, linewidth=1.5),\n",
    "            yaxis2=dict(\n",
    "                overlaying='y',\n",
    "                side='right',\n",
    "                showgrid=False,\n",
    "                title=kwargs.get('y2title'),\n",
    "                showline=True,\n",
    "                zeroline=False,\n",
    "                linewidth=1.5),\n",
    "            legend=dict(x=1, y=1.1)))\n",
    "\n",
    "    return dict(data=traces, layout=layout)"
   ]
  },
  {
   "cell_type": "code",
   "execution_count": 23,
   "metadata": {},
   "outputs": [
    {
     "data": {
      "application/vnd.plotly.v1+json": {
       "data": [
        {
         "marker": {
          "color": "rgba(27, 158, 119, 0.6)",
          "line": {
           "color": "rgba(27, 158, 119, 1.0)",
           "width": 2
          }
         },
         "name": "mape",
         "type": "bar",
         "x": [
          "upper trapezius",
          "middle trapezius",
          "lower trapezius",
          "anterior deltoid",
          "middle deltoid",
          "posterior deltoid",
          "pectoralis major",
          "serratus anterior",
          "latissimus dorsi",
          "supraspinatus",
          "infraspinatus",
          "subscapularis"
         ],
         "y": [
          0.12451101133360416,
          0.25724151444996723,
          0.5499847502915883,
          0.33808651423954816,
          0.13120454111382515,
          0.20175740416949084,
          0.8544294509575104,
          0.18530989752804733,
          1.026658199008954,
          0.19001829043109436,
          0.4398124823619274,
          0.29165556593536585
         ]
        },
        {
         "marker": {
          "color": "rgba(117, 112, 179, 0.6)",
          "line": {
           "color": "rgba(117, 112, 179, 1.0)",
           "width": 2
          }
         },
         "name": "rmse",
         "type": "scatter",
         "x": [
          "upper trapezius",
          "middle trapezius",
          "lower trapezius",
          "anterior deltoid",
          "middle deltoid",
          "posterior deltoid",
          "pectoralis major",
          "serratus anterior",
          "latissimus dorsi",
          "supraspinatus",
          "infraspinatus",
          "subscapularis"
         ],
         "xaxis": "x1",
         "y": [
          0.00047171921638393226,
          0.0024555938462819554,
          0.008506519368901988,
          0.0009259887188791888,
          0.00031539147171206317,
          0.0004967518730538622,
          0.0006202144231985602,
          0.0009633694363166841,
          0.0014241238235177959,
          0.0002119556015408473,
          0.0002301190575926931,
          0.00015304083711545338
         ],
         "yaxis": "y2"
        }
       ],
       "layout": {
        "font": {
         "size": 14
        },
        "hovermode": "closest",
        "legend": {
         "x": 1,
         "y": 1.1
        },
        "title": "MAPE and RMSE for each muscle",
        "xaxis": {
         "linewidth": 1.5,
         "showline": true,
         "title": null
        },
        "yaxis": {
         "linewidth": 1.5,
         "showline": true,
         "title": "MAPE (%)"
        },
        "yaxis2": {
         "linewidth": 1.5,
         "overlaying": "y",
         "showgrid": false,
         "showline": true,
         "side": "right",
         "title": "RMSE (mV)",
         "zeroline": false
        }
       }
      },
      "text/html": [
       "<div id=\"112520de-4876-4551-8976-39c7ddf30189\" style=\"height: 525px; width: 100%;\" class=\"plotly-graph-div\"></div><script type=\"text/javascript\">require([\"plotly\"], function(Plotly) { window.PLOTLYENV=window.PLOTLYENV || {};window.PLOTLYENV.BASE_URL=\"https://plot.ly\";Plotly.newPlot(\"112520de-4876-4551-8976-39c7ddf30189\", [{\"type\": \"bar\", \"x\": [\"upper trapezius\", \"middle trapezius\", \"lower trapezius\", \"anterior deltoid\", \"middle deltoid\", \"posterior deltoid\", \"pectoralis major\", \"serratus anterior\", \"latissimus dorsi\", \"supraspinatus\", \"infraspinatus\", \"subscapularis\"], \"y\": [0.12451101133360416, 0.25724151444996723, 0.5499847502915883, 0.33808651423954816, 0.13120454111382515, 0.20175740416949084, 0.8544294509575104, 0.18530989752804733, 1.026658199008954, 0.19001829043109436, 0.4398124823619274, 0.29165556593536585], \"marker\": {\"color\": \"rgba(27, 158, 119, 0.6)\", \"line\": {\"color\": \"rgba(27, 158, 119, 1.0)\", \"width\": 2}}, \"name\": \"mape\"}, {\"type\": \"scatter\", \"x\": [\"upper trapezius\", \"middle trapezius\", \"lower trapezius\", \"anterior deltoid\", \"middle deltoid\", \"posterior deltoid\", \"pectoralis major\", \"serratus anterior\", \"latissimus dorsi\", \"supraspinatus\", \"infraspinatus\", \"subscapularis\"], \"y\": [0.00047171921638393226, 0.0024555938462819554, 0.008506519368901988, 0.0009259887188791888, 0.00031539147171206317, 0.0004967518730538622, 0.0006202144231985602, 0.0009633694363166841, 0.0014241238235177959, 0.0002119556015408473, 0.0002301190575926931, 0.00015304083711545338], \"marker\": {\"color\": \"rgba(117, 112, 179, 0.6)\", \"line\": {\"color\": \"rgba(117, 112, 179, 1.0)\", \"width\": 2}}, \"name\": \"rmse\", \"xaxis\": \"x1\", \"yaxis\": \"y2\"}], {\"hovermode\": \"closest\", \"font\": {\"size\": 14}, \"title\": \"MAPE and RMSE for each muscle\", \"xaxis\": {\"title\": null, \"showline\": true, \"linewidth\": 1.5}, \"yaxis\": {\"title\": \"MAPE (%)\", \"showline\": true, \"linewidth\": 1.5}, \"yaxis2\": {\"overlaying\": \"y\", \"side\": \"right\", \"showgrid\": false, \"title\": \"RMSE (mV)\", \"showline\": true, \"zeroline\": false, \"linewidth\": 1.5}, \"legend\": {\"x\": 1, \"y\": 1.1}}, {\"showLink\": true, \"linkText\": \"Export to plot.ly\"})});</script>"
      ],
      "text/vnd.plotly.v1+html": [
       "<div id=\"112520de-4876-4551-8976-39c7ddf30189\" style=\"height: 525px; width: 100%;\" class=\"plotly-graph-div\"></div><script type=\"text/javascript\">require([\"plotly\"], function(Plotly) { window.PLOTLYENV=window.PLOTLYENV || {};window.PLOTLYENV.BASE_URL=\"https://plot.ly\";Plotly.newPlot(\"112520de-4876-4551-8976-39c7ddf30189\", [{\"type\": \"bar\", \"x\": [\"upper trapezius\", \"middle trapezius\", \"lower trapezius\", \"anterior deltoid\", \"middle deltoid\", \"posterior deltoid\", \"pectoralis major\", \"serratus anterior\", \"latissimus dorsi\", \"supraspinatus\", \"infraspinatus\", \"subscapularis\"], \"y\": [0.12451101133360416, 0.25724151444996723, 0.5499847502915883, 0.33808651423954816, 0.13120454111382515, 0.20175740416949084, 0.8544294509575104, 0.18530989752804733, 1.026658199008954, 0.19001829043109436, 0.4398124823619274, 0.29165556593536585], \"marker\": {\"color\": \"rgba(27, 158, 119, 0.6)\", \"line\": {\"color\": \"rgba(27, 158, 119, 1.0)\", \"width\": 2}}, \"name\": \"mape\"}, {\"type\": \"scatter\", \"x\": [\"upper trapezius\", \"middle trapezius\", \"lower trapezius\", \"anterior deltoid\", \"middle deltoid\", \"posterior deltoid\", \"pectoralis major\", \"serratus anterior\", \"latissimus dorsi\", \"supraspinatus\", \"infraspinatus\", \"subscapularis\"], \"y\": [0.00047171921638393226, 0.0024555938462819554, 0.008506519368901988, 0.0009259887188791888, 0.00031539147171206317, 0.0004967518730538622, 0.0006202144231985602, 0.0009633694363166841, 0.0014241238235177959, 0.0002119556015408473, 0.0002301190575926931, 0.00015304083711545338], \"marker\": {\"color\": \"rgba(117, 112, 179, 0.6)\", \"line\": {\"color\": \"rgba(117, 112, 179, 1.0)\", \"width\": 2}}, \"name\": \"rmse\", \"xaxis\": \"x1\", \"yaxis\": \"y2\"}], {\"hovermode\": \"closest\", \"font\": {\"size\": 14}, \"title\": \"MAPE and RMSE for each muscle\", \"xaxis\": {\"title\": null, \"showline\": true, \"linewidth\": 1.5}, \"yaxis\": {\"title\": \"MAPE (%)\", \"showline\": true, \"linewidth\": 1.5}, \"yaxis2\": {\"overlaying\": \"y\", \"side\": \"right\", \"showgrid\": false, \"title\": \"RMSE (mV)\", \"showline\": true, \"zeroline\": false, \"linewidth\": 1.5}, \"legend\": {\"x\": 1, \"y\": 1.1}}, {\"showLink\": true, \"linkText\": \"Export to plot.ly\"})});</script>"
      ]
     },
     "metadata": {},
     "output_type": "display_data"
    }
   ],
   "source": [
    "metrics_by_muscle = plot_bar_metrics(\n",
    "    report_by_muscle,\n",
    "    title='MAPE and RMSE for each muscle',\n",
    "    ytitle='MAPE (%)',\n",
    "    y2title='RMSE (mV)')\n",
    "py.iplot(metrics_by_muscle, filename='mvc/metrics_by_muscle')"
   ]
  },
  {
   "cell_type": "markdown",
   "metadata": {},
   "source": [
    "# 9. Summary"
   ]
  },
  {
   "cell_type": "code",
   "execution_count": 24,
   "metadata": {},
   "outputs": [],
   "source": [
    "def table_regression_report(d, **kwargs):\n",
    "    table = ff.create_table(d, index=[d.index])\n",
    "    \n",
    "    table['layout'].update(font=dict(size=14))\n",
    "    return table"
   ]
  },
  {
   "cell_type": "code",
   "execution_count": 25,
   "metadata": {},
   "outputs": [
    {
     "data": {
      "application/vnd.plotly.v1+json": {
       "data": [
        {
         "colorscale": [
          [
           0,
           "#00083e"
          ],
          [
           0.5,
           "#ededee"
          ],
          [
           1,
           "#ffffff"
          ]
         ],
         "hoverinfo": "none",
         "opacity": 0.75,
         "showscale": false,
         "type": "heatmap",
         "z": [
          [
           0,
           0,
           0,
           0,
           0
          ],
          [
           0,
           0.5,
           0.5,
           0.5,
           0.5
          ],
          [
           0,
           1,
           1,
           1,
           1
          ],
          [
           0,
           0.5,
           0.5,
           0.5,
           0.5
          ],
          [
           0,
           1,
           1,
           1,
           1
          ],
          [
           0,
           0.5,
           0.5,
           0.5,
           0.5
          ],
          [
           0,
           1,
           1,
           1,
           1
          ],
          [
           0,
           0.5,
           0.5,
           0.5,
           0.5
          ],
          [
           0,
           1,
           1,
           1,
           1
          ],
          [
           0,
           0.5,
           0.5,
           0.5,
           0.5
          ],
          [
           0,
           1,
           1,
           1,
           1
          ],
          [
           0,
           0.5,
           0.5,
           0.5,
           0.5
          ],
          [
           0,
           1,
           1,
           1,
           1
          ],
          [
           0,
           0.5,
           0.5,
           0.5,
           0.5
          ]
         ]
        }
       ],
       "layout": {
        "annotations": [
         {
          "align": "left",
          "font": {
           "color": "#ffffff"
          },
          "showarrow": false,
          "text": "<b></b>",
          "x": -0.45,
          "xanchor": "left",
          "xref": "x1",
          "y": 0,
          "yref": "y1"
         },
         {
          "align": "left",
          "font": {
           "color": "#ffffff"
          },
          "showarrow": false,
          "text": "<b>mape</b>",
          "x": 0.55,
          "xanchor": "left",
          "xref": "x1",
          "y": 0,
          "yref": "y1"
         },
         {
          "align": "left",
          "font": {
           "color": "#ffffff"
          },
          "showarrow": false,
          "text": "<b>r2</b>",
          "x": 1.55,
          "xanchor": "left",
          "xref": "x1",
          "y": 0,
          "yref": "y1"
         },
         {
          "align": "left",
          "font": {
           "color": "#ffffff"
          },
          "showarrow": false,
          "text": "<b>rmse</b>",
          "x": 2.55,
          "xanchor": "left",
          "xref": "x1",
          "y": 0,
          "yref": "y1"
         },
         {
          "align": "left",
          "font": {
           "color": "#ffffff"
          },
          "showarrow": false,
          "text": "<b>variance</b>",
          "x": 3.55,
          "xanchor": "left",
          "xref": "x1",
          "y": 0,
          "yref": "y1"
         },
         {
          "align": "left",
          "font": {
           "color": "#ffffff"
          },
          "showarrow": false,
          "text": "<b>mean</b>",
          "x": -0.45,
          "xanchor": "left",
          "xref": "x1",
          "y": 1,
          "yref": "y1"
         },
         {
          "align": "left",
          "font": {
           "color": "#000000"
          },
          "showarrow": false,
          "text": "0.3675",
          "x": 0.55,
          "xanchor": "left",
          "xref": "x1",
          "y": 1,
          "yref": "y1"
         },
         {
          "align": "left",
          "font": {
           "color": "#000000"
          },
          "showarrow": false,
          "text": "0.9997",
          "x": 1.55,
          "xanchor": "left",
          "xref": "x1",
          "y": 1,
          "yref": "y1"
         },
         {
          "align": "left",
          "font": {
           "color": "#000000"
          },
          "showarrow": false,
          "text": "0.0027",
          "x": 2.55,
          "xanchor": "left",
          "xref": "x1",
          "y": 1,
          "yref": "y1"
         },
         {
          "align": "left",
          "font": {
           "color": "#000000"
          },
          "showarrow": false,
          "text": "0.9997",
          "x": 3.55,
          "xanchor": "left",
          "xref": "x1",
          "y": 1,
          "yref": "y1"
         },
         {
          "align": "left",
          "font": {
           "color": "#ffffff"
          },
          "showarrow": false,
          "text": "<b>upper trapezius</b>",
          "x": -0.45,
          "xanchor": "left",
          "xref": "x1",
          "y": 2,
          "yref": "y1"
         },
         {
          "align": "left",
          "font": {
           "color": "#000000"
          },
          "showarrow": false,
          "text": "0.1245",
          "x": 0.55,
          "xanchor": "left",
          "xref": "x1",
          "y": 2,
          "yref": "y1"
         },
         {
          "align": "left",
          "font": {
           "color": "#000000"
          },
          "showarrow": false,
          "text": "1.0",
          "x": 1.55,
          "xanchor": "left",
          "xref": "x1",
          "y": 2,
          "yref": "y1"
         },
         {
          "align": "left",
          "font": {
           "color": "#000000"
          },
          "showarrow": false,
          "text": "0.0005",
          "x": 2.55,
          "xanchor": "left",
          "xref": "x1",
          "y": 2,
          "yref": "y1"
         },
         {
          "align": "left",
          "font": {
           "color": "#000000"
          },
          "showarrow": false,
          "text": "1.0",
          "x": 3.55,
          "xanchor": "left",
          "xref": "x1",
          "y": 2,
          "yref": "y1"
         },
         {
          "align": "left",
          "font": {
           "color": "#ffffff"
          },
          "showarrow": false,
          "text": "<b>middle trapezius</b>",
          "x": -0.45,
          "xanchor": "left",
          "xref": "x1",
          "y": 3,
          "yref": "y1"
         },
         {
          "align": "left",
          "font": {
           "color": "#000000"
          },
          "showarrow": false,
          "text": "0.2572",
          "x": 0.55,
          "xanchor": "left",
          "xref": "x1",
          "y": 3,
          "yref": "y1"
         },
         {
          "align": "left",
          "font": {
           "color": "#000000"
          },
          "showarrow": false,
          "text": "0.9997",
          "x": 1.55,
          "xanchor": "left",
          "xref": "x1",
          "y": 3,
          "yref": "y1"
         },
         {
          "align": "left",
          "font": {
           "color": "#000000"
          },
          "showarrow": false,
          "text": "0.0025",
          "x": 2.55,
          "xanchor": "left",
          "xref": "x1",
          "y": 3,
          "yref": "y1"
         },
         {
          "align": "left",
          "font": {
           "color": "#000000"
          },
          "showarrow": false,
          "text": "0.9997",
          "x": 3.55,
          "xanchor": "left",
          "xref": "x1",
          "y": 3,
          "yref": "y1"
         },
         {
          "align": "left",
          "font": {
           "color": "#ffffff"
          },
          "showarrow": false,
          "text": "<b>lower trapezius</b>",
          "x": -0.45,
          "xanchor": "left",
          "xref": "x1",
          "y": 4,
          "yref": "y1"
         },
         {
          "align": "left",
          "font": {
           "color": "#000000"
          },
          "showarrow": false,
          "text": "0.55",
          "x": 0.55,
          "xanchor": "left",
          "xref": "x1",
          "y": 4,
          "yref": "y1"
         },
         {
          "align": "left",
          "font": {
           "color": "#000000"
          },
          "showarrow": false,
          "text": "0.9985",
          "x": 1.55,
          "xanchor": "left",
          "xref": "x1",
          "y": 4,
          "yref": "y1"
         },
         {
          "align": "left",
          "font": {
           "color": "#000000"
          },
          "showarrow": false,
          "text": "0.0085",
          "x": 2.55,
          "xanchor": "left",
          "xref": "x1",
          "y": 4,
          "yref": "y1"
         },
         {
          "align": "left",
          "font": {
           "color": "#000000"
          },
          "showarrow": false,
          "text": "0.9985",
          "x": 3.55,
          "xanchor": "left",
          "xref": "x1",
          "y": 4,
          "yref": "y1"
         },
         {
          "align": "left",
          "font": {
           "color": "#ffffff"
          },
          "showarrow": false,
          "text": "<b>anterior deltoid</b>",
          "x": -0.45,
          "xanchor": "left",
          "xref": "x1",
          "y": 5,
          "yref": "y1"
         },
         {
          "align": "left",
          "font": {
           "color": "#000000"
          },
          "showarrow": false,
          "text": "0.3381",
          "x": 0.55,
          "xanchor": "left",
          "xref": "x1",
          "y": 5,
          "yref": "y1"
         },
         {
          "align": "left",
          "font": {
           "color": "#000000"
          },
          "showarrow": false,
          "text": "1.0",
          "x": 1.55,
          "xanchor": "left",
          "xref": "x1",
          "y": 5,
          "yref": "y1"
         },
         {
          "align": "left",
          "font": {
           "color": "#000000"
          },
          "showarrow": false,
          "text": "0.0009",
          "x": 2.55,
          "xanchor": "left",
          "xref": "x1",
          "y": 5,
          "yref": "y1"
         },
         {
          "align": "left",
          "font": {
           "color": "#000000"
          },
          "showarrow": false,
          "text": "1.0",
          "x": 3.55,
          "xanchor": "left",
          "xref": "x1",
          "y": 5,
          "yref": "y1"
         },
         {
          "align": "left",
          "font": {
           "color": "#ffffff"
          },
          "showarrow": false,
          "text": "<b>middle deltoid</b>",
          "x": -0.45,
          "xanchor": "left",
          "xref": "x1",
          "y": 6,
          "yref": "y1"
         },
         {
          "align": "left",
          "font": {
           "color": "#000000"
          },
          "showarrow": false,
          "text": "0.1312",
          "x": 0.55,
          "xanchor": "left",
          "xref": "x1",
          "y": 6,
          "yref": "y1"
         },
         {
          "align": "left",
          "font": {
           "color": "#000000"
          },
          "showarrow": false,
          "text": "1.0",
          "x": 1.55,
          "xanchor": "left",
          "xref": "x1",
          "y": 6,
          "yref": "y1"
         },
         {
          "align": "left",
          "font": {
           "color": "#000000"
          },
          "showarrow": false,
          "text": "0.0003",
          "x": 2.55,
          "xanchor": "left",
          "xref": "x1",
          "y": 6,
          "yref": "y1"
         },
         {
          "align": "left",
          "font": {
           "color": "#000000"
          },
          "showarrow": false,
          "text": "1.0",
          "x": 3.55,
          "xanchor": "left",
          "xref": "x1",
          "y": 6,
          "yref": "y1"
         },
         {
          "align": "left",
          "font": {
           "color": "#ffffff"
          },
          "showarrow": false,
          "text": "<b>posterior deltoid</b>",
          "x": -0.45,
          "xanchor": "left",
          "xref": "x1",
          "y": 7,
          "yref": "y1"
         },
         {
          "align": "left",
          "font": {
           "color": "#000000"
          },
          "showarrow": false,
          "text": "0.2018",
          "x": 0.55,
          "xanchor": "left",
          "xref": "x1",
          "y": 7,
          "yref": "y1"
         },
         {
          "align": "left",
          "font": {
           "color": "#000000"
          },
          "showarrow": false,
          "text": "1.0",
          "x": 1.55,
          "xanchor": "left",
          "xref": "x1",
          "y": 7,
          "yref": "y1"
         },
         {
          "align": "left",
          "font": {
           "color": "#000000"
          },
          "showarrow": false,
          "text": "0.0005",
          "x": 2.55,
          "xanchor": "left",
          "xref": "x1",
          "y": 7,
          "yref": "y1"
         },
         {
          "align": "left",
          "font": {
           "color": "#000000"
          },
          "showarrow": false,
          "text": "1.0",
          "x": 3.55,
          "xanchor": "left",
          "xref": "x1",
          "y": 7,
          "yref": "y1"
         },
         {
          "align": "left",
          "font": {
           "color": "#ffffff"
          },
          "showarrow": false,
          "text": "<b>pectoralis major</b>",
          "x": -0.45,
          "xanchor": "left",
          "xref": "x1",
          "y": 8,
          "yref": "y1"
         },
         {
          "align": "left",
          "font": {
           "color": "#000000"
          },
          "showarrow": false,
          "text": "0.8544",
          "x": 0.55,
          "xanchor": "left",
          "xref": "x1",
          "y": 8,
          "yref": "y1"
         },
         {
          "align": "left",
          "font": {
           "color": "#000000"
          },
          "showarrow": false,
          "text": "0.9999",
          "x": 1.55,
          "xanchor": "left",
          "xref": "x1",
          "y": 8,
          "yref": "y1"
         },
         {
          "align": "left",
          "font": {
           "color": "#000000"
          },
          "showarrow": false,
          "text": "0.0006",
          "x": 2.55,
          "xanchor": "left",
          "xref": "x1",
          "y": 8,
          "yref": "y1"
         },
         {
          "align": "left",
          "font": {
           "color": "#000000"
          },
          "showarrow": false,
          "text": "0.9999",
          "x": 3.55,
          "xanchor": "left",
          "xref": "x1",
          "y": 8,
          "yref": "y1"
         },
         {
          "align": "left",
          "font": {
           "color": "#ffffff"
          },
          "showarrow": false,
          "text": "<b>serratus anterior</b>",
          "x": -0.45,
          "xanchor": "left",
          "xref": "x1",
          "y": 9,
          "yref": "y1"
         },
         {
          "align": "left",
          "font": {
           "color": "#000000"
          },
          "showarrow": false,
          "text": "0.1853",
          "x": 0.55,
          "xanchor": "left",
          "xref": "x1",
          "y": 9,
          "yref": "y1"
         },
         {
          "align": "left",
          "font": {
           "color": "#000000"
          },
          "showarrow": false,
          "text": "1.0",
          "x": 1.55,
          "xanchor": "left",
          "xref": "x1",
          "y": 9,
          "yref": "y1"
         },
         {
          "align": "left",
          "font": {
           "color": "#000000"
          },
          "showarrow": false,
          "text": "0.001",
          "x": 2.55,
          "xanchor": "left",
          "xref": "x1",
          "y": 9,
          "yref": "y1"
         },
         {
          "align": "left",
          "font": {
           "color": "#000000"
          },
          "showarrow": false,
          "text": "1.0",
          "x": 3.55,
          "xanchor": "left",
          "xref": "x1",
          "y": 9,
          "yref": "y1"
         },
         {
          "align": "left",
          "font": {
           "color": "#ffffff"
          },
          "showarrow": false,
          "text": "<b>latissimus dorsi</b>",
          "x": -0.45,
          "xanchor": "left",
          "xref": "x1",
          "y": 10,
          "yref": "y1"
         },
         {
          "align": "left",
          "font": {
           "color": "#000000"
          },
          "showarrow": false,
          "text": "1.0267",
          "x": 0.55,
          "xanchor": "left",
          "xref": "x1",
          "y": 10,
          "yref": "y1"
         },
         {
          "align": "left",
          "font": {
           "color": "#000000"
          },
          "showarrow": false,
          "text": "0.9998",
          "x": 1.55,
          "xanchor": "left",
          "xref": "x1",
          "y": 10,
          "yref": "y1"
         },
         {
          "align": "left",
          "font": {
           "color": "#000000"
          },
          "showarrow": false,
          "text": "0.0014",
          "x": 2.55,
          "xanchor": "left",
          "xref": "x1",
          "y": 10,
          "yref": "y1"
         },
         {
          "align": "left",
          "font": {
           "color": "#000000"
          },
          "showarrow": false,
          "text": "0.9998",
          "x": 3.55,
          "xanchor": "left",
          "xref": "x1",
          "y": 10,
          "yref": "y1"
         },
         {
          "align": "left",
          "font": {
           "color": "#ffffff"
          },
          "showarrow": false,
          "text": "<b>supraspinatus</b>",
          "x": -0.45,
          "xanchor": "left",
          "xref": "x1",
          "y": 11,
          "yref": "y1"
         },
         {
          "align": "left",
          "font": {
           "color": "#000000"
          },
          "showarrow": false,
          "text": "0.19",
          "x": 0.55,
          "xanchor": "left",
          "xref": "x1",
          "y": 11,
          "yref": "y1"
         },
         {
          "align": "left",
          "font": {
           "color": "#000000"
          },
          "showarrow": false,
          "text": "1.0",
          "x": 1.55,
          "xanchor": "left",
          "xref": "x1",
          "y": 11,
          "yref": "y1"
         },
         {
          "align": "left",
          "font": {
           "color": "#000000"
          },
          "showarrow": false,
          "text": "0.0002",
          "x": 2.55,
          "xanchor": "left",
          "xref": "x1",
          "y": 11,
          "yref": "y1"
         },
         {
          "align": "left",
          "font": {
           "color": "#000000"
          },
          "showarrow": false,
          "text": "1.0",
          "x": 3.55,
          "xanchor": "left",
          "xref": "x1",
          "y": 11,
          "yref": "y1"
         },
         {
          "align": "left",
          "font": {
           "color": "#ffffff"
          },
          "showarrow": false,
          "text": "<b>infraspinatus</b>",
          "x": -0.45,
          "xanchor": "left",
          "xref": "x1",
          "y": 12,
          "yref": "y1"
         },
         {
          "align": "left",
          "font": {
           "color": "#000000"
          },
          "showarrow": false,
          "text": "0.4398",
          "x": 0.55,
          "xanchor": "left",
          "xref": "x1",
          "y": 12,
          "yref": "y1"
         },
         {
          "align": "left",
          "font": {
           "color": "#000000"
          },
          "showarrow": false,
          "text": "1.0",
          "x": 1.55,
          "xanchor": "left",
          "xref": "x1",
          "y": 12,
          "yref": "y1"
         },
         {
          "align": "left",
          "font": {
           "color": "#000000"
          },
          "showarrow": false,
          "text": "0.0002",
          "x": 2.55,
          "xanchor": "left",
          "xref": "x1",
          "y": 12,
          "yref": "y1"
         },
         {
          "align": "left",
          "font": {
           "color": "#000000"
          },
          "showarrow": false,
          "text": "1.0",
          "x": 3.55,
          "xanchor": "left",
          "xref": "x1",
          "y": 12,
          "yref": "y1"
         },
         {
          "align": "left",
          "font": {
           "color": "#ffffff"
          },
          "showarrow": false,
          "text": "<b>subscapularis</b>",
          "x": -0.45,
          "xanchor": "left",
          "xref": "x1",
          "y": 13,
          "yref": "y1"
         },
         {
          "align": "left",
          "font": {
           "color": "#000000"
          },
          "showarrow": false,
          "text": "0.2917",
          "x": 0.55,
          "xanchor": "left",
          "xref": "x1",
          "y": 13,
          "yref": "y1"
         },
         {
          "align": "left",
          "font": {
           "color": "#000000"
          },
          "showarrow": false,
          "text": "1.0",
          "x": 1.55,
          "xanchor": "left",
          "xref": "x1",
          "y": 13,
          "yref": "y1"
         },
         {
          "align": "left",
          "font": {
           "color": "#000000"
          },
          "showarrow": false,
          "text": "0.0002",
          "x": 2.55,
          "xanchor": "left",
          "xref": "x1",
          "y": 13,
          "yref": "y1"
         },
         {
          "align": "left",
          "font": {
           "color": "#000000"
          },
          "showarrow": false,
          "text": "1.0",
          "x": 3.55,
          "xanchor": "left",
          "xref": "x1",
          "y": 13,
          "yref": "y1"
         }
        ],
        "font": {
         "size": 14
        },
        "height": 470,
        "margin": {
         "b": 0,
         "l": 0,
         "r": 0,
         "t": 0
        },
        "xaxis": {
         "dtick": 1,
         "gridwidth": 2,
         "showticklabels": false,
         "tick0": -0.5,
         "ticks": "",
         "zeroline": false
        },
        "yaxis": {
         "autorange": "reversed",
         "dtick": 1,
         "gridwidth": 2,
         "showticklabels": false,
         "tick0": 0.5,
         "ticks": "",
         "zeroline": false
        }
       }
      },
      "text/html": [
       "<div id=\"c7243a1e-3225-4f6c-84ca-ac3c76f65826\" style=\"height: 470px; width: 100%;\" class=\"plotly-graph-div\"></div><script type=\"text/javascript\">require([\"plotly\"], function(Plotly) { window.PLOTLYENV=window.PLOTLYENV || {};window.PLOTLYENV.BASE_URL=\"https://plot.ly\";Plotly.newPlot(\"c7243a1e-3225-4f6c-84ca-ac3c76f65826\", [{\"type\": \"heatmap\", \"z\": [[0, 0, 0, 0, 0], [0, 0.5, 0.5, 0.5, 0.5], [0, 1, 1, 1, 1], [0, 0.5, 0.5, 0.5, 0.5], [0, 1, 1, 1, 1], [0, 0.5, 0.5, 0.5, 0.5], [0, 1, 1, 1, 1], [0, 0.5, 0.5, 0.5, 0.5], [0, 1, 1, 1, 1], [0, 0.5, 0.5, 0.5, 0.5], [0, 1, 1, 1, 1], [0, 0.5, 0.5, 0.5, 0.5], [0, 1, 1, 1, 1], [0, 0.5, 0.5, 0.5, 0.5]], \"opacity\": 0.75, \"colorscale\": [[0, \"#00083e\"], [0.5, \"#ededee\"], [1, \"#ffffff\"]], \"showscale\": false, \"hoverinfo\": \"none\"}], {\"annotations\": [{\"text\": \"<b></b>\", \"x\": -0.45, \"y\": 0, \"xref\": \"x1\", \"yref\": \"y1\", \"align\": \"left\", \"xanchor\": \"left\", \"font\": {\"color\": \"#ffffff\"}, \"showarrow\": false}, {\"text\": \"<b>mape</b>\", \"x\": 0.55, \"y\": 0, \"xref\": \"x1\", \"yref\": \"y1\", \"align\": \"left\", \"xanchor\": \"left\", \"font\": {\"color\": \"#ffffff\"}, \"showarrow\": false}, {\"text\": \"<b>r2</b>\", \"x\": 1.55, \"y\": 0, \"xref\": \"x1\", \"yref\": \"y1\", \"align\": \"left\", \"xanchor\": \"left\", \"font\": {\"color\": \"#ffffff\"}, \"showarrow\": false}, {\"text\": \"<b>rmse</b>\", \"x\": 2.55, \"y\": 0, \"xref\": \"x1\", \"yref\": \"y1\", \"align\": \"left\", \"xanchor\": \"left\", \"font\": {\"color\": \"#ffffff\"}, \"showarrow\": false}, {\"text\": \"<b>variance</b>\", \"x\": 3.55, \"y\": 0, \"xref\": \"x1\", \"yref\": \"y1\", \"align\": \"left\", \"xanchor\": \"left\", \"font\": {\"color\": \"#ffffff\"}, \"showarrow\": false}, {\"text\": \"<b>mean</b>\", \"x\": -0.45, \"y\": 1, \"xref\": \"x1\", \"yref\": \"y1\", \"align\": \"left\", \"xanchor\": \"left\", \"font\": {\"color\": \"#ffffff\"}, \"showarrow\": false}, {\"text\": \"0.3675\", \"x\": 0.55, \"y\": 1, \"xref\": \"x1\", \"yref\": \"y1\", \"align\": \"left\", \"xanchor\": \"left\", \"font\": {\"color\": \"#000000\"}, \"showarrow\": false}, {\"text\": \"0.9997\", \"x\": 1.55, \"y\": 1, \"xref\": \"x1\", \"yref\": \"y1\", \"align\": \"left\", \"xanchor\": \"left\", \"font\": {\"color\": \"#000000\"}, \"showarrow\": false}, {\"text\": \"0.0027\", \"x\": 2.55, \"y\": 1, \"xref\": \"x1\", \"yref\": \"y1\", \"align\": \"left\", \"xanchor\": \"left\", \"font\": {\"color\": \"#000000\"}, \"showarrow\": false}, {\"text\": \"0.9997\", \"x\": 3.55, \"y\": 1, \"xref\": \"x1\", \"yref\": \"y1\", \"align\": \"left\", \"xanchor\": \"left\", \"font\": {\"color\": \"#000000\"}, \"showarrow\": false}, {\"text\": \"<b>upper trapezius</b>\", \"x\": -0.45, \"y\": 2, \"xref\": \"x1\", \"yref\": \"y1\", \"align\": \"left\", \"xanchor\": \"left\", \"font\": {\"color\": \"#ffffff\"}, \"showarrow\": false}, {\"text\": \"0.1245\", \"x\": 0.55, \"y\": 2, \"xref\": \"x1\", \"yref\": \"y1\", \"align\": \"left\", \"xanchor\": \"left\", \"font\": {\"color\": \"#000000\"}, \"showarrow\": false}, {\"text\": \"1.0\", \"x\": 1.55, \"y\": 2, \"xref\": \"x1\", \"yref\": \"y1\", \"align\": \"left\", \"xanchor\": \"left\", \"font\": {\"color\": \"#000000\"}, \"showarrow\": false}, {\"text\": \"0.0005\", \"x\": 2.55, \"y\": 2, \"xref\": \"x1\", \"yref\": \"y1\", \"align\": \"left\", \"xanchor\": \"left\", \"font\": {\"color\": \"#000000\"}, \"showarrow\": false}, {\"text\": \"1.0\", \"x\": 3.55, \"y\": 2, \"xref\": \"x1\", \"yref\": \"y1\", \"align\": \"left\", \"xanchor\": \"left\", \"font\": {\"color\": \"#000000\"}, \"showarrow\": false}, {\"text\": \"<b>middle trapezius</b>\", \"x\": -0.45, \"y\": 3, \"xref\": \"x1\", \"yref\": \"y1\", \"align\": \"left\", \"xanchor\": \"left\", \"font\": {\"color\": \"#ffffff\"}, \"showarrow\": false}, {\"text\": \"0.2572\", \"x\": 0.55, \"y\": 3, \"xref\": \"x1\", \"yref\": \"y1\", \"align\": \"left\", \"xanchor\": \"left\", \"font\": {\"color\": \"#000000\"}, \"showarrow\": false}, {\"text\": \"0.9997\", \"x\": 1.55, \"y\": 3, \"xref\": \"x1\", \"yref\": \"y1\", \"align\": \"left\", \"xanchor\": \"left\", \"font\": {\"color\": \"#000000\"}, \"showarrow\": false}, {\"text\": \"0.0025\", \"x\": 2.55, \"y\": 3, \"xref\": \"x1\", \"yref\": \"y1\", \"align\": \"left\", \"xanchor\": \"left\", \"font\": {\"color\": \"#000000\"}, \"showarrow\": false}, {\"text\": \"0.9997\", \"x\": 3.55, \"y\": 3, \"xref\": \"x1\", \"yref\": \"y1\", \"align\": \"left\", \"xanchor\": \"left\", \"font\": {\"color\": \"#000000\"}, \"showarrow\": false}, {\"text\": \"<b>lower trapezius</b>\", \"x\": -0.45, \"y\": 4, \"xref\": \"x1\", \"yref\": \"y1\", \"align\": \"left\", \"xanchor\": \"left\", \"font\": {\"color\": \"#ffffff\"}, \"showarrow\": false}, {\"text\": \"0.55\", \"x\": 0.55, \"y\": 4, \"xref\": \"x1\", \"yref\": \"y1\", \"align\": \"left\", \"xanchor\": \"left\", \"font\": {\"color\": \"#000000\"}, \"showarrow\": false}, {\"text\": \"0.9985\", \"x\": 1.55, \"y\": 4, \"xref\": \"x1\", \"yref\": \"y1\", \"align\": \"left\", \"xanchor\": \"left\", \"font\": {\"color\": \"#000000\"}, \"showarrow\": false}, {\"text\": \"0.0085\", \"x\": 2.55, \"y\": 4, \"xref\": \"x1\", \"yref\": \"y1\", \"align\": \"left\", \"xanchor\": \"left\", \"font\": {\"color\": \"#000000\"}, \"showarrow\": false}, {\"text\": \"0.9985\", \"x\": 3.55, \"y\": 4, \"xref\": \"x1\", \"yref\": \"y1\", \"align\": \"left\", \"xanchor\": \"left\", \"font\": {\"color\": \"#000000\"}, \"showarrow\": false}, {\"text\": \"<b>anterior deltoid</b>\", \"x\": -0.45, \"y\": 5, \"xref\": \"x1\", \"yref\": \"y1\", \"align\": \"left\", \"xanchor\": \"left\", \"font\": {\"color\": \"#ffffff\"}, \"showarrow\": false}, {\"text\": \"0.3381\", \"x\": 0.55, \"y\": 5, \"xref\": \"x1\", \"yref\": \"y1\", \"align\": \"left\", \"xanchor\": \"left\", \"font\": {\"color\": \"#000000\"}, \"showarrow\": false}, {\"text\": \"1.0\", \"x\": 1.55, \"y\": 5, \"xref\": \"x1\", \"yref\": \"y1\", \"align\": \"left\", \"xanchor\": \"left\", \"font\": {\"color\": \"#000000\"}, \"showarrow\": false}, {\"text\": \"0.0009\", \"x\": 2.55, \"y\": 5, \"xref\": \"x1\", \"yref\": \"y1\", \"align\": \"left\", \"xanchor\": \"left\", \"font\": {\"color\": \"#000000\"}, \"showarrow\": false}, {\"text\": \"1.0\", \"x\": 3.55, \"y\": 5, \"xref\": \"x1\", \"yref\": \"y1\", \"align\": \"left\", \"xanchor\": \"left\", \"font\": {\"color\": \"#000000\"}, \"showarrow\": false}, {\"text\": \"<b>middle deltoid</b>\", \"x\": -0.45, \"y\": 6, \"xref\": \"x1\", \"yref\": \"y1\", \"align\": \"left\", \"xanchor\": \"left\", \"font\": {\"color\": \"#ffffff\"}, \"showarrow\": false}, {\"text\": \"0.1312\", \"x\": 0.55, \"y\": 6, \"xref\": \"x1\", \"yref\": \"y1\", \"align\": \"left\", \"xanchor\": \"left\", \"font\": {\"color\": \"#000000\"}, \"showarrow\": false}, {\"text\": \"1.0\", \"x\": 1.55, \"y\": 6, \"xref\": \"x1\", \"yref\": \"y1\", \"align\": \"left\", \"xanchor\": \"left\", \"font\": {\"color\": \"#000000\"}, \"showarrow\": false}, {\"text\": \"0.0003\", \"x\": 2.55, \"y\": 6, \"xref\": \"x1\", \"yref\": \"y1\", \"align\": \"left\", \"xanchor\": \"left\", \"font\": {\"color\": \"#000000\"}, \"showarrow\": false}, {\"text\": \"1.0\", \"x\": 3.55, \"y\": 6, \"xref\": \"x1\", \"yref\": \"y1\", \"align\": \"left\", \"xanchor\": \"left\", \"font\": {\"color\": \"#000000\"}, \"showarrow\": false}, {\"text\": \"<b>posterior deltoid</b>\", \"x\": -0.45, \"y\": 7, \"xref\": \"x1\", \"yref\": \"y1\", \"align\": \"left\", \"xanchor\": \"left\", \"font\": {\"color\": \"#ffffff\"}, \"showarrow\": false}, {\"text\": \"0.2018\", \"x\": 0.55, \"y\": 7, \"xref\": \"x1\", \"yref\": \"y1\", \"align\": \"left\", \"xanchor\": \"left\", \"font\": {\"color\": \"#000000\"}, \"showarrow\": false}, {\"text\": \"1.0\", \"x\": 1.55, \"y\": 7, \"xref\": \"x1\", \"yref\": \"y1\", \"align\": \"left\", \"xanchor\": \"left\", \"font\": {\"color\": \"#000000\"}, \"showarrow\": false}, {\"text\": \"0.0005\", \"x\": 2.55, \"y\": 7, \"xref\": \"x1\", \"yref\": \"y1\", \"align\": \"left\", \"xanchor\": \"left\", \"font\": {\"color\": \"#000000\"}, \"showarrow\": false}, {\"text\": \"1.0\", \"x\": 3.55, \"y\": 7, \"xref\": \"x1\", \"yref\": \"y1\", \"align\": \"left\", \"xanchor\": \"left\", \"font\": {\"color\": \"#000000\"}, \"showarrow\": false}, {\"text\": \"<b>pectoralis major</b>\", \"x\": -0.45, \"y\": 8, \"xref\": \"x1\", \"yref\": \"y1\", \"align\": \"left\", \"xanchor\": \"left\", \"font\": {\"color\": \"#ffffff\"}, \"showarrow\": false}, {\"text\": \"0.8544\", \"x\": 0.55, \"y\": 8, \"xref\": \"x1\", \"yref\": \"y1\", \"align\": \"left\", \"xanchor\": \"left\", \"font\": {\"color\": \"#000000\"}, \"showarrow\": false}, {\"text\": \"0.9999\", \"x\": 1.55, \"y\": 8, \"xref\": \"x1\", \"yref\": \"y1\", \"align\": \"left\", \"xanchor\": \"left\", \"font\": {\"color\": \"#000000\"}, \"showarrow\": false}, {\"text\": \"0.0006\", \"x\": 2.55, \"y\": 8, \"xref\": \"x1\", \"yref\": \"y1\", \"align\": \"left\", \"xanchor\": \"left\", \"font\": {\"color\": \"#000000\"}, \"showarrow\": false}, {\"text\": \"0.9999\", \"x\": 3.55, \"y\": 8, \"xref\": \"x1\", \"yref\": \"y1\", \"align\": \"left\", \"xanchor\": \"left\", \"font\": {\"color\": \"#000000\"}, \"showarrow\": false}, {\"text\": \"<b>serratus anterior</b>\", \"x\": -0.45, \"y\": 9, \"xref\": \"x1\", \"yref\": \"y1\", \"align\": \"left\", \"xanchor\": \"left\", \"font\": {\"color\": \"#ffffff\"}, \"showarrow\": false}, {\"text\": \"0.1853\", \"x\": 0.55, \"y\": 9, \"xref\": \"x1\", \"yref\": \"y1\", \"align\": \"left\", \"xanchor\": \"left\", \"font\": {\"color\": \"#000000\"}, \"showarrow\": false}, {\"text\": \"1.0\", \"x\": 1.55, \"y\": 9, \"xref\": \"x1\", \"yref\": \"y1\", \"align\": \"left\", \"xanchor\": \"left\", \"font\": {\"color\": \"#000000\"}, \"showarrow\": false}, {\"text\": \"0.001\", \"x\": 2.55, \"y\": 9, \"xref\": \"x1\", \"yref\": \"y1\", \"align\": \"left\", \"xanchor\": \"left\", \"font\": {\"color\": \"#000000\"}, \"showarrow\": false}, {\"text\": \"1.0\", \"x\": 3.55, \"y\": 9, \"xref\": \"x1\", \"yref\": \"y1\", \"align\": \"left\", \"xanchor\": \"left\", \"font\": {\"color\": \"#000000\"}, \"showarrow\": false}, {\"text\": \"<b>latissimus dorsi</b>\", \"x\": -0.45, \"y\": 10, \"xref\": \"x1\", \"yref\": \"y1\", \"align\": \"left\", \"xanchor\": \"left\", \"font\": {\"color\": \"#ffffff\"}, \"showarrow\": false}, {\"text\": \"1.0267\", \"x\": 0.55, \"y\": 10, \"xref\": \"x1\", \"yref\": \"y1\", \"align\": \"left\", \"xanchor\": \"left\", \"font\": {\"color\": \"#000000\"}, \"showarrow\": false}, {\"text\": \"0.9998\", \"x\": 1.55, \"y\": 10, \"xref\": \"x1\", \"yref\": \"y1\", \"align\": \"left\", \"xanchor\": \"left\", \"font\": {\"color\": \"#000000\"}, \"showarrow\": false}, {\"text\": \"0.0014\", \"x\": 2.55, \"y\": 10, \"xref\": \"x1\", \"yref\": \"y1\", \"align\": \"left\", \"xanchor\": \"left\", \"font\": {\"color\": \"#000000\"}, \"showarrow\": false}, {\"text\": \"0.9998\", \"x\": 3.55, \"y\": 10, \"xref\": \"x1\", \"yref\": \"y1\", \"align\": \"left\", \"xanchor\": \"left\", \"font\": {\"color\": \"#000000\"}, \"showarrow\": false}, {\"text\": \"<b>supraspinatus</b>\", \"x\": -0.45, \"y\": 11, \"xref\": \"x1\", \"yref\": \"y1\", \"align\": \"left\", \"xanchor\": \"left\", \"font\": {\"color\": \"#ffffff\"}, \"showarrow\": false}, {\"text\": \"0.19\", \"x\": 0.55, \"y\": 11, \"xref\": \"x1\", \"yref\": \"y1\", \"align\": \"left\", \"xanchor\": \"left\", \"font\": {\"color\": \"#000000\"}, \"showarrow\": false}, {\"text\": \"1.0\", \"x\": 1.55, \"y\": 11, \"xref\": \"x1\", \"yref\": \"y1\", \"align\": \"left\", \"xanchor\": \"left\", \"font\": {\"color\": \"#000000\"}, \"showarrow\": false}, {\"text\": \"0.0002\", \"x\": 2.55, \"y\": 11, \"xref\": \"x1\", \"yref\": \"y1\", \"align\": \"left\", \"xanchor\": \"left\", \"font\": {\"color\": \"#000000\"}, \"showarrow\": false}, {\"text\": \"1.0\", \"x\": 3.55, \"y\": 11, \"xref\": \"x1\", \"yref\": \"y1\", \"align\": \"left\", \"xanchor\": \"left\", \"font\": {\"color\": \"#000000\"}, \"showarrow\": false}, {\"text\": \"<b>infraspinatus</b>\", \"x\": -0.45, \"y\": 12, \"xref\": \"x1\", \"yref\": \"y1\", \"align\": \"left\", \"xanchor\": \"left\", \"font\": {\"color\": \"#ffffff\"}, \"showarrow\": false}, {\"text\": \"0.4398\", \"x\": 0.55, \"y\": 12, \"xref\": \"x1\", \"yref\": \"y1\", \"align\": \"left\", \"xanchor\": \"left\", \"font\": {\"color\": \"#000000\"}, \"showarrow\": false}, {\"text\": \"1.0\", \"x\": 1.55, \"y\": 12, \"xref\": \"x1\", \"yref\": \"y1\", \"align\": \"left\", \"xanchor\": \"left\", \"font\": {\"color\": \"#000000\"}, \"showarrow\": false}, {\"text\": \"0.0002\", \"x\": 2.55, \"y\": 12, \"xref\": \"x1\", \"yref\": \"y1\", \"align\": \"left\", \"xanchor\": \"left\", \"font\": {\"color\": \"#000000\"}, \"showarrow\": false}, {\"text\": \"1.0\", \"x\": 3.55, \"y\": 12, \"xref\": \"x1\", \"yref\": \"y1\", \"align\": \"left\", \"xanchor\": \"left\", \"font\": {\"color\": \"#000000\"}, \"showarrow\": false}, {\"text\": \"<b>subscapularis</b>\", \"x\": -0.45, \"y\": 13, \"xref\": \"x1\", \"yref\": \"y1\", \"align\": \"left\", \"xanchor\": \"left\", \"font\": {\"color\": \"#ffffff\"}, \"showarrow\": false}, {\"text\": \"0.2917\", \"x\": 0.55, \"y\": 13, \"xref\": \"x1\", \"yref\": \"y1\", \"align\": \"left\", \"xanchor\": \"left\", \"font\": {\"color\": \"#000000\"}, \"showarrow\": false}, {\"text\": \"1.0\", \"x\": 1.55, \"y\": 13, \"xref\": \"x1\", \"yref\": \"y1\", \"align\": \"left\", \"xanchor\": \"left\", \"font\": {\"color\": \"#000000\"}, \"showarrow\": false}, {\"text\": \"0.0002\", \"x\": 2.55, \"y\": 13, \"xref\": \"x1\", \"yref\": \"y1\", \"align\": \"left\", \"xanchor\": \"left\", \"font\": {\"color\": \"#000000\"}, \"showarrow\": false}, {\"text\": \"1.0\", \"x\": 3.55, \"y\": 13, \"xref\": \"x1\", \"yref\": \"y1\", \"align\": \"left\", \"xanchor\": \"left\", \"font\": {\"color\": \"#000000\"}, \"showarrow\": false}], \"height\": 470, \"margin\": {\"t\": 0, \"b\": 0, \"r\": 0, \"l\": 0}, \"yaxis\": {\"autorange\": \"reversed\", \"zeroline\": false, \"gridwidth\": 2, \"ticks\": \"\", \"dtick\": 1, \"tick0\": 0.5, \"showticklabels\": false}, \"xaxis\": {\"zeroline\": false, \"gridwidth\": 2, \"ticks\": \"\", \"dtick\": 1, \"tick0\": -0.5, \"showticklabels\": false}, \"font\": {\"size\": 14}}, {\"showLink\": true, \"linkText\": \"Export to plot.ly\"})});</script>"
      ],
      "text/vnd.plotly.v1+html": [
       "<div id=\"c7243a1e-3225-4f6c-84ca-ac3c76f65826\" style=\"height: 470px; width: 100%;\" class=\"plotly-graph-div\"></div><script type=\"text/javascript\">require([\"plotly\"], function(Plotly) { window.PLOTLYENV=window.PLOTLYENV || {};window.PLOTLYENV.BASE_URL=\"https://plot.ly\";Plotly.newPlot(\"c7243a1e-3225-4f6c-84ca-ac3c76f65826\", [{\"type\": \"heatmap\", \"z\": [[0, 0, 0, 0, 0], [0, 0.5, 0.5, 0.5, 0.5], [0, 1, 1, 1, 1], [0, 0.5, 0.5, 0.5, 0.5], [0, 1, 1, 1, 1], [0, 0.5, 0.5, 0.5, 0.5], [0, 1, 1, 1, 1], [0, 0.5, 0.5, 0.5, 0.5], [0, 1, 1, 1, 1], [0, 0.5, 0.5, 0.5, 0.5], [0, 1, 1, 1, 1], [0, 0.5, 0.5, 0.5, 0.5], [0, 1, 1, 1, 1], [0, 0.5, 0.5, 0.5, 0.5]], \"opacity\": 0.75, \"colorscale\": [[0, \"#00083e\"], [0.5, \"#ededee\"], [1, \"#ffffff\"]], \"showscale\": false, \"hoverinfo\": \"none\"}], {\"annotations\": [{\"text\": \"<b></b>\", \"x\": -0.45, \"y\": 0, \"xref\": \"x1\", \"yref\": \"y1\", \"align\": \"left\", \"xanchor\": \"left\", \"font\": {\"color\": \"#ffffff\"}, \"showarrow\": false}, {\"text\": \"<b>mape</b>\", \"x\": 0.55, \"y\": 0, \"xref\": \"x1\", \"yref\": \"y1\", \"align\": \"left\", \"xanchor\": \"left\", \"font\": {\"color\": \"#ffffff\"}, \"showarrow\": false}, {\"text\": \"<b>r2</b>\", \"x\": 1.55, \"y\": 0, \"xref\": \"x1\", \"yref\": \"y1\", \"align\": \"left\", \"xanchor\": \"left\", \"font\": {\"color\": \"#ffffff\"}, \"showarrow\": false}, {\"text\": \"<b>rmse</b>\", \"x\": 2.55, \"y\": 0, \"xref\": \"x1\", \"yref\": \"y1\", \"align\": \"left\", \"xanchor\": \"left\", \"font\": {\"color\": \"#ffffff\"}, \"showarrow\": false}, {\"text\": \"<b>variance</b>\", \"x\": 3.55, \"y\": 0, \"xref\": \"x1\", \"yref\": \"y1\", \"align\": \"left\", \"xanchor\": \"left\", \"font\": {\"color\": \"#ffffff\"}, \"showarrow\": false}, {\"text\": \"<b>mean</b>\", \"x\": -0.45, \"y\": 1, \"xref\": \"x1\", \"yref\": \"y1\", \"align\": \"left\", \"xanchor\": \"left\", \"font\": {\"color\": \"#ffffff\"}, \"showarrow\": false}, {\"text\": \"0.3675\", \"x\": 0.55, \"y\": 1, \"xref\": \"x1\", \"yref\": \"y1\", \"align\": \"left\", \"xanchor\": \"left\", \"font\": {\"color\": \"#000000\"}, \"showarrow\": false}, {\"text\": \"0.9997\", \"x\": 1.55, \"y\": 1, \"xref\": \"x1\", \"yref\": \"y1\", \"align\": \"left\", \"xanchor\": \"left\", \"font\": {\"color\": \"#000000\"}, \"showarrow\": false}, {\"text\": \"0.0027\", \"x\": 2.55, \"y\": 1, \"xref\": \"x1\", \"yref\": \"y1\", \"align\": \"left\", \"xanchor\": \"left\", \"font\": {\"color\": \"#000000\"}, \"showarrow\": false}, {\"text\": \"0.9997\", \"x\": 3.55, \"y\": 1, \"xref\": \"x1\", \"yref\": \"y1\", \"align\": \"left\", \"xanchor\": \"left\", \"font\": {\"color\": \"#000000\"}, \"showarrow\": false}, {\"text\": \"<b>upper trapezius</b>\", \"x\": -0.45, \"y\": 2, \"xref\": \"x1\", \"yref\": \"y1\", \"align\": \"left\", \"xanchor\": \"left\", \"font\": {\"color\": \"#ffffff\"}, \"showarrow\": false}, {\"text\": \"0.1245\", \"x\": 0.55, \"y\": 2, \"xref\": \"x1\", \"yref\": \"y1\", \"align\": \"left\", \"xanchor\": \"left\", \"font\": {\"color\": \"#000000\"}, \"showarrow\": false}, {\"text\": \"1.0\", \"x\": 1.55, \"y\": 2, \"xref\": \"x1\", \"yref\": \"y1\", \"align\": \"left\", \"xanchor\": \"left\", \"font\": {\"color\": \"#000000\"}, \"showarrow\": false}, {\"text\": \"0.0005\", \"x\": 2.55, \"y\": 2, \"xref\": \"x1\", \"yref\": \"y1\", \"align\": \"left\", \"xanchor\": \"left\", \"font\": {\"color\": \"#000000\"}, \"showarrow\": false}, {\"text\": \"1.0\", \"x\": 3.55, \"y\": 2, \"xref\": \"x1\", \"yref\": \"y1\", \"align\": \"left\", \"xanchor\": \"left\", \"font\": {\"color\": \"#000000\"}, \"showarrow\": false}, {\"text\": \"<b>middle trapezius</b>\", \"x\": -0.45, \"y\": 3, \"xref\": \"x1\", \"yref\": \"y1\", \"align\": \"left\", \"xanchor\": \"left\", \"font\": {\"color\": \"#ffffff\"}, \"showarrow\": false}, {\"text\": \"0.2572\", \"x\": 0.55, \"y\": 3, \"xref\": \"x1\", \"yref\": \"y1\", \"align\": \"left\", \"xanchor\": \"left\", \"font\": {\"color\": \"#000000\"}, \"showarrow\": false}, {\"text\": \"0.9997\", \"x\": 1.55, \"y\": 3, \"xref\": \"x1\", \"yref\": \"y1\", \"align\": \"left\", \"xanchor\": \"left\", \"font\": {\"color\": \"#000000\"}, \"showarrow\": false}, {\"text\": \"0.0025\", \"x\": 2.55, \"y\": 3, \"xref\": \"x1\", \"yref\": \"y1\", \"align\": \"left\", \"xanchor\": \"left\", \"font\": {\"color\": \"#000000\"}, \"showarrow\": false}, {\"text\": \"0.9997\", \"x\": 3.55, \"y\": 3, \"xref\": \"x1\", \"yref\": \"y1\", \"align\": \"left\", \"xanchor\": \"left\", \"font\": {\"color\": \"#000000\"}, \"showarrow\": false}, {\"text\": \"<b>lower trapezius</b>\", \"x\": -0.45, \"y\": 4, \"xref\": \"x1\", \"yref\": \"y1\", \"align\": \"left\", \"xanchor\": \"left\", \"font\": {\"color\": \"#ffffff\"}, \"showarrow\": false}, {\"text\": \"0.55\", \"x\": 0.55, \"y\": 4, \"xref\": \"x1\", \"yref\": \"y1\", \"align\": \"left\", \"xanchor\": \"left\", \"font\": {\"color\": \"#000000\"}, \"showarrow\": false}, {\"text\": \"0.9985\", \"x\": 1.55, \"y\": 4, \"xref\": \"x1\", \"yref\": \"y1\", \"align\": \"left\", \"xanchor\": \"left\", \"font\": {\"color\": \"#000000\"}, \"showarrow\": false}, {\"text\": \"0.0085\", \"x\": 2.55, \"y\": 4, \"xref\": \"x1\", \"yref\": \"y1\", \"align\": \"left\", \"xanchor\": \"left\", \"font\": {\"color\": \"#000000\"}, \"showarrow\": false}, {\"text\": \"0.9985\", \"x\": 3.55, \"y\": 4, \"xref\": \"x1\", \"yref\": \"y1\", \"align\": \"left\", \"xanchor\": \"left\", \"font\": {\"color\": \"#000000\"}, \"showarrow\": false}, {\"text\": \"<b>anterior deltoid</b>\", \"x\": -0.45, \"y\": 5, \"xref\": \"x1\", \"yref\": \"y1\", \"align\": \"left\", \"xanchor\": \"left\", \"font\": {\"color\": \"#ffffff\"}, \"showarrow\": false}, {\"text\": \"0.3381\", \"x\": 0.55, \"y\": 5, \"xref\": \"x1\", \"yref\": \"y1\", \"align\": \"left\", \"xanchor\": \"left\", \"font\": {\"color\": \"#000000\"}, \"showarrow\": false}, {\"text\": \"1.0\", \"x\": 1.55, \"y\": 5, \"xref\": \"x1\", \"yref\": \"y1\", \"align\": \"left\", \"xanchor\": \"left\", \"font\": {\"color\": \"#000000\"}, \"showarrow\": false}, {\"text\": \"0.0009\", \"x\": 2.55, \"y\": 5, \"xref\": \"x1\", \"yref\": \"y1\", \"align\": \"left\", \"xanchor\": \"left\", \"font\": {\"color\": \"#000000\"}, \"showarrow\": false}, {\"text\": \"1.0\", \"x\": 3.55, \"y\": 5, \"xref\": \"x1\", \"yref\": \"y1\", \"align\": \"left\", \"xanchor\": \"left\", \"font\": {\"color\": \"#000000\"}, \"showarrow\": false}, {\"text\": \"<b>middle deltoid</b>\", \"x\": -0.45, \"y\": 6, \"xref\": \"x1\", \"yref\": \"y1\", \"align\": \"left\", \"xanchor\": \"left\", \"font\": {\"color\": \"#ffffff\"}, \"showarrow\": false}, {\"text\": \"0.1312\", \"x\": 0.55, \"y\": 6, \"xref\": \"x1\", \"yref\": \"y1\", \"align\": \"left\", \"xanchor\": \"left\", \"font\": {\"color\": \"#000000\"}, \"showarrow\": false}, {\"text\": \"1.0\", \"x\": 1.55, \"y\": 6, \"xref\": \"x1\", \"yref\": \"y1\", \"align\": \"left\", \"xanchor\": \"left\", \"font\": {\"color\": \"#000000\"}, \"showarrow\": false}, {\"text\": \"0.0003\", \"x\": 2.55, \"y\": 6, \"xref\": \"x1\", \"yref\": \"y1\", \"align\": \"left\", \"xanchor\": \"left\", \"font\": {\"color\": \"#000000\"}, \"showarrow\": false}, {\"text\": \"1.0\", \"x\": 3.55, \"y\": 6, \"xref\": \"x1\", \"yref\": \"y1\", \"align\": \"left\", \"xanchor\": \"left\", \"font\": {\"color\": \"#000000\"}, \"showarrow\": false}, {\"text\": \"<b>posterior deltoid</b>\", \"x\": -0.45, \"y\": 7, \"xref\": \"x1\", \"yref\": \"y1\", \"align\": \"left\", \"xanchor\": \"left\", \"font\": {\"color\": \"#ffffff\"}, \"showarrow\": false}, {\"text\": \"0.2018\", \"x\": 0.55, \"y\": 7, \"xref\": \"x1\", \"yref\": \"y1\", \"align\": \"left\", \"xanchor\": \"left\", \"font\": {\"color\": \"#000000\"}, \"showarrow\": false}, {\"text\": \"1.0\", \"x\": 1.55, \"y\": 7, \"xref\": \"x1\", \"yref\": \"y1\", \"align\": \"left\", \"xanchor\": \"left\", \"font\": {\"color\": \"#000000\"}, \"showarrow\": false}, {\"text\": \"0.0005\", \"x\": 2.55, \"y\": 7, \"xref\": \"x1\", \"yref\": \"y1\", \"align\": \"left\", \"xanchor\": \"left\", \"font\": {\"color\": \"#000000\"}, \"showarrow\": false}, {\"text\": \"1.0\", \"x\": 3.55, \"y\": 7, \"xref\": \"x1\", \"yref\": \"y1\", \"align\": \"left\", \"xanchor\": \"left\", \"font\": {\"color\": \"#000000\"}, \"showarrow\": false}, {\"text\": \"<b>pectoralis major</b>\", \"x\": -0.45, \"y\": 8, \"xref\": \"x1\", \"yref\": \"y1\", \"align\": \"left\", \"xanchor\": \"left\", \"font\": {\"color\": \"#ffffff\"}, \"showarrow\": false}, {\"text\": \"0.8544\", \"x\": 0.55, \"y\": 8, \"xref\": \"x1\", \"yref\": \"y1\", \"align\": \"left\", \"xanchor\": \"left\", \"font\": {\"color\": \"#000000\"}, \"showarrow\": false}, {\"text\": \"0.9999\", \"x\": 1.55, \"y\": 8, \"xref\": \"x1\", \"yref\": \"y1\", \"align\": \"left\", \"xanchor\": \"left\", \"font\": {\"color\": \"#000000\"}, \"showarrow\": false}, {\"text\": \"0.0006\", \"x\": 2.55, \"y\": 8, \"xref\": \"x1\", \"yref\": \"y1\", \"align\": \"left\", \"xanchor\": \"left\", \"font\": {\"color\": \"#000000\"}, \"showarrow\": false}, {\"text\": \"0.9999\", \"x\": 3.55, \"y\": 8, \"xref\": \"x1\", \"yref\": \"y1\", \"align\": \"left\", \"xanchor\": \"left\", \"font\": {\"color\": \"#000000\"}, \"showarrow\": false}, {\"text\": \"<b>serratus anterior</b>\", \"x\": -0.45, \"y\": 9, \"xref\": \"x1\", \"yref\": \"y1\", \"align\": \"left\", \"xanchor\": \"left\", \"font\": {\"color\": \"#ffffff\"}, \"showarrow\": false}, {\"text\": \"0.1853\", \"x\": 0.55, \"y\": 9, \"xref\": \"x1\", \"yref\": \"y1\", \"align\": \"left\", \"xanchor\": \"left\", \"font\": {\"color\": \"#000000\"}, \"showarrow\": false}, {\"text\": \"1.0\", \"x\": 1.55, \"y\": 9, \"xref\": \"x1\", \"yref\": \"y1\", \"align\": \"left\", \"xanchor\": \"left\", \"font\": {\"color\": \"#000000\"}, \"showarrow\": false}, {\"text\": \"0.001\", \"x\": 2.55, \"y\": 9, \"xref\": \"x1\", \"yref\": \"y1\", \"align\": \"left\", \"xanchor\": \"left\", \"font\": {\"color\": \"#000000\"}, \"showarrow\": false}, {\"text\": \"1.0\", \"x\": 3.55, \"y\": 9, \"xref\": \"x1\", \"yref\": \"y1\", \"align\": \"left\", \"xanchor\": \"left\", \"font\": {\"color\": \"#000000\"}, \"showarrow\": false}, {\"text\": \"<b>latissimus dorsi</b>\", \"x\": -0.45, \"y\": 10, \"xref\": \"x1\", \"yref\": \"y1\", \"align\": \"left\", \"xanchor\": \"left\", \"font\": {\"color\": \"#ffffff\"}, \"showarrow\": false}, {\"text\": \"1.0267\", \"x\": 0.55, \"y\": 10, \"xref\": \"x1\", \"yref\": \"y1\", \"align\": \"left\", \"xanchor\": \"left\", \"font\": {\"color\": \"#000000\"}, \"showarrow\": false}, {\"text\": \"0.9998\", \"x\": 1.55, \"y\": 10, \"xref\": \"x1\", \"yref\": \"y1\", \"align\": \"left\", \"xanchor\": \"left\", \"font\": {\"color\": \"#000000\"}, \"showarrow\": false}, {\"text\": \"0.0014\", \"x\": 2.55, \"y\": 10, \"xref\": \"x1\", \"yref\": \"y1\", \"align\": \"left\", \"xanchor\": \"left\", \"font\": {\"color\": \"#000000\"}, \"showarrow\": false}, {\"text\": \"0.9998\", \"x\": 3.55, \"y\": 10, \"xref\": \"x1\", \"yref\": \"y1\", \"align\": \"left\", \"xanchor\": \"left\", \"font\": {\"color\": \"#000000\"}, \"showarrow\": false}, {\"text\": \"<b>supraspinatus</b>\", \"x\": -0.45, \"y\": 11, \"xref\": \"x1\", \"yref\": \"y1\", \"align\": \"left\", \"xanchor\": \"left\", \"font\": {\"color\": \"#ffffff\"}, \"showarrow\": false}, {\"text\": \"0.19\", \"x\": 0.55, \"y\": 11, \"xref\": \"x1\", \"yref\": \"y1\", \"align\": \"left\", \"xanchor\": \"left\", \"font\": {\"color\": \"#000000\"}, \"showarrow\": false}, {\"text\": \"1.0\", \"x\": 1.55, \"y\": 11, \"xref\": \"x1\", \"yref\": \"y1\", \"align\": \"left\", \"xanchor\": \"left\", \"font\": {\"color\": \"#000000\"}, \"showarrow\": false}, {\"text\": \"0.0002\", \"x\": 2.55, \"y\": 11, \"xref\": \"x1\", \"yref\": \"y1\", \"align\": \"left\", \"xanchor\": \"left\", \"font\": {\"color\": \"#000000\"}, \"showarrow\": false}, {\"text\": \"1.0\", \"x\": 3.55, \"y\": 11, \"xref\": \"x1\", \"yref\": \"y1\", \"align\": \"left\", \"xanchor\": \"left\", \"font\": {\"color\": \"#000000\"}, \"showarrow\": false}, {\"text\": \"<b>infraspinatus</b>\", \"x\": -0.45, \"y\": 12, \"xref\": \"x1\", \"yref\": \"y1\", \"align\": \"left\", \"xanchor\": \"left\", \"font\": {\"color\": \"#ffffff\"}, \"showarrow\": false}, {\"text\": \"0.4398\", \"x\": 0.55, \"y\": 12, \"xref\": \"x1\", \"yref\": \"y1\", \"align\": \"left\", \"xanchor\": \"left\", \"font\": {\"color\": \"#000000\"}, \"showarrow\": false}, {\"text\": \"1.0\", \"x\": 1.55, \"y\": 12, \"xref\": \"x1\", \"yref\": \"y1\", \"align\": \"left\", \"xanchor\": \"left\", \"font\": {\"color\": \"#000000\"}, \"showarrow\": false}, {\"text\": \"0.0002\", \"x\": 2.55, \"y\": 12, \"xref\": \"x1\", \"yref\": \"y1\", \"align\": \"left\", \"xanchor\": \"left\", \"font\": {\"color\": \"#000000\"}, \"showarrow\": false}, {\"text\": \"1.0\", \"x\": 3.55, \"y\": 12, \"xref\": \"x1\", \"yref\": \"y1\", \"align\": \"left\", \"xanchor\": \"left\", \"font\": {\"color\": \"#000000\"}, \"showarrow\": false}, {\"text\": \"<b>subscapularis</b>\", \"x\": -0.45, \"y\": 13, \"xref\": \"x1\", \"yref\": \"y1\", \"align\": \"left\", \"xanchor\": \"left\", \"font\": {\"color\": \"#ffffff\"}, \"showarrow\": false}, {\"text\": \"0.2917\", \"x\": 0.55, \"y\": 13, \"xref\": \"x1\", \"yref\": \"y1\", \"align\": \"left\", \"xanchor\": \"left\", \"font\": {\"color\": \"#000000\"}, \"showarrow\": false}, {\"text\": \"1.0\", \"x\": 1.55, \"y\": 13, \"xref\": \"x1\", \"yref\": \"y1\", \"align\": \"left\", \"xanchor\": \"left\", \"font\": {\"color\": \"#000000\"}, \"showarrow\": false}, {\"text\": \"0.0002\", \"x\": 2.55, \"y\": 13, \"xref\": \"x1\", \"yref\": \"y1\", \"align\": \"left\", \"xanchor\": \"left\", \"font\": {\"color\": \"#000000\"}, \"showarrow\": false}, {\"text\": \"1.0\", \"x\": 3.55, \"y\": 13, \"xref\": \"x1\", \"yref\": \"y1\", \"align\": \"left\", \"xanchor\": \"left\", \"font\": {\"color\": \"#000000\"}, \"showarrow\": false}], \"height\": 470, \"margin\": {\"t\": 0, \"b\": 0, \"r\": 0, \"l\": 0}, \"yaxis\": {\"autorange\": \"reversed\", \"zeroline\": false, \"gridwidth\": 2, \"ticks\": \"\", \"dtick\": 1, \"tick0\": 0.5, \"showticklabels\": false}, \"xaxis\": {\"zeroline\": false, \"gridwidth\": 2, \"ticks\": \"\", \"dtick\": 1, \"tick0\": -0.5, \"showticklabels\": false}, \"font\": {\"size\": 14}}, {\"showLink\": true, \"linkText\": \"Export to plot.ly\"})});</script>"
      ]
     },
     "metadata": {},
     "output_type": "display_data"
    }
   ],
   "source": [
    "summary_report = pd.DataFrame(report).T\n",
    "summary_report.index = ['mean'] + conf['MUSCLES']\n",
    "\n",
    "table_report = table_regression_report(\n",
    "    np.round(summary_report, decimals=4),\n",
    "    title='MAPE and RMSE for each muscle',\n",
    "    ytitle='MAPE (%)',\n",
    "    y2title='RMSE (mV)')\n",
    "py.iplot(table_report, filename='mvc/table_report')"
   ]
  }
 ],
 "metadata": {
  "kernelspec": {
   "display_name": "mvc",
   "language": "python",
   "name": "mvc"
  },
  "language_info": {
   "codemirror_mode": {
    "name": "ipython",
    "version": 3
   },
   "file_extension": ".py",
   "mimetype": "text/x-python",
   "name": "python",
   "nbconvert_exporter": "python",
   "pygments_lexer": "ipython3",
   "version": "3.6.4"
  },
  "toc": {
   "nav_menu": {},
   "number_sections": false,
   "sideBar": true,
   "skip_h1_title": false,
   "title_cell": "Table of Contents",
   "title_sidebar": "Contents",
   "toc_cell": true,
   "toc_position": {
    "height": "calc(100% - 180px)",
    "left": "10px",
    "top": "150px",
    "width": "297px"
   },
   "toc_section_display": true,
   "toc_window_display": true
  }
 },
 "nbformat": 4,
 "nbformat_minor": 2
}
