{
 "cells": [
  {
   "cell_type": "markdown",
   "metadata": {},
   "source": [
    "# EMG from previous study"
   ]
  },
  {
   "cell_type": "code",
   "execution_count": 1,
   "metadata": {},
   "outputs": [],
   "source": [
    "from pathlib import Path\n",
    "from pyosim import Analogs3dOsim\n",
    "import pandas as pd"
   ]
  },
  {
   "cell_type": "code",
   "execution_count": 2,
   "metadata": {},
   "outputs": [],
   "source": [
    "project_evsn = Path(\"/media/romain/E/Projet_ExpertsNovices/opensim\")\n",
    "project_mvsw = Path(\"/home/romain/Downloads/irsst\")"
   ]
  },
  {
   "cell_type": "code",
   "execution_count": 3,
   "metadata": {},
   "outputs": [],
   "source": [
    "mvsw = pd.concat(\n",
    "    [\n",
    "        Analogs3dOsim.from_sto(ifile)\n",
    "        .to_dataframe()\n",
    "        .agg([\"max\"])\n",
    "        .T.reset_index()\n",
    "        .assign(trial=i)\n",
    "        for i, ifile in enumerate(project_mvsw.glob(\"*/0_emg/*.sto\"))\n",
    "    ]\n",
    ")"
   ]
  },
  {
   "cell_type": "code",
   "execution_count": 5,
   "metadata": {},
   "outputs": [
    {
     "data": {
      "text/html": [
       "<div>\n",
       "<style scoped>\n",
       "    .dataframe tbody tr th:only-of-type {\n",
       "        vertical-align: middle;\n",
       "    }\n",
       "\n",
       "    .dataframe tbody tr th {\n",
       "        vertical-align: top;\n",
       "    }\n",
       "\n",
       "    .dataframe thead th {\n",
       "        text-align: right;\n",
       "    }\n",
       "</style>\n",
       "<table border=\"1\" class=\"dataframe\">\n",
       "  <thead>\n",
       "    <tr style=\"text-align: right;\">\n",
       "      <th></th>\n",
       "      <th>max</th>\n",
       "      <th>trial</th>\n",
       "    </tr>\n",
       "    <tr>\n",
       "      <th>index</th>\n",
       "      <th></th>\n",
       "      <th></th>\n",
       "    </tr>\n",
       "  </thead>\n",
       "  <tbody>\n",
       "    <tr>\n",
       "      <th>biceps</th>\n",
       "      <td>49.789019</td>\n",
       "      <td>90850.0</td>\n",
       "    </tr>\n",
       "    <tr>\n",
       "      <th>deltant</th>\n",
       "      <td>67.410460</td>\n",
       "      <td>90850.0</td>\n",
       "    </tr>\n",
       "    <tr>\n",
       "      <th>deltmed</th>\n",
       "      <td>54.926030</td>\n",
       "      <td>90850.0</td>\n",
       "    </tr>\n",
       "    <tr>\n",
       "      <th>deltpost</th>\n",
       "      <td>30.021625</td>\n",
       "      <td>90850.0</td>\n",
       "    </tr>\n",
       "    <tr>\n",
       "      <th>isp</th>\n",
       "      <td>63.375798</td>\n",
       "      <td>90850.0</td>\n",
       "    </tr>\n",
       "    <tr>\n",
       "      <th>latissimus</th>\n",
       "      <td>23.817214</td>\n",
       "      <td>90850.0</td>\n",
       "    </tr>\n",
       "    <tr>\n",
       "      <th>lotrap</th>\n",
       "      <td>44.882717</td>\n",
       "      <td>90850.0</td>\n",
       "    </tr>\n",
       "    <tr>\n",
       "      <th>pect</th>\n",
       "      <td>41.085343</td>\n",
       "      <td>90850.0</td>\n",
       "    </tr>\n",
       "    <tr>\n",
       "      <th>serratus</th>\n",
       "      <td>63.710943</td>\n",
       "      <td>90850.0</td>\n",
       "    </tr>\n",
       "    <tr>\n",
       "      <th>ssp</th>\n",
       "      <td>47.868104</td>\n",
       "      <td>90850.0</td>\n",
       "    </tr>\n",
       "    <tr>\n",
       "      <th>subs</th>\n",
       "      <td>33.441193</td>\n",
       "      <td>90850.0</td>\n",
       "    </tr>\n",
       "    <tr>\n",
       "      <th>triceps</th>\n",
       "      <td>25.990051</td>\n",
       "      <td>90850.0</td>\n",
       "    </tr>\n",
       "    <tr>\n",
       "      <th>uptrap</th>\n",
       "      <td>62.512905</td>\n",
       "      <td>90850.0</td>\n",
       "    </tr>\n",
       "  </tbody>\n",
       "</table>\n",
       "</div>"
      ],
      "text/plain": [
       "                  max    trial\n",
       "index                         \n",
       "biceps      49.789019  90850.0\n",
       "deltant     67.410460  90850.0\n",
       "deltmed     54.926030  90850.0\n",
       "deltpost    30.021625  90850.0\n",
       "isp         63.375798  90850.0\n",
       "latissimus  23.817214  90850.0\n",
       "lotrap      44.882717  90850.0\n",
       "pect        41.085343  90850.0\n",
       "serratus    63.710943  90850.0\n",
       "ssp         47.868104  90850.0\n",
       "subs        33.441193  90850.0\n",
       "triceps     25.990051  90850.0\n",
       "uptrap      62.512905  90850.0"
      ]
     },
     "execution_count": 5,
     "metadata": {},
     "output_type": "execute_result"
    }
   ],
   "source": [
    "mvsw.groupby('index').mean() * 100"
   ]
  },
  {
   "cell_type": "code",
   "execution_count": 4,
   "metadata": {},
   "outputs": [],
   "source": [
    "evsn = pd.concat(\n",
    "    [\n",
    "        Analogs3dOsim.from_sto(ifile)\n",
    "        .to_dataframe()\n",
    "        .agg([\"max\"])\n",
    "        .T.reset_index()\n",
    "        .assign(trial=i)\n",
    "        for i, ifile in enumerate(project_evsn.glob(\"*/0_emg/*.sto\"))\n",
    "    ]\n",
    ")"
   ]
  },
  {
   "cell_type": "code",
   "execution_count": 73,
   "metadata": {},
   "outputs": [],
   "source": [
    "x = (\n",
    "    pd.concat([mvsw.assign(manip=\"mvsw\"), evsn.assign(manip=\"evsn\")])\n",
    "    .drop(\"trial\", axis=1)\n",
    "    .groupby([\"index\", \"manip\"])\n",
    "    .agg([\"mean\", \"std\"])\n",
    "    .reset_index()\n",
    ")\n",
    "x.columns = list(map(\"\".join, x.columns.values))\n",
    "x.to_csv(\"./data/emg_previous_study.csv\", index=False)"
   ]
  }
 ],
 "metadata": {
  "kernelspec": {
   "display_name": "Python [conda env:pyosim_aws]",
   "language": "python",
   "name": "conda-env-pyosim_aws-py"
  },
  "language_info": {
   "codemirror_mode": {
    "name": "ipython",
    "version": 3
   },
   "file_extension": ".py",
   "mimetype": "text/x-python",
   "name": "python",
   "nbconvert_exporter": "python",
   "pygments_lexer": "ipython3",
   "version": "3.7.3"
  }
 },
 "nbformat": 4,
 "nbformat_minor": 2
}
