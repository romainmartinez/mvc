{
 "cells": [
  {
   "cell_type": "markdown",
   "metadata": {},
   "source": [
    "# MVC project: Get the Data\n",
    "- [GitHub](https://github.com/romainmartinez/mvc)"
   ]
  },
  {
   "cell_type": "markdown",
   "metadata": {},
   "source": [
    "## 0. Setup"
   ]
  },
  {
   "cell_type": "code",
   "execution_count": 1,
   "metadata": {},
   "outputs": [],
   "source": [
    "# Common imports\n",
    "import pandas as pd\n",
    "import numpy as np\n",
    "import os\n",
    "\n",
    "# the 'mvc' directory contains functions used but not necessary to understand the story\n",
    "import mvc\n",
    "\n",
    "# Figures\n",
    "import matplotlib.pyplot as plt\n",
    "import seaborn as sns\n",
    "plt.rcParams['axes.labelsize'] = 14\n",
    "plt.rcParams['xtick.labelsize'] = 12\n",
    "plt.rcParams['ytick.labelsize'] = 12\n",
    "sns.set_context(\"paper\")\n",
    "\n",
    "# to make this notebook's output stable across runs\n",
    "RANDOM_SEED = 42\n",
    "np.random.seed(RANDOM_SEED)"
   ]
  },
  {
   "cell_type": "markdown",
   "metadata": {},
   "source": [
    "## 1. Load data"
   ]
  },
  {
   "cell_type": "code",
   "execution_count": 2,
   "metadata": {},
   "outputs": [
    {
     "data": {
      "text/html": [
       "<div>\n",
       "<style scoped>\n",
       "    .dataframe tbody tr th:only-of-type {\n",
       "        vertical-align: middle;\n",
       "    }\n",
       "\n",
       "    .dataframe tbody tr th {\n",
       "        vertical-align: top;\n",
       "    }\n",
       "\n",
       "    .dataframe thead th {\n",
       "        text-align: right;\n",
       "    }\n",
       "</style>\n",
       "<table border=\"1\" class=\"dataframe\">\n",
       "  <thead>\n",
       "    <tr style=\"text-align: right;\">\n",
       "      <th></th>\n",
       "      <th>upper trapezius</th>\n",
       "      <th>middle trapezius</th>\n",
       "      <th>lower trapezius</th>\n",
       "      <th>anterior deltoid</th>\n",
       "      <th>middle deltoid</th>\n",
       "      <th>posterior deltoid</th>\n",
       "      <th>pectoralis major</th>\n",
       "      <th>serratus anterior</th>\n",
       "      <th>latissimus dorsi</th>\n",
       "      <th>supraspinatus</th>\n",
       "      <th>...</th>\n",
       "      <th>8</th>\n",
       "      <th>9</th>\n",
       "      <th>10</th>\n",
       "      <th>11</th>\n",
       "      <th>12</th>\n",
       "      <th>13</th>\n",
       "      <th>14</th>\n",
       "      <th>15</th>\n",
       "      <th>max</th>\n",
       "      <th>best_test</th>\n",
       "    </tr>\n",
       "  </thead>\n",
       "  <tbody>\n",
       "    <tr>\n",
       "      <th>0</th>\n",
       "      <td>1</td>\n",
       "      <td>0</td>\n",
       "      <td>0</td>\n",
       "      <td>0</td>\n",
       "      <td>0</td>\n",
       "      <td>0</td>\n",
       "      <td>0</td>\n",
       "      <td>0</td>\n",
       "      <td>0</td>\n",
       "      <td>0</td>\n",
       "      <td>...</td>\n",
       "      <td>0</td>\n",
       "      <td>0</td>\n",
       "      <td>0</td>\n",
       "      <td>0</td>\n",
       "      <td>0</td>\n",
       "      <td>0</td>\n",
       "      <td>0</td>\n",
       "      <td>0</td>\n",
       "      <td>100</td>\n",
       "      <td>4</td>\n",
       "    </tr>\n",
       "    <tr>\n",
       "      <th>1</th>\n",
       "      <td>0</td>\n",
       "      <td>1</td>\n",
       "      <td>0</td>\n",
       "      <td>0</td>\n",
       "      <td>0</td>\n",
       "      <td>0</td>\n",
       "      <td>0</td>\n",
       "      <td>0</td>\n",
       "      <td>0</td>\n",
       "      <td>0</td>\n",
       "      <td>...</td>\n",
       "      <td>0</td>\n",
       "      <td>0</td>\n",
       "      <td>0</td>\n",
       "      <td>0</td>\n",
       "      <td>0</td>\n",
       "      <td>0</td>\n",
       "      <td>0</td>\n",
       "      <td>0</td>\n",
       "      <td>100</td>\n",
       "      <td>1</td>\n",
       "    </tr>\n",
       "    <tr>\n",
       "      <th>2</th>\n",
       "      <td>0</td>\n",
       "      <td>0</td>\n",
       "      <td>1</td>\n",
       "      <td>0</td>\n",
       "      <td>0</td>\n",
       "      <td>0</td>\n",
       "      <td>0</td>\n",
       "      <td>0</td>\n",
       "      <td>0</td>\n",
       "      <td>0</td>\n",
       "      <td>...</td>\n",
       "      <td>0</td>\n",
       "      <td>0</td>\n",
       "      <td>0</td>\n",
       "      <td>0</td>\n",
       "      <td>0</td>\n",
       "      <td>0</td>\n",
       "      <td>0</td>\n",
       "      <td>0</td>\n",
       "      <td>100</td>\n",
       "      <td>2</td>\n",
       "    </tr>\n",
       "    <tr>\n",
       "      <th>3</th>\n",
       "      <td>0</td>\n",
       "      <td>0</td>\n",
       "      <td>0</td>\n",
       "      <td>1</td>\n",
       "      <td>0</td>\n",
       "      <td>0</td>\n",
       "      <td>0</td>\n",
       "      <td>0</td>\n",
       "      <td>0</td>\n",
       "      <td>0</td>\n",
       "      <td>...</td>\n",
       "      <td>0</td>\n",
       "      <td>0</td>\n",
       "      <td>0</td>\n",
       "      <td>0</td>\n",
       "      <td>0</td>\n",
       "      <td>0</td>\n",
       "      <td>0</td>\n",
       "      <td>0</td>\n",
       "      <td>100</td>\n",
       "      <td>3</td>\n",
       "    </tr>\n",
       "    <tr>\n",
       "      <th>4</th>\n",
       "      <td>0</td>\n",
       "      <td>0</td>\n",
       "      <td>0</td>\n",
       "      <td>0</td>\n",
       "      <td>1</td>\n",
       "      <td>0</td>\n",
       "      <td>0</td>\n",
       "      <td>0</td>\n",
       "      <td>0</td>\n",
       "      <td>0</td>\n",
       "      <td>...</td>\n",
       "      <td>0</td>\n",
       "      <td>0</td>\n",
       "      <td>0</td>\n",
       "      <td>0</td>\n",
       "      <td>0</td>\n",
       "      <td>0</td>\n",
       "      <td>0</td>\n",
       "      <td>0</td>\n",
       "      <td>100</td>\n",
       "      <td>2</td>\n",
       "    </tr>\n",
       "  </tbody>\n",
       "</table>\n",
       "<p>5 rows × 31 columns</p>\n",
       "</div>"
      ],
      "text/plain": [
       "   upper trapezius  middle trapezius  lower trapezius  anterior deltoid  \\\n",
       "0                1                 0                0                 0   \n",
       "1                0                 1                0                 0   \n",
       "2                0                 0                1                 0   \n",
       "3                0                 0                0                 1   \n",
       "4                0                 0                0                 0   \n",
       "\n",
       "   middle deltoid  posterior deltoid  pectoralis major  serratus anterior  \\\n",
       "0               0                  0                 0                  0   \n",
       "1               0                  0                 0                  0   \n",
       "2               0                  0                 0                  0   \n",
       "3               0                  0                 0                  0   \n",
       "4               1                  0                 0                  0   \n",
       "\n",
       "   latissimus dorsi  supraspinatus    ...      8  9  10  11  12  13  14  15  \\\n",
       "0                 0              0    ...      0  0   0   0   0   0   0   0   \n",
       "1                 0              0    ...      0  0   0   0   0   0   0   0   \n",
       "2                 0              0    ...      0  0   0   0   0   0   0   0   \n",
       "3                 0              0    ...      0  0   0   0   0   0   0   0   \n",
       "4                 0              0    ...      0  0   0   0   0   0   0   0   \n",
       "\n",
       "   max  best_test  \n",
       "0  100          4  \n",
       "1  100          1  \n",
       "2  100          2  \n",
       "3  100          3  \n",
       "4  100          2  \n",
       "\n",
       "[5 rows x 31 columns]"
      ]
     },
     "execution_count": 2,
     "metadata": {},
     "output_type": "execute_result"
    }
   ],
   "source": [
    "df = pd.read_hdf('mvc.h5')\n",
    "df.head()"
   ]
  },
  {
   "cell_type": "markdown",
   "metadata": {},
   "source": [
    "## 2. Split the data"
   ]
  },
  {
   "cell_type": "markdown",
   "metadata": {},
   "source": [
    "### Cross-Validation"
   ]
  },
  {
   "cell_type": "code",
   "execution_count": 3,
   "metadata": {},
   "outputs": [],
   "source": [
    "from sklearn.model_selection import cross_val_score"
   ]
  },
  {
   "cell_type": "code",
   "execution_count": 4,
   "metadata": {},
   "outputs": [],
   "source": [
    "def display_scores(scores):\n",
    "    # we rectify the scores because cross_val_score expect a utility function (greater is better)\n",
    "    # rather than a cost function (lower is better)\n",
    "    scores_rectified = np.sqrt(-scores)\n",
    "    print(f'Scores: {scores_rectified}')\n",
    "    print(f'Mean: {scores_rectified.mean()}')\n",
    "    print(f'STD: {scores_rectified.std()}')"
   ]
  },
  {
   "cell_type": "markdown",
   "metadata": {},
   "source": [
    "### Stratified Train Test Split"
   ]
  },
  {
   "cell_type": "code",
   "execution_count": 5,
   "metadata": {},
   "outputs": [],
   "source": [
    "from sklearn.model_selection import train_test_split"
   ]
  },
  {
   "cell_type": "code",
   "execution_count": 6,
   "metadata": {},
   "outputs": [],
   "source": [
    "X_labels = list(df.drop(['max', 'muscle', 'best_test'], axis=1).columns)\n",
    "y_labels = ['max']"
   ]
  },
  {
   "cell_type": "code",
   "execution_count": 7,
   "metadata": {},
   "outputs": [],
   "source": [
    "X_train, X_test, y_train, y_test = train_test_split(df[X_labels], df[y_labels], test_size=0.2, random_state=RANDOM_SEED,\n",
    "                                       stratify=df['muscle'])"
   ]
  },
  {
   "cell_type": "markdown",
   "metadata": {},
   "source": [
    "## 3. Select and Train a Model"
   ]
  },
  {
   "cell_type": "markdown",
   "metadata": {},
   "source": [
    "### Linear Regression"
   ]
  },
  {
   "cell_type": "code",
   "execution_count": 8,
   "metadata": {},
   "outputs": [],
   "source": [
    "from sklearn.linear_model import LinearRegression"
   ]
  },
  {
   "cell_type": "code",
   "execution_count": 9,
   "metadata": {},
   "outputs": [],
   "source": [
    "lin_reg = LinearRegression()"
   ]
  },
  {
   "cell_type": "code",
   "execution_count": 10,
   "metadata": {},
   "outputs": [
    {
     "name": "stdout",
     "output_type": "stream",
     "text": [
      "Scores: [ 0.16564868  0.20206006  0.28050008  0.19867492  0.1814264   0.27113567\n",
      "  0.25450096  0.25790885  0.22418094  0.26343369]\n",
      "Mean: 0.2299470252809861\n",
      "STD: 0.03877581076537588\n"
     ]
    }
   ],
   "source": [
    "scores = cross_val_score(lin_reg, X_train, y_train,\n",
    "                        scoring='neg_mean_squared_error', cv=10)\n",
    "display_scores(scores)"
   ]
  },
  {
   "cell_type": "markdown",
   "metadata": {},
   "source": [
    "### Decision Tree Regressor"
   ]
  },
  {
   "cell_type": "code",
   "execution_count": 11,
   "metadata": {},
   "outputs": [],
   "source": [
    "from sklearn.tree import DecisionTreeRegressor"
   ]
  },
  {
   "cell_type": "code",
   "execution_count": 12,
   "metadata": {},
   "outputs": [],
   "source": [
    "tree_reg = DecisionTreeRegressor(random_state=RANDOM_SEED)"
   ]
  },
  {
   "cell_type": "code",
   "execution_count": 13,
   "metadata": {},
   "outputs": [
    {
     "name": "stdout",
     "output_type": "stream",
     "text": [
      "Scores: [ 0.20584674  0.24356115  0.3188964   0.26037782  0.18490007  0.26148818\n",
      "  0.34591635  0.30662207  0.29235267  0.2773501 ]\n",
      "Mean: 0.26973115515738966\n",
      "STD: 0.047191057081873704\n"
     ]
    }
   ],
   "source": [
    "scores = cross_val_score(tree_reg, X_train, y_train,\n",
    "                        scoring='neg_mean_squared_error', cv=10)\n",
    "display_scores(scores)"
   ]
  },
  {
   "cell_type": "markdown",
   "metadata": {},
   "source": [
    "### Random Forest Regressor"
   ]
  },
  {
   "cell_type": "code",
   "execution_count": 14,
   "metadata": {},
   "outputs": [],
   "source": [
    "from sklearn.ensemble import RandomForestRegressor"
   ]
  },
  {
   "cell_type": "code",
   "execution_count": 15,
   "metadata": {},
   "outputs": [],
   "source": [
    "forest_reg = RandomForestRegressor(random_state=RANDOM_SEED)"
   ]
  },
  {
   "cell_type": "code",
   "execution_count": 16,
   "metadata": {},
   "outputs": [
    {
     "name": "stdout",
     "output_type": "stream",
     "text": [
      "Scores: [ 0.179689    0.216873    0.28582322  0.17515127  0.17121986  0.24581975\n",
      "  0.25064021  0.23388214  0.20106554  0.26230406]\n",
      "Mean: 0.22224680359280993\n",
      "STD: 0.037754767484057275\n"
     ]
    }
   ],
   "source": [
    "scores = cross_val_score(forest_reg, X_train, np.array(y_train).ravel(),\n",
    "                        scoring='neg_mean_squared_error', cv=10)\n",
    "display_scores(scores)"
   ]
  },
  {
   "cell_type": "markdown",
   "metadata": {},
   "source": [
    "### Support Vector Regressor"
   ]
  },
  {
   "cell_type": "code",
   "execution_count": 17,
   "metadata": {},
   "outputs": [],
   "source": [
    "from sklearn.svm import SVR"
   ]
  },
  {
   "cell_type": "code",
   "execution_count": 18,
   "metadata": {},
   "outputs": [],
   "source": [
    "svm_reg = SVR(kernel='linear')"
   ]
  },
  {
   "cell_type": "code",
   "execution_count": 19,
   "metadata": {},
   "outputs": [
    {
     "name": "stdout",
     "output_type": "stream",
     "text": [
      "Scores: [ 0.17417743  0.20947764  0.27893884  0.20951207  0.19323896  0.26747476\n",
      "  0.25438144  0.25435208  0.22589574  0.25435645]\n",
      "Mean: 0.23218054117077247\n",
      "STD: 0.0329512308389305\n"
     ]
    }
   ],
   "source": [
    "scores = cross_val_score(svm_reg, X_train, np.array(y_train).ravel(),\n",
    "                        scoring='neg_mean_squared_error', cv=10)\n",
    "display_scores(scores)"
   ]
  },
  {
   "cell_type": "markdown",
   "metadata": {},
   "source": [
    "## 4. Fine-tune the model"
   ]
  },
  {
   "cell_type": "markdown",
   "metadata": {},
   "source": [
    "### Grid search"
   ]
  },
  {
   "cell_type": "code",
   "execution_count": 20,
   "metadata": {},
   "outputs": [],
   "source": [
    "from sklearn.model_selection import GridSearchCV"
   ]
  },
  {
   "cell_type": "code",
   "execution_count": 21,
   "metadata": {},
   "outputs": [],
   "source": [
    "param_grid = [\n",
    "    # try 12 (3×4) combinations of hyperparameters\n",
    "    {'n_estimators': [3, 10, 30], 'max_features': [2, 4, 6, 8]},\n",
    "    # then try 6 (2×3) combinations with bootstrap set as False\n",
    "    {'bootstrap': [False], 'n_estimators': [3, 10], 'max_features': [2, 3, 4]},\n",
    "  ]"
   ]
  },
  {
   "cell_type": "code",
   "execution_count": 22,
   "metadata": {},
   "outputs": [],
   "source": [
    "forest_reg = RandomForestRegressor(random_state=RANDOM_SEED)"
   ]
  },
  {
   "cell_type": "code",
   "execution_count": 23,
   "metadata": {},
   "outputs": [],
   "source": [
    "grid_search = GridSearchCV(forest_reg, param_grid, cv=5,\n",
    "                          scoring='neg_mean_squared_error')"
   ]
  },
  {
   "cell_type": "code",
   "execution_count": 24,
   "metadata": {},
   "outputs": [
    {
     "data": {
      "text/plain": [
       "GridSearchCV(cv=5, error_score='raise',\n",
       "       estimator=RandomForestRegressor(bootstrap=True, criterion='mse', max_depth=None,\n",
       "           max_features='auto', max_leaf_nodes=None,\n",
       "           min_impurity_decrease=0.0, min_impurity_split=None,\n",
       "           min_samples_leaf=1, min_samples_split=2,\n",
       "           min_weight_fraction_leaf=0.0, n_estimators=10, n_jobs=1,\n",
       "           oob_score=False, random_state=42, verbose=0, warm_start=False),\n",
       "       fit_params=None, iid=True, n_jobs=1,\n",
       "       param_grid=[{'n_estimators': [3, 10, 30], 'max_features': [2, 4, 6, 8]}, {'bootstrap': [False], 'n_estimators': [3, 10], 'max_features': [2, 3, 4]}],\n",
       "       pre_dispatch='2*n_jobs', refit=True, return_train_score='warn',\n",
       "       scoring='neg_mean_squared_error', verbose=0)"
      ]
     },
     "execution_count": 24,
     "metadata": {},
     "output_type": "execute_result"
    }
   ],
   "source": [
    "grid_search.fit(X_train, np.array(y_train).ravel())"
   ]
  },
  {
   "cell_type": "code",
   "execution_count": 25,
   "metadata": {},
   "outputs": [
    {
     "data": {
      "text/plain": [
       "{'bootstrap': False, 'max_features': 3, 'n_estimators': 10}"
      ]
     },
     "execution_count": 25,
     "metadata": {},
     "output_type": "execute_result"
    }
   ],
   "source": [
    "grid_search.best_params_"
   ]
  },
  {
   "cell_type": "code",
   "execution_count": 26,
   "metadata": {},
   "outputs": [
    {
     "name": "stdout",
     "output_type": "stream",
     "text": [
      "0.25049638398 {'max_features': 2, 'n_estimators': 3}\n",
      "0.231817498564 {'max_features': 2, 'n_estimators': 10}\n",
      "0.223987405341 {'max_features': 2, 'n_estimators': 30}\n",
      "0.258857841622 {'max_features': 4, 'n_estimators': 3}\n",
      "0.232532901447 {'max_features': 4, 'n_estimators': 10}\n",
      "0.223000718523 {'max_features': 4, 'n_estimators': 30}\n",
      "0.27222347769 {'max_features': 6, 'n_estimators': 3}\n",
      "0.237534181168 {'max_features': 6, 'n_estimators': 10}\n",
      "0.22743622911 {'max_features': 6, 'n_estimators': 30}\n",
      "0.267311826041 {'max_features': 8, 'n_estimators': 3}\n",
      "0.235698244991 {'max_features': 8, 'n_estimators': 10}\n",
      "0.225656549404 {'max_features': 8, 'n_estimators': 30}\n",
      "0.250873922076 {'bootstrap': False, 'max_features': 2, 'n_estimators': 3}\n",
      "0.220712027261 {'bootstrap': False, 'max_features': 2, 'n_estimators': 10}\n",
      "0.238099294198 {'bootstrap': False, 'max_features': 3, 'n_estimators': 3}\n",
      "0.212953594452 {'bootstrap': False, 'max_features': 3, 'n_estimators': 10}\n",
      "0.236303798406 {'bootstrap': False, 'max_features': 4, 'n_estimators': 3}\n",
      "0.215656361137 {'bootstrap': False, 'max_features': 4, 'n_estimators': 10}\n"
     ]
    }
   ],
   "source": [
    "cv_res = grid_search.cv_results_\n",
    "for mean_score, params in zip(cv_res['mean_test_score'], cv_res['params']):\n",
    "    print(np.sqrt(-mean_score), params)"
   ]
  },
  {
   "cell_type": "markdown",
   "metadata": {},
   "source": [
    "### Randomized Grid Search"
   ]
  },
  {
   "cell_type": "code",
   "execution_count": 27,
   "metadata": {},
   "outputs": [],
   "source": [
    "from sklearn.model_selection import RandomizedSearchCV\n",
    "from scipy.stats import randint"
   ]
  },
  {
   "cell_type": "code",
   "execution_count": 28,
   "metadata": {},
   "outputs": [],
   "source": [
    "param_distribs = {\n",
    "        'n_estimators': randint(low=1, high=200),\n",
    "        'max_features': randint(low=1, high=8),\n",
    "    }"
   ]
  },
  {
   "cell_type": "code",
   "execution_count": 29,
   "metadata": {},
   "outputs": [],
   "source": [
    "forest_reg = RandomForestRegressor(random_state=RANDOM_SEED)"
   ]
  },
  {
   "cell_type": "code",
   "execution_count": 30,
   "metadata": {},
   "outputs": [],
   "source": [
    "n_iter_search = 100\n",
    "random_search = RandomizedSearchCV(forest_reg, param_distributions=param_distribs,\n",
    "                                   n_iter=n_iter_search, cv=5, random_state=RANDOM_SEED,\n",
    "                                   scoring='neg_mean_squared_error')"
   ]
  },
  {
   "cell_type": "code",
   "execution_count": 31,
   "metadata": {},
   "outputs": [
    {
     "data": {
      "text/plain": [
       "RandomizedSearchCV(cv=5, error_score='raise',\n",
       "          estimator=RandomForestRegressor(bootstrap=True, criterion='mse', max_depth=None,\n",
       "           max_features='auto', max_leaf_nodes=None,\n",
       "           min_impurity_decrease=0.0, min_impurity_split=None,\n",
       "           min_samples_leaf=1, min_samples_split=2,\n",
       "           min_weight_fraction_leaf=0.0, n_estimators=10, n_jobs=1,\n",
       "           oob_score=False, random_state=42, verbose=0, warm_start=False),\n",
       "          fit_params=None, iid=True, n_iter=100, n_jobs=1,\n",
       "          param_distributions={'n_estimators': <scipy.stats._distn_infrastructure.rv_frozen object at 0x7fc199477c88>, 'max_features': <scipy.stats._distn_infrastructure.rv_frozen object at 0x7fc1991d5c18>},\n",
       "          pre_dispatch='2*n_jobs', random_state=42, refit=True,\n",
       "          return_train_score='warn', scoring='neg_mean_squared_error',\n",
       "          verbose=0)"
      ]
     },
     "execution_count": 31,
     "metadata": {},
     "output_type": "execute_result"
    }
   ],
   "source": [
    "random_search.fit(X_train, np.array(y_train).ravel())"
   ]
  },
  {
   "cell_type": "code",
   "execution_count": 32,
   "metadata": {},
   "outputs": [
    {
     "name": "stdout",
     "output_type": "stream",
     "text": [
      "0.219011924094 {'max_features': 7, 'n_estimators': 180}\n",
      "0.230644850652 {'max_features': 5, 'n_estimators': 15}\n",
      "0.221242576133 {'max_features': 3, 'n_estimators': 72}\n",
      "0.228723652023 {'max_features': 5, 'n_estimators': 21}\n",
      "0.219048509594 {'max_features': 7, 'n_estimators': 122}\n",
      "0.221323946354 {'max_features': 3, 'n_estimators': 75}\n",
      "0.221100065726 {'max_features': 3, 'n_estimators': 88}\n",
      "0.22013450279 {'max_features': 5, 'n_estimators': 100}\n",
      "0.220694788486 {'max_features': 3, 'n_estimators': 150}\n",
      "0.279174983137 {'max_features': 5, 'n_estimators': 2}\n",
      "0.220252857824 {'max_features': 4, 'n_estimators': 158}\n",
      "0.220772305954 {'max_features': 6, 'n_estimators': 130}\n",
      "0.224293751493 {'max_features': 4, 'n_estimators': 21}\n",
      "0.22834330217 {'max_features': 1, 'n_estimators': 58}\n",
      "0.22213112695 {'max_features': 6, 'n_estimators': 89}\n",
      "0.228334762681 {'max_features': 1, 'n_estimators': 59}\n",
      "0.218922427161 {'max_features': 7, 'n_estimators': 170}\n",
      "0.220357340481 {'max_features': 4, 'n_estimators': 188}\n",
      "0.21897816385 {'max_features': 7, 'n_estimators': 190}\n",
      "0.220386994365 {'max_features': 6, 'n_estimators': 175}\n",
      "0.223286049206 {'max_features': 6, 'n_estimators': 51}\n",
      "0.221773010834 {'max_features': 4, 'n_estimators': 55}\n",
      "0.221964790809 {'max_features': 4, 'n_estimators': 64}\n",
      "0.227441314596 {'max_features': 1, 'n_estimators': 131}\n",
      "0.221832254651 {'max_features': 5, 'n_estimators': 51}\n",
      "0.223041596486 {'max_features': 7, 'n_estimators': 21}\n",
      "0.227115120067 {'max_features': 1, 'n_estimators': 167}\n",
      "0.223365765389 {'max_features': 2, 'n_estimators': 132}\n",
      "0.228358688703 {'max_features': 1, 'n_estimators': 60}\n",
      "0.238165534092 {'max_features': 6, 'n_estimators': 9}\n",
      "0.223620155042 {'max_features': 2, 'n_estimators': 53}\n",
      "0.224290253066 {'max_features': 2, 'n_estimators': 84}\n",
      "0.221168555665 {'max_features': 4, 'n_estimators': 111}\n",
      "0.220176784986 {'max_features': 4, 'n_estimators': 199}\n",
      "0.237187658869 {'max_features': 4, 'n_estimators': 8}\n",
      "0.219545253211 {'max_features': 7, 'n_estimators': 35}\n",
      "0.222605138834 {'max_features': 6, 'n_estimators': 81}\n",
      "0.222312455653 {'max_features': 4, 'n_estimators': 50}\n",
      "0.274560202761 {'max_features': 4, 'n_estimators': 2}\n",
      "0.220572102401 {'max_features': 6, 'n_estimators': 134}\n",
      "0.221144237358 {'max_features': 6, 'n_estimators': 106}\n",
      "0.221658907028 {'max_features': 4, 'n_estimators': 54}\n",
      "0.218886638576 {'max_features': 5, 'n_estimators': 191}\n",
      "0.223417629312 {'max_features': 2, 'n_estimators': 44}\n",
      "0.223286945289 {'max_features': 2, 'n_estimators': 190}\n",
      "0.22892517953 {'max_features': 4, 'n_estimators': 14}\n",
      "0.218786755653 {'max_features': 7, 'n_estimators': 48}\n",
      "0.21897816385 {'max_features': 7, 'n_estimators': 190}\n",
      "0.220852727774 {'max_features': 5, 'n_estimators': 82}\n",
      "0.218988122864 {'max_features': 7, 'n_estimators': 53}\n",
      "0.223375720299 {'max_features': 2, 'n_estimators': 188}\n",
      "0.222128150284 {'max_features': 4, 'n_estimators': 41}\n",
      "0.230644850652 {'max_features': 5, 'n_estimators': 15}\n",
      "0.221322843134 {'max_features': 5, 'n_estimators': 65}\n",
      "0.227840503451 {'max_features': 1, 'n_estimators': 71}\n",
      "0.227750147076 {'max_features': 1, 'n_estimators': 88}\n",
      "0.227156730544 {'max_features': 1, 'n_estimators': 136}\n",
      "0.218825159704 {'max_features': 7, 'n_estimators': 139}\n",
      "0.221223595873 {'max_features': 3, 'n_estimators': 81}\n",
      "0.220414191094 {'max_features': 3, 'n_estimators': 163}\n",
      "0.227364112699 {'max_features': 1, 'n_estimators': 123}\n",
      "0.222563430216 {'max_features': 5, 'n_estimators': 41}\n",
      "0.220366619075 {'max_features': 4, 'n_estimators': 135}\n",
      "0.227964520547 {'max_features': 1, 'n_estimators': 72}\n",
      "0.220358273796 {'max_features': 4, 'n_estimators': 162}\n",
      "0.227783985046 {'max_features': 1, 'n_estimators': 48}\n",
      "0.218651821925 {'max_features': 7, 'n_estimators': 151}\n",
      "0.22571397466 {'max_features': 6, 'n_estimators': 37}\n",
      "0.22089269645 {'max_features': 3, 'n_estimators': 172}\n",
      "0.226216882235 {'max_features': 6, 'n_estimators': 35}\n",
      "0.226657285402 {'max_features': 1, 'n_estimators': 101}\n",
      "0.21897960802 {'max_features': 7, 'n_estimators': 131}\n",
      "0.251537012832 {'max_features': 1, 'n_estimators': 5}\n",
      "0.223266413157 {'max_features': 2, 'n_estimators': 142}\n",
      "0.22165099991 {'max_features': 7, 'n_estimators': 27}\n",
      "0.231954227341 {'max_features': 1, 'n_estimators': 15}\n",
      "0.223358536175 {'max_features': 2, 'n_estimators': 42}\n",
      "0.220186139367 {'max_features': 4, 'n_estimators': 179}\n",
      "0.219611079367 {'max_features': 7, 'n_estimators': 96}\n",
      "0.218967631591 {'max_features': 7, 'n_estimators': 52}\n",
      "0.219968097284 {'max_features': 5, 'n_estimators': 96}\n",
      "0.220458484692 {'max_features': 4, 'n_estimators': 151}\n",
      "0.218712437428 {'max_features': 7, 'n_estimators': 143}\n",
      "0.220181852776 {'max_features': 3, 'n_estimators': 29}\n",
      "0.229444061333 {'max_features': 4, 'n_estimators': 13}\n",
      "0.218974472394 {'max_features': 7, 'n_estimators': 187}\n",
      "0.221079531854 {'max_features': 3, 'n_estimators': 86}\n",
      "0.221587558498 {'max_features': 4, 'n_estimators': 66}\n",
      "0.223493430129 {'max_features': 2, 'n_estimators': 45}\n",
      "0.22034706758 {'max_features': 6, 'n_estimators': 185}\n",
      "0.219261467605 {'max_features': 5, 'n_estimators': 134}\n",
      "0.224980539359 {'max_features': 4, 'n_estimators': 28}\n",
      "0.222096268547 {'max_features': 4, 'n_estimators': 44}\n",
      "0.223000718523 {'max_features': 4, 'n_estimators': 30}\n",
      "0.22301362014 {'max_features': 6, 'n_estimators': 75}\n",
      "0.223910652416 {'max_features': 2, 'n_estimators': 92}\n",
      "0.226525407585 {'max_features': 1, 'n_estimators': 190}\n",
      "0.227405399815 {'max_features': 1, 'n_estimators': 129}\n",
      "0.229824023848 {'max_features': 1, 'n_estimators': 27}\n",
      "0.220711395953 {'max_features': 6, 'n_estimators': 121}\n"
     ]
    }
   ],
   "source": [
    "cv_res = random_search.cv_results_\n",
    "for mean_score, params in zip(cv_res['mean_test_score'], cv_res['params']):\n",
    "    print(np.sqrt(-mean_score), params)"
   ]
  },
  {
   "cell_type": "code",
   "execution_count": 33,
   "metadata": {},
   "outputs": [
    {
     "data": {
      "text/plain": [
       "[(0.11043144447957945, 2),\n",
       " (0.095483946213689608, 3),\n",
       " (0.087346531003121772, 4),\n",
       " (0.07784038309092807, 5),\n",
       " (0.073500148110099986, 0),\n",
       " (0.061923741110663316, 9),\n",
       " (0.057753548408439097, 6),\n",
       " (0.056133083869201239, 1),\n",
       " (0.053111596896091344, 7),\n",
       " (0.051896820754588971, 10),\n",
       " (0.051065895749865038, 14),\n",
       " (0.048627074936609484, 8),\n",
       " (0.042310186730623769, 13),\n",
       " (0.031242109114683534, 12),\n",
       " (0.024592888685561063, 15),\n",
       " (0.022412294473624271, 11),\n",
       " (0.0087664895488006548, 'subscapularis'),\n",
       " (0.006713997635201697, 'lower trapezius'),\n",
       " (0.0059341350587012254, 'posterior deltoid'),\n",
       " (0.0057537057429140016, 'middle deltoid'),\n",
       " (0.0055735301819876014, 'supraspinatus'),\n",
       " (0.0049856843565000012, 'anterior deltoid'),\n",
       " (0.0031913971680966936, 'infraspinatus'),\n",
       " (0.0030447498108344901, 'middle trapezius'),\n",
       " (0.0029498201674166124, 'latissimus dorsi'),\n",
       " (0.0029156151243685834, 'upper trapezius'),\n",
       " (0.0026627670561323543, 'serratus anterior'),\n",
       " (0.0018364145216762751, 'pectoralis major')]"
      ]
     },
     "execution_count": 33,
     "metadata": {},
     "output_type": "execute_result"
    }
   ],
   "source": [
    "features_importances = random_search.best_estimator_.feature_importances_\n",
    "sorted(zip(features_importances, X_train.columns), reverse=True)"
   ]
  },
  {
   "cell_type": "code",
   "execution_count": 34,
   "metadata": {},
   "outputs": [],
   "source": [
    "from sklearn.metrics import mean_squared_error"
   ]
  },
  {
   "cell_type": "code",
   "execution_count": 37,
   "metadata": {},
   "outputs": [
    {
     "name": "stdout",
     "output_type": "stream",
     "text": [
      "final rmse: 0.2376955885350079\n"
     ]
    }
   ],
   "source": [
    "final_model = random_search.best_estimator_\n",
    "\n",
    "final_predictions = final_model.predict(X_test)\n",
    "final_mse = mean_squared_error(y_test, final_predictions)\n",
    "final_rmse = np.sqrt(final_mse)\n",
    "print(f'final rmse: {final_rmse}')"
   ]
  }
 ],
 "metadata": {
  "kernelspec": {
   "display_name": "Python [conda env:mvc]",
   "language": "python",
   "name": "conda-env-mvc-py"
  },
  "language_info": {
   "codemirror_mode": {
    "name": "ipython",
    "version": 3
   },
   "file_extension": ".py",
   "mimetype": "text/x-python",
   "name": "python",
   "nbconvert_exporter": "python",
   "pygments_lexer": "ipython3",
   "version": "3.6.3"
  }
 },
 "nbformat": 4,
 "nbformat_minor": 2
}
