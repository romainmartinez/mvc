{
 "cells": [
  {
   "cell_type": "markdown",
   "metadata": {},
   "source": [
    "# MVC project\n",
    "- [GitHub](https://github.com/romainmartinez/mvc)"
   ]
  },
  {
   "cell_type": "code",
   "execution_count": 1,
   "metadata": {},
   "outputs": [],
   "source": [
    "# Common imports\n",
    "import pandas as pd\n",
    "pd.set_option('display.float_format', '{:.5f}'.format)\n",
    "import numpy as np\n",
    "import os\n",
    "import time\n",
    "\n",
    "# the 'mvc' directory contains functions used but not necessary to understand the story\n",
    "import mvc\n",
    "\n",
    "# Figures\n",
    "import matplotlib.pyplot as plt\n",
    "import seaborn as sns\n",
    "plt.rcParams['axes.labelsize'] = 14\n",
    "plt.rcParams['xtick.labelsize'] = 12\n",
    "plt.rcParams['ytick.labelsize'] = 12\n",
    "sns.set_context(\"notebook\", font_scale=1.1)\n",
    "sns.set_style(\"ticks\")\n",
    "plt.rcParams['pdf.fonttype'] = 42\n",
    "plt.rcParams['ps.fonttype'] = 42\n",
    "\n",
    "# to make this notebook's output stable across runs\n",
    "RANDOM_SEED = 42\n",
    "np.random.seed(RANDOM_SEED)"
   ]
  },
  {
   "cell_type": "markdown",
   "metadata": {},
   "source": [
    "## 0. load data"
   ]
  },
  {
   "cell_type": "code",
   "execution_count": 2,
   "metadata": {},
   "outputs": [
    {
     "data": {
      "text/html": [
       "<div>\n",
       "<style>\n",
       "    .dataframe thead tr:only-child th {\n",
       "        text-align: right;\n",
       "    }\n",
       "\n",
       "    .dataframe thead th {\n",
       "        text-align: left;\n",
       "    }\n",
       "\n",
       "    .dataframe tbody tr th {\n",
       "        vertical-align: top;\n",
       "    }\n",
       "</style>\n",
       "<table border=\"1\" class=\"dataframe\">\n",
       "  <thead>\n",
       "    <tr style=\"text-align: right;\">\n",
       "      <th></th>\n",
       "      <th>upper trapezius</th>\n",
       "      <th>middle trapezius</th>\n",
       "      <th>lower trapezius</th>\n",
       "      <th>anterior deltoid</th>\n",
       "      <th>middle deltoid</th>\n",
       "      <th>posterior deltoid</th>\n",
       "      <th>pectoralis major</th>\n",
       "      <th>serratus anterior</th>\n",
       "      <th>latissimus dorsi</th>\n",
       "      <th>supraspinatus</th>\n",
       "      <th>...</th>\n",
       "      <th>6</th>\n",
       "      <th>7</th>\n",
       "      <th>8</th>\n",
       "      <th>9</th>\n",
       "      <th>10</th>\n",
       "      <th>11</th>\n",
       "      <th>12</th>\n",
       "      <th>13</th>\n",
       "      <th>14</th>\n",
       "      <th>15</th>\n",
       "    </tr>\n",
       "  </thead>\n",
       "  <tbody>\n",
       "    <tr>\n",
       "      <th>0</th>\n",
       "      <td>1</td>\n",
       "      <td>0</td>\n",
       "      <td>0</td>\n",
       "      <td>0</td>\n",
       "      <td>0</td>\n",
       "      <td>0</td>\n",
       "      <td>0</td>\n",
       "      <td>0</td>\n",
       "      <td>0</td>\n",
       "      <td>0</td>\n",
       "      <td>...</td>\n",
       "      <td>0.03394</td>\n",
       "      <td>0.05925</td>\n",
       "      <td>0.10600</td>\n",
       "      <td>0.08778</td>\n",
       "      <td>0.02870</td>\n",
       "      <td>0.10291</td>\n",
       "      <td>0.01253</td>\n",
       "      <td>0.02970</td>\n",
       "      <td>0.07777</td>\n",
       "      <td>nan</td>\n",
       "    </tr>\n",
       "  </tbody>\n",
       "</table>\n",
       "<p>1 rows × 29 columns</p>\n",
       "</div>"
      ],
      "text/plain": [
       "   upper trapezius  middle trapezius  lower trapezius  anterior deltoid  \\\n",
       "0                1                 0                0                 0   \n",
       "\n",
       "   middle deltoid  posterior deltoid  pectoralis major  serratus anterior  \\\n",
       "0               0                  0                 0                  0   \n",
       "\n",
       "   latissimus dorsi  supraspinatus ...       6       7       8       9  \\\n",
       "0                 0              0 ... 0.03394 0.05925 0.10600 0.08778   \n",
       "\n",
       "       10      11      12      13      14  15  \n",
       "0 0.02870 0.10291 0.01253 0.02970 0.07777 nan  \n",
       "\n",
       "[1 rows x 29 columns]"
      ]
     },
     "execution_count": 2,
     "metadata": {},
     "output_type": "execute_result"
    }
   ],
   "source": [
    "df = pd.read_hdf('mvc.h5')\n",
    "\n",
    "X = df.drop('max', axis=1).copy()\n",
    "y = df['max'].copy()\n",
    "X.head(1)"
   ]
  },
  {
   "cell_type": "markdown",
   "metadata": {},
   "source": [
    "## 1. Preprocessing"
   ]
  },
  {
   "cell_type": "code",
   "execution_count": 3,
   "metadata": {},
   "outputs": [],
   "source": [
    "# pipeline\n",
    "from sklearn.pipeline import make_pipeline\n",
    "from sklearn.base import BaseEstimator, TransformerMixin\n",
    "\n",
    "# preprocessing\n",
    "from sklearn.preprocessing import Imputer\n",
    "\n",
    "# feature selection\n",
    "from sklearn.feature_selection import SelectFromModel\n",
    "\n",
    "# models\n",
    "from sklearn.ensemble import ExtraTreesRegressor"
   ]
  },
  {
   "cell_type": "code",
   "execution_count": 4,
   "metadata": {},
   "outputs": [],
   "source": [
    "def normalize_y(vector, norm_vector):\n",
    "    fct = lambda x, y: x * 100 / y\n",
    "    return np.apply_along_axis(fct, 0, vector, norm_vector)\n",
    "\n",
    "class TopTestsSelector(BaseEstimator, TransformerMixin):\n",
    "    def __init__(self, k, keep):\n",
    "        self.k = k\n",
    "        self.keep = keep\n",
    "    def fit(self, X, y):\n",
    "        extra_tree = ExtraTreesRegressor(random_state=RANDOM_SEED)\n",
    "        extra_tree.fit(X, y)\n",
    "        tests_indices = self.indices_of_top_k(extra_tree.feature_importances_, self.k)\n",
    "        if self.keep is None:\n",
    "            self.feature_indices_ = tests_indices\n",
    "        else:\n",
    "            self.feature_indices_ = np.append(self.keep, tests_indices)\n",
    "        print(f'keeped test: {tests_indices} (this is index,  not test no.)')\n",
    "        return self\n",
    "    def transform(self, X):\n",
    "        return X[:, self.feature_indices_]\n",
    "    @staticmethod\n",
    "    def indices_of_top_k(arr, k):\n",
    "        return np.sort(np.argpartition(np.array(arr), -k)[-k:])\n",
    "    \n",
    "class NormalizeBasedOnTest(BaseEstimator, TransformerMixin):\n",
    "    def __init__(self, norm_vector, k):\n",
    "        self.norm_vector = norm_vector\n",
    "        self.k = k\n",
    "    def fit(self, X, y=None):\n",
    "        self.normalize = lambda x, y: x * 100 / y\n",
    "        self.X_normalized = np.apply_along_axis(self.normalize, 0, X[:, -self.k:], self.norm_vector)\n",
    "        return self\n",
    "    def transform(self, X):\n",
    "        if self.k is None:\n",
    "            output = self.X_normalized\n",
    "        return np.concatenate((X[:, :-self.k], self.X_normalized), axis=1)"
   ]
  },
  {
   "cell_type": "code",
   "execution_count": 5,
   "metadata": {},
   "outputs": [
    {
     "name": "stderr",
     "output_type": "stream",
     "text": [
      "/home/romain/miniconda3/envs/mvc/lib/python3.6/site-packages/ipykernel/__main__.py:10: RuntimeWarning: invalid value encountered in less\n"
     ]
    }
   ],
   "source": [
    "# constants\n",
    "KEEP = np.arange(0, 12) # columns to keep during feature selection\n",
    "# KEEP = None\n",
    "K = 5                   # number of features to keep\n",
    "NORM_TEST = 4           # test used to normalize other features\n",
    "\n",
    "# normalization vector\n",
    "NORM_VECTOR = np.array(X[NORM_TEST])\n",
    "low_idx = np.argwhere(np.logical_or(np.isnan(NORM_VECTOR), \n",
    "                           NORM_VECTOR < 10e-5))\n",
    "NORM_VECTOR[low_idx] = np.nanmedian(NORM_VECTOR)"
   ]
  },
  {
   "cell_type": "code",
   "execution_count": 6,
   "metadata": {},
   "outputs": [
    {
     "name": "stdout",
     "output_type": "stream",
     "text": [
      "keeped test: [13 15 16 17 18] (this is index,  not test no.)\n"
     ]
    }
   ],
   "source": [
    "y_norm = normalize_y(y, norm_vector=NORM_VECTOR)\n",
    "\n",
    "preprocessing = make_pipeline(\n",
    "    Imputer(strategy='median'),       # replace missing values\n",
    "    TopTestsSelector(k=K, keep=KEEP), # select best tests\n",
    "    NormalizeBasedOnTest(norm_vector=NORM_VECTOR, k=K),\n",
    ")\n",
    "\n",
    "mvc = preprocessing.fit_transform(X, y_norm)"
   ]
  },
  {
   "cell_type": "code",
   "execution_count": 7,
   "metadata": {},
   "outputs": [
    {
     "data": {
      "text/html": [
       "<div>\n",
       "<style>\n",
       "    .dataframe thead tr:only-child th {\n",
       "        text-align: right;\n",
       "    }\n",
       "\n",
       "    .dataframe thead th {\n",
       "        text-align: left;\n",
       "    }\n",
       "\n",
       "    .dataframe tbody tr th {\n",
       "        vertical-align: top;\n",
       "    }\n",
       "</style>\n",
       "<table border=\"1\" class=\"dataframe\">\n",
       "  <thead>\n",
       "    <tr style=\"text-align: right;\">\n",
       "      <th></th>\n",
       "      <th>0</th>\n",
       "      <th>1</th>\n",
       "      <th>2</th>\n",
       "      <th>3</th>\n",
       "      <th>4</th>\n",
       "      <th>5</th>\n",
       "      <th>6</th>\n",
       "      <th>7</th>\n",
       "      <th>8</th>\n",
       "      <th>9</th>\n",
       "      <th>10</th>\n",
       "      <th>11</th>\n",
       "      <th>12</th>\n",
       "      <th>13</th>\n",
       "      <th>14</th>\n",
       "      <th>15</th>\n",
       "      <th>16</th>\n",
       "    </tr>\n",
       "  </thead>\n",
       "  <tbody>\n",
       "    <tr>\n",
       "      <th>0</th>\n",
       "      <td>1.00000</td>\n",
       "      <td>0.00000</td>\n",
       "      <td>0.00000</td>\n",
       "      <td>0.00000</td>\n",
       "      <td>0.00000</td>\n",
       "      <td>0.00000</td>\n",
       "      <td>0.00000</td>\n",
       "      <td>0.00000</td>\n",
       "      <td>0.00000</td>\n",
       "      <td>0.00000</td>\n",
       "      <td>0.00000</td>\n",
       "      <td>0.00000</td>\n",
       "      <td>153.46042</td>\n",
       "      <td>130.31499</td>\n",
       "      <td>124.27695</td>\n",
       "      <td>100.00000</td>\n",
       "      <td>46.84948</td>\n",
       "    </tr>\n",
       "    <tr>\n",
       "      <th>1</th>\n",
       "      <td>0.00000</td>\n",
       "      <td>1.00000</td>\n",
       "      <td>0.00000</td>\n",
       "      <td>0.00000</td>\n",
       "      <td>0.00000</td>\n",
       "      <td>0.00000</td>\n",
       "      <td>0.00000</td>\n",
       "      <td>0.00000</td>\n",
       "      <td>0.00000</td>\n",
       "      <td>0.00000</td>\n",
       "      <td>0.00000</td>\n",
       "      <td>0.00000</td>\n",
       "      <td>84.12816</td>\n",
       "      <td>136.05720</td>\n",
       "      <td>73.97477</td>\n",
       "      <td>100.00000</td>\n",
       "      <td>93.60384</td>\n",
       "    </tr>\n",
       "    <tr>\n",
       "      <th>2</th>\n",
       "      <td>0.00000</td>\n",
       "      <td>0.00000</td>\n",
       "      <td>1.00000</td>\n",
       "      <td>0.00000</td>\n",
       "      <td>0.00000</td>\n",
       "      <td>0.00000</td>\n",
       "      <td>0.00000</td>\n",
       "      <td>0.00000</td>\n",
       "      <td>0.00000</td>\n",
       "      <td>0.00000</td>\n",
       "      <td>0.00000</td>\n",
       "      <td>0.00000</td>\n",
       "      <td>83.06777</td>\n",
       "      <td>208.66602</td>\n",
       "      <td>142.43276</td>\n",
       "      <td>100.00000</td>\n",
       "      <td>50.08998</td>\n",
       "    </tr>\n",
       "    <tr>\n",
       "      <th>3</th>\n",
       "      <td>0.00000</td>\n",
       "      <td>0.00000</td>\n",
       "      <td>0.00000</td>\n",
       "      <td>0.00000</td>\n",
       "      <td>1.00000</td>\n",
       "      <td>0.00000</td>\n",
       "      <td>0.00000</td>\n",
       "      <td>0.00000</td>\n",
       "      <td>0.00000</td>\n",
       "      <td>0.00000</td>\n",
       "      <td>0.00000</td>\n",
       "      <td>0.00000</td>\n",
       "      <td>104.62414</td>\n",
       "      <td>122.58334</td>\n",
       "      <td>102.34487</td>\n",
       "      <td>100.00000</td>\n",
       "      <td>61.71398</td>\n",
       "    </tr>\n",
       "    <tr>\n",
       "      <th>4</th>\n",
       "      <td>0.00000</td>\n",
       "      <td>0.00000</td>\n",
       "      <td>0.00000</td>\n",
       "      <td>0.00000</td>\n",
       "      <td>0.00000</td>\n",
       "      <td>1.00000</td>\n",
       "      <td>0.00000</td>\n",
       "      <td>0.00000</td>\n",
       "      <td>0.00000</td>\n",
       "      <td>0.00000</td>\n",
       "      <td>0.00000</td>\n",
       "      <td>0.00000</td>\n",
       "      <td>100.96129</td>\n",
       "      <td>193.94497</td>\n",
       "      <td>124.40057</td>\n",
       "      <td>100.00000</td>\n",
       "      <td>172.14740</td>\n",
       "    </tr>\n",
       "  </tbody>\n",
       "</table>\n",
       "</div>"
      ],
      "text/plain": [
       "       0       1       2       3       4       5       6       7       8   \\\n",
       "0 1.00000 0.00000 0.00000 0.00000 0.00000 0.00000 0.00000 0.00000 0.00000   \n",
       "1 0.00000 1.00000 0.00000 0.00000 0.00000 0.00000 0.00000 0.00000 0.00000   \n",
       "2 0.00000 0.00000 1.00000 0.00000 0.00000 0.00000 0.00000 0.00000 0.00000   \n",
       "3 0.00000 0.00000 0.00000 0.00000 1.00000 0.00000 0.00000 0.00000 0.00000   \n",
       "4 0.00000 0.00000 0.00000 0.00000 0.00000 1.00000 0.00000 0.00000 0.00000   \n",
       "\n",
       "       9       10      11        12        13        14        15        16  \n",
       "0 0.00000 0.00000 0.00000 153.46042 130.31499 124.27695 100.00000  46.84948  \n",
       "1 0.00000 0.00000 0.00000  84.12816 136.05720  73.97477 100.00000  93.60384  \n",
       "2 0.00000 0.00000 0.00000  83.06777 208.66602 142.43276 100.00000  50.08998  \n",
       "3 0.00000 0.00000 0.00000 104.62414 122.58334 102.34487 100.00000  61.71398  \n",
       "4 0.00000 0.00000 0.00000 100.96129 193.94497 124.40057 100.00000 172.14740  "
      ]
     },
     "execution_count": 7,
     "metadata": {},
     "output_type": "execute_result"
    }
   ],
   "source": [
    "pd.DataFrame(mvc).head()"
   ]
  },
  {
   "cell_type": "code",
   "execution_count": 8,
   "metadata": {},
   "outputs": [],
   "source": [
    "from sklearn.model_selection import train_test_split\n",
    "X_train, X_test, y_train, y_test = train_test_split(mvc, y_norm, test_size=0.2, random_state=RANDOM_SEED,\n",
    "                                       stratify=df['muscle'])"
   ]
  },
  {
   "cell_type": "code",
   "execution_count": 9,
   "metadata": {},
   "outputs": [],
   "source": [
    "optimized_params = {'bootstrap': False, 'criterion': 'mse', 'max_features': 14, 'n_estimators': 45}\n",
    "\n",
    "model = ExtraTreesRegressor(random_state=RANDOM_SEED, **optimized_params)\n",
    "model.fit(X_train, y_train)\n",
    "\n",
    "predictions = model.predict(X_test)"
   ]
  },
  {
   "cell_type": "code",
   "execution_count": 10,
   "metadata": {},
   "outputs": [],
   "source": [
    "from sklearn.metrics import mean_squared_error\n",
    "from sklearn.metrics import r2_score"
   ]
  },
  {
   "cell_type": "code",
   "execution_count": 11,
   "metadata": {},
   "outputs": [
    {
     "data": {
      "text/plain": [
       "424.04089538180722"
      ]
     },
     "execution_count": 11,
     "metadata": {},
     "output_type": "execute_result"
    }
   ],
   "source": [
    "np.sqrt(mean_squared_error(y_test, predictions))"
   ]
  },
  {
   "cell_type": "code",
   "execution_count": 12,
   "metadata": {},
   "outputs": [
    {
     "data": {
      "text/plain": [
       "0.18925859465815165"
      ]
     },
     "execution_count": 12,
     "metadata": {},
     "output_type": "execute_result"
    }
   ],
   "source": [
    "r2_score(y_test, predictions)"
   ]
  },
  {
   "cell_type": "code",
   "execution_count": null,
   "metadata": {},
   "outputs": [],
   "source": []
  }
 ],
 "metadata": {
  "kernelspec": {
   "display_name": "mvc",
   "language": "python",
   "name": "mvc"
  },
  "language_info": {
   "codemirror_mode": {
    "name": "ipython",
    "version": 3
   },
   "file_extension": ".py",
   "mimetype": "text/x-python",
   "name": "python",
   "nbconvert_exporter": "python",
   "pygments_lexer": "ipython3",
   "version": "3.6.4"
  },
  "toc": {
   "nav_menu": {},
   "number_sections": true,
   "sideBar": true,
   "skip_h1_title": false,
   "title_cell": "Table of Contents",
   "title_sidebar": "Contents",
   "toc_cell": false,
   "toc_position": {},
   "toc_section_display": true,
   "toc_window_display": false
  }
 },
 "nbformat": 4,
 "nbformat_minor": 2
}
