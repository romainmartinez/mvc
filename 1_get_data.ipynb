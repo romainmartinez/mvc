{
 "cells": [
  {
   "cell_type": "markdown",
   "metadata": {},
   "source": [
    "# MVC project: Get the Data\n",
    "- [GitHub](https://github.com/romainmartinez/mvc)"
   ]
  },
  {
   "cell_type": "markdown",
   "metadata": {},
   "source": [
    "## 0. Setup"
   ]
  },
  {
   "cell_type": "code",
   "execution_count": 1,
   "metadata": {},
   "outputs": [],
   "source": [
    "# Common imports\n",
    "import pandas as pd\n",
    "import numpy as np\n",
    "import os\n",
    "\n",
    "# the 'mvc' directory contains functions used but not necessary to understand the story\n",
    "import mvc\n",
    "\n",
    "# Figures\n",
    "import matplotlib.pyplot as plt\n",
    "import seaborn as sns\n",
    "plt.rcParams['axes.labelsize'] = 14\n",
    "plt.rcParams['xtick.labelsize'] = 12\n",
    "plt.rcParams['ytick.labelsize'] = 12\n",
    "sns.set(style='ticks')\n",
    "%matplotlib inline\n",
    "\n",
    "# to make this notebook's output stable across runs\n",
    "np.random.seed(42)"
   ]
  },
  {
   "cell_type": "markdown",
   "metadata": {},
   "source": [
    "# 1. Get the Data"
   ]
  },
  {
   "cell_type": "code",
   "execution_count": 2,
   "metadata": {},
   "outputs": [],
   "source": [
    "DATA_PATH = '/media/romain/E/Projet_MVC/data/Final_output'\n",
    "DATA_FORMAT = 'only_max'  # could be either 'only_max', '3000_points' or '100_points'"
   ]
  },
  {
   "cell_type": "code",
   "execution_count": 3,
   "metadata": {},
   "outputs": [
    {
     "name": "stdout",
     "output_type": "stream",
     "text": [
      "data format: only_max\n",
      "project 'Landry2012_only_max' loaded (18 participants)\n",
      "project 'Landry2013_only_max' loaded (21 participants)\n",
      "project 'Patrick_2013_only_max' loaded (16 participants)\n",
      "project 'Violon_only_max' loaded (10 participants)\n",
      "project 'Sylvain_2015_only_max' loaded (10 participants)\n",
      "project 'Landry2015_2_only_max' loaded (11 participants)\n",
      "project 'Tennis_only_max' loaded (16 participants)\n",
      "project 'Landry2016_only_max' loaded (15 participants)\n",
      "project 'Landry2015_1_only_max' loaded (14 participants)\n",
      "project 'Yoann_2015_only_max' loaded (22 participants)\n",
      "\tsample shape: (18, 12, 16)\n",
      "\ttotal participants: 152\n"
     ]
    },
    {
     "name": "stderr",
     "output_type": "stream",
     "text": [
      "/home/romain/Documents/codes/mvc/mvc/fileio.py:53: RuntimeWarning: All-NaN slice encountered\n",
      "  max_mvc = np.nanmax(mat[dataset_name][iparticipant, imuscle, :])\n"
     ]
    }
   ],
   "source": [
    "mat = mvc.fileio.ImportMat(DATA_PATH, DATA_FORMAT, export='dict', normalize=True)"
   ]
  },
  {
   "cell_type": "code",
   "execution_count": 4,
   "metadata": {},
   "outputs": [],
   "source": [
    "# Variables names\n",
    "DATASETS_NAMES = mat.datasets\n",
    "MUSCLES_NAMES = ['upper trapezius', 'middle trapezius', 'lower trapezius', # 0, 1, 2\n",
    "           'anterior deltoid', 'middle deltoid', 'posterior deltoid',      # 3, 4, 5\n",
    "           'pectoralis major', 'serratus anterior', 'latissimus dorsi',    # 6, 7, 8\n",
    "           'supraspinatus', 'infraspinatus', 'subscapularis']              # 9, 10, 11\n",
    "COLUMNS_NAMES = ['datasets', 'participants', 'muscles', 'tests', 'mvc']"
   ]
  },
  {
   "cell_type": "code",
   "execution_count": 25,
   "metadata": {},
   "outputs": [
    {
     "data": {
      "text/html": [
       "<div>\n",
       "<style scoped>\n",
       "    .dataframe tbody tr th:only-of-type {\n",
       "        vertical-align: middle;\n",
       "    }\n",
       "\n",
       "    .dataframe tbody tr th {\n",
       "        vertical-align: top;\n",
       "    }\n",
       "\n",
       "    .dataframe thead th {\n",
       "        text-align: right;\n",
       "    }\n",
       "</style>\n",
       "<table border=\"1\" class=\"dataframe\">\n",
       "  <thead>\n",
       "    <tr style=\"text-align: right;\">\n",
       "      <th></th>\n",
       "      <th>dataset</th>\n",
       "      <th>muscle</th>\n",
       "      <th>mvc</th>\n",
       "      <th>participant</th>\n",
       "      <th>test</th>\n",
       "    </tr>\n",
       "  </thead>\n",
       "  <tbody>\n",
       "    <tr>\n",
       "      <th>0</th>\n",
       "      <td>0</td>\n",
       "      <td>0</td>\n",
       "      <td>43.698789</td>\n",
       "      <td>0</td>\n",
       "      <td>0</td>\n",
       "    </tr>\n",
       "    <tr>\n",
       "      <th>1</th>\n",
       "      <td>0</td>\n",
       "      <td>0</td>\n",
       "      <td>62.605141</td>\n",
       "      <td>0</td>\n",
       "      <td>1</td>\n",
       "    </tr>\n",
       "    <tr>\n",
       "      <th>2</th>\n",
       "      <td>0</td>\n",
       "      <td>0</td>\n",
       "      <td>57.291694</td>\n",
       "      <td>0</td>\n",
       "      <td>2</td>\n",
       "    </tr>\n",
       "    <tr>\n",
       "      <th>3</th>\n",
       "      <td>0</td>\n",
       "      <td>0</td>\n",
       "      <td>78.379715</td>\n",
       "      <td>0</td>\n",
       "      <td>3</td>\n",
       "    </tr>\n",
       "    <tr>\n",
       "      <th>4</th>\n",
       "      <td>0</td>\n",
       "      <td>0</td>\n",
       "      <td>100.000000</td>\n",
       "      <td>0</td>\n",
       "      <td>4</td>\n",
       "    </tr>\n",
       "  </tbody>\n",
       "</table>\n",
       "</div>"
      ],
      "text/plain": [
       "   dataset  muscle         mvc  participant  test\n",
       "0        0       0   43.698789            0     0\n",
       "1        0       0   62.605141            0     1\n",
       "2        0       0   57.291694            0     2\n",
       "3        0       0   78.379715            0     3\n",
       "4        0       0  100.000000            0     4"
      ]
     },
     "execution_count": 25,
     "metadata": {},
     "output_type": "execute_result"
    }
   ],
   "source": [
    "# dict to single dataframe\n",
    "df_tidy = pd.DataFrame({\n",
    "    'participant': mat.data['participants'],\n",
    "    'dataset': mat.data['datasets'],\n",
    "    'muscle': mat.data['muscles'],\n",
    "    'test': mat.data['tests'],\n",
    "    'mvc': mat.data['mvc'],\n",
    "}).dropna()\n",
    "\n",
    "df_tidy.head()"
   ]
  },
  {
   "cell_type": "markdown",
   "metadata": {},
   "source": [
    "## 2. Prepare the Data for Machine Learning"
   ]
  },
  {
   "cell_type": "code",
   "execution_count": 26,
   "metadata": {},
   "outputs": [],
   "source": [
    "# convert from tidy to wide dataframe\n",
    "df_wide = df_tidy.pivot_table(index=['dataset', 'participant', 'muscle'], columns='test', values='mvc',\n",
    "                              fill_value=0).add_prefix('test_').reset_index()\n",
    "df_wide['max'] = df_wide[df_wide.columns[3:]].max(axis=1)"
   ]
  },
  {
   "cell_type": "code",
   "execution_count": 36,
   "metadata": {},
   "outputs": [
    {
     "name": "stdout",
     "output_type": "stream",
     "text": [
      "DataFrame shape: (1468, 20)\n"
     ]
    },
    {
     "data": {
      "text/html": [
       "<div>\n",
       "<style scoped>\n",
       "    .dataframe tbody tr th:only-of-type {\n",
       "        vertical-align: middle;\n",
       "    }\n",
       "\n",
       "    .dataframe tbody tr th {\n",
       "        vertical-align: top;\n",
       "    }\n",
       "\n",
       "    .dataframe thead th {\n",
       "        text-align: right;\n",
       "    }\n",
       "</style>\n",
       "<table border=\"1\" class=\"dataframe\">\n",
       "  <thead>\n",
       "    <tr style=\"text-align: right;\">\n",
       "      <th>test</th>\n",
       "      <th>dataset</th>\n",
       "      <th>participant</th>\n",
       "      <th>muscle</th>\n",
       "      <th>test_0</th>\n",
       "      <th>test_1</th>\n",
       "      <th>test_2</th>\n",
       "      <th>test_3</th>\n",
       "      <th>test_4</th>\n",
       "      <th>test_5</th>\n",
       "      <th>test_6</th>\n",
       "      <th>test_7</th>\n",
       "      <th>test_8</th>\n",
       "      <th>test_9</th>\n",
       "      <th>test_10</th>\n",
       "      <th>test_11</th>\n",
       "      <th>test_12</th>\n",
       "      <th>test_13</th>\n",
       "      <th>test_14</th>\n",
       "      <th>test_15</th>\n",
       "      <th>max</th>\n",
       "    </tr>\n",
       "  </thead>\n",
       "  <tbody>\n",
       "    <tr>\n",
       "      <th>0</th>\n",
       "      <td>0</td>\n",
       "      <td>0</td>\n",
       "      <td>0</td>\n",
       "      <td>43.698789</td>\n",
       "      <td>62.605141</td>\n",
       "      <td>57.291694</td>\n",
       "      <td>78.379715</td>\n",
       "      <td>100.000000</td>\n",
       "      <td>23.488809</td>\n",
       "      <td>13.719727</td>\n",
       "      <td>11.694191</td>\n",
       "      <td>0.0</td>\n",
       "      <td>0.0</td>\n",
       "      <td>0.0</td>\n",
       "      <td>0.0</td>\n",
       "      <td>0.0</td>\n",
       "      <td>0.0</td>\n",
       "      <td>0.0</td>\n",
       "      <td>0.0</td>\n",
       "      <td>100.0</td>\n",
       "    </tr>\n",
       "    <tr>\n",
       "      <th>1</th>\n",
       "      <td>0</td>\n",
       "      <td>0</td>\n",
       "      <td>1</td>\n",
       "      <td>8.171433</td>\n",
       "      <td>100.000000</td>\n",
       "      <td>96.507701</td>\n",
       "      <td>31.446560</td>\n",
       "      <td>46.167044</td>\n",
       "      <td>34.284982</td>\n",
       "      <td>30.203942</td>\n",
       "      <td>12.087327</td>\n",
       "      <td>0.0</td>\n",
       "      <td>0.0</td>\n",
       "      <td>0.0</td>\n",
       "      <td>0.0</td>\n",
       "      <td>0.0</td>\n",
       "      <td>0.0</td>\n",
       "      <td>0.0</td>\n",
       "      <td>0.0</td>\n",
       "      <td>100.0</td>\n",
       "    </tr>\n",
       "    <tr>\n",
       "      <th>2</th>\n",
       "      <td>0</td>\n",
       "      <td>0</td>\n",
       "      <td>2</td>\n",
       "      <td>8.342758</td>\n",
       "      <td>68.267012</td>\n",
       "      <td>100.000000</td>\n",
       "      <td>56.621549</td>\n",
       "      <td>63.595539</td>\n",
       "      <td>23.340463</td>\n",
       "      <td>46.716347</td>\n",
       "      <td>5.808028</td>\n",
       "      <td>0.0</td>\n",
       "      <td>0.0</td>\n",
       "      <td>0.0</td>\n",
       "      <td>0.0</td>\n",
       "      <td>0.0</td>\n",
       "      <td>0.0</td>\n",
       "      <td>0.0</td>\n",
       "      <td>0.0</td>\n",
       "      <td>100.0</td>\n",
       "    </tr>\n",
       "    <tr>\n",
       "      <th>3</th>\n",
       "      <td>0</td>\n",
       "      <td>0</td>\n",
       "      <td>3</td>\n",
       "      <td>5.142787</td>\n",
       "      <td>23.013018</td>\n",
       "      <td>39.005871</td>\n",
       "      <td>100.000000</td>\n",
       "      <td>82.660796</td>\n",
       "      <td>2.900488</td>\n",
       "      <td>3.763153</td>\n",
       "      <td>11.644537</td>\n",
       "      <td>0.0</td>\n",
       "      <td>0.0</td>\n",
       "      <td>0.0</td>\n",
       "      <td>0.0</td>\n",
       "      <td>0.0</td>\n",
       "      <td>0.0</td>\n",
       "      <td>0.0</td>\n",
       "      <td>0.0</td>\n",
       "      <td>100.0</td>\n",
       "    </tr>\n",
       "    <tr>\n",
       "      <th>4</th>\n",
       "      <td>0</td>\n",
       "      <td>0</td>\n",
       "      <td>4</td>\n",
       "      <td>16.853917</td>\n",
       "      <td>85.161830</td>\n",
       "      <td>100.000000</td>\n",
       "      <td>50.367926</td>\n",
       "      <td>71.086938</td>\n",
       "      <td>20.973939</td>\n",
       "      <td>5.791126</td>\n",
       "      <td>6.685060</td>\n",
       "      <td>0.0</td>\n",
       "      <td>0.0</td>\n",
       "      <td>0.0</td>\n",
       "      <td>0.0</td>\n",
       "      <td>0.0</td>\n",
       "      <td>0.0</td>\n",
       "      <td>0.0</td>\n",
       "      <td>0.0</td>\n",
       "      <td>100.0</td>\n",
       "    </tr>\n",
       "  </tbody>\n",
       "</table>\n",
       "</div>"
      ],
      "text/plain": [
       "test  dataset  participant  muscle     test_0      test_1      test_2  \\\n",
       "0           0            0       0  43.698789   62.605141   57.291694   \n",
       "1           0            0       1   8.171433  100.000000   96.507701   \n",
       "2           0            0       2   8.342758   68.267012  100.000000   \n",
       "3           0            0       3   5.142787   23.013018   39.005871   \n",
       "4           0            0       4  16.853917   85.161830  100.000000   \n",
       "\n",
       "test      test_3      test_4     test_5     test_6     test_7  test_8  test_9  \\\n",
       "0      78.379715  100.000000  23.488809  13.719727  11.694191     0.0     0.0   \n",
       "1      31.446560   46.167044  34.284982  30.203942  12.087327     0.0     0.0   \n",
       "2      56.621549   63.595539  23.340463  46.716347   5.808028     0.0     0.0   \n",
       "3     100.000000   82.660796   2.900488   3.763153  11.644537     0.0     0.0   \n",
       "4      50.367926   71.086938  20.973939   5.791126   6.685060     0.0     0.0   \n",
       "\n",
       "test  test_10  test_11  test_12  test_13  test_14  test_15    max  \n",
       "0         0.0      0.0      0.0      0.0      0.0      0.0  100.0  \n",
       "1         0.0      0.0      0.0      0.0      0.0      0.0  100.0  \n",
       "2         0.0      0.0      0.0      0.0      0.0      0.0  100.0  \n",
       "3         0.0      0.0      0.0      0.0      0.0      0.0  100.0  \n",
       "4         0.0      0.0      0.0      0.0      0.0      0.0  100.0  "
      ]
     },
     "execution_count": 36,
     "metadata": {},
     "output_type": "execute_result"
    }
   ],
   "source": [
    "print(f'DataFrame shape: {df_wide.shape}')\n",
    "df_wide.head()"
   ]
  },
  {
   "cell_type": "markdown",
   "metadata": {},
   "source": [
    "### Stratified Train Test Split"
   ]
  },
  {
   "cell_type": "code",
   "execution_count": 30,
   "metadata": {},
   "outputs": [],
   "source": [
    "from sklearn.model_selection import train_test_split"
   ]
  },
  {
   "cell_type": "code",
   "execution_count": 39,
   "metadata": {},
   "outputs": [],
   "source": [
    "df_clean = df_wide.drop(['dataset', 'participant'], axis=1)\n",
    "train_set, test_set = train_test_split(df_wide, test_size=0.2, random_state=42,\n",
    "                                       stratify=df_wide['muscle'])"
   ]
  }
 ],
 "metadata": {
  "kernelspec": {
   "display_name": "Python [conda env:mvc]",
   "language": "python",
   "name": "conda-env-mvc-py"
  },
  "language_info": {
   "codemirror_mode": {
    "name": "ipython",
    "version": 3
   },
   "file_extension": ".py",
   "mimetype": "text/x-python",
   "name": "python",
   "nbconvert_exporter": "python",
   "pygments_lexer": "ipython3",
   "version": "3.6.2"
  }
 },
 "nbformat": 4,
 "nbformat_minor": 2
}
